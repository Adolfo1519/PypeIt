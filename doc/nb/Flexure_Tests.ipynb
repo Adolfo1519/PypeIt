{
 "cells": [
  {
   "cell_type": "code",
   "execution_count": 1,
   "metadata": {
    "collapsed": false
   },
   "outputs": [
    {
     "name": "stderr",
     "output_type": "stream",
     "text": [
      "/Users/xavier/local/Python/PYPIT/src/arutils.py:28: UserWarning: ds9 module not installed\n",
      "  warnings.warn(\"ds9 module not installed\")\n"
     ]
    }
   ],
   "source": [
    "# imports\n",
    "from scipy.io import readsav\n",
    "sys.path.append(os.path.abspath('/Users/xavier/local/Python/PYPIT/src/'))\n",
    "\n",
    "from linetools import utils as ltu\n",
    "\n",
    "import armsgs\n",
    "\n",
    "import ardebug\n",
    "debug = ardebug.init()\n",
    "last_updated = \"2 May 2016\"\n",
    "version = '0.1'\n",
    "msgs = armsgs.get_logger((None, debug, last_updated, version, 1))\n",
    "import arwave as arwv\n",
    "import arutils\n",
    "\n",
    "try:\n",
    "    from xastropy.xutils import xdebug as debugger\n",
    "except:\n",
    "    import pdb as debugger"
   ]
  },
  {
   "cell_type": "markdown",
   "metadata": {},
   "source": [
    "# Load 1D spectrum"
   ]
  },
  {
   "cell_type": "code",
   "execution_count": 3,
   "metadata": {
    "collapsed": false
   },
   "outputs": [
    {
     "name": "stdout",
     "output_type": "stream",
     "text": [
      "Filename: /Users/xavier/PYPIT/Tiffany/lris_red/Science/spec1d_OFF_J1044p6306_LRISr_2016Feb16T112439.fits\n",
      "No.    Name         Type      Cards   Dimensions   Format\n",
      "0    PRIMARY     PrimaryHDU      12   ()              \n",
      "1    O983-S8787-D01-I0022  BinTableHDU     21   2048R x 6C   [D, D, K, D, D, D]   \n",
      "2    O905-S8787-D01-I0022  BinTableHDU     27   2048R x 9C   [D, D, K, D, D, D, D, D, D]   \n",
      "3    O401-S8787-D01-I0022  BinTableHDU     27   2048R x 9C   [D, D, K, D, D, D, D, D, D]   \n",
      "4    O023-S8787-D01-I0022  BinTableHDU     27   2048R x 9C   [D, D, K, D, D, D, D, D, D]   \n",
      "5    O239-S1470-D02-I0022  BinTableHDU     27   2048R x 9C   [D, D, K, D, D, D, D, D, D]   \n",
      "6    O049-S1470-D02-I0022  BinTableHDU     27   2048R x 9C   [D, D, K, D, D, D, D, D, D]   \n",
      "7    O652-S1470-D02-I0022  BinTableHDU     27   2048R x 9C   [D, D, K, D, D, D, D, D, D]   \n",
      "8    O809-S1470-D02-I0022  BinTableHDU     27   2048R x 9C   [D, D, K, D, D, D, D, D, D]   \n"
     ]
    }
   ],
   "source": [
    "spec1d_fil = '/Users/xavier/PYPIT/Tiffany/lris_red/Science/spec1d_OFF_J1044p6306_LRISr_2016Feb16T112439.fits'\n",
    "hdu = fits.open(spec1d_fil)\n",
    "hdu.info()"
   ]
  },
  {
   "cell_type": "code",
   "execution_count": 4,
   "metadata": {
    "collapsed": false
   },
   "outputs": [],
   "source": [
    "h2_obj = Table(hdu[5].data)"
   ]
  },
  {
   "cell_type": "code",
   "execution_count": 5,
   "metadata": {
    "collapsed": true
   },
   "outputs": [],
   "source": [
    "debugger.xplot(h2_obj['box_sky'])"
   ]
  },
  {
   "cell_type": "markdown",
   "metadata": {},
   "source": [
    "## Run Algorithm"
   ]
  },
  {
   "cell_type": "code",
   "execution_count": 6,
   "metadata": {
    "collapsed": false
   },
   "outputs": [],
   "source": [
    "slf = arutils.dummy_self(pypitdir=os.getenv('PYPIT'))\n",
    "slf._pixcen = np.zeros(10)\n",
    "slf._lordloc = 0\n",
    "slf._rordloc = 0\n",
    "slf._argflag['arc'] = {}\n",
    "slf._argflag['arc']['calibrate'] = {}\n",
    "slf._argflag['arc']['calibrate']['detection'] = 5.\n",
    "slf._argflag['arc']['calibrate']['nfitpix'] = 7.\n",
    "#\n",
    "msgs._debug['flexure'] = True"
   ]
  },
  {
   "cell_type": "code",
   "execution_count": 7,
   "metadata": {
    "collapsed": false
   },
   "outputs": [
    {
     "name": "stderr",
     "output_type": "stream",
     "text": [
      "\u001b[1;32m[INFO]    ::\u001b[0m Using paranal_sky.fits file for Sky spectrum\n",
      "/Users/xavier/local/Python/linetools/linetools/spectra/xspectrum1d.py:92: UserWarning: Assuming wavelength unit is Angstroms\n",
      "  warnings.warn(\"Assuming wavelength unit is Angstroms\")\n",
      "\u001b[1;31m[WARNING] ::\u001b[0m If we use Paranal, cut down on wavelength early on\n",
      "\u001b[1;32m[INFO]    ::\u001b[0m Detecting lines\n",
      "\u001b[1;32m[INFO]    ::\u001b[0m Extracting an approximate arc spectrum at the centre of the chip\n",
      "\u001b[1;32m[INFO]    ::\u001b[0m Detecting the strongest, nonsaturated arc lines\n",
      "\u001b[1;32m[INFO]    ::\u001b[0m Detecting lines\n",
      "\u001b[1;32m[INFO]    ::\u001b[0m Extracting an approximate arc spectrum at the centre of the chip\n",
      "\u001b[1;32m[INFO]    ::\u001b[0m Detecting the strongest, nonsaturated arc lines\n",
      "\u001b[1;32m[INFO]    ::\u001b[0m Resolution of Archive=39624 and Observation=2128.74\n"
     ]
    },
    {
     "name": "stdout",
     "output_type": "stream",
     "text": [
      "> /Users/xavier/local/Python/PYPIT/src/arwave.py(163)flexure()\n",
      "-> shift = max_fit-(corr.size/2)\n",
      "(Pdb) fit\n",
      "array([ -7.90092730e+10,   1.54745535e+08,  -7.57690930e+04])\n",
      "(Pdb) debugger.xplot(subpix_grid, corr[subpix_grid.astype(np.int)], scatter=True)\n",
      "(Pdb) exit\n"
     ]
    },
    {
     "ename": "BdbQuit",
     "evalue": "",
     "output_type": "error",
     "traceback": [
      "\u001b[0;31m---------------------------------------------------------------------------\u001b[0m",
      "\u001b[0;31mBdbQuit\u001b[0m                                   Traceback (most recent call last)",
      "\u001b[0;32m<ipython-input-7-2f11edd2ca70>\u001b[0m in \u001b[0;36m<module>\u001b[0;34m()\u001b[0m\n\u001b[1;32m      1\u001b[0m \u001b[0mreload\u001b[0m\u001b[0;34m(\u001b[0m\u001b[0marwv\u001b[0m\u001b[0;34m)\u001b[0m\u001b[0;34m\u001b[0m\u001b[0m\n\u001b[0;32m----> 2\u001b[0;31m \u001b[0mshift\u001b[0m\u001b[0;34m,\u001b[0m \u001b[0mnew_wv\u001b[0m \u001b[0;34m=\u001b[0m \u001b[0marwv\u001b[0m\u001b[0;34m.\u001b[0m\u001b[0mflexure\u001b[0m\u001b[0;34m(\u001b[0m\u001b[0mslf\u001b[0m\u001b[0;34m,\u001b[0m \u001b[0;36m1\u001b[0m\u001b[0;34m,\u001b[0m \u001b[0mh2_obj\u001b[0m\u001b[0;34m[\u001b[0m\u001b[0;34m'box_wave'\u001b[0m\u001b[0;34m]\u001b[0m\u001b[0;34m,\u001b[0m \u001b[0mh2_obj\u001b[0m\u001b[0;34m[\u001b[0m\u001b[0;34m'box_sky'\u001b[0m\u001b[0;34m]\u001b[0m\u001b[0;34m)\u001b[0m\u001b[0;34m\u001b[0m\u001b[0m\n\u001b[0m",
      "\u001b[0;32m/Users/xavier/local/Python/PYPIT/src/arwave.pyc\u001b[0m in \u001b[0;36mflexure\u001b[0;34m(slf, det, sky_wave, sky_flux)\u001b[0m\n\u001b[1;32m    161\u001b[0m \u001b[0;34m\u001b[0m\u001b[0m\n\u001b[1;32m    162\u001b[0m     \u001b[0;31m#Calculate and apply shift in wavelength\u001b[0m\u001b[0;34m\u001b[0m\u001b[0;34m\u001b[0m\u001b[0m\n\u001b[0;32m--> 163\u001b[0;31m     \u001b[0mshift\u001b[0m \u001b[0;34m=\u001b[0m \u001b[0mmax_fit\u001b[0m\u001b[0;34m-\u001b[0m\u001b[0;34m(\u001b[0m\u001b[0mcorr\u001b[0m\u001b[0;34m.\u001b[0m\u001b[0msize\u001b[0m\u001b[0;34m/\u001b[0m\u001b[0;36m2\u001b[0m\u001b[0;34m)\u001b[0m\u001b[0;34m\u001b[0m\u001b[0m\n\u001b[0m\u001b[1;32m    164\u001b[0m     \u001b[0mmsgs\u001b[0m\u001b[0;34m.\u001b[0m\u001b[0minfo\u001b[0m\u001b[0;34m(\u001b[0m\u001b[0;34m\"Flexure correction of {:g} pixels\"\u001b[0m\u001b[0;34m.\u001b[0m\u001b[0mformat\u001b[0m\u001b[0;34m(\u001b[0m\u001b[0mshift\u001b[0m\u001b[0;34m)\u001b[0m\u001b[0;34m)\u001b[0m\u001b[0;34m\u001b[0m\u001b[0m\n\u001b[1;32m    165\u001b[0m     flex_dict = dict(polyfit=fit, roots=roots, shift=shift,\n",
      "\u001b[0;32m/Users/xavier/local/Python/PYPIT/src/arwave.pyc\u001b[0m in \u001b[0;36mflexure\u001b[0;34m(slf, det, sky_wave, sky_flux)\u001b[0m\n\u001b[1;32m    161\u001b[0m \u001b[0;34m\u001b[0m\u001b[0m\n\u001b[1;32m    162\u001b[0m     \u001b[0;31m#Calculate and apply shift in wavelength\u001b[0m\u001b[0;34m\u001b[0m\u001b[0;34m\u001b[0m\u001b[0m\n\u001b[0;32m--> 163\u001b[0;31m     \u001b[0mshift\u001b[0m \u001b[0;34m=\u001b[0m \u001b[0mmax_fit\u001b[0m\u001b[0;34m-\u001b[0m\u001b[0;34m(\u001b[0m\u001b[0mcorr\u001b[0m\u001b[0;34m.\u001b[0m\u001b[0msize\u001b[0m\u001b[0;34m/\u001b[0m\u001b[0;36m2\u001b[0m\u001b[0;34m)\u001b[0m\u001b[0;34m\u001b[0m\u001b[0m\n\u001b[0m\u001b[1;32m    164\u001b[0m     \u001b[0mmsgs\u001b[0m\u001b[0;34m.\u001b[0m\u001b[0minfo\u001b[0m\u001b[0;34m(\u001b[0m\u001b[0;34m\"Flexure correction of {:g} pixels\"\u001b[0m\u001b[0;34m.\u001b[0m\u001b[0mformat\u001b[0m\u001b[0;34m(\u001b[0m\u001b[0mshift\u001b[0m\u001b[0;34m)\u001b[0m\u001b[0;34m)\u001b[0m\u001b[0;34m\u001b[0m\u001b[0m\n\u001b[1;32m    165\u001b[0m     flex_dict = dict(polyfit=fit, roots=roots, shift=shift,\n",
      "\u001b[0;32m/Users/xavier/anaconda/lib/python2.7/bdb.pyc\u001b[0m in \u001b[0;36mtrace_dispatch\u001b[0;34m(self, frame, event, arg)\u001b[0m\n\u001b[1;32m     47\u001b[0m             \u001b[0;32mreturn\u001b[0m \u001b[0;31m# None\u001b[0m\u001b[0;34m\u001b[0m\u001b[0m\n\u001b[1;32m     48\u001b[0m         \u001b[0;32mif\u001b[0m \u001b[0mevent\u001b[0m \u001b[0;34m==\u001b[0m \u001b[0;34m'line'\u001b[0m\u001b[0;34m:\u001b[0m\u001b[0;34m\u001b[0m\u001b[0m\n\u001b[0;32m---> 49\u001b[0;31m             \u001b[0;32mreturn\u001b[0m \u001b[0mself\u001b[0m\u001b[0;34m.\u001b[0m\u001b[0mdispatch_line\u001b[0m\u001b[0;34m(\u001b[0m\u001b[0mframe\u001b[0m\u001b[0;34m)\u001b[0m\u001b[0;34m\u001b[0m\u001b[0m\n\u001b[0m\u001b[1;32m     50\u001b[0m         \u001b[0;32mif\u001b[0m \u001b[0mevent\u001b[0m \u001b[0;34m==\u001b[0m \u001b[0;34m'call'\u001b[0m\u001b[0;34m:\u001b[0m\u001b[0;34m\u001b[0m\u001b[0m\n\u001b[1;32m     51\u001b[0m             \u001b[0;32mreturn\u001b[0m \u001b[0mself\u001b[0m\u001b[0;34m.\u001b[0m\u001b[0mdispatch_call\u001b[0m\u001b[0;34m(\u001b[0m\u001b[0mframe\u001b[0m\u001b[0;34m,\u001b[0m \u001b[0marg\u001b[0m\u001b[0;34m)\u001b[0m\u001b[0;34m\u001b[0m\u001b[0m\n",
      "\u001b[0;32m/Users/xavier/anaconda/lib/python2.7/bdb.pyc\u001b[0m in \u001b[0;36mdispatch_line\u001b[0;34m(self, frame)\u001b[0m\n\u001b[1;32m     66\u001b[0m         \u001b[0;32mif\u001b[0m \u001b[0mself\u001b[0m\u001b[0;34m.\u001b[0m\u001b[0mstop_here\u001b[0m\u001b[0;34m(\u001b[0m\u001b[0mframe\u001b[0m\u001b[0;34m)\u001b[0m \u001b[0;32mor\u001b[0m \u001b[0mself\u001b[0m\u001b[0;34m.\u001b[0m\u001b[0mbreak_here\u001b[0m\u001b[0;34m(\u001b[0m\u001b[0mframe\u001b[0m\u001b[0;34m)\u001b[0m\u001b[0;34m:\u001b[0m\u001b[0;34m\u001b[0m\u001b[0m\n\u001b[1;32m     67\u001b[0m             \u001b[0mself\u001b[0m\u001b[0;34m.\u001b[0m\u001b[0muser_line\u001b[0m\u001b[0;34m(\u001b[0m\u001b[0mframe\u001b[0m\u001b[0;34m)\u001b[0m\u001b[0;34m\u001b[0m\u001b[0m\n\u001b[0;32m---> 68\u001b[0;31m             \u001b[0;32mif\u001b[0m \u001b[0mself\u001b[0m\u001b[0;34m.\u001b[0m\u001b[0mquitting\u001b[0m\u001b[0;34m:\u001b[0m \u001b[0;32mraise\u001b[0m \u001b[0mBdbQuit\u001b[0m\u001b[0;34m\u001b[0m\u001b[0m\n\u001b[0m\u001b[1;32m     69\u001b[0m         \u001b[0;32mreturn\u001b[0m \u001b[0mself\u001b[0m\u001b[0;34m.\u001b[0m\u001b[0mtrace_dispatch\u001b[0m\u001b[0;34m\u001b[0m\u001b[0m\n\u001b[1;32m     70\u001b[0m \u001b[0;34m\u001b[0m\u001b[0m\n",
      "\u001b[0;31mBdbQuit\u001b[0m: "
     ]
    }
   ],
   "source": [
    "reload(arwv)\n",
    "shift, new_wv = arwv.flexure(slf, 1, h2_obj['box_wave'], h2_obj['box_sky'])"
   ]
  },
  {
   "cell_type": "markdown",
   "metadata": {},
   "source": [
    "## Compare to Paranal"
   ]
  },
  {
   "cell_type": "code",
   "execution_count": 13,
   "metadata": {
    "collapsed": true
   },
   "outputs": [],
   "source": [
    "pfile = '/Users/xavier/local/Python/PYPIT/data/sky_spec/paranal_sky.fits'\n",
    "phdu = fits.open(pfile)"
   ]
  },
  {
   "cell_type": "code",
   "execution_count": 16,
   "metadata": {
    "collapsed": true
   },
   "outputs": [],
   "source": [
    "pwave = phdu[0].data\n",
    "pflux = phdu[1].data"
   ]
  },
  {
   "cell_type": "code",
   "execution_count": 25,
   "metadata": {
    "collapsed": false
   },
   "outputs": [],
   "source": [
    "debugger.xplot(new_wv, h2_obj['box_sky'], xtwo=pwave, ytwo=pflux*8)"
   ]
  },
  {
   "cell_type": "code",
   "execution_count": 13,
   "metadata": {
    "collapsed": false
   },
   "outputs": [
    {
     "data": {
      "text/plain": [
       "False"
      ]
     },
     "execution_count": 13,
     "metadata": {},
     "output_type": "execute_result"
    }
   ],
   "source": [
    "hasattr(slf,'blah')"
   ]
  },
  {
   "cell_type": "code",
   "execution_count": null,
   "metadata": {
    "collapsed": true
   },
   "outputs": [],
   "source": []
  }
 ],
 "metadata": {
  "kernelspec": {
   "display_name": "Python 2",
   "language": "python",
   "name": "python2"
  },
  "language_info": {
   "codemirror_mode": {
    "name": "ipython",
    "version": 2
   },
   "file_extension": ".py",
   "mimetype": "text/x-python",
   "name": "python",
   "nbconvert_exporter": "python",
   "pygments_lexer": "ipython2",
   "version": "2.7.11"
  }
 },
 "nbformat": 4,
 "nbformat_minor": 0
}
