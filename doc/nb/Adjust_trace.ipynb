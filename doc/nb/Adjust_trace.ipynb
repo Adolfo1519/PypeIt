{
 "cells": [
  {
   "cell_type": "markdown",
   "metadata": {},
   "source": [
    "# Alogrithm to adjust trace [v1.0]"
   ]
  },
  {
   "cell_type": "code",
   "execution_count": 12,
   "metadata": {
    "collapsed": false
   },
   "outputs": [],
   "source": [
    "# imports\n",
    "import pdb\n",
    "from pypit import armsgs\n",
    "from pypit import pyputils\n",
    "msgs = pyputils.get_dummy_logger()\n",
    "armsgs.pypit_logger = msgs\n",
    "from pypit import ginga\n",
    "from pypit import arutils as arut\n",
    "#from xastropy.xutils import xdebug as xdb"
   ]
  },
  {
   "cell_type": "markdown",
   "metadata": {},
   "source": [
    "## Gaussian profile"
   ]
  },
  {
   "cell_type": "code",
   "execution_count": 2,
   "metadata": {
    "collapsed": true
   },
   "outputs": [],
   "source": [
    "def trace_gweight(fimage, xcen, ycen, sigma, invvar=None):\n",
    "    from scipy.special import erf\n",
    "    # Setup\n",
    "    nx = fimage.shape[1]\n",
    "    ny = fimage.shape[0]\n",
    "    ncen = xcen.size\n",
    "    xnew = xcen.copy()\n",
    "    xerr = 0.0 * xnew # Allocate memory\n",
    "\n",
    "    if invvar is None:\n",
    "        invvar = np.ones_like(fimage)\n",
    "\n",
    "    # More setting up\n",
    "    #lower = xcen - 3.0*sigma\n",
    "    #upper = xcen + 3.0*sigma\n",
    "    x_int = np.round(xcen).astype(int)\n",
    "    nstep = 2*int(3.0*sigma) - 1\n",
    "    #i1 = x_int - nstep/2\n",
    "    #i2 = i1 + nstep - 1\n",
    "\n",
    "    weight = np.zeros_like(xcen)\n",
    "    numer  = np.zeros_like(xcen)\n",
    "    meanvar = np.zeros_like(xcen)\n",
    "    bad = np.zeros_like(xcen).astype(bool)\n",
    "    #xtemp = (np.arange(nstep)-nstep/2)/5.  * sigma\n",
    "\n",
    "    for i in range(nstep): #=0, nstep-1 do begin\n",
    "        xh = x_int - nstep/2 + i\n",
    "        xtemp = (xh - xcen - 0.5)/sigma/np.sqrt(2.0)\n",
    "        g_int = (erf(xtemp+1./sigma/np.sqrt(2.0)) - erf(xtemp))/2.\n",
    "        try:\n",
    "            xs = np.minimum(np.maximum(xh,0),(nx-1))\n",
    "        except:           \n",
    "            pdb.set_trace()\n",
    "\n",
    "        cur_weight = fimage[ycen, xs] * (invvar[ycen, xs] > 0) * g_int * ((xh >= 0) & (xh < nx))\n",
    "        weight += cur_weight\n",
    "        numer += cur_weight * xh\n",
    "        meanvar = meanvar + cur_weight * cur_weight * (xcen-xh)**2 / (\n",
    "                            invvar[ycen, xs] + (invvar[ycen, xs] == 0))\n",
    "        #pdb.set_trace()\n",
    "        bad = np.any([bad, xh < 0, xh >= nx], axis=0)\n",
    "        \n",
    "    xerr[:] = 999.0\n",
    "    #pdb.set_trace()\n",
    "    good = (~bad) & (weight > 0)\n",
    "    if np.sum(good) > 0:\n",
    "        xnew[good] = numer[good]/weight[good]\n",
    "        xerr[good] = np.sqrt(meanvar[good])/weight[good]\n",
    "    # Return\n",
    "    return xnew, xerr"
   ]
  },
  {
   "cell_type": "markdown",
   "metadata": {},
   "source": [
    "### Load image + trace"
   ]
  },
  {
   "cell_type": "code",
   "execution_count": 3,
   "metadata": {
    "collapsed": false
   },
   "outputs": [
    {
     "data": {
      "text/plain": [
       "(2048, 1024)"
      ]
     },
     "execution_count": 3,
     "metadata": {},
     "output_type": "execute_result"
    }
   ],
   "source": [
    "img_file = '/Users/xavier/Keck/LRIS/data/2016apr06/red_A/Science/spec2d_J0817+1351_LRISr_2016Apr06T060223.fits'\n",
    "hdu = fits.open(img_file)\n",
    "names = [hdu[i].name for i in range(len(hdu))]\n",
    "exten = names.index('DET2-SKYSUB')\n",
    "skysub = hdu[exten].data\n",
    "skysub.shape"
   ]
  },
  {
   "cell_type": "code",
   "execution_count": 4,
   "metadata": {
    "collapsed": false
   },
   "outputs": [],
   "source": [
    "spec_file = '/Users/xavier/Keck/LRIS/data/2016apr06/red_A/Science/spec1d_J0817+1351_LRISr_2016Apr06T060223.fits'\n",
    "hdu1 = fits.open(spec_file)\n",
    "tbl = Table(hdu1[5].data)\n",
    "trace = tbl['obj_trace']"
   ]
  },
  {
   "cell_type": "markdown",
   "metadata": {},
   "source": [
    "### Refine"
   ]
  },
  {
   "cell_type": "code",
   "execution_count": 17,
   "metadata": {
    "collapsed": false
   },
   "outputs": [
    {
     "name": "stdout",
     "output_type": "stream",
     "text": [
      "> /Users/xavier/local/Python/PYPIT/pypit/arutils.py(1125)trace_gweight()\n",
      "-> cur_weight = fimage[ycen, xs] * (invvar[ycen, xs] > 0) * g_int * (\n",
      "(Pdb) ycen\n",
      "array([   0,    1,    2, ..., 2045, 2046, 2047])\n",
      "(Pdb) xs\n",
      "array([84, 84, 84, ..., 88, 88, 88])\n",
      "(Pdb)         cur_weight = fimage[ycen, xs] * (invvar[ycen, xs] > 0) * g_int * ( (xh >= 0) & (xh < nx))\n",
      "(Pdb) c\n"
     ]
    },
    {
     "ename": "ValueError",
     "evalue": "setting an array element with a sequence.",
     "output_type": "error",
     "traceback": [
      "\u001b[0;31m---------------------------------------------------------------------------\u001b[0m",
      "\u001b[0;31mValueError\u001b[0m                                Traceback (most recent call last)",
      "\u001b[0;32m<ipython-input-17-7e339506bd42>\u001b[0m in \u001b[0;36m<module>\u001b[0;34m()\u001b[0m\n\u001b[1;32m      1\u001b[0m \u001b[0mreload\u001b[0m\u001b[0;34m(\u001b[0m\u001b[0marut\u001b[0m\u001b[0;34m)\u001b[0m\u001b[0;34m\u001b[0m\u001b[0m\n\u001b[0;32m----> 2\u001b[0;31m \u001b[0mxnew\u001b[0m\u001b[0;34m,\u001b[0m \u001b[0mxerr\u001b[0m \u001b[0;34m=\u001b[0m \u001b[0marut\u001b[0m\u001b[0;34m.\u001b[0m\u001b[0mtrace_gweight\u001b[0m\u001b[0;34m(\u001b[0m\u001b[0mskysub\u001b[0m\u001b[0;34m,\u001b[0m \u001b[0mtrace\u001b[0m\u001b[0;34m.\u001b[0m\u001b[0mdata\u001b[0m\u001b[0;34m,\u001b[0m \u001b[0mnp\u001b[0m\u001b[0;34m.\u001b[0m\u001b[0marange\u001b[0m\u001b[0;34m(\u001b[0m\u001b[0mskysub\u001b[0m\u001b[0;34m.\u001b[0m\u001b[0mshape\u001b[0m\u001b[0;34m[\u001b[0m\u001b[0;36m0\u001b[0m\u001b[0;34m]\u001b[0m\u001b[0;34m)\u001b[0m\u001b[0;34m.\u001b[0m\u001b[0mastype\u001b[0m\u001b[0;34m(\u001b[0m\u001b[0mint\u001b[0m\u001b[0;34m)\u001b[0m\u001b[0;34m,\u001b[0m \u001b[0;36m3.\u001b[0m\u001b[0;34m)\u001b[0m\u001b[0;34m\u001b[0m\u001b[0m\n\u001b[0m",
      "\u001b[0;32m/Users/xavier/local/Python/PYPIT/pypit/arutils.pyc\u001b[0m in \u001b[0;36mtrace_gweight\u001b[0;34m(fimage, xcen, ycen, sigma, invvar)\u001b[0m\n\u001b[1;32m   1123\u001b[0m         \u001b[0mxs\u001b[0m \u001b[0;34m=\u001b[0m \u001b[0mnp\u001b[0m\u001b[0;34m.\u001b[0m\u001b[0mminimum\u001b[0m\u001b[0;34m(\u001b[0m\u001b[0mnp\u001b[0m\u001b[0;34m.\u001b[0m\u001b[0mmaximum\u001b[0m\u001b[0;34m(\u001b[0m\u001b[0mxh\u001b[0m\u001b[0;34m,\u001b[0m\u001b[0;36m0\u001b[0m\u001b[0;34m)\u001b[0m\u001b[0;34m,\u001b[0m\u001b[0;34m(\u001b[0m\u001b[0mnx\u001b[0m\u001b[0;34m-\u001b[0m\u001b[0;36m1\u001b[0m\u001b[0;34m)\u001b[0m\u001b[0;34m)\u001b[0m\u001b[0;34m\u001b[0m\u001b[0m\n\u001b[1;32m   1124\u001b[0m         \u001b[0mdebugger\u001b[0m\u001b[0;34m.\u001b[0m\u001b[0mset_trace\u001b[0m\u001b[0;34m(\u001b[0m\u001b[0;34m)\u001b[0m\u001b[0;34m\u001b[0m\u001b[0m\n\u001b[0;32m-> 1125\u001b[0;31m         \u001b[0mcur_weight\u001b[0m \u001b[0;34m=\u001b[0m \u001b[0mfimage\u001b[0m\u001b[0;34m[\u001b[0m\u001b[0mycen\u001b[0m\u001b[0;34m,\u001b[0m \u001b[0mxs\u001b[0m\u001b[0;34m]\u001b[0m \u001b[0;34m*\u001b[0m \u001b[0;34m(\u001b[0m\u001b[0minvvar\u001b[0m\u001b[0;34m[\u001b[0m\u001b[0mycen\u001b[0m\u001b[0;34m,\u001b[0m \u001b[0mxs\u001b[0m\u001b[0;34m]\u001b[0m \u001b[0;34m>\u001b[0m \u001b[0;36m0\u001b[0m\u001b[0;34m)\u001b[0m \u001b[0;34m*\u001b[0m \u001b[0mg_int\u001b[0m \u001b[0;34m*\u001b[0m \u001b[0;34m(\u001b[0m \u001b[0;34m(\u001b[0m\u001b[0mxh\u001b[0m \u001b[0;34m>=\u001b[0m \u001b[0;36m0\u001b[0m\u001b[0;34m)\u001b[0m \u001b[0;34m&\u001b[0m \u001b[0;34m(\u001b[0m\u001b[0mxh\u001b[0m \u001b[0;34m<\u001b[0m \u001b[0mnx\u001b[0m\u001b[0;34m)\u001b[0m\u001b[0;34m)\u001b[0m\u001b[0;34m\u001b[0m\u001b[0m\n\u001b[0m\u001b[1;32m   1126\u001b[0m         \u001b[0mweight\u001b[0m \u001b[0;34m+=\u001b[0m \u001b[0mcur_weight\u001b[0m\u001b[0;34m\u001b[0m\u001b[0m\n\u001b[1;32m   1127\u001b[0m         \u001b[0mnumer\u001b[0m \u001b[0;34m+=\u001b[0m \u001b[0mcur_weight\u001b[0m \u001b[0;34m*\u001b[0m \u001b[0mxh\u001b[0m\u001b[0;34m\u001b[0m\u001b[0m\n",
      "\u001b[0;32m/Users/xavier/anaconda/lib/python2.7/site-packages/numpy/core/fromnumeric.pyc\u001b[0m in \u001b[0;36many\u001b[0;34m(a, axis, out, keepdims)\u001b[0m\n\u001b[1;32m   1963\u001b[0m \u001b[0;34m\u001b[0m\u001b[0m\n\u001b[1;32m   1964\u001b[0m     \"\"\"\n\u001b[0;32m-> 1965\u001b[0;31m     \u001b[0marr\u001b[0m \u001b[0;34m=\u001b[0m \u001b[0masanyarray\u001b[0m\u001b[0;34m(\u001b[0m\u001b[0ma\u001b[0m\u001b[0;34m)\u001b[0m\u001b[0;34m\u001b[0m\u001b[0m\n\u001b[0m\u001b[1;32m   1966\u001b[0m \u001b[0;34m\u001b[0m\u001b[0m\n\u001b[1;32m   1967\u001b[0m     \u001b[0;32mtry\u001b[0m\u001b[0;34m:\u001b[0m\u001b[0;34m\u001b[0m\u001b[0m\n",
      "\u001b[0;32m/Users/xavier/anaconda/lib/python2.7/site-packages/numpy/core/numeric.pyc\u001b[0m in \u001b[0;36masanyarray\u001b[0;34m(a, dtype, order)\u001b[0m\n\u001b[1;32m    531\u001b[0m \u001b[0;34m\u001b[0m\u001b[0m\n\u001b[1;32m    532\u001b[0m     \"\"\"\n\u001b[0;32m--> 533\u001b[0;31m     \u001b[0;32mreturn\u001b[0m \u001b[0marray\u001b[0m\u001b[0;34m(\u001b[0m\u001b[0ma\u001b[0m\u001b[0;34m,\u001b[0m \u001b[0mdtype\u001b[0m\u001b[0;34m,\u001b[0m \u001b[0mcopy\u001b[0m\u001b[0;34m=\u001b[0m\u001b[0mFalse\u001b[0m\u001b[0;34m,\u001b[0m \u001b[0morder\u001b[0m\u001b[0;34m=\u001b[0m\u001b[0morder\u001b[0m\u001b[0;34m,\u001b[0m \u001b[0msubok\u001b[0m\u001b[0;34m=\u001b[0m\u001b[0mTrue\u001b[0m\u001b[0;34m)\u001b[0m\u001b[0;34m\u001b[0m\u001b[0m\n\u001b[0m\u001b[1;32m    534\u001b[0m \u001b[0;34m\u001b[0m\u001b[0m\n\u001b[1;32m    535\u001b[0m \u001b[0;32mdef\u001b[0m \u001b[0mascontiguousarray\u001b[0m\u001b[0;34m(\u001b[0m\u001b[0ma\u001b[0m\u001b[0;34m,\u001b[0m \u001b[0mdtype\u001b[0m\u001b[0;34m=\u001b[0m\u001b[0mNone\u001b[0m\u001b[0;34m)\u001b[0m\u001b[0;34m:\u001b[0m\u001b[0;34m\u001b[0m\u001b[0m\n",
      "\u001b[0;31mValueError\u001b[0m: setting an array element with a sequence."
     ]
    }
   ],
   "source": [
    "reload(arut)\n",
    "xnew, xerr = arut.trace_gweight(skysub, trace.data, np.arange(skysub.shape[0]).astype(int), 3.)"
   ]
  },
  {
   "cell_type": "code",
   "execution_count": 6,
   "metadata": {
    "collapsed": false
   },
   "outputs": [],
   "source": [
    "xnew2, xerr2 = arutils.trace_gweight(skysub, xnew, np.arange(skysub.shape[0]).astype(int), 3.)"
   ]
  },
  {
   "cell_type": "code",
   "execution_count": 7,
   "metadata": {
    "collapsed": false
   },
   "outputs": [],
   "source": [
    "plt.clf()\n",
    "plt.plot(np.arange(xnew.size), xnew2-trace.data)\n",
    "plt.show()"
   ]
  },
  {
   "cell_type": "markdown",
   "metadata": {},
   "source": [
    "### Display"
   ]
  },
  {
   "cell_type": "code",
   "execution_count": 8,
   "metadata": {
    "collapsed": false
   },
   "outputs": [],
   "source": [
    "viewer, ch = ginga.show_image(skysub)"
   ]
  },
  {
   "cell_type": "code",
   "execution_count": 9,
   "metadata": {
    "collapsed": true
   },
   "outputs": [],
   "source": [
    "ginga.show_trace(viewer, ch, trace.data, 'orig', clear=True, color='blue')\n",
    "ginga.show_trace(viewer, ch, xnew2, 'x2', color='red')"
   ]
  },
  {
   "cell_type": "markdown",
   "metadata": {},
   "source": [
    "### Summary\n",
    "    CRs cause trouble\n",
    "    Offset is ~0.1 pixels and very hard to see by eye if correct\n",
    "    Probably not worth the trouble at this stage"
   ]
  },
  {
   "cell_type": "code",
   "execution_count": null,
   "metadata": {
    "collapsed": true
   },
   "outputs": [],
   "source": []
  }
 ],
 "metadata": {
  "kernelspec": {
   "display_name": "Python 2",
   "language": "python",
   "name": "python2"
  },
  "language_info": {
   "codemirror_mode": {
    "name": "ipython",
    "version": 2
   },
   "file_extension": ".py",
   "mimetype": "text/x-python",
   "name": "python",
   "nbconvert_exporter": "python",
   "pygments_lexer": "ipython2",
   "version": "2.7.11"
  }
 },
 "nbformat": 4,
 "nbformat_minor": 0
}
