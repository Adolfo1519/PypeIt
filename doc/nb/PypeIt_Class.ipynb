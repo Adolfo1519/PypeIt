{
 "cells": [
  {
   "cell_type": "markdown",
   "metadata": {},
   "source": [
    "# Development of the PypeIt Class [v1]"
   ]
  },
  {
   "cell_type": "code",
   "execution_count": 1,
   "metadata": {
    "collapsed": true
   },
   "outputs": [],
   "source": [
    "# imports\n",
    "from importlib import reload\n",
    "import os\n",
    "\n",
    "from pypeit import pypeit"
   ]
  },
  {
   "cell_type": "markdown",
   "metadata": {},
   "source": [
    "## Setup"
   ]
  },
  {
   "cell_type": "code",
   "execution_count": 2,
   "metadata": {
    "collapsed": true
   },
   "outputs": [],
   "source": [
    "# Path to PYPIT-Development-suite\n",
    "pypdev_path = os.getenv('PYPEIT_DEV')"
   ]
  },
  {
   "cell_type": "code",
   "execution_count": 3,
   "metadata": {
    "collapsed": true
   },
   "outputs": [],
   "source": [
    "setups_path = './tmp'\n",
    "if not os.path.isdir(setups_path):\n",
    "    os.mkdir(setups_path)"
   ]
  },
  {
   "cell_type": "markdown",
   "metadata": {},
   "source": [
    "# LRISb"
   ]
  },
  {
   "cell_type": "markdown",
   "metadata": {},
   "source": [
    "## Instantiate"
   ]
  },
  {
   "cell_type": "code",
   "execution_count": 4,
   "metadata": {
    "collapsed": true
   },
   "outputs": [],
   "source": [
    "lrisb = pypeit.LRISb(setups_path=setups_path)"
   ]
  },
  {
   "cell_type": "code",
   "execution_count": 5,
   "metadata": {},
   "outputs": [
    {
     "data": {
      "text/plain": [
       "<KeckLRISBSpectrograph:  spectrograph=keck_lris_blue, telescope=KECK, camera=LRISb>"
      ]
     },
     "execution_count": 5,
     "metadata": {},
     "output_type": "execute_result"
    }
   ],
   "source": [
    "lrisb.spectrograph"
   ]
  },
  {
   "cell_type": "code",
   "execution_count": 6,
   "metadata": {},
   "outputs": [
    {
     "data": {
      "text/plain": [
       "'keck_lris_blue'"
      ]
     },
     "execution_count": 6,
     "metadata": {},
     "output_type": "execute_result"
    }
   ],
   "source": [
    "lrisb.spectrograph.spectrograph"
   ]
  },
  {
   "cell_type": "markdown",
   "metadata": {},
   "source": [
    "## Setup"
   ]
  },
  {
   "cell_type": "code",
   "execution_count": 7,
   "metadata": {},
   "outputs": [
    {
     "name": "stderr",
     "output_type": "stream",
     "text": [
      "\u001b[1;32m[INFO]    ::\u001b[0m \u001b[1;34mpypeit.py 165 _make_setup_pypeit_file()\u001b[0m - Setup files will be written to: ./tmp/setup_files\n",
      "\u001b[1;32m[INFO]    ::\u001b[0m \u001b[1;34mpypeit.py 181 _make_setup_pypeit_file()\u001b[0m - Wrote template pypeit file: ./tmp/setup_files/keck_lris_blue_2018-Sep-07.pypeit\n",
      "\u001b[1;32m[INFO]    ::\u001b[0m \u001b[1;34mutil.py 442 parse_pypeit_file()\u001b[0m - Loading the reduction file\n",
      "\u001b[1;32m[INFO]    ::\u001b[0m \u001b[1;34mutil.py 467 parse_pypeit_file()\u001b[0m - Found 7 raw data frames\n",
      "\u001b[1;32m[INFO]    ::\u001b[0m \u001b[1;34mutil.py 479 parse_pypeit_file()\u001b[0m - Input file loaded successfully\n",
      "\u001b[1;32m[INFO]    ::\u001b[0m \u001b[1;34mload.py 139 load_headers()\u001b[0m - Successfully loaded headers for file:\n",
      "             /home/xavier/local/Python/PypeIt-development-suite/RAW_DATA/Keck_LRIS_blue/long_600_4000_d560/b150910_2051.fits.gz\n",
      "\u001b[1;32m[INFO]    ::\u001b[0m \u001b[1;34mload.py 139 load_headers()\u001b[0m - Successfully loaded headers for file:\n",
      "             /home/xavier/local/Python/PypeIt-development-suite/RAW_DATA/Keck_LRIS_blue/long_600_4000_d560/b150910_2070.fits.gz\n",
      "\u001b[1;32m[INFO]    ::\u001b[0m \u001b[1;34mload.py 139 load_headers()\u001b[0m - Successfully loaded headers for file:\n",
      "             /home/xavier/local/Python/PypeIt-development-suite/RAW_DATA/Keck_LRIS_blue/long_600_4000_d560/b150910_2037.fits.gz\n",
      "\u001b[1;32m[INFO]    ::\u001b[0m \u001b[1;34mload.py 139 load_headers()\u001b[0m - Successfully loaded headers for file:\n",
      "             /home/xavier/local/Python/PypeIt-development-suite/RAW_DATA/Keck_LRIS_blue/long_600_4000_d560/b150910_2033.fits.gz\n",
      "\u001b[1;32m[INFO]    ::\u001b[0m \u001b[1;34mload.py 139 load_headers()\u001b[0m - Successfully loaded headers for file:\n",
      "             /home/xavier/local/Python/PypeIt-development-suite/RAW_DATA/Keck_LRIS_blue/long_600_4000_d560/b150910_2083.fits.gz\n",
      "\u001b[1;32m[INFO]    ::\u001b[0m \u001b[1;34mload.py 139 load_headers()\u001b[0m - Successfully loaded headers for file:\n",
      "             /home/xavier/local/Python/PypeIt-development-suite/RAW_DATA/Keck_LRIS_blue/long_600_4000_d560/b150910_2038.fits.gz\n",
      "\u001b[1;32m[INFO]    ::\u001b[0m \u001b[1;34mload.py 139 load_headers()\u001b[0m - Successfully loaded headers for file:\n",
      "             /home/xavier/local/Python/PypeIt-development-suite/RAW_DATA/Keck_LRIS_blue/long_600_4000_d560/b150910_2036.fits.gz\n",
      "\u001b[1;32m[INFO]    ::\u001b[0m \u001b[1;34mload.py 142 load_headers()\u001b[0m - Checking spectrograph settings for required header information\n",
      "\u001b[1;32m[INFO]    ::\u001b[0m \u001b[1;34mload.py 153 load_headers()\u001b[0m - Headers loaded for 7 files successfully\n",
      "\u001b[1;32m[INFO]    ::\u001b[0m \u001b[1;34mfsort.py 103 type_data()\u001b[0m - Typing files\n",
      "\u001b[1;32m[INFO]    ::\u001b[0m \u001b[1;34mfsort.py 197 type_data()\u001b[0m - Typing completed!\n",
      "\u001b[1;32m[INFO]    ::\u001b[0m \u001b[1;34mpypeitsetup.py 326 type_data()\u001b[0m - Adding file type information to the fitstbl\n",
      "\u001b[1;32m[INFO]    ::\u001b[0m \u001b[1;34mfsort.py 479 write_lst()\u001b[0m - Preparing to write out the data sorting details\n",
      "\u001b[1;32m[INFO]    ::\u001b[0m \u001b[1;34mfsort.py 856 match_to_science()\u001b[0m - Matching calibrations to Science frames\n",
      "\u001b[1;32m[INFO]    ::\u001b[0m \u001b[1;34mfsort.py 864 match_to_science()\u001b[0m - =================================================\n",
      "\u001b[1;32m[INFO]    ::\u001b[0m \u001b[1;34mfsort.py 866 match_to_science()\u001b[0m - Matching calibrations to s2: b150910_2070.fits.gz\n",
      "\u001b[1;32m[INFO]    ::\u001b[0m \u001b[1;34mfsort.py 920 match_to_science()\u001b[0m -   Found 1 arc frame for s2 (1 required)\n",
      "\u001b[1;32m[INFO]    ::\u001b[0m \u001b[1;34mfsort.py 920 match_to_science()\u001b[0m -   Found 3 bias frame for s2 (0 required)\n",
      "\u001b[1;32m[INFO]    ::\u001b[0m \u001b[1;34mfsort.py 879 match_to_science()\u001b[0m -   Dark frames not required.  Not matching..\n",
      "\u001b[1;32m[INFO]    ::\u001b[0m \u001b[1;34mfsort.py 904 match_to_science()\u001b[0m - No matching criteria for pinhole frames with this instrument\n",
      "\u001b[1;32m[INFO]    ::\u001b[0m \u001b[1;34mfsort.py 920 match_to_science()\u001b[0m -   Found 0 pinhole frame for s2 (0 required)\n",
      "\u001b[1;32m[INFO]    ::\u001b[0m \u001b[1;34mfsort.py 920 match_to_science()\u001b[0m -   Found 1 pixelflat frame for s2 (0 required)\n"
     ]
    },
    {
     "name": "stdout",
     "output_type": "stream",
     "text": [
      "WRITING: ./tmp/setup_files\n"
     ]
    },
    {
     "name": "stderr",
     "output_type": "stream",
     "text": [
      "\u001b[1;32m[INFO]    ::\u001b[0m \u001b[1;34mfsort.py 920 match_to_science()\u001b[0m -   Found 1 standard frame for s2 (0 required)\n",
      "\u001b[1;32m[INFO]    ::\u001b[0m \u001b[1;34mfsort.py 920 match_to_science()\u001b[0m -   Found 1 trace frame for s2 (0 required)\n",
      "\u001b[1;32m[INFO]    ::\u001b[0m \u001b[1;34mfsort.py 941 match_to_science()\u001b[0m - Science frames successfully matched to calibration frames\n",
      "\u001b[1;32m[INFO]    ::\u001b[0m \u001b[1;34mpypeitsetup.py 206 build_group_dict()\u001b[0m - Wrote group dict to ./tmp/setup_files/keck_lris_blue_2018-Sep-07.sorted\n",
      "\u001b[1;32m[INFO]    ::\u001b[0m \u001b[1;34mpypeitsetup.py 469 run()\u001b[0m - Setup is complete.\n",
      "\u001b[1;32m[INFO]    ::\u001b[0m \u001b[1;34mpypeitsetup.py 470 run()\u001b[0m - Inspect the .setups file\n",
      "\u001b[1;32m[INFO]    ::\u001b[0m \u001b[1;34mpypeit.py 201 print_end_time()\u001b[0m - Data reduction execution time: 3.37s\n"
     ]
    }
   ],
   "source": [
    "files_root = os.path.join(pypdev_path, 'RAW_DATA', 'Keck_LRIS_blue', 'long_600_4000_d560','b150910_')\n",
    "lrisb.build_setup_files(files_root)"
   ]
  },
  {
   "cell_type": "markdown",
   "metadata": {},
   "source": [
    "## Custom PypeIt files (one per setup)"
   ]
  },
  {
   "cell_type": "code",
   "execution_count": 8,
   "metadata": {},
   "outputs": [
    {
     "name": "stdout",
     "output_type": "stream",
     "text": [
      "Wrote ./tmp/keck_lris_blue_setup_A/keck_lris_blue_setup_A.pypeit\n"
     ]
    },
    {
     "name": "stderr",
     "output_type": "stream",
     "text": [
      "\u001b[1;32m[INFO]    ::\u001b[0m \u001b[1;34mutil.py 442 parse_pypeit_file()\u001b[0m - Loading the reduction file\n",
      "\u001b[1;32m[INFO]    ::\u001b[0m \u001b[1;34mutil.py 467 parse_pypeit_file()\u001b[0m - Found 7 raw data frames\n",
      "\u001b[1;32m[INFO]    ::\u001b[0m \u001b[1;34mutil.py 479 parse_pypeit_file()\u001b[0m - Input file loaded successfully\n"
     ]
    }
   ],
   "source": [
    "lrisb.build_custom_pypeitfiles()"
   ]
  },
  {
   "cell_type": "markdown",
   "metadata": {},
   "source": [
    "## Copy over 'cooked' PypeIt file to deal with pixel flat, etc.  [or edit the one generated]\n",
    "\n",
    "### Note that you will likely need to modify the path to the file after it is copied.  No obvious way around this..\n",
    "\n",
    "    [calibrations]\n",
    "        [[biasframe]]\n",
    "            useframe = overscan\n",
    "        [[pixelflatframe]]\n",
    "            number = 0\n",
    "        [[traceframe]]\n",
    "            number = 1\n",
    "        [[flatfield]]\n",
    "            frame = /home/xavier/Projects/Python/PypeIt-development-suite/CALIBS/PYPEIT_LRISb_pixflat_B600_2x2_17sep2009.fits.gz"
   ]
  },
  {
   "cell_type": "code",
   "execution_count": 9,
   "metadata": {},
   "outputs": [
    {
     "data": {
      "text/plain": [
       "'./tmp/keck_lris_blue_setup_A/keck_lris_blue_setup_A.pypeit'"
      ]
     },
     "execution_count": 9,
     "metadata": {},
     "output_type": "execute_result"
    }
   ],
   "source": [
    "import shutil\n",
    "shutil.copy2(os.path.join(pypdev_path, 'pypeit_files', 'keck_lris_blue_long_600_4000_d560.pypeit'),\n",
    "             os.path.join(setups_path,'keck_lris_blue_setup_A','keck_lris_blue_setup_A.pypeit'))"
   ]
  },
  {
   "cell_type": "markdown",
   "metadata": {},
   "source": [
    "## Init a Setup"
   ]
  },
  {
   "cell_type": "code",
   "execution_count": 10,
   "metadata": {
    "collapsed": true
   },
   "outputs": [],
   "source": [
    "pypeit_file = os.path.join(setups_path,'keck_lris_blue_setup_A','keck_lris_blue_setup_A.pypeit')\n",
    "redux_dir = os.path.join(setups_path,'keck_lris_blue_setup_A')"
   ]
  },
  {
   "cell_type": "code",
   "execution_count": 11,
   "metadata": {},
   "outputs": [
    {
     "name": "stderr",
     "output_type": "stream",
     "text": [
      "\u001b[1;32m[INFO]    ::\u001b[0m \u001b[1;34mutil.py 442 parse_pypeit_file()\u001b[0m - Loading the reduction file\n",
      "\u001b[1;32m[INFO]    ::\u001b[0m \u001b[1;34mutil.py 467 parse_pypeit_file()\u001b[0m - Found 7 raw data frames\n",
      "\u001b[1;32m[INFO]    ::\u001b[0m \u001b[1;34mutil.py 479 parse_pypeit_file()\u001b[0m - Input file loaded successfully\n",
      "\u001b[1;32m[INFO]    ::\u001b[0m \u001b[1;34mload.py 139 load_headers()\u001b[0m - Successfully loaded headers for file:\n",
      "             /home/xavier/local/Python/PypeIt-development-suite/RAW_DATA/Keck_LRIS_blue/long_600_4000_d560/b150910_2033.fits.gz\n",
      "\u001b[1;32m[INFO]    ::\u001b[0m \u001b[1;34mload.py 139 load_headers()\u001b[0m - Successfully loaded headers for file:\n",
      "             /home/xavier/local/Python/PypeIt-development-suite/RAW_DATA/Keck_LRIS_blue/long_600_4000_d560/b150910_2036.fits.gz\n",
      "\u001b[1;32m[INFO]    ::\u001b[0m \u001b[1;34mload.py 139 load_headers()\u001b[0m - Successfully loaded headers for file:\n",
      "             /home/xavier/local/Python/PypeIt-development-suite/RAW_DATA/Keck_LRIS_blue/long_600_4000_d560/b150910_2037.fits.gz\n",
      "\u001b[1;32m[INFO]    ::\u001b[0m \u001b[1;34mload.py 139 load_headers()\u001b[0m - Successfully loaded headers for file:\n",
      "             /home/xavier/local/Python/PypeIt-development-suite/RAW_DATA/Keck_LRIS_blue/long_600_4000_d560/b150910_2038.fits.gz\n",
      "\u001b[1;32m[INFO]    ::\u001b[0m \u001b[1;34mload.py 139 load_headers()\u001b[0m - Successfully loaded headers for file:\n",
      "             /home/xavier/local/Python/PypeIt-development-suite/RAW_DATA/Keck_LRIS_blue/long_600_4000_d560/b150910_2051.fits.gz\n",
      "\u001b[1;32m[INFO]    ::\u001b[0m \u001b[1;34mload.py 139 load_headers()\u001b[0m - Successfully loaded headers for file:\n",
      "             /home/xavier/local/Python/PypeIt-development-suite/RAW_DATA/Keck_LRIS_blue/long_600_4000_d560/b150910_2070.fits.gz\n",
      "\u001b[1;32m[INFO]    ::\u001b[0m \u001b[1;34mload.py 139 load_headers()\u001b[0m - Successfully loaded headers for file:\n",
      "             /home/xavier/local/Python/PypeIt-development-suite/RAW_DATA/Keck_LRIS_blue/long_600_4000_d560/b150910_2083.fits.gz\n",
      "\u001b[1;32m[INFO]    ::\u001b[0m \u001b[1;34mload.py 142 load_headers()\u001b[0m - Checking spectrograph settings for required header information\n",
      "\u001b[1;32m[INFO]    ::\u001b[0m \u001b[1;34mload.py 153 load_headers()\u001b[0m - Headers loaded for 7 files successfully\n",
      "\u001b[1;32m[INFO]    ::\u001b[0m \u001b[1;34mfsort.py 103 type_data()\u001b[0m - Typing files\n",
      "\u001b[1;32m[INFO]    ::\u001b[0m \u001b[1;34mpypeitsetup.py 326 type_data()\u001b[0m - Adding file type information to the fitstbl\n",
      "\u001b[1;32m[INFO]    ::\u001b[0m \u001b[1;34mfsort.py 856 match_to_science()\u001b[0m - Matching calibrations to Science frames\n",
      "\u001b[1;32m[INFO]    ::\u001b[0m \u001b[1;34mfsort.py 864 match_to_science()\u001b[0m - =================================================\n",
      "\u001b[1;32m[INFO]    ::\u001b[0m \u001b[1;34mfsort.py 866 match_to_science()\u001b[0m - Matching calibrations to s2: b150910_2070.fits.gz\n",
      "\u001b[1;32m[INFO]    ::\u001b[0m \u001b[1;34mfsort.py 920 match_to_science()\u001b[0m -   Found 1 arc frame for s2 (1 required)\n",
      "\u001b[1;32m[INFO]    ::\u001b[0m \u001b[1;34mfsort.py 920 match_to_science()\u001b[0m -   Found 3 bias frame for s2 (5 required)\n",
      "\u001b[1;31m[WARNING] ::\u001b[0m \u001b[1;34mfsort.py 985 match_warnings()\u001b[0m -   Only 3/5 bias frames for s2\n",
      "\u001b[1;32m[INFO]    ::\u001b[0m \u001b[1;34mfsort.py 879 match_to_science()\u001b[0m -   Dark frames not required.  Not matching..\n",
      "\u001b[1;32m[INFO]    ::\u001b[0m \u001b[1;34mfsort.py 897 match_to_science()\u001b[0m -    No pinhole frames are required.  Not matching..\n",
      "\u001b[1;32m[INFO]    ::\u001b[0m \u001b[1;34mfsort.py 897 match_to_science()\u001b[0m -    No pixelflat frames are required.  Not matching..\n",
      "\u001b[1;32m[INFO]    ::\u001b[0m \u001b[1;34mfsort.py 920 match_to_science()\u001b[0m -   Found 1 standard frame for s2 (1 required)\n",
      "\u001b[1;32m[INFO]    ::\u001b[0m \u001b[1;34mfsort.py 920 match_to_science()\u001b[0m -   Found 1 trace frame for s2 (1 required)\n",
      "\u001b[1;32m[INFO]    ::\u001b[0m \u001b[1;34mfsort.py 941 match_to_science()\u001b[0m - Science frames successfully matched to calibration frames\n",
      "\u001b[1;32m[INFO]    ::\u001b[0m \u001b[1;34mpypeitsetup.py 459 run()\u001b[0m - Inspect the .calib file: ./tmp/keck_lris_blue_setup_A/keck_lris_blue_setup_A.calib\n",
      "\u001b[1;32m[INFO]    ::\u001b[0m \u001b[1;34mpypeitsetup.py 460 run()\u001b[0m - *********************************************************\n",
      "\u001b[1;32m[INFO]    ::\u001b[0m \u001b[1;34mpypeitsetup.py 461 run()\u001b[0m - Calibration check complete and successful!\n",
      "\u001b[1;32m[INFO]    ::\u001b[0m \u001b[1;34mpypeitsetup.py 462 run()\u001b[0m - Set 'run calcheck False' to continue with data reduction\n",
      "\u001b[1;32m[INFO]    ::\u001b[0m \u001b[1;34mpypeitsetup.py 463 run()\u001b[0m - *********************************************************\n",
      "\u001b[1;32m[INFO]    ::\u001b[0m \u001b[1;34mpypeit.py 154 init_setup()\u001b[0m - Setting reduction path to ./tmp/keck_lris_blue_setup_A\n",
      "\u001b[1;32m[INFO]    ::\u001b[0m \u001b[1;34mfsort.py 1119 make_dirs()\u001b[0m - Creating Science directory\n",
      "\u001b[1;32m[INFO]    ::\u001b[0m \u001b[1;34mfsort.py 1122 make_dirs()\u001b[0m - The following directory already exists:\n",
      "             ./tmp/keck_lris_blue_setup_A/Science\n",
      "\u001b[1;32m[INFO]    ::\u001b[0m \u001b[1;34mfsort.py 1142 make_dirs()\u001b[0m - Creating Object directories\n",
      "\u001b[1;32m[INFO]    ::\u001b[0m \u001b[1;34mfsort.py 1180 make_dirs()\u001b[0m - Creating Master Calibrations directory\n",
      "\u001b[1;32m[INFO]    ::\u001b[0m \u001b[1;34mfsort.py 1202 make_dirs()\u001b[0m - Creating QA directory\n",
      "\u001b[1;31m[WARNING] ::\u001b[0m \u001b[1;34mfsort.py 1205 make_dirs()\u001b[0m - Pre-existing QA plots will be overwritten\n"
     ]
    }
   ],
   "source": [
    "lrisb.init_setup(pypeit_file, redux_dir, calibration_check=True)"
   ]
  },
  {
   "cell_type": "markdown",
   "metadata": {},
   "source": [
    "## Calibrate one"
   ]
  },
  {
   "cell_type": "markdown",
   "metadata": {},
   "source": [
    "### Prep"
   ]
  },
  {
   "cell_type": "code",
   "execution_count": 12,
   "metadata": {},
   "outputs": [
    {
     "name": "stdout",
     "output_type": "stream",
     "text": [
      "target      ra         dec     exptime dispname sci_ID\n",
      "------ ----------- ----------- ------- -------- ------\n",
      "    s2 14:42:31.87 +01:37:32.2     600 600/4000      1\n"
     ]
    }
   ],
   "source": [
    "lrisb.show_science()"
   ]
  },
  {
   "cell_type": "code",
   "execution_count": 13,
   "metadata": {
    "collapsed": true
   },
   "outputs": [],
   "source": [
    "sci_ID = 1\n",
    "det = 2"
   ]
  },
  {
   "cell_type": "markdown",
   "metadata": {},
   "source": [
    "### Do it"
   ]
  },
  {
   "cell_type": "code",
   "execution_count": 14,
   "metadata": {},
   "outputs": [],
   "source": [
    "#lrisb.calibrate_one(sci_ID, det)"
   ]
  },
  {
   "cell_type": "markdown",
   "metadata": {},
   "source": [
    "## Extraction"
   ]
  },
  {
   "cell_type": "markdown",
   "metadata": {},
   "source": [
    "### Redo/reload Calibs"
   ]
  },
  {
   "cell_type": "code",
   "execution_count": 15,
   "metadata": {},
   "outputs": [],
   "source": [
    "lrisb.caliBrate.par['masters'] = 'reuse'"
   ]
  },
  {
   "cell_type": "code",
   "execution_count": 16,
   "metadata": {},
   "outputs": [
    {
     "name": "stderr",
     "output_type": "stream",
     "text": [
      "\u001b[1;32m[INFO]    ::\u001b[0m \u001b[1;34mkeck_lris.py 521 read_lris()\u001b[0m - Reading LRIS file: /home/xavier/local/Python/PypeIt-development-suite/RAW_DATA/Keck_LRIS_blue/long_600_4000_d560/b150910_2070.fits.gz\n",
      "\u001b[1;32m[INFO]    ::\u001b[0m \u001b[1;34mkeck_lris.py 521 read_lris()\u001b[0m - Reading LRIS file: /home/xavier/local/Python/PypeIt-development-suite/RAW_DATA/Keck_LRIS_blue/long_600_4000_d560/b150910_2070.fits.gz\n",
      "\u001b[1;32m[INFO]    ::\u001b[0m \u001b[1;34mmasters.py 192 _load()\u001b[0m - Loading a pre-existing master calibration frame\n",
      "\u001b[1;32m[INFO]    ::\u001b[0m \u001b[1;34mkeck_lris.py 521 read_lris()\u001b[0m - Reading LRIS file: /home/xavier/local/Python/PypeIt-development-suite/RAW_DATA/Keck_LRIS_blue/long_600_4000_d560/b150910_2070.fits.gz\n",
      "\u001b[1;32m[INFO]    ::\u001b[0m \u001b[1;34mkeck_lris.py 521 read_lris()\u001b[0m - Reading LRIS file: /home/xavier/local/Python/PypeIt-development-suite/RAW_DATA/Keck_LRIS_blue/long_600_4000_d560/b150910_2070.fits.gz\n",
      "\u001b[1;32m[INFO]    ::\u001b[0m \u001b[1;34mkeck_lris.py 521 read_lris()\u001b[0m - Reading LRIS file: /home/xavier/local/Python/PypeIt-development-suite/RAW_DATA/Keck_LRIS_blue/long_600_4000_d560/b150910_2070.fits.gz\n",
      "\u001b[1;32m[INFO]    ::\u001b[0m \u001b[1;34mpixels.py 37 gen_pixloc()\u001b[0m - Deriving physical pixel locations on the detector\n",
      "\u001b[1;32m[INFO]    ::\u001b[0m \u001b[1;34mpixels.py 40 gen_pixloc()\u001b[0m - Pixel gap in the dispersion direction = 0.000\n",
      "\u001b[1;32m[INFO]    ::\u001b[0m \u001b[1;34mpixels.py 41 gen_pixloc()\u001b[0m - Pixel size in the dispersion direction = 1.000\n",
      "\u001b[1;32m[INFO]    ::\u001b[0m \u001b[1;34mpixels.py 44 gen_pixloc()\u001b[0m - Pixel gap in the spatial direction = 0.000\n",
      "\u001b[1;32m[INFO]    ::\u001b[0m \u001b[1;34mpixels.py 45 gen_pixloc()\u001b[0m - Pixel size in the spatial direction = 1.000\n",
      "\u001b[1;32m[INFO]    ::\u001b[0m \u001b[1;34mpixels.py 50 gen_pixloc()\u001b[0m - Saving pixel locations\n",
      "\u001b[1;32m[INFO]    ::\u001b[0m \u001b[1;34mtraceslits.py 520 _make_pixel_arrays()\u001b[0m - Converting physical trace locations to nearest pixel\n",
      "\u001b[1;32m[INFO]    ::\u001b[0m \u001b[1;34mtraceslits.py 527 _make_pixel_arrays()\u001b[0m - Identifying the pixels belonging to each slit\n",
      "\u001b[1;32m[INFO]    ::\u001b[0m \u001b[1;34mmasters.py 180 _load()\u001b[0m - Loading Master wv_calib frame:\n",
      "             ./tmp/keck_lris_blue_setup_A/MF_keck_lris_blue/MasterWaveCalib_A_02_aa.json\n",
      "\u001b[1;32m[INFO]    ::\u001b[0m \u001b[1;34mmasters.py 192 _load()\u001b[0m - Loading a pre-existing master calibration frame\n",
      "\u001b[1;31m[WARNING] ::\u001b[0m \u001b[1;34mmasters.py 174 _load()\u001b[0m - Master frame does not exist: ./tmp/keck_lris_blue_setup_A/MF_keck_lris_blue/MasterPixelFlat_A_02_aa.fits\n",
      "\u001b[1;31m[WARNING] ::\u001b[0m \u001b[1;34mmasters.py 143 load_master_frame()\u001b[0m - No Master frame found of type pixelflat: ./tmp/keck_lris_blue_setup_A/MF_keck_lris_blue/MasterPixelFlat_A_02_aa.fits\n",
      "\u001b[1;32m[INFO]    ::\u001b[0m \u001b[1;34mcalibrations.py 373 get_pixflatnrm()\u001b[0m - Found user-defined file: /home/xavier/local/Python/PypeIt-development-suite/CALIBS/PYPEIT_LRISb_pixflat_B600_2x2_17sep2009.fits.gz\n",
      "\u001b[1;32m[INFO]    ::\u001b[0m \u001b[1;34mmasters.py 192 _load()\u001b[0m - Loading a pre-existing master calibration frame\n",
      "\u001b[1;31m[WARNING] ::\u001b[0m \u001b[1;34mcalibrations.py 399 get_pixflatnrm()\u001b[0m - You are not pixel flat fielding your data!\n",
      "\u001b[1;32m[INFO]    ::\u001b[0m \u001b[1;34mmasters.py 192 _load()\u001b[0m - Loading a pre-existing master calibration frame\n",
      "\u001b[1;32m[INFO]    ::\u001b[0m \u001b[1;34mmasters.py 332 save_master()\u001b[0m - Saving master wave frame as:\n",
      "             ./tmp/keck_lris_blue_setup_A/MF_keck_lris_blue/MasterWave_A_02_aa.fits\n",
      "\u001b[1;32m[INFO]    ::\u001b[0m \u001b[1;34mmasters.py 350 save_master()\u001b[0m - Writing header information\n",
      "\u001b[1;31m[WARNING] ::\u001b[0m \u001b[1;34mmasters.py 361 save_master()\u001b[0m - Overwriting file:\n",
      "             ./tmp/keck_lris_blue_setup_A/MF_keck_lris_blue/MasterWave_A_02_aa.fits\n",
      "\u001b[1;32m[INFO]    ::\u001b[0m \u001b[1;34mmasters.py 365 save_master()\u001b[0m - Master wave frame saved successfully:\n",
      "             ./tmp/keck_lris_blue_setup_A/MF_keck_lris_blue/MasterWave_A_02_aa.fits\n",
      "\u001b[1;32m[INFO]    ::\u001b[0m \u001b[1;34mpypeit.py 357 calibrate_one()\u001b[0m - Successful Calibration!\n"
     ]
    }
   ],
   "source": [
    "lrisb.calibrate_one(sci_ID, det)"
   ]
  },
  {
   "cell_type": "markdown",
   "metadata": {},
   "source": [
    "### Init"
   ]
  },
  {
   "cell_type": "code",
   "execution_count": 17,
   "metadata": {},
   "outputs": [
    {
     "name": "stderr",
     "output_type": "stream",
     "text": [
      "\u001b[1;32m[INFO]    ::\u001b[0m \u001b[1;34mkeck_lris.py 521 read_lris()\u001b[0m - Reading LRIS file: /home/xavier/local/Python/PypeIt-development-suite/RAW_DATA/Keck_LRIS_blue/long_600_4000_d560/b150910_2070.fits.gz\n",
      "\u001b[1;32m[INFO]    ::\u001b[0m \u001b[1;34mkeck_lris.py 521 read_lris()\u001b[0m - Reading LRIS file: /home/xavier/local/Python/PypeIt-development-suite/RAW_DATA/Keck_LRIS_blue/long_600_4000_d560/b150910_2070.fits.gz\n"
     ]
    },
    {
     "data": {
      "text/plain": [
       "'s2_LRISb_2015Sep10T054339'"
      ]
     },
     "execution_count": 17,
     "metadata": {},
     "output_type": "execute_result"
    }
   ],
   "source": [
    "lrisb.init_one_science(sci_ID, det)"
   ]
  },
  {
   "cell_type": "code",
   "execution_count": 18,
   "metadata": {},
   "outputs": [
    {
     "name": "stderr",
     "output_type": "stream",
     "text": [
      "\u001b[1;32m[INFO]    ::\u001b[0m \u001b[1;34mkeck_lris.py 521 read_lris()\u001b[0m - Reading LRIS file: /home/xavier/local/Python/PypeIt-development-suite/RAW_DATA/Keck_LRIS_blue/long_600_4000_d560/b150910_2070.fits.gz\n",
      "\u001b[1;32m[INFO]    ::\u001b[0m \u001b[1;34mkeck_lris.py 521 read_lris()\u001b[0m - Reading LRIS file: /home/xavier/local/Python/PypeIt-development-suite/RAW_DATA/Keck_LRIS_blue/long_600_4000_d560/b150910_2070.fits.gz\n",
      "\u001b[1;32m[INFO]    ::\u001b[0m \u001b[1;34mkeck_lris.py 521 read_lris()\u001b[0m - Reading LRIS file: /home/xavier/local/Python/PypeIt-development-suite/RAW_DATA/Keck_LRIS_blue/long_600_4000_d560/b150910_2070.fits.gz\n",
      "\u001b[1;32m[INFO]    ::\u001b[0m \u001b[1;34mkeck_lris.py 521 read_lris()\u001b[0m - Reading LRIS file: /home/xavier/local/Python/PypeIt-development-suite/RAW_DATA/Keck_LRIS_blue/long_600_4000_d560/b150910_2070.fits.gz\n",
      "\u001b[1;32m[INFO]    ::\u001b[0m \u001b[1;34mkeck_lris.py 521 read_lris()\u001b[0m - Reading LRIS file: /home/xavier/local/Python/PypeIt-development-suite/RAW_DATA/Keck_LRIS_blue/long_600_4000_d560/b150910_2070.fits.gz\n",
      "\u001b[1;32m[INFO]    ::\u001b[0m \u001b[1;34mprocessimages.py 279 bias_subtract()\u001b[0m - Bias subtracting your image(s)\n",
      "\u001b[1;32m[INFO]    ::\u001b[0m \u001b[1;34mprocessimages.py 292 bias_subtract()\u001b[0m - Using overscan to subtact\n",
      "\u001b[1;32m[INFO]    ::\u001b[0m \u001b[1;34mkeck_lris.py 521 read_lris()\u001b[0m - Reading LRIS file: /home/xavier/local/Python/PypeIt-development-suite/RAW_DATA/Keck_LRIS_blue/long_600_4000_d560/b150910_2070.fits.gz\n",
      "\u001b[1;32m[INFO]    ::\u001b[0m \u001b[1;34mkeck_lris.py 521 read_lris()\u001b[0m - Reading LRIS file: /home/xavier/local/Python/PypeIt-development-suite/RAW_DATA/Keck_LRIS_blue/long_600_4000_d560/b150910_2070.fits.gz\n",
      "\u001b[1;31m[WARNING] ::\u001b[0m \u001b[1;34mprocimg.py 456 gain_frame()\u001b[0m - Should probably be measuring the gain across the amplifier boundary\n",
      "\u001b[1;32m[INFO]    ::\u001b[0m \u001b[1;34mprocessimages.py 509 build_rawvarframe()\u001b[0m - Generating raw variance frame (from detected counts [flat fielded])\n",
      "\u001b[1;32m[INFO]    ::\u001b[0m \u001b[1;34mkeck_lris.py 521 read_lris()\u001b[0m - Reading LRIS file: /home/xavier/local/Python/PypeIt-development-suite/RAW_DATA/Keck_LRIS_blue/long_600_4000_d560/b150910_2070.fits.gz\n",
      "\u001b[1;32m[INFO]    ::\u001b[0m \u001b[1;34mkeck_lris.py 521 read_lris()\u001b[0m - Reading LRIS file: /home/xavier/local/Python/PypeIt-development-suite/RAW_DATA/Keck_LRIS_blue/long_600_4000_d560/b150910_2070.fits.gz\n",
      "\u001b[1;32m[INFO]    ::\u001b[0m \u001b[1;34mprocessimages.py 485 build_rn2img()\u001b[0m - Generating read noise image from detector properties and amplifier layout)\n",
      "\u001b[1;32m[INFO]    ::\u001b[0m \u001b[1;34mkeck_lris.py 521 read_lris()\u001b[0m - Reading LRIS file: /home/xavier/local/Python/PypeIt-development-suite/RAW_DATA/Keck_LRIS_blue/long_600_4000_d560/b150910_2070.fits.gz\n",
      "\u001b[1;32m[INFO]    ::\u001b[0m \u001b[1;34mkeck_lris.py 521 read_lris()\u001b[0m - Reading LRIS file: /home/xavier/local/Python/PypeIt-development-suite/RAW_DATA/Keck_LRIS_blue/long_600_4000_d560/b150910_2070.fits.gz\n",
      "\u001b[1;32m[INFO]    ::\u001b[0m \u001b[1;34mprocimg.py 235 lacosmic()\u001b[0m - Detecting cosmic rays with the L.A.Cosmic algorithm\n",
      "\u001b[1;32m[INFO]    ::\u001b[0m \u001b[1;34mprocimg.py 259 lacosmic()\u001b[0m - Convolving image with Laplacian kernel\n",
      "\u001b[1;32m[INFO]    ::\u001b[0m \u001b[1;34mprocimg.py 267 lacosmic()\u001b[0m - Creating noise model\n",
      "\u001b[1;32m[INFO]    ::\u001b[0m \u001b[1;34mprocimg.py 274 lacosmic()\u001b[0m - Calculating Laplacian signal to noise ratio\n",
      "\u001b[1;32m[INFO]    ::\u001b[0m \u001b[1;34mprocimg.py 282 lacosmic()\u001b[0m - Selecting candidate cosmic rays\n",
      "\u001b[1;32m[INFO]    ::\u001b[0m \u001b[1;34mprocimg.py 287 lacosmic()\u001b[0m -  2803 candidate pixels\n",
      "\u001b[1;32m[INFO]    ::\u001b[0m \u001b[1;34mprocimg.py 297 lacosmic()\u001b[0m - Building fine structure image\n",
      "\u001b[1;32m[INFO]    ::\u001b[0m \u001b[1;34mprocimg.py 306 lacosmic()\u001b[0m - Removing suspected compact bright objects\n",
      "\u001b[1;32m[INFO]    ::\u001b[0m \u001b[1;34mprocimg.py 316 lacosmic()\u001b[0m -  2519 remaining candidate pixels\n",
      "\u001b[1;32m[INFO]    ::\u001b[0m \u001b[1;34mprocimg.py 320 lacosmic()\u001b[0m - Finding neighboring pixels affected by cosmic rays\n",
      "\u001b[1;32m[INFO]    ::\u001b[0m \u001b[1;34mprocimg.py 341 lacosmic()\u001b[0m -  4460 pixels detected as cosmics\n",
      "\u001b[1;32m[INFO]    ::\u001b[0m \u001b[1;34mprocimg.py 350 lacosmic()\u001b[0m - Iteration 1 -- 4460 pixels identified as cosmic rays (4460 new)\n",
      "\u001b[1;30m[WORK IN ]::\u001b[0m\n",
      "\u001b[1;33m[PROGRESS]::\u001b[0m \u001b[1;34mprocimg.py 353 lacosmic()\u001b[0m - The following algorithm would be better on the rectified, tilts-corrected image\n",
      "\u001b[1;32m[INFO]    ::\u001b[0m \u001b[1;34mprocimg.py 365 lacosmic()\u001b[0m - Growing cosmic ray mask by 1 pixel\n",
      "\u001b[1;32m[INFO]    ::\u001b[0m \u001b[1;34mscienceimage.py 287 find_objects()\u001b[0m - Finding objects on slit: 1\n",
      "\u001b[1;32m[INFO]    ::\u001b[0m \u001b[1;34mextract.py 1321 objfind()\u001b[0m - Used SIGNIFICANCE threshold: sig_thresh = 10.0 * sigma =  0.08\n",
      "\u001b[1;32m[INFO]    ::\u001b[0m \u001b[1;34mextract.py 1327 objfind()\u001b[0m - Object finding threshold of:  0.76\n",
      "\u001b[1;32m[INFO]    ::\u001b[0m \u001b[1;34mextract.py 1437 objfind()\u001b[0m - Fitting the object traces\n",
      "\u001b[1;32m[INFO]    ::\u001b[0m \u001b[1;34mscienceimage.py 356 global_skysub()\u001b[0m - Global sky subtraction for slit: 1\n",
      "\u001b[1;32m[INFO]    ::\u001b[0m \u001b[1;34mutils.py 254 bspline_profile()\u001b[0m - Fitting npoly =  1 profile basis functions, nx=562925 pixels\n",
      "\u001b[1;32m[INFO]    ::\u001b[0m \u001b[1;34mutils.py 255 bspline_profile()\u001b[0m - ****************************  Iter  Chi^2  # rejected  Rel. fact   ****************************\n",
      "\u001b[1;32m[INFO]    ::\u001b[0m \u001b[1;34mutils.py 256 bspline_profile()\u001b[0m -                               ----  -----  ----------  --------- \n",
      "\u001b[1;32m[INFO]    ::\u001b[0m \u001b[1;34mutils.py 342 bspline_profile()\u001b[0m -                                 1   0.004        0        1.00\n",
      "\u001b[1;32m[INFO]    ::\u001b[0m \u001b[1;34mutils.py 348 bspline_profile()\u001b[0m - ***********************************************************************************************\n",
      "\u001b[1;32m[INFO]    ::\u001b[0m \u001b[1;34mutils.py 351 bspline_profile()\u001b[0m - Final fit after  1 iterations: reduced_chi =    0.004, rejected =       0, relative_factor =   1.00\n",
      "\u001b[1;32m[INFO]    ::\u001b[0m \u001b[1;34mutils.py 254 bspline_profile()\u001b[0m - Fitting npoly =  1 profile basis functions, nx=567023 pixels\n",
      "\u001b[1;32m[INFO]    ::\u001b[0m \u001b[1;34mutils.py 255 bspline_profile()\u001b[0m - ****************************  Iter  Chi^2  # rejected  Rel. fact   ****************************\n",
      "\u001b[1;32m[INFO]    ::\u001b[0m \u001b[1;34mutils.py 256 bspline_profile()\u001b[0m -                               ----  -----  ----------  --------- \n",
      "\u001b[1;32m[INFO]    ::\u001b[0m \u001b[1;34mutils.py 342 bspline_profile()\u001b[0m -                                 1   0.646      498        1.00\n",
      "\u001b[1;32m[INFO]    ::\u001b[0m \u001b[1;34mutils.py 342 bspline_profile()\u001b[0m -                                 2   0.637      504        1.00\n",
      "\u001b[1;32m[INFO]    ::\u001b[0m \u001b[1;34mutils.py 342 bspline_profile()\u001b[0m -                                 3   0.637      506        1.00\n",
      "\u001b[1;32m[INFO]    ::\u001b[0m \u001b[1;34mutils.py 342 bspline_profile()\u001b[0m -                                 4   0.637      506        1.00\n",
      "\u001b[1;32m[INFO]    ::\u001b[0m \u001b[1;34mutils.py 348 bspline_profile()\u001b[0m - ***********************************************************************************************\n",
      "\u001b[1;32m[INFO]    ::\u001b[0m \u001b[1;34mutils.py 351 bspline_profile()\u001b[0m - Final fit after  4 iterations: reduced_chi =    0.637, rejected =     506, relative_factor =   1.00\n",
      "\u001b[1;32m[INFO]    ::\u001b[0m \u001b[1;34mscienceimage.py 287 find_objects()\u001b[0m - Finding objects on slit: 1\n",
      "\u001b[1;32m[INFO]    ::\u001b[0m \u001b[1;34mextract.py 1321 objfind()\u001b[0m - Used SIGNIFICANCE threshold: sig_thresh = 10.0 * sigma =  0.05\n",
      "\u001b[1;32m[INFO]    ::\u001b[0m \u001b[1;34mextract.py 1327 objfind()\u001b[0m - Object finding threshold of:  0.53\n",
      "\u001b[1;32m[INFO]    ::\u001b[0m \u001b[1;34mextract.py 1437 objfind()\u001b[0m - Fitting the object traces\n",
      "\u001b[1;32m[INFO]    ::\u001b[0m \u001b[1;34mscienceimage.py 356 global_skysub()\u001b[0m - Global sky subtraction for slit: 1\n",
      "\u001b[1;32m[INFO]    ::\u001b[0m \u001b[1;34mutils.py 254 bspline_profile()\u001b[0m - Fitting npoly =  1 profile basis functions, nx=562941 pixels\n",
      "\u001b[1;32m[INFO]    ::\u001b[0m \u001b[1;34mutils.py 255 bspline_profile()\u001b[0m - ****************************  Iter  Chi^2  # rejected  Rel. fact   ****************************\n",
      "\u001b[1;32m[INFO]    ::\u001b[0m \u001b[1;34mutils.py 256 bspline_profile()\u001b[0m -                               ----  -----  ----------  --------- \n",
      "\u001b[1;32m[INFO]    ::\u001b[0m \u001b[1;34mutils.py 342 bspline_profile()\u001b[0m -                                 1   0.004        0        1.00\n",
      "\u001b[1;32m[INFO]    ::\u001b[0m \u001b[1;34mutils.py 348 bspline_profile()\u001b[0m - ***********************************************************************************************\n",
      "\u001b[1;32m[INFO]    ::\u001b[0m \u001b[1;34mutils.py 351 bspline_profile()\u001b[0m - Final fit after  1 iterations: reduced_chi =    0.004, rejected =       0, relative_factor =   1.00\n",
      "\u001b[1;32m[INFO]    ::\u001b[0m \u001b[1;34mutils.py 254 bspline_profile()\u001b[0m - Fitting npoly =  1 profile basis functions, nx=567049 pixels\n",
      "\u001b[1;32m[INFO]    ::\u001b[0m \u001b[1;34mutils.py 255 bspline_profile()\u001b[0m - ****************************  Iter  Chi^2  # rejected  Rel. fact   ****************************\n",
      "\u001b[1;32m[INFO]    ::\u001b[0m \u001b[1;34mutils.py 256 bspline_profile()\u001b[0m -                               ----  -----  ----------  --------- \n"
     ]
    },
    {
     "name": "stderr",
     "output_type": "stream",
     "text": [
      "\u001b[1;32m[INFO]    ::\u001b[0m \u001b[1;34mutils.py 342 bspline_profile()\u001b[0m -                                 1   0.645      481        1.00\n",
      "\u001b[1;32m[INFO]    ::\u001b[0m \u001b[1;34mutils.py 342 bspline_profile()\u001b[0m -                                 2   0.637      485        1.00\n",
      "\u001b[1;32m[INFO]    ::\u001b[0m \u001b[1;34mutils.py 342 bspline_profile()\u001b[0m -                                 3   0.637      487        1.00\n",
      "\u001b[1;32m[INFO]    ::\u001b[0m \u001b[1;34mutils.py 342 bspline_profile()\u001b[0m -                                 4   0.637      487        1.00\n",
      "\u001b[1;32m[INFO]    ::\u001b[0m \u001b[1;34mutils.py 348 bspline_profile()\u001b[0m - ***********************************************************************************************\n",
      "\u001b[1;32m[INFO]    ::\u001b[0m \u001b[1;34mutils.py 351 bspline_profile()\u001b[0m - Final fit after  4 iterations: reduced_chi =    0.637, rejected =     487, relative_factor =   1.00\n",
      "\u001b[1;32m[INFO]    ::\u001b[0m \u001b[1;34mscienceimage.py 423 local_skysub_extract()\u001b[0m - Local sky subtraction and extraction for slit: 1\n",
      "\u001b[1;32m[INFO]    ::\u001b[0m \u001b[1;34mskysub.py 454 local_skysub_extract()\u001b[0m - Iteration #  1 of  4\n",
      "\u001b[1;32m[INFO]    ::\u001b[0m \u001b[1;34mskysub.py 461 local_skysub_extract()\u001b[0m - -------------------REDUCING-------------------\n",
      "\u001b[1;32m[INFO]    ::\u001b[0m \u001b[1;34mskysub.py 462 local_skysub_extract()\u001b[0m - Fitting profile for obj #: 1 of 2\n",
      "\u001b[1;32m[INFO]    ::\u001b[0m \u001b[1;34mskysub.py 464 local_skysub_extract()\u001b[0m - At x = 78.22 on slit # 1\n",
      "\u001b[1;32m[INFO]    ::\u001b[0m \u001b[1;34mskysub.py 465 local_skysub_extract()\u001b[0m - ----------------------------------------------\n",
      "\u001b[1;32m[INFO]    ::\u001b[0m \u001b[1;34mextract.py 688 fit_profile()\u001b[0m - sqrt(med(S/N)^2) = 21.35\n",
      "\u001b[1;32m[INFO]    ::\u001b[0m \u001b[1;34mextract.py 795 fit_profile()\u001b[0m - Gaussian vs b-spline of width   3.41 pixels\n",
      "\u001b[1;32m[INFO]    ::\u001b[0m \u001b[1;34mextract.py 853 fit_profile()\u001b[0m - Bspline FWHM:  2.9818, compared to initial object finding FWHM:  3.4086\n",
      "\u001b[1;32m[INFO]    ::\u001b[0m \u001b[1;34mextract.py 874 fit_profile()\u001b[0m - Trace limits: limit =  2.4740, min_level =  0.0052, l_limit = -2.4823, r_limit =  2.4670\n",
      "\u001b[1;32m[INFO]    ::\u001b[0m \u001b[1;34mutils.py 254 bspline_profile()\u001b[0m - Fitting npoly =  2 profile basis functions, nx=11064 pixels\n",
      "\u001b[1;32m[INFO]    ::\u001b[0m \u001b[1;34mutils.py 255 bspline_profile()\u001b[0m - ****************************  Iter  Chi^2  # rejected  Rel. fact   ****************************\n",
      "\u001b[1;32m[INFO]    ::\u001b[0m \u001b[1;34mutils.py 256 bspline_profile()\u001b[0m -                               ----  -----  ----------  --------- \n",
      "\u001b[1;32m[INFO]    ::\u001b[0m \u001b[1;34mutils.py 342 bspline_profile()\u001b[0m -                                 1   0.896        4        1.00\n",
      "\u001b[1;32m[INFO]    ::\u001b[0m \u001b[1;34mutils.py 342 bspline_profile()\u001b[0m -                                 2   0.885        4        1.00\n",
      "\u001b[1;32m[INFO]    ::\u001b[0m \u001b[1;34mutils.py 348 bspline_profile()\u001b[0m - ***********************************************************************************************\n",
      "\u001b[1;32m[INFO]    ::\u001b[0m \u001b[1;34mutils.py 351 bspline_profile()\u001b[0m - Final fit after  2 iterations: reduced_chi =    0.885, rejected =       4, relative_factor =   1.00\n",
      "\u001b[1;32m[INFO]    ::\u001b[0m \u001b[1;34mutils.py 254 bspline_profile()\u001b[0m - Fitting npoly =  2 profile basis functions, nx=11064 pixels\n",
      "\u001b[1;32m[INFO]    ::\u001b[0m \u001b[1;34mutils.py 255 bspline_profile()\u001b[0m - ****************************  Iter  Chi^2  # rejected  Rel. fact   ****************************\n",
      "\u001b[1;32m[INFO]    ::\u001b[0m \u001b[1;34mutils.py 256 bspline_profile()\u001b[0m -                               ----  -----  ----------  --------- \n",
      "\u001b[1;32m[INFO]    ::\u001b[0m \u001b[1;34mutils.py 342 bspline_profile()\u001b[0m -                                 1   0.706        4        1.00\n",
      "\u001b[1;32m[INFO]    ::\u001b[0m \u001b[1;34mutils.py 342 bspline_profile()\u001b[0m -                                 2   0.694        4        1.00\n",
      "\u001b[1;32m[INFO]    ::\u001b[0m \u001b[1;34mutils.py 348 bspline_profile()\u001b[0m - ***********************************************************************************************\n",
      "\u001b[1;32m[INFO]    ::\u001b[0m \u001b[1;34mutils.py 351 bspline_profile()\u001b[0m - Final fit after  2 iterations: reduced_chi =    0.694, rejected =       4, relative_factor =   1.00\n",
      "\u001b[1;32m[INFO]    ::\u001b[0m \u001b[1;34mextract.py 958 fit_profile()\u001b[0m - Iteration#   1\n",
      "\u001b[1;32m[INFO]    ::\u001b[0m \u001b[1;34mextract.py 959 fit_profile()\u001b[0m - Median abs value of trace correction =    0.011\n",
      "\u001b[1;32m[INFO]    ::\u001b[0m \u001b[1;34mextract.py 960 fit_profile()\u001b[0m - Median abs value of width correction =    0.064\n",
      "\u001b[1;32m[INFO]    ::\u001b[0m \u001b[1;34mutils.py 254 bspline_profile()\u001b[0m - Fitting npoly =  1 profile basis functions, nx=11064 pixels\n",
      "\u001b[1;32m[INFO]    ::\u001b[0m \u001b[1;34mutils.py 255 bspline_profile()\u001b[0m - ****************************  Iter  Chi^2  # rejected  Rel. fact   ****************************\n",
      "\u001b[1;32m[INFO]    ::\u001b[0m \u001b[1;34mutils.py 256 bspline_profile()\u001b[0m -                               ----  -----  ----------  --------- \n",
      "\u001b[1;32m[INFO]    ::\u001b[0m \u001b[1;34mutils.py 342 bspline_profile()\u001b[0m -                                 1   0.712        4        1.00\n",
      "\u001b[1;32m[INFO]    ::\u001b[0m \u001b[1;34mutils.py 342 bspline_profile()\u001b[0m -                                 2   0.700        4        1.00\n",
      "\u001b[1;32m[INFO]    ::\u001b[0m \u001b[1;34mutils.py 348 bspline_profile()\u001b[0m - ***********************************************************************************************\n",
      "\u001b[1;32m[INFO]    ::\u001b[0m \u001b[1;34mutils.py 351 bspline_profile()\u001b[0m - Final fit after  2 iterations: reduced_chi =    0.700, rejected =       4, relative_factor =   1.00\n",
      "\u001b[1;32m[INFO]    ::\u001b[0m \u001b[1;34mutils.py 254 bspline_profile()\u001b[0m - Fitting npoly =  2 profile basis functions, nx=11064 pixels\n",
      "\u001b[1;32m[INFO]    ::\u001b[0m \u001b[1;34mutils.py 255 bspline_profile()\u001b[0m - ****************************  Iter  Chi^2  # rejected  Rel. fact   ****************************\n",
      "\u001b[1;32m[INFO]    ::\u001b[0m \u001b[1;34mutils.py 256 bspline_profile()\u001b[0m -                               ----  -----  ----------  --------- \n",
      "\u001b[1;32m[INFO]    ::\u001b[0m \u001b[1;34mutils.py 342 bspline_profile()\u001b[0m -                                 1   0.705        3        1.00\n",
      "\u001b[1;32m[INFO]    ::\u001b[0m \u001b[1;34mutils.py 342 bspline_profile()\u001b[0m -                                 2   0.695        3        1.00\n",
      "\u001b[1;32m[INFO]    ::\u001b[0m \u001b[1;34mutils.py 348 bspline_profile()\u001b[0m - ***********************************************************************************************\n",
      "\u001b[1;32m[INFO]    ::\u001b[0m \u001b[1;34mutils.py 351 bspline_profile()\u001b[0m - Final fit after  2 iterations: reduced_chi =    0.695, rejected =       3, relative_factor =   1.00\n",
      "\u001b[1;32m[INFO]    ::\u001b[0m \u001b[1;34mutils.py 254 bspline_profile()\u001b[0m - Fitting npoly =  2 profile basis functions, nx=11064 pixels\n",
      "\u001b[1;32m[INFO]    ::\u001b[0m \u001b[1;34mutils.py 255 bspline_profile()\u001b[0m - ****************************  Iter  Chi^2  # rejected  Rel. fact   ****************************\n",
      "\u001b[1;32m[INFO]    ::\u001b[0m \u001b[1;34mutils.py 256 bspline_profile()\u001b[0m -                               ----  -----  ----------  --------- \n",
      "\u001b[1;32m[INFO]    ::\u001b[0m \u001b[1;34mutils.py 342 bspline_profile()\u001b[0m -                                 1   0.706        4        1.00\n",
      "\u001b[1;32m[INFO]    ::\u001b[0m \u001b[1;34mutils.py 342 bspline_profile()\u001b[0m -                                 2   0.694        4        1.00\n",
      "\u001b[1;32m[INFO]    ::\u001b[0m \u001b[1;34mutils.py 348 bspline_profile()\u001b[0m - ***********************************************************************************************\n",
      "\u001b[1;32m[INFO]    ::\u001b[0m \u001b[1;34mutils.py 351 bspline_profile()\u001b[0m - Final fit after  2 iterations: reduced_chi =    0.694, rejected =       4, relative_factor =   1.00\n",
      "\u001b[1;32m[INFO]    ::\u001b[0m \u001b[1;34mextract.py 958 fit_profile()\u001b[0m - Iteration#   2\n",
      "\u001b[1;32m[INFO]    ::\u001b[0m \u001b[1;34mextract.py 959 fit_profile()\u001b[0m - Median abs value of trace correction =    0.014\n",
      "\u001b[1;32m[INFO]    ::\u001b[0m \u001b[1;34mextract.py 960 fit_profile()\u001b[0m - Median abs value of width correction =    0.013\n",
      "\u001b[1;32m[INFO]    ::\u001b[0m \u001b[1;34mutils.py 254 bspline_profile()\u001b[0m - Fitting npoly =  2 profile basis functions, nx=11064 pixels\n",
      "\u001b[1;32m[INFO]    ::\u001b[0m \u001b[1;34mutils.py 255 bspline_profile()\u001b[0m - ****************************  Iter  Chi^2  # rejected  Rel. fact   ****************************\n",
      "\u001b[1;32m[INFO]    ::\u001b[0m \u001b[1;34mutils.py 256 bspline_profile()\u001b[0m -                               ----  -----  ----------  --------- \n",
      "\u001b[1;32m[INFO]    ::\u001b[0m \u001b[1;34mutils.py 342 bspline_profile()\u001b[0m -                                 1   0.703        3        1.00\n",
      "\u001b[1;32m[INFO]    ::\u001b[0m \u001b[1;34mutils.py 342 bspline_profile()\u001b[0m -                                 2   0.693        3        1.00\n",
      "\u001b[1;32m[INFO]    ::\u001b[0m \u001b[1;34mutils.py 348 bspline_profile()\u001b[0m - ***********************************************************************************************\n",
      "\u001b[1;32m[INFO]    ::\u001b[0m \u001b[1;34mutils.py 351 bspline_profile()\u001b[0m - Final fit after  2 iterations: reduced_chi =    0.693, rejected =       3, relative_factor =   1.00\n",
      "\u001b[1;32m[INFO]    ::\u001b[0m \u001b[1;34mutils.py 254 bspline_profile()\u001b[0m - Fitting npoly =  2 profile basis functions, nx=11064 pixels\n",
      "\u001b[1;32m[INFO]    ::\u001b[0m \u001b[1;34mutils.py 255 bspline_profile()\u001b[0m - ****************************  Iter  Chi^2  # rejected  Rel. fact   ****************************\n",
      "\u001b[1;32m[INFO]    ::\u001b[0m \u001b[1;34mutils.py 256 bspline_profile()\u001b[0m -                               ----  -----  ----------  --------- \n",
      "\u001b[1;32m[INFO]    ::\u001b[0m \u001b[1;34mutils.py 342 bspline_profile()\u001b[0m -                                 1   0.707        4        1.00\n",
      "\u001b[1;32m[INFO]    ::\u001b[0m \u001b[1;34mutils.py 342 bspline_profile()\u001b[0m -                                 2   0.695        4        1.00\n",
      "\u001b[1;32m[INFO]    ::\u001b[0m \u001b[1;34mutils.py 348 bspline_profile()\u001b[0m - ***********************************************************************************************\n",
      "\u001b[1;32m[INFO]    ::\u001b[0m \u001b[1;34mutils.py 351 bspline_profile()\u001b[0m - Final fit after  2 iterations: reduced_chi =    0.695, rejected =       4, relative_factor =   1.00\n"
     ]
    },
    {
     "name": "stderr",
     "output_type": "stream",
     "text": [
      "\u001b[1;32m[INFO]    ::\u001b[0m \u001b[1;34mextract.py 958 fit_profile()\u001b[0m - Iteration#   3\n",
      "\u001b[1;32m[INFO]    ::\u001b[0m \u001b[1;34mextract.py 959 fit_profile()\u001b[0m - Median abs value of trace correction =    0.014\n",
      "\u001b[1;32m[INFO]    ::\u001b[0m \u001b[1;34mextract.py 960 fit_profile()\u001b[0m - Median abs value of width correction =    0.011\n",
      "\u001b[1;32m[INFO]    ::\u001b[0m \u001b[1;34mutils.py 254 bspline_profile()\u001b[0m - Fitting npoly =  1 profile basis functions, nx=23470 pixels\n",
      "\u001b[1;32m[INFO]    ::\u001b[0m \u001b[1;34mutils.py 255 bspline_profile()\u001b[0m - ****************************  Iter  Chi^2  # rejected  Rel. fact   ****************************\n",
      "\u001b[1;32m[INFO]    ::\u001b[0m \u001b[1;34mutils.py 256 bspline_profile()\u001b[0m -                               ----  -----  ----------  --------- \n",
      "\u001b[1;32m[INFO]    ::\u001b[0m \u001b[1;34mutils.py 342 bspline_profile()\u001b[0m -                                 1   0.676        0        1.00\n",
      "\u001b[1;32m[INFO]    ::\u001b[0m \u001b[1;34mutils.py 348 bspline_profile()\u001b[0m - ***********************************************************************************************\n",
      "\u001b[1;32m[INFO]    ::\u001b[0m \u001b[1;34mutils.py 351 bspline_profile()\u001b[0m - Final fit after  1 iterations: reduced_chi =    0.676, rejected =       0, relative_factor =   1.00\n",
      "\u001b[1;32m[INFO]    ::\u001b[0m \u001b[1;34mextract.py 1062 fit_profile()\u001b[0m - ----------  Results of Profile Fit ----------\n",
      "\u001b[1;32m[INFO]    ::\u001b[0m \u001b[1;34mextract.py 1065 fit_profile()\u001b[0m -  min(fwhmfit)= 2.73 max(fwhmfit)= 3.62 median(chi)= 0.33 nbkpts=12\n",
      "\u001b[1;32m[INFO]    ::\u001b[0m \u001b[1;34mextract.py 1081 fit_profile()\u001b[0m - FWHM=  3.41, S/N=  21.353\n",
      "\u001b[1;32m[INFO]    ::\u001b[0m \u001b[1;34mskysub.py 461 local_skysub_extract()\u001b[0m - -------------------REDUCING-------------------\n",
      "\u001b[1;32m[INFO]    ::\u001b[0m \u001b[1;34mskysub.py 462 local_skysub_extract()\u001b[0m - Fitting profile for obj #: 2 of 2\n",
      "\u001b[1;32m[INFO]    ::\u001b[0m \u001b[1;34mskysub.py 464 local_skysub_extract()\u001b[0m - At x = 135.92 on slit # 1\n",
      "\u001b[1;32m[INFO]    ::\u001b[0m \u001b[1;34mskysub.py 465 local_skysub_extract()\u001b[0m - ----------------------------------------------\n",
      "\u001b[1;32m[INFO]    ::\u001b[0m \u001b[1;34mextract.py 688 fit_profile()\u001b[0m - sqrt(med(S/N)^2) =  8.42\n",
      "\u001b[1;32m[INFO]    ::\u001b[0m \u001b[1;34mextract.py 795 fit_profile()\u001b[0m - Gaussian vs b-spline of width   3.21 pixels\n",
      "\u001b[1;32m[INFO]    ::\u001b[0m \u001b[1;34mextract.py 853 fit_profile()\u001b[0m - Bspline FWHM:  2.8786, compared to initial object finding FWHM:  3.2129\n",
      "\u001b[1;32m[INFO]    ::\u001b[0m \u001b[1;34mextract.py 874 fit_profile()\u001b[0m - Trace limits: limit =  2.2538, min_level =  0.0122, l_limit = -2.2457, r_limit =  2.2627\n",
      "\u001b[1;32m[INFO]    ::\u001b[0m \u001b[1;34mutils.py 254 bspline_profile()\u001b[0m - Fitting npoly =  2 profile basis functions, nx=8555 pixels\n",
      "\u001b[1;32m[INFO]    ::\u001b[0m \u001b[1;34mutils.py 255 bspline_profile()\u001b[0m - ****************************  Iter  Chi^2  # rejected  Rel. fact   ****************************\n",
      "\u001b[1;32m[INFO]    ::\u001b[0m \u001b[1;34mutils.py 256 bspline_profile()\u001b[0m -                               ----  -----  ----------  --------- \n",
      "\u001b[1;32m[INFO]    ::\u001b[0m \u001b[1;34mutils.py 342 bspline_profile()\u001b[0m -                                 1   0.630        0        1.00\n",
      "\u001b[1;32m[INFO]    ::\u001b[0m \u001b[1;34mutils.py 348 bspline_profile()\u001b[0m - ***********************************************************************************************\n",
      "\u001b[1;32m[INFO]    ::\u001b[0m \u001b[1;34mutils.py 351 bspline_profile()\u001b[0m - Final fit after  1 iterations: reduced_chi =    0.630, rejected =       0, relative_factor =   1.00\n",
      "\u001b[1;32m[INFO]    ::\u001b[0m \u001b[1;34mutils.py 254 bspline_profile()\u001b[0m - Fitting npoly =  2 profile basis functions, nx=8555 pixels\n",
      "\u001b[1;32m[INFO]    ::\u001b[0m \u001b[1;34mutils.py 255 bspline_profile()\u001b[0m - ****************************  Iter  Chi^2  # rejected  Rel. fact   ****************************\n",
      "\u001b[1;32m[INFO]    ::\u001b[0m \u001b[1;34mutils.py 256 bspline_profile()\u001b[0m -                               ----  -----  ----------  --------- \n",
      "\u001b[1;32m[INFO]    ::\u001b[0m \u001b[1;34mutils.py 342 bspline_profile()\u001b[0m -                                 1   0.659        0        1.00\n",
      "\u001b[1;32m[INFO]    ::\u001b[0m \u001b[1;34mutils.py 348 bspline_profile()\u001b[0m - ***********************************************************************************************\n",
      "\u001b[1;32m[INFO]    ::\u001b[0m \u001b[1;34mutils.py 351 bspline_profile()\u001b[0m - Final fit after  1 iterations: reduced_chi =    0.659, rejected =       0, relative_factor =   1.00\n",
      "\u001b[1;32m[INFO]    ::\u001b[0m \u001b[1;34mextract.py 958 fit_profile()\u001b[0m - Iteration#   1\n",
      "\u001b[1;32m[INFO]    ::\u001b[0m \u001b[1;34mextract.py 959 fit_profile()\u001b[0m - Median abs value of trace correction =    0.044\n",
      "\u001b[1;32m[INFO]    ::\u001b[0m \u001b[1;34mextract.py 960 fit_profile()\u001b[0m - Median abs value of width correction =    0.059\n",
      "\u001b[1;32m[INFO]    ::\u001b[0m \u001b[1;34mutils.py 254 bspline_profile()\u001b[0m - Fitting npoly =  1 profile basis functions, nx=8555 pixels\n",
      "\u001b[1;32m[INFO]    ::\u001b[0m \u001b[1;34mutils.py 255 bspline_profile()\u001b[0m - ****************************  Iter  Chi^2  # rejected  Rel. fact   ****************************\n",
      "\u001b[1;32m[INFO]    ::\u001b[0m \u001b[1;34mutils.py 256 bspline_profile()\u001b[0m -                               ----  -----  ----------  --------- \n",
      "\u001b[1;32m[INFO]    ::\u001b[0m \u001b[1;34mutils.py 342 bspline_profile()\u001b[0m -                                 1   0.678        0        1.00\n",
      "\u001b[1;32m[INFO]    ::\u001b[0m \u001b[1;34mutils.py 348 bspline_profile()\u001b[0m - ***********************************************************************************************\n",
      "\u001b[1;32m[INFO]    ::\u001b[0m \u001b[1;34mutils.py 351 bspline_profile()\u001b[0m - Final fit after  1 iterations: reduced_chi =    0.678, rejected =       0, relative_factor =   1.00\n",
      "\u001b[1;32m[INFO]    ::\u001b[0m \u001b[1;34mutils.py 254 bspline_profile()\u001b[0m - Fitting npoly =  2 profile basis functions, nx=8555 pixels\n",
      "\u001b[1;32m[INFO]    ::\u001b[0m \u001b[1;34mutils.py 255 bspline_profile()\u001b[0m - ****************************  Iter  Chi^2  # rejected  Rel. fact   ****************************\n",
      "\u001b[1;32m[INFO]    ::\u001b[0m \u001b[1;34mutils.py 256 bspline_profile()\u001b[0m -                               ----  -----  ----------  --------- \n",
      "\u001b[1;32m[INFO]    ::\u001b[0m \u001b[1;34mutils.py 342 bspline_profile()\u001b[0m -                                 1   0.610        0        1.00\n",
      "\u001b[1;32m[INFO]    ::\u001b[0m \u001b[1;34mutils.py 348 bspline_profile()\u001b[0m - ***********************************************************************************************\n",
      "\u001b[1;32m[INFO]    ::\u001b[0m \u001b[1;34mutils.py 351 bspline_profile()\u001b[0m - Final fit after  1 iterations: reduced_chi =    0.610, rejected =       0, relative_factor =   1.00\n",
      "\u001b[1;32m[INFO]    ::\u001b[0m \u001b[1;34mutils.py 254 bspline_profile()\u001b[0m - Fitting npoly =  2 profile basis functions, nx=8555 pixels\n",
      "\u001b[1;32m[INFO]    ::\u001b[0m \u001b[1;34mutils.py 255 bspline_profile()\u001b[0m - ****************************  Iter  Chi^2  # rejected  Rel. fact   ****************************\n",
      "\u001b[1;32m[INFO]    ::\u001b[0m \u001b[1;34mutils.py 256 bspline_profile()\u001b[0m -                               ----  -----  ----------  --------- \n",
      "\u001b[1;32m[INFO]    ::\u001b[0m \u001b[1;34mutils.py 342 bspline_profile()\u001b[0m -                                 1   0.653        0        1.00\n",
      "\u001b[1;32m[INFO]    ::\u001b[0m \u001b[1;34mutils.py 348 bspline_profile()\u001b[0m - ***********************************************************************************************\n",
      "\u001b[1;32m[INFO]    ::\u001b[0m \u001b[1;34mutils.py 351 bspline_profile()\u001b[0m - Final fit after  1 iterations: reduced_chi =    0.653, rejected =       0, relative_factor =   1.00\n",
      "\u001b[1;32m[INFO]    ::\u001b[0m \u001b[1;34mextract.py 958 fit_profile()\u001b[0m - Iteration#   2\n",
      "\u001b[1;32m[INFO]    ::\u001b[0m \u001b[1;34mextract.py 959 fit_profile()\u001b[0m - Median abs value of trace correction =    0.048\n",
      "\u001b[1;32m[INFO]    ::\u001b[0m \u001b[1;34mextract.py 960 fit_profile()\u001b[0m - Median abs value of width correction =    0.037\n",
      "\u001b[1;32m[INFO]    ::\u001b[0m \u001b[1;34mutils.py 254 bspline_profile()\u001b[0m - Fitting npoly =  2 profile basis functions, nx=8555 pixels\n",
      "\u001b[1;32m[INFO]    ::\u001b[0m \u001b[1;34mutils.py 255 bspline_profile()\u001b[0m - ****************************  Iter  Chi^2  # rejected  Rel. fact   ****************************\n",
      "\u001b[1;32m[INFO]    ::\u001b[0m \u001b[1;34mutils.py 256 bspline_profile()\u001b[0m -                               ----  -----  ----------  --------- \n",
      "\u001b[1;32m[INFO]    ::\u001b[0m \u001b[1;34mutils.py 342 bspline_profile()\u001b[0m -                                 1   0.613        0        1.00\n",
      "\u001b[1;32m[INFO]    ::\u001b[0m \u001b[1;34mutils.py 348 bspline_profile()\u001b[0m - ***********************************************************************************************\n"
     ]
    },
    {
     "name": "stderr",
     "output_type": "stream",
     "text": [
      "\u001b[1;32m[INFO]    ::\u001b[0m \u001b[1;34mutils.py 351 bspline_profile()\u001b[0m - Final fit after  1 iterations: reduced_chi =    0.613, rejected =       0, relative_factor =   1.00\n",
      "\u001b[1;32m[INFO]    ::\u001b[0m \u001b[1;34mutils.py 254 bspline_profile()\u001b[0m - Fitting npoly =  2 profile basis functions, nx=8555 pixels\n",
      "\u001b[1;32m[INFO]    ::\u001b[0m \u001b[1;34mutils.py 255 bspline_profile()\u001b[0m - ****************************  Iter  Chi^2  # rejected  Rel. fact   ****************************\n",
      "\u001b[1;32m[INFO]    ::\u001b[0m \u001b[1;34mutils.py 256 bspline_profile()\u001b[0m -                               ----  -----  ----------  --------- \n",
      "\u001b[1;32m[INFO]    ::\u001b[0m \u001b[1;34mutils.py 342 bspline_profile()\u001b[0m -                                 1   0.654        0        1.00\n",
      "\u001b[1;32m[INFO]    ::\u001b[0m \u001b[1;34mutils.py 348 bspline_profile()\u001b[0m - ***********************************************************************************************\n",
      "\u001b[1;32m[INFO]    ::\u001b[0m \u001b[1;34mutils.py 351 bspline_profile()\u001b[0m - Final fit after  1 iterations: reduced_chi =    0.654, rejected =       0, relative_factor =   1.00\n",
      "\u001b[1;32m[INFO]    ::\u001b[0m \u001b[1;34mextract.py 958 fit_profile()\u001b[0m - Iteration#   3\n",
      "\u001b[1;32m[INFO]    ::\u001b[0m \u001b[1;34mextract.py 959 fit_profile()\u001b[0m - Median abs value of trace correction =    0.048\n",
      "\u001b[1;32m[INFO]    ::\u001b[0m \u001b[1;34mextract.py 960 fit_profile()\u001b[0m - Median abs value of width correction =    0.039\n",
      "\u001b[1;32m[INFO]    ::\u001b[0m \u001b[1;34mutils.py 254 bspline_profile()\u001b[0m - Fitting npoly =  1 profile basis functions, nx=17173 pixels\n",
      "\u001b[1;32m[INFO]    ::\u001b[0m \u001b[1;34mutils.py 255 bspline_profile()\u001b[0m - ****************************  Iter  Chi^2  # rejected  Rel. fact   ****************************\n",
      "\u001b[1;32m[INFO]    ::\u001b[0m \u001b[1;34mutils.py 256 bspline_profile()\u001b[0m -                               ----  -----  ----------  --------- \n",
      "\u001b[1;32m[INFO]    ::\u001b[0m \u001b[1;34mutils.py 342 bspline_profile()\u001b[0m -                                 1   0.649        0        1.00\n",
      "\u001b[1;32m[INFO]    ::\u001b[0m \u001b[1;34mutils.py 348 bspline_profile()\u001b[0m - ***********************************************************************************************\n",
      "\u001b[1;32m[INFO]    ::\u001b[0m \u001b[1;34mutils.py 351 bspline_profile()\u001b[0m - Final fit after  1 iterations: reduced_chi =    0.649, rejected =       0, relative_factor =   1.00\n",
      "\u001b[1;32m[INFO]    ::\u001b[0m \u001b[1;34mextract.py 1062 fit_profile()\u001b[0m - ----------  Results of Profile Fit ----------\n",
      "\u001b[1;32m[INFO]    ::\u001b[0m \u001b[1;34mextract.py 1065 fit_profile()\u001b[0m -  min(fwhmfit)= 1.99 max(fwhmfit)= 3.24 median(chi)= 0.30 nbkpts= 8\n",
      "\u001b[1;32m[INFO]    ::\u001b[0m \u001b[1;34mextract.py 1081 fit_profile()\u001b[0m - FWHM=  3.21, S/N=   8.415\n",
      "\u001b[1;32m[INFO]    ::\u001b[0m \u001b[1;34mskysub.py 281 skyoptimal()\u001b[0m - Iter     Chi^2     Rejected Pts\n",
      "\u001b[1;32m[INFO]    ::\u001b[0m \u001b[1;34mutils.py 254 bspline_profile()\u001b[0m - Fitting npoly =  5 profile basis functions, nx=255234 pixels\n",
      "\u001b[1;32m[INFO]    ::\u001b[0m \u001b[1;34mutils.py 255 bspline_profile()\u001b[0m - ****************************  Iter  Chi^2  # rejected  Rel. fact   ****************************\n",
      "\u001b[1;32m[INFO]    ::\u001b[0m \u001b[1;34mutils.py 256 bspline_profile()\u001b[0m -                               ----  -----  ----------  --------- \n",
      "\u001b[1;32m[INFO]    ::\u001b[0m \u001b[1;34mutils.py 342 bspline_profile()\u001b[0m -                                 1   0.631       17        1.00\n",
      "\u001b[1;32m[INFO]    ::\u001b[0m \u001b[1;34mutils.py 342 bspline_profile()\u001b[0m -                                 2   0.625       17        1.00\n",
      "\u001b[1;32m[INFO]    ::\u001b[0m \u001b[1;34mutils.py 348 bspline_profile()\u001b[0m - ***********************************************************************************************\n",
      "\u001b[1;32m[INFO]    ::\u001b[0m \u001b[1;34mutils.py 351 bspline_profile()\u001b[0m - Final fit after  2 iterations: reduced_chi =    0.625, rejected =      17, relative_factor =   1.00\n",
      "\u001b[1;32m[INFO]    ::\u001b[0m \u001b[1;34mskysub.py 313 skyoptimal()\u001b[0m - 2nd round....\n",
      "\u001b[1;32m[INFO]    ::\u001b[0m \u001b[1;34mskysub.py 314 skyoptimal()\u001b[0m - Iter     Chi^2     Rejected Pts\n",
      "\u001b[1;32m[INFO]    ::\u001b[0m \u001b[1;34mutils.py 254 bspline_profile()\u001b[0m - Fitting npoly =  5 profile basis functions, nx=255234 pixels\n",
      "\u001b[1;32m[INFO]    ::\u001b[0m \u001b[1;34mutils.py 255 bspline_profile()\u001b[0m - ****************************  Iter  Chi^2  # rejected  Rel. fact   ****************************\n",
      "\u001b[1;32m[INFO]    ::\u001b[0m \u001b[1;34mutils.py 256 bspline_profile()\u001b[0m -                               ----  -----  ----------  --------- \n",
      "\u001b[1;32m[INFO]    ::\u001b[0m \u001b[1;34mutils.py 342 bspline_profile()\u001b[0m -                                 1   0.625       17        1.00\n",
      "\u001b[1;32m[INFO]    ::\u001b[0m \u001b[1;34mutils.py 342 bspline_profile()\u001b[0m -                                 2   0.625       17        1.00\n",
      "\u001b[1;32m[INFO]    ::\u001b[0m \u001b[1;34mutils.py 348 bspline_profile()\u001b[0m - ***********************************************************************************************\n",
      "\u001b[1;32m[INFO]    ::\u001b[0m \u001b[1;34mutils.py 351 bspline_profile()\u001b[0m - Final fit after  2 iterations: reduced_chi =    0.625, rejected =      17, relative_factor =   1.00\n",
      "\u001b[1;32m[INFO]    ::\u001b[0m \u001b[1;34mskysub.py 586 local_skysub_extract()\u001b[0m - Measured effective rejection from distribution of chi^2\n",
      "\u001b[1;32m[INFO]    ::\u001b[0m \u001b[1;34mskysub.py 588 local_skysub_extract()\u001b[0m - Instead of rejecting sigrej =  3.50, use threshold sigrej_eff =  3.50\n",
      "\u001b[1;32m[INFO]    ::\u001b[0m \u001b[1;34mskysub.py 596 local_skysub_extract()\u001b[0m - Iteration = 1, rejected 255108 of 255234fit pixels\n",
      "\u001b[1;32m[INFO]    ::\u001b[0m \u001b[1;34mskysub.py 454 local_skysub_extract()\u001b[0m - Iteration #  2 of  4\n",
      "\u001b[1;32m[INFO]    ::\u001b[0m \u001b[1;34mextract.py 688 fit_profile()\u001b[0m - sqrt(med(S/N)^2) = 24.45\n",
      "\u001b[1;32m[INFO]    ::\u001b[0m \u001b[1;34mextract.py 795 fit_profile()\u001b[0m - Gaussian vs b-spline of width   3.11 pixels\n",
      "\u001b[1;32m[INFO]    ::\u001b[0m \u001b[1;34mextract.py 853 fit_profile()\u001b[0m - Bspline FWHM:  2.9563, compared to initial object finding FWHM:  3.1129\n",
      "\u001b[1;32m[INFO]    ::\u001b[0m \u001b[1;34mextract.py 874 fit_profile()\u001b[0m - Trace limits: limit =  2.7268, min_level =  0.0047, l_limit = -2.7596, r_limit =  2.6959\n",
      "\u001b[1;32m[INFO]    ::\u001b[0m \u001b[1;34mutils.py 254 bspline_profile()\u001b[0m - Fitting npoly =  2 profile basis functions, nx=11353 pixels\n",
      "\u001b[1;32m[INFO]    ::\u001b[0m \u001b[1;34mutils.py 255 bspline_profile()\u001b[0m - ****************************  Iter  Chi^2  # rejected  Rel. fact   ****************************\n",
      "\u001b[1;32m[INFO]    ::\u001b[0m \u001b[1;34mutils.py 256 bspline_profile()\u001b[0m -                               ----  -----  ----------  --------- \n",
      "\u001b[1;32m[INFO]    ::\u001b[0m \u001b[1;34mutils.py 342 bspline_profile()\u001b[0m -                                 1   0.857        3        1.00\n",
      "\u001b[1;32m[INFO]    ::\u001b[0m \u001b[1;34mutils.py 342 bspline_profile()\u001b[0m -                                 2   0.847        3        1.00\n",
      "\u001b[1;32m[INFO]    ::\u001b[0m \u001b[1;34mutils.py 348 bspline_profile()\u001b[0m - ***********************************************************************************************\n",
      "\u001b[1;32m[INFO]    ::\u001b[0m \u001b[1;34mutils.py 351 bspline_profile()\u001b[0m - Final fit after  2 iterations: reduced_chi =    0.847, rejected =       3, relative_factor =   1.00\n",
      "\u001b[1;32m[INFO]    ::\u001b[0m \u001b[1;34mutils.py 254 bspline_profile()\u001b[0m - Fitting npoly =  2 profile basis functions, nx=11353 pixels\n",
      "\u001b[1;32m[INFO]    ::\u001b[0m \u001b[1;34mutils.py 255 bspline_profile()\u001b[0m - ****************************  Iter  Chi^2  # rejected  Rel. fact   ****************************\n",
      "\u001b[1;32m[INFO]    ::\u001b[0m \u001b[1;34mutils.py 256 bspline_profile()\u001b[0m -                               ----  -----  ----------  --------- \n",
      "\u001b[1;32m[INFO]    ::\u001b[0m \u001b[1;34mutils.py 342 bspline_profile()\u001b[0m -                                 1   0.678        3        1.00\n",
      "\u001b[1;32m[INFO]    ::\u001b[0m \u001b[1;34mutils.py 342 bspline_profile()\u001b[0m -                                 2   0.669        3        1.00\n",
      "\u001b[1;32m[INFO]    ::\u001b[0m \u001b[1;34mutils.py 348 bspline_profile()\u001b[0m - ***********************************************************************************************\n",
      "\u001b[1;32m[INFO]    ::\u001b[0m \u001b[1;34mutils.py 351 bspline_profile()\u001b[0m - Final fit after  2 iterations: reduced_chi =    0.669, rejected =       3, relative_factor =   1.00\n",
      "\u001b[1;32m[INFO]    ::\u001b[0m \u001b[1;34mextract.py 958 fit_profile()\u001b[0m - Iteration#   1\n",
      "\u001b[1;32m[INFO]    ::\u001b[0m \u001b[1;34mextract.py 959 fit_profile()\u001b[0m - Median abs value of trace correction =    0.012\n",
      "\u001b[1;32m[INFO]    ::\u001b[0m \u001b[1;34mextract.py 960 fit_profile()\u001b[0m - Median abs value of width correction =    0.068\n"
     ]
    },
    {
     "name": "stderr",
     "output_type": "stream",
     "text": [
      "\u001b[1;32m[INFO]    ::\u001b[0m \u001b[1;34mutils.py 254 bspline_profile()\u001b[0m - Fitting npoly =  1 profile basis functions, nx=11353 pixels\n",
      "\u001b[1;32m[INFO]    ::\u001b[0m \u001b[1;34mutils.py 255 bspline_profile()\u001b[0m - ****************************  Iter  Chi^2  # rejected  Rel. fact   ****************************\n",
      "\u001b[1;32m[INFO]    ::\u001b[0m \u001b[1;34mutils.py 256 bspline_profile()\u001b[0m -                               ----  -----  ----------  --------- \n",
      "\u001b[1;32m[INFO]    ::\u001b[0m \u001b[1;34mutils.py 342 bspline_profile()\u001b[0m -                                 1   0.714        3        1.00\n",
      "\u001b[1;32m[INFO]    ::\u001b[0m \u001b[1;34mutils.py 342 bspline_profile()\u001b[0m -                                 2   0.704        3        1.00\n",
      "\u001b[1;32m[INFO]    ::\u001b[0m \u001b[1;34mutils.py 348 bspline_profile()\u001b[0m - ***********************************************************************************************\n",
      "\u001b[1;32m[INFO]    ::\u001b[0m \u001b[1;34mutils.py 351 bspline_profile()\u001b[0m - Final fit after  2 iterations: reduced_chi =    0.704, rejected =       3, relative_factor =   1.00\n",
      "\u001b[1;32m[INFO]    ::\u001b[0m \u001b[1;34mutils.py 254 bspline_profile()\u001b[0m - Fitting npoly =  2 profile basis functions, nx=11353 pixels\n",
      "\u001b[1;32m[INFO]    ::\u001b[0m \u001b[1;34mutils.py 255 bspline_profile()\u001b[0m - ****************************  Iter  Chi^2  # rejected  Rel. fact   ****************************\n",
      "\u001b[1;32m[INFO]    ::\u001b[0m \u001b[1;34mutils.py 256 bspline_profile()\u001b[0m -                               ----  -----  ----------  --------- \n",
      "\u001b[1;32m[INFO]    ::\u001b[0m \u001b[1;34mutils.py 342 bspline_profile()\u001b[0m -                                 1   0.683        3        1.00\n",
      "\u001b[1;32m[INFO]    ::\u001b[0m \u001b[1;34mutils.py 342 bspline_profile()\u001b[0m -                                 2   0.674        3        1.00\n",
      "\u001b[1;32m[INFO]    ::\u001b[0m \u001b[1;34mutils.py 348 bspline_profile()\u001b[0m - ***********************************************************************************************\n",
      "\u001b[1;32m[INFO]    ::\u001b[0m \u001b[1;34mutils.py 351 bspline_profile()\u001b[0m - Final fit after  2 iterations: reduced_chi =    0.674, rejected =       3, relative_factor =   1.00\n",
      "\u001b[1;32m[INFO]    ::\u001b[0m \u001b[1;34mutils.py 254 bspline_profile()\u001b[0m - Fitting npoly =  2 profile basis functions, nx=11353 pixels\n",
      "\u001b[1;32m[INFO]    ::\u001b[0m \u001b[1;34mutils.py 255 bspline_profile()\u001b[0m - ****************************  Iter  Chi^2  # rejected  Rel. fact   ****************************\n",
      "\u001b[1;32m[INFO]    ::\u001b[0m \u001b[1;34mutils.py 256 bspline_profile()\u001b[0m -                               ----  -----  ----------  --------- \n",
      "\u001b[1;32m[INFO]    ::\u001b[0m \u001b[1;34mutils.py 342 bspline_profile()\u001b[0m -                                 1   0.676        3        1.00\n",
      "\u001b[1;32m[INFO]    ::\u001b[0m \u001b[1;34mutils.py 342 bspline_profile()\u001b[0m -                                 2   0.667        3        1.00\n",
      "\u001b[1;32m[INFO]    ::\u001b[0m \u001b[1;34mutils.py 348 bspline_profile()\u001b[0m - ***********************************************************************************************\n",
      "\u001b[1;32m[INFO]    ::\u001b[0m \u001b[1;34mutils.py 351 bspline_profile()\u001b[0m - Final fit after  2 iterations: reduced_chi =    0.667, rejected =       3, relative_factor =   1.00\n",
      "\u001b[1;32m[INFO]    ::\u001b[0m \u001b[1;34mextract.py 958 fit_profile()\u001b[0m - Iteration#   2\n",
      "\u001b[1;32m[INFO]    ::\u001b[0m \u001b[1;34mextract.py 959 fit_profile()\u001b[0m - Median abs value of trace correction =    0.016\n",
      "\u001b[1;32m[INFO]    ::\u001b[0m \u001b[1;34mextract.py 960 fit_profile()\u001b[0m - Median abs value of width correction =    0.027\n",
      "\u001b[1;32m[INFO]    ::\u001b[0m \u001b[1;34mutils.py 254 bspline_profile()\u001b[0m - Fitting npoly =  2 profile basis functions, nx=11353 pixels\n",
      "\u001b[1;32m[INFO]    ::\u001b[0m \u001b[1;34mutils.py 255 bspline_profile()\u001b[0m - ****************************  Iter  Chi^2  # rejected  Rel. fact   ****************************\n",
      "\u001b[1;32m[INFO]    ::\u001b[0m \u001b[1;34mutils.py 256 bspline_profile()\u001b[0m -                               ----  -----  ----------  --------- \n",
      "\u001b[1;32m[INFO]    ::\u001b[0m \u001b[1;34mutils.py 342 bspline_profile()\u001b[0m -                                 1   0.666        3        1.00\n",
      "\u001b[1;32m[INFO]    ::\u001b[0m \u001b[1;34mutils.py 342 bspline_profile()\u001b[0m -                                 2   0.656        3        1.00\n",
      "\u001b[1;32m[INFO]    ::\u001b[0m \u001b[1;34mutils.py 348 bspline_profile()\u001b[0m - ***********************************************************************************************\n",
      "\u001b[1;32m[INFO]    ::\u001b[0m \u001b[1;34mutils.py 351 bspline_profile()\u001b[0m - Final fit after  2 iterations: reduced_chi =    0.656, rejected =       3, relative_factor =   1.00\n",
      "\u001b[1;32m[INFO]    ::\u001b[0m \u001b[1;34mutils.py 254 bspline_profile()\u001b[0m - Fitting npoly =  2 profile basis functions, nx=11353 pixels\n",
      "\u001b[1;32m[INFO]    ::\u001b[0m \u001b[1;34mutils.py 255 bspline_profile()\u001b[0m - ****************************  Iter  Chi^2  # rejected  Rel. fact   ****************************\n",
      "\u001b[1;32m[INFO]    ::\u001b[0m \u001b[1;34mutils.py 256 bspline_profile()\u001b[0m -                               ----  -----  ----------  --------- \n",
      "\u001b[1;32m[INFO]    ::\u001b[0m \u001b[1;34mutils.py 342 bspline_profile()\u001b[0m -                                 1   0.678        3        1.00\n",
      "\u001b[1;32m[INFO]    ::\u001b[0m \u001b[1;34mutils.py 342 bspline_profile()\u001b[0m -                                 2   0.668        3        1.00\n",
      "\u001b[1;32m[INFO]    ::\u001b[0m \u001b[1;34mutils.py 348 bspline_profile()\u001b[0m - ***********************************************************************************************\n",
      "\u001b[1;32m[INFO]    ::\u001b[0m \u001b[1;34mutils.py 351 bspline_profile()\u001b[0m - Final fit after  2 iterations: reduced_chi =    0.668, rejected =       3, relative_factor =   1.00\n",
      "\u001b[1;32m[INFO]    ::\u001b[0m \u001b[1;34mextract.py 958 fit_profile()\u001b[0m - Iteration#   3\n",
      "\u001b[1;32m[INFO]    ::\u001b[0m \u001b[1;34mextract.py 959 fit_profile()\u001b[0m - Median abs value of trace correction =    0.020\n",
      "\u001b[1;32m[INFO]    ::\u001b[0m \u001b[1;34mextract.py 960 fit_profile()\u001b[0m - Median abs value of width correction =    0.012\n",
      "\u001b[1;32m[INFO]    ::\u001b[0m \u001b[1;34mutils.py 254 bspline_profile()\u001b[0m - Fitting npoly =  1 profile basis functions, nx=23587 pixels\n",
      "\u001b[1;32m[INFO]    ::\u001b[0m \u001b[1;34mutils.py 255 bspline_profile()\u001b[0m - ****************************  Iter  Chi^2  # rejected  Rel. fact   ****************************\n",
      "\u001b[1;32m[INFO]    ::\u001b[0m \u001b[1;34mutils.py 256 bspline_profile()\u001b[0m -                               ----  -----  ----------  --------- \n",
      "\u001b[1;32m[INFO]    ::\u001b[0m \u001b[1;34mutils.py 342 bspline_profile()\u001b[0m -                                 1   0.654        0        1.00\n",
      "\u001b[1;32m[INFO]    ::\u001b[0m \u001b[1;34mutils.py 348 bspline_profile()\u001b[0m - ***********************************************************************************************\n",
      "\u001b[1;32m[INFO]    ::\u001b[0m \u001b[1;34mutils.py 351 bspline_profile()\u001b[0m - Final fit after  1 iterations: reduced_chi =    0.654, rejected =       0, relative_factor =   1.00\n",
      "\u001b[1;32m[INFO]    ::\u001b[0m \u001b[1;34mextract.py 1062 fit_profile()\u001b[0m - ----------  Results of Profile Fit ----------\n",
      "\u001b[1;32m[INFO]    ::\u001b[0m \u001b[1;34mextract.py 1065 fit_profile()\u001b[0m -  min(fwhmfit)= 2.77 max(fwhmfit)= 3.76 median(chi)= 0.29 nbkpts=12\n",
      "\u001b[1;32m[INFO]    ::\u001b[0m \u001b[1;34mextract.py 1081 fit_profile()\u001b[0m - FWHM=  3.11, S/N=  24.451\n",
      "\u001b[1;32m[INFO]    ::\u001b[0m \u001b[1;34mextract.py 688 fit_profile()\u001b[0m - sqrt(med(S/N)^2) = 11.25\n",
      "\u001b[1;32m[INFO]    ::\u001b[0m \u001b[1;34mextract.py 795 fit_profile()\u001b[0m - Gaussian vs b-spline of width   2.63 pixels\n",
      "\u001b[1;32m[INFO]    ::\u001b[0m \u001b[1;34mextract.py 853 fit_profile()\u001b[0m - Bspline FWHM:  2.9532, compared to initial object finding FWHM:  2.6330\n",
      "\u001b[1;32m[INFO]    ::\u001b[0m \u001b[1;34mextract.py 874 fit_profile()\u001b[0m - Trace limits: limit =  2.9345, min_level =  0.0096, l_limit = -2.9466, r_limit =  2.9242\n",
      "\u001b[1;32m[INFO]    ::\u001b[0m \u001b[1;34mutils.py 254 bspline_profile()\u001b[0m - Fitting npoly =  2 profile basis functions, nx=9172 pixels\n",
      "\u001b[1;32m[INFO]    ::\u001b[0m \u001b[1;34mutils.py 255 bspline_profile()\u001b[0m - ****************************  Iter  Chi^2  # rejected  Rel. fact   ****************************\n",
      "\u001b[1;32m[INFO]    ::\u001b[0m \u001b[1;34mutils.py 256 bspline_profile()\u001b[0m -                               ----  -----  ----------  --------- \n",
      "\u001b[1;32m[INFO]    ::\u001b[0m \u001b[1;34mutils.py 342 bspline_profile()\u001b[0m -                                 1   0.589        0        1.00\n",
      "\u001b[1;32m[INFO]    ::\u001b[0m \u001b[1;34mutils.py 348 bspline_profile()\u001b[0m - ***********************************************************************************************\n",
      "\u001b[1;32m[INFO]    ::\u001b[0m \u001b[1;34mutils.py 351 bspline_profile()\u001b[0m - Final fit after  1 iterations: reduced_chi =    0.589, rejected =       0, relative_factor =   1.00\n",
      "\u001b[1;32m[INFO]    ::\u001b[0m \u001b[1;34mutils.py 254 bspline_profile()\u001b[0m - Fitting npoly =  2 profile basis functions, nx=9172 pixels\n",
      "\u001b[1;32m[INFO]    ::\u001b[0m \u001b[1;34mutils.py 255 bspline_profile()\u001b[0m - ****************************  Iter  Chi^2  # rejected  Rel. fact   ****************************\n",
      "\u001b[1;32m[INFO]    ::\u001b[0m \u001b[1;34mutils.py 256 bspline_profile()\u001b[0m -                               ----  -----  ----------  --------- \n",
      "\u001b[1;32m[INFO]    ::\u001b[0m \u001b[1;34mutils.py 342 bspline_profile()\u001b[0m -                                 1   0.601        0        1.00\n",
      "\u001b[1;32m[INFO]    ::\u001b[0m \u001b[1;34mutils.py 348 bspline_profile()\u001b[0m - ***********************************************************************************************\n",
      "\u001b[1;32m[INFO]    ::\u001b[0m \u001b[1;34mutils.py 351 bspline_profile()\u001b[0m - Final fit after  1 iterations: reduced_chi =    0.601, rejected =       0, relative_factor =   1.00\n",
      "\u001b[1;32m[INFO]    ::\u001b[0m \u001b[1;34mextract.py 958 fit_profile()\u001b[0m - Iteration#   1\n",
      "\u001b[1;32m[INFO]    ::\u001b[0m \u001b[1;34mextract.py 959 fit_profile()\u001b[0m - Median abs value of trace correction =    0.039\n",
      "\u001b[1;32m[INFO]    ::\u001b[0m \u001b[1;34mextract.py 960 fit_profile()\u001b[0m - Median abs value of width correction =    0.055\n",
      "\u001b[1;32m[INFO]    ::\u001b[0m \u001b[1;34mutils.py 254 bspline_profile()\u001b[0m - Fitting npoly =  1 profile basis functions, nx=9172 pixels\n",
      "\u001b[1;32m[INFO]    ::\u001b[0m \u001b[1;34mutils.py 255 bspline_profile()\u001b[0m - ****************************  Iter  Chi^2  # rejected  Rel. fact   ****************************\n",
      "\u001b[1;32m[INFO]    ::\u001b[0m \u001b[1;34mutils.py 256 bspline_profile()\u001b[0m -                               ----  -----  ----------  --------- \n"
     ]
    },
    {
     "name": "stderr",
     "output_type": "stream",
     "text": [
      "\u001b[1;32m[INFO]    ::\u001b[0m \u001b[1;34mutils.py 342 bspline_profile()\u001b[0m -                                 1   0.613        0        1.00\n",
      "\u001b[1;32m[INFO]    ::\u001b[0m \u001b[1;34mutils.py 348 bspline_profile()\u001b[0m - ***********************************************************************************************\n",
      "\u001b[1;32m[INFO]    ::\u001b[0m \u001b[1;34mutils.py 351 bspline_profile()\u001b[0m - Final fit after  1 iterations: reduced_chi =    0.613, rejected =       0, relative_factor =   1.00\n",
      "\u001b[1;32m[INFO]    ::\u001b[0m \u001b[1;34mutils.py 254 bspline_profile()\u001b[0m - Fitting npoly =  2 profile basis functions, nx=9172 pixels\n",
      "\u001b[1;32m[INFO]    ::\u001b[0m \u001b[1;34mutils.py 255 bspline_profile()\u001b[0m - ****************************  Iter  Chi^2  # rejected  Rel. fact   ****************************\n",
      "\u001b[1;32m[INFO]    ::\u001b[0m \u001b[1;34mutils.py 256 bspline_profile()\u001b[0m -                               ----  -----  ----------  --------- \n",
      "\u001b[1;32m[INFO]    ::\u001b[0m \u001b[1;34mutils.py 342 bspline_profile()\u001b[0m -                                 1   0.581        0        1.00\n",
      "\u001b[1;32m[INFO]    ::\u001b[0m \u001b[1;34mutils.py 348 bspline_profile()\u001b[0m - ***********************************************************************************************\n",
      "\u001b[1;32m[INFO]    ::\u001b[0m \u001b[1;34mutils.py 351 bspline_profile()\u001b[0m - Final fit after  1 iterations: reduced_chi =    0.581, rejected =       0, relative_factor =   1.00\n",
      "\u001b[1;32m[INFO]    ::\u001b[0m \u001b[1;34mutils.py 254 bspline_profile()\u001b[0m - Fitting npoly =  2 profile basis functions, nx=9172 pixels\n",
      "\u001b[1;32m[INFO]    ::\u001b[0m \u001b[1;34mutils.py 255 bspline_profile()\u001b[0m - ****************************  Iter  Chi^2  # rejected  Rel. fact   ****************************\n",
      "\u001b[1;32m[INFO]    ::\u001b[0m \u001b[1;34mutils.py 256 bspline_profile()\u001b[0m -                               ----  -----  ----------  --------- \n",
      "\u001b[1;32m[INFO]    ::\u001b[0m \u001b[1;34mutils.py 342 bspline_profile()\u001b[0m -                                 1   0.601        0        1.00\n",
      "\u001b[1;32m[INFO]    ::\u001b[0m \u001b[1;34mutils.py 348 bspline_profile()\u001b[0m - ***********************************************************************************************\n",
      "\u001b[1;32m[INFO]    ::\u001b[0m \u001b[1;34mutils.py 351 bspline_profile()\u001b[0m - Final fit after  1 iterations: reduced_chi =    0.601, rejected =       0, relative_factor =   1.00\n",
      "\u001b[1;32m[INFO]    ::\u001b[0m \u001b[1;34mextract.py 958 fit_profile()\u001b[0m - Iteration#   2\n",
      "\u001b[1;32m[INFO]    ::\u001b[0m \u001b[1;34mextract.py 959 fit_profile()\u001b[0m - Median abs value of trace correction =    0.037\n",
      "\u001b[1;32m[INFO]    ::\u001b[0m \u001b[1;34mextract.py 960 fit_profile()\u001b[0m - Median abs value of width correction =    0.039\n",
      "\u001b[1;32m[INFO]    ::\u001b[0m \u001b[1;34mutils.py 254 bspline_profile()\u001b[0m - Fitting npoly =  2 profile basis functions, nx=9172 pixels\n",
      "\u001b[1;32m[INFO]    ::\u001b[0m \u001b[1;34mutils.py 255 bspline_profile()\u001b[0m - ****************************  Iter  Chi^2  # rejected  Rel. fact   ****************************\n",
      "\u001b[1;32m[INFO]    ::\u001b[0m \u001b[1;34mutils.py 256 bspline_profile()\u001b[0m -                               ----  -----  ----------  --------- \n",
      "\u001b[1;32m[INFO]    ::\u001b[0m \u001b[1;34mutils.py 342 bspline_profile()\u001b[0m -                                 1   0.576        0        1.00\n",
      "\u001b[1;32m[INFO]    ::\u001b[0m \u001b[1;34mutils.py 348 bspline_profile()\u001b[0m - ***********************************************************************************************\n",
      "\u001b[1;32m[INFO]    ::\u001b[0m \u001b[1;34mutils.py 351 bspline_profile()\u001b[0m - Final fit after  1 iterations: reduced_chi =    0.576, rejected =       0, relative_factor =   1.00\n",
      "\u001b[1;32m[INFO]    ::\u001b[0m \u001b[1;34mutils.py 254 bspline_profile()\u001b[0m - Fitting npoly =  2 profile basis functions, nx=9172 pixels\n",
      "\u001b[1;32m[INFO]    ::\u001b[0m \u001b[1;34mutils.py 255 bspline_profile()\u001b[0m - ****************************  Iter  Chi^2  # rejected  Rel. fact   ****************************\n",
      "\u001b[1;32m[INFO]    ::\u001b[0m \u001b[1;34mutils.py 256 bspline_profile()\u001b[0m -                               ----  -----  ----------  --------- \n",
      "\u001b[1;32m[INFO]    ::\u001b[0m \u001b[1;34mutils.py 342 bspline_profile()\u001b[0m -                                 1   0.601        0        1.00\n",
      "\u001b[1;32m[INFO]    ::\u001b[0m \u001b[1;34mutils.py 348 bspline_profile()\u001b[0m - ***********************************************************************************************\n",
      "\u001b[1;32m[INFO]    ::\u001b[0m \u001b[1;34mutils.py 351 bspline_profile()\u001b[0m - Final fit after  1 iterations: reduced_chi =    0.601, rejected =       0, relative_factor =   1.00\n",
      "\u001b[1;32m[INFO]    ::\u001b[0m \u001b[1;34mextract.py 958 fit_profile()\u001b[0m - Iteration#   3\n",
      "\u001b[1;32m[INFO]    ::\u001b[0m \u001b[1;34mextract.py 959 fit_profile()\u001b[0m - Median abs value of trace correction =    0.037\n",
      "\u001b[1;32m[INFO]    ::\u001b[0m \u001b[1;34mextract.py 960 fit_profile()\u001b[0m - Median abs value of width correction =    0.030\n",
      "\u001b[1;32m[INFO]    ::\u001b[0m \u001b[1;34mutils.py 254 bspline_profile()\u001b[0m - Fitting npoly =  1 profile basis functions, nx=16707 pixels\n",
      "\u001b[1;32m[INFO]    ::\u001b[0m \u001b[1;34mutils.py 255 bspline_profile()\u001b[0m - ****************************  Iter  Chi^2  # rejected  Rel. fact   ****************************\n",
      "\u001b[1;32m[INFO]    ::\u001b[0m \u001b[1;34mutils.py 256 bspline_profile()\u001b[0m -                               ----  -----  ----------  --------- \n",
      "\u001b[1;32m[INFO]    ::\u001b[0m \u001b[1;34mutils.py 342 bspline_profile()\u001b[0m -                                 1   0.616        0        1.00\n",
      "\u001b[1;32m[INFO]    ::\u001b[0m \u001b[1;34mutils.py 348 bspline_profile()\u001b[0m - ***********************************************************************************************\n",
      "\u001b[1;32m[INFO]    ::\u001b[0m \u001b[1;34mutils.py 351 bspline_profile()\u001b[0m - Final fit after  1 iterations: reduced_chi =    0.616, rejected =       0, relative_factor =   1.00\n",
      "\u001b[1;32m[INFO]    ::\u001b[0m \u001b[1;34mextract.py 1062 fit_profile()\u001b[0m - ----------  Results of Profile Fit ----------\n",
      "\u001b[1;32m[INFO]    ::\u001b[0m \u001b[1;34mextract.py 1065 fit_profile()\u001b[0m -  min(fwhmfit)= 2.80 max(fwhmfit)= 3.97 median(chi)= 0.28 nbkpts=10\n",
      "\u001b[1;32m[INFO]    ::\u001b[0m \u001b[1;34mextract.py 1081 fit_profile()\u001b[0m - FWHM=  2.63, S/N=  11.250\n",
      "\u001b[1;32m[INFO]    ::\u001b[0m \u001b[1;34mskysub.py 281 skyoptimal()\u001b[0m - Iter     Chi^2     Rejected Pts\n",
      "\u001b[1;32m[INFO]    ::\u001b[0m \u001b[1;34mutils.py 254 bspline_profile()\u001b[0m - Fitting npoly =  5 profile basis functions, nx=255234 pixels\n",
      "\u001b[1;32m[INFO]    ::\u001b[0m \u001b[1;34mutils.py 255 bspline_profile()\u001b[0m - ****************************  Iter  Chi^2  # rejected  Rel. fact   ****************************\n",
      "\u001b[1;32m[INFO]    ::\u001b[0m \u001b[1;34mutils.py 256 bspline_profile()\u001b[0m -                               ----  -----  ----------  --------- \n",
      "\u001b[1;32m[INFO]    ::\u001b[0m \u001b[1;34mutils.py 342 bspline_profile()\u001b[0m -                                 1   0.665       19        1.00\n",
      "\u001b[1;32m[INFO]    ::\u001b[0m \u001b[1;34mutils.py 342 bspline_profile()\u001b[0m -                                 2   0.633       19        1.00\n",
      "\u001b[1;32m[INFO]    ::\u001b[0m \u001b[1;34mutils.py 348 bspline_profile()\u001b[0m - ***********************************************************************************************\n",
      "\u001b[1;32m[INFO]    ::\u001b[0m \u001b[1;34mutils.py 351 bspline_profile()\u001b[0m - Final fit after  2 iterations: reduced_chi =    0.633, rejected =      19, relative_factor =   1.00\n",
      "\u001b[1;32m[INFO]    ::\u001b[0m \u001b[1;34mskysub.py 313 skyoptimal()\u001b[0m - 2nd round....\n",
      "\u001b[1;32m[INFO]    ::\u001b[0m \u001b[1;34mskysub.py 314 skyoptimal()\u001b[0m - Iter     Chi^2     Rejected Pts\n",
      "\u001b[1;32m[INFO]    ::\u001b[0m \u001b[1;34mutils.py 254 bspline_profile()\u001b[0m - Fitting npoly =  5 profile basis functions, nx=255234 pixels\n",
      "\u001b[1;32m[INFO]    ::\u001b[0m \u001b[1;34mutils.py 255 bspline_profile()\u001b[0m - ****************************  Iter  Chi^2  # rejected  Rel. fact   ****************************\n",
      "\u001b[1;32m[INFO]    ::\u001b[0m \u001b[1;34mutils.py 256 bspline_profile()\u001b[0m -                               ----  -----  ----------  --------- \n",
      "\u001b[1;32m[INFO]    ::\u001b[0m \u001b[1;34mutils.py 342 bspline_profile()\u001b[0m -                                 1   0.633        7        1.00\n",
      "\u001b[1;32m[INFO]    ::\u001b[0m \u001b[1;34mutils.py 348 bspline_profile()\u001b[0m - ***********************************************************************************************\n",
      "\u001b[1;32m[INFO]    ::\u001b[0m \u001b[1;34mutils.py 351 bspline_profile()\u001b[0m - Final fit after  1 iterations: reduced_chi =    0.633, rejected =       7, relative_factor =   1.00\n",
      "\u001b[1;32m[INFO]    ::\u001b[0m \u001b[1;34mskysub.py 586 local_skysub_extract()\u001b[0m - Measured effective rejection from distribution of chi^2\n",
      "\u001b[1;32m[INFO]    ::\u001b[0m \u001b[1;34mskysub.py 588 local_skysub_extract()\u001b[0m - Instead of rejecting sigrej =  3.50, use threshold sigrej_eff =  3.50\n",
      "\u001b[1;32m[INFO]    ::\u001b[0m \u001b[1;34mskysub.py 596 local_skysub_extract()\u001b[0m - Iteration = 2, rejected 255109 of 255234fit pixels\n",
      "\u001b[1;32m[INFO]    ::\u001b[0m \u001b[1;34mskysub.py 454 local_skysub_extract()\u001b[0m - Iteration #  3 of  4\n"
     ]
    },
    {
     "name": "stderr",
     "output_type": "stream",
     "text": [
      "\u001b[1;32m[INFO]    ::\u001b[0m \u001b[1;34mextract.py 688 fit_profile()\u001b[0m - sqrt(med(S/N)^2) = 24.29\n",
      "\u001b[1;32m[INFO]    ::\u001b[0m \u001b[1;34mextract.py 795 fit_profile()\u001b[0m - Gaussian vs b-spline of width   3.29 pixels\n",
      "\u001b[1;32m[INFO]    ::\u001b[0m \u001b[1;34mextract.py 853 fit_profile()\u001b[0m - Bspline FWHM:  2.9601, compared to initial object finding FWHM:  3.2928\n",
      "\u001b[1;32m[INFO]    ::\u001b[0m \u001b[1;34mextract.py 874 fit_profile()\u001b[0m - Trace limits: limit =  2.5792, min_level =  0.0048, l_limit = -2.5594, r_limit =  2.6007\n",
      "\u001b[1;32m[INFO]    ::\u001b[0m \u001b[1;34mutils.py 254 bspline_profile()\u001b[0m - Fitting npoly =  2 profile basis functions, nx=11216 pixels\n",
      "\u001b[1;32m[INFO]    ::\u001b[0m \u001b[1;34mutils.py 255 bspline_profile()\u001b[0m - ****************************  Iter  Chi^2  # rejected  Rel. fact   ****************************\n",
      "\u001b[1;32m[INFO]    ::\u001b[0m \u001b[1;34mutils.py 256 bspline_profile()\u001b[0m -                               ----  -----  ----------  --------- \n",
      "\u001b[1;32m[INFO]    ::\u001b[0m \u001b[1;34mutils.py 342 bspline_profile()\u001b[0m -                                 1   0.847        3        1.00\n",
      "\u001b[1;32m[INFO]    ::\u001b[0m \u001b[1;34mutils.py 342 bspline_profile()\u001b[0m -                                 2   0.838        3        1.00\n",
      "\u001b[1;32m[INFO]    ::\u001b[0m \u001b[1;34mutils.py 348 bspline_profile()\u001b[0m - ***********************************************************************************************\n",
      "\u001b[1;32m[INFO]    ::\u001b[0m \u001b[1;34mutils.py 351 bspline_profile()\u001b[0m - Final fit after  2 iterations: reduced_chi =    0.838, rejected =       3, relative_factor =   1.00\n",
      "\u001b[1;32m[INFO]    ::\u001b[0m \u001b[1;34mutils.py 254 bspline_profile()\u001b[0m - Fitting npoly =  2 profile basis functions, nx=11216 pixels\n",
      "\u001b[1;32m[INFO]    ::\u001b[0m \u001b[1;34mutils.py 255 bspline_profile()\u001b[0m - ****************************  Iter  Chi^2  # rejected  Rel. fact   ****************************\n",
      "\u001b[1;32m[INFO]    ::\u001b[0m \u001b[1;34mutils.py 256 bspline_profile()\u001b[0m -                               ----  -----  ----------  --------- \n",
      "\u001b[1;32m[INFO]    ::\u001b[0m \u001b[1;34mutils.py 342 bspline_profile()\u001b[0m -                                 1   0.700        3        1.00\n",
      "\u001b[1;32m[INFO]    ::\u001b[0m \u001b[1;34mutils.py 342 bspline_profile()\u001b[0m -                                 2   0.690        3        1.00\n",
      "\u001b[1;32m[INFO]    ::\u001b[0m \u001b[1;34mutils.py 348 bspline_profile()\u001b[0m - ***********************************************************************************************\n",
      "\u001b[1;32m[INFO]    ::\u001b[0m \u001b[1;34mutils.py 351 bspline_profile()\u001b[0m - Final fit after  2 iterations: reduced_chi =    0.690, rejected =       3, relative_factor =   1.00\n",
      "\u001b[1;32m[INFO]    ::\u001b[0m \u001b[1;34mextract.py 958 fit_profile()\u001b[0m - Iteration#   1\n",
      "\u001b[1;32m[INFO]    ::\u001b[0m \u001b[1;34mextract.py 959 fit_profile()\u001b[0m - Median abs value of trace correction =    0.016\n",
      "\u001b[1;32m[INFO]    ::\u001b[0m \u001b[1;34mextract.py 960 fit_profile()\u001b[0m - Median abs value of width correction =    0.063\n",
      "\u001b[1;32m[INFO]    ::\u001b[0m \u001b[1;34mutils.py 254 bspline_profile()\u001b[0m - Fitting npoly =  1 profile basis functions, nx=11216 pixels\n",
      "\u001b[1;32m[INFO]    ::\u001b[0m \u001b[1;34mutils.py 255 bspline_profile()\u001b[0m - ****************************  Iter  Chi^2  # rejected  Rel. fact   ****************************\n",
      "\u001b[1;32m[INFO]    ::\u001b[0m \u001b[1;34mutils.py 256 bspline_profile()\u001b[0m -                               ----  -----  ----------  --------- \n",
      "\u001b[1;32m[INFO]    ::\u001b[0m \u001b[1;34mutils.py 342 bspline_profile()\u001b[0m -                                 1   0.714        3        1.00\n",
      "\u001b[1;32m[INFO]    ::\u001b[0m \u001b[1;34mutils.py 342 bspline_profile()\u001b[0m -                                 2   0.704        3        1.00\n",
      "\u001b[1;32m[INFO]    ::\u001b[0m \u001b[1;34mutils.py 348 bspline_profile()\u001b[0m - ***********************************************************************************************\n",
      "\u001b[1;32m[INFO]    ::\u001b[0m \u001b[1;34mutils.py 351 bspline_profile()\u001b[0m - Final fit after  2 iterations: reduced_chi =    0.704, rejected =       3, relative_factor =   1.00\n",
      "\u001b[1;32m[INFO]    ::\u001b[0m \u001b[1;34mutils.py 254 bspline_profile()\u001b[0m - Fitting npoly =  2 profile basis functions, nx=11216 pixels\n",
      "\u001b[1;32m[INFO]    ::\u001b[0m \u001b[1;34mutils.py 255 bspline_profile()\u001b[0m - ****************************  Iter  Chi^2  # rejected  Rel. fact   ****************************\n",
      "\u001b[1;32m[INFO]    ::\u001b[0m \u001b[1;34mutils.py 256 bspline_profile()\u001b[0m -                               ----  -----  ----------  --------- \n",
      "\u001b[1;32m[INFO]    ::\u001b[0m \u001b[1;34mutils.py 342 bspline_profile()\u001b[0m -                                 1   0.675        3        1.00\n",
      "\u001b[1;32m[INFO]    ::\u001b[0m \u001b[1;34mutils.py 342 bspline_profile()\u001b[0m -                                 2   0.665        3        1.00\n",
      "\u001b[1;32m[INFO]    ::\u001b[0m \u001b[1;34mutils.py 348 bspline_profile()\u001b[0m - ***********************************************************************************************\n",
      "\u001b[1;32m[INFO]    ::\u001b[0m \u001b[1;34mutils.py 351 bspline_profile()\u001b[0m - Final fit after  2 iterations: reduced_chi =    0.665, rejected =       3, relative_factor =   1.00\n",
      "\u001b[1;32m[INFO]    ::\u001b[0m \u001b[1;34mutils.py 254 bspline_profile()\u001b[0m - Fitting npoly =  2 profile basis functions, nx=11216 pixels\n",
      "\u001b[1;32m[INFO]    ::\u001b[0m \u001b[1;34mutils.py 255 bspline_profile()\u001b[0m - ****************************  Iter  Chi^2  # rejected  Rel. fact   ****************************\n",
      "\u001b[1;32m[INFO]    ::\u001b[0m \u001b[1;34mutils.py 256 bspline_profile()\u001b[0m -                               ----  -----  ----------  --------- \n",
      "\u001b[1;32m[INFO]    ::\u001b[0m \u001b[1;34mutils.py 342 bspline_profile()\u001b[0m -                                 1   0.698        3        1.00\n",
      "\u001b[1;32m[INFO]    ::\u001b[0m \u001b[1;34mutils.py 342 bspline_profile()\u001b[0m -                                 2   0.688        3        1.00\n",
      "\u001b[1;32m[INFO]    ::\u001b[0m \u001b[1;34mutils.py 348 bspline_profile()\u001b[0m - ***********************************************************************************************\n",
      "\u001b[1;32m[INFO]    ::\u001b[0m \u001b[1;34mutils.py 351 bspline_profile()\u001b[0m - Final fit after  2 iterations: reduced_chi =    0.688, rejected =       3, relative_factor =   1.00\n",
      "\u001b[1;32m[INFO]    ::\u001b[0m \u001b[1;34mextract.py 958 fit_profile()\u001b[0m - Iteration#   2\n",
      "\u001b[1;32m[INFO]    ::\u001b[0m \u001b[1;34mextract.py 959 fit_profile()\u001b[0m - Median abs value of trace correction =    0.018\n",
      "\u001b[1;32m[INFO]    ::\u001b[0m \u001b[1;34mextract.py 960 fit_profile()\u001b[0m - Median abs value of width correction =    0.022\n",
      "\u001b[1;32m[INFO]    ::\u001b[0m \u001b[1;34mutils.py 254 bspline_profile()\u001b[0m - Fitting npoly =  2 profile basis functions, nx=11216 pixels\n",
      "\u001b[1;32m[INFO]    ::\u001b[0m \u001b[1;34mutils.py 255 bspline_profile()\u001b[0m - ****************************  Iter  Chi^2  # rejected  Rel. fact   ****************************\n",
      "\u001b[1;32m[INFO]    ::\u001b[0m \u001b[1;34mutils.py 256 bspline_profile()\u001b[0m -                               ----  -----  ----------  --------- \n",
      "\u001b[1;32m[INFO]    ::\u001b[0m \u001b[1;34mutils.py 342 bspline_profile()\u001b[0m -                                 1   0.676        3        1.00\n",
      "\u001b[1;32m[INFO]    ::\u001b[0m \u001b[1;34mutils.py 342 bspline_profile()\u001b[0m -                                 2   0.666        3        1.00\n",
      "\u001b[1;32m[INFO]    ::\u001b[0m \u001b[1;34mutils.py 348 bspline_profile()\u001b[0m - ***********************************************************************************************\n",
      "\u001b[1;32m[INFO]    ::\u001b[0m \u001b[1;34mutils.py 351 bspline_profile()\u001b[0m - Final fit after  2 iterations: reduced_chi =    0.666, rejected =       3, relative_factor =   1.00\n",
      "\u001b[1;32m[INFO]    ::\u001b[0m \u001b[1;34mutils.py 254 bspline_profile()\u001b[0m - Fitting npoly =  2 profile basis functions, nx=11216 pixels\n",
      "\u001b[1;32m[INFO]    ::\u001b[0m \u001b[1;34mutils.py 255 bspline_profile()\u001b[0m - ****************************  Iter  Chi^2  # rejected  Rel. fact   ****************************\n",
      "\u001b[1;32m[INFO]    ::\u001b[0m \u001b[1;34mutils.py 256 bspline_profile()\u001b[0m -                               ----  -----  ----------  --------- \n",
      "\u001b[1;32m[INFO]    ::\u001b[0m \u001b[1;34mutils.py 342 bspline_profile()\u001b[0m -                                 1   0.699        3        1.00\n",
      "\u001b[1;32m[INFO]    ::\u001b[0m \u001b[1;34mutils.py 342 bspline_profile()\u001b[0m -                                 2   0.689        3        1.00\n",
      "\u001b[1;32m[INFO]    ::\u001b[0m \u001b[1;34mutils.py 348 bspline_profile()\u001b[0m - ***********************************************************************************************\n",
      "\u001b[1;32m[INFO]    ::\u001b[0m \u001b[1;34mutils.py 351 bspline_profile()\u001b[0m - Final fit after  2 iterations: reduced_chi =    0.689, rejected =       3, relative_factor =   1.00\n",
      "\u001b[1;32m[INFO]    ::\u001b[0m \u001b[1;34mextract.py 958 fit_profile()\u001b[0m - Iteration#   3\n",
      "\u001b[1;32m[INFO]    ::\u001b[0m \u001b[1;34mextract.py 959 fit_profile()\u001b[0m - Median abs value of trace correction =    0.019\n",
      "\u001b[1;32m[INFO]    ::\u001b[0m \u001b[1;34mextract.py 960 fit_profile()\u001b[0m - Median abs value of width correction =    0.016\n",
      "\u001b[1;32m[INFO]    ::\u001b[0m \u001b[1;34mutils.py 254 bspline_profile()\u001b[0m - Fitting npoly =  1 profile basis functions, nx=22979 pixels\n",
      "\u001b[1;32m[INFO]    ::\u001b[0m \u001b[1;34mutils.py 255 bspline_profile()\u001b[0m - ****************************  Iter  Chi^2  # rejected  Rel. fact   ****************************\n",
      "\u001b[1;32m[INFO]    ::\u001b[0m \u001b[1;34mutils.py 256 bspline_profile()\u001b[0m -                               ----  -----  ----------  --------- \n"
     ]
    },
    {
     "name": "stderr",
     "output_type": "stream",
     "text": [
      "\u001b[1;32m[INFO]    ::\u001b[0m \u001b[1;34mutils.py 342 bspline_profile()\u001b[0m -                                 1   0.671        0        1.00\n",
      "\u001b[1;32m[INFO]    ::\u001b[0m \u001b[1;34mutils.py 348 bspline_profile()\u001b[0m - ***********************************************************************************************\n",
      "\u001b[1;32m[INFO]    ::\u001b[0m \u001b[1;34mutils.py 351 bspline_profile()\u001b[0m - Final fit after  1 iterations: reduced_chi =    0.671, rejected =       0, relative_factor =   1.00\n",
      "\u001b[1;32m[INFO]    ::\u001b[0m \u001b[1;34mextract.py 1062 fit_profile()\u001b[0m - ----------  Results of Profile Fit ----------\n",
      "\u001b[1;32m[INFO]    ::\u001b[0m \u001b[1;34mextract.py 1065 fit_profile()\u001b[0m -  min(fwhmfit)= 2.65 max(fwhmfit)= 3.65 median(chi)= 0.30 nbkpts=12\n",
      "\u001b[1;32m[INFO]    ::\u001b[0m \u001b[1;34mextract.py 1081 fit_profile()\u001b[0m - FWHM=  3.29, S/N=  24.290\n",
      "\u001b[1;32m[INFO]    ::\u001b[0m \u001b[1;34mextract.py 688 fit_profile()\u001b[0m - sqrt(med(S/N)^2) = 11.14\n",
      "\u001b[1;32m[INFO]    ::\u001b[0m \u001b[1;34mextract.py 795 fit_profile()\u001b[0m - Gaussian vs b-spline of width   3.01 pixels\n",
      "\u001b[1;32m[INFO]    ::\u001b[0m \u001b[1;34mextract.py 853 fit_profile()\u001b[0m - Bspline FWHM:  2.9562, compared to initial object finding FWHM:  3.0148\n",
      "\u001b[1;32m[INFO]    ::\u001b[0m \u001b[1;34mextract.py 874 fit_profile()\u001b[0m - Trace limits: limit =  2.5623, min_level =  0.0095, l_limit = -2.5580, r_limit =  2.5673\n",
      "\u001b[1;32m[INFO]    ::\u001b[0m \u001b[1;34mutils.py 254 bspline_profile()\u001b[0m - Fitting npoly =  2 profile basis functions, nx=9167 pixels\n",
      "\u001b[1;32m[INFO]    ::\u001b[0m \u001b[1;34mutils.py 255 bspline_profile()\u001b[0m - ****************************  Iter  Chi^2  # rejected  Rel. fact   ****************************\n",
      "\u001b[1;32m[INFO]    ::\u001b[0m \u001b[1;34mutils.py 256 bspline_profile()\u001b[0m -                               ----  -----  ----------  --------- \n",
      "\u001b[1;32m[INFO]    ::\u001b[0m \u001b[1;34mutils.py 342 bspline_profile()\u001b[0m -                                 1   0.586        0        1.00\n",
      "\u001b[1;32m[INFO]    ::\u001b[0m \u001b[1;34mutils.py 348 bspline_profile()\u001b[0m - ***********************************************************************************************\n",
      "\u001b[1;32m[INFO]    ::\u001b[0m \u001b[1;34mutils.py 351 bspline_profile()\u001b[0m - Final fit after  1 iterations: reduced_chi =    0.586, rejected =       0, relative_factor =   1.00\n",
      "\u001b[1;32m[INFO]    ::\u001b[0m \u001b[1;34mutils.py 254 bspline_profile()\u001b[0m - Fitting npoly =  2 profile basis functions, nx=9167 pixels\n",
      "\u001b[1;32m[INFO]    ::\u001b[0m \u001b[1;34mutils.py 255 bspline_profile()\u001b[0m - ****************************  Iter  Chi^2  # rejected  Rel. fact   ****************************\n",
      "\u001b[1;32m[INFO]    ::\u001b[0m \u001b[1;34mutils.py 256 bspline_profile()\u001b[0m -                               ----  -----  ----------  --------- \n",
      "\u001b[1;32m[INFO]    ::\u001b[0m \u001b[1;34mutils.py 342 bspline_profile()\u001b[0m -                                 1   0.599        0        1.00\n",
      "\u001b[1;32m[INFO]    ::\u001b[0m \u001b[1;34mutils.py 348 bspline_profile()\u001b[0m - ***********************************************************************************************\n",
      "\u001b[1;32m[INFO]    ::\u001b[0m \u001b[1;34mutils.py 351 bspline_profile()\u001b[0m - Final fit after  1 iterations: reduced_chi =    0.599, rejected =       0, relative_factor =   1.00\n",
      "\u001b[1;32m[INFO]    ::\u001b[0m \u001b[1;34mextract.py 958 fit_profile()\u001b[0m - Iteration#   1\n",
      "\u001b[1;32m[INFO]    ::\u001b[0m \u001b[1;34mextract.py 959 fit_profile()\u001b[0m - Median abs value of trace correction =    0.037\n",
      "\u001b[1;32m[INFO]    ::\u001b[0m \u001b[1;34mextract.py 960 fit_profile()\u001b[0m - Median abs value of width correction =    0.055\n",
      "\u001b[1;32m[INFO]    ::\u001b[0m \u001b[1;34mutils.py 254 bspline_profile()\u001b[0m - Fitting npoly =  1 profile basis functions, nx=9167 pixels\n",
      "\u001b[1;32m[INFO]    ::\u001b[0m \u001b[1;34mutils.py 255 bspline_profile()\u001b[0m - ****************************  Iter  Chi^2  # rejected  Rel. fact   ****************************\n",
      "\u001b[1;32m[INFO]    ::\u001b[0m \u001b[1;34mutils.py 256 bspline_profile()\u001b[0m -                               ----  -----  ----------  --------- \n",
      "\u001b[1;32m[INFO]    ::\u001b[0m \u001b[1;34mutils.py 342 bspline_profile()\u001b[0m -                                 1   0.618        0        1.00\n",
      "\u001b[1;32m[INFO]    ::\u001b[0m \u001b[1;34mutils.py 348 bspline_profile()\u001b[0m - ***********************************************************************************************\n",
      "\u001b[1;32m[INFO]    ::\u001b[0m \u001b[1;34mutils.py 351 bspline_profile()\u001b[0m - Final fit after  1 iterations: reduced_chi =    0.618, rejected =       0, relative_factor =   1.00\n",
      "\u001b[1;32m[INFO]    ::\u001b[0m \u001b[1;34mutils.py 254 bspline_profile()\u001b[0m - Fitting npoly =  2 profile basis functions, nx=9167 pixels\n",
      "\u001b[1;32m[INFO]    ::\u001b[0m \u001b[1;34mutils.py 255 bspline_profile()\u001b[0m - ****************************  Iter  Chi^2  # rejected  Rel. fact   ****************************\n",
      "\u001b[1;32m[INFO]    ::\u001b[0m \u001b[1;34mutils.py 256 bspline_profile()\u001b[0m -                               ----  -----  ----------  --------- \n",
      "\u001b[1;32m[INFO]    ::\u001b[0m \u001b[1;34mutils.py 342 bspline_profile()\u001b[0m -                                 1   0.573        0        1.00\n",
      "\u001b[1;32m[INFO]    ::\u001b[0m \u001b[1;34mutils.py 348 bspline_profile()\u001b[0m - ***********************************************************************************************\n",
      "\u001b[1;32m[INFO]    ::\u001b[0m \u001b[1;34mutils.py 351 bspline_profile()\u001b[0m - Final fit after  1 iterations: reduced_chi =    0.573, rejected =       0, relative_factor =   1.00\n",
      "\u001b[1;32m[INFO]    ::\u001b[0m \u001b[1;34mutils.py 254 bspline_profile()\u001b[0m - Fitting npoly =  2 profile basis functions, nx=9167 pixels\n",
      "\u001b[1;32m[INFO]    ::\u001b[0m \u001b[1;34mutils.py 255 bspline_profile()\u001b[0m - ****************************  Iter  Chi^2  # rejected  Rel. fact   ****************************\n",
      "\u001b[1;32m[INFO]    ::\u001b[0m \u001b[1;34mutils.py 256 bspline_profile()\u001b[0m -                               ----  -----  ----------  --------- \n",
      "\u001b[1;32m[INFO]    ::\u001b[0m \u001b[1;34mutils.py 342 bspline_profile()\u001b[0m -                                 1   0.598        0        1.00\n",
      "\u001b[1;32m[INFO]    ::\u001b[0m \u001b[1;34mutils.py 348 bspline_profile()\u001b[0m - ***********************************************************************************************\n",
      "\u001b[1;32m[INFO]    ::\u001b[0m \u001b[1;34mutils.py 351 bspline_profile()\u001b[0m - Final fit after  1 iterations: reduced_chi =    0.598, rejected =       0, relative_factor =   1.00\n",
      "\u001b[1;32m[INFO]    ::\u001b[0m \u001b[1;34mextract.py 958 fit_profile()\u001b[0m - Iteration#   2\n",
      "\u001b[1;32m[INFO]    ::\u001b[0m \u001b[1;34mextract.py 959 fit_profile()\u001b[0m - Median abs value of trace correction =    0.037\n",
      "\u001b[1;32m[INFO]    ::\u001b[0m \u001b[1;34mextract.py 960 fit_profile()\u001b[0m - Median abs value of width correction =    0.029\n",
      "\u001b[1;32m[INFO]    ::\u001b[0m \u001b[1;34mutils.py 254 bspline_profile()\u001b[0m - Fitting npoly =  2 profile basis functions, nx=9167 pixels\n",
      "\u001b[1;32m[INFO]    ::\u001b[0m \u001b[1;34mutils.py 255 bspline_profile()\u001b[0m - ****************************  Iter  Chi^2  # rejected  Rel. fact   ****************************\n",
      "\u001b[1;32m[INFO]    ::\u001b[0m \u001b[1;34mutils.py 256 bspline_profile()\u001b[0m -                               ----  -----  ----------  --------- \n",
      "\u001b[1;32m[INFO]    ::\u001b[0m \u001b[1;34mutils.py 342 bspline_profile()\u001b[0m -                                 1   0.573        0        1.00\n",
      "\u001b[1;32m[INFO]    ::\u001b[0m \u001b[1;34mutils.py 348 bspline_profile()\u001b[0m - ***********************************************************************************************\n",
      "\u001b[1;32m[INFO]    ::\u001b[0m \u001b[1;34mutils.py 351 bspline_profile()\u001b[0m - Final fit after  1 iterations: reduced_chi =    0.573, rejected =       0, relative_factor =   1.00\n",
      "\u001b[1;32m[INFO]    ::\u001b[0m \u001b[1;34mutils.py 254 bspline_profile()\u001b[0m - Fitting npoly =  2 profile basis functions, nx=9167 pixels\n",
      "\u001b[1;32m[INFO]    ::\u001b[0m \u001b[1;34mutils.py 255 bspline_profile()\u001b[0m - ****************************  Iter  Chi^2  # rejected  Rel. fact   ****************************\n",
      "\u001b[1;32m[INFO]    ::\u001b[0m \u001b[1;34mutils.py 256 bspline_profile()\u001b[0m -                               ----  -----  ----------  --------- \n",
      "\u001b[1;32m[INFO]    ::\u001b[0m \u001b[1;34mutils.py 342 bspline_profile()\u001b[0m -                                 1   0.599        0        1.00\n",
      "\u001b[1;32m[INFO]    ::\u001b[0m \u001b[1;34mutils.py 348 bspline_profile()\u001b[0m - ***********************************************************************************************\n",
      "\u001b[1;32m[INFO]    ::\u001b[0m \u001b[1;34mutils.py 351 bspline_profile()\u001b[0m - Final fit after  1 iterations: reduced_chi =    0.599, rejected =       0, relative_factor =   1.00\n",
      "\u001b[1;32m[INFO]    ::\u001b[0m \u001b[1;34mextract.py 958 fit_profile()\u001b[0m - Iteration#   3\n",
      "\u001b[1;32m[INFO]    ::\u001b[0m \u001b[1;34mextract.py 959 fit_profile()\u001b[0m - Median abs value of trace correction =    0.037\n",
      "\u001b[1;32m[INFO]    ::\u001b[0m \u001b[1;34mextract.py 960 fit_profile()\u001b[0m - Median abs value of width correction =    0.030\n",
      "\u001b[1;32m[INFO]    ::\u001b[0m \u001b[1;34mutils.py 254 bspline_profile()\u001b[0m - Fitting npoly =  1 profile basis functions, nx=18552 pixels\n",
      "\u001b[1;32m[INFO]    ::\u001b[0m \u001b[1;34mutils.py 255 bspline_profile()\u001b[0m - ****************************  Iter  Chi^2  # rejected  Rel. fact   ****************************\n",
      "\u001b[1;32m[INFO]    ::\u001b[0m \u001b[1;34mutils.py 256 bspline_profile()\u001b[0m -                               ----  -----  ----------  --------- \n"
     ]
    },
    {
     "name": "stderr",
     "output_type": "stream",
     "text": [
      "\u001b[1;32m[INFO]    ::\u001b[0m \u001b[1;34mutils.py 342 bspline_profile()\u001b[0m -                                 1   0.595        0        1.00\n",
      "\u001b[1;32m[INFO]    ::\u001b[0m \u001b[1;34mutils.py 348 bspline_profile()\u001b[0m - ***********************************************************************************************\n",
      "\u001b[1;32m[INFO]    ::\u001b[0m \u001b[1;34mutils.py 351 bspline_profile()\u001b[0m - Final fit after  1 iterations: reduced_chi =    0.595, rejected =       0, relative_factor =   1.00\n",
      "\u001b[1;32m[INFO]    ::\u001b[0m \u001b[1;34mextract.py 1062 fit_profile()\u001b[0m - ----------  Results of Profile Fit ----------\n",
      "\u001b[1;32m[INFO]    ::\u001b[0m \u001b[1;34mextract.py 1065 fit_profile()\u001b[0m -  min(fwhmfit)= 2.56 max(fwhmfit)= 3.35 median(chi)= 0.28 nbkpts=10\n",
      "\u001b[1;32m[INFO]    ::\u001b[0m \u001b[1;34mextract.py 1081 fit_profile()\u001b[0m - FWHM=  3.01, S/N=  11.144\n",
      "\u001b[1;32m[INFO]    ::\u001b[0m \u001b[1;34mskysub.py 281 skyoptimal()\u001b[0m - Iter     Chi^2     Rejected Pts\n",
      "\u001b[1;32m[INFO]    ::\u001b[0m \u001b[1;34mutils.py 254 bspline_profile()\u001b[0m - Fitting npoly =  5 profile basis functions, nx=255234 pixels\n",
      "\u001b[1;32m[INFO]    ::\u001b[0m \u001b[1;34mutils.py 255 bspline_profile()\u001b[0m - ****************************  Iter  Chi^2  # rejected  Rel. fact   ****************************\n",
      "\u001b[1;32m[INFO]    ::\u001b[0m \u001b[1;34mutils.py 256 bspline_profile()\u001b[0m -                               ----  -----  ----------  --------- \n",
      "\u001b[1;32m[INFO]    ::\u001b[0m \u001b[1;34mutils.py 342 bspline_profile()\u001b[0m -                                 1   0.659       18        1.00\n",
      "\u001b[1;32m[INFO]    ::\u001b[0m \u001b[1;34mutils.py 342 bspline_profile()\u001b[0m -                                 2   0.628       18        1.00\n",
      "\u001b[1;32m[INFO]    ::\u001b[0m \u001b[1;34mutils.py 348 bspline_profile()\u001b[0m - ***********************************************************************************************\n",
      "\u001b[1;32m[INFO]    ::\u001b[0m \u001b[1;34mutils.py 351 bspline_profile()\u001b[0m - Final fit after  2 iterations: reduced_chi =    0.628, rejected =      18, relative_factor =   1.00\n",
      "\u001b[1;32m[INFO]    ::\u001b[0m \u001b[1;34mskysub.py 313 skyoptimal()\u001b[0m - 2nd round....\n",
      "\u001b[1;32m[INFO]    ::\u001b[0m \u001b[1;34mskysub.py 314 skyoptimal()\u001b[0m - Iter     Chi^2     Rejected Pts\n",
      "\u001b[1;32m[INFO]    ::\u001b[0m \u001b[1;34mutils.py 254 bspline_profile()\u001b[0m - Fitting npoly =  5 profile basis functions, nx=255234 pixels\n",
      "\u001b[1;32m[INFO]    ::\u001b[0m \u001b[1;34mutils.py 255 bspline_profile()\u001b[0m - ****************************  Iter  Chi^2  # rejected  Rel. fact   ****************************\n",
      "\u001b[1;32m[INFO]    ::\u001b[0m \u001b[1;34mutils.py 256 bspline_profile()\u001b[0m -                               ----  -----  ----------  --------- \n",
      "\u001b[1;32m[INFO]    ::\u001b[0m \u001b[1;34mutils.py 342 bspline_profile()\u001b[0m -                                 1   0.628        7        1.00\n",
      "\u001b[1;32m[INFO]    ::\u001b[0m \u001b[1;34mutils.py 348 bspline_profile()\u001b[0m - ***********************************************************************************************\n",
      "\u001b[1;32m[INFO]    ::\u001b[0m \u001b[1;34mutils.py 351 bspline_profile()\u001b[0m - Final fit after  1 iterations: reduced_chi =    0.628, rejected =       7, relative_factor =   1.00\n",
      "\u001b[1;32m[INFO]    ::\u001b[0m \u001b[1;34mskysub.py 586 local_skysub_extract()\u001b[0m - Measured effective rejection from distribution of chi^2\n",
      "\u001b[1;32m[INFO]    ::\u001b[0m \u001b[1;34mskysub.py 588 local_skysub_extract()\u001b[0m - Instead of rejecting sigrej =  3.50, use threshold sigrej_eff =  3.50\n",
      "\u001b[1;32m[INFO]    ::\u001b[0m \u001b[1;34mskysub.py 596 local_skysub_extract()\u001b[0m - Iteration = 3, rejected 255109 of 255234fit pixels\n",
      "\u001b[1;32m[INFO]    ::\u001b[0m \u001b[1;34mskysub.py 608 local_skysub_extract()\u001b[0m - Extracting for obj # 1 of 2 on slit # 1 at x = 78.22\n",
      "\u001b[1;32m[INFO]    ::\u001b[0m \u001b[1;34mskysub.py 608 local_skysub_extract()\u001b[0m - Extracting for obj # 2 of 2 on slit # 1 at x = 135.92\n"
     ]
    }
   ],
   "source": [
    "sobjs = lrisb.extract_one()"
   ]
  },
  {
   "cell_type": "code",
   "execution_count": 26,
   "metadata": {},
   "outputs": [
    {
     "data": {
      "text/plain": [
       "['shape',\n",
       " 'slit_spat_pos',\n",
       " 'slit_spec_pos',\n",
       " 'setup',\n",
       " 'slitid',\n",
       " 'scidx',\n",
       " 'det',\n",
       " 'objtype',\n",
       " 'config',\n",
       " 'objid',\n",
       " 'idx',\n",
       " 'spat_fracpos',\n",
       " 'smash_peakflux',\n",
       " 'trace_spat',\n",
       " 'trace_spec',\n",
       " 'fwhm',\n",
       " 'spat_pixpos',\n",
       " 'maskwidth',\n",
       " 'mincol',\n",
       " 'maxcol',\n",
       " 'prof_nsigma',\n",
       " 'fwhmfit',\n",
       " 'hand_extract_spec',\n",
       " 'hand_extract_spat',\n",
       " 'hand_extract_det',\n",
       " 'hand_extract_fwhm',\n",
       " 'hand_extract_flag',\n",
       " 'boxcar',\n",
       " 'optimal']"
      ]
     },
     "execution_count": 26,
     "metadata": {},
     "output_type": "execute_result"
    }
   ],
   "source": [
    "sobjs.keys()"
   ]
  },
  {
   "cell_type": "code",
   "execution_count": 28,
   "metadata": {},
   "outputs": [
    {
     "data": {
      "text/plain": [
       "{'CHI2': array([0.36460378, 0.51381186, 0.58744555, ..., 0.98973185, 0.42545303,\n",
       "        0.61464163]),\n",
       " 'COUNTS': array([ 17.29987569,  -8.17168971,  -4.70714164, ..., 825.18020561,\n",
       "        792.34745124, 880.36289619]),\n",
       " 'COUNTS_IVAR': array([0.01082552, 0.00933488, 0.0096946 , ..., 0.00078264, 0.0008055 ,\n",
       "        0.00073547]),\n",
       " 'COUNTS_NIVAR': array([0.00948877, 0.01024049, 0.01028494, ..., 0.002776  , 0.0027951 ,\n",
       "        0.00263128]),\n",
       " 'COUNTS_RN': array([9.33518489, 9.33512179, 9.33505835, ..., 8.14458717, 8.14445569,\n",
       "        8.14432137]),\n",
       " 'COUNTS_SKY': array([ 15.14707623,  22.88154992,  23.30202676, ..., 319.31133065,\n",
       "        316.85118724, 339.12649726]),\n",
       " 'FRAC_USE': array([0.99998543, 0.99998544, 0.99998546, ..., 0.99999962, 0.99999962,\n",
       "        0.99999962]),\n",
       " 'MASK': array([ True,  True,  True, ...,  True,  True,  True]),\n",
       " 'WAVE': array([3102.09736808, 3103.19623601, 3104.29540881, ..., 5601.25985601,\n",
       "        5602.47931712, 5603.69869765])}"
      ]
     },
     "execution_count": 28,
     "metadata": {},
     "output_type": "execute_result"
    }
   ],
   "source": [
    "sobjs['optimal'][0]"
   ]
  },
  {
   "cell_type": "markdown",
   "metadata": {},
   "source": [
    "----"
   ]
  },
  {
   "cell_type": "code",
   "execution_count": 19,
   "metadata": {
    "collapsed": true
   },
   "outputs": [],
   "source": [
    "import os"
   ]
  },
  {
   "cell_type": "code",
   "execution_count": 20,
   "metadata": {
    "collapsed": true
   },
   "outputs": [],
   "source": [
    "tmp = './'"
   ]
  },
  {
   "cell_type": "code",
   "execution_count": 21,
   "metadata": {
    "collapsed": true
   },
   "outputs": [],
   "source": [
    "tmp2 = 'QA/blah/file.fits'"
   ]
  },
  {
   "cell_type": "code",
   "execution_count": 22,
   "metadata": {},
   "outputs": [
    {
     "data": {
      "text/plain": [
       "'./QA/blah/file.fits'"
      ]
     },
     "execution_count": 22,
     "metadata": {},
     "output_type": "execute_result"
    }
   ],
   "source": [
    "os.path.join(tmp,tmp2)"
   ]
  },
  {
   "cell_type": "code",
   "execution_count": null,
   "metadata": {
    "collapsed": true
   },
   "outputs": [],
   "source": []
  }
 ],
 "metadata": {
  "kernelspec": {
   "display_name": "Python 3",
   "language": "python",
   "name": "python3"
  },
  "language_info": {
   "codemirror_mode": {
    "name": "ipython",
    "version": 3
   },
   "file_extension": ".py",
   "mimetype": "text/x-python",
   "name": "python",
   "nbconvert_exporter": "python",
   "pygments_lexer": "ipython3",
   "version": "3.6.3"
  }
 },
 "nbformat": 4,
 "nbformat_minor": 2
}
