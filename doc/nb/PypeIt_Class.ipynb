{
 "cells": [
  {
   "cell_type": "markdown",
   "metadata": {},
   "source": [
    "# Development of the PypeIt Class [v1]"
   ]
  },
  {
   "cell_type": "code",
   "execution_count": 1,
   "metadata": {
    "collapsed": true
   },
   "outputs": [],
   "source": [
    "# imports\n",
    "from importlib import reload\n",
    "import os\n",
    "\n",
    "from pypeit import pypeit"
   ]
  },
  {
   "cell_type": "markdown",
   "metadata": {},
   "source": [
    "## Setup"
   ]
  },
  {
   "cell_type": "code",
   "execution_count": 2,
   "metadata": {
    "collapsed": true
   },
   "outputs": [],
   "source": [
    "# Path to PYPIT-Development-suite\n",
    "pypdev_path = os.getenv('PYPEIT_DEV')"
   ]
  },
  {
   "cell_type": "code",
   "execution_count": 3,
   "metadata": {
    "collapsed": true
   },
   "outputs": [],
   "source": [
    "setups_path = './tmp'\n",
    "if not os.path.isdir(setups_path):\n",
    "    os.mkdir(setups_path)"
   ]
  },
  {
   "cell_type": "markdown",
   "metadata": {},
   "source": [
    "# LRISb"
   ]
  },
  {
   "cell_type": "markdown",
   "metadata": {},
   "source": [
    "## Instantiate"
   ]
  },
  {
   "cell_type": "code",
   "execution_count": 4,
   "metadata": {
    "collapsed": true
   },
   "outputs": [],
   "source": [
    "lrisb = pypeit.LRISb(setups_path=setups_path)"
   ]
  },
  {
   "cell_type": "code",
   "execution_count": 5,
   "metadata": {},
   "outputs": [
    {
     "data": {
      "text/plain": [
       "<KeckLRISBSpectrograph:  spectrograph=keck_lris_blue, telescope=KECK, camera=LRISb>"
      ]
     },
     "execution_count": 5,
     "metadata": {},
     "output_type": "execute_result"
    }
   ],
   "source": [
    "lrisb.spectrograph"
   ]
  },
  {
   "cell_type": "code",
   "execution_count": 6,
   "metadata": {},
   "outputs": [
    {
     "data": {
      "text/plain": [
       "'keck_lris_blue'"
      ]
     },
     "execution_count": 6,
     "metadata": {},
     "output_type": "execute_result"
    }
   ],
   "source": [
    "lrisb.spectrograph.spectrograph"
   ]
  },
  {
   "cell_type": "markdown",
   "metadata": {},
   "source": [
    "## Setup"
   ]
  },
  {
   "cell_type": "code",
   "execution_count": 7,
   "metadata": {},
   "outputs": [
    {
     "name": "stderr",
     "output_type": "stream",
     "text": [
      "\u001b[1;32m[INFO]    ::\u001b[0m \u001b[1;34mpypeit.py 137 _make_setup_pypeit_file()\u001b[0m - Setup files will be written to: ./tmp/setup_files\n",
      "\u001b[1;32m[INFO]    ::\u001b[0m \u001b[1;34mpypeit.py 153 _make_setup_pypeit_file()\u001b[0m - Wrote template pypeit file: ./tmp/setup_files/keck_lris_blue_2018-Sep-04.pypeit\n",
      "\u001b[1;32m[INFO]    ::\u001b[0m \u001b[1;34mutil.py 433 parse_pypeit_file()\u001b[0m - Loading the reduction file\n",
      "\u001b[1;32m[INFO]    ::\u001b[0m \u001b[1;34mutil.py 458 parse_pypeit_file()\u001b[0m - Found 7 raw data frames\n",
      "\u001b[1;32m[INFO]    ::\u001b[0m \u001b[1;34mutil.py 470 parse_pypeit_file()\u001b[0m - Input file loaded successfully\n",
      "\u001b[1;32m[INFO]    ::\u001b[0m \u001b[1;34mload.py 139 load_headers()\u001b[0m - Successfully loaded headers for file:\n",
      "             /home/xavier/local/Python/PypeIt-development-suite/RAW_DATA/Keck_LRIS_blue/long_600_4000_d560/b150910_2051.fits.gz\n",
      "\u001b[1;32m[INFO]    ::\u001b[0m \u001b[1;34mload.py 139 load_headers()\u001b[0m - Successfully loaded headers for file:\n",
      "             /home/xavier/local/Python/PypeIt-development-suite/RAW_DATA/Keck_LRIS_blue/long_600_4000_d560/b150910_2070.fits.gz\n",
      "\u001b[1;32m[INFO]    ::\u001b[0m \u001b[1;34mload.py 139 load_headers()\u001b[0m - Successfully loaded headers for file:\n",
      "             /home/xavier/local/Python/PypeIt-development-suite/RAW_DATA/Keck_LRIS_blue/long_600_4000_d560/b150910_2037.fits.gz\n",
      "\u001b[1;32m[INFO]    ::\u001b[0m \u001b[1;34mload.py 139 load_headers()\u001b[0m - Successfully loaded headers for file:\n",
      "             /home/xavier/local/Python/PypeIt-development-suite/RAW_DATA/Keck_LRIS_blue/long_600_4000_d560/b150910_2033.fits.gz\n",
      "\u001b[1;32m[INFO]    ::\u001b[0m \u001b[1;34mload.py 139 load_headers()\u001b[0m - Successfully loaded headers for file:\n",
      "             /home/xavier/local/Python/PypeIt-development-suite/RAW_DATA/Keck_LRIS_blue/long_600_4000_d560/b150910_2083.fits.gz\n",
      "\u001b[1;32m[INFO]    ::\u001b[0m \u001b[1;34mload.py 139 load_headers()\u001b[0m - Successfully loaded headers for file:\n",
      "             /home/xavier/local/Python/PypeIt-development-suite/RAW_DATA/Keck_LRIS_blue/long_600_4000_d560/b150910_2038.fits.gz\n",
      "\u001b[1;32m[INFO]    ::\u001b[0m \u001b[1;34mload.py 139 load_headers()\u001b[0m - Successfully loaded headers for file:\n",
      "             /home/xavier/local/Python/PypeIt-development-suite/RAW_DATA/Keck_LRIS_blue/long_600_4000_d560/b150910_2036.fits.gz\n",
      "\u001b[1;32m[INFO]    ::\u001b[0m \u001b[1;34mload.py 142 load_headers()\u001b[0m - Checking spectrograph settings for required header information\n",
      "\u001b[1;32m[INFO]    ::\u001b[0m \u001b[1;34mload.py 153 load_headers()\u001b[0m - Headers loaded for 7 files successfully\n",
      "\u001b[1;32m[INFO]    ::\u001b[0m \u001b[1;34mfsort.py 103 type_data()\u001b[0m - Typing files\n",
      "\u001b[1;32m[INFO]    ::\u001b[0m \u001b[1;34mfsort.py 197 type_data()\u001b[0m - Typing completed!\n",
      "\u001b[1;32m[INFO]    ::\u001b[0m \u001b[1;34mpypeitsetup.py 326 type_data()\u001b[0m - Adding file type information to the fitstbl\n"
     ]
    },
    {
     "name": "stdout",
     "output_type": "stream",
     "text": [
      "WRITING: ./tmp/setup_files\n"
     ]
    },
    {
     "name": "stderr",
     "output_type": "stream",
     "text": [
      "\u001b[1;32m[INFO]    ::\u001b[0m \u001b[1;34mfsort.py 479 write_lst()\u001b[0m - Preparing to write out the data sorting details\n",
      "\u001b[1;32m[INFO]    ::\u001b[0m \u001b[1;34mfsort.py 856 match_to_science()\u001b[0m - Matching calibrations to Science frames\n",
      "\u001b[1;32m[INFO]    ::\u001b[0m \u001b[1;34mfsort.py 864 match_to_science()\u001b[0m - =================================================\n",
      "\u001b[1;32m[INFO]    ::\u001b[0m \u001b[1;34mfsort.py 866 match_to_science()\u001b[0m - Matching calibrations to s2: b150910_2070.fits.gz\n",
      "\u001b[1;32m[INFO]    ::\u001b[0m \u001b[1;34mfsort.py 920 match_to_science()\u001b[0m -   Found 1 arc frame for s2 (1 required)\n",
      "\u001b[1;32m[INFO]    ::\u001b[0m \u001b[1;34mfsort.py 920 match_to_science()\u001b[0m -   Found 3 bias frame for s2 (0 required)\n",
      "\u001b[1;32m[INFO]    ::\u001b[0m \u001b[1;34mfsort.py 879 match_to_science()\u001b[0m -   Dark frames not required.  Not matching..\n",
      "\u001b[1;32m[INFO]    ::\u001b[0m \u001b[1;34mfsort.py 904 match_to_science()\u001b[0m - No matching criteria for pinhole frames with this instrument\n",
      "\u001b[1;32m[INFO]    ::\u001b[0m \u001b[1;34mfsort.py 920 match_to_science()\u001b[0m -   Found 0 pinhole frame for s2 (0 required)\n",
      "\u001b[1;32m[INFO]    ::\u001b[0m \u001b[1;34mfsort.py 920 match_to_science()\u001b[0m -   Found 1 pixelflat frame for s2 (0 required)\n",
      "\u001b[1;32m[INFO]    ::\u001b[0m \u001b[1;34mfsort.py 920 match_to_science()\u001b[0m -   Found 1 standard frame for s2 (0 required)\n",
      "\u001b[1;32m[INFO]    ::\u001b[0m \u001b[1;34mfsort.py 920 match_to_science()\u001b[0m -   Found 1 trace frame for s2 (0 required)\n",
      "\u001b[1;32m[INFO]    ::\u001b[0m \u001b[1;34mfsort.py 941 match_to_science()\u001b[0m - Science frames successfully matched to calibration frames\n",
      "\u001b[1;32m[INFO]    ::\u001b[0m \u001b[1;34mpypeitsetup.py 206 build_group_dict()\u001b[0m - Wrote group dict to ./tmp/setup_files/keck_lris_blue_2018-Sep-04.sorted\n",
      "\u001b[1;32m[INFO]    ::\u001b[0m \u001b[1;34mpypeitsetup.py 469 run()\u001b[0m - Setup is complete.\n",
      "\u001b[1;32m[INFO]    ::\u001b[0m \u001b[1;34mpypeitsetup.py 470 run()\u001b[0m - Inspect the .setups file\n",
      "\u001b[1;32m[INFO]    ::\u001b[0m \u001b[1;34mpypeit.py 252 print_end_time()\u001b[0m - Data reduction execution time: 2.09s\n"
     ]
    }
   ],
   "source": [
    "files_root = os.path.join(pypdev_path, 'RAW_DATA', 'Keck_LRIS_blue', 'long_600_4000_d560','b150910_')\n",
    "lrisb.build_setup_files(files_root)"
   ]
  },
  {
   "cell_type": "markdown",
   "metadata": {},
   "source": [
    "## Custom PypeIt files (one per setup)"
   ]
  },
  {
   "cell_type": "code",
   "execution_count": 8,
   "metadata": {},
   "outputs": [
    {
     "name": "stdout",
     "output_type": "stream",
     "text": [
      "Wrote ./tmp/keck_lris_blue_setup_A/keck_lris_blue_setup_A.pypeit\n"
     ]
    },
    {
     "name": "stderr",
     "output_type": "stream",
     "text": [
      "\u001b[1;32m[INFO]    ::\u001b[0m \u001b[1;34mutil.py 433 parse_pypeit_file()\u001b[0m - Loading the reduction file\n",
      "\u001b[1;32m[INFO]    ::\u001b[0m \u001b[1;34mutil.py 458 parse_pypeit_file()\u001b[0m - Found 7 raw data frames\n",
      "\u001b[1;32m[INFO]    ::\u001b[0m \u001b[1;34mutil.py 470 parse_pypeit_file()\u001b[0m - Input file loaded successfully\n"
     ]
    }
   ],
   "source": [
    "lrisb.build_custom_pypeitfiles()"
   ]
  },
  {
   "cell_type": "markdown",
   "metadata": {},
   "source": [
    "## Copy over 'cooked' PypeIt file to deal with pixel flat, etc.  [or edit the one generated]\n",
    "\n",
    "### Note that you will likely need to modify the path to the file after it is copied.  No obvious way around this..\n",
    "\n",
    "    [calibrations]\n",
    "        [[biasframe]]\n",
    "            useframe = overscan\n",
    "        [[pixelflatframe]]\n",
    "            number = 0\n",
    "        [[traceframe]]\n",
    "            number = 1\n",
    "        [[flatfield]]\n",
    "            frame = /home/xavier/Projects/Python/PypeIt-development-suite/CALIBS/PYPEIT_LRISb_pixflat_B600_2x2_17sep2009.fits.gz"
   ]
  },
  {
   "cell_type": "code",
   "execution_count": 9,
   "metadata": {},
   "outputs": [
    {
     "data": {
      "text/plain": [
       "'./tmp/keck_lris_blue_setup_A/keck_lris_blue_setup_A.pypeit'"
      ]
     },
     "execution_count": 9,
     "metadata": {},
     "output_type": "execute_result"
    }
   ],
   "source": [
    "import shutil\n",
    "shutil.copy2(os.path.join(pypdev_path, 'pypeit_files', 'keck_lris_blue_long_600_4000_d560.pypeit'),\n",
    "             os.path.join(setups_path,'keck_lris_blue_setup_A','keck_lris_blue_setup_A.pypeit'))"
   ]
  },
  {
   "cell_type": "markdown",
   "metadata": {},
   "source": [
    "## Init a Setup"
   ]
  },
  {
   "cell_type": "code",
   "execution_count": 10,
   "metadata": {
    "collapsed": true
   },
   "outputs": [],
   "source": [
    "pypeit_file = os.path.join(setups_path,'keck_lris_blue_setup_A','keck_lris_blue_setup_A.pypeit')\n",
    "redux_dir = os.path.join(setups_path,'keck_lris_blue_setup_A')"
   ]
  },
  {
   "cell_type": "code",
   "execution_count": 11,
   "metadata": {},
   "outputs": [
    {
     "name": "stderr",
     "output_type": "stream",
     "text": [
      "\u001b[1;32m[INFO]    ::\u001b[0m \u001b[1;34mutil.py 433 parse_pypeit_file()\u001b[0m - Loading the reduction file\n",
      "\u001b[1;32m[INFO]    ::\u001b[0m \u001b[1;34mutil.py 458 parse_pypeit_file()\u001b[0m - Found 7 raw data frames\n",
      "\u001b[1;32m[INFO]    ::\u001b[0m \u001b[1;34mutil.py 470 parse_pypeit_file()\u001b[0m - Input file loaded successfully\n",
      "\u001b[1;32m[INFO]    ::\u001b[0m \u001b[1;34mload.py 139 load_headers()\u001b[0m - Successfully loaded headers for file:\n",
      "             /home/xavier/local/Python/PypeIt-development-suite/RAW_DATA/Keck_LRIS_blue/long_600_4000_d560/b150910_2033.fits.gz\n",
      "\u001b[1;32m[INFO]    ::\u001b[0m \u001b[1;34mload.py 139 load_headers()\u001b[0m - Successfully loaded headers for file:\n",
      "             /home/xavier/local/Python/PypeIt-development-suite/RAW_DATA/Keck_LRIS_blue/long_600_4000_d560/b150910_2036.fits.gz\n",
      "\u001b[1;32m[INFO]    ::\u001b[0m \u001b[1;34mload.py 139 load_headers()\u001b[0m - Successfully loaded headers for file:\n",
      "             /home/xavier/local/Python/PypeIt-development-suite/RAW_DATA/Keck_LRIS_blue/long_600_4000_d560/b150910_2037.fits.gz\n",
      "\u001b[1;32m[INFO]    ::\u001b[0m \u001b[1;34mload.py 139 load_headers()\u001b[0m - Successfully loaded headers for file:\n",
      "             /home/xavier/local/Python/PypeIt-development-suite/RAW_DATA/Keck_LRIS_blue/long_600_4000_d560/b150910_2038.fits.gz\n",
      "\u001b[1;32m[INFO]    ::\u001b[0m \u001b[1;34mload.py 139 load_headers()\u001b[0m - Successfully loaded headers for file:\n",
      "             /home/xavier/local/Python/PypeIt-development-suite/RAW_DATA/Keck_LRIS_blue/long_600_4000_d560/b150910_2051.fits.gz\n",
      "\u001b[1;32m[INFO]    ::\u001b[0m \u001b[1;34mload.py 139 load_headers()\u001b[0m - Successfully loaded headers for file:\n",
      "             /home/xavier/local/Python/PypeIt-development-suite/RAW_DATA/Keck_LRIS_blue/long_600_4000_d560/b150910_2070.fits.gz\n",
      "\u001b[1;32m[INFO]    ::\u001b[0m \u001b[1;34mload.py 139 load_headers()\u001b[0m - Successfully loaded headers for file:\n",
      "             /home/xavier/local/Python/PypeIt-development-suite/RAW_DATA/Keck_LRIS_blue/long_600_4000_d560/b150910_2083.fits.gz\n",
      "\u001b[1;32m[INFO]    ::\u001b[0m \u001b[1;34mload.py 142 load_headers()\u001b[0m - Checking spectrograph settings for required header information\n",
      "\u001b[1;32m[INFO]    ::\u001b[0m \u001b[1;34mload.py 153 load_headers()\u001b[0m - Headers loaded for 7 files successfully\n",
      "\u001b[1;32m[INFO]    ::\u001b[0m \u001b[1;34mfsort.py 103 type_data()\u001b[0m - Typing files\n",
      "\u001b[1;32m[INFO]    ::\u001b[0m \u001b[1;34mpypeitsetup.py 326 type_data()\u001b[0m - Adding file type information to the fitstbl\n",
      "\u001b[1;32m[INFO]    ::\u001b[0m \u001b[1;34mfsort.py 856 match_to_science()\u001b[0m - Matching calibrations to Science frames\n",
      "\u001b[1;32m[INFO]    ::\u001b[0m \u001b[1;34mfsort.py 864 match_to_science()\u001b[0m - =================================================\n",
      "\u001b[1;32m[INFO]    ::\u001b[0m \u001b[1;34mfsort.py 866 match_to_science()\u001b[0m - Matching calibrations to s2: b150910_2070.fits.gz\n",
      "\u001b[1;32m[INFO]    ::\u001b[0m \u001b[1;34mfsort.py 920 match_to_science()\u001b[0m -   Found 1 arc frame for s2 (1 required)\n",
      "\u001b[1;32m[INFO]    ::\u001b[0m \u001b[1;34mfsort.py 920 match_to_science()\u001b[0m -   Found 3 bias frame for s2 (5 required)\n",
      "\u001b[1;31m[WARNING] ::\u001b[0m \u001b[1;34mfsort.py 985 match_warnings()\u001b[0m -   Only 3/5 bias frames for s2\n",
      "\u001b[1;32m[INFO]    ::\u001b[0m \u001b[1;34mfsort.py 879 match_to_science()\u001b[0m -   Dark frames not required.  Not matching..\n",
      "\u001b[1;32m[INFO]    ::\u001b[0m \u001b[1;34mfsort.py 897 match_to_science()\u001b[0m -    No pinhole frames are required.  Not matching..\n",
      "\u001b[1;32m[INFO]    ::\u001b[0m \u001b[1;34mfsort.py 897 match_to_science()\u001b[0m -    No pixelflat frames are required.  Not matching..\n",
      "\u001b[1;32m[INFO]    ::\u001b[0m \u001b[1;34mfsort.py 920 match_to_science()\u001b[0m -   Found 1 standard frame for s2 (1 required)\n",
      "\u001b[1;32m[INFO]    ::\u001b[0m \u001b[1;34mfsort.py 920 match_to_science()\u001b[0m -   Found 1 trace frame for s2 (1 required)\n",
      "\u001b[1;32m[INFO]    ::\u001b[0m \u001b[1;34mfsort.py 941 match_to_science()\u001b[0m - Science frames successfully matched to calibration frames\n",
      "\u001b[1;32m[INFO]    ::\u001b[0m \u001b[1;34mpypeitsetup.py 459 run()\u001b[0m - Inspect the .calib file: ./tmp/keck_lris_blue_setup_A/keck_lris_blue_setup_A.calib\n",
      "\u001b[1;32m[INFO]    ::\u001b[0m \u001b[1;34mpypeitsetup.py 460 run()\u001b[0m - *********************************************************\n",
      "\u001b[1;32m[INFO]    ::\u001b[0m \u001b[1;34mpypeitsetup.py 461 run()\u001b[0m - Calibration check complete and successful!\n",
      "\u001b[1;32m[INFO]    ::\u001b[0m \u001b[1;34mpypeitsetup.py 462 run()\u001b[0m - Set 'run calcheck False' to continue with data reduction\n",
      "\u001b[1;32m[INFO]    ::\u001b[0m \u001b[1;34mpypeitsetup.py 463 run()\u001b[0m - *********************************************************\n",
      "\u001b[1;32m[INFO]    ::\u001b[0m \u001b[1;34mpypeit.py 128 init_setup()\u001b[0m - Setting reduction path to ./tmp/keck_lris_blue_setup_A\n",
      "\u001b[1;32m[INFO]    ::\u001b[0m \u001b[1;34mfsort.py 1119 make_dirs()\u001b[0m - Creating Science directory\n",
      "\u001b[1;32m[INFO]    ::\u001b[0m \u001b[1;34mfsort.py 1142 make_dirs()\u001b[0m - Creating Object directories\n",
      "\u001b[1;32m[INFO]    ::\u001b[0m \u001b[1;34mfsort.py 1180 make_dirs()\u001b[0m - Creating Master Calibrations directory\n",
      "\u001b[1;32m[INFO]    ::\u001b[0m \u001b[1;34mfsort.py 1202 make_dirs()\u001b[0m - Creating QA directory\n"
     ]
    }
   ],
   "source": [
    "lrisb.init_setup(pypeit_file, redux_dir, calibration_check=True)"
   ]
  },
  {
   "cell_type": "markdown",
   "metadata": {},
   "source": [
    "## Calibrate"
   ]
  },
  {
   "cell_type": "code",
   "execution_count": null,
   "metadata": {
    "collapsed": true
   },
   "outputs": [],
   "source": []
  }
 ],
 "metadata": {
  "kernelspec": {
   "display_name": "Python 3",
   "language": "python",
   "name": "python3"
  },
  "language_info": {
   "codemirror_mode": {
    "name": "ipython",
    "version": 3
   },
   "file_extension": ".py",
   "mimetype": "text/x-python",
   "name": "python",
   "nbconvert_exporter": "python",
   "pygments_lexer": "ipython3",
   "version": "3.6.3"
  }
 },
 "nbformat": 4,
 "nbformat_minor": 2
}
