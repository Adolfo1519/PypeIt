{
 "cells": [
  {
   "cell_type": "markdown",
   "metadata": {},
   "source": [
    "# Development of the PypeIt Class [v1]"
   ]
  },
  {
   "cell_type": "code",
   "execution_count": 1,
   "metadata": {},
   "outputs": [],
   "source": [
    "# imports\n",
    "from importlib import reload\n",
    "import os\n",
    "\n",
    "from pypeit import pypeit"
   ]
  },
  {
   "cell_type": "markdown",
   "metadata": {},
   "source": [
    "## Setup"
   ]
  },
  {
   "cell_type": "code",
   "execution_count": 2,
   "metadata": {},
   "outputs": [],
   "source": [
    "# Path to PYPIT-Development-suite\n",
    "pypdev_path = os.getenv('PYPEIT_DEV')"
   ]
  },
  {
   "cell_type": "code",
   "execution_count": 3,
   "metadata": {
    "collapsed": true
   },
   "outputs": [],
   "source": [
    "redux_path = './tmp'\n",
    "if not os.path.isdir(redux_path):\n",
    "    os.mkdir(redux_path)"
   ]
  },
  {
   "cell_type": "markdown",
   "metadata": {},
   "source": [
    "## LRISb"
   ]
  },
  {
   "cell_type": "markdown",
   "metadata": {},
   "source": [
    "### Instantiate"
   ]
  },
  {
   "cell_type": "code",
   "execution_count": 4,
   "metadata": {
    "collapsed": true
   },
   "outputs": [],
   "source": [
    "lrisb = pypeit.LRISb()"
   ]
  },
  {
   "cell_type": "code",
   "execution_count": 5,
   "metadata": {},
   "outputs": [
    {
     "data": {
      "text/plain": [
       "<KeckLRISBSpectrograph:  spectrograph=keck_lris_blue, telescope=KECK, camera=LRISb>"
      ]
     },
     "execution_count": 5,
     "metadata": {},
     "output_type": "execute_result"
    }
   ],
   "source": [
    "lrisb.spectrograph"
   ]
  },
  {
   "cell_type": "code",
   "execution_count": null,
   "metadata": {},
   "outputs": [
    {
     "data": {
      "text/plain": [
       "'keck_lris_blue'"
      ]
     },
     "execution_count": 6,
     "metadata": {},
     "output_type": "execute_result"
    }
   ],
   "source": [
    "lrisb.spectrograph.spectrograph"
   ]
  },
  {
   "cell_type": "markdown",
   "metadata": {},
   "source": [
    "### Setup"
   ]
  },
  {
   "cell_type": "code",
   "execution_count": null,
   "metadata": {},
   "outputs": [
    {
     "name": "stderr",
     "output_type": "stream",
     "text": [
      "\u001b[1;32m[INFO]    ::\u001b[0m \u001b[1;34mpypeit.py 111 _make_setup_pypeit_file()\u001b[0m - Setup files will be written to: ./tmp/setup_files\n",
      "\u001b[1;32m[INFO]    ::\u001b[0m \u001b[1;34mpypeit.py 127 _make_setup_pypeit_file()\u001b[0m - Wrote template pypeit file: ./tmp/setup_files/keck_lris_blue_2018-Sep-01.pypeit\n",
      "\u001b[1;32m[INFO]    ::\u001b[0m \u001b[1;34mutil.py 431 parse_pypeit_file()\u001b[0m - Loading the reduction file\n",
      "\u001b[1;32m[INFO]    ::\u001b[0m \u001b[1;34mutil.py 456 parse_pypeit_file()\u001b[0m - Found 7 raw data frames\n",
      "\u001b[1;32m[INFO]    ::\u001b[0m \u001b[1;34mutil.py 468 parse_pypeit_file()\u001b[0m - Input file loaded successfully\n",
      "\u001b[1;32m[INFO]    ::\u001b[0m \u001b[1;34mload.py 139 load_headers()\u001b[0m - Successfully loaded headers for file:\n",
      "             /home/xavier/local/Python/PypeIt-development-suite/RAW_DATA/Keck_LRIS_blue/long_600_4000_d560/b150910_2051.fits.gz\n",
      "\u001b[1;32m[INFO]    ::\u001b[0m \u001b[1;34mload.py 139 load_headers()\u001b[0m - Successfully loaded headers for file:\n",
      "             /home/xavier/local/Python/PypeIt-development-suite/RAW_DATA/Keck_LRIS_blue/long_600_4000_d560/b150910_2070.fits.gz\n",
      "\u001b[1;32m[INFO]    ::\u001b[0m \u001b[1;34mload.py 139 load_headers()\u001b[0m - Successfully loaded headers for file:\n",
      "             /home/xavier/local/Python/PypeIt-development-suite/RAW_DATA/Keck_LRIS_blue/long_600_4000_d560/b150910_2037.fits.gz\n",
      "\u001b[1;32m[INFO]    ::\u001b[0m \u001b[1;34mload.py 139 load_headers()\u001b[0m - Successfully loaded headers for file:\n",
      "             /home/xavier/local/Python/PypeIt-development-suite/RAW_DATA/Keck_LRIS_blue/long_600_4000_d560/b150910_2033.fits.gz\n",
      "\u001b[1;32m[INFO]    ::\u001b[0m \u001b[1;34mload.py 139 load_headers()\u001b[0m - Successfully loaded headers for file:\n",
      "             /home/xavier/local/Python/PypeIt-development-suite/RAW_DATA/Keck_LRIS_blue/long_600_4000_d560/b150910_2083.fits.gz\n",
      "\u001b[1;32m[INFO]    ::\u001b[0m \u001b[1;34mload.py 139 load_headers()\u001b[0m - Successfully loaded headers for file:\n",
      "             /home/xavier/local/Python/PypeIt-development-suite/RAW_DATA/Keck_LRIS_blue/long_600_4000_d560/b150910_2038.fits.gz\n",
      "\u001b[1;32m[INFO]    ::\u001b[0m \u001b[1;34mload.py 139 load_headers()\u001b[0m - Successfully loaded headers for file:\n",
      "             /home/xavier/local/Python/PypeIt-development-suite/RAW_DATA/Keck_LRIS_blue/long_600_4000_d560/b150910_2036.fits.gz\n",
      "\u001b[1;32m[INFO]    ::\u001b[0m \u001b[1;34mload.py 142 load_headers()\u001b[0m - Checking spectrograph settings for required header information\n",
      "\u001b[1;32m[INFO]    ::\u001b[0m \u001b[1;34mload.py 153 load_headers()\u001b[0m - Headers loaded for 7 files successfully\n",
      "\u001b[1;32m[INFO]    ::\u001b[0m \u001b[1;34mfsort.py 103 type_data()\u001b[0m - Typing files\n",
      "\u001b[1;32m[INFO]    ::\u001b[0m \u001b[1;34mfsort.py 182 type_data()\u001b[0m - Couldn't identify the following files:\n",
      "\u001b[1;32m[INFO]    ::\u001b[0m \u001b[1;34mfsort.py 184 type_data()\u001b[0m - b150910_2033.fits.gz\n",
      "\u001b[1;32m[INFO]    ::\u001b[0m \u001b[1;34mfsort.py 184 type_data()\u001b[0m - b150910_2036.fits.gz\n",
      "\u001b[1;32m[INFO]    ::\u001b[0m \u001b[1;34mfsort.py 184 type_data()\u001b[0m - b150910_2037.fits.gz\n",
      "\u001b[1;32m[INFO]    ::\u001b[0m \u001b[1;34mfsort.py 184 type_data()\u001b[0m - b150910_2038.fits.gz\n",
      "\u001b[1;32m[INFO]    ::\u001b[0m \u001b[1;34mfsort.py 184 type_data()\u001b[0m - b150910_2051.fits.gz\n",
      "\u001b[1;32m[INFO]    ::\u001b[0m \u001b[1;34mfsort.py 184 type_data()\u001b[0m - b150910_2070.fits.gz\n",
      "\u001b[1;32m[INFO]    ::\u001b[0m \u001b[1;34mfsort.py 184 type_data()\u001b[0m - b150910_2083.fits.gz\n",
      "\u001b[1;32m[INFO]    ::\u001b[0m \u001b[1;34mfsort.py 197 type_data()\u001b[0m - Typing completed!\n",
      "\u001b[1;32m[INFO]    ::\u001b[0m \u001b[1;34mpypeitsetup.py 327 type_data()\u001b[0m - Adding file type information to the fitstbl\n",
      "\u001b[1;32m[INFO]    ::\u001b[0m \u001b[1;34mfsort.py 479 write_lst()\u001b[0m - Preparing to write out the data sorting details\n",
      "\u001b[1;32m[INFO]    ::\u001b[0m \u001b[1;34mfsort.py 856 match_to_science()\u001b[0m - Matching calibrations to Science frames\n",
      "\u001b[1;32m[INFO]    ::\u001b[0m \u001b[1;34mfsort.py 941 match_to_science()\u001b[0m - Science frames successfully matched to calibration frames\n"
     ]
    },
    {
     "name": "stdout",
     "output_type": "stream",
     "text": [
      "WRITING: ./tmp/setup_files\n",
      "> /home/xavier/local/Python/PypeIt/pypeit/pypeitsetup.py(203)build_group_dict()\n",
      "-> if len(self.group_dict) > 0:\n",
      "(Pdb) self.group_dict\n",
      "{}\n",
      "(Pdb) self.fitstbl\n",
      "<Table length=7>\n",
      "                                          directory                                            ...\n",
      "                                            str94                                              ...\n",
      "---------------------------------------------------------------------------------------------- ...\n",
      "/home/xavier/local/Python/PypeIt-development-suite/RAW_DATA/Keck_LRIS_blue/long_600_4000_d560/ ...\n",
      "/home/xavier/local/Python/PypeIt-development-suite/RAW_DATA/Keck_LRIS_blue/long_600_4000_d560/ ...\n",
      "/home/xavier/local/Python/PypeIt-development-suite/RAW_DATA/Keck_LRIS_blue/long_600_4000_d560/ ...\n",
      "/home/xavier/local/Python/PypeIt-development-suite/RAW_DATA/Keck_LRIS_blue/long_600_4000_d560/ ...\n",
      "/home/xavier/local/Python/PypeIt-development-suite/RAW_DATA/Keck_LRIS_blue/long_600_4000_d560/ ...\n",
      "/home/xavier/local/Python/PypeIt-development-suite/RAW_DATA/Keck_LRIS_blue/long_600_4000_d560/ ...\n",
      "/home/xavier/local/Python/PypeIt-development-suite/RAW_DATA/Keck_LRIS_blue/long_600_4000_d560/ ...\n",
      "(Pdb) self.setupIDs\n",
      "[]\n",
      "(Pdb) self.fitstbl.keys()\n",
      "['directory', 'filename', 'utc', 'target', 'idname', 'time', 'date', 'ra', 'dec', 'airmass', 'binning', 'exptime', 'decker', 'dichroic', 'dispname', 'hatch', 'filter1', 'instrume', 'arc', 'bias', 'dark', 'pinhole', 'pixelflat', 'science', 'standard', 'trace', 'unknown', 'failures', 'sci_ID']\n",
      "(Pdb) self.fitstbl['science']\n",
      "<Column name='science' dtype='bool' length=7>\n",
      "False\n",
      "False\n",
      "False\n",
      "False\n",
      "False\n",
      "False\n",
      "False\n",
      "(Pdb) self.fitstbl[-2]\n",
      "<Row index=-2>\n",
      "                                          directory                                                  filename           utc     target idname      time             date             ra         dec      airmass   binning exptime  decker  dichroic dispname hatch filter1    instrume     arc   bias  dark pinhole pixelflat science standard trace unknown failures sci_ID\n",
      "                                            str94                                                     str20            str11    str11   str4     float64           str19           str11       str11     float64     str3   int64    str8     str3     str8    str6   str5      str14       bool  bool  bool   bool     bool     bool    bool    bool   bool    bool   int64 \n",
      "---------------------------------------------------------------------------------------------- -------------------- ----------- ------ ------ ------------- ------------------- ----------- ----------- ---------- ------- ------- -------- -------- -------- ----- ------- -------------- ----- ----- ----- ------- --------- ------- -------- ----- ------- -------- ------\n",
      "/home/xavier/local/Python/PypeIt-development-suite/RAW_DATA/Keck_LRIS_blue/long_600_4000_d560/ b150910_2070.fits.gz 05:33:36.73     s2   dark 1374605.56022 2015-09-10T05:43:39 14:42:31.87 +01:37:32.2 1.86208228     2,2     600 long_1.0      560 600/4000  open   clear keck_lris_blue False False False   False     False   False    False False    True    False      0\n",
      "(Pdb) self.fitstbl['unknown']\n",
      "<Column name='unknown' dtype='bool' length=7>\n",
      "True\n",
      "True\n",
      "True\n",
      "True\n",
      "True\n",
      "True\n",
      "True\n"
     ]
    }
   ],
   "source": [
    "files_root = os.path.join(pypdev_path, 'RAW_DATA', 'Keck_LRIS_blue', 'long_600_4000_d560','b150910_')\n",
    "lrisb.build_setup_files(files_root, redux_path=redux_path)"
   ]
  },
  {
   "cell_type": "markdown",
   "metadata": {},
   "source": [
    "### Custom PypeIt files (one per setup)"
   ]
  },
  {
   "cell_type": "code",
   "execution_count": null,
   "metadata": {
    "collapsed": true
   },
   "outputs": [],
   "source": []
  }
 ],
 "metadata": {
  "kernelspec": {
   "display_name": "Python 3",
   "language": "python",
   "name": "python3"
  },
  "language_info": {
   "codemirror_mode": {
    "name": "ipython",
    "version": 3
   },
   "file_extension": ".py",
   "mimetype": "text/x-python",
   "name": "python",
   "nbconvert_exporter": "python",
   "pygments_lexer": "ipython3",
   "version": "3.6.3"
  }
 },
 "nbformat": 4,
 "nbformat_minor": 2
}
