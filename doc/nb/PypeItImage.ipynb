{
 "cells": [
  {
   "cell_type": "markdown",
   "metadata": {},
   "source": [
    "# PypeItImage Class\n",
    "    v1 -- With a data model\n",
    "    v2 -- With mask as an attribute"
   ]
  },
  {
   "cell_type": "code",
   "execution_count": 1,
   "metadata": {},
   "outputs": [],
   "source": [
    "# imports\n",
    "from importlib import reload\n",
    "import numpy as np\n",
    "\n",
    "from astropy.io import fits\n",
    "\n",
    "from pypeit.images import pypeitimage"
   ]
  },
  {
   "cell_type": "markdown",
   "metadata": {},
   "source": [
    "# Instantiate"
   ]
  },
  {
   "cell_type": "markdown",
   "metadata": {},
   "source": [
    "## Correctly"
   ]
  },
  {
   "cell_type": "code",
   "execution_count": 2,
   "metadata": {},
   "outputs": [],
   "source": [
    "reload(pypeitimage)\n",
    "pypeitImage = pypeitimage.PypeItImage(np.ones((1000,1000)))"
   ]
  },
  {
   "cell_type": "code",
   "execution_count": 3,
   "metadata": {},
   "outputs": [
    {
     "data": {
      "text/plain": [
       "array([[1., 1., 1., ..., 1., 1., 1.],\n",
       "       [1., 1., 1., ..., 1., 1., 1.],\n",
       "       [1., 1., 1., ..., 1., 1., 1.],\n",
       "       ...,\n",
       "       [1., 1., 1., ..., 1., 1., 1.],\n",
       "       [1., 1., 1., ..., 1., 1., 1.],\n",
       "       [1., 1., 1., ..., 1., 1., 1.]])"
      ]
     },
     "execution_count": 3,
     "metadata": {},
     "output_type": "execute_result"
    }
   ],
   "source": [
    "pypeitImage.image"
   ]
  },
  {
   "cell_type": "code",
   "execution_count": 4,
   "metadata": {},
   "outputs": [],
   "source": [
    "pypeitImage.mask.fullmask = np.zeros((1000,1000), dtype=np.int64)"
   ]
  },
  {
   "cell_type": "code",
   "execution_count": 5,
   "metadata": {},
   "outputs": [],
   "source": [
    "pypeitImage.BIN_SPEC = 2"
   ]
  },
  {
   "cell_type": "markdown",
   "metadata": {},
   "source": [
    "## Incorrectly"
   ]
  },
  {
   "cell_type": "code",
   "execution_count": 6,
   "metadata": {},
   "outputs": [],
   "source": [
    "try:\n",
    "    pypeitImage = pypeitimage.PypeItImage('blah')\n",
    "except TypeError:\n",
    "    pass"
   ]
  },
  {
   "cell_type": "code",
   "execution_count": 7,
   "metadata": {},
   "outputs": [
    {
     "name": "stdout",
     "output_type": "stream",
     "text": [
      "Wrong data type for array: bpm\n",
      "Allowed type(s) for the array are: <class 'numpy.integer'>\n"
     ]
    }
   ],
   "source": [
    "try:\n",
    "    pypeitImage.mask.bpm = np.zeros((1000,1000), dtype=np.float32)\n",
    "except IOError:\n",
    "    pass"
   ]
  },
  {
   "cell_type": "code",
   "execution_count": 8,
   "metadata": {},
   "outputs": [],
   "source": [
    "assert pypeitImage.ivar is None"
   ]
  },
  {
   "cell_type": "markdown",
   "metadata": {},
   "source": [
    "# I/O"
   ]
  },
  {
   "cell_type": "code",
   "execution_count": 9,
   "metadata": {},
   "outputs": [
    {
     "data": {
      "text/plain": [
       "<PypeItImage:  images={'image': True, 'ivar': False, 'rn2img': False}>"
      ]
     },
     "execution_count": 9,
     "metadata": {},
     "output_type": "execute_result"
    }
   ],
   "source": [
    "pypeitImage"
   ]
  },
  {
   "cell_type": "code",
   "execution_count": 10,
   "metadata": {},
   "outputs": [
    {
     "data": {
      "text/plain": [
       "<ImageMask:  images={'bpm': False, 'crmask': False, 'fullmask': True}>"
      ]
     },
     "execution_count": 10,
     "metadata": {},
     "output_type": "execute_result"
    }
   ],
   "source": [
    "pypeitImage.mask"
   ]
  },
  {
   "cell_type": "markdown",
   "metadata": {},
   "source": [
    "## Save"
   ]
  },
  {
   "cell_type": "code",
   "execution_count": 11,
   "metadata": {},
   "outputs": [],
   "source": [
    "d = pypeitImage._bundle()"
   ]
  },
  {
   "cell_type": "code",
   "execution_count": 12,
   "metadata": {},
   "outputs": [
    {
     "data": {
      "text/plain": [
       "[{'image': array([[1., 1., 1., ..., 1., 1., 1.],\n",
       "         [1., 1., 1., ..., 1., 1., 1.],\n",
       "         [1., 1., 1., ..., 1., 1., 1.],\n",
       "         ...,\n",
       "         [1., 1., 1., ..., 1., 1., 1.],\n",
       "         [1., 1., 1., ..., 1., 1., 1.],\n",
       "         [1., 1., 1., ..., 1., 1., 1.]]), 'BIN_SPEC': 2}]"
      ]
     },
     "execution_count": 12,
     "metadata": {},
     "output_type": "execute_result"
    }
   ],
   "source": [
    "d"
   ]
  },
  {
   "cell_type": "code",
   "execution_count": 13,
   "metadata": {},
   "outputs": [],
   "source": [
    "hdul = pypeitImage.to_hdu()"
   ]
  },
  {
   "cell_type": "code",
   "execution_count": 14,
   "metadata": {},
   "outputs": [
    {
     "data": {
      "text/plain": [
       "[<astropy.io.fits.hdu.image.ImageHDU at 0x7f9616a27dd8>]"
      ]
     },
     "execution_count": 14,
     "metadata": {},
     "output_type": "execute_result"
    }
   ],
   "source": [
    "hdul"
   ]
  },
  {
   "cell_type": "code",
   "execution_count": 15,
   "metadata": {},
   "outputs": [
    {
     "name": "stdout",
     "output_type": "stream",
     "text": [
      "File written to: tmp.fits\n"
     ]
    }
   ],
   "source": [
    "pypeitImage.to_file('tmp.fits', overwrite=True)"
   ]
  },
  {
   "cell_type": "code",
   "execution_count": 16,
   "metadata": {},
   "outputs": [
    {
     "name": "stdout",
     "output_type": "stream",
     "text": [
      "Filename: tmp.fits\n",
      "No.    Name      Ver    Type      Cards   Dimensions   Format\n",
      "  0  PRIMARY       1 PrimaryHDU      13   ()      \n",
      "  1  IMAGE         1 ImageHDU        20   (1000, 1000)   float64   \n",
      "  2  FULLMASK      1 ImageHDU        19   (1000, 1000)   int64   \n"
     ]
    }
   ],
   "source": [
    "hdul = fits.open('tmp.fits')\n",
    "hdul.info()"
   ]
  },
  {
   "cell_type": "code",
   "execution_count": 17,
   "metadata": {
    "scrolled": true
   },
   "outputs": [
    {
     "data": {
      "text/plain": [
       "SIMPLE  =                    T / conforms to FITS standard                      \n",
       "BITPIX  =                    8 / array data type                                \n",
       "NAXIS   =                    0 / number of array dimensions                     \n",
       "EXTEND  =                    T                                                  \n",
       "VERSPYT = '3.7.3   '           / Python version                                 \n",
       "VERSNPY = '1.16.2  '           / Numpy version                                  \n",
       "VERSSCI = '1.3.2   '           / Scipy version                                  \n",
       "VERSAST = '4.0     '           / Astropy version                                \n",
       "VERSSKL = '0.22    '           / Scikit-learn version                           \n",
       "VERSPYP = '0.12.3dev'          / PypeIt version                                 \n",
       "DATE    = '2020-01-31'         / UTC date created                               \n",
       "CHECKSUM= 'NRTEQRR9NRRENRR9'   / HDU checksum updated 2020-01-31T13:58:21       \n",
       "DATASUM = '0       '           / data unit checksum updated 2020-01-31T13:58:21 "
      ]
     },
     "execution_count": 17,
     "metadata": {},
     "output_type": "execute_result"
    }
   ],
   "source": [
    "hdul[0].header"
   ]
  },
  {
   "cell_type": "code",
   "execution_count": 18,
   "metadata": {},
   "outputs": [
    {
     "data": {
      "text/plain": [
       "XTENSION= 'IMAGE   '           / Image extension                                \n",
       "BITPIX  =                  -64 / array data type                                \n",
       "NAXIS   =                    2 / number of array dimensions                     \n",
       "NAXIS1  =                 1000                                                  \n",
       "NAXIS2  =                 1000                                                  \n",
       "PCOUNT  =                    0 / number of parameters                           \n",
       "GCOUNT  =                    1 / number of groups                               \n",
       "VERSPYT = '3.7.3   '           / Python version                                 \n",
       "VERSNPY = '1.16.2  '           / Numpy version                                  \n",
       "VERSSCI = '1.3.2   '           / Scipy version                                  \n",
       "VERSAST = '4.0     '           / Astropy version                                \n",
       "VERSSKL = '0.22    '           / Scikit-learn version                           \n",
       "VERSPYP = '0.12.3dev'          / PypeIt version                                 \n",
       "DATE    = '2020-01-31'         / UTC date created                               \n",
       "DMODCLS = 'PypeItImage'        / Datamodel class                                \n",
       "DMODVER = '1.0.0   '           / Datamodel version                              \n",
       "BIN_SPEC=                    2                                                  \n",
       "EXTNAME = 'IMAGE   '           / extension name                                 \n",
       "CHECKSUM= 'DaAgFU7dDZAdDZ5d'   / HDU checksum updated 2020-01-31T13:58:21       \n",
       "DATASUM = '3691237275'         / data unit checksum updated 2020-01-31T13:58:21 "
      ]
     },
     "execution_count": 18,
     "metadata": {},
     "output_type": "execute_result"
    }
   ],
   "source": [
    "hdul[1].header"
   ]
  },
  {
   "cell_type": "code",
   "execution_count": 19,
   "metadata": {},
   "outputs": [
    {
     "data": {
      "text/plain": [
       "XTENSION= 'IMAGE   '           / Image extension                                \n",
       "BITPIX  =                   64 / array data type                                \n",
       "NAXIS   =                    2 / number of array dimensions                     \n",
       "NAXIS1  =                 1000                                                  \n",
       "NAXIS2  =                 1000                                                  \n",
       "PCOUNT  =                    0 / number of parameters                           \n",
       "GCOUNT  =                    1 / number of groups                               \n",
       "VERSPYT = '3.7.3   '           / Python version                                 \n",
       "VERSNPY = '1.16.2  '           / Numpy version                                  \n",
       "VERSSCI = '1.3.2   '           / Scipy version                                  \n",
       "VERSAST = '4.0     '           / Astropy version                                \n",
       "VERSSKL = '0.22    '           / Scikit-learn version                           \n",
       "VERSPYP = '0.12.3dev'          / PypeIt version                                 \n",
       "DATE    = '2020-01-31'         / UTC date created                               \n",
       "DMODCLS = 'ImageMask'          / Datamodel class                                \n",
       "DMODVER = '1.0.0   '           / Datamodel version                              \n",
       "EXTNAME = 'FULLMASK'           / extension name                                 \n",
       "CHECKSUM= 'GPfjJPdjGPdjGPdj'   / HDU checksum updated 2020-01-31T13:58:21       \n",
       "DATASUM = '0       '           / data unit checksum updated 2020-01-31T13:58:21 "
      ]
     },
     "execution_count": 19,
     "metadata": {},
     "output_type": "execute_result"
    }
   ],
   "source": [
    "hdul[2].header"
   ]
  },
  {
   "cell_type": "markdown",
   "metadata": {},
   "source": [
    "## Load"
   ]
  },
  {
   "cell_type": "code",
   "execution_count": 20,
   "metadata": {},
   "outputs": [],
   "source": [
    "hdul = fits.open('tmp.fits')"
   ]
  },
  {
   "cell_type": "code",
   "execution_count": 21,
   "metadata": {},
   "outputs": [],
   "source": [
    "reload(pypeitimage)\n",
    "tmp = pypeitimage.PypeItImage._parse(hdul)"
   ]
  },
  {
   "cell_type": "code",
   "execution_count": 22,
   "metadata": {},
   "outputs": [
    {
     "data": {
      "text/plain": [
       "{'image': array([[1., 1., 1., ..., 1., 1., 1.],\n",
       "        [1., 1., 1., ..., 1., 1., 1.],\n",
       "        [1., 1., 1., ..., 1., 1., 1.],\n",
       "        ...,\n",
       "        [1., 1., 1., ..., 1., 1., 1.],\n",
       "        [1., 1., 1., ..., 1., 1., 1.],\n",
       "        [1., 1., 1., ..., 1., 1., 1.]]),\n",
       " 'ivar': None,\n",
       " 'rn2img': None,\n",
       " 'BIN_SPEC': 2,\n",
       " 'BIN_SPAT': None,\n",
       " 'HEAD0': None}"
      ]
     },
     "execution_count": 22,
     "metadata": {},
     "output_type": "execute_result"
    }
   ],
   "source": [
    "tmp"
   ]
  },
  {
   "cell_type": "code",
   "execution_count": 23,
   "metadata": {},
   "outputs": [
    {
     "name": "stdout",
     "output_type": "stream",
     "text": [
      "Filename: tmp.fits\n",
      "No.    Name      Ver    Type      Cards   Dimensions   Format\n",
      "  0  PRIMARY       1 PrimaryHDU      13   ()      \n",
      "  1  IMAGE         1 ImageHDU        20   (1000, 1000)   float64   \n",
      "  2  FULLMASK      1 ImageHDU        19   (1000, 1000)   int64   \n"
     ]
    }
   ],
   "source": [
    "hdul.info()"
   ]
  },
  {
   "cell_type": "code",
   "execution_count": 24,
   "metadata": {},
   "outputs": [],
   "source": [
    "from pypeit.images import maskimage"
   ]
  },
  {
   "cell_type": "code",
   "execution_count": 25,
   "metadata": {},
   "outputs": [],
   "source": [
    "mask = maskimage.ImageMask._parse(hdul)"
   ]
  },
  {
   "cell_type": "code",
   "execution_count": 26,
   "metadata": {},
   "outputs": [
    {
     "data": {
      "text/plain": [
       "{'bpm': None, 'crmask': None, 'fullmask': array([[0, 0, 0, ..., 0, 0, 0],\n",
       "        [0, 0, 0, ..., 0, 0, 0],\n",
       "        [0, 0, 0, ..., 0, 0, 0],\n",
       "        ...,\n",
       "        [0, 0, 0, ..., 0, 0, 0],\n",
       "        [0, 0, 0, ..., 0, 0, 0],\n",
       "        [0, 0, 0, ..., 0, 0, 0]])}"
      ]
     },
     "execution_count": 26,
     "metadata": {},
     "output_type": "execute_result"
    }
   ],
   "source": [
    "mask"
   ]
  },
  {
   "cell_type": "code",
   "execution_count": 27,
   "metadata": {},
   "outputs": [
    {
     "data": {
      "text/plain": [
       "<PypeItImage:  images={'image': True, 'ivar': False, 'rn2img': False}>"
      ]
     },
     "execution_count": 27,
     "metadata": {},
     "output_type": "execute_result"
    }
   ],
   "source": [
    "reload(pypeitimage)\n",
    "pypeitImageB = pypeitimage.PypeItImage.from_file('tmp.fits')\n",
    "pypeitImageB"
   ]
  },
  {
   "cell_type": "code",
   "execution_count": 28,
   "metadata": {},
   "outputs": [
    {
     "data": {
      "text/plain": [
       "SIMPLE  =                    T / conforms to FITS standard                      \n",
       "BITPIX  =                    8 / array data type                                \n",
       "NAXIS   =                    0 / number of array dimensions                     \n",
       "EXTEND  =                    T                                                  \n",
       "VERSPYT = '3.7.3   '           / Python version                                 \n",
       "VERSNPY = '1.16.2  '           / Numpy version                                  \n",
       "VERSSCI = '1.3.2   '           / Scipy version                                  \n",
       "VERSAST = '4.0     '           / Astropy version                                \n",
       "VERSSKL = '0.22    '           / Scikit-learn version                           \n",
       "VERSPYP = '0.12.3dev'          / PypeIt version                                 \n",
       "DATE    = '2020-01-31'         / UTC date created                               \n",
       "CHECKSUM= 'NRTEQRR9NRRENRR9'   / HDU checksum updated 2020-01-31T13:58:21       \n",
       "DATASUM = '0       '           / data unit checksum updated 2020-01-31T13:58:21 "
      ]
     },
     "execution_count": 28,
     "metadata": {},
     "output_type": "execute_result"
    }
   ],
   "source": [
    "pypeitImageB.HEAD0"
   ]
  },
  {
   "cell_type": "code",
   "execution_count": 29,
   "metadata": {},
   "outputs": [
    {
     "data": {
      "text/plain": [
       "<ImageMask:  images={'bpm': False, 'crmask': False, 'fullmask': True}>"
      ]
     },
     "execution_count": 29,
     "metadata": {},
     "output_type": "execute_result"
    }
   ],
   "source": [
    "pypeitImageB.mask"
   ]
  },
  {
   "cell_type": "code",
   "execution_count": 30,
   "metadata": {
    "scrolled": true
   },
   "outputs": [
    {
     "data": {
      "text/plain": [
       "array([[0, 0, 0, ..., 0, 0, 0],\n",
       "       [0, 0, 0, ..., 0, 0, 0],\n",
       "       [0, 0, 0, ..., 0, 0, 0],\n",
       "       ...,\n",
       "       [0, 0, 0, ..., 0, 0, 0],\n",
       "       [0, 0, 0, ..., 0, 0, 0],\n",
       "       [0, 0, 0, ..., 0, 0, 0]])"
      ]
     },
     "execution_count": 30,
     "metadata": {},
     "output_type": "execute_result"
    }
   ],
   "source": [
    "pypeitImage.mask.fullmask"
   ]
  },
  {
   "cell_type": "markdown",
   "metadata": {},
   "source": [
    "----"
   ]
  }
 ],
 "metadata": {
  "kernelspec": {
   "display_name": "Python 3",
   "language": "python",
   "name": "python3"
  },
  "language_info": {
   "codemirror_mode": {
    "name": "ipython",
    "version": 3
   },
   "file_extension": ".py",
   "mimetype": "text/x-python",
   "name": "python",
   "nbconvert_exporter": "python",
   "pygments_lexer": "ipython3",
   "version": "3.7.3"
  }
 },
 "nbformat": 4,
 "nbformat_minor": 2
}
