{
 "cells": [
  {
   "cell_type": "markdown",
   "metadata": {},
   "source": [
    "# PypeItImage Class\n",
    "    v1 -- With a data model"
   ]
  },
  {
   "cell_type": "code",
   "execution_count": 1,
   "metadata": {},
   "outputs": [],
   "source": [
    "# imports\n",
    "from importlib import reload\n",
    "import numpy as np\n",
    "\n",
    "from astropy.io import fits\n",
    "\n",
    "from pypeit.images import pypeitimage"
   ]
  },
  {
   "cell_type": "markdown",
   "metadata": {},
   "source": [
    "# Instantiate"
   ]
  },
  {
   "cell_type": "markdown",
   "metadata": {},
   "source": [
    "## Correctly"
   ]
  },
  {
   "cell_type": "code",
   "execution_count": 2,
   "metadata": {},
   "outputs": [],
   "source": [
    "reload(pypeitimage)\n",
    "pypeitImage = pypeitimage.PypeItImage(np.ones((1000,1000)))"
   ]
  },
  {
   "cell_type": "code",
   "execution_count": 3,
   "metadata": {},
   "outputs": [
    {
     "data": {
      "text/plain": [
       "array([[1., 1., 1., ..., 1., 1., 1.],\n",
       "       [1., 1., 1., ..., 1., 1., 1.],\n",
       "       [1., 1., 1., ..., 1., 1., 1.],\n",
       "       ...,\n",
       "       [1., 1., 1., ..., 1., 1., 1.],\n",
       "       [1., 1., 1., ..., 1., 1., 1.],\n",
       "       [1., 1., 1., ..., 1., 1., 1.]])"
      ]
     },
     "execution_count": 3,
     "metadata": {},
     "output_type": "execute_result"
    }
   ],
   "source": [
    "pypeitImage.image"
   ]
  },
  {
   "cell_type": "code",
   "execution_count": 4,
   "metadata": {},
   "outputs": [],
   "source": [
    "pypeitImage.mask = np.zeros((1000,1000), dtype=np.int64)"
   ]
  },
  {
   "cell_type": "markdown",
   "metadata": {},
   "source": [
    "## Incorrectly"
   ]
  },
  {
   "cell_type": "code",
   "execution_count": 5,
   "metadata": {},
   "outputs": [],
   "source": [
    "try:\n",
    "    pypeitImage = pypeitimage.PypeItImage('blah')\n",
    "except TypeError:\n",
    "    pass"
   ]
  },
  {
   "cell_type": "code",
   "execution_count": 6,
   "metadata": {},
   "outputs": [
    {
     "name": "stdout",
     "output_type": "stream",
     "text": [
      "Wrong data type for array: bpm\n",
      "Allowed type(s) for the array are: <class 'numpy.integer'>\n"
     ]
    }
   ],
   "source": [
    "try:\n",
    "    pypeitImage.bpm = np.zeros((1000,1000), dtype=np.float32)\n",
    "except IOError:\n",
    "    pass"
   ]
  },
  {
   "cell_type": "code",
   "execution_count": 7,
   "metadata": {},
   "outputs": [],
   "source": [
    "assert pypeitImage.ivar is None"
   ]
  },
  {
   "cell_type": "markdown",
   "metadata": {},
   "source": [
    "# I/O"
   ]
  },
  {
   "cell_type": "code",
   "execution_count": 8,
   "metadata": {},
   "outputs": [
    {
     "data": {
      "text/plain": [
       "<PypeItImage:  images={'image': True, 'ivar': False, 'rn2img': False, 'crmask': False, 'mask': True}>"
      ]
     },
     "execution_count": 8,
     "metadata": {},
     "output_type": "execute_result"
    }
   ],
   "source": [
    "pypeitImage"
   ]
  },
  {
   "cell_type": "markdown",
   "metadata": {},
   "source": [
    "## Save"
   ]
  },
  {
   "cell_type": "code",
   "execution_count": 9,
   "metadata": {},
   "outputs": [],
   "source": [
    "pypeitImage.write('tmp.fits')"
   ]
  },
  {
   "cell_type": "code",
   "execution_count": 10,
   "metadata": {},
   "outputs": [
    {
     "name": "stdout",
     "output_type": "stream",
     "text": [
      "Filename: tmp.fits\n",
      "No.    Name      Ver    Type      Cards   Dimensions   Format\n",
      "  0  PRIMARY       1 PrimaryHDU      15   ()      \n",
      "  1  IMAGE         1 ImageHDU        10   (1000, 1000)   float64   \n",
      "  2  MASK          1 ImageHDU        10   (1000, 1000)   int64   \n"
     ]
    }
   ],
   "source": [
    "hdul = fits.open('tmp.fits')\n",
    "hdul.info()"
   ]
  },
  {
   "cell_type": "code",
   "execution_count": 11,
   "metadata": {},
   "outputs": [
    {
     "data": {
      "text/plain": [
       "SIMPLE  =                    T / conforms to FITS standard                      \n",
       "BITPIX  =                    8 / array data type                                \n",
       "NAXIS   =                    0 / number of array dimensions                     \n",
       "EXTEND  =                    T                                                  \n",
       "VERSPYT = '3.7.3   '           / Python version                                 \n",
       "VERSNPY = '1.17.4  '           / Numpy version                                  \n",
       "VERSSCI = '1.3.2   '           / Scipy version                                  \n",
       "VERSAST = '4.0     '           / Astropy version                                \n",
       "VERSSKL = '0.22.1  '           / Scikit-learn version                           \n",
       "VERSPYP = '0.12.3dev'          / PypeIt version                                 \n",
       "DATE    = '2020-01-18'         / UTC date created                               \n",
       "FLAVOR  = 'PypeItImage'                                                         \n",
       "VERSDM  = '1.0.0   '                                                            \n",
       "CHECKSUM= '9Q2AEQ199Q1AEQ19'   / HDU checksum updated 2020-01-17T20:09:09       \n",
       "DATASUM = '0       '           / data unit checksum updated 2020-01-17T20:09:09 "
      ]
     },
     "execution_count": 11,
     "metadata": {},
     "output_type": "execute_result"
    }
   ],
   "source": [
    "hdul[0].header"
   ]
  },
  {
   "cell_type": "markdown",
   "metadata": {},
   "source": [
    "## Load"
   ]
  },
  {
   "cell_type": "code",
   "execution_count": 12,
   "metadata": {},
   "outputs": [],
   "source": [
    "hdul = fits.open('tmp.fits')"
   ]
  },
  {
   "cell_type": "code",
   "execution_count": 13,
   "metadata": {},
   "outputs": [],
   "source": [
    "reload(pypeitimage)\n",
    "tmp = pypeitimage.PypeItImage._parse(hdul)"
   ]
  },
  {
   "cell_type": "code",
   "execution_count": 14,
   "metadata": {},
   "outputs": [
    {
     "data": {
      "text/plain": [
       "{'image': array([[1., 1., 1., ..., 1., 1., 1.],\n",
       "        [1., 1., 1., ..., 1., 1., 1.],\n",
       "        [1., 1., 1., ..., 1., 1., 1.],\n",
       "        ...,\n",
       "        [1., 1., 1., ..., 1., 1., 1.],\n",
       "        [1., 1., 1., ..., 1., 1., 1.],\n",
       "        [1., 1., 1., ..., 1., 1., 1.]]),\n",
       " 'ivar': None,\n",
       " 'rn2img': None,\n",
       " 'bpm': None,\n",
       " 'crmask': None,\n",
       " 'mask': array([[0, 0, 0, ..., 0, 0, 0],\n",
       "        [0, 0, 0, ..., 0, 0, 0],\n",
       "        [0, 0, 0, ..., 0, 0, 0],\n",
       "        ...,\n",
       "        [0, 0, 0, ..., 0, 0, 0],\n",
       "        [0, 0, 0, ..., 0, 0, 0],\n",
       "        [0, 0, 0, ..., 0, 0, 0]]),\n",
       " 'BIN_SPEC': None,\n",
       " 'BIN_SPAT': None,\n",
       " 'HEAD0': None}"
      ]
     },
     "execution_count": 14,
     "metadata": {},
     "output_type": "execute_result"
    }
   ],
   "source": [
    "tmp"
   ]
  },
  {
   "cell_type": "code",
   "execution_count": 15,
   "metadata": {},
   "outputs": [
    {
     "data": {
      "text/plain": [
       "<PypeItImage:  images={'image': True, 'ivar': False, 'rn2img': False, 'crmask': False, 'mask': True}>"
      ]
     },
     "execution_count": 15,
     "metadata": {},
     "output_type": "execute_result"
    }
   ],
   "source": [
    "reload(pypeitimage)\n",
    "pypeitImageB = pypeitimage.PypeItImage.from_file('tmp.fits')\n",
    "pypeitImageB"
   ]
  },
  {
   "cell_type": "code",
   "execution_count": 16,
   "metadata": {},
   "outputs": [
    {
     "data": {
      "text/plain": [
       "SIMPLE  =                    T / conforms to FITS standard                      \n",
       "BITPIX  =                    8 / array data type                                \n",
       "NAXIS   =                    0 / number of array dimensions                     \n",
       "EXTEND  =                    T                                                  \n",
       "VERSPYT = '3.7.3   '           / Python version                                 \n",
       "VERSNPY = '1.17.4  '           / Numpy version                                  \n",
       "VERSSCI = '1.3.2   '           / Scipy version                                  \n",
       "VERSAST = '4.0     '           / Astropy version                                \n",
       "VERSSKL = '0.22.1  '           / Scikit-learn version                           \n",
       "VERSPYP = '0.12.3dev'          / PypeIt version                                 \n",
       "DATE    = '2020-01-18'         / UTC date created                               \n",
       "FLAVOR  = 'PypeItImage'                                                         \n",
       "VERSDM  = '1.0.0   '                                                            \n",
       "CHECKSUM= '9Q2AEQ199Q1AEQ19'   / HDU checksum updated 2020-01-17T20:09:09       \n",
       "DATASUM = '0       '           / data unit checksum updated 2020-01-17T20:09:09 "
      ]
     },
     "execution_count": 16,
     "metadata": {},
     "output_type": "execute_result"
    }
   ],
   "source": [
    "pypeitImageB.HEAD0"
   ]
  },
  {
   "cell_type": "markdown",
   "metadata": {},
   "source": [
    "----"
   ]
  }
 ],
 "metadata": {
  "kernelspec": {
   "display_name": "Python 3",
   "language": "python",
   "name": "python3"
  },
  "language_info": {
   "codemirror_mode": {
    "name": "ipython",
    "version": 3
   },
   "file_extension": ".py",
   "mimetype": "text/x-python",
   "name": "python",
   "nbconvert_exporter": "python",
   "pygments_lexer": "ipython3",
   "version": "3.7.3"
  }
 },
 "nbformat": 4,
 "nbformat_minor": 2
}
