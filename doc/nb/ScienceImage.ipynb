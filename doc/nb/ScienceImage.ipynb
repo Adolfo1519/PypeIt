{
 "cells": [
  {
   "cell_type": "markdown",
   "metadata": {},
   "source": [
    "# Working with the ScienceImage Class [v1]"
   ]
  },
  {
   "cell_type": "code",
   "execution_count": 32,
   "metadata": {
    "collapsed": true
   },
   "outputs": [],
   "source": [
    "# imports\n",
    "import os\n",
    "import numpy as np\n",
    "from importlib import reload"
   ]
  },
  {
   "cell_type": "code",
   "execution_count": 3,
   "metadata": {
    "collapsed": true
   },
   "outputs": [],
   "source": [
    "# Path to PYPIT-Development-suite\n",
    "pypdev_path = os.getenv('PYPIT_DEV')"
   ]
  },
  {
   "cell_type": "markdown",
   "metadata": {},
   "source": [
    "----"
   ]
  },
  {
   "cell_type": "markdown",
   "metadata": {},
   "source": [
    "# Development"
   ]
  },
  {
   "cell_type": "code",
   "execution_count": 80,
   "metadata": {},
   "outputs": [],
   "source": [
    "from pypit.core import arprocimg\n",
    "from pypit import biasframe\n",
    "from pypit import flatfield\n",
    "from pypit import processimages\n",
    "from pypit import scienceimage\n",
    "from pypit import traceslits\n",
    "from pypit import waveimage\n",
    "from pypit import wavetilts"
   ]
  },
  {
   "cell_type": "markdown",
   "metadata": {},
   "source": [
    "## Settings"
   ]
  },
  {
   "cell_type": "code",
   "execution_count": 67,
   "metadata": {
    "collapsed": true
   },
   "outputs": [],
   "source": [
    "settings = dict(masters={})\n",
    "settings['masters']['directory'] = pypdev_path+'/Cooked/MF_shane_kast_blue'\n",
    "settings['masters']['reuse'] = True\n",
    "settings['masters']['loaded'] = []\n",
    "#\n",
    "setup = 'A_01_aa'\n",
    "#\n",
    "settings['combine'] = {}"
   ]
  },
  {
   "cell_type": "code",
   "execution_count": 68,
   "metadata": {
    "collapsed": true
   },
   "outputs": [],
   "source": [
    "spectrograph = 'shane_kast_blue'\n",
    "det = 1"
   ]
  },
  {
   "cell_type": "code",
   "execution_count": 123,
   "metadata": {},
   "outputs": [],
   "source": [
    "settings['detector'] = {}\n",
    "settings['detector']['num'] = det\n",
    "settings['detector']['dataext'] = 0\n",
    "settings['detector']['datasec01'] = [[0, 1024], [0, 0]]\n",
    "settings['detector']['datasec02'] = [[1024, 2048], [0, 0]]\n",
    "settings['detector']['oscansec01'] = [[2049, 2080], [0, 0]]\n",
    "settings['detector']['oscansec02'] = [[2080, 2111], [0, 0]]\n",
    "settings['detector']['naxis0'] = 2112  # Raw frame, with overscan\n",
    "settings['detector']['naxis1'] = 350\n",
    "settings['detector']['numamplifiers'] = 2\n",
    "settings['detector']['gain'] = [1.2, 1.2]\n",
    "settings['detector']['ronoise'] = [3.7, 3.7]\n",
    "settings['detector']['saturation'] = 65535.\n",
    "settings['detector']['nonlinear'] = 0.76\n",
    "settings['detector']['dispaxis'] = 1\n",
    "settings['detector']['darkcurr'] = 0."
   ]
  },
  {
   "cell_type": "code",
   "execution_count": 237,
   "metadata": {
    "collapsed": true
   },
   "outputs": [],
   "source": [
    "settings['trace'] = {}\n",
    "settings['trace']['object'] = {}\n",
    "settings['trace']['object']['order'] = 2                # What is the order of the polynomial function to be used to fit the object trace in each slit\n",
    "settings['trace']['object']['function'] = 'legendre'    # What function should be used to trace the object in each slit? (polynomial, legendre, chebyshev)\n",
    "settings['trace']['object']['find'] = 'standard'         # What algorithm to use for finding objects [standard, nminima]\n",
    "settings['trace']['object']['nsmooth'] = 3              # Parameter for Gaussian smoothing when the nminima algorithm is used\n",
    "settings['trace']['object']['xedge'] = 0.03             # Ignore any objects within xedge of the edge of the slit"
   ]
  },
  {
   "cell_type": "code",
   "execution_count": 239,
   "metadata": {},
   "outputs": [],
   "source": [
    "settings['science'] = {}\n",
    "settings['science']['extraction'] = {}\n",
    "settings['science']['extraction']['reuse'] = False          # If the science frame has previously been extracted and saved, load the extractions\n",
    "settings['science']['extraction']['profile'] = 'gaussian'   # Fitting function used to extract science data, only if the extraction is 2D (options are: gaussian, gaussfunc, moffat, moffatfunc) ### NOTE: options with suffix 'func' fits a function to the pixels whereas those without this suffix takes into account the integrated function within each pixel (and is closer to truth)\n",
    "settings['science']['extraction']['maxnumber'] = 999        # Maximum number of objects to extract in a science frame\n",
    "settings['science']['extraction']['manual01'] = {}\n",
    "settings['science']['extraction']['manual01']['frame'] = None\n",
    "settings['science']['extraction']['manual01']['params'] = None # Info for desired extraction [det,x_pixel_location, y_pixel_location,[x_range,y_range]]\n"
   ]
  },
  {
   "cell_type": "markdown",
   "metadata": {},
   "source": [
    "## Load up"
   ]
  },
  {
   "cell_type": "code",
   "execution_count": 60,
   "metadata": {},
   "outputs": [
    {
     "name": "stderr",
     "output_type": "stream",
     "text": [
      "\u001b[1;31m[WARNING] ::\u001b[0m \u001b[1;34mprocessimages.py 108 __init__()\u001b[0m - No information on the spectrograph was given.  Do not attempt to (re)process the images\n",
      "\u001b[1;32m[INFO]    ::\u001b[0m \u001b[1;34marmasters.py 241 _load()\u001b[0m - Loading a pre-existing master calibration frame\n"
     ]
    },
    {
     "data": {
      "text/plain": [
       "(2112, 350)"
      ]
     },
     "execution_count": 60,
     "metadata": {},
     "output_type": "execute_result"
    }
   ],
   "source": [
    "# Bias\n",
    "settings['bias'] = {}\n",
    "settings['bias']['useframe'] = 'bias'\n",
    "#\n",
    "biasFrame = biasframe.BiasFrame(setup=setup, settings=settings)\n",
    "msbias = biasFrame.master()\n",
    "msbias.shape"
   ]
  },
  {
   "cell_type": "code",
   "execution_count": 30,
   "metadata": {},
   "outputs": [
    {
     "name": "stderr",
     "output_type": "stream",
     "text": [
      "\u001b[1;32m[INFO]    ::\u001b[0m \u001b[1;34mtraceslits.py 520 _make_pixel_arrays()\u001b[0m - Converting physical trace locations to nearest pixel\n",
      "\u001b[1;32m[INFO]    ::\u001b[0m \u001b[1;34mtraceslits.py 527 _make_pixel_arrays()\u001b[0m - Identifying the pixels belonging to each slit\n"
     ]
    },
    {
     "data": {
      "text/plain": [
       "True"
      ]
     },
     "execution_count": 30,
     "metadata": {},
     "output_type": "execute_result"
    }
   ],
   "source": [
    "# Traceslits\n",
    "settings.update(traceslits.default_settings().copy())\n",
    "traceSlits = traceslits.TraceSlits(None, None, setup=setup, settings=settings)\n",
    "traceSlits.master()"
   ]
  },
  {
   "cell_type": "code",
   "execution_count": 13,
   "metadata": {},
   "outputs": [
    {
     "name": "stderr",
     "output_type": "stream",
     "text": [
      "\u001b[1;32m[INFO]    ::\u001b[0m \u001b[1;34marmasters.py 241 _load()\u001b[0m - Loading a pre-existing master calibration frame\n"
     ]
    },
    {
     "data": {
      "text/plain": [
       "(2048, 350)"
      ]
     },
     "execution_count": 13,
     "metadata": {},
     "output_type": "execute_result"
    }
   ],
   "source": [
    "# Wavelengths\n",
    "waveImage = waveimage.WaveImage(setup=setup, settings=settings)\n",
    "wave = waveImage.master()\n",
    "wave.shape"
   ]
  },
  {
   "cell_type": "code",
   "execution_count": 17,
   "metadata": {},
   "outputs": [
    {
     "name": "stderr",
     "output_type": "stream",
     "text": [
      "\u001b[1;32m[INFO]    ::\u001b[0m \u001b[1;34marmasters.py 241 _load()\u001b[0m - Loading a pre-existing master calibration frame\n"
     ]
    },
    {
     "data": {
      "text/plain": [
       "(2048, 350)"
      ]
     },
     "execution_count": 17,
     "metadata": {},
     "output_type": "execute_result"
    }
   ],
   "source": [
    "# Tilts\n",
    "waveTilts = wavetilts.WaveTilts(None, setup=setup, settings=settings)\n",
    "tilts = waveTilts.master()\n",
    "tilts.shape"
   ]
  },
  {
   "cell_type": "code",
   "execution_count": 62,
   "metadata": {},
   "outputs": [
    {
     "name": "stderr",
     "output_type": "stream",
     "text": [
      "\u001b[1;31m[WARNING] ::\u001b[0m \u001b[1;34mprocessimages.py 108 __init__()\u001b[0m - No information on the spectrograph was given.  Do not attempt to (re)process the images\n",
      "\u001b[1;32m[INFO]    ::\u001b[0m \u001b[1;34marmasters.py 241 _load()\u001b[0m - Loading a pre-existing master calibration frame\n"
     ]
    }
   ],
   "source": [
    "# Flat\n",
    "flatField = flatfield.FlatField(settings=settings, setup=setup)\n",
    "msflat = flatField.master()"
   ]
  },
  {
   "cell_type": "code",
   "execution_count": 33,
   "metadata": {},
   "outputs": [],
   "source": [
    "# Maskslits\n",
    "maskslits = np.array([False])"
   ]
  },
  {
   "cell_type": "code",
   "execution_count": 49,
   "metadata": {},
   "outputs": [
    {
     "data": {
      "text/plain": [
       "(2048, 350)"
      ]
     },
     "execution_count": 49,
     "metadata": {},
     "output_type": "execute_result"
    }
   ],
   "source": [
    "# datasec image\n",
    "reload(arprocimg)\n",
    "datasec_img = damg.get_datasec_trimmed(\n",
    "    spectrograph, None, settings['detector']['num'], settings['detector'],\n",
    "    naxis0=settings['detector']['naxis0'],\n",
    "    naxis1=settings['detector']['naxis1'])\n",
    "datasec_img.shape"
   ]
  },
  {
   "cell_type": "code",
   "execution_count": 89,
   "metadata": {
    "collapsed": true
   },
   "outputs": [],
   "source": [
    "# BPM\n",
    "bpm = np.zeros_like(datasec_img)"
   ]
  },
  {
   "cell_type": "markdown",
   "metadata": {},
   "source": [
    "## Instantiate"
   ]
  },
  {
   "cell_type": "code",
   "execution_count": 34,
   "metadata": {
    "collapsed": true
   },
   "outputs": [],
   "source": [
    "files = [pypdev_path+'/RAW_DATA/Shane_Kast_blue/600_4310_d55/b27.fits.gz']"
   ]
  },
  {
   "cell_type": "code",
   "execution_count": 300,
   "metadata": {
    "collapsed": true
   },
   "outputs": [],
   "source": [
    "reload(processimages)\n",
    "reload(scienceimage)\n",
    "\n",
    "sciI = scienceimage.ScienceImage(file_list=files,\n",
    "                                    spectrograph=spectrograph,\n",
    "                                     settings=settings,\n",
    "                                     tilts=tilts,\n",
    "                                     det=det,\n",
    "                                     tslits_dict=traceSlits.tslits_dict,\n",
    "                                     pixlocn=traceSlits.pixlocn,\n",
    "                                     datasec_img=datasec_img,\n",
    "                                     maskslits=maskslits,\n",
    "                                     setup=setup,\n",
    "                                         bpm=bpm\n",
    "                                    )"
   ]
  },
  {
   "cell_type": "markdown",
   "metadata": {},
   "source": [
    "## Process"
   ]
  },
  {
   "cell_type": "code",
   "execution_count": 301,
   "metadata": {},
   "outputs": [
    {
     "name": "stderr",
     "output_type": "stream",
     "text": [
      "\u001b[1;32m[INFO]    ::\u001b[0m \u001b[1;34marload.py 327 load_raw_frame()\u001b[0m - Loading raw_file: /home/xavier/local/Python/PYPIT-development-suite//RAW_DATA/Shane_Kast_blue/600_4310_d55/b27.fits.gz\n",
      "\u001b[1;32m[INFO]    ::\u001b[0m \u001b[1;34mprocessimages.py 269 bias_subtract()\u001b[0m - Bias subtracting your image(s)\n",
      "\u001b[1;32m[INFO]    ::\u001b[0m \u001b[1;34marprocimg.py 77 bias_subtract()\u001b[0m - Subtracting bias image from raw frame\n",
      "\u001b[1;31m[WARNING] ::\u001b[0m \u001b[1;34marprocimg.py 501 gain_frame()\u001b[0m - Should probably be measuring the gain across the amplifier boundary\n"
     ]
    }
   ],
   "source": [
    "_ = sciI._process(msbias, msflat, apply_gain=True)"
   ]
  },
  {
   "cell_type": "markdown",
   "metadata": {},
   "source": [
    "### View"
   ]
  },
  {
   "cell_type": "code",
   "execution_count": 302,
   "metadata": {},
   "outputs": [],
   "source": [
    "sciI.show('sci')"
   ]
  },
  {
   "cell_type": "markdown",
   "metadata": {
    "collapsed": true
   },
   "source": [
    "## Variance image (Raw)"
   ]
  },
  {
   "cell_type": "code",
   "execution_count": 303,
   "metadata": {},
   "outputs": [
    {
     "name": "stderr",
     "output_type": "stream",
     "text": [
      "\u001b[1;32m[INFO]    ::\u001b[0m \u001b[1;34mprocessimages.py 390 build_rawvarframe()\u001b[0m - Generate raw variance frame (from detected counts [flat fielded])\n"
     ]
    }
   ],
   "source": [
    "exptime = 1200. # s\n",
    "dnoise = (settings['detector']['darkcurr'] * exptime/3600.0)\n",
    "_ = sciI.build_rawvarframe(dnoise=dnoise)"
   ]
  },
  {
   "cell_type": "code",
   "execution_count": 304,
   "metadata": {},
   "outputs": [],
   "source": [
    "sciI.show('rawvar')"
   ]
  },
  {
   "cell_type": "markdown",
   "metadata": {},
   "source": [
    "## CRs"
   ]
  },
  {
   "cell_type": "code",
   "execution_count": 305,
   "metadata": {},
   "outputs": [
    {
     "name": "stderr",
     "output_type": "stream",
     "text": [
      "\u001b[1;32m[INFO]    ::\u001b[0m \u001b[1;34marprocimg.py 232 lacosmic()\u001b[0m - Detecting cosmic rays with the L.A.Cosmic algorithm\n",
      "\u001b[1;30m[WORK IN ]::\u001b[0m\n",
      "\u001b[1;33m[PROGRESS]::\u001b[0m \u001b[1;34marprocimg.py 233 lacosmic()\u001b[0m - Include these parameters in the settings files to be adjusted by the user\n",
      "\u001b[1;32m[INFO]    ::\u001b[0m \u001b[1;34marprocimg.py 255 lacosmic()\u001b[0m - Convolving image with Laplacian kernel\n",
      "\u001b[1;32m[INFO]    ::\u001b[0m \u001b[1;34marprocimg.py 263 lacosmic()\u001b[0m - Creating noise model\n",
      "\u001b[1;32m[INFO]    ::\u001b[0m \u001b[1;34marprocimg.py 270 lacosmic()\u001b[0m - Calculating Laplacian signal to noise ratio\n",
      "\u001b[1;32m[INFO]    ::\u001b[0m \u001b[1;34marprocimg.py 278 lacosmic()\u001b[0m - Selecting candidate cosmic rays\n",
      "\u001b[1;32m[INFO]    ::\u001b[0m \u001b[1;34marprocimg.py 283 lacosmic()\u001b[0m -  4470 candidate pixels\n",
      "\u001b[1;32m[INFO]    ::\u001b[0m \u001b[1;34marprocimg.py 293 lacosmic()\u001b[0m - Building fine structure image\n",
      "\u001b[1;32m[INFO]    ::\u001b[0m \u001b[1;34marprocimg.py 302 lacosmic()\u001b[0m - Removing suspected compact bright objects\n",
      "\u001b[1;32m[INFO]    ::\u001b[0m \u001b[1;34marprocimg.py 312 lacosmic()\u001b[0m -  3210 remaining candidate pixels\n",
      "\u001b[1;32m[INFO]    ::\u001b[0m \u001b[1;34marprocimg.py 316 lacosmic()\u001b[0m - Finding neighboring pixels affected by cosmic rays\n",
      "\u001b[1;32m[INFO]    ::\u001b[0m \u001b[1;34marprocimg.py 337 lacosmic()\u001b[0m -  5593 pixels detected as cosmics\n",
      "\u001b[1;32m[INFO]    ::\u001b[0m \u001b[1;34marprocimg.py 346 lacosmic()\u001b[0m - Iteration 1 -- 5593 pixels identified as cosmic rays (5593 new)\n",
      "\u001b[1;30m[WORK IN ]::\u001b[0m\n",
      "\u001b[1;33m[PROGRESS]::\u001b[0m \u001b[1;34marprocimg.py 349 lacosmic()\u001b[0m - The following algorithm would be better on the rectified, tilts-corrected image\n",
      "\u001b[1;32m[INFO]    ::\u001b[0m \u001b[1;34marprocimg.py 404 lacosmic()\u001b[0m - Growing cosmic ray mask by 1 pixel\n"
     ]
    }
   ],
   "source": [
    "_ = sciI.build_crmask()"
   ]
  },
  {
   "cell_type": "code",
   "execution_count": 306,
   "metadata": {
    "collapsed": true
   },
   "outputs": [],
   "source": [
    "sciI.show('crmasked')"
   ]
  },
  {
   "cell_type": "markdown",
   "metadata": {},
   "source": [
    "## SkySub"
   ]
  },
  {
   "cell_type": "code",
   "execution_count": 307,
   "metadata": {},
   "outputs": [
    {
     "name": "stderr",
     "output_type": "stream",
     "text": [
      "\u001b[1;32m[INFO]    ::\u001b[0m \u001b[1;34mscienceimage.py 189 _grab_varframe()\u001b[0m - Using raw variance frame for sky sub\n",
      "\u001b[1;32m[INFO]    ::\u001b[0m \u001b[1;34mscienceimage.py 151 global_skysub()\u001b[0m - Working on slit: 0\n",
      "\u001b[1;32m[INFO]    ::\u001b[0m \u001b[1;34marskysub.py 38 bg_subtraction_slit()\u001b[0m - Identifying pixels within each order\n",
      "\u001b[1;32m[INFO]    ::\u001b[0m \u001b[1;34marskysub.py 42 bg_subtraction_slit()\u001b[0m - Applying bad pixel mask\n",
      "\u001b[1;32m[INFO]    ::\u001b[0m \u001b[1;34marskysub.py 60 bg_subtraction_slit()\u001b[0m - Identifying pixels containing the science target\n",
      "\u001b[1;30m[WORK IN ]::\u001b[0m\n",
      "\u001b[1;33m[PROGRESS]::\u001b[0m \u001b[1;34marskysub.py 61 bg_subtraction_slit()\u001b[0m - Speed up this step with multi-processing\n",
      "\u001b[1;32m[INFO]    ::\u001b[0m \u001b[1;34marskysub.py 130 bg_subtraction_slit()\u001b[0m - Fitting sky background spectrum\n",
      "\u001b[1;32m[INFO]    ::\u001b[0m \u001b[1;34marskysub.py 132 bg_subtraction_slit()\u001b[0m - Using bspline sky subtraction\n"
     ]
    }
   ],
   "source": [
    "settings['skysub'] = {}\n",
    "settings['skysub']['perform']=True\n",
    "settings['skysub']['method']= 'bspline'\n",
    "settings['skysub']['bspline'] = {}\n",
    "settings['skysub']['bspline']['everyn']=20\n",
    "#\n",
    "global_sky = sciI.global_skysub(settings)"
   ]
  },
  {
   "cell_type": "code",
   "execution_count": 308,
   "metadata": {
    "collapsed": true
   },
   "outputs": [],
   "source": [
    "sciI.show('global')"
   ]
  },
  {
   "cell_type": "code",
   "execution_count": 309,
   "metadata": {
    "collapsed": true
   },
   "outputs": [],
   "source": [
    "sciI.show('image', image=sciI.sciframe-sciI.global_sky)"
   ]
  },
  {
   "cell_type": "markdown",
   "metadata": {},
   "source": [
    "## Model Variance Frame (from the global sky)"
   ]
  },
  {
   "cell_type": "code",
   "execution_count": 310,
   "metadata": {},
   "outputs": [],
   "source": [
    "_ = sciI.build_modelvar()"
   ]
  },
  {
   "cell_type": "markdown",
   "metadata": {},
   "source": [
    "## Find Object"
   ]
  },
  {
   "cell_type": "code",
   "execution_count": 311,
   "metadata": {},
   "outputs": [
    {
     "name": "stderr",
     "output_type": "stream",
     "text": [
      "\u001b[1;32m[INFO]    ::\u001b[0m \u001b[1;34mscienceimage.py 192 _grab_varframe()\u001b[0m - Using model variance frame for sky sub\n",
      "\u001b[1;32m[INFO]    ::\u001b[0m \u001b[1;34martrace.py 278 trace_objects_in_slit()\u001b[0m - Rectifying science frame\n",
      "\u001b[1;32m[INFO]    ::\u001b[0m \u001b[1;34martrace.py 299 trace_objects_in_slit()\u001b[0m - Estimating object profiles\n",
      "\u001b[1;32m[INFO]    ::\u001b[0m \u001b[1;34martrace.py 368 trace_objects_in_slit()\u001b[0m - Identifying objects that are significantly detected\n",
      "\u001b[1;32m[INFO]    ::\u001b[0m \u001b[1;34martrace.py 451 trace_objects_in_slit()\u001b[0m - Found 1 object\n",
      "\u001b[1;32m[INFO]    ::\u001b[0m \u001b[1;34martrace.py 452 trace_objects_in_slit()\u001b[0m - Tracing 1 object\n",
      "\u001b[1;32m[INFO]    ::\u001b[0m \u001b[1;34martrace.py 491 trace_objects_in_slit()\u001b[0m - Performing global trace to all objects\n",
      "\u001b[1;32m[INFO]    ::\u001b[0m \u001b[1;34martrace.py 494 trace_objects_in_slit()\u001b[0m - Constructing a trace for all objects\n",
      "\u001b[1;32m[INFO]    ::\u001b[0m \u001b[1;34martrace.py 500 trace_objects_in_slit()\u001b[0m - Converting object trace to detector pixels\n",
      "\u001b[1;32m[INFO]    ::\u001b[0m \u001b[1;34martrace.py 90 trace_objbg_image()\u001b[0m - Creating an image weighted by object pixels for 1 objects\n",
      "\u001b[1;32m[INFO]    ::\u001b[0m \u001b[1;34martrace.py 99 trace_objbg_image()\u001b[0m - Creating an image weighted by background pixels\n"
     ]
    }
   ],
   "source": [
    "tracelist = sciI.find_objects()"
   ]
  },
  {
   "cell_type": "code",
   "execution_count": 312,
   "metadata": {},
   "outputs": [
    {
     "data": {
      "text/plain": [
       "dict_keys(['nobj', 'traces', 'object', 'params', 'background'])"
      ]
     },
     "execution_count": 312,
     "metadata": {},
     "output_type": "execute_result"
    }
   ],
   "source": [
    "tracelist[0].keys()"
   ]
  },
  {
   "cell_type": "markdown",
   "metadata": {},
   "source": [
    "## Another round of skysub"
   ]
  },
  {
   "cell_type": "code",
   "execution_count": 313,
   "metadata": {},
   "outputs": [
    {
     "name": "stderr",
     "output_type": "stream",
     "text": [
      "\u001b[1;32m[INFO]    ::\u001b[0m \u001b[1;34mscienceimage.py 192 _grab_varframe()\u001b[0m - Using model variance frame for sky sub\n",
      "\u001b[1;32m[INFO]    ::\u001b[0m \u001b[1;34mscienceimage.py 151 global_skysub()\u001b[0m - Working on slit: 0\n",
      "\u001b[1;32m[INFO]    ::\u001b[0m \u001b[1;34marskysub.py 38 bg_subtraction_slit()\u001b[0m - Identifying pixels within each order\n",
      "\u001b[1;32m[INFO]    ::\u001b[0m \u001b[1;34marskysub.py 42 bg_subtraction_slit()\u001b[0m - Applying bad pixel mask\n",
      "\u001b[1;32m[INFO]    ::\u001b[0m \u001b[1;34marskysub.py 60 bg_subtraction_slit()\u001b[0m - Identifying pixels containing the science target\n",
      "\u001b[1;30m[WORK IN ]::\u001b[0m\n",
      "\u001b[1;33m[PROGRESS]::\u001b[0m \u001b[1;34marskysub.py 61 bg_subtraction_slit()\u001b[0m - Speed up this step with multi-processing\n",
      "\u001b[1;32m[INFO]    ::\u001b[0m \u001b[1;34marskysub.py 130 bg_subtraction_slit()\u001b[0m - Fitting sky background spectrum\n",
      "\u001b[1;32m[INFO]    ::\u001b[0m \u001b[1;34marskysub.py 132 bg_subtraction_slit()\u001b[0m - Using bspline sky subtraction\n"
     ]
    }
   ],
   "source": [
    "_ = sciI.global_skysub(settings, use_tracemask=True)\n",
    "_ = sciI.build_modelvar()"
   ]
  },
  {
   "cell_type": "code",
   "execution_count": 314,
   "metadata": {},
   "outputs": [],
   "source": [
    "sciI.show('global')"
   ]
  },
  {
   "cell_type": "code",
   "execution_count": 315,
   "metadata": {
    "collapsed": true
   },
   "outputs": [],
   "source": [
    "sciI.show('skysub')"
   ]
  },
  {
   "cell_type": "code",
   "execution_count": null,
   "metadata": {
    "collapsed": true
   },
   "outputs": [],
   "source": []
  }
 ],
 "metadata": {
  "kernelspec": {
   "display_name": "Python 3",
   "language": "python",
   "name": "python3"
  },
  "language_info": {
   "codemirror_mode": {
    "name": "ipython",
    "version": 3
   },
   "file_extension": ".py",
   "mimetype": "text/x-python",
   "name": "python",
   "nbconvert_exporter": "python",
   "pygments_lexer": "ipython3",
   "version": "3.6.3"
  }
 },
 "nbformat": 4,
 "nbformat_minor": 2
}
