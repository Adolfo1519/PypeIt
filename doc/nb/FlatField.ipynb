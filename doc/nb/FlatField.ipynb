{
 "cells": [
  {
   "cell_type": "markdown",
   "metadata": {},
   "source": [
    "# FlatField Class [v1]"
   ]
  },
  {
   "cell_type": "code",
   "execution_count": 1,
   "metadata": {
    "collapsed": true
   },
   "outputs": [],
   "source": [
    "%matplotlib inline"
   ]
  },
  {
   "cell_type": "code",
   "execution_count": 2,
   "metadata": {
    "collapsed": true
   },
   "outputs": [],
   "source": [
    "# imports\n",
    "import os\n",
    "from importlib import reload\n",
    "\n",
    "from astropy.table import Table\n",
    "\n",
    "from pypit import wavecalib"
   ]
  },
  {
   "cell_type": "code",
   "execution_count": 3,
   "metadata": {
    "collapsed": true
   },
   "outputs": [],
   "source": [
    "# Path to PYPIT-Development-suite\n",
    "pypdev_path = os.getenv('PYPIT_DEV')"
   ]
  },
  {
   "cell_type": "markdown",
   "metadata": {},
   "source": [
    "# User options"
   ]
  },
  {
   "cell_type": "markdown",
   "metadata": {},
   "source": [
    "----\n",
    "\n",
    "# Development"
   ]
  },
  {
   "cell_type": "code",
   "execution_count": 4,
   "metadata": {
    "collapsed": true
   },
   "outputs": [],
   "source": [
    "from pypit import traceslits\n",
    "from pypit import wavetilts"
   ]
  },
  {
   "cell_type": "markdown",
   "metadata": {},
   "source": [
    "## Load up required MasterFrames"
   ]
  },
  {
   "cell_type": "code",
   "execution_count": 5,
   "metadata": {
    "collapsed": true
   },
   "outputs": [],
   "source": [
    "settings = dict(masters={})\n",
    "settings['masters']['directory'] = pypdev_path+'/Cooked/MF_shane_kast_blue'\n",
    "settings['masters']['reuse'] = True"
   ]
  },
  {
   "cell_type": "code",
   "execution_count": 6,
   "metadata": {
    "collapsed": true
   },
   "outputs": [],
   "source": [
    "setup = 'A_01_aa'"
   ]
  },
  {
   "cell_type": "markdown",
   "metadata": {},
   "source": [
    "### TraceSlits"
   ]
  },
  {
   "cell_type": "code",
   "execution_count": 7,
   "metadata": {
    "scrolled": true
   },
   "outputs": [
    {
     "name": "stderr",
     "output_type": "stream",
     "text": [
      "\u001b[1;32m[INFO]    ::\u001b[0m \u001b[1;34mtraceslits.py 207 from_master_files()\u001b[0m - Loading BPM from /home/xavier/local/Python/PYPIT-development-suite//Cooked/MF_shane_kast_blue/MasterTrace_A_01_aa.fits.gz\n",
      "\u001b[1;32m[INFO]    ::\u001b[0m \u001b[1;34mtraceslits.py 518 _make_pixel_arrays()\u001b[0m - Converting physical trace locations to nearest pixel\n",
      "\u001b[1;32m[INFO]    ::\u001b[0m \u001b[1;34mtraceslits.py 525 _make_pixel_arrays()\u001b[0m - Identifying the pixels belonging to each slit\n"
     ]
    }
   ],
   "source": [
    "TSlits = traceslits.TraceSlits.from_master_files(settings['masters']['directory']+'/MasterTrace_A_01_aa')\n",
    "TSlits._make_pixel_arrays()"
   ]
  },
  {
   "cell_type": "markdown",
   "metadata": {},
   "source": [
    "### Tilts"
   ]
  },
  {
   "cell_type": "code",
   "execution_count": 12,
   "metadata": {},
   "outputs": [
    {
     "name": "stderr",
     "output_type": "stream",
     "text": [
      "\u001b[1;32m[INFO]    ::\u001b[0m \u001b[1;34marmasters.py 241 _load()\u001b[0m - Loading a pre-existing master calibration frame\n"
     ]
    },
    {
     "ename": "KeyError",
     "evalue": "\"Keyword 'FRAMETYP' not found.\"",
     "output_type": "error",
     "traceback": [
      "\u001b[0;31m---------------------------------------------------------------------------\u001b[0m",
      "\u001b[0;31mKeyError\u001b[0m                                  Traceback (most recent call last)",
      "\u001b[0;32m<ipython-input-12-83351a63febb>\u001b[0m in \u001b[0;36m<module>\u001b[0;34m()\u001b[0m\n\u001b[1;32m      1\u001b[0m \u001b[0mwvTilts\u001b[0m \u001b[0;34m=\u001b[0m \u001b[0mwavetilts\u001b[0m\u001b[0;34m.\u001b[0m\u001b[0mWaveTilts\u001b[0m\u001b[0;34m(\u001b[0m\u001b[0;32mNone\u001b[0m\u001b[0;34m,\u001b[0m \u001b[0msettings\u001b[0m\u001b[0;34m=\u001b[0m\u001b[0msettings\u001b[0m\u001b[0;34m,\u001b[0m \u001b[0msetup\u001b[0m\u001b[0;34m=\u001b[0m\u001b[0msetup\u001b[0m\u001b[0;34m)\u001b[0m\u001b[0;34m\u001b[0m\u001b[0m\n\u001b[0;32m----> 2\u001b[0;31m \u001b[0mtilts\u001b[0m \u001b[0;34m=\u001b[0m \u001b[0mwvTilts\u001b[0m\u001b[0;34m.\u001b[0m\u001b[0mmaster\u001b[0m\u001b[0;34m(\u001b[0m\u001b[0;34m)\u001b[0m\u001b[0;34m\u001b[0m\u001b[0m\n\u001b[0m",
      "\u001b[0;32m~/local/Python/PYPIT/pypit/masterframe.py\u001b[0m in \u001b[0;36mmaster\u001b[0;34m(self)\u001b[0m\n\u001b[1;32m    105\u001b[0m         \"\"\"\n\u001b[1;32m    106\u001b[0m         \u001b[0;31m# Load the MasterFrame if it exists and user requested one to load it\u001b[0m\u001b[0;34m\u001b[0m\u001b[0;34m\u001b[0m\u001b[0m\n\u001b[0;32m--> 107\u001b[0;31m         \u001b[0mmsframe\u001b[0m\u001b[0;34m,\u001b[0m \u001b[0mheader\u001b[0m\u001b[0;34m,\u001b[0m \u001b[0mraw_files\u001b[0m \u001b[0;34m=\u001b[0m \u001b[0mself\u001b[0m\u001b[0;34m.\u001b[0m\u001b[0mload_master_frame\u001b[0m\u001b[0;34m(\u001b[0m\u001b[0;34m)\u001b[0m\u001b[0;34m\u001b[0m\u001b[0m\n\u001b[0m\u001b[1;32m    108\u001b[0m         \u001b[0;32mif\u001b[0m \u001b[0mmsframe\u001b[0m \u001b[0;32mis\u001b[0m \u001b[0;32mNone\u001b[0m\u001b[0;34m:\u001b[0m\u001b[0;34m\u001b[0m\u001b[0m\n\u001b[1;32m    109\u001b[0m             \u001b[0;32mreturn\u001b[0m \u001b[0;32mNone\u001b[0m\u001b[0;34m\u001b[0m\u001b[0m\n",
      "\u001b[0;32m~/local/Python/PYPIT/pypit/masterframe.py\u001b[0m in \u001b[0;36mload_master_frame\u001b[0;34m(self, force)\u001b[0m\n\u001b[1;32m     90\u001b[0m         \"\"\"\n\u001b[1;32m     91\u001b[0m         \u001b[0;32mif\u001b[0m \u001b[0mself\u001b[0m\u001b[0;34m.\u001b[0m\u001b[0m_masters_load_chk\u001b[0m\u001b[0;34m(\u001b[0m\u001b[0;34m)\u001b[0m \u001b[0;32mor\u001b[0m \u001b[0mforce\u001b[0m\u001b[0;34m:\u001b[0m\u001b[0;34m\u001b[0m\u001b[0m\n\u001b[0;32m---> 92\u001b[0;31m             \u001b[0;32mreturn\u001b[0m \u001b[0marmasters\u001b[0m\u001b[0;34m.\u001b[0m\u001b[0mcore_load_master_frame\u001b[0m\u001b[0;34m(\u001b[0m\u001b[0mself\u001b[0m\u001b[0;34m.\u001b[0m\u001b[0mframetype\u001b[0m\u001b[0;34m,\u001b[0m \u001b[0mself\u001b[0m\u001b[0;34m.\u001b[0m\u001b[0msetup\u001b[0m\u001b[0;34m,\u001b[0m \u001b[0mself\u001b[0m\u001b[0;34m.\u001b[0m\u001b[0mmdir\u001b[0m\u001b[0;34m,\u001b[0m \u001b[0mforce\u001b[0m\u001b[0;34m=\u001b[0m\u001b[0mforce\u001b[0m\u001b[0;34m)\u001b[0m\u001b[0;34m\u001b[0m\u001b[0m\n\u001b[0m\u001b[1;32m     93\u001b[0m         \u001b[0;32melse\u001b[0m\u001b[0;34m:\u001b[0m\u001b[0;34m\u001b[0m\u001b[0m\n\u001b[1;32m     94\u001b[0m             \u001b[0;32mreturn\u001b[0m \u001b[0;32mNone\u001b[0m\u001b[0;34m,\u001b[0m \u001b[0;32mNone\u001b[0m\u001b[0;34m,\u001b[0m \u001b[0;32mNone\u001b[0m\u001b[0;34m\u001b[0m\u001b[0m\n",
      "\u001b[0;32m~/local/Python/PYPIT/pypit/armasters.py\u001b[0m in \u001b[0;36mcore_load_master_frame\u001b[0;34m(mftype, setup, mdir, force)\u001b[0m\n\u001b[1;32m    187\u001b[0m     \u001b[0mms_name\u001b[0m \u001b[0;34m=\u001b[0m \u001b[0mcore_master_name\u001b[0m\u001b[0;34m(\u001b[0m\u001b[0mmftype\u001b[0m\u001b[0;34m,\u001b[0m \u001b[0msetup\u001b[0m\u001b[0;34m,\u001b[0m \u001b[0mmdir\u001b[0m\u001b[0;34m)\u001b[0m\u001b[0;34m\u001b[0m\u001b[0m\n\u001b[1;32m    188\u001b[0m     \u001b[0;31m# Load\u001b[0m\u001b[0;34m\u001b[0m\u001b[0;34m\u001b[0m\u001b[0m\n\u001b[0;32m--> 189\u001b[0;31m     \u001b[0mmsframe\u001b[0m\u001b[0;34m,\u001b[0m \u001b[0mhead\u001b[0m\u001b[0;34m,\u001b[0m \u001b[0mfile_list\u001b[0m \u001b[0;34m=\u001b[0m \u001b[0m_load\u001b[0m\u001b[0;34m(\u001b[0m\u001b[0mms_name\u001b[0m\u001b[0;34m,\u001b[0m \u001b[0mexten\u001b[0m\u001b[0;34m=\u001b[0m\u001b[0;36m0\u001b[0m\u001b[0;34m,\u001b[0m \u001b[0mframetype\u001b[0m\u001b[0;34m=\u001b[0m\u001b[0mmftype\u001b[0m\u001b[0;34m,\u001b[0m \u001b[0mforce\u001b[0m\u001b[0;34m=\u001b[0m\u001b[0mforce\u001b[0m\u001b[0;34m)\u001b[0m\u001b[0;34m\u001b[0m\u001b[0m\n\u001b[0m\u001b[1;32m    190\u001b[0m     \u001b[0;31m# Check\u001b[0m\u001b[0;34m\u001b[0m\u001b[0;34m\u001b[0m\u001b[0m\n\u001b[1;32m    191\u001b[0m     \u001b[0;32mif\u001b[0m \u001b[0mmsframe\u001b[0m \u001b[0;32mis\u001b[0m \u001b[0;32mNone\u001b[0m\u001b[0;34m:\u001b[0m\u001b[0;34m\u001b[0m\u001b[0m\n",
      "\u001b[0;32m~/local/Python/PYPIT/pypit/armasters.py\u001b[0m in \u001b[0;36m_load\u001b[0;34m(name, exten, frametype, force)\u001b[0m\n\u001b[1;32m    241\u001b[0m         \u001b[0mmsgs\u001b[0m\u001b[0;34m.\u001b[0m\u001b[0minfo\u001b[0m\u001b[0;34m(\u001b[0m\u001b[0;34m\"Loading a pre-existing master calibration frame\"\u001b[0m\u001b[0;34m)\u001b[0m\u001b[0;34m\u001b[0m\u001b[0m\n\u001b[1;32m    242\u001b[0m         \u001b[0mhdu\u001b[0m \u001b[0;34m=\u001b[0m \u001b[0mfits\u001b[0m\u001b[0;34m.\u001b[0m\u001b[0mopen\u001b[0m\u001b[0;34m(\u001b[0m\u001b[0mname\u001b[0m\u001b[0;34m)\u001b[0m\u001b[0;34m\u001b[0m\u001b[0m\n\u001b[0;32m--> 243\u001b[0;31m         \u001b[0mmsgs\u001b[0m\u001b[0;34m.\u001b[0m\u001b[0minfo\u001b[0m\u001b[0;34m(\u001b[0m\u001b[0;34m\"Master {0:s} frame loaded successfully:\"\u001b[0m\u001b[0;34m.\u001b[0m\u001b[0mformat\u001b[0m\u001b[0;34m(\u001b[0m\u001b[0mhdu\u001b[0m\u001b[0;34m[\u001b[0m\u001b[0;36m0\u001b[0m\u001b[0;34m]\u001b[0m\u001b[0;34m.\u001b[0m\u001b[0mheader\u001b[0m\u001b[0;34m[\u001b[0m\u001b[0;34m'FRAMETYP'\u001b[0m\u001b[0;34m]\u001b[0m\u001b[0;34m)\u001b[0m\u001b[0;34m+\u001b[0m\u001b[0mmsgs\u001b[0m\u001b[0;34m.\u001b[0m\u001b[0mnewline\u001b[0m\u001b[0;34m(\u001b[0m\u001b[0;34m)\u001b[0m\u001b[0;34m+\u001b[0m\u001b[0mname\u001b[0m\u001b[0;34m)\u001b[0m\u001b[0;34m\u001b[0m\u001b[0m\n\u001b[0m\u001b[1;32m    244\u001b[0m         \u001b[0mhead0\u001b[0m \u001b[0;34m=\u001b[0m \u001b[0mhdu\u001b[0m\u001b[0;34m[\u001b[0m\u001b[0;36m0\u001b[0m\u001b[0;34m]\u001b[0m\u001b[0;34m.\u001b[0m\u001b[0mheader\u001b[0m\u001b[0;34m\u001b[0m\u001b[0m\n\u001b[1;32m    245\u001b[0m         \u001b[0mdata\u001b[0m \u001b[0;34m=\u001b[0m \u001b[0mhdu\u001b[0m\u001b[0;34m[\u001b[0m\u001b[0mexten\u001b[0m\u001b[0;34m]\u001b[0m\u001b[0;34m.\u001b[0m\u001b[0mdata\u001b[0m\u001b[0;34m.\u001b[0m\u001b[0mastype\u001b[0m\u001b[0;34m(\u001b[0m\u001b[0mnp\u001b[0m\u001b[0;34m.\u001b[0m\u001b[0mfloat\u001b[0m\u001b[0;34m)\u001b[0m\u001b[0;34m\u001b[0m\u001b[0m\n",
      "\u001b[0;32m~/.pyenv/versions/anaconda3-5.0.1/lib/python3.6/site-packages/astropy/io/fits/header.py\u001b[0m in \u001b[0;36m__getitem__\u001b[0;34m(self, key)\u001b[0m\n\u001b[1;32m    143\u001b[0m         \u001b[0;32melse\u001b[0m\u001b[0;34m:\u001b[0m\u001b[0;34m\u001b[0m\u001b[0m\n\u001b[1;32m    144\u001b[0m             \u001b[0mkeyword\u001b[0m \u001b[0;34m=\u001b[0m \u001b[0mkey\u001b[0m\u001b[0;34m\u001b[0m\u001b[0m\n\u001b[0;32m--> 145\u001b[0;31m         \u001b[0mcard\u001b[0m \u001b[0;34m=\u001b[0m \u001b[0mself\u001b[0m\u001b[0;34m.\u001b[0m\u001b[0m_cards\u001b[0m\u001b[0;34m[\u001b[0m\u001b[0mself\u001b[0m\u001b[0;34m.\u001b[0m\u001b[0m_cardindex\u001b[0m\u001b[0;34m(\u001b[0m\u001b[0mkey\u001b[0m\u001b[0;34m)\u001b[0m\u001b[0;34m]\u001b[0m\u001b[0;34m\u001b[0m\u001b[0m\n\u001b[0m\u001b[1;32m    146\u001b[0m         \u001b[0;32mif\u001b[0m \u001b[0mcard\u001b[0m\u001b[0;34m.\u001b[0m\u001b[0mfield_specifier\u001b[0m \u001b[0;32mis\u001b[0m \u001b[0;32mnot\u001b[0m \u001b[0;32mNone\u001b[0m \u001b[0;32mand\u001b[0m \u001b[0mkeyword\u001b[0m \u001b[0;34m==\u001b[0m \u001b[0mcard\u001b[0m\u001b[0;34m.\u001b[0m\u001b[0mrawkeyword\u001b[0m\u001b[0;34m:\u001b[0m\u001b[0;34m\u001b[0m\u001b[0m\n\u001b[1;32m    147\u001b[0m             \u001b[0;31m# This is RVKC; if only the top-level keyword was specified return\u001b[0m\u001b[0;34m\u001b[0m\u001b[0;34m\u001b[0m\u001b[0m\n",
      "\u001b[0;32m~/.pyenv/versions/anaconda3-5.0.1/lib/python3.6/site-packages/astropy/io/fits/header.py\u001b[0m in \u001b[0;36m_cardindex\u001b[0;34m(self, key)\u001b[0m\n\u001b[1;32m   1652\u001b[0m \u001b[0;34m\u001b[0m\u001b[0m\n\u001b[1;32m   1653\u001b[0m         \u001b[0;32mif\u001b[0m \u001b[0;32mnot\u001b[0m \u001b[0mindices\u001b[0m\u001b[0;34m:\u001b[0m\u001b[0;34m\u001b[0m\u001b[0m\n\u001b[0;32m-> 1654\u001b[0;31m             \u001b[0;32mraise\u001b[0m \u001b[0mKeyError\u001b[0m\u001b[0;34m(\u001b[0m\u001b[0;34m\"Keyword {!r} not found.\"\u001b[0m\u001b[0;34m.\u001b[0m\u001b[0mformat\u001b[0m\u001b[0;34m(\u001b[0m\u001b[0mkeyword\u001b[0m\u001b[0;34m)\u001b[0m\u001b[0;34m)\u001b[0m\u001b[0;34m\u001b[0m\u001b[0m\n\u001b[0m\u001b[1;32m   1655\u001b[0m \u001b[0;34m\u001b[0m\u001b[0m\n\u001b[1;32m   1656\u001b[0m         \u001b[0;32mtry\u001b[0m\u001b[0;34m:\u001b[0m\u001b[0;34m\u001b[0m\u001b[0m\n",
      "\u001b[0;31mKeyError\u001b[0m: \"Keyword 'FRAMETYP' not found.\""
     ]
    }
   ],
   "source": [
    "wvTilts = wavetilts.WaveTilts(None, settings=settings, setup=setup)\n",
    "tilts = wvTilts.master()"
   ]
  },
  {
   "cell_type": "markdown",
   "metadata": {},
   "source": [
    "## Init Wavecalib"
   ]
  },
  {
   "cell_type": "code",
   "execution_count": 20,
   "metadata": {
    "collapsed": true
   },
   "outputs": [],
   "source": [
    "reload(wavecalib)\n",
    "Wavecalib = wavecalib.WaveCalib(msarc, spectrograph='shane_kast_blue', settings=settings, setup=setup, fitstbl=fitstbl, sci_ID=1, det=1)"
   ]
  },
  {
   "cell_type": "markdown",
   "metadata": {},
   "source": [
    "## Extract arcs -- Requires msarc and slit info"
   ]
  },
  {
   "cell_type": "code",
   "execution_count": 21,
   "metadata": {},
   "outputs": [
    {
     "name": "stderr",
     "output_type": "stream",
     "text": [
      "\u001b[1;32m[INFO]    ::\u001b[0m \u001b[1;34mararc.py 86 get_censpec()\u001b[0m - Extracting an approximate arc spectrum at the centre of each slit\n"
     ]
    }
   ],
   "source": [
    "arccen, maskslits = Wavecalib._extract_arcs(TSlits.lcen, TSlits.rcen, TSlits.pixlocn)"
   ]
  },
  {
   "cell_type": "code",
   "execution_count": 22,
   "metadata": {},
   "outputs": [
    {
     "data": {
      "text/plain": [
       "(2048, 1)"
      ]
     },
     "execution_count": 22,
     "metadata": {},
     "output_type": "execute_result"
    }
   ],
   "source": [
    "arccen.shape"
   ]
  },
  {
   "cell_type": "markdown",
   "metadata": {},
   "source": [
    "## Arcparam -- Requires fitstbl, sci_ID, det"
   ]
  },
  {
   "cell_type": "code",
   "execution_count": 23,
   "metadata": {},
   "outputs": [
    {
     "name": "stderr",
     "output_type": "stream",
     "text": [
      "\u001b[1;31m[WARNING] ::\u001b[0m \u001b[1;34marparse.py 4478 parse_binning()\u001b[0m - Unable to parse input binning: None\n",
      "\u001b[1;31m[WARNING] ::\u001b[0m \u001b[1;34marparse.py 4479 parse_binning()\u001b[0m - Assuming unbinned, i.e.  1x1\n",
      "\u001b[1;32m[INFO]    ::\u001b[0m \u001b[1;34mararc.py 459 setup_param()\u001b[0m - Loading line list using CdI,HgI,HeI lamps\n",
      "\u001b[1;32m[INFO]    ::\u001b[0m \u001b[1;34mararclines.py 68 load_arcline_list()\u001b[0m - Rejecting select CdI lines\n",
      "\u001b[1;32m[INFO]    ::\u001b[0m \u001b[1;34mararclines.py 68 load_arcline_list()\u001b[0m - Rejecting select HgI lines\n",
      "\u001b[1;32m[INFO]    ::\u001b[0m \u001b[1;34mararclines.py 76 load_arcline_list()\u001b[0m - Cutting down line list by wvmnx: 2900,6000\n"
     ]
    }
   ],
   "source": [
    "arcparam = Wavecalib._load_arcparam()"
   ]
  },
  {
   "cell_type": "code",
   "execution_count": 24,
   "metadata": {},
   "outputs": [
    {
     "data": {
      "text/plain": [
       "{'Nstrong': 13,\n",
       " 'b1': 0.000688935788,\n",
       " 'b2': -2.38634231e-08,\n",
       " 'disp': 1.02,\n",
       " 'disp_toler': 0.1,\n",
       " 'func': 'legendre',\n",
       " 'lamps': ['CdI', 'HgI', 'HeI'],\n",
       " 'llist': <Table masked=True length=54>\n",
       " Ion     wave    RelInt\n",
       " str5  float64  float64\n",
       " ---- --------- -------\n",
       "  CdI 3081.7172   150.0\n",
       "  CdI 3083.4887    30.0\n",
       "  CdI 3134.0746   200.0\n",
       "  CdI 3253.4622   300.0\n",
       "  CdI 3261.9951   300.0\n",
       "  CdI 3404.6287   800.0\n",
       "  CdI 3467.1923  1000.0\n",
       "  CdI 3468.6477   800.0\n",
       "  CdI 3500.9531    25.0\n",
       "  CdI 3611.5375  1000.0\n",
       "  ...       ...     ...\n",
       "  HeI  4472.735   200.0\n",
       "  HeI  4472.735   200.0\n",
       "  HeI 4714.4644    30.0\n",
       "  HeI 4714.4644    30.0\n",
       "  HeI 4923.3053    20.0\n",
       "  HeI 5017.0772   100.0\n",
       "  HeI  5877.249   500.0\n",
       "  HeI  5877.249   500.0\n",
       "  HeI  5877.249   500.0\n",
       "  HeI  5877.249   500.0,\n",
       " 'match_toler': 3.0,\n",
       " 'min_ampl': 300.0,\n",
       " 'n_final': 4,\n",
       " 'n_first': 1,\n",
       " 'nsig_rej': 2.0,\n",
       " 'nsig_rej_final': 3.0,\n",
       " 'wv_cen': 4250.0,\n",
       " 'wvmnx': [2900.0, 6000.0]}"
      ]
     },
     "execution_count": 24,
     "metadata": {},
     "output_type": "execute_result"
    }
   ],
   "source": [
    "arcparam"
   ]
  },
  {
   "cell_type": "markdown",
   "metadata": {},
   "source": [
    "## Build wv_calib"
   ]
  },
  {
   "cell_type": "code",
   "execution_count": 25,
   "metadata": {},
   "outputs": [
    {
     "name": "stdout",
     "output_type": "stream",
     "text": [
      "---------------------------------------------------\n",
      "Report:\n",
      "::   Number of lines recovered    = 24\n",
      "::   Number of lines analyzed     = 24\n",
      "::   Number of acceptable matches = 22\n",
      "::   Best central wavelength      = 4407.67A\n",
      "::   Best dispersion              = 1.05912A/pix\n",
      "::   Best solution used pix_tol   = 1.0\n",
      "::   Best solution had unknown    = True\n",
      "---------------------------------------------------\n"
     ]
    }
   ],
   "source": [
    "wv_calib = Wavecalib._build_wv_calib('arclines', skip_QA=True)"
   ]
  },
  {
   "cell_type": "code",
   "execution_count": 26,
   "metadata": {},
   "outputs": [
    {
     "data": {
      "text/plain": [
       "{'0': {'fitc': array([  4.43581701e+03,   1.04860313e+03,   3.62635165e+01,\n",
       "          -4.99601432e+00,  -3.79828867e-02,   2.16016177e-01]),\n",
       "  'fmax': 1.0,\n",
       "  'fmin': 0.0,\n",
       "  'function': 'legendre',\n",
       "  'ions': array(['CdI', 'HgI', 'HgI', 'HeI', 'HeI', 'HgI', 'HgI', 'CdI', 'HeI',\n",
       "         'CdI', 'HeI', 'HeI', 'CdI', 'HgI'],\n",
       "        dtype='<U6'),\n",
       "  'mask': array([0, 1, 0, 0, 0, 0, 0, 0, 1, 0, 0, 0, 0, 0, 0, 0]),\n",
       "  'nrej': 3.0,\n",
       "  'rms': 0.031038994452921714,\n",
       "  'shift': 0.0,\n",
       "  'spec': array([ 17.36,  18.02,  12.78, ...,  28.88,  29.8 ,  29.78]),\n",
       "  'tcent': array([   43.51323142,   202.33949841,   244.7506111 ,   258.75505693,\n",
       "           496.26538515,   637.12838659,   657.69446875,   689.24067019,\n",
       "           804.59865913,   948.67102361,   956.68862798,   966.90892385,\n",
       "           995.76670855,  1020.08278726,  1076.58514325,  1259.24225678,\n",
       "          1274.11166445,  1307.29940066,  1388.99228235,  1503.14401693,\n",
       "          1590.27063148,  1655.17360085,  1718.56434391,  1998.41116872]),\n",
       "  'xfit': array([ 0.02125707,  0.11956552,  0.12640696,  0.24243546,  0.31124982,\n",
       "          0.32129676,  0.3367077 ,  0.62242876,  0.63864162,  0.67855021,\n",
       "          0.73431559,  0.77687867,  0.80858505,  0.97626339]),\n",
       "  'xnorm': 2048.0,\n",
       "  'xrej': array([ 0.09884685,  0.47235414]),\n",
       "  'yfit': array([ 3467.1923,  3651.198 ,  3664.327 ,  3889.75  ,  4027.3292,\n",
       "          4047.708 ,  4078.988 ,  4679.4587,  4714.4644,  4801.254 ,\n",
       "          4923.3053,  5017.0772,  5087.2393,  5462.268 ]),\n",
       "  'yrej': array([ 3611.5375,  4359.56  ])}}"
      ]
     },
     "execution_count": 26,
     "metadata": {},
     "output_type": "execute_result"
    }
   ],
   "source": [
    "wv_calib"
   ]
  },
  {
   "cell_type": "markdown",
   "metadata": {},
   "source": [
    "## Save as master"
   ]
  },
  {
   "cell_type": "code",
   "execution_count": 27,
   "metadata": {},
   "outputs": [
    {
     "name": "stderr",
     "output_type": "stream",
     "text": [
      "\u001b[1;32m[INFO]    ::\u001b[0m \u001b[1;34marmasters.py 374 core_save_master()\u001b[0m - Saving master wv_calib frame as:\n",
      "             tmp.json\n",
      "\u001b[1;32m[INFO]    ::\u001b[0m \u001b[1;34marmasters.py 407 core_save_master()\u001b[0m - Master wv_calib frame saved successfully:\n",
      "             tmp.json\n"
     ]
    }
   ],
   "source": [
    "Wavecalib.save_master(wv_calib,outfile='tmp.json')  # This doesn't save steps nor arcparam which *is* done in the master() call"
   ]
  },
  {
   "cell_type": "markdown",
   "metadata": {},
   "source": [
    "## One shot"
   ]
  },
  {
   "cell_type": "code",
   "execution_count": 31,
   "metadata": {
    "scrolled": true
   },
   "outputs": [
    {
     "name": "stderr",
     "output_type": "stream",
     "text": [
      "\u001b[1;32m[INFO]    ::\u001b[0m \u001b[1;34mararc.py 86 get_censpec()\u001b[0m - Extracting an approximate arc spectrum at the centre of each slit\n",
      "\u001b[1;31m[WARNING] ::\u001b[0m \u001b[1;34marparse.py 4478 parse_binning()\u001b[0m - Unable to parse input binning: None\n",
      "\u001b[1;31m[WARNING] ::\u001b[0m \u001b[1;34marparse.py 4479 parse_binning()\u001b[0m - Assuming unbinned, i.e.  1x1\n",
      "\u001b[1;32m[INFO]    ::\u001b[0m \u001b[1;34mararc.py 459 setup_param()\u001b[0m - Loading line list using CdI,HgI,HeI lamps\n",
      "\u001b[1;32m[INFO]    ::\u001b[0m \u001b[1;34mararclines.py 68 load_arcline_list()\u001b[0m - Rejecting select CdI lines\n",
      "\u001b[1;32m[INFO]    ::\u001b[0m \u001b[1;34mararclines.py 68 load_arcline_list()\u001b[0m - Rejecting select HgI lines\n",
      "\u001b[1;32m[INFO]    ::\u001b[0m \u001b[1;34mararclines.py 76 load_arcline_list()\u001b[0m - Cutting down line list by wvmnx: 2900,6000\n"
     ]
    },
    {
     "name": "stdout",
     "output_type": "stream",
     "text": [
      "---------------------------------------------------\n",
      "Report:\n",
      "::   Number of lines recovered    = 24\n",
      "::   Number of lines analyzed     = 24\n",
      "::   Number of acceptable matches = 22\n",
      "::   Best central wavelength      = 4407.67A\n",
      "::   Best dispersion              = 1.05912A/pix\n",
      "::   Best solution used pix_tol   = 1.0\n",
      "::   Best solution had unknown    = True\n",
      "---------------------------------------------------\n"
     ]
    }
   ],
   "source": [
    "reload(wavecalib)\n",
    "settings['masters']['reuse'] = False\n",
    "settings['masters']['force'] = False\n",
    "Wavecalib = wavecalib.WaveCalib(msarc, spectrograph='shane_kast_blue', settings=settings, setup=setup, fitstbl=fitstbl, sci_ID=1, det=1)\n",
    "wv_calib2, _ = Wavecalib.run(TSlits.lcen, TSlits.rcen, TSlits.pixlocn, skip_QA=True)"
   ]
  },
  {
   "cell_type": "code",
   "execution_count": 32,
   "metadata": {},
   "outputs": [
    {
     "data": {
      "text/plain": [
       "dict_keys(['0', 'steps', 'arcparam'])"
      ]
     },
     "execution_count": 32,
     "metadata": {},
     "output_type": "execute_result"
    }
   ],
   "source": [
    "wv_calib2.keys()"
   ]
  },
  {
   "cell_type": "code",
   "execution_count": null,
   "metadata": {
    "collapsed": true
   },
   "outputs": [],
   "source": []
  }
 ],
 "metadata": {
  "kernelspec": {
   "display_name": "Python 3",
   "language": "python",
   "name": "python3"
  },
  "language_info": {
   "codemirror_mode": {
    "name": "ipython",
    "version": 3
   },
   "file_extension": ".py",
   "mimetype": "text/x-python",
   "name": "python",
   "nbconvert_exporter": "python",
   "pygments_lexer": "ipython3",
   "version": "3.6.3"
  }
 },
 "nbformat": 4,
 "nbformat_minor": 2
}
