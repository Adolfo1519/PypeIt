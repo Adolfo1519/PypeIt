{
 "cells": [
  {
   "cell_type": "markdown",
   "id": "d7a65b56",
   "metadata": {},
   "source": [
    "# New LRISr Mark4 detector"
   ]
  },
  {
   "cell_type": "code",
   "execution_count": 17,
   "id": "bee10ff6",
   "metadata": {},
   "outputs": [],
   "source": [
    "# imports\n",
    "import os\n",
    "import numpy as np\n",
    "\n",
    "from astropy.io import fits\n",
    "\n",
    "from pypeit.core import parse\n",
    "from pypeit.display import display"
   ]
  },
  {
   "cell_type": "markdown",
   "id": "9d3b618d",
   "metadata": {},
   "source": [
    "# Load data"
   ]
  },
  {
   "cell_type": "code",
   "execution_count": 2,
   "id": "6f06c9fa",
   "metadata": {},
   "outputs": [],
   "source": [
    "dpath = '/scratch/REDUX/Keck/LRIS/new_LRISr/Raw'"
   ]
  },
  {
   "cell_type": "code",
   "execution_count": 4,
   "id": "0a7b746a",
   "metadata": {},
   "outputs": [],
   "source": [
    "dfile = os.path.join(dpath, 'r211004_00003.fits')"
   ]
  },
  {
   "cell_type": "code",
   "execution_count": 5,
   "id": "5a77f1dd",
   "metadata": {},
   "outputs": [],
   "source": [
    "hdul = fits.open(dfile)"
   ]
  },
  {
   "cell_type": "code",
   "execution_count": 6,
   "id": "5c3c0018",
   "metadata": {},
   "outputs": [
    {
     "name": "stdout",
     "output_type": "stream",
     "text": [
      "Filename: /scratch/REDUX/Keck/LRIS/new_LRISr/Raw/r211004_00003.fits\n",
      "No.    Name      Ver    Type      Cards   Dimensions   Format\n",
      "  0  PRIMARY       1 PrimaryHDU     344   (4234, 4248)   int16 (rescales to uint16)   \n",
      "  1  Exposure Events    1 TableHDU        17   3R x 2C   [A26, A80]   \n"
     ]
    }
   ],
   "source": [
    "hdul.info()"
   ]
  },
  {
   "cell_type": "code",
   "execution_count": 25,
   "id": "275734fc",
   "metadata": {},
   "outputs": [],
   "source": [
    "raw_data = hdul[0].data.astype(float)"
   ]
  },
  {
   "cell_type": "code",
   "execution_count": 16,
   "id": "6566c288",
   "metadata": {},
   "outputs": [
    {
     "data": {
      "text/plain": [
       "(4248, 4234)"
      ]
     },
     "execution_count": 16,
     "metadata": {},
     "output_type": "execute_result"
    }
   ],
   "source": [
    "raw_data.shape"
   ]
  },
  {
   "cell_type": "markdown",
   "id": "f05260b5",
   "metadata": {},
   "source": [
    "# Header info"
   ]
  },
  {
   "cell_type": "code",
   "execution_count": 7,
   "id": "3312ad31",
   "metadata": {},
   "outputs": [],
   "source": [
    "head0 = hdul[0].header"
   ]
  },
  {
   "cell_type": "code",
   "execution_count": 11,
   "id": "3fbcfcf2",
   "metadata": {},
   "outputs": [
    {
     "name": "stdout",
     "output_type": "stream",
     "text": [
      "[8:2064,1:2064]\n",
      "[4227:2171,1:2064]\n",
      "[8:2064,4248:2185]\n",
      "[4227:2171,4248:2185]\n"
     ]
    }
   ],
   "source": [
    "print(head0['DSEC1'])\n",
    "print(head0['DSEC2'])\n",
    "print(head0['DSEC3'])\n",
    "print(head0['DSEC4'])"
   ]
  },
  {
   "cell_type": "code",
   "execution_count": 31,
   "id": "511dc84c",
   "metadata": {},
   "outputs": [
    {
     "data": {
      "text/plain": [
       "'[8:2064,4248:2185]'"
      ]
     },
     "execution_count": 31,
     "metadata": {},
     "output_type": "execute_result"
    }
   ],
   "source": [
    "head0['DSEC3']"
   ]
  },
  {
   "cell_type": "markdown",
   "id": "e6a69401",
   "metadata": {},
   "source": [
    "# Extract me"
   ]
  },
  {
   "cell_type": "code",
   "execution_count": 14,
   "id": "f3c472bb",
   "metadata": {},
   "outputs": [],
   "source": [
    "final_img = np.zeros((2064*2, 2057*2))"
   ]
  },
  {
   "cell_type": "markdown",
   "id": "e1e90996",
   "metadata": {},
   "source": [
    "## Amp L1, aka AMPID3, aka readout sequence 2"
   ]
  },
  {
   "cell_type": "code",
   "execution_count": 18,
   "id": "2503239c",
   "metadata": {},
   "outputs": [
    {
     "data": {
      "text/plain": [
       "[[4247, 2185], [7, 2064]]"
      ]
     },
     "execution_count": 18,
     "metadata": {},
     "output_type": "execute_result"
    }
   ],
   "source": [
    "parse.load_sections(head0['DSEC3'], fmt_iraf=True)"
   ]
  },
  {
   "cell_type": "code",
   "execution_count": 43,
   "id": "d2b4b2de",
   "metadata": {},
   "outputs": [
    {
     "data": {
      "text/plain": [
       "(slice(7, 2064, None), slice(4247, 2183, -1))"
      ]
     },
     "execution_count": 43,
     "metadata": {},
     "output_type": "execute_result"
    }
   ],
   "source": [
    "slice3 = parse.sec2slice(head0['DSEC3'], one_indexed=True, include_end=True)\n",
    "slice3"
   ]
  },
  {
   "cell_type": "code",
   "execution_count": 44,
   "id": "23f1ace1",
   "metadata": {},
   "outputs": [
    {
     "data": {
      "text/plain": [
       "(slice(4247, 2183, -1), slice(7, 2064, None))"
      ]
     },
     "execution_count": 44,
     "metadata": {},
     "output_type": "execute_result"
    }
   ],
   "source": [
    "slice3b = (slice3[1], slice3[0])\n",
    "slice3b"
   ]
  },
  {
   "cell_type": "code",
   "execution_count": 45,
   "id": "2df38e18",
   "metadata": {},
   "outputs": [
    {
     "data": {
      "text/plain": [
       "(2064, 2057)"
      ]
     },
     "execution_count": 45,
     "metadata": {},
     "output_type": "execute_result"
    }
   ],
   "source": [
    "amp_l1 = raw_data[slice3b]\n",
    "amp_l1.shape"
   ]
  },
  {
   "cell_type": "code",
   "execution_count": 51,
   "id": "12ed8047",
   "metadata": {},
   "outputs": [
    {
     "data": {
      "text/plain": [
       "(<ginga.util.grc.RemoteClient at 0x7f23ab92ef10>,\n",
       " <ginga.util.grc._channel_proxy at 0x7f23ab92e9d0>)"
      ]
     },
     "execution_count": 51,
     "metadata": {},
     "output_type": "execute_result"
    }
   ],
   "source": [
    "display.show_image(amp_l1)"
   ]
  },
  {
   "cell_type": "markdown",
   "id": "a1464d38",
   "metadata": {},
   "source": [
    "## Amp L2"
   ]
  },
  {
   "cell_type": "code",
   "execution_count": 47,
   "id": "516f5797",
   "metadata": {},
   "outputs": [
    {
     "data": {
      "text/plain": [
       "(slice(4226, 2169, -1), slice(0, 2064, None))"
      ]
     },
     "execution_count": 47,
     "metadata": {},
     "output_type": "execute_result"
    }
   ],
   "source": [
    "slice2 = parse.sec2slice(head0['DSEC2'], one_indexed=True, include_end=True)\n",
    "slice2"
   ]
  },
  {
   "cell_type": "code",
   "execution_count": 48,
   "id": "79c7ea4b",
   "metadata": {},
   "outputs": [],
   "source": [
    "slice2b = (slice2[1], slice2[0])"
   ]
  },
  {
   "cell_type": "code",
   "execution_count": 49,
   "id": "464ce6b9",
   "metadata": {},
   "outputs": [
    {
     "data": {
      "text/plain": [
       "(2064, 2057)"
      ]
     },
     "execution_count": 49,
     "metadata": {},
     "output_type": "execute_result"
    }
   ],
   "source": [
    "amp_l2 = raw_data[slice2b]\n",
    "amp_l2.shape"
   ]
  },
  {
   "cell_type": "code",
   "execution_count": 50,
   "id": "3b7e13c1",
   "metadata": {},
   "outputs": [
    {
     "data": {
      "text/plain": [
       "(<ginga.util.grc.RemoteClient at 0x7f23ab92ed30>,\n",
       " <ginga.util.grc._channel_proxy at 0x7f23ab92e160>)"
      ]
     },
     "execution_count": 50,
     "metadata": {},
     "output_type": "execute_result"
    }
   ],
   "source": [
    "display.show_image(amp_l2)"
   ]
  },
  {
   "cell_type": "code",
   "execution_count": null,
   "id": "02152dac",
   "metadata": {},
   "outputs": [],
   "source": []
  }
 ],
 "metadata": {
  "kernelspec": {
   "display_name": "Python 3 (ipykernel)",
   "language": "python",
   "name": "python3"
  },
  "language_info": {
   "codemirror_mode": {
    "name": "ipython",
    "version": 3
   },
   "file_extension": ".py",
   "mimetype": "text/x-python",
   "name": "python",
   "nbconvert_exporter": "python",
   "pygments_lexer": "ipython3",
   "version": "3.8.5"
  }
 },
 "nbformat": 4,
 "nbformat_minor": 5
}
