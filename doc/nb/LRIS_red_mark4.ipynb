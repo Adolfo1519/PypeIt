{
 "cells": [
  {
   "cell_type": "markdown",
   "id": "6325d7cd",
   "metadata": {},
   "source": [
    "# New LRISr Mark4 detector"
   ]
  },
  {
   "cell_type": "code",
   "execution_count": 23,
   "id": "6f1185ea",
   "metadata": {},
   "outputs": [],
   "source": [
    "# imports\n",
    "import os, glob\n",
    "import numpy as np\n",
    "\n",
    "from astropy.io import fits\n",
    "\n",
    "from pypeit.core import parse\n",
    "from pypeit.display import display"
   ]
  },
  {
   "cell_type": "markdown",
   "id": "3375797d",
   "metadata": {},
   "source": [
    "# Load data"
   ]
  },
  {
   "cell_type": "code",
   "execution_count": 8,
   "id": "d17f5bd5",
   "metadata": {},
   "outputs": [],
   "source": [
    "dpath = '/scratch/REDUX/Keck/LRIS/new_LRISr'\n",
    "rpath = os.path.join(dpath, 'Raw')"
   ]
  },
  {
   "cell_type": "code",
   "execution_count": 9,
   "id": "47fd5e62",
   "metadata": {},
   "outputs": [],
   "source": [
    "dfile = os.path.join(rpath, 'r211004_00003.fits')"
   ]
  },
  {
   "cell_type": "code",
   "execution_count": 4,
   "id": "86d97c4e",
   "metadata": {},
   "outputs": [],
   "source": [
    "hdul = fits.open(dfile)"
   ]
  },
  {
   "cell_type": "code",
   "execution_count": 5,
   "id": "742a9b6b",
   "metadata": {},
   "outputs": [
    {
     "name": "stdout",
     "output_type": "stream",
     "text": [
      "Filename: /scratch/REDUX/Keck/LRIS/new_LRISr/Raw/r211004_00003.fits\n",
      "No.    Name      Ver    Type      Cards   Dimensions   Format\n",
      "  0  PRIMARY       1 PrimaryHDU     344   (4234, 4248)   int16 (rescales to uint16)   \n",
      "  1  Exposure Events    1 TableHDU        17   3R x 2C   [A26, A80]   \n"
     ]
    }
   ],
   "source": [
    "hdul.info()"
   ]
  },
  {
   "cell_type": "code",
   "execution_count": 6,
   "id": "56a1af39",
   "metadata": {},
   "outputs": [],
   "source": [
    "raw_data = hdul[0].data.astype(float)"
   ]
  },
  {
   "cell_type": "code",
   "execution_count": 7,
   "id": "458f5f99",
   "metadata": {},
   "outputs": [
    {
     "data": {
      "text/plain": [
       "(4248, 4234)"
      ]
     },
     "execution_count": 7,
     "metadata": {},
     "output_type": "execute_result"
    }
   ],
   "source": [
    "raw_data.shape"
   ]
  },
  {
   "cell_type": "markdown",
   "id": "54832cb7",
   "metadata": {},
   "source": [
    "# Load pixel file"
   ]
  },
  {
   "cell_type": "code",
   "execution_count": 12,
   "id": "ff963623",
   "metadata": {},
   "outputs": [],
   "source": [
    "pix_file = os.path.join(dpath, 'pixelsL2U2L1U1_1_1.fits')"
   ]
  },
  {
   "cell_type": "code",
   "execution_count": 13,
   "id": "bc5e0597",
   "metadata": {},
   "outputs": [
    {
     "name": "stdout",
     "output_type": "stream",
     "text": [
      "Filename: /scratch/REDUX/Keck/LRIS/new_LRISr/pixelsL2U2L1U1_1_1.fits\n",
      "No.    Name      Ver    Type      Cards   Dimensions   Format\n",
      "  0  PRIMARY       1 PrimaryHDU     217   (4234, 4248)   int16   \n"
     ]
    }
   ],
   "source": [
    "hdu_pix = fits.open(pix_file)\n",
    "hdu_pix.info()"
   ]
  },
  {
   "cell_type": "code",
   "execution_count": 32,
   "id": "6b7c3531",
   "metadata": {},
   "outputs": [
    {
     "name": "stdout",
     "output_type": "stream",
     "text": [
      "[8:2064,2185:4248]\n",
      "[8:2064,1:2064]\n",
      "[2171:4227,2185:4248]\n",
      "[2171:4227,1:2064]\n"
     ]
    }
   ],
   "source": [
    "for ii in range(4):\n",
    "    print(hdu_pix[0].header[f'DSEC{ii}'])"
   ]
  },
  {
   "cell_type": "markdown",
   "id": "bb84d2c7",
   "metadata": {},
   "source": [
    "# Overwrite header"
   ]
  },
  {
   "cell_type": "code",
   "execution_count": 14,
   "id": "6d825e8b",
   "metadata": {},
   "outputs": [],
   "source": [
    "head0 = hdul[0].header"
   ]
  },
  {
   "cell_type": "code",
   "execution_count": 17,
   "id": "68af81e7",
   "metadata": {},
   "outputs": [],
   "source": [
    "for card, value in hdu_pix[0].header.items():\n",
    "    head0[card] = value"
   ]
  },
  {
   "cell_type": "markdown",
   "id": "00bdadec",
   "metadata": {},
   "source": [
    "## Write"
   ]
  },
  {
   "cell_type": "code",
   "execution_count": 21,
   "id": "63333a35",
   "metadata": {},
   "outputs": [
    {
     "data": {
      "text/plain": [
       "'[2170:2118,4248:2185]'"
      ]
     },
     "execution_count": 21,
     "metadata": {},
     "output_type": "execute_result"
    }
   ],
   "source": [
    "hdul[0].header['BSEC4']"
   ]
  },
  {
   "cell_type": "code",
   "execution_count": 22,
   "id": "afc7781a",
   "metadata": {},
   "outputs": [
    {
     "name": "stderr",
     "output_type": "stream",
     "text": [
      "WARNING: VerifyWarning: Card is too long, comment will be truncated. [astropy.io.fits.card]\n"
     ]
    }
   ],
   "source": [
    "hdul.writeto(dfile.replace('.fits', '_upd.fits'))"
   ]
  },
  {
   "cell_type": "markdown",
   "id": "099fe7b6",
   "metadata": {},
   "source": [
    "# Loop me"
   ]
  },
  {
   "cell_type": "code",
   "execution_count": 27,
   "id": "b640890a",
   "metadata": {},
   "outputs": [
    {
     "data": {
      "text/plain": [
       "['/scratch/REDUX/Keck/LRIS/new_LRISr/Raw/r211004_00006.fits',\n",
       " '/scratch/REDUX/Keck/LRIS/new_LRISr/Raw/r211004_00003.fits',\n",
       " '/scratch/REDUX/Keck/LRIS/new_LRISr/Raw/r211004_00008.fits',\n",
       " '/scratch/REDUX/Keck/LRIS/new_LRISr/Raw/r211004_00005.fits',\n",
       " '/scratch/REDUX/Keck/LRIS/new_LRISr/Raw/r211004_00004.fits',\n",
       " '/scratch/REDUX/Keck/LRIS/new_LRISr/Raw/r211004_00007.fits',\n",
       " '/scratch/REDUX/Keck/LRIS/new_LRISr/Raw/r211004_00009.fits']"
      ]
     },
     "execution_count": 27,
     "metadata": {},
     "output_type": "execute_result"
    }
   ],
   "source": [
    "rfiles = glob.glob(rpath+'/*.fits')\n",
    "rfiles"
   ]
  },
  {
   "cell_type": "code",
   "execution_count": 29,
   "id": "6046b2ad",
   "metadata": {},
   "outputs": [],
   "source": [
    "for rfile in rfiles:\n",
    "    hdul = fits.open(rfile)\n",
    "    head0 = hdul[0].header\n",
    "    for card, value in hdu_pix[0].header.items():\n",
    "        head0[card] = value\n",
    "    # Write\n",
    "    hdul.writeto(rfile.replace('.fits', '_upd.fits'))"
   ]
  },
  {
   "cell_type": "markdown",
   "id": "097e963e",
   "metadata": {},
   "source": [
    "## Moved them to their own folder.."
   ]
  },
  {
   "cell_type": "markdown",
   "id": "a676fd43",
   "metadata": {},
   "source": [
    "----"
   ]
  },
  {
   "cell_type": "markdown",
   "id": "220610d8",
   "metadata": {},
   "source": [
    "# Reudcin"
   ]
  },
  {
   "cell_type": "markdown",
   "id": "ac14c786",
   "metadata": {},
   "source": [
    "## Test\n",
    "\n",
    "## pypeit_view_fits keck_lris_red_mark4 r211004_00003_upd.fits\n",
    "\n",
    "### Looks good!"
   ]
  },
  {
   "cell_type": "markdown",
   "id": "b45bc87f",
   "metadata": {},
   "source": [
    "## pypeit_view_fits keck_lris_red_mark4 r211004_00003_upd.fits --proc"
   ]
  },
  {
   "cell_type": "code",
   "execution_count": null,
   "id": "b3fca9b6",
   "metadata": {},
   "outputs": [],
   "source": [
    "## Setup\n",
    "\n",
    "## "
   ]
  },
  {
   "cell_type": "markdown",
   "id": "0bd8ab91",
   "metadata": {},
   "source": [
    "----"
   ]
  },
  {
   "cell_type": "markdown",
   "id": "00e0078b",
   "metadata": {},
   "source": [
    "# Extract me"
   ]
  },
  {
   "cell_type": "code",
   "execution_count": 14,
   "id": "6122c935",
   "metadata": {},
   "outputs": [],
   "source": [
    "final_img = np.zeros((2064*2, 2057*2))"
   ]
  },
  {
   "cell_type": "markdown",
   "id": "38df5deb",
   "metadata": {},
   "source": [
    "## Amp L1, aka AMPID3, aka readout sequence 2"
   ]
  },
  {
   "cell_type": "code",
   "execution_count": 18,
   "id": "d5d9c788",
   "metadata": {},
   "outputs": [
    {
     "data": {
      "text/plain": [
       "[[4247, 2185], [7, 2064]]"
      ]
     },
     "execution_count": 18,
     "metadata": {},
     "output_type": "execute_result"
    }
   ],
   "source": [
    "parse.load_sections(head0['DSEC3'], fmt_iraf=True)"
   ]
  },
  {
   "cell_type": "code",
   "execution_count": 43,
   "id": "6cb4bc7a",
   "metadata": {},
   "outputs": [
    {
     "data": {
      "text/plain": [
       "(slice(7, 2064, None), slice(4247, 2183, -1))"
      ]
     },
     "execution_count": 43,
     "metadata": {},
     "output_type": "execute_result"
    }
   ],
   "source": [
    "slice3 = parse.sec2slice(head0['DSEC3'], one_indexed=True, include_end=True)\n",
    "slice3"
   ]
  },
  {
   "cell_type": "code",
   "execution_count": 44,
   "id": "b14e1ccd",
   "metadata": {},
   "outputs": [
    {
     "data": {
      "text/plain": [
       "(slice(4247, 2183, -1), slice(7, 2064, None))"
      ]
     },
     "execution_count": 44,
     "metadata": {},
     "output_type": "execute_result"
    }
   ],
   "source": [
    "slice3b = (slice3[1], slice3[0])\n",
    "slice3b"
   ]
  },
  {
   "cell_type": "code",
   "execution_count": 45,
   "id": "d36ef82f",
   "metadata": {},
   "outputs": [
    {
     "data": {
      "text/plain": [
       "(2064, 2057)"
      ]
     },
     "execution_count": 45,
     "metadata": {},
     "output_type": "execute_result"
    }
   ],
   "source": [
    "amp_l1 = raw_data[slice3b]\n",
    "amp_l1.shape"
   ]
  },
  {
   "cell_type": "code",
   "execution_count": 51,
   "id": "9492fe56",
   "metadata": {},
   "outputs": [
    {
     "data": {
      "text/plain": [
       "(<ginga.util.grc.RemoteClient at 0x7f23ab92ef10>,\n",
       " <ginga.util.grc._channel_proxy at 0x7f23ab92e9d0>)"
      ]
     },
     "execution_count": 51,
     "metadata": {},
     "output_type": "execute_result"
    }
   ],
   "source": [
    "display.show_image(amp_l1)"
   ]
  },
  {
   "cell_type": "markdown",
   "id": "2ea6118f",
   "metadata": {},
   "source": [
    "## Amp L2"
   ]
  },
  {
   "cell_type": "code",
   "execution_count": 47,
   "id": "55c82513",
   "metadata": {},
   "outputs": [
    {
     "data": {
      "text/plain": [
       "(slice(4226, 2169, -1), slice(0, 2064, None))"
      ]
     },
     "execution_count": 47,
     "metadata": {},
     "output_type": "execute_result"
    }
   ],
   "source": [
    "slice2 = parse.sec2slice(head0['DSEC2'], one_indexed=True, include_end=True)\n",
    "slice2"
   ]
  },
  {
   "cell_type": "code",
   "execution_count": 48,
   "id": "e5307beb",
   "metadata": {},
   "outputs": [],
   "source": [
    "slice2b = (slice2[1], slice2[0])"
   ]
  },
  {
   "cell_type": "code",
   "execution_count": 49,
   "id": "94efd93b",
   "metadata": {},
   "outputs": [
    {
     "data": {
      "text/plain": [
       "(2064, 2057)"
      ]
     },
     "execution_count": 49,
     "metadata": {},
     "output_type": "execute_result"
    }
   ],
   "source": [
    "amp_l2 = raw_data[slice2b]\n",
    "amp_l2.shape"
   ]
  },
  {
   "cell_type": "code",
   "execution_count": 50,
   "id": "3cb9c4ed",
   "metadata": {},
   "outputs": [
    {
     "data": {
      "text/plain": [
       "(<ginga.util.grc.RemoteClient at 0x7f23ab92ed30>,\n",
       " <ginga.util.grc._channel_proxy at 0x7f23ab92e160>)"
      ]
     },
     "execution_count": 50,
     "metadata": {},
     "output_type": "execute_result"
    }
   ],
   "source": [
    "display.show_image(amp_l2)"
   ]
  },
  {
   "cell_type": "markdown",
   "id": "aac3a582",
   "metadata": {},
   "source": [
    "----"
   ]
  },
  {
   "cell_type": "code",
   "execution_count": 33,
   "id": "10f87403",
   "metadata": {},
   "outputs": [
    {
     "data": {
      "text/plain": [
       "2057.0"
      ]
     },
     "execution_count": 33,
     "metadata": {},
     "output_type": "execute_result"
    }
   ],
   "source": [
    "4114/2"
   ]
  },
  {
   "cell_type": "code",
   "execution_count": null,
   "id": "7a452b21",
   "metadata": {},
   "outputs": [],
   "source": []
  }
 ],
 "metadata": {
  "kernelspec": {
   "display_name": "Python 3 (ipykernel)",
   "language": "python",
   "name": "python3"
  },
  "language_info": {
   "codemirror_mode": {
    "name": "ipython",
    "version": 3
   },
   "file_extension": ".py",
   "mimetype": "text/x-python",
   "name": "python",
   "nbconvert_exporter": "python",
   "pygments_lexer": "ipython3",
   "version": "3.8.5"
  }
 },
 "nbformat": 4,
 "nbformat_minor": 5
}
