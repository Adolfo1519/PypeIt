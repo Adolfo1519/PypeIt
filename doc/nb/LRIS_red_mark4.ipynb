{
 "cells": [
  {
   "cell_type": "markdown",
   "id": "1719939a",
   "metadata": {},
   "source": [
    "# New LRISr Mark4 detector"
   ]
  },
  {
   "cell_type": "code",
   "execution_count": 23,
   "id": "96f7d2dd",
   "metadata": {},
   "outputs": [],
   "source": [
    "# imports\n",
    "import os, glob\n",
    "import numpy as np\n",
    "\n",
    "from astropy.io import fits\n",
    "\n",
    "from pypeit.core import parse\n",
    "from pypeit.display import display"
   ]
  },
  {
   "cell_type": "markdown",
   "id": "a8a5dd31",
   "metadata": {},
   "source": [
    "# Load data"
   ]
  },
  {
   "cell_type": "code",
   "execution_count": 8,
   "id": "154c0e87",
   "metadata": {},
   "outputs": [],
   "source": [
    "dpath = '/scratch/REDUX/Keck/LRIS/new_LRISr'\n",
    "rpath = os.path.join(dpath, 'Raw')"
   ]
  },
  {
   "cell_type": "code",
   "execution_count": 9,
   "id": "58d12873",
   "metadata": {},
   "outputs": [],
   "source": [
    "dfile = os.path.join(rpath, 'r211004_00003.fits')"
   ]
  },
  {
   "cell_type": "code",
   "execution_count": 4,
   "id": "ed15b755",
   "metadata": {},
   "outputs": [],
   "source": [
    "hdul = fits.open(dfile)"
   ]
  },
  {
   "cell_type": "code",
   "execution_count": 5,
   "id": "93a4fe62",
   "metadata": {},
   "outputs": [
    {
     "name": "stdout",
     "output_type": "stream",
     "text": [
      "Filename: /scratch/REDUX/Keck/LRIS/new_LRISr/Raw/r211004_00003.fits\n",
      "No.    Name      Ver    Type      Cards   Dimensions   Format\n",
      "  0  PRIMARY       1 PrimaryHDU     344   (4234, 4248)   int16 (rescales to uint16)   \n",
      "  1  Exposure Events    1 TableHDU        17   3R x 2C   [A26, A80]   \n"
     ]
    }
   ],
   "source": [
    "hdul.info()"
   ]
  },
  {
   "cell_type": "code",
   "execution_count": 6,
   "id": "7c7f9483",
   "metadata": {},
   "outputs": [],
   "source": [
    "raw_data = hdul[0].data.astype(float)"
   ]
  },
  {
   "cell_type": "code",
   "execution_count": 7,
   "id": "5a0e2a10",
   "metadata": {},
   "outputs": [
    {
     "data": {
      "text/plain": [
       "(4248, 4234)"
      ]
     },
     "execution_count": 7,
     "metadata": {},
     "output_type": "execute_result"
    }
   ],
   "source": [
    "raw_data.shape"
   ]
  },
  {
   "cell_type": "markdown",
   "id": "2b46502e",
   "metadata": {},
   "source": [
    "# Load pixel file"
   ]
  },
  {
   "cell_type": "code",
   "execution_count": 12,
   "id": "d3650628",
   "metadata": {},
   "outputs": [],
   "source": [
    "pix_file = os.path.join(dpath, 'pixelsL2U2L1U1_1_1.fits')"
   ]
  },
  {
   "cell_type": "code",
   "execution_count": 13,
   "id": "e973b5ac",
   "metadata": {},
   "outputs": [
    {
     "name": "stdout",
     "output_type": "stream",
     "text": [
      "Filename: /scratch/REDUX/Keck/LRIS/new_LRISr/pixelsL2U2L1U1_1_1.fits\n",
      "No.    Name      Ver    Type      Cards   Dimensions   Format\n",
      "  0  PRIMARY       1 PrimaryHDU     217   (4234, 4248)   int16   \n"
     ]
    }
   ],
   "source": [
    "hdu_pix = fits.open(pix_file)\n",
    "hdu_pix.info()"
   ]
  },
  {
   "cell_type": "markdown",
   "id": "3ad42c37",
   "metadata": {},
   "source": [
    "# Overwrite header"
   ]
  },
  {
   "cell_type": "code",
   "execution_count": 14,
   "id": "5a233d47",
   "metadata": {},
   "outputs": [],
   "source": [
    "head0 = hdul[0].header"
   ]
  },
  {
   "cell_type": "code",
   "execution_count": 17,
   "id": "fb457779",
   "metadata": {},
   "outputs": [],
   "source": [
    "for card, value in hdu_pix[0].header.items():\n",
    "    head0[card] = value"
   ]
  },
  {
   "cell_type": "markdown",
   "id": "40eb907e",
   "metadata": {},
   "source": [
    "## Write"
   ]
  },
  {
   "cell_type": "code",
   "execution_count": 21,
   "id": "86ff1eff",
   "metadata": {},
   "outputs": [
    {
     "data": {
      "text/plain": [
       "'[2170:2118,4248:2185]'"
      ]
     },
     "execution_count": 21,
     "metadata": {},
     "output_type": "execute_result"
    }
   ],
   "source": [
    "hdul[0].header['BSEC4']"
   ]
  },
  {
   "cell_type": "code",
   "execution_count": 22,
   "id": "f324676e",
   "metadata": {},
   "outputs": [
    {
     "name": "stderr",
     "output_type": "stream",
     "text": [
      "WARNING: VerifyWarning: Card is too long, comment will be truncated. [astropy.io.fits.card]\n"
     ]
    }
   ],
   "source": [
    "hdul.writeto(dfile.replace('.fits', '_upd.fits'))"
   ]
  },
  {
   "cell_type": "markdown",
   "id": "1f7e1ee4",
   "metadata": {},
   "source": [
    "# Loop me"
   ]
  },
  {
   "cell_type": "code",
   "execution_count": 27,
   "id": "148324d1",
   "metadata": {},
   "outputs": [
    {
     "data": {
      "text/plain": [
       "['/scratch/REDUX/Keck/LRIS/new_LRISr/Raw/r211004_00006.fits',\n",
       " '/scratch/REDUX/Keck/LRIS/new_LRISr/Raw/r211004_00003.fits',\n",
       " '/scratch/REDUX/Keck/LRIS/new_LRISr/Raw/r211004_00008.fits',\n",
       " '/scratch/REDUX/Keck/LRIS/new_LRISr/Raw/r211004_00005.fits',\n",
       " '/scratch/REDUX/Keck/LRIS/new_LRISr/Raw/r211004_00004.fits',\n",
       " '/scratch/REDUX/Keck/LRIS/new_LRISr/Raw/r211004_00007.fits',\n",
       " '/scratch/REDUX/Keck/LRIS/new_LRISr/Raw/r211004_00009.fits']"
      ]
     },
     "execution_count": 27,
     "metadata": {},
     "output_type": "execute_result"
    }
   ],
   "source": [
    "rfiles = glob.glob(rpath+'/*.fits')\n",
    "rfiles"
   ]
  },
  {
   "cell_type": "code",
   "execution_count": 29,
   "id": "bfcabc33",
   "metadata": {},
   "outputs": [],
   "source": [
    "for rfile in rfiles:\n",
    "    hdul = fits.open(rfile)\n",
    "    head0 = hdul[0].header\n",
    "    for card, value in hdu_pix[0].header.items():\n",
    "        head0[card] = value\n",
    "    # Write\n",
    "    hdul.writeto(rfile.replace('.fits', '_upd.fits'))"
   ]
  },
  {
   "cell_type": "markdown",
   "id": "622f8bca",
   "metadata": {},
   "source": [
    "## Moved them to their own folder.."
   ]
  },
  {
   "cell_type": "markdown",
   "id": "c4a2d4ff",
   "metadata": {},
   "source": [
    "----"
   ]
  },
  {
   "cell_type": "markdown",
   "id": "4be577db",
   "metadata": {},
   "source": [
    "# Reudcin"
   ]
  },
  {
   "cell_type": "markdown",
   "id": "1e9851e8",
   "metadata": {},
   "source": [
    "## Test\n",
    "\n",
    "## pypeit_view_fits keck_lris_red_mark4 r211004_00003_upd.fits"
   ]
  },
  {
   "cell_type": "code",
   "execution_count": null,
   "id": "1191f612",
   "metadata": {},
   "outputs": [],
   "source": [
    "## Setup\n",
    "\n",
    "## "
   ]
  },
  {
   "cell_type": "markdown",
   "id": "608e7df1",
   "metadata": {},
   "source": [
    "----"
   ]
  },
  {
   "cell_type": "markdown",
   "id": "8159e223",
   "metadata": {},
   "source": [
    "# Extract me"
   ]
  },
  {
   "cell_type": "code",
   "execution_count": 14,
   "id": "dc239bde",
   "metadata": {},
   "outputs": [],
   "source": [
    "final_img = np.zeros((2064*2, 2057*2))"
   ]
  },
  {
   "cell_type": "markdown",
   "id": "13d30473",
   "metadata": {},
   "source": [
    "## Amp L1, aka AMPID3, aka readout sequence 2"
   ]
  },
  {
   "cell_type": "code",
   "execution_count": 18,
   "id": "ecb32d76",
   "metadata": {},
   "outputs": [
    {
     "data": {
      "text/plain": [
       "[[4247, 2185], [7, 2064]]"
      ]
     },
     "execution_count": 18,
     "metadata": {},
     "output_type": "execute_result"
    }
   ],
   "source": [
    "parse.load_sections(head0['DSEC3'], fmt_iraf=True)"
   ]
  },
  {
   "cell_type": "code",
   "execution_count": 43,
   "id": "f0682bd0",
   "metadata": {},
   "outputs": [
    {
     "data": {
      "text/plain": [
       "(slice(7, 2064, None), slice(4247, 2183, -1))"
      ]
     },
     "execution_count": 43,
     "metadata": {},
     "output_type": "execute_result"
    }
   ],
   "source": [
    "slice3 = parse.sec2slice(head0['DSEC3'], one_indexed=True, include_end=True)\n",
    "slice3"
   ]
  },
  {
   "cell_type": "code",
   "execution_count": 44,
   "id": "1dc9bb94",
   "metadata": {},
   "outputs": [
    {
     "data": {
      "text/plain": [
       "(slice(4247, 2183, -1), slice(7, 2064, None))"
      ]
     },
     "execution_count": 44,
     "metadata": {},
     "output_type": "execute_result"
    }
   ],
   "source": [
    "slice3b = (slice3[1], slice3[0])\n",
    "slice3b"
   ]
  },
  {
   "cell_type": "code",
   "execution_count": 45,
   "id": "1df6ce1f",
   "metadata": {},
   "outputs": [
    {
     "data": {
      "text/plain": [
       "(2064, 2057)"
      ]
     },
     "execution_count": 45,
     "metadata": {},
     "output_type": "execute_result"
    }
   ],
   "source": [
    "amp_l1 = raw_data[slice3b]\n",
    "amp_l1.shape"
   ]
  },
  {
   "cell_type": "code",
   "execution_count": 51,
   "id": "6b4a7ad4",
   "metadata": {},
   "outputs": [
    {
     "data": {
      "text/plain": [
       "(<ginga.util.grc.RemoteClient at 0x7f23ab92ef10>,\n",
       " <ginga.util.grc._channel_proxy at 0x7f23ab92e9d0>)"
      ]
     },
     "execution_count": 51,
     "metadata": {},
     "output_type": "execute_result"
    }
   ],
   "source": [
    "display.show_image(amp_l1)"
   ]
  },
  {
   "cell_type": "markdown",
   "id": "68163859",
   "metadata": {},
   "source": [
    "## Amp L2"
   ]
  },
  {
   "cell_type": "code",
   "execution_count": 47,
   "id": "f74ef83d",
   "metadata": {},
   "outputs": [
    {
     "data": {
      "text/plain": [
       "(slice(4226, 2169, -1), slice(0, 2064, None))"
      ]
     },
     "execution_count": 47,
     "metadata": {},
     "output_type": "execute_result"
    }
   ],
   "source": [
    "slice2 = parse.sec2slice(head0['DSEC2'], one_indexed=True, include_end=True)\n",
    "slice2"
   ]
  },
  {
   "cell_type": "code",
   "execution_count": 48,
   "id": "6b0a768c",
   "metadata": {},
   "outputs": [],
   "source": [
    "slice2b = (slice2[1], slice2[0])"
   ]
  },
  {
   "cell_type": "code",
   "execution_count": 49,
   "id": "35d470d8",
   "metadata": {},
   "outputs": [
    {
     "data": {
      "text/plain": [
       "(2064, 2057)"
      ]
     },
     "execution_count": 49,
     "metadata": {},
     "output_type": "execute_result"
    }
   ],
   "source": [
    "amp_l2 = raw_data[slice2b]\n",
    "amp_l2.shape"
   ]
  },
  {
   "cell_type": "code",
   "execution_count": 50,
   "id": "45a1e545",
   "metadata": {},
   "outputs": [
    {
     "data": {
      "text/plain": [
       "(<ginga.util.grc.RemoteClient at 0x7f23ab92ed30>,\n",
       " <ginga.util.grc._channel_proxy at 0x7f23ab92e160>)"
      ]
     },
     "execution_count": 50,
     "metadata": {},
     "output_type": "execute_result"
    }
   ],
   "source": [
    "display.show_image(amp_l2)"
   ]
  },
  {
   "cell_type": "markdown",
   "id": "bfd8840b",
   "metadata": {},
   "source": [
    "----"
   ]
  },
  {
   "cell_type": "code",
   "execution_count": null,
   "id": "ee63935a",
   "metadata": {},
   "outputs": [],
   "source": []
  }
 ],
 "metadata": {
  "kernelspec": {
   "display_name": "Python 3 (ipykernel)",
   "language": "python",
   "name": "python3"
  },
  "language_info": {
   "codemirror_mode": {
    "name": "ipython",
    "version": 3
   },
   "file_extension": ".py",
   "mimetype": "text/x-python",
   "name": "python",
   "nbconvert_exporter": "python",
   "pygments_lexer": "ipython3",
   "version": "3.8.5"
  }
 },
 "nbformat": 4,
 "nbformat_minor": 5
}
