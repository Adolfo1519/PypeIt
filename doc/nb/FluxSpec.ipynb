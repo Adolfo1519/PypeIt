{
 "cells": [
  {
   "cell_type": "markdown",
   "metadata": {},
   "source": [
    "# Fluxing with PYPIT [v1.1]"
   ]
  },
  {
   "cell_type": "code",
   "execution_count": 1,
   "metadata": {
    "collapsed": true
   },
   "outputs": [],
   "source": [
    "%matplotlib inline"
   ]
  },
  {
   "cell_type": "code",
   "execution_count": 2,
   "metadata": {
    "collapsed": true
   },
   "outputs": [],
   "source": [
    "# import\n",
    "from importlib import reload\n",
    "import os\n",
    "from matplotlib import pyplot as plt\n",
    "import glob\n",
    "import numpy as np\n",
    "\n",
    "from astropy.table import Table\n",
    "\n",
    "from pypit import fluxspec"
   ]
  },
  {
   "cell_type": "markdown",
   "metadata": {},
   "source": [
    "## Running the script "
   ]
  },
  {
   "cell_type": "markdown",
   "metadata": {},
   "source": [
    "### Generate the sensitivity function from an extracted standard star\n",
    "\n",
    "#### Output is in sensfunc_file\n",
    "\n",
    "    pypit_flux_spec sensfunc --std_file=spec1d_Feige66_KASTb_2015May20T041246.96.fits  --instr=shane_kast_blue --sensfunc_file=tmp.yaml"
   ]
  },
  {
   "cell_type": "markdown",
   "metadata": {},
   "source": [
    "### Apply it to all spectra a spec1d science file\n",
    "\n",
    "#### Output is in flux_file\n",
    "\n",
    "    pypit_flux_spec flux --sci_file=spec1d_J1217p3905_KASTb_2015May20T045733.56.fits --sensfunc_file=tmp.yaml --flux_file=tmp.fits"
   ]
  },
  {
   "cell_type": "markdown",
   "metadata": {},
   "source": [
    "### You can do it in one go if you really want..\n",
    "\n",
    "    pypit_flux_spec sensfunc,flux --std_file=spec1d_Feige66_KASTb_2015May20T041246.96.fits --sci_file=spec1d_J1217p3905_KASTb_2015May20T045733.56.fits --sensfunc_file=tmp.yaml --flux_file=tmp.fits"
   ]
  },
  {
   "cell_type": "markdown",
   "metadata": {},
   "source": [
    "### Multi-detector (DEIMOS)\n",
    "    pypit_flux_spec sensfunc --std_file=spec1d_G191B2B_DEIMOS_2017Sep14T152432.fits  --instr=keck_deimos --sensfunc_file=sens.yaml --multi_det=3,7"
   ]
  },
  {
   "cell_type": "markdown",
   "metadata": {},
   "source": [
    "----"
   ]
  },
  {
   "cell_type": "markdown",
   "metadata": {},
   "source": [
    "## To play along from here, you need the Development suite *reduced* \n",
    "\n",
    "### And the $PYPIT_DEV environmental variable pointed at it"
   ]
  },
  {
   "cell_type": "code",
   "execution_count": 3,
   "metadata": {},
   "outputs": [
    {
     "data": {
      "text/plain": [
       "'/data/Projects/Python/PYPIT-development-suite/'"
      ]
     },
     "execution_count": 3,
     "metadata": {},
     "output_type": "execute_result"
    }
   ],
   "source": [
    "os.getenv('PYPIT_DEV')"
   ]
  },
  {
   "cell_type": "markdown",
   "metadata": {},
   "source": [
    "## Instantiate from spec1d file"
   ]
  },
  {
   "cell_type": "code",
   "execution_count": 4,
   "metadata": {
    "collapsed": true
   },
   "outputs": [],
   "source": [
    "std_file = os.getenv('PYPIT_DEV')+'Cooked/Science/spec1d_Feige66_KASTb_2015May20T041246.96.fits'\n",
    "sci_file = os.getenv('PYPIT_DEV')+'Cooked/Science/spec1d_J1217p3905_KASTb_2015May20T045733.56.fits'"
   ]
  },
  {
   "cell_type": "code",
   "execution_count": 5,
   "metadata": {
    "scrolled": true
   },
   "outputs": [
    {
     "name": "stderr",
     "output_type": "stream",
     "text": [
      "\u001b[1;32m[INFO]    ::\u001b[0m \u001b[1;34marparse.py 75 load_file()\u001b[0m - Loading default settings\n",
      "\u001b[1;32m[INFO]    ::\u001b[0m \u001b[1;34marparse.py 87 load_file()\u001b[0m - Loading base settings from settings.baseargflag\n",
      "\u001b[1;32m[INFO]    ::\u001b[0m \u001b[1;34marparse.py 1393 run_ncpus()\u001b[0m - Setting 19 CPUs\n",
      "\u001b[1;32m[INFO]    ::\u001b[0m \u001b[1;34marparse.py 75 load_file()\u001b[0m - Loading default settings\n",
      "\u001b[1;32m[INFO]    ::\u001b[0m \u001b[1;34marparse.py 75 load_file()\u001b[0m - Loading default settings\n",
      "\u001b[1;32m[INFO]    ::\u001b[0m \u001b[1;34marparse.py 87 load_file()\u001b[0m - Loading base settings from settings.basespect\n",
      "\u001b[1;32m[INFO]    ::\u001b[0m \u001b[1;34marparse.py 75 load_file()\u001b[0m - Loading default settings\n",
      "\u001b[1;32m[INFO]    ::\u001b[0m \u001b[1;34marparse.py 75 load_file()\u001b[0m - Loading default settings\n",
      "\u001b[1;32m[INFO]    ::\u001b[0m \u001b[1;34marparse.py 87 load_file()\u001b[0m - Loading base settings from settings.basespect\n",
      "\u001b[1;32m[INFO]    ::\u001b[0m \u001b[1;34marparse.py 75 load_file()\u001b[0m - Loading default settings\n",
      "\u001b[1;32m[INFO]    ::\u001b[0m \u001b[1;34mfluxspec.py 100 __init__()\u001b[0m - Loaded 1 spectra from the spec1d standard star file: /data/Projects/Python/PYPIT-development-suite/REDUX_OUT/Shane_Kast_blue/600_4310_d55/shane_kast_blue_setup_A/Science/spec1d_Feige66_KASTb_2015May20T041246.96.fits\n",
      "\u001b[1;32m[INFO]    ::\u001b[0m \u001b[1;34mfluxspec.py 103 __init__()\u001b[0m - Loaded spectra from the spec1d science file: /data/Projects/Python/PYPIT-development-suite/REDUX_OUT/Shane_Kast_blue/600_4310_d55/shane_kast_blue_setup_A/Science/spec1d_J1217p3905_KASTb_2015May20T045733.56.fits\n"
     ]
    }
   ],
   "source": [
    "# nit\n",
    "reload(fluxspec)\n",
    "FxSpec = fluxspec.FluxSpec(std_spec1d_file=std_file, spectrograph='shane_kast_blue', sci_spec1d_file=sci_file, setup='A_01_aa')"
   ]
  },
  {
   "cell_type": "markdown",
   "metadata": {},
   "source": [
    "## Find the standard (from the brightest spectrum)"
   ]
  },
  {
   "cell_type": "code",
   "execution_count": 6,
   "metadata": {},
   "outputs": [
    {
     "name": "stderr",
     "output_type": "stream",
     "text": [
      "\u001b[1;32m[INFO]    ::\u001b[0m \u001b[1;34marflux.py 435 find_standard()\u001b[0m - Putative standard star has a median boxcar count of 16657.892060782513\n"
     ]
    },
    {
     "data": {
      "text/plain": [
       "<SpecObjExp: O479-S5009-D01-I0023 == Setup dum_config Object at 0.479 in Slit at 0.5009 with det=01, scidx=23 and objtype=unknown>"
      ]
     },
     "execution_count": 6,
     "metadata": {},
     "output_type": "execute_result"
    }
   ],
   "source": [
    "std = FxSpec.find_standard()\n",
    "std"
   ]
  },
  {
   "cell_type": "markdown",
   "metadata": {},
   "source": [
    "## Sensitivity Function"
   ]
  },
  {
   "cell_type": "code",
   "execution_count": 7,
   "metadata": {},
   "outputs": [
    {
     "name": "stderr",
     "output_type": "stream",
     "text": [
      "\u001b[1;32m[INFO]    ::\u001b[0m \u001b[1;34marflux.py 370 load_extinction_data()\u001b[0m - Using mthamextinct.dat for extinction corrections.\n",
      "\u001b[1;32m[INFO]    ::\u001b[0m \u001b[1;34marflux.py 300 find_standard_file()\u001b[0m - Using standard star FEIGE66\n",
      "\u001b[1;32m[INFO]    ::\u001b[0m \u001b[1;34marflux.py 406 load_standard_file()\u001b[0m - Loading standard star file: /data/Projects/Python/PYPIT/pypit/data/standards/calspec/feige66_002.fits.gz\n",
      "\u001b[1;32m[INFO]    ::\u001b[0m \u001b[1;34marflux.py 407 load_standard_file()\u001b[0m - Fluxes are flambda, normalized to 1e-17\n",
      "\u001b[1;32m[INFO]    ::\u001b[0m \u001b[1;34marflux.py 500 generate_sensfunc()\u001b[0m - Masking edges\n",
      "\u001b[1;31m[WARNING] ::\u001b[0m \u001b[1;34marflux.py 506 generate_sensfunc()\u001b[0m - Should pull resolution from arc line analysis\n",
      "\u001b[1;32m[INFO]    ::\u001b[0m \u001b[1;34marflux.py 510 generate_sensfunc()\u001b[0m - Masking Balmer\n",
      "\u001b[1;32m[INFO]    ::\u001b[0m \u001b[1;34marflux.py 518 generate_sensfunc()\u001b[0m - Masking Telluric\n",
      "\u001b[1;32m[INFO]    ::\u001b[0m \u001b[1;34marflux.py 525 generate_sensfunc()\u001b[0m - Masking Below the atmospheric cutoff\n",
      "\u001b[1;32m[INFO]    ::\u001b[0m \u001b[1;34marflux.py 203 bspline_magfit()\u001b[0m - Difference between fits is 0.000212286\n",
      "\u001b[1;30m[WORK IN ]::\u001b[0m\n",
      "\u001b[1;33m[PROGRESS]::\u001b[0m \u001b[1;34marflux.py 206 bspline_magfit()\u001b[0m - Add QA for sensitivity function\n"
     ]
    },
    {
     "data": {
      "text/plain": [
       "{'c': [array([3436.35157382, 3436.35157382, 3436.35157382, 3436.35157382,\n",
       "         3477.70046133, 3519.04934884, 3560.39823635, 3601.74712386,\n",
       "         3643.09601137, 3684.44489888, 3725.79378639, 3767.1426739 ,\n",
       "         3808.49156141, 3849.84044892, 3891.18933643, 3932.53822394,\n",
       "         3973.88711145, 4015.23599896, 4056.58488647, 4097.93377398,\n",
       "         4139.28266149, 4180.631549  , 4221.98043651, 4263.32932402,\n",
       "         4304.67821153, 4346.02709904, 4387.37598655, 4428.72487406,\n",
       "         4470.07376157, 4511.42264908, 4552.77153659, 4594.1204241 ,\n",
       "         4635.46931161, 4676.81819912, 4718.16708663, 4759.51597414,\n",
       "         4800.86486165, 4842.21374916, 4883.56263667, 4924.91152418,\n",
       "         4966.26041169, 5007.6092992 , 5048.95818671, 5090.30707422,\n",
       "         5131.65596173, 5173.00484924, 5214.35373675, 5255.70262426,\n",
       "         5297.05151177, 5338.40039928, 5379.74928679, 5421.0981743 ,\n",
       "         5462.44706181, 5503.79594932, 5503.79594932, 5503.79594932,\n",
       "         5503.79594932]),\n",
       "  array([6.04707975, 6.08934247, 5.90238786, 5.81858705, 5.7528732 ,\n",
       "         5.64956768, 5.50846674, 5.41800797, 5.28465415, 5.23674001,\n",
       "         5.14004239, 5.01412932, 4.94355486, 4.93160923, 4.82849194,\n",
       "         4.76166196, 4.7042502 , 4.64018992, 4.57727642, 4.54595387,\n",
       "         4.50899156, 4.46096142, 4.41415862, 4.36937466, 4.33757117,\n",
       "         4.34906926, 4.29533595, 4.32028361, 4.28960078, 4.26778299,\n",
       "         4.23669921, 4.21826577, 4.19471032, 4.19221483, 4.18405881,\n",
       "         4.1815715 , 4.15716886, 4.14254685, 4.13937347, 4.1411016 ,\n",
       "         4.13140046, 4.1336335 , 4.14869126, 4.17644768, 4.23434284,\n",
       "         4.30122225, 4.39570457, 4.54370945, 4.73008646, 4.97170214,\n",
       "         5.32124358, 5.83912875, 6.24649432, 0.        , 0.        ,\n",
       "         0.        , 0.        ]),\n",
       "  3],\n",
       " 'func': 'bspline',\n",
       " 'max': None,\n",
       " 'min': None,\n",
       " 'std': {'dec': '+25:03:59.9',\n",
       "  'file': '/data/standards/calspec/feige66_002.fits',\n",
       "  'flux': <Quantity [2799786.5   , 2866385.8   , 2786046.5   , ...,    3233.8599,\n",
       "                3226.323 ,    3224.4172] erg / (Angstrom cm2 s)>,\n",
       "  'fmt': 1,\n",
       "  'name': 'FEIGE66',\n",
       "  'ra': '12:37:23.52',\n",
       "  'wave': <Quantity [1147.8  , 1149.   , 1150.2  , ..., 9198.529, 9200.529, 9202.53 ] Angstrom>},\n",
       " 'wave_max': <Quantity 5514.83242898 Angstrom>,\n",
       " 'wave_min': <Quantity 3427.40518181 Angstrom>}"
      ]
     },
     "execution_count": 7,
     "metadata": {},
     "output_type": "execute_result"
    }
   ],
   "source": [
    "sensfunc = FxSpec.generate_sensfunc()\n",
    "sensfunc"
   ]
  },
  {
   "cell_type": "markdown",
   "metadata": {},
   "source": [
    "### Plot"
   ]
  },
  {
   "cell_type": "code",
   "execution_count": 8,
   "metadata": {},
   "outputs": [
    {
     "data": {
      "image/png": "[encoded data removed]",
      "text/plain": [
       "<Figure size 432x288 with 1 Axes>"
      ]
     },
     "metadata": {},
     "output_type": "display_data"
    }
   ],
   "source": [
    "FxSpec.show_sensfunc()"
   ]
  },
  {
   "cell_type": "code",
   "execution_count": 9,
   "metadata": {},
   "outputs": [
    {
     "data": {
      "text/plain": [
       "['find_standard', 'generate_sensfunc']"
      ]
     },
     "execution_count": 9,
     "metadata": {},
     "output_type": "execute_result"
    }
   ],
   "source": [
    "FxSpec.steps"
   ]
  },
  {
   "cell_type": "markdown",
   "metadata": {},
   "source": [
    "## Flux science"
   ]
  },
  {
   "cell_type": "code",
   "execution_count": 10,
   "metadata": {},
   "outputs": [
    {
     "name": "stderr",
     "output_type": "stream",
     "text": [
      "\u001b[1;32m[INFO]    ::\u001b[0m \u001b[1;34marflux.py 370 load_extinction_data()\u001b[0m - Using mthamextinct.dat for extinction corrections.\n",
      "\u001b[1;32m[INFO]    ::\u001b[0m \u001b[1;34marflux.py 46 new_apply_sensfunc()\u001b[0m - Fluxing boxcar extraction for:\n",
      "             <SpecObjExp: O500-S5009-D01-I0024 == Setup dum_config Object at 0.5 in Slit at 0.5009 with det=01, scidx=24 and objtype=unknown>\n",
      "\u001b[1;32m[INFO]    ::\u001b[0m \u001b[1;34marflux.py 46 new_apply_sensfunc()\u001b[0m - Fluxing optimal extraction for:\n",
      "             <SpecObjExp: O500-S5009-D01-I0024 == Setup dum_config Object at 0.5 in Slit at 0.5009 with det=01, scidx=24 and objtype=unknown>\n"
     ]
    }
   ],
   "source": [
    "FxSpec.flux_science()"
   ]
  },
  {
   "cell_type": "code",
   "execution_count": 11,
   "metadata": {},
   "outputs": [
    {
     "data": {
      "text/plain": [
       "{'counts': array([10.93385074, 23.9450477 , 22.67900159, ..., 45.69617815,\n",
       "        36.15994806, 49.86455587]),\n",
       " 'flam': array([0.01770588, 0.03874828, 0.03667356, ..., 0.04488977, 0.03552047,\n",
       "        0.04898085]),\n",
       " 'flam_var': array([0.00035894, 0.00042918, 0.00038679, ..., 0.00015337, 0.00014429,\n",
       "        0.00015296]),\n",
       " 'var': array([136.87781873, 163.89421183, 147.91783914, ..., 158.93377013,\n",
       "        149.53380374, 158.53226772]),\n",
       " 'wave': <Quantity [3427.54208984, 3428.4360771 , 3429.33021426, ..., 5512.79931848,\n",
       "            5513.90316648, 5515.00705956] Angstrom>}"
      ]
     },
     "execution_count": 11,
     "metadata": {},
     "output_type": "execute_result"
    }
   ],
   "source": [
    "FxSpec.sci_specobjs[0].optimal"
   ]
  },
  {
   "cell_type": "markdown",
   "metadata": {},
   "source": [
    "### Plot"
   ]
  },
  {
   "cell_type": "code",
   "execution_count": 12,
   "metadata": {},
   "outputs": [
    {
     "data": {
      "image/png": "[encoded data removed]",
      "text/plain": [
       "<Figure size 432x288 with 1 Axes>"
      ]
     },
     "metadata": {},
     "output_type": "display_data"
    }
   ],
   "source": [
    "plt.clf()\n",
    "ax = plt.gca()\n",
    "ax.plot(FxSpec.sci_specobjs[0].optimal['wave'], FxSpec.sci_specobjs[0].optimal['flam'])\n",
    "ax.plot(FxSpec.sci_specobjs[0].optimal['wave'], np.sqrt(FxSpec.sci_specobjs[0].optimal['flam_var']))\n",
    "ax.set_ylim(-2, 30.)\n",
    "# \n",
    "ax.set_xlabel('Wavelength')\n",
    "ax.set_ylabel('Flux (cgs 1e-17)')\n",
    "plt.show()"
   ]
  },
  {
   "cell_type": "markdown",
   "metadata": {},
   "source": [
    "### Write"
   ]
  },
  {
   "cell_type": "code",
   "execution_count": 13,
   "metadata": {},
   "outputs": [
    {
     "name": "stderr",
     "output_type": "stream",
     "text": [
      "\u001b[1;32m[INFO]    ::\u001b[0m \u001b[1;34marsave.py 459 new_save_1d_spectra_fits()\u001b[0m - Wrote 1D spectra to tmp.fits\n"
     ]
    }
   ],
   "source": [
    "FxSpec.write_science('tmp.fits')"
   ]
  },
  {
   "cell_type": "code",
   "execution_count": 14,
   "metadata": {},
   "outputs": [
    {
     "data": {
      "text/plain": [
       "['find_standard', 'generate_sensfunc', 'flux_science', 'write_science']"
      ]
     },
     "execution_count": 14,
     "metadata": {},
     "output_type": "execute_result"
    }
   ],
   "source": [
    "FxSpec.steps"
   ]
  },
  {
   "cell_type": "markdown",
   "metadata": {},
   "source": [
    "## MasterFrames"
   ]
  },
  {
   "cell_type": "code",
   "execution_count": 15,
   "metadata": {
    "collapsed": true
   },
   "outputs": [],
   "source": [
    "FxSpec.setup = 'A_01_aa'"
   ]
  },
  {
   "cell_type": "code",
   "execution_count": 16,
   "metadata": {},
   "outputs": [
    {
     "data": {
      "text/plain": [
       "{'directory': 'MF_shane_kast_blue',\n",
       " 'force': False,\n",
       " 'loaded': [],\n",
       " 'reuse': False}"
      ]
     },
     "execution_count": 16,
     "metadata": {},
     "output_type": "execute_result"
    }
   ],
   "source": [
    "FxSpec.settings['masters']"
   ]
  },
  {
   "cell_type": "markdown",
   "metadata": {},
   "source": [
    "### Save"
   ]
  },
  {
   "cell_type": "code",
   "execution_count": 17,
   "metadata": {},
   "outputs": [
    {
     "name": "stderr",
     "output_type": "stream",
     "text": [
      "\u001b[1;32m[INFO]    ::\u001b[0m \u001b[1;34mfluxspec.py 195 save_master()\u001b[0m - Wrote sensfunc to MasterFrame: MF_shane_kast_blue/MasterSensFunc_A_aa.yaml\n"
     ]
    }
   ],
   "source": [
    "os.mkdir('MF_shane_kast_blue')\n",
    "FxSpec.save_master()"
   ]
  },
  {
   "cell_type": "markdown",
   "metadata": {},
   "source": [
    "### Load"
   ]
  },
  {
   "cell_type": "code",
   "execution_count": 18,
   "metadata": {},
   "outputs": [
    {
     "data": {
      "text/plain": [
       "dict_keys(['c', 'func', 'max', 'min', 'std', 'steps', 'wave_max', 'wave_min'])"
      ]
     },
     "execution_count": 18,
     "metadata": {},
     "output_type": "execute_result"
    }
   ],
   "source": [
    "sensfunc2, _, _ = FxSpec.load_master_frame(force=True)\n",
    "sensfunc2.keys()"
   ]
  },
  {
   "cell_type": "markdown",
   "metadata": {},
   "source": [
    "## Instantiate from a sensitivity function"
   ]
  },
  {
   "cell_type": "code",
   "execution_count": 19,
   "metadata": {},
   "outputs": [
    {
     "name": "stderr",
     "output_type": "stream",
     "text": [
      "\u001b[1;32m[INFO]    ::\u001b[0m \u001b[1;34mfluxspec.py 103 __init__()\u001b[0m - Loaded spectra from the spec1d science file: /data/Projects/Python/PYPIT-development-suite/REDUX_OUT/Shane_Kast_blue/600_4310_d55/shane_kast_blue_setup_A/Science/spec1d_J1217p3905_KASTb_2015May20T045733.56.fits\n",
      "\u001b[1;31m[WARNING] ::\u001b[0m \u001b[1;34mmasterframe.py 55 __init__()\u001b[0m - MasterFrame class not proper loaded (e.g. no masters in settings).  Avoid using Master methods\n"
     ]
    }
   ],
   "source": [
    "reload(fluxspec)\n",
    "FxSpec3 = fluxspec.FluxSpec(sci_spec1d_file=sci_file, sens_file='MF_shane_kast_blue/MasterSensFunc_A_aa.yaml')"
   ]
  },
  {
   "cell_type": "code",
   "execution_count": 20,
   "metadata": {},
   "outputs": [
    {
     "data": {
      "image/png": "[encoded data removed]",
      "text/plain": [
       "<Figure size 432x288 with 1 Axes>"
      ]
     },
     "metadata": {},
     "output_type": "display_data"
    }
   ],
   "source": [
    "FxSpec3.show_sensfunc()"
   ]
  },
  {
   "cell_type": "markdown",
   "metadata": {},
   "source": [
    "## Clean up\n"
   ]
  },
  {
   "cell_type": "code",
   "execution_count": 21,
   "metadata": {
    "collapsed": true
   },
   "outputs": [],
   "source": [
    "os.remove(FxSpec.ms_name)\n",
    "os.rmdir('MF_shane_kast_blue')"
   ]
  },
  {
   "cell_type": "markdown",
   "metadata": {},
   "source": [
    "----"
   ]
  },
  {
   "cell_type": "markdown",
   "metadata": {},
   "source": [
    "## Development"
   ]
  },
  {
   "cell_type": "code",
   "execution_count": 22,
   "metadata": {},
   "outputs": [
    {
     "name": "stderr",
     "output_type": "stream",
     "text": [
      "\u001b[1;32m[INFO]    ::\u001b[0m \u001b[1;34marparse.py 75 load_file()\u001b[0m - Loading default settings\n",
      "\u001b[1;32m[INFO]    ::\u001b[0m \u001b[1;34marparse.py 87 load_file()\u001b[0m - Loading base settings from settings.baseargflag\n",
      "\u001b[1;32m[INFO]    ::\u001b[0m \u001b[1;34marparse.py 1393 run_ncpus()\u001b[0m - Setting 19 CPUs\n",
      "\u001b[1;32m[INFO]    ::\u001b[0m \u001b[1;34marparse.py 75 load_file()\u001b[0m - Loading default settings\n",
      "\u001b[1;32m[INFO]    ::\u001b[0m \u001b[1;34marparse.py 75 load_file()\u001b[0m - Loading default settings\n",
      "\u001b[1;32m[INFO]    ::\u001b[0m \u001b[1;34marparse.py 87 load_file()\u001b[0m - Loading base settings from settings.basespect\n",
      "\u001b[1;32m[INFO]    ::\u001b[0m \u001b[1;34marparse.py 75 load_file()\u001b[0m - Loading default settings\n",
      "\u001b[1;32m[INFO]    ::\u001b[0m \u001b[1;34marparse.py 75 load_file()\u001b[0m - Loading default settings\n",
      "\u001b[1;32m[INFO]    ::\u001b[0m \u001b[1;34marparse.py 87 load_file()\u001b[0m - Loading base settings from settings.basespect\n",
      "\u001b[1;32m[INFO]    ::\u001b[0m \u001b[1;34marparse.py 75 load_file()\u001b[0m - Loading default settings\n",
      "\u001b[1;32m[INFO]    ::\u001b[0m \u001b[1;34mfluxspec.py 100 __init__()\u001b[0m - Loaded 1 spectra from the spec1d standard star file: /data/Projects/Python/PYPIT-development-suite/REDUX_OUT/Shane_Kast_blue/600_4310_d55/shane_kast_blue_setup_A/Science/spec1d_Feige66_KASTb_2015May20T041246.96.fits\n",
      "\u001b[1;32m[INFO]    ::\u001b[0m \u001b[1;34mfluxspec.py 103 __init__()\u001b[0m - Loaded spectra from the spec1d science file: /data/Projects/Python/PYPIT-development-suite/REDUX_OUT/Shane_Kast_blue/600_4310_d55/shane_kast_blue_setup_A/Science/spec1d_J1217p3905_KASTb_2015May20T045733.56.fits\n"
     ]
    }
   ],
   "source": [
    "reload(fluxspec)\n",
    "FxSpec = fluxspec.FluxSpec(std_spec1d_file=std_file, spectrograph='shane_kast_blue', sci_spec1d_file=sci_file, setup='A_01_aa')"
   ]
  },
  {
   "cell_type": "code",
   "execution_count": 23,
   "metadata": {},
   "outputs": [
    {
     "data": {
      "text/plain": [
       "'O479-S5009-D01-I0023'"
      ]
     },
     "execution_count": 23,
     "metadata": {},
     "output_type": "execute_result"
    }
   ],
   "source": [
    "FxSpec.std_specobjs[0].idx"
   ]
  },
  {
   "cell_type": "code",
   "execution_count": 24,
   "metadata": {},
   "outputs": [
    {
     "data": {
      "text/plain": [
       "<SpecObjExp: O479-S5009-D01-I0023 == Setup dum_config Object at 0.479 in Slit at 0.5009 with det=01, scidx=23 and objtype=unknown>"
      ]
     },
     "execution_count": 24,
     "metadata": {},
     "output_type": "execute_result"
    }
   ],
   "source": [
    "FxSpec._set_std_obj('O479-S5009-D01-I0023')"
   ]
  },
  {
   "cell_type": "code",
   "execution_count": 25,
   "metadata": {},
   "outputs": [
    {
     "data": {
      "text/plain": [
       "<SpecObjExp: O479-S5009-D01-I0023 == Setup dum_config Object at 0.479 in Slit at 0.5009 with det=01, scidx=23 and objtype=unknown>"
      ]
     },
     "execution_count": 25,
     "metadata": {},
     "output_type": "execute_result"
    }
   ],
   "source": [
    "FxSpec._set_std_obj(1)"
   ]
  },
  {
   "cell_type": "code",
   "execution_count": 26,
   "metadata": {},
   "outputs": [
    {
     "data": {
      "text/plain": [
       "<SpecObjExp: O479-S5009-D01-I0023 == Setup dum_config Object at 0.479 in Slit at 0.5009 with det=01, scidx=23 and objtype=unknown>"
      ]
     },
     "execution_count": 26,
     "metadata": {},
     "output_type": "execute_result"
    }
   ],
   "source": [
    "FxSpec.std"
   ]
  },
  {
   "cell_type": "markdown",
   "metadata": {},
   "source": [
    "### Todo\n",
    "    Script\n",
    "    Deal with standard running across multiple detectors (DEIMOS)"
   ]
  },
  {
   "cell_type": "code",
   "execution_count": null,
   "metadata": {
    "collapsed": true
   },
   "outputs": [],
   "source": []
  }
 ],
 "metadata": {
  "kernelspec": {
   "display_name": "Python 3",
   "language": "python",
   "name": "python3"
  },
  "language_info": {
   "codemirror_mode": {
    "name": "ipython",
    "version": 3
   },
   "file_extension": ".py",
   "mimetype": "text/x-python",
   "name": "python",
   "nbconvert_exporter": "python",
   "pygments_lexer": "ipython3",
   "version": "3.6.3"
  }
 },
 "nbformat": 4,
 "nbformat_minor": 2
}
