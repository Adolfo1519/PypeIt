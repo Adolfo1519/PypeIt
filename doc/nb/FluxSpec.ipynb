{
 "cells": [
  {
   "cell_type": "markdown",
   "metadata": {},
   "source": [
    "# Fluxing with PYPIT [v1.0]"
   ]
  },
  {
   "cell_type": "code",
   "execution_count": 1,
   "metadata": {
    "collapsed": true
   },
   "outputs": [],
   "source": [
    "%matplotlib inline"
   ]
  },
  {
   "cell_type": "code",
   "execution_count": 2,
   "metadata": {
    "collapsed": true
   },
   "outputs": [],
   "source": [
    "# import\n",
    "from importlib import reload\n",
    "import os\n",
    "from matplotlib import pyplot as plt\n",
    "import glob\n",
    "import numpy as np\n",
    "\n",
    "from astropy.table import Table\n",
    "\n",
    "from pypit import fluxspec"
   ]
  },
  {
   "cell_type": "markdown",
   "metadata": {},
   "source": [
    "## To play along, you need the Development suite *reduced* \n",
    "\n",
    "### And the $PYPIT_DEV environmental variable pointed at it"
   ]
  },
  {
   "cell_type": "code",
   "execution_count": 3,
   "metadata": {},
   "outputs": [
    {
     "data": {
      "text/plain": [
       "'/home/xavier/local/Python/PYPIT-development-suite/'"
      ]
     },
     "execution_count": 3,
     "metadata": {},
     "output_type": "execute_result"
    }
   ],
   "source": [
    "os.getenv('PYPIT_DEV')"
   ]
  },
  {
   "cell_type": "markdown",
   "metadata": {},
   "source": [
    "## Instantiate from spec1d file"
   ]
  },
  {
   "cell_type": "code",
   "execution_count": 4,
   "metadata": {},
   "outputs": [],
   "source": [
    "std_file = os.getenv('PYPIT_DEV')+'REDUX_OUT/Shane_Kast_blue/600_4310_d55/shane_kast_blue_setup_A/Science/spec1d_Feige66_KASTb_2015May20T041246.96.fits'\n",
    "sci_file = os.getenv('PYPIT_DEV')+'REDUX_OUT/Shane_Kast_blue/600_4310_d55/shane_kast_blue_setup_A/Science/spec1d_J1217p3905_KASTb_2015May20T045733.56.fits'"
   ]
  },
  {
   "cell_type": "code",
   "execution_count": 5,
   "metadata": {
    "scrolled": true
   },
   "outputs": [
    {
     "name": "stderr",
     "output_type": "stream",
     "text": [
      "\u001b[1;32m[INFO]    ::\u001b[0m \u001b[1;34marparse.py 75 load_file()\u001b[0m - Loading default settings\n",
      "\u001b[1;32m[INFO]    ::\u001b[0m \u001b[1;34marparse.py 87 load_file()\u001b[0m - Loading base settings from settings.baseargflag\n",
      "\u001b[1;32m[INFO]    ::\u001b[0m \u001b[1;34marparse.py 1393 run_ncpus()\u001b[0m - Setting 7 CPUs\n",
      "\u001b[1;32m[INFO]    ::\u001b[0m \u001b[1;34marparse.py 75 load_file()\u001b[0m - Loading default settings\n",
      "\u001b[1;32m[INFO]    ::\u001b[0m \u001b[1;34marparse.py 75 load_file()\u001b[0m - Loading default settings\n",
      "\u001b[1;32m[INFO]    ::\u001b[0m \u001b[1;34marparse.py 87 load_file()\u001b[0m - Loading base settings from settings.basespect\n",
      "\u001b[1;32m[INFO]    ::\u001b[0m \u001b[1;34marparse.py 75 load_file()\u001b[0m - Loading default settings\n",
      "\u001b[1;32m[INFO]    ::\u001b[0m \u001b[1;34marparse.py 75 load_file()\u001b[0m - Loading default settings\n",
      "\u001b[1;32m[INFO]    ::\u001b[0m \u001b[1;34marparse.py 87 load_file()\u001b[0m - Loading base settings from settings.basespect\n",
      "\u001b[1;32m[INFO]    ::\u001b[0m \u001b[1;34marparse.py 75 load_file()\u001b[0m - Loading default settings\n",
      "\u001b[1;32m[INFO]    ::\u001b[0m \u001b[1;34mfluxspec.py 100 __init__()\u001b[0m - Loaded 1 spectra from the spec1d standard star file: /home/xavier/local/Python/PYPIT-development-suite/REDUX_OUT/Shane_Kast_blue/600_4310_d55/shane_kast_blue_setup_A/Science/spec1d_Feige66_KASTb_2015May20T041246.96.fits\n",
      "\u001b[1;32m[INFO]    ::\u001b[0m \u001b[1;34mfluxspec.py 103 __init__()\u001b[0m - Loaded spectra from the spec1d science file: /home/xavier/local/Python/PYPIT-development-suite/REDUX_OUT/Shane_Kast_blue/600_4310_d55/shane_kast_blue_setup_A/Science/spec1d_J1217p3905_KASTb_2015May20T045733.56.fits\n"
     ]
    }
   ],
   "source": [
    "# nit\n",
    "reload(fluxspec)\n",
    "FxSpec = fluxspec.FluxSpec(std_spec1d_file=std_file, spectrograph='shane_kast_blue', sci_spec1d_file=sci_file, setup='A_01_aa')"
   ]
  },
  {
   "cell_type": "markdown",
   "metadata": {},
   "source": [
    "## Find the standard (from the brightest spectrum)"
   ]
  },
  {
   "cell_type": "code",
   "execution_count": 6,
   "metadata": {},
   "outputs": [
    {
     "name": "stderr",
     "output_type": "stream",
     "text": [
      "\u001b[1;32m[INFO]    ::\u001b[0m \u001b[1;34marflux.py 435 find_standard()\u001b[0m - Putative standard star has a median boxcar count of 16571.570777816214\n"
     ]
    },
    {
     "data": {
      "text/plain": [
       "<SpecObjExp: O479-S5009-D01-I0023 == Setup dum_config Object at 0.479 in Slit at 0.5009 with det=01, scidx=23 and objtype=unknown>"
      ]
     },
     "execution_count": 6,
     "metadata": {},
     "output_type": "execute_result"
    }
   ],
   "source": [
    "std = FxSpec.find_standard()\n",
    "std"
   ]
  },
  {
   "cell_type": "markdown",
   "metadata": {},
   "source": [
    "## Sensitivity Function"
   ]
  },
  {
   "cell_type": "code",
   "execution_count": 7,
   "metadata": {},
   "outputs": [
    {
     "name": "stderr",
     "output_type": "stream",
     "text": [
      "\u001b[1;32m[INFO]    ::\u001b[0m \u001b[1;34marflux.py 370 load_extinction_data()\u001b[0m - Using mthamextinct.dat for extinction corrections.\n",
      "\u001b[1;32m[INFO]    ::\u001b[0m \u001b[1;34marflux.py 300 find_standard_file()\u001b[0m - Using standard star FEIGE66\n",
      "\u001b[1;32m[INFO]    ::\u001b[0m \u001b[1;34marflux.py 406 load_standard_file()\u001b[0m - Loading standard star file: /home/xavier/local/Python/PYPIT/pypit/data/standards/calspec/feige66_002.fits.gz\n",
      "\u001b[1;32m[INFO]    ::\u001b[0m \u001b[1;34marflux.py 407 load_standard_file()\u001b[0m - Fluxes are flambda, normalized to 1e-17\n",
      "\u001b[1;32m[INFO]    ::\u001b[0m \u001b[1;34marflux.py 500 generate_sensfunc()\u001b[0m - Masking edges\n",
      "\u001b[1;31m[WARNING] ::\u001b[0m \u001b[1;34marflux.py 506 generate_sensfunc()\u001b[0m - Should pull resolution from arc line analysis\n",
      "\u001b[1;32m[INFO]    ::\u001b[0m \u001b[1;34marflux.py 510 generate_sensfunc()\u001b[0m - Masking Balmer\n",
      "\u001b[1;32m[INFO]    ::\u001b[0m \u001b[1;34marflux.py 518 generate_sensfunc()\u001b[0m - Masking Telluric\n",
      "\u001b[1;32m[INFO]    ::\u001b[0m \u001b[1;34marflux.py 525 generate_sensfunc()\u001b[0m - Masking Below the atmospheric cutoff\n",
      "\u001b[1;32m[INFO]    ::\u001b[0m \u001b[1;34marflux.py 203 bspline_magfit()\u001b[0m - Difference between fits is 0.00017687\n",
      "\u001b[1;30m[WORK IN ]::\u001b[0m\n",
      "\u001b[1;33m[PROGRESS]::\u001b[0m \u001b[1;34marflux.py 206 bspline_magfit()\u001b[0m - Add QA for sensitivity function\n"
     ]
    },
    {
     "data": {
      "text/plain": [
       "{'c': [array([ 3436.90890455,  3436.90890455,  3436.90890455,  3436.90890455,\n",
       "          3478.25918977,  3519.609475  ,  3560.95976022,  3602.31004545,\n",
       "          3643.66033067,  3685.0106159 ,  3726.36090112,  3767.71118635,\n",
       "          3809.06147157,  3850.4117568 ,  3891.76204202,  3933.11232725,\n",
       "          3974.46261247,  4015.8128977 ,  4057.16318292,  4098.51346815,\n",
       "          4139.86375337,  4181.2140386 ,  4222.56432382,  4263.91460905,\n",
       "          4305.26489427,  4346.6151795 ,  4387.96546472,  4429.31574995,\n",
       "          4470.66603518,  4512.0163204 ,  4553.36660563,  4594.71689085,\n",
       "          4636.06717608,  4677.4174613 ,  4718.76774653,  4760.11803175,\n",
       "          4801.46831698,  4842.8186022 ,  4884.16888743,  4925.51917265,\n",
       "          4966.86945788,  5008.2197431 ,  5049.57002833,  5090.92031355,\n",
       "          5132.27059878,  5173.620884  ,  5214.97116923,  5256.32145445,\n",
       "          5297.67173968,  5339.0220249 ,  5380.37231013,  5421.72259535,\n",
       "          5463.07288058,  5504.42316581,  5504.42316581,  5504.42316581,\n",
       "          5504.42316581]),\n",
       "  array([ 6.075173  ,  6.12216432,  5.90503767,  5.84881068,  5.76385371,\n",
       "          5.66702567,  5.51598364,  5.43508013,  5.29106793,  5.25071584,\n",
       "          5.14098649,  5.02590297,  4.94955152,  4.94449857,  4.83396581,\n",
       "          4.77271607,  4.70846692,  4.64698958,  4.58838749,  4.55097136,\n",
       "          4.51670209,  4.46845799,  4.41817155,  4.37810272,  4.34169156,\n",
       "          4.35538184,  4.30462323,  4.32362428,  4.2946821 ,  4.26963822,\n",
       "          4.24432281,  4.22323615,  4.20314488,  4.19431964,  4.18966338,\n",
       "          4.187228  ,  4.16529797,  4.14740139,  4.14646731,  4.14121151,\n",
       "          4.13311546,  4.1391706 ,  4.14873853,  4.18416612,  4.23219629,\n",
       "          4.30312561,  4.39716321,  4.54630145,  4.72806347,  4.97250039,\n",
       "          5.32842863,  5.84469984,  6.24842496,  0.        ,  0.        ,\n",
       "          0.        ,  0.        ]),\n",
       "  3],\n",
       " 'func': 'bspline',\n",
       " 'max': None,\n",
       " 'min': None,\n",
       " 'std': {'dec': '+25:03:59.9',\n",
       "  'file': '/data/standards/calspec/feige66_002.fits',\n",
       "  'flux': <Quantity [ 2799786.5       , 2866385.75      , 2786046.5       ,...,\n",
       "                 3233.85986328,    3226.32299805,    3224.41723633] erg / (Angstrom cm2 s)>,\n",
       "  'fmt': 1,\n",
       "  'name': 'FEIGE66',\n",
       "  'ra': '12:37:23.52',\n",
       "  'wave': <Quantity [ 1147.80004883, 1149.        , 1150.19995117,...,\n",
       "              9198.52929688, 9200.52929688, 9202.53027344] Angstrom>},\n",
       " 'wave_max': <Quantity 5515.462952468308 Angstrom>,\n",
       " 'wave_min': <Quantity 3427.9771529690274 Angstrom>}"
      ]
     },
     "execution_count": 7,
     "metadata": {},
     "output_type": "execute_result"
    }
   ],
   "source": [
    "sensfunc = FxSpec.generate_sensfunc()\n",
    "sensfunc"
   ]
  },
  {
   "cell_type": "markdown",
   "metadata": {},
   "source": [
    "### Plot"
   ]
  },
  {
   "cell_type": "code",
   "execution_count": 8,
   "metadata": {},
   "outputs": [
    {
     "data": {
      "image/png": "[encoded data removed]",
      "text/plain": [
       "<matplotlib.figure.Figure at 0x7f2456be39e8>"
      ]
     },
     "metadata": {},
     "output_type": "display_data"
    }
   ],
   "source": [
    "FxSpec.show_sensfunc()"
   ]
  },
  {
   "cell_type": "code",
   "execution_count": 9,
   "metadata": {},
   "outputs": [
    {
     "data": {
      "text/plain": [
       "['find_standard', 'generate_sensfunc']"
      ]
     },
     "execution_count": 9,
     "metadata": {},
     "output_type": "execute_result"
    }
   ],
   "source": [
    "FxSpec.steps"
   ]
  },
  {
   "cell_type": "markdown",
   "metadata": {},
   "source": [
    "## Flux science"
   ]
  },
  {
   "cell_type": "code",
   "execution_count": 10,
   "metadata": {},
   "outputs": [
    {
     "name": "stderr",
     "output_type": "stream",
     "text": [
      "\u001b[1;32m[INFO]    ::\u001b[0m \u001b[1;34marflux.py 370 load_extinction_data()\u001b[0m - Using mthamextinct.dat for extinction corrections.\n",
      "\u001b[1;32m[INFO]    ::\u001b[0m \u001b[1;34marflux.py 46 new_apply_sensfunc()\u001b[0m - Fluxing boxcar extraction for:\n",
      "             <SpecObjExp: O500-S5009-D01-I0024 == Setup dum_config Object at 0.5 in Slit at 0.5009 with det=01, scidx=24 and objtype=unknown>\n",
      "\u001b[1;32m[INFO]    ::\u001b[0m \u001b[1;34marflux.py 46 new_apply_sensfunc()\u001b[0m - Fluxing optimal extraction for:\n",
      "             <SpecObjExp: O500-S5009-D01-I0024 == Setup dum_config Object at 0.5 in Slit at 0.5009 with det=01, scidx=24 and objtype=unknown>\n"
     ]
    }
   ],
   "source": [
    "FxSpec.flux_science()"
   ]
  },
  {
   "cell_type": "code",
   "execution_count": 11,
   "metadata": {},
   "outputs": [
    {
     "data": {
      "text/plain": [
       "{'counts': array([ 14.47197962,  17.97570501,  26.44744019, ...,  46.31827594,\n",
       "         34.98441373,  49.78903766]),\n",
       " 'flam': array([ 0.02342644,  0.02907752,  0.04275117, ...,  0.04550007,\n",
       "         0.0343651 ,  0.04890578]),\n",
       " 'flam_var': array([ 0.00035862,  0.00042775,  0.00038943, ...,  0.00015267,\n",
       "         0.00014345,  0.00015216]),\n",
       " 'var': array([ 136.85927251,  163.47284663,  149.0407738 , ...,  158.21252732,\n",
       "         148.67120378,  157.7107462 ]),\n",
       " 'wave': <Quantity [ 3428.02418628, 3428.91668777, 3429.80934137,...,\n",
       "             5513.32205621, 5514.42622645, 5515.53044565] Angstrom>}"
      ]
     },
     "execution_count": 11,
     "metadata": {},
     "output_type": "execute_result"
    }
   ],
   "source": [
    "FxSpec.sci_specobjs[0].optimal"
   ]
  },
  {
   "cell_type": "markdown",
   "metadata": {},
   "source": [
    "### Plot"
   ]
  },
  {
   "cell_type": "code",
   "execution_count": 12,
   "metadata": {},
   "outputs": [
    {
     "data": {
      "image/png": "[encoded data removed]",
      "text/plain": [
       "<matplotlib.figure.Figure at 0x7f24532025f8>"
      ]
     },
     "metadata": {},
     "output_type": "display_data"
    }
   ],
   "source": [
    "plt.clf()\n",
    "ax = plt.gca()\n",
    "ax.plot(FxSpec.sci_specobjs[0].optimal['wave'], FxSpec.sci_specobjs[0].optimal['flam'])\n",
    "ax.plot(FxSpec.sci_specobjs[0].optimal['wave'], np.sqrt(FxSpec.sci_specobjs[0].optimal['flam_var']))\n",
    "ax.set_ylim(-2, 30.)\n",
    "# \n",
    "ax.set_xlabel('Wavelength')\n",
    "ax.set_ylabel('Flux (cgs 1e-17)')\n",
    "plt.show()"
   ]
  },
  {
   "cell_type": "markdown",
   "metadata": {},
   "source": [
    "### Write"
   ]
  },
  {
   "cell_type": "code",
   "execution_count": 13,
   "metadata": {},
   "outputs": [
    {
     "name": "stderr",
     "output_type": "stream",
     "text": [
      "\u001b[1;32m[INFO]    ::\u001b[0m \u001b[1;34marsave.py 459 new_save_1d_spectra_fits()\u001b[0m - Wrote 1D spectra to tmp.fits\n"
     ]
    }
   ],
   "source": [
    "FxSpec.write_science('tmp.fits')"
   ]
  },
  {
   "cell_type": "code",
   "execution_count": 14,
   "metadata": {},
   "outputs": [
    {
     "data": {
      "text/plain": [
       "['find_standard', 'generate_sensfunc', 'flux_science', 'write_science']"
      ]
     },
     "execution_count": 14,
     "metadata": {},
     "output_type": "execute_result"
    }
   ],
   "source": [
    "FxSpec.steps"
   ]
  },
  {
   "cell_type": "markdown",
   "metadata": {},
   "source": [
    "## MasterFrames"
   ]
  },
  {
   "cell_type": "code",
   "execution_count": 15,
   "metadata": {
    "collapsed": true
   },
   "outputs": [],
   "source": [
    "FxSpec.setup = 'A_01_aa'"
   ]
  },
  {
   "cell_type": "code",
   "execution_count": 16,
   "metadata": {},
   "outputs": [
    {
     "data": {
      "text/plain": [
       "{'directory': 'MF_shane_kast_blue',\n",
       " 'force': False,\n",
       " 'loaded': [],\n",
       " 'reuse': False}"
      ]
     },
     "execution_count": 16,
     "metadata": {},
     "output_type": "execute_result"
    }
   ],
   "source": [
    "FxSpec.settings['masters']"
   ]
  },
  {
   "cell_type": "markdown",
   "metadata": {},
   "source": [
    "### Save"
   ]
  },
  {
   "cell_type": "code",
   "execution_count": 17,
   "metadata": {},
   "outputs": [
    {
     "name": "stderr",
     "output_type": "stream",
     "text": [
      "\u001b[1;32m[INFO]    ::\u001b[0m \u001b[1;34mfluxspec.py 195 save_master()\u001b[0m - Wrote sensfunc to MasterFrame: MF_shane_kast_blue/MasterSensFunc_A_aa.yaml\n"
     ]
    }
   ],
   "source": [
    "os.mkdir('MF_shane_kast_blue')\n",
    "FxSpec.save_master()"
   ]
  },
  {
   "cell_type": "markdown",
   "metadata": {},
   "source": [
    "### Load"
   ]
  },
  {
   "cell_type": "code",
   "execution_count": 18,
   "metadata": {},
   "outputs": [
    {
     "data": {
      "text/plain": [
       "dict_keys(['c', 'func', 'max', 'min', 'std', 'steps', 'wave_max', 'wave_min'])"
      ]
     },
     "execution_count": 18,
     "metadata": {},
     "output_type": "execute_result"
    }
   ],
   "source": [
    "sensfunc2, _, _ = FxSpec.load_master_frame(force=True)\n",
    "sensfunc2.keys()"
   ]
  },
  {
   "cell_type": "markdown",
   "metadata": {},
   "source": [
    "## Instantiate from a sensitivity function"
   ]
  },
  {
   "cell_type": "code",
   "execution_count": 19,
   "metadata": {},
   "outputs": [
    {
     "name": "stderr",
     "output_type": "stream",
     "text": [
      "\u001b[1;32m[INFO]    ::\u001b[0m \u001b[1;34mfluxspec.py 103 __init__()\u001b[0m - Loaded spectra from the spec1d science file: /home/xavier/local/Python/PYPIT-development-suite/REDUX_OUT/Shane_Kast_blue/600_4310_d55/shane_kast_blue_setup_A/Science/spec1d_J1217p3905_KASTb_2015May20T045733.56.fits\n",
      "\u001b[1;31m[WARNING] ::\u001b[0m \u001b[1;34mmasterframe.py 55 __init__()\u001b[0m - MasterFrame class not proper loaded (e.g. no masters in settings).  Avoid using Master methods\n"
     ]
    }
   ],
   "source": [
    "reload(fluxspec)\n",
    "FxSpec3 = fluxspec.FluxSpec(sci_spec1d_file=sci_file, sens_file='MF_shane_kast_blue/MasterSensFunc_A_aa.yaml')"
   ]
  },
  {
   "cell_type": "code",
   "execution_count": 20,
   "metadata": {},
   "outputs": [
    {
     "data": {
      "image/png": "[encoded data removed]",
      "text/plain": [
       "<matplotlib.figure.Figure at 0x7f24531b6518>"
      ]
     },
     "metadata": {},
     "output_type": "display_data"
    }
   ],
   "source": [
    "FxSpec3.show_sensfunc()"
   ]
  },
  {
   "cell_type": "markdown",
   "metadata": {},
   "source": [
    "## Clean up\n"
   ]
  },
  {
   "cell_type": "code",
   "execution_count": 21,
   "metadata": {},
   "outputs": [],
   "source": [
    "os.remove(FxSpec.ms_name)\n",
    "os.rmdir('MF_shane_kast_blue')"
   ]
  },
  {
   "cell_type": "markdown",
   "metadata": {},
   "source": [
    "----"
   ]
  },
  {
   "cell_type": "markdown",
   "metadata": {},
   "source": [
    "## Development"
   ]
  },
  {
   "cell_type": "code",
   "execution_count": 22,
   "metadata": {},
   "outputs": [
    {
     "name": "stderr",
     "output_type": "stream",
     "text": [
      "\u001b[1;32m[INFO]    ::\u001b[0m \u001b[1;34marparse.py 75 load_file()\u001b[0m - Loading default settings\n",
      "\u001b[1;32m[INFO]    ::\u001b[0m \u001b[1;34marparse.py 87 load_file()\u001b[0m - Loading base settings from settings.baseargflag\n",
      "\u001b[1;32m[INFO]    ::\u001b[0m \u001b[1;34marparse.py 1393 run_ncpus()\u001b[0m - Setting 7 CPUs\n",
      "\u001b[1;32m[INFO]    ::\u001b[0m \u001b[1;34marparse.py 75 load_file()\u001b[0m - Loading default settings\n",
      "\u001b[1;32m[INFO]    ::\u001b[0m \u001b[1;34marparse.py 75 load_file()\u001b[0m - Loading default settings\n",
      "\u001b[1;32m[INFO]    ::\u001b[0m \u001b[1;34marparse.py 87 load_file()\u001b[0m - Loading base settings from settings.basespect\n",
      "\u001b[1;32m[INFO]    ::\u001b[0m \u001b[1;34marparse.py 75 load_file()\u001b[0m - Loading default settings\n",
      "\u001b[1;32m[INFO]    ::\u001b[0m \u001b[1;34marparse.py 75 load_file()\u001b[0m - Loading default settings\n",
      "\u001b[1;32m[INFO]    ::\u001b[0m \u001b[1;34marparse.py 87 load_file()\u001b[0m - Loading base settings from settings.basespect\n",
      "\u001b[1;32m[INFO]    ::\u001b[0m \u001b[1;34marparse.py 75 load_file()\u001b[0m - Loading default settings\n",
      "\u001b[1;32m[INFO]    ::\u001b[0m \u001b[1;34mfluxspec.py 100 __init__()\u001b[0m - Loaded 1 spectra from the spec1d standard star file: /home/xavier/local/Python/PYPIT-development-suite/REDUX_OUT/Shane_Kast_blue/600_4310_d55/shane_kast_blue_setup_A/Science/spec1d_Feige66_KASTb_2015May20T041246.96.fits\n",
      "\u001b[1;32m[INFO]    ::\u001b[0m \u001b[1;34mfluxspec.py 103 __init__()\u001b[0m - Loaded spectra from the spec1d science file: /home/xavier/local/Python/PYPIT-development-suite/REDUX_OUT/Shane_Kast_blue/600_4310_d55/shane_kast_blue_setup_A/Science/spec1d_J1217p3905_KASTb_2015May20T045733.56.fits\n"
     ]
    }
   ],
   "source": [
    "reload(fluxspec)\n",
    "FxSpec = fluxspec.FluxSpec(std_spec1d_file=std_file, spectrograph='shane_kast_blue', sci_spec1d_file=sci_file, setup='A_01_aa')"
   ]
  },
  {
   "cell_type": "code",
   "execution_count": 23,
   "metadata": {},
   "outputs": [
    {
     "data": {
      "text/plain": [
       "'O479-S5009-D01-I0023'"
      ]
     },
     "execution_count": 23,
     "metadata": {},
     "output_type": "execute_result"
    }
   ],
   "source": [
    "FxSpec.std_specobjs[0].idx"
   ]
  },
  {
   "cell_type": "code",
   "execution_count": 24,
   "metadata": {},
   "outputs": [
    {
     "data": {
      "text/plain": [
       "<SpecObjExp: O479-S5009-D01-I0023 == Setup dum_config Object at 0.479 in Slit at 0.5009 with det=01, scidx=23 and objtype=unknown>"
      ]
     },
     "execution_count": 24,
     "metadata": {},
     "output_type": "execute_result"
    }
   ],
   "source": [
    "FxSpec._set_std_obj('O479-S5009-D01-I0023')"
   ]
  },
  {
   "cell_type": "code",
   "execution_count": 25,
   "metadata": {},
   "outputs": [
    {
     "data": {
      "text/plain": [
       "<SpecObjExp: O479-S5009-D01-I0023 == Setup dum_config Object at 0.479 in Slit at 0.5009 with det=01, scidx=23 and objtype=unknown>"
      ]
     },
     "execution_count": 25,
     "metadata": {},
     "output_type": "execute_result"
    }
   ],
   "source": [
    "FxSpec._set_std_obj(1)"
   ]
  },
  {
   "cell_type": "code",
   "execution_count": 26,
   "metadata": {},
   "outputs": [
    {
     "data": {
      "text/plain": [
       "<SpecObjExp: O479-S5009-D01-I0023 == Setup dum_config Object at 0.479 in Slit at 0.5009 with det=01, scidx=23 and objtype=unknown>"
      ]
     },
     "execution_count": 26,
     "metadata": {},
     "output_type": "execute_result"
    }
   ],
   "source": [
    "FxSpec.std"
   ]
  },
  {
   "cell_type": "markdown",
   "metadata": {},
   "source": [
    "### Todo\n",
    "    Script\n",
    "    Deal with standard running across multiple detectors (DEIMOS)"
   ]
  },
  {
   "cell_type": "code",
   "execution_count": null,
   "metadata": {
    "collapsed": true
   },
   "outputs": [],
   "source": []
  }
 ],
 "metadata": {
  "kernelspec": {
   "display_name": "Python 3",
   "language": "python",
   "name": "python3"
  },
  "language_info": {
   "codemirror_mode": {
    "name": "ipython",
    "version": 3
   },
   "file_extension": ".py",
   "mimetype": "text/x-python",
   "name": "python",
   "nbconvert_exporter": "python",
   "pygments_lexer": "ipython3",
   "version": "3.6.3"
  }
 },
 "nbformat": 4,
 "nbformat_minor": 2
}
