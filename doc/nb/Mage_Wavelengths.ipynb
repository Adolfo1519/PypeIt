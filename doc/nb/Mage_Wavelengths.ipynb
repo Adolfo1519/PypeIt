{
 "cells": [
  {
   "cell_type": "markdown",
   "metadata": {},
   "source": [
    "# Mage Wavelengths"
   ]
  },
  {
   "cell_type": "code",
   "execution_count": 35,
   "metadata": {},
   "outputs": [],
   "source": [
    "# imports\n",
    "import os\n",
    "import numpy as np\n",
    "from pkg_resources import resource_filename\n",
    "\n",
    "from scipy.io import readsav \n",
    "\n",
    "from astropy.io import fits\n",
    "from astropy.table import Table\n",
    "\n",
    "from pypeit.core.wavecal import templates\n",
    "\n",
    "from linetools import utils as ltu"
   ]
  },
  {
   "cell_type": "markdown",
   "metadata": {},
   "source": [
    "## Load up a few files"
   ]
  },
  {
   "cell_type": "code",
   "execution_count": 3,
   "metadata": {},
   "outputs": [],
   "source": [
    "mase_path = os.path.join(os.getenv('XIDL_DIR'), 'Magellan', 'MAGE', 'mase', 'Calib')"
   ]
  },
  {
   "cell_type": "markdown",
   "metadata": {},
   "source": [
    "### FITS"
   ]
  },
  {
   "cell_type": "code",
   "execution_count": 4,
   "metadata": {},
   "outputs": [],
   "source": [
    "fits_file = os.path.join(mase_path, 'mage_archive_orders.fits')"
   ]
  },
  {
   "cell_type": "code",
   "execution_count": 6,
   "metadata": {},
   "outputs": [
    {
     "name": "stdout",
     "output_type": "stream",
     "text": [
      "Filename: /u/xavier/local/idl/xidl/Magellan/MAGE/mase/Calib/mage_archive_orders.fits\n",
      "No.    Name      Ver    Type      Cards   Dimensions   Format\n",
      "  0  PRIMARY       1 PrimaryHDU       6   (1024, 2048)   int16   \n",
      "  1                1 BinTableHDU     31   2R x 5C   [8A, E, E, 75D, 2J]   \n"
     ]
    }
   ],
   "source": [
    "hdu = fits.open(fits_file)\n",
    "hdu.info()"
   ]
  },
  {
   "cell_type": "code",
   "execution_count": 8,
   "metadata": {},
   "outputs": [],
   "source": [
    "tbl = Table.read(fits_file)"
   ]
  },
  {
   "cell_type": "code",
   "execution_count": 9,
   "metadata": {},
   "outputs": [
    {
     "data": {
      "text/html": [
       "<i>Table length=2</i>\n",
       "<table id=\"table139782529693232\" class=\"table-striped table-bordered table-condensed\">\n",
       "<thead><tr><th>FUNC</th><th>XMIN</th><th>XMAX</th><th>COEFF [15,5]</th><th>DIMS [2]</th></tr></thead>\n",
       "<thead><tr><th>bytes8</th><th>float32</th><th>float32</th><th>float64</th><th>int32</th></tr></thead>\n",
       "<tr><td>legendre</td><td>0.0</td><td>2047.0</td><td>-29.488265991210938 .. 0.056760191917419434</td><td>1024 .. 2048</td></tr>\n",
       "<tr><td>legendre</td><td>0.0</td><td>2047.0</td><td>16.73930549621582 .. 0.06081448867917061</td><td>1024 .. 2048</td></tr>\n",
       "</table>"
      ],
      "text/plain": [
       "<Table length=2>\n",
       "  FUNC     XMIN  ...                 COEFF [15,5]                  DIMS [2]  \n",
       " bytes8  float32 ...                   float64                      int32    \n",
       "-------- ------- ... ------------------------------------------- ------------\n",
       "legendre     0.0 ... -29.488265991210938 .. 0.056760191917419434 1024 .. 2048\n",
       "legendre     0.0 ...    16.73930549621582 .. 0.06081448867917061 1024 .. 2048"
      ]
     },
     "execution_count": 9,
     "metadata": {},
     "output_type": "execute_result"
    }
   ],
   "source": [
    "tbl"
   ]
  },
  {
   "cell_type": "markdown",
   "metadata": {},
   "source": [
    "### Save file"
   ]
  },
  {
   "cell_type": "code",
   "execution_count": 16,
   "metadata": {},
   "outputs": [],
   "source": [
    "# This is the file called by mage_make_wvguess.pro\n",
    "sav_file = os.path.join(mase_path, 'MagE_wvguess_jfh.idl')"
   ]
  },
  {
   "cell_type": "code",
   "execution_count": 17,
   "metadata": {},
   "outputs": [],
   "source": [
    "mase_dict = readsav(sav_file)"
   ]
  },
  {
   "cell_type": "code",
   "execution_count": 18,
   "metadata": {},
   "outputs": [
    {
     "data": {
      "text/plain": [
       "dict_keys(['all_arcfit', 'guess_ordr', 'rejstr', 'sv_aspec', 'sv_lines'])"
      ]
     },
     "execution_count": 18,
     "metadata": {},
     "output_type": "execute_result"
    }
   ],
   "source": [
    "mase_dict.keys()"
   ]
  },
  {
   "cell_type": "code",
   "execution_count": 42,
   "metadata": {},
   "outputs": [
    {
     "data": {
      "text/plain": [
       "(50, 2048)"
      ]
     },
     "execution_count": 42,
     "metadata": {},
     "output_type": "execute_result"
    }
   ],
   "source": [
    "mase_dict['sv_aspec'].shape"
   ]
  },
  {
   "cell_type": "code",
   "execution_count": 45,
   "metadata": {},
   "outputs": [
    {
     "data": {
      "text/plain": [
       "array([ 0.      ,  0.      ,  0.      , ...,  9.345445, 15.956247,\n",
       "       16.58851 ], dtype=float32)"
      ]
     },
     "execution_count": 45,
     "metadata": {},
     "output_type": "execute_result"
    }
   ],
   "source": [
    "mase_dict['sv_aspec'][0]"
   ]
  },
  {
   "cell_type": "code",
   "execution_count": 22,
   "metadata": {},
   "outputs": [
    {
     "data": {
      "text/html": [
       "<i>Table length=15</i>\n",
       "<table id=\"table139782198479448\" class=\"table-striped table-bordered table-condensed\">\n",
       "<thead><tr><th>FUNC</th><th>NORD</th><th>NRM</th><th>LSIG</th><th>HSIG</th><th>NITER</th><th>MINPT</th><th>MAXREJ</th><th>FLG_REJ</th><th>RMS</th><th>FFIT</th></tr></thead>\n",
       "<thead><tr><th>object</th><th>int32</th><th>object</th><th>float32</th><th>float32</th><th>int32</th><th>int32</th><th>int32</th><th>int16</th><th>float64</th><th>object</th></tr></thead>\n",
       "<tr><td>CHEBY</td><td>4</td><td>[1438.34936523 1156.48046875]</td><td>2.0</td><td>2.0</td><td>3</td><td>2</td><td>10</td><td>1</td><td>0.08395581692457199</td><td>[ 3.17522658e+03  1.30876111e+02 -1.63917588e+00 -2.28740563e-01]</td></tr>\n",
       "<tr><td>CHEBY</td><td>4</td><td>[1264.26269531 1347.25488281]</td><td>2.0</td><td>2.0</td><td>3</td><td>1</td><td>10</td><td>1</td><td>0.029286876320838928</td><td>[ 3.30072211e+03  1.62655519e+02 -2.09591494e+00 -2.50019866e-01]</td></tr>\n",
       "<tr><td>CHEBY</td><td>4</td><td>[1262.87695312 1397.08422852]</td><td>2.0</td><td>2.0</td><td>3</td><td>5</td><td>10</td><td>1</td><td>0.02182971127331257</td><td>[ 3.48423411e+03  1.77976047e+02 -2.32882913e+00 -2.89890825e-01]</td></tr>\n",
       "<tr><td>CHEBY</td><td>5</td><td>[1230.67089844 1494.09765625]</td><td>2.0</td><td>2.0</td><td>3</td><td>5</td><td>10</td><td>1</td><td>0.01800452172756195</td><td>[ 3.68080503e+03  2.01823819e+02 -2.66847564e+00 -3.76064860e-01\n",
       "  5.99505038e-02]</td></tr>\n",
       "<tr><td>CHEBY</td><td>5</td><td>[1069.72802734 1884.94763184]</td><td>2.0</td><td>2.0</td><td>3</td><td>5</td><td>10</td><td>1</td><td>0.017211703583598137</td><td>[ 3.86377879e+03  2.72407149e+02 -3.75086778e+00 -8.11355398e-01\n",
       "  1.85497801e-02]</td></tr>\n",
       "<tr><td>CHEBY</td><td>6</td><td>[1032.24987793 1968.95336914]</td><td>2.0</td><td>2.0</td><td>3</td><td>5</td><td>10</td><td>1</td><td>0.018749188631772995</td><td>[ 4.11007866e+03  3.03810572e+02 -4.13299244e+00 -9.49344614e-01\n",
       "  2.05792848e-02  3.73163644e-02]</td></tr>\n",
       "<tr><td>CHEBY</td><td>5</td><td>[1119.57739258 1812.52099609]</td><td>2.0</td><td>2.0</td><td>3</td><td>5</td><td>10</td><td>1</td><td>0.020683664828538895</td><td>[ 4.43342265e+03  2.98381705e+02 -4.18316990e+00 -8.15175520e-01\n",
       "  4.10919135e-02]</td></tr>\n",
       "<tr><td>CHEBY</td><td>6</td><td>[1086.2557373  1877.31591797]</td><td>2.0</td><td>2.0</td><td>3</td><td>5</td><td>10</td><td>1</td><td>0.030145803466439247</td><td>[ 4.76285002e+03  3.33158942e+02 -4.62836845e+00 -9.29628940e-01\n",
       "  3.98870604e-02  3.21320970e-02]</td></tr>\n",
       "<tr><td>CHEBY</td><td>6</td><td>[1047.34692383 1954.54882812]</td><td>2.0</td><td>2.0</td><td>3</td><td>2</td><td>10</td><td>1</td><td>0.033905938267707825</td><td>[ 5.14494175e+03  3.76122825e+02 -5.13063093e+00 -1.15591072e+00\n",
       "  2.96200137e-02  2.64080046e-02]</td></tr>\n",
       "<tr><td>CHEBY</td><td>6</td><td>[1067.84960938 1937.38415527]</td><td>2.0</td><td>2.0</td><td>3</td><td>5</td><td>10</td><td>1</td><td>0.019567951560020447</td><td>[ 5.62172489e+03  4.06071061e+02 -5.63723997e+00 -1.20696862e+00\n",
       "  3.35175913e-02  4.19205335e-02]</td></tr>\n",
       "<tr><td>CHEBY</td><td>6</td><td>[1055.74047852 1945.81787109]</td><td>2.0</td><td>2.0</td><td>3</td><td>3</td><td>10</td><td>1</td><td>0.024785082787275314</td><td>[ 6.17872758e+03  4.48603821e+02 -6.11298565e+00 -1.34400331e+00\n",
       "  3.59688169e-02  2.82240165e-02]</td></tr>\n",
       "<tr><td>CHEBY</td><td>6</td><td>[1034.83666992 1977.33947754]</td><td>2.0</td><td>2.0</td><td>3</td><td>5</td><td>10</td><td>1</td><td>0.024680601432919502</td><td>[ 6.85483371e+03  5.06691077e+02 -6.80661977e+00 -1.53129249e+00\n",
       "  3.54299990e-02  3.31006590e-02]</td></tr>\n",
       "<tr><td>CHEBY</td><td>6</td><td>[1027.61572266 2002.74060059]</td><td>2.0</td><td>2.0</td><td>3</td><td>5</td><td>10</td><td>1</td><td>0.034220870584249496</td><td>[ 7.70782021e+03  5.77125777e+02 -7.72064846e+00 -1.75154943e+00\n",
       "  6.67688741e-02  5.61835636e-02]</td></tr>\n",
       "<tr><td>CHEBY</td><td>6</td><td>[1020.29473877 2029.41052246]</td><td>2.0</td><td>2.0</td><td>3</td><td>1</td><td>10</td><td>1</td><td>0.04039670154452324</td><td>[ 8.80430844e+03  6.67933174e+02 -9.06918214e+00 -2.17839009e+00\n",
       " -7.88569134e-03  5.32716045e-02]</td></tr>\n",
       "<tr><td>CHEBY</td><td>5</td><td>[ 776.3885498  1513.72802734]</td><td>2.0</td><td>2.0</td><td>3</td><td>3</td><td>10</td><td>1</td><td>0.06777922064065933</td><td>[ 1.00889717e+04  5.89378549e+02 -3.67383399e+00 -1.15417188e+00\n",
       "  4.39646546e-02]</td></tr>\n",
       "</table>"
      ],
      "text/plain": [
       "<Table length=15>\n",
       " FUNC  ...\n",
       "object ...\n",
       "------ ...\n",
       " CHEBY ...\n",
       " CHEBY ...\n",
       " CHEBY ...\n",
       " CHEBY ...\n",
       " CHEBY ...\n",
       " CHEBY ...\n",
       " CHEBY ...\n",
       " CHEBY ...\n",
       " CHEBY ...\n",
       " CHEBY ...\n",
       " CHEBY ...\n",
       " CHEBY ...\n",
       " CHEBY ...\n",
       " CHEBY ...\n",
       " CHEBY ..."
      ]
     },
     "execution_count": 22,
     "metadata": {},
     "output_type": "execute_result"
    }
   ],
   "source": [
    "mase_sol = Table(mase_dict['all_arcfit'])\n",
    "mase_sol[0:15]"
   ]
  },
  {
   "cell_type": "markdown",
   "metadata": {},
   "source": [
    "#### Test one"
   ]
  },
  {
   "cell_type": "code",
   "execution_count": 28,
   "metadata": {},
   "outputs": [],
   "source": [
    "order = 0\n",
    "wv_air = templates.cheby_val(mase_sol['FFIT'][order], np.arange(2048), mase_sol['NRM'][order], mase_sol['NORD'][order])"
   ]
  },
  {
   "cell_type": "code",
   "execution_count": 29,
   "metadata": {},
   "outputs": [
    {
     "data": {
      "text/plain": [
       "array([2843.40730216, 2843.63366852, 2843.86005608, ..., 3310.22710183,\n",
       "       3310.43748426, 3310.64782984])"
      ]
     },
     "execution_count": 29,
     "metadata": {},
     "output_type": "execute_result"
    }
   ],
   "source": [
    "wv_air"
   ]
  },
  {
   "cell_type": "code",
   "execution_count": 31,
   "metadata": {},
   "outputs": [],
   "source": [
    "order = 14\n",
    "wv_air = templates.cheby_val(mase_sol['FFIT'][order], np.arange(2048), mase_sol['NRM'][order], mase_sol['NORD'][order])"
   ]
  },
  {
   "cell_type": "code",
   "execution_count": 32,
   "metadata": {},
   "outputs": [
    {
     "data": {
      "text/plain": [
       "array([ 9481.8261232 ,  9482.60903289,  9483.39197296, ...,\n",
       "       11045.78014217, 11046.48662502, 11047.19302061])"
      ]
     },
     "execution_count": 32,
     "metadata": {},
     "output_type": "execute_result"
    }
   ],
   "source": [
    "wv_air"
   ]
  },
  {
   "cell_type": "markdown",
   "metadata": {},
   "source": [
    "## Build the archive -- in templates.py"
   ]
  },
  {
   "cell_type": "markdown",
   "metadata": {},
   "source": [
    "### Check how we have X-Shooter\n",
    "    Ugly JSON approach.  Dumb"
   ]
  },
  {
   "cell_type": "code",
   "execution_count": 34,
   "metadata": {},
   "outputs": [],
   "source": [
    "xshoot_file = os.path.join(resource_filename('pypeit', 'data'), 'arc_lines', 'reid_arxiv', 'vlt_xshooter_vis1x1.json')\n"
   ]
  },
  {
   "cell_type": "code",
   "execution_count": 37,
   "metadata": {},
   "outputs": [],
   "source": [
    "xdict = ltu.loadjson(xshoot_file)"
   ]
  },
  {
   "cell_type": "code",
   "execution_count": 41,
   "metadata": {},
   "outputs": [
    {
     "data": {
      "text/plain": [
       "dict_keys(['0', '1', '10', '11', '12', '13', '14', '2', '3', '4', '5', '6', '7', '8', '9', 'fit2d', 'par', 'steps'])"
      ]
     },
     "execution_count": 41,
     "metadata": {},
     "output_type": "execute_result"
    }
   ],
   "source": [
    "xdict.keys()"
   ]
  },
  {
   "cell_type": "code",
   "execution_count": 40,
   "metadata": {},
   "outputs": [
    {
     "data": {
      "text/plain": [
       "dict_keys(['cen_disp', 'cen_wave', 'fitc', 'fmax', 'fmin', 'function', 'ions', 'mask', 'nrej', 'nspec', 'pixel_fit', 'rms', 'shift', 'spec', 'tcent', 'wave_fit', 'wave_soln', 'weights', 'xrej', 'yrej'])"
      ]
     },
     "execution_count": 40,
     "metadata": {},
     "output_type": "execute_result"
    }
   ],
   "source": [
    "xdict['0'].keys()"
   ]
  },
  {
   "cell_type": "markdown",
   "metadata": {},
   "source": [
    "### Will write a 2D array in 'wave' and 'flux'"
   ]
  },
  {
   "cell_type": "code",
   "execution_count": 46,
   "metadata": {},
   "outputs": [],
   "source": [
    "new_mage_file = os.path.join(resource_filename('pypeit', 'data'), 'arc_lines', 'reid_arxiv', 'magellan_mage.fits')\n",
    "mage_reid = Table.read(new_mage_file)"
   ]
  },
  {
   "cell_type": "code",
   "execution_count": 48,
   "metadata": {},
   "outputs": [
    {
     "data": {
      "text/plain": [
       "(2048, 15)"
      ]
     },
     "execution_count": 48,
     "metadata": {},
     "output_type": "execute_result"
    }
   ],
   "source": [
    "mage_reid['wave'].shape"
   ]
  },
  {
   "cell_type": "code",
   "execution_count": null,
   "metadata": {},
   "outputs": [],
   "source": []
  }
 ],
 "metadata": {
  "kernelspec": {
   "display_name": "Python 3",
   "language": "python",
   "name": "python3"
  },
  "language_info": {
   "codemirror_mode": {
    "name": "ipython",
    "version": 3
   },
   "file_extension": ".py",
   "mimetype": "text/x-python",
   "name": "python",
   "nbconvert_exporter": "python",
   "pygments_lexer": "ipython3",
   "version": "3.6.8"
  }
 },
 "nbformat": 4,
 "nbformat_minor": 2
}
