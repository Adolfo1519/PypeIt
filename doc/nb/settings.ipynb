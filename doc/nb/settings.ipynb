{
 "cells": [
  {
   "cell_type": "markdown",
   "metadata": {},
   "source": [
    "# Test instantiating PypIt parameter sets"
   ]
  },
  {
   "cell_type": "code",
   "execution_count": 1,
   "metadata": {},
   "outputs": [],
   "source": [
    "# import\n",
    "import os\n",
    "from configobj import ConfigObj\n",
    "from pypit.par import core"
   ]
  },
  {
   "cell_type": "code",
   "execution_count": 2,
   "metadata": {},
   "outputs": [
    {
     "data": {
      "text/plain": [
       "'/Users/westfall/Work/packages/PYPIT-development-suite'"
      ]
     },
     "execution_count": 2,
     "metadata": {},
     "output_type": "execute_result"
    }
   ],
   "source": [
    "os.getenv('PYPIT_DEV')"
   ]
  },
  {
   "cell_type": "markdown",
   "metadata": {},
   "source": [
    "## Defaults"
   ]
  },
  {
   "cell_type": "code",
   "execution_count": 3,
   "metadata": {},
   "outputs": [
    {
     "name": "stdout",
     "output_type": "stream",
     "text": [
      "Print output:\n",
      "Parameter   Value  Default       Type  Callable\n",
      "-----------------------------------------------\n",
      "   method  savgol   savgol        str     False\n",
      "   params   5, 65    5, 65  int, list     False\n",
      "\n",
      ".info() output:\n",
      "method\n",
      "        Value: savgol\n",
      "      Default: savgol\n",
      "      Options: polynomial, savgol, median\n",
      "  Valid Types: str\n",
      "     Callable: False\n",
      "  Description: Method used to fit the overscan.  Options are: polynomial, savgol, median\n",
      " \n",
      "params\n",
      "        Value: [5, 65]\n",
      "      Default: [5, 65]\n",
      "      Options: None\n",
      "  Valid Types: int, list\n",
      "     Callable: False\n",
      "  Description: Parameters for the overscan subtraction.  For 'polynomial', set params = order, number of pixels, number of repeats ; for 'savgol', set params = order, window size ; for 'median', set params = None or omit the keyword.\n",
      " \n"
     ]
    }
   ],
   "source": [
    "# General example:\n",
    "# To get the default parameters, declare the parameters set without arguments\n",
    "t = core.OverscanPar()\n",
    "# use print() to get a short-form representation\n",
    "print('Print output:')\n",
    "print(t)\n",
    "# use the info() method to get a long-form representation\n",
    "print('.info() output:')\n",
    "t.info()"
   ]
  },
  {
   "cell_type": "code",
   "execution_count": 4,
   "metadata": {},
   "outputs": [
    {
     "data": {
      "text/plain": [
       "ConfigObj({'overscan': {'method': 'savgol', 'params': ['5', '65']}})"
      ]
     },
     "execution_count": 4,
     "metadata": {},
     "output_type": "execute_result"
    }
   ],
   "source": [
    "c = ConfigObj(t.to_config(None, section_name='overscan', just_lines=True))\n",
    "c"
   ]
  },
  {
   "cell_type": "markdown",
   "metadata": {},
   "source": [
    "### Run parameters"
   ]
  },
  {
   "cell_type": "code",
   "execution_count": 5,
   "metadata": {},
   "outputs": [
    {
     "data": {
      "text/plain": [
       "Parameter    Value  Default        Type  Callable\n",
       "-------------------------------------------------\n",
       "    ncpus        1        1         int     False\n",
       " calcheck    False    False        bool     False\n",
       "   calwin        0        0  int, float     False\n",
       "    setup    False    False        bool     False\n",
       "       qa    False    False        bool     False\n",
       " preponly    False    False        bool     False\n",
       "stopcheck    False    False        bool     False\n",
       "useIDname    False    False        bool     False\n",
       "verbosity        2        2         int     False\n",
       "   caldir       MF       MF         str     False\n",
       "   scidir  Science  Science         str     False\n",
       "    qadir       QA       QA         str     False\n",
       "  sortdir     None     None         str     False\n",
       "overwrite    False    False        bool     False"
      ]
     },
     "execution_count": 5,
     "metadata": {},
     "output_type": "execute_result"
    }
   ],
   "source": [
    "t = core.RunPar()\n",
    "t"
   ]
  },
  {
   "cell_type": "markdown",
   "metadata": {},
   "source": [
    "### The reduction parameter set is made up of 6 sub parameter sets"
   ]
  },
  {
   "cell_type": "code",
   "execution_count": 6,
   "metadata": {},
   "outputs": [
    {
     "data": {
      "text/plain": [
       "Parameter   Value  Default       Type  Callable\n",
       "-----------------------------------------------\n",
       "   method  savgol   savgol        str     False\n",
       "   params   5, 65    5, 65  int, list     False"
      ]
     },
     "execution_count": 6,
     "metadata": {},
     "output_type": "execute_result"
    }
   ],
   "source": [
    "#1\n",
    "t = core.OverscanPar()\n",
    "t"
   ]
  },
  {
   "cell_type": "code",
   "execution_count": 7,
   "metadata": {},
   "outputs": [
    {
     "data": {
      "text/plain": [
       "Parameter      Value    Default       Type  Callable\n",
       "----------------------------------------------------\n",
       "    frame  pixelflat  pixelflat        str     False\n",
       "   method    bspline    bspline        str     False\n",
       "   params         20         20  int, list     False\n",
       "  twodpca          0          0        int     False"
      ]
     },
     "execution_count": 7,
     "metadata": {},
     "output_type": "execute_result"
    }
   ],
   "source": [
    "#2\n",
    "t = core.FlatFieldPar()\n",
    "t"
   ]
  },
  {
   "cell_type": "code",
   "execution_count": 8,
   "metadata": {},
   "outputs": [
    {
     "data": {
      "text/plain": [
       "Parameter   Value  Default        Type  Callable\n",
       "------------------------------------------------\n",
       "   method  boxcar   boxcar         str     False\n",
       " maxshift      20       20  int, float     False\n",
       " spectrum    None     None         str     False"
      ]
     },
     "execution_count": 8,
     "metadata": {},
     "output_type": "execute_result"
    }
   ],
   "source": [
    "#3\n",
    "t = core.FlexurePar()\n",
    "t"
   ]
  },
  {
   "cell_type": "code",
   "execution_count": 9,
   "metadata": {},
   "outputs": [
    {
     "data": {
      "text/plain": [
       "Parameter         Value       Default  Type  Callable\n",
       "-----------------------------------------------------\n",
       "   medium        vacuum        vacuum   str     False\n",
       " refframe  heliocentric  heliocentric   str     False"
      ]
     },
     "execution_count": 9,
     "metadata": {},
     "output_type": "execute_result"
    }
   ],
   "source": [
    "#4\n",
    "t = core.WavelengthCalibrationPar()\n",
    "t"
   ]
  },
  {
   "cell_type": "code",
   "execution_count": 10,
   "metadata": {},
   "outputs": [
    {
     "data": {
      "text/plain": [
       "Parameter  Value  Default  Type  Callable\n",
       "-----------------------------------------\n",
       "     flux  False    False  bool     False\n",
       "nonlinear  False    False  bool     False\n",
       " sensfunc   None     None   str     False"
      ]
     },
     "execution_count": 10,
     "metadata": {},
     "output_type": "execute_result"
    }
   ],
   "source": [
    "#5\n",
    "t = core.FluxCalibrationPar()\n",
    "t"
   ]
  },
  {
   "cell_type": "code",
   "execution_count": 11,
   "metadata": {},
   "outputs": [
    {
     "data": {
      "text/plain": [
       "Parameter    Value  Default  Type  Callable\n",
       "-------------------------------------------\n",
       "   method  bspline  bspline   str     False\n",
       "   params       20       20   int     False"
      ]
     },
     "execution_count": 11,
     "metadata": {},
     "output_type": "execute_result"
    }
   ],
   "source": [
    "#6\n",
    "t = core.SkySubtractionPar()\n",
    "t"
   ]
  },
  {
   "cell_type": "code",
   "execution_count": 12,
   "metadata": {},
   "outputs": [
    {
     "data": {
      "text/plain": [
       "        Parameter      Value    Default          Type  Callable\n",
       "---------------------------------------------------------------\n",
       "     spectrograph       None       None           str     False\n",
       "         pipeline       None       None           str     False\n",
       "           detnum       None       None           int     False\n",
       "          masters       None       None           str     False\n",
       "            setup       None       None           str     False\n",
       "             trim       True       True          bool     False\n",
       "           badpix       True       True          bool     False\n",
       "slit_center_frame      trace      trace           str     False\n",
       "  slit_edge_frame      trace      trace           str     False\n",
       "         overscan  see below  see below  ParSet, dict     False\n",
       "        flatfield  see below  see below  ParSet, dict     False\n",
       "          flexure  see below  see below  ParSet, dict     False\n",
       "        wavecalib  see below  see below  ParSet, dict     False\n",
       "        fluxcalib  see below  see below  ParSet, dict     False\n",
       "      skysubtract  see below  see below  ParSet, dict     False\n",
       "\n",
       "overscan\n",
       "Parameter   Value  Default       Type  Callable\n",
       "-----------------------------------------------\n",
       "   method  savgol   savgol        str     False\n",
       "   params   5, 65    5, 65  int, list     False\n",
       "\n",
       "flatfield\n",
       "Parameter      Value    Default       Type  Callable\n",
       "----------------------------------------------------\n",
       "    frame  pixelflat  pixelflat        str     False\n",
       "   method    bspline    bspline        str     False\n",
       "   params         20         20  int, list     False\n",
       "  twodpca          0          0        int     False\n",
       "\n",
       "flexure\n",
       "Parameter   Value  Default        Type  Callable\n",
       "------------------------------------------------\n",
       "   method  boxcar   boxcar         str     False\n",
       " maxshift      20       20  int, float     False\n",
       " spectrum    None     None         str     False\n",
       "\n",
       "wavecalib\n",
       "Parameter         Value       Default  Type  Callable\n",
       "-----------------------------------------------------\n",
       "   medium        vacuum        vacuum   str     False\n",
       " refframe  heliocentric  heliocentric   str     False\n",
       "\n",
       "fluxcalib\n",
       "Parameter  Value  Default  Type  Callable\n",
       "-----------------------------------------\n",
       "     flux  False    False  bool     False\n",
       "nonlinear  False    False  bool     False\n",
       " sensfunc   None     None   str     False\n",
       "\n",
       "skysubtract\n",
       "Parameter    Value  Default  Type  Callable\n",
       "-------------------------------------------\n",
       "   method  bspline  bspline   str     False\n",
       "   params       20       20   int     False"
      ]
     },
     "execution_count": 12,
     "metadata": {},
     "output_type": "execute_result"
    }
   ],
   "source": [
    "t = core.ReducePar()\n",
    "t"
   ]
  },
  {
   "cell_type": "markdown",
   "metadata": {},
   "source": [
    "### Parameters used for each frame type (bias, pixelflat, etc) are abstracted to a single \"Frame-Group\" parameter set.  The default is 'bias'; valid frame types are shown using the static method.  The parameters used to combine frames are a subset of the Frame-Group Parameters"
   ]
  },
  {
   "cell_type": "code",
   "execution_count": 13,
   "metadata": {},
   "outputs": [
    {
     "data": {
      "text/plain": [
       "Parameter      Value    Default        Type  Callable\n",
       "-----------------------------------------------------\n",
       "    match         -1         -1  int, float     False\n",
       "   method       mean       mean         str     False\n",
       "   satpix     reject     reject         str     False\n",
       "  cosmics       20.0       20.0  int, float     False\n",
       "   n_lohi       0, 0       0, 0        list     False\n",
       " sig_lohi   3.0, 3.0   3.0, 3.0        list     False\n",
       "  replace  maxnonsat  maxnonsat         str     False"
      ]
     },
     "execution_count": 13,
     "metadata": {},
     "output_type": "execute_result"
    }
   ],
   "source": [
    "t = core.CombineFramesPar()\n",
    "t"
   ]
  },
  {
   "cell_type": "code",
   "execution_count": 14,
   "metadata": {},
   "outputs": [
    {
     "data": {
      "text/plain": [
       "['bias', 'pixelflat', 'arc', 'pinhole', 'trace', 'standard', 'science']"
      ]
     },
     "execution_count": 14,
     "metadata": {},
     "output_type": "execute_result"
    }
   ],
   "source": [
    "core.FrameGroupPar.valid_frame_types()"
   ]
  },
  {
   "cell_type": "code",
   "execution_count": 15,
   "metadata": {},
   "outputs": [
    {
     "data": {
      "text/plain": [
       "Parameter      Value    Default          Type  Callable\n",
       "-------------------------------------------------------\n",
       "frametype       bias       bias           str     False\n",
       " useframe       None       None           str     False\n",
       "   number          0          0           int     False\n",
       "  combine  see below  see below  ParSet, dict     False\n",
       "\n",
       "combine\n",
       "Parameter      Value    Default        Type  Callable\n",
       "-----------------------------------------------------\n",
       "    match         -1         -1  int, float     False\n",
       "   method       mean       mean         str     False\n",
       "   satpix     reject     reject         str     False\n",
       "  cosmics       20.0       20.0  int, float     False\n",
       "   n_lohi       0, 0       0, 0        list     False\n",
       " sig_lohi   3.0, 3.0   3.0, 3.0        list     False\n",
       "  replace  maxnonsat  maxnonsat         str     False"
      ]
     },
     "execution_count": 15,
     "metadata": {},
     "output_type": "execute_result"
    }
   ],
   "source": [
    "t = core.FrameGroupPar()\n",
    "t"
   ]
  },
  {
   "cell_type": "markdown",
   "metadata": {},
   "source": [
    "### Parameters for constructing the wavelength solution"
   ]
  },
  {
   "cell_type": "code",
   "execution_count": 16,
   "metadata": {},
   "outputs": [
    {
     "data": {
      "text/plain": [
       "Parameter     Value   Default              Type  Callable\n",
       "---------------------------------------------------------\n",
       "   method  arclines  arclines               str     False\n",
       "    lamps      None      None         str, list     False\n",
       "detection       6.0       6.0        int, float     False\n",
       "numsearch        20        20               int     False\n",
       "  nfitpix         5         5               int     False\n",
       " IDpixels      None      None         int, list     False\n",
       "  IDwaves      None      None  int, float, list     False"
      ]
     },
     "execution_count": 16,
     "metadata": {},
     "output_type": "execute_result"
    }
   ],
   "source": [
    "t = core.WavelengthSolutionPar()\n",
    "t"
   ]
  },
  {
   "cell_type": "markdown",
   "metadata": {},
   "source": [
    "### The slit tracing parameter set includes the PCA parameters as a separate subset"
   ]
  },
  {
   "cell_type": "code",
   "execution_count": 17,
   "metadata": {},
   "outputs": [
    {
     "data": {
      "text/plain": [
       "  Parameter             Value           Default  Type  Callable\n",
       "---------------------------------------------------------------\n",
       "    pcatype             pixel             pixel   str     False\n",
       "     params  3, 2, 1, 0, 0, 0  3, 2, 1, 0, 0, 0  list     False\n",
       "extrapolate              0, 0              0, 0  list     False"
      ]
     },
     "execution_count": 17,
     "metadata": {},
     "output_type": "execute_result"
    }
   ],
   "source": [
    "t = core.PCAPar()\n",
    "t"
   ]
  },
  {
   "cell_type": "code",
   "execution_count": 18,
   "metadata": {},
   "outputs": [
    {
     "data": {
      "text/plain": [
       "    Parameter      Value    Default          Type  Callable\n",
       "-----------------------------------------------------------\n",
       "     function   legendre   legendre           str     False\n",
       "    polyorder          3          3           int     False\n",
       "       medrep          0          0           int     False\n",
       "       number         -1         -1           int     False\n",
       "       maxgap       None       None           int     False\n",
       "          pad          0          0           int     False\n",
       "    sigdetect       20.0       20.0    int, float     False\n",
       "   fracignore       0.01       0.01         float     False\n",
       "diffpolyorder          2          2           int     False\n",
       "       single       None       None          list     False\n",
       "   sobel_mode    nearest    nearest           str     False\n",
       "          pca  see below  see below  ParSet, dict     False\n",
       "\n",
       "pca\n",
       "  Parameter             Value           Default  Type  Callable\n",
       "---------------------------------------------------------------\n",
       "    pcatype             pixel             pixel   str     False\n",
       "     params  3, 2, 1, 0, 0, 0  3, 2, 1, 0, 0, 0  list     False\n",
       "extrapolate              0, 0              0, 0  list     False"
      ]
     },
     "execution_count": 18,
     "metadata": {},
     "output_type": "execute_result"
    }
   ],
   "source": [
    "t = core.TraceSlitsPar()\n",
    "t"
   ]
  },
  {
   "cell_type": "markdown",
   "metadata": {},
   "source": [
    "### Tilt tracing parameters"
   ]
  },
  {
   "cell_type": "code",
   "execution_count": 19,
   "metadata": {},
   "outputs": [
    {
     "data": {
      "text/plain": [
       "Parameter    Value  Default       Type  Callable\n",
       "------------------------------------------------\n",
       "  idsonly    False    False       bool     False\n",
       "   method   spline   spline        str     False\n",
       "   params  1, 1, 0  1, 1, 0  int, list     False\n",
       "    order        1        1        int     False\n",
       "disporder        1        1        int     False"
      ]
     },
     "execution_count": 19,
     "metadata": {},
     "output_type": "execute_result"
    }
   ],
   "source": [
    "t = core.TraceTiltsPar()\n",
    "t"
   ]
  },
  {
   "cell_type": "markdown",
   "metadata": {},
   "source": [
    "### Object tracing parameters"
   ]
  },
  {
   "cell_type": "code",
   "execution_count": 20,
   "metadata": {},
   "outputs": [
    {
     "data": {
      "text/plain": [
       "Parameter     Value   Default        Type  Callable\n",
       "---------------------------------------------------\n",
       " function  legendre  legendre         str     False\n",
       "    order         2         2         int     False\n",
       "     find  standard  standard         str     False\n",
       "  nsmooth         3         3  int, float     False\n",
       "    xedge      0.03      0.03       float     False\n",
       "   method       pca       pca         str     False\n",
       "   params      1, 0      1, 0   int, list     False"
      ]
     },
     "execution_count": 20,
     "metadata": {},
     "output_type": "execute_result"
    }
   ],
   "source": [
    "t = core.TraceObjectsPar()\n",
    "t"
   ]
  },
  {
   "cell_type": "markdown",
   "metadata": {},
   "source": [
    "### Object extraction parameters"
   ]
  },
  {
   "cell_type": "code",
   "execution_count": 21,
   "metadata": {},
   "outputs": [
    {
     "data": {
      "text/plain": [
       " Parameter     Value   Default        Type  Callable\n",
       "----------------------------------------------------\n",
       "  pixelmap      None      None         str     False\n",
       "pixelwidth       2.5       2.5  int, float     False\n",
       "     reuse     False     False        bool     False\n",
       "   profile  gaussian  gaussian         str     False\n",
       " maxnumber      None      None         int     False\n",
       "    manual      None      None        list     False"
      ]
     },
     "execution_count": 21,
     "metadata": {},
     "output_type": "execute_result"
    }
   ],
   "source": [
    "t = core.ExtractObjectsPar()\n",
    "t"
   ]
  },
  {
   "cell_type": "markdown",
   "metadata": {},
   "source": [
    "### The \"Pypit\" parameter set is just a superset of all the parameters above so that they can be held by a single object like 'settings'"
   ]
  },
  {
   "cell_type": "code",
   "execution_count": 22,
   "metadata": {},
   "outputs": [
    {
     "data": {
      "text/plain": [
       "  Parameter      Value    Default          Type  Callable\n",
       "---------------------------------------------------------\n",
       "        run  see below  see below  ParSet, dict     False\n",
       "        rdx  see below  see below  ParSet, dict     False\n",
       "       bias  see below  see below  ParSet, dict     False\n",
       "  pixelflat  see below  see below  ParSet, dict     False\n",
       "        arc  see below  see below  ParSet, dict     False\n",
       "    pinhole  see below  see below  ParSet, dict     False\n",
       "      trace  see below  see below  ParSet, dict     False\n",
       "wavelengths  see below  see below  ParSet, dict     False\n",
       "      slits  see below  see below  ParSet, dict     False\n",
       "      tilts  see below  see below  ParSet, dict     False\n",
       "    objects  see below  see below  ParSet, dict     False\n",
       "    extract  see below  see below  ParSet, dict     False\n",
       "\n",
       "run\n",
       "Parameter    Value  Default        Type  Callable\n",
       "-------------------------------------------------\n",
       "    ncpus        1        1         int     False\n",
       " calcheck    False    False        bool     False\n",
       "   calwin        0        0  int, float     False\n",
       "    setup    False    False        bool     False\n",
       "       qa    False    False        bool     False\n",
       " preponly    False    False        bool     False\n",
       "stopcheck    False    False        bool     False\n",
       "useIDname    False    False        bool     False\n",
       "verbosity        2        2         int     False\n",
       "   caldir       MF       MF         str     False\n",
       "   scidir  Science  Science         str     False\n",
       "    qadir       QA       QA         str     False\n",
       "  sortdir     None     None         str     False\n",
       "overwrite    False    False        bool     False\n",
       "\n",
       "rdx\n",
       "        Parameter      Value    Default          Type  Callable\n",
       "---------------------------------------------------------------\n",
       "     spectrograph       None       None           str     False\n",
       "         pipeline       None       None           str     False\n",
       "           detnum       None       None           int     False\n",
       "          masters       None       None           str     False\n",
       "            setup       None       None           str     False\n",
       "             trim       True       True          bool     False\n",
       "           badpix       True       True          bool     False\n",
       "slit_center_frame      trace      trace           str     False\n",
       "  slit_edge_frame      trace      trace           str     False\n",
       "         overscan  see below  see below  ParSet, dict     False\n",
       "        flatfield  see below  see below  ParSet, dict     False\n",
       "          flexure  see below  see below  ParSet, dict     False\n",
       "        wavecalib  see below  see below  ParSet, dict     False\n",
       "        fluxcalib  see below  see below  ParSet, dict     False\n",
       "      skysubtract  see below  see below  ParSet, dict     False\n",
       "\n",
       "rdx:overscan\n",
       "Parameter   Value  Default       Type  Callable\n",
       "-----------------------------------------------\n",
       "   method  savgol   savgol        str     False\n",
       "   params   5, 65    5, 65  int, list     False\n",
       "\n",
       "rdx:flatfield\n",
       "Parameter      Value    Default       Type  Callable\n",
       "----------------------------------------------------\n",
       "    frame  pixelflat  pixelflat        str     False\n",
       "   method    bspline    bspline        str     False\n",
       "   params         20         20  int, list     False\n",
       "  twodpca          0          0        int     False\n",
       "\n",
       "rdx:flexure\n",
       "Parameter   Value  Default        Type  Callable\n",
       "------------------------------------------------\n",
       "   method  boxcar   boxcar         str     False\n",
       " maxshift      20       20  int, float     False\n",
       " spectrum    None     None         str     False\n",
       "\n",
       "rdx:wavecalib\n",
       "Parameter         Value       Default  Type  Callable\n",
       "-----------------------------------------------------\n",
       "   medium        vacuum        vacuum   str     False\n",
       " refframe  heliocentric  heliocentric   str     False\n",
       "\n",
       "rdx:fluxcalib\n",
       "Parameter  Value  Default  Type  Callable\n",
       "-----------------------------------------\n",
       "     flux  False    False  bool     False\n",
       "nonlinear  False    False  bool     False\n",
       " sensfunc   None     None   str     False\n",
       "\n",
       "rdx:skysubtract\n",
       "Parameter    Value  Default  Type  Callable\n",
       "-------------------------------------------\n",
       "   method  bspline  bspline   str     False\n",
       "   params       20       20   int     False\n",
       "\n",
       "bias\n",
       "Parameter      Value    Default          Type  Callable\n",
       "-------------------------------------------------------\n",
       "frametype       bias       bias           str     False\n",
       " useframe       None       None           str     False\n",
       "   number          0          0           int     False\n",
       "  combine  see below  see below  ParSet, dict     False\n",
       "\n",
       "bias:combine\n",
       "Parameter      Value    Default        Type  Callable\n",
       "-----------------------------------------------------\n",
       "    match         -1         -1  int, float     False\n",
       "   method       mean       mean         str     False\n",
       "   satpix     reject     reject         str     False\n",
       "  cosmics       20.0       20.0  int, float     False\n",
       "   n_lohi       0, 0       0, 0        list     False\n",
       " sig_lohi   3.0, 3.0   3.0, 3.0        list     False\n",
       "  replace  maxnonsat  maxnonsat         str     False\n",
       "\n",
       "pixelflat\n",
       "Parameter      Value    Default          Type  Callable\n",
       "-------------------------------------------------------\n",
       "frametype  pixelflat       bias           str     False\n",
       " useframe       None       None           str     False\n",
       "   number          0          0           int     False\n",
       "  combine  see below  see below  ParSet, dict     False\n",
       "\n",
       "pixelflat:combine\n",
       "Parameter      Value    Default        Type  Callable\n",
       "-----------------------------------------------------\n",
       "    match         -1         -1  int, float     False\n",
       "   method       mean       mean         str     False\n",
       "   satpix     reject     reject         str     False\n",
       "  cosmics       20.0       20.0  int, float     False\n",
       "   n_lohi       0, 0       0, 0        list     False\n",
       " sig_lohi   3.0, 3.0   3.0, 3.0        list     False\n",
       "  replace  maxnonsat  maxnonsat         str     False\n",
       "\n",
       "arc\n",
       "Parameter      Value    Default          Type  Callable\n",
       "-------------------------------------------------------\n",
       "frametype        arc       bias           str     False\n",
       " useframe       None       None           str     False\n",
       "   number          0          0           int     False\n",
       "  combine  see below  see below  ParSet, dict     False\n",
       "\n",
       "arc:combine\n",
       "Parameter      Value    Default        Type  Callable\n",
       "-----------------------------------------------------\n",
       "    match         -1         -1  int, float     False\n",
       "   method       mean       mean         str     False\n",
       "   satpix     reject     reject         str     False\n",
       "  cosmics       20.0       20.0  int, float     False\n",
       "   n_lohi       0, 0       0, 0        list     False\n",
       " sig_lohi   3.0, 3.0   3.0, 3.0        list     False\n",
       "  replace  maxnonsat  maxnonsat         str     False\n",
       "\n",
       "pinhole\n",
       "Parameter      Value    Default          Type  Callable\n",
       "-------------------------------------------------------\n",
       "frametype    pinhole       bias           str     False\n",
       " useframe       None       None           str     False\n",
       "   number          0          0           int     False\n",
       "  combine  see below  see below  ParSet, dict     False\n",
       "\n",
       "pinhole:combine\n",
       "Parameter      Value    Default        Type  Callable\n",
       "-----------------------------------------------------\n",
       "    match         -1         -1  int, float     False\n",
       "   method       mean       mean         str     False\n",
       "   satpix     reject     reject         str     False\n",
       "  cosmics       20.0       20.0  int, float     False\n",
       "   n_lohi       0, 0       0, 0        list     False\n",
       " sig_lohi   3.0, 3.0   3.0, 3.0        list     False\n",
       "  replace  maxnonsat  maxnonsat         str     False\n",
       "\n",
       "trace\n",
       "Parameter      Value    Default          Type  Callable\n",
       "-------------------------------------------------------\n",
       "frametype      trace       bias           str     False\n",
       " useframe       None       None           str     False\n",
       "   number          0          0           int     False\n",
       "  combine  see below  see below  ParSet, dict     False\n",
       "\n",
       "trace:combine\n",
       "Parameter      Value    Default        Type  Callable\n",
       "-----------------------------------------------------\n",
       "    match         -1         -1  int, float     False\n",
       "   method       mean       mean         str     False\n",
       "   satpix     reject     reject         str     False\n",
       "  cosmics       20.0       20.0  int, float     False\n",
       "   n_lohi       0, 0       0, 0        list     False\n",
       " sig_lohi   3.0, 3.0   3.0, 3.0        list     False\n",
       "  replace  maxnonsat  maxnonsat         str     False\n",
       "\n",
       "wavelengths\n",
       "Parameter     Value   Default              Type  Callable\n",
       "---------------------------------------------------------\n",
       "   method  arclines  arclines               str     False\n",
       "    lamps      None      None         str, list     False\n",
       "detection       6.0       6.0        int, float     False\n",
       "numsearch        20        20               int     False\n",
       "  nfitpix         5         5               int     False\n",
       " IDpixels      None      None         int, list     False\n",
       "  IDwaves      None      None  int, float, list     False\n",
       "\n",
       "slits\n",
       "    Parameter      Value    Default          Type  Callable\n",
       "-----------------------------------------------------------\n",
       "     function   legendre   legendre           str     False\n",
       "    polyorder          3          3           int     False\n",
       "       medrep          0          0           int     False\n",
       "       number         -1         -1           int     False\n",
       "       maxgap       None       None           int     False\n",
       "          pad          0          0           int     False\n",
       "    sigdetect       20.0       20.0    int, float     False\n",
       "   fracignore       0.01       0.01         float     False\n",
       "diffpolyorder          2          2           int     False\n",
       "       single       None       None          list     False\n",
       "   sobel_mode    nearest    nearest           str     False\n",
       "          pca  see below  see below  ParSet, dict     False\n",
       "\n",
       "slits:pca\n",
       "  Parameter             Value           Default  Type  Callable\n",
       "---------------------------------------------------------------\n",
       "    pcatype             pixel             pixel   str     False\n",
       "     params  3, 2, 1, 0, 0, 0  3, 2, 1, 0, 0, 0  list     False\n",
       "extrapolate              0, 0              0, 0  list     False\n",
       "\n",
       "tilts\n",
       "Parameter    Value  Default       Type  Callable\n",
       "------------------------------------------------\n",
       "  idsonly    False    False       bool     False\n",
       "   method   spline   spline        str     False\n",
       "   params  1, 1, 0  1, 1, 0  int, list     False\n",
       "    order        1        1        int     False\n",
       "disporder        1        1        int     False\n",
       "\n",
       "objects\n",
       "Parameter     Value   Default        Type  Callable\n",
       "---------------------------------------------------\n",
       " function  legendre  legendre         str     False\n",
       "    order         2         2         int     False\n",
       "     find  standard  standard         str     False\n",
       "  nsmooth         3         3  int, float     False\n",
       "    xedge      0.03      0.03       float     False\n",
       "   method       pca       pca         str     False\n",
       "   params      1, 0      1, 0   int, list     False\n",
       "\n",
       "extract\n",
       " Parameter     Value   Default        Type  Callable\n",
       "----------------------------------------------------\n",
       "  pixelmap      None      None         str     False\n",
       "pixelwidth       2.5       2.5  int, float     False\n",
       "     reuse     False     False        bool     False\n",
       "   profile  gaussian  gaussian         str     False\n",
       " maxnumber      None      None         int     False\n",
       "    manual      None      None        list     False"
      ]
     },
     "execution_count": 22,
     "metadata": {},
     "output_type": "execute_result"
    }
   ],
   "source": [
    "t = core.PypitPar()\n",
    "t"
   ]
  },
  {
   "cell_type": "code",
   "execution_count": 23,
   "metadata": {},
   "outputs": [
    {
     "data": {
      "text/plain": [
       "  Parameter      Value    Default          Type  Callable\n",
       "---------------------------------------------------------\n",
       "        run  see below  see below  ParSet, dict     False\n",
       "        rdx  see below  see below  ParSet, dict     False\n",
       "       bias  see below  see below  ParSet, dict     False\n",
       "  pixelflat  see below  see below  ParSet, dict     False\n",
       "        arc  see below  see below  ParSet, dict     False\n",
       "    pinhole  see below  see below  ParSet, dict     False\n",
       "      trace  see below  see below  ParSet, dict     False\n",
       "wavelengths  see below  see below  ParSet, dict     False\n",
       "      slits  see below  see below  ParSet, dict     False\n",
       "      tilts  see below  see below  ParSet, dict     False\n",
       "    objects  see below  see below  ParSet, dict     False\n",
       "    extract  see below  see below  ParSet, dict     False\n",
       "\n",
       "run\n",
       "Parameter    Value  Default        Type  Callable\n",
       "-------------------------------------------------\n",
       "    ncpus        1        1         int     False\n",
       " calcheck    False    False        bool     False\n",
       "   calwin        0        0  int, float     False\n",
       "    setup    False    False        bool     False\n",
       "       qa    False    False        bool     False\n",
       " preponly    False    False        bool     False\n",
       "stopcheck    False    False        bool     False\n",
       "useIDname    False    False        bool     False\n",
       "verbosity        2        2         int     False\n",
       "   caldir       MF       MF         str     False\n",
       "   scidir  Science  Science         str     False\n",
       "    qadir       QA       QA         str     False\n",
       "  sortdir     None     None         str     False\n",
       "overwrite    False    False        bool     False\n",
       "\n",
       "rdx\n",
       "        Parameter      Value    Default          Type  Callable\n",
       "---------------------------------------------------------------\n",
       "     spectrograph       None       None           str     False\n",
       "         pipeline       None       None           str     False\n",
       "           detnum       None       None           int     False\n",
       "          masters       None       None           str     False\n",
       "            setup       None       None           str     False\n",
       "             trim       True       True          bool     False\n",
       "           badpix       True       True          bool     False\n",
       "slit_center_frame      trace      trace           str     False\n",
       "  slit_edge_frame      trace      trace           str     False\n",
       "         overscan  see below  see below  ParSet, dict     False\n",
       "        flatfield  see below  see below  ParSet, dict     False\n",
       "          flexure  see below  see below  ParSet, dict     False\n",
       "        wavecalib  see below  see below  ParSet, dict     False\n",
       "        fluxcalib  see below  see below  ParSet, dict     False\n",
       "      skysubtract  see below  see below  ParSet, dict     False\n",
       "\n",
       "rdx:overscan\n",
       "Parameter   Value  Default       Type  Callable\n",
       "-----------------------------------------------\n",
       "   method  savgol   savgol        str     False\n",
       "   params   5, 65    5, 65  int, list     False\n",
       "\n",
       "rdx:flatfield\n",
       "Parameter      Value    Default       Type  Callable\n",
       "----------------------------------------------------\n",
       "    frame  pixelflat  pixelflat        str     False\n",
       "   method    bspline    bspline        str     False\n",
       "   params         20         20  int, list     False\n",
       "  twodpca          0          0        int     False\n",
       "\n",
       "rdx:flexure\n",
       "Parameter   Value  Default        Type  Callable\n",
       "------------------------------------------------\n",
       "   method  boxcar   boxcar         str     False\n",
       " maxshift      20       20  int, float     False\n",
       " spectrum    None     None         str     False\n",
       "\n",
       "rdx:wavecalib\n",
       "Parameter         Value       Default  Type  Callable\n",
       "-----------------------------------------------------\n",
       "   medium        vacuum        vacuum   str     False\n",
       " refframe  heliocentric  heliocentric   str     False\n",
       "\n",
       "rdx:fluxcalib\n",
       "Parameter  Value  Default  Type  Callable\n",
       "-----------------------------------------\n",
       "     flux  False    False  bool     False\n",
       "nonlinear  False    False  bool     False\n",
       " sensfunc   None     None   str     False\n",
       "\n",
       "rdx:skysubtract\n",
       "Parameter    Value  Default  Type  Callable\n",
       "-------------------------------------------\n",
       "   method  bspline  bspline   str     False\n",
       "   params       20       20   int     False\n",
       "\n",
       "bias\n",
       "Parameter      Value    Default          Type  Callable\n",
       "-------------------------------------------------------\n",
       "frametype       bias       bias           str     False\n",
       " useframe       None       None           str     False\n",
       "   number          0          0           int     False\n",
       "  combine  see below  see below  ParSet, dict     False\n",
       "\n",
       "bias:combine\n",
       "Parameter      Value    Default        Type  Callable\n",
       "-----------------------------------------------------\n",
       "    match         -1         -1  int, float     False\n",
       "   method       mean       mean         str     False\n",
       "   satpix     reject     reject         str     False\n",
       "  cosmics       20.0       20.0  int, float     False\n",
       "   n_lohi       0, 0       0, 0        list     False\n",
       " sig_lohi   3.0, 3.0   3.0, 3.0        list     False\n",
       "  replace  maxnonsat  maxnonsat         str     False\n",
       "\n",
       "pixelflat\n",
       "Parameter      Value    Default          Type  Callable\n",
       "-------------------------------------------------------\n",
       "frametype  pixelflat       bias           str     False\n",
       " useframe       None       None           str     False\n",
       "   number          0          0           int     False\n",
       "  combine  see below  see below  ParSet, dict     False\n",
       "\n",
       "pixelflat:combine\n",
       "Parameter      Value    Default        Type  Callable\n",
       "-----------------------------------------------------\n",
       "    match         -1         -1  int, float     False\n",
       "   method       mean       mean         str     False\n",
       "   satpix     reject     reject         str     False\n",
       "  cosmics       20.0       20.0  int, float     False\n",
       "   n_lohi       0, 0       0, 0        list     False\n",
       " sig_lohi   3.0, 3.0   3.0, 3.0        list     False\n",
       "  replace  maxnonsat  maxnonsat         str     False\n",
       "\n",
       "arc\n",
       "Parameter      Value    Default          Type  Callable\n",
       "-------------------------------------------------------\n",
       "frametype        arc       bias           str     False\n",
       " useframe       None       None           str     False\n",
       "   number          0          0           int     False\n",
       "  combine  see below  see below  ParSet, dict     False\n",
       "\n",
       "arc:combine\n",
       "Parameter      Value    Default        Type  Callable\n",
       "-----------------------------------------------------\n",
       "    match         -1         -1  int, float     False\n",
       "   method       mean       mean         str     False\n",
       "   satpix     reject     reject         str     False\n",
       "  cosmics       20.0       20.0  int, float     False\n",
       "   n_lohi       0, 0       0, 0        list     False\n",
       " sig_lohi   3.0, 3.0   3.0, 3.0        list     False\n",
       "  replace  maxnonsat  maxnonsat         str     False\n",
       "\n",
       "pinhole\n",
       "Parameter      Value    Default          Type  Callable\n",
       "-------------------------------------------------------\n",
       "frametype    pinhole       bias           str     False\n",
       " useframe       None       None           str     False\n",
       "   number          0          0           int     False\n",
       "  combine  see below  see below  ParSet, dict     False\n",
       "\n",
       "pinhole:combine\n",
       "Parameter      Value    Default        Type  Callable\n",
       "-----------------------------------------------------\n",
       "    match         -1         -1  int, float     False\n",
       "   method       mean       mean         str     False\n",
       "   satpix     reject     reject         str     False\n",
       "  cosmics       20.0       20.0  int, float     False\n",
       "   n_lohi       0, 0       0, 0        list     False\n",
       " sig_lohi   3.0, 3.0   3.0, 3.0        list     False\n",
       "  replace  maxnonsat  maxnonsat         str     False\n",
       "\n",
       "trace\n",
       "Parameter      Value    Default          Type  Callable\n",
       "-------------------------------------------------------\n",
       "frametype      trace       bias           str     False\n",
       " useframe       None       None           str     False\n",
       "   number          0          0           int     False\n",
       "  combine  see below  see below  ParSet, dict     False\n",
       "\n",
       "trace:combine\n",
       "Parameter      Value    Default        Type  Callable\n",
       "-----------------------------------------------------\n",
       "    match         -1         -1  int, float     False\n",
       "   method       mean       mean         str     False\n",
       "   satpix     reject     reject         str     False\n",
       "  cosmics       20.0       20.0  int, float     False\n",
       "   n_lohi       0, 0       0, 0        list     False\n",
       " sig_lohi   3.0, 3.0   3.0, 3.0        list     False\n",
       "  replace  maxnonsat  maxnonsat         str     False\n",
       "\n",
       "wavelengths\n",
       "Parameter     Value   Default              Type  Callable\n",
       "---------------------------------------------------------\n",
       "   method  arclines  arclines               str     False\n",
       "    lamps      None      None         str, list     False\n",
       "detection       6.0       6.0        int, float     False\n",
       "numsearch        20        20               int     False\n",
       "  nfitpix         5         5               int     False\n",
       " IDpixels      None      None         int, list     False\n",
       "  IDwaves      None      None  int, float, list     False\n",
       "\n",
       "slits\n",
       "    Parameter      Value    Default          Type  Callable\n",
       "-----------------------------------------------------------\n",
       "     function   legendre   legendre           str     False\n",
       "    polyorder          3          3           int     False\n",
       "       medrep          0          0           int     False\n",
       "       number         -1         -1           int     False\n",
       "       maxgap       None       None           int     False\n",
       "          pad          0          0           int     False\n",
       "    sigdetect       20.0       20.0    int, float     False\n",
       "   fracignore       0.01       0.01         float     False\n",
       "diffpolyorder          2          2           int     False\n",
       "       single       None       None          list     False\n",
       "   sobel_mode    nearest    nearest           str     False\n",
       "          pca  see below  see below  ParSet, dict     False\n",
       "\n",
       "slits:pca\n",
       "  Parameter             Value           Default  Type  Callable\n",
       "---------------------------------------------------------------\n",
       "    pcatype             pixel             pixel   str     False\n",
       "     params  3, 2, 1, 0, 0, 0  3, 2, 1, 0, 0, 0  list     False\n",
       "extrapolate              0, 0              0, 0  list     False\n",
       "\n",
       "tilts\n",
       "Parameter    Value  Default       Type  Callable\n",
       "------------------------------------------------\n",
       "  idsonly    False    False       bool     False\n",
       "   method   spline   spline        str     False\n",
       "   params  1, 1, 0  1, 1, 0  int, list     False\n",
       "    order        1        1        int     False\n",
       "disporder        1        1        int     False\n",
       "\n",
       "objects\n",
       "Parameter     Value   Default        Type  Callable\n",
       "---------------------------------------------------\n",
       " function  legendre  legendre         str     False\n",
       "    order         2         2         int     False\n",
       "     find  standard  standard         str     False\n",
       "  nsmooth         3         3  int, float     False\n",
       "    xedge      0.03      0.03       float     False\n",
       "   method       pca       pca         str     False\n",
       "   params      1, 0      1, 0   int, list     False\n",
       "\n",
       "extract\n",
       " Parameter     Value   Default        Type  Callable\n",
       "----------------------------------------------------\n",
       "  pixelmap      None      None         str     False\n",
       "pixelwidth       2.5       2.5  int, float     False\n",
       "     reuse     False     False        bool     False\n",
       "   profile  gaussian  gaussian         str     False\n",
       " maxnumber      None      None         int     False\n",
       "    manual      None      None        list     False"
      ]
     },
     "execution_count": 23,
     "metadata": {},
     "output_type": "execute_result"
    }
   ],
   "source": [
    "# Write the defaults\n",
    "t.to_config('test.cfg')\n",
    "# Read them in\n",
    "u = core.PypitPar.from_cfg_file('test.cfg')\n",
    "u"
   ]
  },
  {
   "cell_type": "code",
   "execution_count": 31,
   "metadata": {},
   "outputs": [
    {
     "data": {
      "text/plain": [
       "  Parameter      Value    Default          Type  Callable\n",
       "---------------------------------------------------------\n",
       "        run  see below  see below  ParSet, dict     False\n",
       "        rdx  see below  see below  ParSet, dict     False\n",
       "       bias  see below  see below  ParSet, dict     False\n",
       "  pixelflat  see below  see below  ParSet, dict     False\n",
       "        arc  see below  see below  ParSet, dict     False\n",
       "    pinhole  see below  see below  ParSet, dict     False\n",
       "      trace  see below  see below  ParSet, dict     False\n",
       "wavelengths  see below  see below  ParSet, dict     False\n",
       "      slits  see below  see below  ParSet, dict     False\n",
       "      tilts  see below  see below  ParSet, dict     False\n",
       "    objects  see below  see below  ParSet, dict     False\n",
       "    extract  see below  see below  ParSet, dict     False\n",
       "\n",
       "run\n",
       "Parameter    Value  Default        Type  Callable\n",
       "-------------------------------------------------\n",
       "    ncpus        3        1         int     False\n",
       " calcheck    False    False        bool     False\n",
       "   calwin        0        0  int, float     False\n",
       "    setup    False    False        bool     False\n",
       "       qa    False    False        bool     False\n",
       " preponly    False    False        bool     False\n",
       "stopcheck    False    False        bool     False\n",
       "useIDname    False    False        bool     False\n",
       "verbosity        2        2         int     False\n",
       "   caldir       MF       MF         str     False\n",
       "   scidir  Science  Science         str     False\n",
       "    qadir       QA       QA         str     False\n",
       "  sortdir     None     None         str     False\n",
       "overwrite    False    False        bool     False\n",
       "\n",
       "rdx\n",
       "        Parameter      Value    Default          Type  Callable\n",
       "---------------------------------------------------------------\n",
       "     spectrograph       None       None           str     False\n",
       "         pipeline       None       None           str     False\n",
       "           detnum       None       None           int     False\n",
       "          masters       None       None           str     False\n",
       "            setup       None       None           str     False\n",
       "             trim       True       True          bool     False\n",
       "           badpix       True       True          bool     False\n",
       "slit_center_frame      trace      trace           str     False\n",
       "  slit_edge_frame      trace      trace           str     False\n",
       "         overscan  see below  see below  ParSet, dict     False\n",
       "        flatfield  see below  see below  ParSet, dict     False\n",
       "          flexure  see below  see below  ParSet, dict     False\n",
       "        wavecalib  see below  see below  ParSet, dict     False\n",
       "        fluxcalib  see below  see below  ParSet, dict     False\n",
       "      skysubtract  see below  see below  ParSet, dict     False\n",
       "\n",
       "rdx:overscan\n",
       "Parameter   Value  Default       Type  Callable\n",
       "-----------------------------------------------\n",
       "   method  savgol   savgol        str     False\n",
       "   params   5, 65    5, 65  int, list     False\n",
       "\n",
       "rdx:flatfield\n",
       "Parameter      Value    Default       Type  Callable\n",
       "----------------------------------------------------\n",
       "    frame  pixelflat  pixelflat        str     False\n",
       "   method    bspline    bspline        str     False\n",
       "   params         20         20  int, list     False\n",
       "  twodpca          0          0        int     False\n",
       "\n",
       "rdx:flexure\n",
       "Parameter   Value  Default        Type  Callable\n",
       "------------------------------------------------\n",
       "   method  boxcar   boxcar         str     False\n",
       " maxshift      20       20  int, float     False\n",
       " spectrum    None     None         str     False\n",
       "\n",
       "rdx:wavecalib\n",
       "Parameter         Value       Default  Type  Callable\n",
       "-----------------------------------------------------\n",
       "   medium        vacuum        vacuum   str     False\n",
       " refframe  heliocentric  heliocentric   str     False\n",
       "\n",
       "rdx:fluxcalib\n",
       "Parameter  Value  Default  Type  Callable\n",
       "-----------------------------------------\n",
       "     flux  False    False  bool     False\n",
       "nonlinear  False    False  bool     False\n",
       " sensfunc   None     None   str     False\n",
       "\n",
       "rdx:skysubtract\n",
       "Parameter    Value  Default  Type  Callable\n",
       "-------------------------------------------\n",
       "   method  bspline  bspline   str     False\n",
       "   params       20       20   int     False\n",
       "\n",
       "bias\n",
       "Parameter      Value    Default          Type  Callable\n",
       "-------------------------------------------------------\n",
       "frametype       bias       bias           str     False\n",
       " useframe       None       None           str     False\n",
       "   number          0          0           int     False\n",
       "  combine  see below  see below  ParSet, dict     False\n",
       "\n",
       "bias:combine\n",
       "Parameter      Value    Default        Type  Callable\n",
       "-----------------------------------------------------\n",
       "    match         -1         -1  int, float     False\n",
       "   method       mean       mean         str     False\n",
       "   satpix     reject     reject         str     False\n",
       "  cosmics       20.0       20.0  int, float     False\n",
       "   n_lohi       0, 0       0, 0        list     False\n",
       " sig_lohi   3.0, 3.0   3.0, 3.0        list     False\n",
       "  replace  maxnonsat  maxnonsat         str     False\n",
       "\n",
       "pixelflat\n",
       "Parameter      Value    Default          Type  Callable\n",
       "-------------------------------------------------------\n",
       "frametype  pixelflat       bias           str     False\n",
       " useframe       None       None           str     False\n",
       "   number          0          0           int     False\n",
       "  combine  see below  see below  ParSet, dict     False\n",
       "\n",
       "pixelflat:combine\n",
       "Parameter      Value    Default        Type  Callable\n",
       "-----------------------------------------------------\n",
       "    match         -1         -1  int, float     False\n",
       "   method       mean       mean         str     False\n",
       "   satpix     reject     reject         str     False\n",
       "  cosmics       20.0       20.0  int, float     False\n",
       "   n_lohi       0, 0       0, 0        list     False\n",
       " sig_lohi   3.0, 3.0   3.0, 3.0        list     False\n",
       "  replace  maxnonsat  maxnonsat         str     False\n",
       "\n",
       "arc\n",
       "Parameter      Value    Default          Type  Callable\n",
       "-------------------------------------------------------\n",
       "frametype        arc       bias           str     False\n",
       " useframe       None       None           str     False\n",
       "   number          0          0           int     False\n",
       "  combine  see below  see below  ParSet, dict     False\n",
       "\n",
       "arc:combine\n",
       "Parameter      Value    Default        Type  Callable\n",
       "-----------------------------------------------------\n",
       "    match         -1         -1  int, float     False\n",
       "   method       mean       mean         str     False\n",
       "   satpix     reject     reject         str     False\n",
       "  cosmics       20.0       20.0  int, float     False\n",
       "   n_lohi       0, 0       0, 0        list     False\n",
       " sig_lohi   3.0, 3.0   3.0, 3.0        list     False\n",
       "  replace  maxnonsat  maxnonsat         str     False\n",
       "\n",
       "pinhole\n",
       "Parameter      Value    Default          Type  Callable\n",
       "-------------------------------------------------------\n",
       "frametype    pinhole       bias           str     False\n",
       " useframe       None       None           str     False\n",
       "   number          0          0           int     False\n",
       "  combine  see below  see below  ParSet, dict     False\n",
       "\n",
       "pinhole:combine\n",
       "Parameter      Value    Default        Type  Callable\n",
       "-----------------------------------------------------\n",
       "    match         -1         -1  int, float     False\n",
       "   method       mean       mean         str     False\n",
       "   satpix     reject     reject         str     False\n",
       "  cosmics       20.0       20.0  int, float     False\n",
       "   n_lohi       0, 0       0, 0        list     False\n",
       " sig_lohi   3.0, 3.0   3.0, 3.0        list     False\n",
       "  replace  maxnonsat  maxnonsat         str     False\n",
       "\n",
       "trace\n",
       "Parameter      Value    Default          Type  Callable\n",
       "-------------------------------------------------------\n",
       "frametype      trace       bias           str     False\n",
       " useframe       None       None           str     False\n",
       "   number          0          0           int     False\n",
       "  combine  see below  see below  ParSet, dict     False\n",
       "\n",
       "trace:combine\n",
       "Parameter      Value    Default        Type  Callable\n",
       "-----------------------------------------------------\n",
       "    match         -1         -1  int, float     False\n",
       "   method       mean       mean         str     False\n",
       "   satpix     reject     reject         str     False\n",
       "  cosmics       20.0       20.0  int, float     False\n",
       "   n_lohi       0, 0       0, 0        list     False\n",
       " sig_lohi   3.0, 3.0   3.0, 3.0        list     False\n",
       "  replace  maxnonsat  maxnonsat         str     False\n",
       "\n",
       "wavelengths\n",
       "Parameter     Value   Default              Type  Callable\n",
       "---------------------------------------------------------\n",
       "   method  arclines  arclines               str     False\n",
       "    lamps      None      None         str, list     False\n",
       "detection       6.0       6.0        int, float     False\n",
       "numsearch        20        20               int     False\n",
       "  nfitpix         5         5               int     False\n",
       " IDpixels      None      None         int, list     False\n",
       "  IDwaves      None      None  int, float, list     False\n",
       "\n",
       "slits\n",
       "    Parameter      Value    Default          Type  Callable\n",
       "-----------------------------------------------------------\n",
       "     function   legendre   legendre           str     False\n",
       "    polyorder          3          3           int     False\n",
       "       medrep          0          0           int     False\n",
       "       number         -1         -1           int     False\n",
       "       maxgap       None       None           int     False\n",
       "          pad          0          0           int     False\n",
       "    sigdetect       20.0       20.0    int, float     False\n",
       "   fracignore       0.01       0.01         float     False\n",
       "diffpolyorder          2          2           int     False\n",
       "       single       None       None          list     False\n",
       "   sobel_mode    nearest    nearest           str     False\n",
       "          pca  see below  see below  ParSet, dict     False\n",
       "\n",
       "slits:pca\n",
       "  Parameter             Value           Default  Type  Callable\n",
       "---------------------------------------------------------------\n",
       "    pcatype             pixel             pixel   str     False\n",
       "     params  3, 2, 1, 0, 0, 0  3, 2, 1, 0, 0, 0  list     False\n",
       "extrapolate              0, 0              0, 0  list     False\n",
       "\n",
       "tilts\n",
       "Parameter    Value  Default       Type  Callable\n",
       "------------------------------------------------\n",
       "  idsonly    False    False       bool     False\n",
       "   method   spline   spline        str     False\n",
       "   params  1, 1, 0  1, 1, 0  int, list     False\n",
       "    order        1        1        int     False\n",
       "disporder        1        1        int     False\n",
       "\n",
       "objects\n",
       "Parameter     Value   Default        Type  Callable\n",
       "---------------------------------------------------\n",
       " function  legendre  legendre         str     False\n",
       "    order         2         2         int     False\n",
       "     find  standard  standard         str     False\n",
       "  nsmooth         3         3  int, float     False\n",
       "    xedge      0.03      0.03       float     False\n",
       "   method       pca       pca         str     False\n",
       "   params      1, 0      1, 0   int, list     False\n",
       "\n",
       "extract\n",
       " Parameter     Value   Default        Type  Callable\n",
       "----------------------------------------------------\n",
       "  pixelmap      None      None         str     False\n",
       "pixelwidth       2.5       2.5  int, float     False\n",
       "     reuse     False     False        bool     False\n",
       "   profile  gaussian  gaussian         str     False\n",
       " maxnumber      None      None         int     False\n",
       "    manual      None      None        list     False"
      ]
     },
     "execution_count": 31,
     "metadata": {},
     "output_type": "execute_result"
    }
   ],
   "source": [
    "t = core.PypitPar.from_cfg_file(merge_with='mod.cfg')\n",
    "t"
   ]
  },
  {
   "cell_type": "markdown",
   "metadata": {},
   "source": [
    "## Instantiate the reduction settings"
   ]
  },
  {
   "cell_type": "code",
   "execution_count": 24,
   "metadata": {},
   "outputs": [
    {
     "data": {
      "text/plain": [
       "'/Users/westfall/Work/packages/PYPIT/doc/nb'"
      ]
     },
     "execution_count": 24,
     "metadata": {},
     "output_type": "execute_result"
    }
   ],
   "source": [
    "os.getcwd()"
   ]
  },
  {
   "cell_type": "code",
   "execution_count": 25,
   "metadata": {},
   "outputs": [],
   "source": [
    "cfg = core._recursive_dict_evaluate(ConfigObj('../../pypit/config/reduction/default_reduction.cfg'))"
   ]
  },
  {
   "cell_type": "code",
   "execution_count": 26,
   "metadata": {},
   "outputs": [
    {
     "data": {
      "text/plain": [
       "-1"
      ]
     },
     "execution_count": 26,
     "metadata": {},
     "output_type": "execute_result"
    }
   ],
   "source": [
    "cfg['bias']['combine']['match']"
   ]
  },
  {
   "cell_type": "code",
   "execution_count": 27,
   "metadata": {},
   "outputs": [
    {
     "ename": "NameError",
     "evalue": "name 'PypitPar' is not defined",
     "output_type": "error",
     "traceback": [
      "\u001b[0;31m---------------------------------------------------------------------------\u001b[0m",
      "\u001b[0;31mNameError\u001b[0m                                 Traceback (most recent call last)",
      "\u001b[0;32m<ipython-input-27-93c91ce5165b>\u001b[0m in \u001b[0;36m<module>\u001b[0;34m()\u001b[0m\n\u001b[0;32m----> 1\u001b[0;31m \u001b[0mp\u001b[0m \u001b[0;34m=\u001b[0m \u001b[0mPypitPar\u001b[0m\u001b[0;34m(\u001b[0m\u001b[0;34m)\u001b[0m \u001b[0;31m#.from_cfg_file('../../pypit/config/reduction/default_reduction.cfg')\u001b[0m\u001b[0;34m\u001b[0m\u001b[0m\n\u001b[0m",
      "\u001b[0;31mNameError\u001b[0m: name 'PypitPar' is not defined"
     ]
    }
   ],
   "source": [
    "p = PypitPar() #.from_cfg_file('../../pypit/config/reduction/default_reduction.cfg')"
   ]
  },
  {
   "cell_type": "code",
   "execution_count": null,
   "metadata": {},
   "outputs": [],
   "source": []
  }
 ],
 "metadata": {
  "kernelspec": {
   "display_name": "Python 3",
   "language": "python",
   "name": "python3"
  },
  "language_info": {
   "codemirror_mode": {
    "name": "ipython",
    "version": 3
   },
   "file_extension": ".py",
   "mimetype": "text/x-python",
   "name": "python",
   "nbconvert_exporter": "python",
   "pygments_lexer": "ipython3",
   "version": "3.6.2"
  }
 },
 "nbformat": 4,
 "nbformat_minor": 2
}
