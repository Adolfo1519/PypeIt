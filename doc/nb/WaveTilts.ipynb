{
 "cells": [
  {
   "cell_type": "markdown",
   "metadata": {},
   "source": [
    "# WaveTilts Class [v1]"
   ]
  },
  {
   "cell_type": "code",
   "execution_count": 1,
   "metadata": {
    "collapsed": true
   },
   "outputs": [],
   "source": [
    "%matplotlib inline"
   ]
  },
  {
   "cell_type": "code",
   "execution_count": 2,
   "metadata": {
    "collapsed": true
   },
   "outputs": [],
   "source": [
    "# imports\n",
    "import os\n",
    "import numpy as np\n",
    "from importlib import reload\n",
    "\n",
    "from astropy.table import Table\n",
    "\n",
    "from pypit import wavetilts"
   ]
  },
  {
   "cell_type": "code",
   "execution_count": 3,
   "metadata": {
    "collapsed": true
   },
   "outputs": [],
   "source": [
    "# Path to PYPIT-Development-suite\n",
    "pypdev_path = os.getenv('PYPIT_DEV')"
   ]
  },
  {
   "cell_type": "markdown",
   "metadata": {},
   "source": [
    "----\n",
    "\n",
    "# Development"
   ]
  },
  {
   "cell_type": "code",
   "execution_count": 4,
   "metadata": {
    "collapsed": true
   },
   "outputs": [],
   "source": [
    "from pypit import traceslits\n",
    "from pypit import arcimage"
   ]
  },
  {
   "cell_type": "markdown",
   "metadata": {},
   "source": [
    "## Load up required MasterFrames"
   ]
  },
  {
   "cell_type": "code",
   "execution_count": 5,
   "metadata": {
    "collapsed": true
   },
   "outputs": [],
   "source": [
    "settings = dict(masters={})\n",
    "settings['masters']['directory'] = pypdev_path+'/REDUX_OUT/Shane_Kast_blue/600_4310_d55/shane_kast_blue_setup_A/MF_shane_kast_blue'\n",
    "settings['masters']['reuse'] = True"
   ]
  },
  {
   "cell_type": "code",
   "execution_count": 6,
   "metadata": {
    "collapsed": true
   },
   "outputs": [],
   "source": [
    "setup = 'A_01_aa'"
   ]
  },
  {
   "cell_type": "markdown",
   "metadata": {},
   "source": [
    "### MasterArc"
   ]
  },
  {
   "cell_type": "code",
   "execution_count": 7,
   "metadata": {},
   "outputs": [
    {
     "name": "stderr",
     "output_type": "stream",
     "text": [
      "\u001b[1;31m[WARNING] ::\u001b[0m \u001b[1;34mprocessimages.py 97 __init__()\u001b[0m - No information on the spectrograph was given.  Do not attempt to (re)process the images\n",
      "\u001b[1;32m[INFO]    ::\u001b[0m \u001b[1;34marmasters.py 241 _load()\u001b[0m - Loading a pre-existing master calibration frame\n",
      "\u001b[1;32m[INFO]    ::\u001b[0m \u001b[1;34marmasters.py 243 _load()\u001b[0m - Master arc frame loaded successfully:\n",
      "             /home/xavier/local/Python/PYPIT-development-suite//REDUX_OUT/Shane_Kast_blue/600_4310_d55/shane_kast_blue_setup_A/MF_shane_kast_blue/MasterArc_A_01_aa.fits\n"
     ]
    }
   ],
   "source": [
    "AImg = arcimage.ArcImage(setup=setup, settings=settings)\n",
    "msarc, header, _ = AImg.load_master_frame()"
   ]
  },
  {
   "cell_type": "markdown",
   "metadata": {},
   "source": [
    "### TraceSlits"
   ]
  },
  {
   "cell_type": "code",
   "execution_count": 8,
   "metadata": {
    "scrolled": true
   },
   "outputs": [
    {
     "name": "stderr",
     "output_type": "stream",
     "text": [
      "\u001b[1;32m[INFO]    ::\u001b[0m \u001b[1;34mtraceslits.py 207 from_master_files()\u001b[0m - Loading BPM from /home/xavier/local/Python/PYPIT-development-suite//REDUX_OUT/Shane_Kast_blue/600_4310_d55/shane_kast_blue_setup_A/MF_shane_kast_blue/MasterTrace_A_01_aa.fits.gz\n",
      "\u001b[1;32m[INFO]    ::\u001b[0m \u001b[1;34mtraceslits.py 518 _make_pixel_arrays()\u001b[0m - Converting physical trace locations to nearest pixel\n",
      "\u001b[1;32m[INFO]    ::\u001b[0m \u001b[1;34mtraceslits.py 525 _make_pixel_arrays()\u001b[0m - Identifying the pixels belonging to each slit\n"
     ]
    }
   ],
   "source": [
    "TSlits = traceslits.TraceSlits.from_master_files(settings['masters']['directory']+'/MasterTrace_A_01_aa')\n",
    "TSlits._make_pixel_arrays()"
   ]
  },
  {
   "cell_type": "markdown",
   "metadata": {},
   "source": [
    "----"
   ]
  },
  {
   "cell_type": "markdown",
   "metadata": {},
   "source": [
    "## Init WaveTilts"
   ]
  },
  {
   "cell_type": "code",
   "execution_count": 34,
   "metadata": {},
   "outputs": [
    {
     "name": "stderr",
     "output_type": "stream",
     "text": [
      "\u001b[1;31m[WARNING] ::\u001b[0m \u001b[1;34mmasterframe.py 55 __init__()\u001b[0m - MasterFrame class not proper loaded (e.g. no masters in settings).  Avoid using Master methods\n"
     ]
    }
   ],
   "source": [
    "reload(wavetilts)\n",
    "waveTilts = wavetilts.WaveTilts(msarc, det=1, setup=setup, rordloc=TSlits.rcen, lordloc=TSlits.lcen, \n",
    "                             pixlocn=TSlits.pixlocn, pixcen=TSlits.pixcen)"
   ]
  },
  {
   "cell_type": "markdown",
   "metadata": {},
   "source": [
    "## Extract arcs -- Requires msarc and slit info"
   ]
  },
  {
   "cell_type": "code",
   "execution_count": 35,
   "metadata": {},
   "outputs": [
    {
     "name": "stderr",
     "output_type": "stream",
     "text": [
      "\u001b[1;32m[INFO]    ::\u001b[0m \u001b[1;34mararc.py 86 get_censpec()\u001b[0m - Extracting an approximate arc spectrum at the centre of each slit\n"
     ]
    }
   ],
   "source": [
    "arccen, maskslits = waveTilts._extract_arcs()"
   ]
  },
  {
   "cell_type": "code",
   "execution_count": 36,
   "metadata": {},
   "outputs": [
    {
     "data": {
      "text/plain": [
       "(2048, 1)"
      ]
     },
     "execution_count": 36,
     "metadata": {},
     "output_type": "execute_result"
    }
   ],
   "source": [
    "arccen.shape"
   ]
  },
  {
   "cell_type": "markdown",
   "metadata": {},
   "source": [
    "## Tilts in this slit"
   ]
  },
  {
   "cell_type": "code",
   "execution_count": 37,
   "metadata": {
    "collapsed": true
   },
   "outputs": [],
   "source": [
    "slit=0"
   ]
  },
  {
   "cell_type": "code",
   "execution_count": 38,
   "metadata": {},
   "outputs": [
    {
     "name": "stderr",
     "output_type": "stream",
     "text": [
      "\u001b[1;30m[WORK IN ]::\u001b[0m\n",
      "\u001b[1;33m[PROGRESS]::\u001b[0m \u001b[1;34martracewave.py 210 trace_tilt()\u001b[0m - Detecting lines for slit 1\n",
      "\u001b[1;32m[INFO]    ::\u001b[0m \u001b[1;34mararc.py 180 detect_lines()\u001b[0m - Detecting lines\n",
      "\u001b[1;32m[INFO]    ::\u001b[0m \u001b[1;34mararc.py 224 detect_lines()\u001b[0m - Detecting the strongest, nonsaturated lines\n",
      "\u001b[1;32m[INFO]    ::\u001b[0m \u001b[1;34martracewave.py 268 trace_tilt()\u001b[0m - Modelling arc line tilts with 13 arc lines\n",
      "\u001b[1;30m[WORK IN ]::\u001b[0m\n",
      "\u001b[1;33m[PROGRESS]::\u001b[0m \u001b[1;34martracewave.py 274 trace_tilt()\u001b[0m - This next step could be multiprocessed to speed up the reduction\n",
      "\u001b[1;32m[INFO]    ::\u001b[0m \u001b[1;34martracewave.py 472 trace_tilt()\u001b[0m - Completed spectral tilt tracing\n"
     ]
    }
   ],
   "source": [
    "waveTilts.settings['tilts']['trthrsh'] = 500.  # Lowers the thershold amplitude of the arc lines used\n",
    "\n",
    "trcdict = waveTilts._trace_tilts(slit)"
   ]
  },
  {
   "cell_type": "markdown",
   "metadata": {
    "collapsed": true
   },
   "source": [
    "### Show"
   ]
  },
  {
   "cell_type": "code",
   "execution_count": 39,
   "metadata": {},
   "outputs": [
    {
     "name": "stderr",
     "output_type": "stream",
     "text": [
      "\u001b[1;32m[INFO]    ::\u001b[0m \u001b[1;34mwavetilts.py 258 show()\u001b[0m - Green = ok line;  red=rejected\n"
     ]
    }
   ],
   "source": [
    "waveTilts.show('sslit', slit=slit)"
   ]
  },
  {
   "cell_type": "markdown",
   "metadata": {},
   "source": [
    "## Analyze the tilt traces in a single slit"
   ]
  },
  {
   "cell_type": "code",
   "execution_count": 40,
   "metadata": {
    "collapsed": true
   },
   "outputs": [],
   "source": [
    "waveTilts.settings['tilts']['order'] = 3"
   ]
  },
  {
   "cell_type": "code",
   "execution_count": 41,
   "metadata": {},
   "outputs": [
    {
     "data": {
      "text/plain": [
       "0"
      ]
     },
     "execution_count": 41,
     "metadata": {},
     "output_type": "execute_result"
    }
   ],
   "source": [
    "badrows = waveTilts._analyze_tilt_traces(slit)\n",
    "badrows"
   ]
  },
  {
   "cell_type": "markdown",
   "metadata": {},
   "source": [
    "## Fit Tilts"
   ]
  },
  {
   "cell_type": "code",
   "execution_count": 43,
   "metadata": {},
   "outputs": [
    {
     "data": {
      "text/plain": [
       "array([  43,  168,  202,  245,  259,  496,  637,  658,  689,  804,  948,\n",
       "        956,  967,  996, 1020, 1077, 1222, 1259, 1274, 1307, 1389, 1503,\n",
       "       1590, 1655, 1718, 1998])"
      ]
     },
     "execution_count": 43,
     "metadata": {},
     "output_type": "execute_result"
    }
   ],
   "source": [
    "waveTilts.all_trcdict[0]['arcdet']"
   ]
  },
  {
   "cell_type": "code",
   "execution_count": 44,
   "metadata": {
    "collapsed": true
   },
   "outputs": [],
   "source": [
    "#mtilt = waveTilts.all_tilts[3]\n",
    "#mtilt[:,0] * (waveTilts.msarc.shape[0]-1)"
   ]
  },
  {
   "cell_type": "code",
   "execution_count": 45,
   "metadata": {
    "collapsed": true
   },
   "outputs": [],
   "source": [
    "waveTilts.settings['tilts']['yorder'] = 4\n",
    "waveTilts.settings['tilts']['poly_2Dfunc'] = 'legendre'\n",
    "waveTilts.settings['tilts']['poly_2D'] = True"
   ]
  },
  {
   "cell_type": "code",
   "execution_count": 46,
   "metadata": {},
   "outputs": [
    {
     "data": {
      "text/plain": [
       "'spca'"
      ]
     },
     "execution_count": 46,
     "metadata": {},
     "output_type": "execute_result"
    }
   ],
   "source": [
    "waveTilts.settings['tilts']['method']"
   ]
  },
  {
   "cell_type": "code",
   "execution_count": 49,
   "metadata": {},
   "outputs": [
    {
     "name": "stderr",
     "output_type": "stream",
     "text": [
      "\u001b[1;32m[INFO]    ::\u001b[0m \u001b[1;34martracewave.py 813 fit_tilts()\u001b[0m - Fitting tilts with a low order, 2D legendre\n",
      "\u001b[1;30m[WORK IN ]::\u001b[0m\n",
      "\u001b[1;33m[PROGRESS]::\u001b[0m \u001b[1;34marutils.py 631 polyfit2d_general()\u001b[0m - Generalize to different polynomial types\n",
      "\u001b[1;32m[INFO]    ::\u001b[0m \u001b[1;34martracewave.py 829 fit_tilts()\u001b[0m - RMS (pixels): 0.005137787269644485\n"
     ]
    },
    {
     "data": {
      "image/png": "[encoded data removed]",
      "text/plain": [
       "<matplotlib.figure.Figure at 0x7f703824bf60>"
      ]
     },
     "metadata": {},
     "output_type": "display_data"
    }
   ],
   "source": [
    "polytilts = waveTilts._fit_tilts(slit, show_QA=True)"
   ]
  },
  {
   "cell_type": "markdown",
   "metadata": {},
   "source": [
    "### Show image"
   ]
  },
  {
   "cell_type": "code",
   "execution_count": 233,
   "metadata": {
    "collapsed": true
   },
   "outputs": [],
   "source": [
    "waveTilts.show('polytilt_img')"
   ]
  },
  {
   "cell_type": "markdown",
   "metadata": {},
   "source": [
    "### Show on arc lines"
   ]
  },
  {
   "cell_type": "code",
   "execution_count": 234,
   "metadata": {
    "collapsed": true
   },
   "outputs": [],
   "source": [
    "waveTilts.show('polytilts', slit=slit)"
   ]
  },
  {
   "cell_type": "code",
   "execution_count": 235,
   "metadata": {},
   "outputs": [
    {
     "name": "stderr",
     "output_type": "stream",
     "text": [
      "\u001b[1;32m[INFO]    ::\u001b[0m \u001b[1;34mwavetilts.py 244 show()\u001b[0m - Ignore the color scheme\n"
     ]
    }
   ],
   "source": [
    "waveTilts.show('model', slit=slit)"
   ]
  },
  {
   "cell_type": "markdown",
   "metadata": {},
   "source": [
    "#### Not so well traced on the left edge\n",
    "    Try increasing the order"
   ]
  },
  {
   "cell_type": "markdown",
   "metadata": {
    "collapsed": true
   },
   "source": [
    "----"
   ]
  },
  {
   "cell_type": "markdown",
   "metadata": {},
   "source": [
    "# DEIMOS long-slit"
   ]
  },
  {
   "cell_type": "code",
   "execution_count": 253,
   "metadata": {
    "collapsed": true
   },
   "outputs": [],
   "source": [
    "from pypit import traceslits\n",
    "from pypit import arcimage"
   ]
  },
  {
   "cell_type": "code",
   "execution_count": 46,
   "metadata": {
    "collapsed": true
   },
   "outputs": [],
   "source": [
    "# Master frames\n",
    "settings = dict(masters={})\n",
    "settings['masters']['directory'] = pypdev_path+'/REDUX_OUT/Keck_DEIMOS/830G_L/MF_keck_deimos'\n",
    "settings['masters']['reuse'] = True\n",
    "setup = 'A_07_aa'"
   ]
  },
  {
   "cell_type": "code",
   "execution_count": 47,
   "metadata": {},
   "outputs": [
    {
     "name": "stderr",
     "output_type": "stream",
     "text": [
      "\u001b[1;31m[WARNING] ::\u001b[0m \u001b[1;34mprocessimages.py 97 __init__()\u001b[0m - No information on the spectrograph was given.  Do not attempt to (re)process the images\n",
      "\u001b[1;32m[INFO]    ::\u001b[0m \u001b[1;34marmasters.py 241 _load()\u001b[0m - Loading a pre-existing master calibration frame\n",
      "\u001b[1;32m[INFO]    ::\u001b[0m \u001b[1;34marmasters.py 243 _load()\u001b[0m - Master arc frame loaded successfully:\n",
      "             /home/xavier/local/Python/PYPIT-development-suite//REDUX_OUT/Keck_DEIMOS/830G_L/MF_keck_deimos/MasterArc_A_07_aa.fits\n",
      "\u001b[1;32m[INFO]    ::\u001b[0m \u001b[1;34mtraceslits.py 207 from_master_files()\u001b[0m - Loading BPM from /home/xavier/local/Python/PYPIT-development-suite//REDUX_OUT/Keck_DEIMOS/830G_L/MF_keck_deimos/MasterTrace_A_07_aa.fits.gz\n",
      "\u001b[1;32m[INFO]    ::\u001b[0m \u001b[1;34mtraceslits.py 518 _make_pixel_arrays()\u001b[0m - Converting physical trace locations to nearest pixel\n",
      "\u001b[1;32m[INFO]    ::\u001b[0m \u001b[1;34mtraceslits.py 525 _make_pixel_arrays()\u001b[0m - Identifying the pixels belonging to each slit\n"
     ]
    }
   ],
   "source": [
    "AImg = arcimage.ArcImage(setup=setup, settings=settings)\n",
    "msarc, header, _ = AImg.load_master_frame()\n",
    "#\n",
    "TSlits = traceslits.TraceSlits.from_master_files(settings['masters']['directory']+'/MasterTrace_A_07_aa')\n",
    "TSlits._make_pixel_arrays()"
   ]
  },
  {
   "cell_type": "markdown",
   "metadata": {},
   "source": [
    "----"
   ]
  },
  {
   "cell_type": "markdown",
   "metadata": {},
   "source": [
    "## IT BEGINS HERE"
   ]
  },
  {
   "cell_type": "code",
   "execution_count": 78,
   "metadata": {},
   "outputs": [
    {
     "name": "stderr",
     "output_type": "stream",
     "text": [
      "\u001b[1;31m[WARNING] ::\u001b[0m \u001b[1;34mmasterframe.py 55 __init__()\u001b[0m - MasterFrame class not proper loaded (e.g. no masters in settings).  Avoid using Master methods\n"
     ]
    }
   ],
   "source": [
    "reload(wavetilts)\n",
    "waveTilts = wavetilts.WaveTilts(msarc, det=1, setup=setup, rordloc=TSlits.rcen, lordloc=TSlits.lcen, \n",
    "                             pixlocn=TSlits.pixlocn, pixcen=TSlits.pixcen)"
   ]
  },
  {
   "cell_type": "code",
   "execution_count": 79,
   "metadata": {},
   "outputs": [
    {
     "name": "stderr",
     "output_type": "stream",
     "text": [
      "\u001b[1;32m[INFO]    ::\u001b[0m \u001b[1;34mararc.py 86 get_censpec()\u001b[0m - Extracting an approximate arc spectrum at the centre of each slit\n"
     ]
    }
   ],
   "source": [
    "arccen, maskslits = waveTilts._extract_arcs()"
   ]
  },
  {
   "cell_type": "code",
   "execution_count": 80,
   "metadata": {
    "collapsed": true
   },
   "outputs": [],
   "source": [
    "slit=0\n",
    "waveTilts.settings['tilts']['trthrsh'] = 400."
   ]
  },
  {
   "cell_type": "code",
   "execution_count": 81,
   "metadata": {},
   "outputs": [
    {
     "name": "stderr",
     "output_type": "stream",
     "text": [
      "\u001b[1;30m[WORK IN ]::\u001b[0m\n",
      "\u001b[1;33m[PROGRESS]::\u001b[0m \u001b[1;34martracewave.py 263 trace_tilt()\u001b[0m - Detecting lines for slit 1\n",
      "\u001b[1;32m[INFO]    ::\u001b[0m \u001b[1;34mararc.py 180 detect_lines()\u001b[0m - Detecting lines\n",
      "\u001b[1;32m[INFO]    ::\u001b[0m \u001b[1;34mararc.py 224 detect_lines()\u001b[0m - Detecting the strongest, nonsaturated lines\n",
      "\u001b[1;32m[INFO]    ::\u001b[0m \u001b[1;34martracewave.py 321 trace_tilt()\u001b[0m - Modelling arc line tilts with 28 arc lines\n",
      "\u001b[1;30m[WORK IN ]::\u001b[0m\n",
      "\u001b[1;33m[PROGRESS]::\u001b[0m \u001b[1;34martracewave.py 327 trace_tilt()\u001b[0m - This next step could be multiprocessed to speed up the reduction\n",
      "\u001b[1;32m[INFO]    ::\u001b[0m \u001b[1;34martracewave.py 525 trace_tilt()\u001b[0m - Completed spectral tilt tracing\n"
     ]
    }
   ],
   "source": [
    "# Trace tilts\n",
    "trcdict = waveTilts._trace_tilts(slit)"
   ]
  },
  {
   "cell_type": "code",
   "execution_count": 73,
   "metadata": {},
   "outputs": [
    {
     "name": "stderr",
     "output_type": "stream",
     "text": [
      "\u001b[1;32m[INFO]    ::\u001b[0m \u001b[1;34mwavetilts.py 250 show()\u001b[0m - Green = ok line;  red=rejected\n"
     ]
    }
   ],
   "source": [
    "waveTilts.show('sslit', slit=slit)"
   ]
  },
  {
   "cell_type": "code",
   "execution_count": 82,
   "metadata": {},
   "outputs": [
    {
     "name": "stderr",
     "output_type": "stream",
     "text": [
      "\u001b[1;31m[WARNING] ::\u001b[0m \u001b[1;34mwavetilts.py 125 _analyze_tilt_traces()\u001b[0m - There were 2 additional arc lines that should have been traced\n",
      "             (perhaps lines were saturated?). Check the spectral tilt solution\n"
     ]
    },
    {
     "data": {
      "text/plain": [
       "2"
      ]
     },
     "execution_count": 82,
     "metadata": {},
     "output_type": "execute_result"
    }
   ],
   "source": [
    "# Analyze tilts\n",
    "waveTilts.settings['tilts']['order'] = 3\n",
    "badrows = waveTilts._analyze_tilt_traces(slit)\n",
    "badrows"
   ]
  },
  {
   "cell_type": "code",
   "execution_count": 55,
   "metadata": {},
   "outputs": [
    {
     "name": "stderr",
     "output_type": "stream",
     "text": [
      "\u001b[1;32m[INFO]    ::\u001b[0m \u001b[1;34mwavetilts.py 255 show()\u001b[0m - Ignore the color scheme\n"
     ]
    }
   ],
   "source": [
    "waveTilts.show('model', slit=slit)"
   ]
  },
  {
   "cell_type": "code",
   "execution_count": 83,
   "metadata": {
    "collapsed": true
   },
   "outputs": [],
   "source": [
    "# Polytilts\n",
    "waveTilts.settings['tilts']['order'] = 4\n",
    "waveTilts.settings['tilts']['yorder'] = 4\n",
    "waveTilts.settings['tilts']['poly_2Dfunc'] = 'legendre'\n",
    "waveTilts.settings['tilts']['poly_2D'] = True"
   ]
  },
  {
   "cell_type": "code",
   "execution_count": 84,
   "metadata": {},
   "outputs": [
    {
     "name": "stderr",
     "output_type": "stream",
     "text": [
      "\u001b[1;30m[WORK IN ]::\u001b[0m\n",
      "\u001b[1;33m[PROGRESS]::\u001b[0m \u001b[1;34martracewave.py 871 prepare_polytilts()\u001b[0m - May need to do a check here to make sure ofit is reasonable\n",
      "\u001b[1;31m[WARNING] ::\u001b[0m \u001b[1;34martracewave.py 893 prepare_polytilts()\u001b[0m - Could not perform a PCA when tracing the spectral tilt\n",
      "             Not enough well-traced arc lines\n",
      "\u001b[1;32m[INFO]    ::\u001b[0m \u001b[1;34martracewave.py 894 prepare_polytilts()\u001b[0m - Fitting tilts with a low order, 2D legendre\n",
      "\u001b[1;30m[WORK IN ]::\u001b[0m\n",
      "\u001b[1;33m[PROGRESS]::\u001b[0m \u001b[1;34marutils.py 631 polyfit2d_general()\u001b[0m - Generalize to different polynomial types\n",
      "\u001b[1;32m[INFO]    ::\u001b[0m \u001b[1;34martracewave.py 912 prepare_polytilts()\u001b[0m - RMS: 2.1270859620801543\n",
      "\u001b[1;30m[WORK IN ]::\u001b[0m\n",
      "\u001b[1;33m[PROGRESS]::\u001b[0m \u001b[1;34marutils.py 631 polyfit2d_general()\u001b[0m - Generalize to different polynomial types\n",
      "\u001b[1;32m[INFO]    ::\u001b[0m \u001b[1;34martracewave.py 931 prepare_polytilts()\u001b[0m - RMS: 0.01703520850212634\n"
     ]
    },
    {
     "data": {
      "image/png": "[encoded data removed]",
      "text/plain": [
       "<matplotlib.figure.Figure at 0x7f3b8b089e10>"
      ]
     },
     "metadata": {},
     "output_type": "display_data"
    }
   ],
   "source": [
    "tilts = waveTilts._prepare_polytilts()"
   ]
  },
  {
   "cell_type": "code",
   "execution_count": 62,
   "metadata": {},
   "outputs": [
    {
     "data": {
      "text/plain": [
       "array([ 940.29912287,  940.29912287,  940.29912287])"
      ]
     },
     "execution_count": 62,
     "metadata": {},
     "output_type": "execute_result"
    }
   ],
   "source": [
    "waveTilts.all_tilts[1][1497:1500,28]"
   ]
  },
  {
   "cell_type": "code",
   "execution_count": 85,
   "metadata": {},
   "outputs": [],
   "source": [
    "waveTilts.show('tilts', slit=slit)"
   ]
  },
  {
   "cell_type": "code",
   "execution_count": 327,
   "metadata": {},
   "outputs": [
    {
     "data": {
      "text/plain": [
       "969.3390724416479"
      ]
     },
     "execution_count": 327,
     "metadata": {},
     "output_type": "execute_result"
    }
   ],
   "source": [
    "waveTilts.all_tilts[3][1497,28]"
   ]
  },
  {
   "cell_type": "code",
   "execution_count": 68,
   "metadata": {},
   "outputs": [
    {
     "data": {
      "text/plain": [
       "749"
      ]
     },
     "execution_count": 68,
     "metadata": {},
     "output_type": "execute_result"
    }
   ],
   "source": [
    "waveTilts.all_trcdict[0]['xtfit'][1].size//2"
   ]
  },
  {
   "cell_type": "code",
   "execution_count": 349,
   "metadata": {},
   "outputs": [
    {
     "name": "stderr",
     "output_type": "stream",
     "text": [
      "\u001b[1;32m[INFO]    ::\u001b[0m \u001b[1;34martracewave.py 988 tilts_spline()\u001b[0m - Performing a spline fit to the tilts\n"
     ]
    },
    {
     "ename": "ValueError",
     "evalue": "Error code returned by bispev: 10",
     "output_type": "error",
     "traceback": [
      "\u001b[0;31m---------------------------------------------------------------------------\u001b[0m",
      "\u001b[0;31mValueError\u001b[0m                                Traceback (most recent call last)",
      "\u001b[0;32m<ipython-input-349-0e8f126180f1>\u001b[0m in \u001b[0;36m<module>\u001b[0;34m()\u001b[0m\n\u001b[1;32m      1\u001b[0m \u001b[0;31m# jxp_spline\u001b[0m\u001b[0;34m\u001b[0m\u001b[0;34m\u001b[0m\u001b[0m\n\u001b[0;32m----> 2\u001b[0;31m \u001b[0mwaveTilts\u001b[0m\u001b[0;34m.\u001b[0m\u001b[0m_tilts_jxp_spline\u001b[0m\u001b[0;34m(\u001b[0m\u001b[0mslit\u001b[0m\u001b[0;34m)\u001b[0m\u001b[0;34m\u001b[0m\u001b[0m\n\u001b[0m",
      "\u001b[0;32m/data/Projects/Python/PYPIT/pypit/wavetilts.py\u001b[0m in \u001b[0;36m_tilts_jxp_spline\u001b[0;34m(self, slit)\u001b[0m\n\u001b[1;32m    159\u001b[0m         self.tilts = artracewave.tilts_spline(self.all_tilts,\n\u001b[1;32m    160\u001b[0m                                               \u001b[0mself\u001b[0m\u001b[0;34m.\u001b[0m\u001b[0mall_trcdict\u001b[0m\u001b[0;34m[\u001b[0m\u001b[0mslit\u001b[0m\u001b[0;34m]\u001b[0m\u001b[0;34m[\u001b[0m\u001b[0;34m'arcdet'\u001b[0m\u001b[0;34m]\u001b[0m\u001b[0;34m,\u001b[0m \u001b[0mself\u001b[0m\u001b[0;34m.\u001b[0m\u001b[0mall_trcdict\u001b[0m\u001b[0;34m[\u001b[0m\u001b[0mslit\u001b[0m\u001b[0;34m]\u001b[0m\u001b[0;34m[\u001b[0m\u001b[0;34m'aduse'\u001b[0m\u001b[0;34m]\u001b[0m\u001b[0;34m,\u001b[0m\u001b[0;34m\u001b[0m\u001b[0m\n\u001b[0;32m--> 161\u001b[0;31m                                               self.polytilts, self.msarc, use_mtilt=True)\n\u001b[0m\u001b[1;32m    162\u001b[0m     \u001b[0;32mdef\u001b[0m \u001b[0m_tilts_spline\u001b[0m\u001b[0;34m(\u001b[0m\u001b[0mself\u001b[0m\u001b[0;34m,\u001b[0m \u001b[0mslit\u001b[0m\u001b[0;34m)\u001b[0m\u001b[0;34m:\u001b[0m\u001b[0;34m\u001b[0m\u001b[0m\n\u001b[1;32m    163\u001b[0m         \u001b[0mreload\u001b[0m\u001b[0;34m(\u001b[0m\u001b[0martracewave\u001b[0m\u001b[0;34m)\u001b[0m\u001b[0;34m\u001b[0m\u001b[0m\n",
      "\u001b[0;32m/data/Projects/Python/PYPIT/pypit/core/artracewave.py\u001b[0m in \u001b[0;36mtilts_spline\u001b[0;34m(all_tilts, arcdet, aduse, polytilts, msarc, use_mtilt, maskval)\u001b[0m\n\u001b[1;32m   1021\u001b[0m                                      np.array([968.5, 969.34])/(msarc.shape[0]-1), grid=True)\n\u001b[1;32m   1022\u001b[0m     \u001b[0mtmp2\u001b[0m \u001b[0;34m=\u001b[0m \u001b[0;34m(\u001b[0m\u001b[0mmsarc\u001b[0m\u001b[0;34m.\u001b[0m\u001b[0mshape\u001b[0m\u001b[0;34m[\u001b[0m\u001b[0;36m0\u001b[0m\u001b[0;34m]\u001b[0m\u001b[0;34m-\u001b[0m\u001b[0;36m1\u001b[0m\u001b[0;34m)\u001b[0m\u001b[0;34m*\u001b[0m\u001b[0mytilt\u001b[0m\u001b[0;34m[\u001b[0m\u001b[0;36m1497\u001b[0m\u001b[0;34m,\u001b[0m\u001b[0;36m28\u001b[0m\u001b[0;34m]\u001b[0m\u001b[0;34m\u001b[0m\u001b[0m\n\u001b[0;32m-> 1023\u001b[0;31m     \u001b[0mtmp3\u001b[0m \u001b[0;34m=\u001b[0m \u001b[0mtiltspl\u001b[0m\u001b[0;34m(\u001b[0m\u001b[0mxsbs\u001b[0m\u001b[0;34m,\u001b[0m \u001b[0mzsbs\u001b[0m\u001b[0;34m,\u001b[0m \u001b[0mgrid\u001b[0m\u001b[0;34m=\u001b[0m\u001b[0;32mTrue\u001b[0m\u001b[0;34m)\u001b[0m\u001b[0;34m\u001b[0m\u001b[0m\n\u001b[0m\u001b[1;32m   1024\u001b[0m     \u001b[0mprint\u001b[0m\u001b[0;34m(\u001b[0m\u001b[0mtmp\u001b[0m\u001b[0;34m,\u001b[0m \u001b[0mtmp2\u001b[0m\u001b[0;34m)\u001b[0m\u001b[0;34m\u001b[0m\u001b[0m\n\u001b[1;32m   1025\u001b[0m     \u001b[0mdebugger\u001b[0m\u001b[0;34m.\u001b[0m\u001b[0mset_trace\u001b[0m\u001b[0;34m(\u001b[0m\u001b[0;34m)\u001b[0m\u001b[0;34m\u001b[0m\u001b[0m\n",
      "\u001b[0;32m/home/xavier/.pyenv/versions/anaconda3-4.4.0/lib/python3.6/site-packages/scipy/interpolate/fitpack2.py\u001b[0m in \u001b[0;36m__call__\u001b[0;34m(self, x, y, dx, dy, grid)\u001b[0m\n\u001b[1;32m    843\u001b[0m                 \u001b[0mz\u001b[0m\u001b[0;34m,\u001b[0m\u001b[0mier\u001b[0m \u001b[0;34m=\u001b[0m \u001b[0mdfitpack\u001b[0m\u001b[0;34m.\u001b[0m\u001b[0mbispev\u001b[0m\u001b[0;34m(\u001b[0m\u001b[0mtx\u001b[0m\u001b[0;34m,\u001b[0m\u001b[0mty\u001b[0m\u001b[0;34m,\u001b[0m\u001b[0mc\u001b[0m\u001b[0;34m,\u001b[0m\u001b[0mkx\u001b[0m\u001b[0;34m,\u001b[0m\u001b[0mky\u001b[0m\u001b[0;34m,\u001b[0m\u001b[0mx\u001b[0m\u001b[0;34m,\u001b[0m\u001b[0my\u001b[0m\u001b[0;34m)\u001b[0m\u001b[0;34m\u001b[0m\u001b[0m\n\u001b[1;32m    844\u001b[0m                 \u001b[0;32mif\u001b[0m \u001b[0;32mnot\u001b[0m \u001b[0mier\u001b[0m \u001b[0;34m==\u001b[0m \u001b[0;36m0\u001b[0m\u001b[0;34m:\u001b[0m\u001b[0;34m\u001b[0m\u001b[0m\n\u001b[0;32m--> 845\u001b[0;31m                     \u001b[0;32mraise\u001b[0m \u001b[0mValueError\u001b[0m\u001b[0;34m(\u001b[0m\u001b[0;34m\"Error code returned by bispev: %s\"\u001b[0m \u001b[0;34m%\u001b[0m \u001b[0mier\u001b[0m\u001b[0;34m)\u001b[0m\u001b[0;34m\u001b[0m\u001b[0m\n\u001b[0m\u001b[1;32m    846\u001b[0m         \u001b[0;32melse\u001b[0m\u001b[0;34m:\u001b[0m\u001b[0;34m\u001b[0m\u001b[0m\n\u001b[1;32m    847\u001b[0m             \u001b[0;31m# standard Numpy broadcasting\u001b[0m\u001b[0;34m\u001b[0m\u001b[0;34m\u001b[0m\u001b[0m\n",
      "\u001b[0;31mValueError\u001b[0m: Error code returned by bispev: 10"
     ]
    }
   ],
   "source": [
    "# jxp_spline\n",
    "waveTilts._tilts_jxp_spline(slit)"
   ]
  },
  {
   "cell_type": "code",
   "execution_count": null,
   "metadata": {},
   "outputs": [
    {
     "name": "stderr",
     "output_type": "stream",
     "text": [
      "\u001b[1;32m[INFO]    ::\u001b[0m \u001b[1;34martracewave.py 1044 tilts_spca()\u001b[0m - Performing a spca analysis of the tilts\n",
      "\u001b[1;30m[WORK IN ]::\u001b[0m\n",
      "\u001b[1;33m[PROGRESS]::\u001b[0m \u001b[1;34martracewave.py 1071 tilts_spca()\u001b[0m - Consider adding weights to SmoothBivariate in spca\n"
     ]
    },
    {
     "name": "stdout",
     "output_type": "stream",
     "text": [
      "[[3848496.17417425 3851931.02272896]\n",
      " [3848291.22121755 3851726.06074476]\n",
      " [3848086.14553921 3851520.97603335]\n",
      " [3847880.94714225 3851315.76859776]\n",
      " [3847675.62602968 3851110.43844099]\n",
      " [3847470.18220451 3850904.98556606]\n",
      " [3847264.61566975 3850699.40997598]\n",
      " [3847058.92642842 3850493.71167378]\n",
      " [3846853.11448354 3850287.89066246]] 940.0\n"
     ]
    },
    {
     "name": "stderr",
     "output_type": "stream",
     "text": [
      "\u001b[1;30m[WORK IN ]::\u001b[0m\n",
      "\u001b[1;33m[PROGRESS]::\u001b[0m \u001b[1;34marutils.py 631 polyfit2d_general()\u001b[0m - Generalize to different polynomial types\n"
     ]
    },
    {
     "name": "stdout",
     "output_type": "stream",
     "text": [
      "[[939.80896246 939.75891682 939.70884124 939.6587357  939.60860021\n",
      "  939.55843477 939.50823939 939.45801406 939.40775878]\n",
      " [940.64776025 940.59771239 940.54763458 940.49752682 940.44738911\n",
      "  940.39722144 940.34702383 940.29679627 940.24653876]]\n",
      "> /data/Projects/Python/PYPIT/pypit/core/artracewave.py(1095)tilts_spca()\n",
      "-> return tilts\n",
      "(Pdb) polytlits[1497,940]\n",
      "*** NameError: name 'polytlits' is not defined\n",
      "(Pdb) polytilts[1479,940]\n",
      "0.3626103467688827\n",
      "(Pdb) polytilts[1497,940]*(msarc.shape[0]-1)\n",
      "1502.8987750507067\n",
      "(Pdb) polytilts.shape\n",
      "(4096, 2048)\n",
      "(Pdb) polytilts[940,1497]*(msarc.shape[0]-1)\n",
      "968.9762731250482\n",
      "(Pdb) arcdet[28]\n",
      "940\n"
     ]
    }
   ],
   "source": [
    "# spca\n",
    "waveTilts._tilts_spca(slit)"
   ]
  },
  {
   "cell_type": "code",
   "execution_count": 325,
   "metadata": {
    "collapsed": true
   },
   "outputs": [],
   "source": [
    "waveTilts.show('tilts', slit=slit)"
   ]
  },
  {
   "cell_type": "code",
   "execution_count": null,
   "metadata": {
    "collapsed": true
   },
   "outputs": [],
   "source": []
  }
 ],
 "metadata": {
  "kernelspec": {
   "display_name": "Python 3",
   "language": "python",
   "name": "python3"
  },
  "language_info": {
   "codemirror_mode": {
    "name": "ipython",
    "version": 3
   },
   "file_extension": ".py",
   "mimetype": "text/x-python",
   "name": "python",
   "nbconvert_exporter": "python",
   "pygments_lexer": "ipython3",
   "version": "3.6.3"
  }
 },
 "nbformat": 4,
 "nbformat_minor": 2
}
