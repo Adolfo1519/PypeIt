{
 "cells": [
  {
   "cell_type": "markdown",
   "metadata": {},
   "source": [
    "# WaveTilts Class [v1]"
   ]
  },
  {
   "cell_type": "code",
   "execution_count": 1,
   "metadata": {
    "collapsed": true
   },
   "outputs": [],
   "source": [
    "%matplotlib inline"
   ]
  },
  {
   "cell_type": "code",
   "execution_count": 2,
   "metadata": {
    "collapsed": true
   },
   "outputs": [],
   "source": [
    "# imports\n",
    "import os\n",
    "import numpy as np\n",
    "from importlib import reload\n",
    "\n",
    "from astropy.table import Table\n",
    "\n",
    "from pypit import wavetilts"
   ]
  },
  {
   "cell_type": "code",
   "execution_count": 3,
   "metadata": {
    "collapsed": true
   },
   "outputs": [],
   "source": [
    "# Path to PYPIT-Development-suite\n",
    "pypdev_path = os.getenv('PYPIT_DEV')"
   ]
  },
  {
   "cell_type": "markdown",
   "metadata": {},
   "source": [
    "----\n",
    "\n",
    "# Development"
   ]
  },
  {
   "cell_type": "code",
   "execution_count": 4,
   "metadata": {
    "collapsed": true
   },
   "outputs": [],
   "source": [
    "from pypit import traceslits\n",
    "from pypit import arcimage"
   ]
  },
  {
   "cell_type": "markdown",
   "metadata": {},
   "source": [
    "## Load up required MasterFrames"
   ]
  },
  {
   "cell_type": "code",
   "execution_count": 5,
   "metadata": {
    "collapsed": true
   },
   "outputs": [],
   "source": [
    "settings = dict(masters={})\n",
    "settings['masters']['directory'] = pypdev_path+'/REDUX_OUT/Shane_Kast_blue/600_4310_d55/shane_kast_blue_setup_A/MF_shane_kast_blue'\n",
    "settings['masters']['reuse'] = True"
   ]
  },
  {
   "cell_type": "code",
   "execution_count": 6,
   "metadata": {
    "collapsed": true
   },
   "outputs": [],
   "source": [
    "setup = 'A_01_aa'"
   ]
  },
  {
   "cell_type": "markdown",
   "metadata": {},
   "source": [
    "### MasterArc"
   ]
  },
  {
   "cell_type": "code",
   "execution_count": 7,
   "metadata": {},
   "outputs": [
    {
     "name": "stderr",
     "output_type": "stream",
     "text": [
      "\u001b[1;31m[WARNING] ::\u001b[0m \u001b[1;34mprocessimages.py 97 __init__()\u001b[0m - No information on the spectrograph was given.  Do not attempt to (re)process the images\n",
      "\u001b[1;32m[INFO]    ::\u001b[0m \u001b[1;34marmasters.py 241 _load()\u001b[0m - Loading a pre-existing master calibration frame\n",
      "\u001b[1;32m[INFO]    ::\u001b[0m \u001b[1;34marmasters.py 243 _load()\u001b[0m - Master arc frame loaded successfully:\n",
      "             /data/Projects/Python/PYPIT-development-suite//REDUX_OUT/Shane_Kast_blue/600_4310_d55/shane_kast_blue_setup_A/MF_shane_kast_blue/MasterArc_A_01_aa.fits\n"
     ]
    }
   ],
   "source": [
    "AImg = arcimage.ArcImage(setup=setup, settings=settings)\n",
    "msarc, header, _ = AImg.load_master_frame()"
   ]
  },
  {
   "cell_type": "markdown",
   "metadata": {},
   "source": [
    "### TraceSlits"
   ]
  },
  {
   "cell_type": "code",
   "execution_count": 8,
   "metadata": {
    "scrolled": true
   },
   "outputs": [
    {
     "name": "stderr",
     "output_type": "stream",
     "text": [
      "\u001b[1;32m[INFO]    ::\u001b[0m \u001b[1;34mtraceslits.py 207 from_master_files()\u001b[0m - Loading BPM from /data/Projects/Python/PYPIT-development-suite//REDUX_OUT/Shane_Kast_blue/600_4310_d55/shane_kast_blue_setup_A/MF_shane_kast_blue/MasterTrace_A_01_aa.fits.gz\n",
      "\u001b[1;32m[INFO]    ::\u001b[0m \u001b[1;34mtraceslits.py 518 _make_pixel_arrays()\u001b[0m - Converting physical trace locations to nearest pixel\n",
      "\u001b[1;32m[INFO]    ::\u001b[0m \u001b[1;34mtraceslits.py 525 _make_pixel_arrays()\u001b[0m - Identifying the pixels belonging to each slit\n"
     ]
    }
   ],
   "source": [
    "TSlits = traceslits.TraceSlits.from_master_files(settings['masters']['directory']+'/MasterTrace_A_01_aa')\n",
    "TSlits._make_pixel_arrays()"
   ]
  },
  {
   "cell_type": "markdown",
   "metadata": {},
   "source": [
    "----"
   ]
  },
  {
   "cell_type": "markdown",
   "metadata": {},
   "source": [
    "## Init WaveTilts"
   ]
  },
  {
   "cell_type": "code",
   "execution_count": 239,
   "metadata": {},
   "outputs": [
    {
     "name": "stderr",
     "output_type": "stream",
     "text": [
      "\u001b[1;31m[WARNING] ::\u001b[0m \u001b[1;34mmasterframe.py 55 __init__()\u001b[0m - MasterFrame class not proper loaded (e.g. no masters in settings).  Avoid using Master methods\n"
     ]
    }
   ],
   "source": [
    "reload(wavetilts)\n",
    "waveTilts = wavetilts.WaveTilts(msarc, det=1, setup=setup, rordloc=TSlits.rcen, lordloc=TSlits.lcen, \n",
    "                             pixlocn=TSlits.pixlocn, pixcen=TSlits.pixcen)"
   ]
  },
  {
   "cell_type": "markdown",
   "metadata": {},
   "source": [
    "## Extract arcs -- Requires msarc and slit info"
   ]
  },
  {
   "cell_type": "code",
   "execution_count": 240,
   "metadata": {},
   "outputs": [
    {
     "name": "stderr",
     "output_type": "stream",
     "text": [
      "\u001b[1;32m[INFO]    ::\u001b[0m \u001b[1;34mararc.py 86 get_censpec()\u001b[0m - Extracting an approximate arc spectrum at the centre of each slit\n"
     ]
    }
   ],
   "source": [
    "arccen, maskslits = waveTilts._extract_arcs()"
   ]
  },
  {
   "cell_type": "code",
   "execution_count": 241,
   "metadata": {},
   "outputs": [
    {
     "data": {
      "text/plain": [
       "(2048, 1)"
      ]
     },
     "execution_count": 241,
     "metadata": {},
     "output_type": "execute_result"
    }
   ],
   "source": [
    "arccen.shape"
   ]
  },
  {
   "cell_type": "markdown",
   "metadata": {},
   "source": [
    "## Tilts in this slit"
   ]
  },
  {
   "cell_type": "code",
   "execution_count": 242,
   "metadata": {
    "collapsed": true
   },
   "outputs": [],
   "source": [
    "slit=0"
   ]
  },
  {
   "cell_type": "code",
   "execution_count": 243,
   "metadata": {},
   "outputs": [
    {
     "name": "stderr",
     "output_type": "stream",
     "text": [
      "\u001b[1;30m[WORK IN ]::\u001b[0m\n",
      "\u001b[1;33m[PROGRESS]::\u001b[0m \u001b[1;34martracewave.py 261 trace_tilt()\u001b[0m - Detecting lines for slit 1\n",
      "\u001b[1;32m[INFO]    ::\u001b[0m \u001b[1;34mararc.py 180 detect_lines()\u001b[0m - Detecting lines\n",
      "\u001b[1;32m[INFO]    ::\u001b[0m \u001b[1;34mararc.py 224 detect_lines()\u001b[0m - Detecting the strongest, nonsaturated lines\n",
      "\u001b[1;32m[INFO]    ::\u001b[0m \u001b[1;34martracewave.py 319 trace_tilt()\u001b[0m - Modelling arc line tilts with 13 arc lines\n",
      "\u001b[1;30m[WORK IN ]::\u001b[0m\n",
      "\u001b[1;33m[PROGRESS]::\u001b[0m \u001b[1;34martracewave.py 325 trace_tilt()\u001b[0m - This next step could be multiprocessed to speed up the reduction\n",
      "\u001b[1;32m[INFO]    ::\u001b[0m \u001b[1;34martracewave.py 523 trace_tilt()\u001b[0m - Completed spectral tilt tracing\n"
     ]
    }
   ],
   "source": [
    "waveTilts.settings['tilts']['trthrsh'] = 500.  # Lowers the thershold amplitude of the arc lines used\n",
    "\n",
    "trcdict = waveTilts._trace_tilts(slit)"
   ]
  },
  {
   "cell_type": "markdown",
   "metadata": {
    "collapsed": true
   },
   "source": [
    "### Show"
   ]
  },
  {
   "cell_type": "code",
   "execution_count": 244,
   "metadata": {},
   "outputs": [
    {
     "name": "stderr",
     "output_type": "stream",
     "text": [
      "\u001b[1;32m[INFO]    ::\u001b[0m \u001b[1;34mwavetilts.py 238 show()\u001b[0m - Green = ok line;  red=rejected\n"
     ]
    }
   ],
   "source": [
    "waveTilts.show('sslit', slit=slit)"
   ]
  },
  {
   "cell_type": "markdown",
   "metadata": {},
   "source": [
    "## Analyze the tilt traces in a single slit"
   ]
  },
  {
   "cell_type": "code",
   "execution_count": 245,
   "metadata": {
    "collapsed": true
   },
   "outputs": [],
   "source": [
    "waveTilts.settings['tilts']['order'] = 3"
   ]
  },
  {
   "cell_type": "code",
   "execution_count": 246,
   "metadata": {},
   "outputs": [
    {
     "data": {
      "text/plain": [
       "0"
      ]
     },
     "execution_count": 246,
     "metadata": {},
     "output_type": "execute_result"
    }
   ],
   "source": [
    "badrows = waveTilts._analyze_tilt_traces(slit)\n",
    "badrows"
   ]
  },
  {
   "cell_type": "markdown",
   "metadata": {},
   "source": [
    "## Prepare polytilts"
   ]
  },
  {
   "cell_type": "code",
   "execution_count": 247,
   "metadata": {},
   "outputs": [
    {
     "data": {
      "text/plain": [
       "array([  43,  168,  202,  245,  259,  496,  637,  658,  689,  804,  948,\n",
       "        956,  967,  996, 1020, 1077, 1222, 1259, 1274, 1307, 1389, 1503,\n",
       "       1590, 1655, 1718, 1998])"
      ]
     },
     "execution_count": 247,
     "metadata": {},
     "output_type": "execute_result"
    }
   ],
   "source": [
    "waveTilts.all_trcdict[0]['arcdet']"
   ]
  },
  {
   "cell_type": "code",
   "execution_count": 248,
   "metadata": {},
   "outputs": [],
   "source": [
    "#mtilt = waveTilts.all_tilts[3]\n",
    "#mtilt[:,0] * (waveTilts.msarc.shape[0]-1)"
   ]
  },
  {
   "cell_type": "code",
   "execution_count": 249,
   "metadata": {
    "collapsed": true
   },
   "outputs": [],
   "source": [
    "waveTilts.settings['tilts']['yorder'] = 3\n",
    "waveTilts.settings['tilts']['poly_2Dfunc'] = 'legendre'\n",
    "waveTilts.settings['tilts']['poly_2D'] = True"
   ]
  },
  {
   "cell_type": "code",
   "execution_count": 250,
   "metadata": {},
   "outputs": [
    {
     "name": "stderr",
     "output_type": "stream",
     "text": [
      "\u001b[1;30m[WORK IN ]::\u001b[0m\n",
      "\u001b[1;33m[PROGRESS]::\u001b[0m \u001b[1;34martracewave.py 868 prepare_polytilts()\u001b[0m - May need to do a check here to make sure ofit is reasonable\n",
      "\u001b[1;31m[WARNING] ::\u001b[0m \u001b[1;34martracewave.py 890 prepare_polytilts()\u001b[0m - Could not perform a PCA when tracing the spectral tilt\n",
      "             Not enough well-traced arc lines\n",
      "\u001b[1;32m[INFO]    ::\u001b[0m \u001b[1;34martracewave.py 891 prepare_polytilts()\u001b[0m - Fitting tilts with a low order, 2D legendre\n",
      "\u001b[1;30m[WORK IN ]::\u001b[0m\n",
      "\u001b[1;33m[PROGRESS]::\u001b[0m \u001b[1;34marutils.py 631 polyfit2d_general()\u001b[0m - Generalize to different polynomial types\n"
     ]
    }
   ],
   "source": [
    "polytilts = waveTilts._prepare_polytilts(skip_QA=False, show_QA=True)"
   ]
  },
  {
   "cell_type": "markdown",
   "metadata": {},
   "source": [
    "### Show image"
   ]
  },
  {
   "cell_type": "code",
   "execution_count": 233,
   "metadata": {
    "collapsed": true
   },
   "outputs": [],
   "source": [
    "waveTilts.show('polytilt_img')"
   ]
  },
  {
   "cell_type": "markdown",
   "metadata": {},
   "source": [
    "### Show on arc lines"
   ]
  },
  {
   "cell_type": "code",
   "execution_count": 234,
   "metadata": {},
   "outputs": [],
   "source": [
    "waveTilts.show('polytilts', slit=slit)"
   ]
  },
  {
   "cell_type": "code",
   "execution_count": 235,
   "metadata": {},
   "outputs": [
    {
     "name": "stderr",
     "output_type": "stream",
     "text": [
      "\u001b[1;32m[INFO]    ::\u001b[0m \u001b[1;34mwavetilts.py 244 show()\u001b[0m - Ignore the color scheme\n"
     ]
    }
   ],
   "source": [
    "waveTilts.show('model', slit=slit)"
   ]
  },
  {
   "cell_type": "markdown",
   "metadata": {},
   "source": [
    "#### Not so well traced on the left edge\n",
    "    Try increasing the order"
   ]
  },
  {
   "cell_type": "markdown",
   "metadata": {},
   "source": [
    "## spca"
   ]
  },
  {
   "cell_type": "code",
   "execution_count": 251,
   "metadata": {},
   "outputs": [
    {
     "name": "stderr",
     "output_type": "stream",
     "text": [
      "\u001b[1;32m[INFO]    ::\u001b[0m \u001b[1;34martracewave.py 1034 tilts_spca()\u001b[0m - Performing a spca analysis of the tilts\n",
      "\u001b[1;30m[WORK IN ]::\u001b[0m\n",
      "\u001b[1;33m[PROGRESS]::\u001b[0m \u001b[1;34martracewave.py 1060 tilts_spca()\u001b[0m - Consider adding weights to SmoothBivariate in spca\n"
     ]
    }
   ],
   "source": [
    "waveTilts._tilts_spca(slit)"
   ]
  },
  {
   "cell_type": "code",
   "execution_count": 252,
   "metadata": {},
   "outputs": [],
   "source": [
    "waveTilts.show('tilts', slit=slit)"
   ]
  },
  {
   "cell_type": "markdown",
   "metadata": {},
   "source": [
    "## Output"
   ]
  },
  {
   "cell_type": "code",
   "execution_count": 57,
   "metadata": {},
   "outputs": [
    {
     "name": "stderr",
     "output_type": "stream",
     "text": [
      "\u001b[1;31m[WARNING] ::\u001b[0m \u001b[1;34mwavetilts.py 277 save_master()\u001b[0m - Using tilts as final.  Better know what you are doing!\n"
     ]
    },
    {
     "name": "stdout",
     "output_type": "stream",
     "text": [
      "> /data/Projects/Python/PYPIT/pypit/wavetilts.py(295)save_master()\n",
      "-> mcnt = 0\n",
      "(Pdb) c\n",
      "> /data/Projects/Python/PYPIT/pypit/wavetilts.py(287)save_master()\n",
      "-> for slit in range(self.nslit):\n",
      "(Pdb) self.nslit\n",
      "1\n",
      "(Pdb) c\n"
     ]
    }
   ],
   "source": [
    "waveTilts.save_master('tmp.fits', use_tilts_as_final=True)"
   ]
  },
  {
   "cell_type": "markdown",
   "metadata": {},
   "source": [
    "### Increase order"
   ]
  },
  {
   "cell_type": "code",
   "execution_count": 152,
   "metadata": {
    "collapsed": true
   },
   "outputs": [],
   "source": [
    "waveTilts.settings['tilts']['order'] = 3"
   ]
  },
  {
   "cell_type": "code",
   "execution_count": 153,
   "metadata": {},
   "outputs": [
    {
     "data": {
      "text/plain": [
       "0"
      ]
     },
     "execution_count": 153,
     "metadata": {},
     "output_type": "execute_result"
    }
   ],
   "source": [
    "badrows = waveTilts._analyze_tilt_traces(slit)\n",
    "badrows"
   ]
  },
  {
   "cell_type": "code",
   "execution_count": 112,
   "metadata": {},
   "outputs": [
    {
     "name": "stderr",
     "output_type": "stream",
     "text": [
      "\u001b[1;30m[WORK IN ]::\u001b[0m\n",
      "\u001b[1;33m[PROGRESS]::\u001b[0m \u001b[1;34martracewave.py 852 prepare_polytilts()\u001b[0m - May need to do a check here to make sure ofit is reasonable\n",
      "\u001b[1;32m[INFO]    ::\u001b[0m \u001b[1;34martracewave.py 858 prepare_polytilts()\u001b[0m - Performing a PCA on the tilts\n",
      "               Reduced chi-squared = 1.192590E-11\n"
     ]
    },
    {
     "data": {
      "text/plain": [
       "<matplotlib.figure.Figure at 0x7f791300e940>"
      ]
     },
     "metadata": {},
     "output_type": "display_data"
    },
    {
     "data": {
      "image/png": "[encoded data removed]",
      "text/plain": [
       "<matplotlib.figure.Figure at 0x7f7911f6ea20>"
      ]
     },
     "metadata": {},
     "output_type": "display_data"
    }
   ],
   "source": [
    "polytilts = waveTilts._prepare_polytilts(skip_QA=False, show_QA=True)"
   ]
  },
  {
   "cell_type": "code",
   "execution_count": 113,
   "metadata": {
    "collapsed": true
   },
   "outputs": [],
   "source": [
    "waveTilts.show('model2', slit=slit)"
   ]
  },
  {
   "cell_type": "markdown",
   "metadata": {},
   "source": [
    "### Looks the same"
   ]
  },
  {
   "cell_type": "markdown",
   "metadata": {},
   "source": [
    "### Increase params"
   ]
  },
  {
   "cell_type": "code",
   "execution_count": 114,
   "metadata": {},
   "outputs": [
    {
     "data": {
      "text/plain": [
       "([1, 1, 0], 3)"
      ]
     },
     "execution_count": 114,
     "metadata": {},
     "output_type": "execute_result"
    }
   ],
   "source": [
    "waveTilts.settings['tilts']['params'], waveTilts.settings['tilts']['order'] "
   ]
  },
  {
   "cell_type": "code",
   "execution_count": 75,
   "metadata": {
    "collapsed": true
   },
   "outputs": [],
   "source": [
    "waveTilts.settings['tilts']['params'] = [2,1,0]"
   ]
  },
  {
   "cell_type": "code",
   "execution_count": 76,
   "metadata": {},
   "outputs": [
    {
     "name": "stderr",
     "output_type": "stream",
     "text": [
      "\u001b[1;30m[WORK IN ]::\u001b[0m\n",
      "\u001b[1;33m[PROGRESS]::\u001b[0m \u001b[1;34martracewave.py 847 prepare_polytilts()\u001b[0m - May need to do a check here to make sure ofit is reasonable\n",
      "\u001b[1;32m[INFO]    ::\u001b[0m \u001b[1;34martracewave.py 853 prepare_polytilts()\u001b[0m - Performing a PCA on the tilts\n",
      "               Reduced chi-squared = 8.816021E-11\n"
     ]
    },
    {
     "data": {
      "text/plain": [
       "<matplotlib.figure.Figure at 0x7f7913001f28>"
      ]
     },
     "metadata": {},
     "output_type": "display_data"
    },
    {
     "data": {
      "image/png": "[encoded data removed]",
      "text/plain": [
       "<matplotlib.figure.Figure at 0x7f7911f48b70>"
      ]
     },
     "metadata": {},
     "output_type": "display_data"
    }
   ],
   "source": [
    "polytilts = waveTilts._prepare_polytilts(skip_QA=False, show_QA=True)"
   ]
  },
  {
   "cell_type": "code",
   "execution_count": 121,
   "metadata": {
    "collapsed": true
   },
   "outputs": [],
   "source": [
    "waveTilts.show('polytilts', slit=slit)"
   ]
  },
  {
   "cell_type": "markdown",
   "metadata": {},
   "source": [
    "#### Still no improvement.."
   ]
  },
  {
   "cell_type": "code",
   "execution_count": 78,
   "metadata": {},
   "outputs": [
    {
     "data": {
      "text/plain": [
       "{'coeffstr': [array([  1.52135806e-04,  -6.79569450e-05]),\n",
       "  array([ -6.55849153e-05])],\n",
       " 'eigv': array([[-1.41244458,  0.0707129 ],\n",
       "        [-1.3958874 ,  0.07796363],\n",
       "        [-1.37940328,  0.08514826],\n",
       "        [-1.36299223,  0.0922668 ],\n",
       "        [-1.34665424,  0.09931924],\n",
       "        [-1.3303893 ,  0.10630559],\n",
       "        [-1.31419743,  0.11322585],\n",
       "        [-1.29807862,  0.12008001],\n",
       "        [-1.28203288,  0.12686807],\n",
       "        [-1.26606019,  0.13359005],\n",
       "        [-1.25016056,  0.14024592],\n",
       "        [-1.234334  ,  0.1468357 ],\n",
       "        [-1.2185805 ,  0.15335939],\n",
       "        [-1.20290006,  0.15981698],\n",
       "        [-1.18729268,  0.16620848],\n",
       "        [-1.17175836,  0.17253388],\n",
       "        [-1.1562971 ,  0.17879319],\n",
       "        [-1.14090891,  0.18498641],\n",
       "        [-1.12559377,  0.19111353],\n",
       "        [-1.1103517 ,  0.19717455],\n",
       "        [-1.09518269,  0.20316948],\n",
       "        [-1.08008674,  0.20909832],\n",
       "        [-1.06506385,  0.21496106],\n",
       "        [-1.05011402,  0.2207577 ],\n",
       "        [-1.03523725,  0.22648826],\n",
       "        [-1.02043355,  0.23215271],\n",
       "        [-1.0057029 ,  0.23775108],\n",
       "        [-0.99104532,  0.24328334],\n",
       "        [-0.9764608 ,  0.24874952],\n",
       "        [-0.96194934,  0.2541496 ],\n",
       "        [-0.94751094,  0.25948358],\n",
       "        [-0.9331456 ,  0.26475147],\n",
       "        [-0.91885333,  0.26995326],\n",
       "        [-0.90463411,  0.27508897],\n",
       "        [-0.89048796,  0.28015857],\n",
       "        [-0.87641487,  0.28516208],\n",
       "        [-0.86241484,  0.2900995 ],\n",
       "        [-0.84848787,  0.29497082],\n",
       "        [-0.83463396,  0.29977605],\n",
       "        [-0.82085312,  0.30451518],\n",
       "        [-0.80714533,  0.30918822],\n",
       "        [-0.79351061,  0.31379516],\n",
       "        [-0.77994895,  0.31833601],\n",
       "        [-0.76646034,  0.32281076],\n",
       "        [-0.75304481,  0.32721942],\n",
       "        [-0.73970233,  0.33156199],\n",
       "        [-0.72643291,  0.33583846],\n",
       "        [-0.71323655,  0.34004883],\n",
       "        [-0.70011326,  0.34419312],\n",
       "        [-0.68706303,  0.3482713 ],\n",
       "        [-0.67408586,  0.35228339],\n",
       "        [-0.66118175,  0.35622939],\n",
       "        [-0.6483507 ,  0.36010929],\n",
       "        [-0.63559271,  0.3639231 ],\n",
       "        [-0.62290778,  0.36767082],\n",
       "        [-0.61029592,  0.37135243],\n",
       "        [-0.59775712,  0.37496796],\n",
       "        [-0.58529137,  0.37851739],\n",
       "        [-0.57289869,  0.38200072],\n",
       "        [-0.56057907,  0.38541796],\n",
       "        [-0.54833252,  0.38876911],\n",
       "        [-0.53615902,  0.39205416],\n",
       "        [-0.52405858,  0.39527312],\n",
       "        [-0.51203121,  0.39842598],\n",
       "        [-0.5000769 ,  0.40151275],\n",
       "        [-0.48819565,  0.40453342],\n",
       "        [-0.47638746,  0.407488  ],\n",
       "        [-0.46465233,  0.41037648],\n",
       "        [-0.45299026,  0.41319887],\n",
       "        [-0.44140125,  0.41595516],\n",
       "        [-0.42988531,  0.41864536],\n",
       "        [-0.41844243,  0.42126947],\n",
       "        [-0.4070726 ,  0.42382748],\n",
       "        [-0.39577584,  0.42631939],\n",
       "        [-0.38455214,  0.42874521],\n",
       "        [-0.37340151,  0.43110494],\n",
       "        [-0.36232393,  0.43339857],\n",
       "        [-0.35131941,  0.43562611],\n",
       "        [-0.34038796,  0.43778755],\n",
       "        [-0.32952957,  0.4398829 ],\n",
       "        [-0.31874424,  0.44191215],\n",
       "        [-0.30803197,  0.44387531],\n",
       "        [-0.29739276,  0.44577238],\n",
       "        [-0.28682661,  0.44760335],\n",
       "        [-0.27633353,  0.44936822],\n",
       "        [-0.2659135 ,  0.451067  ],\n",
       "        [-0.25556654,  0.45269969],\n",
       "        [-0.24529264,  0.45426628],\n",
       "        [-0.2350918 ,  0.45576678],\n",
       "        [-0.22496402,  0.45720118],\n",
       "        [-0.2149093 ,  0.45856948],\n",
       "        [-0.20492764,  0.4598717 ],\n",
       "        [-0.19501905,  0.46110782],\n",
       "        [-0.18518351,  0.46227784],\n",
       "        [-0.17542104,  0.46338177],\n",
       "        [-0.16573163,  0.4644196 ],\n",
       "        [-0.15611528,  0.46539134],\n",
       "        [-0.14657199,  0.46629699],\n",
       "        [-0.13710177,  0.46713654],\n",
       "        [-0.1277046 ,  0.46790999],\n",
       "        [-0.1183805 ,  0.46861735],\n",
       "        [-0.10912945,  0.46925862],\n",
       "        [-0.09995147,  0.46983379],\n",
       "        [-0.09084655,  0.47034287],\n",
       "        [-0.08181469,  0.47078585],\n",
       "        [-0.0728559 ,  0.47116274],\n",
       "        [-0.06397016,  0.47147353],\n",
       "        [-0.05515748,  0.47171823],\n",
       "        [-0.04641787,  0.47189684],\n",
       "        [-0.03775132,  0.47200935],\n",
       "        [-0.02915783,  0.47205576],\n",
       "        [-0.0206374 ,  0.47203608],\n",
       "        [-0.01219003,  0.47195031],\n",
       "        [-0.00381572,  0.47179844],\n",
       "        [ 0.00448552,  0.47158048],\n",
       "        [ 0.01271371,  0.47129642],\n",
       "        [ 0.02086883,  0.47094626],\n",
       "        [ 0.02895089,  0.47053002],\n",
       "        [ 0.03695989,  0.47004768],\n",
       "        [ 0.04489583,  0.46949924],\n",
       "        [ 0.05275871,  0.46888471],\n",
       "        [ 0.06054852,  0.46820408],\n",
       "        [ 0.06826528,  0.46745736],\n",
       "        [ 0.07590897,  0.46664455],\n",
       "        [ 0.0834796 ,  0.46576564],\n",
       "        [ 0.09097717,  0.46482063],\n",
       "        [ 0.09840168,  0.46380953],\n",
       "        [ 0.10575313,  0.46273234],\n",
       "        [ 0.11303152,  0.46158905],\n",
       "        [ 0.12023684,  0.46037967],\n",
       "        [ 0.12736911,  0.45910419],\n",
       "        [ 0.13442831,  0.45776262],\n",
       "        [ 0.14141445,  0.45635495],\n",
       "        [ 0.14832753,  0.45488119],\n",
       "        [ 0.15516755,  0.45334134],\n",
       "        [ 0.1619345 ,  0.45173539],\n",
       "        [ 0.1686284 ,  0.45006334],\n",
       "        [ 0.17524923,  0.4483252 ],\n",
       "        [ 0.18179701,  0.44652097],\n",
       "        [ 0.18827172,  0.44465064],\n",
       "        [ 0.19467337,  0.44271422],\n",
       "        [ 0.20100196,  0.4407117 ],\n",
       "        [ 0.20725749,  0.43864309],\n",
       "        [ 0.21343995,  0.43650838],\n",
       "        [ 0.21954936,  0.43430758],\n",
       "        [ 0.2255857 ,  0.43204068],\n",
       "        [ 0.23154898,  0.42970769],\n",
       "        [ 0.23743921,  0.4273086 ],\n",
       "        [ 0.24325637,  0.42484342],\n",
       "        [ 0.24900046,  0.42231215],\n",
       "        [ 0.2546715 ,  0.41971478],\n",
       "        [ 0.26026948,  0.41705131],\n",
       "        [ 0.26579439,  0.41432176],\n",
       "        [ 0.27124624,  0.4115261 ],\n",
       "        [ 0.27662504,  0.40866435],\n",
       "        [ 0.28193077,  0.40573651],\n",
       "        [ 0.28716343,  0.40274257],\n",
       "        [ 0.29232304,  0.39968254],\n",
       "        [ 0.29740959,  0.39655642],\n",
       "        [ 0.30242307,  0.39336419],\n",
       "        [ 0.3073635 ,  0.39010588],\n",
       "        [ 0.31223086,  0.38678147],\n",
       "        [ 0.31702516,  0.38339096],\n",
       "        [ 0.3217464 ,  0.37993436],\n",
       "        [ 0.32639458,  0.37641167],\n",
       "        [ 0.33096969,  0.37282288],\n",
       "        [ 0.33547175,  0.369168  ],\n",
       "        [ 0.33990074,  0.36544702],\n",
       "        [ 0.34425668,  0.36165995],\n",
       "        [ 0.34853955,  0.35780678],\n",
       "        [ 0.35274936,  0.35388752],\n",
       "        [ 0.35688611,  0.34990216],\n",
       "        [ 0.36094979,  0.34585071],\n",
       "        [ 0.36494042,  0.34173317],\n",
       "        [ 0.36885799,  0.33754953],\n",
       "        [ 0.37270249,  0.33329979],\n",
       "        [ 0.37647393,  0.32898396],\n",
       "        [ 0.38017231,  0.32460204],\n",
       "        [ 0.38379763,  0.32015402],\n",
       "        [ 0.38734989,  0.3156399 ],\n",
       "        [ 0.39082909,  0.3110597 ],\n",
       "        [ 0.39423522,  0.30641339],\n",
       "        [ 0.39756829,  0.301701  ],\n",
       "        [ 0.40082831,  0.29692251],\n",
       "        [ 0.40401526,  0.29207792],\n",
       "        [ 0.40712915,  0.28716724],\n",
       "        [ 0.41016998,  0.28219046],\n",
       "        [ 0.41313774,  0.27714759],\n",
       "        [ 0.41603245,  0.27203863],\n",
       "        [ 0.41885409,  0.26686357],\n",
       "        [ 0.42160268,  0.26162241],\n",
       "        [ 0.4242782 ,  0.25631516],\n",
       "        [ 0.42688066,  0.25094182],\n",
       "        [ 0.42941006,  0.24550238],\n",
       "        [ 0.4318664 ,  0.23999685],\n",
       "        [ 0.43424967,  0.23442522],\n",
       "        [ 0.43655989,  0.2287875 ],\n",
       "        [ 0.43879704,  0.22308369],\n",
       "        [ 0.44096113,  0.21731377],\n",
       "        [ 0.44305217,  0.21147777],\n",
       "        [ 0.44507014,  0.20557567],\n",
       "        [ 0.44701504,  0.19960747],\n",
       "        [ 0.44888689,  0.19357318],\n",
       "        [ 0.45068568,  0.1874728 ],\n",
       "        [ 0.4524114 ,  0.18130632],\n",
       "        [ 0.45406406,  0.17507375],\n",
       "        [ 0.45564367,  0.16877508],\n",
       "        [ 0.45715021,  0.16241032],\n",
       "        [ 0.45858369,  0.15597946],\n",
       "        [ 0.4599441 ,  0.14948251],\n",
       "        [ 0.46123146,  0.14291946],\n",
       "        [ 0.46244575,  0.13629032],\n",
       "        [ 0.46358699,  0.12959509],\n",
       "        [ 0.46465516,  0.12283376],\n",
       "        [ 0.46565027,  0.11600633],\n",
       "        [ 0.46657232,  0.10911281],\n",
       "        [ 0.46742131,  0.1021532 ],\n",
       "        [ 0.46819724,  0.09512749],\n",
       "        [ 0.4689001 ,  0.08803569],\n",
       "        [ 0.46952991,  0.08087779],\n",
       "        [ 0.47008665,  0.07365379],\n",
       "        [ 0.47057033,  0.06636371],\n",
       "        [ 0.47098095,  0.05900753],\n",
       "        [ 0.47131851,  0.05158525],\n",
       "        [ 0.47158301,  0.04409688],\n",
       "        [ 0.47177444,  0.03654241],\n",
       "        [ 0.47189282,  0.02892185],\n",
       "        [ 0.47193813,  0.0212352 ],\n",
       "        [ 0.47191038,  0.01348245],\n",
       "        [ 0.47180957,  0.0056636 ],\n",
       "        [ 0.4716357 , -0.00222133],\n",
       "        [ 0.47138877, -0.01017237],\n",
       "        [ 0.47106878, -0.0181895 ],\n",
       "        [ 0.47067572, -0.02627272],\n",
       "        [ 0.47020961, -0.03442204],\n",
       "        [ 0.46967043, -0.04263745],\n",
       "        [ 0.46905819, -0.05091895],\n",
       "        [ 0.46837289, -0.05926655],\n",
       "        [ 0.46761453, -0.06768025],\n",
       "        [ 0.46678311, -0.07616004],\n",
       "        [ 0.46587862, -0.08470592],\n",
       "        [ 0.46490108, -0.0933179 ],\n",
       "        [ 0.46385047, -0.10199598],\n",
       "        [ 0.4627268 , -0.11074015],\n",
       "        [ 0.46153007, -0.11955041],\n",
       "        [ 0.46026028, -0.12842677],\n",
       "        [ 0.45891743, -0.13736922],\n",
       "        [ 0.45750152, -0.14637777],\n",
       "        [ 0.45601254, -0.15545241],\n",
       "        [ 0.45445051, -0.16459315],\n",
       "        [ 0.45281541, -0.17379998],\n",
       "        [ 0.45110725, -0.1830729 ],\n",
       "        [ 0.44932603, -0.19241192],\n",
       "        [ 0.44747175, -0.20181704],\n",
       "        [ 0.44554441, -0.21128825],\n",
       "        [ 0.443544  , -0.22082555],\n",
       "        [ 0.44147054, -0.23042895],\n",
       "        [ 0.43932401, -0.24009844],\n",
       "        [ 0.43710442, -0.24983403],\n",
       "        [ 0.43481177, -0.25963571],\n",
       "        [ 0.43244606, -0.26950349],\n",
       "        [ 0.43000729, -0.27943736],\n",
       "        [ 0.42749545, -0.28943733],\n",
       "        [ 0.42491056, -0.29950339],\n",
       "        [ 0.4222526 , -0.30963554],\n",
       "        [ 0.41952159, -0.31983379],\n",
       "        [ 0.41671751, -0.33009814],\n",
       "        [ 0.41384037, -0.34042858],\n",
       "        [ 0.41089016, -0.35082511],\n",
       "        [ 0.4078669 , -0.36128774],\n",
       "        [ 0.40477058, -0.37181646],\n",
       "        [ 0.40160119, -0.38241128],\n",
       "        [ 0.39835874, -0.39307219],\n",
       "        [ 0.39504324, -0.4037992 ],\n",
       "        [ 0.39165467, -0.4145923 ],\n",
       "        [ 0.38819303, -0.4254515 ],\n",
       "        [ 0.38465834, -0.43637679],\n",
       "        [ 0.38105059, -0.44736818],\n",
       "        [ 0.37736977, -0.45842566],\n",
       "        [ 0.3736159 , -0.46954923],\n",
       "        [ 0.36978896, -0.4807389 ],\n",
       "        [ 0.36588896, -0.49199466],\n",
       "        [ 0.3619159 , -0.50331652],\n",
       "        [ 0.35786978, -0.51470448],\n",
       "        [ 0.35375059, -0.52615852],\n",
       "        [ 0.34955835, -0.53767867],\n",
       "        [ 0.34529304, -0.5492649 ],\n",
       "        [ 0.34095468, -0.56091723],\n",
       "        [ 0.33654325, -0.57263566],\n",
       "        [ 0.33205876, -0.58442018],\n",
       "        [ 0.32750121, -0.5962708 ],\n",
       "        [ 0.32287059, -0.60818751],\n",
       "        [ 0.31816692, -0.62017031],\n",
       "        [ 0.31339018, -0.63221921],\n",
       "        [ 0.30854039, -0.64433421],\n",
       "        [ 0.30361753, -0.65651529],\n",
       "        [ 0.29862161, -0.66876248],\n",
       "        [ 0.29355263, -0.68107575],\n",
       "        [ 0.28841059, -0.69345513],\n",
       "        [ 0.28319548, -0.70590059],\n",
       "        [ 0.27790732, -0.71841216],\n",
       "        [ 0.27254609, -0.73098981],\n",
       "        [ 0.26711181, -0.74363356],\n",
       "        [ 0.26160446, -0.75634341],\n",
       "        [ 0.25602405, -0.76911935],\n",
       "        [ 0.25037058, -0.78196138],\n",
       "        [ 0.24464404, -0.79486951],\n",
       "        [ 0.23884445, -0.80784374],\n",
       "        [ 0.23297179, -0.82088406],\n",
       "        [ 0.22702608, -0.83399047],\n",
       "        [ 0.2210073 , -0.84716298],\n",
       "        [ 0.21491546, -0.86040158],\n",
       "        [ 0.20875056, -0.87370628],\n",
       "        [ 0.2025126 , -0.88707707],\n",
       "        [ 0.19620157, -0.90051395],\n",
       "        [ 0.18981749, -0.91401693],\n",
       "        [ 0.18336034, -0.92758601],\n",
       "        [ 0.17683013, -0.94122118],\n",
       "        [ 0.17022686, -0.95492244],\n",
       "        [ 0.16355053, -0.9686898 ],\n",
       "        [ 0.15680114, -0.98252326],\n",
       "        [ 0.14997869, -0.99642281],\n",
       "        [ 0.14308318, -1.01038845],\n",
       "        [ 0.1361146 , -1.02442019],\n",
       "        [ 0.12907296, -1.03851802],\n",
       "        [ 0.12195826, -1.05268195],\n",
       "        [ 0.1147705 , -1.06691197],\n",
       "        [ 0.10750968, -1.08120808],\n",
       "        [ 0.1001758 , -1.09557029],\n",
       "        [ 0.09276886, -1.1099986 ],\n",
       "        [ 0.08528885, -1.124493  ],\n",
       "        [ 0.07773579, -1.1390535 ],\n",
       "        [ 0.07010966, -1.15368008],\n",
       "        [ 0.06241047, -1.16837277],\n",
       "        [ 0.05463822, -1.18313155],\n",
       "        [ 0.04679291, -1.19795642],\n",
       "        [ 0.03887453, -1.21284739],\n",
       "        [ 0.0308831 , -1.22780445],\n",
       "        [ 0.0228186 , -1.24282761],\n",
       "        [ 0.01468105, -1.25791686],\n",
       "        [ 0.00647043, -1.2730722 ],\n",
       "        [-0.00181325, -1.28829365],\n",
       "        [-0.01016999, -1.30358118],\n",
       "        [-0.0185998 , -1.31893481],\n",
       "        [-0.02710266, -1.33435454],\n",
       "        [-0.03567859, -1.34984035],\n",
       "        [-0.04432757, -1.36539227],\n",
       "        [-0.05304962, -1.38101028],\n",
       "        [-0.06184473, -1.39669438],\n",
       "        [-0.0707129 , -1.41244458]]),\n",
       " 'hidden': array([[  2.09902542e-04,   2.09680267e-04,   2.07618795e-04,\n",
       "           1.90973483e-04,   1.76375819e-04,   1.52606163e-04,\n",
       "           1.42231492e-04,   1.42578934e-04,   1.27801016e-04,\n",
       "           1.20061890e-04,   1.15442197e-04,   1.10936585e-04,\n",
       "           8.52007974e-05],\n",
       "        [ -7.37316292e-05,  -7.18507237e-05,  -6.68784071e-05,\n",
       "          -6.10042018e-05,  -5.82766509e-05,  -6.30918606e-05,\n",
       "          -5.47575190e-05,  -6.51179070e-05,  -6.72981522e-05,\n",
       "          -5.92401397e-05,  -6.60359183e-05,  -7.11616922e-05,\n",
       "          -7.41590971e-05]]),\n",
       " 'high_fit': array([[  2.20092751e-04,  -6.55849153e-05],\n",
       "        [  2.20026354e-04,  -6.55849153e-05],\n",
       "        [  2.19959958e-04,  -6.55849153e-05],\n",
       "        ..., \n",
       "        [  8.43116540e-05,  -6.55849153e-05],\n",
       "        [  8.42452574e-05,  -6.55849153e-05],\n",
       "        [  8.41788607e-05,  -6.55849153e-05]]),\n",
       " 'high_matr': array([[  2.20092751e-04,  -6.55849153e-05],\n",
       "        [  2.20026354e-04,  -6.55849153e-05],\n",
       "        [  2.19959958e-04,  -6.55849153e-05],\n",
       "        ..., \n",
       "        [  8.43116540e-05,  -6.55849153e-05],\n",
       "        [  8.42452574e-05,  -6.55849153e-05],\n",
       "        [  8.41788607e-05,  -6.55849153e-05]]),\n",
       " 'npc': 2,\n",
       " 'usetrc': array([  44,  203,  245,  496,  658,  967, 1077, 1274, 1389, 1503, 1590,\n",
       "        1655, 1999]),\n",
       " 'x0': array([ 0.,  0.,  0., ...,  0.,  0.,  0.]),\n",
       " 'x0fit': array([ -2.70978122e-04,   2.18159632e-04,   7.07296868e-04, ...,\n",
       "          9.98930887e-01,   9.99418963e-01,   9.99907039e-01]),\n",
       " 'x0in': array([  0.00000000e+00,   4.88519785e-04,   9.77039570e-04, ...,\n",
       "          9.99022960e-01,   9.99511480e-01,   1.00000000e+00]),\n",
       " 'x0mask': array([ 0.,  0.,  0., ...,  0.,  0.,  0.]),\n",
       " 'x0res': array([  4.99999280e-01,   5.00089008e-01,  -1.81249650e-04])}"
      ]
     },
     "execution_count": 78,
     "metadata": {},
     "output_type": "execute_result"
    }
   ],
   "source": [
    "waveTilts.outpar"
   ]
  },
  {
   "cell_type": "code",
   "execution_count": 79,
   "metadata": {},
   "outputs": [
    {
     "data": {
      "text/plain": [
       "[2, 1, 0]"
      ]
     },
     "execution_count": 79,
     "metadata": {},
     "output_type": "execute_result"
    }
   ],
   "source": [
    "waveTilts.settings['tilts']['params'] "
   ]
  },
  {
   "cell_type": "code",
   "execution_count": 147,
   "metadata": {},
   "outputs": [
    {
     "data": {
      "text/plain": [
       "'spca'"
      ]
     },
     "execution_count": 147,
     "metadata": {},
     "output_type": "execute_result"
    }
   ],
   "source": [
    "waveTilts.settings['tilts']['method'] "
   ]
  },
  {
   "cell_type": "code",
   "execution_count": 155,
   "metadata": {},
   "outputs": [
    {
     "name": "stderr",
     "output_type": "stream",
     "text": [
      "\u001b[1;30m[WORK IN ]::\u001b[0m\n",
      "\u001b[1;33m[PROGRESS]::\u001b[0m \u001b[1;34martracewave.py 852 prepare_polytilts()\u001b[0m - May need to do a check here to make sure ofit is reasonable\n",
      "\u001b[1;32m[INFO]    ::\u001b[0m \u001b[1;34martracewave.py 858 prepare_polytilts()\u001b[0m - Performing a PCA on the tilts\n",
      "               Reduced chi-squared = 1.854099E-11\n"
     ]
    },
    {
     "data": {
      "text/plain": [
       "<matplotlib.figure.Figure at 0x7f7911e3fba8>"
      ]
     },
     "metadata": {},
     "output_type": "display_data"
    },
    {
     "data": {
      "image/png": "[encoded data removed]",
      "text/plain": [
       "<matplotlib.figure.Figure at 0x7f791039be48>"
      ]
     },
     "metadata": {},
     "output_type": "display_data"
    }
   ],
   "source": [
    "waveTilts.settings['tilts']['params'] = [3,2,2,0]\n",
    "polytilts = waveTilts._prepare_polytilts(skip_QA=False, show_QA=True)"
   ]
  },
  {
   "cell_type": "code",
   "execution_count": 145,
   "metadata": {},
   "outputs": [
    {
     "name": "stderr",
     "output_type": "stream",
     "text": [
      "\u001b[1;32m[INFO]    ::\u001b[0m \u001b[1;34martracewave.py 1057 prep_tilts_qa()\u001b[0m - Preparing arc tilt QA data\n"
     ]
    }
   ],
   "source": [
    "waveTilts.show('polytilts', slit=slit)"
   ]
  },
  {
   "cell_type": "code",
   "execution_count": 146,
   "metadata": {
    "collapsed": true
   },
   "outputs": [],
   "source": [
    "waveTilts.show('model2', slit=slit)"
   ]
  },
  {
   "cell_type": "markdown",
   "metadata": {},
   "source": [
    "### spca me"
   ]
  },
  {
   "cell_type": "code",
   "execution_count": 156,
   "metadata": {},
   "outputs": [
    {
     "name": "stderr",
     "output_type": "stream",
     "text": [
      "\u001b[1;32m[INFO]    ::\u001b[0m \u001b[1;34martracewave.py 1008 tilts_spca()\u001b[0m - Performing a spca analysis of the tilts\n",
      "\u001b[1;30m[WORK IN ]::\u001b[0m\n",
      "\u001b[1;33m[PROGRESS]::\u001b[0m \u001b[1;34martracewave.py 1033 tilts_spca()\u001b[0m - Consider adding weights to SmoothBivariate in spca\n"
     ]
    }
   ],
   "source": [
    "waveTilts._tilts_spca(slit)"
   ]
  },
  {
   "cell_type": "code",
   "execution_count": 157,
   "metadata": {},
   "outputs": [
    {
     "name": "stderr",
     "output_type": "stream",
     "text": [
      "\u001b[1;32m[INFO]    ::\u001b[0m \u001b[1;34martracewave.py 1057 prep_tilts_qa()\u001b[0m - Preparing arc tilt QA data\n"
     ]
    }
   ],
   "source": [
    "waveTilts.show('tilts', slit=slit)"
   ]
  },
  {
   "cell_type": "markdown",
   "metadata": {
    "collapsed": true
   },
   "source": [
    "----"
   ]
  },
  {
   "cell_type": "markdown",
   "metadata": {},
   "source": [
    "# DEIMOS long-slit"
   ]
  },
  {
   "cell_type": "code",
   "execution_count": 253,
   "metadata": {
    "collapsed": true
   },
   "outputs": [],
   "source": [
    "from pypit import traceslits\n",
    "from pypit import arcimage"
   ]
  },
  {
   "cell_type": "code",
   "execution_count": 257,
   "metadata": {
    "collapsed": true
   },
   "outputs": [],
   "source": [
    "# Master frames\n",
    "settings = dict(masters={})\n",
    "settings['masters']['directory'] = pypdev_path+'/REDUX_OUT/Keck_DEIMOS/830G_L/MF_keck_deimos'\n",
    "settings['masters']['reuse'] = True\n",
    "setup = 'A_07_aa'"
   ]
  },
  {
   "cell_type": "code",
   "execution_count": 260,
   "metadata": {},
   "outputs": [
    {
     "name": "stderr",
     "output_type": "stream",
     "text": [
      "\u001b[1;31m[WARNING] ::\u001b[0m \u001b[1;34mprocessimages.py 97 __init__()\u001b[0m - No information on the spectrograph was given.  Do not attempt to (re)process the images\n",
      "\u001b[1;32m[INFO]    ::\u001b[0m \u001b[1;34marmasters.py 241 _load()\u001b[0m - Loading a pre-existing master calibration frame\n",
      "\u001b[1;32m[INFO]    ::\u001b[0m \u001b[1;34marmasters.py 243 _load()\u001b[0m - Master arc frame loaded successfully:\n",
      "             /data/Projects/Python/PYPIT-development-suite//REDUX_OUT/Keck_DEIMOS/830G_L/MF_keck_deimos/MasterArc_A_07_aa.fits\n",
      "\u001b[1;32m[INFO]    ::\u001b[0m \u001b[1;34mtraceslits.py 207 from_master_files()\u001b[0m - Loading BPM from /data/Projects/Python/PYPIT-development-suite//REDUX_OUT/Keck_DEIMOS/830G_L/MF_keck_deimos/MasterTrace_A_07_aa.fits.gz\n",
      "\u001b[1;32m[INFO]    ::\u001b[0m \u001b[1;34mtraceslits.py 518 _make_pixel_arrays()\u001b[0m - Converting physical trace locations to nearest pixel\n",
      "\u001b[1;32m[INFO]    ::\u001b[0m \u001b[1;34mtraceslits.py 525 _make_pixel_arrays()\u001b[0m - Identifying the pixels belonging to each slit\n"
     ]
    }
   ],
   "source": [
    "AImg = arcimage.ArcImage(setup=setup, settings=settings)\n",
    "msarc, header, _ = AImg.load_master_frame()\n",
    "#\n",
    "TSlits = traceslits.TraceSlits.from_master_files(settings['masters']['directory']+'/MasterTrace_A_07_aa')\n",
    "TSlits._make_pixel_arrays()"
   ]
  },
  {
   "cell_type": "markdown",
   "metadata": {},
   "source": [
    "----"
   ]
  },
  {
   "cell_type": "code",
   "execution_count": 314,
   "metadata": {},
   "outputs": [
    {
     "name": "stderr",
     "output_type": "stream",
     "text": [
      "\u001b[1;31m[WARNING] ::\u001b[0m \u001b[1;34mmasterframe.py 55 __init__()\u001b[0m - MasterFrame class not proper loaded (e.g. no masters in settings).  Avoid using Master methods\n"
     ]
    }
   ],
   "source": [
    "reload(wavetilts)\n",
    "waveTilts = wavetilts.WaveTilts(msarc, det=1, setup=setup, rordloc=TSlits.rcen, lordloc=TSlits.lcen, \n",
    "                             pixlocn=TSlits.pixlocn, pixcen=TSlits.pixcen)"
   ]
  },
  {
   "cell_type": "code",
   "execution_count": 315,
   "metadata": {},
   "outputs": [
    {
     "name": "stderr",
     "output_type": "stream",
     "text": [
      "\u001b[1;32m[INFO]    ::\u001b[0m \u001b[1;34mararc.py 86 get_censpec()\u001b[0m - Extracting an approximate arc spectrum at the centre of each slit\n"
     ]
    }
   ],
   "source": [
    "arccen, maskslits = waveTilts._extract_arcs()"
   ]
  },
  {
   "cell_type": "code",
   "execution_count": 316,
   "metadata": {},
   "outputs": [],
   "source": [
    "slit=0\n",
    "waveTilts.settings['tilts']['trthrsh'] = 400."
   ]
  },
  {
   "cell_type": "code",
   "execution_count": 317,
   "metadata": {},
   "outputs": [
    {
     "name": "stderr",
     "output_type": "stream",
     "text": [
      "\u001b[1;30m[WORK IN ]::\u001b[0m\n",
      "\u001b[1;33m[PROGRESS]::\u001b[0m \u001b[1;34martracewave.py 261 trace_tilt()\u001b[0m - Detecting lines for slit 1\n",
      "\u001b[1;32m[INFO]    ::\u001b[0m \u001b[1;34mararc.py 180 detect_lines()\u001b[0m - Detecting lines\n",
      "\u001b[1;32m[INFO]    ::\u001b[0m \u001b[1;34mararc.py 224 detect_lines()\u001b[0m - Detecting the strongest, nonsaturated lines\n",
      "\u001b[1;32m[INFO]    ::\u001b[0m \u001b[1;34martracewave.py 319 trace_tilt()\u001b[0m - Modelling arc line tilts with 28 arc lines\n",
      "\u001b[1;30m[WORK IN ]::\u001b[0m\n",
      "\u001b[1;33m[PROGRESS]::\u001b[0m \u001b[1;34martracewave.py 325 trace_tilt()\u001b[0m - This next step could be multiprocessed to speed up the reduction\n",
      "\u001b[1;32m[INFO]    ::\u001b[0m \u001b[1;34martracewave.py 523 trace_tilt()\u001b[0m - Completed spectral tilt tracing\n"
     ]
    }
   ],
   "source": [
    "# Trace tilts\n",
    "trcdict = waveTilts._trace_tilts(slit)"
   ]
  },
  {
   "cell_type": "code",
   "execution_count": 295,
   "metadata": {},
   "outputs": [
    {
     "name": "stderr",
     "output_type": "stream",
     "text": [
      "\u001b[1;32m[INFO]    ::\u001b[0m \u001b[1;34mwavetilts.py 238 show()\u001b[0m - Green = ok line;  red=rejected\n"
     ]
    }
   ],
   "source": [
    "waveTilts.show('sslit', slit=slit)"
   ]
  },
  {
   "cell_type": "code",
   "execution_count": 318,
   "metadata": {},
   "outputs": [
    {
     "name": "stderr",
     "output_type": "stream",
     "text": [
      "\u001b[1;31m[WARNING] ::\u001b[0m \u001b[1;34mwavetilts.py 125 _analyze_tilt_traces()\u001b[0m - There were 2 additional arc lines that should have been traced\n",
      "             (perhaps lines were saturated?). Check the spectral tilt solution\n"
     ]
    },
    {
     "data": {
      "text/plain": [
       "2"
      ]
     },
     "execution_count": 318,
     "metadata": {},
     "output_type": "execute_result"
    }
   ],
   "source": [
    "# Analyze tilts\n",
    "waveTilts.settings['tilts']['order'] = 3\n",
    "badrows = waveTilts._analyze_tilt_traces(slit)\n",
    "badrows"
   ]
  },
  {
   "cell_type": "code",
   "execution_count": 308,
   "metadata": {},
   "outputs": [
    {
     "name": "stderr",
     "output_type": "stream",
     "text": [
      "\u001b[1;32m[INFO]    ::\u001b[0m \u001b[1;34mwavetilts.py 244 show()\u001b[0m - Ignore the color scheme\n"
     ]
    }
   ],
   "source": [
    "waveTilts.show('model', slit=slit)"
   ]
  },
  {
   "cell_type": "code",
   "execution_count": 319,
   "metadata": {
    "collapsed": true
   },
   "outputs": [],
   "source": [
    "# Polytilts\n",
    "waveTilts.settings['tilts']['order'] = 4\n",
    "waveTilts.settings['tilts']['yorder'] = 4\n",
    "waveTilts.settings['tilts']['poly_2Dfunc'] = 'legendre'\n",
    "waveTilts.settings['tilts']['poly_2D'] = True"
   ]
  },
  {
   "cell_type": "code",
   "execution_count": 320,
   "metadata": {},
   "outputs": [
    {
     "name": "stderr",
     "output_type": "stream",
     "text": [
      "\u001b[1;30m[WORK IN ]::\u001b[0m\n",
      "\u001b[1;33m[PROGRESS]::\u001b[0m \u001b[1;34martracewave.py 869 prepare_polytilts()\u001b[0m - May need to do a check here to make sure ofit is reasonable\n",
      "\u001b[1;31m[WARNING] ::\u001b[0m \u001b[1;34martracewave.py 891 prepare_polytilts()\u001b[0m - Could not perform a PCA when tracing the spectral tilt\n",
      "             Not enough well-traced arc lines\n",
      "\u001b[1;32m[INFO]    ::\u001b[0m \u001b[1;34martracewave.py 892 prepare_polytilts()\u001b[0m - Fitting tilts with a low order, 2D legendre\n",
      "\u001b[1;30m[WORK IN ]::\u001b[0m\n",
      "\u001b[1;33m[PROGRESS]::\u001b[0m \u001b[1;34marutils.py 631 polyfit2d_general()\u001b[0m - Generalize to different polynomial types\n"
     ]
    }
   ],
   "source": [
    "polytilts = waveTilts._prepare_polytilts()"
   ]
  },
  {
   "cell_type": "code",
   "execution_count": 313,
   "metadata": {
    "collapsed": true
   },
   "outputs": [],
   "source": [
    "waveTilts.show('polytilts', slit=slit)"
   ]
  },
  {
   "cell_type": "code",
   "execution_count": 327,
   "metadata": {},
   "outputs": [
    {
     "data": {
      "text/plain": [
       "969.3390724416479"
      ]
     },
     "execution_count": 327,
     "metadata": {},
     "output_type": "execute_result"
    }
   ],
   "source": [
    "waveTilts.all_tilts[3][1497,28]"
   ]
  },
  {
   "cell_type": "code",
   "execution_count": 329,
   "metadata": {},
   "outputs": [
    {
     "data": {
      "text/plain": [
       "969.4705616135658"
      ]
     },
     "execution_count": 329,
     "metadata": {},
     "output_type": "execute_result"
    }
   ],
   "source": [
    "waveTilts.all_trcdict[0]['ytfit'][28][1497]"
   ]
  },
  {
   "cell_type": "code",
   "execution_count": 349,
   "metadata": {},
   "outputs": [
    {
     "name": "stderr",
     "output_type": "stream",
     "text": [
      "\u001b[1;32m[INFO]    ::\u001b[0m \u001b[1;34martracewave.py 988 tilts_spline()\u001b[0m - Performing a spline fit to the tilts\n"
     ]
    },
    {
     "ename": "ValueError",
     "evalue": "Error code returned by bispev: 10",
     "output_type": "error",
     "traceback": [
      "\u001b[0;31m---------------------------------------------------------------------------\u001b[0m",
      "\u001b[0;31mValueError\u001b[0m                                Traceback (most recent call last)",
      "\u001b[0;32m<ipython-input-349-0e8f126180f1>\u001b[0m in \u001b[0;36m<module>\u001b[0;34m()\u001b[0m\n\u001b[1;32m      1\u001b[0m \u001b[0;31m# jxp_spline\u001b[0m\u001b[0;34m\u001b[0m\u001b[0;34m\u001b[0m\u001b[0m\n\u001b[0;32m----> 2\u001b[0;31m \u001b[0mwaveTilts\u001b[0m\u001b[0;34m.\u001b[0m\u001b[0m_tilts_jxp_spline\u001b[0m\u001b[0;34m(\u001b[0m\u001b[0mslit\u001b[0m\u001b[0;34m)\u001b[0m\u001b[0;34m\u001b[0m\u001b[0m\n\u001b[0m",
      "\u001b[0;32m/data/Projects/Python/PYPIT/pypit/wavetilts.py\u001b[0m in \u001b[0;36m_tilts_jxp_spline\u001b[0;34m(self, slit)\u001b[0m\n\u001b[1;32m    159\u001b[0m         self.tilts = artracewave.tilts_spline(self.all_tilts,\n\u001b[1;32m    160\u001b[0m                                               \u001b[0mself\u001b[0m\u001b[0;34m.\u001b[0m\u001b[0mall_trcdict\u001b[0m\u001b[0;34m[\u001b[0m\u001b[0mslit\u001b[0m\u001b[0;34m]\u001b[0m\u001b[0;34m[\u001b[0m\u001b[0;34m'arcdet'\u001b[0m\u001b[0;34m]\u001b[0m\u001b[0;34m,\u001b[0m \u001b[0mself\u001b[0m\u001b[0;34m.\u001b[0m\u001b[0mall_trcdict\u001b[0m\u001b[0;34m[\u001b[0m\u001b[0mslit\u001b[0m\u001b[0;34m]\u001b[0m\u001b[0;34m[\u001b[0m\u001b[0;34m'aduse'\u001b[0m\u001b[0;34m]\u001b[0m\u001b[0;34m,\u001b[0m\u001b[0;34m\u001b[0m\u001b[0m\n\u001b[0;32m--> 161\u001b[0;31m                                               self.polytilts, self.msarc, use_mtilt=True)\n\u001b[0m\u001b[1;32m    162\u001b[0m     \u001b[0;32mdef\u001b[0m \u001b[0m_tilts_spline\u001b[0m\u001b[0;34m(\u001b[0m\u001b[0mself\u001b[0m\u001b[0;34m,\u001b[0m \u001b[0mslit\u001b[0m\u001b[0;34m)\u001b[0m\u001b[0;34m:\u001b[0m\u001b[0;34m\u001b[0m\u001b[0m\n\u001b[1;32m    163\u001b[0m         \u001b[0mreload\u001b[0m\u001b[0;34m(\u001b[0m\u001b[0martracewave\u001b[0m\u001b[0;34m)\u001b[0m\u001b[0;34m\u001b[0m\u001b[0m\n",
      "\u001b[0;32m/data/Projects/Python/PYPIT/pypit/core/artracewave.py\u001b[0m in \u001b[0;36mtilts_spline\u001b[0;34m(all_tilts, arcdet, aduse, polytilts, msarc, use_mtilt, maskval)\u001b[0m\n\u001b[1;32m   1021\u001b[0m                                      np.array([968.5, 969.34])/(msarc.shape[0]-1), grid=True)\n\u001b[1;32m   1022\u001b[0m     \u001b[0mtmp2\u001b[0m \u001b[0;34m=\u001b[0m \u001b[0;34m(\u001b[0m\u001b[0mmsarc\u001b[0m\u001b[0;34m.\u001b[0m\u001b[0mshape\u001b[0m\u001b[0;34m[\u001b[0m\u001b[0;36m0\u001b[0m\u001b[0;34m]\u001b[0m\u001b[0;34m-\u001b[0m\u001b[0;36m1\u001b[0m\u001b[0;34m)\u001b[0m\u001b[0;34m*\u001b[0m\u001b[0mytilt\u001b[0m\u001b[0;34m[\u001b[0m\u001b[0;36m1497\u001b[0m\u001b[0;34m,\u001b[0m\u001b[0;36m28\u001b[0m\u001b[0;34m]\u001b[0m\u001b[0;34m\u001b[0m\u001b[0m\n\u001b[0;32m-> 1023\u001b[0;31m     \u001b[0mtmp3\u001b[0m \u001b[0;34m=\u001b[0m \u001b[0mtiltspl\u001b[0m\u001b[0;34m(\u001b[0m\u001b[0mxsbs\u001b[0m\u001b[0;34m,\u001b[0m \u001b[0mzsbs\u001b[0m\u001b[0;34m,\u001b[0m \u001b[0mgrid\u001b[0m\u001b[0;34m=\u001b[0m\u001b[0;32mTrue\u001b[0m\u001b[0;34m)\u001b[0m\u001b[0;34m\u001b[0m\u001b[0m\n\u001b[0m\u001b[1;32m   1024\u001b[0m     \u001b[0mprint\u001b[0m\u001b[0;34m(\u001b[0m\u001b[0mtmp\u001b[0m\u001b[0;34m,\u001b[0m \u001b[0mtmp2\u001b[0m\u001b[0;34m)\u001b[0m\u001b[0;34m\u001b[0m\u001b[0m\n\u001b[1;32m   1025\u001b[0m     \u001b[0mdebugger\u001b[0m\u001b[0;34m.\u001b[0m\u001b[0mset_trace\u001b[0m\u001b[0;34m(\u001b[0m\u001b[0;34m)\u001b[0m\u001b[0;34m\u001b[0m\u001b[0m\n",
      "\u001b[0;32m/home/xavier/.pyenv/versions/anaconda3-4.4.0/lib/python3.6/site-packages/scipy/interpolate/fitpack2.py\u001b[0m in \u001b[0;36m__call__\u001b[0;34m(self, x, y, dx, dy, grid)\u001b[0m\n\u001b[1;32m    843\u001b[0m                 \u001b[0mz\u001b[0m\u001b[0;34m,\u001b[0m\u001b[0mier\u001b[0m \u001b[0;34m=\u001b[0m \u001b[0mdfitpack\u001b[0m\u001b[0;34m.\u001b[0m\u001b[0mbispev\u001b[0m\u001b[0;34m(\u001b[0m\u001b[0mtx\u001b[0m\u001b[0;34m,\u001b[0m\u001b[0mty\u001b[0m\u001b[0;34m,\u001b[0m\u001b[0mc\u001b[0m\u001b[0;34m,\u001b[0m\u001b[0mkx\u001b[0m\u001b[0;34m,\u001b[0m\u001b[0mky\u001b[0m\u001b[0;34m,\u001b[0m\u001b[0mx\u001b[0m\u001b[0;34m,\u001b[0m\u001b[0my\u001b[0m\u001b[0;34m)\u001b[0m\u001b[0;34m\u001b[0m\u001b[0m\n\u001b[1;32m    844\u001b[0m                 \u001b[0;32mif\u001b[0m \u001b[0;32mnot\u001b[0m \u001b[0mier\u001b[0m \u001b[0;34m==\u001b[0m \u001b[0;36m0\u001b[0m\u001b[0;34m:\u001b[0m\u001b[0;34m\u001b[0m\u001b[0m\n\u001b[0;32m--> 845\u001b[0;31m                     \u001b[0;32mraise\u001b[0m \u001b[0mValueError\u001b[0m\u001b[0;34m(\u001b[0m\u001b[0;34m\"Error code returned by bispev: %s\"\u001b[0m \u001b[0;34m%\u001b[0m \u001b[0mier\u001b[0m\u001b[0;34m)\u001b[0m\u001b[0;34m\u001b[0m\u001b[0m\n\u001b[0m\u001b[1;32m    846\u001b[0m         \u001b[0;32melse\u001b[0m\u001b[0;34m:\u001b[0m\u001b[0;34m\u001b[0m\u001b[0m\n\u001b[1;32m    847\u001b[0m             \u001b[0;31m# standard Numpy broadcasting\u001b[0m\u001b[0;34m\u001b[0m\u001b[0;34m\u001b[0m\u001b[0m\n",
      "\u001b[0;31mValueError\u001b[0m: Error code returned by bispev: 10"
     ]
    }
   ],
   "source": [
    "# jxp_spline\n",
    "waveTilts._tilts_jxp_spline(slit)"
   ]
  },
  {
   "cell_type": "code",
   "execution_count": null,
   "metadata": {},
   "outputs": [
    {
     "name": "stderr",
     "output_type": "stream",
     "text": [
      "\u001b[1;32m[INFO]    ::\u001b[0m \u001b[1;34martracewave.py 1044 tilts_spca()\u001b[0m - Performing a spca analysis of the tilts\n",
      "\u001b[1;30m[WORK IN ]::\u001b[0m\n",
      "\u001b[1;33m[PROGRESS]::\u001b[0m \u001b[1;34martracewave.py 1071 tilts_spca()\u001b[0m - Consider adding weights to SmoothBivariate in spca\n"
     ]
    },
    {
     "name": "stdout",
     "output_type": "stream",
     "text": [
      "[[3848496.17417425 3851931.02272896]\n",
      " [3848291.22121755 3851726.06074476]\n",
      " [3848086.14553921 3851520.97603335]\n",
      " [3847880.94714225 3851315.76859776]\n",
      " [3847675.62602968 3851110.43844099]\n",
      " [3847470.18220451 3850904.98556606]\n",
      " [3847264.61566975 3850699.40997598]\n",
      " [3847058.92642842 3850493.71167378]\n",
      " [3846853.11448354 3850287.89066246]] 940.0\n"
     ]
    },
    {
     "name": "stderr",
     "output_type": "stream",
     "text": [
      "\u001b[1;30m[WORK IN ]::\u001b[0m\n",
      "\u001b[1;33m[PROGRESS]::\u001b[0m \u001b[1;34marutils.py 631 polyfit2d_general()\u001b[0m - Generalize to different polynomial types\n"
     ]
    },
    {
     "name": "stdout",
     "output_type": "stream",
     "text": [
      "[[939.80896246 939.75891682 939.70884124 939.6587357  939.60860021\n",
      "  939.55843477 939.50823939 939.45801406 939.40775878]\n",
      " [940.64776025 940.59771239 940.54763458 940.49752682 940.44738911\n",
      "  940.39722144 940.34702383 940.29679627 940.24653876]]\n",
      "> /data/Projects/Python/PYPIT/pypit/core/artracewave.py(1095)tilts_spca()\n",
      "-> return tilts\n",
      "(Pdb) polytlits[1497,940]\n",
      "*** NameError: name 'polytlits' is not defined\n",
      "(Pdb) polytilts[1479,940]\n",
      "0.3626103467688827\n",
      "(Pdb) polytilts[1497,940]*(msarc.shape[0]-1)\n",
      "1502.8987750507067\n",
      "(Pdb) polytilts.shape\n",
      "(4096, 2048)\n",
      "(Pdb) polytilts[940,1497]*(msarc.shape[0]-1)\n",
      "968.9762731250482\n",
      "(Pdb) arcdet[28]\n",
      "940\n"
     ]
    }
   ],
   "source": [
    "# spca\n",
    "waveTilts._tilts_spca(slit)"
   ]
  },
  {
   "cell_type": "code",
   "execution_count": 325,
   "metadata": {
    "collapsed": true
   },
   "outputs": [],
   "source": [
    "waveTilts.show('tilts', slit=slit)"
   ]
  },
  {
   "cell_type": "code",
   "execution_count": null,
   "metadata": {
    "collapsed": true
   },
   "outputs": [],
   "source": []
  }
 ],
 "metadata": {
  "kernelspec": {
   "display_name": "Python 3",
   "language": "python",
   "name": "python3"
  },
  "language_info": {
   "codemirror_mode": {
    "name": "ipython",
    "version": 3
   },
   "file_extension": ".py",
   "mimetype": "text/x-python",
   "name": "python",
   "nbconvert_exporter": "python",
   "pygments_lexer": "ipython3",
   "version": "3.6.5"
  }
 },
 "nbformat": 4,
 "nbformat_minor": 2
}
