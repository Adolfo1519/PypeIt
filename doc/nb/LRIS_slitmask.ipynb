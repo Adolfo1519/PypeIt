{
 "cells": [
  {
   "cell_type": "markdown",
   "id": "87451a63-c38b-4d22-807a-2cf9bf842f8a",
   "metadata": {},
   "source": [
    "# LRIS slit mask"
   ]
  },
  {
   "cell_type": "code",
   "execution_count": 1,
   "id": "a11f7e22-6225-428f-be21-e1ff9658d221",
   "metadata": {},
   "outputs": [],
   "source": [
    "# imports\n",
    "import numpy as np\n",
    "\n",
    "from astropy.io import fits\n",
    "from astropy.table import Table\n",
    "\n",
    "from pypeit.spectrographs import slitmask"
   ]
  },
  {
   "cell_type": "markdown",
   "id": "b1f87e60-6afa-461b-86f4-6cfbec837be0",
   "metadata": {},
   "source": [
    "# Load up an example"
   ]
  },
  {
   "cell_type": "code",
   "execution_count": 2,
   "id": "72ccad4d-006f-49a2-be14-84c3b4df208e",
   "metadata": {},
   "outputs": [],
   "source": [
    "tst_file = '/home/xavier/Projects/PypeIt-codes/PypeIt-development-suite/dev_algorithms/lris/slitmask/raw/LR_test_121102_mask1_trace.fits.gz'"
   ]
  },
  {
   "cell_type": "code",
   "execution_count": 3,
   "id": "2e79fd05-7799-4358-a61d-5e45b052edd8",
   "metadata": {},
   "outputs": [
    {
     "name": "stdout",
     "output_type": "stream",
     "text": [
      "Filename: /home/xavier/Projects/PypeIt-codes/PypeIt-development-suite/dev_algorithms/lris/slitmask/raw/LR_test_121102_mask1_trace.fits.gz\n",
      "No.    Name      Ver    Type      Cards   Dimensions   Format\n",
      "  0  PRIMARY       1 PrimaryHDU     270   ()      \n",
      "  1  VidInp2       1 ImageHDU       359   (1067, 2068)   int16 (rescales to uint16)   \n",
      "  2  VidInp4       1 ImageHDU       359   (1067, 2068)   int16 (rescales to uint16)   \n",
      "  3  ObjectCat     1 BinTableHDU     51   22R x 19C   [6A, K, D, D, 1A, D, D, D, 1A, D, D, D, D, D, D, D, D, 14A, K]   \n",
      "  4  CatFiles      1 BinTableHDU     19   0R x 2C   [1J, 255A]   \n",
      "  5  MaskDesign    1 BinTableHDU     69   1R x 17C   [1J, 68A, 68A, 68A, 19A, 1J, 1J, 68A, 68A, 68A, 1D, 1D, 8A, 1E, 1D, 19A, 1E]   \n",
      "  6  DesiSlits     1 BinTableHDU     49   22R x 10C   [1J, 1J, 20A, 1D, 1D, 1A, 1E, 1E, 1E, 1E]   \n",
      "  7  SlitObjMap    1 BinTableHDU     23   22R x 5C   [K, K, K, D, D]   \n",
      "  8  MaskBlu       1 BinTableHDU     69   1R x 17C   [1J, 1J, 68A, 68A, 68A, 19A, 1E, 19A, 68A, 68A, 1E, 1E, 1E, 1E, 1E, 68A, 8A]   \n",
      "  9  BluSlits      1 BinTableHDU     54   22R x 11C   [1J, 1J, 1J, 1D, 1D, 1D, 1D, 1D, 1D, 1D, 1D]   \n",
      " 10  RDBmap        1 BinTableHDU     28   77R x 5C   [32A, 1A, 16A, 32A, 32A]   \n"
     ]
    }
   ],
   "source": [
    "hdu = fits.open(tst_file)\n",
    "hdu.info()"
   ]
  },
  {
   "cell_type": "markdown",
   "id": "15eeb751-fd8a-480a-8c7f-233a4fdd5f31",
   "metadata": {},
   "source": [
    "## Tables"
   ]
  },
  {
   "cell_type": "code",
   "execution_count": 4,
   "id": "66903c0c-240f-4b3d-bb5f-f8e864f0a93d",
   "metadata": {},
   "outputs": [
    {
     "data": {
      "text/html": [
       "<div><i>Table length=22</i>\n",
       "<table id=\"table140690833360352\" class=\"table-striped table-bordered table-condensed\">\n",
       "<thead><tr><th>dSlitId</th><th>DesId</th><th>SlitName</th><th>slitRA</th><th>slitDec</th><th>slitTyp</th><th>slitLen</th><th>slitLPA</th><th>slitWid</th><th>slitWPA</th></tr></thead>\n",
       "<thead><tr><th>int32</th><th>int32</th><th>str20</th><th>float64</th><th>float64</th><th>str1</th><th>float32</th><th>float32</th><th>float32</th><th>float32</th></tr></thead>\n",
       "<tr><td>0</td><td>0</td><td>slit0</td><td>83.05182570861894</td><td>33.10103232613855</td><td>P</td><td>5.2967367</td><td>-20.449965</td><td>0.9970975</td><td>69.99877</td></tr>\n",
       "<tr><td>1</td><td>0</td><td>slit1</td><td>82.96718030685008</td><td>33.1881579452428</td><td>A</td><td>3.0024776</td><td>-19.659687</td><td>2.998215</td><td>69.99899</td></tr>\n",
       "<tr><td>2</td><td>0</td><td>slit2</td><td>82.97774370108544</td><td>33.10523642490038</td><td>A</td><td>3.0024583</td><td>-20.307901</td><td>2.9952068</td><td>69.99921</td></tr>\n",
       "<tr><td>3</td><td>0</td><td>slit3</td><td>82.94372479312733</td><td>33.18313140089716</td><td>A</td><td>3.002478</td><td>-19.663515</td><td>2.9992177</td><td>69.99899</td></tr>\n",
       "<tr><td>4</td><td>0</td><td>slit4</td><td>82.99492081742261</td><td>33.14047493937116</td><td>P</td><td>15.043181</td><td>-20.064709</td><td>0.99840593</td><td>69.99818</td></tr>\n",
       "<tr><td>...</td><td>...</td><td>...</td><td>...</td><td>...</td><td>...</td><td>...</td><td>...</td><td>...</td><td>...</td></tr>\n",
       "<tr><td>16</td><td>0</td><td>slit16</td><td>82.95401615177157</td><td>33.16603548655283</td><td>P</td><td>14.569629</td><td>-19.809109</td><td>0.9994198</td><td>70.0</td></tr>\n",
       "<tr><td>17</td><td>0</td><td>slit17</td><td>82.982139619685</td><td>33.111171948842276</td><td>P</td><td>22.64614</td><td>-20.26909</td><td>0.998417</td><td>69.999405</td></tr>\n",
       "<tr><td>18</td><td>0</td><td>slit18</td><td>83.02452522781232</td><td>33.10678070893373</td><td>P</td><td>12.680777</td><td>-20.365702</td><td>0.9976037</td><td>69.99877</td></tr>\n",
       "<tr><td>19</td><td>0</td><td>slit19</td><td>83.05522689400121</td><td>33.111213790250616</td><td>P</td><td>14.88429</td><td>-20.37761</td><td>0.99716115</td><td>70.0</td></tr>\n",
       "<tr><td>20</td><td>0</td><td>slit20</td><td>83.02986693627967</td><td>33.09823781232527</td><td>P</td><td>15.401297</td><td>-20.43874</td><td>0.99745643</td><td>69.996346</td></tr>\n",
       "<tr><td>21</td><td>0</td><td>slit21</td><td>82.98568425783222</td><td>33.2044980819786</td><td>P</td><td>49.894814</td><td>-19.563154</td><td>0.99920815</td><td>69.99849</td></tr>\n",
       "</table></div>"
      ],
      "text/plain": [
       "<Table length=22>\n",
       "dSlitId DesId SlitName       slitRA      ...  slitLPA    slitWid    slitWPA \n",
       " int32  int32  str20        float64      ...  float32    float32    float32 \n",
       "------- ----- -------- ----------------- ... ---------- ---------- ---------\n",
       "      0     0    slit0 83.05182570861894 ... -20.449965  0.9970975  69.99877\n",
       "      1     0    slit1 82.96718030685008 ... -19.659687   2.998215  69.99899\n",
       "      2     0    slit2 82.97774370108544 ... -20.307901  2.9952068  69.99921\n",
       "      3     0    slit3 82.94372479312733 ... -19.663515  2.9992177  69.99899\n",
       "      4     0    slit4 82.99492081742261 ... -20.064709 0.99840593  69.99818\n",
       "    ...   ...      ...               ... ...        ...        ...       ...\n",
       "     16     0   slit16 82.95401615177157 ... -19.809109  0.9994198      70.0\n",
       "     17     0   slit17   82.982139619685 ...  -20.26909   0.998417 69.999405\n",
       "     18     0   slit18 83.02452522781232 ... -20.365702  0.9976037  69.99877\n",
       "     19     0   slit19 83.05522689400121 ...  -20.37761 0.99716115      70.0\n",
       "     20     0   slit20 83.02986693627967 ...  -20.43874 0.99745643 69.996346\n",
       "     21     0   slit21 82.98568425783222 ... -19.563154 0.99920815  69.99849"
      ]
     },
     "execution_count": 4,
     "metadata": {},
     "output_type": "execute_result"
    }
   ],
   "source": [
    "desislits = Table(hdu['DesiSlits'].data)\n",
    "desislits"
   ]
  },
  {
   "cell_type": "code",
   "execution_count": 5,
   "id": "57b3e3e5-cec1-4e10-ac5c-6a339ca72156",
   "metadata": {},
   "outputs": [
    {
     "data": {
      "text/html": [
       "<div><i>Table length=22</i>\n",
       "<table id=\"table140692259647696\" class=\"table-striped table-bordered table-condensed\">\n",
       "<thead><tr><th>bSlitId</th><th>BluId</th><th>dSlitId</th><th>slitX1</th><th>slitY1</th><th>slitX2</th><th>slitY2</th><th>slitX3</th><th>slitY3</th><th>slitX4</th><th>slitY4</th></tr></thead>\n",
       "<thead><tr><th>int32</th><th>int32</th><th>int32</th><th>float64</th><th>float64</th><th>float64</th><th>float64</th><th>float64</th><th>float64</th><th>float64</th><th>float64</th></tr></thead>\n",
       "<tr><td>0</td><td>0</td><td>0</td><td>339.09845</td><td>185.559402</td><td>335.269012</td><td>185.529343</td><td>335.269043</td><td>184.808426</td><td>339.09845</td><td>184.838516</td></tr>\n",
       "<tr><td>1</td><td>0</td><td>1</td><td>61.87973</td><td>86.913528</td><td>59.708977</td><td>86.926407</td><td>59.708939</td><td>89.094131</td><td>61.879692</td><td>89.081223</td></tr>\n",
       "<tr><td>2</td><td>0</td><td>2</td><td>272.864807</td><td>34.428818</td><td>270.694061</td><td>34.41713</td><td>270.694031</td><td>36.582687</td><td>272.864777</td><td>36.59433</td></tr>\n",
       "<tr><td>3</td><td>0</td><td>3</td><td>56.734131</td><td>33.960922</td><td>54.563377</td><td>33.973663</td><td>54.563339</td><td>36.142105</td><td>56.734093</td><td>36.129349</td></tr>\n",
       "<tr><td>4</td><td>0</td><td>4</td><td>203.677124</td><td>102.656662</td><td>192.800919</td><td>102.644424</td><td>192.800934</td><td>101.922531</td><td>203.677155</td><td>101.93486</td></tr>\n",
       "<tr><td>...</td><td>...</td><td>...</td><td>...</td><td>...</td><td>...</td><td>...</td><td>...</td><td>...</td><td>...</td><td>...</td></tr>\n",
       "<tr><td>16</td><td>0</td><td>16</td><td>110.451965</td><td>41.108246</td><td>99.918182</td><td>41.143372</td><td>99.918182</td><td>40.420761</td><td>110.451965</td><td>40.385696</td></tr>\n",
       "<tr><td>17</td><td>0</td><td>17</td><td>268.698853</td><td>50.244232</td><td>252.325867</td><td>50.167374</td><td>252.325882</td><td>49.44548</td><td>268.698853</td><td>49.522415</td></tr>\n",
       "<tr><td>18</td><td>0</td><td>18</td><td>307.389282</td><td>134.091537</td><td>298.221252</td><td>134.033035</td><td>298.221283</td><td>133.311752</td><td>307.389282</td><td>133.370285</td></tr>\n",
       "<tr><td>19</td><td>0</td><td>19</td><td>320.144043</td><td>201.522293</td><td>309.382935</td><td>201.451401</td><td>309.382935</td><td>200.730423</td><td>320.144043</td><td>200.801376</td></tr>\n",
       "<tr><td>20</td><td>0</td><td>20</td><td>333.274963</td><td>137.684036</td><td>322.140137</td><td>137.598801</td><td>322.140198</td><td>136.877609</td><td>333.274994</td><td>136.962906</td></tr>\n",
       "<tr><td>21</td><td>0</td><td>21</td><td>52.56646</td><td>141.283463</td><td>16.493561</td><td>141.558578</td><td>16.493576</td><td>140.836075</td><td>52.566483</td><td>140.561111</td></tr>\n",
       "</table></div>"
      ],
      "text/plain": [
       "<Table length=22>\n",
       "bSlitId BluId dSlitId   slitX1   ...   slitY3     slitX4     slitY4  \n",
       " int32  int32  int32   float64   ...  float64    float64    float64  \n",
       "------- ----- ------- ---------- ... ---------- ---------- ----------\n",
       "      0     0       0  339.09845 ... 184.808426  339.09845 184.838516\n",
       "      1     0       1   61.87973 ...  89.094131  61.879692  89.081223\n",
       "      2     0       2 272.864807 ...  36.582687 272.864777   36.59433\n",
       "      3     0       3  56.734131 ...  36.142105  56.734093  36.129349\n",
       "      4     0       4 203.677124 ... 101.922531 203.677155  101.93486\n",
       "    ...   ...     ...        ... ...        ...        ...        ...\n",
       "     16     0      16 110.451965 ...  40.420761 110.451965  40.385696\n",
       "     17     0      17 268.698853 ...   49.44548 268.698853  49.522415\n",
       "     18     0      18 307.389282 ... 133.311752 307.389282 133.370285\n",
       "     19     0      19 320.144043 ... 200.730423 320.144043 200.801376\n",
       "     20     0      20 333.274963 ... 136.877609 333.274994 136.962906\n",
       "     21     0      21   52.56646 ... 140.836075  52.566483 140.561111"
      ]
     },
     "execution_count": 5,
     "metadata": {},
     "output_type": "execute_result"
    }
   ],
   "source": [
    "bluslits = Table(hdu['BluSlits'].data)\n",
    "bluslits"
   ]
  },
  {
   "cell_type": "markdown",
   "id": "bc77f6ee-c7fc-41a5-863a-aa7fb8a8e3fc",
   "metadata": {},
   "source": [
    "# Try loading with DEIMOS"
   ]
  },
  {
   "cell_type": "code",
   "execution_count": 6,
   "id": "2c078733-9e71-4bf2-bdaa-92fe074a27e9",
   "metadata": {},
   "outputs": [],
   "source": [
    "smask = slitmask.load_keck_deimoslris(tst_file, 'keck_lris')"
   ]
  },
  {
   "cell_type": "code",
   "execution_count": 7,
   "id": "e8e267b1-ac47-4a02-a4f3-045c30fb1c0d",
   "metadata": {},
   "outputs": [
    {
     "data": {
      "text/plain": [
       "(83.0057833333, 33.1521861111)"
      ]
     },
     "execution_count": 7,
     "metadata": {},
     "output_type": "execute_result"
    }
   ],
   "source": [
    "smask.mask_radec"
   ]
  },
  {
   "cell_type": "code",
   "execution_count": 8,
   "id": "5079628a-cd55-4e9a-9549-0832cdaac9de",
   "metadata": {},
   "outputs": [
    {
     "data": {
      "text/plain": [
       "340.0"
      ]
     },
     "execution_count": 8,
     "metadata": {},
     "output_type": "execute_result"
    }
   ],
   "source": [
    "smask.posx_pa"
   ]
  },
  {
   "cell_type": "markdown",
   "id": "4fd496f7-e252-4f4a-8144-1d08b901fc93",
   "metadata": {},
   "source": [
    "## Check a few things"
   ]
  },
  {
   "cell_type": "code",
   "execution_count": 9,
   "id": "875b32ec-c6a8-4aec-8df5-29c00c09740e",
   "metadata": {},
   "outputs": [
    {
     "data": {
      "text/plain": [
       "array([[339.09845 , 185.559402],\n",
       "       [ 61.87973 ,  86.913528],\n",
       "       [272.864807,  34.428818],\n",
       "       [ 56.734131,  33.960922],\n",
       "       [203.677124, 102.656662],\n",
       "       [169.022583, 143.884476],\n",
       "       [152.365616, 102.225754],\n",
       "       [129.222458, 146.409531],\n",
       "       [250.329025, 152.45311 ],\n",
       "       [237.692886, 158.587265],\n",
       "       [213.235657, 145.743027],\n",
       "       [224.602798, 181.359177],\n",
       "       [144.244339, 133.366928],\n",
       "       [190.804733, 170.32341 ],\n",
       "       [ 97.921089, 156.805984],\n",
       "       [296.226044, 150.410233],\n",
       "       [110.451965,  41.108246],\n",
       "       [268.698853,  50.244232],\n",
       "       [307.389282, 134.091537],\n",
       "       [320.144043, 201.522293],\n",
       "       [333.274963, 137.684036],\n",
       "       [ 52.56646 , 141.283463]])"
      ]
     },
     "execution_count": 9,
     "metadata": {},
     "output_type": "execute_result"
    }
   ],
   "source": [
    "smask.corners[:,0]"
   ]
  },
  {
   "cell_type": "code",
   "execution_count": 10,
   "id": "dd30f2cc-3600-4b1c-8052-198f53330216",
   "metadata": {},
   "outputs": [
    {
     "data": {
      "text/plain": [
       "array([ 0,  1,  2,  3,  4,  5,  6,  7,  8,  9, 10, 11, 12, 13, 14, 15, 16,\n",
       "       17, 18, 19, 20, 21], dtype=int32)"
      ]
     },
     "execution_count": 10,
     "metadata": {},
     "output_type": "execute_result"
    }
   ],
   "source": [
    "smask.slitid"
   ]
  },
  {
   "cell_type": "code",
   "execution_count": 11,
   "id": "41427068-9dd3-4c78-ba6b-fd0f33ab6edc",
   "metadata": {},
   "outputs": [
    {
     "data": {
      "text/plain": [
       "array([2, 1, 1, 1, 2, 2, 2, 2, 2, 2, 2, 2, 2, 2, 2, 2, 2, 2, 2, 2, 2, 2],\n",
       "      dtype=int16)"
      ]
     },
     "execution_count": 11,
     "metadata": {},
     "output_type": "execute_result"
    }
   ],
   "source": [
    "smask.mask"
   ]
  },
  {
   "cell_type": "code",
   "execution_count": 12,
   "id": "7a407873-6691-4d3a-a9e6-545c45a1934c",
   "metadata": {},
   "outputs": [
    {
     "data": {
      "text/plain": [
       "array([['0', '0', '83.05208425000001', '33.10055497', 'gal58', '21.133',\n",
       "        'I', '3.279334307858042', '0.5533701498574515'],\n",
       "       ['1', '1', '82.92800254000002', '33.20285065', 'star5', '15.71',\n",
       "        'I', '64.12288100592014', '66.29559388054942'],\n",
       "       ['2', '2', '83.07300215000001', '33.10208921', 'star8', '17.538',\n",
       "        'I', '79.76873878980466', '77.5960329151754'],\n",
       "       ['3', '3', '82.96721989000002', '33.18817003', 'star10', '14.747',\n",
       "        'I', '6.238064669504386', '4.065350794875176'],\n",
       "       ['4', '4', '82.99531792000002', '33.13966994', 'FRBhos', '20.5',\n",
       "        'I', '7.712915758594484', '3.173741906094889'],\n",
       "       ['5', '5', '83.00615674000002', '33.16074453', 'gal4', '20.81',\n",
       "        'I', '2.580674048760235', '12.095872073644555'],\n",
       "       ['6', '6', '82.98720701000003', '33.15791278', 'gal2', '20.617',\n",
       "        'I', '3.5465634651699625', '2.585094158717792'],\n",
       "       ['7', '7', '83.00139446000001', '33.17448474', 'gal17', '20.708',\n",
       "        'I', '7.29814121545977', '9.495056781574272'],\n",
       "       ['8', '8', '83.02365425000002', '33.12978308', 'gal21', '20.227',\n",
       "        'I', '6.119142810483487', '4.53240785420588'],\n",
       "       ['9', '9', '83.02407570000001', '33.13571864', 'gal19', '20.058',\n",
       "        'I', '4.978548472675596', '6.125991900470696'],\n",
       "       ['10', '10', '83.01505078000001', '33.14225963', 'gal7', '20.492',\n",
       "        'I', '3.1690661450405493', '4.40185877039033'],\n",
       "       ['11', '11', '83.03197226000002', '33.14299262', 'gal22',\n",
       "        '21.066', 'I', '4.394224989384018', '4.987800092219199'],\n",
       "       ['12', '12', '82.99910459000002', '33.16523337', 'gal6', '20.794',\n",
       "        'I', '9.48899498168446', '3.549482266091114'],\n",
       "       ['13', '13', '83.02156077000001', '33.15474278', 'gal11',\n",
       "        '20.128', 'I', '12.087777300084142', '7.718218863122281'],\n",
       "       ['14', '14', '83.00187846000001', '33.18486013', 'gal26',\n",
       "        '20.448', 'I', '30.833972035616807', '3.2457912499944426'],\n",
       "       ['15', '15', '83.02958061000001', '33.11355665', 'gal30',\n",
       "        '20.433', 'I', '15.119031778813797', '6.269005967478828'],\n",
       "       ['16', '16', '82.95373943000001', '33.16677844', 'gal28',\n",
       "        '20.562', 'I', '3.243970126655011', '7.299612246491282'],\n",
       "       ['17', '17', '82.98161133000004', '33.1125056', 'gal24', '20.579',\n",
       "        'I', '4.53059387094175', '11.858071126092305'],\n",
       "       ['18', '18', '83.02483048000002', '33.10619021', 'gal32',\n",
       "        '20.545', 'I', '6.263495900136415', '2.913026889923718'],\n",
       "       ['19', '19', '83.05488565000002', '33.11212192', 'gal49',\n",
       "        '19.989', 'I', '2.9045777660637278', '7.866982898625661'],\n",
       "       ['20', '20', '83.03026928000001', '33.09742814', 'gal45',\n",
       "        '20.902', 'I', '7.857717455235422', '3.287561209453992'],\n",
       "       ['21', '21', '82.98695610000001', '33.20166688', 'gal43',\n",
       "        '20.465', 'I', '25.941910791806432', '10.164959368434072']],\n",
       "      dtype='<U32')"
      ]
     },
     "execution_count": 12,
     "metadata": {},
     "output_type": "execute_result"
    }
   ],
   "source": [
    "smask.objects"
   ]
  },
  {
   "cell_type": "code",
   "execution_count": 13,
   "id": "cd8429a8-5837-4ea5-b441-0613a64764f0",
   "metadata": {},
   "outputs": [
    {
     "data": {
      "text/plain": [
       "array([[ 83.05182571,  33.10103233,   5.29673672,   0.99709749,\n",
       "        -20.44996452],\n",
       "       [ 82.96718031,  33.18815795,   3.00247765,   2.99821496,\n",
       "        -19.65968704],\n",
       "       [ 82.9777437 ,  33.10523642,   3.00245833,   2.99520683,\n",
       "        -20.30790138],\n",
       "       [ 82.94372479,  33.1831314 ,   3.00247788,   2.99921775,\n",
       "        -19.66351509],\n",
       "       [ 82.99492082,  33.14047494,  15.04318142,   0.99840593,\n",
       "        -20.06470871],\n",
       "       [ 83.00685759,  33.15901718,  20.28054428,   0.99844813,\n",
       "        -19.94126892],\n",
       "       [ 82.98709016,  33.15807336,   8.47273064,   0.99874413,\n",
       "        -19.91879463],\n",
       "       [ 83.00152514,  33.17407643,  23.20553207,   0.99863833,\n",
       "        -19.81855774],\n",
       "       [ 83.02348668,  33.1300557 ,  14.71805573,   0.99785751,\n",
       "        -20.1867466 ],\n",
       "       [ 83.02412197,  33.13549874,  15.34546375,   0.99789906,\n",
       "        -20.14617348],\n",
       "       [ 83.01510423,  33.14202449,  10.46251678,   0.99811065,\n",
       "        -20.08309937],\n",
       "       [ 83.03197546,  33.14287258,  12.96388149,   0.99783611,\n",
       "        -20.10167313],\n",
       "       [ 82.99859938,  33.16629119,  18.01763344,   0.99863833,\n",
       "        -19.87369156],\n",
       "       [ 83.02117768,  33.15551749,  27.36890793,   0.99819499,\n",
       "        -19.98926353],\n",
       "       [ 82.99968379,  33.18981955,  47.09299088,   0.99884921,\n",
       "        -19.69582558],\n",
       "       [ 83.02884603,  33.11513819,  29.55566978,   0.99764663,\n",
       "        -20.30844688],\n",
       "       [ 82.95401615,  33.16603549,  14.56962872,   0.99941981,\n",
       "        -19.80910873],\n",
       "       [ 82.98213962,  33.11117195,  22.64613914,   0.99841702,\n",
       "        -20.26909065],\n",
       "       [ 83.02452523,  33.10678071,  12.6807766 ,   0.99760371,\n",
       "        -20.36570168],\n",
       "       [ 83.05522689,  33.11121379,  14.88428974,   0.99716115,\n",
       "        -20.37760925],\n",
       "       [ 83.02986694,  33.09823781,  15.40129662,   0.99745643,\n",
       "        -20.43873978],\n",
       "       [ 82.98568426,  33.20449808,  49.89481354,   0.99920815,\n",
       "        -19.56315422]])"
      ]
     },
     "execution_count": 13,
     "metadata": {},
     "output_type": "execute_result"
    }
   ],
   "source": [
    "smask.onsky"
   ]
  },
  {
   "cell_type": "markdown",
   "id": "36ead4e9-047e-4cb5-8801-ba63d385b14f",
   "metadata": {},
   "source": [
    "# Fussing with corners"
   ]
  },
  {
   "cell_type": "code",
   "execution_count": 14,
   "id": "1aab812a-01ef-469c-b845-0862568647d6",
   "metadata": {},
   "outputs": [
    {
     "data": {
      "text/plain": [
       "(22, 4, 2)"
      ]
     },
     "execution_count": 14,
     "metadata": {},
     "output_type": "execute_result"
    }
   ],
   "source": [
    "smask.corners.shape"
   ]
  },
  {
   "cell_type": "code",
   "execution_count": 15,
   "id": "58d91ef6-effd-4236-a666-d8bfdfad1a81",
   "metadata": {},
   "outputs": [
    {
     "data": {
      "text/plain": [
       "array([[129.222458, 146.409531],\n",
       "       [112.444939, 146.462692],\n",
       "       [112.444962, 145.740646],\n",
       "       [129.222473, 145.687546]])"
      ]
     },
     "execution_count": 15,
     "metadata": {},
     "output_type": "execute_result"
    }
   ],
   "source": [
    "smask.corners[7,...]"
   ]
  },
  {
   "cell_type": "markdown",
   "id": "7c6dde3c-3bd0-4f22-af08-4ac4a195acaf",
   "metadata": {},
   "source": [
    "## Increasing in x?"
   ]
  },
  {
   "cell_type": "code",
   "execution_count": 16,
   "id": "58405f8d-243e-4046-a933-dee4b4af0f98",
   "metadata": {},
   "outputs": [
    {
     "data": {
      "text/plain": [
       "array([339.09845 ,  61.87973 , 272.864807,  56.734131, 203.677124,\n",
       "       169.022583, 152.365616, 129.222458, 250.329025, 237.692886,\n",
       "       213.235657, 224.602798, 144.244339, 190.804733,  97.921089,\n",
       "       296.226044, 110.451965, 268.698853, 307.389282, 320.144043,\n",
       "       333.274963,  52.56646 ])"
      ]
     },
     "execution_count": 16,
     "metadata": {},
     "output_type": "execute_result"
    }
   ],
   "source": [
    "smask.corners[:,0,0]"
   ]
  },
  {
   "cell_type": "code",
   "execution_count": 17,
   "id": "da78224a-37df-4b6e-b17c-9362f701e724",
   "metadata": {},
   "outputs": [
    {
     "data": {
      "text/plain": [
       "array([185.559402,  86.913528,  34.428818,  33.960922, 102.656662,\n",
       "       143.884476, 102.225754, 146.409531, 152.45311 , 158.587265,\n",
       "       145.743027, 181.359177, 133.366928, 170.32341 , 156.805984,\n",
       "       150.410233,  41.108246,  50.244232, 134.091537, 201.522293,\n",
       "       137.684036, 141.283463])"
      ]
     },
     "execution_count": 17,
     "metadata": {},
     "output_type": "execute_result"
    }
   ],
   "source": [
    "smask.corners[:,0,1]"
   ]
  },
  {
   "cell_type": "code",
   "execution_count": 18,
   "id": "1032cbef-a452-4c7a-9757-868ea7a099d5",
   "metadata": {},
   "outputs": [],
   "source": [
    "x_order = np.argsort(smask.corners[:,1,0])"
   ]
  },
  {
   "cell_type": "code",
   "execution_count": 19,
   "id": "791ffebd-7b4b-4611-9a39-83a1c4bd1e53",
   "metadata": {},
   "outputs": [
    {
     "data": {
      "text/plain": [
       "array([ 52.56646 ,  56.734131,  61.87973 ,  97.921089, 110.451965,\n",
       "       129.222458, 144.244339, 152.365616, 169.022583, 190.804733,\n",
       "       203.677124, 213.235657, 224.602798, 237.692886, 250.329025,\n",
       "       268.698853, 272.864807, 296.226044, 307.389282, 320.144043,\n",
       "       333.274963, 339.09845 ])"
      ]
     },
     "execution_count": 19,
     "metadata": {},
     "output_type": "execute_result"
    }
   ],
   "source": [
    "smask.corners[x_order,0,0]"
   ]
  },
  {
   "cell_type": "code",
   "execution_count": 20,
   "id": "51ea5a93-ba15-487c-948d-8bceb2a1df17",
   "metadata": {},
   "outputs": [
    {
     "data": {
      "text/plain": [
       "0"
      ]
     },
     "execution_count": 20,
     "metadata": {},
     "output_type": "execute_result"
    }
   ],
   "source": [
    "x_order[-1]"
   ]
  },
  {
   "cell_type": "code",
   "execution_count": 21,
   "id": "e1422e56-e67f-4315-960d-e24437bca82d",
   "metadata": {},
   "outputs": [
    {
     "data": {
      "text/plain": [
       "array(['0', '0', '83.05208425000001', '33.10055497', 'gal58', '21.133',\n",
       "       'I', '3.279334307858042', '0.5533701498574515'], dtype='<U32')"
      ]
     },
     "execution_count": 21,
     "metadata": {},
     "output_type": "execute_result"
    }
   ],
   "source": [
    "smask.objects[0,:]"
   ]
  },
  {
   "cell_type": "code",
   "execution_count": 24,
   "id": "c7b940cf-22b2-4d1e-98d8-62c643c2a16c",
   "metadata": {},
   "outputs": [
    {
     "data": {
      "text/plain": [
       "array(['21', '21', '82.98695610000001', '33.20166688', 'gal43', '20.465',\n",
       "       'I', '25.941910791806432', '10.164959368434072'], dtype='<U32')"
      ]
     },
     "execution_count": 24,
     "metadata": {},
     "output_type": "execute_result"
    }
   ],
   "source": [
    "smask.objects[21,:]"
   ]
  },
  {
   "cell_type": "markdown",
   "id": "7659bff0-1cf8-48cf-9632-12dfa9ab5802",
   "metadata": {},
   "source": [
    "----"
   ]
  },
  {
   "cell_type": "markdown",
   "id": "30cde1ae-fea1-4ed7-8c3d-d17fa8bff79b",
   "metadata": {},
   "source": [
    "# Mask Design"
   ]
  },
  {
   "cell_type": "code",
   "execution_count": 35,
   "id": "1c074cbb-917d-4429-8c42-a0768b9ffa33",
   "metadata": {},
   "outputs": [
    {
     "data": {
      "text/html": [
       "<div><i>Table length=1</i>\n",
       "<table id=\"table139953310702464\" class=\"table-striped table-bordered table-condensed\">\n",
       "<thead><tr><th>DesId</th><th>DesName</th><th>DesAuth</th><th>DesCreat</th><th>DesDate</th><th>DesNslit</th><th>DesNobj</th><th>ProjName</th><th>INSTRUME</th><th>MaskType</th><th>RA_PNT</th><th>DEC_PNT</th><th>RADEPNT</th><th>EQUINPNT</th><th>PA_PNT</th><th>DATE_PNT</th><th>LST_PNT</th></tr></thead>\n",
       "<thead><tr><th>int32</th><th>str68</th><th>str68</th><th>str68</th><th>str19</th><th>int32</th><th>int32</th><th>str68</th><th>str68</th><th>str68</th><th>float64</th><th>float64</th><th>str8</th><th>float32</th><th>float64</th><th>str19</th><th>float32</th></tr></thead>\n",
       "<tr><td>0</td><td>frb121102_mask2.file3</td><td>J. R. Troll &lt;shassans@ucsc.edu&gt;</td><td>Autoslit 3.2</td><td>2020-01-12T22:12:51</td><td>23</td><td>0</td><td>frb121102_m</td><td>LRIS</td><td>Autoslit</td><td>83.00765</td><td>33.1459863889</td><td></td><td>2000.0</td><td>-80.0</td><td>2000-01-01T05:00:00</td><td>83.00765</td></tr>\n",
       "</table></div>"
      ],
      "text/plain": [
       "<Table length=1>\n",
       "DesId        DesName        ...       DATE_PNT      LST_PNT \n",
       "int32         str68         ...        str19        float32 \n",
       "----- --------------------- ... ------------------- --------\n",
       "    0 frb121102_mask2.file3 ... 2000-01-01T05:00:00 83.00765"
      ]
     },
     "execution_count": 35,
     "metadata": {},
     "output_type": "execute_result"
    }
   ],
   "source": [
    "Table(hdu['MaskDesign'].data)"
   ]
  },
  {
   "cell_type": "markdown",
   "id": "37c9fdba-d727-4e79-a027-1b0912d2bbe0",
   "metadata": {},
   "source": [
    "## RA"
   ]
  },
  {
   "cell_type": "code",
   "execution_count": 37,
   "id": "aa61cfca-e463-4170-b07f-2a1a69201805",
   "metadata": {},
   "outputs": [
    {
     "data": {
      "text/plain": [
       "array([82.93779765, 82.96722232, 83.07389766, 83.07527971, 83.00983276,\n",
       "       82.9785294 , 82.94376722, 83.00308322, 82.9909731 , 83.01743658,\n",
       "       83.02639843, 83.04926203, 82.97033667, 83.001686  , 83.0399412 ,\n",
       "       83.03646298, 83.07130494, 83.04861165, 83.05894575, 82.93625323,\n",
       "       83.0237547 , 83.06385427, 83.08086559])"
      ]
     },
     "execution_count": 37,
     "metadata": {},
     "output_type": "execute_result"
    }
   ],
   "source": [
    "smask.onsky[:,0]"
   ]
  },
  {
   "cell_type": "markdown",
   "id": "cd011bd6-367c-43b2-aa78-c385f4b83d57",
   "metadata": {},
   "source": [
    "## Dec"
   ]
  },
  {
   "cell_type": "code",
   "execution_count": 39,
   "id": "8916c6db-3571-4961-bc20-6bc9caa880c0",
   "metadata": {},
   "outputs": [
    {
     "data": {
      "text/plain": [
       "array([33.11788953, 33.18815507, 33.14151319, 33.1617532 , 33.16019118,\n",
       "       33.16688312, 33.18312512, 33.16516697, 33.17392007, 33.14220542,\n",
       "       33.14260651, 33.14859547, 33.17685819, 33.18487748, 33.1246123 ,\n",
       "       33.13264118, 33.1617158 , 33.12465476, 33.14944078, 33.1289471 ,\n",
       "       33.10120439, 33.14804429, 33.15241174])"
      ]
     },
     "execution_count": 39,
     "metadata": {},
     "output_type": "execute_result"
    }
   ],
   "source": [
    "smask.onsky[:,1]"
   ]
  },
  {
   "cell_type": "code",
   "execution_count": null,
   "id": "c0a63573-63df-4b80-925b-cbe4388b15b5",
   "metadata": {},
   "outputs": [],
   "source": []
  }
 ],
 "metadata": {
  "kernelspec": {
   "display_name": "Python 3 (ipykernel)",
   "language": "python",
   "name": "python3"
  },
  "language_info": {
   "codemirror_mode": {
    "name": "ipython",
    "version": 3
   },
   "file_extension": ".py",
   "mimetype": "text/x-python",
   "name": "python",
   "nbconvert_exporter": "python",
   "pygments_lexer": "ipython3",
   "version": "3.9.9"
  }
 },
 "nbformat": 4,
 "nbformat_minor": 5
}
