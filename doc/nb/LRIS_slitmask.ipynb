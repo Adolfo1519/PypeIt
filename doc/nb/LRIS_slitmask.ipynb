{
 "cells": [
  {
   "cell_type": "markdown",
   "id": "87451a63-c38b-4d22-807a-2cf9bf842f8a",
   "metadata": {},
   "source": [
    "# LRIS slit mask"
   ]
  },
  {
   "cell_type": "code",
   "execution_count": 1,
   "id": "a11f7e22-6225-428f-be21-e1ff9658d221",
   "metadata": {},
   "outputs": [],
   "source": [
    "# imports\n",
    "\n",
    "from astropy.io import fits\n",
    "from astropy.table import Table\n",
    "\n",
    "from pypeit.spectrographs import util"
   ]
  },
  {
   "cell_type": "markdown",
   "id": "b1f87e60-6afa-461b-86f4-6cfbec837be0",
   "metadata": {},
   "source": [
    "# Load up an example"
   ]
  },
  {
   "cell_type": "code",
   "execution_count": 2,
   "id": "72ccad4d-006f-49a2-be14-84c3b4df208e",
   "metadata": {},
   "outputs": [],
   "source": [
    "tst_file = '/home/xavier/Projects/PypeIt-codes/PypeIt-development-suite/dev_algorithms/lris/slitmask/test_190714_mask2_trace.fits.gz'"
   ]
  },
  {
   "cell_type": "code",
   "execution_count": 3,
   "id": "2e79fd05-7799-4358-a61d-5e45b052edd8",
   "metadata": {},
   "outputs": [
    {
     "name": "stdout",
     "output_type": "stream",
     "text": [
      "Filename: /home/xavier/Projects/PypeIt-codes/PypeIt-development-suite/dev_algorithms/lris/slitmask/test_190714_mask2_trace.fits.gz\n",
      "No.    Name      Ver    Type      Cards   Dimensions   Format\n",
      "  0  PRIMARY       1 PrimaryHDU     270   ()      \n",
      "  1  VidInp2       1 ImageHDU       359   (1067, 2068)   int16 (rescales to uint16)   \n",
      "  2  VidInp4       1 ImageHDU       359   (1067, 2068)   int16 (rescales to uint16)   \n",
      "  3  ObjectCat     1 BinTableHDU     51   25R x 19C   [6A, K, D, D, 1A, D, D, D, 1A, D, D, D, D, D, D, D, D, 14A, K]   \n",
      "  4  CatFiles      1 BinTableHDU     19   0R x 2C   [1J, 255A]   \n",
      "  5  MaskDesign    1 BinTableHDU     69   1R x 17C   [1J, 68A, 68A, 68A, 19A, 1J, 1J, 68A, 68A, 68A, 1D, 1D, 8A, 1E, 1D, 19A, 1E]   \n",
      "  6  DesiSlits     1 BinTableHDU     49   25R x 10C   [1J, 1J, 20A, 1D, 1D, 1A, 1E, 1E, 1E, 1E]   \n",
      "  7  SlitObjMap    1 BinTableHDU     23   25R x 5C   [K, K, K, D, D]   \n",
      "  8  MaskBlu       1 BinTableHDU     69   1R x 17C   [1J, 1J, 68A, 68A, 68A, 19A, 1E, 19A, 68A, 68A, 1E, 1E, 1E, 1E, 1E, 68A, 8A]   \n",
      "  9  BluSlits      1 BinTableHDU     54   25R x 11C   [1J, 1J, 1J, 1D, 1D, 1D, 1D, 1D, 1D, 1D, 1D]   \n",
      " 10  RDBmap        1 BinTableHDU     28   77R x 5C   [32A, 1A, 16A, 32A, 32A]   \n"
     ]
    }
   ],
   "source": [
    "hdu = fits.open(tst_file)\n",
    "hdu.info()"
   ]
  },
  {
   "cell_type": "markdown",
   "id": "15eeb751-fd8a-480a-8c7f-233a4fdd5f31",
   "metadata": {},
   "source": [
    "## Tables"
   ]
  },
  {
   "cell_type": "code",
   "execution_count": 4,
   "id": "66903c0c-240f-4b3d-bb5f-f8e864f0a93d",
   "metadata": {},
   "outputs": [
    {
     "data": {
      "text/html": [
       "<div><i>Table length=25</i>\n",
       "<table id=\"table140222126309440\" class=\"table-striped table-bordered table-condensed\">\n",
       "<thead><tr><th>dSlitId</th><th>DesId</th><th>SlitName</th><th>slitRA</th><th>slitDec</th><th>slitTyp</th><th>slitLen</th><th>slitLPA</th><th>slitWid</th><th>slitWPA</th></tr></thead>\n",
       "<thead><tr><th>int32</th><th>int32</th><th>str20</th><th>float64</th><th>float64</th><th>str1</th><th>float32</th><th>float32</th><th>float32</th><th>float32</th></tr></thead>\n",
       "<tr><td>0</td><td>0</td><td>slit0</td><td>183.92207514243304</td><td>-13.070334597502294</td><td>A</td><td>3.0025303</td><td>59.545315</td><td>2.9924316</td><td>149.99878</td></tr>\n",
       "<tr><td>1</td><td>0</td><td>slit1</td><td>183.91593254290657</td><td>-13.037196089125626</td><td>A</td><td>3.0025065</td><td>59.6043</td><td>2.9944468</td><td>149.9988</td></tr>\n",
       "<tr><td>2</td><td>0</td><td>slit2</td><td>184.00503849510343</td><td>-13.059785992506692</td><td>A</td><td>3.002448</td><td>60.15949</td><td>2.994648</td><td>149.9988</td></tr>\n",
       "<tr><td>3</td><td>0</td><td>slit3</td><td>183.98996234295862</td><td>-13.040812814769433</td><td>P</td><td>14.731228</td><td>60.1118</td><td>0.9985111</td><td>149.99814</td></tr>\n",
       "<tr><td>4</td><td>0</td><td>slit4</td><td>184.02647939802435</td><td>-13.039654866804073</td><td>P</td><td>26.42586</td><td>60.371243</td><td>0.9987434</td><td>149.99846</td></tr>\n",
       "<tr><td>...</td><td>...</td><td>...</td><td>...</td><td>...</td><td>...</td><td>...</td><td>...</td><td>...</td><td>...</td></tr>\n",
       "<tr><td>19</td><td>0</td><td>slit19</td><td>184.0351228016422</td><td>-13.020519076379763</td><td>P</td><td>7.069542</td><td>60.490738</td><td>0.99920815</td><td>149.99821</td></tr>\n",
       "<tr><td>20</td><td>0</td><td>slit20</td><td>183.96271381720615</td><td>-13.070620196179464</td><td>P</td><td>33.61691</td><td>59.82896</td><td>0.997731</td><td>149.99881</td></tr>\n",
       "<tr><td>21</td><td>0</td><td>slit21</td><td>183.93942492454934</td><td>-13.058532042261335</td><td>P</td><td>8.42839</td><td>59.703014</td><td>0.9977939</td><td>149.99876</td></tr>\n",
       "<tr><td>22</td><td>0</td><td>slit22</td><td>183.92775152991237</td><td>-13.03251455728324</td><td>P</td><td>8.841123</td><td>59.701153</td><td>0.9983216</td><td>149.99876</td></tr>\n",
       "<tr><td>23</td><td>0</td><td>slit23</td><td>184.03254100259292</td><td>-13.022762851938852</td><td>P</td><td>11.204954</td><td>60.465782</td><td>0.99914455</td><td>149.99817</td></tr>\n",
       "<tr><td>24</td><td>0</td><td>slit24</td><td>183.9082211449927</td><td>-13.035569082956373</td><td>P</td><td>32.519108</td><td>59.555153</td><td>0.99815285</td><td>149.99881</td></tr>\n",
       "</table></div>"
      ],
      "text/plain": [
       "<Table length=25>\n",
       "dSlitId DesId SlitName       slitRA       ...  slitLPA   slitWid    slitWPA \n",
       " int32  int32  str20        float64       ...  float32   float32    float32 \n",
       "------- ----- -------- ------------------ ... --------- ---------- ---------\n",
       "      0     0    slit0 183.92207514243304 ... 59.545315  2.9924316 149.99878\n",
       "      1     0    slit1 183.91593254290657 ...   59.6043  2.9944468  149.9988\n",
       "      2     0    slit2 184.00503849510343 ...  60.15949   2.994648  149.9988\n",
       "      3     0    slit3 183.98996234295862 ...   60.1118  0.9985111 149.99814\n",
       "      4     0    slit4 184.02647939802435 ... 60.371243  0.9987434 149.99846\n",
       "    ...   ...      ...                ... ...       ...        ...       ...\n",
       "     19     0   slit19  184.0351228016422 ... 60.490738 0.99920815 149.99821\n",
       "     20     0   slit20 183.96271381720615 ...  59.82896   0.997731 149.99881\n",
       "     21     0   slit21 183.93942492454934 ... 59.703014  0.9977939 149.99876\n",
       "     22     0   slit22 183.92775152991237 ... 59.701153  0.9983216 149.99876\n",
       "     23     0   slit23 184.03254100259292 ... 60.465782 0.99914455 149.99817\n",
       "     24     0   slit24  183.9082211449927 ... 59.555153 0.99815285 149.99881"
      ]
     },
     "execution_count": 4,
     "metadata": {},
     "output_type": "execute_result"
    }
   ],
   "source": [
    "desislits = Table(hdu['DesiSlits'].data)\n",
    "desislits"
   ]
  },
  {
   "cell_type": "code",
   "execution_count": 5,
   "id": "57b3e3e5-cec1-4e10-ac5c-6a339ca72156",
   "metadata": {},
   "outputs": [
    {
     "data": {
      "text/html": [
       "<div><i>Table length=25</i>\n",
       "<table id=\"table140224003337568\" class=\"table-striped table-bordered table-condensed\">\n",
       "<thead><tr><th>bSlitId</th><th>BluId</th><th>dSlitId</th><th>slitX1</th><th>slitY1</th><th>slitX2</th><th>slitY2</th><th>slitX3</th><th>slitY3</th><th>slitX4</th><th>slitY4</th></tr></thead>\n",
       "<thead><tr><th>int32</th><th>int32</th><th>int32</th><th>float64</th><th>float64</th><th>float64</th><th>float64</th><th>float64</th><th>float64</th><th>float64</th><th>float64</th></tr></thead>\n",
       "<tr><td>0</td><td>0</td><td>0</td><td>333.569763</td><td>130.780899</td><td>331.398987</td><td>130.763657</td><td>331.398956</td><td>132.9272</td><td>333.569702</td><td>132.944412</td></tr>\n",
       "<tr><td>1</td><td>0</td><td>1</td><td>303.900085</td><td>47.452805</td><td>301.729309</td><td>47.43779</td><td>301.729279</td><td>49.602798</td><td>303.900024</td><td>49.617767</td></tr>\n",
       "<tr><td>2</td><td>0</td><td>2</td><td>137.45639</td><td>212.316666</td><td>135.285629</td><td>212.322708</td><td>135.285583</td><td>214.487839</td><td>137.456345</td><td>214.481796</td></tr>\n",
       "<tr><td>3</td><td>0</td><td>3</td><td>150.103088</td><td>151.350082</td><td>139.452423</td><td>151.370895</td><td>139.452454</td><td>150.648941</td><td>150.103104</td><td>150.628189</td></tr>\n",
       "<tr><td>4</td><td>0</td><td>4</td><td>72.551094</td><td>195.732437</td><td>53.445602</td><td>195.856277</td><td>53.445618</td><td>195.13414</td><td>72.551117</td><td>195.010391</td></tr>\n",
       "<tr><td>...</td><td>...</td><td>...</td><td>...</td><td>...</td><td>...</td><td>...</td><td>...</td><td>...</td><td>...</td><td>...</td></tr>\n",
       "<tr><td>19</td><td>0</td><td>19</td><td>21.604248</td><td>163.666336</td><td>16.493149</td><td>163.710129</td><td>16.493179</td><td>162.987686</td><td>21.604263</td><td>162.943924</td></tr>\n",
       "<tr><td>20</td><td>0</td><td>20</td><td>255.676773</td><td>184.322403</td><td>231.371857</td><td>184.249893</td><td>231.371872</td><td>183.528488</td><td>255.676788</td><td>183.601089</td></tr>\n",
       "<tr><td>21</td><td>0</td><td>21</td><td>282.012909</td><td>127.240952</td><td>275.91925</td><td>127.209396</td><td>275.919281</td><td>126.487961</td><td>282.012909</td><td>126.519577</td></tr>\n",
       "<tr><td>22</td><td>0</td><td>22</td><td>273.92572</td><td>53.181839</td><td>267.533691</td><td>53.148514</td><td>267.533691</td><td>52.426712</td><td>273.925751</td><td>52.460068</td></tr>\n",
       "<tr><td>23</td><td>0</td><td>23</td><td>31.700027</td><td>165.378036</td><td>23.599121</td><td>165.443924</td><td>23.599136</td><td>164.721512</td><td>31.700058</td><td>164.655685</td></tr>\n",
       "<tr><td>24</td><td>0</td><td>24</td><td>329.405823</td><td>35.543076</td><td>305.895233</td><td>35.36058</td><td>305.895233</td><td>34.63887</td><td>329.405853</td><td>34.821457</td></tr>\n",
       "</table></div>"
      ],
      "text/plain": [
       "<Table length=25>\n",
       "bSlitId BluId dSlitId   slitX1   ...   slitY3     slitX4     slitY4  \n",
       " int32  int32  int32   float64   ...  float64    float64    float64  \n",
       "------- ----- ------- ---------- ... ---------- ---------- ----------\n",
       "      0     0       0 333.569763 ...   132.9272 333.569702 132.944412\n",
       "      1     0       1 303.900085 ...  49.602798 303.900024  49.617767\n",
       "      2     0       2  137.45639 ... 214.487839 137.456345 214.481796\n",
       "      3     0       3 150.103088 ... 150.648941 150.103104 150.628189\n",
       "      4     0       4  72.551094 ...  195.13414  72.551117 195.010391\n",
       "    ...   ...     ...        ... ...        ...        ...        ...\n",
       "     19     0      19  21.604248 ... 162.987686  21.604263 162.943924\n",
       "     20     0      20 255.676773 ... 183.528488 255.676788 183.601089\n",
       "     21     0      21 282.012909 ... 126.487961 282.012909 126.519577\n",
       "     22     0      22  273.92572 ...  52.426712 273.925751  52.460068\n",
       "     23     0      23  31.700027 ... 164.721512  31.700058 164.655685\n",
       "     24     0      24 329.405823 ...   34.63887 329.405853  34.821457"
      ]
     },
     "execution_count": 5,
     "metadata": {},
     "output_type": "execute_result"
    }
   ],
   "source": [
    "bluslits = Table(hdu['BluSlits'].data)\n",
    "bluslits"
   ]
  },
  {
   "cell_type": "markdown",
   "id": "bc77f6ee-c7fc-41a5-863a-aa7fb8a8e3fc",
   "metadata": {},
   "source": [
    "# Try loading with DEIMOS"
   ]
  },
  {
   "cell_type": "code",
   "execution_count": 6,
   "id": "ef253f70-c6a4-4987-9824-ab5c304d16b9",
   "metadata": {},
   "outputs": [],
   "source": [
    "spec = util.load_spectrograph('keck_deimos')"
   ]
  },
  {
   "cell_type": "code",
   "execution_count": 7,
   "id": "2c078733-9e71-4bf2-bdaa-92fe074a27e9",
   "metadata": {},
   "outputs": [
    {
     "name": "stdout",
     "output_type": "stream",
     "text": [
      "Python 3.9.9 | packaged by conda-forge | (main, Dec 20 2021, 02:41:03) \n",
      "Type 'copyright', 'credits' or 'license' for more information\n",
      "IPython 7.30.1 -- An enhanced Interactive Python. Type '?' for help.\n",
      "\n",
      "\n",
      "832 of keck_deimos\n",
      "\n"
     ]
    },
    {
     "name": "stdin",
     "output_type": "stream",
     "text": [
      "In [1]:  indx\n"
     ]
    },
    {
     "name": "stdout",
     "output_type": "stream",
     "text": [
      "Out[1]: \n",
      "array([ 0,  1,  2,  3,  4,  5,  6,  7,  8,  9, 10, 11, 12, 13, 14, 15, 16,\n",
      "       17, 18, 19, 20, 21, 22, 23, 24])\n",
      "\n"
     ]
    },
    {
     "name": "stdin",
     "output_type": "stream",
     "text": [
      "In [2]:  hdu['DesiSlits'].data['slitTyp'][indx] == 'A'\n"
     ]
    },
    {
     "name": "stdout",
     "output_type": "stream",
     "text": [
      "Out[2]: \n",
      "array([ True,  True,  True, False, False, False, False, False, False,\n",
      "       False, False, False, False, False, False, False, False, False,\n",
      "       False, False, False, False, False, False, False])\n",
      "\n"
     ]
    },
    {
     "name": "stdin",
     "output_type": "stream",
     "text": [
      "In [3]:  exit\n"
     ]
    },
    {
     "name": "stdout",
     "output_type": "stream",
     "text": [
      "\n"
     ]
    }
   ],
   "source": [
    "slitmask = spec.get_slitmask(tst_file)"
   ]
  },
  {
   "cell_type": "markdown",
   "id": "4fd496f7-e252-4f4a-8144-1d08b901fc93",
   "metadata": {},
   "source": [
    "## Check a few things"
   ]
  },
  {
   "cell_type": "code",
   "execution_count": 8,
   "id": "875b32ec-c6a8-4aec-8df5-29c00c09740e",
   "metadata": {},
   "outputs": [
    {
     "data": {
      "text/plain": [
       "array([[333.569763, 130.780899],\n",
       "       [303.900085,  47.452805],\n",
       "       [137.45639 , 212.316666],\n",
       "       [150.103088, 151.350082],\n",
       "       [ 72.551094, 195.732437],\n",
       "       [158.822021,  88.421677],\n",
       "       [120.717033, 110.545242],\n",
       "       [180.720154, 103.011093],\n",
       "       [229.378494,  99.755417],\n",
       "       [299.733795,  80.219925],\n",
       "       [108.041054, 114.303879],\n",
       "       [133.291504, 168.598709],\n",
       "       [ 98.805061, 117.030563],\n",
       "       [203.916153,  65.765686],\n",
       "       [ 90.612259, 140.929733],\n",
       "       [ 51.451302, 163.1465  ],\n",
       "       [ 40.19548 , 104.878952],\n",
       "       [265.536438, 176.564468],\n",
       "       [290.829376,  76.023483],\n",
       "       [ 21.604248, 163.666336],\n",
       "       [255.676773, 184.322403],\n",
       "       [282.012909, 127.240952],\n",
       "       [273.92572 ,  53.181839],\n",
       "       [ 31.700027, 165.378036],\n",
       "       [329.405823,  35.543076]])"
      ]
     },
     "execution_count": 8,
     "metadata": {},
     "output_type": "execute_result"
    }
   ],
   "source": [
    "slitmask.corners[:,0]"
   ]
  },
  {
   "cell_type": "code",
   "execution_count": 13,
   "id": "dd30f2cc-3600-4b1c-8052-198f53330216",
   "metadata": {},
   "outputs": [
    {
     "data": {
      "text/plain": [
       "array([ 0,  1,  2,  3,  4,  5,  6,  7,  8,  9, 10, 11, 12, 13, 14, 15, 16,\n",
       "       17, 18, 19, 20, 21, 22, 23, 24], dtype=int32)"
      ]
     },
     "execution_count": 13,
     "metadata": {},
     "output_type": "execute_result"
    }
   ],
   "source": [
    "slitmask.slitid"
   ]
  },
  {
   "cell_type": "code",
   "execution_count": 10,
   "id": "41427068-9dd3-4c78-ba6b-fd0f33ab6edc",
   "metadata": {},
   "outputs": [
    {
     "data": {
      "text/plain": [
       "array([1, 1, 1, 2, 2, 2, 2, 2, 2, 2, 2, 2, 2, 2, 2, 2, 2, 2, 2, 2, 2, 2,\n",
       "       2, 2, 2], dtype=int16)"
      ]
     },
     "execution_count": 10,
     "metadata": {},
     "output_type": "execute_result"
    }
   ],
   "source": [
    "slitmask.mask"
   ]
  },
  {
   "cell_type": "code",
   "execution_count": 13,
   "id": "7a407873-6691-4d3a-a9e6-545c45a1934c",
   "metadata": {},
   "outputs": [
    {
     "data": {
      "text/plain": [
       "array([['0', '0', '183.92211101000007', '-13.07029395', 'star3',\n",
       "        '14.011', 'I', '0.9547859230119504', '1.2179499516173744'],\n",
       "       ['1', '1', '183.91596834000003', '-13.03715467', 'star4',\n",
       "        '14.298', 'I', '0.9532420955272531', '1.2194937791019864'],\n",
       "       ['2', '2', '184.00507430000005', '-13.05974667', 'star6',\n",
       "        '14.894', 'I', '0.9562885108541208', '1.2170856553182376'],\n",
       "       ['3', '3', '183.98954220000002', '-13.04103016', 'gal13',\n",
       "        '19.981', 'I', '6.538777509302817', '4.122340155386561'],\n",
       "       ['4', '4', '184.02767930000002', '-13.03896142', 'gal36',\n",
       "        '22.386', 'I', '6.016379638323512', '13.106751233339795'],\n",
       "       ['5', '5', '183.97383420000003', '-13.02218565', 'gal2', '21.779',\n",
       "        'I', '3.8583586929449494', '2.870359930942837'],\n",
       "       ['6', '6', '183.99243883000003', '-13.02141494', 'gal5', '21.681',\n",
       "        'I', '4.0164546573430675', '6.6749670073463045'],\n",
       "       ['7', '7', '183.97414279000003', '-13.02843435', 'gal4', '20.981',\n",
       "        'I', '2.6060023350595216', '17.316431119689973'],\n",
       "       ['8', '8', '183.95766874000003', '-13.03624051', 'gal18',\n",
       "        '22.987', 'I', '3.903586242052917', '19.58668867041202'],\n",
       "       ['9', '9', '183.92410373000004', '-13.04638045', 'gal49',\n",
       "        '20.466', 'I', '3.994429285992447', '2.9216796294383647'],\n",
       "       ['10', '10', '183.99667295000003', '-13.02066653', 'gal6',\n",
       "        '21.923', 'I', '2.967589741243123', '4.279948174187745'],\n",
       "       ['11', '11', '183.99866331000004', '-13.04347134', 'gal21',\n",
       "        '22.349', 'I', '6.412061795490449', '4.179025869198919'],\n",
       "       ['12', '12', '183.99999161000005', '-13.01998196', 'gal9',\n",
       "        '17.818', 'I', '2.971958613490392', '3.2313240103973953'],\n",
       "       ['13', '13', '183.95446204000004', '-13.02311154', 'gal17',\n",
       "        '18.283', 'I', '17.05140274516856', '4.1685740011240355'],\n",
       "       ['14', '14', '184.00745401000003', '-13.02627847', 'gal20',\n",
       "        '19.248', 'I', '12.845110657486972', '3.2351240480040087'],\n",
       "       ['15', '15', '184.02614691000002', '-13.02542752', 'gal32',\n",
       "        '21.434', 'I', '2.9926003495414273', '6.277863440518721'],\n",
       "       ['16', '16', '184.01754666000002', '-13.00460883', 'gal27',\n",
       "        '20.887', 'I', '3.249723391801666', '3.2555452320861207'],\n",
       "       ['17', '17', '183.95473549000002', '-13.07165494', 'gal46',\n",
       "        '21.584', 'I', '4.7425497140236175', '3.129230492950264'],\n",
       "       ['18', '18', '183.92678745000003', '-13.04304813', 'gal45',\n",
       "        '20.643', 'I', '2.566963397815707', '4.260156517615206'],\n",
       "       ['19', '19', '184.03589837000004', '-13.02006445', 'gal43',\n",
       "        '19.907', 'I', '0.25802851877864885', '4.857643522022978'],\n",
       "       ['20', '20', '183.96026476000006', '-13.07197791', 'gal42',\n",
       "        '21.735', 'I', '19.323264854014027', '5.00451634999397'],\n",
       "       ['21', '21', '183.93934150000004', '-13.05855879', 'gal41',\n",
       "        '20.42', 'I', '3.2680158711240717', '2.831522752763724'],\n",
       "       ['22', '22', '183.92785604000002', '-13.03243528', 'gal39',\n",
       "        '19.92', 'I', '2.865578328599194', '3.5323302952886073'],\n",
       "       ['23', '23', '184.03234826000002', '-13.02285285', 'gal37',\n",
       "        '22.368', 'I', '4.595904735138697', '3.5128407633783416'],\n",
       "       ['24', '24', '183.91089143000005', '-13.03404619', 'gal61',\n",
       "        '21.275', 'I', '3.903492464809947', '19.629309447654943']],\n",
       "      dtype='<U32')"
      ]
     },
     "execution_count": 13,
     "metadata": {},
     "output_type": "execute_result"
    }
   ],
   "source": [
    "slitmask.objects"
   ]
  },
  {
   "cell_type": "code",
   "execution_count": 14,
   "id": "cd8429a8-5837-4ea5-b441-0613a64764f0",
   "metadata": {},
   "outputs": [
    {
     "data": {
      "text/plain": [
       "array([[183.92207514, -13.0703346 ,   3.00253034,   2.99243164,\n",
       "         59.54531479],\n",
       "       [183.91593254, -13.03719609,   3.00250649,   2.99444675,\n",
       "         59.60430145],\n",
       "       [184.0050385 , -13.05978599,   3.00244808,   2.99464798,\n",
       "         60.15948868],\n",
       "       [183.98996234, -13.04081281,  14.73122787,   0.99851108,\n",
       "         60.11180115],\n",
       "       [184.0264794 , -13.03965487,  26.42585945,   0.99874341,\n",
       "         60.37124252],\n",
       "       [183.9740111 , -13.02210521,   9.29853821,   0.99878633,\n",
       "         60.05760956],\n",
       "       [183.99199434, -13.02168409,  14.77320194,   0.99891287,\n",
       "         60.18523407],\n",
       "       [183.97164508, -13.02985943,  27.52902985,   0.99859613,\n",
       "         60.01730728],\n",
       "       [183.95500515, -13.0377587 ,  32.45935059,   0.99834299,\n",
       "         59.87631989],\n",
       "       [183.92429505, -13.04629199,   9.55700779,   0.99798411,\n",
       "         59.6349678 ],\n",
       "       [183.99645764, -13.02080636,  10.01528931,   0.99895507,\n",
       "         60.21913528],\n",
       "       [183.99905218, -13.04327143,  14.63440704,   0.99851108,\n",
       "         60.16790009],\n",
       "       [183.99995563, -13.02002067,   8.57186699,   0.99901795,\n",
       "         60.2460289 ],\n",
       "       [183.95666551, -13.02189083,  29.32279778,   0.99873376,\n",
       "         59.93688583],\n",
       "       [184.00909924, -13.02537052,  22.22049713,   0.99893361,\n",
       "         60.29353714],\n",
       "       [184.02559548, -13.02575655,  12.81080151,   0.99903876,\n",
       "         60.40786362],\n",
       "       [184.01755406, -13.00462336,   8.9897213 ,   0.99941909,\n",
       "         60.41658783],\n",
       "       [183.95501943, -13.07151547,  10.87783051,   0.99760371,\n",
       "         59.77222443],\n",
       "       [183.9265077 , -13.04322526,   9.433918  ,   0.99807882,\n",
       "         59.65975571],\n",
       "       [184.0351228 , -13.02051908,   7.06954193,   0.99920815,\n",
       "         60.49073792],\n",
       "       [183.96271382, -13.0706202 ,  33.61690903,   0.99773097,\n",
       "         59.82896042],\n",
       "       [183.93942492, -13.05853204,   8.42838955,   0.99779391,\n",
       "         59.70301437],\n",
       "       [183.92775153, -13.03251456,   8.84112263,   0.99832159,\n",
       "         59.7011528 ],\n",
       "       [184.032541  , -13.02276285,  11.20495415,   0.99914455,\n",
       "         60.46578217],\n",
       "       [183.90822114, -13.03556908,  32.51910782,   0.99815285,\n",
       "         59.55515289]])"
      ]
     },
     "execution_count": 14,
     "metadata": {},
     "output_type": "execute_result"
    }
   ],
   "source": [
    "slitmask.onsky"
   ]
  },
  {
   "cell_type": "code",
   "execution_count": null,
   "id": "7a2a0f00-82e9-490c-a49e-9bfb8f82665b",
   "metadata": {},
   "outputs": [],
   "source": []
  }
 ],
 "metadata": {
  "kernelspec": {
   "display_name": "Python 3 (ipykernel)",
   "language": "python",
   "name": "python3"
  },
  "language_info": {
   "codemirror_mode": {
    "name": "ipython",
    "version": 3
   },
   "file_extension": ".py",
   "mimetype": "text/x-python",
   "name": "python",
   "nbconvert_exporter": "python",
   "pygments_lexer": "ipython3",
   "version": "3.9.9"
  }
 },
 "nbformat": 4,
 "nbformat_minor": 5
}
