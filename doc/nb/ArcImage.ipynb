{
 "cells": [
  {
   "cell_type": "markdown",
   "metadata": {},
   "source": [
    "# Arc Image\n",
    "    v1 -- DataContainer"
   ]
  },
  {
   "cell_type": "code",
   "execution_count": 1,
   "metadata": {},
   "outputs": [],
   "source": [
    "# imports\n",
    "import numpy as np\n",
    "\n",
    "from astropy.io import fits\n",
    "\n",
    "from pypeit.images import pypeitimage\n",
    "from pypeit import arcimage\n",
    "from pypeit import masterframe"
   ]
  },
  {
   "cell_type": "markdown",
   "metadata": {},
   "source": [
    "# Instantiate"
   ]
  },
  {
   "cell_type": "markdown",
   "metadata": {},
   "source": [
    "## PypeItImage"
   ]
  },
  {
   "cell_type": "code",
   "execution_count": 2,
   "metadata": {},
   "outputs": [],
   "source": [
    "pypeitImage = pypeitimage.PypeItImage(np.ones((1000, 1000)))\n",
    "pypeitImage.mask.fullmask = np.zeros((1000, 1000), dtype=np.int64)\n",
    "pypeitImage.ivar = np.zeros_like(pypeitImage.image)"
   ]
  },
  {
   "cell_type": "markdown",
   "metadata": {},
   "source": [
    "## Do it"
   ]
  },
  {
   "cell_type": "code",
   "execution_count": 3,
   "metadata": {},
   "outputs": [
    {
     "data": {
      "text/plain": [
       "<ArcImage:  images={'image': True, 'ivar': True, 'rn2img': False}>"
      ]
     },
     "execution_count": 3,
     "metadata": {},
     "output_type": "execute_result"
    }
   ],
   "source": [
    "arcImage = arcimage.ArcImage.from_pypeitimage(pypeitImage)\n",
    "arcImage"
   ]
  },
  {
   "cell_type": "code",
   "execution_count": 4,
   "metadata": {},
   "outputs": [
    {
     "data": {
      "text/plain": [
       "('ARC_IMAGE', 'ARC_FULLMASK')"
      ]
     },
     "execution_count": 4,
     "metadata": {},
     "output_type": "execute_result"
    }
   ],
   "source": [
    "arcImage.output_to_disk"
   ]
  },
  {
   "cell_type": "markdown",
   "metadata": {},
   "source": [
    "# Save"
   ]
  },
  {
   "cell_type": "markdown",
   "metadata": {},
   "source": [
    "## Simple"
   ]
  },
  {
   "cell_type": "code",
   "execution_count": 5,
   "metadata": {},
   "outputs": [
    {
     "name": "stdout",
     "output_type": "stream",
     "text": [
      "File written to: tmp.fits\n"
     ]
    }
   ],
   "source": [
    "arcImage.to_file('tmp.fits', hdu_prefix=arcImage.hdu_prefix, overwrite=True)"
   ]
  },
  {
   "cell_type": "markdown",
   "metadata": {},
   "source": [
    "## Check"
   ]
  },
  {
   "cell_type": "code",
   "execution_count": 6,
   "metadata": {},
   "outputs": [
    {
     "name": "stdout",
     "output_type": "stream",
     "text": [
      "Filename: tmp.fits\n",
      "No.    Name      Ver    Type      Cards   Dimensions   Format\n",
      "  0  PRIMARY       1 PrimaryHDU      13   ()      \n",
      "  1  ARC_IMAGE     1 ImageHDU        19   (1000, 1000)   float64   \n",
      "  2  ARC_IVAR      1 ImageHDU        19   (1000, 1000)   float64   \n",
      "  3  ARC_FULLMASK    1 ImageHDU        19   (1000, 1000)   int64   \n"
     ]
    }
   ],
   "source": [
    "hdul = fits.open('tmp.fits')\n",
    "hdul.info()"
   ]
  },
  {
   "cell_type": "markdown",
   "metadata": {},
   "source": [
    "## As MasterFrame"
   ]
  },
  {
   "cell_type": "code",
   "execution_count": 7,
   "metadata": {},
   "outputs": [
    {
     "name": "stdout",
     "output_type": "stream",
     "text": [
      "File written to: ./MasterArc_A_01_22.fits\n"
     ]
    }
   ],
   "source": [
    "arcImage.to_master_file('./', 'A_01_22', 'shane_kast_blue')"
   ]
  },
  {
   "cell_type": "code",
   "execution_count": 8,
   "metadata": {},
   "outputs": [
    {
     "name": "stdout",
     "output_type": "stream",
     "text": [
      "Filename: ./MasterArc_A_01_22.fits\n",
      "No.    Name      Ver    Type      Cards   Dimensions   Format\n",
      "  0  PRIMARY       1 PrimaryHDU      18   ()      \n",
      "  1  ARC_IMAGE     1 ImageHDU        19   (1000, 1000)   float64   \n",
      "  2  ARC_FULLMASK    1 ImageHDU        19   (1000, 1000)   int64   \n"
     ]
    }
   ],
   "source": [
    "hdul2 = fits.open('./MasterArc_A_01_22.fits')\n",
    "hdul2.info()"
   ]
  },
  {
   "cell_type": "code",
   "execution_count": 9,
   "metadata": {},
   "outputs": [
    {
     "data": {
      "text/plain": [
       "SIMPLE  =                    T / conforms to FITS standard                      \n",
       "BITPIX  =                    8 / array data type                                \n",
       "NAXIS   =                    0 / number of array dimensions                     \n",
       "EXTEND  =                    T                                                  \n",
       "VERSPYT = '3.7.3   '           / Python version                                 \n",
       "VERSNPY = '1.18.1  '           / Numpy version                                  \n",
       "VERSSCI = '1.3.2   '           / Scipy version                                  \n",
       "VERSAST = '4.0     '           / Astropy version                                \n",
       "VERSSKL = '0.22.1  '           / Scikit-learn version                           \n",
       "VERSPYP = '0.12.4dev'          / PypeIt version                                 \n",
       "DATE    = '2020-03-09'         / UTC date created                               \n",
       "MSTRTYP = 'Arc     '           / PypeIt: Master frame type                      \n",
       "MSTRDIR = './      '           / PypeIt: Master directory                       \n",
       "MSTRKEY = 'A_01_22 '           / PypeIt: Calibration key                        \n",
       "MSTRVER = '1.0.0   '           / PypeIt: Master datamodel version               \n",
       "PYP_SPEC= 'shane_kast_blue'    / PypeIt: Spectrograph name                      \n",
       "CHECKSUM= '5cdGAad96adGAad9'   / HDU checksum updated 2020-03-08T17:12:56       \n",
       "DATASUM = '0       '           / data unit checksum updated 2020-03-08T17:12:56 "
      ]
     },
     "execution_count": 9,
     "metadata": {},
     "output_type": "execute_result"
    }
   ],
   "source": [
    "hdul2[0].header"
   ]
  },
  {
   "cell_type": "markdown",
   "metadata": {},
   "source": [
    "----"
   ]
  },
  {
   "cell_type": "code",
   "execution_count": null,
   "metadata": {},
   "outputs": [],
   "source": []
  }
 ],
 "metadata": {
  "kernelspec": {
   "display_name": "Python 3",
   "language": "python",
   "name": "python3"
  },
  "language_info": {
   "codemirror_mode": {
    "name": "ipython",
    "version": 3
   },
   "file_extension": ".py",
   "mimetype": "text/x-python",
   "name": "python",
   "nbconvert_exporter": "python",
   "pygments_lexer": "ipython3",
   "version": "3.7.3"
  }
 },
 "nbformat": 4,
 "nbformat_minor": 2
}
