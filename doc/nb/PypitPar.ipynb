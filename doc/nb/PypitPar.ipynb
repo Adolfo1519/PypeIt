{
 "cells": [
  {
   "cell_type": "markdown",
   "metadata": {},
   "source": [
    "# Test instantiating PypIt parameter sets"
   ]
  },
  {
   "cell_type": "code",
   "execution_count": 1,
   "metadata": {},
   "outputs": [],
   "source": [
    "# import\n",
    "import os\n",
    "from configobj import ConfigObj\n",
    "from pypit.par import pypitpar"
   ]
  },
  {
   "cell_type": "markdown",
   "metadata": {},
   "source": [
    "## General usage"
   ]
  },
  {
   "cell_type": "code",
   "execution_count": 2,
   "metadata": {},
   "outputs": [
    {
     "name": "stdout",
     "output_type": "stream",
     "text": [
      "Print output:\n",
      "Parameter   Value  Default       Type  Callable\n",
      "-----------------------------------------------\n",
      "   method  savgol   savgol        str     False\n",
      "   params   5, 65    5, 65  int, list     False\n",
      "\n",
      ".info() output:\n",
      "method\n",
      "        Value: savgol\n",
      "      Default: savgol\n",
      "      Options: polynomial, savgol, median\n",
      "  Valid Types: str\n",
      "     Callable: False\n",
      "  Description: Method used to fit the overscan.  Options are: polynomial, savgol, median\n",
      " \n",
      "params\n",
      "        Value: [5, 65]\n",
      "      Default: [5, 65]\n",
      "      Options: None\n",
      "  Valid Types: int, list\n",
      "     Callable: False\n",
      "  Description: Parameters for the overscan subtraction.  For 'polynomial', set params = order, number of pixels, number of repeats ; for 'savgol', set params = order, window size ; for 'median', set params = None or omit the keyword.\n",
      " \n",
      "{'overscan': {'method': 'savgol', 'params': ['5', '65']}}\n"
     ]
    }
   ],
   "source": [
    "# To get the default parameters, declare the parameters set\n",
    "# without arguments\n",
    "p = pypitpar.OverscanPar()\n",
    "# Use print() to get a short-form representation\n",
    "print('Print output:')\n",
    "print(p)\n",
    "# Use the info() method to get a long-form representation\n",
    "print('.info() output:')\n",
    "p.info()\n",
    "# Both of these can go haywire for complex constructions of\n",
    "# parameter sets (sets within sets) but are well formatted\n",
    "# in the simplest cases\n",
    "\n",
    "# Use the to_config() method to output to a *.cfg file with\n",
    "# comments for each item.  You have to provide a section\n",
    "# name in most cases.\n",
    "p.to_config('test_overscan.cfg', section_name='overscan')\n",
    "# You can also use the to_config() method to just get the\n",
    "# list of strings that are then written to the file.  This\n",
    "# is useful when you want to reconstruct a ConfigObj.\n",
    "p_cfgobj = ConfigObj(p.to_config(None, section_name='overscan',\n",
    "                                 just_lines=True))\n",
    "print(p_cfgobj)"
   ]
  },
  {
   "cell_type": "markdown",
   "metadata": {},
   "source": [
    "## Demo of parameter defaults\n",
    "\n",
    "The following just shows the results of the default parameter sets to show what parameters are defined and where.\n",
    "\n",
    "### Run parameters"
   ]
  },
  {
   "cell_type": "code",
   "execution_count": 3,
   "metadata": {},
   "outputs": [
    {
     "data": {
      "text/plain": [
       "Parameter    Value  Default        Type  Callable\n",
       "-------------------------------------------------\n",
       "    ncpus        1        1         int     False\n",
       " calcheck    False    False        bool     False\n",
       "   calwin        0        0  int, float     False\n",
       "    setup    False    False        bool     False\n",
       "       qa    False    False        bool     False\n",
       " preponly    False    False        bool     False\n",
       "stopcheck    False    False        bool     False\n",
       "useIDname    False    False        bool     False\n",
       "verbosity        2        2         int     False\n",
       "   caldir       MF       MF         str     False\n",
       "   scidir  Science  Science         str     False\n",
       "    qadir       QA       QA         str     False\n",
       "  sortdir     None     None         str     False\n",
       "overwrite    False    False        bool     False"
      ]
     },
     "execution_count": 3,
     "metadata": {},
     "output_type": "execute_result"
    }
   ],
   "source": [
    "pypitpar.RunPar()"
   ]
  },
  {
   "cell_type": "markdown",
   "metadata": {},
   "source": [
    "### Reduction parameter set\n",
    "\n",
    "The reduction parameter set is made up of 6 sub parameter sets"
   ]
  },
  {
   "cell_type": "code",
   "execution_count": 4,
   "metadata": {},
   "outputs": [
    {
     "data": {
      "text/plain": [
       "Parameter   Value  Default       Type  Callable\n",
       "-----------------------------------------------\n",
       "   method  savgol   savgol        str     False\n",
       "   params   5, 65    5, 65  int, list     False"
      ]
     },
     "execution_count": 4,
     "metadata": {},
     "output_type": "execute_result"
    }
   ],
   "source": [
    "#1\n",
    "pypitpar.OverscanPar()"
   ]
  },
  {
   "cell_type": "code",
   "execution_count": 5,
   "metadata": {},
   "outputs": [
    {
     "data": {
      "text/plain": [
       "Parameter      Value    Default       Type  Callable\n",
       "----------------------------------------------------\n",
       "    frame  pixelflat  pixelflat        str     False\n",
       "   method    bspline    bspline        str     False\n",
       "   params         20         20  int, list     False\n",
       "  twodpca          0          0        int     False"
      ]
     },
     "execution_count": 5,
     "metadata": {},
     "output_type": "execute_result"
    }
   ],
   "source": [
    "#2\n",
    "pypitpar.FlatFieldPar()"
   ]
  },
  {
   "cell_type": "code",
   "execution_count": 6,
   "metadata": {},
   "outputs": [
    {
     "data": {
      "text/plain": [
       "Parameter   Value  Default        Type  Callable\n",
       "------------------------------------------------\n",
       "   method  boxcar   boxcar         str     False\n",
       " maxshift      20       20  int, float     False\n",
       " spectrum    None     None         str     False"
      ]
     },
     "execution_count": 6,
     "metadata": {},
     "output_type": "execute_result"
    }
   ],
   "source": [
    "#3\n",
    "pypitpar.FlexurePar()"
   ]
  },
  {
   "cell_type": "code",
   "execution_count": 7,
   "metadata": {},
   "outputs": [
    {
     "data": {
      "text/plain": [
       "Parameter         Value       Default  Type  Callable\n",
       "-----------------------------------------------------\n",
       "   medium        vacuum        vacuum   str     False\n",
       " refframe  heliocentric  heliocentric   str     False"
      ]
     },
     "execution_count": 7,
     "metadata": {},
     "output_type": "execute_result"
    }
   ],
   "source": [
    "#4\n",
    "pypitpar.WavelengthCalibrationPar()"
   ]
  },
  {
   "cell_type": "code",
   "execution_count": 8,
   "metadata": {},
   "outputs": [
    {
     "data": {
      "text/plain": [
       "Parameter  Value  Default  Type  Callable\n",
       "-----------------------------------------\n",
       "     flux  False    False  bool     False\n",
       "nonlinear  False    False  bool     False\n",
       " sensfunc   None     None   str     False"
      ]
     },
     "execution_count": 8,
     "metadata": {},
     "output_type": "execute_result"
    }
   ],
   "source": [
    "#5\n",
    "pypitpar.FluxCalibrationPar()"
   ]
  },
  {
   "cell_type": "code",
   "execution_count": 9,
   "metadata": {},
   "outputs": [
    {
     "data": {
      "text/plain": [
       "Parameter    Value  Default  Type  Callable\n",
       "-------------------------------------------\n",
       "   method  bspline  bspline   str     False\n",
       "   params       20       20   int     False"
      ]
     },
     "execution_count": 9,
     "metadata": {},
     "output_type": "execute_result"
    }
   ],
   "source": [
    "#6\n",
    "pypitpar.SkySubtractionPar()"
   ]
  },
  {
   "cell_type": "code",
   "execution_count": 10,
   "metadata": {},
   "outputs": [
    {
     "data": {
      "text/plain": [
       "        Parameter       Value     Default          Type  Callable\n",
       "-----------------------------------------------------------------\n",
       "     spectrograph  KECK_LRISb  KECK_LRISb           str     False\n",
       "         pipeline        None        None           str     False\n",
       "           detnum        None        None           int     False\n",
       "          masters        None        None           str     False\n",
       "            setup        None        None           str     False\n",
       "             trim        True        True          bool     False\n",
       "           badpix        True        True          bool     False\n",
       "slit_center_frame       trace       trace           str     False\n",
       "  slit_edge_frame       trace       trace           str     False\n",
       "         overscan   see below   see below  ParSet, dict     False\n",
       "        flatfield   see below   see below  ParSet, dict     False\n",
       "          flexure   see below   see below  ParSet, dict     False\n",
       "        wavecalib   see below   see below  ParSet, dict     False\n",
       "        fluxcalib   see below   see below  ParSet, dict     False\n",
       "      skysubtract   see below   see below  ParSet, dict     False\n",
       "\n",
       "overscan\n",
       "Parameter   Value  Default       Type  Callable\n",
       "-----------------------------------------------\n",
       "   method  savgol   savgol        str     False\n",
       "   params   5, 65    5, 65  int, list     False\n",
       "\n",
       "flatfield\n",
       "Parameter      Value    Default       Type  Callable\n",
       "----------------------------------------------------\n",
       "    frame  pixelflat  pixelflat        str     False\n",
       "   method    bspline    bspline        str     False\n",
       "   params         20         20  int, list     False\n",
       "  twodpca          0          0        int     False\n",
       "\n",
       "flexure\n",
       "Parameter   Value  Default        Type  Callable\n",
       "------------------------------------------------\n",
       "   method  boxcar   boxcar         str     False\n",
       " maxshift      20       20  int, float     False\n",
       " spectrum    None     None         str     False\n",
       "\n",
       "wavecalib\n",
       "Parameter         Value       Default  Type  Callable\n",
       "-----------------------------------------------------\n",
       "   medium        vacuum        vacuum   str     False\n",
       " refframe  heliocentric  heliocentric   str     False\n",
       "\n",
       "fluxcalib\n",
       "Parameter  Value  Default  Type  Callable\n",
       "-----------------------------------------\n",
       "     flux  False    False  bool     False\n",
       "nonlinear  False    False  bool     False\n",
       " sensfunc   None     None   str     False\n",
       "\n",
       "skysubtract\n",
       "Parameter    Value  Default  Type  Callable\n",
       "-------------------------------------------\n",
       "   method  bspline  bspline   str     False\n",
       "   params       20       20   int     False"
      ]
     },
     "execution_count": 10,
     "metadata": {},
     "output_type": "execute_result"
    }
   ],
   "source": [
    "# This is the composite parameter set\n",
    "pypitpar.ReducePar()"
   ]
  },
  {
   "cell_type": "markdown",
   "metadata": {},
   "source": [
    "### Frame groups\n",
    "\n",
    "Parameters used for each frame type (bias, pixelflat, etc) are abstracted to a single \"Frame-Group\" parameter set.  The default is 'bias'; valid frame types are shown using the static method `valid_frame_types` (see below).  The parameters used to combine frames are a subset of the Frame-Group Parameters"
   ]
  },
  {
   "cell_type": "code",
   "execution_count": 11,
   "metadata": {},
   "outputs": [
    {
     "data": {
      "text/plain": [
       "Parameter      Value    Default        Type  Callable\n",
       "-----------------------------------------------------\n",
       "    match         -1         -1  int, float     False\n",
       "   method       mean       mean         str     False\n",
       "   satpix     reject     reject         str     False\n",
       "  cosmics       20.0       20.0  int, float     False\n",
       "   n_lohi       0, 0       0, 0        list     False\n",
       " sig_lohi   3.0, 3.0   3.0, 3.0        list     False\n",
       "  replace  maxnonsat  maxnonsat         str     False"
      ]
     },
     "execution_count": 11,
     "metadata": {},
     "output_type": "execute_result"
    }
   ],
   "source": [
    "pypitpar.CombineFramesPar()"
   ]
  },
  {
   "cell_type": "code",
   "execution_count": 12,
   "metadata": {},
   "outputs": [
    {
     "data": {
      "text/plain": [
       "['bias', 'pixelflat', 'arc', 'pinhole', 'trace', 'standard', 'science']"
      ]
     },
     "execution_count": 12,
     "metadata": {},
     "output_type": "execute_result"
    }
   ],
   "source": [
    "pypitpar.FrameGroupPar.valid_frame_types()"
   ]
  },
  {
   "cell_type": "code",
   "execution_count": 13,
   "metadata": {},
   "outputs": [
    {
     "data": {
      "text/plain": [
       "Parameter      Value    Default          Type  Callable\n",
       "-------------------------------------------------------\n",
       "frametype       bias       bias           str     False\n",
       " useframe       None       None           str     False\n",
       "   number          0          0           int     False\n",
       "  combine  see below  see below  ParSet, dict     False\n",
       "\n",
       "combine\n",
       "Parameter      Value    Default        Type  Callable\n",
       "-----------------------------------------------------\n",
       "    match         -1         -1  int, float     False\n",
       "   method       mean       mean         str     False\n",
       "   satpix     reject     reject         str     False\n",
       "  cosmics       20.0       20.0  int, float     False\n",
       "   n_lohi       0, 0       0, 0        list     False\n",
       " sig_lohi   3.0, 3.0   3.0, 3.0        list     False\n",
       "  replace  maxnonsat  maxnonsat         str     False"
      ]
     },
     "execution_count": 13,
     "metadata": {},
     "output_type": "execute_result"
    }
   ],
   "source": [
    "pypitpar.FrameGroupPar()"
   ]
  },
  {
   "cell_type": "markdown",
   "metadata": {},
   "source": [
    "### Wavelength solution"
   ]
  },
  {
   "cell_type": "code",
   "execution_count": 14,
   "metadata": {},
   "outputs": [
    {
     "data": {
      "text/plain": [
       "Parameter     Value   Default              Type  Callable\n",
       "---------------------------------------------------------\n",
       "   method  arclines  arclines               str     False\n",
       "    lamps      None      None         str, list     False\n",
       "detection       6.0       6.0        int, float     False\n",
       "numsearch        20        20               int     False\n",
       "  nfitpix         5         5               int     False\n",
       " IDpixels      None      None         int, list     False\n",
       "  IDwaves      None      None  int, float, list     False"
      ]
     },
     "execution_count": 14,
     "metadata": {},
     "output_type": "execute_result"
    }
   ],
   "source": [
    "pypitpar.WavelengthSolutionPar()"
   ]
  },
  {
   "cell_type": "markdown",
   "metadata": {},
   "source": [
    "### Slit tracing\n",
    "\n",
    "The slit tracing parameter set includes the PCA parameters as a separate subset"
   ]
  },
  {
   "cell_type": "code",
   "execution_count": 15,
   "metadata": {},
   "outputs": [
    {
     "data": {
      "text/plain": [
       "  Parameter             Value           Default  Type  Callable\n",
       "---------------------------------------------------------------\n",
       "    pcatype             pixel             pixel   str     False\n",
       "     params  3, 2, 1, 0, 0, 0  3, 2, 1, 0, 0, 0  list     False\n",
       "extrapolate              0, 0              0, 0  list     False"
      ]
     },
     "execution_count": 15,
     "metadata": {},
     "output_type": "execute_result"
    }
   ],
   "source": [
    "pypitpar.PCAPar()"
   ]
  },
  {
   "cell_type": "code",
   "execution_count": 16,
   "metadata": {},
   "outputs": [
    {
     "data": {
      "text/plain": [
       "    Parameter      Value    Default          Type  Callable\n",
       "-----------------------------------------------------------\n",
       "     function   legendre   legendre           str     False\n",
       "    polyorder          3          3           int     False\n",
       "       medrep          0          0           int     False\n",
       "       number         -1         -1           int     False\n",
       "         trim       3, 3       3, 3         tuple     False\n",
       "       maxgap       None       None           int     False\n",
       "     maxshift       0.15       0.15    int, float     False\n",
       "          pad          0          0           int     False\n",
       "    sigdetect       20.0       20.0    int, float     False\n",
       "   fracignore       0.01       0.01         float     False\n",
       "diffpolyorder          2          2           int     False\n",
       "       single       None       None          list     False\n",
       "   sobel_mode    nearest    nearest           str     False\n",
       "          pca  see below  see below  ParSet, dict     False\n",
       "\n",
       "pca\n",
       "  Parameter             Value           Default  Type  Callable\n",
       "---------------------------------------------------------------\n",
       "    pcatype             pixel             pixel   str     False\n",
       "     params  3, 2, 1, 0, 0, 0  3, 2, 1, 0, 0, 0  list     False\n",
       "extrapolate              0, 0              0, 0  list     False"
      ]
     },
     "execution_count": 16,
     "metadata": {},
     "output_type": "execute_result"
    }
   ],
   "source": [
    "pypitpar.TraceSlitsPar()"
   ]
  },
  {
   "cell_type": "markdown",
   "metadata": {},
   "source": [
    "### Tilt tracing"
   ]
  },
  {
   "cell_type": "code",
   "execution_count": 17,
   "metadata": {},
   "outputs": [
    {
     "data": {
      "text/plain": [
       "Parameter    Value  Default       Type  Callable\n",
       "------------------------------------------------\n",
       "  idsonly    False    False       bool     False\n",
       "   method   spline   spline        str     False\n",
       "   params  1, 1, 0  1, 1, 0  int, list     False\n",
       "    order        1        1        int     False\n",
       "disporder        1        1        int     False"
      ]
     },
     "execution_count": 17,
     "metadata": {},
     "output_type": "execute_result"
    }
   ],
   "source": [
    "pypitpar.TraceTiltsPar()"
   ]
  },
  {
   "cell_type": "markdown",
   "metadata": {},
   "source": [
    "### Object tracing"
   ]
  },
  {
   "cell_type": "code",
   "execution_count": 18,
   "metadata": {},
   "outputs": [
    {
     "data": {
      "text/plain": [
       "Parameter     Value   Default        Type  Callable\n",
       "---------------------------------------------------\n",
       " function  legendre  legendre         str     False\n",
       "    order         2         2         int     False\n",
       "     find  standard  standard         str     False\n",
       "  nsmooth         3         3  int, float     False\n",
       "    xedge      0.03      0.03       float     False\n",
       "   method       pca       pca         str     False\n",
       "   params      1, 0      1, 0   int, list     False"
      ]
     },
     "execution_count": 18,
     "metadata": {},
     "output_type": "execute_result"
    }
   ],
   "source": [
    "pypitpar.TraceObjectsPar()"
   ]
  },
  {
   "cell_type": "markdown",
   "metadata": {},
   "source": [
    "### Object extraction\n",
    "\n",
    "I provide an object that defines any manual extractions (a bit overkill):"
   ]
  },
  {
   "cell_type": "code",
   "execution_count": 19,
   "metadata": {},
   "outputs": [
    {
     "data": {
      "text/plain": [
       "Parameter  Value  Default  Type  Callable\n",
       "-----------------------------------------\n",
       "    frame   None     None   str     False\n",
       "   params   None     None  list     False"
      ]
     },
     "execution_count": 19,
     "metadata": {},
     "output_type": "execute_result"
    }
   ],
   "source": [
    "pypitpar.ManualExtractionPar()"
   ]
  },
  {
   "cell_type": "markdown",
   "metadata": {},
   "source": [
    "Then the `manual` parameter in the `ExtractObjectsPar` is a list of the `ManualExtractionPar` objects for all the manual extractions to perform.  The number of manual extractions is just the length of the list or 0 if the element is `None`."
   ]
  },
  {
   "cell_type": "code",
   "execution_count": 20,
   "metadata": {},
   "outputs": [
    {
     "name": "stdout",
     "output_type": "stream",
     "text": [
      " Parameter     Value   Default        Type  Callable\n",
      "----------------------------------------------------\n",
      "  pixelmap      None      None         str     False\n",
      "pixelwidth       2.5       2.5  int, float     False\n",
      "     reuse     False     False        bool     False\n",
      "   profile  gaussian  gaussian         str     False\n",
      " maxnumber      None      None         int     False\n",
      "    manual      None      None        list     False\n",
      "\n",
      "Manual extractions to perform: 0\n"
     ]
    }
   ],
   "source": [
    "p = pypitpar.ExtractObjectsPar()\n",
    "print(p)  # The printing goes a bit wrong for 'manual'\n",
    "nmanual = 0 if p['manual'] is None else len(p['manual'])\n",
    "print('Manual extractions to perform: {0}'.format(nmanual))"
   ]
  },
  {
   "cell_type": "markdown",
   "metadata": {},
   "source": [
    "### Instrument Parameters\n",
    "\n",
    "Similar to the `ExtractObjectsPar`, the `InstrumentPar` contains a list of other parameter sets.  In this case, it's the list of detectors.  Here's the list of detector parameters:"
   ]
  },
  {
   "cell_type": "code",
   "execution_count": 21,
   "metadata": {},
   "outputs": [
    {
     "data": {
      "text/plain": [
       "    Parameter    Value  Default              Type  Callable\n",
       "-----------------------------------------------------------\n",
       "      dataext        0        0               int     False\n",
       "      datasec  DATASEC  DATASEC               str     False\n",
       "     oscansec  BIASSEC  BIASSEC               str     False\n",
       "     dispaxis        0        0               int     False\n",
       "         xgap      0.0      0.0        int, float     False\n",
       "         ygap      0.0      0.0        int, float     False\n",
       "        ysize      1.0      1.0        int, float     False\n",
       "   platescale    0.135    0.135        int, float     False\n",
       "     darkcurr      0.0      0.0        int, float     False\n",
       "   saturation  65535.0  65535.0        int, float     False\n",
       "    nonlinear     0.86     0.86        int, float     False\n",
       "numamplifiers        1        1               int     False\n",
       "         gain      1.0      1.0  int, float, list     False\n",
       "      ronoise      4.0      4.0  int, float, list     False\n",
       "       suffix     None     None               str     False"
      ]
     },
     "execution_count": 21,
     "metadata": {},
     "output_type": "execute_result"
    }
   ],
   "source": [
    "pypitpar.DetectorPar()"
   ]
  },
  {
   "cell_type": "markdown",
   "metadata": {},
   "source": [
    "Unlike `ExtractObjectsPar`, the `InstrumentPar` gives you at least one detector by default."
   ]
  },
  {
   "cell_type": "code",
   "execution_count": 22,
   "metadata": {},
   "outputs": [
    {
     "name": "stdout",
     "output_type": "stream",
     "text": [
      "Parameter                                                                                Value                                                                              Default        Type  Callable\n",
      "---------------------------------------------------------------------------------------------------------------------------------------------------------------------------------------------------------\n",
      "telescope                                                                                 KECK                                                                                 KECK         str     False\n",
      "longitude                                                                            155.47833                                                                            155.47833  int, float     False\n",
      " latitude                                                                             19.82833                                                                             19.82833  int, float     False\n",
      "elevation                                                                               4160.0                                                                               4160.0  int, float     False\n",
      "   camera                                                                                LRISb                                                                                LRISb         str     False\n",
      "   minexp                                                                                  1.0                                                                                  1.0  int, float     False\n",
      " detector  0, DATASEC, BIASSEC, 0, 0.0, 0.0, 1.0, 0.135, 0.0, 65535.0, 0.86, 1, 1.0, 4.0, None  0, DATASEC, BIASSEC, 0, 0.0, 0.0, 1.0, 0.135, 0.0, 65535.0, 0.86, 1, 1.0, 4.0, None        list     False\n",
      "\n",
      "Number of detectors: 1\n"
     ]
    }
   ],
   "source": [
    "p = pypitpar.InstrumentPar()\n",
    "print(p)  # Again, the printing goes wrong because detector is a list...\n",
    "print('Number of detectors: {0}'.format(len(p['detector'])))"
   ]
  },
  {
   "cell_type": "markdown",
   "metadata": {},
   "source": [
    "### Instrument fits files\n",
    "\n",
    "The `FrameFitsPar` provides the list of instrument-specific fits file parameters needed to read the data for *any* fits file from the instrument."
   ]
  },
  {
   "cell_type": "code",
   "execution_count": 23,
   "metadata": {},
   "outputs": [
    {
     "data": {
      "text/plain": [
       "Parameter  Value  Default       Type  Callable\n",
       "----------------------------------------------\n",
       " timeunit    mjd      mjd        str     False\n",
       "  headext      0        0  int, list     False\n",
       "    lamps   None     None  str, list     False\n",
       "   keydef   None     None       dict     False\n",
       " keycheck   None     None       dict     False"
      ]
     },
     "execution_count": 23,
     "metadata": {},
     "output_type": "execute_result"
    }
   ],
   "source": [
    "pypitpar.FrameFitsPar()"
   ]
  },
  {
   "cell_type": "markdown",
   "metadata": {},
   "source": [
    "The `keydef` parameter is a dictionary with the list of defined keywords, and the `keycheck` parameter is a dictionary with the list of values that those keywords should take for a valid fits file.  The keyword definition and checking syntax is a bit different from what currently exists:"
   ]
  },
  {
   "cell_type": "code",
   "execution_count": 24,
   "metadata": {},
   "outputs": [
    {
     "name": "stdout",
     "output_type": "stream",
     "text": [
      "Dictionary with the definitions of keywords to used from the header.  Variable names must be unique and define a unique header keyword.  If a single string value, the keyword is expected to be in the primary (extension 0) header.  If defined as a 2-element list, the first element is the extension with the approipriate header keyword (0-indexed) and the second is the keyword name.\n"
     ]
    }
   ],
   "source": [
    "print(pypitpar.FrameFitsPar().descr['keydef'])"
   ]
  },
  {
   "cell_type": "code",
   "execution_count": 25,
   "metadata": {},
   "outputs": [
    {
     "name": "stdout",
     "output_type": "stream",
     "text": [
      "Dictionary with checks to perform on the keyword values for all fits files.  The dictionary keyword must be one of the defined header keywords in 'keydef'.  Single values imply an equality check.  A list with two values implies a lower and upper range.  To set *only* a lower or upper limit, set the unconstrained limit to None.  All limits are exclusive.  I.e, to get a value >0, set '0, None'; to get <30, set 'None, 30'.\n"
     ]
    }
   ],
   "source": [
    "print(pypitpar.FrameFitsPar().descr['keycheck'])"
   ]
  },
  {
   "cell_type": "markdown",
   "metadata": {},
   "source": [
    "The defaults are meaningless, so here's the specific case of the Keck LRISb specifications."
   ]
  },
  {
   "cell_type": "code",
   "execution_count": 26,
   "metadata": {},
   "outputs": [
    {
     "name": "stdout",
     "output_type": "stream",
     "text": [
      "Header keyword definitions:\n",
      "{'target': [0, 'TARGNAME'], 'idname': [0, 'OBSTYPE'], 'time': [0, 'MJD-OBS'], 'date': [0, 'DATE'], 'ra': [0, 'RA'], 'dec': [0, 'DEC'], 'airmass': [0, 'AIRMASS'], 'binning': [0, 'BINNING'], 'exptime': [0, 'ELAPTIME'], 'decker': [0, 'SLITNAME'], 'dichroic': [0, 'DICHNAME'], 'dispname': [0, 'GRISNAME'], 'filter1': [0, 'BLUFILT'], 'hatch': [0, 'TRAPDOOR'], 'lampstat01': [0, 'MERCURY'], 'lampstat02': [0, 'NEON'], 'lampstat03': [0, 'ARGON'], 'lampstat04': [0, 'CADMIUM'], 'lampstat05': [0, 'ZINC'], 'lampstat06': [0, 'KRYPTON'], 'lampstat07': [0, 'XENON'], 'lampstat08': [0, 'FEARGON'], 'lampstat09': [0, 'DEUTERI'], 'lampstat10': [0, 'FLAMP1'], 'lampstat11': [0, 'FLAMP2'], 'lampstat12': [0, 'HALOGEN'], 'instrument': [0, 'INSTRUME'], 'naxis1': [1, 'NAXIS'], 'naxis2': [2, 'NAXIS'], 'naxis3': [3, 'NAXIS'], 'naxis4': [4, 'NAXIS'], 'ccdgeom': [1, 'CCDGEOM'], 'ccdname': [1, 'CCDNAME']}\n",
      "\n",
      "Header keyword checks:\n",
      "{'instrument': 'LRISBLUE', 'naxis1': 2, 'naxis2': 2, 'naxis3': 2, 'naxis4': 2, 'ccdgeom': 'e2v (Marconi) CCD44-82', 'ccdname': '00151-14-1'}\n"
     ]
    }
   ],
   "source": [
    "inp_cfg = ConfigObj('../../pypit/config/spectrographs/KECK_LRISb_spectrograph.cfg')\n",
    "cfg = pypitpar._recursive_dict_evaluate(inp_cfg)\n",
    "\n",
    "p = pypitpar.FrameFitsPar.from_dict(cfg['fits'])\n",
    "print('Header keyword definitions:')\n",
    "print(p['keydef'])\n",
    "print('\\nHeader keyword checks:')\n",
    "print(p['keycheck'])"
   ]
  },
  {
   "cell_type": "markdown",
   "metadata": {},
   "source": [
    "### Frame type identifications\n",
    "\n",
    "Like the frame groupings, I've abstracted the frame type identification parameters into the `FrameIDPar` class."
   ]
  },
  {
   "cell_type": "code",
   "execution_count": 27,
   "metadata": {},
   "outputs": [
    {
     "data": {
      "text/plain": [
       "Parameter  Value  Default  Type  Callable\n",
       "-----------------------------------------\n",
       "frametype   bias     bias   str     False\n",
       "    canbe   None     None   str     False\n",
       " keycheck   None     None  dict     False\n",
       "    match   None     None  dict     False"
      ]
     },
     "execution_count": 27,
     "metadata": {},
     "output_type": "execute_result"
    }
   ],
   "source": [
    "pypitpar.FrameIDPar()"
   ]
  },
  {
   "cell_type": "markdown",
   "metadata": {},
   "source": [
    "The `fitspar` keyword points to the general parameters in the `FrameFitsPar` for the instrument.  Again, the defaults are meaningless, so here's the specific case of the bias frames for Keck LRISb."
   ]
  },
  {
   "cell_type": "code",
   "execution_count": 28,
   "metadata": {},
   "outputs": [
    {
     "name": "stdout",
     "output_type": "stream",
     "text": [
      "{'idname': 'DARK', 'lampstat': 'off', 'hatch': 'closed', 'exptime': [None, 1]}\n"
     ]
    }
   ],
   "source": [
    "biasp = pypitpar.FrameIDPar.from_dict(p, 'bias', cfg['biasid'])\n",
    "print(biasp['keycheck'])"
   ]
  },
  {
   "cell_type": "markdown",
   "metadata": {},
   "source": [
    "## Putting it all together\n",
    "\n",
    "All of the above are expected to be parameter subsets that are passed to individual methods.  Sticking with the idea of having a single object that provides all the parameters needed for a run of `pypit`, the `PypitPar` object just collects all the above objects into a single parameter set."
   ]
  },
  {
   "cell_type": "code",
   "execution_count": 29,
   "metadata": {},
   "outputs": [
    {
     "data": {
      "text/plain": [
       "     Parameter      Value    Default          Type  Callable\n",
       "------------------------------------------------------------\n",
       "           run  see below  see below  ParSet, dict     False\n",
       "           rdx  see below  see below  ParSet, dict     False\n",
       "    instrument  see below  see below  ParSet, dict     False\n",
       "          fits  see below  see below  ParSet, dict     False\n",
       "        biasid  see below  see below  ParSet, dict     False\n",
       "   pixelflatid  see below  see below  ParSet, dict     False\n",
       "         arcid  see below  see below  ParSet, dict     False\n",
       "     pinholeid  see below  see below  ParSet, dict     False\n",
       "       traceid  see below  see below  ParSet, dict     False\n",
       "    standardid  see below  see below  ParSet, dict     False\n",
       "     scienceid  see below  see below  ParSet, dict     False\n",
       "     biasgroup  see below  see below  ParSet, dict     False\n",
       "pixelflatgroup  see below  see below  ParSet, dict     False\n",
       "      arcgroup  see below  see below  ParSet, dict     False\n",
       "  pinholegroup  see below  see below  ParSet, dict     False\n",
       "    tracegroup  see below  see below  ParSet, dict     False\n",
       " standardgroup  see below  see below  ParSet, dict     False\n",
       "  sciencegroup  see below  see below  ParSet, dict     False\n",
       "   wavelengths  see below  see below  ParSet, dict     False\n",
       "         slits  see below  see below  ParSet, dict     False\n",
       "         tilts  see below  see below  ParSet, dict     False\n",
       "       objects  see below  see below  ParSet, dict     False\n",
       "       extract  see below  see below  ParSet, dict     False\n",
       "\n",
       "run\n",
       "Parameter    Value  Default        Type  Callable\n",
       "-------------------------------------------------\n",
       "    ncpus        1        1         int     False\n",
       " calcheck    False    False        bool     False\n",
       "   calwin        0        0  int, float     False\n",
       "    setup    False    False        bool     False\n",
       "       qa    False    False        bool     False\n",
       " preponly    False    False        bool     False\n",
       "stopcheck    False    False        bool     False\n",
       "useIDname    False    False        bool     False\n",
       "verbosity        2        2         int     False\n",
       "   caldir       MF       MF         str     False\n",
       "   scidir  Science  Science         str     False\n",
       "    qadir       QA       QA         str     False\n",
       "  sortdir     None     None         str     False\n",
       "overwrite    False    False        bool     False\n",
       "\n",
       "rdx\n",
       "        Parameter       Value     Default          Type  Callable\n",
       "-----------------------------------------------------------------\n",
       "     spectrograph  KECK_LRISb  KECK_LRISb           str     False\n",
       "         pipeline        None        None           str     False\n",
       "           detnum        None        None           int     False\n",
       "          masters        None        None           str     False\n",
       "            setup        None        None           str     False\n",
       "             trim        True        True          bool     False\n",
       "           badpix        True        True          bool     False\n",
       "slit_center_frame       trace       trace           str     False\n",
       "  slit_edge_frame       trace       trace           str     False\n",
       "         overscan   see below   see below  ParSet, dict     False\n",
       "        flatfield   see below   see below  ParSet, dict     False\n",
       "          flexure   see below   see below  ParSet, dict     False\n",
       "        wavecalib   see below   see below  ParSet, dict     False\n",
       "        fluxcalib   see below   see below  ParSet, dict     False\n",
       "      skysubtract   see below   see below  ParSet, dict     False\n",
       "\n",
       "rdx:overscan\n",
       "Parameter   Value  Default       Type  Callable\n",
       "-----------------------------------------------\n",
       "   method  savgol   savgol        str     False\n",
       "   params   5, 65    5, 65  int, list     False\n",
       "\n",
       "rdx:flatfield\n",
       "Parameter      Value    Default       Type  Callable\n",
       "----------------------------------------------------\n",
       "    frame  pixelflat  pixelflat        str     False\n",
       "   method    bspline    bspline        str     False\n",
       "   params         20         20  int, list     False\n",
       "  twodpca          0          0        int     False\n",
       "\n",
       "rdx:flexure\n",
       "Parameter   Value  Default        Type  Callable\n",
       "------------------------------------------------\n",
       "   method  boxcar   boxcar         str     False\n",
       " maxshift      20       20  int, float     False\n",
       " spectrum    None     None         str     False\n",
       "\n",
       "rdx:wavecalib\n",
       "Parameter         Value       Default  Type  Callable\n",
       "-----------------------------------------------------\n",
       "   medium        vacuum        vacuum   str     False\n",
       " refframe  heliocentric  heliocentric   str     False\n",
       "\n",
       "rdx:fluxcalib\n",
       "Parameter  Value  Default  Type  Callable\n",
       "-----------------------------------------\n",
       "     flux  False    False  bool     False\n",
       "nonlinear  False    False  bool     False\n",
       " sensfunc   None     None   str     False\n",
       "\n",
       "rdx:skysubtract\n",
       "Parameter    Value  Default  Type  Callable\n",
       "-------------------------------------------\n",
       "   method  bspline  bspline   str     False\n",
       "   params       20       20   int     False\n",
       "\n",
       "instrument\n",
       "Parameter                                                                                Value                                                                              Default        Type  Callable\n",
       "---------------------------------------------------------------------------------------------------------------------------------------------------------------------------------------------------------\n",
       "telescope                                                                                 KECK                                                                                 KECK         str     False\n",
       "longitude                                                                            155.47833                                                                            155.47833  int, float     False\n",
       " latitude                                                                             19.82833                                                                             19.82833  int, float     False\n",
       "elevation                                                                               4160.0                                                                               4160.0  int, float     False\n",
       "   camera                                                                                LRISb                                                                                LRISb         str     False\n",
       "   minexp                                                                                  1.0                                                                                  1.0  int, float     False\n",
       " detector  0, DATASEC, BIASSEC, 0, 0.0, 0.0, 1.0, 0.135, 0.0, 65535.0, 0.86, 1, 1.0, 4.0, None  0, DATASEC, BIASSEC, 0, 0.0, 0.0, 1.0, 0.135, 0.0, 65535.0, 0.86, 1, 1.0, 4.0, None        list     False\n",
       "\n",
       "fits\n",
       "Parameter  Value  Default       Type  Callable\n",
       "----------------------------------------------\n",
       " timeunit    mjd      mjd        str     False\n",
       "  headext      0        0  int, list     False\n",
       "    lamps   None     None  str, list     False\n",
       "   keydef   None     None       dict     False\n",
       " keycheck   None     None       dict     False\n",
       "\n",
       "biasid\n",
       "Parameter  Value  Default  Type  Callable\n",
       "-----------------------------------------\n",
       "frametype   bias     bias   str     False\n",
       "    canbe   None     None   str     False\n",
       " keycheck   None     None  dict     False\n",
       "    match   None     None  dict     False\n",
       "\n",
       "pixelflatid\n",
       "Parameter      Value  Default  Type  Callable\n",
       "---------------------------------------------\n",
       "frametype  pixelflat     bias   str     False\n",
       "    canbe       None     None   str     False\n",
       " keycheck       None     None  dict     False\n",
       "    match       None     None  dict     False\n",
       "\n",
       "arcid\n",
       "Parameter  Value  Default  Type  Callable\n",
       "-----------------------------------------\n",
       "frametype    arc     bias   str     False\n",
       "    canbe   None     None   str     False\n",
       " keycheck   None     None  dict     False\n",
       "    match   None     None  dict     False\n",
       "\n",
       "pinholeid\n",
       "Parameter    Value  Default  Type  Callable\n",
       "-------------------------------------------\n",
       "frametype  pinhole     bias   str     False\n",
       "    canbe     None     None   str     False\n",
       " keycheck     None     None  dict     False\n",
       "    match     None     None  dict     False\n",
       "\n",
       "traceid\n",
       "Parameter  Value  Default  Type  Callable\n",
       "-----------------------------------------\n",
       "frametype  trace     bias   str     False\n",
       "    canbe   None     None   str     False\n",
       " keycheck   None     None  dict     False\n",
       "    match   None     None  dict     False\n",
       "\n",
       "standardid\n",
       "Parameter     Value  Default  Type  Callable\n",
       "--------------------------------------------\n",
       "frametype  standard     bias   str     False\n",
       "    canbe      None     None   str     False\n",
       " keycheck      None     None  dict     False\n",
       "    match      None     None  dict     False\n",
       "\n",
       "scienceid\n",
       "Parameter    Value  Default  Type  Callable\n",
       "-------------------------------------------\n",
       "frametype  science     bias   str     False\n",
       "    canbe     None     None   str     False\n",
       " keycheck     None     None  dict     False\n",
       "    match     None     None  dict     False\n",
       "\n",
       "biasgroup\n",
       "Parameter      Value    Default          Type  Callable\n",
       "-------------------------------------------------------\n",
       "frametype       bias       bias           str     False\n",
       " useframe       None       None           str     False\n",
       "   number          0          0           int     False\n",
       "  combine  see below  see below  ParSet, dict     False\n",
       "\n",
       "biasgroup:combine\n",
       "Parameter      Value    Default        Type  Callable\n",
       "-----------------------------------------------------\n",
       "    match         -1         -1  int, float     False\n",
       "   method       mean       mean         str     False\n",
       "   satpix     reject     reject         str     False\n",
       "  cosmics       20.0       20.0  int, float     False\n",
       "   n_lohi       0, 0       0, 0        list     False\n",
       " sig_lohi   3.0, 3.0   3.0, 3.0        list     False\n",
       "  replace  maxnonsat  maxnonsat         str     False\n",
       "\n",
       "pixelflatgroup\n",
       "Parameter      Value    Default          Type  Callable\n",
       "-------------------------------------------------------\n",
       "frametype  pixelflat       bias           str     False\n",
       " useframe       None       None           str     False\n",
       "   number          0          0           int     False\n",
       "  combine  see below  see below  ParSet, dict     False\n",
       "\n",
       "pixelflatgroup:combine\n",
       "Parameter      Value    Default        Type  Callable\n",
       "-----------------------------------------------------\n",
       "    match         -1         -1  int, float     False\n",
       "   method       mean       mean         str     False\n",
       "   satpix     reject     reject         str     False\n",
       "  cosmics       20.0       20.0  int, float     False\n",
       "   n_lohi       0, 0       0, 0        list     False\n",
       " sig_lohi   3.0, 3.0   3.0, 3.0        list     False\n",
       "  replace  maxnonsat  maxnonsat         str     False\n",
       "\n",
       "arcgroup\n",
       "Parameter      Value    Default          Type  Callable\n",
       "-------------------------------------------------------\n",
       "frametype        arc       bias           str     False\n",
       " useframe       None       None           str     False\n",
       "   number          0          0           int     False\n",
       "  combine  see below  see below  ParSet, dict     False\n",
       "\n",
       "arcgroup:combine\n",
       "Parameter      Value    Default        Type  Callable\n",
       "-----------------------------------------------------\n",
       "    match         -1         -1  int, float     False\n",
       "   method       mean       mean         str     False\n",
       "   satpix     reject     reject         str     False\n",
       "  cosmics       20.0       20.0  int, float     False\n",
       "   n_lohi       0, 0       0, 0        list     False\n",
       " sig_lohi   3.0, 3.0   3.0, 3.0        list     False\n",
       "  replace  maxnonsat  maxnonsat         str     False\n",
       "\n",
       "pinholegroup\n",
       "Parameter      Value    Default          Type  Callable\n",
       "-------------------------------------------------------\n",
       "frametype    pinhole       bias           str     False\n",
       " useframe       None       None           str     False\n",
       "   number          0          0           int     False\n",
       "  combine  see below  see below  ParSet, dict     False\n",
       "\n",
       "pinholegroup:combine\n",
       "Parameter      Value    Default        Type  Callable\n",
       "-----------------------------------------------------\n",
       "    match         -1         -1  int, float     False\n",
       "   method       mean       mean         str     False\n",
       "   satpix     reject     reject         str     False\n",
       "  cosmics       20.0       20.0  int, float     False\n",
       "   n_lohi       0, 0       0, 0        list     False\n",
       " sig_lohi   3.0, 3.0   3.0, 3.0        list     False\n",
       "  replace  maxnonsat  maxnonsat         str     False\n",
       "\n",
       "tracegroup\n",
       "Parameter      Value    Default          Type  Callable\n",
       "-------------------------------------------------------\n",
       "frametype      trace       bias           str     False\n",
       " useframe       None       None           str     False\n",
       "   number          0          0           int     False\n",
       "  combine  see below  see below  ParSet, dict     False\n",
       "\n",
       "tracegroup:combine\n",
       "Parameter      Value    Default        Type  Callable\n",
       "-----------------------------------------------------\n",
       "    match         -1         -1  int, float     False\n",
       "   method       mean       mean         str     False\n",
       "   satpix     reject     reject         str     False\n",
       "  cosmics       20.0       20.0  int, float     False\n",
       "   n_lohi       0, 0       0, 0        list     False\n",
       " sig_lohi   3.0, 3.0   3.0, 3.0        list     False\n",
       "  replace  maxnonsat  maxnonsat         str     False\n",
       "\n",
       "standardgroup\n",
       "Parameter      Value    Default          Type  Callable\n",
       "-------------------------------------------------------\n",
       "frametype   standard       bias           str     False\n",
       " useframe       None       None           str     False\n",
       "   number          0          0           int     False\n",
       "  combine  see below  see below  ParSet, dict     False\n",
       "\n",
       "standardgroup:combine\n",
       "Parameter      Value    Default        Type  Callable\n",
       "-----------------------------------------------------\n",
       "    match         -1         -1  int, float     False\n",
       "   method       mean       mean         str     False\n",
       "   satpix     reject     reject         str     False\n",
       "  cosmics       20.0       20.0  int, float     False\n",
       "   n_lohi       0, 0       0, 0        list     False\n",
       " sig_lohi   3.0, 3.0   3.0, 3.0        list     False\n",
       "  replace  maxnonsat  maxnonsat         str     False\n",
       "\n",
       "sciencegroup\n",
       "Parameter      Value    Default          Type  Callable\n",
       "-------------------------------------------------------\n",
       "frametype    science       bias           str     False\n",
       " useframe       None       None           str     False\n",
       "   number          0          0           int     False\n",
       "  combine  see below  see below  ParSet, dict     False\n",
       "\n",
       "sciencegroup:combine\n",
       "Parameter      Value    Default        Type  Callable\n",
       "-----------------------------------------------------\n",
       "    match         -1         -1  int, float     False\n",
       "   method       mean       mean         str     False\n",
       "   satpix     reject     reject         str     False\n",
       "  cosmics       20.0       20.0  int, float     False\n",
       "   n_lohi       0, 0       0, 0        list     False\n",
       " sig_lohi   3.0, 3.0   3.0, 3.0        list     False\n",
       "  replace  maxnonsat  maxnonsat         str     False\n",
       "\n",
       "wavelengths\n",
       "Parameter     Value   Default              Type  Callable\n",
       "---------------------------------------------------------\n",
       "   method  arclines  arclines               str     False\n",
       "    lamps      None      None         str, list     False\n",
       "detection       6.0       6.0        int, float     False\n",
       "numsearch        20        20               int     False\n",
       "  nfitpix         5         5               int     False\n",
       " IDpixels      None      None         int, list     False\n",
       "  IDwaves      None      None  int, float, list     False\n",
       "\n",
       "slits\n",
       "    Parameter      Value    Default          Type  Callable\n",
       "-----------------------------------------------------------\n",
       "     function   legendre   legendre           str     False\n",
       "    polyorder          3          3           int     False\n",
       "       medrep          0          0           int     False\n",
       "       number         -1         -1           int     False\n",
       "         trim       3, 3       3, 3         tuple     False\n",
       "       maxgap       None       None           int     False\n",
       "     maxshift       0.15       0.15    int, float     False\n",
       "          pad          0          0           int     False\n",
       "    sigdetect       20.0       20.0    int, float     False\n",
       "   fracignore       0.01       0.01         float     False\n",
       "diffpolyorder          2          2           int     False\n",
       "       single       None       None          list     False\n",
       "   sobel_mode    nearest    nearest           str     False\n",
       "          pca  see below  see below  ParSet, dict     False\n",
       "\n",
       "slits:pca\n",
       "  Parameter             Value           Default  Type  Callable\n",
       "---------------------------------------------------------------\n",
       "    pcatype             pixel             pixel   str     False\n",
       "     params  3, 2, 1, 0, 0, 0  3, 2, 1, 0, 0, 0  list     False\n",
       "extrapolate              0, 0              0, 0  list     False\n",
       "\n",
       "tilts\n",
       "Parameter    Value  Default       Type  Callable\n",
       "------------------------------------------------\n",
       "  idsonly    False    False       bool     False\n",
       "   method   spline   spline        str     False\n",
       "   params  1, 1, 0  1, 1, 0  int, list     False\n",
       "    order        1        1        int     False\n",
       "disporder        1        1        int     False\n",
       "\n",
       "objects\n",
       "Parameter     Value   Default        Type  Callable\n",
       "---------------------------------------------------\n",
       " function  legendre  legendre         str     False\n",
       "    order         2         2         int     False\n",
       "     find  standard  standard         str     False\n",
       "  nsmooth         3         3  int, float     False\n",
       "    xedge      0.03      0.03       float     False\n",
       "   method       pca       pca         str     False\n",
       "   params      1, 0      1, 0   int, list     False\n",
       "\n",
       "extract\n",
       " Parameter     Value   Default        Type  Callable\n",
       "----------------------------------------------------\n",
       "  pixelmap      None      None         str     False\n",
       "pixelwidth       2.5       2.5  int, float     False\n",
       "     reuse     False     False        bool     False\n",
       "   profile  gaussian  gaussian         str     False\n",
       " maxnumber      None      None         int     False\n",
       "    manual      None      None        list     False"
      ]
     },
     "execution_count": 29,
     "metadata": {},
     "output_type": "execute_result"
    }
   ],
   "source": [
    "pypitpar.PypitPar()"
   ]
  },
  {
   "cell_type": "markdown",
   "metadata": {},
   "source": [
    "Like all the other pypit parameter sets, `PypitPar` has a `from_dict` method, but we're mostly going to want to use its `from_cfg_file` method to build the parameter set for each pypit run."
   ]
  },
  {
   "cell_type": "code",
   "execution_count": 30,
   "metadata": {},
   "outputs": [
    {
     "name": "stdout",
     "output_type": "stream",
     "text": [
      "Help on method from_cfg_file in module pypit.par.pypitpar:\n",
      "\n",
      "from_cfg_file(cfg_file=None, merge_with=None, expand_spectrograph=True, evaluate=True) method of builtins.type instance\n",
      "    Construct the parameter set using a configuration file.\n",
      "    \n",
      "    Note that::\n",
      "    \n",
      "        default = PypitPar()\n",
      "        nofile = PypitPar.from_cfg_file()\n",
      "        assert default.data == nofile.data, 'This should always pass.'\n",
      "    \n",
      "    Args:\n",
      "        cfg_file (:obj:`str`, optional):\n",
      "            The name of the configuration file that defines the\n",
      "            default parameters.  This can be used if have a pypit\n",
      "            config file from a previous run that was constructed and\n",
      "            output by pypit.  This has to contain the full set of\n",
      "            parameters, not just the subset you want to change.  For\n",
      "            the latter, use :arg:`merge_with` to provide one or more\n",
      "            config files to merge with the defaults to construct the\n",
      "            full parameter set.\n",
      "        merge_with (:obj:`str`, :obj:`list`, optional):\n",
      "            One or more config files with the modifications to\n",
      "            either default parameters (:arg:`cfg_file` is None) or\n",
      "            the parameters provided by :arg:`cfg_file`.  The\n",
      "            modifications are performed in series so the list order\n",
      "            of the config files is important.\n",
      "        expand_spectrograph (:obj:`bool`, optional):\n",
      "            Use the `cfg['rdx']['spectrograph']` keyword to select\n",
      "            and expand the instrument parameters using a\n",
      "            configuration file called::\n",
      "    \n",
      "               '{0}_spectrograph.cfg'.format(cfg['rdx']['spectrograph'])\n",
      "    \n",
      "            The name of the spectrograph is defined by the merged\n",
      "            sequence of config files, following that merging\n",
      "            precendence (see above).  A ValueError is raised if the\n",
      "            merged config values have::\n",
      "            \n",
      "                cfg['rdx']['spectrograph'] == 'None' \n",
      "    \n",
      "            Once the spectrograph configuration is read, the merging\n",
      "            sequence is as follows: (1) the default configuration\n",
      "            (set by the :arg:`cfg_file` argument), (2) the default\n",
      "            spectrograph parameters read by this keyword selection,\n",
      "            and then (3) the modifications set by the merging\n",
      "            sequence.  This allows the user to select the default\n",
      "            spectrograph configuration and then alter any of the\n",
      "            parameters defined in either the reduction or\n",
      "            spectrograph sets in one config file.\n",
      "        evaluate (:obj:`bool`, optional):\n",
      "            Evaluate the values in the config object before\n",
      "            assigning them in the subsequent parameter sets.  The\n",
      "            parameters in the config file are *always* read as\n",
      "            strings, so this should almost always be true; however,\n",
      "            see the warning below.\n",
      "            \n",
      "    .. warning::\n",
      "    \n",
      "        When :arg:`evaluate` is true, the function runs `eval()` on\n",
      "        all the entries in the `ConfigObj` dictionary, done using\n",
      "        :func:`_recursive_dict_evaluate`.  This has the potential to\n",
      "        go haywire if the name of a parameter unintentionally\n",
      "        happens to be identical to an imported or system-level\n",
      "        function.  Of course, this can be useful by allowing one to\n",
      "        define the function to use as a parameter, but it also means\n",
      "        one has to be careful with the values that the parameters\n",
      "        should be allowed to have.  The current way around this is\n",
      "        to provide a list of strings that should be ignored during\n",
      "        the evaluation, done using :func:`_eval_ignore`.\n",
      "    \n",
      "    Returns:\n",
      "        :class:`pypit.par.core.PypitPar`: The instance of the\n",
      "        parameter set.\n",
      "    \n",
      "    Raises:\n",
      "        ValueError: Raised if the spectrograph keyword is 'None' and\n",
      "            `expand_spectrograph=True`.\n",
      "\n"
     ]
    }
   ],
   "source": [
    "help(pypitpar.PypitPar.from_cfg_file)"
   ]
  },
  {
   "cell_type": "markdown",
   "metadata": {},
   "source": [
    "You can get the default parameters and print the result like this."
   ]
  },
  {
   "cell_type": "code",
   "execution_count": 31,
   "metadata": {
    "scrolled": true
   },
   "outputs": [
    {
     "name": "stdout",
     "output_type": "stream",
     "text": [
      "Found: /Users/westfall/Work/packages/PYPIT/pypit/config/spectrographs/KECK_LRISb_spectrograph.cfg\n"
     ]
    }
   ],
   "source": [
    "# Write the defaults\n",
    "p = pypitpar.PypitPar.from_cfg_file()\n",
    "p.to_config('default.cfg')"
   ]
  },
  {
   "cell_type": "markdown",
   "metadata": {},
   "source": [
    "You can then read it back in.  The `expand_spectrograph` option allows you to set all the spectrograph setting using the `spectrograph` keyword in the input config file (this is `KECK_LRISb` by default).  If you just want to use what's in the config file without finding the spectrograph configuration file (because those keywords are already in the configuration file in this example), you would set `expand_spectrograph=False`."
   ]
  },
  {
   "cell_type": "code",
   "execution_count": 32,
   "metadata": {},
   "outputs": [
    {
     "data": {
      "text/plain": [
       "[    Parameter       Value  Default              Type  Callable\n",
       " --------------------------------------------------------------\n",
       "       dataext           0        0               int     False\n",
       "       datasec     DATASEC  DATASEC               str     False\n",
       "      oscansec     BIASSEC  BIASSEC               str     False\n",
       "      dispaxis           0        0               int     False\n",
       "          xgap         0.0      0.0        int, float     False\n",
       "          ygap         0.0      0.0        int, float     False\n",
       "         ysize         1.0      1.0        int, float     False\n",
       "    platescale       0.135    0.135        int, float     False\n",
       "      darkcurr         0.0      0.0        int, float     False\n",
       "    saturation     65535.0  65535.0        int, float     False\n",
       "     nonlinear        0.86     0.86        int, float     False\n",
       " numamplifiers           2        1               int     False\n",
       "          gain  1.55, 1.56      1.0  int, float, list     False\n",
       "       ronoise    3.9, 4.2      4.0  int, float, list     False\n",
       "        suffix     _01blue     None               str     False,\n",
       "     Parameter      Value  Default              Type  Callable\n",
       " -------------------------------------------------------------\n",
       "       dataext          0        0               int     False\n",
       "       datasec    DATASEC  DATASEC               str     False\n",
       "      oscansec    BIASSEC  BIASSEC               str     False\n",
       "      dispaxis          0        0               int     False\n",
       "          xgap        0.0      0.0        int, float     False\n",
       "          ygap        0.0      0.0        int, float     False\n",
       "         ysize        1.0      1.0        int, float     False\n",
       "    platescale      0.135    0.135        int, float     False\n",
       "      darkcurr        0.0      0.0        int, float     False\n",
       "    saturation    65535.0  65535.0        int, float     False\n",
       "     nonlinear       0.86     0.86        int, float     False\n",
       " numamplifiers          2        1               int     False\n",
       "          gain  1.63, 1.7      1.0  int, float, list     False\n",
       "       ronoise   3.6, 3.6      4.0  int, float, list     False\n",
       "        suffix    _02blue     None               str     False]"
      ]
     },
     "execution_count": 32,
     "metadata": {},
     "output_type": "execute_result"
    }
   ],
   "source": [
    "# Read them in\n",
    "p = pypitpar.PypitPar.from_cfg_file('default.cfg',\n",
    "                                    expand_spectrograph=False)\n",
    "p['instrument']['detector']"
   ]
  },
  {
   "cell_type": "markdown",
   "metadata": {},
   "source": [
    "### User-level example\n",
    "\n",
    "I import `PypitPar` as part of the `__init__.py` setup of the `pypit.par` module, meaning you can import it directly.  I expect this is how we'll use it in the rest of the code."
   ]
  },
  {
   "cell_type": "code",
   "execution_count": 33,
   "metadata": {},
   "outputs": [],
   "source": [
    "from pypit.par import PypitPar"
   ]
  },
  {
   "cell_type": "markdown",
   "metadata": {},
   "source": [
    "To set up a `PypitPar` object similar to what's currently done using the `keck_lris_blue_long_400_3400_d560.pypit` file in the dev suite, I would do the following:"
   ]
  },
  {
   "cell_type": "code",
   "execution_count": 34,
   "metadata": {},
   "outputs": [
    {
     "name": "stdout",
     "output_type": "stream",
     "text": [
      "Found: /Users/westfall/Work/packages/PYPIT/pypit/config/spectrographs/KECK_LRISb_spectrograph.cfg\n"
     ]
    }
   ],
   "source": [
    "p = PypitPar.from_cfg_file(merge_with='keck_lris_blue_long_400_3400_d560.cfg')"
   ]
  },
  {
   "cell_type": "markdown",
   "metadata": {},
   "source": [
    "I actually had to comment out the definition of the flexure spectrum because I can't find it on my disk, and the declaration above faults when it can't find the file.\n",
    "\n",
    "With the declaration above, all the default parameters are set, the spectrograph key (`KECK_LRISb`) is used to find the appropriate spectrograph definition file (`../../pypit/config/spectrographs/KECK_LRISb_spectrograph.cfg`), and both are merged with the alterations in the local `keck_lris_blue_long_400_3400_d560.cfg` file.\n",
    "\n",
    "You can print the compiled parameters using the `to_config` method."
   ]
  },
  {
   "cell_type": "code",
   "execution_count": 35,
   "metadata": {},
   "outputs": [],
   "source": [
    "p.to_config('compiled_example.cfg')"
   ]
  }
 ],
 "metadata": {
  "kernelspec": {
   "display_name": "Python 3",
   "language": "python",
   "name": "python3"
  },
  "language_info": {
   "codemirror_mode": {
    "name": "ipython",
    "version": 3
   },
   "file_extension": ".py",
   "mimetype": "text/x-python",
   "name": "python",
   "nbconvert_exporter": "python",
   "pygments_lexer": "ipython3",
   "version": "3.6.2"
  }
 },
 "nbformat": 4,
 "nbformat_minor": 2
}
