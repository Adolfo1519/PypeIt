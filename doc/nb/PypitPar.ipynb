{
 "cells": [
  {
   "cell_type": "markdown",
   "metadata": {},
   "source": [
    "# Test instantiating PypIt parameter sets"
   ]
  },
  {
   "cell_type": "code",
   "execution_count": 1,
   "metadata": {},
   "outputs": [],
   "source": [
    "# import\n",
    "import os\n",
    "from configobj import ConfigObj\n",
    "from pypit.par import pypitpar"
   ]
  },
  {
   "cell_type": "markdown",
   "metadata": {},
   "source": [
    "## General usage"
   ]
  },
  {
   "cell_type": "code",
   "execution_count": null,
   "metadata": {},
   "outputs": [],
   "source": [
    "# To get the default parameters, declare the parameters set\n",
    "# without arguments\n",
    "p = pypitpar.OverscanPar()\n",
    "# Use print() to get a short-form representation\n",
    "print('Print output:')\n",
    "print(p)\n",
    "# Use the info() method to get a long-form representation\n",
    "print('.info() output:')\n",
    "p.info()\n",
    "# Both of these can go haywire for complex constructions of\n",
    "# parameter sets (sets within sets) but are well formatted\n",
    "# in the simplest cases\n",
    "\n",
    "# Use the to_config() method to output to a *.cfg file with\n",
    "# comments for each item.  You have to provide a section\n",
    "# name in most cases.\n",
    "p.to_config('test_overscan.cfg', section_name='overscan')\n",
    "# You can also use the to_config() method to just get the\n",
    "# list of strings that are then written to the file.  This\n",
    "# is useful when you want to reconstruct a ConfigObj.\n",
    "p_cfgobj = ConfigObj(p.to_config(None, section_name='overscan',\n",
    "                                 just_lines=True))\n",
    "print(p_cfgobj)"
   ]
  },
  {
   "cell_type": "markdown",
   "metadata": {},
   "source": [
    "## Demo of parameter defaults\n",
    "\n",
    "The following just shows the results of the default parameter sets to show what parameters are defined and where.\n",
    "\n",
    "### Run parameters"
   ]
  },
  {
   "cell_type": "code",
   "execution_count": null,
   "metadata": {},
   "outputs": [],
   "source": [
    "pypitpar.RunPar()"
   ]
  },
  {
   "cell_type": "markdown",
   "metadata": {},
   "source": [
    "### Reduction parameter set\n",
    "\n",
    "The reduction parameter set is made up of 6 sub parameter sets"
   ]
  },
  {
   "cell_type": "code",
   "execution_count": null,
   "metadata": {},
   "outputs": [],
   "source": [
    "#1\n",
    "pypitpar.OverscanPar()"
   ]
  },
  {
   "cell_type": "code",
   "execution_count": null,
   "metadata": {},
   "outputs": [],
   "source": [
    "#2\n",
    "pypitpar.FlatFieldPar()"
   ]
  },
  {
   "cell_type": "code",
   "execution_count": null,
   "metadata": {},
   "outputs": [],
   "source": [
    "#3\n",
    "pypitpar.FlexurePar()"
   ]
  },
  {
   "cell_type": "code",
   "execution_count": null,
   "metadata": {},
   "outputs": [],
   "source": [
    "#4\n",
    "pypitpar.WavelengthCalibrationPar()"
   ]
  },
  {
   "cell_type": "code",
   "execution_count": null,
   "metadata": {},
   "outputs": [],
   "source": [
    "#5\n",
    "pypitpar.FluxCalibrationPar()"
   ]
  },
  {
   "cell_type": "code",
   "execution_count": null,
   "metadata": {},
   "outputs": [],
   "source": [
    "#6\n",
    "pypitpar.SkySubtractionPar()"
   ]
  },
  {
   "cell_type": "code",
   "execution_count": null,
   "metadata": {},
   "outputs": [],
   "source": [
    "# This is the composite parameter set\n",
    "pypitpar.ReducePar()"
   ]
  },
  {
   "cell_type": "markdown",
   "metadata": {},
   "source": [
    "### Frame groups\n",
    "\n",
    "Parameters used for each frame type (bias, pixelflat, etc) are abstracted to a single \"Frame-Group\" parameter set.  The default is 'bias'; valid frame types are shown using the static method `valid_frame_types` (see below).  The parameters used to combine frames are a subset of the Frame-Group Parameters"
   ]
  },
  {
   "cell_type": "code",
   "execution_count": null,
   "metadata": {},
   "outputs": [],
   "source": [
    "pypitpar.CombineFramesPar()"
   ]
  },
  {
   "cell_type": "code",
   "execution_count": null,
   "metadata": {},
   "outputs": [],
   "source": [
    "pypitpar.FrameGroupPar.valid_frame_types()"
   ]
  },
  {
   "cell_type": "code",
   "execution_count": null,
   "metadata": {},
   "outputs": [],
   "source": [
    "pypitpar.FrameGroupPar()"
   ]
  },
  {
   "cell_type": "markdown",
   "metadata": {},
   "source": [
    "### Wavelength solution"
   ]
  },
  {
   "cell_type": "code",
   "execution_count": null,
   "metadata": {},
   "outputs": [],
   "source": [
    "pypitpar.WavelengthSolutionPar()"
   ]
  },
  {
   "cell_type": "markdown",
   "metadata": {},
   "source": [
    "### Slit tracing\n",
    "\n",
    "The slit tracing parameter set includes the PCA parameters as a separate subset"
   ]
  },
  {
   "cell_type": "code",
   "execution_count": null,
   "metadata": {},
   "outputs": [],
   "source": [
    "pypitpar.PCAPar()"
   ]
  },
  {
   "cell_type": "code",
   "execution_count": null,
   "metadata": {},
   "outputs": [],
   "source": [
    "pypitpar.TraceSlitsPar()"
   ]
  },
  {
   "cell_type": "markdown",
   "metadata": {},
   "source": [
    "### Tilt tracing"
   ]
  },
  {
   "cell_type": "code",
   "execution_count": null,
   "metadata": {},
   "outputs": [],
   "source": [
    "pypitpar.TraceTiltsPar()"
   ]
  },
  {
   "cell_type": "markdown",
   "metadata": {},
   "source": [
    "### Object tracing"
   ]
  },
  {
   "cell_type": "code",
   "execution_count": null,
   "metadata": {},
   "outputs": [],
   "source": [
    "pypitpar.TraceObjectsPar()"
   ]
  },
  {
   "cell_type": "markdown",
   "metadata": {},
   "source": [
    "### Object extraction\n",
    "\n",
    "I provide an object that defines any manual extractions (a bit overkill):"
   ]
  },
  {
   "cell_type": "code",
   "execution_count": null,
   "metadata": {},
   "outputs": [],
   "source": [
    "pypitpar.ManualExtractionPar()"
   ]
  },
  {
   "cell_type": "markdown",
   "metadata": {},
   "source": [
    "Then the `manual` parameter in the `ExtractObjectsPar` is a list of the `ManualExtractionPar` objects for all the manual extractions to perform.  The number of manual extractions is just the length of the list or 0 if the element is `None`."
   ]
  },
  {
   "cell_type": "code",
   "execution_count": null,
   "metadata": {},
   "outputs": [],
   "source": [
    "p = pypitpar.ExtractObjectsPar()\n",
    "print(p)  # The printing goes a bit wrong for 'manual'\n",
    "nmanual = 0 if p['manual'] is None else len(p['manual'])\n",
    "print('Manual extractions to perform: {0}'.format(nmanual))"
   ]
  },
  {
   "cell_type": "markdown",
   "metadata": {},
   "source": [
    "### Instrument Parameters\n",
    "\n",
    "Similar to the `ExtractObjectsPar`, the `InstrumentPar` contains a list of other parameter sets.  In this case, it's the list of detectors.  Here's the list of detector parameters:"
   ]
  },
  {
   "cell_type": "code",
   "execution_count": null,
   "metadata": {},
   "outputs": [],
   "source": [
    "pypitpar.DetectorPar()"
   ]
  },
  {
   "cell_type": "markdown",
   "metadata": {},
   "source": [
    "Unlike `ExtractObjectsPar`, the `InstrumentPar` gives you at least one detector by default."
   ]
  },
  {
   "cell_type": "code",
   "execution_count": null,
   "metadata": {},
   "outputs": [],
   "source": [
    "p = pypitpar.InstrumentPar()\n",
    "print(p)  # Again, the printing goes wrong because detector is a list...\n",
    "print('Number of detectors: {0}'.format(len(p['detector'])))"
   ]
  },
  {
   "cell_type": "markdown",
   "metadata": {},
   "source": [
    "### Instrument fits files\n",
    "\n",
    "The `FrameFitsPar` provides the list of instrument-specific fits file parameters needed to read the data for *any* fits file from the instrument."
   ]
  },
  {
   "cell_type": "code",
   "execution_count": null,
   "metadata": {},
   "outputs": [],
   "source": [
    "pypitpar.FrameFitsPar()"
   ]
  },
  {
   "cell_type": "markdown",
   "metadata": {},
   "source": [
    "The `keydef` parameter is a dictionary with the list of defined keywords, and the `keycheck` parameter is a dictionary with the list of values that those keywords should take for a valid fits file.  The keyword definition and checking syntax is a bit different from what currently exists:"
   ]
  },
  {
   "cell_type": "code",
   "execution_count": null,
   "metadata": {},
   "outputs": [],
   "source": [
    "print(pypitpar.FrameFitsPar().descr['keydef'])"
   ]
  },
  {
   "cell_type": "code",
   "execution_count": null,
   "metadata": {},
   "outputs": [],
   "source": [
    "print(pypitpar.FrameFitsPar().descr['keycheck'])"
   ]
  },
  {
   "cell_type": "markdown",
   "metadata": {},
   "source": [
    "The defaults are meaningless, so here's the specific case of the Keck LRISb specifications."
   ]
  },
  {
   "cell_type": "code",
   "execution_count": null,
   "metadata": {},
   "outputs": [],
   "source": [
    "inp_cfg = ConfigObj('../../pypit/config/spectrographs/KECK_LRISb_spectrograph.cfg')\n",
    "cfg = pypitpar._recursive_dict_evaluate(inp_cfg)\n",
    "\n",
    "p = pypitpar.FrameFitsPar.from_dict(cfg['fits'])\n",
    "print('Header keyword definitions:')\n",
    "print(p['keydef'])\n",
    "print('\\nHeader keyword checks:')\n",
    "print(p['keycheck'])"
   ]
  },
  {
   "cell_type": "markdown",
   "metadata": {},
   "source": [
    "### Frame type identifications\n",
    "\n",
    "Like the frame groupings, I've abstracted the frame type identification parameters into the `FrameIDPar` class."
   ]
  },
  {
   "cell_type": "code",
   "execution_count": null,
   "metadata": {},
   "outputs": [],
   "source": [
    "pypitpar.FrameIDPar()"
   ]
  },
  {
   "cell_type": "markdown",
   "metadata": {},
   "source": [
    "The `fitspar` keyword points to the general parameters in the `FrameFitsPar` for the instrument.  Again, the defaults are meaningless, so here's the specific case of the bias frames for Keck LRISb."
   ]
  },
  {
   "cell_type": "code",
   "execution_count": null,
   "metadata": {},
   "outputs": [],
   "source": [
    "biasp = pypitpar.FrameIDPar.from_dict(p, 'bias', cfg['biasid'])\n",
    "print(biasp['keycheck'])"
   ]
  },
  {
   "cell_type": "markdown",
   "metadata": {},
   "source": [
    "## Putting it all together\n",
    "\n",
    "All of the above are expected to be parameter subsets that are passed to individual methods.  Sticking with the idea of having a single object that provides all the parameters needed for a run of `pypit`, the `PypitPar` object just collects all the above objects into a single parameter set."
   ]
  },
  {
   "cell_type": "code",
   "execution_count": 2,
   "metadata": {},
   "outputs": [
    {
     "data": {
      "text/plain": [
       "    Parameter      Value    Default          Type  Callable\n",
       "-----------------------------------------------------------\n",
       "          rdx  see below  see below  ParSet, dict     False\n",
       " calibrations  see below  see below  ParSet, dict     False\n",
       "standardframe  see below  see below  ParSet, dict     False\n",
       " scienceframe  see below  see below  ParSet, dict     False\n",
       "      objects  see below  see below  ParSet, dict     False\n",
       "      extract  see below  see below  ParSet, dict     False\n",
       "  skysubtract  see below  see below  ParSet, dict     False\n",
       "      flexure  see below  see below  ParSet, dict     False\n",
       "    wavecalib  see below  see below  ParSet, dict     False\n",
       "    fluxcalib  see below  see below  ParSet, dict     False\n",
       "\n",
       "rdx\n",
       "   Parameter    Value  Default  Type  Callable\n",
       "----------------------------------------------\n",
       "spectrograph     None     None   str     False\n",
       "    pipeline     None     None   str     False\n",
       "       ncpus        1        1   int     False\n",
       "      detnum     None     None   int     False\n",
       "      scidir  Science  Science   str     False\n",
       "\n",
       "calibrations\n",
       "     Parameter      Value    Default          Type  Callable\n",
       "------------------------------------------------------------\n",
       "        caldir         MF         MF           str     False\n",
       "       masters       None       None           str     False\n",
       "         setup       None       None           str     False\n",
       "          trim       True       True          bool     False\n",
       "        badpix       True       True          bool     False\n",
       "     flatfield  see below  see below  ParSet, dict     False\n",
       "     biasframe  see below  see below  ParSet, dict     False\n",
       "      arcframe  see below  see below  ParSet, dict     False\n",
       "pixelflatframe  see below  see below  ParSet, dict     False\n",
       "    traceframe  see below  see below  ParSet, dict     False\n",
       "   wavelengths  see below  see below  ParSet, dict     False\n",
       "         slits  see below  see below  ParSet, dict     False\n",
       "         tilts  see below  see below  ParSet, dict     False\n",
       "\n",
       "calibrations:flatfield\n",
       "  Parameter      Value    Default       Type  Callable\n",
       "------------------------------------------------------\n",
       "      frame  pixelflat  pixelflat        str     False\n",
       "slitprofile       True       True       bool     False\n",
       "     method    bspline    bspline        str     False\n",
       "     params         20         20  int, list     False\n",
       "    twodpca          0          0        int     False\n",
       "\n",
       "calibrations:biasframe\n",
       "Parameter      Value    Default          Type  Callable\n",
       "-------------------------------------------------------\n",
       "frametype       bias       bias           str     False\n",
       " useframe       None       None           str     False\n",
       "   number          0          0           int     False\n",
       "  combine  see below  see below  ParSet, dict     False\n",
       " lacosmic  see below  see below  ParSet, dict     False\n",
       "\n",
       "calibrations:biasframe:combine\n",
       "Parameter      Value    Default        Type  Callable\n",
       "-----------------------------------------------------\n",
       "    match         -1         -1  int, float     False\n",
       "   method       mean       mean         str     False\n",
       "   satpix     reject     reject         str     False\n",
       "  cosmics       20.0       20.0  int, float     False\n",
       "   n_lohi       0, 0       0, 0        list     False\n",
       " sig_lohi   3.0, 3.0   3.0, 3.0        list     False\n",
       "  replace  maxnonsat  maxnonsat         str     False\n",
       "\n",
       "calibrations:biasframe:lacosmic\n",
       "Parameter  Value  Default        Type  Callable\n",
       "-----------------------------------------------\n",
       "  maxiter      1        1         int     False\n",
       "     grow    1.5      1.5  int, float     False\n",
       "rmcompact   True     True        bool     False\n",
       "  sigclip    5.0      5.0  int, float     False\n",
       "  sigfrac    0.3      0.3  int, float     False\n",
       "   objlim    5.0      5.0  int, float     False\n",
       "\n",
       "calibrations:arcframe\n",
       "Parameter      Value    Default          Type  Callable\n",
       "-------------------------------------------------------\n",
       "frametype        arc       bias           str     False\n",
       " useframe       None       None           str     False\n",
       "   number          0          0           int     False\n",
       "  combine  see below  see below  ParSet, dict     False\n",
       " lacosmic  see below  see below  ParSet, dict     False\n",
       "\n",
       "calibrations:arcframe:combine\n",
       "Parameter      Value    Default        Type  Callable\n",
       "-----------------------------------------------------\n",
       "    match         -1         -1  int, float     False\n",
       "   method       mean       mean         str     False\n",
       "   satpix     reject     reject         str     False\n",
       "  cosmics       20.0       20.0  int, float     False\n",
       "   n_lohi       0, 0       0, 0        list     False\n",
       " sig_lohi   3.0, 3.0   3.0, 3.0        list     False\n",
       "  replace  maxnonsat  maxnonsat         str     False\n",
       "\n",
       "calibrations:arcframe:lacosmic\n",
       "Parameter  Value  Default        Type  Callable\n",
       "-----------------------------------------------\n",
       "  maxiter      1        1         int     False\n",
       "     grow    1.5      1.5  int, float     False\n",
       "rmcompact   True     True        bool     False\n",
       "  sigclip    5.0      5.0  int, float     False\n",
       "  sigfrac    0.3      0.3  int, float     False\n",
       "   objlim    5.0      5.0  int, float     False\n",
       "\n",
       "calibrations:pixelflatframe\n",
       "Parameter      Value    Default          Type  Callable\n",
       "-------------------------------------------------------\n",
       "frametype  pixelflat       bias           str     False\n",
       " useframe       None       None           str     False\n",
       "   number          0          0           int     False\n",
       "  combine  see below  see below  ParSet, dict     False\n",
       " lacosmic  see below  see below  ParSet, dict     False\n",
       "\n",
       "calibrations:pixelflatframe:combine\n",
       "Parameter      Value    Default        Type  Callable\n",
       "-----------------------------------------------------\n",
       "    match         -1         -1  int, float     False\n",
       "   method       mean       mean         str     False\n",
       "   satpix     reject     reject         str     False\n",
       "  cosmics       20.0       20.0  int, float     False\n",
       "   n_lohi       0, 0       0, 0        list     False\n",
       " sig_lohi   3.0, 3.0   3.0, 3.0        list     False\n",
       "  replace  maxnonsat  maxnonsat         str     False\n",
       "\n",
       "calibrations:pixelflatframe:lacosmic\n",
       "Parameter  Value  Default        Type  Callable\n",
       "-----------------------------------------------\n",
       "  maxiter      1        1         int     False\n",
       "     grow    1.5      1.5  int, float     False\n",
       "rmcompact   True     True        bool     False\n",
       "  sigclip    5.0      5.0  int, float     False\n",
       "  sigfrac    0.3      0.3  int, float     False\n",
       "   objlim    5.0      5.0  int, float     False\n",
       "\n",
       "calibrations:traceframe\n",
       "Parameter      Value    Default          Type  Callable\n",
       "-------------------------------------------------------\n",
       "frametype      trace       bias           str     False\n",
       " useframe       None       None           str     False\n",
       "   number          0          0           int     False\n",
       "  combine  see below  see below  ParSet, dict     False\n",
       " lacosmic  see below  see below  ParSet, dict     False\n",
       "\n",
       "calibrations:traceframe:combine\n",
       "Parameter      Value    Default        Type  Callable\n",
       "-----------------------------------------------------\n",
       "    match         -1         -1  int, float     False\n",
       "   method       mean       mean         str     False\n",
       "   satpix     reject     reject         str     False\n",
       "  cosmics       20.0       20.0  int, float     False\n",
       "   n_lohi       0, 0       0, 0        list     False\n",
       " sig_lohi   3.0, 3.0   3.0, 3.0        list     False\n",
       "  replace  maxnonsat  maxnonsat         str     False\n",
       "\n",
       "calibrations:traceframe:lacosmic\n",
       "Parameter  Value  Default        Type  Callable\n",
       "-----------------------------------------------\n",
       "  maxiter      1        1         int     False\n",
       "     grow    1.5      1.5  int, float     False\n",
       "rmcompact   True     True        bool     False\n",
       "  sigclip    5.0      5.0  int, float     False\n",
       "  sigfrac    0.3      0.3  int, float     False\n",
       "   objlim    5.0      5.0  int, float     False\n",
       "\n",
       "calibrations:wavelengths\n",
       "Parameter     Value   Default              Type  Callable\n",
       "---------------------------------------------------------\n",
       "   method  arclines  arclines               str     False\n",
       "    lamps      None      None              list     False\n",
       "detection       6.0       6.0        int, float     False\n",
       "numsearch        20        20               int     False\n",
       "  nfitpix         5         5               int     False\n",
       " IDpixels      None      None         int, list     False\n",
       "  IDwaves      None      None  int, float, list     False\n",
       "\n",
       "calibrations:slits\n",
       "    Parameter      Value    Default          Type  Callable\n",
       "-----------------------------------------------------------\n",
       "     function   legendre   legendre           str     False\n",
       "    polyorder          3          3           int     False\n",
       "       medrep          0          0           int     False\n",
       "       number         -1         -1           int     False\n",
       "         trim       3, 3       3, 3         tuple     False\n",
       "       maxgap       None       None           int     False\n",
       "     maxshift       0.15       0.15    int, float     False\n",
       "          pad          0          0           int     False\n",
       "    sigdetect       20.0       20.0    int, float     False\n",
       "   fracignore       0.01       0.01         float     False\n",
       "diffpolyorder          2          2           int     False\n",
       "       single       None       None          list     False\n",
       "   sobel_mode    nearest    nearest           str     False\n",
       "          pca  see below  see below  ParSet, dict     False\n",
       "\n",
       "calibrations:slits:pca\n",
       "  Parameter             Value           Default  Type  Callable\n",
       "---------------------------------------------------------------\n",
       "    pcatype             pixel             pixel   str     False\n",
       "     params  3, 2, 1, 0, 0, 0  3, 2, 1, 0, 0, 0  list     False\n",
       "extrapolate              0, 0              0, 0  list     False\n",
       "\n",
       "calibrations:tilts\n",
       "  Parameter     Value   Default                       Type  Callable\n",
       "--------------------------------------------------------------------\n",
       "    idsonly     False     False                       bool     False\n",
       "tracethresh    1000.0    1000.0  int, float, list, ndarray     False\n",
       "      order         1         1                        int     False\n",
       "   function  legendre  legendre                        str     False\n",
       "     yorder         1         1                        int     False\n",
       "     func2D  legendre  legendre                        str     False\n",
       "     method    spline    spline                        str     False\n",
       "     params   1, 1, 0   1, 1, 0                  int, list     False\n",
       "\n",
       "standardframe\n",
       "Parameter      Value    Default          Type  Callable\n",
       "-------------------------------------------------------\n",
       "frametype   standard       bias           str     False\n",
       " useframe       None       None           str     False\n",
       "   number          0          0           int     False\n",
       "  combine  see below  see below  ParSet, dict     False\n",
       " lacosmic  see below  see below  ParSet, dict     False\n",
       "\n",
       "standardframe:combine\n",
       "Parameter      Value    Default        Type  Callable\n",
       "-----------------------------------------------------\n",
       "    match         -1         -1  int, float     False\n",
       "   method       mean       mean         str     False\n",
       "   satpix     reject     reject         str     False\n",
       "  cosmics       20.0       20.0  int, float     False\n",
       "   n_lohi       0, 0       0, 0        list     False\n",
       " sig_lohi   3.0, 3.0   3.0, 3.0        list     False\n",
       "  replace  maxnonsat  maxnonsat         str     False\n",
       "\n",
       "standardframe:lacosmic\n",
       "Parameter  Value  Default        Type  Callable\n",
       "-----------------------------------------------\n",
       "  maxiter      1        1         int     False\n",
       "     grow    1.5      1.5  int, float     False\n",
       "rmcompact   True     True        bool     False\n",
       "  sigclip    5.0      5.0  int, float     False\n",
       "  sigfrac    0.3      0.3  int, float     False\n",
       "   objlim    5.0      5.0  int, float     False\n",
       "\n",
       "scienceframe\n",
       "Parameter      Value    Default          Type  Callable\n",
       "-------------------------------------------------------\n",
       "frametype    science       bias           str     False\n",
       " useframe       None       None           str     False\n",
       "   number          0          0           int     False\n",
       "  combine  see below  see below  ParSet, dict     False\n",
       " lacosmic  see below  see below  ParSet, dict     False\n",
       "\n",
       "scienceframe:combine\n",
       "Parameter      Value    Default        Type  Callable\n",
       "-----------------------------------------------------\n",
       "    match         -1         -1  int, float     False\n",
       "   method       mean       mean         str     False\n",
       "   satpix     reject     reject         str     False\n",
       "  cosmics       20.0       20.0  int, float     False\n",
       "   n_lohi       0, 0       0, 0        list     False\n",
       " sig_lohi   3.0, 3.0   3.0, 3.0        list     False\n",
       "  replace  maxnonsat  maxnonsat         str     False\n",
       "\n",
       "scienceframe:lacosmic\n",
       "Parameter  Value  Default        Type  Callable\n",
       "-----------------------------------------------\n",
       "  maxiter      1        1         int     False\n",
       "     grow    1.5      1.5  int, float     False\n",
       "rmcompact   True     True        bool     False\n",
       "  sigclip    5.0      5.0  int, float     False\n",
       "  sigfrac    0.3      0.3  int, float     False\n",
       "   objlim    5.0      5.0  int, float     False\n",
       "\n",
       "objects\n",
       "Parameter     Value   Default        Type  Callable\n",
       "---------------------------------------------------\n",
       " function  legendre  legendre         str     False\n",
       "    order         2         2         int     False\n",
       "     find  standard  standard         str     False\n",
       "  nsmooth         3         3  int, float     False\n",
       "    xedge      0.03      0.03       float     False\n",
       "   method       pca       pca         str     False\n",
       "   params      1, 0      1, 0   int, list     False\n",
       "\n",
       "extract\n",
       " Parameter     Value   Default        Type  Callable\n",
       "----------------------------------------------------\n",
       "  pixelmap      None      None         str     False\n",
       "pixelwidth       2.5       2.5  int, float     False\n",
       "     reuse     False     False        bool     False\n",
       "   profile  gaussian  gaussian         str     False\n",
       " maxnumber      None      None         int     False\n",
       "    manual      None      None        list     False\n",
       "\n",
       "skysubtract\n",
       "      Parameter  Value  Default        Type  Callable\n",
       "-----------------------------------------------------\n",
       "bspline_spacing    0.6      0.6  int, float     False\n",
       "\n",
       "flexure\n",
       "Parameter   Value  Default        Type  Callable\n",
       "------------------------------------------------\n",
       "   method  boxcar   boxcar         str     False\n",
       " maxshift      20       20  int, float     False\n",
       " spectrum    None     None         str     False\n",
       "\n",
       "wavecalib\n",
       "Parameter   Value  Default  Type  Callable\n",
       "------------------------------------------\n",
       "   medium  vacuum   vacuum   str     False\n",
       " refframe    None     None   str     False\n",
       "\n",
       "fluxcalib\n",
       "Parameter  Value  Default  Type  Callable\n",
       "-----------------------------------------\n",
       "     flux  False    False  bool     False\n",
       "nonlinear  False    False  bool     False\n",
       " sensfunc   None     None   str     False"
      ]
     },
     "execution_count": 2,
     "metadata": {},
     "output_type": "execute_result"
    }
   ],
   "source": [
    "pypitpar.PypitPar()"
   ]
  },
  {
   "cell_type": "markdown",
   "metadata": {},
   "source": [
    "Like all the other pypit parameter sets, `PypitPar` has a `from_dict` method, but we're mostly going to want to use its `from_cfg_file` method to build the parameter set for each pypit run."
   ]
  },
  {
   "cell_type": "code",
   "execution_count": null,
   "metadata": {},
   "outputs": [],
   "source": [
    "help(pypitpar.PypitPar.from_cfg_file)"
   ]
  },
  {
   "cell_type": "markdown",
   "metadata": {},
   "source": [
    "You can get the default parameters and print the result like this."
   ]
  },
  {
   "cell_type": "code",
   "execution_count": 3,
   "metadata": {
    "scrolled": true
   },
   "outputs": [],
   "source": [
    "# Write the defaults\n",
    "p = pypitpar.PypitPar.from_cfg_file()\n",
    "p.to_config('default.cfg')"
   ]
  },
  {
   "cell_type": "markdown",
   "metadata": {},
   "source": [
    "You can then read it back in.  The `expand_spectrograph` option allows you to set all the spectrograph setting using the `spectrograph` keyword in the input config file (this is `KECK_LRISb` by default).  If you just want to use what's in the config file without finding the spectrograph configuration file (because those keywords are already in the configuration file in this example), you would set `expand_spectrograph=False`."
   ]
  },
  {
   "cell_type": "code",
   "execution_count": 4,
   "metadata": {},
   "outputs": [
    {
     "data": {
      "text/plain": [
       "True"
      ]
     },
     "execution_count": 4,
     "metadata": {},
     "output_type": "execute_result"
    }
   ],
   "source": [
    "# Read them in\n",
    "p = pypitpar.PypitPar.from_cfg_file('default.cfg')\n",
    "p['rdx']['spectrograph'] is None"
   ]
  },
  {
   "cell_type": "markdown",
   "metadata": {},
   "source": [
    "### User-level example\n",
    "\n",
    "I import `PypitPar` as part of the `__init__.py` setup of the `pypit.par` module, meaning you can import it directly.  I expect this is how we'll use it in the rest of the code."
   ]
  },
  {
   "cell_type": "code",
   "execution_count": 5,
   "metadata": {},
   "outputs": [],
   "source": [
    "from pypit.par import PypitPar"
   ]
  },
  {
   "cell_type": "markdown",
   "metadata": {},
   "source": [
    "To set up a `PypitPar` object similar to what's currently done using the `keck_lris_blue_long_400_3400_d560.pypit` file in the dev suite, I would do the following:"
   ]
  },
  {
   "cell_type": "code",
   "execution_count": 6,
   "metadata": {},
   "outputs": [],
   "source": [
    "p = PypitPar.from_cfg_file(merge_with='keck_lris_blue_long_400_3400_d560.cfg')"
   ]
  },
  {
   "cell_type": "markdown",
   "metadata": {},
   "source": [
    "I actually had to comment out the definition of the flexure spectrum because I can't find it on my disk, and the declaration above faults when it can't find the file.\n",
    "\n",
    "With the declaration above, all the default parameters are set, the spectrograph key (`KECK_LRISb`) is used to find the appropriate spectrograph definition file (`../../pypit/config/spectrographs/KECK_LRISb_spectrograph.cfg`), and both are merged with the alterations in the local `keck_lris_blue_long_400_3400_d560.cfg` file.\n",
    "\n",
    "You can print the compiled parameters using the `to_config` method."
   ]
  },
  {
   "cell_type": "code",
   "execution_count": 7,
   "metadata": {},
   "outputs": [],
   "source": [
    "p.to_config('compiled_example.cfg')"
   ]
  },
  {
   "cell_type": "code",
   "execution_count": null,
   "metadata": {},
   "outputs": [],
   "source": []
  }
 ],
 "metadata": {
  "kernelspec": {
   "display_name": "Python 3",
   "language": "python",
   "name": "python3"
  },
  "language_info": {
   "codemirror_mode": {
    "name": "ipython",
    "version": 3
   },
   "file_extension": ".py",
   "mimetype": "text/x-python",
   "name": "python",
   "nbconvert_exporter": "python",
   "pygments_lexer": "ipython3",
   "version": "3.6.2"
  }
 },
 "nbformat": 4,
 "nbformat_minor": 2
}
