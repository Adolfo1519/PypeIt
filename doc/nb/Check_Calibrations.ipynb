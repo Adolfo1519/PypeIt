{
 "cells": [
  {
   "cell_type": "markdown",
   "metadata": {},
   "source": [
    "# Check for Calibrations"
   ]
  },
  {
   "cell_type": "code",
   "execution_count": 1,
   "metadata": {},
   "outputs": [],
   "source": [
    "# imports\n",
    "import os\n",
    "from importlib import reload\n",
    "\n",
    "from pypeit.scripts import chk_calibs"
   ]
  },
  {
   "cell_type": "markdown",
   "metadata": {},
   "source": [
    "# DEIMOS"
   ]
  },
  {
   "cell_type": "code",
   "execution_count": 2,
   "metadata": {},
   "outputs": [],
   "source": [
    "droot = os.path.join(os.environ['PYPEIT_DEV'], 'RAW_DATA/keck_deimos/*/')"
   ]
  },
  {
   "cell_type": "markdown",
   "metadata": {},
   "source": [
    "## pargs"
   ]
  },
  {
   "cell_type": "code",
   "execution_count": 3,
   "metadata": {},
   "outputs": [],
   "source": [
    "pargs = chk_calibs.parser(['-r', droot, '-s', 'keck_deimos'])"
   ]
  },
  {
   "cell_type": "markdown",
   "metadata": {},
   "source": [
    "## run"
   ]
  },
  {
   "cell_type": "code",
   "execution_count": 12,
   "metadata": {},
   "outputs": [
    {
     "name": "stderr",
     "output_type": "stream",
     "text": [
      "\u001b[1;32m[INFO]    ::\u001b[0m \u001b[1;34mpypeitsetup.py 209 from_file_root()\u001b[0m - A vanilla pypeit file will be written to: /home/xavier/Projects/PypeIt/doc/nb/setup_files/keck_deimos_2020-Jul-02.pypeit\n",
      "\u001b[1;32m[INFO]    ::\u001b[0m \u001b[1;34mutil.py 607 make_pypeit_file()\u001b[0m - PypeIt file written to: /home/xavier/Projects/PypeIt/doc/nb/setup_files/keck_deimos_2020-Jul-02.pypeit\n",
      "\u001b[1;32m[INFO]    ::\u001b[0m \u001b[1;34mutil.py 459 parse_pypeit_file()\u001b[0m - Loading the reduction file\n",
      "\u001b[1;32m[INFO]    ::\u001b[0m \u001b[1;34mutil.py 485 parse_pypeit_file()\u001b[0m - Found 90 raw data frames\n",
      "\u001b[1;32m[INFO]    ::\u001b[0m \u001b[1;34mutil.py 507 parse_pypeit_file()\u001b[0m - Input file loaded successfully\n",
      "\u001b[1;32m[INFO]    ::\u001b[0m \u001b[1;34mmetadata.py 200 _build()\u001b[0m - Added metadata for d0527_0031.fits.gz\n",
      "\u001b[1;32m[INFO]    ::\u001b[0m \u001b[1;34mmetadata.py 200 _build()\u001b[0m - Added metadata for DE.20170527.37601.fits\n",
      "\u001b[1;32m[INFO]    ::\u001b[0m \u001b[1;34mmetadata.py 200 _build()\u001b[0m - Added metadata for DE.20170527.06864.fits\n",
      "\u001b[1;32m[INFO]    ::\u001b[0m \u001b[1;34mmetadata.py 200 _build()\u001b[0m - Added metadata for DE.20170527.53184.fits\n",
      "\u001b[1;32m[INFO]    ::\u001b[0m \u001b[1;34mmetadata.py 200 _build()\u001b[0m - Added metadata for DE.20170527.06790.fits\n",
      "\u001b[1;32m[INFO]    ::\u001b[0m \u001b[1;34mmetadata.py 200 _build()\u001b[0m - Added metadata for DE.20170527.41775.fits\n",
      "\u001b[1;32m[INFO]    ::\u001b[0m \u001b[1;34mmetadata.py 200 _build()\u001b[0m - Added metadata for DE.20170527.38872.fits\n",
      "\u001b[1;32m[INFO]    ::\u001b[0m \u001b[1;34mmetadata.py 200 _build()\u001b[0m - Added metadata for d0527_0030.fits.gz\n",
      "\u001b[1;32m[INFO]    ::\u001b[0m \u001b[1;34mmetadata.py 200 _build()\u001b[0m - Added metadata for d0527_0032.fits.gz\n",
      "\u001b[1;32m[INFO]    ::\u001b[0m \u001b[1;34mmetadata.py 200 _build()\u001b[0m - Added metadata for d0527_0083.fits.gz\n",
      "\u001b[1;32m[INFO]    ::\u001b[0m \u001b[1;34mmetadata.py 200 _build()\u001b[0m - Added metadata for DE.20170527.43045.fits\n",
      "\u001b[1;32m[INFO]    ::\u001b[0m \u001b[1;34mmetadata.py 200 _build()\u001b[0m - Added metadata for DE.20170527.06936.fits\n",
      "\u001b[1;32m[INFO]    ::\u001b[0m \u001b[1;34mmetadata.py 200 _build()\u001b[0m - Added metadata for d0527_0081.fits.gz\n",
      "\u001b[1;32m[INFO]    ::\u001b[0m \u001b[1;34mmetadata.py 200 _build()\u001b[0m - Added metadata for DE.20170527.06713.fits\n",
      "\u001b[1;32m[INFO]    ::\u001b[0m \u001b[1;34mmetadata.py 200 _build()\u001b[0m - Added metadata for DE.20170527.44316.fits\n",
      "\u001b[1;32m[INFO]    ::\u001b[0m \u001b[1;34mmetadata.py 200 _build()\u001b[0m - Added metadata for d0527_0033.fits.gz\n",
      "\u001b[1;32m[INFO]    ::\u001b[0m \u001b[1;34mmetadata.py 200 _build()\u001b[0m - Added metadata for DE.20140226.61512.fits\n",
      "\u001b[1;32m[INFO]    ::\u001b[0m \u001b[1;34mmetadata.py 200 _build()\u001b[0m - Added metadata for DE.20140226.61587.fits\n",
      "\u001b[1;32m[INFO]    ::\u001b[0m \u001b[1;34mmetadata.py 200 _build()\u001b[0m - Added metadata for DE.20140226.52536.fits\n",
      "\u001b[1;32m[INFO]    ::\u001b[0m \u001b[1;34mmetadata.py 200 _build()\u001b[0m - Added metadata for DE.20140226.50959.fits\n",
      "\u001b[1;32m[INFO]    ::\u001b[0m \u001b[1;34mmetadata.py 200 _build()\u001b[0m - Added metadata for DE.20140226.54107.fits\n",
      "\u001b[1;32m[INFO]    ::\u001b[0m \u001b[1;34mmetadata.py 200 _build()\u001b[0m - Added metadata for DE.20140226.61663.fits\n",
      "\u001b[1;32m[INFO]    ::\u001b[0m \u001b[1;34mmetadata.py 200 _build()\u001b[0m - Added metadata for DE.20140226.61434.fits\n",
      "\u001b[1;32m[INFO]    ::\u001b[0m \u001b[1;34mmetadata.py 200 _build()\u001b[0m - Added metadata for DE.20130409.10219.fits.gz\n",
      "\u001b[1;32m[INFO]    ::\u001b[0m \u001b[1;34mmetadata.py 200 _build()\u001b[0m - Added metadata for DE.20130409.10065.fits.gz\n",
      "\u001b[1;32m[INFO]    ::\u001b[0m \u001b[1;34mmetadata.py 200 _build()\u001b[0m - Added metadata for DE.20130409.10145.fits.gz\n",
      "\u001b[1;32m[INFO]    ::\u001b[0m \u001b[1;34mmetadata.py 200 _build()\u001b[0m - Added metadata for DE.20130409.22509.fits.gz\n",
      "\u001b[1;32m[INFO]    ::\u001b[0m \u001b[1;34mmetadata.py 200 _build()\u001b[0m - Added metadata for DE.20130409.09996.fits.gz\n",
      "\u001b[1;32m[INFO]    ::\u001b[0m \u001b[1;34mmetadata.py 200 _build()\u001b[0m - Added metadata for DE.20130409.20629.fits.gz\n",
      "\u001b[1;32m[INFO]    ::\u001b[0m \u001b[1;34mmetadata.py 200 _build()\u001b[0m - Added metadata for d0526_0067.fits.gz\n",
      "\u001b[1;32m[INFO]    ::\u001b[0m \u001b[1;34mmetadata.py 200 _build()\u001b[0m - Added metadata for d0526_0066.fits.gz\n",
      "\u001b[1;32m[INFO]    ::\u001b[0m \u001b[1;34mmetadata.py 200 _build()\u001b[0m - Added metadata for d0526_0069.fits.gz\n",
      "\u001b[1;32m[INFO]    ::\u001b[0m \u001b[1;34mmetadata.py 200 _build()\u001b[0m - Added metadata for d0526_0068.fits.gz\n",
      "\u001b[1;32m[INFO]    ::\u001b[0m \u001b[1;34mmetadata.py 200 _build()\u001b[0m - Added metadata for d0526_0124.fits.gz\n",
      "\u001b[1;32m[INFO]    ::\u001b[0m \u001b[1;34mmetadata.py 200 _build()\u001b[0m - Added metadata for d0526_0123.fits.gz\n",
      "\u001b[1;32m[INFO]    ::\u001b[0m \u001b[1;34mmetadata.py 200 _build()\u001b[0m - Added metadata for d0526_0122.fits.gz\n",
      "\u001b[1;32m[INFO]    ::\u001b[0m \u001b[1;34mmetadata.py 200 _build()\u001b[0m - Added metadata for d0316_0042.fits\n",
      "\u001b[1;32m[INFO]    ::\u001b[0m \u001b[1;34mmetadata.py 200 _build()\u001b[0m - Added metadata for d0316_0038.fits\n",
      "\u001b[1;32m[INFO]    ::\u001b[0m \u001b[1;34mmetadata.py 200 _build()\u001b[0m - Added metadata for d0316_0039.fits\n",
      "\u001b[1;32m[INFO]    ::\u001b[0m \u001b[1;34mmetadata.py 200 _build()\u001b[0m - Added metadata for d0316_0043.fits\n",
      "\u001b[1;32m[INFO]    ::\u001b[0m \u001b[1;34mmetadata.py 200 _build()\u001b[0m - Added metadata for d0316_0040.fits\n",
      "\u001b[1;32m[INFO]    ::\u001b[0m \u001b[1;34mmetadata.py 200 _build()\u001b[0m - Added metadata for d0316_0037.fits\n",
      "\u001b[1;32m[INFO]    ::\u001b[0m \u001b[1;34mmetadata.py 200 _build()\u001b[0m - Added metadata for d0316_0044.fits\n",
      "\u001b[1;32m[INFO]    ::\u001b[0m \u001b[1;34mmetadata.py 200 _build()\u001b[0m - Added metadata for d0316_0041.fits\n",
      "\u001b[1;32m[INFO]    ::\u001b[0m \u001b[1;34mmetadata.py 200 _build()\u001b[0m - Added metadata for d0316_0045.fits\n",
      "\u001b[1;32m[INFO]    ::\u001b[0m \u001b[1;34mmetadata.py 200 _build()\u001b[0m - Added metadata for DE.20100913.22358.fits.gz\n",
      "\u001b[1;32m[INFO]    ::\u001b[0m \u001b[1;34mmetadata.py 200 _build()\u001b[0m - Added metadata for DE.20100913.57006.fits.gz\n",
      "\u001b[1;32m[INFO]    ::\u001b[0m \u001b[1;34mmetadata.py 200 _build()\u001b[0m - Added metadata for DE.20100913.57161.fits.gz\n",
      "\u001b[1;32m[INFO]    ::\u001b[0m \u001b[1;34mmetadata.py 200 _build()\u001b[0m - Added metadata for DE.20100913.56927.fits.gz\n",
      "\u001b[1;32m[INFO]    ::\u001b[0m \u001b[1;34mmetadata.py 200 _build()\u001b[0m - Added metadata for d0914_0036.fits.gz\n",
      "\u001b[1;32m[INFO]    ::\u001b[0m \u001b[1;34mmetadata.py 200 _build()\u001b[0m - Added metadata for d0914_0047.fits.gz\n",
      "\u001b[1;32m[INFO]    ::\u001b[0m \u001b[1;34mmetadata.py 200 _build()\u001b[0m - Added metadata for d0914_0015.fits.gz\n",
      "\u001b[1;32m[INFO]    ::\u001b[0m \u001b[1;34mmetadata.py 200 _build()\u001b[0m - Added metadata for d0914_0002.fits.gz\n",
      "\u001b[1;32m[INFO]    ::\u001b[0m \u001b[1;34mmetadata.py 200 _build()\u001b[0m - Added metadata for d0914_0013.fits.gz\n",
      "\u001b[1;32m[INFO]    ::\u001b[0m \u001b[1;34mmetadata.py 200 _build()\u001b[0m - Added metadata for d0914_0014.fits.gz\n",
      "\u001b[1;32m[INFO]    ::\u001b[0m \u001b[1;34mmetadata.py 200 _build()\u001b[0m - Added metadata for d0914_0038.fits.gz\n",
      "\u001b[1;32m[INFO]    ::\u001b[0m \u001b[1;34mmetadata.py 200 _build()\u001b[0m - Added metadata for d0914_0037.fits.gz\n",
      "\u001b[1;32m[INFO]    ::\u001b[0m \u001b[1;34mmetadata.py 200 _build()\u001b[0m - Added metadata for d0914_0011.fits.gz\n",
      "\u001b[1;32m[INFO]    ::\u001b[0m \u001b[1;34mmetadata.py 200 _build()\u001b[0m - Added metadata for d0913_0025.fits\n",
      "\u001b[1;32m[INFO]    ::\u001b[0m \u001b[1;34mmetadata.py 200 _build()\u001b[0m - Added metadata for d0913_0013.fits\n",
      "\u001b[1;32m[INFO]    ::\u001b[0m \u001b[1;34mmetadata.py 200 _build()\u001b[0m - Added metadata for d0913_0019.fits\n",
      "\u001b[1;32m[INFO]    ::\u001b[0m \u001b[1;34mmetadata.py 200 _build()\u001b[0m - Added metadata for d0913_0014.fits\n",
      "\u001b[1;32m[INFO]    ::\u001b[0m \u001b[1;34mmetadata.py 200 _build()\u001b[0m - Added metadata for d0913_0033.fits\n",
      "\u001b[1;32m[INFO]    ::\u001b[0m \u001b[1;34mmetadata.py 200 _build()\u001b[0m - Added metadata for d0913_0018.fits\n",
      "\u001b[1;32m[INFO]    ::\u001b[0m \u001b[1;34mmetadata.py 200 _build()\u001b[0m - Added metadata for d0913_0015.fits\n",
      "\u001b[1;32m[INFO]    ::\u001b[0m \u001b[1;34mmetadata.py 200 _build()\u001b[0m - Added metadata for d0913_0016.fits\n",
      "\u001b[1;32m[INFO]    ::\u001b[0m \u001b[1;34mmetadata.py 200 _build()\u001b[0m - Added metadata for d0913_0024.fits\n",
      "\u001b[1;32m[INFO]    ::\u001b[0m \u001b[1;34mmetadata.py 200 _build()\u001b[0m - Added metadata for d0913_0017.fits\n",
      "\u001b[1;32m[INFO]    ::\u001b[0m \u001b[1;34mmetadata.py 200 _build()\u001b[0m - Added metadata for DE.20170425.50487.fits.gz\n",
      "\u001b[1;32m[INFO]    ::\u001b[0m \u001b[1;34mmetadata.py 200 _build()\u001b[0m - Added metadata for DE.20170425.09554.fits.gz\n",
      "\u001b[1;32m[INFO]    ::\u001b[0m \u001b[1;34mmetadata.py 200 _build()\u001b[0m - Added metadata for DE.20170425.09803.fits.gz\n",
      "\u001b[1;32m[INFO]    ::\u001b[0m \u001b[1;34mmetadata.py 200 _build()\u001b[0m - Added metadata for DE.20170425.53065.fits.gz\n",
      "\u001b[1;32m[INFO]    ::\u001b[0m \u001b[1;34mmetadata.py 200 _build()\u001b[0m - Added metadata for DE.20170425.09632.fits.gz\n",
      "\u001b[1;32m[INFO]    ::\u001b[0m \u001b[1;34mmetadata.py 200 _build()\u001b[0m - Added metadata for DE.20170425.51771.fits.gz\n",
      "\u001b[1;32m[INFO]    ::\u001b[0m \u001b[1;34mmetadata.py 200 _build()\u001b[0m - Added metadata for DE.20170425.09722.fits.gz\n"
     ]
    },
    {
     "name": "stderr",
     "output_type": "stream",
     "text": [
      "\u001b[1;32m[INFO]    ::\u001b[0m \u001b[1;34mmetadata.py 200 _build()\u001b[0m - Added metadata for d1010_0022.fits.gz\n",
      "\u001b[1;32m[INFO]    ::\u001b[0m \u001b[1;34mmetadata.py 200 _build()\u001b[0m - Added metadata for d1010_0040.fits.gz\n",
      "\u001b[1;32m[INFO]    ::\u001b[0m \u001b[1;34mmetadata.py 200 _build()\u001b[0m - Added metadata for d1010_0019.fits.gz\n",
      "\u001b[1;32m[INFO]    ::\u001b[0m \u001b[1;34mmetadata.py 200 _build()\u001b[0m - Added metadata for d1010_0005.fits.gz\n",
      "\u001b[1;32m[INFO]    ::\u001b[0m \u001b[1;34mmetadata.py 200 _build()\u001b[0m - Added metadata for d1010_0006.fits.gz\n",
      "\u001b[1;32m[INFO]    ::\u001b[0m \u001b[1;34mmetadata.py 200 _build()\u001b[0m - Added metadata for d1010_0056.fits.gz\n",
      "\u001b[1;32m[INFO]    ::\u001b[0m \u001b[1;34mmetadata.py 200 _build()\u001b[0m - Added metadata for d1010_0025.fits.gz\n",
      "\u001b[1;32m[INFO]    ::\u001b[0m \u001b[1;34mmetadata.py 200 _build()\u001b[0m - Added metadata for d1010_0057.fits.gz\n",
      "\u001b[1;32m[INFO]    ::\u001b[0m \u001b[1;34mmetadata.py 200 _build()\u001b[0m - Added metadata for d1010_0041.fits.gz\n",
      "\u001b[1;32m[INFO]    ::\u001b[0m \u001b[1;34mmetadata.py 200 _build()\u001b[0m - Added metadata for d0526_0049.fits.gz\n",
      "\u001b[1;32m[INFO]    ::\u001b[0m \u001b[1;34mmetadata.py 200 _build()\u001b[0m - Added metadata for d0526_0109.fits.gz\n",
      "\u001b[1;32m[INFO]    ::\u001b[0m \u001b[1;34mmetadata.py 200 _build()\u001b[0m - Added metadata for d0526_0048.fits.gz\n",
      "\u001b[1;32m[INFO]    ::\u001b[0m \u001b[1;34mmetadata.py 200 _build()\u001b[0m - Added metadata for d0526_0110.fits.gz\n",
      "\u001b[1;32m[INFO]    ::\u001b[0m \u001b[1;34mmetadata.py 200 _build()\u001b[0m - Added metadata for d0526_0046.fits.gz\n",
      "\u001b[1;32m[INFO]    ::\u001b[0m \u001b[1;34mmetadata.py 200 _build()\u001b[0m - Added metadata for d0526_0047.fits.gz\n",
      "\u001b[1;32m[INFO]    ::\u001b[0m \u001b[1;34mmetadata.py 1185 get_frame_types()\u001b[0m - Typing files\n",
      "\u001b[1;31m[WARNING] ::\u001b[0m \u001b[1;34mkeck_deimos.py 329 check_frame_type()\u001b[0m - Cannot determine if frames are of type align.\n",
      "\u001b[1;31m[WARNING] ::\u001b[0m \u001b[1;34mkeck_deimos.py 329 check_frame_type()\u001b[0m - Cannot determine if frames are of type standard.\n",
      "\u001b[1;32m[INFO]    ::\u001b[0m \u001b[1;34mmetadata.py 1253 get_frame_types()\u001b[0m - Typing completed!\n",
      "\u001b[1;32m[INFO]    ::\u001b[0m \u001b[1;34mmetadata.py 731 unique_configurations()\u001b[0m - Using metadata to determine unique configurations.\n",
      "\u001b[1;32m[INFO]    ::\u001b[0m \u001b[1;34mmetadata.py 739 unique_configurations()\u001b[0m - Unique configurations ignore frames with type: ['bias', 'dark']\n",
      "\u001b[1;32m[INFO]    ::\u001b[0m \u001b[1;34mmetadata.py 786 unique_configurations()\u001b[0m - Found 11 unique configurations.\n",
      "\u001b[1;32m[INFO]    ::\u001b[0m \u001b[1;34mpypeitsetup.py 447 run()\u001b[0m - Wrote sorted file data to /home/xavier/Projects/PypeIt/doc/nb/setup_files/keck_deimos_2020-Jul-02.sorted\n",
      "\u001b[1;32m[INFO]    ::\u001b[0m \u001b[1;34mpypeitsetup.py 473 run()\u001b[0m - Setup is complete.\n",
      "\u001b[1;32m[INFO]    ::\u001b[0m \u001b[1;34mpypeitsetup.py 474 run()\u001b[0m - Inspect the .sorted file\n",
      "\u001b[1;32m[INFO]    ::\u001b[0m \u001b[1;34mchk_calibs.py 74 main()\u001b[0m - Loaded spectrograph keck_deimos\n",
      "\u001b[1;32m[INFO]    ::\u001b[0m \u001b[1;34mchk_calibs.py 98 main()\u001b[0m - =======================================================================\n",
      "\u001b[1;32m[INFO]    ::\u001b[0m \u001b[1;34mchk_calibs.py 99 main()\u001b[0m - Working on setup: A\n",
      "\u001b[1;32m[INFO]    ::\u001b[0m \u001b[1;34mchk_calibs.py 100 main()\u001b[0m - {'Setup A': {'--': {'disperser': {'name': '830G', 'angle': 8099.98291016}, 'dichroic': 'none', 'slit': {'decker': 'LongMirr', 'slitwid': 'none', 'slitlen': 'none'}, 'binning': '1,1'}}}\n",
      "\u001b[1;32m[INFO]    ::\u001b[0m \u001b[1;34mchk_calibs.py 101 main()\u001b[0m - =======================================================================\n",
      "\u001b[1;32m[INFO]    ::\u001b[0m \u001b[1;34mchk_calibs.py 114 main()\u001b[0m - Setting configuration-specific parameters using DE.20170527.44316.fits\n",
      "\u001b[1;32m[INFO]    ::\u001b[0m \u001b[1;34mchk_calibs.py 125 main()\u001b[0m - Your science frames are:        filename       \n",
      "----------------------\n",
      "DE.20170527.37601.fits\n",
      "DE.20170527.53184.fits\n",
      "DE.20170527.41775.fits\n",
      "DE.20170527.38872.fits\n",
      "    d0527_0083.fits.gz\n",
      "DE.20170527.43045.fits\n",
      "    d0527_0081.fits.gz\n",
      "DE.20170527.44316.fits\n",
      "\u001b[1;32m[INFO]    ::\u001b[0m \u001b[1;34mcalibrations.py 892 check_for_calibs()\u001b[0m - Congrats!!  You passed the calibrations inspection!!\n",
      "\u001b[1;32m[INFO]    ::\u001b[0m \u001b[1;34mchk_calibs.py 98 main()\u001b[0m - =======================================================================\n",
      "\u001b[1;32m[INFO]    ::\u001b[0m \u001b[1;34mchk_calibs.py 99 main()\u001b[0m - Working on setup: B\n",
      "\u001b[1;32m[INFO]    ::\u001b[0m \u001b[1;34mchk_calibs.py 100 main()\u001b[0m - {'Setup B': {'--': {'disperser': {'name': '600ZD', 'angle': 7500.02246094}, 'dichroic': 'none', 'slit': {'decker': 'jcCIV2C', 'slitwid': 'none', 'slitlen': 'none'}, 'binning': '1,1'}}}\n",
      "\u001b[1;32m[INFO]    ::\u001b[0m \u001b[1;34mchk_calibs.py 101 main()\u001b[0m - =======================================================================\n",
      "\u001b[1;32m[INFO]    ::\u001b[0m \u001b[1;34mchk_calibs.py 114 main()\u001b[0m - Setting configuration-specific parameters using DE.20140226.54107.fits\n",
      "\u001b[1;32m[INFO]    ::\u001b[0m \u001b[1;34mchk_calibs.py 125 main()\u001b[0m - Your science frames are:        filename       \n",
      "----------------------\n",
      "DE.20140226.52536.fits\n",
      "DE.20140226.50959.fits\n",
      "DE.20140226.54107.fits\n",
      "\u001b[1;32m[INFO]    ::\u001b[0m \u001b[1;34mcalibrations.py 892 check_for_calibs()\u001b[0m - Congrats!!  You passed the calibrations inspection!!\n",
      "\u001b[1;32m[INFO]    ::\u001b[0m \u001b[1;34mchk_calibs.py 98 main()\u001b[0m - =======================================================================\n",
      "\u001b[1;32m[INFO]    ::\u001b[0m \u001b[1;34mchk_calibs.py 99 main()\u001b[0m - Working on setup: C\n",
      "\u001b[1;32m[INFO]    ::\u001b[0m \u001b[1;34mchk_calibs.py 100 main()\u001b[0m - {'Setup C': {'--': {'disperser': {'name': '830G', 'angle': 8600.02148438}, 'dichroic': 'none', 'slit': {'decker': 'Z6CL01B', 'slitwid': 'none', 'slitlen': 'none'}, 'binning': '1,1'}}}\n",
      "\u001b[1;32m[INFO]    ::\u001b[0m \u001b[1;34mchk_calibs.py 101 main()\u001b[0m - =======================================================================\n",
      "\u001b[1;32m[INFO]    ::\u001b[0m \u001b[1;34mchk_calibs.py 114 main()\u001b[0m - Setting configuration-specific parameters using DE.20130409.20629.fits.gz\n",
      "\u001b[1;32m[INFO]    ::\u001b[0m \u001b[1;34mchk_calibs.py 125 main()\u001b[0m - Your science frames are:          filename        \n",
      "-------------------------\n",
      "DE.20130409.22509.fits.gz\n",
      "DE.20130409.20629.fits.gz\n",
      "\u001b[1;32m[INFO]    ::\u001b[0m \u001b[1;34mcalibrations.py 892 check_for_calibs()\u001b[0m - Congrats!!  You passed the calibrations inspection!!\n",
      "\u001b[1;32m[INFO]    ::\u001b[0m \u001b[1;34mchk_calibs.py 98 main()\u001b[0m - =======================================================================\n",
      "\u001b[1;32m[INFO]    ::\u001b[0m \u001b[1;34mchk_calibs.py 99 main()\u001b[0m - Working on setup: D\n",
      "\u001b[1;32m[INFO]    ::\u001b[0m \u001b[1;34mchk_calibs.py 100 main()\u001b[0m - {'Setup D': {'--': {'disperser': {'name': '830G', 'angle': 8099.98291016}, 'dichroic': 'none', 'slit': {'decker': 'm247', 'slitwid': 'none', 'slitlen': 'none'}, 'binning': '1,1'}}}\n",
      "\u001b[1;32m[INFO]    ::\u001b[0m \u001b[1;34mchk_calibs.py 101 main()\u001b[0m - =======================================================================\n",
      "\u001b[1;32m[INFO]    ::\u001b[0m \u001b[1;34mchk_calibs.py 114 main()\u001b[0m - Setting configuration-specific parameters using d0526_0122.fits.gz\n",
      "\u001b[1;32m[INFO]    ::\u001b[0m \u001b[1;34mchk_calibs.py 125 main()\u001b[0m - Your science frames are:      filename     \n",
      "------------------\n",
      "d0526_0124.fits.gz\n",
      "d0526_0123.fits.gz\n",
      "d0526_0122.fits.gz\n",
      "\u001b[1;32m[INFO]    ::\u001b[0m \u001b[1;34mcalibrations.py 892 check_for_calibs()\u001b[0m - Congrats!!  You passed the calibrations inspection!!\n",
      "\u001b[1;32m[INFO]    ::\u001b[0m \u001b[1;34mchk_calibs.py 98 main()\u001b[0m - =======================================================================\n",
      "\u001b[1;32m[INFO]    ::\u001b[0m \u001b[1;34mchk_calibs.py 99 main()\u001b[0m - Working on setup: E\n",
      "\u001b[1;32m[INFO]    ::\u001b[0m \u001b[1;34mchk_calibs.py 100 main()\u001b[0m - {'Setup E': {'--': {'disperser': {'name': '830G', 'angle': 8399.93554688}, 'dichroic': 'none', 'slit': {'decker': 'LVMslitC', 'slitwid': 'none', 'slitlen': 'none'}, 'binning': '1,1'}}}\n",
      "\u001b[1;32m[INFO]    ::\u001b[0m \u001b[1;34mchk_calibs.py 101 main()\u001b[0m - =======================================================================\n",
      "\u001b[1;32m[INFO]    ::\u001b[0m \u001b[1;34mchk_calibs.py 114 main()\u001b[0m - Setting configuration-specific parameters using d0316_0045.fits\n",
      "\u001b[1;32m[INFO]    ::\u001b[0m \u001b[1;34mchk_calibs.py 125 main()\u001b[0m - Your science frames are:     filename   \n",
      "---------------\n",
      "d0316_0045.fits\n",
      "\u001b[1;32m[INFO]    ::\u001b[0m \u001b[1;34mcalibrations.py 892 check_for_calibs()\u001b[0m - Congrats!!  You passed the calibrations inspection!!\n",
      "\u001b[1;32m[INFO]    ::\u001b[0m \u001b[1;34mchk_calibs.py 98 main()\u001b[0m - =======================================================================\n",
      "\u001b[1;32m[INFO]    ::\u001b[0m \u001b[1;34mchk_calibs.py 99 main()\u001b[0m - Working on setup: F\n",
      "\u001b[1;32m[INFO]    ::\u001b[0m \u001b[1;34mchk_calibs.py 100 main()\u001b[0m - {'Setup F': {'--': {'disperser': {'name': '830G', 'angle': 8500.0078125}, 'dichroic': 'none', 'slit': {'decker': 'CFHQS1B', 'slitwid': 'none', 'slitlen': 'none'}, 'binning': '1,1'}}}\n",
      "\u001b[1;32m[INFO]    ::\u001b[0m \u001b[1;34mchk_calibs.py 101 main()\u001b[0m - =======================================================================\n",
      "\u001b[1;32m[INFO]    ::\u001b[0m \u001b[1;34mchk_calibs.py 114 main()\u001b[0m - Setting configuration-specific parameters using DE.20100913.22358.fits.gz\n"
     ]
    },
    {
     "name": "stderr",
     "output_type": "stream",
     "text": [
      "\u001b[1;32m[INFO]    ::\u001b[0m \u001b[1;34mchk_calibs.py 125 main()\u001b[0m - Your science frames are:          filename        \n",
      "-------------------------\n",
      "DE.20100913.22358.fits.gz\n",
      "\u001b[1;32m[INFO]    ::\u001b[0m \u001b[1;34mcalibrations.py 892 check_for_calibs()\u001b[0m - Congrats!!  You passed the calibrations inspection!!\n",
      "\u001b[1;32m[INFO]    ::\u001b[0m \u001b[1;34mchk_calibs.py 98 main()\u001b[0m - =======================================================================\n",
      "\u001b[1;32m[INFO]    ::\u001b[0m \u001b[1;34mchk_calibs.py 99 main()\u001b[0m - Working on setup: G\n",
      "\u001b[1;32m[INFO]    ::\u001b[0m \u001b[1;34mchk_calibs.py 100 main()\u001b[0m - {'Setup G': {'--': {'disperser': {'name': '830G', 'angle': 8399.93554688}, 'dichroic': 'none', 'slit': {'decker': 'LongMirr', 'slitwid': 'none', 'slitlen': 'none'}, 'binning': '1,1'}}}\n",
      "\u001b[1;32m[INFO]    ::\u001b[0m \u001b[1;34mchk_calibs.py 101 main()\u001b[0m - =======================================================================\n",
      "\u001b[1;32m[INFO]    ::\u001b[0m \u001b[1;34mchk_calibs.py 114 main()\u001b[0m - Setting configuration-specific parameters using d0914_0037.fits.gz\n",
      "\u001b[1;32m[INFO]    ::\u001b[0m \u001b[1;34mchk_calibs.py 125 main()\u001b[0m - Your science frames are:      filename     \n",
      "------------------\n",
      "d0914_0036.fits.gz\n",
      "d0914_0047.fits.gz\n",
      "d0914_0038.fits.gz\n",
      "d0914_0037.fits.gz\n",
      "\u001b[1;32m[INFO]    ::\u001b[0m \u001b[1;34mcalibrations.py 892 check_for_calibs()\u001b[0m - Congrats!!  You passed the calibrations inspection!!\n",
      "\u001b[1;32m[INFO]    ::\u001b[0m \u001b[1;34mchk_calibs.py 98 main()\u001b[0m - =======================================================================\n",
      "\u001b[1;32m[INFO]    ::\u001b[0m \u001b[1;34mchk_calibs.py 99 main()\u001b[0m - Working on setup: H\n",
      "\u001b[1;32m[INFO]    ::\u001b[0m \u001b[1;34mchk_calibs.py 100 main()\u001b[0m - {'Setup H': {'--': {'disperser': {'name': '830G', 'angle': 8409.99511719}, 'dichroic': 'none', 'slit': {'decker': 'LongMirr', 'slitwid': 'none', 'slitlen': 'none'}, 'binning': '1,1'}}}\n",
      "\u001b[1;32m[INFO]    ::\u001b[0m \u001b[1;34mchk_calibs.py 101 main()\u001b[0m - =======================================================================\n",
      "\u001b[1;32m[INFO]    ::\u001b[0m \u001b[1;34mchk_calibs.py 114 main()\u001b[0m - Setting configuration-specific parameters using d0913_0024.fits\n",
      "\u001b[1;32m[INFO]    ::\u001b[0m \u001b[1;34mchk_calibs.py 125 main()\u001b[0m - Your science frames are:     filename   \n",
      "---------------\n",
      "d0913_0025.fits\n",
      "d0913_0033.fits\n",
      "d0913_0024.fits\n",
      "\u001b[1;32m[INFO]    ::\u001b[0m \u001b[1;34mcalibrations.py 892 check_for_calibs()\u001b[0m - Congrats!!  You passed the calibrations inspection!!\n",
      "\u001b[1;32m[INFO]    ::\u001b[0m \u001b[1;34mchk_calibs.py 98 main()\u001b[0m - =======================================================================\n",
      "\u001b[1;32m[INFO]    ::\u001b[0m \u001b[1;34mchk_calibs.py 99 main()\u001b[0m - Working on setup: I\n",
      "\u001b[1;32m[INFO]    ::\u001b[0m \u001b[1;34mchk_calibs.py 100 main()\u001b[0m - {'Setup I': {'--': {'disperser': {'name': '1200G', 'angle': 7699.95654297}, 'dichroic': 'none', 'slit': {'decker': 'dra11', 'slitwid': 'none', 'slitlen': 'none'}, 'binning': '1,1'}}}\n",
      "\u001b[1;32m[INFO]    ::\u001b[0m \u001b[1;34mchk_calibs.py 101 main()\u001b[0m - =======================================================================\n",
      "\u001b[1;32m[INFO]    ::\u001b[0m \u001b[1;34mchk_calibs.py 114 main()\u001b[0m - Setting configuration-specific parameters using DE.20170425.51771.fits.gz\n",
      "\u001b[1;32m[INFO]    ::\u001b[0m \u001b[1;34mchk_calibs.py 125 main()\u001b[0m - Your science frames are:          filename        \n",
      "-------------------------\n",
      "DE.20170425.50487.fits.gz\n",
      "DE.20170425.53065.fits.gz\n",
      "DE.20170425.51771.fits.gz\n",
      "\u001b[1;32m[INFO]    ::\u001b[0m \u001b[1;34mcalibrations.py 892 check_for_calibs()\u001b[0m - Congrats!!  You passed the calibrations inspection!!\n",
      "\u001b[1;32m[INFO]    ::\u001b[0m \u001b[1;34mchk_calibs.py 98 main()\u001b[0m - =======================================================================\n",
      "\u001b[1;32m[INFO]    ::\u001b[0m \u001b[1;34mchk_calibs.py 99 main()\u001b[0m - Working on setup: J\n",
      "\u001b[1;32m[INFO]    ::\u001b[0m \u001b[1;34mchk_calibs.py 100 main()\u001b[0m - {'Setup J': {'--': {'disperser': {'name': '600ZD', 'angle': 6500.00634766}, 'dichroic': 'none', 'slit': {'decker': 'mask03', 'slitwid': 'none', 'slitlen': 'none'}, 'binning': '1,1'}}}\n",
      "\u001b[1;32m[INFO]    ::\u001b[0m \u001b[1;34mchk_calibs.py 101 main()\u001b[0m - =======================================================================\n",
      "\u001b[1;32m[INFO]    ::\u001b[0m \u001b[1;34mchk_calibs.py 114 main()\u001b[0m - Setting configuration-specific parameters using d1010_0057.fits.gz\n",
      "\u001b[1;32m[INFO]    ::\u001b[0m \u001b[1;34mchk_calibs.py 125 main()\u001b[0m - Your science frames are:      filename     \n",
      "------------------\n",
      "d1010_0056.fits.gz\n",
      "d1010_0057.fits.gz\n",
      "\u001b[1;32m[INFO]    ::\u001b[0m \u001b[1;34mcalibrations.py 892 check_for_calibs()\u001b[0m - Congrats!!  You passed the calibrations inspection!!\n",
      "\u001b[1;32m[INFO]    ::\u001b[0m \u001b[1;34mchk_calibs.py 98 main()\u001b[0m - =======================================================================\n",
      "\u001b[1;32m[INFO]    ::\u001b[0m \u001b[1;34mchk_calibs.py 99 main()\u001b[0m - Working on setup: K\n",
      "\u001b[1;32m[INFO]    ::\u001b[0m \u001b[1;34mchk_calibs.py 100 main()\u001b[0m - {'Setup K': {'--': {'disperser': {'name': '830G', 'angle': 8099.98291016}, 'dichroic': 'none', 'slit': {'decker': 'm231', 'slitwid': 'none', 'slitlen': 'none'}, 'binning': '1,1'}}}\n",
      "\u001b[1;32m[INFO]    ::\u001b[0m \u001b[1;34mchk_calibs.py 101 main()\u001b[0m - =======================================================================\n",
      "\u001b[1;32m[INFO]    ::\u001b[0m \u001b[1;34mchk_calibs.py 114 main()\u001b[0m - Setting configuration-specific parameters using d0526_0110.fits.gz\n"
     ]
    },
    {
     "name": "stdout",
     "output_type": "stream",
     "text": [
      "There is a setup without science frames.  Skipping...\n",
      "========================== RESULTS =======================================\n",
      "=================================================================\n",
      "setups ...\n",
      "------ ...\n",
      "     A ...\n",
      "     B ...\n",
      "     C ...\n",
      "     D ...\n",
      "     E ...\n",
      "     F ...\n",
      "     G ...\n",
      "     H ...\n",
      "     I ...\n",
      "     J ...\n",
      "     K ...\n",
      "  None ...\n",
      "=================================================================\n"
     ]
    },
    {
     "name": "stderr",
     "output_type": "stream",
     "text": [
      "\u001b[1;32m[INFO]    ::\u001b[0m \u001b[1;34mchk_calibs.py 125 main()\u001b[0m - Your science frames are:      filename     \n",
      "------------------\n",
      "d0526_0109.fits.gz\n",
      "d0526_0110.fits.gz\n",
      "\u001b[1;32m[INFO]    ::\u001b[0m \u001b[1;34mcalibrations.py 892 check_for_calibs()\u001b[0m - Congrats!!  You passed the calibrations inspection!!\n",
      "\u001b[1;32m[INFO]    ::\u001b[0m \u001b[1;34mchk_calibs.py 138 main()\u001b[0m - ========================== ALL DONE =======================================\n"
     ]
    }
   ],
   "source": [
    "reload(chk_calibs)\n",
    "answers, ps = chk_calibs.main(pargs)"
   ]
  },
  {
   "cell_type": "code",
   "execution_count": 13,
   "metadata": {},
   "outputs": [
    {
     "data": {
      "text/html": [
       "<i>Table length=12</i>\n",
       "<table id=\"table140682292797584\" class=\"table-striped table-bordered table-condensed\">\n",
       "<thead><tr><th>setups</th><th>passfail</th><th>scifiles</th><th>cfg</th></tr></thead>\n",
       "<thead><tr><th>str4</th><th>bool</th><th>str175</th><th>object</th></tr></thead>\n",
       "<tr><td>A</td><td>True</td><td>DE.20170527.37601.fits,DE.20170527.53184.fits,DE.20170527.41775.fits,DE.20170527.38872.fits,d0527_0083.fits.gz,DE.20170527.43045.fits,d0527_0081.fits.gz,DE.20170527.44316.fits</td><td>{&apos;Setup A&apos;: {&apos;--&apos;: {&apos;disperser&apos;: {&apos;name&apos;: &apos;830G&apos;, &apos;angle&apos;: 8099.98291016}, &apos;dichroic&apos;: &apos;none&apos;, &apos;slit&apos;: {&apos;decker&apos;: &apos;LongMirr&apos;, &apos;slitwid&apos;: &apos;none&apos;, &apos;slitlen&apos;: &apos;none&apos;}, &apos;binning&apos;: &apos;1,1&apos;}}}</td></tr>\n",
       "<tr><td>B</td><td>True</td><td>DE.20140226.52536.fits,DE.20140226.50959.fits,DE.20140226.54107.fits</td><td>{&apos;Setup B&apos;: {&apos;--&apos;: {&apos;disperser&apos;: {&apos;name&apos;: &apos;600ZD&apos;, &apos;angle&apos;: 7500.02246094}, &apos;dichroic&apos;: &apos;none&apos;, &apos;slit&apos;: {&apos;decker&apos;: &apos;jcCIV2C&apos;, &apos;slitwid&apos;: &apos;none&apos;, &apos;slitlen&apos;: &apos;none&apos;}, &apos;binning&apos;: &apos;1,1&apos;}}}</td></tr>\n",
       "<tr><td>C</td><td>True</td><td>DE.20130409.22509.fits.gz,DE.20130409.20629.fits.gz</td><td>{&apos;Setup C&apos;: {&apos;--&apos;: {&apos;disperser&apos;: {&apos;name&apos;: &apos;830G&apos;, &apos;angle&apos;: 8600.02148438}, &apos;dichroic&apos;: &apos;none&apos;, &apos;slit&apos;: {&apos;decker&apos;: &apos;Z6CL01B&apos;, &apos;slitwid&apos;: &apos;none&apos;, &apos;slitlen&apos;: &apos;none&apos;}, &apos;binning&apos;: &apos;1,1&apos;}}}</td></tr>\n",
       "<tr><td>D</td><td>True</td><td>d0526_0124.fits.gz,d0526_0123.fits.gz,d0526_0122.fits.gz</td><td>{&apos;Setup D&apos;: {&apos;--&apos;: {&apos;disperser&apos;: {&apos;name&apos;: &apos;830G&apos;, &apos;angle&apos;: 8099.98291016}, &apos;dichroic&apos;: &apos;none&apos;, &apos;slit&apos;: {&apos;decker&apos;: &apos;m247&apos;, &apos;slitwid&apos;: &apos;none&apos;, &apos;slitlen&apos;: &apos;none&apos;}, &apos;binning&apos;: &apos;1,1&apos;}}}</td></tr>\n",
       "<tr><td>E</td><td>True</td><td>d0316_0045.fits</td><td>{&apos;Setup E&apos;: {&apos;--&apos;: {&apos;disperser&apos;: {&apos;name&apos;: &apos;830G&apos;, &apos;angle&apos;: 8399.93554688}, &apos;dichroic&apos;: &apos;none&apos;, &apos;slit&apos;: {&apos;decker&apos;: &apos;LVMslitC&apos;, &apos;slitwid&apos;: &apos;none&apos;, &apos;slitlen&apos;: &apos;none&apos;}, &apos;binning&apos;: &apos;1,1&apos;}}}</td></tr>\n",
       "<tr><td>F</td><td>True</td><td>DE.20100913.22358.fits.gz</td><td>{&apos;Setup F&apos;: {&apos;--&apos;: {&apos;disperser&apos;: {&apos;name&apos;: &apos;830G&apos;, &apos;angle&apos;: 8500.0078125}, &apos;dichroic&apos;: &apos;none&apos;, &apos;slit&apos;: {&apos;decker&apos;: &apos;CFHQS1B&apos;, &apos;slitwid&apos;: &apos;none&apos;, &apos;slitlen&apos;: &apos;none&apos;}, &apos;binning&apos;: &apos;1,1&apos;}}}</td></tr>\n",
       "<tr><td>G</td><td>True</td><td>d0914_0036.fits.gz,d0914_0047.fits.gz,d0914_0038.fits.gz,d0914_0037.fits.gz</td><td>{&apos;Setup G&apos;: {&apos;--&apos;: {&apos;disperser&apos;: {&apos;name&apos;: &apos;830G&apos;, &apos;angle&apos;: 8399.93554688}, &apos;dichroic&apos;: &apos;none&apos;, &apos;slit&apos;: {&apos;decker&apos;: &apos;LongMirr&apos;, &apos;slitwid&apos;: &apos;none&apos;, &apos;slitlen&apos;: &apos;none&apos;}, &apos;binning&apos;: &apos;1,1&apos;}}}</td></tr>\n",
       "<tr><td>H</td><td>True</td><td>d0913_0025.fits,d0913_0033.fits,d0913_0024.fits</td><td>{&apos;Setup H&apos;: {&apos;--&apos;: {&apos;disperser&apos;: {&apos;name&apos;: &apos;830G&apos;, &apos;angle&apos;: 8409.99511719}, &apos;dichroic&apos;: &apos;none&apos;, &apos;slit&apos;: {&apos;decker&apos;: &apos;LongMirr&apos;, &apos;slitwid&apos;: &apos;none&apos;, &apos;slitlen&apos;: &apos;none&apos;}, &apos;binning&apos;: &apos;1,1&apos;}}}</td></tr>\n",
       "<tr><td>I</td><td>True</td><td>DE.20170425.50487.fits.gz,DE.20170425.53065.fits.gz,DE.20170425.51771.fits.gz</td><td>{&apos;Setup I&apos;: {&apos;--&apos;: {&apos;disperser&apos;: {&apos;name&apos;: &apos;1200G&apos;, &apos;angle&apos;: 7699.95654297}, &apos;dichroic&apos;: &apos;none&apos;, &apos;slit&apos;: {&apos;decker&apos;: &apos;dra11&apos;, &apos;slitwid&apos;: &apos;none&apos;, &apos;slitlen&apos;: &apos;none&apos;}, &apos;binning&apos;: &apos;1,1&apos;}}}</td></tr>\n",
       "<tr><td>J</td><td>True</td><td>d1010_0056.fits.gz,d1010_0057.fits.gz</td><td>{&apos;Setup J&apos;: {&apos;--&apos;: {&apos;disperser&apos;: {&apos;name&apos;: &apos;600ZD&apos;, &apos;angle&apos;: 6500.00634766}, &apos;dichroic&apos;: &apos;none&apos;, &apos;slit&apos;: {&apos;decker&apos;: &apos;mask03&apos;, &apos;slitwid&apos;: &apos;none&apos;, &apos;slitlen&apos;: &apos;none&apos;}, &apos;binning&apos;: &apos;1,1&apos;}}}</td></tr>\n",
       "<tr><td>K</td><td>True</td><td>d0526_0109.fits.gz,d0526_0110.fits.gz</td><td>{&apos;Setup K&apos;: {&apos;--&apos;: {&apos;disperser&apos;: {&apos;name&apos;: &apos;830G&apos;, &apos;angle&apos;: 8099.98291016}, &apos;dichroic&apos;: &apos;none&apos;, &apos;slit&apos;: {&apos;decker&apos;: &apos;m231&apos;, &apos;slitwid&apos;: &apos;none&apos;, &apos;slitlen&apos;: &apos;none&apos;}, &apos;binning&apos;: &apos;1,1&apos;}}}</td></tr>\n",
       "<tr><td>None</td><td>False</td><td></td><td>{}</td></tr>\n",
       "</table>"
      ],
      "text/plain": [
       "<Table length=12>\n",
       "setups ...\n",
       " str4  ...\n",
       "------ ...\n",
       "     A ...\n",
       "     B ...\n",
       "     C ...\n",
       "     D ...\n",
       "     E ...\n",
       "     F ...\n",
       "     G ...\n",
       "     H ...\n",
       "     I ...\n",
       "     J ...\n",
       "     K ...\n",
       "  None ..."
      ]
     },
     "execution_count": 13,
     "metadata": {},
     "output_type": "execute_result"
    }
   ],
   "source": [
    "answers"
   ]
  },
  {
   "cell_type": "markdown",
   "metadata": {},
   "source": [
    "# Just one"
   ]
  },
  {
   "cell_type": "code",
   "execution_count": 14,
   "metadata": {},
   "outputs": [],
   "source": [
    "droot2 = os.path.join(os.environ['PYPEIT_DEV'], 'RAW_DATA/keck_deimos/600ZD_M_6500/')"
   ]
  },
  {
   "cell_type": "code",
   "execution_count": 15,
   "metadata": {},
   "outputs": [],
   "source": [
    "pargs = chk_calibs.parser(['-r', droot2, '-s', 'keck_deimos'])"
   ]
  },
  {
   "cell_type": "code",
   "execution_count": 19,
   "metadata": {},
   "outputs": [
    {
     "name": "stderr",
     "output_type": "stream",
     "text": [
      "\u001b[1;32m[INFO]    ::\u001b[0m \u001b[1;34mpypeitsetup.py 209 from_file_root()\u001b[0m - A vanilla pypeit file will be written to: /home/xavier/Projects/PypeIt/doc/nb/setup_files/keck_deimos_2020-Jul-02.pypeit\n",
      "\u001b[1;32m[INFO]    ::\u001b[0m \u001b[1;34mutil.py 607 make_pypeit_file()\u001b[0m - PypeIt file written to: /home/xavier/Projects/PypeIt/doc/nb/setup_files/keck_deimos_2020-Jul-02.pypeit\n",
      "\u001b[1;32m[INFO]    ::\u001b[0m \u001b[1;34mutil.py 459 parse_pypeit_file()\u001b[0m - Loading the reduction file\n",
      "\u001b[1;32m[INFO]    ::\u001b[0m \u001b[1;34mutil.py 485 parse_pypeit_file()\u001b[0m - Found 9 raw data frames\n",
      "\u001b[1;32m[INFO]    ::\u001b[0m \u001b[1;34mutil.py 507 parse_pypeit_file()\u001b[0m - Input file loaded successfully\n",
      "\u001b[1;32m[INFO]    ::\u001b[0m \u001b[1;34mmetadata.py 200 _build()\u001b[0m - Added metadata for d1010_0022.fits.gz\n",
      "\u001b[1;32m[INFO]    ::\u001b[0m \u001b[1;34mmetadata.py 200 _build()\u001b[0m - Added metadata for d1010_0040.fits.gz\n",
      "\u001b[1;32m[INFO]    ::\u001b[0m \u001b[1;34mmetadata.py 200 _build()\u001b[0m - Added metadata for d1010_0019.fits.gz\n",
      "\u001b[1;32m[INFO]    ::\u001b[0m \u001b[1;34mmetadata.py 200 _build()\u001b[0m - Added metadata for d1010_0005.fits.gz\n",
      "\u001b[1;32m[INFO]    ::\u001b[0m \u001b[1;34mmetadata.py 200 _build()\u001b[0m - Added metadata for d1010_0006.fits.gz\n",
      "\u001b[1;32m[INFO]    ::\u001b[0m \u001b[1;34mmetadata.py 200 _build()\u001b[0m - Added metadata for d1010_0056.fits.gz\n",
      "\u001b[1;32m[INFO]    ::\u001b[0m \u001b[1;34mmetadata.py 200 _build()\u001b[0m - Added metadata for d1010_0025.fits.gz\n",
      "\u001b[1;32m[INFO]    ::\u001b[0m \u001b[1;34mmetadata.py 200 _build()\u001b[0m - Added metadata for d1010_0057.fits.gz\n",
      "\u001b[1;32m[INFO]    ::\u001b[0m \u001b[1;34mmetadata.py 200 _build()\u001b[0m - Added metadata for d1010_0041.fits.gz\n",
      "\u001b[1;32m[INFO]    ::\u001b[0m \u001b[1;34mmetadata.py 1185 get_frame_types()\u001b[0m - Typing files\n",
      "\u001b[1;31m[WARNING] ::\u001b[0m \u001b[1;34mkeck_deimos.py 329 check_frame_type()\u001b[0m - Cannot determine if frames are of type align.\n",
      "\u001b[1;31m[WARNING] ::\u001b[0m \u001b[1;34mkeck_deimos.py 329 check_frame_type()\u001b[0m - Cannot determine if frames are of type standard.\n",
      "\u001b[1;32m[INFO]    ::\u001b[0m \u001b[1;34mmetadata.py 1253 get_frame_types()\u001b[0m - Typing completed!\n",
      "\u001b[1;32m[INFO]    ::\u001b[0m \u001b[1;34mmetadata.py 731 unique_configurations()\u001b[0m - Using metadata to determine unique configurations.\n",
      "\u001b[1;32m[INFO]    ::\u001b[0m \u001b[1;34mmetadata.py 739 unique_configurations()\u001b[0m - Unique configurations ignore frames with type: ['bias', 'dark']\n",
      "\u001b[1;32m[INFO]    ::\u001b[0m \u001b[1;34mmetadata.py 786 unique_configurations()\u001b[0m - Found 1 unique configurations.\n",
      "\u001b[1;32m[INFO]    ::\u001b[0m \u001b[1;34mpypeitsetup.py 447 run()\u001b[0m - Wrote sorted file data to /home/xavier/Projects/PypeIt/doc/nb/setup_files/keck_deimos_2020-Jul-02.sorted\n",
      "\u001b[1;32m[INFO]    ::\u001b[0m \u001b[1;34mpypeitsetup.py 473 run()\u001b[0m - Setup is complete.\n",
      "\u001b[1;32m[INFO]    ::\u001b[0m \u001b[1;34mpypeitsetup.py 474 run()\u001b[0m - Inspect the .sorted file\n",
      "\u001b[1;32m[INFO]    ::\u001b[0m \u001b[1;34mchk_calibs.py 74 main()\u001b[0m - Loaded spectrograph keck_deimos\n",
      "\u001b[1;32m[INFO]    ::\u001b[0m \u001b[1;34mchk_calibs.py 98 main()\u001b[0m - =======================================================================\n",
      "\u001b[1;32m[INFO]    ::\u001b[0m \u001b[1;34mchk_calibs.py 99 main()\u001b[0m - Working on setup: A\n",
      "\u001b[1;32m[INFO]    ::\u001b[0m \u001b[1;34mchk_calibs.py 100 main()\u001b[0m - {'Setup A': {'--': {'disperser': {'name': '600ZD', 'angle': 6500.00634766}, 'dichroic': 'none', 'slit': {'decker': 'mask03', 'slitwid': 'none', 'slitlen': 'none'}, 'binning': '1,1'}}}\n",
      "\u001b[1;32m[INFO]    ::\u001b[0m \u001b[1;34mchk_calibs.py 101 main()\u001b[0m - =======================================================================\n",
      "\u001b[1;32m[INFO]    ::\u001b[0m \u001b[1;34mchk_calibs.py 114 main()\u001b[0m - Setting configuration-specific parameters using d1010_0057.fits.gz\n"
     ]
    },
    {
     "name": "stdout",
     "output_type": "stream",
     "text": [
      "There is a setup without science frames.  Skipping...\n",
      "========================== RESULTS =======================================\n",
      "=================================================================\n",
      "setups  pass disperser     angle     dichroic decker slitwid binning                scifiles              \n",
      "------ ----- --------- ------------- -------- ------ ------- ------- -------------------------------------\n",
      "     A  True     600ZD 6500.00634766     none mask03    none     1,1 d1010_0056.fits.gz,d1010_0057.fits.gz\n",
      "  None False      None          None     None   None    None    None                                      \n",
      "=================================================================\n"
     ]
    },
    {
     "name": "stderr",
     "output_type": "stream",
     "text": [
      "\u001b[1;32m[INFO]    ::\u001b[0m \u001b[1;34mchk_calibs.py 125 main()\u001b[0m - Your science frames are:      filename     \n",
      "------------------\n",
      "d1010_0056.fits.gz\n",
      "d1010_0057.fits.gz\n",
      "\u001b[1;32m[INFO]    ::\u001b[0m \u001b[1;34mcalibrations.py 892 check_for_calibs()\u001b[0m - Congrats!!  You passed the calibrations inspection!!\n",
      "\u001b[1;32m[INFO]    ::\u001b[0m \u001b[1;34mchk_calibs.py 138 main()\u001b[0m - ========================== ALL DONE =======================================\n"
     ]
    }
   ],
   "source": [
    "reload(chk_calibs)\n",
    "answers, ps = chk_calibs.main(pargs)"
   ]
  },
  {
   "cell_type": "code",
   "execution_count": 18,
   "metadata": {},
   "outputs": [
    {
     "data": {
      "text/html": [
       "<i>Table length=2</i>\n",
       "<table id=\"table140682293466384\" class=\"table-striped table-bordered table-condensed\">\n",
       "<thead><tr><th>setups</th><th>pass</th><th>disperser</th><th>angle</th><th>dichroic</th><th>decker</th><th>slitwid</th><th>binning</th><th>scifiles</th></tr></thead>\n",
       "<thead><tr><th>str4</th><th>bool</th><th>object</th><th>object</th><th>object</th><th>object</th><th>object</th><th>object</th><th>str37</th></tr></thead>\n",
       "<tr><td>A</td><td>True</td><td>600ZD</td><td>6500.00634766</td><td>none</td><td>mask03</td><td>none</td><td>1,1</td><td>d1010_0056.fits.gz,d1010_0057.fits.gz</td></tr>\n",
       "<tr><td>None</td><td>False</td><td>None</td><td>None</td><td>None</td><td>None</td><td>None</td><td>None</td><td></td></tr>\n",
       "</table>"
      ],
      "text/plain": [
       "<Table length=2>\n",
       "setups  pass disperser ... slitwid binning                scifiles              \n",
       " str4   bool   object  ...  object  object                 str37                \n",
       "------ ----- --------- ... ------- ------- -------------------------------------\n",
       "     A  True     600ZD ...    none     1,1 d1010_0056.fits.gz,d1010_0057.fits.gz\n",
       "  None False      None ...    None    None                                      "
      ]
     },
     "execution_count": 18,
     "metadata": {},
     "output_type": "execute_result"
    }
   ],
   "source": [
    "answers"
   ]
  },
  {
   "cell_type": "code",
   "execution_count": null,
   "metadata": {},
   "outputs": [],
   "source": []
  }
 ],
 "metadata": {
  "kernelspec": {
   "display_name": "Python 3",
   "language": "python",
   "name": "python3"
  },
  "language_info": {
   "codemirror_mode": {
    "name": "ipython",
    "version": 3
   },
   "file_extension": ".py",
   "mimetype": "text/x-python",
   "name": "python",
   "nbconvert_exporter": "python",
   "pygments_lexer": "ipython3",
   "version": "3.7.6"
  }
 },
 "nbformat": 4,
 "nbformat_minor": 4
}
