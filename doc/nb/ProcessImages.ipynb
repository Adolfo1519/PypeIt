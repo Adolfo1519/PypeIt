{
 "cells": [
  {
   "cell_type": "markdown",
   "metadata": {},
   "source": [
    "# Playing around with the ProcessImages class [v1.0]\n",
    "\n",
    "### Requires the PYPIT-Development-suite"
   ]
  },
  {
   "cell_type": "code",
   "execution_count": 1,
   "metadata": {
    "collapsed": true
   },
   "outputs": [],
   "source": [
    "# imports\n",
    "import glob\n",
    "from importlib import reload\n",
    "\n",
    "from pypit import processimages"
   ]
  },
  {
   "cell_type": "code",
   "execution_count": 2,
   "metadata": {},
   "outputs": [
    {
     "data": {
      "text/plain": [
       "<module 'pypit.processimages' from '/home/xavier/local/Python/PYPIT/pypit/processimages.py'>"
      ]
     },
     "execution_count": 2,
     "metadata": {},
     "output_type": "execute_result"
    }
   ],
   "source": [
    "reload(processimages)"
   ]
  },
  {
   "cell_type": "code",
   "execution_count": 3,
   "metadata": {
    "collapsed": true
   },
   "outputs": [],
   "source": [
    "# Modify this\n",
    "pypdev_path = '/home/xavier/local/Python/PYPIT-development-suite/'"
   ]
  },
  {
   "cell_type": "markdown",
   "metadata": {},
   "source": [
    "## Load some images"
   ]
  },
  {
   "cell_type": "markdown",
   "metadata": {},
   "source": [
    "### DEIMOS"
   ]
  },
  {
   "cell_type": "code",
   "execution_count": 4,
   "metadata": {
    "collapsed": true
   },
   "outputs": [],
   "source": [
    "deimos_flat_files = [pypdev_path+'/RAW_DATA/Keck_DEIMOS/830G_L/'+ifile for ifile in [  # Longslit in dets 3,7\n",
    "                'd0914_0014.fits', 'd0914_0015.fits']]"
   ]
  },
  {
   "cell_type": "code",
   "execution_count": 5,
   "metadata": {
    "collapsed": true
   },
   "outputs": [],
   "source": [
    "# Settings -- hopefully can avoid this eventually\n",
    "user_settings = dict(run={'spectrograph': 'keck_deimos'})"
   ]
  },
  {
   "cell_type": "code",
   "execution_count": 6,
   "metadata": {
    "collapsed": true
   },
   "outputs": [],
   "source": [
    "# Instantiate\n",
    "deimos_flats = processimages.ProcessImages(deimos_flat_files, user_settings=user_settings)"
   ]
  },
  {
   "cell_type": "code",
   "execution_count": 7,
   "metadata": {},
   "outputs": [
    {
     "name": "stderr",
     "output_type": "stream",
     "text": [
      "\u001b[1;32m[INFO]    ::\u001b[0m \u001b[1;34marload.py 302 load_raw_frame()\u001b[0m - Loading raw_file: /home/xavier/local/Python/PYPIT-development-suite//RAW_DATA/Keck_DEIMOS/830G_L/d0914_0014.fits\n",
      "\u001b[1;32m[INFO]    ::\u001b[0m \u001b[1;34mardeimos.py 48 read_deimos()\u001b[0m - Reading DEIMOS file: /home/xavier/local/Python/PYPIT-development-suite//RAW_DATA/Keck_DEIMOS/830G_L/d0914_0014.fits\n",
      "\u001b[1;32m[INFO]    ::\u001b[0m \u001b[1;34marload.py 302 load_raw_frame()\u001b[0m - Loading raw_file: /home/xavier/local/Python/PYPIT-development-suite//RAW_DATA/Keck_DEIMOS/830G_L/d0914_0015.fits\n",
      "\u001b[1;32m[INFO]    ::\u001b[0m \u001b[1;34mardeimos.py 48 read_deimos()\u001b[0m - Reading DEIMOS file: /home/xavier/local/Python/PYPIT-development-suite//RAW_DATA/Keck_DEIMOS/830G_L/d0914_0015.fits\n",
      "\u001b[1;32m[INFO]    ::\u001b[0m \u001b[1;34marproc.py 721 get_datasec()\u001b[0m - Parsing datasec and oscansec from headers\n",
      "\u001b[1;32m[INFO]    ::\u001b[0m \u001b[1;34mardeimos.py 48 read_deimos()\u001b[0m - Reading DEIMOS file: /home/xavier/local/Python/PYPIT-development-suite//RAW_DATA/Keck_DEIMOS/830G_L/d0914_0014.fits\n"
     ]
    }
   ],
   "source": [
    "# Load\n",
    "deimos_flats.load_images()"
   ]
  },
  {
   "cell_type": "code",
   "execution_count": 8,
   "metadata": {},
   "outputs": [
    {
     "data": {
      "text/plain": [
       "2"
      ]
     },
     "execution_count": 8,
     "metadata": {},
     "output_type": "execute_result"
    }
   ],
   "source": [
    "deimos_flats.nloaded"
   ]
  },
  {
   "cell_type": "markdown",
   "metadata": {},
   "source": [
    "### Kast"
   ]
  },
  {
   "cell_type": "code",
   "execution_count": 9,
   "metadata": {},
   "outputs": [
    {
     "data": {
      "text/plain": [
       "['/home/xavier/local/Python/PYPIT-development-suite/RAW_DATA/Shane_Kast_blue/600_4310_d55/b18.fits.gz',\n",
       " '/home/xavier/local/Python/PYPIT-development-suite/RAW_DATA/Shane_Kast_blue/600_4310_d55/b15.fits.gz',\n",
       " '/home/xavier/local/Python/PYPIT-development-suite/RAW_DATA/Shane_Kast_blue/600_4310_d55/b10.fits.gz',\n",
       " '/home/xavier/local/Python/PYPIT-development-suite/RAW_DATA/Shane_Kast_blue/600_4310_d55/b13.fits.gz',\n",
       " '/home/xavier/local/Python/PYPIT-development-suite/RAW_DATA/Shane_Kast_blue/600_4310_d55/b14.fits.gz',\n",
       " '/home/xavier/local/Python/PYPIT-development-suite/RAW_DATA/Shane_Kast_blue/600_4310_d55/b11.fits.gz',\n",
       " '/home/xavier/local/Python/PYPIT-development-suite/RAW_DATA/Shane_Kast_blue/600_4310_d55/b16.fits.gz',\n",
       " '/home/xavier/local/Python/PYPIT-development-suite/RAW_DATA/Shane_Kast_blue/600_4310_d55/b12.fits.gz',\n",
       " '/home/xavier/local/Python/PYPIT-development-suite/RAW_DATA/Shane_Kast_blue/600_4310_d55/b17.fits.gz',\n",
       " '/home/xavier/local/Python/PYPIT-development-suite/RAW_DATA/Shane_Kast_blue/600_4310_d55/b19.fits.gz']"
      ]
     },
     "execution_count": 9,
     "metadata": {},
     "output_type": "execute_result"
    }
   ],
   "source": [
    "kast_blue_bias = glob.glob(pypdev_path+'RAW_DATA/Shane_Kast_blue/600_4310_d55/b1?.fits*')\n",
    "kast_blue_bias"
   ]
  },
  {
   "cell_type": "code",
   "execution_count": 10,
   "metadata": {
    "collapsed": true
   },
   "outputs": [],
   "source": [
    "# Instantiate\n",
    "kast_settings = processimages.default_settings.copy()\n",
    "kast_settings['run']['spectrograph'] = 'shane_kast_blue'\n",
    "kast_settings['detector']['dataext'] = 0\n",
    "#\n",
    "reload(processimages)\n",
    "kastb_bias = processimages.ProcessImages(kast_blue_bias, settings=kast_settings)"
   ]
  },
  {
   "cell_type": "code",
   "execution_count": 11,
   "metadata": {
    "scrolled": true
   },
   "outputs": [
    {
     "name": "stderr",
     "output_type": "stream",
     "text": [
      "\u001b[1;32m[INFO]    ::\u001b[0m \u001b[1;34marload.py 302 load_raw_frame()\u001b[0m - Loading raw_file: /home/xavier/local/Python/PYPIT-development-suite/RAW_DATA/Shane_Kast_blue/600_4310_d55/b18.fits.gz\n",
      "\u001b[1;32m[INFO]    ::\u001b[0m \u001b[1;34marload.py 302 load_raw_frame()\u001b[0m - Loading raw_file: /home/xavier/local/Python/PYPIT-development-suite/RAW_DATA/Shane_Kast_blue/600_4310_d55/b15.fits.gz\n",
      "\u001b[1;32m[INFO]    ::\u001b[0m \u001b[1;34marload.py 302 load_raw_frame()\u001b[0m - Loading raw_file: /home/xavier/local/Python/PYPIT-development-suite/RAW_DATA/Shane_Kast_blue/600_4310_d55/b10.fits.gz\n",
      "\u001b[1;32m[INFO]    ::\u001b[0m \u001b[1;34marload.py 302 load_raw_frame()\u001b[0m - Loading raw_file: /home/xavier/local/Python/PYPIT-development-suite/RAW_DATA/Shane_Kast_blue/600_4310_d55/b13.fits.gz\n",
      "\u001b[1;32m[INFO]    ::\u001b[0m \u001b[1;34marload.py 302 load_raw_frame()\u001b[0m - Loading raw_file: /home/xavier/local/Python/PYPIT-development-suite/RAW_DATA/Shane_Kast_blue/600_4310_d55/b14.fits.gz\n",
      "\u001b[1;32m[INFO]    ::\u001b[0m \u001b[1;34marload.py 302 load_raw_frame()\u001b[0m - Loading raw_file: /home/xavier/local/Python/PYPIT-development-suite/RAW_DATA/Shane_Kast_blue/600_4310_d55/b11.fits.gz\n",
      "\u001b[1;32m[INFO]    ::\u001b[0m \u001b[1;34marload.py 302 load_raw_frame()\u001b[0m - Loading raw_file: /home/xavier/local/Python/PYPIT-development-suite/RAW_DATA/Shane_Kast_blue/600_4310_d55/b16.fits.gz\n",
      "\u001b[1;32m[INFO]    ::\u001b[0m \u001b[1;34marload.py 302 load_raw_frame()\u001b[0m - Loading raw_file: /home/xavier/local/Python/PYPIT-development-suite/RAW_DATA/Shane_Kast_blue/600_4310_d55/b12.fits.gz\n",
      "\u001b[1;32m[INFO]    ::\u001b[0m \u001b[1;34marload.py 302 load_raw_frame()\u001b[0m - Loading raw_file: /home/xavier/local/Python/PYPIT-development-suite/RAW_DATA/Shane_Kast_blue/600_4310_d55/b17.fits.gz\n",
      "\u001b[1;32m[INFO]    ::\u001b[0m \u001b[1;34marload.py 302 load_raw_frame()\u001b[0m - Loading raw_file: /home/xavier/local/Python/PYPIT-development-suite/RAW_DATA/Shane_Kast_blue/600_4310_d55/b19.fits.gz\n",
      "\u001b[1;32m[INFO]    ::\u001b[0m \u001b[1;34mprocessimages.py 165 _grab_datasec()\u001b[0m - Parsing the datasec and oscansec values\n"
     ]
    }
   ],
   "source": [
    "kastb_bias.load_images()"
   ]
  },
  {
   "cell_type": "code",
   "execution_count": 12,
   "metadata": {},
   "outputs": [
    {
     "data": {
      "text/plain": [
       "['load_images']"
      ]
     },
     "execution_count": 12,
     "metadata": {},
     "output_type": "execute_result"
    }
   ],
   "source": [
    "kastb_bias.steps"
   ]
  },
  {
   "cell_type": "code",
   "execution_count": 13,
   "metadata": {},
   "outputs": [
    {
     "data": {
      "text/plain": [
       "[[[1, 1024], [0, 0]], [[1025, 2048], [0, 0]]]"
      ]
     },
     "execution_count": 13,
     "metadata": {},
     "output_type": "execute_result"
    }
   ],
   "source": [
    "kastb_bias.datasec"
   ]
  },
  {
   "cell_type": "markdown",
   "metadata": {},
   "source": [
    "## Bias Subtract (and trim)"
   ]
  },
  {
   "cell_type": "code",
   "execution_count": 14,
   "metadata": {},
   "outputs": [
    {
     "name": "stderr",
     "output_type": "stream",
     "text": [
      "\u001b[1;32m[INFO]    ::\u001b[0m \u001b[1;34mprocessimages.py 192 bias_subtract()\u001b[0m - Bias subtracting your image(s)\n"
     ]
    }
   ],
   "source": [
    "deimos_flats.bias_subtract('overscan')"
   ]
  },
  {
   "cell_type": "code",
   "execution_count": 15,
   "metadata": {
    "collapsed": true
   },
   "outputs": [],
   "source": [
    "deimos_flats.show('raw_image', 0)"
   ]
  },
  {
   "cell_type": "code",
   "execution_count": 16,
   "metadata": {
    "collapsed": true
   },
   "outputs": [],
   "source": [
    "deimos_flats.show('proc_image', 0)"
   ]
  },
  {
   "cell_type": "code",
   "execution_count": 17,
   "metadata": {},
   "outputs": [
    {
     "data": {
      "text/plain": [
       "['load_images', 'bias_subtract']"
      ]
     },
     "execution_count": 17,
     "metadata": {},
     "output_type": "execute_result"
    }
   ],
   "source": [
    "deimos_flats.steps"
   ]
  },
  {
   "cell_type": "markdown",
   "metadata": {},
   "source": [
    "### Try to do it again"
   ]
  },
  {
   "cell_type": "code",
   "execution_count": 18,
   "metadata": {},
   "outputs": [
    {
     "name": "stderr",
     "output_type": "stream",
     "text": [
      "\u001b[1;31m[WARNING] ::\u001b[0m \u001b[1;34mprocessimages.py 189 bias_subtract()\u001b[0m - Images already bias subtracted.  Use force=True to reset proc_images and do it again.\n",
      "\u001b[1;31m[WARNING] ::\u001b[0m \u001b[1;34mprocessimages.py 190 bias_subtract()\u001b[0m - Returning..\n"
     ]
    }
   ],
   "source": [
    "deimos_flats.bias_subtract('overscan')"
   ]
  },
  {
   "cell_type": "markdown",
   "metadata": {},
   "source": [
    "## Combine"
   ]
  },
  {
   "cell_type": "markdown",
   "metadata": {},
   "source": [
    "### Steps"
   ]
  },
  {
   "cell_type": "code",
   "execution_count": 19,
   "metadata": {
    "collapsed": true
   },
   "outputs": [],
   "source": [
    "deimos_flats = processimages.ProcessImages(deimos_flat_files, user_settings=user_settings)"
   ]
  },
  {
   "cell_type": "code",
   "execution_count": 20,
   "metadata": {},
   "outputs": [
    {
     "name": "stderr",
     "output_type": "stream",
     "text": [
      "\u001b[1;32m[INFO]    ::\u001b[0m \u001b[1;34marload.py 302 load_raw_frame()\u001b[0m - Loading raw_file: /home/xavier/local/Python/PYPIT-development-suite//RAW_DATA/Keck_DEIMOS/830G_L/d0914_0014.fits\n",
      "\u001b[1;32m[INFO]    ::\u001b[0m \u001b[1;34mardeimos.py 48 read_deimos()\u001b[0m - Reading DEIMOS file: /home/xavier/local/Python/PYPIT-development-suite//RAW_DATA/Keck_DEIMOS/830G_L/d0914_0014.fits\n",
      "\u001b[1;32m[INFO]    ::\u001b[0m \u001b[1;34marload.py 302 load_raw_frame()\u001b[0m - Loading raw_file: /home/xavier/local/Python/PYPIT-development-suite//RAW_DATA/Keck_DEIMOS/830G_L/d0914_0015.fits\n",
      "\u001b[1;32m[INFO]    ::\u001b[0m \u001b[1;34mardeimos.py 48 read_deimos()\u001b[0m - Reading DEIMOS file: /home/xavier/local/Python/PYPIT-development-suite//RAW_DATA/Keck_DEIMOS/830G_L/d0914_0015.fits\n",
      "\u001b[1;32m[INFO]    ::\u001b[0m \u001b[1;34marproc.py 721 get_datasec()\u001b[0m - Parsing datasec and oscansec from headers\n",
      "\u001b[1;32m[INFO]    ::\u001b[0m \u001b[1;34mardeimos.py 48 read_deimos()\u001b[0m - Reading DEIMOS file: /home/xavier/local/Python/PYPIT-development-suite//RAW_DATA/Keck_DEIMOS/830G_L/d0914_0014.fits\n"
     ]
    }
   ],
   "source": [
    "deimos_flats.load_images()"
   ]
  },
  {
   "cell_type": "code",
   "execution_count": 21,
   "metadata": {},
   "outputs": [
    {
     "name": "stderr",
     "output_type": "stream",
     "text": [
      "\u001b[1;32m[INFO]    ::\u001b[0m \u001b[1;34mprocessimages.py 192 bias_subtract()\u001b[0m - Bias subtracting your image(s)\n"
     ]
    }
   ],
   "source": [
    "deimos_flats.bias_subtract('overscan')"
   ]
  },
  {
   "cell_type": "code",
   "execution_count": 22,
   "metadata": {},
   "outputs": [
    {
     "name": "stderr",
     "output_type": "stream",
     "text": [
      "\u001b[1;32m[INFO]    ::\u001b[0m \u001b[1;34marcomb.py 94 core_comb_frames()\u001b[0m - Combining 2 Unknown frames\n",
      "\u001b[1;30m[WORK IN ]::\u001b[0m\n",
      "\u001b[1;33m[PROGRESS]::\u001b[0m \u001b[1;34marcomb.py 98 core_comb_frames()\u001b[0m - lscomb feature has not been included here yet...\n",
      "\u001b[1;32m[INFO]    ::\u001b[0m \u001b[1;34marcomb.py 162 core_comb_frames()\u001b[0m - Finding saturated and non-linear pixels\n",
      "\u001b[1;32m[INFO]    ::\u001b[0m \u001b[1;34marcomb.py 189 core_comb_frames()\u001b[0m - Rejecting cosmic rays\n",
      "\u001b[1;32m[INFO]    ::\u001b[0m \u001b[1;34marcomb.py 231 core_comb_frames()\u001b[0m - Not rejecting any low/high pixels\n",
      "\u001b[1;32m[INFO]    ::\u001b[0m \u001b[1;34marcomb.py 235 core_comb_frames()\u001b[0m - Rejecting deviant pixels\n",
      "\u001b[1;32m[INFO]    ::\u001b[0m \u001b[1;34marcomb.py 256 core_comb_frames()\u001b[0m - Combining frames with a weightmean operation\n",
      "\u001b[1;32m[INFO]    ::\u001b[0m \u001b[1;34marcomb.py 294 core_comb_frames()\u001b[0m - Replacing completely masked pixels with the maxnonsat value of the input frames\n",
      "\u001b[1;32m[INFO]    ::\u001b[0m \u001b[1;34marcomb.py 307 core_comb_frames()\u001b[0m - 2 Unknown frames combined successfully!\n"
     ]
    },
    {
     "data": {
      "text/plain": [
       "array([[  10.88449352,   10.93262544,    7.89274333, ...,  103.46982748,\n",
       "         120.86308202,  143.3626884 ],\n",
       "       [   5.29618865,    6.3733217 ,    6.3733217 , ...,   88.78722137,\n",
       "         104.81181615,  133.41459698],\n",
       "       [   7.26412026,    9.68094725,    2.65976655, ...,   90.98380636,\n",
       "         106.36338225,  132.37610928],\n",
       "       ..., \n",
       "       [ 104.6093912 ,  101.46707835,   81.50338765, ...,  198.69211635,\n",
       "         251.20589523,  224.98604431],\n",
       "       [ 124.49871806,  102.52836725,  104.17045351, ...,  248.52222101,\n",
       "         284.77207625,  274.526056  ],\n",
       "       [  52.54359883,   61.14254418,   51.54385518, ...,  110.4108817 ,\n",
       "         137.54227164,  148.60983298]])"
      ]
     },
     "execution_count": 22,
     "metadata": {},
     "output_type": "execute_result"
    }
   ],
   "source": [
    "deimos_flats.combine()"
   ]
  },
  {
   "cell_type": "code",
   "execution_count": 23,
   "metadata": {
    "collapsed": true
   },
   "outputs": [],
   "source": [
    "deimos_flats.show('stack')"
   ]
  },
  {
   "cell_type": "code",
   "execution_count": 24,
   "metadata": {},
   "outputs": [
    {
     "data": {
      "text/plain": [
       "<ProcessImages: nimg=2 steps: [load_images, bias_subtract, combine]>"
      ]
     },
     "execution_count": 24,
     "metadata": {},
     "output_type": "execute_result"
    }
   ],
   "source": [
    "deimos_flats"
   ]
  },
  {
   "cell_type": "markdown",
   "metadata": {},
   "source": [
    "### One-stop-shopping"
   ]
  },
  {
   "cell_type": "code",
   "execution_count": 25,
   "metadata": {},
   "outputs": [
    {
     "data": {
      "text/plain": [
       "<ProcessImages: nimg=2>"
      ]
     },
     "execution_count": 25,
     "metadata": {},
     "output_type": "execute_result"
    }
   ],
   "source": [
    "deimos_flats = processimages.ProcessImages(deimos_flat_files, user_settings=user_settings)\n",
    "deimos_flats"
   ]
  },
  {
   "cell_type": "code",
   "execution_count": 26,
   "metadata": {},
   "outputs": [
    {
     "name": "stderr",
     "output_type": "stream",
     "text": [
      "\u001b[1;32m[INFO]    ::\u001b[0m \u001b[1;34marload.py 302 load_raw_frame()\u001b[0m - Loading raw_file: /home/xavier/local/Python/PYPIT-development-suite//RAW_DATA/Keck_DEIMOS/830G_L/d0914_0014.fits\n",
      "\u001b[1;32m[INFO]    ::\u001b[0m \u001b[1;34mardeimos.py 48 read_deimos()\u001b[0m - Reading DEIMOS file: /home/xavier/local/Python/PYPIT-development-suite//RAW_DATA/Keck_DEIMOS/830G_L/d0914_0014.fits\n",
      "\u001b[1;32m[INFO]    ::\u001b[0m \u001b[1;34marload.py 302 load_raw_frame()\u001b[0m - Loading raw_file: /home/xavier/local/Python/PYPIT-development-suite//RAW_DATA/Keck_DEIMOS/830G_L/d0914_0015.fits\n",
      "\u001b[1;32m[INFO]    ::\u001b[0m \u001b[1;34mardeimos.py 48 read_deimos()\u001b[0m - Reading DEIMOS file: /home/xavier/local/Python/PYPIT-development-suite//RAW_DATA/Keck_DEIMOS/830G_L/d0914_0015.fits\n",
      "\u001b[1;32m[INFO]    ::\u001b[0m \u001b[1;34marproc.py 721 get_datasec()\u001b[0m - Parsing datasec and oscansec from headers\n",
      "\u001b[1;32m[INFO]    ::\u001b[0m \u001b[1;34mardeimos.py 48 read_deimos()\u001b[0m - Reading DEIMOS file: /home/xavier/local/Python/PYPIT-development-suite//RAW_DATA/Keck_DEIMOS/830G_L/d0914_0014.fits\n",
      "\u001b[1;32m[INFO]    ::\u001b[0m \u001b[1;34mprocessimages.py 192 bias_subtract()\u001b[0m - Bias subtracting your image(s)\n",
      "\u001b[1;32m[INFO]    ::\u001b[0m \u001b[1;34marcomb.py 94 core_comb_frames()\u001b[0m - Combining 2 Unknown frames\n",
      "\u001b[1;30m[WORK IN ]::\u001b[0m\n",
      "\u001b[1;33m[PROGRESS]::\u001b[0m \u001b[1;34marcomb.py 98 core_comb_frames()\u001b[0m - lscomb feature has not been included here yet...\n",
      "\u001b[1;32m[INFO]    ::\u001b[0m \u001b[1;34marcomb.py 162 core_comb_frames()\u001b[0m - Finding saturated and non-linear pixels\n",
      "\u001b[1;32m[INFO]    ::\u001b[0m \u001b[1;34marcomb.py 189 core_comb_frames()\u001b[0m - Rejecting cosmic rays\n",
      "\u001b[1;32m[INFO]    ::\u001b[0m \u001b[1;34marcomb.py 231 core_comb_frames()\u001b[0m - Not rejecting any low/high pixels\n",
      "\u001b[1;32m[INFO]    ::\u001b[0m \u001b[1;34marcomb.py 235 core_comb_frames()\u001b[0m - Rejecting deviant pixels\n",
      "\u001b[1;32m[INFO]    ::\u001b[0m \u001b[1;34marcomb.py 256 core_comb_frames()\u001b[0m - Combining frames with a weightmean operation\n",
      "\u001b[1;32m[INFO]    ::\u001b[0m \u001b[1;34marcomb.py 294 core_comb_frames()\u001b[0m - Replacing completely masked pixels with the maxnonsat value of the input frames\n",
      "\u001b[1;32m[INFO]    ::\u001b[0m \u001b[1;34marcomb.py 307 core_comb_frames()\u001b[0m - 2 Unknown frames combined successfully!\n"
     ]
    },
    {
     "data": {
      "text/plain": [
       "array([[  10.88449352,   10.93262544,    7.89274333, ...,  103.46982748,\n",
       "         120.86308202,  143.3626884 ],\n",
       "       [   5.29618865,    6.3733217 ,    6.3733217 , ...,   88.78722137,\n",
       "         104.81181615,  133.41459698],\n",
       "       [   7.26412026,    9.68094725,    2.65976655, ...,   90.98380636,\n",
       "         106.36338225,  132.37610928],\n",
       "       ..., \n",
       "       [ 104.6093912 ,  101.46707835,   81.50338765, ...,  198.69211635,\n",
       "         251.20589523,  224.98604431],\n",
       "       [ 124.49871806,  102.52836725,  104.17045351, ...,  248.52222101,\n",
       "         284.77207625,  274.526056  ],\n",
       "       [  52.54359883,   61.14254418,   51.54385518, ...,  110.4108817 ,\n",
       "         137.54227164,  148.60983298]])"
      ]
     },
     "execution_count": 26,
     "metadata": {},
     "output_type": "execute_result"
    }
   ],
   "source": [
    "deimos_flats.combine(bias_subtract='overscan')"
   ]
  },
  {
   "cell_type": "markdown",
   "metadata": {},
   "source": [
    "----"
   ]
  },
  {
   "cell_type": "markdown",
   "metadata": {},
   "source": [
    "## TESTING"
   ]
  },
  {
   "cell_type": "code",
   "execution_count": null,
   "metadata": {
    "collapsed": true
   },
   "outputs": [],
   "source": []
  }
 ],
 "metadata": {
  "kernelspec": {
   "display_name": "Python 3",
   "language": "python",
   "name": "python3"
  },
  "language_info": {
   "codemirror_mode": {
    "name": "ipython",
    "version": 3
   },
   "file_extension": ".py",
   "mimetype": "text/x-python",
   "name": "python",
   "nbconvert_exporter": "python",
   "pygments_lexer": "ipython3",
   "version": "3.6.3"
  }
 },
 "nbformat": 4,
 "nbformat_minor": 2
}
