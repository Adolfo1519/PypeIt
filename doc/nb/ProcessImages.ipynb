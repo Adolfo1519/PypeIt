{
 "cells": [
  {
   "cell_type": "markdown",
   "metadata": {},
   "source": [
    "# Playing around with the ProcessImages class [v1.0]\n",
    "\n",
    "### Requires the PYPIT-Development-suite"
   ]
  },
  {
   "cell_type": "code",
   "execution_count": 13,
   "metadata": {
    "collapsed": true
   },
   "outputs": [],
   "source": [
    "# imports\n",
    "import glob\n",
    "from importlib import reload\n",
    "\n",
    "from pypit import processimages"
   ]
  },
  {
   "cell_type": "code",
   "execution_count": 52,
   "metadata": {},
   "outputs": [
    {
     "data": {
      "text/plain": [
       "<module 'pypit.processimages' from '/home/xavier/local/Python/PYPIT/pypit/processimages.py'>"
      ]
     },
     "execution_count": 52,
     "metadata": {},
     "output_type": "execute_result"
    }
   ],
   "source": [
    "reload(processimages)"
   ]
  },
  {
   "cell_type": "code",
   "execution_count": 25,
   "metadata": {
    "collapsed": true
   },
   "outputs": [],
   "source": [
    "# Modify this\n",
    "pypdev_path = '/home/xavier/local/Python/PYPIT-development-suite/'"
   ]
  },
  {
   "cell_type": "markdown",
   "metadata": {},
   "source": [
    "## Load some images"
   ]
  },
  {
   "cell_type": "markdown",
   "metadata": {},
   "source": [
    "### DEIMOS"
   ]
  },
  {
   "cell_type": "code",
   "execution_count": 27,
   "metadata": {},
   "outputs": [],
   "source": [
    "deimos_flat_files = [pypdev_path+'/RAW_DATA/Keck_DEIMOS/830G_L/'+ifile for ifile in [  # Longslit in dets 3,7\n",
    "                'd0914_0014.fits', 'd0914_0015.fits']]"
   ]
  },
  {
   "cell_type": "code",
   "execution_count": 40,
   "metadata": {},
   "outputs": [],
   "source": [
    "# Instantiate\n",
    "user_settings = dict(run={'spectrograph': 'keck_deimos'})\n",
    "deimos_flats = processimages.ProcessImages(deimos_flat_files, user_settings=user_settings)"
   ]
  },
  {
   "cell_type": "code",
   "execution_count": 41,
   "metadata": {},
   "outputs": [
    {
     "name": "stderr",
     "output_type": "stream",
     "text": [
      "\u001b[1;32m[INFO]    ::\u001b[0m \u001b[1;34marload.py 301 load_raw_frame()\u001b[0m - Loading raw_file: /home/xavier/local/Python/PYPIT-development-suite//RAW_DATA/Keck_DEIMOS/830G_L/d0914_0014.fits\n",
      "\u001b[1;32m[INFO]    ::\u001b[0m \u001b[1;34mardeimos.py 48 read_deimos()\u001b[0m - Reading DEIMOS file: /home/xavier/local/Python/PYPIT-development-suite//RAW_DATA/Keck_DEIMOS/830G_L/d0914_0014.fits\n",
      "\u001b[1;32m[INFO]    ::\u001b[0m \u001b[1;34marload.py 301 load_raw_frame()\u001b[0m - Loading raw_file: /home/xavier/local/Python/PYPIT-development-suite//RAW_DATA/Keck_DEIMOS/830G_L/d0914_0015.fits\n",
      "\u001b[1;32m[INFO]    ::\u001b[0m \u001b[1;34mardeimos.py 48 read_deimos()\u001b[0m - Reading DEIMOS file: /home/xavier/local/Python/PYPIT-development-suite//RAW_DATA/Keck_DEIMOS/830G_L/d0914_0015.fits\n"
     ]
    }
   ],
   "source": [
    "# Load\n",
    "deimos_flats.load()"
   ]
  },
  {
   "cell_type": "code",
   "execution_count": 43,
   "metadata": {},
   "outputs": [
    {
     "data": {
      "text/plain": [
       "2"
      ]
     },
     "execution_count": 43,
     "metadata": {},
     "output_type": "execute_result"
    }
   ],
   "source": [
    "deimos_flats.nloaded"
   ]
  },
  {
   "cell_type": "code",
   "execution_count": 44,
   "metadata": {},
   "outputs": [
    {
     "data": {
      "text/plain": [
       "(8192, 8512)"
      ]
     },
     "execution_count": 44,
     "metadata": {},
     "output_type": "execute_result"
    }
   ],
   "source": [
    "procimgs.images[0].shape"
   ]
  },
  {
   "cell_type": "markdown",
   "metadata": {},
   "source": [
    "### Kast"
   ]
  },
  {
   "cell_type": "code",
   "execution_count": 45,
   "metadata": {},
   "outputs": [
    {
     "data": {
      "text/plain": [
       "['/home/xavier/local/Python/PYPIT-development-suite/RAW_DATA/Shane_Kast_blue/600_4310_d55/b18.fits.gz',\n",
       " '/home/xavier/local/Python/PYPIT-development-suite/RAW_DATA/Shane_Kast_blue/600_4310_d55/b15.fits.gz',\n",
       " '/home/xavier/local/Python/PYPIT-development-suite/RAW_DATA/Shane_Kast_blue/600_4310_d55/b10.fits.gz',\n",
       " '/home/xavier/local/Python/PYPIT-development-suite/RAW_DATA/Shane_Kast_blue/600_4310_d55/b13.fits.gz',\n",
       " '/home/xavier/local/Python/PYPIT-development-suite/RAW_DATA/Shane_Kast_blue/600_4310_d55/b14.fits.gz',\n",
       " '/home/xavier/local/Python/PYPIT-development-suite/RAW_DATA/Shane_Kast_blue/600_4310_d55/b11.fits.gz',\n",
       " '/home/xavier/local/Python/PYPIT-development-suite/RAW_DATA/Shane_Kast_blue/600_4310_d55/b16.fits.gz',\n",
       " '/home/xavier/local/Python/PYPIT-development-suite/RAW_DATA/Shane_Kast_blue/600_4310_d55/b12.fits.gz',\n",
       " '/home/xavier/local/Python/PYPIT-development-suite/RAW_DATA/Shane_Kast_blue/600_4310_d55/b17.fits.gz',\n",
       " '/home/xavier/local/Python/PYPIT-development-suite/RAW_DATA/Shane_Kast_blue/600_4310_d55/b19.fits.gz']"
      ]
     },
     "execution_count": 45,
     "metadata": {},
     "output_type": "execute_result"
    }
   ],
   "source": [
    "kast_blue_bias = glob.glob(pypdev_path+'RAW_DATA/Shane_Kast_blue/600_4310_d55/b1?.fits*')\n",
    "kast_blue_bias"
   ]
  },
  {
   "cell_type": "code",
   "execution_count": 57,
   "metadata": {},
   "outputs": [],
   "source": [
    "# Instantiate\n",
    "kast_settings = processimages.default_settings.copy()\n",
    "kast_settings['run']['spectrograph'] = 'shane_kast_blue'\n",
    "kast_settings['detector']['dataext'] = 0\n",
    "kastb_bias = processimages.ProcessImages(kast_blue_bias, settings=kast_settings)"
   ]
  },
  {
   "cell_type": "code",
   "execution_count": 58,
   "metadata": {},
   "outputs": [
    {
     "name": "stderr",
     "output_type": "stream",
     "text": [
      "\u001b[1;32m[INFO]    ::\u001b[0m \u001b[1;34marload.py 301 load_raw_frame()\u001b[0m - Loading raw_file: /home/xavier/local/Python/PYPIT-development-suite/RAW_DATA/Shane_Kast_blue/600_4310_d55/b18.fits.gz\n",
      "\u001b[1;32m[INFO]    ::\u001b[0m \u001b[1;34marload.py 301 load_raw_frame()\u001b[0m - Loading raw_file: /home/xavier/local/Python/PYPIT-development-suite/RAW_DATA/Shane_Kast_blue/600_4310_d55/b15.fits.gz\n",
      "\u001b[1;32m[INFO]    ::\u001b[0m \u001b[1;34marload.py 301 load_raw_frame()\u001b[0m - Loading raw_file: /home/xavier/local/Python/PYPIT-development-suite/RAW_DATA/Shane_Kast_blue/600_4310_d55/b10.fits.gz\n",
      "\u001b[1;32m[INFO]    ::\u001b[0m \u001b[1;34marload.py 301 load_raw_frame()\u001b[0m - Loading raw_file: /home/xavier/local/Python/PYPIT-development-suite/RAW_DATA/Shane_Kast_blue/600_4310_d55/b13.fits.gz\n",
      "\u001b[1;32m[INFO]    ::\u001b[0m \u001b[1;34marload.py 301 load_raw_frame()\u001b[0m - Loading raw_file: /home/xavier/local/Python/PYPIT-development-suite/RAW_DATA/Shane_Kast_blue/600_4310_d55/b14.fits.gz\n",
      "\u001b[1;32m[INFO]    ::\u001b[0m \u001b[1;34marload.py 301 load_raw_frame()\u001b[0m - Loading raw_file: /home/xavier/local/Python/PYPIT-development-suite/RAW_DATA/Shane_Kast_blue/600_4310_d55/b11.fits.gz\n",
      "\u001b[1;32m[INFO]    ::\u001b[0m \u001b[1;34marload.py 301 load_raw_frame()\u001b[0m - Loading raw_file: /home/xavier/local/Python/PYPIT-development-suite/RAW_DATA/Shane_Kast_blue/600_4310_d55/b16.fits.gz\n",
      "\u001b[1;32m[INFO]    ::\u001b[0m \u001b[1;34marload.py 301 load_raw_frame()\u001b[0m - Loading raw_file: /home/xavier/local/Python/PYPIT-development-suite/RAW_DATA/Shane_Kast_blue/600_4310_d55/b12.fits.gz\n",
      "\u001b[1;32m[INFO]    ::\u001b[0m \u001b[1;34marload.py 301 load_raw_frame()\u001b[0m - Loading raw_file: /home/xavier/local/Python/PYPIT-development-suite/RAW_DATA/Shane_Kast_blue/600_4310_d55/b17.fits.gz\n",
      "\u001b[1;32m[INFO]    ::\u001b[0m \u001b[1;34marload.py 301 load_raw_frame()\u001b[0m - Loading raw_file: /home/xavier/local/Python/PYPIT-development-suite/RAW_DATA/Shane_Kast_blue/600_4310_d55/b19.fits.gz\n"
     ]
    }
   ],
   "source": [
    "kastb_bias.load()"
   ]
  },
  {
   "cell_type": "markdown",
   "metadata": {},
   "source": [
    "----"
   ]
  },
  {
   "cell_type": "markdown",
   "metadata": {},
   "source": [
    "## TESTING"
   ]
  },
  {
   "cell_type": "code",
   "execution_count": 53,
   "metadata": {
    "collapsed": true
   },
   "outputs": [],
   "source": [
    "t1 = {'a': 0, 'b': {'c': 1, 'd': 2}, 'e': 'blah'}"
   ]
  },
  {
   "cell_type": "code",
   "execution_count": 54,
   "metadata": {
    "collapsed": true
   },
   "outputs": [],
   "source": [
    "t2 = {'a': 1, 'b': {'c': 3}}"
   ]
  },
  {
   "cell_type": "code",
   "execution_count": 55,
   "metadata": {},
   "outputs": [
    {
     "ename": "ValueError",
     "evalue": "Overlapping leafs must both be dicts",
     "output_type": "error",
     "traceback": [
      "\u001b[0;31m---------------------------------------------------------------------------\u001b[0m",
      "\u001b[0;31mValueError\u001b[0m                                Traceback (most recent call last)",
      "\u001b[0;32m<ipython-input-55-f29b7b6c1d9f>\u001b[0m in \u001b[0;36m<module>\u001b[0;34m()\u001b[0m\n\u001b[0;32m----> 1\u001b[0;31m \u001b[0mt3\u001b[0m \u001b[0;34m=\u001b[0m \u001b[0mprocessimages\u001b[0m\u001b[0;34m.\u001b[0m\u001b[0mcombine_dicts\u001b[0m\u001b[0;34m(\u001b[0m\u001b[0mt1\u001b[0m\u001b[0;34m,\u001b[0m\u001b[0mt2\u001b[0m\u001b[0;34m)\u001b[0m\u001b[0;34m\u001b[0m\u001b[0m\n\u001b[0m\u001b[1;32m      2\u001b[0m \u001b[0mt3\u001b[0m\u001b[0;34m\u001b[0m\u001b[0m\n",
      "\u001b[0;32m~/local/Python/PYPIT/pypit/processimages.py\u001b[0m in \u001b[0;36mcombine_dicts\u001b[0;34m(dict1, dict2)\u001b[0m\n\u001b[1;32m    298\u001b[0m         \u001b[0;32mif\u001b[0m \u001b[0mitem\u001b[0m \u001b[0;32min\u001b[0m \u001b[0mcdict2\u001b[0m\u001b[0;34m:\u001b[0m\u001b[0;34m\u001b[0m\u001b[0m\n\u001b[1;32m    299\u001b[0m             \u001b[0;32mif\u001b[0m \u001b[0;34m(\u001b[0m\u001b[0;32mnot\u001b[0m \u001b[0misinstance\u001b[0m\u001b[0;34m(\u001b[0m\u001b[0mcdict2\u001b[0m\u001b[0;34m[\u001b[0m\u001b[0mitem\u001b[0m\u001b[0;34m]\u001b[0m\u001b[0;34m,\u001b[0m \u001b[0mdict\u001b[0m\u001b[0;34m)\u001b[0m\u001b[0;34m)\u001b[0m \u001b[0;32mor\u001b[0m \u001b[0;34m(\u001b[0m\u001b[0;32mnot\u001b[0m \u001b[0misinstance\u001b[0m\u001b[0;34m(\u001b[0m\u001b[0mdict1\u001b[0m\u001b[0;34m[\u001b[0m\u001b[0mitem\u001b[0m\u001b[0;34m]\u001b[0m\u001b[0;34m,\u001b[0m \u001b[0mdict\u001b[0m\u001b[0;34m)\u001b[0m\u001b[0;34m)\u001b[0m\u001b[0;34m:\u001b[0m\u001b[0;34m\u001b[0m\u001b[0m\n\u001b[0;32m--> 300\u001b[0;31m                     \u001b[0;32mraise\u001b[0m \u001b[0mValueError\u001b[0m\u001b[0;34m(\u001b[0m\u001b[0;34m\"Overlapping leafs must both be dicts\"\u001b[0m\u001b[0;34m)\u001b[0m\u001b[0;34m\u001b[0m\u001b[0m\n\u001b[0m\u001b[1;32m    301\u001b[0m             \u001b[0;32mtry\u001b[0m\u001b[0;34m:\u001b[0m\u001b[0;34m\u001b[0m\u001b[0m\n\u001b[1;32m    302\u001b[0m                 \u001b[0moutput\u001b[0m\u001b[0;34m[\u001b[0m\u001b[0mitem\u001b[0m\u001b[0;34m]\u001b[0m \u001b[0;34m=\u001b[0m \u001b[0mcombine_dicts\u001b[0m\u001b[0;34m(\u001b[0m\u001b[0mvalue\u001b[0m\u001b[0;34m,\u001b[0m \u001b[0mcdict2\u001b[0m\u001b[0;34m.\u001b[0m\u001b[0mpop\u001b[0m\u001b[0;34m(\u001b[0m\u001b[0mitem\u001b[0m\u001b[0;34m)\u001b[0m\u001b[0;34m)\u001b[0m\u001b[0;34m\u001b[0m\u001b[0m\n",
      "\u001b[0;31mValueError\u001b[0m: Overlapping leafs must both be dicts"
     ]
    }
   ],
   "source": [
    "t3 = processimages.combine_dicts(t1,t2)\n",
    "t3"
   ]
  },
  {
   "cell_type": "code",
   "execution_count": null,
   "metadata": {
    "collapsed": true
   },
   "outputs": [],
   "source": []
  }
 ],
 "metadata": {
  "kernelspec": {
   "display_name": "Python 3",
   "language": "python",
   "name": "python3"
  },
  "language_info": {
   "codemirror_mode": {
    "name": "ipython",
    "version": 3
   },
   "file_extension": ".py",
   "mimetype": "text/x-python",
   "name": "python",
   "nbconvert_exporter": "python",
   "pygments_lexer": "ipython3",
   "version": "3.6.3"
  }
 },
 "nbformat": 4,
 "nbformat_minor": 2
}
