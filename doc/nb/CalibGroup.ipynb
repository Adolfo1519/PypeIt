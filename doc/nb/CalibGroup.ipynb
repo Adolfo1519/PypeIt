{
 "cells": [
  {
   "cell_type": "code",
   "execution_count": 1,
   "metadata": {},
   "outputs": [],
   "source": [
    "import os\n",
    "import glob\n",
    "import numpy\n",
    "\n",
    "from pypeit.metadata import PypeItMetaData\n"
   ]
  },
  {
   "cell_type": "code",
   "execution_count": 2,
   "metadata": {},
   "outputs": [],
   "source": [
    "file_list = glob.glob(os.path.join(os.environ['PYPEIT_DEV'],\n",
    "                                   'RAW_DATA/Keck_LRIS_red/multi*/*.fits*'))"
   ]
  },
  {
   "cell_type": "code",
   "execution_count": 3,
   "metadata": {},
   "outputs": [
    {
     "name": "stderr",
     "output_type": "stream",
     "text": [
      "\u001b[1;31m[WARNING] ::\u001b[0m \u001b[1;34mmetadata.py 137 _build()\u001b[0m - Columns are missing.\n",
      "\u001b[1;31m[WARNING] ::\u001b[0m \u001b[1;34mmetadata.py 182 _build()\u001b[0m - ut keyword not in header. Setting to None\n",
      "\u001b[1;32m[INFO]    ::\u001b[0m \u001b[1;34mmetadata.py 208 _build()\u001b[0m - Successfully loaded headers for file:\n",
      "             /Users/westfall/Work/packages/PypeIt-development-suite/RAW_DATA/Keck_LRIS_red/multi_1200_9000_d680/r170816_0009.fits\n",
      "\u001b[1;31m[WARNING] ::\u001b[0m \u001b[1;34mmetadata.py 182 _build()\u001b[0m - ut keyword not in header. Setting to None\n",
      "\u001b[1;32m[INFO]    ::\u001b[0m \u001b[1;34mmetadata.py 208 _build()\u001b[0m - Successfully loaded headers for file:\n",
      "             /Users/westfall/Work/packages/PypeIt-development-suite/RAW_DATA/Keck_LRIS_red/multi_1200_9000_d680/r170816_0018.fits\n",
      "\u001b[1;31m[WARNING] ::\u001b[0m \u001b[1;34mmetadata.py 182 _build()\u001b[0m - ut keyword not in header. Setting to None\n",
      "\u001b[1;32m[INFO]    ::\u001b[0m \u001b[1;34mmetadata.py 208 _build()\u001b[0m - Successfully loaded headers for file:\n",
      "             /Users/westfall/Work/packages/PypeIt-development-suite/RAW_DATA/Keck_LRIS_red/multi_1200_9000_d680/r170816_0019.fits\n",
      "\u001b[1;31m[WARNING] ::\u001b[0m \u001b[1;34mmetadata.py 182 _build()\u001b[0m - ut keyword not in header. Setting to None\n",
      "\u001b[1;32m[INFO]    ::\u001b[0m \u001b[1;34mmetadata.py 208 _build()\u001b[0m - Successfully loaded headers for file:\n",
      "             /Users/westfall/Work/packages/PypeIt-development-suite/RAW_DATA/Keck_LRIS_red/multi_1200_9000_d680/r170816_0020.fits\n",
      "\u001b[1;31m[WARNING] ::\u001b[0m \u001b[1;34mmetadata.py 182 _build()\u001b[0m - ut keyword not in header. Setting to None\n",
      "\u001b[1;32m[INFO]    ::\u001b[0m \u001b[1;34mmetadata.py 208 _build()\u001b[0m - Successfully loaded headers for file:\n",
      "             /Users/westfall/Work/packages/PypeIt-development-suite/RAW_DATA/Keck_LRIS_red/multi_1200_9000_d680/r170816_0021.fits\n",
      "\u001b[1;31m[WARNING] ::\u001b[0m \u001b[1;34mmetadata.py 182 _build()\u001b[0m - ut keyword not in header. Setting to None\n",
      "\u001b[1;32m[INFO]    ::\u001b[0m \u001b[1;34mmetadata.py 208 _build()\u001b[0m - Successfully loaded headers for file:\n",
      "             /Users/westfall/Work/packages/PypeIt-development-suite/RAW_DATA/Keck_LRIS_red/multi_1200_9000_d680/r170816_0022.fits\n",
      "\u001b[1;31m[WARNING] ::\u001b[0m \u001b[1;34mmetadata.py 182 _build()\u001b[0m - ut keyword not in header. Setting to None\n",
      "\u001b[1;32m[INFO]    ::\u001b[0m \u001b[1;34mmetadata.py 208 _build()\u001b[0m - Successfully loaded headers for file:\n",
      "             /Users/westfall/Work/packages/PypeIt-development-suite/RAW_DATA/Keck_LRIS_red/multi_1200_9000_d680/r170816_0045.fits\n",
      "\u001b[1;31m[WARNING] ::\u001b[0m \u001b[1;34mmetadata.py 182 _build()\u001b[0m - ut keyword not in header. Setting to None\n",
      "\u001b[1;32m[INFO]    ::\u001b[0m \u001b[1;34mmetadata.py 208 _build()\u001b[0m - Successfully loaded headers for file:\n",
      "             /Users/westfall/Work/packages/PypeIt-development-suite/RAW_DATA/Keck_LRIS_red/multi_1200_9000_d680/r170816_0046.fits\n",
      "\u001b[1;31m[WARNING] ::\u001b[0m \u001b[1;34mmetadata.py 182 _build()\u001b[0m - ut keyword not in header. Setting to None\n",
      "\u001b[1;32m[INFO]    ::\u001b[0m \u001b[1;34mmetadata.py 208 _build()\u001b[0m - Successfully loaded headers for file:\n",
      "             /Users/westfall/Work/packages/PypeIt-development-suite/RAW_DATA/Keck_LRIS_red/multi_1200_9000_d680/r170816_0047.fits\n",
      "\u001b[1;31m[WARNING] ::\u001b[0m \u001b[1;34mmetadata.py 182 _build()\u001b[0m - ut keyword not in header. Setting to None\n",
      "\u001b[1;32m[INFO]    ::\u001b[0m \u001b[1;34mmetadata.py 208 _build()\u001b[0m - Successfully loaded headers for file:\n",
      "             /Users/westfall/Work/packages/PypeIt-development-suite/RAW_DATA/Keck_LRIS_red/multi_1200_9000_d680/r170816_0048.fits\n",
      "\u001b[1;31m[WARNING] ::\u001b[0m \u001b[1;34mmetadata.py 182 _build()\u001b[0m - ut keyword not in header. Setting to None\n",
      "\u001b[1;32m[INFO]    ::\u001b[0m \u001b[1;34mmetadata.py 208 _build()\u001b[0m - Successfully loaded headers for file:\n",
      "             /Users/westfall/Work/packages/PypeIt-development-suite/RAW_DATA/Keck_LRIS_red/multi_1200_9000_d680/r170816_0057.fits\n",
      "\u001b[1;31m[WARNING] ::\u001b[0m \u001b[1;34mmetadata.py 182 _build()\u001b[0m - ut keyword not in header. Setting to None\n",
      "\u001b[1;32m[INFO]    ::\u001b[0m \u001b[1;34mmetadata.py 208 _build()\u001b[0m - Successfully loaded headers for file:\n",
      "             /Users/westfall/Work/packages/PypeIt-development-suite/RAW_DATA/Keck_LRIS_red/multi_1200_9000_d680/r170816_0058.fits\n",
      "\u001b[1;31m[WARNING] ::\u001b[0m \u001b[1;34mmetadata.py 182 _build()\u001b[0m - ut keyword not in header. Setting to None\n",
      "\u001b[1;32m[INFO]    ::\u001b[0m \u001b[1;34mmetadata.py 208 _build()\u001b[0m - Successfully loaded headers for file:\n",
      "             /Users/westfall/Work/packages/PypeIt-development-suite/RAW_DATA/Keck_LRIS_red/multi_1200_9000_d680/r170816_0059.fits\n",
      "\u001b[1;31m[WARNING] ::\u001b[0m \u001b[1;34mmetadata.py 182 _build()\u001b[0m - ut keyword not in header. Setting to None\n",
      "\u001b[1;32m[INFO]    ::\u001b[0m \u001b[1;34mmetadata.py 208 _build()\u001b[0m - Successfully loaded headers for file:\n",
      "             /Users/westfall/Work/packages/PypeIt-development-suite/RAW_DATA/Keck_LRIS_red/multi_400_8500_d560/r170320_2017.fits.gz\n",
      "\u001b[1;31m[WARNING] ::\u001b[0m \u001b[1;34mmetadata.py 182 _build()\u001b[0m - ut keyword not in header. Setting to None\n",
      "\u001b[1;32m[INFO]    ::\u001b[0m \u001b[1;34mmetadata.py 208 _build()\u001b[0m - Successfully loaded headers for file:\n",
      "             /Users/westfall/Work/packages/PypeIt-development-suite/RAW_DATA/Keck_LRIS_red/multi_400_8500_d560/r170320_2057.fits.gz\n",
      "\u001b[1;31m[WARNING] ::\u001b[0m \u001b[1;34mmetadata.py 182 _build()\u001b[0m - ut keyword not in header. Setting to None\n",
      "\u001b[1;32m[INFO]    ::\u001b[0m \u001b[1;34mmetadata.py 208 _build()\u001b[0m - Successfully loaded headers for file:\n",
      "             /Users/westfall/Work/packages/PypeIt-development-suite/RAW_DATA/Keck_LRIS_red/multi_400_8500_d560/r170320_2058.fits.gz\n",
      "\u001b[1;31m[WARNING] ::\u001b[0m \u001b[1;34mmetadata.py 182 _build()\u001b[0m - ut keyword not in header. Setting to None\n",
      "\u001b[1;32m[INFO]    ::\u001b[0m \u001b[1;34mmetadata.py 208 _build()\u001b[0m - Successfully loaded headers for file:\n",
      "             /Users/westfall/Work/packages/PypeIt-development-suite/RAW_DATA/Keck_LRIS_red/multi_400_8500_d560/r170320_2059.fits.gz\n",
      "\u001b[1;31m[WARNING] ::\u001b[0m \u001b[1;34mmetadata.py 182 _build()\u001b[0m - ut keyword not in header. Setting to None\n",
      "\u001b[1;32m[INFO]    ::\u001b[0m \u001b[1;34mmetadata.py 208 _build()\u001b[0m - Successfully loaded headers for file:\n",
      "             /Users/westfall/Work/packages/PypeIt-development-suite/RAW_DATA/Keck_LRIS_red/multi_400_8500_d560/r170320_2067.fits.gz\n",
      "\u001b[1;31m[WARNING] ::\u001b[0m \u001b[1;34mmetadata.py 182 _build()\u001b[0m - ut keyword not in header. Setting to None\n",
      "\u001b[1;32m[INFO]    ::\u001b[0m \u001b[1;34mmetadata.py 208 _build()\u001b[0m - Successfully loaded headers for file:\n",
      "             /Users/westfall/Work/packages/PypeIt-development-suite/RAW_DATA/Keck_LRIS_red/multi_400_8500_d560/r170320_2068.fits.gz\n",
      "\u001b[1;31m[WARNING] ::\u001b[0m \u001b[1;34mmetadata.py 182 _build()\u001b[0m - ut keyword not in header. Setting to None\n",
      "\u001b[1;32m[INFO]    ::\u001b[0m \u001b[1;34mmetadata.py 208 _build()\u001b[0m - Successfully loaded headers for file:\n",
      "             /Users/westfall/Work/packages/PypeIt-development-suite/RAW_DATA/Keck_LRIS_red/multi_400_8500_d560/r170320_2069.fits.gz\n",
      "\u001b[1;31m[WARNING] ::\u001b[0m \u001b[1;34mmetadata.py 182 _build()\u001b[0m - ut keyword not in header. Setting to None\n",
      "\u001b[1;32m[INFO]    ::\u001b[0m \u001b[1;34mmetadata.py 208 _build()\u001b[0m - Successfully loaded headers for file:\n",
      "             /Users/westfall/Work/packages/PypeIt-development-suite/RAW_DATA/Keck_LRIS_red/multi_400_8500_d560/r170320_2070.fits.gz\n",
      "\u001b[1;31m[WARNING] ::\u001b[0m \u001b[1;34mmetadata.py 182 _build()\u001b[0m - ut keyword not in header. Setting to None\n",
      "\u001b[1;32m[INFO]    ::\u001b[0m \u001b[1;34mmetadata.py 208 _build()\u001b[0m - Successfully loaded headers for file:\n",
      "             /Users/westfall/Work/packages/PypeIt-development-suite/RAW_DATA/Keck_LRIS_red/multi_400_8500_d560/r170320_2071.fits.gz\n",
      "\u001b[1;31m[WARNING] ::\u001b[0m \u001b[1;34mmetadata.py 182 _build()\u001b[0m - ut keyword not in header. Setting to None\n",
      "\u001b[1;32m[INFO]    ::\u001b[0m \u001b[1;34mmetadata.py 208 _build()\u001b[0m - Successfully loaded headers for file:\n",
      "             /Users/westfall/Work/packages/PypeIt-development-suite/RAW_DATA/Keck_LRIS_red/multi_400_8500_d560/r170320_2072.fits.gz\n",
      "\u001b[1;31m[WARNING] ::\u001b[0m \u001b[1;34mmetadata.py 182 _build()\u001b[0m - ut keyword not in header. Setting to None\n",
      "\u001b[1;32m[INFO]    ::\u001b[0m \u001b[1;34mmetadata.py 208 _build()\u001b[0m - Successfully loaded headers for file:\n",
      "             /Users/westfall/Work/packages/PypeIt-development-suite/RAW_DATA/Keck_LRIS_red/multi_400_8500_d560/r170320_2073.fits.gz\n",
      "\u001b[1;31m[WARNING] ::\u001b[0m \u001b[1;34mmetadata.py 182 _build()\u001b[0m - ut keyword not in header. Setting to None\n",
      "\u001b[1;32m[INFO]    ::\u001b[0m \u001b[1;34mmetadata.py 208 _build()\u001b[0m - Successfully loaded headers for file:\n",
      "             /Users/westfall/Work/packages/PypeIt-development-suite/RAW_DATA/Keck_LRIS_red/multi_400_8500_d560/r170320_2074.fits.gz\n"
     ]
    },
    {
     "name": "stderr",
     "output_type": "stream",
     "text": [
      "\u001b[1;31m[WARNING] ::\u001b[0m \u001b[1;34mmetadata.py 182 _build()\u001b[0m - ut keyword not in header. Setting to None\n",
      "\u001b[1;32m[INFO]    ::\u001b[0m \u001b[1;34mmetadata.py 208 _build()\u001b[0m - Successfully loaded headers for file:\n",
      "             /Users/westfall/Work/packages/PypeIt-development-suite/RAW_DATA/Keck_LRIS_red/multi_400_8500_d560/r170320_2075.fits.gz\n",
      "\u001b[1;31m[WARNING] ::\u001b[0m \u001b[1;34mmetadata.py 182 _build()\u001b[0m - ut keyword not in header. Setting to None\n",
      "\u001b[1;32m[INFO]    ::\u001b[0m \u001b[1;34mmetadata.py 208 _build()\u001b[0m - Successfully loaded headers for file:\n",
      "             /Users/westfall/Work/packages/PypeIt-development-suite/RAW_DATA/Keck_LRIS_red/multi_400_8500_d560/r170320_2076.fits.gz\n",
      "\u001b[1;31m[WARNING] ::\u001b[0m \u001b[1;34mmetadata.py 182 _build()\u001b[0m - ut keyword not in header. Setting to None\n",
      "\u001b[1;32m[INFO]    ::\u001b[0m \u001b[1;34mmetadata.py 208 _build()\u001b[0m - Successfully loaded headers for file:\n",
      "             /Users/westfall/Work/packages/PypeIt-development-suite/RAW_DATA/Keck_LRIS_red/multi_400_8500_d560/r170320_2084.fits.gz\n",
      "\u001b[1;31m[WARNING] ::\u001b[0m \u001b[1;34mmetadata.py 182 _build()\u001b[0m - ut keyword not in header. Setting to None\n",
      "\u001b[1;32m[INFO]    ::\u001b[0m \u001b[1;34mmetadata.py 208 _build()\u001b[0m - Successfully loaded headers for file:\n",
      "             /Users/westfall/Work/packages/PypeIt-development-suite/RAW_DATA/Keck_LRIS_red/multi_400_8500_d560/r170320_2085.fits.gz\n",
      "\u001b[1;31m[WARNING] ::\u001b[0m \u001b[1;34mmetadata.py 182 _build()\u001b[0m - ut keyword not in header. Setting to None\n",
      "\u001b[1;32m[INFO]    ::\u001b[0m \u001b[1;34mmetadata.py 208 _build()\u001b[0m - Successfully loaded headers for file:\n",
      "             /Users/westfall/Work/packages/PypeIt-development-suite/RAW_DATA/Keck_LRIS_red/multi_400_8500_d560/r170320_2086.fits.gz\n",
      "\u001b[1;31m[WARNING] ::\u001b[0m \u001b[1;34mmetadata.py 182 _build()\u001b[0m - ut keyword not in header. Setting to None\n",
      "\u001b[1;32m[INFO]    ::\u001b[0m \u001b[1;34mmetadata.py 208 _build()\u001b[0m - Successfully loaded headers for file:\n",
      "             /Users/westfall/Work/packages/PypeIt-development-suite/RAW_DATA/Keck_LRIS_red/multi_400_8500_d560/r170320_2087.fits.gz\n",
      "\u001b[1;31m[WARNING] ::\u001b[0m \u001b[1;34mmetadata.py 182 _build()\u001b[0m - ut keyword not in header. Setting to None\n",
      "\u001b[1;32m[INFO]    ::\u001b[0m \u001b[1;34mmetadata.py 208 _build()\u001b[0m - Successfully loaded headers for file:\n",
      "             /Users/westfall/Work/packages/PypeIt-development-suite/RAW_DATA/Keck_LRIS_red/multi_400_8500_d560/r170320_2088.fits.gz\n",
      "\u001b[1;31m[WARNING] ::\u001b[0m \u001b[1;34mmetadata.py 182 _build()\u001b[0m - ut keyword not in header. Setting to None\n",
      "\u001b[1;32m[INFO]    ::\u001b[0m \u001b[1;34mmetadata.py 208 _build()\u001b[0m - Successfully loaded headers for file:\n",
      "             /Users/westfall/Work/packages/PypeIt-development-suite/RAW_DATA/Keck_LRIS_red/multi_400_8500_d560/r170320_2089.fits.gz\n",
      "\u001b[1;31m[WARNING] ::\u001b[0m \u001b[1;34mmetadata.py 182 _build()\u001b[0m - ut keyword not in header. Setting to None\n",
      "\u001b[1;32m[INFO]    ::\u001b[0m \u001b[1;34mmetadata.py 208 _build()\u001b[0m - Successfully loaded headers for file:\n",
      "             /Users/westfall/Work/packages/PypeIt-development-suite/RAW_DATA/Keck_LRIS_red/multi_400_8500_d560/r170320_2090.fits.gz\n",
      "\u001b[1;31m[WARNING] ::\u001b[0m \u001b[1;34mmetadata.py 182 _build()\u001b[0m - ut keyword not in header. Setting to None\n",
      "\u001b[1;32m[INFO]    ::\u001b[0m \u001b[1;34mmetadata.py 208 _build()\u001b[0m - Successfully loaded headers for file:\n",
      "             /Users/westfall/Work/packages/PypeIt-development-suite/RAW_DATA/Keck_LRIS_red/multi_400_8500_d560/r170320_2091.fits.gz\n",
      "\u001b[1;31m[WARNING] ::\u001b[0m \u001b[1;34mmetadata.py 182 _build()\u001b[0m - ut keyword not in header. Setting to None\n",
      "\u001b[1;32m[INFO]    ::\u001b[0m \u001b[1;34mmetadata.py 208 _build()\u001b[0m - Successfully loaded headers for file:\n",
      "             /Users/westfall/Work/packages/PypeIt-development-suite/RAW_DATA/Keck_LRIS_red/multi_400_8500_d560/r170320_2092.fits.gz\n",
      "\u001b[1;31m[WARNING] ::\u001b[0m \u001b[1;34mmetadata.py 182 _build()\u001b[0m - ut keyword not in header. Setting to None\n",
      "\u001b[1;32m[INFO]    ::\u001b[0m \u001b[1;34mmetadata.py 208 _build()\u001b[0m - Successfully loaded headers for file:\n",
      "             /Users/westfall/Work/packages/PypeIt-development-suite/RAW_DATA/Keck_LRIS_red/multi_400_8500_d560/r170320_2093.fits.gz\n",
      "\u001b[1;31m[WARNING] ::\u001b[0m \u001b[1;34mmetadata.py 182 _build()\u001b[0m - ut keyword not in header. Setting to None\n",
      "\u001b[1;32m[INFO]    ::\u001b[0m \u001b[1;34mmetadata.py 208 _build()\u001b[0m - Successfully loaded headers for file:\n",
      "             /Users/westfall/Work/packages/PypeIt-development-suite/RAW_DATA/Keck_LRIS_red/multi_400_8500_d560/r170320_2094.fits.gz\n",
      "\u001b[1;31m[WARNING] ::\u001b[0m \u001b[1;34mmetadata.py 182 _build()\u001b[0m - ut keyword not in header. Setting to None\n",
      "\u001b[1;32m[INFO]    ::\u001b[0m \u001b[1;34mmetadata.py 208 _build()\u001b[0m - Successfully loaded headers for file:\n",
      "             /Users/westfall/Work/packages/PypeIt-development-suite/RAW_DATA/Keck_LRIS_red/multi_400_8500_d560/r170320_2095.fits.gz\n",
      "\u001b[1;31m[WARNING] ::\u001b[0m \u001b[1;34mmetadata.py 182 _build()\u001b[0m - ut keyword not in header. Setting to None\n",
      "\u001b[1;32m[INFO]    ::\u001b[0m \u001b[1;34mmetadata.py 208 _build()\u001b[0m - Successfully loaded headers for file:\n",
      "             /Users/westfall/Work/packages/PypeIt-development-suite/RAW_DATA/Keck_LRIS_red/multi_400_8500_d560/r170320_2096.fits.gz\n",
      "\u001b[1;32m[INFO]    ::\u001b[0m \u001b[1;34mmetadata.py 211 _build()\u001b[0m - Headers loaded for 40 files successfully\n"
     ]
    }
   ],
   "source": [
    "fitstbl = PypeItMetaData('keck_lris_red', file_list=file_list)"
   ]
  },
  {
   "cell_type": "code",
   "execution_count": 4,
   "metadata": {},
   "outputs": [
    {
     "name": "stderr",
     "output_type": "stream",
     "text": [
      "\u001b[1;32m[INFO]    ::\u001b[0m \u001b[1;34mmetadata.py 701 get_frame_types()\u001b[0m - Typing files\n",
      "\u001b[1;31m[WARNING] ::\u001b[0m \u001b[1;34mkeck_lris.py 130 check_frame_type()\u001b[0m - Cannot determine if frames are of type standard.\n",
      "\u001b[1;32m[INFO]    ::\u001b[0m \u001b[1;34mmetadata.py 756 get_frame_types()\u001b[0m - Couldn't identify the following files:\n",
      "\u001b[1;32m[INFO]    ::\u001b[0m \u001b[1;34mmetadata.py 758 get_frame_types()\u001b[0m - r170816_0018.fits\n",
      "\u001b[1;32m[INFO]    ::\u001b[0m \u001b[1;34mmetadata.py 758 get_frame_types()\u001b[0m - r170816_0019.fits\n",
      "\u001b[1;32m[INFO]    ::\u001b[0m \u001b[1;34mmetadata.py 758 get_frame_types()\u001b[0m - r170816_0020.fits\n",
      "\u001b[1;32m[INFO]    ::\u001b[0m \u001b[1;34mmetadata.py 758 get_frame_types()\u001b[0m - r170816_0021.fits\n",
      "\u001b[1;32m[INFO]    ::\u001b[0m \u001b[1;34mmetadata.py 758 get_frame_types()\u001b[0m - r170816_0022.fits\n",
      "\u001b[1;32m[INFO]    ::\u001b[0m \u001b[1;34mmetadata.py 770 get_frame_types()\u001b[0m - Typing completed!\n"
     ]
    }
   ],
   "source": [
    "_ = fitstbl.get_frame_types(flag_unknown=True)"
   ]
  },
  {
   "cell_type": "code",
   "execution_count": 5,
   "metadata": {},
   "outputs": [],
   "source": [
    "cfgs = fitstbl.unique_configurations(ignore_frames=['bias', 'dark'])"
   ]
  },
  {
   "cell_type": "code",
   "execution_count": 6,
   "metadata": {},
   "outputs": [
    {
     "data": {
      "text/plain": [
       "{'A': {'dispname': '1200/9000', 'dichroic': '680', 'decker': 'E570.fil'},\n",
       " 'B': {'dispname': '400/8500', 'dichroic': '560', 'decker': 'c17_60L.'}}"
      ]
     },
     "execution_count": 6,
     "metadata": {},
     "output_type": "execute_result"
    }
   ],
   "source": [
    "cfgs"
   ]
  },
  {
   "cell_type": "code",
   "execution_count": 7,
   "metadata": {},
   "outputs": [],
   "source": [
    "fitstbl.set_configurations(cfgs)"
   ]
  },
  {
   "cell_type": "code",
   "execution_count": 8,
   "metadata": {},
   "outputs": [],
   "source": [
    "fitstbl.set_calibration_groups(global_frames=['bias', 'dark'])"
   ]
  },
  {
   "cell_type": "code",
   "execution_count": 9,
   "metadata": {},
   "outputs": [
    {
     "data": {
      "text/html": [
       "<i>PypeItMetaData: spectrograph=keck_lris_red, length=40\n",
       "</i>\n",
       "<table id=\"table4689946608\">\n",
       "<thead><tr><th>directory</th><th>filename</th><th>instrume</th><th>idname</th><th>time</th><th>utc</th><th>ut</th><th>ra</th><th>dec</th><th>airmass</th><th>binning</th><th>decker</th><th>dichroic</th><th>target</th><th>exptime</th><th>hatch</th><th>dispname</th><th>dispangle</th><th>wavecen</th><th>spectrograph</th><th>lampstat01</th><th>lampstat02</th><th>lampstat03</th><th>lampstat04</th><th>lampstat05</th><th>lampstat06</th><th>lampstat07</th><th>lampstat08</th><th>lampstat09</th><th>lampstat10</th><th>lampstat11</th><th>lampstat12</th><th>filter1</th><th>NAXIS01</th><th>CCDGEOM</th><th>CCDNAME01</th><th>NAXIS02</th><th>NAXIS03</th><th>CCDNAME02</th><th>NAXIS04</th><th>frametype</th><th>framebit</th><th>configuration</th><th>calib</th></tr></thead>\n",
       "<thead><tr><th>str98</th><th>str20</th><th>str13</th><th>str4</th><th>float64</th><th>str11</th><th>str4</th><th>str11</th><th>str11</th><th>float64</th><th>str3</th><th>str8</th><th>str3</th><th>str8</th><th>int64</th><th>str6</th><th>str9</th><th>float64</th><th>float64</th><th>str4</th><th>str3</th><th>str3</th><th>str3</th><th>str3</th><th>str3</th><th>str3</th><th>str3</th><th>str3</th><th>str3</th><th>str3</th><th>str3</th><th>str3</th><th>str5</th><th>int64</th><th>str27</th><th>str4</th><th>int64</th><th>int64</th><th>str4</th><th>int64</th><th>str15</th><th>int16</th><th>str4</th><th>object</th></tr></thead>\n",
       "<tr><td>/Users/westfall/Work/packages/PypeIt-development-suite/RAW_DATA/Keck_LRIS_red/multi_1200_9000_d680</td><td>r170816_0009.fits</td><td>keck_lris_red</td><td>dark</td><td>57981.122341</td><td>02:56:10.22</td><td>None</td><td>15:20:00.00</td><td>+45:00:00.0</td><td>1.41309236</td><td>1,1</td><td>E570.fil</td><td>680</td><td>unknown</td><td>3</td><td>closed</td><td>1200/9000</td><td>47.82505798</td><td>8609.26074219</td><td>LRIS</td><td>on</td><td>on</td><td>on</td><td>on</td><td>on</td><td>on</td><td>on</td><td>on</td><td>off</td><td>off</td><td>off</td><td>off</td><td>Clear</td><td>2</td><td>LBNL Thick High-Resistivity</td><td>19-3</td><td>2</td><td>2</td><td>19-2</td><td>2</td><td>arc</td><td>1</td><td>A</td><td>0</td></tr>\n",
       "<tr><td>/Users/westfall/Work/packages/PypeIt-development-suite/RAW_DATA/Keck_LRIS_red/multi_1200_9000_d680</td><td>r170816_0018.fits</td><td>keck_lris_red</td><td>dark</td><td>57981.138398</td><td>03:19:17.60</td><td>None</td><td>15:20:00.00</td><td>+45:00:00.0</td><td>1.41309236</td><td>1,1</td><td>E570.fil</td><td>680</td><td>unknown</td><td>10</td><td>closed</td><td>1200/9000</td><td>47.82505798</td><td>8609.26074219</td><td>LRIS</td><td>off</td><td>off</td><td>off</td><td>off</td><td>off</td><td>off</td><td>off</td><td>off</td><td>off</td><td>off</td><td>off</td><td>on</td><td>Clear</td><td>2</td><td>LBNL Thick High-Resistivity</td><td>19-3</td><td>2</td><td>2</td><td>19-2</td><td>2</td><td>None</td><td>0</td><td>A</td><td>0</td></tr>\n",
       "<tr><td>/Users/westfall/Work/packages/PypeIt-development-suite/RAW_DATA/Keck_LRIS_red/multi_1200_9000_d680</td><td>r170816_0019.fits</td><td>keck_lris_red</td><td>dark</td><td>57981.140168</td><td>03:21:50.55</td><td>None</td><td>15:20:00.00</td><td>+45:00:00.0</td><td>1.41309236</td><td>1,1</td><td>E570.fil</td><td>680</td><td>unknown</td><td>10</td><td>closed</td><td>1200/9000</td><td>47.82505798</td><td>8609.26074219</td><td>LRIS</td><td>off</td><td>off</td><td>off</td><td>off</td><td>off</td><td>off</td><td>off</td><td>off</td><td>off</td><td>off</td><td>off</td><td>on</td><td>Clear</td><td>2</td><td>LBNL Thick High-Resistivity</td><td>19-3</td><td>2</td><td>2</td><td>19-2</td><td>2</td><td>None</td><td>0</td><td>A</td><td>0</td></tr>\n",
       "<tr><td>/Users/westfall/Work/packages/PypeIt-development-suite/RAW_DATA/Keck_LRIS_red/multi_1200_9000_d680</td><td>r170816_0020.fits</td><td>keck_lris_red</td><td>dark</td><td>57981.141755</td><td>03:24:07.60</td><td>None</td><td>15:20:00.00</td><td>+45:00:00.0</td><td>1.41309236</td><td>1,1</td><td>E570.fil</td><td>680</td><td>unknown</td><td>10</td><td>closed</td><td>1200/9000</td><td>47.82505798</td><td>8609.26074219</td><td>LRIS</td><td>off</td><td>off</td><td>off</td><td>off</td><td>off</td><td>off</td><td>off</td><td>off</td><td>off</td><td>off</td><td>off</td><td>on</td><td>Clear</td><td>2</td><td>LBNL Thick High-Resistivity</td><td>19-3</td><td>2</td><td>2</td><td>19-2</td><td>2</td><td>None</td><td>0</td><td>A</td><td>0</td></tr>\n",
       "<tr><td>/Users/westfall/Work/packages/PypeIt-development-suite/RAW_DATA/Keck_LRIS_red/multi_1200_9000_d680</td><td>r170816_0021.fits</td><td>keck_lris_red</td><td>dark</td><td>57981.14334</td><td>03:26:24.00</td><td>None</td><td>15:20:00.00</td><td>+45:00:00.0</td><td>1.41309236</td><td>1,1</td><td>E570.fil</td><td>680</td><td>unknown</td><td>10</td><td>closed</td><td>1200/9000</td><td>47.82505798</td><td>8609.26074219</td><td>LRIS</td><td>off</td><td>off</td><td>off</td><td>off</td><td>off</td><td>off</td><td>off</td><td>off</td><td>off</td><td>off</td><td>off</td><td>on</td><td>Clear</td><td>2</td><td>LBNL Thick High-Resistivity</td><td>19-3</td><td>2</td><td>2</td><td>19-2</td><td>2</td><td>None</td><td>0</td><td>A</td><td>0</td></tr>\n",
       "<tr><td>/Users/westfall/Work/packages/PypeIt-development-suite/RAW_DATA/Keck_LRIS_red/multi_1200_9000_d680</td><td>r170816_0022.fits</td><td>keck_lris_red</td><td>dark</td><td>57981.144926</td><td>03:28:41.64</td><td>None</td><td>15:20:00.00</td><td>+45:00:00.0</td><td>1.41309236</td><td>1,1</td><td>E570.fil</td><td>680</td><td>unknown</td><td>10</td><td>closed</td><td>1200/9000</td><td>47.82505798</td><td>8609.26074219</td><td>LRIS</td><td>off</td><td>off</td><td>off</td><td>off</td><td>off</td><td>off</td><td>off</td><td>off</td><td>off</td><td>off</td><td>off</td><td>on</td><td>Clear</td><td>2</td><td>LBNL Thick High-Resistivity</td><td>19-3</td><td>2</td><td>2</td><td>19-2</td><td>2</td><td>None</td><td>0</td><td>A</td><td>0</td></tr>\n",
       "<tr><td>/Users/westfall/Work/packages/PypeIt-development-suite/RAW_DATA/Keck_LRIS_red/multi_1200_9000_d680</td><td>r170816_0045.fits</td><td>keck_lris_red</td><td>dark</td><td>57981.186772</td><td>04:28:57.09</td><td>None</td><td>15:20:00.00</td><td>+45:00:00.0</td><td>1.41309237</td><td>1,1</td><td>long_1.5</td><td>680</td><td>unknown</td><td>0</td><td>closed</td><td>1200/9000</td><td>48.42325211</td><td>8740.19921875</td><td>LRIS</td><td>off</td><td>off</td><td>off</td><td>off</td><td>off</td><td>off</td><td>off</td><td>off</td><td>off</td><td>off</td><td>off</td><td>off</td><td>Clear</td><td>2</td><td>LBNL Thick High-Resistivity</td><td>19-3</td><td>2</td><td>2</td><td>19-2</td><td>2</td><td>bias</td><td>2</td><td>None</td><td>0,1</td></tr>\n",
       "<tr><td>/Users/westfall/Work/packages/PypeIt-development-suite/RAW_DATA/Keck_LRIS_red/multi_1200_9000_d680</td><td>r170816_0046.fits</td><td>keck_lris_red</td><td>dark</td><td>57981.188259</td><td>04:31:05.54</td><td>None</td><td>15:20:00.00</td><td>+45:00:00.0</td><td>1.41309237</td><td>1,1</td><td>long_1.5</td><td>680</td><td>unknown</td><td>0</td><td>closed</td><td>1200/9000</td><td>48.42325211</td><td>8740.19921875</td><td>LRIS</td><td>off</td><td>off</td><td>off</td><td>off</td><td>off</td><td>off</td><td>off</td><td>off</td><td>off</td><td>off</td><td>off</td><td>off</td><td>Clear</td><td>2</td><td>LBNL Thick High-Resistivity</td><td>19-3</td><td>2</td><td>2</td><td>19-2</td><td>2</td><td>bias</td><td>2</td><td>None</td><td>0,1</td></tr>\n",
       "<tr><td>/Users/westfall/Work/packages/PypeIt-development-suite/RAW_DATA/Keck_LRIS_red/multi_1200_9000_d680</td><td>r170816_0047.fits</td><td>keck_lris_red</td><td>dark</td><td>57981.189748</td><td>04:33:14.19</td><td>None</td><td>15:20:00.00</td><td>+45:00:00.0</td><td>1.41309237</td><td>1,1</td><td>long_1.5</td><td>680</td><td>unknown</td><td>0</td><td>closed</td><td>1200/9000</td><td>48.42325211</td><td>8740.19921875</td><td>LRIS</td><td>off</td><td>off</td><td>off</td><td>off</td><td>off</td><td>off</td><td>off</td><td>off</td><td>off</td><td>off</td><td>off</td><td>off</td><td>Clear</td><td>2</td><td>LBNL Thick High-Resistivity</td><td>19-3</td><td>2</td><td>2</td><td>19-2</td><td>2</td><td>bias</td><td>2</td><td>None</td><td>0,1</td></tr>\n",
       "<tr><td>/Users/westfall/Work/packages/PypeIt-development-suite/RAW_DATA/Keck_LRIS_red/multi_1200_9000_d680</td><td>r170816_0048.fits</td><td>keck_lris_red</td><td>dark</td><td>57981.191223</td><td>04:35:21.69</td><td>None</td><td>15:20:00.00</td><td>+45:00:00.0</td><td>1.41309237</td><td>1,1</td><td>long_1.5</td><td>680</td><td>unknown</td><td>0</td><td>closed</td><td>1200/9000</td><td>48.42325211</td><td>8740.19921875</td><td>LRIS</td><td>off</td><td>off</td><td>off</td><td>off</td><td>off</td><td>off</td><td>off</td><td>off</td><td>off</td><td>off</td><td>off</td><td>off</td><td>Clear</td><td>2</td><td>LBNL Thick High-Resistivity</td><td>19-3</td><td>2</td><td>2</td><td>19-2</td><td>2</td><td>bias</td><td>2</td><td>None</td><td>0,1</td></tr>\n",
       "<tr><td>...</td><td>...</td><td>...</td><td>...</td><td>...</td><td>...</td><td>...</td><td>...</td><td>...</td><td>...</td><td>...</td><td>...</td><td>...</td><td>...</td><td>...</td><td>...</td><td>...</td><td>...</td><td>...</td><td>...</td><td>...</td><td>...</td><td>...</td><td>...</td><td>...</td><td>...</td><td>...</td><td>...</td><td>...</td><td>...</td><td>...</td><td>...</td><td>...</td><td>...</td><td>...</td><td>...</td><td>...</td><td>...</td><td>...</td><td>...</td><td>...</td><td>...</td><td>...</td><td>...</td></tr>\n",
       "<tr><td>/Users/westfall/Work/packages/PypeIt-development-suite/RAW_DATA/Keck_LRIS_red/multi_400_8500_d560</td><td>r170320_2087.fits.gz</td><td>keck_lris_red</td><td>dark</td><td>57832.278244</td><td>06:40:40.23</td><td>None</td><td>10:01:24.75</td><td>+02:11:54.5</td><td>1.18364345</td><td>2,2</td><td>c17_60L.</td><td>560</td><td>c17_60L.</td><td>850</td><td>open</td><td>400/8500</td><td>22.13995552</td><td>6433.46679688</td><td>LRIS</td><td>off</td><td>off</td><td>off</td><td>off</td><td>off</td><td>off</td><td>off</td><td>off</td><td>off</td><td>off</td><td>off</td><td>off</td><td>Clear</td><td>2</td><td>LBNL Thick High-Resistivity</td><td>19-3</td><td>2</td><td>2</td><td>19-2</td><td>2</td><td>science</td><td>32</td><td>B</td><td>1</td></tr>\n",
       "<tr><td>/Users/westfall/Work/packages/PypeIt-development-suite/RAW_DATA/Keck_LRIS_red/multi_400_8500_d560</td><td>r170320_2088.fits.gz</td><td>keck_lris_red</td><td>dark</td><td>57832.288767</td><td>06:55:49.47</td><td>None</td><td>10:01:24.75</td><td>+02:11:54.5</td><td>1.14680535</td><td>2,2</td><td>c17_60L.</td><td>560</td><td>c17_60L.</td><td>850</td><td>open</td><td>400/8500</td><td>22.13995552</td><td>6433.46679688</td><td>LRIS</td><td>off</td><td>off</td><td>off</td><td>off</td><td>off</td><td>off</td><td>off</td><td>off</td><td>off</td><td>off</td><td>off</td><td>off</td><td>Clear</td><td>2</td><td>LBNL Thick High-Resistivity</td><td>19-3</td><td>2</td><td>2</td><td>19-2</td><td>2</td><td>science</td><td>32</td><td>B</td><td>1</td></tr>\n",
       "<tr><td>/Users/westfall/Work/packages/PypeIt-development-suite/RAW_DATA/Keck_LRIS_red/multi_400_8500_d560</td><td>r170320_2089.fits.gz</td><td>keck_lris_red</td><td>dark</td><td>57832.299291</td><td>07:10:58.76</td><td>None</td><td>10:01:24.75</td><td>+02:11:54.5</td><td>1.11694114</td><td>2,2</td><td>c17_60L.</td><td>560</td><td>c17_60L.</td><td>850</td><td>open</td><td>400/8500</td><td>22.13995552</td><td>6433.46679688</td><td>LRIS</td><td>off</td><td>off</td><td>off</td><td>off</td><td>off</td><td>off</td><td>off</td><td>off</td><td>off</td><td>off</td><td>off</td><td>off</td><td>Clear</td><td>2</td><td>LBNL Thick High-Resistivity</td><td>19-3</td><td>2</td><td>2</td><td>19-2</td><td>2</td><td>science</td><td>32</td><td>B</td><td>1</td></tr>\n",
       "<tr><td>/Users/westfall/Work/packages/PypeIt-development-suite/RAW_DATA/Keck_LRIS_red/multi_400_8500_d560</td><td>r170320_2090.fits.gz</td><td>keck_lris_red</td><td>dark</td><td>57832.309837</td><td>07:26:09.90</td><td>None</td><td>10:01:24.75</td><td>+02:11:54.5</td><td>1.09306113</td><td>2,2</td><td>c17_60L.</td><td>560</td><td>c17_60L.</td><td>850</td><td>open</td><td>400/8500</td><td>22.13995552</td><td>6433.46679688</td><td>LRIS</td><td>off</td><td>off</td><td>off</td><td>off</td><td>off</td><td>off</td><td>off</td><td>off</td><td>off</td><td>off</td><td>off</td><td>off</td><td>Clear</td><td>2</td><td>LBNL Thick High-Resistivity</td><td>19-3</td><td>2</td><td>2</td><td>19-2</td><td>2</td><td>science</td><td>32</td><td>B</td><td>1</td></tr>\n",
       "<tr><td>/Users/westfall/Work/packages/PypeIt-development-suite/RAW_DATA/Keck_LRIS_red/multi_400_8500_d560</td><td>r170320_2091.fits.gz</td><td>keck_lris_red</td><td>dark</td><td>57832.327258</td><td>07:51:15.05</td><td>None</td><td>10:01:24.04</td><td>+02:11:47.3</td><td>1.0656618</td><td>2,2</td><td>c17_60L.</td><td>560</td><td>c17_60L.</td><td>850</td><td>open</td><td>400/8500</td><td>22.13995552</td><td>6433.46679688</td><td>LRIS</td><td>off</td><td>off</td><td>off</td><td>off</td><td>off</td><td>off</td><td>off</td><td>off</td><td>off</td><td>off</td><td>off</td><td>off</td><td>Clear</td><td>2</td><td>LBNL Thick High-Resistivity</td><td>19-3</td><td>2</td><td>2</td><td>19-2</td><td>2</td><td>science</td><td>32</td><td>B</td><td>1</td></tr>\n",
       "<tr><td>/Users/westfall/Work/packages/PypeIt-development-suite/RAW_DATA/Keck_LRIS_red/multi_400_8500_d560</td><td>r170320_2092.fits.gz</td><td>keck_lris_red</td><td>dark</td><td>57832.337793</td><td>08:06:25.34</td><td>None</td><td>10:01:24.04</td><td>+02:11:47.3</td><td>1.05576494</td><td>2,2</td><td>c17_60L.</td><td>560</td><td>c17_60L.</td><td>850</td><td>open</td><td>400/8500</td><td>22.13995552</td><td>6433.46679688</td><td>LRIS</td><td>off</td><td>off</td><td>off</td><td>off</td><td>off</td><td>off</td><td>off</td><td>off</td><td>off</td><td>off</td><td>off</td><td>off</td><td>Clear</td><td>2</td><td>LBNL Thick High-Resistivity</td><td>19-3</td><td>2</td><td>2</td><td>19-2</td><td>2</td><td>science</td><td>32</td><td>B</td><td>1</td></tr>\n",
       "<tr><td>/Users/westfall/Work/packages/PypeIt-development-suite/RAW_DATA/Keck_LRIS_red/multi_400_8500_d560</td><td>r170320_2093.fits.gz</td><td>keck_lris_red</td><td>dark</td><td>57832.348305</td><td>08:21:33.58</td><td>None</td><td>10:01:24.04</td><td>+02:11:47.3</td><td>1.05050164</td><td>2,2</td><td>c17_60L.</td><td>560</td><td>c17_60L.</td><td>850</td><td>open</td><td>400/8500</td><td>22.13995552</td><td>6433.46679688</td><td>LRIS</td><td>off</td><td>off</td><td>off</td><td>off</td><td>off</td><td>off</td><td>off</td><td>off</td><td>off</td><td>off</td><td>off</td><td>off</td><td>Clear</td><td>2</td><td>LBNL Thick High-Resistivity</td><td>19-3</td><td>2</td><td>2</td><td>19-2</td><td>2</td><td>science</td><td>32</td><td>B</td><td>1</td></tr>\n",
       "<tr><td>/Users/westfall/Work/packages/PypeIt-development-suite/RAW_DATA/Keck_LRIS_red/multi_400_8500_d560</td><td>r170320_2094.fits.gz</td><td>keck_lris_red</td><td>dark</td><td>57832.358847</td><td>08:36:44.37</td><td>None</td><td>10:01:24.04</td><td>+02:11:47.3</td><td>1.04977619</td><td>2,2</td><td>c17_60L.</td><td>560</td><td>c17_60L.</td><td>850</td><td>open</td><td>400/8500</td><td>22.13995552</td><td>6433.46679688</td><td>LRIS</td><td>off</td><td>off</td><td>off</td><td>off</td><td>off</td><td>off</td><td>off</td><td>off</td><td>off</td><td>off</td><td>off</td><td>off</td><td>Clear</td><td>2</td><td>LBNL Thick High-Resistivity</td><td>19-3</td><td>2</td><td>2</td><td>19-2</td><td>2</td><td>science</td><td>32</td><td>B</td><td>1</td></tr>\n",
       "<tr><td>/Users/westfall/Work/packages/PypeIt-development-suite/RAW_DATA/Keck_LRIS_red/multi_400_8500_d560</td><td>r170320_2095.fits.gz</td><td>keck_lris_red</td><td>dark</td><td>57832.369384</td><td>08:51:54.80</td><td>None</td><td>10:01:24.04</td><td>+02:11:47.3</td><td>1.05367221</td><td>2,2</td><td>c17_60L.</td><td>560</td><td>c17_60L.</td><td>880</td><td>open</td><td>400/8500</td><td>22.13995552</td><td>6433.46679688</td><td>LRIS</td><td>off</td><td>off</td><td>off</td><td>off</td><td>off</td><td>off</td><td>off</td><td>off</td><td>off</td><td>off</td><td>off</td><td>off</td><td>Clear</td><td>2</td><td>LBNL Thick High-Resistivity</td><td>19-3</td><td>2</td><td>2</td><td>19-2</td><td>2</td><td>science</td><td>32</td><td>B</td><td>1</td></tr>\n",
       "<tr><td>/Users/westfall/Work/packages/PypeIt-development-suite/RAW_DATA/Keck_LRIS_red/multi_400_8500_d560</td><td>r170320_2096.fits.gz</td><td>keck_lris_red</td><td>dark</td><td>57832.380259</td><td>09:07:34.39</td><td>None</td><td>10:01:24.04</td><td>+02:11:47.3</td><td>1.06245922</td><td>2,2</td><td>c17_60L.</td><td>560</td><td>c17_60L.</td><td>880</td><td>open</td><td>400/8500</td><td>22.13995552</td><td>6433.46679688</td><td>LRIS</td><td>off</td><td>off</td><td>off</td><td>off</td><td>off</td><td>off</td><td>off</td><td>off</td><td>off</td><td>off</td><td>off</td><td>off</td><td>Clear</td><td>2</td><td>LBNL Thick High-Resistivity</td><td>19-3</td><td>2</td><td>2</td><td>19-2</td><td>2</td><td>science</td><td>32</td><td>B</td><td>1</td></tr>\n",
       "</table>"
      ],
      "text/plain": [
       "<PypeItMetaData:\n",
       "               spectrograph=keck_lris_red\n",
       "               length=40\n",
       ">\n",
       "                                            directory                                              ...\n",
       "                                              str98                                                ...\n",
       "-------------------------------------------------------------------------------------------------- ...\n",
       "/Users/westfall/Work/packages/PypeIt-development-suite/RAW_DATA/Keck_LRIS_red/multi_1200_9000_d680 ...\n",
       "/Users/westfall/Work/packages/PypeIt-development-suite/RAW_DATA/Keck_LRIS_red/multi_1200_9000_d680 ...\n",
       "/Users/westfall/Work/packages/PypeIt-development-suite/RAW_DATA/Keck_LRIS_red/multi_1200_9000_d680 ...\n",
       "/Users/westfall/Work/packages/PypeIt-development-suite/RAW_DATA/Keck_LRIS_red/multi_1200_9000_d680 ...\n",
       "/Users/westfall/Work/packages/PypeIt-development-suite/RAW_DATA/Keck_LRIS_red/multi_1200_9000_d680 ...\n",
       "/Users/westfall/Work/packages/PypeIt-development-suite/RAW_DATA/Keck_LRIS_red/multi_1200_9000_d680 ...\n",
       "/Users/westfall/Work/packages/PypeIt-development-suite/RAW_DATA/Keck_LRIS_red/multi_1200_9000_d680 ...\n",
       "/Users/westfall/Work/packages/PypeIt-development-suite/RAW_DATA/Keck_LRIS_red/multi_1200_9000_d680 ...\n",
       "/Users/westfall/Work/packages/PypeIt-development-suite/RAW_DATA/Keck_LRIS_red/multi_1200_9000_d680 ...\n",
       "/Users/westfall/Work/packages/PypeIt-development-suite/RAW_DATA/Keck_LRIS_red/multi_1200_9000_d680 ...\n",
       "                                                                                               ... ...\n",
       " /Users/westfall/Work/packages/PypeIt-development-suite/RAW_DATA/Keck_LRIS_red/multi_400_8500_d560 ...\n",
       " /Users/westfall/Work/packages/PypeIt-development-suite/RAW_DATA/Keck_LRIS_red/multi_400_8500_d560 ...\n",
       " /Users/westfall/Work/packages/PypeIt-development-suite/RAW_DATA/Keck_LRIS_red/multi_400_8500_d560 ...\n",
       " /Users/westfall/Work/packages/PypeIt-development-suite/RAW_DATA/Keck_LRIS_red/multi_400_8500_d560 ...\n",
       " /Users/westfall/Work/packages/PypeIt-development-suite/RAW_DATA/Keck_LRIS_red/multi_400_8500_d560 ...\n",
       " /Users/westfall/Work/packages/PypeIt-development-suite/RAW_DATA/Keck_LRIS_red/multi_400_8500_d560 ...\n",
       " /Users/westfall/Work/packages/PypeIt-development-suite/RAW_DATA/Keck_LRIS_red/multi_400_8500_d560 ...\n",
       " /Users/westfall/Work/packages/PypeIt-development-suite/RAW_DATA/Keck_LRIS_red/multi_400_8500_d560 ...\n",
       " /Users/westfall/Work/packages/PypeIt-development-suite/RAW_DATA/Keck_LRIS_red/multi_400_8500_d560 ...\n",
       " /Users/westfall/Work/packages/PypeIt-development-suite/RAW_DATA/Keck_LRIS_red/multi_400_8500_d560 ..."
      ]
     },
     "execution_count": 9,
     "metadata": {},
     "output_type": "execute_result"
    }
   ],
   "source": [
    "fitstbl"
   ]
  },
  {
   "cell_type": "code",
   "execution_count": null,
   "metadata": {},
   "outputs": [],
   "source": [
    "fitstbl.match_to_science(fitstbl.par['calibrations'], fitstbl.par['rdx']['calwin'], fitstbl.par['fluxcalib'], setup=True)"
   ]
  },
  {
   "cell_type": "code",
   "execution_count": null,
   "metadata": {},
   "outputs": [],
   "source": [
    "fitstbl"
   ]
  },
  {
   "cell_type": "code",
   "execution_count": null,
   "metadata": {},
   "outputs": [],
   "source": [
    "print(numpy.log2(fitstbl['sci_ID'].data).astype(int))\n",
    "indx = numpy.log2(fitstbl['sci_ID'].data).astype(int) == 5\n",
    "print(fitstbl['filename'][indx])"
   ]
  },
  {
   "cell_type": "code",
   "execution_count": null,
   "metadata": {},
   "outputs": [],
   "source": [
    "fitstbl.find_frames('trace', sci_ID=5)"
   ]
  },
  {
   "cell_type": "code",
   "execution_count": null,
   "metadata": {},
   "outputs": [],
   "source": [
    "fitstbl['frametype']"
   ]
  },
  {
   "cell_type": "code",
   "execution_count": null,
   "metadata": {},
   "outputs": [],
   "source": []
  }
 ],
 "metadata": {
  "kernelspec": {
   "display_name": "Python 3",
   "language": "python",
   "name": "python3"
  },
  "language_info": {
   "codemirror_mode": {
    "name": "ipython",
    "version": 3
   },
   "file_extension": ".py",
   "mimetype": "text/x-python",
   "name": "python",
   "nbconvert_exporter": "python",
   "pygments_lexer": "ipython3",
   "version": "3.6.2"
  }
 },
 "nbformat": 4,
 "nbformat_minor": 2
}
