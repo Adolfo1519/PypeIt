{
 "cells": [
  {
   "cell_type": "code",
   "execution_count": 1,
   "metadata": {},
   "outputs": [],
   "source": [
    "import os\n",
    "import glob\n",
    "import numpy\n",
    "\n",
    "from pypeit.metadata import PypeItMetaData"
   ]
  },
  {
   "cell_type": "code",
   "execution_count": 2,
   "metadata": {},
   "outputs": [],
   "source": [
    "#file_list = glob.glob(os.path.join(os.environ['PYPEIT_DEV'],\n",
    "#                                   'RAW_DATA/Keck_LRIS_red/multi*/*.fits*'))\n",
    "#file_list = glob.glob(os.path.join(os.environ['PYPEIT_DEV'],\n",
    "#                                   'RAW_DATA/Keck_LRIS_red/multi_1200_9000_d680/*.fits*'))\n",
    "file_list = glob.glob(os.path.join(os.environ['PYPEIT_DEV'],\n",
    "                                   'RAW_DATA/Keck_LRIS_red/multi_400_8500_d560/*.fits*'))"
   ]
  },
  {
   "cell_type": "markdown",
   "metadata": {},
   "source": [
    "Construct the metadata just based on the headers"
   ]
  },
  {
   "cell_type": "code",
   "execution_count": 3,
   "metadata": {},
   "outputs": [
    {
     "name": "stderr",
     "output_type": "stream",
     "text": [
      "\u001b[1;31m[WARNING] ::\u001b[0m \u001b[1;34mmetadata.py 184 _build()\u001b[0m - Columns are missing.\n",
      "\u001b[1;31m[WARNING] ::\u001b[0m \u001b[1;34mmetadata.py 229 _build()\u001b[0m - ut keyword not in header. Setting to None\n",
      "\u001b[1;32m[INFO]    ::\u001b[0m \u001b[1;34mmetadata.py 255 _build()\u001b[0m - Successfully loaded headers for file:\n",
      "             /Users/westfall/Work/packages/PypeIt-development-suite/RAW_DATA/Keck_LRIS_red/multi_400_8500_d560/r170320_2017.fits.gz\n",
      "\u001b[1;31m[WARNING] ::\u001b[0m \u001b[1;34mmetadata.py 229 _build()\u001b[0m - ut keyword not in header. Setting to None\n",
      "\u001b[1;32m[INFO]    ::\u001b[0m \u001b[1;34mmetadata.py 255 _build()\u001b[0m - Successfully loaded headers for file:\n",
      "             /Users/westfall/Work/packages/PypeIt-development-suite/RAW_DATA/Keck_LRIS_red/multi_400_8500_d560/r170320_2057.fits.gz\n",
      "\u001b[1;31m[WARNING] ::\u001b[0m \u001b[1;34mmetadata.py 229 _build()\u001b[0m - ut keyword not in header. Setting to None\n",
      "\u001b[1;32m[INFO]    ::\u001b[0m \u001b[1;34mmetadata.py 255 _build()\u001b[0m - Successfully loaded headers for file:\n",
      "             /Users/westfall/Work/packages/PypeIt-development-suite/RAW_DATA/Keck_LRIS_red/multi_400_8500_d560/r170320_2058.fits.gz\n",
      "\u001b[1;31m[WARNING] ::\u001b[0m \u001b[1;34mmetadata.py 229 _build()\u001b[0m - ut keyword not in header. Setting to None\n",
      "\u001b[1;32m[INFO]    ::\u001b[0m \u001b[1;34mmetadata.py 255 _build()\u001b[0m - Successfully loaded headers for file:\n",
      "             /Users/westfall/Work/packages/PypeIt-development-suite/RAW_DATA/Keck_LRIS_red/multi_400_8500_d560/r170320_2059.fits.gz\n",
      "\u001b[1;31m[WARNING] ::\u001b[0m \u001b[1;34mmetadata.py 229 _build()\u001b[0m - ut keyword not in header. Setting to None\n",
      "\u001b[1;32m[INFO]    ::\u001b[0m \u001b[1;34mmetadata.py 255 _build()\u001b[0m - Successfully loaded headers for file:\n",
      "             /Users/westfall/Work/packages/PypeIt-development-suite/RAW_DATA/Keck_LRIS_red/multi_400_8500_d560/r170320_2067.fits.gz\n",
      "\u001b[1;31m[WARNING] ::\u001b[0m \u001b[1;34mmetadata.py 229 _build()\u001b[0m - ut keyword not in header. Setting to None\n",
      "\u001b[1;32m[INFO]    ::\u001b[0m \u001b[1;34mmetadata.py 255 _build()\u001b[0m - Successfully loaded headers for file:\n",
      "             /Users/westfall/Work/packages/PypeIt-development-suite/RAW_DATA/Keck_LRIS_red/multi_400_8500_d560/r170320_2068.fits.gz\n",
      "\u001b[1;31m[WARNING] ::\u001b[0m \u001b[1;34mmetadata.py 229 _build()\u001b[0m - ut keyword not in header. Setting to None\n",
      "\u001b[1;32m[INFO]    ::\u001b[0m \u001b[1;34mmetadata.py 255 _build()\u001b[0m - Successfully loaded headers for file:\n",
      "             /Users/westfall/Work/packages/PypeIt-development-suite/RAW_DATA/Keck_LRIS_red/multi_400_8500_d560/r170320_2069.fits.gz\n",
      "\u001b[1;31m[WARNING] ::\u001b[0m \u001b[1;34mmetadata.py 229 _build()\u001b[0m - ut keyword not in header. Setting to None\n",
      "\u001b[1;32m[INFO]    ::\u001b[0m \u001b[1;34mmetadata.py 255 _build()\u001b[0m - Successfully loaded headers for file:\n",
      "             /Users/westfall/Work/packages/PypeIt-development-suite/RAW_DATA/Keck_LRIS_red/multi_400_8500_d560/r170320_2070.fits.gz\n",
      "\u001b[1;31m[WARNING] ::\u001b[0m \u001b[1;34mmetadata.py 229 _build()\u001b[0m - ut keyword not in header. Setting to None\n",
      "\u001b[1;32m[INFO]    ::\u001b[0m \u001b[1;34mmetadata.py 255 _build()\u001b[0m - Successfully loaded headers for file:\n",
      "             /Users/westfall/Work/packages/PypeIt-development-suite/RAW_DATA/Keck_LRIS_red/multi_400_8500_d560/r170320_2071.fits.gz\n",
      "\u001b[1;31m[WARNING] ::\u001b[0m \u001b[1;34mmetadata.py 229 _build()\u001b[0m - ut keyword not in header. Setting to None\n",
      "\u001b[1;32m[INFO]    ::\u001b[0m \u001b[1;34mmetadata.py 255 _build()\u001b[0m - Successfully loaded headers for file:\n",
      "             /Users/westfall/Work/packages/PypeIt-development-suite/RAW_DATA/Keck_LRIS_red/multi_400_8500_d560/r170320_2072.fits.gz\n",
      "\u001b[1;31m[WARNING] ::\u001b[0m \u001b[1;34mmetadata.py 229 _build()\u001b[0m - ut keyword not in header. Setting to None\n",
      "\u001b[1;32m[INFO]    ::\u001b[0m \u001b[1;34mmetadata.py 255 _build()\u001b[0m - Successfully loaded headers for file:\n",
      "             /Users/westfall/Work/packages/PypeIt-development-suite/RAW_DATA/Keck_LRIS_red/multi_400_8500_d560/r170320_2073.fits.gz\n",
      "\u001b[1;31m[WARNING] ::\u001b[0m \u001b[1;34mmetadata.py 229 _build()\u001b[0m - ut keyword not in header. Setting to None\n",
      "\u001b[1;32m[INFO]    ::\u001b[0m \u001b[1;34mmetadata.py 255 _build()\u001b[0m - Successfully loaded headers for file:\n",
      "             /Users/westfall/Work/packages/PypeIt-development-suite/RAW_DATA/Keck_LRIS_red/multi_400_8500_d560/r170320_2074.fits.gz\n",
      "\u001b[1;31m[WARNING] ::\u001b[0m \u001b[1;34mmetadata.py 229 _build()\u001b[0m - ut keyword not in header. Setting to None\n",
      "\u001b[1;32m[INFO]    ::\u001b[0m \u001b[1;34mmetadata.py 255 _build()\u001b[0m - Successfully loaded headers for file:\n",
      "             /Users/westfall/Work/packages/PypeIt-development-suite/RAW_DATA/Keck_LRIS_red/multi_400_8500_d560/r170320_2075.fits.gz\n",
      "\u001b[1;31m[WARNING] ::\u001b[0m \u001b[1;34mmetadata.py 229 _build()\u001b[0m - ut keyword not in header. Setting to None\n",
      "\u001b[1;32m[INFO]    ::\u001b[0m \u001b[1;34mmetadata.py 255 _build()\u001b[0m - Successfully loaded headers for file:\n",
      "             /Users/westfall/Work/packages/PypeIt-development-suite/RAW_DATA/Keck_LRIS_red/multi_400_8500_d560/r170320_2076.fits.gz\n",
      "\u001b[1;31m[WARNING] ::\u001b[0m \u001b[1;34mmetadata.py 229 _build()\u001b[0m - ut keyword not in header. Setting to None\n",
      "\u001b[1;32m[INFO]    ::\u001b[0m \u001b[1;34mmetadata.py 255 _build()\u001b[0m - Successfully loaded headers for file:\n",
      "             /Users/westfall/Work/packages/PypeIt-development-suite/RAW_DATA/Keck_LRIS_red/multi_400_8500_d560/r170320_2084.fits.gz\n",
      "\u001b[1;31m[WARNING] ::\u001b[0m \u001b[1;34mmetadata.py 229 _build()\u001b[0m - ut keyword not in header. Setting to None\n",
      "\u001b[1;32m[INFO]    ::\u001b[0m \u001b[1;34mmetadata.py 255 _build()\u001b[0m - Successfully loaded headers for file:\n",
      "             /Users/westfall/Work/packages/PypeIt-development-suite/RAW_DATA/Keck_LRIS_red/multi_400_8500_d560/r170320_2085.fits.gz\n",
      "\u001b[1;31m[WARNING] ::\u001b[0m \u001b[1;34mmetadata.py 229 _build()\u001b[0m - ut keyword not in header. Setting to None\n",
      "\u001b[1;32m[INFO]    ::\u001b[0m \u001b[1;34mmetadata.py 255 _build()\u001b[0m - Successfully loaded headers for file:\n",
      "             /Users/westfall/Work/packages/PypeIt-development-suite/RAW_DATA/Keck_LRIS_red/multi_400_8500_d560/r170320_2086.fits.gz\n",
      "\u001b[1;31m[WARNING] ::\u001b[0m \u001b[1;34mmetadata.py 229 _build()\u001b[0m - ut keyword not in header. Setting to None\n",
      "\u001b[1;32m[INFO]    ::\u001b[0m \u001b[1;34mmetadata.py 255 _build()\u001b[0m - Successfully loaded headers for file:\n",
      "             /Users/westfall/Work/packages/PypeIt-development-suite/RAW_DATA/Keck_LRIS_red/multi_400_8500_d560/r170320_2087.fits.gz\n",
      "\u001b[1;31m[WARNING] ::\u001b[0m \u001b[1;34mmetadata.py 229 _build()\u001b[0m - ut keyword not in header. Setting to None\n",
      "\u001b[1;32m[INFO]    ::\u001b[0m \u001b[1;34mmetadata.py 255 _build()\u001b[0m - Successfully loaded headers for file:\n",
      "             /Users/westfall/Work/packages/PypeIt-development-suite/RAW_DATA/Keck_LRIS_red/multi_400_8500_d560/r170320_2088.fits.gz\n",
      "\u001b[1;31m[WARNING] ::\u001b[0m \u001b[1;34mmetadata.py 229 _build()\u001b[0m - ut keyword not in header. Setting to None\n",
      "\u001b[1;32m[INFO]    ::\u001b[0m \u001b[1;34mmetadata.py 255 _build()\u001b[0m - Successfully loaded headers for file:\n",
      "             /Users/westfall/Work/packages/PypeIt-development-suite/RAW_DATA/Keck_LRIS_red/multi_400_8500_d560/r170320_2089.fits.gz\n",
      "\u001b[1;31m[WARNING] ::\u001b[0m \u001b[1;34mmetadata.py 229 _build()\u001b[0m - ut keyword not in header. Setting to None\n",
      "\u001b[1;32m[INFO]    ::\u001b[0m \u001b[1;34mmetadata.py 255 _build()\u001b[0m - Successfully loaded headers for file:\n",
      "             /Users/westfall/Work/packages/PypeIt-development-suite/RAW_DATA/Keck_LRIS_red/multi_400_8500_d560/r170320_2090.fits.gz\n",
      "\u001b[1;31m[WARNING] ::\u001b[0m \u001b[1;34mmetadata.py 229 _build()\u001b[0m - ut keyword not in header. Setting to None\n",
      "\u001b[1;32m[INFO]    ::\u001b[0m \u001b[1;34mmetadata.py 255 _build()\u001b[0m - Successfully loaded headers for file:\n",
      "             /Users/westfall/Work/packages/PypeIt-development-suite/RAW_DATA/Keck_LRIS_red/multi_400_8500_d560/r170320_2091.fits.gz\n",
      "\u001b[1;31m[WARNING] ::\u001b[0m \u001b[1;34mmetadata.py 229 _build()\u001b[0m - ut keyword not in header. Setting to None\n",
      "\u001b[1;32m[INFO]    ::\u001b[0m \u001b[1;34mmetadata.py 255 _build()\u001b[0m - Successfully loaded headers for file:\n",
      "             /Users/westfall/Work/packages/PypeIt-development-suite/RAW_DATA/Keck_LRIS_red/multi_400_8500_d560/r170320_2092.fits.gz\n",
      "\u001b[1;31m[WARNING] ::\u001b[0m \u001b[1;34mmetadata.py 229 _build()\u001b[0m - ut keyword not in header. Setting to None\n",
      "\u001b[1;32m[INFO]    ::\u001b[0m \u001b[1;34mmetadata.py 255 _build()\u001b[0m - Successfully loaded headers for file:\n",
      "             /Users/westfall/Work/packages/PypeIt-development-suite/RAW_DATA/Keck_LRIS_red/multi_400_8500_d560/r170320_2093.fits.gz\n",
      "\u001b[1;31m[WARNING] ::\u001b[0m \u001b[1;34mmetadata.py 229 _build()\u001b[0m - ut keyword not in header. Setting to None\n",
      "\u001b[1;32m[INFO]    ::\u001b[0m \u001b[1;34mmetadata.py 255 _build()\u001b[0m - Successfully loaded headers for file:\n",
      "             /Users/westfall/Work/packages/PypeIt-development-suite/RAW_DATA/Keck_LRIS_red/multi_400_8500_d560/r170320_2094.fits.gz\n"
     ]
    },
    {
     "name": "stderr",
     "output_type": "stream",
     "text": [
      "\u001b[1;31m[WARNING] ::\u001b[0m \u001b[1;34mmetadata.py 229 _build()\u001b[0m - ut keyword not in header. Setting to None\n",
      "\u001b[1;32m[INFO]    ::\u001b[0m \u001b[1;34mmetadata.py 255 _build()\u001b[0m - Successfully loaded headers for file:\n",
      "             /Users/westfall/Work/packages/PypeIt-development-suite/RAW_DATA/Keck_LRIS_red/multi_400_8500_d560/r170320_2095.fits.gz\n",
      "\u001b[1;31m[WARNING] ::\u001b[0m \u001b[1;34mmetadata.py 229 _build()\u001b[0m - ut keyword not in header. Setting to None\n",
      "\u001b[1;32m[INFO]    ::\u001b[0m \u001b[1;34mmetadata.py 255 _build()\u001b[0m - Successfully loaded headers for file:\n",
      "             /Users/westfall/Work/packages/PypeIt-development-suite/RAW_DATA/Keck_LRIS_red/multi_400_8500_d560/r170320_2096.fits.gz\n",
      "\u001b[1;32m[INFO]    ::\u001b[0m \u001b[1;34mmetadata.py 258 _build()\u001b[0m - Headers loaded for 27 files successfully\n"
     ]
    }
   ],
   "source": [
    "fitstbl = PypeItMetaData('keck_lris_red', file_list=file_list, background_index=True)"
   ]
  },
  {
   "cell_type": "markdown",
   "metadata": {},
   "source": [
    "Add the frame types as we've always done"
   ]
  },
  {
   "cell_type": "code",
   "execution_count": 4,
   "metadata": {},
   "outputs": [
    {
     "name": "stderr",
     "output_type": "stream",
     "text": [
      "\u001b[1;32m[INFO]    ::\u001b[0m \u001b[1;34mmetadata.py 866 get_frame_types()\u001b[0m - Typing files\n",
      "\u001b[1;31m[WARNING] ::\u001b[0m \u001b[1;34mkeck_lris.py 130 check_frame_type()\u001b[0m - Cannot determine if frames are of type standard.\n",
      "\u001b[1;32m[INFO]    ::\u001b[0m \u001b[1;34mmetadata.py 935 get_frame_types()\u001b[0m - Typing completed!\n"
     ]
    }
   ],
   "source": [
    "_ = fitstbl.get_frame_types(flag_unknown=True)"
   ]
  },
  {
   "cell_type": "markdown",
   "metadata": {},
   "source": [
    "Find the unique configurations.  The unique configurations are found by matching data in the headers between frames.  The keywords that are matched is set by the `configuration_keys` in each spectrograph class."
   ]
  },
  {
   "cell_type": "code",
   "execution_count": 5,
   "metadata": {},
   "outputs": [
    {
     "name": "stderr",
     "output_type": "stream",
     "text": [
      "\u001b[1;32m[INFO]    ::\u001b[0m \u001b[1;34mmetadata.py 485 unique_configurations()\u001b[0m - Using metadata to determine unique configurations.\n",
      "\u001b[1;32m[INFO]    ::\u001b[0m \u001b[1;34mmetadata.py 493 unique_configurations()\u001b[0m - Unique configurations ignore frames with type: ['bias', 'dark']\n",
      "\u001b[1;32m[INFO]    ::\u001b[0m \u001b[1;34mmetadata.py 540 unique_configurations()\u001b[0m - Found 1 unique configurations.\n"
     ]
    }
   ],
   "source": [
    "cfgs = fitstbl.unique_configurations(ignore_frames=['bias', 'dark'])"
   ]
  },
  {
   "cell_type": "code",
   "execution_count": 6,
   "metadata": {},
   "outputs": [
    {
     "data": {
      "text/plain": [
       "{'A': {'dispname': '400/8500', 'dichroic': '560', 'decker': 'c17_60L.'}}"
      ]
     },
     "execution_count": 6,
     "metadata": {},
     "output_type": "execute_result"
    }
   ],
   "source": [
    "cfgs"
   ]
  },
  {
   "cell_type": "markdown",
   "metadata": {},
   "source": [
    "Once you have the unique configurations, the next step is to identify each frame with a configuration.  The configuration is added to the table in the `configuration` column.  The end result of `unique_configurations` and `set_configurations` can be done in a single step."
   ]
  },
  {
   "cell_type": "code",
   "execution_count": 7,
   "metadata": {},
   "outputs": [],
   "source": [
    "fitstbl.set_configurations(cfgs)"
   ]
  },
  {
   "cell_type": "markdown",
   "metadata": {},
   "source": [
    "Then you identify each frame within a given configuration as being part of a calibration group.  Calibration frames can be assigned to multiple calibration groups, but science frames can only be assigned to a single calibration group.  I.e., the calibration group of a science frame selects which calibration frames to use for it.  At the moment, some frame types can be assigned to calibrations independent of their configuration.  These are defined by the `global_frames` keyword below.  The calibration group is currently an integer or list of integers in the `calib` column of the table.\n",
    "\n",
    "At the moment, frames are assigned to a calibration group just based on the configuration, but the logic will become more complicated.  I.e., impose a time limit on when arcs should be used with given science frames."
   ]
  },
  {
   "cell_type": "code",
   "execution_count": 8,
   "metadata": {},
   "outputs": [],
   "source": [
    "fitstbl.set_calibration_groups(global_frames=['bias', 'dark'])"
   ]
  },
  {
   "cell_type": "code",
   "execution_count": 9,
   "metadata": {},
   "outputs": [
    {
     "data": {
      "text/html": [
       "<i>PypeItMetaData: spectrograph=keck_lris_red, length=27\n",
       "</i>\n",
       "<table id=\"table4731093344\">\n",
       "<thead><tr><th>index</th><th>directory</th><th>filename</th><th>instrume</th><th>idname</th><th>time</th><th>utc</th><th>ut</th><th>ra</th><th>dec</th><th>airmass</th><th>binning</th><th>decker</th><th>dichroic</th><th>target</th><th>exptime</th><th>hatch</th><th>dispname</th><th>dispangle</th><th>wavecen</th><th>spectrograph</th><th>lampstat01</th><th>lampstat02</th><th>lampstat03</th><th>lampstat04</th><th>lampstat05</th><th>lampstat06</th><th>lampstat07</th><th>lampstat08</th><th>lampstat09</th><th>lampstat10</th><th>lampstat11</th><th>lampstat12</th><th>filter1</th><th>NAXIS01</th><th>CCDGEOM</th><th>CCDNAME01</th><th>NAXIS02</th><th>NAXIS03</th><th>CCDNAME02</th><th>NAXIS04</th><th>index_bg</th><th>frametype</th><th>framebit</th><th>configuration</th><th>calib</th><th>calibbit</th></tr></thead>\n",
       "<thead><tr><th>int64</th><th>str97</th><th>str20</th><th>str13</th><th>str4</th><th>float64</th><th>str11</th><th>str4</th><th>str11</th><th>str11</th><th>float64</th><th>str3</th><th>str8</th><th>str3</th><th>str8</th><th>int64</th><th>str6</th><th>str8</th><th>float64</th><th>float64</th><th>str4</th><th>str3</th><th>str3</th><th>str3</th><th>str3</th><th>str3</th><th>str3</th><th>str3</th><th>str3</th><th>str3</th><th>str3</th><th>str3</th><th>str3</th><th>str5</th><th>int64</th><th>str27</th><th>str4</th><th>int64</th><th>int64</th><th>str4</th><th>int64</th><th>object</th><th>str15</th><th>int16</th><th>str4</th><th>str4</th><th>int64</th></tr></thead>\n",
       "<tr><td>0</td><td>/Users/westfall/Work/packages/PypeIt-development-suite/RAW_DATA/Keck_LRIS_red/multi_400_8500_d560</td><td>r170320_2017.fits.gz</td><td>keck_lris_red</td><td>dark</td><td>57832.040239</td><td>00:57:56.64</td><td>None</td><td>15:20:00.00</td><td>+00:00:00.0</td><td>13.37481353</td><td>2,2</td><td>c17_60L.</td><td>560</td><td>unknown</td><td>1</td><td>closed</td><td>400/8500</td><td>22.13431168</td><td>6429.00585938</td><td>LRIS</td><td>on</td><td>on</td><td>on</td><td>on</td><td>on</td><td>on</td><td>on</td><td>off</td><td>off</td><td>off</td><td>off</td><td>off</td><td>Clear</td><td>2</td><td>LBNL Thick High-Resistivity</td><td>19-3</td><td>2</td><td>2</td><td>19-2</td><td>2</td><td>None</td><td>arc</td><td>1</td><td>A</td><td>0</td><td>1</td></tr>\n",
       "<tr><td>1</td><td>/Users/westfall/Work/packages/PypeIt-development-suite/RAW_DATA/Keck_LRIS_red/multi_400_8500_d560</td><td>r170320_2057.fits.gz</td><td>keck_lris_red</td><td>dark</td><td>57832.09924</td><td>02:22:54.30</td><td>None</td><td>15:20:00.00</td><td>+45:00:00.0</td><td>1.41309236</td><td>2,2</td><td>c17_60L.</td><td>560</td><td>unknown</td><td>7</td><td>open</td><td>400/8500</td><td>22.13544083</td><td>6429.89794922</td><td>LRIS</td><td>off</td><td>off</td><td>off</td><td>off</td><td>off</td><td>off</td><td>off</td><td>off</td><td>off</td><td>on</td><td>on</td><td>off</td><td>Clear</td><td>2</td><td>LBNL Thick High-Resistivity</td><td>19-3</td><td>2</td><td>2</td><td>19-2</td><td>2</td><td>None</td><td>trace,pixelflat</td><td>144</td><td>A</td><td>0</td><td>1</td></tr>\n",
       "<tr><td>2</td><td>/Users/westfall/Work/packages/PypeIt-development-suite/RAW_DATA/Keck_LRIS_red/multi_400_8500_d560</td><td>r170320_2058.fits.gz</td><td>keck_lris_red</td><td>dark</td><td>57832.099994</td><td>02:23:58.90</td><td>None</td><td>15:20:00.00</td><td>+45:00:00.0</td><td>1.41309236</td><td>2,2</td><td>c17_60L.</td><td>560</td><td>unknown</td><td>7</td><td>open</td><td>400/8500</td><td>22.13544083</td><td>6429.89794922</td><td>LRIS</td><td>off</td><td>off</td><td>off</td><td>off</td><td>off</td><td>off</td><td>off</td><td>off</td><td>off</td><td>on</td><td>on</td><td>off</td><td>Clear</td><td>2</td><td>LBNL Thick High-Resistivity</td><td>19-3</td><td>2</td><td>2</td><td>19-2</td><td>2</td><td>None</td><td>trace,pixelflat</td><td>144</td><td>A</td><td>0</td><td>1</td></tr>\n",
       "<tr><td>3</td><td>/Users/westfall/Work/packages/PypeIt-development-suite/RAW_DATA/Keck_LRIS_red/multi_400_8500_d560</td><td>r170320_2059.fits.gz</td><td>keck_lris_red</td><td>dark</td><td>57832.100729</td><td>02:25:03.00</td><td>None</td><td>15:20:00.00</td><td>+45:00:00.0</td><td>1.41309236</td><td>2,2</td><td>c17_60L.</td><td>560</td><td>unknown</td><td>7</td><td>open</td><td>400/8500</td><td>22.13544083</td><td>6429.89794922</td><td>LRIS</td><td>off</td><td>off</td><td>off</td><td>off</td><td>off</td><td>off</td><td>off</td><td>off</td><td>off</td><td>on</td><td>on</td><td>off</td><td>Clear</td><td>2</td><td>LBNL Thick High-Resistivity</td><td>19-3</td><td>2</td><td>2</td><td>19-2</td><td>2</td><td>None</td><td>trace,pixelflat</td><td>144</td><td>A</td><td>0</td><td>1</td></tr>\n",
       "<tr><td>4</td><td>/Users/westfall/Work/packages/PypeIt-development-suite/RAW_DATA/Keck_LRIS_red/multi_400_8500_d560</td><td>r170320_2067.fits.gz</td><td>keck_lris_red</td><td>dark</td><td>57832.134889</td><td>03:14:14.36</td><td>None</td><td>15:20:00.00</td><td>+45:00:00.0</td><td>1.41309236</td><td>2,2</td><td>sp15l.fi</td><td>560</td><td>unknown</td><td>0</td><td>closed</td><td>400/8500</td><td>22.13544083</td><td>6429.89794922</td><td>LRIS</td><td>off</td><td>off</td><td>off</td><td>off</td><td>off</td><td>off</td><td>off</td><td>off</td><td>off</td><td>off</td><td>off</td><td>off</td><td>Clear</td><td>2</td><td>LBNL Thick High-Resistivity</td><td>19-3</td><td>2</td><td>2</td><td>19-2</td><td>2</td><td>None</td><td>bias</td><td>2</td><td>None</td><td>0</td><td>1</td></tr>\n",
       "<tr><td>5</td><td>/Users/westfall/Work/packages/PypeIt-development-suite/RAW_DATA/Keck_LRIS_red/multi_400_8500_d560</td><td>r170320_2068.fits.gz</td><td>keck_lris_red</td><td>dark</td><td>57832.135557</td><td>03:15:12.13</td><td>None</td><td>15:20:00.00</td><td>+45:00:00.0</td><td>1.41309236</td><td>2,2</td><td>sp15l.fi</td><td>560</td><td>unknown</td><td>0</td><td>closed</td><td>400/8500</td><td>22.13544083</td><td>6429.89794922</td><td>LRIS</td><td>off</td><td>off</td><td>off</td><td>off</td><td>off</td><td>off</td><td>off</td><td>off</td><td>off</td><td>off</td><td>off</td><td>off</td><td>Clear</td><td>2</td><td>LBNL Thick High-Resistivity</td><td>19-3</td><td>2</td><td>2</td><td>19-2</td><td>2</td><td>None</td><td>bias</td><td>2</td><td>None</td><td>0</td><td>1</td></tr>\n",
       "<tr><td>6</td><td>/Users/westfall/Work/packages/PypeIt-development-suite/RAW_DATA/Keck_LRIS_red/multi_400_8500_d560</td><td>r170320_2069.fits.gz</td><td>keck_lris_red</td><td>dark</td><td>57832.136243</td><td>03:16:11.43</td><td>None</td><td>15:20:00.00</td><td>+45:00:00.0</td><td>1.41309236</td><td>2,2</td><td>sp15l.fi</td><td>560</td><td>unknown</td><td>0</td><td>closed</td><td>400/8500</td><td>22.13544083</td><td>6429.89794922</td><td>LRIS</td><td>off</td><td>off</td><td>off</td><td>off</td><td>off</td><td>off</td><td>off</td><td>off</td><td>off</td><td>off</td><td>off</td><td>off</td><td>Clear</td><td>2</td><td>LBNL Thick High-Resistivity</td><td>19-3</td><td>2</td><td>2</td><td>19-2</td><td>2</td><td>None</td><td>bias</td><td>2</td><td>None</td><td>0</td><td>1</td></tr>\n",
       "<tr><td>7</td><td>/Users/westfall/Work/packages/PypeIt-development-suite/RAW_DATA/Keck_LRIS_red/multi_400_8500_d560</td><td>r170320_2070.fits.gz</td><td>keck_lris_red</td><td>dark</td><td>57832.136922</td><td>03:17:10.02</td><td>None</td><td>15:20:00.00</td><td>+45:00:00.0</td><td>1.41309236</td><td>2,2</td><td>sp15l.fi</td><td>560</td><td>unknown</td><td>0</td><td>closed</td><td>400/8500</td><td>22.13544083</td><td>6429.89794922</td><td>LRIS</td><td>off</td><td>off</td><td>off</td><td>off</td><td>off</td><td>off</td><td>off</td><td>off</td><td>off</td><td>off</td><td>off</td><td>off</td><td>Clear</td><td>2</td><td>LBNL Thick High-Resistivity</td><td>19-3</td><td>2</td><td>2</td><td>19-2</td><td>2</td><td>None</td><td>bias</td><td>2</td><td>None</td><td>0</td><td>1</td></tr>\n",
       "<tr><td>8</td><td>/Users/westfall/Work/packages/PypeIt-development-suite/RAW_DATA/Keck_LRIS_red/multi_400_8500_d560</td><td>r170320_2071.fits.gz</td><td>keck_lris_red</td><td>dark</td><td>57832.137598</td><td>03:18:08.42</td><td>None</td><td>15:20:00.00</td><td>+45:00:00.0</td><td>1.41309236</td><td>2,2</td><td>sp15l.fi</td><td>560</td><td>unknown</td><td>0</td><td>closed</td><td>400/8500</td><td>22.13544083</td><td>6429.89794922</td><td>LRIS</td><td>off</td><td>off</td><td>off</td><td>off</td><td>off</td><td>off</td><td>off</td><td>off</td><td>off</td><td>off</td><td>off</td><td>off</td><td>Clear</td><td>2</td><td>LBNL Thick High-Resistivity</td><td>19-3</td><td>2</td><td>2</td><td>19-2</td><td>2</td><td>None</td><td>bias</td><td>2</td><td>None</td><td>0</td><td>1</td></tr>\n",
       "<tr><td>9</td><td>/Users/westfall/Work/packages/PypeIt-development-suite/RAW_DATA/Keck_LRIS_red/multi_400_8500_d560</td><td>r170320_2072.fits.gz</td><td>keck_lris_red</td><td>dark</td><td>57832.138272</td><td>03:19:06.72</td><td>None</td><td>15:20:00.00</td><td>+45:00:00.0</td><td>1.41309236</td><td>2,2</td><td>sp15l.fi</td><td>560</td><td>unknown</td><td>0</td><td>closed</td><td>400/8500</td><td>22.13544083</td><td>6429.89794922</td><td>LRIS</td><td>off</td><td>off</td><td>off</td><td>off</td><td>off</td><td>off</td><td>off</td><td>off</td><td>off</td><td>off</td><td>off</td><td>off</td><td>Clear</td><td>2</td><td>LBNL Thick High-Resistivity</td><td>19-3</td><td>2</td><td>2</td><td>19-2</td><td>2</td><td>None</td><td>bias</td><td>2</td><td>None</td><td>0</td><td>1</td></tr>\n",
       "<tr><td>...</td><td>...</td><td>...</td><td>...</td><td>...</td><td>...</td><td>...</td><td>...</td><td>...</td><td>...</td><td>...</td><td>...</td><td>...</td><td>...</td><td>...</td><td>...</td><td>...</td><td>...</td><td>...</td><td>...</td><td>...</td><td>...</td><td>...</td><td>...</td><td>...</td><td>...</td><td>...</td><td>...</td><td>...</td><td>...</td><td>...</td><td>...</td><td>...</td><td>...</td><td>...</td><td>...</td><td>...</td><td>...</td><td>...</td><td>...</td><td>...</td><td>...</td><td>...</td><td>...</td><td>...</td><td>...</td><td>...</td></tr>\n",
       "<tr><td>17</td><td>/Users/westfall/Work/packages/PypeIt-development-suite/RAW_DATA/Keck_LRIS_red/multi_400_8500_d560</td><td>r170320_2087.fits.gz</td><td>keck_lris_red</td><td>dark</td><td>57832.278244</td><td>06:40:40.23</td><td>None</td><td>10:01:24.75</td><td>+02:11:54.5</td><td>1.18364345</td><td>2,2</td><td>c17_60L.</td><td>560</td><td>c17_60L.</td><td>850</td><td>open</td><td>400/8500</td><td>22.13995552</td><td>6433.46679688</td><td>LRIS</td><td>off</td><td>off</td><td>off</td><td>off</td><td>off</td><td>off</td><td>off</td><td>off</td><td>off</td><td>off</td><td>off</td><td>off</td><td>Clear</td><td>2</td><td>LBNL Thick High-Resistivity</td><td>19-3</td><td>2</td><td>2</td><td>19-2</td><td>2</td><td>None</td><td>science</td><td>32</td><td>A</td><td>0</td><td>1</td></tr>\n",
       "<tr><td>18</td><td>/Users/westfall/Work/packages/PypeIt-development-suite/RAW_DATA/Keck_LRIS_red/multi_400_8500_d560</td><td>r170320_2088.fits.gz</td><td>keck_lris_red</td><td>dark</td><td>57832.288767</td><td>06:55:49.47</td><td>None</td><td>10:01:24.75</td><td>+02:11:54.5</td><td>1.14680535</td><td>2,2</td><td>c17_60L.</td><td>560</td><td>c17_60L.</td><td>850</td><td>open</td><td>400/8500</td><td>22.13995552</td><td>6433.46679688</td><td>LRIS</td><td>off</td><td>off</td><td>off</td><td>off</td><td>off</td><td>off</td><td>off</td><td>off</td><td>off</td><td>off</td><td>off</td><td>off</td><td>Clear</td><td>2</td><td>LBNL Thick High-Resistivity</td><td>19-3</td><td>2</td><td>2</td><td>19-2</td><td>2</td><td>None</td><td>science</td><td>32</td><td>A</td><td>0</td><td>1</td></tr>\n",
       "<tr><td>19</td><td>/Users/westfall/Work/packages/PypeIt-development-suite/RAW_DATA/Keck_LRIS_red/multi_400_8500_d560</td><td>r170320_2089.fits.gz</td><td>keck_lris_red</td><td>dark</td><td>57832.299291</td><td>07:10:58.76</td><td>None</td><td>10:01:24.75</td><td>+02:11:54.5</td><td>1.11694114</td><td>2,2</td><td>c17_60L.</td><td>560</td><td>c17_60L.</td><td>850</td><td>open</td><td>400/8500</td><td>22.13995552</td><td>6433.46679688</td><td>LRIS</td><td>off</td><td>off</td><td>off</td><td>off</td><td>off</td><td>off</td><td>off</td><td>off</td><td>off</td><td>off</td><td>off</td><td>off</td><td>Clear</td><td>2</td><td>LBNL Thick High-Resistivity</td><td>19-3</td><td>2</td><td>2</td><td>19-2</td><td>2</td><td>None</td><td>science</td><td>32</td><td>A</td><td>0</td><td>1</td></tr>\n",
       "<tr><td>20</td><td>/Users/westfall/Work/packages/PypeIt-development-suite/RAW_DATA/Keck_LRIS_red/multi_400_8500_d560</td><td>r170320_2090.fits.gz</td><td>keck_lris_red</td><td>dark</td><td>57832.309837</td><td>07:26:09.90</td><td>None</td><td>10:01:24.75</td><td>+02:11:54.5</td><td>1.09306113</td><td>2,2</td><td>c17_60L.</td><td>560</td><td>c17_60L.</td><td>850</td><td>open</td><td>400/8500</td><td>22.13995552</td><td>6433.46679688</td><td>LRIS</td><td>off</td><td>off</td><td>off</td><td>off</td><td>off</td><td>off</td><td>off</td><td>off</td><td>off</td><td>off</td><td>off</td><td>off</td><td>Clear</td><td>2</td><td>LBNL Thick High-Resistivity</td><td>19-3</td><td>2</td><td>2</td><td>19-2</td><td>2</td><td>None</td><td>science</td><td>32</td><td>A</td><td>0</td><td>1</td></tr>\n",
       "<tr><td>21</td><td>/Users/westfall/Work/packages/PypeIt-development-suite/RAW_DATA/Keck_LRIS_red/multi_400_8500_d560</td><td>r170320_2091.fits.gz</td><td>keck_lris_red</td><td>dark</td><td>57832.327258</td><td>07:51:15.05</td><td>None</td><td>10:01:24.04</td><td>+02:11:47.3</td><td>1.0656618</td><td>2,2</td><td>c17_60L.</td><td>560</td><td>c17_60L.</td><td>850</td><td>open</td><td>400/8500</td><td>22.13995552</td><td>6433.46679688</td><td>LRIS</td><td>off</td><td>off</td><td>off</td><td>off</td><td>off</td><td>off</td><td>off</td><td>off</td><td>off</td><td>off</td><td>off</td><td>off</td><td>Clear</td><td>2</td><td>LBNL Thick High-Resistivity</td><td>19-3</td><td>2</td><td>2</td><td>19-2</td><td>2</td><td>None</td><td>science</td><td>32</td><td>A</td><td>0</td><td>1</td></tr>\n",
       "<tr><td>22</td><td>/Users/westfall/Work/packages/PypeIt-development-suite/RAW_DATA/Keck_LRIS_red/multi_400_8500_d560</td><td>r170320_2092.fits.gz</td><td>keck_lris_red</td><td>dark</td><td>57832.337793</td><td>08:06:25.34</td><td>None</td><td>10:01:24.04</td><td>+02:11:47.3</td><td>1.05576494</td><td>2,2</td><td>c17_60L.</td><td>560</td><td>c17_60L.</td><td>850</td><td>open</td><td>400/8500</td><td>22.13995552</td><td>6433.46679688</td><td>LRIS</td><td>off</td><td>off</td><td>off</td><td>off</td><td>off</td><td>off</td><td>off</td><td>off</td><td>off</td><td>off</td><td>off</td><td>off</td><td>Clear</td><td>2</td><td>LBNL Thick High-Resistivity</td><td>19-3</td><td>2</td><td>2</td><td>19-2</td><td>2</td><td>None</td><td>science</td><td>32</td><td>A</td><td>0</td><td>1</td></tr>\n",
       "<tr><td>23</td><td>/Users/westfall/Work/packages/PypeIt-development-suite/RAW_DATA/Keck_LRIS_red/multi_400_8500_d560</td><td>r170320_2093.fits.gz</td><td>keck_lris_red</td><td>dark</td><td>57832.348305</td><td>08:21:33.58</td><td>None</td><td>10:01:24.04</td><td>+02:11:47.3</td><td>1.05050164</td><td>2,2</td><td>c17_60L.</td><td>560</td><td>c17_60L.</td><td>850</td><td>open</td><td>400/8500</td><td>22.13995552</td><td>6433.46679688</td><td>LRIS</td><td>off</td><td>off</td><td>off</td><td>off</td><td>off</td><td>off</td><td>off</td><td>off</td><td>off</td><td>off</td><td>off</td><td>off</td><td>Clear</td><td>2</td><td>LBNL Thick High-Resistivity</td><td>19-3</td><td>2</td><td>2</td><td>19-2</td><td>2</td><td>None</td><td>science</td><td>32</td><td>A</td><td>0</td><td>1</td></tr>\n",
       "<tr><td>24</td><td>/Users/westfall/Work/packages/PypeIt-development-suite/RAW_DATA/Keck_LRIS_red/multi_400_8500_d560</td><td>r170320_2094.fits.gz</td><td>keck_lris_red</td><td>dark</td><td>57832.358847</td><td>08:36:44.37</td><td>None</td><td>10:01:24.04</td><td>+02:11:47.3</td><td>1.04977619</td><td>2,2</td><td>c17_60L.</td><td>560</td><td>c17_60L.</td><td>850</td><td>open</td><td>400/8500</td><td>22.13995552</td><td>6433.46679688</td><td>LRIS</td><td>off</td><td>off</td><td>off</td><td>off</td><td>off</td><td>off</td><td>off</td><td>off</td><td>off</td><td>off</td><td>off</td><td>off</td><td>Clear</td><td>2</td><td>LBNL Thick High-Resistivity</td><td>19-3</td><td>2</td><td>2</td><td>19-2</td><td>2</td><td>None</td><td>science</td><td>32</td><td>A</td><td>0</td><td>1</td></tr>\n",
       "<tr><td>25</td><td>/Users/westfall/Work/packages/PypeIt-development-suite/RAW_DATA/Keck_LRIS_red/multi_400_8500_d560</td><td>r170320_2095.fits.gz</td><td>keck_lris_red</td><td>dark</td><td>57832.369384</td><td>08:51:54.80</td><td>None</td><td>10:01:24.04</td><td>+02:11:47.3</td><td>1.05367221</td><td>2,2</td><td>c17_60L.</td><td>560</td><td>c17_60L.</td><td>880</td><td>open</td><td>400/8500</td><td>22.13995552</td><td>6433.46679688</td><td>LRIS</td><td>off</td><td>off</td><td>off</td><td>off</td><td>off</td><td>off</td><td>off</td><td>off</td><td>off</td><td>off</td><td>off</td><td>off</td><td>Clear</td><td>2</td><td>LBNL Thick High-Resistivity</td><td>19-3</td><td>2</td><td>2</td><td>19-2</td><td>2</td><td>None</td><td>science</td><td>32</td><td>A</td><td>0</td><td>1</td></tr>\n",
       "<tr><td>26</td><td>/Users/westfall/Work/packages/PypeIt-development-suite/RAW_DATA/Keck_LRIS_red/multi_400_8500_d560</td><td>r170320_2096.fits.gz</td><td>keck_lris_red</td><td>dark</td><td>57832.380259</td><td>09:07:34.39</td><td>None</td><td>10:01:24.04</td><td>+02:11:47.3</td><td>1.06245922</td><td>2,2</td><td>c17_60L.</td><td>560</td><td>c17_60L.</td><td>880</td><td>open</td><td>400/8500</td><td>22.13995552</td><td>6433.46679688</td><td>LRIS</td><td>off</td><td>off</td><td>off</td><td>off</td><td>off</td><td>off</td><td>off</td><td>off</td><td>off</td><td>off</td><td>off</td><td>off</td><td>Clear</td><td>2</td><td>LBNL Thick High-Resistivity</td><td>19-3</td><td>2</td><td>2</td><td>19-2</td><td>2</td><td>None</td><td>science</td><td>32</td><td>A</td><td>0</td><td>1</td></tr>\n",
       "</table>"
      ],
      "text/plain": [
       "<PypeItMetaData:\n",
       "               spectrograph=keck_lris_red\n",
       "               length=27\n",
       ">\n",
       "index ... calibbit\n",
       "int64 ...  int64  \n",
       "----- ... --------\n",
       "    0 ...        1\n",
       "    1 ...        1\n",
       "    2 ...        1\n",
       "    3 ...        1\n",
       "    4 ...        1\n",
       "    5 ...        1\n",
       "    6 ...        1\n",
       "    7 ...        1\n",
       "    8 ...        1\n",
       "    9 ...        1\n",
       "  ... ...      ...\n",
       "   17 ...        1\n",
       "   18 ...        1\n",
       "   19 ...        1\n",
       "   20 ...        1\n",
       "   21 ...        1\n",
       "   22 ...        1\n",
       "   23 ...        1\n",
       "   24 ...        1\n",
       "   25 ...        1\n",
       "   26 ...        1"
      ]
     },
     "execution_count": 9,
     "metadata": {},
     "output_type": "execute_result"
    }
   ],
   "source": [
    "fitstbl"
   ]
  },
  {
   "cell_type": "markdown",
   "metadata": {},
   "source": [
    "This matches calibration frames to science frames using the existing approach."
   ]
  },
  {
   "cell_type": "code",
   "execution_count": 10,
   "metadata": {},
   "outputs": [
    {
     "name": "stderr",
     "output_type": "stream",
     "text": [
      "\u001b[1;32m[INFO]    ::\u001b[0m \u001b[1;34mmetadata.py 1054 match_to_science()\u001b[0m - Matching calibrations to Science frames\n",
      "\u001b[1;32m[INFO]    ::\u001b[0m \u001b[1;34mmetadata.py 1073 match_to_science()\u001b[0m - ==================================================\n",
      "\u001b[1;32m[INFO]    ::\u001b[0m \u001b[1;34mmetadata.py 1074 match_to_science()\u001b[0m - Matching calibrations to frame: c17_60L.\n",
      "\u001b[1;32m[INFO]    ::\u001b[0m \u001b[1;34mmetadata.py 1130 match_to_science()\u001b[0m -   Found 1 arc frame for c17_60L. (1 required)\n",
      "\u001b[1;32m[INFO]    ::\u001b[0m \u001b[1;34mmetadata.py 1130 match_to_science()\u001b[0m -   Found 3 trace frame for c17_60L. (0 required)\n",
      "\u001b[1;32m[INFO]    ::\u001b[0m \u001b[1;34mmetadata.py 1130 match_to_science()\u001b[0m -   Found 0 standard frame for c17_60L. (0 required)\n",
      "\u001b[1;32m[INFO]    ::\u001b[0m \u001b[1;34mmetadata.py 1130 match_to_science()\u001b[0m -   Found 3 pixelflat frame for c17_60L. (0 required)\n",
      "\u001b[1;32m[INFO]    ::\u001b[0m \u001b[1;34mmetadata.py 1130 match_to_science()\u001b[0m -   Found 10 bias frame for c17_60L. (0 required)\n",
      "\u001b[1;32m[INFO]    ::\u001b[0m \u001b[1;34mmetadata.py 1114 match_to_science()\u001b[0m - No matching criteria for pinhole frames\n",
      "\u001b[1;32m[INFO]    ::\u001b[0m \u001b[1;34mmetadata.py 1130 match_to_science()\u001b[0m -   Found 0 pinhole frame for c17_60L. (0 required)\n",
      "\u001b[1;32m[INFO]    ::\u001b[0m \u001b[1;34mmetadata.py 1088 match_to_science()\u001b[0m -   Dark frames not required.  Not matching...\n",
      "\u001b[1;32m[INFO]    ::\u001b[0m \u001b[1;34mmetadata.py 1073 match_to_science()\u001b[0m - ==================================================\n",
      "\u001b[1;32m[INFO]    ::\u001b[0m \u001b[1;34mmetadata.py 1074 match_to_science()\u001b[0m - Matching calibrations to frame: c17_60L.\n",
      "\u001b[1;32m[INFO]    ::\u001b[0m \u001b[1;34mmetadata.py 1130 match_to_science()\u001b[0m -   Found 1 arc frame for c17_60L. (1 required)\n",
      "\u001b[1;32m[INFO]    ::\u001b[0m \u001b[1;34mmetadata.py 1130 match_to_science()\u001b[0m -   Found 3 trace frame for c17_60L. (0 required)\n",
      "\u001b[1;32m[INFO]    ::\u001b[0m \u001b[1;34mmetadata.py 1130 match_to_science()\u001b[0m -   Found 0 standard frame for c17_60L. (0 required)\n",
      "\u001b[1;32m[INFO]    ::\u001b[0m \u001b[1;34mmetadata.py 1130 match_to_science()\u001b[0m -   Found 3 pixelflat frame for c17_60L. (0 required)\n",
      "\u001b[1;32m[INFO]    ::\u001b[0m \u001b[1;34mmetadata.py 1130 match_to_science()\u001b[0m -   Found 10 bias frame for c17_60L. (0 required)\n",
      "\u001b[1;32m[INFO]    ::\u001b[0m \u001b[1;34mmetadata.py 1114 match_to_science()\u001b[0m - No matching criteria for pinhole frames\n",
      "\u001b[1;32m[INFO]    ::\u001b[0m \u001b[1;34mmetadata.py 1130 match_to_science()\u001b[0m -   Found 0 pinhole frame for c17_60L. (0 required)\n",
      "\u001b[1;32m[INFO]    ::\u001b[0m \u001b[1;34mmetadata.py 1088 match_to_science()\u001b[0m -   Dark frames not required.  Not matching...\n",
      "\u001b[1;32m[INFO]    ::\u001b[0m \u001b[1;34mmetadata.py 1073 match_to_science()\u001b[0m - ==================================================\n",
      "\u001b[1;32m[INFO]    ::\u001b[0m \u001b[1;34mmetadata.py 1074 match_to_science()\u001b[0m - Matching calibrations to frame: c17_60L.\n",
      "\u001b[1;32m[INFO]    ::\u001b[0m \u001b[1;34mmetadata.py 1130 match_to_science()\u001b[0m -   Found 1 arc frame for c17_60L. (1 required)\n",
      "\u001b[1;32m[INFO]    ::\u001b[0m \u001b[1;34mmetadata.py 1130 match_to_science()\u001b[0m -   Found 3 trace frame for c17_60L. (0 required)\n",
      "\u001b[1;32m[INFO]    ::\u001b[0m \u001b[1;34mmetadata.py 1130 match_to_science()\u001b[0m -   Found 0 standard frame for c17_60L. (0 required)\n",
      "\u001b[1;32m[INFO]    ::\u001b[0m \u001b[1;34mmetadata.py 1130 match_to_science()\u001b[0m -   Found 3 pixelflat frame for c17_60L. (0 required)\n",
      "\u001b[1;32m[INFO]    ::\u001b[0m \u001b[1;34mmetadata.py 1130 match_to_science()\u001b[0m -   Found 10 bias frame for c17_60L. (0 required)\n",
      "\u001b[1;32m[INFO]    ::\u001b[0m \u001b[1;34mmetadata.py 1114 match_to_science()\u001b[0m - No matching criteria for pinhole frames\n",
      "\u001b[1;32m[INFO]    ::\u001b[0m \u001b[1;34mmetadata.py 1130 match_to_science()\u001b[0m -   Found 0 pinhole frame for c17_60L. (0 required)\n",
      "\u001b[1;32m[INFO]    ::\u001b[0m \u001b[1;34mmetadata.py 1088 match_to_science()\u001b[0m -   Dark frames not required.  Not matching...\n",
      "\u001b[1;32m[INFO]    ::\u001b[0m \u001b[1;34mmetadata.py 1073 match_to_science()\u001b[0m - ==================================================\n",
      "\u001b[1;32m[INFO]    ::\u001b[0m \u001b[1;34mmetadata.py 1074 match_to_science()\u001b[0m - Matching calibrations to frame: c17_60L.\n",
      "\u001b[1;32m[INFO]    ::\u001b[0m \u001b[1;34mmetadata.py 1130 match_to_science()\u001b[0m -   Found 1 arc frame for c17_60L. (1 required)\n",
      "\u001b[1;32m[INFO]    ::\u001b[0m \u001b[1;34mmetadata.py 1130 match_to_science()\u001b[0m -   Found 3 trace frame for c17_60L. (0 required)\n",
      "\u001b[1;32m[INFO]    ::\u001b[0m \u001b[1;34mmetadata.py 1130 match_to_science()\u001b[0m -   Found 0 standard frame for c17_60L. (0 required)\n",
      "\u001b[1;32m[INFO]    ::\u001b[0m \u001b[1;34mmetadata.py 1130 match_to_science()\u001b[0m -   Found 3 pixelflat frame for c17_60L. (0 required)\n",
      "\u001b[1;32m[INFO]    ::\u001b[0m \u001b[1;34mmetadata.py 1130 match_to_science()\u001b[0m -   Found 10 bias frame for c17_60L. (0 required)\n",
      "\u001b[1;32m[INFO]    ::\u001b[0m \u001b[1;34mmetadata.py 1114 match_to_science()\u001b[0m - No matching criteria for pinhole frames\n",
      "\u001b[1;32m[INFO]    ::\u001b[0m \u001b[1;34mmetadata.py 1130 match_to_science()\u001b[0m -   Found 0 pinhole frame for c17_60L. (0 required)\n",
      "\u001b[1;32m[INFO]    ::\u001b[0m \u001b[1;34mmetadata.py 1088 match_to_science()\u001b[0m -   Dark frames not required.  Not matching...\n",
      "\u001b[1;32m[INFO]    ::\u001b[0m \u001b[1;34mmetadata.py 1073 match_to_science()\u001b[0m - ==================================================\n",
      "\u001b[1;32m[INFO]    ::\u001b[0m \u001b[1;34mmetadata.py 1074 match_to_science()\u001b[0m - Matching calibrations to frame: c17_60L.\n",
      "\u001b[1;32m[INFO]    ::\u001b[0m \u001b[1;34mmetadata.py 1130 match_to_science()\u001b[0m -   Found 1 arc frame for c17_60L. (1 required)\n",
      "\u001b[1;32m[INFO]    ::\u001b[0m \u001b[1;34mmetadata.py 1130 match_to_science()\u001b[0m -   Found 3 trace frame for c17_60L. (0 required)\n",
      "\u001b[1;32m[INFO]    ::\u001b[0m \u001b[1;34mmetadata.py 1130 match_to_science()\u001b[0m -   Found 0 standard frame for c17_60L. (0 required)\n",
      "\u001b[1;32m[INFO]    ::\u001b[0m \u001b[1;34mmetadata.py 1130 match_to_science()\u001b[0m -   Found 3 pixelflat frame for c17_60L. (0 required)\n",
      "\u001b[1;32m[INFO]    ::\u001b[0m \u001b[1;34mmetadata.py 1130 match_to_science()\u001b[0m -   Found 10 bias frame for c17_60L. (0 required)\n",
      "\u001b[1;32m[INFO]    ::\u001b[0m \u001b[1;34mmetadata.py 1114 match_to_science()\u001b[0m - No matching criteria for pinhole frames\n",
      "\u001b[1;32m[INFO]    ::\u001b[0m \u001b[1;34mmetadata.py 1130 match_to_science()\u001b[0m -   Found 0 pinhole frame for c17_60L. (0 required)\n",
      "\u001b[1;32m[INFO]    ::\u001b[0m \u001b[1;34mmetadata.py 1088 match_to_science()\u001b[0m -   Dark frames not required.  Not matching...\n",
      "\u001b[1;32m[INFO]    ::\u001b[0m \u001b[1;34mmetadata.py 1073 match_to_science()\u001b[0m - ==================================================\n",
      "\u001b[1;32m[INFO]    ::\u001b[0m \u001b[1;34mmetadata.py 1074 match_to_science()\u001b[0m - Matching calibrations to frame: c17_60L.\n",
      "\u001b[1;32m[INFO]    ::\u001b[0m \u001b[1;34mmetadata.py 1130 match_to_science()\u001b[0m -   Found 1 arc frame for c17_60L. (1 required)\n",
      "\u001b[1;32m[INFO]    ::\u001b[0m \u001b[1;34mmetadata.py 1130 match_to_science()\u001b[0m -   Found 3 trace frame for c17_60L. (0 required)\n",
      "\u001b[1;32m[INFO]    ::\u001b[0m \u001b[1;34mmetadata.py 1130 match_to_science()\u001b[0m -   Found 0 standard frame for c17_60L. (0 required)\n",
      "\u001b[1;32m[INFO]    ::\u001b[0m \u001b[1;34mmetadata.py 1130 match_to_science()\u001b[0m -   Found 3 pixelflat frame for c17_60L. (0 required)\n",
      "\u001b[1;32m[INFO]    ::\u001b[0m \u001b[1;34mmetadata.py 1130 match_to_science()\u001b[0m -   Found 10 bias frame for c17_60L. (0 required)\n",
      "\u001b[1;32m[INFO]    ::\u001b[0m \u001b[1;34mmetadata.py 1114 match_to_science()\u001b[0m - No matching criteria for pinhole frames\n",
      "\u001b[1;32m[INFO]    ::\u001b[0m \u001b[1;34mmetadata.py 1130 match_to_science()\u001b[0m -   Found 0 pinhole frame for c17_60L. (0 required)\n",
      "\u001b[1;32m[INFO]    ::\u001b[0m \u001b[1;34mmetadata.py 1088 match_to_science()\u001b[0m -   Dark frames not required.  Not matching...\n",
      "\u001b[1;32m[INFO]    ::\u001b[0m \u001b[1;34mmetadata.py 1073 match_to_science()\u001b[0m - ==================================================\n",
      "\u001b[1;32m[INFO]    ::\u001b[0m \u001b[1;34mmetadata.py 1074 match_to_science()\u001b[0m - Matching calibrations to frame: c17_60L.\n",
      "\u001b[1;32m[INFO]    ::\u001b[0m \u001b[1;34mmetadata.py 1130 match_to_science()\u001b[0m -   Found 1 arc frame for c17_60L. (1 required)\n",
      "\u001b[1;32m[INFO]    ::\u001b[0m \u001b[1;34mmetadata.py 1130 match_to_science()\u001b[0m -   Found 3 trace frame for c17_60L. (0 required)\n",
      "\u001b[1;32m[INFO]    ::\u001b[0m \u001b[1;34mmetadata.py 1130 match_to_science()\u001b[0m -   Found 0 standard frame for c17_60L. (0 required)\n",
      "\u001b[1;32m[INFO]    ::\u001b[0m \u001b[1;34mmetadata.py 1130 match_to_science()\u001b[0m -   Found 3 pixelflat frame for c17_60L. (0 required)\n",
      "\u001b[1;32m[INFO]    ::\u001b[0m \u001b[1;34mmetadata.py 1130 match_to_science()\u001b[0m -   Found 10 bias frame for c17_60L. (0 required)\n",
      "\u001b[1;32m[INFO]    ::\u001b[0m \u001b[1;34mmetadata.py 1114 match_to_science()\u001b[0m - No matching criteria for pinhole frames\n",
      "\u001b[1;32m[INFO]    ::\u001b[0m \u001b[1;34mmetadata.py 1130 match_to_science()\u001b[0m -   Found 0 pinhole frame for c17_60L. (0 required)\n",
      "\u001b[1;32m[INFO]    ::\u001b[0m \u001b[1;34mmetadata.py 1088 match_to_science()\u001b[0m -   Dark frames not required.  Not matching...\n"
     ]
    },
    {
     "name": "stderr",
     "output_type": "stream",
     "text": [
      "\u001b[1;32m[INFO]    ::\u001b[0m \u001b[1;34mmetadata.py 1073 match_to_science()\u001b[0m - ==================================================\n",
      "\u001b[1;32m[INFO]    ::\u001b[0m \u001b[1;34mmetadata.py 1074 match_to_science()\u001b[0m - Matching calibrations to frame: c17_60L.\n",
      "\u001b[1;32m[INFO]    ::\u001b[0m \u001b[1;34mmetadata.py 1130 match_to_science()\u001b[0m -   Found 1 arc frame for c17_60L. (1 required)\n",
      "\u001b[1;32m[INFO]    ::\u001b[0m \u001b[1;34mmetadata.py 1130 match_to_science()\u001b[0m -   Found 3 trace frame for c17_60L. (0 required)\n",
      "\u001b[1;32m[INFO]    ::\u001b[0m \u001b[1;34mmetadata.py 1130 match_to_science()\u001b[0m -   Found 0 standard frame for c17_60L. (0 required)\n",
      "\u001b[1;32m[INFO]    ::\u001b[0m \u001b[1;34mmetadata.py 1130 match_to_science()\u001b[0m -   Found 3 pixelflat frame for c17_60L. (0 required)\n",
      "\u001b[1;32m[INFO]    ::\u001b[0m \u001b[1;34mmetadata.py 1130 match_to_science()\u001b[0m -   Found 10 bias frame for c17_60L. (0 required)\n",
      "\u001b[1;32m[INFO]    ::\u001b[0m \u001b[1;34mmetadata.py 1114 match_to_science()\u001b[0m - No matching criteria for pinhole frames\n",
      "\u001b[1;32m[INFO]    ::\u001b[0m \u001b[1;34mmetadata.py 1130 match_to_science()\u001b[0m -   Found 0 pinhole frame for c17_60L. (0 required)\n",
      "\u001b[1;32m[INFO]    ::\u001b[0m \u001b[1;34mmetadata.py 1088 match_to_science()\u001b[0m -   Dark frames not required.  Not matching...\n",
      "\u001b[1;32m[INFO]    ::\u001b[0m \u001b[1;34mmetadata.py 1073 match_to_science()\u001b[0m - ==================================================\n",
      "\u001b[1;32m[INFO]    ::\u001b[0m \u001b[1;34mmetadata.py 1074 match_to_science()\u001b[0m - Matching calibrations to frame: c17_60L.\n",
      "\u001b[1;32m[INFO]    ::\u001b[0m \u001b[1;34mmetadata.py 1130 match_to_science()\u001b[0m -   Found 1 arc frame for c17_60L. (1 required)\n",
      "\u001b[1;32m[INFO]    ::\u001b[0m \u001b[1;34mmetadata.py 1130 match_to_science()\u001b[0m -   Found 3 trace frame for c17_60L. (0 required)\n",
      "\u001b[1;32m[INFO]    ::\u001b[0m \u001b[1;34mmetadata.py 1130 match_to_science()\u001b[0m -   Found 0 standard frame for c17_60L. (0 required)\n",
      "\u001b[1;32m[INFO]    ::\u001b[0m \u001b[1;34mmetadata.py 1130 match_to_science()\u001b[0m -   Found 3 pixelflat frame for c17_60L. (0 required)\n",
      "\u001b[1;32m[INFO]    ::\u001b[0m \u001b[1;34mmetadata.py 1130 match_to_science()\u001b[0m -   Found 10 bias frame for c17_60L. (0 required)\n",
      "\u001b[1;32m[INFO]    ::\u001b[0m \u001b[1;34mmetadata.py 1114 match_to_science()\u001b[0m - No matching criteria for pinhole frames\n",
      "\u001b[1;32m[INFO]    ::\u001b[0m \u001b[1;34mmetadata.py 1130 match_to_science()\u001b[0m -   Found 0 pinhole frame for c17_60L. (0 required)\n",
      "\u001b[1;32m[INFO]    ::\u001b[0m \u001b[1;34mmetadata.py 1088 match_to_science()\u001b[0m -   Dark frames not required.  Not matching...\n",
      "\u001b[1;32m[INFO]    ::\u001b[0m \u001b[1;34mmetadata.py 1073 match_to_science()\u001b[0m - ==================================================\n",
      "\u001b[1;32m[INFO]    ::\u001b[0m \u001b[1;34mmetadata.py 1074 match_to_science()\u001b[0m - Matching calibrations to frame: c17_60L.\n",
      "\u001b[1;32m[INFO]    ::\u001b[0m \u001b[1;34mmetadata.py 1130 match_to_science()\u001b[0m -   Found 1 arc frame for c17_60L. (1 required)\n",
      "\u001b[1;32m[INFO]    ::\u001b[0m \u001b[1;34mmetadata.py 1130 match_to_science()\u001b[0m -   Found 3 trace frame for c17_60L. (0 required)\n",
      "\u001b[1;32m[INFO]    ::\u001b[0m \u001b[1;34mmetadata.py 1130 match_to_science()\u001b[0m -   Found 0 standard frame for c17_60L. (0 required)\n",
      "\u001b[1;32m[INFO]    ::\u001b[0m \u001b[1;34mmetadata.py 1130 match_to_science()\u001b[0m -   Found 3 pixelflat frame for c17_60L. (0 required)\n",
      "\u001b[1;32m[INFO]    ::\u001b[0m \u001b[1;34mmetadata.py 1130 match_to_science()\u001b[0m -   Found 10 bias frame for c17_60L. (0 required)\n",
      "\u001b[1;32m[INFO]    ::\u001b[0m \u001b[1;34mmetadata.py 1114 match_to_science()\u001b[0m - No matching criteria for pinhole frames\n",
      "\u001b[1;32m[INFO]    ::\u001b[0m \u001b[1;34mmetadata.py 1130 match_to_science()\u001b[0m -   Found 0 pinhole frame for c17_60L. (0 required)\n",
      "\u001b[1;32m[INFO]    ::\u001b[0m \u001b[1;34mmetadata.py 1088 match_to_science()\u001b[0m -   Dark frames not required.  Not matching...\n",
      "\u001b[1;32m[INFO]    ::\u001b[0m \u001b[1;34mmetadata.py 1073 match_to_science()\u001b[0m - ==================================================\n",
      "\u001b[1;32m[INFO]    ::\u001b[0m \u001b[1;34mmetadata.py 1074 match_to_science()\u001b[0m - Matching calibrations to frame: c17_60L.\n",
      "\u001b[1;32m[INFO]    ::\u001b[0m \u001b[1;34mmetadata.py 1130 match_to_science()\u001b[0m -   Found 1 arc frame for c17_60L. (1 required)\n",
      "\u001b[1;32m[INFO]    ::\u001b[0m \u001b[1;34mmetadata.py 1130 match_to_science()\u001b[0m -   Found 3 trace frame for c17_60L. (0 required)\n",
      "\u001b[1;32m[INFO]    ::\u001b[0m \u001b[1;34mmetadata.py 1130 match_to_science()\u001b[0m -   Found 0 standard frame for c17_60L. (0 required)\n",
      "\u001b[1;32m[INFO]    ::\u001b[0m \u001b[1;34mmetadata.py 1130 match_to_science()\u001b[0m -   Found 3 pixelflat frame for c17_60L. (0 required)\n",
      "\u001b[1;32m[INFO]    ::\u001b[0m \u001b[1;34mmetadata.py 1130 match_to_science()\u001b[0m -   Found 10 bias frame for c17_60L. (0 required)\n",
      "\u001b[1;32m[INFO]    ::\u001b[0m \u001b[1;34mmetadata.py 1114 match_to_science()\u001b[0m - No matching criteria for pinhole frames\n",
      "\u001b[1;32m[INFO]    ::\u001b[0m \u001b[1;34mmetadata.py 1130 match_to_science()\u001b[0m -   Found 0 pinhole frame for c17_60L. (0 required)\n",
      "\u001b[1;32m[INFO]    ::\u001b[0m \u001b[1;34mmetadata.py 1088 match_to_science()\u001b[0m -   Dark frames not required.  Not matching...\n",
      "\u001b[1;32m[INFO]    ::\u001b[0m \u001b[1;34mmetadata.py 1073 match_to_science()\u001b[0m - ==================================================\n",
      "\u001b[1;32m[INFO]    ::\u001b[0m \u001b[1;34mmetadata.py 1074 match_to_science()\u001b[0m - Matching calibrations to frame: c17_60L.\n",
      "\u001b[1;32m[INFO]    ::\u001b[0m \u001b[1;34mmetadata.py 1130 match_to_science()\u001b[0m -   Found 1 arc frame for c17_60L. (1 required)\n",
      "\u001b[1;32m[INFO]    ::\u001b[0m \u001b[1;34mmetadata.py 1130 match_to_science()\u001b[0m -   Found 3 trace frame for c17_60L. (0 required)\n",
      "\u001b[1;32m[INFO]    ::\u001b[0m \u001b[1;34mmetadata.py 1130 match_to_science()\u001b[0m -   Found 0 standard frame for c17_60L. (0 required)\n",
      "\u001b[1;32m[INFO]    ::\u001b[0m \u001b[1;34mmetadata.py 1130 match_to_science()\u001b[0m -   Found 3 pixelflat frame for c17_60L. (0 required)\n",
      "\u001b[1;32m[INFO]    ::\u001b[0m \u001b[1;34mmetadata.py 1130 match_to_science()\u001b[0m -   Found 10 bias frame for c17_60L. (0 required)\n",
      "\u001b[1;32m[INFO]    ::\u001b[0m \u001b[1;34mmetadata.py 1114 match_to_science()\u001b[0m - No matching criteria for pinhole frames\n",
      "\u001b[1;32m[INFO]    ::\u001b[0m \u001b[1;34mmetadata.py 1130 match_to_science()\u001b[0m -   Found 0 pinhole frame for c17_60L. (0 required)\n",
      "\u001b[1;32m[INFO]    ::\u001b[0m \u001b[1;34mmetadata.py 1088 match_to_science()\u001b[0m -   Dark frames not required.  Not matching...\n",
      "\u001b[1;32m[INFO]    ::\u001b[0m \u001b[1;34mmetadata.py 1073 match_to_science()\u001b[0m - ==================================================\n",
      "\u001b[1;32m[INFO]    ::\u001b[0m \u001b[1;34mmetadata.py 1074 match_to_science()\u001b[0m - Matching calibrations to frame: c17_60L.\n",
      "\u001b[1;32m[INFO]    ::\u001b[0m \u001b[1;34mmetadata.py 1130 match_to_science()\u001b[0m -   Found 1 arc frame for c17_60L. (1 required)\n",
      "\u001b[1;32m[INFO]    ::\u001b[0m \u001b[1;34mmetadata.py 1130 match_to_science()\u001b[0m -   Found 3 trace frame for c17_60L. (0 required)\n",
      "\u001b[1;32m[INFO]    ::\u001b[0m \u001b[1;34mmetadata.py 1130 match_to_science()\u001b[0m -   Found 0 standard frame for c17_60L. (0 required)\n",
      "\u001b[1;32m[INFO]    ::\u001b[0m \u001b[1;34mmetadata.py 1130 match_to_science()\u001b[0m -   Found 3 pixelflat frame for c17_60L. (0 required)\n",
      "\u001b[1;32m[INFO]    ::\u001b[0m \u001b[1;34mmetadata.py 1130 match_to_science()\u001b[0m -   Found 10 bias frame for c17_60L. (0 required)\n",
      "\u001b[1;32m[INFO]    ::\u001b[0m \u001b[1;34mmetadata.py 1114 match_to_science()\u001b[0m - No matching criteria for pinhole frames\n",
      "\u001b[1;32m[INFO]    ::\u001b[0m \u001b[1;34mmetadata.py 1130 match_to_science()\u001b[0m -   Found 0 pinhole frame for c17_60L. (0 required)\n",
      "\u001b[1;32m[INFO]    ::\u001b[0m \u001b[1;34mmetadata.py 1088 match_to_science()\u001b[0m -   Dark frames not required.  Not matching...\n",
      "\u001b[1;32m[INFO]    ::\u001b[0m \u001b[1;34mmetadata.py 1153 match_to_science()\u001b[0m - Science frames successfully matched to calibration frames.\n"
     ]
    }
   ],
   "source": [
    "fitstbl.match_to_science(fitstbl.par['calibrations'], fitstbl.par['rdx']['calwin'], fitstbl.par['fluxcalib'], setup=True)"
   ]
  },
  {
   "cell_type": "markdown",
   "metadata": {},
   "source": [
    "The following is just a check to compare what one would get using the calib group to assign the science ID.  In the test cases with a single configuration the two are identical."
   ]
  },
  {
   "cell_type": "code",
   "execution_count": 11,
   "metadata": {},
   "outputs": [],
   "source": [
    "fitstbl.calib_to_science()"
   ]
  },
  {
   "cell_type": "code",
   "execution_count": 12,
   "metadata": {},
   "outputs": [
    {
     "data": {
      "text/html": [
       "<i>PypeItMetaData: spectrograph=keck_lris_red, length=27\n",
       "</i>\n",
       "<table id=\"table4731093344\">\n",
       "<thead><tr><th>index</th><th>directory</th><th>filename</th><th>instrume</th><th>idname</th><th>time</th><th>utc</th><th>ut</th><th>ra</th><th>dec</th><th>airmass</th><th>binning</th><th>decker</th><th>dichroic</th><th>target</th><th>exptime</th><th>hatch</th><th>dispname</th><th>dispangle</th><th>wavecen</th><th>spectrograph</th><th>lampstat01</th><th>lampstat02</th><th>lampstat03</th><th>lampstat04</th><th>lampstat05</th><th>lampstat06</th><th>lampstat07</th><th>lampstat08</th><th>lampstat09</th><th>lampstat10</th><th>lampstat11</th><th>lampstat12</th><th>filter1</th><th>NAXIS01</th><th>CCDGEOM</th><th>CCDNAME01</th><th>NAXIS02</th><th>NAXIS03</th><th>CCDNAME02</th><th>NAXIS04</th><th>index_bg</th><th>frametype</th><th>framebit</th><th>configuration</th><th>calib</th><th>calibbit</th><th>failures</th><th>sci_ID</th></tr></thead>\n",
       "<thead><tr><th>int64</th><th>str97</th><th>str20</th><th>str13</th><th>str4</th><th>float64</th><th>str11</th><th>str4</th><th>str11</th><th>str11</th><th>float64</th><th>str3</th><th>str8</th><th>str3</th><th>str8</th><th>int64</th><th>str6</th><th>str8</th><th>float64</th><th>float64</th><th>str4</th><th>str3</th><th>str3</th><th>str3</th><th>str3</th><th>str3</th><th>str3</th><th>str3</th><th>str3</th><th>str3</th><th>str3</th><th>str3</th><th>str3</th><th>str5</th><th>int64</th><th>str27</th><th>str4</th><th>int64</th><th>int64</th><th>str4</th><th>int64</th><th>object</th><th>str15</th><th>int16</th><th>str4</th><th>str4</th><th>int64</th><th>bool</th><th>int64</th></tr></thead>\n",
       "<tr><td>0</td><td>/Users/westfall/Work/packages/PypeIt-development-suite/RAW_DATA/Keck_LRIS_red/multi_400_8500_d560</td><td>r170320_2017.fits.gz</td><td>keck_lris_red</td><td>dark</td><td>57832.040239</td><td>00:57:56.64</td><td>None</td><td>15:20:00.00</td><td>+00:00:00.0</td><td>13.37481353</td><td>2,2</td><td>c17_60L.</td><td>560</td><td>unknown</td><td>1</td><td>closed</td><td>400/8500</td><td>22.13431168</td><td>6429.00585938</td><td>LRIS</td><td>on</td><td>on</td><td>on</td><td>on</td><td>on</td><td>on</td><td>on</td><td>off</td><td>off</td><td>off</td><td>off</td><td>off</td><td>Clear</td><td>2</td><td>LBNL Thick High-Resistivity</td><td>19-3</td><td>2</td><td>2</td><td>19-2</td><td>2</td><td>None</td><td>arc</td><td>1</td><td>A</td><td>0</td><td>1</td><td>False</td><td>8191</td></tr>\n",
       "<tr><td>1</td><td>/Users/westfall/Work/packages/PypeIt-development-suite/RAW_DATA/Keck_LRIS_red/multi_400_8500_d560</td><td>r170320_2057.fits.gz</td><td>keck_lris_red</td><td>dark</td><td>57832.09924</td><td>02:22:54.30</td><td>None</td><td>15:20:00.00</td><td>+45:00:00.0</td><td>1.41309236</td><td>2,2</td><td>c17_60L.</td><td>560</td><td>unknown</td><td>7</td><td>open</td><td>400/8500</td><td>22.13544083</td><td>6429.89794922</td><td>LRIS</td><td>off</td><td>off</td><td>off</td><td>off</td><td>off</td><td>off</td><td>off</td><td>off</td><td>off</td><td>on</td><td>on</td><td>off</td><td>Clear</td><td>2</td><td>LBNL Thick High-Resistivity</td><td>19-3</td><td>2</td><td>2</td><td>19-2</td><td>2</td><td>None</td><td>trace,pixelflat</td><td>144</td><td>A</td><td>0</td><td>1</td><td>False</td><td>8191</td></tr>\n",
       "<tr><td>2</td><td>/Users/westfall/Work/packages/PypeIt-development-suite/RAW_DATA/Keck_LRIS_red/multi_400_8500_d560</td><td>r170320_2058.fits.gz</td><td>keck_lris_red</td><td>dark</td><td>57832.099994</td><td>02:23:58.90</td><td>None</td><td>15:20:00.00</td><td>+45:00:00.0</td><td>1.41309236</td><td>2,2</td><td>c17_60L.</td><td>560</td><td>unknown</td><td>7</td><td>open</td><td>400/8500</td><td>22.13544083</td><td>6429.89794922</td><td>LRIS</td><td>off</td><td>off</td><td>off</td><td>off</td><td>off</td><td>off</td><td>off</td><td>off</td><td>off</td><td>on</td><td>on</td><td>off</td><td>Clear</td><td>2</td><td>LBNL Thick High-Resistivity</td><td>19-3</td><td>2</td><td>2</td><td>19-2</td><td>2</td><td>None</td><td>trace,pixelflat</td><td>144</td><td>A</td><td>0</td><td>1</td><td>False</td><td>8191</td></tr>\n",
       "<tr><td>3</td><td>/Users/westfall/Work/packages/PypeIt-development-suite/RAW_DATA/Keck_LRIS_red/multi_400_8500_d560</td><td>r170320_2059.fits.gz</td><td>keck_lris_red</td><td>dark</td><td>57832.100729</td><td>02:25:03.00</td><td>None</td><td>15:20:00.00</td><td>+45:00:00.0</td><td>1.41309236</td><td>2,2</td><td>c17_60L.</td><td>560</td><td>unknown</td><td>7</td><td>open</td><td>400/8500</td><td>22.13544083</td><td>6429.89794922</td><td>LRIS</td><td>off</td><td>off</td><td>off</td><td>off</td><td>off</td><td>off</td><td>off</td><td>off</td><td>off</td><td>on</td><td>on</td><td>off</td><td>Clear</td><td>2</td><td>LBNL Thick High-Resistivity</td><td>19-3</td><td>2</td><td>2</td><td>19-2</td><td>2</td><td>None</td><td>trace,pixelflat</td><td>144</td><td>A</td><td>0</td><td>1</td><td>False</td><td>8191</td></tr>\n",
       "<tr><td>4</td><td>/Users/westfall/Work/packages/PypeIt-development-suite/RAW_DATA/Keck_LRIS_red/multi_400_8500_d560</td><td>r170320_2067.fits.gz</td><td>keck_lris_red</td><td>dark</td><td>57832.134889</td><td>03:14:14.36</td><td>None</td><td>15:20:00.00</td><td>+45:00:00.0</td><td>1.41309236</td><td>2,2</td><td>sp15l.fi</td><td>560</td><td>unknown</td><td>0</td><td>closed</td><td>400/8500</td><td>22.13544083</td><td>6429.89794922</td><td>LRIS</td><td>off</td><td>off</td><td>off</td><td>off</td><td>off</td><td>off</td><td>off</td><td>off</td><td>off</td><td>off</td><td>off</td><td>off</td><td>Clear</td><td>2</td><td>LBNL Thick High-Resistivity</td><td>19-3</td><td>2</td><td>2</td><td>19-2</td><td>2</td><td>None</td><td>bias</td><td>2</td><td>None</td><td>0</td><td>1</td><td>False</td><td>8191</td></tr>\n",
       "<tr><td>5</td><td>/Users/westfall/Work/packages/PypeIt-development-suite/RAW_DATA/Keck_LRIS_red/multi_400_8500_d560</td><td>r170320_2068.fits.gz</td><td>keck_lris_red</td><td>dark</td><td>57832.135557</td><td>03:15:12.13</td><td>None</td><td>15:20:00.00</td><td>+45:00:00.0</td><td>1.41309236</td><td>2,2</td><td>sp15l.fi</td><td>560</td><td>unknown</td><td>0</td><td>closed</td><td>400/8500</td><td>22.13544083</td><td>6429.89794922</td><td>LRIS</td><td>off</td><td>off</td><td>off</td><td>off</td><td>off</td><td>off</td><td>off</td><td>off</td><td>off</td><td>off</td><td>off</td><td>off</td><td>Clear</td><td>2</td><td>LBNL Thick High-Resistivity</td><td>19-3</td><td>2</td><td>2</td><td>19-2</td><td>2</td><td>None</td><td>bias</td><td>2</td><td>None</td><td>0</td><td>1</td><td>False</td><td>8191</td></tr>\n",
       "<tr><td>6</td><td>/Users/westfall/Work/packages/PypeIt-development-suite/RAW_DATA/Keck_LRIS_red/multi_400_8500_d560</td><td>r170320_2069.fits.gz</td><td>keck_lris_red</td><td>dark</td><td>57832.136243</td><td>03:16:11.43</td><td>None</td><td>15:20:00.00</td><td>+45:00:00.0</td><td>1.41309236</td><td>2,2</td><td>sp15l.fi</td><td>560</td><td>unknown</td><td>0</td><td>closed</td><td>400/8500</td><td>22.13544083</td><td>6429.89794922</td><td>LRIS</td><td>off</td><td>off</td><td>off</td><td>off</td><td>off</td><td>off</td><td>off</td><td>off</td><td>off</td><td>off</td><td>off</td><td>off</td><td>Clear</td><td>2</td><td>LBNL Thick High-Resistivity</td><td>19-3</td><td>2</td><td>2</td><td>19-2</td><td>2</td><td>None</td><td>bias</td><td>2</td><td>None</td><td>0</td><td>1</td><td>False</td><td>8191</td></tr>\n",
       "<tr><td>7</td><td>/Users/westfall/Work/packages/PypeIt-development-suite/RAW_DATA/Keck_LRIS_red/multi_400_8500_d560</td><td>r170320_2070.fits.gz</td><td>keck_lris_red</td><td>dark</td><td>57832.136922</td><td>03:17:10.02</td><td>None</td><td>15:20:00.00</td><td>+45:00:00.0</td><td>1.41309236</td><td>2,2</td><td>sp15l.fi</td><td>560</td><td>unknown</td><td>0</td><td>closed</td><td>400/8500</td><td>22.13544083</td><td>6429.89794922</td><td>LRIS</td><td>off</td><td>off</td><td>off</td><td>off</td><td>off</td><td>off</td><td>off</td><td>off</td><td>off</td><td>off</td><td>off</td><td>off</td><td>Clear</td><td>2</td><td>LBNL Thick High-Resistivity</td><td>19-3</td><td>2</td><td>2</td><td>19-2</td><td>2</td><td>None</td><td>bias</td><td>2</td><td>None</td><td>0</td><td>1</td><td>False</td><td>8191</td></tr>\n",
       "<tr><td>8</td><td>/Users/westfall/Work/packages/PypeIt-development-suite/RAW_DATA/Keck_LRIS_red/multi_400_8500_d560</td><td>r170320_2071.fits.gz</td><td>keck_lris_red</td><td>dark</td><td>57832.137598</td><td>03:18:08.42</td><td>None</td><td>15:20:00.00</td><td>+45:00:00.0</td><td>1.41309236</td><td>2,2</td><td>sp15l.fi</td><td>560</td><td>unknown</td><td>0</td><td>closed</td><td>400/8500</td><td>22.13544083</td><td>6429.89794922</td><td>LRIS</td><td>off</td><td>off</td><td>off</td><td>off</td><td>off</td><td>off</td><td>off</td><td>off</td><td>off</td><td>off</td><td>off</td><td>off</td><td>Clear</td><td>2</td><td>LBNL Thick High-Resistivity</td><td>19-3</td><td>2</td><td>2</td><td>19-2</td><td>2</td><td>None</td><td>bias</td><td>2</td><td>None</td><td>0</td><td>1</td><td>False</td><td>8191</td></tr>\n",
       "<tr><td>9</td><td>/Users/westfall/Work/packages/PypeIt-development-suite/RAW_DATA/Keck_LRIS_red/multi_400_8500_d560</td><td>r170320_2072.fits.gz</td><td>keck_lris_red</td><td>dark</td><td>57832.138272</td><td>03:19:06.72</td><td>None</td><td>15:20:00.00</td><td>+45:00:00.0</td><td>1.41309236</td><td>2,2</td><td>sp15l.fi</td><td>560</td><td>unknown</td><td>0</td><td>closed</td><td>400/8500</td><td>22.13544083</td><td>6429.89794922</td><td>LRIS</td><td>off</td><td>off</td><td>off</td><td>off</td><td>off</td><td>off</td><td>off</td><td>off</td><td>off</td><td>off</td><td>off</td><td>off</td><td>Clear</td><td>2</td><td>LBNL Thick High-Resistivity</td><td>19-3</td><td>2</td><td>2</td><td>19-2</td><td>2</td><td>None</td><td>bias</td><td>2</td><td>None</td><td>0</td><td>1</td><td>False</td><td>8191</td></tr>\n",
       "<tr><td>...</td><td>...</td><td>...</td><td>...</td><td>...</td><td>...</td><td>...</td><td>...</td><td>...</td><td>...</td><td>...</td><td>...</td><td>...</td><td>...</td><td>...</td><td>...</td><td>...</td><td>...</td><td>...</td><td>...</td><td>...</td><td>...</td><td>...</td><td>...</td><td>...</td><td>...</td><td>...</td><td>...</td><td>...</td><td>...</td><td>...</td><td>...</td><td>...</td><td>...</td><td>...</td><td>...</td><td>...</td><td>...</td><td>...</td><td>...</td><td>...</td><td>...</td><td>...</td><td>...</td><td>...</td><td>...</td><td>...</td><td>...</td><td>...</td></tr>\n",
       "<tr><td>17</td><td>/Users/westfall/Work/packages/PypeIt-development-suite/RAW_DATA/Keck_LRIS_red/multi_400_8500_d560</td><td>r170320_2087.fits.gz</td><td>keck_lris_red</td><td>dark</td><td>57832.278244</td><td>06:40:40.23</td><td>None</td><td>10:01:24.75</td><td>+02:11:54.5</td><td>1.18364345</td><td>2,2</td><td>c17_60L.</td><td>560</td><td>c17_60L.</td><td>850</td><td>open</td><td>400/8500</td><td>22.13995552</td><td>6433.46679688</td><td>LRIS</td><td>off</td><td>off</td><td>off</td><td>off</td><td>off</td><td>off</td><td>off</td><td>off</td><td>off</td><td>off</td><td>off</td><td>off</td><td>Clear</td><td>2</td><td>LBNL Thick High-Resistivity</td><td>19-3</td><td>2</td><td>2</td><td>19-2</td><td>2</td><td>None</td><td>science</td><td>32</td><td>A</td><td>0</td><td>1</td><td>False</td><td>8</td></tr>\n",
       "<tr><td>18</td><td>/Users/westfall/Work/packages/PypeIt-development-suite/RAW_DATA/Keck_LRIS_red/multi_400_8500_d560</td><td>r170320_2088.fits.gz</td><td>keck_lris_red</td><td>dark</td><td>57832.288767</td><td>06:55:49.47</td><td>None</td><td>10:01:24.75</td><td>+02:11:54.5</td><td>1.14680535</td><td>2,2</td><td>c17_60L.</td><td>560</td><td>c17_60L.</td><td>850</td><td>open</td><td>400/8500</td><td>22.13995552</td><td>6433.46679688</td><td>LRIS</td><td>off</td><td>off</td><td>off</td><td>off</td><td>off</td><td>off</td><td>off</td><td>off</td><td>off</td><td>off</td><td>off</td><td>off</td><td>Clear</td><td>2</td><td>LBNL Thick High-Resistivity</td><td>19-3</td><td>2</td><td>2</td><td>19-2</td><td>2</td><td>None</td><td>science</td><td>32</td><td>A</td><td>0</td><td>1</td><td>False</td><td>16</td></tr>\n",
       "<tr><td>19</td><td>/Users/westfall/Work/packages/PypeIt-development-suite/RAW_DATA/Keck_LRIS_red/multi_400_8500_d560</td><td>r170320_2089.fits.gz</td><td>keck_lris_red</td><td>dark</td><td>57832.299291</td><td>07:10:58.76</td><td>None</td><td>10:01:24.75</td><td>+02:11:54.5</td><td>1.11694114</td><td>2,2</td><td>c17_60L.</td><td>560</td><td>c17_60L.</td><td>850</td><td>open</td><td>400/8500</td><td>22.13995552</td><td>6433.46679688</td><td>LRIS</td><td>off</td><td>off</td><td>off</td><td>off</td><td>off</td><td>off</td><td>off</td><td>off</td><td>off</td><td>off</td><td>off</td><td>off</td><td>Clear</td><td>2</td><td>LBNL Thick High-Resistivity</td><td>19-3</td><td>2</td><td>2</td><td>19-2</td><td>2</td><td>None</td><td>science</td><td>32</td><td>A</td><td>0</td><td>1</td><td>False</td><td>32</td></tr>\n",
       "<tr><td>20</td><td>/Users/westfall/Work/packages/PypeIt-development-suite/RAW_DATA/Keck_LRIS_red/multi_400_8500_d560</td><td>r170320_2090.fits.gz</td><td>keck_lris_red</td><td>dark</td><td>57832.309837</td><td>07:26:09.90</td><td>None</td><td>10:01:24.75</td><td>+02:11:54.5</td><td>1.09306113</td><td>2,2</td><td>c17_60L.</td><td>560</td><td>c17_60L.</td><td>850</td><td>open</td><td>400/8500</td><td>22.13995552</td><td>6433.46679688</td><td>LRIS</td><td>off</td><td>off</td><td>off</td><td>off</td><td>off</td><td>off</td><td>off</td><td>off</td><td>off</td><td>off</td><td>off</td><td>off</td><td>Clear</td><td>2</td><td>LBNL Thick High-Resistivity</td><td>19-3</td><td>2</td><td>2</td><td>19-2</td><td>2</td><td>None</td><td>science</td><td>32</td><td>A</td><td>0</td><td>1</td><td>False</td><td>64</td></tr>\n",
       "<tr><td>21</td><td>/Users/westfall/Work/packages/PypeIt-development-suite/RAW_DATA/Keck_LRIS_red/multi_400_8500_d560</td><td>r170320_2091.fits.gz</td><td>keck_lris_red</td><td>dark</td><td>57832.327258</td><td>07:51:15.05</td><td>None</td><td>10:01:24.04</td><td>+02:11:47.3</td><td>1.0656618</td><td>2,2</td><td>c17_60L.</td><td>560</td><td>c17_60L.</td><td>850</td><td>open</td><td>400/8500</td><td>22.13995552</td><td>6433.46679688</td><td>LRIS</td><td>off</td><td>off</td><td>off</td><td>off</td><td>off</td><td>off</td><td>off</td><td>off</td><td>off</td><td>off</td><td>off</td><td>off</td><td>Clear</td><td>2</td><td>LBNL Thick High-Resistivity</td><td>19-3</td><td>2</td><td>2</td><td>19-2</td><td>2</td><td>None</td><td>science</td><td>32</td><td>A</td><td>0</td><td>1</td><td>False</td><td>128</td></tr>\n",
       "<tr><td>22</td><td>/Users/westfall/Work/packages/PypeIt-development-suite/RAW_DATA/Keck_LRIS_red/multi_400_8500_d560</td><td>r170320_2092.fits.gz</td><td>keck_lris_red</td><td>dark</td><td>57832.337793</td><td>08:06:25.34</td><td>None</td><td>10:01:24.04</td><td>+02:11:47.3</td><td>1.05576494</td><td>2,2</td><td>c17_60L.</td><td>560</td><td>c17_60L.</td><td>850</td><td>open</td><td>400/8500</td><td>22.13995552</td><td>6433.46679688</td><td>LRIS</td><td>off</td><td>off</td><td>off</td><td>off</td><td>off</td><td>off</td><td>off</td><td>off</td><td>off</td><td>off</td><td>off</td><td>off</td><td>Clear</td><td>2</td><td>LBNL Thick High-Resistivity</td><td>19-3</td><td>2</td><td>2</td><td>19-2</td><td>2</td><td>None</td><td>science</td><td>32</td><td>A</td><td>0</td><td>1</td><td>False</td><td>256</td></tr>\n",
       "<tr><td>23</td><td>/Users/westfall/Work/packages/PypeIt-development-suite/RAW_DATA/Keck_LRIS_red/multi_400_8500_d560</td><td>r170320_2093.fits.gz</td><td>keck_lris_red</td><td>dark</td><td>57832.348305</td><td>08:21:33.58</td><td>None</td><td>10:01:24.04</td><td>+02:11:47.3</td><td>1.05050164</td><td>2,2</td><td>c17_60L.</td><td>560</td><td>c17_60L.</td><td>850</td><td>open</td><td>400/8500</td><td>22.13995552</td><td>6433.46679688</td><td>LRIS</td><td>off</td><td>off</td><td>off</td><td>off</td><td>off</td><td>off</td><td>off</td><td>off</td><td>off</td><td>off</td><td>off</td><td>off</td><td>Clear</td><td>2</td><td>LBNL Thick High-Resistivity</td><td>19-3</td><td>2</td><td>2</td><td>19-2</td><td>2</td><td>None</td><td>science</td><td>32</td><td>A</td><td>0</td><td>1</td><td>False</td><td>512</td></tr>\n",
       "<tr><td>24</td><td>/Users/westfall/Work/packages/PypeIt-development-suite/RAW_DATA/Keck_LRIS_red/multi_400_8500_d560</td><td>r170320_2094.fits.gz</td><td>keck_lris_red</td><td>dark</td><td>57832.358847</td><td>08:36:44.37</td><td>None</td><td>10:01:24.04</td><td>+02:11:47.3</td><td>1.04977619</td><td>2,2</td><td>c17_60L.</td><td>560</td><td>c17_60L.</td><td>850</td><td>open</td><td>400/8500</td><td>22.13995552</td><td>6433.46679688</td><td>LRIS</td><td>off</td><td>off</td><td>off</td><td>off</td><td>off</td><td>off</td><td>off</td><td>off</td><td>off</td><td>off</td><td>off</td><td>off</td><td>Clear</td><td>2</td><td>LBNL Thick High-Resistivity</td><td>19-3</td><td>2</td><td>2</td><td>19-2</td><td>2</td><td>None</td><td>science</td><td>32</td><td>A</td><td>0</td><td>1</td><td>False</td><td>1024</td></tr>\n",
       "<tr><td>25</td><td>/Users/westfall/Work/packages/PypeIt-development-suite/RAW_DATA/Keck_LRIS_red/multi_400_8500_d560</td><td>r170320_2095.fits.gz</td><td>keck_lris_red</td><td>dark</td><td>57832.369384</td><td>08:51:54.80</td><td>None</td><td>10:01:24.04</td><td>+02:11:47.3</td><td>1.05367221</td><td>2,2</td><td>c17_60L.</td><td>560</td><td>c17_60L.</td><td>880</td><td>open</td><td>400/8500</td><td>22.13995552</td><td>6433.46679688</td><td>LRIS</td><td>off</td><td>off</td><td>off</td><td>off</td><td>off</td><td>off</td><td>off</td><td>off</td><td>off</td><td>off</td><td>off</td><td>off</td><td>Clear</td><td>2</td><td>LBNL Thick High-Resistivity</td><td>19-3</td><td>2</td><td>2</td><td>19-2</td><td>2</td><td>None</td><td>science</td><td>32</td><td>A</td><td>0</td><td>1</td><td>False</td><td>2048</td></tr>\n",
       "<tr><td>26</td><td>/Users/westfall/Work/packages/PypeIt-development-suite/RAW_DATA/Keck_LRIS_red/multi_400_8500_d560</td><td>r170320_2096.fits.gz</td><td>keck_lris_red</td><td>dark</td><td>57832.380259</td><td>09:07:34.39</td><td>None</td><td>10:01:24.04</td><td>+02:11:47.3</td><td>1.06245922</td><td>2,2</td><td>c17_60L.</td><td>560</td><td>c17_60L.</td><td>880</td><td>open</td><td>400/8500</td><td>22.13995552</td><td>6433.46679688</td><td>LRIS</td><td>off</td><td>off</td><td>off</td><td>off</td><td>off</td><td>off</td><td>off</td><td>off</td><td>off</td><td>off</td><td>off</td><td>off</td><td>Clear</td><td>2</td><td>LBNL Thick High-Resistivity</td><td>19-3</td><td>2</td><td>2</td><td>19-2</td><td>2</td><td>None</td><td>science</td><td>32</td><td>A</td><td>0</td><td>1</td><td>False</td><td>4096</td></tr>\n",
       "</table>"
      ],
      "text/plain": [
       "<PypeItMetaData:\n",
       "               spectrograph=keck_lris_red\n",
       "               length=27\n",
       ">\n",
       "index ... sci_ID\n",
       "int64 ... int64 \n",
       "----- ... ------\n",
       "    0 ...   8191\n",
       "    1 ...   8191\n",
       "    2 ...   8191\n",
       "    3 ...   8191\n",
       "    4 ...   8191\n",
       "    5 ...   8191\n",
       "    6 ...   8191\n",
       "    7 ...   8191\n",
       "    8 ...   8191\n",
       "    9 ...   8191\n",
       "  ... ...    ...\n",
       "   17 ...      8\n",
       "   18 ...     16\n",
       "   19 ...     32\n",
       "   20 ...     64\n",
       "   21 ...    128\n",
       "   22 ...    256\n",
       "   23 ...    512\n",
       "   24 ...   1024\n",
       "   25 ...   2048\n",
       "   26 ...   4096"
      ]
     },
     "execution_count": 12,
     "metadata": {},
     "output_type": "execute_result"
    }
   ],
   "source": [
    "fitstbl"
   ]
  }
 ],
 "metadata": {
  "kernelspec": {
   "display_name": "Python 3",
   "language": "python",
   "name": "python3"
  },
  "language_info": {
   "codemirror_mode": {
    "name": "ipython",
    "version": 3
   },
   "file_extension": ".py",
   "mimetype": "text/x-python",
   "name": "python",
   "nbconvert_exporter": "python",
   "pygments_lexer": "ipython3",
   "version": "3.6.2"
  }
 },
 "nbformat": 4,
 "nbformat_minor": 2
}
