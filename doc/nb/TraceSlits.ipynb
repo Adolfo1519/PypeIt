{
 "cells": [
  {
   "cell_type": "markdown",
   "metadata": {},
   "source": [
    "# Fussing with Slit Tracing [v1]"
   ]
  },
  {
   "cell_type": "code",
   "execution_count": 1,
   "metadata": {
    "collapsed": true
   },
   "outputs": [],
   "source": [
    "# imports\n",
    "import os\n",
    "\n",
    "from pypit import traceslits"
   ]
  },
  {
   "cell_type": "markdown",
   "metadata": {},
   "source": [
    "## To run this Notebook, you must have an environmental variable pointed at the PYPIT Development suite\n",
    "\n",
    "### And you will need to have downloaded and unpacked the 'Cooked' set of files"
   ]
  },
  {
   "cell_type": "code",
   "execution_count": 2,
   "metadata": {},
   "outputs": [
    {
     "name": "stdout",
     "output_type": "stream",
     "text": [
      "/home/xavier/local/Python/PYPIT-development-suite/\n"
     ]
    }
   ],
   "source": [
    "print(os.getenv('PYPIT_DEV'))"
   ]
  },
  {
   "cell_type": "markdown",
   "metadata": {},
   "source": [
    "----"
   ]
  },
  {
   "cell_type": "markdown",
   "metadata": {
    "collapsed": true
   },
   "source": [
    "## Checking edges"
   ]
  },
  {
   "cell_type": "markdown",
   "metadata": {},
   "source": [
    "### Launch an RC Ginga viewer in your terminal\n",
    "    ginga --modules=RC"
   ]
  },
  {
   "cell_type": "markdown",
   "metadata": {},
   "source": [
    "### Point at a PYPIT MasterTrace frame"
   ]
  },
  {
   "cell_type": "code",
   "execution_count": 3,
   "metadata": {
    "collapsed": true
   },
   "outputs": [],
   "source": [
    "mstrace_root = os.getenv('PYPIT_DEV')+'Cooked/Trace/MasterTrace_KeckLRISr_150420_402'"
   ]
  },
  {
   "cell_type": "markdown",
   "metadata": {},
   "source": [
    "### PYPYIT Script\n",
    "    pypit_chk_edges $PYPIT_DEV/Cooked/Trace/MasterTrace_KeckLRISr_150420_402\n",
    "    \n",
    "#### The image and the traces should show in the Ginga viewer"
   ]
  },
  {
   "cell_type": "markdown",
   "metadata": {},
   "source": [
    "### Using the TraceSlits class"
   ]
  },
  {
   "cell_type": "markdown",
   "metadata": {},
   "source": [
    "#### Load"
   ]
  },
  {
   "cell_type": "code",
   "execution_count": 4,
   "metadata": {},
   "outputs": [
    {
     "name": "stderr",
     "output_type": "stream",
     "text": [
      "\u001b[1;32m[INFO]    ::\u001b[0m \u001b[1;34mtraceslits.py 211 from_master_files()\u001b[0m - Loading BPM from /home/xavier/local/Python/PYPIT-development-suite/Cooked/Trace/MasterTrace_KeckLRISr_150420_402.fits\n",
      "\u001b[1;32m[INFO]    ::\u001b[0m \u001b[1;34mtraceslits.py 225 from_master_files()\u001b[0m - Loading LCEN, RCEN from /home/xavier/local/Python/PYPIT-development-suite/Cooked/Trace/MasterTrace_KeckLRISr_150420_402.fits\n",
      "\u001b[1;32m[INFO]    ::\u001b[0m \u001b[1;34mtraceslits.py 228 from_master_files()\u001b[0m - Loading EDGEARR from /home/xavier/local/Python/PYPIT-development-suite/Cooked/Trace/MasterTrace_KeckLRISr_150420_402.fits\n",
      "\u001b[1;32m[INFO]    ::\u001b[0m \u001b[1;34mtraceslits.py 231 from_master_files()\u001b[0m - Loading SIGLEV from /home/xavier/local/Python/PYPIT-development-suite/Cooked/Trace/MasterTrace_KeckLRISr_150420_402.fits\n"
     ]
    }
   ],
   "source": [
    "Tslits = traceslits.TraceSlits.from_master_files(mstrace_root)"
   ]
  },
  {
   "cell_type": "markdown",
   "metadata": {},
   "source": [
    "#### Show"
   ]
  },
  {
   "cell_type": "code",
   "execution_count": 5,
   "metadata": {},
   "outputs": [],
   "source": [
    "Tslits.show('edges')"
   ]
  },
  {
   "cell_type": "markdown",
   "metadata": {},
   "source": [
    "----"
   ]
  },
  {
   "cell_type": "markdown",
   "metadata": {},
   "source": [
    "## Add a Slit\n",
    "    There will be cases when one needs to manually add a slit\n",
    "    This frame is missing a slit due to 2 alignment star boxes\n",
    "    Here are ways to add one"
   ]
  },
  {
   "cell_type": "markdown",
   "metadata": {},
   "source": [
    "### Internal (with the TraceSlits class)"
   ]
  },
  {
   "cell_type": "code",
   "execution_count": 6,
   "metadata": {
    "collapsed": true
   },
   "outputs": [],
   "source": [
    "#  left edge, right edge, row on image\n",
    "add_user_slits = [[489,563,1024]]"
   ]
  },
  {
   "cell_type": "code",
   "execution_count": 7,
   "metadata": {},
   "outputs": [
    {
     "name": "stderr",
     "output_type": "stream",
     "text": [
      "\u001b[1;32m[INFO]    ::\u001b[0m \u001b[1;34martraceslits.py 75 add_user_edges()\u001b[0m - Adding a user-defined slit [x0, x1, yrow]:  [489, 563, 1024]\n",
      "\u001b[1;32m[INFO]    ::\u001b[0m \u001b[1;34martraceslits.py 1326 fit_edges()\u001b[0m - Fitting left slit traces\n",
      "\u001b[1;32m[INFO]    ::\u001b[0m \u001b[1;34martraceslits.py 1328 fit_edges()\u001b[0m - Fitting right slit traces\n",
      "\u001b[1;32m[INFO]    ::\u001b[0m \u001b[1;34mtraceslits.py 754 _synchronize()\u001b[0m - Synchronizing left and right slit traces\n",
      "\u001b[1;32m[INFO]    ::\u001b[0m \u001b[1;34martraceslits.py 2437 synchronize_edges()\u001b[0m - Relabelling slit edges\n",
      "\u001b[1;30m[WORK IN ]::\u001b[0m\n",
      "\u001b[1;33m[PROGRESS]::\u001b[0m \u001b[1;34martraceslits.py 2032 pca_pixel_slit_edges()\u001b[0m - May need to do a check here to make sure ofit is reasonable\n",
      "\u001b[1;32m[INFO]    ::\u001b[0m \u001b[1;34martraceslits.py 2038 pca_pixel_slit_edges()\u001b[0m - Performing a PCA on the slit traces\n",
      "               Reduced chi-squared = 2.054164E-03\n",
      "\u001b[1;31m[WARNING] ::\u001b[0m \u001b[1;34martraceslits.py 2046 pca_pixel_slit_edges()\u001b[0m - NEED TO REMOVE SLF FROM THE NEXT BIT\n"
     ]
    }
   ],
   "source": [
    "# run_to_finish resets things in a proper manner\n",
    "Tslits.add_user_slits(add_user_slits, run_to_finish=True)"
   ]
  },
  {
   "cell_type": "code",
   "execution_count": 8,
   "metadata": {
    "collapsed": true
   },
   "outputs": [],
   "source": [
    "# check -- S11 is the new one\n",
    "Tslits.show('edges')"
   ]
  },
  {
   "cell_type": "code",
   "execution_count": 9,
   "metadata": {},
   "outputs": [
    {
     "name": "stderr",
     "output_type": "stream",
     "text": [
      "\u001b[1;32m[INFO]    ::\u001b[0m \u001b[1;34mtraceslits.py 868 save_master()\u001b[0m - Writing TraceSlit arrays to MasterTrace_KeckLRISr_150420_402_new.fits\n",
      "\u001b[1;32m[INFO]    ::\u001b[0m \u001b[1;34mtraceslits.py 880 save_master()\u001b[0m - Writing TraceSlit dict to MasterTrace_KeckLRISr_150420_402_new.json\n"
     ]
    }
   ],
   "source": [
    "# write to disk (this will over-write so be careful)\n",
    "new_root = os.path.basename(mstrace_root)+'_new'\n",
    "Tslits.save_master(new_root)"
   ]
  },
  {
   "cell_type": "markdown",
   "metadata": {},
   "source": [
    "### PYPIT script (coming someday, especially if requested)"
   ]
  },
  {
   "cell_type": "markdown",
   "metadata": {},
   "source": [
    "----"
   ]
  },
  {
   "cell_type": "markdown",
   "metadata": {},
   "source": [
    "## Remove a slit\n",
    "    There are edge cases (e.g. ghost images) that lead to erroneous slits\n",
    "    Here is a way to remove one"
   ]
  },
  {
   "cell_type": "markdown",
   "metadata": {},
   "source": [
    "### Internal"
   ]
  },
  {
   "cell_type": "code",
   "execution_count": 10,
   "metadata": {
    "collapsed": true
   },
   "outputs": [],
   "source": [
    "# Frame with extra slit\n",
    "mstrace_root2 = os.getenv('PYPIT_DEV')+'Cooked/Trace/MasterTrace_KeckLRISr_20160110_A'"
   ]
  },
  {
   "cell_type": "code",
   "execution_count": 11,
   "metadata": {},
   "outputs": [
    {
     "name": "stderr",
     "output_type": "stream",
     "text": [
      "\u001b[1;32m[INFO]    ::\u001b[0m \u001b[1;34mtraceslits.py 211 from_master_files()\u001b[0m - Loading BPM from /home/xavier/local/Python/PYPIT-development-suite/Cooked/Trace/MasterTrace_KeckLRISr_20160110_A.fits\n",
      "\u001b[1;32m[INFO]    ::\u001b[0m \u001b[1;34mtraceslits.py 225 from_master_files()\u001b[0m - Loading LCEN, RCEN from /home/xavier/local/Python/PYPIT-development-suite/Cooked/Trace/MasterTrace_KeckLRISr_20160110_A.fits\n",
      "\u001b[1;32m[INFO]    ::\u001b[0m \u001b[1;34mtraceslits.py 228 from_master_files()\u001b[0m - Loading EDGEARR from /home/xavier/local/Python/PYPIT-development-suite/Cooked/Trace/MasterTrace_KeckLRISr_20160110_A.fits\n",
      "\u001b[1;32m[INFO]    ::\u001b[0m \u001b[1;34mtraceslits.py 231 from_master_files()\u001b[0m - Loading SIGLEV from /home/xavier/local/Python/PYPIT-development-suite/Cooked/Trace/MasterTrace_KeckLRISr_20160110_A.fits\n"
     ]
    }
   ],
   "source": [
    "# Load\n",
    "Tslits2 = traceslits.TraceSlits.from_master_files(mstrace_root2)"
   ]
  },
  {
   "cell_type": "code",
   "execution_count": 12,
   "metadata": {
    "collapsed": true
   },
   "outputs": [],
   "source": [
    "# Show\n",
    "Tslits2.show('edges')"
   ]
  },
  {
   "cell_type": "code",
   "execution_count": 13,
   "metadata": {
    "collapsed": true
   },
   "outputs": [],
   "source": [
    "# Setup slit to remove --  xleft, yleft at yrow=nrow/2\n",
    "rm_slits = [[229, 380]]"
   ]
  },
  {
   "cell_type": "code",
   "execution_count": 14,
   "metadata": {},
   "outputs": [
    {
     "name": "stderr",
     "output_type": "stream",
     "text": [
      "\u001b[1;32m[INFO]    ::\u001b[0m \u001b[1;34martraceslits.py 2327 remove_slit()\u001b[0m - Removed the slit at [left,right]: [229, 380]\n"
     ]
    }
   ],
   "source": [
    "# Remove\n",
    "Tslits2.remove_slit(rm_slits)"
   ]
  },
  {
   "cell_type": "code",
   "execution_count": 15,
   "metadata": {
    "collapsed": true
   },
   "outputs": [],
   "source": [
    "# Check\n",
    "Tslits2.show('edges')"
   ]
  },
  {
   "cell_type": "code",
   "execution_count": 16,
   "metadata": {},
   "outputs": [
    {
     "name": "stderr",
     "output_type": "stream",
     "text": [
      "\u001b[1;32m[INFO]    ::\u001b[0m \u001b[1;34mtraceslits.py 868 save_master()\u001b[0m - Writing TraceSlit arrays to MasterTrace_KeckLRISr_20160110_A_new.fits\n",
      "\u001b[1;32m[INFO]    ::\u001b[0m \u001b[1;34mtraceslits.py 880 save_master()\u001b[0m - Writing TraceSlit dict to MasterTrace_KeckLRISr_20160110_A_new.json\n"
     ]
    }
   ],
   "source": [
    "# write to disk (this will over-write so be careful)\n",
    "new_root2 = os.path.basename(mstrace_root2)+'_new'\n",
    "Tslits.save_master(new_root2)"
   ]
  },
  {
   "cell_type": "markdown",
   "metadata": {},
   "source": [
    "----"
   ]
  },
  {
   "cell_type": "markdown",
   "metadata": {},
   "source": [
    "## Re-run Tracing (only recommended for Developers)"
   ]
  },
  {
   "cell_type": "code",
   "execution_count": 17,
   "metadata": {
    "collapsed": true
   },
   "outputs": [],
   "source": [
    "mstrace_root3 = os.getenv('PYPIT_DEV')+'Cooked/Trace/MasterTrace_KeckLRISr_20160110_A'"
   ]
  },
  {
   "cell_type": "markdown",
   "metadata": {},
   "source": [
    "### Load"
   ]
  },
  {
   "cell_type": "code",
   "execution_count": 18,
   "metadata": {},
   "outputs": [
    {
     "name": "stderr",
     "output_type": "stream",
     "text": [
      "\u001b[1;32m[INFO]    ::\u001b[0m \u001b[1;34mtraceslits.py 211 from_master_files()\u001b[0m - Loading BPM from /home/xavier/local/Python/PYPIT-development-suite/Cooked/Trace/MasterTrace_KeckLRISr_20160110_A.fits\n",
      "\u001b[1;32m[INFO]    ::\u001b[0m \u001b[1;34mtraceslits.py 225 from_master_files()\u001b[0m - Loading LCEN, RCEN from /home/xavier/local/Python/PYPIT-development-suite/Cooked/Trace/MasterTrace_KeckLRISr_20160110_A.fits\n",
      "\u001b[1;32m[INFO]    ::\u001b[0m \u001b[1;34mtraceslits.py 228 from_master_files()\u001b[0m - Loading EDGEARR from /home/xavier/local/Python/PYPIT-development-suite/Cooked/Trace/MasterTrace_KeckLRISr_20160110_A.fits\n",
      "\u001b[1;32m[INFO]    ::\u001b[0m \u001b[1;34mtraceslits.py 231 from_master_files()\u001b[0m - Loading SIGLEV from /home/xavier/local/Python/PYPIT-development-suite/Cooked/Trace/MasterTrace_KeckLRISr_20160110_A.fits\n"
     ]
    }
   ],
   "source": [
    "Tslits2 = traceslits.TraceSlits.from_master_files(mstrace_root3)"
   ]
  },
  {
   "cell_type": "markdown",
   "metadata": {},
   "source": [
    "### Run"
   ]
  },
  {
   "cell_type": "code",
   "execution_count": 20,
   "metadata": {},
   "outputs": [
    {
     "name": "stderr",
     "output_type": "stream",
     "text": [
      "\u001b[1;32m[INFO]    ::\u001b[0m \u001b[1;34martraceslits.py 823 edgearr_from_binarr()\u001b[0m - Detecting slit edges in the mstrace image\n",
      "\u001b[1;32m[INFO]    ::\u001b[0m \u001b[1;34martraceslits.py 885 edgearr_from_binarr()\u001b[0m - Applying bad pixel mask\n",
      "\u001b[1;32m[INFO]    ::\u001b[0m \u001b[1;34martraceslits.py 943 edgearr_add_left_right()\u001b[0m - 9 left edges and 8 right edges were found in the trace\n",
      "\u001b[1;32m[INFO]    ::\u001b[0m \u001b[1;34martraceslits.py 969 edgearr_add_left_right()\u001b[0m - Assigning slit edge traces\n",
      "\u001b[1;32m[INFO]    ::\u001b[0m \u001b[1;34mtraceslits.py 357 _assign_edges()\u001b[0m - Assigning left slit edges\n",
      "             Outer left edge loop, Iteration 1\n",
      "               Inner loop, Iteration 1, 9 left edges assigned (9 total)\n",
      "             Outer left edge loop, Iteration 2\n",
      "               Inner loop, Iteration 1, 9 left edges assigned (9 total)\n",
      "\u001b[1;32m[INFO]    ::\u001b[0m \u001b[1;34mtraceslits.py 363 _assign_edges()\u001b[0m - Assigning right slit edges\n",
      "             Outer right edge loop, Iteration 1\n",
      "               Inner loop, Iteration 1, 8 right edges assigned (8 total)\n",
      "             Outer right edge loop, Iteration 2\n",
      "               Inner loop, Iteration 1, 8 right edges assigned (8 total)\n",
      "\u001b[1;32m[INFO]    ::\u001b[0m \u001b[1;34martraceslits.py 1157 edgearr_final_left_right()\u001b[0m - 9 left edges and 8 right edges were found in the trace\n",
      "\u001b[1;31m[WARNING] ::\u001b[0m \u001b[1;34martraceslits.py 487 edgearr_mslit_sync()\u001b[0m - Missing a right edge for slit with left edge at 230\n",
      "\u001b[1;31m[WARNING] ::\u001b[0m \u001b[1;34martraceslits.py 488 edgearr_mslit_sync()\u001b[0m - Adding in a corresponding right edge!\n",
      "\u001b[1;32m[INFO]    ::\u001b[0m \u001b[1;34martraceslits.py 1326 fit_edges()\u001b[0m - Fitting left slit traces\n",
      "\u001b[1;32m[INFO]    ::\u001b[0m \u001b[1;34martraceslits.py 1328 fit_edges()\u001b[0m - Fitting right slit traces\n",
      "\u001b[1;32m[INFO]    ::\u001b[0m \u001b[1;34mtraceslits.py 754 _synchronize()\u001b[0m - Synchronizing left and right slit traces\n",
      "\u001b[1;32m[INFO]    ::\u001b[0m \u001b[1;34martraceslits.py 2437 synchronize_edges()\u001b[0m - Relabelling slit edges\n",
      "\u001b[1;30m[WORK IN ]::\u001b[0m\n",
      "\u001b[1;33m[PROGRESS]::\u001b[0m \u001b[1;34martraceslits.py 2032 pca_pixel_slit_edges()\u001b[0m - May need to do a check here to make sure ofit is reasonable\n",
      "\u001b[1;32m[INFO]    ::\u001b[0m \u001b[1;34martraceslits.py 2038 pca_pixel_slit_edges()\u001b[0m - Performing a PCA on the slit traces\n",
      "               Reduced chi-squared = 1.814747E-03\n",
      "\u001b[1;31m[WARNING] ::\u001b[0m \u001b[1;34martraceslits.py 2046 pca_pixel_slit_edges()\u001b[0m - NEED TO REMOVE SLF FROM THE NEXT BIT\n",
      "\u001b[1;32m[INFO]    ::\u001b[0m \u001b[1;34mtraceslits.py 514 _make_pixel_arrays()\u001b[0m - Converting physical trace locations to nearest pixel\n",
      "\u001b[1;32m[INFO]    ::\u001b[0m \u001b[1;34mtraceslits.py 521 _make_pixel_arrays()\u001b[0m - Identifying the pixels belonging to each slit\n"
     ]
    }
   ],
   "source": [
    "tslit_dict = Tslits2.run()"
   ]
  },
  {
   "cell_type": "code",
   "execution_count": 21,
   "metadata": {},
   "outputs": [
    {
     "data": {
      "text/plain": [
       "{'extrapord': array([False, False, False, False, False, False, False, False, False], dtype=bool),\n",
       " 'lcen': array([[ 219.65151646,  378.56438471,  400.03711326, ...,  654.3503579 ,\n",
       "          707.50121495,  857.54186079],\n",
       "        [ 219.66734808,  378.57970859,  400.05227494, ...,  654.36182073,\n",
       "          707.51149474,  857.54805711],\n",
       "        [ 219.68316778,  378.59502018,  400.0674244 , ...,  654.37327436,\n",
       "          707.52176646,  857.55424954],\n",
       "        ..., \n",
       "        [ 221.77352661,  381.59317931,  403.16537471, ...,  658.30472585,\n",
       "          711.54155643,  861.66228681],\n",
       "        [ 221.75713188,  381.57952286,  403.15211845, ...,  658.29699773,\n",
       "          711.53515171,  861.65990945],\n",
       "        [ 221.74071754,  381.56585036,  403.13884663, ...,  658.28926004,\n",
       "          711.52873873,  861.6575276 ]]),\n",
       " 'lordpix': array([[219, 378, 400, ..., 654, 707, 857],\n",
       "        [219, 378, 400, ..., 654, 707, 857],\n",
       "        [219, 378, 400, ..., 654, 707, 857],\n",
       "        ..., \n",
       "        [221, 381, 403, ..., 658, 711, 861],\n",
       "        [221, 381, 403, ..., 658, 711, 861],\n",
       "        [221, 381, 403, ..., 658, 711, 861]]),\n",
       " 'pixcen': array([[295, 386, 466, ..., 679, 780, 938],\n",
       "        [295, 386, 466, ..., 679, 780, 938],\n",
       "        [295, 386, 466, ..., 679, 780, 938],\n",
       "        ..., \n",
       "        [298, 389, 469, ..., 683, 784, 942],\n",
       "        [298, 389, 469, ..., 683, 784, 942],\n",
       "        [298, 389, 469, ..., 683, 784, 942]]),\n",
       " 'pixwid': array([151,  15, 132,  41,  25,  38,  49, 144, 159]),\n",
       " 'rcen': array([[  371.69268072,   394.32894635,   532.73031947, ...,\n",
       "           704.32027333,   853.12805118,  1019.20157701],\n",
       "        [  371.70805373,   394.34414866,   532.74395331, ...,\n",
       "           704.33062385,   853.13440266,  1019.20218324],\n",
       "        [  371.72341444,   394.35933874,   532.75757601, ...,\n",
       "           704.34096625,   853.14075008,  1019.20279158],\n",
       "        ..., \n",
       "        [  374.68726726,   397.43395478,   536.37535645, ...,\n",
       "           708.35655382,   857.24965593,  1023.14450176],\n",
       "        [  374.67347941,   397.42060243,   536.3648216 , ...,\n",
       "           708.35007266,   857.24713608,  1023.14692131],\n",
       "        [  374.65967535,   397.40723439,   536.35427427, ...,\n",
       "           708.34358316,   857.24461161,  1023.14934053]]),\n",
       " 'rordpix': array([[ 371,  394,  532, ...,  704,  853, 1019],\n",
       "        [ 371,  394,  532, ...,  704,  853, 1019],\n",
       "        [ 371,  394,  532, ...,  704,  853, 1019],\n",
       "        ..., \n",
       "        [ 374,  397,  536, ...,  708,  857, 1023],\n",
       "        [ 374,  397,  536, ...,  708,  857, 1023],\n",
       "        [ 374,  397,  536, ...,  708,  857, 1023]]),\n",
       " 'slitpix': array([[ 0.,  0.,  0., ...,  0.,  0.,  0.],\n",
       "        [ 0.,  0.,  0., ...,  0.,  0.,  0.],\n",
       "        [ 0.,  0.,  0., ...,  0.,  0.,  0.],\n",
       "        ..., \n",
       "        [ 0.,  0.,  0., ...,  9.,  9.,  0.],\n",
       "        [ 0.,  0.,  0., ...,  9.,  9.,  0.],\n",
       "        [ 0.,  0.,  0., ...,  9.,  9.,  0.]])}"
      ]
     },
     "execution_count": 21,
     "metadata": {},
     "output_type": "execute_result"
    }
   ],
   "source": [
    "tslit_dict"
   ]
  },
  {
   "cell_type": "code",
   "execution_count": null,
   "metadata": {
    "collapsed": true
   },
   "outputs": [],
   "source": []
  }
 ],
 "metadata": {
  "kernelspec": {
   "display_name": "Python 3",
   "language": "python",
   "name": "python3"
  },
  "language_info": {
   "codemirror_mode": {
    "name": "ipython",
    "version": 3
   },
   "file_extension": ".py",
   "mimetype": "text/x-python",
   "name": "python",
   "nbconvert_exporter": "python",
   "pygments_lexer": "ipython3",
   "version": "3.6.3"
  }
 },
 "nbformat": 4,
 "nbformat_minor": 2
}
