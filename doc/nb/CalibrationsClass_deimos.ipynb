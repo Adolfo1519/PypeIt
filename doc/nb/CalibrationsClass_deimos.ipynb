{
 "cells": [
  {
   "cell_type": "markdown",
   "metadata": {},
   "source": [
    "# Usage and more of the Calibrations Class [v1.1]"
   ]
  },
  {
   "cell_type": "code",
   "execution_count": 1,
   "metadata": {},
   "outputs": [],
   "source": [
    "# imports\n",
    "import os\n",
    "import glob\n",
    "import numpy\n",
    "\n",
    "from matplotlib import pyplot\n",
    "\n",
    "from pypeit import calibrations\n",
    "from pypeit import pypeitsetup\n",
    "from pypeit.core import fsort\n",
    "from pypeit.core import pypsetup\n",
    "\n",
    "from pypeit.spectrographs import keck_deimos\n",
    "from pypeit.spectrographs.slitmask import SlitRegister"
   ]
  },
  {
   "cell_type": "code",
   "execution_count": 2,
   "metadata": {},
   "outputs": [
    {
     "data": {
      "text/plain": [
       "'/Users/westfall/Work/packages/PypeIt-development-suite'"
      ]
     },
     "execution_count": 2,
     "metadata": {},
     "output_type": "execute_result"
    }
   ],
   "source": [
    "os.environ['PYPEIT_DEV']"
   ]
  },
  {
   "cell_type": "markdown",
   "metadata": {},
   "source": [
    "## Setup"
   ]
  },
  {
   "cell_type": "code",
   "execution_count": 3,
   "metadata": {},
   "outputs": [],
   "source": [
    "#pypeit_file = os.path.join(os.environ['PYPEIT_DEV'], 'pypeit_files',\n",
    "#                           'keck_deimos_830g_m.pypeit')\n",
    "pypeit_file = os.path.join(os.environ['PYPEIT_DEV'], 'REDUX_OUT/Keck_DEIMOS/830G_M/',\n",
    "                           'keck_deimos_830g_m.pypeit')"
   ]
  },
  {
   "cell_type": "code",
   "execution_count": 4,
   "metadata": {},
   "outputs": [
    {
     "name": "stderr",
     "output_type": "stream",
     "text": [
      "\u001b[1;32m[INFO]    ::\u001b[0m \u001b[1;34mutil.py 431 parse_pypeit_file()\u001b[0m - Loading the reduction file\n",
      "\u001b[1;32m[INFO]    ::\u001b[0m \u001b[1;34mutil.py 456 parse_pypeit_file()\u001b[0m - Found 4 raw data frames\n",
      "\u001b[1;32m[INFO]    ::\u001b[0m \u001b[1;34mutil.py 468 parse_pypeit_file()\u001b[0m - Input file loaded successfully\n"
     ]
    }
   ],
   "source": [
    "setupc = pypeitsetup.PypeItSetup.from_pypeit_file(pypeit_file)"
   ]
  },
  {
   "cell_type": "code",
   "execution_count": 5,
   "metadata": {},
   "outputs": [
    {
     "name": "stderr",
     "output_type": "stream",
     "text": [
      "\u001b[1;31m[WARNING] ::\u001b[0m \u001b[1;34mload.py 102 load_headers()\u001b[0m - DICHNAME keyword not in header. Setting to None\n",
      "\u001b[1;32m[INFO]    ::\u001b[0m \u001b[1;34mload.py 139 load_headers()\u001b[0m - Successfully loaded headers for file:\n",
      "             /Users/westfall/Work/packages/PypeIt-development-suite/RAW_DATA//Keck_DEIMOS/830G_M/DE.20100913.56927.fits.gz\n",
      "\u001b[1;31m[WARNING] ::\u001b[0m \u001b[1;34mload.py 102 load_headers()\u001b[0m - DICHNAME keyword not in header. Setting to None\n",
      "\u001b[1;32m[INFO]    ::\u001b[0m \u001b[1;34mload.py 139 load_headers()\u001b[0m - Successfully loaded headers for file:\n",
      "             /Users/westfall/Work/packages/PypeIt-development-suite/RAW_DATA//Keck_DEIMOS/830G_M/DE.20100913.57161.fits.gz\n",
      "\u001b[1;31m[WARNING] ::\u001b[0m \u001b[1;34mload.py 102 load_headers()\u001b[0m - DICHNAME keyword not in header. Setting to None\n",
      "\u001b[1;32m[INFO]    ::\u001b[0m \u001b[1;34mload.py 139 load_headers()\u001b[0m - Successfully loaded headers for file:\n",
      "             /Users/westfall/Work/packages/PypeIt-development-suite/RAW_DATA//Keck_DEIMOS/830G_M/DE.20100913.57006.fits.gz\n",
      "\u001b[1;31m[WARNING] ::\u001b[0m \u001b[1;34mload.py 102 load_headers()\u001b[0m - DICHNAME keyword not in header. Setting to None\n",
      "\u001b[1;32m[INFO]    ::\u001b[0m \u001b[1;34mload.py 139 load_headers()\u001b[0m - Successfully loaded headers for file:\n",
      "             /Users/westfall/Work/packages/PypeIt-development-suite/RAW_DATA//Keck_DEIMOS/830G_M/DE.20100913.22358.fits.gz\n",
      "\u001b[1;32m[INFO]    ::\u001b[0m \u001b[1;34mload.py 142 load_headers()\u001b[0m - Checking spectrograph settings for required header information\n",
      "\u001b[1;32m[INFO]    ::\u001b[0m \u001b[1;34mload.py 153 load_headers()\u001b[0m - Headers loaded for 4 files successfully\n",
      "\u001b[1;32m[INFO]    ::\u001b[0m \u001b[1;34mfsort.py 103 type_data()\u001b[0m - Typing files\n",
      "\u001b[1;32m[INFO]    ::\u001b[0m \u001b[1;34mpypeitsetup.py 326 type_data()\u001b[0m - Adding file type information to the fitstbl\n",
      "\u001b[1;32m[INFO]    ::\u001b[0m \u001b[1;34mfsort.py 856 match_to_science()\u001b[0m - Matching calibrations to Science frames\n",
      "\u001b[1;32m[INFO]    ::\u001b[0m \u001b[1;34mfsort.py 864 match_to_science()\u001b[0m - =================================================\n",
      "\u001b[1;32m[INFO]    ::\u001b[0m \u001b[1;34mfsort.py 866 match_to_science()\u001b[0m - Matching calibrations to CFHQS1: DE.20100913.22358.fits.gz\n",
      "\u001b[1;32m[INFO]    ::\u001b[0m \u001b[1;34mfsort.py 920 match_to_science()\u001b[0m -   Found 1 arc frame for CFHQS1 (1 required)\n",
      "\u001b[1;32m[INFO]    ::\u001b[0m \u001b[1;34mfsort.py 920 match_to_science()\u001b[0m -   Found 0 bias frame for CFHQS1 (5 required)\n",
      "\u001b[1;31m[WARNING] ::\u001b[0m \u001b[1;34mfsort.py 985 match_warnings()\u001b[0m -   Only 0/5 bias frames for CFHQS1\n",
      "\u001b[1;32m[INFO]    ::\u001b[0m \u001b[1;34mfsort.py 879 match_to_science()\u001b[0m -   Dark frames not required.  Not matching..\n",
      "\u001b[1;32m[INFO]    ::\u001b[0m \u001b[1;34mfsort.py 897 match_to_science()\u001b[0m -    No pinhole frames are required.  Not matching..\n",
      "\u001b[1;32m[INFO]    ::\u001b[0m \u001b[1;34mfsort.py 920 match_to_science()\u001b[0m -   Found 2 pixelflat frame for CFHQS1 (2 required)\n",
      "\u001b[1;32m[INFO]    ::\u001b[0m \u001b[1;34mfsort.py 897 match_to_science()\u001b[0m -    No standard frames are required.  Not matching..\n",
      "\u001b[1;32m[INFO]    ::\u001b[0m \u001b[1;34mfsort.py 920 match_to_science()\u001b[0m -   Found 2 trace frame for CFHQS1 (2 required)\n",
      "\u001b[1;32m[INFO]    ::\u001b[0m \u001b[1;34mfsort.py 941 match_to_science()\u001b[0m - Science frames successfully matched to calibration frames\n"
     ]
    }
   ],
   "source": [
    "par, spec, fitstbl, setup_dict = setupc.run()"
   ]
  },
  {
   "cell_type": "code",
   "execution_count": 6,
   "metadata": {},
   "outputs": [
    {
     "name": "stderr",
     "output_type": "stream",
     "text": [
      "\u001b[1;32m[INFO]    ::\u001b[0m \u001b[1;34mfsort.py 1116 make_dirs()\u001b[0m - Creating Science directory\n",
      "\u001b[1;32m[INFO]    ::\u001b[0m \u001b[1;34mfsort.py 1119 make_dirs()\u001b[0m - The following directory already exists:\n",
      "             /Users/westfall/Work/packages/pypeit/doc/nb/Science\n",
      "\u001b[1;32m[INFO]    ::\u001b[0m \u001b[1;34mfsort.py 1139 make_dirs()\u001b[0m - Creating Object directories\n",
      "\u001b[1;32m[INFO]    ::\u001b[0m \u001b[1;34mfsort.py 1177 make_dirs()\u001b[0m - Creating Master Calibrations directory\n",
      "\u001b[1;32m[INFO]    ::\u001b[0m \u001b[1;34mfsort.py 1199 make_dirs()\u001b[0m - Creating QA directory\n",
      "\u001b[1;31m[WARNING] ::\u001b[0m \u001b[1;34mfsort.py 1202 make_dirs()\u001b[0m - Pre-existing QA plots will be overwritten\n"
     ]
    }
   ],
   "source": [
    "fsort.make_dirs(spec.spectrograph, par['calibrations']['caldir'], par['rdx']['scidir'],\n",
    "                par['rdx']['qadir'], overwrite=True)\n"
   ]
  },
  {
   "cell_type": "markdown",
   "metadata": {},
   "source": [
    "## Choose the detector, sci_ID"
   ]
  },
  {
   "cell_type": "code",
   "execution_count": 7,
   "metadata": {},
   "outputs": [
    {
     "data": {
      "text/plain": [
       "'A_01_aa'"
      ]
     },
     "execution_count": 7,
     "metadata": {},
     "output_type": "execute_result"
    }
   ],
   "source": [
    "det = 1\n",
    "sci_ID = 1\n",
    "setup = pypsetup.instr_setup(sci_ID, det, fitstbl, setup_dict,\n",
    "                             spec.detector[det-1]['numamplifiers'],\n",
    "                             must_exist=True)\n",
    "setup"
   ]
  },
  {
   "cell_type": "markdown",
   "metadata": {},
   "source": [
    "##  Calibrations"
   ]
  },
  {
   "cell_type": "markdown",
   "metadata": {},
   "source": [
    "## Instantiate"
   ]
  },
  {
   "cell_type": "code",
   "execution_count": 8,
   "metadata": {},
   "outputs": [],
   "source": [
    "caliBrate = calibrations.MultiSlitCalibrations(fitstbl, spectrograph=spec,\n",
    "                                               par=par['calibrations'],\n",
    "                                               save_masters=False, write_qa=False)"
   ]
  },
  {
   "cell_type": "code",
   "execution_count": 9,
   "metadata": {},
   "outputs": [],
   "source": [
    "# Setup for a specific science frame + detector\n",
    "caliBrate.reset(setup, det, sci_ID, par['calibrations'])"
   ]
  },
  {
   "cell_type": "markdown",
   "metadata": {},
   "source": [
    "## Do it"
   ]
  },
  {
   "cell_type": "code",
   "execution_count": 10,
   "metadata": {},
   "outputs": [
    {
     "name": "stderr",
     "output_type": "stream",
     "text": [
      "\u001b[1;32m[INFO]    ::\u001b[0m \u001b[1;34mkeck_deimos.py 797 read_deimos()\u001b[0m - Reading DEIMOS file: /Users/westfall/Work/packages/PypeIt-development-suite/RAW_DATA//Keck_DEIMOS/830G_M/DE.20100913.22358.fits.gz\n",
      "\u001b[1;32m[INFO]    ::\u001b[0m \u001b[1;34mkeck_deimos.py 797 read_deimos()\u001b[0m - Reading DEIMOS file: /Users/westfall/Work/packages/PypeIt-development-suite/RAW_DATA//Keck_DEIMOS/830G_M/DE.20100913.22358.fits.gz\n"
     ]
    }
   ],
   "source": [
    "_ = caliBrate.get_datasec_img()"
   ]
  },
  {
   "cell_type": "code",
   "execution_count": 11,
   "metadata": {},
   "outputs": [],
   "source": [
    "msbias = caliBrate.get_bias()"
   ]
  },
  {
   "cell_type": "code",
   "execution_count": 12,
   "metadata": {},
   "outputs": [
    {
     "name": "stderr",
     "output_type": "stream",
     "text": [
      "\u001b[1;32m[INFO]    ::\u001b[0m \u001b[1;34mcalibrations.py 195 get_arc()\u001b[0m - Preparing a master arc frame\n",
      "\u001b[1;32m[INFO]    ::\u001b[0m \u001b[1;34mkeck_deimos.py 797 read_deimos()\u001b[0m - Reading DEIMOS file: /Users/westfall/Work/packages/PypeIt-development-suite/RAW_DATA//Keck_DEIMOS/830G_M/DE.20100913.56927.fits.gz\n",
      "\u001b[1;32m[INFO]    ::\u001b[0m \u001b[1;34mkeck_deimos.py 797 read_deimos()\u001b[0m - Reading DEIMOS file: /Users/westfall/Work/packages/PypeIt-development-suite/RAW_DATA//Keck_DEIMOS/830G_M/DE.20100913.56927.fits.gz\n",
      "\u001b[1;32m[INFO]    ::\u001b[0m \u001b[1;34mkeck_deimos.py 797 read_deimos()\u001b[0m - Reading DEIMOS file: /Users/westfall/Work/packages/PypeIt-development-suite/RAW_DATA//Keck_DEIMOS/830G_M/DE.20100913.56927.fits.gz\n",
      "\u001b[1;32m[INFO]    ::\u001b[0m \u001b[1;34mkeck_deimos.py 797 read_deimos()\u001b[0m - Reading DEIMOS file: /Users/westfall/Work/packages/PypeIt-development-suite/RAW_DATA//Keck_DEIMOS/830G_M/DE.20100913.56927.fits.gz\n",
      "\u001b[1;32m[INFO]    ::\u001b[0m \u001b[1;34mprocessimages.py 279 bias_subtract()\u001b[0m - Bias subtracting your image(s)\n",
      "\u001b[1;32m[INFO]    ::\u001b[0m \u001b[1;34mprocessimages.py 289 bias_subtract()\u001b[0m - Using overscan to subtact\n"
     ]
    }
   ],
   "source": [
    "msarc = caliBrate.get_arc()"
   ]
  },
  {
   "cell_type": "code",
   "execution_count": 13,
   "metadata": {},
   "outputs": [
    {
     "name": "stderr",
     "output_type": "stream",
     "text": [
      "\u001b[1;32m[INFO]    ::\u001b[0m \u001b[1;34mkeck_deimos.py 797 read_deimos()\u001b[0m - Reading DEIMOS file: /Users/westfall/Work/packages/PypeIt-development-suite/RAW_DATA//Keck_DEIMOS/830G_M/DE.20100913.22358.fits.gz\n"
     ]
    }
   ],
   "source": [
    "msbpm = caliBrate.get_bpm()"
   ]
  },
  {
   "cell_type": "code",
   "execution_count": 14,
   "metadata": {},
   "outputs": [
    {
     "name": "stderr",
     "output_type": "stream",
     "text": [
      "\u001b[1;32m[INFO]    ::\u001b[0m \u001b[1;34mpixels.py 37 gen_pixloc()\u001b[0m - Deriving physical pixel locations on the detector\n",
      "\u001b[1;32m[INFO]    ::\u001b[0m \u001b[1;34mpixels.py 40 gen_pixloc()\u001b[0m - Pixel gap in the dispersion direction = 0.000\n",
      "\u001b[1;32m[INFO]    ::\u001b[0m \u001b[1;34mpixels.py 41 gen_pixloc()\u001b[0m - Pixel size in the dispersion direction = 1.000\n",
      "\u001b[1;32m[INFO]    ::\u001b[0m \u001b[1;34mpixels.py 44 gen_pixloc()\u001b[0m - Pixel gap in the spatial direction = 0.000\n",
      "\u001b[1;32m[INFO]    ::\u001b[0m \u001b[1;34mpixels.py 45 gen_pixloc()\u001b[0m - Pixel size in the spatial direction = 1.000\n",
      "\u001b[1;32m[INFO]    ::\u001b[0m \u001b[1;34mpixels.py 50 gen_pixloc()\u001b[0m - Saving pixel locations\n"
     ]
    }
   ],
   "source": [
    "pixlocn = caliBrate.get_pixlocn()"
   ]
  },
  {
   "cell_type": "code",
   "execution_count": 15,
   "metadata": {},
   "outputs": [
    {
     "name": "stderr",
     "output_type": "stream",
     "text": [
      "\u001b[1;32m[INFO]    ::\u001b[0m \u001b[1;34mkeck_deimos.py 797 read_deimos()\u001b[0m - Reading DEIMOS file: /Users/westfall/Work/packages/PypeIt-development-suite/RAW_DATA//Keck_DEIMOS/830G_M/DE.20100913.57006.fits.gz\n",
      "\u001b[1;32m[INFO]    ::\u001b[0m \u001b[1;34mkeck_deimos.py 797 read_deimos()\u001b[0m - Reading DEIMOS file: /Users/westfall/Work/packages/PypeIt-development-suite/RAW_DATA//Keck_DEIMOS/830G_M/DE.20100913.57161.fits.gz\n",
      "\u001b[1;32m[INFO]    ::\u001b[0m \u001b[1;34mkeck_deimos.py 797 read_deimos()\u001b[0m - Reading DEIMOS file: /Users/westfall/Work/packages/PypeIt-development-suite/RAW_DATA//Keck_DEIMOS/830G_M/DE.20100913.57006.fits.gz\n",
      "\u001b[1;32m[INFO]    ::\u001b[0m \u001b[1;34mkeck_deimos.py 797 read_deimos()\u001b[0m - Reading DEIMOS file: /Users/westfall/Work/packages/PypeIt-development-suite/RAW_DATA//Keck_DEIMOS/830G_M/DE.20100913.57006.fits.gz\n",
      "\u001b[1;32m[INFO]    ::\u001b[0m \u001b[1;34mkeck_deimos.py 797 read_deimos()\u001b[0m - Reading DEIMOS file: /Users/westfall/Work/packages/PypeIt-development-suite/RAW_DATA//Keck_DEIMOS/830G_M/DE.20100913.57006.fits.gz\n",
      "\u001b[1;32m[INFO]    ::\u001b[0m \u001b[1;34mprocessimages.py 279 bias_subtract()\u001b[0m - Bias subtracting your image(s)\n",
      "\u001b[1;32m[INFO]    ::\u001b[0m \u001b[1;34mprocessimages.py 289 bias_subtract()\u001b[0m - Using overscan to subtact\n",
      "\u001b[1;32m[INFO]    ::\u001b[0m \u001b[1;34mprocessimages.py 289 bias_subtract()\u001b[0m - Using overscan to subtact\n",
      "\u001b[1;32m[INFO]    ::\u001b[0m \u001b[1;34mcombine.py 62 comb_frames()\u001b[0m - Combining 2 trace_image frames\n",
      "\u001b[1;30m[WORK IN ]::\u001b[0m\n",
      "\u001b[1;33m[PROGRESS]::\u001b[0m \u001b[1;34mcombine.py 66 comb_frames()\u001b[0m - lscomb feature has not been included here yet...\n",
      "\u001b[1;32m[INFO]    ::\u001b[0m \u001b[1;34mcombine.py 95 comb_frames()\u001b[0m - Finding saturated and non-linear pixels\n",
      "\u001b[1;32m[INFO]    ::\u001b[0m \u001b[1;34mcombine.py 119 comb_frames()\u001b[0m - Rejecting cosmic rays\n",
      "\u001b[1;32m[INFO]    ::\u001b[0m \u001b[1;34mcombine.py 163 comb_frames()\u001b[0m - Not rejecting any low/high pixels\n",
      "\u001b[1;32m[INFO]    ::\u001b[0m \u001b[1;34mcombine.py 171 comb_frames()\u001b[0m - Rejecting deviant pixels\n",
      "\u001b[1;32m[INFO]    ::\u001b[0m \u001b[1;34mcombine.py 188 comb_frames()\u001b[0m - Combining frames with a weightmean operation\n",
      "\u001b[1;32m[INFO]    ::\u001b[0m \u001b[1;34mcombine.py 201 comb_frames()\u001b[0m - Replacing completely masked pixels with the maxnonsat value of the input frames\n",
      "\u001b[1;32m[INFO]    ::\u001b[0m \u001b[1;34mcombine.py 215 comb_frames()\u001b[0m - 2 trace_image frames combined successfully!\n",
      "\u001b[1;32m[INFO]    ::\u001b[0m \u001b[1;34mkeck_deimos.py 797 read_deimos()\u001b[0m - Reading DEIMOS file: /Users/westfall/Work/packages/PypeIt-development-suite/RAW_DATA//Keck_DEIMOS/830G_M/DE.20100913.57006.fits.gz\n",
      "\u001b[1;31m[WARNING] ::\u001b[0m \u001b[1;34mprocimg.py 456 gain_frame()\u001b[0m - Should probably be measuring the gain across the amplifier boundary\n",
      "\u001b[1;32m[INFO]    ::\u001b[0m \u001b[1;34mtrace_slits.py 813 edgearr_from_binarr()\u001b[0m - Detecting slit edges in the mstrace image\n",
      "\u001b[1;32m[INFO]    ::\u001b[0m \u001b[1;34mtrace_slits.py 874 edgearr_from_binarr()\u001b[0m - Applying bad pixel mask\n",
      "\u001b[1;32m[INFO]    ::\u001b[0m \u001b[1;34mtrace_slits.py 933 edgearr_add_left_right()\u001b[0m - 28 left edges and 26 right edges were found in the trace\n",
      "\u001b[1;32m[INFO]    ::\u001b[0m \u001b[1;34mtrace_slits.py 960 edgearr_add_left_right()\u001b[0m - Assigning slit edge traces\n",
      "\u001b[1;32m[INFO]    ::\u001b[0m \u001b[1;34mtraceslits.py 355 _assign_edges()\u001b[0m - Assigning left slit edges\n",
      "             \u001b[1;34mtrace_slits.py 160 assign_slits()\u001b[0m - Outer left edge loop, Iteration 1\n",
      "             \u001b[1;34mtrace_slits.py 298 assign_slits()\u001b[0m -   Inner loop, Iteration 1, 27 left edges assigned (27 total)\n",
      "             \u001b[1;34mtrace_slits.py 298 assign_slits()\u001b[0m -   Inner loop, Iteration 2, 1 left edges assigned (28 total)\n",
      "             \u001b[1;34mtrace_slits.py 160 assign_slits()\u001b[0m - Outer left edge loop, Iteration 2\n",
      "             \u001b[1;34mtrace_slits.py 298 assign_slits()\u001b[0m -   Inner loop, Iteration 1, 27 left edges assigned (27 total)\n",
      "             \u001b[1;34mtrace_slits.py 298 assign_slits()\u001b[0m -   Inner loop, Iteration 2, 1 left edges assigned (28 total)\n",
      "\u001b[1;32m[INFO]    ::\u001b[0m \u001b[1;34mtraceslits.py 363 _assign_edges()\u001b[0m - Assigning right slit edges\n",
      "             \u001b[1;34mtrace_slits.py 160 assign_slits()\u001b[0m - Outer right edge loop, Iteration 1\n",
      "             \u001b[1;34mtrace_slits.py 298 assign_slits()\u001b[0m -   Inner loop, Iteration 1, 26 right edges assigned (26 total)\n",
      "             \u001b[1;34mtrace_slits.py 160 assign_slits()\u001b[0m - Outer right edge loop, Iteration 2\n",
      "             \u001b[1;34mtrace_slits.py 298 assign_slits()\u001b[0m -   Inner loop, Iteration 1, 26 right edges assigned (26 total)\n",
      "\u001b[1;32m[INFO]    ::\u001b[0m \u001b[1;34mtrace_slits.py 1157 edgearr_final_left_right()\u001b[0m - 28 left edges and 26 right edges were found in the trace\n",
      "\u001b[1;32m[INFO]    ::\u001b[0m \u001b[1;34mtrace_slits.py 560 edgearr_tcrude()\u001b[0m - Crude tracing the edges\n",
      "\u001b[1;31m[WARNING] ::\u001b[0m \u001b[1;34mtrace_slits.py 652 edgearr_tcrude()\u001b[0m - Edge at x=2045, y=2096 traced less than 0.33 of the detector.  Removing\n",
      "\u001b[1;31m[WARNING] ::\u001b[0m \u001b[1;34mtrace_slits.py 615 edgearr_tcrude()\u001b[0m - Duplicate left edge at x=2045 and y=0.  Clipping..\n",
      "\u001b[1;31m[WARNING] ::\u001b[0m \u001b[1;34mtrace_slits.py 652 edgearr_tcrude()\u001b[0m - Edge at x=2034, y=0 traced less than 0.33 of the detector.  Removing\n",
      "\u001b[1;31m[WARNING] ::\u001b[0m \u001b[1;34mtrace_slits.py 652 edgearr_tcrude()\u001b[0m - Edge at x=1, y=1123 traced less than 0.33 of the detector.  Removing\n",
      "\u001b[1;32m[INFO]    ::\u001b[0m \u001b[1;34mtrace_slits.py 1309 fit_edges()\u001b[0m - Fitting left slit traces\n",
      "\u001b[1;32m[INFO]    ::\u001b[0m \u001b[1;34mtrace_slits.py 1311 fit_edges()\u001b[0m - Fitting right slit traces\n",
      "\u001b[1;32m[INFO]    ::\u001b[0m \u001b[1;34mtraceslits.py 779 _synchronize()\u001b[0m - Synchronizing left and right slit traces\n",
      "\u001b[1;32m[INFO]    ::\u001b[0m \u001b[1;34mtrace_slits.py 2438 synchronize_edges()\u001b[0m - Relabelling slit edges\n",
      "\u001b[1;30m[WORK IN ]::\u001b[0m\n",
      "\u001b[1;33m[PROGRESS]::\u001b[0m \u001b[1;34mtrace_slits.py 2080 pca_pixel_slit_edges()\u001b[0m - May need to do a check here to make sure ofit is reasonable\n",
      "\u001b[1;32m[INFO]    ::\u001b[0m \u001b[1;34mtrace_slits.py 2086 pca_pixel_slit_edges()\u001b[0m - Performing a PCA on the slit traces\n",
      "             \u001b[1;34mpca.py 96 basis()\u001b[0m -   Reduced chi-squared = 4.474636E-02\n",
      "\u001b[1;32m[INFO]    ::\u001b[0m \u001b[1;34mtraceslits.py 824 _trim_slits()\u001b[0m - Slit 9 is less than fracignore - ignoring this slit\n",
      "\u001b[1;32m[INFO]    ::\u001b[0m \u001b[1;34mtraceslits.py 824 _trim_slits()\u001b[0m - Slit 11 is less than fracignore - ignoring this slit\n",
      "\u001b[1;32m[INFO]    ::\u001b[0m \u001b[1;34mtraceslits.py 515 _make_pixel_arrays()\u001b[0m - Converting physical trace locations to nearest pixel\n",
      "\u001b[1;32m[INFO]    ::\u001b[0m \u001b[1;34mtraceslits.py 522 _make_pixel_arrays()\u001b[0m - Identifying the pixels belonging to each slit\n"
     ]
    }
   ],
   "source": [
    "tslits_dict, maskslits = caliBrate.get_slits(arms=True)"
   ]
  },
  {
   "cell_type": "code",
   "execution_count": 16,
   "metadata": {},
   "outputs": [],
   "source": [
    "caliBrate.traceSlits.show('edges')"
   ]
  },
  {
   "cell_type": "code",
   "execution_count": 17,
   "metadata": {},
   "outputs": [
    {
     "data": {
      "text/plain": [
       "<pypeit.spectrographs.keck_deimos.DEIMOSDetectorMap at 0x1076fd6a0>"
      ]
     },
     "execution_count": 17,
     "metadata": {},
     "output_type": "execute_result"
    }
   ],
   "source": [
    "trace_files = fsort.list_of_files(fitstbl, 'trace', sci_ID)\n",
    "spec.get_slitmask(trace_files[0])\n",
    "spec.get_detector_map()"
   ]
  },
  {
   "cell_type": "code",
   "execution_count": 18,
   "metadata": {},
   "outputs": [],
   "source": [
    "spec_i = 3900\n",
    "trace_slit_cen = (caliBrate.traceSlits.lcen[spec_i,:] + caliBrate.traceSlits.rcen[spec_i,:])/2\n",
    "offset = spec.detector_map.npix[0]/2-spec.detector_map.ccd_center[0,0]\n",
    "pix_per_mm = spec.telescope.platescale()/spec.detector[0]['platescale']\n",
    "register = SlitRegister(trace_slit_cen, spec.slitmask.center[:,0],\n",
    "                        guess_offset=offset, guess_scale=pix_per_mm,\n",
    "                        offset_limits=[offset-100,offset+100],\n",
    "                        scale_limits=[pix_per_mm/1.1, pix_per_mm*1.1],\n",
    "                        fit=True)"
   ]
  },
  {
   "cell_type": "code",
   "execution_count": 19,
   "metadata": {},
   "outputs": [
    {
     "name": "stdout",
     "output_type": "stream",
     "text": [
      "Found 3 missing slits: [103, 102, 71]\n"
     ]
    },
    {
     "data": {
      "image/png": "[encoded data removed]",
      "text/plain": [
       "<Figure size 432x288 with 1 Axes>"
      ]
     },
     "metadata": {},
     "output_type": "display_data"
    }
   ],
   "source": [
    "missing = register.missing_from_trace()\n",
    "mask_pix = register.mask_to_trace_coo()\n",
    "pyplot.scatter(trace_slit_cen, mask_pix[register.match_index], color='k', zorder=1,\n",
    "               label='Found')\n",
    "if len(missing) > 0:\n",
    "    print('Found {0} missing slits: {1}'.format(len(missing), missing))\n",
    "    pyplot.scatter(mask_pix[missing], mask_pix[missing], color='r', zorder=1,\n",
    "                   label='Missing')\n",
    "pyplot.xlabel('Trace X (pixel)')\n",
    "pyplot.ylabel('Best-Fit Mask X (pixel)')\n",
    "pyplot.legend()\n",
    "pyplot.show()"
   ]
  },
  {
   "cell_type": "code",
   "execution_count": 22,
   "metadata": {},
   "outputs": [
    {
     "data": {
      "text/plain": [
       "array([[ 800,  834, 3900],\n",
       "       [ 950,  984, 3900],\n",
       "       [1188, 1254, 3900]])"
      ]
     },
     "execution_count": 22,
     "metadata": {},
     "output_type": "execute_result"
    },
    {
     "data": {
      "image/png": "[encoded data removed]",
      "text/plain": [
       "<Figure size 432x288 with 1 Axes>"
      ]
     },
     "metadata": {},
     "output_type": "display_data"
    }
   ],
   "source": [
    "lr_offset = numpy.array([-0.5,0.5])[None,:]*spec.slitmask.length[missing][:,None]*register.par[1]\n",
    "new_slits = numpy.append(mask_pix[missing][:,None] + lr_offset,\n",
    "                         numpy.array([spec_i]*len(missing)).reshape(-1,1), axis=1).astype(int)\n",
    "new_slits = new_slits[numpy.argsort(new_slits[:,0]),:]\n",
    "pyplot.scatter(caliBrate.traceSlits.lcen[spec_i,:], caliBrate.traceSlits.rcen[spec_i,:],\n",
    "               color='k', marker='.', s=30, lw=0)\n",
    "pyplot.scatter(new_slits[:,0], new_slits[:,1],\n",
    "               color='r', marker='.', s=30, lw=0)\n",
    "new_slits"
   ]
  },
  {
   "cell_type": "code",
   "execution_count": 23,
   "metadata": {},
   "outputs": [
    {
     "name": "stderr",
     "output_type": "stream",
     "text": [
      "\u001b[1;32m[INFO]    ::\u001b[0m \u001b[1;34mtrace_slits.py 68 add_user_edges()\u001b[0m - Adding a user-defined slit [x0, x1, yrow]:  [ 800  834 3900]\n",
      "\u001b[1;32m[INFO]    ::\u001b[0m \u001b[1;34mtrace_slits.py 68 add_user_edges()\u001b[0m - Adding a user-defined slit [x0, x1, yrow]:  [ 950  984 3900]\n",
      "\u001b[1;32m[INFO]    ::\u001b[0m \u001b[1;34mtrace_slits.py 68 add_user_edges()\u001b[0m - Adding a user-defined slit [x0, x1, yrow]:  [1188 1254 3900]\n",
      "\u001b[1;32m[INFO]    ::\u001b[0m \u001b[1;34mtrace_slits.py 1309 fit_edges()\u001b[0m - Fitting left slit traces\n",
      "\u001b[1;32m[INFO]    ::\u001b[0m \u001b[1;34mtrace_slits.py 1311 fit_edges()\u001b[0m - Fitting right slit traces\n",
      "\u001b[1;32m[INFO]    ::\u001b[0m \u001b[1;34mtraceslits.py 779 _synchronize()\u001b[0m - Synchronizing left and right slit traces\n",
      "\u001b[1;32m[INFO]    ::\u001b[0m \u001b[1;34mtrace_slits.py 2438 synchronize_edges()\u001b[0m - Relabelling slit edges\n",
      "\u001b[1;30m[WORK IN ]::\u001b[0m\n",
      "\u001b[1;33m[PROGRESS]::\u001b[0m \u001b[1;34mtrace_slits.py 2080 pca_pixel_slit_edges()\u001b[0m - May need to do a check here to make sure ofit is reasonable\n",
      "\u001b[1;32m[INFO]    ::\u001b[0m \u001b[1;34mtrace_slits.py 2086 pca_pixel_slit_edges()\u001b[0m - Performing a PCA on the slit traces\n",
      "             \u001b[1;34mpca.py 96 basis()\u001b[0m -   Reduced chi-squared = 9.025751E-04\n"
     ]
    }
   ],
   "source": [
    "#caliBrate.traceSlits.add_user_slits([new_slits[0,:]], run_to_finish=True)\n",
    "caliBrate.traceSlits.add_user_slits(new_slits, run_to_finish=True)"
   ]
  },
  {
   "cell_type": "code",
   "execution_count": 24,
   "metadata": {},
   "outputs": [
    {
     "name": "stdout",
     "output_type": "stream",
     "text": [
      "fubar\n"
     ]
    }
   ],
   "source": [
    "caliBrate.traceSlits.show('edges')\n",
    "print('fubar')"
   ]
  },
  {
   "cell_type": "code",
   "execution_count": null,
   "metadata": {},
   "outputs": [],
   "source": []
  }
 ],
 "metadata": {
  "kernelspec": {
   "display_name": "Python 3",
   "language": "python",
   "name": "python3"
  },
  "language_info": {
   "codemirror_mode": {
    "name": "ipython",
    "version": 3
   },
   "file_extension": ".py",
   "mimetype": "text/x-python",
   "name": "python",
   "nbconvert_exporter": "python",
   "pygments_lexer": "ipython3",
   "version": "3.6.2"
  }
 },
 "nbformat": 4,
 "nbformat_minor": 2
}
