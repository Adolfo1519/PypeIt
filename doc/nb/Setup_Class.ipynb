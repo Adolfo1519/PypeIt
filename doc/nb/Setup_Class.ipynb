{
 "cells": [
  {
   "cell_type": "markdown",
   "metadata": {},
   "source": [
    "# Fun with the Setup Class [v1]"
   ]
  },
  {
   "cell_type": "code",
   "execution_count": 1,
   "metadata": {},
   "outputs": [],
   "source": [
    "# import\n",
    "from importlib import reload\n",
    "import glob\n",
    "import numpy as np\n",
    "\n",
    "from astropy.table import Table\n",
    "\n",
    "from pypit import setupclass"
   ]
  },
  {
   "cell_type": "markdown",
   "metadata": {},
   "source": [
    "## Kuldge for settings"
   ]
  },
  {
   "cell_type": "code",
   "execution_count": 2,
   "metadata": {},
   "outputs": [
    {
     "name": "stderr",
     "output_type": "stream",
     "text": [
      "\u001b[1;32m[INFO]    ::\u001b[0m \u001b[1;34marparse.py 75 load_file()\u001b[0m - Loading default settings\n",
      "\u001b[1;32m[INFO]    ::\u001b[0m \u001b[1;34marparse.py 87 load_file()\u001b[0m - Loading base settings from settings.baseargflag\n",
      "\u001b[1;32m[INFO]    ::\u001b[0m \u001b[1;34marparse.py 1393 run_ncpus()\u001b[0m - Setting 7 CPUs\n",
      "\u001b[1;32m[INFO]    ::\u001b[0m \u001b[1;34marparse.py 75 load_file()\u001b[0m - Loading default settings\n",
      "\u001b[1;32m[INFO]    ::\u001b[0m \u001b[1;34marparse.py 75 load_file()\u001b[0m - Loading default settings\n",
      "\u001b[1;32m[INFO]    ::\u001b[0m \u001b[1;34marparse.py 87 load_file()\u001b[0m - Loading base settings from settings.basespect\n",
      "\u001b[1;32m[INFO]    ::\u001b[0m \u001b[1;34marparse.py 75 load_file()\u001b[0m - Loading default settings\n",
      "\u001b[1;32m[INFO]    ::\u001b[0m \u001b[1;34marparse.py 75 load_file()\u001b[0m - Loading default settings\n",
      "\u001b[1;32m[INFO]    ::\u001b[0m \u001b[1;34marparse.py 87 load_file()\u001b[0m - Loading base settings from settings.basespect\n",
      "\u001b[1;32m[INFO]    ::\u001b[0m \u001b[1;34marparse.py 75 load_file()\u001b[0m - Loading default settings\n"
     ]
    }
   ],
   "source": [
    "from pypit import arparse as settings\n",
    "settings.dummy_settings()\n",
    "settings.argflag['run']['spectrograph'] = 'shane_kast_blue'\n",
    "settings.argflag['reduce']['masters']['setup'] = 'C_01_aa'\n",
    "#\n",
    "# Load default spectrograph settings\n",
    "spect = settings.get_spect_class(('ARMLSD', 'shane_kast_blue', 'pypit'))# '.'.join(redname.split('.')[:-1])))\n",
    "lines = spect.load_file(base=True)  # Base spectrograph settings\n",
    "spect.set_paramlist(lines)\n",
    "lines = spect.load_file()  # Instrument specific\n",
    "spect.set_paramlist(lines)"
   ]
  },
  {
   "cell_type": "markdown",
   "metadata": {},
   "source": [
    "## Build the fitsdict"
   ]
  },
  {
   "cell_type": "code",
   "execution_count": 3,
   "metadata": {},
   "outputs": [],
   "source": [
    "kast_blue_files = glob.glob('/home/xavier/local/Python/PYPIT-development-suite/RAW_DATA/Shane_Kast_blue/600_4310_d55/b*')"
   ]
  },
  {
   "cell_type": "code",
   "execution_count": 4,
   "metadata": {
    "collapsed": true
   },
   "outputs": [],
   "source": [
    "# Init\n",
    "reload(setupclass)\n",
    "setupc = setupclass.SetupClass(settings)"
   ]
  },
  {
   "cell_type": "code",
   "execution_count": 5,
   "metadata": {},
   "outputs": [
    {
     "name": "stderr",
     "output_type": "stream",
     "text": [
      "\u001b[1;31m[WARNING] ::\u001b[0m \u001b[1;34marload.py 133 load_headers()\u001b[0m - UTC is not listed as a header keyword in file:\n",
      "             /home/xavier/local/Python/PYPIT-development-suite/RAW_DATA/Shane_Kast_blue/600_4310_d55/b18.fits.gz\n",
      "\u001b[1;31m[WARNING] ::\u001b[0m \u001b[1;34marload.py 156 load_headers()\u001b[0m - BINNING keyword not in header. Setting to None\n",
      "\u001b[1;32m[INFO]    ::\u001b[0m \u001b[1;34marload.py 191 load_headers()\u001b[0m - Successfully loaded headers for file:\n",
      "             /home/xavier/local/Python/PYPIT-development-suite/RAW_DATA/Shane_Kast_blue/600_4310_d55/b18.fits.gz\n",
      "\u001b[1;31m[WARNING] ::\u001b[0m \u001b[1;34marload.py 133 load_headers()\u001b[0m - UTC is not listed as a header keyword in file:\n",
      "             /home/xavier/local/Python/PYPIT-development-suite/RAW_DATA/Shane_Kast_blue/600_4310_d55/b21.fits.gz\n",
      "\u001b[1;31m[WARNING] ::\u001b[0m \u001b[1;34marload.py 156 load_headers()\u001b[0m - BINNING keyword not in header. Setting to None\n",
      "\u001b[1;32m[INFO]    ::\u001b[0m \u001b[1;34marload.py 191 load_headers()\u001b[0m - Successfully loaded headers for file:\n",
      "             /home/xavier/local/Python/PYPIT-development-suite/RAW_DATA/Shane_Kast_blue/600_4310_d55/b21.fits.gz\n",
      "\u001b[1;31m[WARNING] ::\u001b[0m \u001b[1;34marload.py 133 load_headers()\u001b[0m - UTC is not listed as a header keyword in file:\n",
      "             /home/xavier/local/Python/PYPIT-development-suite/RAW_DATA/Shane_Kast_blue/600_4310_d55/b28.fits.gz\n",
      "\u001b[1;31m[WARNING] ::\u001b[0m \u001b[1;34marload.py 156 load_headers()\u001b[0m - BINNING keyword not in header. Setting to None\n",
      "\u001b[1;32m[INFO]    ::\u001b[0m \u001b[1;34marload.py 191 load_headers()\u001b[0m - Successfully loaded headers for file:\n",
      "             /home/xavier/local/Python/PYPIT-development-suite/RAW_DATA/Shane_Kast_blue/600_4310_d55/b28.fits.gz\n",
      "\u001b[1;31m[WARNING] ::\u001b[0m \u001b[1;34marload.py 133 load_headers()\u001b[0m - UTC is not listed as a header keyword in file:\n",
      "             /home/xavier/local/Python/PYPIT-development-suite/RAW_DATA/Shane_Kast_blue/600_4310_d55/b15.fits.gz\n",
      "\u001b[1;31m[WARNING] ::\u001b[0m \u001b[1;34marload.py 156 load_headers()\u001b[0m - BINNING keyword not in header. Setting to None\n",
      "\u001b[1;32m[INFO]    ::\u001b[0m \u001b[1;34marload.py 191 load_headers()\u001b[0m - Successfully loaded headers for file:\n",
      "             /home/xavier/local/Python/PYPIT-development-suite/RAW_DATA/Shane_Kast_blue/600_4310_d55/b15.fits.gz\n",
      "\u001b[1;31m[WARNING] ::\u001b[0m \u001b[1;34marload.py 133 load_headers()\u001b[0m - UTC is not listed as a header keyword in file:\n",
      "             /home/xavier/local/Python/PYPIT-development-suite/RAW_DATA/Shane_Kast_blue/600_4310_d55/b6.fits.gz\n",
      "\u001b[1;31m[WARNING] ::\u001b[0m \u001b[1;34marload.py 156 load_headers()\u001b[0m - BINNING keyword not in header. Setting to None\n",
      "\u001b[1;32m[INFO]    ::\u001b[0m \u001b[1;34marload.py 191 load_headers()\u001b[0m - Successfully loaded headers for file:\n",
      "             /home/xavier/local/Python/PYPIT-development-suite/RAW_DATA/Shane_Kast_blue/600_4310_d55/b6.fits.gz\n",
      "\u001b[1;31m[WARNING] ::\u001b[0m \u001b[1;34marload.py 133 load_headers()\u001b[0m - UTC is not listed as a header keyword in file:\n",
      "             /home/xavier/local/Python/PYPIT-development-suite/RAW_DATA/Shane_Kast_blue/600_4310_d55/b27.fits.gz\n",
      "\u001b[1;31m[WARNING] ::\u001b[0m \u001b[1;34marload.py 156 load_headers()\u001b[0m - BINNING keyword not in header. Setting to None\n",
      "\u001b[1;32m[INFO]    ::\u001b[0m \u001b[1;34marload.py 191 load_headers()\u001b[0m - Successfully loaded headers for file:\n",
      "             /home/xavier/local/Python/PYPIT-development-suite/RAW_DATA/Shane_Kast_blue/600_4310_d55/b27.fits.gz\n",
      "\u001b[1;31m[WARNING] ::\u001b[0m \u001b[1;34marload.py 133 load_headers()\u001b[0m - UTC is not listed as a header keyword in file:\n",
      "             /home/xavier/local/Python/PYPIT-development-suite/RAW_DATA/Shane_Kast_blue/600_4310_d55/b10.fits.gz\n",
      "\u001b[1;31m[WARNING] ::\u001b[0m \u001b[1;34marload.py 156 load_headers()\u001b[0m - BINNING keyword not in header. Setting to None\n",
      "\u001b[1;32m[INFO]    ::\u001b[0m \u001b[1;34marload.py 191 load_headers()\u001b[0m - Successfully loaded headers for file:\n",
      "             /home/xavier/local/Python/PYPIT-development-suite/RAW_DATA/Shane_Kast_blue/600_4310_d55/b10.fits.gz\n",
      "\u001b[1;31m[WARNING] ::\u001b[0m \u001b[1;34marload.py 133 load_headers()\u001b[0m - UTC is not listed as a header keyword in file:\n",
      "             /home/xavier/local/Python/PYPIT-development-suite/RAW_DATA/Shane_Kast_blue/600_4310_d55/b13.fits.gz\n",
      "\u001b[1;31m[WARNING] ::\u001b[0m \u001b[1;34marload.py 156 load_headers()\u001b[0m - BINNING keyword not in header. Setting to None\n",
      "\u001b[1;32m[INFO]    ::\u001b[0m \u001b[1;34marload.py 191 load_headers()\u001b[0m - Successfully loaded headers for file:\n",
      "             /home/xavier/local/Python/PYPIT-development-suite/RAW_DATA/Shane_Kast_blue/600_4310_d55/b13.fits.gz\n",
      "\u001b[1;31m[WARNING] ::\u001b[0m \u001b[1;34marload.py 133 load_headers()\u001b[0m - UTC is not listed as a header keyword in file:\n",
      "             /home/xavier/local/Python/PYPIT-development-suite/RAW_DATA/Shane_Kast_blue/600_4310_d55/b22.fits.gz\n",
      "\u001b[1;31m[WARNING] ::\u001b[0m \u001b[1;34marload.py 156 load_headers()\u001b[0m - BINNING keyword not in header. Setting to None\n",
      "\u001b[1;32m[INFO]    ::\u001b[0m \u001b[1;34marload.py 191 load_headers()\u001b[0m - Successfully loaded headers for file:\n",
      "             /home/xavier/local/Python/PYPIT-development-suite/RAW_DATA/Shane_Kast_blue/600_4310_d55/b22.fits.gz\n",
      "\u001b[1;31m[WARNING] ::\u001b[0m \u001b[1;34marload.py 133 load_headers()\u001b[0m - UTC is not listed as a header keyword in file:\n",
      "             /home/xavier/local/Python/PYPIT-development-suite/RAW_DATA/Shane_Kast_blue/600_4310_d55/b29.fits.gz\n",
      "\u001b[1;31m[WARNING] ::\u001b[0m \u001b[1;34marload.py 156 load_headers()\u001b[0m - BINNING keyword not in header. Setting to None\n",
      "\u001b[1;32m[INFO]    ::\u001b[0m \u001b[1;34marload.py 191 load_headers()\u001b[0m - Successfully loaded headers for file:\n",
      "             /home/xavier/local/Python/PYPIT-development-suite/RAW_DATA/Shane_Kast_blue/600_4310_d55/b29.fits.gz\n",
      "\u001b[1;31m[WARNING] ::\u001b[0m \u001b[1;34marload.py 133 load_headers()\u001b[0m - UTC is not listed as a header keyword in file:\n",
      "             /home/xavier/local/Python/PYPIT-development-suite/RAW_DATA/Shane_Kast_blue/600_4310_d55/b14.fits.gz\n",
      "\u001b[1;31m[WARNING] ::\u001b[0m \u001b[1;34marload.py 156 load_headers()\u001b[0m - BINNING keyword not in header. Setting to None\n",
      "\u001b[1;32m[INFO]    ::\u001b[0m \u001b[1;34marload.py 191 load_headers()\u001b[0m - Successfully loaded headers for file:\n",
      "             /home/xavier/local/Python/PYPIT-development-suite/RAW_DATA/Shane_Kast_blue/600_4310_d55/b14.fits.gz\n",
      "\u001b[1;31m[WARNING] ::\u001b[0m \u001b[1;34marload.py 133 load_headers()\u001b[0m - UTC is not listed as a header keyword in file:\n",
      "             /home/xavier/local/Python/PYPIT-development-suite/RAW_DATA/Shane_Kast_blue/600_4310_d55/b23.fits.gz\n",
      "\u001b[1;31m[WARNING] ::\u001b[0m \u001b[1;34marload.py 156 load_headers()\u001b[0m - BINNING keyword not in header. Setting to None\n",
      "\u001b[1;32m[INFO]    ::\u001b[0m \u001b[1;34marload.py 191 load_headers()\u001b[0m - Successfully loaded headers for file:\n",
      "             /home/xavier/local/Python/PYPIT-development-suite/RAW_DATA/Shane_Kast_blue/600_4310_d55/b23.fits.gz\n",
      "\u001b[1;31m[WARNING] ::\u001b[0m \u001b[1;34marload.py 133 load_headers()\u001b[0m - UTC is not listed as a header keyword in file:\n",
      "             /home/xavier/local/Python/PYPIT-development-suite/RAW_DATA/Shane_Kast_blue/600_4310_d55/b11.fits.gz\n",
      "\u001b[1;31m[WARNING] ::\u001b[0m \u001b[1;34marload.py 156 load_headers()\u001b[0m - BINNING keyword not in header. Setting to None\n",
      "\u001b[1;32m[INFO]    ::\u001b[0m \u001b[1;34marload.py 191 load_headers()\u001b[0m - Successfully loaded headers for file:\n",
      "             /home/xavier/local/Python/PYPIT-development-suite/RAW_DATA/Shane_Kast_blue/600_4310_d55/b11.fits.gz\n",
      "\u001b[1;31m[WARNING] ::\u001b[0m \u001b[1;34marload.py 133 load_headers()\u001b[0m - UTC is not listed as a header keyword in file:\n",
      "             /home/xavier/local/Python/PYPIT-development-suite/RAW_DATA/Shane_Kast_blue/600_4310_d55/b2.fits.gz\n",
      "\u001b[1;31m[WARNING] ::\u001b[0m \u001b[1;34marload.py 156 load_headers()\u001b[0m - BINNING keyword not in header. Setting to None\n",
      "\u001b[1;32m[INFO]    ::\u001b[0m \u001b[1;34marload.py 191 load_headers()\u001b[0m - Successfully loaded headers for file:\n",
      "             /home/xavier/local/Python/PYPIT-development-suite/RAW_DATA/Shane_Kast_blue/600_4310_d55/b2.fits.gz\n",
      "\u001b[1;31m[WARNING] ::\u001b[0m \u001b[1;34marload.py 133 load_headers()\u001b[0m - UTC is not listed as a header keyword in file:\n",
      "             /home/xavier/local/Python/PYPIT-development-suite/RAW_DATA/Shane_Kast_blue/600_4310_d55/b16.fits.gz\n",
      "\u001b[1;31m[WARNING] ::\u001b[0m \u001b[1;34marload.py 156 load_headers()\u001b[0m - BINNING keyword not in header. Setting to None\n",
      "\u001b[1;32m[INFO]    ::\u001b[0m \u001b[1;34marload.py 191 load_headers()\u001b[0m - Successfully loaded headers for file:\n",
      "             /home/xavier/local/Python/PYPIT-development-suite/RAW_DATA/Shane_Kast_blue/600_4310_d55/b16.fits.gz\n"
     ]
    },
    {
     "name": "stderr",
     "output_type": "stream",
     "text": [
      "\u001b[1;31m[WARNING] ::\u001b[0m \u001b[1;34marload.py 133 load_headers()\u001b[0m - UTC is not listed as a header keyword in file:\n",
      "             /home/xavier/local/Python/PYPIT-development-suite/RAW_DATA/Shane_Kast_blue/600_4310_d55/b4.fits.gz\n",
      "\u001b[1;31m[WARNING] ::\u001b[0m \u001b[1;34marload.py 156 load_headers()\u001b[0m - BINNING keyword not in header. Setting to None\n",
      "\u001b[1;32m[INFO]    ::\u001b[0m \u001b[1;34marload.py 191 load_headers()\u001b[0m - Successfully loaded headers for file:\n",
      "             /home/xavier/local/Python/PYPIT-development-suite/RAW_DATA/Shane_Kast_blue/600_4310_d55/b4.fits.gz\n",
      "\u001b[1;31m[WARNING] ::\u001b[0m \u001b[1;34marload.py 133 load_headers()\u001b[0m - UTC is not listed as a header keyword in file:\n",
      "             /home/xavier/local/Python/PYPIT-development-suite/RAW_DATA/Shane_Kast_blue/600_4310_d55/b7.fits.gz\n",
      "\u001b[1;31m[WARNING] ::\u001b[0m \u001b[1;34marload.py 156 load_headers()\u001b[0m - BINNING keyword not in header. Setting to None\n",
      "\u001b[1;32m[INFO]    ::\u001b[0m \u001b[1;34marload.py 191 load_headers()\u001b[0m - Successfully loaded headers for file:\n",
      "             /home/xavier/local/Python/PYPIT-development-suite/RAW_DATA/Shane_Kast_blue/600_4310_d55/b7.fits.gz\n",
      "\u001b[1;31m[WARNING] ::\u001b[0m \u001b[1;34marload.py 133 load_headers()\u001b[0m - UTC is not listed as a header keyword in file:\n",
      "             /home/xavier/local/Python/PYPIT-development-suite/RAW_DATA/Shane_Kast_blue/600_4310_d55/b1.fits.gz\n",
      "\u001b[1;31m[WARNING] ::\u001b[0m \u001b[1;34marload.py 156 load_headers()\u001b[0m - BINNING keyword not in header. Setting to None\n",
      "\u001b[1;32m[INFO]    ::\u001b[0m \u001b[1;34marload.py 191 load_headers()\u001b[0m - Successfully loaded headers for file:\n",
      "             /home/xavier/local/Python/PYPIT-development-suite/RAW_DATA/Shane_Kast_blue/600_4310_d55/b1.fits.gz\n",
      "\u001b[1;31m[WARNING] ::\u001b[0m \u001b[1;34marload.py 133 load_headers()\u001b[0m - UTC is not listed as a header keyword in file:\n",
      "             /home/xavier/local/Python/PYPIT-development-suite/RAW_DATA/Shane_Kast_blue/600_4310_d55/b3.fits.gz\n",
      "\u001b[1;31m[WARNING] ::\u001b[0m \u001b[1;34marload.py 156 load_headers()\u001b[0m - BINNING keyword not in header. Setting to None\n",
      "\u001b[1;32m[INFO]    ::\u001b[0m \u001b[1;34marload.py 191 load_headers()\u001b[0m - Successfully loaded headers for file:\n",
      "             /home/xavier/local/Python/PYPIT-development-suite/RAW_DATA/Shane_Kast_blue/600_4310_d55/b3.fits.gz\n",
      "\u001b[1;31m[WARNING] ::\u001b[0m \u001b[1;34marload.py 133 load_headers()\u001b[0m - UTC is not listed as a header keyword in file:\n",
      "             /home/xavier/local/Python/PYPIT-development-suite/RAW_DATA/Shane_Kast_blue/600_4310_d55/b12.fits.gz\n",
      "\u001b[1;31m[WARNING] ::\u001b[0m \u001b[1;34marload.py 156 load_headers()\u001b[0m - BINNING keyword not in header. Setting to None\n",
      "\u001b[1;32m[INFO]    ::\u001b[0m \u001b[1;34marload.py 191 load_headers()\u001b[0m - Successfully loaded headers for file:\n",
      "             /home/xavier/local/Python/PYPIT-development-suite/RAW_DATA/Shane_Kast_blue/600_4310_d55/b12.fits.gz\n",
      "\u001b[1;31m[WARNING] ::\u001b[0m \u001b[1;34marload.py 133 load_headers()\u001b[0m - UTC is not listed as a header keyword in file:\n",
      "             /home/xavier/local/Python/PYPIT-development-suite/RAW_DATA/Shane_Kast_blue/600_4310_d55/b24.fits.gz\n",
      "\u001b[1;31m[WARNING] ::\u001b[0m \u001b[1;34marload.py 156 load_headers()\u001b[0m - BINNING keyword not in header. Setting to None\n",
      "\u001b[1;32m[INFO]    ::\u001b[0m \u001b[1;34marload.py 191 load_headers()\u001b[0m - Successfully loaded headers for file:\n",
      "             /home/xavier/local/Python/PYPIT-development-suite/RAW_DATA/Shane_Kast_blue/600_4310_d55/b24.fits.gz\n",
      "\u001b[1;31m[WARNING] ::\u001b[0m \u001b[1;34marload.py 133 load_headers()\u001b[0m - UTC is not listed as a header keyword in file:\n",
      "             /home/xavier/local/Python/PYPIT-development-suite/RAW_DATA/Shane_Kast_blue/600_4310_d55/b17.fits.gz\n",
      "\u001b[1;31m[WARNING] ::\u001b[0m \u001b[1;34marload.py 156 load_headers()\u001b[0m - BINNING keyword not in header. Setting to None\n",
      "\u001b[1;32m[INFO]    ::\u001b[0m \u001b[1;34marload.py 191 load_headers()\u001b[0m - Successfully loaded headers for file:\n",
      "             /home/xavier/local/Python/PYPIT-development-suite/RAW_DATA/Shane_Kast_blue/600_4310_d55/b17.fits.gz\n",
      "\u001b[1;31m[WARNING] ::\u001b[0m \u001b[1;34marload.py 133 load_headers()\u001b[0m - UTC is not listed as a header keyword in file:\n",
      "             /home/xavier/local/Python/PYPIT-development-suite/RAW_DATA/Shane_Kast_blue/600_4310_d55/b19.fits.gz\n",
      "\u001b[1;31m[WARNING] ::\u001b[0m \u001b[1;34marload.py 156 load_headers()\u001b[0m - BINNING keyword not in header. Setting to None\n",
      "\u001b[1;32m[INFO]    ::\u001b[0m \u001b[1;34marload.py 191 load_headers()\u001b[0m - Successfully loaded headers for file:\n",
      "             /home/xavier/local/Python/PYPIT-development-suite/RAW_DATA/Shane_Kast_blue/600_4310_d55/b19.fits.gz\n",
      "\u001b[1;31m[WARNING] ::\u001b[0m \u001b[1;34marload.py 133 load_headers()\u001b[0m - UTC is not listed as a header keyword in file:\n",
      "             /home/xavier/local/Python/PYPIT-development-suite/RAW_DATA/Shane_Kast_blue/600_4310_d55/b5.fits.gz\n",
      "\u001b[1;31m[WARNING] ::\u001b[0m \u001b[1;34marload.py 156 load_headers()\u001b[0m - BINNING keyword not in header. Setting to None\n",
      "\u001b[1;32m[INFO]    ::\u001b[0m \u001b[1;34marload.py 191 load_headers()\u001b[0m - Successfully loaded headers for file:\n",
      "             /home/xavier/local/Python/PYPIT-development-suite/RAW_DATA/Shane_Kast_blue/600_4310_d55/b5.fits.gz\n",
      "\u001b[1;31m[WARNING] ::\u001b[0m \u001b[1;34marload.py 133 load_headers()\u001b[0m - UTC is not listed as a header keyword in file:\n",
      "             /home/xavier/local/Python/PYPIT-development-suite/RAW_DATA/Shane_Kast_blue/600_4310_d55/b9.fits.gz\n",
      "\u001b[1;31m[WARNING] ::\u001b[0m \u001b[1;34marload.py 156 load_headers()\u001b[0m - BINNING keyword not in header. Setting to None\n",
      "\u001b[1;32m[INFO]    ::\u001b[0m \u001b[1;34marload.py 191 load_headers()\u001b[0m - Successfully loaded headers for file:\n",
      "             /home/xavier/local/Python/PYPIT-development-suite/RAW_DATA/Shane_Kast_blue/600_4310_d55/b9.fits.gz\n",
      "\u001b[1;31m[WARNING] ::\u001b[0m \u001b[1;34marload.py 133 load_headers()\u001b[0m - UTC is not listed as a header keyword in file:\n",
      "             /home/xavier/local/Python/PYPIT-development-suite/RAW_DATA/Shane_Kast_blue/600_4310_d55/b8.fits.gz\n",
      "\u001b[1;31m[WARNING] ::\u001b[0m \u001b[1;34marload.py 156 load_headers()\u001b[0m - BINNING keyword not in header. Setting to None\n",
      "\u001b[1;32m[INFO]    ::\u001b[0m \u001b[1;34marload.py 191 load_headers()\u001b[0m - Successfully loaded headers for file:\n",
      "             /home/xavier/local/Python/PYPIT-development-suite/RAW_DATA/Shane_Kast_blue/600_4310_d55/b8.fits.gz\n",
      "\u001b[1;31m[WARNING] ::\u001b[0m \u001b[1;34marload.py 133 load_headers()\u001b[0m - UTC is not listed as a header keyword in file:\n",
      "             /home/xavier/local/Python/PYPIT-development-suite/RAW_DATA/Shane_Kast_blue/600_4310_d55/b20.fits.gz\n",
      "\u001b[1;31m[WARNING] ::\u001b[0m \u001b[1;34marload.py 156 load_headers()\u001b[0m - BINNING keyword not in header. Setting to None\n",
      "\u001b[1;32m[INFO]    ::\u001b[0m \u001b[1;34marload.py 191 load_headers()\u001b[0m - Successfully loaded headers for file:\n",
      "             /home/xavier/local/Python/PYPIT-development-suite/RAW_DATA/Shane_Kast_blue/600_4310_d55/b20.fits.gz\n",
      "\u001b[1;32m[INFO]    ::\u001b[0m \u001b[1;34marload.py 194 load_headers()\u001b[0m - Checking spectrograph settings for required header information\n",
      "\u001b[1;32m[INFO]    ::\u001b[0m \u001b[1;34marload.py 202 load_headers()\u001b[0m - Headers loaded for 27 files successfully\n"
     ]
    }
   ],
   "source": [
    "fitstbl = setupc.build_fitstbl(kast_blue_files)"
   ]
  },
  {
   "cell_type": "code",
   "execution_count": 6,
   "metadata": {},
   "outputs": [],
   "source": [
    "#fitstbl.keys()"
   ]
  },
  {
   "cell_type": "code",
   "execution_count": 7,
   "metadata": {},
   "outputs": [
    {
     "data": {
      "text/plain": [
       "array([  30,   30,   15,   15,   15,   15,   15,   15,   15,   15,   15,\n",
       "         15,   15,    0,    0,    0,    0,    0,    0,    0,    0,    0,\n",
       "          0,   30, 1200, 1200, 1200])"
      ]
     },
     "execution_count": 7,
     "metadata": {},
     "output_type": "execute_result"
    }
   ],
   "source": [
    "fitstbl['exptime'].data"
   ]
  },
  {
   "cell_type": "code",
   "execution_count": 8,
   "metadata": {},
   "outputs": [
    {
     "data": {
      "text/html": [
       "<i>Table length=5</i>\n",
       "<table id=\"table140616730304240\" class=\"table-striped table-bordered table-condensed\">\n",
       "<thead><tr><th>directory</th><th>filename</th><th>utc</th><th>target</th><th>idname</th><th>time</th><th>date</th><th>equinox</th><th>ra</th><th>dec</th><th>airmass</th><th>naxis0</th><th>naxis1</th><th>binning</th><th>exptime</th><th>filter1</th><th>filter2</th><th>hatch</th><th>shutopen</th><th>shutclose</th><th>decker</th><th>lamps</th><th>slitwid</th><th>slitlen</th><th>detrot</th><th>dichroic</th><th>dispname</th><th>dispangle</th><th>lampname01</th><th>lampstat01</th><th>lampname02</th><th>lampstat02</th><th>lampname03</th><th>lampstat03</th><th>lampname04</th><th>lampstat04</th><th>lampname05</th><th>lampstat05</th><th>lampname06</th><th>lampstat06</th><th>lampname07</th><th>lampstat07</th><th>lampname08</th><th>lampstat08</th><th>lampname09</th><th>lampstat09</th><th>lampname10</th><th>lampstat10</th><th>lampname11</th><th>lampstat11</th><th>lampname12</th><th>lampstat12</th><th>lampname13</th><th>lampstat13</th><th>lampname14</th><th>lampstat14</th><th>lampname15</th><th>lampstat15</th><th>lampname16</th><th>lampstat16</th><th>headers [1,152]</th></tr></thead>\n",
       "<thead><tr><th>str88</th><th>str11</th><th>object</th><th>str10</th><th>str6</th><th>float64</th><th>str22</th><th>str4</th><th>str10</th><th>str10</th><th>float64</th><th>int64</th><th>int64</th><th>str4</th><th>int64</th><th>str4</th><th>str4</th><th>str4</th><th>str4</th><th>str4</th><th>str10</th><th>str4</th><th>str4</th><th>str4</th><th>str4</th><th>str3</th><th>str8</th><th>str4</th><th>str4</th><th>str3</th><th>str3</th><th>str3</th><th>str6</th><th>str3</th><th>str6</th><th>str3</th><th>str8</th><th>str3</th><th>str6</th><th>str3</th><th>str6</th><th>str3</th><th>str6</th><th>str3</th><th>str8</th><th>str3</th><th>str8</th><th>str3</th><th>str2</th><th>str3</th><th>str5</th><th>str3</th><th>str4</th><th>str3</th><th>str6</th><th>str3</th><th>str4</th><th>str3</th><th>str5</th><th>str3</th><th>str8</th></tr></thead>\n",
       "<tr><td>/home/xavier/local/Python/PYPIT-development-suite/RAW_DATA/Shane_Kast_blue/600_4310_d55/</td><td>b1.fits.gz</td><td>None</td><td>Arcs</td><td>OBJECT</td><td>397801.599444</td><td>2015-05-20T01:35:58.10</td><td>None</td><td>09:21:46.0</td><td>37:25:56.0</td><td>1.0</td><td>350</td><td>2112</td><td>None</td><td>30</td><td>None</td><td>None</td><td>None</td><td>None</td><td>None</td><td>0.5 arcsec</td><td>None</td><td>None</td><td>None</td><td>None</td><td>d55</td><td>600/4310</td><td>None</td><td>Blue</td><td>off</td><td>Red</td><td>off</td><td>Spare3</td><td>off</td><td>Spare4</td><td>off</td><td>Sup_Blue</td><td>off</td><td>Spare1</td><td>off</td><td>Spare2</td><td>off</td><td>Spare3</td><td>off</td><td>Spare_Ar</td><td>off</td><td>Dim_Neon</td><td>off</td><td>He</td><td>on</td><td>Hg-Cd</td><td>on</td><td>Hg-A</td><td>off</td><td>Spare9</td><td>off</td><td>Neon</td><td>off</td><td>Laser</td><td>off</td><td>SIMPLE .. COMMENT</td></tr>\n",
       "<tr><td>/home/xavier/local/Python/PYPIT-development-suite/RAW_DATA/Shane_Kast_blue/600_4310_d55/</td><td>b2.fits.gz</td><td>None</td><td>Dome Flat</td><td>OBJECT</td><td>397801.793611</td><td>2015-05-20T01:47:37.23</td><td>None</td><td>09:33:26.9</td><td>37:25:56.0</td><td>1.0</td><td>350</td><td>2112</td><td>None</td><td>30</td><td>None</td><td>None</td><td>None</td><td>None</td><td>None</td><td>2.0 arcsec</td><td>None</td><td>None</td><td>None</td><td>None</td><td>d55</td><td>600/4310</td><td>None</td><td>Blue</td><td>off</td><td>Red</td><td>off</td><td>Spare3</td><td>off</td><td>Spare4</td><td>off</td><td>Sup_Blue</td><td>on</td><td>Spare1</td><td>off</td><td>Spare2</td><td>off</td><td>Spare3</td><td>off</td><td>Spare_Ar</td><td>off</td><td>Dim_Neon</td><td>off</td><td>He</td><td>off</td><td>Hg-Cd</td><td>off</td><td>Hg-A</td><td>off</td><td>Spare9</td><td>off</td><td>Neon</td><td>off</td><td>Laser</td><td>off</td><td>SIMPLE .. COMMENT</td></tr>\n",
       "<tr><td>/home/xavier/local/Python/PYPIT-development-suite/RAW_DATA/Shane_Kast_blue/600_4310_d55/</td><td>b3.fits.gz</td><td>None</td><td>Dome Flat</td><td>OBJECT</td><td>397801.823056</td><td>2015-05-20T01:49:23.29</td><td>None</td><td>09:35:28.3</td><td>37:25:56.0</td><td>1.0</td><td>350</td><td>2112</td><td>None</td><td>15</td><td>None</td><td>None</td><td>None</td><td>None</td><td>None</td><td>2.0 arcsec</td><td>None</td><td>None</td><td>None</td><td>None</td><td>d55</td><td>600/4310</td><td>None</td><td>Blue</td><td>off</td><td>Red</td><td>off</td><td>Spare3</td><td>off</td><td>Spare4</td><td>off</td><td>Sup_Blue</td><td>on</td><td>Spare1</td><td>off</td><td>Spare2</td><td>off</td><td>Spare3</td><td>off</td><td>Spare_Ar</td><td>off</td><td>Dim_Neon</td><td>off</td><td>He</td><td>off</td><td>Hg-Cd</td><td>off</td><td>Hg-A</td><td>off</td><td>Spare9</td><td>off</td><td>Neon</td><td>off</td><td>Laser</td><td>off</td><td>SIMPLE .. COMMENT</td></tr>\n",
       "<tr><td>/home/xavier/local/Python/PYPIT-development-suite/RAW_DATA/Shane_Kast_blue/600_4310_d55/</td><td>b4.fits.gz</td><td>None</td><td>Dome Flat</td><td>OBJECT</td><td>397801.831944</td><td>2015-05-20T01:49:55.93</td><td>None</td><td>09:36:01.1</td><td>37:25:56.0</td><td>1.0</td><td>350</td><td>2112</td><td>None</td><td>15</td><td>None</td><td>None</td><td>None</td><td>None</td><td>None</td><td>2.0 arcsec</td><td>None</td><td>None</td><td>None</td><td>None</td><td>d55</td><td>600/4310</td><td>None</td><td>Blue</td><td>off</td><td>Red</td><td>off</td><td>Spare3</td><td>off</td><td>Spare4</td><td>off</td><td>Sup_Blue</td><td>on</td><td>Spare1</td><td>off</td><td>Spare2</td><td>off</td><td>Spare3</td><td>off</td><td>Spare_Ar</td><td>off</td><td>Dim_Neon</td><td>off</td><td>He</td><td>off</td><td>Hg-Cd</td><td>off</td><td>Hg-A</td><td>off</td><td>Spare9</td><td>off</td><td>Neon</td><td>off</td><td>Laser</td><td>off</td><td>SIMPLE .. COMMENT</td></tr>\n",
       "<tr><td>/home/xavier/local/Python/PYPIT-development-suite/RAW_DATA/Shane_Kast_blue/600_4310_d55/</td><td>b5.fits.gz</td><td>None</td><td>Dome Flat</td><td>OBJECT</td><td>397801.841111</td><td>2015-05-20T01:50:28.57</td><td>None</td><td>09:36:33.7</td><td>37:25:56.0</td><td>1.0</td><td>350</td><td>2112</td><td>None</td><td>15</td><td>None</td><td>None</td><td>None</td><td>None</td><td>None</td><td>2.0 arcsec</td><td>None</td><td>None</td><td>None</td><td>None</td><td>d55</td><td>600/4310</td><td>None</td><td>Blue</td><td>off</td><td>Red</td><td>off</td><td>Spare3</td><td>off</td><td>Spare4</td><td>off</td><td>Sup_Blue</td><td>on</td><td>Spare1</td><td>off</td><td>Spare2</td><td>off</td><td>Spare3</td><td>off</td><td>Spare_Ar</td><td>off</td><td>Dim_Neon</td><td>off</td><td>He</td><td>off</td><td>Hg-Cd</td><td>off</td><td>Hg-A</td><td>off</td><td>Spare9</td><td>off</td><td>Neon</td><td>off</td><td>Laser</td><td>off</td><td>SIMPLE .. COMMENT</td></tr>\n",
       "</table>"
      ],
      "text/plain": [
       "<Table length=5>\n",
       "                                       directory                                         ...\n",
       "                                         str88                                           ...\n",
       "---------------------------------------------------------------------------------------- ...\n",
       "/home/xavier/local/Python/PYPIT-development-suite/RAW_DATA/Shane_Kast_blue/600_4310_d55/ ...\n",
       "/home/xavier/local/Python/PYPIT-development-suite/RAW_DATA/Shane_Kast_blue/600_4310_d55/ ...\n",
       "/home/xavier/local/Python/PYPIT-development-suite/RAW_DATA/Shane_Kast_blue/600_4310_d55/ ...\n",
       "/home/xavier/local/Python/PYPIT-development-suite/RAW_DATA/Shane_Kast_blue/600_4310_d55/ ...\n",
       "/home/xavier/local/Python/PYPIT-development-suite/RAW_DATA/Shane_Kast_blue/600_4310_d55/ ..."
      ]
     },
     "execution_count": 8,
     "metadata": {},
     "output_type": "execute_result"
    }
   ],
   "source": [
    "fitstbl[0:5]"
   ]
  },
  {
   "cell_type": "markdown",
   "metadata": {},
   "source": [
    "## Sort me"
   ]
  },
  {
   "cell_type": "code",
   "execution_count": 9,
   "metadata": {},
   "outputs": [
    {
     "name": "stderr",
     "output_type": "stream",
     "text": [
      "\u001b[1;37;40m[BUG]     ::\u001b[0m \u001b[1;34marsort.py 61 new_sort_data()\u001b[0m - There appears to be a bug with the assignment of arc frames when only one science frame is supplied\n",
      "\u001b[1;32m[INFO]    ::\u001b[0m \u001b[1;34marsort.py 62 new_sort_data()\u001b[0m - Sorting files\n",
      "\u001b[1;32m[INFO]    ::\u001b[0m \u001b[1;34marsort.py 122 new_sort_data()\u001b[0m - Making forced file identification changes\n",
      "\u001b[1;32m[INFO]    ::\u001b[0m \u001b[1;34marsort.py 155 new_sort_data()\u001b[0m - Sorting completed successfully\n"
     ]
    },
    {
     "data": {
      "text/html": [
       "<i>Table length=27</i>\n",
       "<table id=\"table140616727424192\" class=\"table-striped table-bordered table-condensed\">\n",
       "<thead><tr><th>directory</th><th>filename</th><th>utc</th><th>target</th><th>idname</th><th>time</th><th>date</th><th>equinox</th><th>ra</th><th>dec</th><th>airmass</th><th>naxis0</th><th>naxis1</th><th>binning</th><th>exptime</th><th>filter1</th><th>filter2</th><th>hatch</th><th>shutopen</th><th>shutclose</th><th>decker</th><th>lamps</th><th>slitwid</th><th>slitlen</th><th>detrot</th><th>dichroic</th><th>dispname</th><th>dispangle</th><th>lampname01</th><th>lampstat01</th><th>lampname02</th><th>lampstat02</th><th>lampname03</th><th>lampstat03</th><th>lampname04</th><th>lampstat04</th><th>lampname05</th><th>lampstat05</th><th>lampname06</th><th>lampstat06</th><th>lampname07</th><th>lampstat07</th><th>lampname08</th><th>lampstat08</th><th>lampname09</th><th>lampstat09</th><th>lampname10</th><th>lampstat10</th><th>lampname11</th><th>lampstat11</th><th>lampname12</th><th>lampstat12</th><th>lampname13</th><th>lampstat13</th><th>lampname14</th><th>lampstat14</th><th>lampname15</th><th>lampstat15</th><th>lampname16</th><th>lampstat16</th><th>headers [1,152]</th><th>arc</th><th>bias</th><th>dark</th><th>pinhole</th><th>pixelflat</th><th>science</th><th>standard</th><th>trace</th><th>unknown</th></tr></thead>\n",
       "<thead><tr><th>str88</th><th>str11</th><th>object</th><th>str10</th><th>str6</th><th>float64</th><th>str22</th><th>str4</th><th>str10</th><th>str10</th><th>float64</th><th>int64</th><th>int64</th><th>str4</th><th>int64</th><th>str4</th><th>str4</th><th>str4</th><th>str4</th><th>str4</th><th>str10</th><th>str4</th><th>str4</th><th>str4</th><th>str4</th><th>str3</th><th>str8</th><th>str4</th><th>str4</th><th>str3</th><th>str3</th><th>str3</th><th>str6</th><th>str3</th><th>str6</th><th>str3</th><th>str8</th><th>str3</th><th>str6</th><th>str3</th><th>str6</th><th>str3</th><th>str6</th><th>str3</th><th>str8</th><th>str3</th><th>str8</th><th>str3</th><th>str2</th><th>str3</th><th>str5</th><th>str3</th><th>str4</th><th>str3</th><th>str6</th><th>str3</th><th>str4</th><th>str3</th><th>str5</th><th>str3</th><th>str8</th><th>bool</th><th>bool</th><th>bool</th><th>bool</th><th>bool</th><th>bool</th><th>bool</th><th>bool</th><th>bool</th></tr></thead>\n",
       "<tr><td>/home/xavier/local/Python/PYPIT-development-suite/RAW_DATA/Shane_Kast_blue/600_4310_d55/</td><td>b1.fits.gz</td><td>None</td><td>Arcs</td><td>OBJECT</td><td>397801.599444</td><td>2015-05-20T01:35:58.10</td><td>None</td><td>09:21:46.0</td><td>37:25:56.0</td><td>1.0</td><td>350</td><td>2112</td><td>None</td><td>30</td><td>None</td><td>None</td><td>None</td><td>None</td><td>None</td><td>0.5 arcsec</td><td>None</td><td>None</td><td>None</td><td>None</td><td>d55</td><td>600/4310</td><td>None</td><td>Blue</td><td>off</td><td>Red</td><td>off</td><td>Spare3</td><td>off</td><td>Spare4</td><td>off</td><td>Sup_Blue</td><td>off</td><td>Spare1</td><td>off</td><td>Spare2</td><td>off</td><td>Spare3</td><td>off</td><td>Spare_Ar</td><td>off</td><td>Dim_Neon</td><td>off</td><td>He</td><td>on</td><td>Hg-Cd</td><td>on</td><td>Hg-A</td><td>off</td><td>Spare9</td><td>off</td><td>Neon</td><td>off</td><td>Laser</td><td>off</td><td>SIMPLE .. COMMENT</td><td>True</td><td>False</td><td>False</td><td>False</td><td>False</td><td>False</td><td>False</td><td>False</td><td>False</td></tr>\n",
       "<tr><td>/home/xavier/local/Python/PYPIT-development-suite/RAW_DATA/Shane_Kast_blue/600_4310_d55/</td><td>b2.fits.gz</td><td>None</td><td>Dome Flat</td><td>OBJECT</td><td>397801.793611</td><td>2015-05-20T01:47:37.23</td><td>None</td><td>09:33:26.9</td><td>37:25:56.0</td><td>1.0</td><td>350</td><td>2112</td><td>None</td><td>30</td><td>None</td><td>None</td><td>None</td><td>None</td><td>None</td><td>2.0 arcsec</td><td>None</td><td>None</td><td>None</td><td>None</td><td>d55</td><td>600/4310</td><td>None</td><td>Blue</td><td>off</td><td>Red</td><td>off</td><td>Spare3</td><td>off</td><td>Spare4</td><td>off</td><td>Sup_Blue</td><td>on</td><td>Spare1</td><td>off</td><td>Spare2</td><td>off</td><td>Spare3</td><td>off</td><td>Spare_Ar</td><td>off</td><td>Dim_Neon</td><td>off</td><td>He</td><td>off</td><td>Hg-Cd</td><td>off</td><td>Hg-A</td><td>off</td><td>Spare9</td><td>off</td><td>Neon</td><td>off</td><td>Laser</td><td>off</td><td>SIMPLE .. COMMENT</td><td>False</td><td>False</td><td>False</td><td>False</td><td>True</td><td>False</td><td>False</td><td>True</td><td>False</td></tr>\n",
       "<tr><td>/home/xavier/local/Python/PYPIT-development-suite/RAW_DATA/Shane_Kast_blue/600_4310_d55/</td><td>b3.fits.gz</td><td>None</td><td>Dome Flat</td><td>OBJECT</td><td>397801.823056</td><td>2015-05-20T01:49:23.29</td><td>None</td><td>09:35:28.3</td><td>37:25:56.0</td><td>1.0</td><td>350</td><td>2112</td><td>None</td><td>15</td><td>None</td><td>None</td><td>None</td><td>None</td><td>None</td><td>2.0 arcsec</td><td>None</td><td>None</td><td>None</td><td>None</td><td>d55</td><td>600/4310</td><td>None</td><td>Blue</td><td>off</td><td>Red</td><td>off</td><td>Spare3</td><td>off</td><td>Spare4</td><td>off</td><td>Sup_Blue</td><td>on</td><td>Spare1</td><td>off</td><td>Spare2</td><td>off</td><td>Spare3</td><td>off</td><td>Spare_Ar</td><td>off</td><td>Dim_Neon</td><td>off</td><td>He</td><td>off</td><td>Hg-Cd</td><td>off</td><td>Hg-A</td><td>off</td><td>Spare9</td><td>off</td><td>Neon</td><td>off</td><td>Laser</td><td>off</td><td>SIMPLE .. COMMENT</td><td>False</td><td>False</td><td>False</td><td>False</td><td>True</td><td>False</td><td>False</td><td>True</td><td>False</td></tr>\n",
       "<tr><td>/home/xavier/local/Python/PYPIT-development-suite/RAW_DATA/Shane_Kast_blue/600_4310_d55/</td><td>b4.fits.gz</td><td>None</td><td>Dome Flat</td><td>OBJECT</td><td>397801.831944</td><td>2015-05-20T01:49:55.93</td><td>None</td><td>09:36:01.1</td><td>37:25:56.0</td><td>1.0</td><td>350</td><td>2112</td><td>None</td><td>15</td><td>None</td><td>None</td><td>None</td><td>None</td><td>None</td><td>2.0 arcsec</td><td>None</td><td>None</td><td>None</td><td>None</td><td>d55</td><td>600/4310</td><td>None</td><td>Blue</td><td>off</td><td>Red</td><td>off</td><td>Spare3</td><td>off</td><td>Spare4</td><td>off</td><td>Sup_Blue</td><td>on</td><td>Spare1</td><td>off</td><td>Spare2</td><td>off</td><td>Spare3</td><td>off</td><td>Spare_Ar</td><td>off</td><td>Dim_Neon</td><td>off</td><td>He</td><td>off</td><td>Hg-Cd</td><td>off</td><td>Hg-A</td><td>off</td><td>Spare9</td><td>off</td><td>Neon</td><td>off</td><td>Laser</td><td>off</td><td>SIMPLE .. COMMENT</td><td>False</td><td>False</td><td>False</td><td>False</td><td>True</td><td>False</td><td>False</td><td>True</td><td>False</td></tr>\n",
       "<tr><td>/home/xavier/local/Python/PYPIT-development-suite/RAW_DATA/Shane_Kast_blue/600_4310_d55/</td><td>b5.fits.gz</td><td>None</td><td>Dome Flat</td><td>OBJECT</td><td>397801.841111</td><td>2015-05-20T01:50:28.57</td><td>None</td><td>09:36:33.7</td><td>37:25:56.0</td><td>1.0</td><td>350</td><td>2112</td><td>None</td><td>15</td><td>None</td><td>None</td><td>None</td><td>None</td><td>None</td><td>2.0 arcsec</td><td>None</td><td>None</td><td>None</td><td>None</td><td>d55</td><td>600/4310</td><td>None</td><td>Blue</td><td>off</td><td>Red</td><td>off</td><td>Spare3</td><td>off</td><td>Spare4</td><td>off</td><td>Sup_Blue</td><td>on</td><td>Spare1</td><td>off</td><td>Spare2</td><td>off</td><td>Spare3</td><td>off</td><td>Spare_Ar</td><td>off</td><td>Dim_Neon</td><td>off</td><td>He</td><td>off</td><td>Hg-Cd</td><td>off</td><td>Hg-A</td><td>off</td><td>Spare9</td><td>off</td><td>Neon</td><td>off</td><td>Laser</td><td>off</td><td>SIMPLE .. COMMENT</td><td>False</td><td>False</td><td>False</td><td>False</td><td>True</td><td>False</td><td>False</td><td>True</td><td>False</td></tr>\n",
       "<tr><td>/home/xavier/local/Python/PYPIT-development-suite/RAW_DATA/Shane_Kast_blue/600_4310_d55/</td><td>b6.fits.gz</td><td>None</td><td>Dome Flat</td><td>OBJECT</td><td>397801.850278</td><td>2015-05-20T01:51:01.10</td><td>None</td><td>09:37:06.5</td><td>37:25:56.0</td><td>1.0</td><td>350</td><td>2112</td><td>None</td><td>15</td><td>None</td><td>None</td><td>None</td><td>None</td><td>None</td><td>2.0 arcsec</td><td>None</td><td>None</td><td>None</td><td>None</td><td>d55</td><td>600/4310</td><td>None</td><td>Blue</td><td>off</td><td>Red</td><td>off</td><td>Spare3</td><td>off</td><td>Spare4</td><td>off</td><td>Sup_Blue</td><td>on</td><td>Spare1</td><td>off</td><td>Spare2</td><td>off</td><td>Spare3</td><td>off</td><td>Spare_Ar</td><td>off</td><td>Dim_Neon</td><td>off</td><td>He</td><td>off</td><td>Hg-Cd</td><td>off</td><td>Hg-A</td><td>off</td><td>Spare9</td><td>off</td><td>Neon</td><td>off</td><td>Laser</td><td>off</td><td>SIMPLE .. COMMENT</td><td>False</td><td>False</td><td>False</td><td>False</td><td>True</td><td>False</td><td>False</td><td>True</td><td>False</td></tr>\n",
       "<tr><td>/home/xavier/local/Python/PYPIT-development-suite/RAW_DATA/Shane_Kast_blue/600_4310_d55/</td><td>b7.fits.gz</td><td>None</td><td>Dome Flat</td><td>OBJECT</td><td>397801.859167</td><td>2015-05-20T01:51:33.56</td><td>None</td><td>09:37:39.1</td><td>37:25:56.0</td><td>1.0</td><td>350</td><td>2112</td><td>None</td><td>15</td><td>None</td><td>None</td><td>None</td><td>None</td><td>None</td><td>2.0 arcsec</td><td>None</td><td>None</td><td>None</td><td>None</td><td>d55</td><td>600/4310</td><td>None</td><td>Blue</td><td>off</td><td>Red</td><td>off</td><td>Spare3</td><td>off</td><td>Spare4</td><td>off</td><td>Sup_Blue</td><td>on</td><td>Spare1</td><td>off</td><td>Spare2</td><td>off</td><td>Spare3</td><td>off</td><td>Spare_Ar</td><td>off</td><td>Dim_Neon</td><td>off</td><td>He</td><td>off</td><td>Hg-Cd</td><td>off</td><td>Hg-A</td><td>off</td><td>Spare9</td><td>off</td><td>Neon</td><td>off</td><td>Laser</td><td>off</td><td>SIMPLE .. COMMENT</td><td>False</td><td>False</td><td>False</td><td>False</td><td>True</td><td>False</td><td>False</td><td>True</td><td>False</td></tr>\n",
       "<tr><td>/home/xavier/local/Python/PYPIT-development-suite/RAW_DATA/Shane_Kast_blue/600_4310_d55/</td><td>b8.fits.gz</td><td>None</td><td>Dome Flat</td><td>OBJECT</td><td>397801.868333</td><td>2015-05-20T01:52:06.03</td><td>None</td><td>09:38:11.7</td><td>37:25:56.0</td><td>1.0</td><td>350</td><td>2112</td><td>None</td><td>15</td><td>None</td><td>None</td><td>None</td><td>None</td><td>None</td><td>2.0 arcsec</td><td>None</td><td>None</td><td>None</td><td>None</td><td>d55</td><td>600/4310</td><td>None</td><td>Blue</td><td>off</td><td>Red</td><td>off</td><td>Spare3</td><td>off</td><td>Spare4</td><td>off</td><td>Sup_Blue</td><td>on</td><td>Spare1</td><td>off</td><td>Spare2</td><td>off</td><td>Spare3</td><td>off</td><td>Spare_Ar</td><td>off</td><td>Dim_Neon</td><td>off</td><td>He</td><td>off</td><td>Hg-Cd</td><td>off</td><td>Hg-A</td><td>off</td><td>Spare9</td><td>off</td><td>Neon</td><td>off</td><td>Laser</td><td>off</td><td>SIMPLE .. COMMENT</td><td>False</td><td>False</td><td>False</td><td>False</td><td>True</td><td>False</td><td>False</td><td>True</td><td>False</td></tr>\n",
       "<tr><td>/home/xavier/local/Python/PYPIT-development-suite/RAW_DATA/Shane_Kast_blue/600_4310_d55/</td><td>b9.fits.gz</td><td>None</td><td>Dome Flat</td><td>OBJECT</td><td>397801.877222</td><td>2015-05-20T01:52:38.46</td><td>None</td><td>09:38:44.3</td><td>37:25:56.0</td><td>1.0</td><td>350</td><td>2112</td><td>None</td><td>15</td><td>None</td><td>None</td><td>None</td><td>None</td><td>None</td><td>2.0 arcsec</td><td>None</td><td>None</td><td>None</td><td>None</td><td>d55</td><td>600/4310</td><td>None</td><td>Blue</td><td>off</td><td>Red</td><td>off</td><td>Spare3</td><td>off</td><td>Spare4</td><td>off</td><td>Sup_Blue</td><td>on</td><td>Spare1</td><td>off</td><td>Spare2</td><td>off</td><td>Spare3</td><td>off</td><td>Spare_Ar</td><td>off</td><td>Dim_Neon</td><td>off</td><td>He</td><td>off</td><td>Hg-Cd</td><td>off</td><td>Hg-A</td><td>off</td><td>Spare9</td><td>off</td><td>Neon</td><td>off</td><td>Laser</td><td>off</td><td>SIMPLE .. COMMENT</td><td>False</td><td>False</td><td>False</td><td>False</td><td>True</td><td>False</td><td>False</td><td>True</td><td>False</td></tr>\n",
       "<tr><td>/home/xavier/local/Python/PYPIT-development-suite/RAW_DATA/Shane_Kast_blue/600_4310_d55/</td><td>b10.fits.gz</td><td>None</td><td>Dome Flat</td><td>OBJECT</td><td>397801.886111</td><td>2015-05-20T01:53:10.95</td><td>None</td><td>09:39:16.9</td><td>37:25:56.0</td><td>1.0</td><td>350</td><td>2112</td><td>None</td><td>15</td><td>None</td><td>None</td><td>None</td><td>None</td><td>None</td><td>2.0 arcsec</td><td>None</td><td>None</td><td>None</td><td>None</td><td>d55</td><td>600/4310</td><td>None</td><td>Blue</td><td>off</td><td>Red</td><td>off</td><td>Spare3</td><td>off</td><td>Spare4</td><td>off</td><td>Sup_Blue</td><td>on</td><td>Spare1</td><td>off</td><td>Spare2</td><td>off</td><td>Spare3</td><td>off</td><td>Spare_Ar</td><td>off</td><td>Dim_Neon</td><td>off</td><td>He</td><td>off</td><td>Hg-Cd</td><td>off</td><td>Hg-A</td><td>off</td><td>Spare9</td><td>off</td><td>Neon</td><td>off</td><td>Laser</td><td>off</td><td>SIMPLE .. COMMENT</td><td>False</td><td>False</td><td>False</td><td>False</td><td>True</td><td>False</td><td>False</td><td>True</td><td>False</td></tr>\n",
       "<tr><td>...</td><td>...</td><td>...</td><td>...</td><td>...</td><td>...</td><td>...</td><td>...</td><td>...</td><td>...</td><td>...</td><td>...</td><td>...</td><td>...</td><td>...</td><td>...</td><td>...</td><td>...</td><td>...</td><td>...</td><td>...</td><td>...</td><td>...</td><td>...</td><td>...</td><td>...</td><td>...</td><td>...</td><td>...</td><td>...</td><td>...</td><td>...</td><td>...</td><td>...</td><td>...</td><td>...</td><td>...</td><td>...</td><td>...</td><td>...</td><td>...</td><td>...</td><td>...</td><td>...</td><td>...</td><td>...</td><td>...</td><td>...</td><td>...</td><td>...</td><td>...</td><td>...</td><td>...</td><td>...</td><td>...</td><td>...</td><td>...</td><td>...</td><td>...</td><td>...</td><td>...</td><td>...</td><td>...</td><td>...</td><td>...</td><td>...</td><td>...</td><td>...</td><td>...</td><td>...</td></tr>\n",
       "<tr><td>/home/xavier/local/Python/PYPIT-development-suite/RAW_DATA/Shane_Kast_blue/600_4310_d55/</td><td>b18.fits.gz</td><td>None</td><td>Bias</td><td>DARK</td><td>397803.72</td><td>2015-05-20T03:43:12.82</td><td>None</td><td>11:30:32.9</td><td>37:06:56.0</td><td>1.0</td><td>350</td><td>2112</td><td>None</td><td>0</td><td>None</td><td>None</td><td>None</td><td>None</td><td>None</td><td>2.0 arcsec</td><td>None</td><td>None</td><td>None</td><td>None</td><td>d55</td><td>600/4310</td><td>None</td><td>Blue</td><td>off</td><td>Red</td><td>off</td><td>Spare3</td><td>off</td><td>Spare4</td><td>off</td><td>Sup_Blue</td><td>off</td><td>Spare1</td><td>off</td><td>Spare2</td><td>off</td><td>Spare3</td><td>off</td><td>Spare_Ar</td><td>off</td><td>Dim_Neon</td><td>off</td><td>He</td><td>off</td><td>Hg-Cd</td><td>off</td><td>Hg-A</td><td>off</td><td>Spare9</td><td>off</td><td>Neon</td><td>off</td><td>Laser</td><td>off</td><td>SIMPLE .. COMMENT</td><td>False</td><td>True</td><td>False</td><td>False</td><td>False</td><td>False</td><td>False</td><td>False</td><td>False</td></tr>\n",
       "<tr><td>/home/xavier/local/Python/PYPIT-development-suite/RAW_DATA/Shane_Kast_blue/600_4310_d55/</td><td>b19.fits.gz</td><td>None</td><td>Bias</td><td>DARK</td><td>397803.725</td><td>2015-05-20T03:43:30.27</td><td>None</td><td>11:30:50.8</td><td>37:11:10.0</td><td>1.0</td><td>350</td><td>2112</td><td>None</td><td>0</td><td>None</td><td>None</td><td>None</td><td>None</td><td>None</td><td>2.0 arcsec</td><td>None</td><td>None</td><td>None</td><td>None</td><td>d55</td><td>600/4310</td><td>None</td><td>Blue</td><td>off</td><td>Red</td><td>off</td><td>Spare3</td><td>off</td><td>Spare4</td><td>off</td><td>Sup_Blue</td><td>off</td><td>Spare1</td><td>off</td><td>Spare2</td><td>off</td><td>Spare3</td><td>off</td><td>Spare_Ar</td><td>off</td><td>Dim_Neon</td><td>off</td><td>He</td><td>off</td><td>Hg-Cd</td><td>off</td><td>Hg-A</td><td>off</td><td>Spare9</td><td>off</td><td>Neon</td><td>off</td><td>Laser</td><td>off</td><td>SIMPLE .. COMMENT</td><td>False</td><td>True</td><td>False</td><td>False</td><td>False</td><td>False</td><td>False</td><td>False</td><td>False</td></tr>\n",
       "<tr><td>/home/xavier/local/Python/PYPIT-development-suite/RAW_DATA/Shane_Kast_blue/600_4310_d55/</td><td>b20.fits.gz</td><td>None</td><td>Bias</td><td>DARK</td><td>397803.729722</td><td>2015-05-20T03:43:47.75</td><td>None</td><td>11:31:08.2</td><td>37:15:16.0</td><td>1.0</td><td>350</td><td>2112</td><td>None</td><td>0</td><td>None</td><td>None</td><td>None</td><td>None</td><td>None</td><td>2.0 arcsec</td><td>None</td><td>None</td><td>None</td><td>None</td><td>d55</td><td>600/4310</td><td>None</td><td>Blue</td><td>off</td><td>Red</td><td>off</td><td>Spare3</td><td>off</td><td>Spare4</td><td>off</td><td>Sup_Blue</td><td>off</td><td>Spare1</td><td>off</td><td>Spare2</td><td>off</td><td>Spare3</td><td>off</td><td>Spare_Ar</td><td>off</td><td>Dim_Neon</td><td>off</td><td>He</td><td>off</td><td>Hg-Cd</td><td>off</td><td>Hg-A</td><td>off</td><td>Spare9</td><td>off</td><td>Neon</td><td>off</td><td>Laser</td><td>off</td><td>SIMPLE .. COMMENT</td><td>False</td><td>True</td><td>False</td><td>False</td><td>False</td><td>False</td><td>False</td><td>False</td><td>False</td></tr>\n",
       "<tr><td>/home/xavier/local/Python/PYPIT-development-suite/RAW_DATA/Shane_Kast_blue/600_4310_d55/</td><td>b21.fits.gz</td><td>None</td><td>Bias</td><td>DARK</td><td>397803.734722</td><td>2015-05-20T03:44:05.14</td><td>None</td><td>11:31:25.7</td><td>37:19:25.0</td><td>1.0</td><td>350</td><td>2112</td><td>None</td><td>0</td><td>None</td><td>None</td><td>None</td><td>None</td><td>None</td><td>2.0 arcsec</td><td>None</td><td>None</td><td>None</td><td>None</td><td>d55</td><td>600/4310</td><td>None</td><td>Blue</td><td>off</td><td>Red</td><td>off</td><td>Spare3</td><td>off</td><td>Spare4</td><td>off</td><td>Sup_Blue</td><td>off</td><td>Spare1</td><td>off</td><td>Spare2</td><td>off</td><td>Spare3</td><td>off</td><td>Spare_Ar</td><td>off</td><td>Dim_Neon</td><td>off</td><td>He</td><td>off</td><td>Hg-Cd</td><td>off</td><td>Hg-A</td><td>off</td><td>Spare9</td><td>off</td><td>Neon</td><td>off</td><td>Laser</td><td>off</td><td>SIMPLE .. COMMENT</td><td>False</td><td>True</td><td>False</td><td>False</td><td>False</td><td>False</td><td>False</td><td>False</td><td>False</td></tr>\n",
       "<tr><td>/home/xavier/local/Python/PYPIT-development-suite/RAW_DATA/Shane_Kast_blue/600_4310_d55/</td><td>b22.fits.gz</td><td>None</td><td>Bias</td><td>DARK</td><td>397803.739444</td><td>2015-05-20T03:44:22.50</td><td>None</td><td>11:31:43.2</td><td>37:23:33.0</td><td>1.0</td><td>350</td><td>2112</td><td>None</td><td>0</td><td>None</td><td>None</td><td>None</td><td>None</td><td>None</td><td>2.0 arcsec</td><td>None</td><td>None</td><td>None</td><td>None</td><td>d55</td><td>600/4310</td><td>None</td><td>Blue</td><td>off</td><td>Red</td><td>off</td><td>Spare3</td><td>off</td><td>Spare4</td><td>off</td><td>Sup_Blue</td><td>off</td><td>Spare1</td><td>off</td><td>Spare2</td><td>off</td><td>Spare3</td><td>off</td><td>Spare_Ar</td><td>off</td><td>Dim_Neon</td><td>off</td><td>He</td><td>off</td><td>Hg-Cd</td><td>off</td><td>Hg-A</td><td>off</td><td>Spare9</td><td>off</td><td>Neon</td><td>off</td><td>Laser</td><td>off</td><td>SIMPLE .. COMMENT</td><td>False</td><td>True</td><td>False</td><td>False</td><td>False</td><td>False</td><td>False</td><td>False</td><td>False</td></tr>\n",
       "<tr><td>/home/xavier/local/Python/PYPIT-development-suite/RAW_DATA/Shane_Kast_blue/600_4310_d55/</td><td>b23.fits.gz</td><td>None</td><td>Bias</td><td>DARK</td><td>397803.744444</td><td>2015-05-20T03:44:40.04</td><td>None</td><td>11:32:00.4</td><td>37:25:21.0</td><td>1.0</td><td>350</td><td>2112</td><td>None</td><td>0</td><td>None</td><td>None</td><td>None</td><td>None</td><td>None</td><td>2.0 arcsec</td><td>None</td><td>None</td><td>None</td><td>None</td><td>d55</td><td>600/4310</td><td>None</td><td>Blue</td><td>off</td><td>Red</td><td>off</td><td>Spare3</td><td>off</td><td>Spare4</td><td>off</td><td>Sup_Blue</td><td>off</td><td>Spare1</td><td>off</td><td>Spare2</td><td>off</td><td>Spare3</td><td>off</td><td>Spare_Ar</td><td>off</td><td>Dim_Neon</td><td>off</td><td>He</td><td>off</td><td>Hg-Cd</td><td>off</td><td>Hg-A</td><td>off</td><td>Spare9</td><td>off</td><td>Neon</td><td>off</td><td>Laser</td><td>off</td><td>SIMPLE .. COMMENT</td><td>False</td><td>True</td><td>False</td><td>False</td><td>False</td><td>False</td><td>False</td><td>False</td><td>False</td></tr>\n",
       "<tr><td>/home/xavier/local/Python/PYPIT-development-suite/RAW_DATA/Shane_Kast_blue/600_4310_d55/</td><td>b24.fits.gz</td><td>None</td><td>Feige 66</td><td>OBJECT</td><td>397804.212778</td><td>2015-05-20T04:12:46.96</td><td>None</td><td>12:37:54.8</td><td>24:59:47.0</td><td>1.03999996185</td><td>350</td><td>2112</td><td>None</td><td>30</td><td>None</td><td>None</td><td>None</td><td>None</td><td>None</td><td>2.0 arcsec</td><td>None</td><td>None</td><td>None</td><td>None</td><td>d55</td><td>600/4310</td><td>None</td><td>Blue</td><td>off</td><td>Red</td><td>off</td><td>Spare3</td><td>off</td><td>Spare4</td><td>off</td><td>Sup_Blue</td><td>off</td><td>Spare1</td><td>off</td><td>Spare2</td><td>off</td><td>Spare3</td><td>off</td><td>Spare_Ar</td><td>off</td><td>Dim_Neon</td><td>off</td><td>He</td><td>off</td><td>Hg-Cd</td><td>off</td><td>Hg-A</td><td>off</td><td>Spare9</td><td>off</td><td>Neon</td><td>off</td><td>Laser</td><td>off</td><td>SIMPLE .. COMMENT</td><td>False</td><td>False</td><td>False</td><td>False</td><td>False</td><td>False</td><td>True</td><td>False</td><td>False</td></tr>\n",
       "<tr><td>/home/xavier/local/Python/PYPIT-development-suite/RAW_DATA/Shane_Kast_blue/600_4310_d55/</td><td>b27.fits.gz</td><td>None</td><td>J1217p3905</td><td>OBJECT</td><td>397804.959167</td><td>2015-05-20T04:57:33.56</td><td>None</td><td>12:17:36.7</td><td>39:00:40.0</td><td>1.0</td><td>350</td><td>2112</td><td>None</td><td>1200</td><td>None</td><td>None</td><td>None</td><td>None</td><td>None</td><td>2.0 arcsec</td><td>None</td><td>None</td><td>None</td><td>None</td><td>d55</td><td>600/4310</td><td>None</td><td>Blue</td><td>off</td><td>Red</td><td>off</td><td>Spare3</td><td>off</td><td>Spare4</td><td>off</td><td>Sup_Blue</td><td>off</td><td>Spare1</td><td>off</td><td>Spare2</td><td>off</td><td>Spare3</td><td>off</td><td>Spare_Ar</td><td>off</td><td>Dim_Neon</td><td>off</td><td>He</td><td>off</td><td>Hg-Cd</td><td>off</td><td>Hg-A</td><td>off</td><td>Spare9</td><td>off</td><td>Neon</td><td>off</td><td>Laser</td><td>off</td><td>SIMPLE .. COMMENT</td><td>False</td><td>False</td><td>False</td><td>False</td><td>False</td><td>True</td><td>False</td><td>False</td><td>False</td></tr>\n",
       "<tr><td>/home/xavier/local/Python/PYPIT-development-suite/RAW_DATA/Shane_Kast_blue/600_4310_d55/</td><td>b28.fits.gz</td><td>None</td><td>J1217p3905</td><td>OBJECT</td><td>397805.300278</td><td>2015-05-20T05:18:01.47</td><td>None</td><td>12:17:37.0</td><td>39:00:40.0</td><td>1.0</td><td>350</td><td>2112</td><td>None</td><td>1200</td><td>None</td><td>None</td><td>None</td><td>None</td><td>None</td><td>2.0 arcsec</td><td>None</td><td>None</td><td>None</td><td>None</td><td>d55</td><td>600/4310</td><td>None</td><td>Blue</td><td>off</td><td>Red</td><td>off</td><td>Spare3</td><td>off</td><td>Spare4</td><td>off</td><td>Sup_Blue</td><td>off</td><td>Spare1</td><td>off</td><td>Spare2</td><td>off</td><td>Spare3</td><td>off</td><td>Spare_Ar</td><td>off</td><td>Dim_Neon</td><td>off</td><td>He</td><td>off</td><td>Hg-Cd</td><td>off</td><td>Hg-A</td><td>off</td><td>Spare9</td><td>off</td><td>Neon</td><td>off</td><td>Laser</td><td>off</td><td>SIMPLE .. COMMENT</td><td>False</td><td>False</td><td>False</td><td>False</td><td>False</td><td>True</td><td>False</td><td>False</td><td>False</td></tr>\n",
       "<tr><td>/home/xavier/local/Python/PYPIT-development-suite/RAW_DATA/Shane_Kast_blue/600_4310_d55/</td><td>b29.fits.gz</td><td>None</td><td>J1217p3905</td><td>OBJECT</td><td>397805.638333</td><td>2015-05-20T05:38:18.97</td><td>None</td><td>12:17:37.2</td><td>39:00:41.0</td><td>1.00999999046</td><td>350</td><td>2112</td><td>None</td><td>1200</td><td>None</td><td>None</td><td>None</td><td>None</td><td>None</td><td>2.0 arcsec</td><td>None</td><td>None</td><td>None</td><td>None</td><td>d55</td><td>600/4310</td><td>None</td><td>Blue</td><td>off</td><td>Red</td><td>off</td><td>Spare3</td><td>off</td><td>Spare4</td><td>off</td><td>Sup_Blue</td><td>off</td><td>Spare1</td><td>off</td><td>Spare2</td><td>off</td><td>Spare3</td><td>off</td><td>Spare_Ar</td><td>off</td><td>Dim_Neon</td><td>off</td><td>He</td><td>off</td><td>Hg-Cd</td><td>off</td><td>Hg-A</td><td>off</td><td>Spare9</td><td>off</td><td>Neon</td><td>off</td><td>Laser</td><td>off</td><td>SIMPLE .. COMMENT</td><td>False</td><td>False</td><td>False</td><td>False</td><td>False</td><td>True</td><td>False</td><td>False</td><td>False</td></tr>\n",
       "</table>"
      ],
      "text/plain": [
       "<Table length=27>\n",
       "                                       directory                                         ...\n",
       "                                         str88                                           ...\n",
       "---------------------------------------------------------------------------------------- ...\n",
       "/home/xavier/local/Python/PYPIT-development-suite/RAW_DATA/Shane_Kast_blue/600_4310_d55/ ...\n",
       "/home/xavier/local/Python/PYPIT-development-suite/RAW_DATA/Shane_Kast_blue/600_4310_d55/ ...\n",
       "/home/xavier/local/Python/PYPIT-development-suite/RAW_DATA/Shane_Kast_blue/600_4310_d55/ ...\n",
       "/home/xavier/local/Python/PYPIT-development-suite/RAW_DATA/Shane_Kast_blue/600_4310_d55/ ...\n",
       "/home/xavier/local/Python/PYPIT-development-suite/RAW_DATA/Shane_Kast_blue/600_4310_d55/ ...\n",
       "/home/xavier/local/Python/PYPIT-development-suite/RAW_DATA/Shane_Kast_blue/600_4310_d55/ ...\n",
       "/home/xavier/local/Python/PYPIT-development-suite/RAW_DATA/Shane_Kast_blue/600_4310_d55/ ...\n",
       "/home/xavier/local/Python/PYPIT-development-suite/RAW_DATA/Shane_Kast_blue/600_4310_d55/ ...\n",
       "/home/xavier/local/Python/PYPIT-development-suite/RAW_DATA/Shane_Kast_blue/600_4310_d55/ ...\n",
       "/home/xavier/local/Python/PYPIT-development-suite/RAW_DATA/Shane_Kast_blue/600_4310_d55/ ...\n",
       "                                                                                     ... ...\n",
       "/home/xavier/local/Python/PYPIT-development-suite/RAW_DATA/Shane_Kast_blue/600_4310_d55/ ...\n",
       "/home/xavier/local/Python/PYPIT-development-suite/RAW_DATA/Shane_Kast_blue/600_4310_d55/ ...\n",
       "/home/xavier/local/Python/PYPIT-development-suite/RAW_DATA/Shane_Kast_blue/600_4310_d55/ ...\n",
       "/home/xavier/local/Python/PYPIT-development-suite/RAW_DATA/Shane_Kast_blue/600_4310_d55/ ...\n",
       "/home/xavier/local/Python/PYPIT-development-suite/RAW_DATA/Shane_Kast_blue/600_4310_d55/ ...\n",
       "/home/xavier/local/Python/PYPIT-development-suite/RAW_DATA/Shane_Kast_blue/600_4310_d55/ ...\n",
       "/home/xavier/local/Python/PYPIT-development-suite/RAW_DATA/Shane_Kast_blue/600_4310_d55/ ...\n",
       "/home/xavier/local/Python/PYPIT-development-suite/RAW_DATA/Shane_Kast_blue/600_4310_d55/ ...\n",
       "/home/xavier/local/Python/PYPIT-development-suite/RAW_DATA/Shane_Kast_blue/600_4310_d55/ ...\n",
       "/home/xavier/local/Python/PYPIT-development-suite/RAW_DATA/Shane_Kast_blue/600_4310_d55/ ..."
      ]
     },
     "execution_count": 9,
     "metadata": {},
     "output_type": "execute_result"
    }
   ],
   "source": [
    "filetypes = setupc.sort_data()\n",
    "filetypes"
   ]
  },
  {
   "cell_type": "code",
   "execution_count": 10,
   "metadata": {
    "collapsed": true
   },
   "outputs": [],
   "source": [
    "both = filetypes['pixelflat'] & filetypes['trace']"
   ]
  },
  {
   "cell_type": "code",
   "execution_count": 11,
   "metadata": {},
   "outputs": [
    {
     "data": {
      "text/html": [
       "<i>Table length=12</i>\n",
       "<table id=\"table140616729660272\" class=\"table-striped table-bordered table-condensed\">\n",
       "<thead><tr><th>directory</th><th>filename</th><th>utc</th><th>target</th><th>idname</th><th>time</th><th>date</th><th>equinox</th><th>ra</th><th>dec</th><th>airmass</th><th>naxis0</th><th>naxis1</th><th>binning</th><th>exptime</th><th>filter1</th><th>filter2</th><th>hatch</th><th>shutopen</th><th>shutclose</th><th>decker</th><th>lamps</th><th>slitwid</th><th>slitlen</th><th>detrot</th><th>dichroic</th><th>dispname</th><th>dispangle</th><th>lampname01</th><th>lampstat01</th><th>lampname02</th><th>lampstat02</th><th>lampname03</th><th>lampstat03</th><th>lampname04</th><th>lampstat04</th><th>lampname05</th><th>lampstat05</th><th>lampname06</th><th>lampstat06</th><th>lampname07</th><th>lampstat07</th><th>lampname08</th><th>lampstat08</th><th>lampname09</th><th>lampstat09</th><th>lampname10</th><th>lampstat10</th><th>lampname11</th><th>lampstat11</th><th>lampname12</th><th>lampstat12</th><th>lampname13</th><th>lampstat13</th><th>lampname14</th><th>lampstat14</th><th>lampname15</th><th>lampstat15</th><th>lampname16</th><th>lampstat16</th><th>headers [1,152]</th></tr></thead>\n",
       "<thead><tr><th>str88</th><th>str11</th><th>object</th><th>str10</th><th>str6</th><th>float64</th><th>str22</th><th>str4</th><th>str10</th><th>str10</th><th>float64</th><th>int64</th><th>int64</th><th>str4</th><th>int64</th><th>str4</th><th>str4</th><th>str4</th><th>str4</th><th>str4</th><th>str10</th><th>str4</th><th>str4</th><th>str4</th><th>str4</th><th>str3</th><th>str8</th><th>str4</th><th>str4</th><th>str3</th><th>str3</th><th>str3</th><th>str6</th><th>str3</th><th>str6</th><th>str3</th><th>str8</th><th>str3</th><th>str6</th><th>str3</th><th>str6</th><th>str3</th><th>str6</th><th>str3</th><th>str8</th><th>str3</th><th>str8</th><th>str3</th><th>str2</th><th>str3</th><th>str5</th><th>str3</th><th>str4</th><th>str3</th><th>str6</th><th>str3</th><th>str4</th><th>str3</th><th>str5</th><th>str3</th><th>str8</th></tr></thead>\n",
       "<tr><td>/home/xavier/local/Python/PYPIT-development-suite/RAW_DATA/Shane_Kast_blue/600_4310_d55/</td><td>b2.fits.gz</td><td>None</td><td>Dome Flat</td><td>OBJECT</td><td>397801.793611</td><td>2015-05-20T01:47:37.23</td><td>None</td><td>09:33:26.9</td><td>37:25:56.0</td><td>1.0</td><td>350</td><td>2112</td><td>None</td><td>30</td><td>None</td><td>None</td><td>None</td><td>None</td><td>None</td><td>2.0 arcsec</td><td>None</td><td>None</td><td>None</td><td>None</td><td>d55</td><td>600/4310</td><td>None</td><td>Blue</td><td>off</td><td>Red</td><td>off</td><td>Spare3</td><td>off</td><td>Spare4</td><td>off</td><td>Sup_Blue</td><td>on</td><td>Spare1</td><td>off</td><td>Spare2</td><td>off</td><td>Spare3</td><td>off</td><td>Spare_Ar</td><td>off</td><td>Dim_Neon</td><td>off</td><td>He</td><td>off</td><td>Hg-Cd</td><td>off</td><td>Hg-A</td><td>off</td><td>Spare9</td><td>off</td><td>Neon</td><td>off</td><td>Laser</td><td>off</td><td>SIMPLE .. COMMENT</td></tr>\n",
       "<tr><td>/home/xavier/local/Python/PYPIT-development-suite/RAW_DATA/Shane_Kast_blue/600_4310_d55/</td><td>b3.fits.gz</td><td>None</td><td>Dome Flat</td><td>OBJECT</td><td>397801.823056</td><td>2015-05-20T01:49:23.29</td><td>None</td><td>09:35:28.3</td><td>37:25:56.0</td><td>1.0</td><td>350</td><td>2112</td><td>None</td><td>15</td><td>None</td><td>None</td><td>None</td><td>None</td><td>None</td><td>2.0 arcsec</td><td>None</td><td>None</td><td>None</td><td>None</td><td>d55</td><td>600/4310</td><td>None</td><td>Blue</td><td>off</td><td>Red</td><td>off</td><td>Spare3</td><td>off</td><td>Spare4</td><td>off</td><td>Sup_Blue</td><td>on</td><td>Spare1</td><td>off</td><td>Spare2</td><td>off</td><td>Spare3</td><td>off</td><td>Spare_Ar</td><td>off</td><td>Dim_Neon</td><td>off</td><td>He</td><td>off</td><td>Hg-Cd</td><td>off</td><td>Hg-A</td><td>off</td><td>Spare9</td><td>off</td><td>Neon</td><td>off</td><td>Laser</td><td>off</td><td>SIMPLE .. COMMENT</td></tr>\n",
       "<tr><td>/home/xavier/local/Python/PYPIT-development-suite/RAW_DATA/Shane_Kast_blue/600_4310_d55/</td><td>b4.fits.gz</td><td>None</td><td>Dome Flat</td><td>OBJECT</td><td>397801.831944</td><td>2015-05-20T01:49:55.93</td><td>None</td><td>09:36:01.1</td><td>37:25:56.0</td><td>1.0</td><td>350</td><td>2112</td><td>None</td><td>15</td><td>None</td><td>None</td><td>None</td><td>None</td><td>None</td><td>2.0 arcsec</td><td>None</td><td>None</td><td>None</td><td>None</td><td>d55</td><td>600/4310</td><td>None</td><td>Blue</td><td>off</td><td>Red</td><td>off</td><td>Spare3</td><td>off</td><td>Spare4</td><td>off</td><td>Sup_Blue</td><td>on</td><td>Spare1</td><td>off</td><td>Spare2</td><td>off</td><td>Spare3</td><td>off</td><td>Spare_Ar</td><td>off</td><td>Dim_Neon</td><td>off</td><td>He</td><td>off</td><td>Hg-Cd</td><td>off</td><td>Hg-A</td><td>off</td><td>Spare9</td><td>off</td><td>Neon</td><td>off</td><td>Laser</td><td>off</td><td>SIMPLE .. COMMENT</td></tr>\n",
       "<tr><td>/home/xavier/local/Python/PYPIT-development-suite/RAW_DATA/Shane_Kast_blue/600_4310_d55/</td><td>b5.fits.gz</td><td>None</td><td>Dome Flat</td><td>OBJECT</td><td>397801.841111</td><td>2015-05-20T01:50:28.57</td><td>None</td><td>09:36:33.7</td><td>37:25:56.0</td><td>1.0</td><td>350</td><td>2112</td><td>None</td><td>15</td><td>None</td><td>None</td><td>None</td><td>None</td><td>None</td><td>2.0 arcsec</td><td>None</td><td>None</td><td>None</td><td>None</td><td>d55</td><td>600/4310</td><td>None</td><td>Blue</td><td>off</td><td>Red</td><td>off</td><td>Spare3</td><td>off</td><td>Spare4</td><td>off</td><td>Sup_Blue</td><td>on</td><td>Spare1</td><td>off</td><td>Spare2</td><td>off</td><td>Spare3</td><td>off</td><td>Spare_Ar</td><td>off</td><td>Dim_Neon</td><td>off</td><td>He</td><td>off</td><td>Hg-Cd</td><td>off</td><td>Hg-A</td><td>off</td><td>Spare9</td><td>off</td><td>Neon</td><td>off</td><td>Laser</td><td>off</td><td>SIMPLE .. COMMENT</td></tr>\n",
       "<tr><td>/home/xavier/local/Python/PYPIT-development-suite/RAW_DATA/Shane_Kast_blue/600_4310_d55/</td><td>b6.fits.gz</td><td>None</td><td>Dome Flat</td><td>OBJECT</td><td>397801.850278</td><td>2015-05-20T01:51:01.10</td><td>None</td><td>09:37:06.5</td><td>37:25:56.0</td><td>1.0</td><td>350</td><td>2112</td><td>None</td><td>15</td><td>None</td><td>None</td><td>None</td><td>None</td><td>None</td><td>2.0 arcsec</td><td>None</td><td>None</td><td>None</td><td>None</td><td>d55</td><td>600/4310</td><td>None</td><td>Blue</td><td>off</td><td>Red</td><td>off</td><td>Spare3</td><td>off</td><td>Spare4</td><td>off</td><td>Sup_Blue</td><td>on</td><td>Spare1</td><td>off</td><td>Spare2</td><td>off</td><td>Spare3</td><td>off</td><td>Spare_Ar</td><td>off</td><td>Dim_Neon</td><td>off</td><td>He</td><td>off</td><td>Hg-Cd</td><td>off</td><td>Hg-A</td><td>off</td><td>Spare9</td><td>off</td><td>Neon</td><td>off</td><td>Laser</td><td>off</td><td>SIMPLE .. COMMENT</td></tr>\n",
       "<tr><td>/home/xavier/local/Python/PYPIT-development-suite/RAW_DATA/Shane_Kast_blue/600_4310_d55/</td><td>b7.fits.gz</td><td>None</td><td>Dome Flat</td><td>OBJECT</td><td>397801.859167</td><td>2015-05-20T01:51:33.56</td><td>None</td><td>09:37:39.1</td><td>37:25:56.0</td><td>1.0</td><td>350</td><td>2112</td><td>None</td><td>15</td><td>None</td><td>None</td><td>None</td><td>None</td><td>None</td><td>2.0 arcsec</td><td>None</td><td>None</td><td>None</td><td>None</td><td>d55</td><td>600/4310</td><td>None</td><td>Blue</td><td>off</td><td>Red</td><td>off</td><td>Spare3</td><td>off</td><td>Spare4</td><td>off</td><td>Sup_Blue</td><td>on</td><td>Spare1</td><td>off</td><td>Spare2</td><td>off</td><td>Spare3</td><td>off</td><td>Spare_Ar</td><td>off</td><td>Dim_Neon</td><td>off</td><td>He</td><td>off</td><td>Hg-Cd</td><td>off</td><td>Hg-A</td><td>off</td><td>Spare9</td><td>off</td><td>Neon</td><td>off</td><td>Laser</td><td>off</td><td>SIMPLE .. COMMENT</td></tr>\n",
       "<tr><td>/home/xavier/local/Python/PYPIT-development-suite/RAW_DATA/Shane_Kast_blue/600_4310_d55/</td><td>b8.fits.gz</td><td>None</td><td>Dome Flat</td><td>OBJECT</td><td>397801.868333</td><td>2015-05-20T01:52:06.03</td><td>None</td><td>09:38:11.7</td><td>37:25:56.0</td><td>1.0</td><td>350</td><td>2112</td><td>None</td><td>15</td><td>None</td><td>None</td><td>None</td><td>None</td><td>None</td><td>2.0 arcsec</td><td>None</td><td>None</td><td>None</td><td>None</td><td>d55</td><td>600/4310</td><td>None</td><td>Blue</td><td>off</td><td>Red</td><td>off</td><td>Spare3</td><td>off</td><td>Spare4</td><td>off</td><td>Sup_Blue</td><td>on</td><td>Spare1</td><td>off</td><td>Spare2</td><td>off</td><td>Spare3</td><td>off</td><td>Spare_Ar</td><td>off</td><td>Dim_Neon</td><td>off</td><td>He</td><td>off</td><td>Hg-Cd</td><td>off</td><td>Hg-A</td><td>off</td><td>Spare9</td><td>off</td><td>Neon</td><td>off</td><td>Laser</td><td>off</td><td>SIMPLE .. COMMENT</td></tr>\n",
       "<tr><td>/home/xavier/local/Python/PYPIT-development-suite/RAW_DATA/Shane_Kast_blue/600_4310_d55/</td><td>b9.fits.gz</td><td>None</td><td>Dome Flat</td><td>OBJECT</td><td>397801.877222</td><td>2015-05-20T01:52:38.46</td><td>None</td><td>09:38:44.3</td><td>37:25:56.0</td><td>1.0</td><td>350</td><td>2112</td><td>None</td><td>15</td><td>None</td><td>None</td><td>None</td><td>None</td><td>None</td><td>2.0 arcsec</td><td>None</td><td>None</td><td>None</td><td>None</td><td>d55</td><td>600/4310</td><td>None</td><td>Blue</td><td>off</td><td>Red</td><td>off</td><td>Spare3</td><td>off</td><td>Spare4</td><td>off</td><td>Sup_Blue</td><td>on</td><td>Spare1</td><td>off</td><td>Spare2</td><td>off</td><td>Spare3</td><td>off</td><td>Spare_Ar</td><td>off</td><td>Dim_Neon</td><td>off</td><td>He</td><td>off</td><td>Hg-Cd</td><td>off</td><td>Hg-A</td><td>off</td><td>Spare9</td><td>off</td><td>Neon</td><td>off</td><td>Laser</td><td>off</td><td>SIMPLE .. COMMENT</td></tr>\n",
       "<tr><td>/home/xavier/local/Python/PYPIT-development-suite/RAW_DATA/Shane_Kast_blue/600_4310_d55/</td><td>b10.fits.gz</td><td>None</td><td>Dome Flat</td><td>OBJECT</td><td>397801.886111</td><td>2015-05-20T01:53:10.95</td><td>None</td><td>09:39:16.9</td><td>37:25:56.0</td><td>1.0</td><td>350</td><td>2112</td><td>None</td><td>15</td><td>None</td><td>None</td><td>None</td><td>None</td><td>None</td><td>2.0 arcsec</td><td>None</td><td>None</td><td>None</td><td>None</td><td>d55</td><td>600/4310</td><td>None</td><td>Blue</td><td>off</td><td>Red</td><td>off</td><td>Spare3</td><td>off</td><td>Spare4</td><td>off</td><td>Sup_Blue</td><td>on</td><td>Spare1</td><td>off</td><td>Spare2</td><td>off</td><td>Spare3</td><td>off</td><td>Spare_Ar</td><td>off</td><td>Dim_Neon</td><td>off</td><td>He</td><td>off</td><td>Hg-Cd</td><td>off</td><td>Hg-A</td><td>off</td><td>Spare9</td><td>off</td><td>Neon</td><td>off</td><td>Laser</td><td>off</td><td>SIMPLE .. COMMENT</td></tr>\n",
       "<tr><td>/home/xavier/local/Python/PYPIT-development-suite/RAW_DATA/Shane_Kast_blue/600_4310_d55/</td><td>b11.fits.gz</td><td>None</td><td>Dome Flat</td><td>OBJECT</td><td>397801.895278</td><td>2015-05-20T01:53:43.42</td><td>None</td><td>09:39:49.2</td><td>37:25:56.0</td><td>1.0</td><td>350</td><td>2112</td><td>None</td><td>15</td><td>None</td><td>None</td><td>None</td><td>None</td><td>None</td><td>2.0 arcsec</td><td>None</td><td>None</td><td>None</td><td>None</td><td>d55</td><td>600/4310</td><td>None</td><td>Blue</td><td>off</td><td>Red</td><td>off</td><td>Spare3</td><td>off</td><td>Spare4</td><td>off</td><td>Sup_Blue</td><td>on</td><td>Spare1</td><td>off</td><td>Spare2</td><td>off</td><td>Spare3</td><td>off</td><td>Spare_Ar</td><td>off</td><td>Dim_Neon</td><td>off</td><td>He</td><td>off</td><td>Hg-Cd</td><td>off</td><td>Hg-A</td><td>off</td><td>Spare9</td><td>off</td><td>Neon</td><td>off</td><td>Laser</td><td>off</td><td>SIMPLE .. COMMENT</td></tr>\n",
       "<tr><td>/home/xavier/local/Python/PYPIT-development-suite/RAW_DATA/Shane_Kast_blue/600_4310_d55/</td><td>b12.fits.gz</td><td>None</td><td>Dome Flat</td><td>OBJECT</td><td>397801.904167</td><td>2015-05-20T01:54:15.96</td><td>None</td><td>09:40:21.8</td><td>37:25:56.0</td><td>1.0</td><td>350</td><td>2112</td><td>None</td><td>15</td><td>None</td><td>None</td><td>None</td><td>None</td><td>None</td><td>2.0 arcsec</td><td>None</td><td>None</td><td>None</td><td>None</td><td>d55</td><td>600/4310</td><td>None</td><td>Blue</td><td>off</td><td>Red</td><td>off</td><td>Spare3</td><td>off</td><td>Spare4</td><td>off</td><td>Sup_Blue</td><td>on</td><td>Spare1</td><td>off</td><td>Spare2</td><td>off</td><td>Spare3</td><td>off</td><td>Spare_Ar</td><td>off</td><td>Dim_Neon</td><td>off</td><td>He</td><td>off</td><td>Hg-Cd</td><td>off</td><td>Hg-A</td><td>off</td><td>Spare9</td><td>off</td><td>Neon</td><td>off</td><td>Laser</td><td>off</td><td>SIMPLE .. COMMENT</td></tr>\n",
       "<tr><td>/home/xavier/local/Python/PYPIT-development-suite/RAW_DATA/Shane_Kast_blue/600_4310_d55/</td><td>b13.fits.gz</td><td>None</td><td>Dome Flat</td><td>OBJECT</td><td>397801.913333</td><td>2015-05-20T01:54:48.52</td><td>None</td><td>09:40:54.7</td><td>37:25:56.0</td><td>1.0</td><td>350</td><td>2112</td><td>None</td><td>15</td><td>None</td><td>None</td><td>None</td><td>None</td><td>None</td><td>2.0 arcsec</td><td>None</td><td>None</td><td>None</td><td>None</td><td>d55</td><td>600/4310</td><td>None</td><td>Blue</td><td>off</td><td>Red</td><td>off</td><td>Spare3</td><td>off</td><td>Spare4</td><td>off</td><td>Sup_Blue</td><td>on</td><td>Spare1</td><td>off</td><td>Spare2</td><td>off</td><td>Spare3</td><td>off</td><td>Spare_Ar</td><td>off</td><td>Dim_Neon</td><td>off</td><td>He</td><td>off</td><td>Hg-Cd</td><td>off</td><td>Hg-A</td><td>off</td><td>Spare9</td><td>off</td><td>Neon</td><td>off</td><td>Laser</td><td>off</td><td>SIMPLE .. COMMENT</td></tr>\n",
       "</table>"
      ],
      "text/plain": [
       "<Table length=12>\n",
       "                                       directory                                         ...\n",
       "                                         str88                                           ...\n",
       "---------------------------------------------------------------------------------------- ...\n",
       "/home/xavier/local/Python/PYPIT-development-suite/RAW_DATA/Shane_Kast_blue/600_4310_d55/ ...\n",
       "/home/xavier/local/Python/PYPIT-development-suite/RAW_DATA/Shane_Kast_blue/600_4310_d55/ ...\n",
       "/home/xavier/local/Python/PYPIT-development-suite/RAW_DATA/Shane_Kast_blue/600_4310_d55/ ...\n",
       "/home/xavier/local/Python/PYPIT-development-suite/RAW_DATA/Shane_Kast_blue/600_4310_d55/ ...\n",
       "/home/xavier/local/Python/PYPIT-development-suite/RAW_DATA/Shane_Kast_blue/600_4310_d55/ ...\n",
       "/home/xavier/local/Python/PYPIT-development-suite/RAW_DATA/Shane_Kast_blue/600_4310_d55/ ...\n",
       "/home/xavier/local/Python/PYPIT-development-suite/RAW_DATA/Shane_Kast_blue/600_4310_d55/ ...\n",
       "/home/xavier/local/Python/PYPIT-development-suite/RAW_DATA/Shane_Kast_blue/600_4310_d55/ ...\n",
       "/home/xavier/local/Python/PYPIT-development-suite/RAW_DATA/Shane_Kast_blue/600_4310_d55/ ...\n",
       "/home/xavier/local/Python/PYPIT-development-suite/RAW_DATA/Shane_Kast_blue/600_4310_d55/ ...\n",
       "/home/xavier/local/Python/PYPIT-development-suite/RAW_DATA/Shane_Kast_blue/600_4310_d55/ ...\n",
       "/home/xavier/local/Python/PYPIT-development-suite/RAW_DATA/Shane_Kast_blue/600_4310_d55/ ..."
      ]
     },
     "execution_count": 11,
     "metadata": {},
     "output_type": "execute_result"
    }
   ],
   "source": [
    "fitstbl[both]"
   ]
  },
  {
   "cell_type": "code",
   "execution_count": 13,
   "metadata": {},
   "outputs": [
    {
     "data": {
      "text/html": [
       "<i>Table length=5</i>\n",
       "<table id=\"table140616727444392\" class=\"table-striped table-bordered table-condensed\">\n",
       "<thead><tr><th>directory</th><th>filename</th><th>utc</th><th>target</th><th>idname</th><th>time</th><th>date</th><th>equinox</th><th>ra</th><th>dec</th><th>airmass</th><th>naxis0</th><th>naxis1</th><th>binning</th><th>exptime</th><th>filter1</th><th>filter2</th><th>hatch</th><th>shutopen</th><th>shutclose</th><th>decker</th><th>lamps</th><th>slitwid</th><th>slitlen</th><th>detrot</th><th>dichroic</th><th>dispname</th><th>dispangle</th><th>lampname01</th><th>lampstat01</th><th>lampname02</th><th>lampstat02</th><th>lampname03</th><th>lampstat03</th><th>lampname04</th><th>lampstat04</th><th>lampname05</th><th>lampstat05</th><th>lampname06</th><th>lampstat06</th><th>lampname07</th><th>lampstat07</th><th>lampname08</th><th>lampstat08</th><th>lampname09</th><th>lampstat09</th><th>lampname10</th><th>lampstat10</th><th>lampname11</th><th>lampstat11</th><th>lampname12</th><th>lampstat12</th><th>lampname13</th><th>lampstat13</th><th>lampname14</th><th>lampstat14</th><th>lampname15</th><th>lampstat15</th><th>lampname16</th><th>lampstat16</th><th>headers [1,152]</th><th>arc</th><th>bias</th><th>dark</th><th>pinhole</th><th>pixelflat</th><th>science</th><th>standard</th><th>trace</th><th>unknown</th></tr></thead>\n",
       "<thead><tr><th>str88</th><th>str11</th><th>object</th><th>str10</th><th>str6</th><th>float64</th><th>str22</th><th>str4</th><th>str10</th><th>str10</th><th>float64</th><th>int64</th><th>int64</th><th>str4</th><th>int64</th><th>str4</th><th>str4</th><th>str4</th><th>str4</th><th>str4</th><th>str10</th><th>str4</th><th>str4</th><th>str4</th><th>str4</th><th>str3</th><th>str8</th><th>str4</th><th>str4</th><th>str3</th><th>str3</th><th>str3</th><th>str6</th><th>str3</th><th>str6</th><th>str3</th><th>str8</th><th>str3</th><th>str6</th><th>str3</th><th>str6</th><th>str3</th><th>str6</th><th>str3</th><th>str8</th><th>str3</th><th>str8</th><th>str3</th><th>str2</th><th>str3</th><th>str5</th><th>str3</th><th>str4</th><th>str3</th><th>str6</th><th>str3</th><th>str4</th><th>str3</th><th>str5</th><th>str3</th><th>str8</th><th>bool</th><th>bool</th><th>bool</th><th>bool</th><th>bool</th><th>bool</th><th>bool</th><th>bool</th><th>bool</th></tr></thead>\n",
       "<tr><td>/home/xavier/local/Python/PYPIT-development-suite/RAW_DATA/Shane_Kast_blue/600_4310_d55/</td><td>b1.fits.gz</td><td>None</td><td>Arcs</td><td>OBJECT</td><td>397801.599444</td><td>2015-05-20T01:35:58.10</td><td>None</td><td>09:21:46.0</td><td>37:25:56.0</td><td>1.0</td><td>350</td><td>2112</td><td>None</td><td>30</td><td>None</td><td>None</td><td>None</td><td>None</td><td>None</td><td>0.5 arcsec</td><td>None</td><td>None</td><td>None</td><td>None</td><td>d55</td><td>600/4310</td><td>None</td><td>Blue</td><td>off</td><td>Red</td><td>off</td><td>Spare3</td><td>off</td><td>Spare4</td><td>off</td><td>Sup_Blue</td><td>off</td><td>Spare1</td><td>off</td><td>Spare2</td><td>off</td><td>Spare3</td><td>off</td><td>Spare_Ar</td><td>off</td><td>Dim_Neon</td><td>off</td><td>He</td><td>on</td><td>Hg-Cd</td><td>on</td><td>Hg-A</td><td>off</td><td>Spare9</td><td>off</td><td>Neon</td><td>off</td><td>Laser</td><td>off</td><td>SIMPLE .. COMMENT</td><td>True</td><td>False</td><td>False</td><td>False</td><td>False</td><td>False</td><td>False</td><td>False</td><td>False</td></tr>\n",
       "<tr><td>/home/xavier/local/Python/PYPIT-development-suite/RAW_DATA/Shane_Kast_blue/600_4310_d55/</td><td>b2.fits.gz</td><td>None</td><td>Dome Flat</td><td>OBJECT</td><td>397801.793611</td><td>2015-05-20T01:47:37.23</td><td>None</td><td>09:33:26.9</td><td>37:25:56.0</td><td>1.0</td><td>350</td><td>2112</td><td>None</td><td>30</td><td>None</td><td>None</td><td>None</td><td>None</td><td>None</td><td>2.0 arcsec</td><td>None</td><td>None</td><td>None</td><td>None</td><td>d55</td><td>600/4310</td><td>None</td><td>Blue</td><td>off</td><td>Red</td><td>off</td><td>Spare3</td><td>off</td><td>Spare4</td><td>off</td><td>Sup_Blue</td><td>on</td><td>Spare1</td><td>off</td><td>Spare2</td><td>off</td><td>Spare3</td><td>off</td><td>Spare_Ar</td><td>off</td><td>Dim_Neon</td><td>off</td><td>He</td><td>off</td><td>Hg-Cd</td><td>off</td><td>Hg-A</td><td>off</td><td>Spare9</td><td>off</td><td>Neon</td><td>off</td><td>Laser</td><td>off</td><td>SIMPLE .. COMMENT</td><td>False</td><td>False</td><td>False</td><td>False</td><td>True</td><td>False</td><td>False</td><td>True</td><td>False</td></tr>\n",
       "<tr><td>/home/xavier/local/Python/PYPIT-development-suite/RAW_DATA/Shane_Kast_blue/600_4310_d55/</td><td>b3.fits.gz</td><td>None</td><td>Dome Flat</td><td>OBJECT</td><td>397801.823056</td><td>2015-05-20T01:49:23.29</td><td>None</td><td>09:35:28.3</td><td>37:25:56.0</td><td>1.0</td><td>350</td><td>2112</td><td>None</td><td>15</td><td>None</td><td>None</td><td>None</td><td>None</td><td>None</td><td>2.0 arcsec</td><td>None</td><td>None</td><td>None</td><td>None</td><td>d55</td><td>600/4310</td><td>None</td><td>Blue</td><td>off</td><td>Red</td><td>off</td><td>Spare3</td><td>off</td><td>Spare4</td><td>off</td><td>Sup_Blue</td><td>on</td><td>Spare1</td><td>off</td><td>Spare2</td><td>off</td><td>Spare3</td><td>off</td><td>Spare_Ar</td><td>off</td><td>Dim_Neon</td><td>off</td><td>He</td><td>off</td><td>Hg-Cd</td><td>off</td><td>Hg-A</td><td>off</td><td>Spare9</td><td>off</td><td>Neon</td><td>off</td><td>Laser</td><td>off</td><td>SIMPLE .. COMMENT</td><td>False</td><td>False</td><td>False</td><td>False</td><td>True</td><td>False</td><td>False</td><td>True</td><td>False</td></tr>\n",
       "<tr><td>/home/xavier/local/Python/PYPIT-development-suite/RAW_DATA/Shane_Kast_blue/600_4310_d55/</td><td>b4.fits.gz</td><td>None</td><td>Dome Flat</td><td>OBJECT</td><td>397801.831944</td><td>2015-05-20T01:49:55.93</td><td>None</td><td>09:36:01.1</td><td>37:25:56.0</td><td>1.0</td><td>350</td><td>2112</td><td>None</td><td>15</td><td>None</td><td>None</td><td>None</td><td>None</td><td>None</td><td>2.0 arcsec</td><td>None</td><td>None</td><td>None</td><td>None</td><td>d55</td><td>600/4310</td><td>None</td><td>Blue</td><td>off</td><td>Red</td><td>off</td><td>Spare3</td><td>off</td><td>Spare4</td><td>off</td><td>Sup_Blue</td><td>on</td><td>Spare1</td><td>off</td><td>Spare2</td><td>off</td><td>Spare3</td><td>off</td><td>Spare_Ar</td><td>off</td><td>Dim_Neon</td><td>off</td><td>He</td><td>off</td><td>Hg-Cd</td><td>off</td><td>Hg-A</td><td>off</td><td>Spare9</td><td>off</td><td>Neon</td><td>off</td><td>Laser</td><td>off</td><td>SIMPLE .. COMMENT</td><td>False</td><td>False</td><td>False</td><td>False</td><td>True</td><td>False</td><td>False</td><td>True</td><td>False</td></tr>\n",
       "<tr><td>/home/xavier/local/Python/PYPIT-development-suite/RAW_DATA/Shane_Kast_blue/600_4310_d55/</td><td>b5.fits.gz</td><td>None</td><td>Dome Flat</td><td>OBJECT</td><td>397801.841111</td><td>2015-05-20T01:50:28.57</td><td>None</td><td>09:36:33.7</td><td>37:25:56.0</td><td>1.0</td><td>350</td><td>2112</td><td>None</td><td>15</td><td>None</td><td>None</td><td>None</td><td>None</td><td>None</td><td>2.0 arcsec</td><td>None</td><td>None</td><td>None</td><td>None</td><td>d55</td><td>600/4310</td><td>None</td><td>Blue</td><td>off</td><td>Red</td><td>off</td><td>Spare3</td><td>off</td><td>Spare4</td><td>off</td><td>Sup_Blue</td><td>on</td><td>Spare1</td><td>off</td><td>Spare2</td><td>off</td><td>Spare3</td><td>off</td><td>Spare_Ar</td><td>off</td><td>Dim_Neon</td><td>off</td><td>He</td><td>off</td><td>Hg-Cd</td><td>off</td><td>Hg-A</td><td>off</td><td>Spare9</td><td>off</td><td>Neon</td><td>off</td><td>Laser</td><td>off</td><td>SIMPLE .. COMMENT</td><td>False</td><td>False</td><td>False</td><td>False</td><td>True</td><td>False</td><td>False</td><td>True</td><td>False</td></tr>\n",
       "</table>"
      ],
      "text/plain": [
       "<Table length=5>\n",
       "                                       directory                                         ...\n",
       "                                         str88                                           ...\n",
       "---------------------------------------------------------------------------------------- ...\n",
       "/home/xavier/local/Python/PYPIT-development-suite/RAW_DATA/Shane_Kast_blue/600_4310_d55/ ...\n",
       "/home/xavier/local/Python/PYPIT-development-suite/RAW_DATA/Shane_Kast_blue/600_4310_d55/ ...\n",
       "/home/xavier/local/Python/PYPIT-development-suite/RAW_DATA/Shane_Kast_blue/600_4310_d55/ ...\n",
       "/home/xavier/local/Python/PYPIT-development-suite/RAW_DATA/Shane_Kast_blue/600_4310_d55/ ...\n",
       "/home/xavier/local/Python/PYPIT-development-suite/RAW_DATA/Shane_Kast_blue/600_4310_d55/ ..."
      ]
     },
     "execution_count": 13,
     "metadata": {},
     "output_type": "execute_result"
    }
   ],
   "source": [
    "setupc.fitstbl[0:5]"
   ]
  },
  {
   "cell_type": "markdown",
   "metadata": {},
   "source": [
    "## Match to science"
   ]
  },
  {
   "cell_type": "code",
   "execution_count": 14,
   "metadata": {},
   "outputs": [
    {
     "name": "stderr",
     "output_type": "stream",
     "text": [
      "\u001b[1;32m[INFO]    ::\u001b[0m \u001b[1;34marsort.py 739 new_match_to_science()\u001b[0m - Matching calibrations to Science frames\n",
      "\u001b[1;32m[INFO]    ::\u001b[0m \u001b[1;34marsort.py 763 new_match_to_science()\u001b[0m - Matching calibrations to J1217p3905: b27.fits.gz\n",
      "\u001b[1;32m[INFO]    ::\u001b[0m \u001b[1;34marsort.py 814 new_match_to_science()\u001b[0m -   Found 1 arc frame for J1217p3905 (1 required)\n",
      "\u001b[1;32m[INFO]    ::\u001b[0m \u001b[1;34marsort.py 814 new_match_to_science()\u001b[0m -   Found 10 bias frame for J1217p3905 (5 required)\n",
      "\u001b[1;32m[INFO]    ::\u001b[0m \u001b[1;34marsort.py 776 new_match_to_science()\u001b[0m -   Dark frames not required.  Not matching..\n",
      "\u001b[1;32m[INFO]    ::\u001b[0m \u001b[1;34marsort.py 790 new_match_to_science()\u001b[0m - No pinhole frames are required.  Not matching..\n",
      "\u001b[1;32m[INFO]    ::\u001b[0m \u001b[1;34marsort.py 814 new_match_to_science()\u001b[0m -   Found 12 pixelflat frame for J1217p3905 (5 required)\n",
      "\u001b[1;32m[INFO]    ::\u001b[0m \u001b[1;34marsort.py 814 new_match_to_science()\u001b[0m -   Found 1 standard frame for J1217p3905 (1 required)\n",
      "\u001b[1;32m[INFO]    ::\u001b[0m \u001b[1;34marsort.py 814 new_match_to_science()\u001b[0m -   Found 12 trace frame for J1217p3905 (3 required)\n",
      "\u001b[1;32m[INFO]    ::\u001b[0m \u001b[1;34marsort.py 763 new_match_to_science()\u001b[0m - Matching calibrations to J1217p3905: b28.fits.gz\n",
      "\u001b[1;32m[INFO]    ::\u001b[0m \u001b[1;34marsort.py 814 new_match_to_science()\u001b[0m -   Found 1 arc frame for J1217p3905 (1 required)\n",
      "\u001b[1;32m[INFO]    ::\u001b[0m \u001b[1;34marsort.py 814 new_match_to_science()\u001b[0m -   Found 10 bias frame for J1217p3905 (5 required)\n",
      "\u001b[1;32m[INFO]    ::\u001b[0m \u001b[1;34marsort.py 776 new_match_to_science()\u001b[0m -   Dark frames not required.  Not matching..\n",
      "\u001b[1;32m[INFO]    ::\u001b[0m \u001b[1;34marsort.py 790 new_match_to_science()\u001b[0m - No pinhole frames are required.  Not matching..\n",
      "\u001b[1;32m[INFO]    ::\u001b[0m \u001b[1;34marsort.py 814 new_match_to_science()\u001b[0m -   Found 12 pixelflat frame for J1217p3905 (5 required)\n",
      "\u001b[1;32m[INFO]    ::\u001b[0m \u001b[1;34marsort.py 814 new_match_to_science()\u001b[0m -   Found 1 standard frame for J1217p3905 (1 required)\n",
      "\u001b[1;32m[INFO]    ::\u001b[0m \u001b[1;34marsort.py 814 new_match_to_science()\u001b[0m -   Found 12 trace frame for J1217p3905 (3 required)\n",
      "\u001b[1;32m[INFO]    ::\u001b[0m \u001b[1;34marsort.py 763 new_match_to_science()\u001b[0m - Matching calibrations to J1217p3905: b29.fits.gz\n",
      "\u001b[1;32m[INFO]    ::\u001b[0m \u001b[1;34marsort.py 814 new_match_to_science()\u001b[0m -   Found 1 arc frame for J1217p3905 (1 required)\n",
      "\u001b[1;32m[INFO]    ::\u001b[0m \u001b[1;34marsort.py 814 new_match_to_science()\u001b[0m -   Found 10 bias frame for J1217p3905 (5 required)\n",
      "\u001b[1;32m[INFO]    ::\u001b[0m \u001b[1;34marsort.py 776 new_match_to_science()\u001b[0m -   Dark frames not required.  Not matching..\n",
      "\u001b[1;32m[INFO]    ::\u001b[0m \u001b[1;34marsort.py 790 new_match_to_science()\u001b[0m - No pinhole frames are required.  Not matching..\n",
      "\u001b[1;32m[INFO]    ::\u001b[0m \u001b[1;34marsort.py 814 new_match_to_science()\u001b[0m -   Found 12 pixelflat frame for J1217p3905 (5 required)\n",
      "\u001b[1;32m[INFO]    ::\u001b[0m \u001b[1;34marsort.py 814 new_match_to_science()\u001b[0m -   Found 1 standard frame for J1217p3905 (1 required)\n",
      "\u001b[1;32m[INFO]    ::\u001b[0m \u001b[1;34marsort.py 814 new_match_to_science()\u001b[0m -   Found 12 trace frame for J1217p3905 (3 required)\n",
      "\u001b[1;32m[INFO]    ::\u001b[0m \u001b[1;34marsort.py 835 new_match_to_science()\u001b[0m - Science frames successfully matched to calibration frames\n"
     ]
    },
    {
     "data": {
      "text/html": [
       "<i>Table length=5</i>\n",
       "<table id=\"table140616727400400\" class=\"table-striped table-bordered table-condensed\">\n",
       "<thead><tr><th>directory</th><th>filename</th><th>utc</th><th>target</th><th>idname</th><th>time</th><th>date</th><th>equinox</th><th>ra</th><th>dec</th><th>airmass</th><th>naxis0</th><th>naxis1</th><th>binning</th><th>exptime</th><th>filter1</th><th>filter2</th><th>hatch</th><th>shutopen</th><th>shutclose</th><th>decker</th><th>lamps</th><th>slitwid</th><th>slitlen</th><th>detrot</th><th>dichroic</th><th>dispname</th><th>dispangle</th><th>lampname01</th><th>lampstat01</th><th>lampname02</th><th>lampstat02</th><th>lampname03</th><th>lampstat03</th><th>lampname04</th><th>lampstat04</th><th>lampname05</th><th>lampstat05</th><th>lampname06</th><th>lampstat06</th><th>lampname07</th><th>lampstat07</th><th>lampname08</th><th>lampstat08</th><th>lampname09</th><th>lampstat09</th><th>lampname10</th><th>lampstat10</th><th>lampname11</th><th>lampstat11</th><th>lampname12</th><th>lampstat12</th><th>lampname13</th><th>lampstat13</th><th>lampname14</th><th>lampstat14</th><th>lampname15</th><th>lampstat15</th><th>lampname16</th><th>lampstat16</th><th>headers [1,152]</th><th>arc</th><th>bias</th><th>dark</th><th>pinhole</th><th>pixelflat</th><th>science</th><th>standard</th><th>trace</th><th>unknown</th><th>failures</th><th>sci_idx</th></tr></thead>\n",
       "<thead><tr><th>str88</th><th>str11</th><th>object</th><th>str10</th><th>str6</th><th>float64</th><th>str22</th><th>str4</th><th>str10</th><th>str10</th><th>float64</th><th>int64</th><th>int64</th><th>str4</th><th>int64</th><th>str4</th><th>str4</th><th>str4</th><th>str4</th><th>str4</th><th>str10</th><th>str4</th><th>str4</th><th>str4</th><th>str4</th><th>str3</th><th>str8</th><th>str4</th><th>str4</th><th>str3</th><th>str3</th><th>str3</th><th>str6</th><th>str3</th><th>str6</th><th>str3</th><th>str8</th><th>str3</th><th>str6</th><th>str3</th><th>str6</th><th>str3</th><th>str6</th><th>str3</th><th>str8</th><th>str3</th><th>str8</th><th>str3</th><th>str2</th><th>str3</th><th>str5</th><th>str3</th><th>str4</th><th>str3</th><th>str6</th><th>str3</th><th>str4</th><th>str3</th><th>str5</th><th>str3</th><th>str8</th><th>bool</th><th>bool</th><th>bool</th><th>bool</th><th>bool</th><th>bool</th><th>bool</th><th>bool</th><th>bool</th><th>bool</th><th>int64</th></tr></thead>\n",
       "<tr><td>/home/xavier/local/Python/PYPIT-development-suite/RAW_DATA/Shane_Kast_blue/600_4310_d55/</td><td>b1.fits.gz</td><td>None</td><td>Arcs</td><td>OBJECT</td><td>397801.599444</td><td>2015-05-20T01:35:58.10</td><td>None</td><td>09:21:46.0</td><td>37:25:56.0</td><td>1.0</td><td>350</td><td>2112</td><td>None</td><td>30</td><td>None</td><td>None</td><td>None</td><td>None</td><td>None</td><td>0.5 arcsec</td><td>None</td><td>None</td><td>None</td><td>None</td><td>d55</td><td>600/4310</td><td>None</td><td>Blue</td><td>off</td><td>Red</td><td>off</td><td>Spare3</td><td>off</td><td>Spare4</td><td>off</td><td>Sup_Blue</td><td>off</td><td>Spare1</td><td>off</td><td>Spare2</td><td>off</td><td>Spare3</td><td>off</td><td>Spare_Ar</td><td>off</td><td>Dim_Neon</td><td>off</td><td>He</td><td>on</td><td>Hg-Cd</td><td>on</td><td>Hg-A</td><td>off</td><td>Spare9</td><td>off</td><td>Neon</td><td>off</td><td>Laser</td><td>off</td><td>SIMPLE .. COMMENT</td><td>True</td><td>False</td><td>False</td><td>False</td><td>False</td><td>False</td><td>False</td><td>False</td><td>False</td><td>False</td><td>7</td></tr>\n",
       "<tr><td>/home/xavier/local/Python/PYPIT-development-suite/RAW_DATA/Shane_Kast_blue/600_4310_d55/</td><td>b2.fits.gz</td><td>None</td><td>Dome Flat</td><td>OBJECT</td><td>397801.793611</td><td>2015-05-20T01:47:37.23</td><td>None</td><td>09:33:26.9</td><td>37:25:56.0</td><td>1.0</td><td>350</td><td>2112</td><td>None</td><td>30</td><td>None</td><td>None</td><td>None</td><td>None</td><td>None</td><td>2.0 arcsec</td><td>None</td><td>None</td><td>None</td><td>None</td><td>d55</td><td>600/4310</td><td>None</td><td>Blue</td><td>off</td><td>Red</td><td>off</td><td>Spare3</td><td>off</td><td>Spare4</td><td>off</td><td>Sup_Blue</td><td>on</td><td>Spare1</td><td>off</td><td>Spare2</td><td>off</td><td>Spare3</td><td>off</td><td>Spare_Ar</td><td>off</td><td>Dim_Neon</td><td>off</td><td>He</td><td>off</td><td>Hg-Cd</td><td>off</td><td>Hg-A</td><td>off</td><td>Spare9</td><td>off</td><td>Neon</td><td>off</td><td>Laser</td><td>off</td><td>SIMPLE .. COMMENT</td><td>False</td><td>False</td><td>False</td><td>False</td><td>True</td><td>False</td><td>False</td><td>True</td><td>False</td><td>False</td><td>7</td></tr>\n",
       "<tr><td>/home/xavier/local/Python/PYPIT-development-suite/RAW_DATA/Shane_Kast_blue/600_4310_d55/</td><td>b3.fits.gz</td><td>None</td><td>Dome Flat</td><td>OBJECT</td><td>397801.823056</td><td>2015-05-20T01:49:23.29</td><td>None</td><td>09:35:28.3</td><td>37:25:56.0</td><td>1.0</td><td>350</td><td>2112</td><td>None</td><td>15</td><td>None</td><td>None</td><td>None</td><td>None</td><td>None</td><td>2.0 arcsec</td><td>None</td><td>None</td><td>None</td><td>None</td><td>d55</td><td>600/4310</td><td>None</td><td>Blue</td><td>off</td><td>Red</td><td>off</td><td>Spare3</td><td>off</td><td>Spare4</td><td>off</td><td>Sup_Blue</td><td>on</td><td>Spare1</td><td>off</td><td>Spare2</td><td>off</td><td>Spare3</td><td>off</td><td>Spare_Ar</td><td>off</td><td>Dim_Neon</td><td>off</td><td>He</td><td>off</td><td>Hg-Cd</td><td>off</td><td>Hg-A</td><td>off</td><td>Spare9</td><td>off</td><td>Neon</td><td>off</td><td>Laser</td><td>off</td><td>SIMPLE .. COMMENT</td><td>False</td><td>False</td><td>False</td><td>False</td><td>True</td><td>False</td><td>False</td><td>True</td><td>False</td><td>False</td><td>7</td></tr>\n",
       "<tr><td>/home/xavier/local/Python/PYPIT-development-suite/RAW_DATA/Shane_Kast_blue/600_4310_d55/</td><td>b4.fits.gz</td><td>None</td><td>Dome Flat</td><td>OBJECT</td><td>397801.831944</td><td>2015-05-20T01:49:55.93</td><td>None</td><td>09:36:01.1</td><td>37:25:56.0</td><td>1.0</td><td>350</td><td>2112</td><td>None</td><td>15</td><td>None</td><td>None</td><td>None</td><td>None</td><td>None</td><td>2.0 arcsec</td><td>None</td><td>None</td><td>None</td><td>None</td><td>d55</td><td>600/4310</td><td>None</td><td>Blue</td><td>off</td><td>Red</td><td>off</td><td>Spare3</td><td>off</td><td>Spare4</td><td>off</td><td>Sup_Blue</td><td>on</td><td>Spare1</td><td>off</td><td>Spare2</td><td>off</td><td>Spare3</td><td>off</td><td>Spare_Ar</td><td>off</td><td>Dim_Neon</td><td>off</td><td>He</td><td>off</td><td>Hg-Cd</td><td>off</td><td>Hg-A</td><td>off</td><td>Spare9</td><td>off</td><td>Neon</td><td>off</td><td>Laser</td><td>off</td><td>SIMPLE .. COMMENT</td><td>False</td><td>False</td><td>False</td><td>False</td><td>True</td><td>False</td><td>False</td><td>True</td><td>False</td><td>False</td><td>7</td></tr>\n",
       "<tr><td>/home/xavier/local/Python/PYPIT-development-suite/RAW_DATA/Shane_Kast_blue/600_4310_d55/</td><td>b5.fits.gz</td><td>None</td><td>Dome Flat</td><td>OBJECT</td><td>397801.841111</td><td>2015-05-20T01:50:28.57</td><td>None</td><td>09:36:33.7</td><td>37:25:56.0</td><td>1.0</td><td>350</td><td>2112</td><td>None</td><td>15</td><td>None</td><td>None</td><td>None</td><td>None</td><td>None</td><td>2.0 arcsec</td><td>None</td><td>None</td><td>None</td><td>None</td><td>d55</td><td>600/4310</td><td>None</td><td>Blue</td><td>off</td><td>Red</td><td>off</td><td>Spare3</td><td>off</td><td>Spare4</td><td>off</td><td>Sup_Blue</td><td>on</td><td>Spare1</td><td>off</td><td>Spare2</td><td>off</td><td>Spare3</td><td>off</td><td>Spare_Ar</td><td>off</td><td>Dim_Neon</td><td>off</td><td>He</td><td>off</td><td>Hg-Cd</td><td>off</td><td>Hg-A</td><td>off</td><td>Spare9</td><td>off</td><td>Neon</td><td>off</td><td>Laser</td><td>off</td><td>SIMPLE .. COMMENT</td><td>False</td><td>False</td><td>False</td><td>False</td><td>True</td><td>False</td><td>False</td><td>True</td><td>False</td><td>False</td><td>7</td></tr>\n",
       "</table>"
      ],
      "text/plain": [
       "<Table length=5>\n",
       "                                       directory                                         ...\n",
       "                                         str88                                           ...\n",
       "---------------------------------------------------------------------------------------- ...\n",
       "/home/xavier/local/Python/PYPIT-development-suite/RAW_DATA/Shane_Kast_blue/600_4310_d55/ ...\n",
       "/home/xavier/local/Python/PYPIT-development-suite/RAW_DATA/Shane_Kast_blue/600_4310_d55/ ...\n",
       "/home/xavier/local/Python/PYPIT-development-suite/RAW_DATA/Shane_Kast_blue/600_4310_d55/ ...\n",
       "/home/xavier/local/Python/PYPIT-development-suite/RAW_DATA/Shane_Kast_blue/600_4310_d55/ ...\n",
       "/home/xavier/local/Python/PYPIT-development-suite/RAW_DATA/Shane_Kast_blue/600_4310_d55/ ..."
      ]
     },
     "execution_count": 14,
     "metadata": {},
     "output_type": "execute_result"
    }
   ],
   "source": [
    "fitstbl = setupc.match_to_science()\n",
    "fitstbl[0:5]"
   ]
  },
  {
   "cell_type": "markdown",
   "metadata": {},
   "source": [
    "setupc.match_to_science()"
   ]
  },
  {
   "cell_type": "markdown",
   "metadata": {},
   "source": [
    "----"
   ]
  },
  {
   "cell_type": "code",
   "execution_count": null,
   "metadata": {
    "collapsed": true
   },
   "outputs": [],
   "source": []
  },
  {
   "cell_type": "code",
   "execution_count": null,
   "metadata": {},
   "outputs": [],
   "source": [
    "tmp"
   ]
  }
 ],
 "metadata": {
  "kernelspec": {
   "display_name": "Python 3",
   "language": "python",
   "name": "python3"
  },
  "language_info": {
   "codemirror_mode": {
    "name": "ipython",
    "version": 3
   },
   "file_extension": ".py",
   "mimetype": "text/x-python",
   "name": "python",
   "nbconvert_exporter": "python",
   "pygments_lexer": "ipython3",
   "version": "3.6.3"
  }
 },
 "nbformat": 4,
 "nbformat_minor": 2
}
