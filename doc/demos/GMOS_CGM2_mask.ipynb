{
 "cells": [
  {
   "cell_type": "markdown",
   "metadata": {},
   "source": [
    "# Fussing with a GMOS CGM^2 Mask"
   ]
  },
  {
   "cell_type": "code",
   "execution_count": 1,
   "metadata": {
    "collapsed": true
   },
   "outputs": [],
   "source": [
    "# imports\n",
    "import numpy as np\n",
    "\n",
    "from pypeit import pypeit\n",
    "from pypeit import pypeitsetup\n",
    "from pypeit import traceimage\n",
    "from pypeit.core import parse"
   ]
  },
  {
   "cell_type": "markdown",
   "metadata": {},
   "source": [
    "## Instantiate"
   ]
  },
  {
   "cell_type": "code",
   "execution_count": 2,
   "metadata": {},
   "outputs": [
    {
     "name": "stderr",
     "output_type": "stream",
     "text": [
      "\u001b[1;32m[INFO]    ::\u001b[0m \u001b[1;34mutil.py 431 parse_pypeit_file()\u001b[0m - Loading the reduction file\n",
      "\u001b[1;32m[INFO]    ::\u001b[0m \u001b[1;34mutil.py 456 parse_pypeit_file()\u001b[0m - Found 9 raw data frames\n",
      "\u001b[1;32m[INFO]    ::\u001b[0m \u001b[1;34mutil.py 468 parse_pypeit_file()\u001b[0m - Input file loaded successfully\n"
     ]
    }
   ],
   "source": [
    "pypeit_file = '/scratch/REDUX/Gemini/J1059+1441/gemini_gmos_north_e2v_setup_A/gemini_gmos_north_e2v_setup_A.pypeit'\n",
    "pypeitSetup = pypeitsetup.PypeItSetup.from_pypeit_file(pypeit_file)"
   ]
  },
  {
   "cell_type": "code",
   "execution_count": 3,
   "metadata": {
    "collapsed": true
   },
   "outputs": [],
   "source": [
    "pypeIt = pypeit.instantiate_me(pypeitSetup.spectrograph, verbosity=2, overwrite=True, show=True) #, logname=logname, show=args.show)"
   ]
  },
  {
   "cell_type": "markdown",
   "metadata": {},
   "source": [
    "## Setup "
   ]
  },
  {
   "cell_type": "code",
   "execution_count": 4,
   "metadata": {
    "collapsed": true
   },
   "outputs": [],
   "source": [
    "redux_dir = '/scratch/REDUX/Gemini/J1059+1441/gemini_gmos_north_e2v_setup_A/'"
   ]
  },
  {
   "cell_type": "code",
   "execution_count": 5,
   "metadata": {},
   "outputs": [
    {
     "name": "stderr",
     "output_type": "stream",
     "text": [
      "\u001b[1;32m[INFO]    ::\u001b[0m \u001b[1;34mutil.py 431 parse_pypeit_file()\u001b[0m - Loading the reduction file\n",
      "\u001b[1;32m[INFO]    ::\u001b[0m \u001b[1;34mutil.py 456 parse_pypeit_file()\u001b[0m - Found 9 raw data frames\n",
      "\u001b[1;32m[INFO]    ::\u001b[0m \u001b[1;34mutil.py 468 parse_pypeit_file()\u001b[0m - Input file loaded successfully\n",
      "\u001b[1;31m[WARNING] ::\u001b[0m \u001b[1;34mspectrograph.py 449 check_headers()\u001b[0m - Specific header keyword checks have not been implemented for gemini_gmos_north_e2v.\n",
      "\u001b[1;32m[INFO]    ::\u001b[0m \u001b[1;34mmetadata.py 192 _build()\u001b[0m - Successfully loaded headers for file:\n",
      "             /scratch/REDUX/Gemini/J1059+1441/Raw/N20150116S0251.fits\n",
      "\u001b[1;31m[WARNING] ::\u001b[0m \u001b[1;34mspectrograph.py 449 check_headers()\u001b[0m - Specific header keyword checks have not been implemented for gemini_gmos_north_e2v.\n",
      "\u001b[1;32m[INFO]    ::\u001b[0m \u001b[1;34mmetadata.py 192 _build()\u001b[0m - Successfully loaded headers for file:\n",
      "             /scratch/REDUX/Gemini/J1059+1441/Raw/N20150116S0252.fits\n",
      "\u001b[1;31m[WARNING] ::\u001b[0m \u001b[1;34mspectrograph.py 449 check_headers()\u001b[0m - Specific header keyword checks have not been implemented for gemini_gmos_north_e2v.\n",
      "\u001b[1;32m[INFO]    ::\u001b[0m \u001b[1;34mmetadata.py 192 _build()\u001b[0m - Successfully loaded headers for file:\n",
      "             /scratch/REDUX/Gemini/J1059+1441/Raw/N20150116S0253.fits\n",
      "\u001b[1;31m[WARNING] ::\u001b[0m \u001b[1;34mspectrograph.py 449 check_headers()\u001b[0m - Specific header keyword checks have not been implemented for gemini_gmos_north_e2v.\n",
      "\u001b[1;32m[INFO]    ::\u001b[0m \u001b[1;34mmetadata.py 192 _build()\u001b[0m - Successfully loaded headers for file:\n",
      "             /scratch/REDUX/Gemini/J1059+1441/Raw/N20150116S0095.fits\n",
      "\u001b[1;31m[WARNING] ::\u001b[0m \u001b[1;34mspectrograph.py 449 check_headers()\u001b[0m - Specific header keyword checks have not been implemented for gemini_gmos_north_e2v.\n",
      "\u001b[1;32m[INFO]    ::\u001b[0m \u001b[1;34mmetadata.py 192 _build()\u001b[0m - Successfully loaded headers for file:\n",
      "             /scratch/REDUX/Gemini/J1059+1441/Raw/N20150116S0096.fits\n",
      "\u001b[1;31m[WARNING] ::\u001b[0m \u001b[1;34mspectrograph.py 449 check_headers()\u001b[0m - Specific header keyword checks have not been implemented for gemini_gmos_north_e2v.\n",
      "\u001b[1;32m[INFO]    ::\u001b[0m \u001b[1;34mmetadata.py 192 _build()\u001b[0m - Successfully loaded headers for file:\n",
      "             /scratch/REDUX/Gemini/J1059+1441/Raw/N20150116S0099.fits\n",
      "\u001b[1;31m[WARNING] ::\u001b[0m \u001b[1;34mspectrograph.py 449 check_headers()\u001b[0m - Specific header keyword checks have not been implemented for gemini_gmos_north_e2v.\n",
      "\u001b[1;32m[INFO]    ::\u001b[0m \u001b[1;34mmetadata.py 192 _build()\u001b[0m - Successfully loaded headers for file:\n",
      "             /scratch/REDUX/Gemini/J1059+1441/Raw/N20150116S0094.fits\n",
      "\u001b[1;31m[WARNING] ::\u001b[0m \u001b[1;34mspectrograph.py 449 check_headers()\u001b[0m - Specific header keyword checks have not been implemented for gemini_gmos_north_e2v.\n",
      "\u001b[1;32m[INFO]    ::\u001b[0m \u001b[1;34mmetadata.py 192 _build()\u001b[0m - Successfully loaded headers for file:\n",
      "             /scratch/REDUX/Gemini/J1059+1441/Raw/N20150116S0097.fits\n",
      "\u001b[1;31m[WARNING] ::\u001b[0m \u001b[1;34mspectrograph.py 449 check_headers()\u001b[0m - Specific header keyword checks have not been implemented for gemini_gmos_north_e2v.\n",
      "\u001b[1;32m[INFO]    ::\u001b[0m \u001b[1;34mmetadata.py 192 _build()\u001b[0m - Successfully loaded headers for file:\n",
      "             /scratch/REDUX/Gemini/J1059+1441/Raw/N20150116S0098.fits\n",
      "\u001b[1;32m[INFO]    ::\u001b[0m \u001b[1;34mmetadata.py 195 _build()\u001b[0m - Headers loaded for 9 files successfully\n",
      "\u001b[1;32m[INFO]    ::\u001b[0m \u001b[1;34mmetadata.py 426 get_frame_types()\u001b[0m - Typing files\n",
      "\u001b[1;32m[INFO]    ::\u001b[0m \u001b[1;34mmetadata.py 433 get_frame_types()\u001b[0m - Using user-provided frame types.\n",
      "\u001b[1;32m[INFO]    ::\u001b[0m \u001b[1;34mmetadata.py 583 match_to_science()\u001b[0m - Matching calibrations to Science frames\n",
      "\u001b[1;32m[INFO]    ::\u001b[0m \u001b[1;34mmetadata.py 604 match_to_science()\u001b[0m - ==================================================\n",
      "\u001b[1;32m[INFO]    ::\u001b[0m \u001b[1;34mmetadata.py 605 match_to_science()\u001b[0m - Matching calibrations to frame: J1059+1441\n",
      "\u001b[1;32m[INFO]    ::\u001b[0m \u001b[1;34mmetadata.py 637 match_to_science()\u001b[0m -    No pinhole frames are required.  Not matching...\n",
      "\u001b[1;32m[INFO]    ::\u001b[0m \u001b[1;34mmetadata.py 660 match_to_science()\u001b[0m -   Found 3 trace frame for J1059+1441 (3 required)\n",
      "\u001b[1;32m[INFO]    ::\u001b[0m \u001b[1;34mmetadata.py 637 match_to_science()\u001b[0m -    No standard frames are required.  Not matching...\n",
      "\u001b[1;32m[INFO]    ::\u001b[0m \u001b[1;34mmetadata.py 660 match_to_science()\u001b[0m -   Found 3 pixelflat frame for J1059+1441 (3 required)\n",
      "\u001b[1;32m[INFO]    ::\u001b[0m \u001b[1;34mmetadata.py 660 match_to_science()\u001b[0m -   Found 3 arc frame for J1059+1441 (1 required)\n",
      "\u001b[1;32m[INFO]    ::\u001b[0m \u001b[1;34mmetadata.py 619 match_to_science()\u001b[0m -   Dark frames not required.  Not matching...\n",
      "\u001b[1;32m[INFO]    ::\u001b[0m \u001b[1;34mmetadata.py 660 match_to_science()\u001b[0m -   Found 0 bias frame for J1059+1441 (5 required)\n",
      "\u001b[1;31m[WARNING] ::\u001b[0m \u001b[1;34mframematch.py 398 match_warnings()\u001b[0m -   Only 0/5 bias frames for J1059+1441\n",
      "\u001b[1;32m[INFO]    ::\u001b[0m \u001b[1;34mmetadata.py 604 match_to_science()\u001b[0m - ==================================================\n",
      "\u001b[1;32m[INFO]    ::\u001b[0m \u001b[1;34mmetadata.py 605 match_to_science()\u001b[0m - Matching calibrations to frame: J1059+1441\n",
      "\u001b[1;32m[INFO]    ::\u001b[0m \u001b[1;34mmetadata.py 637 match_to_science()\u001b[0m -    No pinhole frames are required.  Not matching...\n",
      "\u001b[1;32m[INFO]    ::\u001b[0m \u001b[1;34mmetadata.py 660 match_to_science()\u001b[0m -   Found 3 trace frame for J1059+1441 (3 required)\n",
      "\u001b[1;32m[INFO]    ::\u001b[0m \u001b[1;34mmetadata.py 637 match_to_science()\u001b[0m -    No standard frames are required.  Not matching...\n",
      "\u001b[1;32m[INFO]    ::\u001b[0m \u001b[1;34mmetadata.py 660 match_to_science()\u001b[0m -   Found 3 pixelflat frame for J1059+1441 (3 required)\n",
      "\u001b[1;32m[INFO]    ::\u001b[0m \u001b[1;34mmetadata.py 660 match_to_science()\u001b[0m -   Found 3 arc frame for J1059+1441 (1 required)\n",
      "\u001b[1;32m[INFO]    ::\u001b[0m \u001b[1;34mmetadata.py 619 match_to_science()\u001b[0m -   Dark frames not required.  Not matching...\n",
      "\u001b[1;32m[INFO]    ::\u001b[0m \u001b[1;34mmetadata.py 660 match_to_science()\u001b[0m -   Found 0 bias frame for J1059+1441 (5 required)\n",
      "\u001b[1;31m[WARNING] ::\u001b[0m \u001b[1;34mframematch.py 398 match_warnings()\u001b[0m -   Only 0/5 bias frames for J1059+1441\n",
      "\u001b[1;32m[INFO]    ::\u001b[0m \u001b[1;34mmetadata.py 604 match_to_science()\u001b[0m - ==================================================\n",
      "\u001b[1;32m[INFO]    ::\u001b[0m \u001b[1;34mmetadata.py 605 match_to_science()\u001b[0m - Matching calibrations to frame: J1059+1441\n",
      "\u001b[1;32m[INFO]    ::\u001b[0m \u001b[1;34mmetadata.py 637 match_to_science()\u001b[0m -    No pinhole frames are required.  Not matching...\n",
      "\u001b[1;32m[INFO]    ::\u001b[0m \u001b[1;34mmetadata.py 660 match_to_science()\u001b[0m -   Found 3 trace frame for J1059+1441 (3 required)\n",
      "\u001b[1;32m[INFO]    ::\u001b[0m \u001b[1;34mmetadata.py 637 match_to_science()\u001b[0m -    No standard frames are required.  Not matching...\n",
      "\u001b[1;32m[INFO]    ::\u001b[0m \u001b[1;34mmetadata.py 660 match_to_science()\u001b[0m -   Found 3 pixelflat frame for J1059+1441 (3 required)\n",
      "\u001b[1;32m[INFO]    ::\u001b[0m \u001b[1;34mmetadata.py 660 match_to_science()\u001b[0m -   Found 3 arc frame for J1059+1441 (1 required)\n",
      "\u001b[1;32m[INFO]    ::\u001b[0m \u001b[1;34mmetadata.py 619 match_to_science()\u001b[0m -   Dark frames not required.  Not matching...\n",
      "\u001b[1;32m[INFO]    ::\u001b[0m \u001b[1;34mmetadata.py 660 match_to_science()\u001b[0m -   Found 0 bias frame for J1059+1441 (5 required)\n",
      "\u001b[1;31m[WARNING] ::\u001b[0m \u001b[1;34mframematch.py 398 match_warnings()\u001b[0m -   Only 0/5 bias frames for J1059+1441\n",
      "\u001b[1;32m[INFO]    ::\u001b[0m \u001b[1;34mmetadata.py 683 match_to_science()\u001b[0m - Science frames successfully matched to calibration frames.\n",
      "\u001b[1;32m[INFO]    ::\u001b[0m \u001b[1;34mmetadata.py 532 write()\u001b[0m - Writing fits file metadata to /scratch/REDUX/Gemini/J1059+1441/gemini_gmos_north_e2v_setup_A/gemini_gmos_north_e2v_setup_A.lst.\n",
      "\u001b[1;32m[INFO]    ::\u001b[0m \u001b[1;34mpypeitsetup.py 483 run()\u001b[0m - Inspect the .calib file: /scratch/REDUX/Gemini/J1059+1441/gemini_gmos_north_e2v_setup_A/gemini_gmos_north_e2v_setup_A.calib\n",
      "\u001b[1;32m[INFO]    ::\u001b[0m \u001b[1;34mpypeitsetup.py 484 run()\u001b[0m - *********************************************************\n",
      "\u001b[1;32m[INFO]    ::\u001b[0m \u001b[1;34mpypeitsetup.py 485 run()\u001b[0m - Calibration check complete and successful!\n",
      "\u001b[1;32m[INFO]    ::\u001b[0m \u001b[1;34mpypeitsetup.py 487 run()\u001b[0m - *********************************************************\n",
      "\u001b[1;32m[INFO]    ::\u001b[0m \u001b[1;34mpypeit.py 520 init_setup()\u001b[0m - Setting reduction path to /scratch/REDUX/Gemini/J1059+1441/gemini_gmos_north_e2v_setup_A/\n",
      "\u001b[1;32m[INFO]    ::\u001b[0m \u001b[1;34mpaths.py 38 make_dirs()\u001b[0m - Creating Science directory\n",
      "\u001b[1;32m[INFO]    ::\u001b[0m \u001b[1;34mpaths.py 41 make_dirs()\u001b[0m - The following directory already exists:\n",
      "             /scratch/REDUX/Gemini/J1059+1441/gemini_gmos_north_e2v_setup_A/Science\n",
      "\u001b[1;32m[INFO]    ::\u001b[0m \u001b[1;34mpaths.py 63 make_dirs()\u001b[0m - Creating Object directories\n",
      "\u001b[1;32m[INFO]    ::\u001b[0m \u001b[1;34mpaths.py 66 make_dirs()\u001b[0m - Creating Master Calibrations directory\n",
      "\u001b[1;32m[INFO]    ::\u001b[0m \u001b[1;34mpaths.py 86 make_dirs()\u001b[0m - Creating QA directory\n",
      "\u001b[1;31m[WARNING] ::\u001b[0m \u001b[1;34mpaths.py 89 make_dirs()\u001b[0m - Pre-existing QA plots will be overwritten\n"
     ]
    }
   ],
   "source": [
    "pypeIt.init_setup(pypeit_file, redux_dir, calibration_check=True)"
   ]
  },
  {
   "cell_type": "markdown",
   "metadata": {},
   "source": [
    "# Reduce"
   ]
  },
  {
   "cell_type": "code",
   "execution_count": 6,
   "metadata": {},
   "outputs": [
    {
     "data": {
      "text/plain": [
       "Parameter       Value       Default     Type        Callable\n",
       "------------------------------------------------------------\n",
       "function        legendre    legendre    str         False   \n",
       "polyorder       3           3           int         False   \n",
       "medrep          0           0           int         False   \n",
       "number          -1          -1          int         False   \n",
       "trim            3, 3        3, 3        tuple       False   \n",
       "maxgap          None        None        int         False   \n",
       "maxshift        0.15        0.15        int, float  False   \n",
       "pad             0           0           int         False   \n",
       "sigdetect       20.0        20.0        int, float  False   \n",
       "fracignore      0.02        0.01        float       False   \n",
       "min_slit_width  4.0         6.0         float       False   \n",
       "diffpolyorder   2           2           int         False   \n",
       "single          []          []          list        False   \n",
       "sobel_mode      nearest     nearest     str         False   \n",
       "pcatype         pixel       pixel       str         False   \n",
       "pcapar          3, 2, 1, 0  3, 2, 1, 0  list        False   \n",
       "pcaextrap       0, 0        0, 0        list        False   "
      ]
     },
     "execution_count": 6,
     "metadata": {},
     "output_type": "execute_result"
    }
   ],
   "source": [
    "pypeIt.caliBrate.par['slits']['min_slit_width'] = 4.0\n",
    "pypeIt.caliBrate.par['slits']"
   ]
  },
  {
   "cell_type": "code",
   "execution_count": 7,
   "metadata": {},
   "outputs": [
    {
     "name": "stderr",
     "output_type": "stream",
     "text": [
      "\u001b[1;32m[INFO]    ::\u001b[0m \u001b[1;34mpypeit.py 325 reduce_exposure()\u001b[0m - Reducing file N20150116S0094.fits, target J1059+1441\n",
      "\u001b[1;32m[INFO]    ::\u001b[0m \u001b[1;34mpypeit.py 339 reduce_exposure()\u001b[0m - Working on detector 1\n",
      "\u001b[1;32m[INFO]    ::\u001b[0m \u001b[1;34mcalibrations.py 194 get_arc()\u001b[0m - Preparing a master arc frame\n",
      "\u001b[1;32m[INFO]    ::\u001b[0m \u001b[1;34mgemini_gmos.py 481 read_gmos()\u001b[0m - Reading GMOS file: /scratch/REDUX/Gemini/J1059+1441/Raw/N20150116S0251.fits\n",
      "\u001b[1;32m[INFO]    ::\u001b[0m \u001b[1;34mgemini_gmos.py 481 read_gmos()\u001b[0m - Reading GMOS file: /scratch/REDUX/Gemini/J1059+1441/Raw/N20150116S0251.fits\n",
      "\u001b[1;32m[INFO]    ::\u001b[0m \u001b[1;34mgemini_gmos.py 481 read_gmos()\u001b[0m - Reading GMOS file: /scratch/REDUX/Gemini/J1059+1441/Raw/N20150116S0251.fits\n",
      "\u001b[1;32m[INFO]    ::\u001b[0m \u001b[1;34mgemini_gmos.py 481 read_gmos()\u001b[0m - Reading GMOS file: /scratch/REDUX/Gemini/J1059+1441/Raw/N20150116S0251.fits\n",
      "\u001b[1;32m[INFO]    ::\u001b[0m \u001b[1;34mgemini_gmos.py 481 read_gmos()\u001b[0m - Reading GMOS file: /scratch/REDUX/Gemini/J1059+1441/Raw/N20150116S0251.fits\n",
      "\u001b[1;32m[INFO]    ::\u001b[0m \u001b[1;34mprocessimages.py 275 bias_subtract()\u001b[0m - Bias subtracting your image(s)\n",
      "\u001b[1;32m[INFO]    ::\u001b[0m \u001b[1;34mprocessimages.py 288 bias_subtract()\u001b[0m - Using overscan to subtact\n",
      "\u001b[1;32m[INFO]    ::\u001b[0m \u001b[1;34mmasters.py 368 save_master()\u001b[0m - Saving master arc frame as:\n",
      "             /scratch/REDUX/Gemini/J1059+1441/gemini_gmos_north_e2v_setup_A/MF_gemini_gmos_north_e2v/MasterArc_A_01_aa.fits\n",
      "\u001b[1;32m[INFO]    ::\u001b[0m \u001b[1;34mmasters.py 386 save_master()\u001b[0m - Writing header information\n",
      "\u001b[1;31m[WARNING] ::\u001b[0m \u001b[1;34mmasters.py 397 save_master()\u001b[0m - Overwriting file:\n",
      "             /scratch/REDUX/Gemini/J1059+1441/gemini_gmos_north_e2v_setup_A/MF_gemini_gmos_north_e2v/MasterArc_A_01_aa.fits\n",
      "\u001b[1;32m[INFO]    ::\u001b[0m \u001b[1;34mmasters.py 401 save_master()\u001b[0m - Master arc frame saved successfully:\n",
      "             /scratch/REDUX/Gemini/J1059+1441/gemini_gmos_north_e2v_setup_A/MF_gemini_gmos_north_e2v/MasterArc_A_01_aa.fits\n",
      "\u001b[1;32m[INFO]    ::\u001b[0m \u001b[1;34mgemini_gmos.py 481 read_gmos()\u001b[0m - Reading GMOS file: /scratch/REDUX/Gemini/J1059+1441/Raw/N20150116S0094.fits\n",
      "\u001b[1;32m[INFO]    ::\u001b[0m \u001b[1;34mgemini_gmos.py 481 read_gmos()\u001b[0m - Reading GMOS file: /scratch/REDUX/Gemini/J1059+1441/Raw/N20150116S0094.fits\n",
      "\u001b[1;32m[INFO]    ::\u001b[0m \u001b[1;34mgemini_gmos.py 481 read_gmos()\u001b[0m - Reading GMOS file: /scratch/REDUX/Gemini/J1059+1441/Raw/N20150116S0094.fits\n",
      "\u001b[1;32m[INFO]    ::\u001b[0m \u001b[1;34mpixels.py 37 gen_pixloc()\u001b[0m - Deriving physical pixel locations on the detector\n",
      "\u001b[1;32m[INFO]    ::\u001b[0m \u001b[1;34mpixels.py 40 gen_pixloc()\u001b[0m - Pixel gap in the dispersion direction = 0.000\n",
      "\u001b[1;32m[INFO]    ::\u001b[0m \u001b[1;34mpixels.py 41 gen_pixloc()\u001b[0m - Pixel size in the dispersion direction = 1.000\n",
      "\u001b[1;32m[INFO]    ::\u001b[0m \u001b[1;34mpixels.py 44 gen_pixloc()\u001b[0m - Pixel gap in the spatial direction = 0.000\n",
      "\u001b[1;32m[INFO]    ::\u001b[0m \u001b[1;34mpixels.py 45 gen_pixloc()\u001b[0m - Pixel size in the spatial direction = 1.000\n",
      "\u001b[1;32m[INFO]    ::\u001b[0m \u001b[1;34mpixels.py 50 gen_pixloc()\u001b[0m - Saving pixel locations\n",
      "\u001b[1;32m[INFO]    ::\u001b[0m \u001b[1;34mgemini_gmos.py 481 read_gmos()\u001b[0m - Reading GMOS file: /scratch/REDUX/Gemini/J1059+1441/Raw/N20150116S0095.fits\n",
      "\u001b[1;32m[INFO]    ::\u001b[0m \u001b[1;34mgemini_gmos.py 481 read_gmos()\u001b[0m - Reading GMOS file: /scratch/REDUX/Gemini/J1059+1441/Raw/N20150116S0096.fits\n",
      "\u001b[1;32m[INFO]    ::\u001b[0m \u001b[1;34mgemini_gmos.py 481 read_gmos()\u001b[0m - Reading GMOS file: /scratch/REDUX/Gemini/J1059+1441/Raw/N20150116S0099.fits\n",
      "\u001b[1;32m[INFO]    ::\u001b[0m \u001b[1;34mgemini_gmos.py 481 read_gmos()\u001b[0m - Reading GMOS file: /scratch/REDUX/Gemini/J1059+1441/Raw/N20150116S0095.fits\n",
      "\u001b[1;32m[INFO]    ::\u001b[0m \u001b[1;34mgemini_gmos.py 481 read_gmos()\u001b[0m - Reading GMOS file: /scratch/REDUX/Gemini/J1059+1441/Raw/N20150116S0095.fits\n",
      "\u001b[1;32m[INFO]    ::\u001b[0m \u001b[1;34mgemini_gmos.py 481 read_gmos()\u001b[0m - Reading GMOS file: /scratch/REDUX/Gemini/J1059+1441/Raw/N20150116S0095.fits\n",
      "\u001b[1;32m[INFO]    ::\u001b[0m \u001b[1;34mgemini_gmos.py 481 read_gmos()\u001b[0m - Reading GMOS file: /scratch/REDUX/Gemini/J1059+1441/Raw/N20150116S0095.fits\n",
      "\u001b[1;32m[INFO]    ::\u001b[0m \u001b[1;34mprocessimages.py 275 bias_subtract()\u001b[0m - Bias subtracting your image(s)\n",
      "\u001b[1;32m[INFO]    ::\u001b[0m \u001b[1;34mprocessimages.py 288 bias_subtract()\u001b[0m - Using overscan to subtact\n",
      "\u001b[1;32m[INFO]    ::\u001b[0m \u001b[1;34mprocessimages.py 288 bias_subtract()\u001b[0m - Using overscan to subtact\n",
      "\u001b[1;32m[INFO]    ::\u001b[0m \u001b[1;34mprocessimages.py 288 bias_subtract()\u001b[0m - Using overscan to subtact\n",
      "\u001b[1;32m[INFO]    ::\u001b[0m \u001b[1;34mcombine.py 62 comb_frames()\u001b[0m - Combining 3 trace_image frames\n",
      "\u001b[1;30m[WORK IN ]::\u001b[0m\n",
      "\u001b[1;33m[PROGRESS]::\u001b[0m \u001b[1;34mcombine.py 66 comb_frames()\u001b[0m - lscomb feature has not been included here yet...\n",
      "\u001b[1;32m[INFO]    ::\u001b[0m \u001b[1;34mcombine.py 95 comb_frames()\u001b[0m - Finding saturated and non-linear pixels\n",
      "\u001b[1;32m[INFO]    ::\u001b[0m \u001b[1;34mcombine.py 119 comb_frames()\u001b[0m - Rejecting cosmic rays\n",
      "\u001b[1;32m[INFO]    ::\u001b[0m \u001b[1;34mcombine.py 163 comb_frames()\u001b[0m - Not rejecting any low/high pixels\n",
      "\u001b[1;32m[INFO]    ::\u001b[0m \u001b[1;34mcombine.py 171 comb_frames()\u001b[0m - Rejecting deviant pixels\n",
      "\u001b[1;32m[INFO]    ::\u001b[0m \u001b[1;34mcombine.py 188 comb_frames()\u001b[0m - Combining frames with a weightmean operation\n",
      "\u001b[1;32m[INFO]    ::\u001b[0m \u001b[1;34mcombine.py 201 comb_frames()\u001b[0m - Replacing completely masked pixels with the maxnonsat value of the input frames\n",
      "\u001b[1;32m[INFO]    ::\u001b[0m \u001b[1;34mcombine.py 215 comb_frames()\u001b[0m - 3 trace_image frames combined successfully!\n",
      "\u001b[1;32m[INFO]    ::\u001b[0m \u001b[1;34mgemini_gmos.py 481 read_gmos()\u001b[0m - Reading GMOS file: /scratch/REDUX/Gemini/J1059+1441/Raw/N20150116S0095.fits\n",
      "\u001b[1;32m[INFO]    ::\u001b[0m \u001b[1;34mgemini_gmos.py 481 read_gmos()\u001b[0m - Reading GMOS file: /scratch/REDUX/Gemini/J1059+1441/Raw/N20150116S0095.fits\n",
      "\u001b[1;31m[WARNING] ::\u001b[0m \u001b[1;34mprocimg.py 456 gain_frame()\u001b[0m - Should probably be measuring the gain across the amplifier boundary\n",
      "\u001b[1;32m[INFO]    ::\u001b[0m \u001b[1;34mtrace_slits.py 813 edgearr_from_binarr()\u001b[0m - Detecting slit edges in the mstrace image\n",
      "\u001b[1;32m[INFO]    ::\u001b[0m \u001b[1;34mtrace_slits.py 874 edgearr_from_binarr()\u001b[0m - Applying bad pixel mask\n",
      "\u001b[1;32m[INFO]    ::\u001b[0m \u001b[1;34mtrace_slits.py 933 edgearr_add_left_right()\u001b[0m - 49 left edges and 48 right edges were found in the trace\n",
      "\u001b[1;32m[INFO]    ::\u001b[0m \u001b[1;34mtrace_slits.py 960 edgearr_add_left_right()\u001b[0m - Assigning slit edge traces\n",
      "\u001b[1;32m[INFO]    ::\u001b[0m \u001b[1;34mtraceslits.py 361 _assign_edges()\u001b[0m - Assigning left slit edges\n",
      "             \u001b[1;34mtrace_slits.py 160 assign_slits()\u001b[0m - Outer left edge loop, Iteration 1\n",
      "             \u001b[1;34mtrace_slits.py 298 assign_slits()\u001b[0m -   Inner loop, Iteration 1, 49 left edges assigned (49 total)\n",
      "             \u001b[1;34mtrace_slits.py 160 assign_slits()\u001b[0m - Outer left edge loop, Iteration 2\n",
      "             \u001b[1;34mtrace_slits.py 298 assign_slits()\u001b[0m -   Inner loop, Iteration 1, 49 left edges assigned (49 total)\n",
      "\u001b[1;32m[INFO]    ::\u001b[0m \u001b[1;34mtraceslits.py 369 _assign_edges()\u001b[0m - Assigning right slit edges\n",
      "             \u001b[1;34mtrace_slits.py 160 assign_slits()\u001b[0m - Outer right edge loop, Iteration 1\n",
      "             \u001b[1;34mtrace_slits.py 298 assign_slits()\u001b[0m -   Inner loop, Iteration 1, 47 right edges assigned (47 total)\n",
      "             \u001b[1;34mtrace_slits.py 298 assign_slits()\u001b[0m -   Inner loop, Iteration 2, 1 right edges assigned (48 total)\n",
      "             \u001b[1;34mtrace_slits.py 160 assign_slits()\u001b[0m - Outer right edge loop, Iteration 2\n",
      "             \u001b[1;34mtrace_slits.py 298 assign_slits()\u001b[0m -   Inner loop, Iteration 1, 47 right edges assigned (47 total)\n",
      "             \u001b[1;34mtrace_slits.py 298 assign_slits()\u001b[0m -   Inner loop, Iteration 2, 1 right edges assigned (48 total)\n",
      "\u001b[1;32m[INFO]    ::\u001b[0m \u001b[1;34mtrace_slits.py 1157 edgearr_final_left_right()\u001b[0m - 49 left edges and 48 right edges were found in the trace\n",
      "\u001b[1;32m[INFO]    ::\u001b[0m \u001b[1;34mtrace_slits.py 560 edgearr_tcrude()\u001b[0m - Crude tracing the edges\n",
      "\u001b[1;31m[WARNING] ::\u001b[0m \u001b[1;34mtrace_slits.py 472 edgearr_mslit_sync()\u001b[0m - Missing a right edge for slit with left edge at 1442\n",
      "\u001b[1;31m[WARNING] ::\u001b[0m \u001b[1;34mtrace_slits.py 473 edgearr_mslit_sync()\u001b[0m - Adding in a corresponding right edge!\n",
      "\u001b[1;32m[INFO]    ::\u001b[0m \u001b[1;34mtrace_slits.py 1309 fit_edges()\u001b[0m - Fitting left slit traces\n"
     ]
    },
    {
     "name": "stderr",
     "output_type": "stream",
     "text": [
      "\u001b[1;32m[INFO]    ::\u001b[0m \u001b[1;34mtrace_slits.py 1311 fit_edges()\u001b[0m - Fitting right slit traces\n",
      "\u001b[1;32m[INFO]    ::\u001b[0m \u001b[1;34mtraceslits.py 798 _synchronize()\u001b[0m - Synchronizing left and right slit traces\n",
      "\u001b[1;32m[INFO]    ::\u001b[0m \u001b[1;34mtrace_slits.py 2437 synchronize_edges()\u001b[0m - Relabelling slit edges\n",
      "\u001b[1;30m[WORK IN ]::\u001b[0m\n",
      "\u001b[1;33m[PROGRESS]::\u001b[0m \u001b[1;34mtrace_slits.py 2080 pca_pixel_slit_edges()\u001b[0m - May need to do a check here to make sure ofit is reasonable\n",
      "\u001b[1;32m[INFO]    ::\u001b[0m \u001b[1;34mtrace_slits.py 2086 pca_pixel_slit_edges()\u001b[0m - Performing a PCA on the slit traces\n",
      "             \u001b[1;34mpca.py 98 basis()\u001b[0m -   Reduced chi-squared = 2.109613E-07\n",
      "\u001b[1;32m[INFO]    ::\u001b[0m \u001b[1;34mtraceslits.py 846 _trim_slits()\u001b[0m - Slit 13 has width = 2.1837675380609904 < less than min_slit_width = 4.0 arcseconds - ignoring this slit\n",
      "\u001b[1;32m[INFO]    ::\u001b[0m \u001b[1;34mtraceslits.py 846 _trim_slits()\u001b[0m - Slit 39 has width = 2.1278821357908866 < less than min_slit_width = 4.0 arcseconds - ignoring this slit\n",
      "\u001b[1;32m[INFO]    ::\u001b[0m \u001b[1;34mtraceslits.py 846 _trim_slits()\u001b[0m - Slit 42 has width = 1.871624592335081 < less than min_slit_width = 4.0 arcseconds - ignoring this slit\n",
      "\u001b[1;32m[INFO]    ::\u001b[0m \u001b[1;34mtraceslits.py 846 _trim_slits()\u001b[0m - Slit 49 has width = 2.162858407606137 < less than min_slit_width = 4.0 arcseconds - ignoring this slit\n",
      "\u001b[1;32m[INFO]    ::\u001b[0m \u001b[1;34mtraceslits.py 536 _make_pixel_arrays()\u001b[0m - Converting physical trace locations to nearest pixel\n",
      "\u001b[1;32m[INFO]    ::\u001b[0m \u001b[1;34mtraceslits.py 543 _make_pixel_arrays()\u001b[0m - Identifying the pixels belonging to each slit\n",
      "\u001b[1;32m[INFO]    ::\u001b[0m \u001b[1;34mtraceslits.py 934 save_master()\u001b[0m - Wrote TraceSlit arrays to /scratch/REDUX/Gemini/J1059+1441/gemini_gmos_north_e2v_setup_A/MF_gemini_gmos_north_e2v/MasterTrace_A_01_aa.fits\n",
      "\u001b[1;32m[INFO]    ::\u001b[0m \u001b[1;34mtraceslits.py 936 save_master()\u001b[0m - gzip compressing /scratch/REDUX/Gemini/J1059+1441/gemini_gmos_north_e2v_setup_A/MF_gemini_gmos_north_e2v/MasterTrace_A_01_aa.fits\n",
      "\u001b[1;32m[INFO]    ::\u001b[0m \u001b[1;34mtraceslits.py 950 save_master()\u001b[0m - Writing TraceSlit dict to /scratch/REDUX/Gemini/J1059+1441/gemini_gmos_north_e2v_setup_A/MF_gemini_gmos_north_e2v/MasterTrace_A_01_aa.json\n"
     ]
    },
    {
     "ename": "TypeError",
     "evalue": "__init__() got an unexpected keyword argument 'maskslits'",
     "output_type": "error",
     "traceback": [
      "\u001b[0;31m---------------------------------------------------------------------------\u001b[0m",
      "\u001b[0;31mTypeError\u001b[0m                                 Traceback (most recent call last)",
      "\u001b[0;32m<ipython-input-7-84c6e515cd69>\u001b[0m in \u001b[0;36m<module>\u001b[0;34m()\u001b[0m\n\u001b[0;32m----> 1\u001b[0;31m \u001b[0mpypeIt\u001b[0m\u001b[0;34m.\u001b[0m\u001b[0mreduce_all\u001b[0m\u001b[0;34m(\u001b[0m\u001b[0;34m)\u001b[0m\u001b[0;34m\u001b[0m\u001b[0m\n\u001b[0m",
      "\u001b[0;32m/data/Projects/Python/PypeIt/pypeit/pypeit.py\u001b[0m in \u001b[0;36mreduce_all\u001b[0;34m(self, reuse_masters)\u001b[0m\n\u001b[1;32m    227\u001b[0m \u001b[0;34m\u001b[0m\u001b[0m\n\u001b[1;32m    228\u001b[0m         \u001b[0;32mfor\u001b[0m \u001b[0mkk\u001b[0m\u001b[0;34m,\u001b[0m\u001b[0msci_ID\u001b[0m \u001b[0;32min\u001b[0m \u001b[0menumerate\u001b[0m\u001b[0;34m(\u001b[0m\u001b[0mall_sci_ID\u001b[0m\u001b[0;34m)\u001b[0m\u001b[0;34m:\u001b[0m\u001b[0;34m\u001b[0m\u001b[0m\n\u001b[0;32m--> 229\u001b[0;31m             \u001b[0msci_dict\u001b[0m \u001b[0;34m=\u001b[0m \u001b[0mself\u001b[0m\u001b[0;34m.\u001b[0m\u001b[0mreduce_exposure\u001b[0m\u001b[0;34m(\u001b[0m\u001b[0msci_ID\u001b[0m\u001b[0;34m,\u001b[0m \u001b[0mreuse_masters\u001b[0m\u001b[0;34m=\u001b[0m\u001b[0mreuse_masters\u001b[0m\u001b[0;34m)\u001b[0m\u001b[0;34m\u001b[0m\u001b[0m\n\u001b[0m\u001b[1;32m    230\u001b[0m             \u001b[0;31m# Save\u001b[0m\u001b[0;34m\u001b[0m\u001b[0;34m\u001b[0m\u001b[0m\n\u001b[1;32m    231\u001b[0m             \u001b[0mscidx\u001b[0m \u001b[0;34m=\u001b[0m \u001b[0mself\u001b[0m\u001b[0;34m.\u001b[0m\u001b[0mfitstbl\u001b[0m\u001b[0;34m.\u001b[0m\u001b[0mfind_frames\u001b[0m\u001b[0;34m(\u001b[0m\u001b[0;34m'science'\u001b[0m\u001b[0;34m,\u001b[0m \u001b[0msci_ID\u001b[0m\u001b[0;34m=\u001b[0m\u001b[0msci_ID\u001b[0m\u001b[0;34m,\u001b[0m \u001b[0mindex\u001b[0m\u001b[0;34m=\u001b[0m\u001b[0;32mTrue\u001b[0m\u001b[0;34m)\u001b[0m\u001b[0;34m[\u001b[0m\u001b[0;36m0\u001b[0m\u001b[0;34m]\u001b[0m\u001b[0;34m\u001b[0m\u001b[0m\n",
      "\u001b[0;32m/data/Projects/Python/PypeIt/pypeit/pypeit.py\u001b[0m in \u001b[0;36mreduce_exposure\u001b[0;34m(self, sci_ID, reuse_masters)\u001b[0m\n\u001b[1;32m    341\u001b[0m \u001b[0;34m\u001b[0m\u001b[0m\n\u001b[1;32m    342\u001b[0m             \u001b[0;31m# Calibrate\u001b[0m\u001b[0;34m\u001b[0m\u001b[0;34m\u001b[0m\u001b[0m\n\u001b[0;32m--> 343\u001b[0;31m             \u001b[0mself\u001b[0m\u001b[0;34m.\u001b[0m\u001b[0mcalibrate_one\u001b[0m\u001b[0;34m(\u001b[0m\u001b[0msci_ID\u001b[0m\u001b[0;34m,\u001b[0m \u001b[0mdet\u001b[0m\u001b[0;34m)\u001b[0m\u001b[0;34m\u001b[0m\u001b[0m\n\u001b[0m\u001b[1;32m    344\u001b[0m \u001b[0;34m\u001b[0m\u001b[0m\n\u001b[1;32m    345\u001b[0m             \u001b[0;31m# Init ScienceImage class\u001b[0m\u001b[0;34m\u001b[0m\u001b[0;34m\u001b[0m\u001b[0m\n",
      "\u001b[0;32m/data/Projects/Python/PypeIt/pypeit/pypeit.py\u001b[0m in \u001b[0;36mcalibrate_one\u001b[0;34m(self, sci_ID, det)\u001b[0m\n\u001b[1;32m    695\u001b[0m         \u001b[0mself\u001b[0m\u001b[0;34m.\u001b[0m\u001b[0mcaliBrate\u001b[0m\u001b[0;34m.\u001b[0m\u001b[0mreset\u001b[0m\u001b[0;34m(\u001b[0m\u001b[0mself\u001b[0m\u001b[0;34m.\u001b[0m\u001b[0msetup\u001b[0m\u001b[0;34m,\u001b[0m \u001b[0mdet\u001b[0m\u001b[0;34m,\u001b[0m \u001b[0msci_ID\u001b[0m\u001b[0;34m,\u001b[0m \u001b[0mself\u001b[0m\u001b[0;34m.\u001b[0m\u001b[0mpar\u001b[0m\u001b[0;34m[\u001b[0m\u001b[0;34m'calibrations'\u001b[0m\u001b[0;34m]\u001b[0m\u001b[0;34m)\u001b[0m\u001b[0;34m\u001b[0m\u001b[0m\n\u001b[1;32m    696\u001b[0m         \u001b[0;31m# Run em\u001b[0m\u001b[0;34m\u001b[0m\u001b[0;34m\u001b[0m\u001b[0m\n\u001b[0;32m--> 697\u001b[0;31m         \u001b[0mself\u001b[0m\u001b[0;34m.\u001b[0m\u001b[0mcaliBrate\u001b[0m\u001b[0;34m.\u001b[0m\u001b[0mrun_the_steps\u001b[0m\u001b[0;34m(\u001b[0m\u001b[0;34m)\u001b[0m\u001b[0;34m\u001b[0m\u001b[0m\n\u001b[0m\u001b[1;32m    698\u001b[0m \u001b[0;34m\u001b[0m\u001b[0m\n\u001b[1;32m    699\u001b[0m         \u001b[0mmsgs\u001b[0m\u001b[0;34m.\u001b[0m\u001b[0minfo\u001b[0m\u001b[0;34m(\u001b[0m\u001b[0;34m\"Successful Calibration!\"\u001b[0m\u001b[0;34m)\u001b[0m\u001b[0;34m\u001b[0m\u001b[0m\n",
      "\u001b[0;32m/data/Projects/Python/PypeIt/pypeit/calibrations.py\u001b[0m in \u001b[0;36mrun_the_steps\u001b[0;34m(self)\u001b[0m\n\u001b[1;32m    692\u001b[0m         \"\"\"\n\u001b[1;32m    693\u001b[0m         \u001b[0;32mfor\u001b[0m \u001b[0mstep\u001b[0m \u001b[0;32min\u001b[0m \u001b[0mself\u001b[0m\u001b[0;34m.\u001b[0m\u001b[0msteps\u001b[0m\u001b[0;34m:\u001b[0m\u001b[0;34m\u001b[0m\u001b[0m\n\u001b[0;32m--> 694\u001b[0;31m             \u001b[0mgetattr\u001b[0m\u001b[0;34m(\u001b[0m\u001b[0mself\u001b[0m\u001b[0;34m,\u001b[0m \u001b[0;34m'get_{:s}'\u001b[0m\u001b[0;34m.\u001b[0m\u001b[0mformat\u001b[0m\u001b[0;34m(\u001b[0m\u001b[0mstep\u001b[0m\u001b[0;34m)\u001b[0m\u001b[0;34m)\u001b[0m\u001b[0;34m(\u001b[0m\u001b[0;34m)\u001b[0m\u001b[0;34m\u001b[0m\u001b[0m\n\u001b[0m\u001b[1;32m    695\u001b[0m \u001b[0;34m\u001b[0m\u001b[0m\n\u001b[1;32m    696\u001b[0m     \u001b[0;31m# This is general to any attribute\u001b[0m\u001b[0;34m\u001b[0m\u001b[0;34m\u001b[0m\u001b[0m\n",
      "\u001b[0;32m/data/Projects/Python/PypeIt/pypeit/calibrations.py\u001b[0m in \u001b[0;36mget_wv_calib\u001b[0;34m(self)\u001b[0m\n\u001b[1;32m    581\u001b[0m                                              \u001b[0mmode\u001b[0m\u001b[0;34m=\u001b[0m\u001b[0mself\u001b[0m\u001b[0;34m.\u001b[0m\u001b[0mpar\u001b[0m\u001b[0;34m[\u001b[0m\u001b[0;34m'masters'\u001b[0m\u001b[0;34m]\u001b[0m\u001b[0;34m,\u001b[0m \u001b[0mfitstbl\u001b[0m\u001b[0;34m=\u001b[0m\u001b[0mself\u001b[0m\u001b[0;34m.\u001b[0m\u001b[0mfitstbl\u001b[0m\u001b[0;34m,\u001b[0m\u001b[0;34m\u001b[0m\u001b[0m\n\u001b[1;32m    582\u001b[0m                                              \u001b[0msci_ID\u001b[0m\u001b[0;34m=\u001b[0m\u001b[0mself\u001b[0m\u001b[0;34m.\u001b[0m\u001b[0msci_ID\u001b[0m\u001b[0;34m,\u001b[0m \u001b[0mmaskslits\u001b[0m\u001b[0;34m=\u001b[0m\u001b[0mself\u001b[0m\u001b[0;34m.\u001b[0m\u001b[0mmaskslits\u001b[0m\u001b[0;34m,\u001b[0m\u001b[0;34m\u001b[0m\u001b[0m\n\u001b[0;32m--> 583\u001b[0;31m                                              redux_path=self.redux_path, bpm=self.msbpm)\n\u001b[0m\u001b[1;32m    584\u001b[0m         \u001b[0;31m# Load from disk (MasterFrame)?\u001b[0m\u001b[0;34m\u001b[0m\u001b[0;34m\u001b[0m\u001b[0m\n\u001b[1;32m    585\u001b[0m         \u001b[0mself\u001b[0m\u001b[0;34m.\u001b[0m\u001b[0mwv_calib\u001b[0m \u001b[0;34m=\u001b[0m \u001b[0mself\u001b[0m\u001b[0;34m.\u001b[0m\u001b[0mwaveCalib\u001b[0m\u001b[0;34m.\u001b[0m\u001b[0mmaster\u001b[0m\u001b[0;34m(\u001b[0m\u001b[0;34m)\u001b[0m\u001b[0;34m\u001b[0m\u001b[0m\n",
      "\u001b[0;31mTypeError\u001b[0m: __init__() got an unexpected keyword argument 'maskslits'"
     ]
    }
   ],
   "source": [
    "pypeIt.reduce_all()"
   ]
  },
  {
   "cell_type": "code",
   "execution_count": 9,
   "metadata": {},
   "outputs": [
    {
     "data": {
      "text/plain": [
       "{'edge_mask': array([[False, False, False, ..., False, False, False],\n",
       "        [False, False, False, ..., False, False, False],\n",
       "        [False, False, False, ..., False, False, False],\n",
       "        ...,\n",
       "        [False, False, False, ..., False, False, False],\n",
       "        [False, False, False, ..., False, False, False],\n",
       "        [False, False, False, ..., False, False, False]]),\n",
       " 'extrapord': array([False, False, False, False, False, False, False, False, False,\n",
       "        False, False, False, False, False, False, False, False, False,\n",
       "        False, False, False, False, False, False, False, False, False,\n",
       "        False, False, False, False, False, False, False, False, False,\n",
       "        False, False, False, False, False, False, False, False, False,\n",
       "        False, False, False, False]),\n",
       " 'lcen': array([[  55.89125808,   98.48275488,  158.0211236 , ..., 2083.74449118,\n",
       "         2122.09815464, 2159.81022156],\n",
       "        [  55.89389783,   98.48526912,  158.02346544, ..., 2083.74109417,\n",
       "         2122.09464212, 2159.80659344],\n",
       "        [  55.89653061,   98.48777671,  158.02580109, ..., 2083.73770615,\n",
       "         2122.09113889, 2159.80297492],\n",
       "        ...,\n",
       "        [  56.51803705,   99.07973168,  158.57716639, ..., 2082.93791213,\n",
       "         2121.26414851, 2158.94876788],\n",
       "        [  56.51816247,   99.07985113,  158.57727765, ..., 2082.93775074,\n",
       "         2121.26398163, 2158.94859551],\n",
       "        [  56.51828995,   99.07997255,  158.57739075, ..., 2082.93758669,\n",
       "         2121.263812  , 2158.94842029]]),\n",
       " 'lordpix': array([[  55,   98,  158, ..., 2083, 2122, 2159],\n",
       "        [  55,   98,  158, ..., 2083, 2122, 2159],\n",
       "        [  55,   98,  158, ..., 2083, 2122, 2159],\n",
       "        ...,\n",
       "        [  56,   99,  158, ..., 2082, 2121, 2158],\n",
       "        [  56,   99,  158, ..., 2082, 2121, 2158],\n",
       "        [  56,   99,  158, ..., 2082, 2121, 2158]]),\n",
       " 'pixcen': array([[  73,  115,  175, ..., 2101, 2139, 2177],\n",
       "        [  73,  115,  175, ..., 2101, 2139, 2177],\n",
       "        [  73,  115,  175, ..., 2101, 2139, 2177],\n",
       "        ...,\n",
       "        [  74,  116,  175, ..., 2100, 2138, 2176],\n",
       "        [  74,  116,  175, ..., 2100, 2138, 2176],\n",
       "        [  74,  116,  175, ..., 2100, 2138, 2176]]),\n",
       " 'pixwid': array([35, 34, 34, 34, 35, 34, 33, 35, 34, 35, 35, 34, 35, 34, 34, 34, 34,\n",
       "        35, 35, 35, 34, 34, 34, 34, 34, 34, 34, 34, 34, 34, 30, 35, 35, 35,\n",
       "        35, 35, 35, 35, 35, 34, 35, 34, 35, 34, 35]),\n",
       " 'rcen': array([[  91.14956731,  133.3889359 ,  192.88689852, ..., 2118.92396166,\n",
       "         2156.49677714, 2195.00925503],\n",
       "        [  91.15210199,  133.39134789,  192.88913506, ..., 2118.92045826,\n",
       "         2156.49316119, 2195.00552036],\n",
       "        [  91.15462996,  133.3937535 ,  192.8913657 , ..., 2118.91696413,\n",
       "         2156.48955481, 2195.00179558],\n",
       "        ...,\n",
       "        [  91.75139741,  133.96163576,  193.41794039, ..., 2118.09212157,\n",
       "         2155.63821364, 2194.1225026 ],\n",
       "        [  91.75151783,  133.96175035,  193.41804665, ..., 2118.09195512,\n",
       "         2155.63804184, 2194.12232517],\n",
       "        [  91.75164024,  133.96186684,  193.41815466, ..., 2118.09178593,\n",
       "         2155.63786722, 2194.12214481]]),\n",
       " 'rordpix': array([[  91,  133,  192, ..., 2118, 2156, 2195],\n",
       "        [  91,  133,  192, ..., 2118, 2156, 2195],\n",
       "        [  91,  133,  192, ..., 2118, 2156, 2195],\n",
       "        ...,\n",
       "        [  91,  133,  193, ..., 2118, 2155, 2194],\n",
       "        [  91,  133,  193, ..., 2118, 2155, 2194],\n",
       "        [  91,  133,  193, ..., 2118, 2155, 2194]]),\n",
       " 'slitpix': array([[0., 0., 0., ..., 0., 0., 0.],\n",
       "        [0., 0., 0., ..., 0., 0., 0.],\n",
       "        [0., 0., 0., ..., 0., 0., 0.],\n",
       "        ...,\n",
       "        [0., 0., 0., ..., 0., 0., 0.],\n",
       "        [0., 0., 0., ..., 0., 0., 0.],\n",
       "        [0., 0., 0., ..., 0., 0., 0.]]),\n",
       " 'ximg': array([[0., 0., 0., ..., 0., 0., 0.],\n",
       "        [0., 0., 0., ..., 0., 0., 0.],\n",
       "        [0., 0., 0., ..., 0., 0., 0.],\n",
       "        ...,\n",
       "        [0., 0., 0., ..., 0., 0., 0.],\n",
       "        [0., 0., 0., ..., 0., 0., 0.],\n",
       "        [0., 0., 0., ..., 0., 0., 0.]])}"
      ]
     },
     "execution_count": 9,
     "metadata": {},
     "output_type": "execute_result"
    }
   ],
   "source": [
    "pypeIt.caliBrate.traceSlits.tslits_dict"
   ]
  },
  {
   "cell_type": "markdown",
   "metadata": {},
   "source": [
    "## Slits"
   ]
  },
  {
   "cell_type": "markdown",
   "metadata": {},
   "source": [
    "### Generate trace image"
   ]
  },
  {
   "cell_type": "code",
   "execution_count": null,
   "metadata": {},
   "outputs": [],
   "source": [
    "pypeIt.caliBrate.trace_image_files"
   ]
  },
  {
   "cell_type": "code",
   "execution_count": null,
   "metadata": {
    "collapsed": true
   },
   "outputs": [],
   "source": [
    "# Instantiate\n",
    "traceImage = traceimage.TraceImage(pypeitSetup.spectrograph,\n",
    "                               file_list=pypeIt.caliBrate.trace_image_files, det=1,\n",
    "                               par=pypeIt.caliBrate.par['traceframe'])"
   ]
  },
  {
   "cell_type": "code",
   "execution_count": null,
   "metadata": {},
   "outputs": [],
   "source": [
    "# Process\n",
    "mstrace = traceImage.process(bias_subtract='overscan', trim=pypeIt.caliBrate.par['trim'], apply_gain=True)"
   ]
  },
  {
   "cell_type": "code",
   "execution_count": null,
   "metadata": {
    "collapsed": true
   },
   "outputs": [],
   "source": [
    "traceImage.show()"
   ]
  },
  {
   "cell_type": "markdown",
   "metadata": {},
   "source": [
    "### binarr"
   ]
  },
  {
   "cell_type": "code",
   "execution_count": null,
   "metadata": {},
   "outputs": [],
   "source": [
    "_= pypeIt.caliBrate.traceSlits.make_binarr()"
   ]
  },
  {
   "cell_type": "code",
   "execution_count": null,
   "metadata": {},
   "outputs": [],
   "source": [
    "32*0.0728*2"
   ]
  },
  {
   "cell_type": "markdown",
   "metadata": {},
   "source": [
    "### Plate scale"
   ]
  },
  {
   "cell_type": "code",
   "execution_count": null,
   "metadata": {},
   "outputs": [],
   "source": [
    "# Compute the plate scale in arcsec which is needed to trim short slits\n",
    "scidx = np.where(pypeIt.caliBrate.fitstbl.find_frames('science', sci_ID=pypeIt.caliBrate.sci_ID))[0][0]\n",
    "binspatial, binspectral = parse.parse_binning(pypeIt.caliBrate.fitstbl['binning'][scidx])\n",
    "## Old code: binspatial, binspectral = parse.parse_binning(self.fitstbl['binning'][scidx])\n",
    "plate_scale = binspatial*pypeitSetup.spectrograph.detector[0]['platescale']\n",
    "plate_scale"
   ]
  },
  {
   "cell_type": "markdown",
   "metadata": {},
   "source": [
    "### Edgearr"
   ]
  },
  {
   "cell_type": "code",
   "execution_count": null,
   "metadata": {},
   "outputs": [],
   "source": [
    "_= pypeIt.caliBrate.traceSlits._edgearr_from_binarr()"
   ]
  },
  {
   "cell_type": "code",
   "execution_count": null,
   "metadata": {
    "collapsed": true
   },
   "outputs": [],
   "source": [
    "pypeIt.caliBrate.traceSlits.show('edgearr')"
   ]
  },
  {
   "cell_type": "markdown",
   "metadata": {},
   "source": [
    "### Match edges"
   ]
  },
  {
   "cell_type": "code",
   "execution_count": null,
   "metadata": {},
   "outputs": [],
   "source": [
    "pypeIt.caliBrate.traceSlits._match_edges()"
   ]
  },
  {
   "cell_type": "markdown",
   "metadata": {},
   "source": [
    "### Assign edges"
   ]
  },
  {
   "cell_type": "code",
   "execution_count": null,
   "metadata": {},
   "outputs": [],
   "source": [
    "pypeIt.caliBrate.traceSlits._assign_edges()"
   ]
  },
  {
   "cell_type": "markdown",
   "metadata": {},
   "source": [
    "### Final left/right"
   ]
  },
  {
   "cell_type": "code",
   "execution_count": null,
   "metadata": {},
   "outputs": [],
   "source": [
    "pypeIt.caliBrate.traceSlits._final_left_right()"
   ]
  },
  {
   "cell_type": "markdown",
   "metadata": {},
   "source": [
    "### Mslit magic"
   ]
  },
  {
   "cell_type": "code",
   "execution_count": null,
   "metadata": {},
   "outputs": [],
   "source": [
    "pypeIt.caliBrate.traceSlits._mslit_tcrude()"
   ]
  },
  {
   "cell_type": "code",
   "execution_count": null,
   "metadata": {},
   "outputs": [],
   "source": [
    "pypeIt.caliBrate.traceSlits._mslit_sync()"
   ]
  },
  {
   "cell_type": "markdown",
   "metadata": {},
   "source": [
    "### Fit Edges"
   ]
  },
  {
   "cell_type": "code",
   "execution_count": null,
   "metadata": {},
   "outputs": [],
   "source": [
    "pypeIt.caliBrate.traceSlits._set_lrminx()\n",
    "pypeIt.caliBrate.traceSlits._fit_edges('left')\n",
    "pypeIt.caliBrate.traceSlits._fit_edges('right')"
   ]
  },
  {
   "cell_type": "markdown",
   "metadata": {},
   "source": [
    "### Synchronize"
   ]
  },
  {
   "cell_type": "code",
   "execution_count": null,
   "metadata": {},
   "outputs": [],
   "source": [
    "pypeIt.caliBrate.traceSlits._synchronize()"
   ]
  },
  {
   "cell_type": "markdown",
   "metadata": {},
   "source": [
    "### PCA"
   ]
  },
  {
   "cell_type": "code",
   "execution_count": null,
   "metadata": {},
   "outputs": [],
   "source": [
    "pypeIt.caliBrate.traceSlits._pca()"
   ]
  },
  {
   "cell_type": "code",
   "execution_count": null,
   "metadata": {},
   "outputs": [],
   "source": [
    "np.max(pypeIt.caliBrate.msbpm)"
   ]
  },
  {
   "cell_type": "code",
   "execution_count": 8,
   "metadata": {},
   "outputs": [],
   "source": [
    "pypeIt.caliBrate.traceSlits.show('edges')"
   ]
  },
  {
   "cell_type": "code",
   "execution_count": null,
   "metadata": {},
   "outputs": [],
   "source": [
    "pypeIt.caliBrate.traceImage.show()"
   ]
  },
  {
   "cell_type": "code",
   "execution_count": null,
   "metadata": {
    "collapsed": true
   },
   "outputs": [],
   "source": [
    "pypeIt.caliBrate.traceSlits.show('siglev')"
   ]
  },
  {
   "cell_type": "code",
   "execution_count": null,
   "metadata": {
    "collapsed": true
   },
   "outputs": [],
   "source": [
    "pypeIt.caliBrate.traceSlits.show('edgearr')"
   ]
  },
  {
   "cell_type": "code",
   "execution_count": null,
   "metadata": {},
   "outputs": [],
   "source": [
    "pypeIt.caliBrate.par"
   ]
  },
  {
   "cell_type": "code",
   "execution_count": null,
   "metadata": {
    "collapsed": true
   },
   "outputs": [],
   "source": []
  }
 ],
 "metadata": {
  "kernelspec": {
   "display_name": "Python 3",
   "language": "python",
   "name": "python3"
  },
  "language_info": {
   "codemirror_mode": {
    "name": "ipython",
    "version": 3
   },
   "file_extension": ".py",
   "mimetype": "text/x-python",
   "name": "python",
   "nbconvert_exporter": "python",
   "pygments_lexer": "ipython3",
   "version": "3.6.5"
  }
 },
 "nbformat": 4,
 "nbformat_minor": 2
}
