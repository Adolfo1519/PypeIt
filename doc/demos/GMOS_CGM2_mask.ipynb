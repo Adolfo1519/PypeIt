{
 "cells": [
  {
   "cell_type": "markdown",
   "metadata": {},
   "source": [
    "# Fussing with a GMOS CGM^2 Mask"
   ]
  },
  {
   "cell_type": "code",
   "execution_count": 1,
   "metadata": {
    "collapsed": true
   },
   "outputs": [],
   "source": [
    "# imports\n",
    "import numpy as np\n",
    "\n",
    "from pypeit import pypeit\n",
    "from pypeit import pypeitsetup\n",
    "from pypeit import traceimage\n",
    "from pypeit.core import parse"
   ]
  },
  {
   "cell_type": "markdown",
   "metadata": {},
   "source": [
    "## Instantiate"
   ]
  },
  {
   "cell_type": "code",
   "execution_count": 2,
   "metadata": {},
   "outputs": [
    {
     "name": "stderr",
     "output_type": "stream",
     "text": [
      "\u001b[1;32m[INFO]    ::\u001b[0m \u001b[1;34mutil.py 431 parse_pypeit_file()\u001b[0m - Loading the reduction file\n",
      "\u001b[1;32m[INFO]    ::\u001b[0m \u001b[1;34mutil.py 456 parse_pypeit_file()\u001b[0m - Found 9 raw data frames\n",
      "\u001b[1;32m[INFO]    ::\u001b[0m \u001b[1;34mutil.py 468 parse_pypeit_file()\u001b[0m - Input file loaded successfully\n"
     ]
    }
   ],
   "source": [
    "pypeit_file = '/scratch/REDUX/Gemini/J1059+1441/gemini_gmos_north_e2v_setup_A/gemini_gmos_north_e2v_setup_A.pypeit'\n",
    "pypeitSetup = pypeitsetup.PypeItSetup.from_pypeit_file(pypeit_file)"
   ]
  },
  {
   "cell_type": "code",
   "execution_count": 3,
   "metadata": {
    "collapsed": true
   },
   "outputs": [],
   "source": [
    "pypeIt = pypeit.instantiate_me(pypeitSetup.spectrograph, verbosity=2, overwrite=True, show=True) #, logname=logname, show=args.show)"
   ]
  },
  {
   "cell_type": "markdown",
   "metadata": {},
   "source": [
    "## Setup "
   ]
  },
  {
   "cell_type": "code",
   "execution_count": 4,
   "metadata": {
    "collapsed": true
   },
   "outputs": [],
   "source": [
    "redux_dir = '/scratch/REDUX/Gemini/J1059+1441/gemini_gmos_north_e2v_setup_A/'"
   ]
  },
  {
   "cell_type": "code",
   "execution_count": null,
   "metadata": {},
   "outputs": [
    {
     "name": "stderr",
     "output_type": "stream",
     "text": [
      "\u001b[1;32m[INFO]    ::\u001b[0m \u001b[1;34mutil.py 431 parse_pypeit_file()\u001b[0m - Loading the reduction file\n",
      "\u001b[1;32m[INFO]    ::\u001b[0m \u001b[1;34mutil.py 456 parse_pypeit_file()\u001b[0m - Found 9 raw data frames\n",
      "\u001b[1;32m[INFO]    ::\u001b[0m \u001b[1;34mutil.py 468 parse_pypeit_file()\u001b[0m - Input file loaded successfully\n",
      "\u001b[1;31m[WARNING] ::\u001b[0m \u001b[1;34mspectrograph.py 449 check_headers()\u001b[0m - Specific header keyword checks have not been implemented for gemini_gmos_north_e2v.\n",
      "\u001b[1;32m[INFO]    ::\u001b[0m \u001b[1;34mmetadata.py 192 _build()\u001b[0m - Successfully loaded headers for file:\n",
      "             /scratch/REDUX/Gemini/J1059+1441/Raw/N20150116S0251.fits\n",
      "\u001b[1;31m[WARNING] ::\u001b[0m \u001b[1;34mspectrograph.py 449 check_headers()\u001b[0m - Specific header keyword checks have not been implemented for gemini_gmos_north_e2v.\n",
      "\u001b[1;32m[INFO]    ::\u001b[0m \u001b[1;34mmetadata.py 192 _build()\u001b[0m - Successfully loaded headers for file:\n",
      "             /scratch/REDUX/Gemini/J1059+1441/Raw/N20150116S0252.fits\n",
      "\u001b[1;31m[WARNING] ::\u001b[0m \u001b[1;34mspectrograph.py 449 check_headers()\u001b[0m - Specific header keyword checks have not been implemented for gemini_gmos_north_e2v.\n",
      "\u001b[1;32m[INFO]    ::\u001b[0m \u001b[1;34mmetadata.py 192 _build()\u001b[0m - Successfully loaded headers for file:\n",
      "             /scratch/REDUX/Gemini/J1059+1441/Raw/N20150116S0253.fits\n",
      "\u001b[1;31m[WARNING] ::\u001b[0m \u001b[1;34mspectrograph.py 449 check_headers()\u001b[0m - Specific header keyword checks have not been implemented for gemini_gmos_north_e2v.\n",
      "\u001b[1;32m[INFO]    ::\u001b[0m \u001b[1;34mmetadata.py 192 _build()\u001b[0m - Successfully loaded headers for file:\n",
      "             /scratch/REDUX/Gemini/J1059+1441/Raw/N20150116S0095.fits\n",
      "\u001b[1;31m[WARNING] ::\u001b[0m \u001b[1;34mspectrograph.py 449 check_headers()\u001b[0m - Specific header keyword checks have not been implemented for gemini_gmos_north_e2v.\n",
      "\u001b[1;32m[INFO]    ::\u001b[0m \u001b[1;34mmetadata.py 192 _build()\u001b[0m - Successfully loaded headers for file:\n",
      "             /scratch/REDUX/Gemini/J1059+1441/Raw/N20150116S0096.fits\n",
      "\u001b[1;31m[WARNING] ::\u001b[0m \u001b[1;34mspectrograph.py 449 check_headers()\u001b[0m - Specific header keyword checks have not been implemented for gemini_gmos_north_e2v.\n",
      "\u001b[1;32m[INFO]    ::\u001b[0m \u001b[1;34mmetadata.py 192 _build()\u001b[0m - Successfully loaded headers for file:\n",
      "             /scratch/REDUX/Gemini/J1059+1441/Raw/N20150116S0099.fits\n",
      "\u001b[1;31m[WARNING] ::\u001b[0m \u001b[1;34mspectrograph.py 449 check_headers()\u001b[0m - Specific header keyword checks have not been implemented for gemini_gmos_north_e2v.\n",
      "\u001b[1;32m[INFO]    ::\u001b[0m \u001b[1;34mmetadata.py 192 _build()\u001b[0m - Successfully loaded headers for file:\n",
      "             /scratch/REDUX/Gemini/J1059+1441/Raw/N20150116S0094.fits\n",
      "\u001b[1;31m[WARNING] ::\u001b[0m \u001b[1;34mspectrograph.py 449 check_headers()\u001b[0m - Specific header keyword checks have not been implemented for gemini_gmos_north_e2v.\n",
      "\u001b[1;32m[INFO]    ::\u001b[0m \u001b[1;34mmetadata.py 192 _build()\u001b[0m - Successfully loaded headers for file:\n",
      "             /scratch/REDUX/Gemini/J1059+1441/Raw/N20150116S0097.fits\n",
      "\u001b[1;31m[WARNING] ::\u001b[0m \u001b[1;34mspectrograph.py 449 check_headers()\u001b[0m - Specific header keyword checks have not been implemented for gemini_gmos_north_e2v.\n",
      "\u001b[1;32m[INFO]    ::\u001b[0m \u001b[1;34mmetadata.py 192 _build()\u001b[0m - Successfully loaded headers for file:\n",
      "             /scratch/REDUX/Gemini/J1059+1441/Raw/N20150116S0098.fits\n",
      "\u001b[1;32m[INFO]    ::\u001b[0m \u001b[1;34mmetadata.py 195 _build()\u001b[0m - Headers loaded for 9 files successfully\n",
      "\u001b[1;32m[INFO]    ::\u001b[0m \u001b[1;34mmetadata.py 426 get_frame_types()\u001b[0m - Typing files\n",
      "\u001b[1;32m[INFO]    ::\u001b[0m \u001b[1;34mmetadata.py 433 get_frame_types()\u001b[0m - Using user-provided frame types.\n",
      "\u001b[1;32m[INFO]    ::\u001b[0m \u001b[1;34mmetadata.py 583 match_to_science()\u001b[0m - Matching calibrations to Science frames\n",
      "\u001b[1;32m[INFO]    ::\u001b[0m \u001b[1;34mmetadata.py 604 match_to_science()\u001b[0m - ==================================================\n",
      "\u001b[1;32m[INFO]    ::\u001b[0m \u001b[1;34mmetadata.py 605 match_to_science()\u001b[0m - Matching calibrations to frame: J1059+1441\n",
      "\u001b[1;32m[INFO]    ::\u001b[0m \u001b[1;34mmetadata.py 660 match_to_science()\u001b[0m -   Found 3 pixelflat frame for J1059+1441 (3 required)\n",
      "\u001b[1;32m[INFO]    ::\u001b[0m \u001b[1;34mmetadata.py 619 match_to_science()\u001b[0m -   Dark frames not required.  Not matching...\n",
      "\u001b[1;32m[INFO]    ::\u001b[0m \u001b[1;34mmetadata.py 660 match_to_science()\u001b[0m -   Found 0 standard frame for J1059+1441 (1 required)\n",
      "\u001b[1;31m[WARNING] ::\u001b[0m \u001b[1;34mframematch.py 398 match_warnings()\u001b[0m -   Only 0/1 standard frames for J1059+1441\n",
      "\u001b[1;31m[WARNING] ::\u001b[0m \u001b[1;34mframematch.py 438 match_warnings()\u001b[0m - No standard frames for J1059+1441, but user does not want to flux anyways.\n",
      "\u001b[1;32m[INFO]    ::\u001b[0m \u001b[1;34mmetadata.py 660 match_to_science()\u001b[0m -   Found 0 bias frame for J1059+1441 (5 required)\n",
      "\u001b[1;31m[WARNING] ::\u001b[0m \u001b[1;34mframematch.py 398 match_warnings()\u001b[0m -   Only 0/5 bias frames for J1059+1441\n",
      "\u001b[1;32m[INFO]    ::\u001b[0m \u001b[1;34mmetadata.py 637 match_to_science()\u001b[0m -    No pinhole frames are required.  Not matching...\n",
      "\u001b[1;32m[INFO]    ::\u001b[0m \u001b[1;34mmetadata.py 660 match_to_science()\u001b[0m -   Found 3 arc frame for J1059+1441 (1 required)\n",
      "\u001b[1;32m[INFO]    ::\u001b[0m \u001b[1;34mmetadata.py 660 match_to_science()\u001b[0m -   Found 3 trace frame for J1059+1441 (3 required)\n",
      "\u001b[1;32m[INFO]    ::\u001b[0m \u001b[1;34mmetadata.py 604 match_to_science()\u001b[0m - ==================================================\n",
      "\u001b[1;32m[INFO]    ::\u001b[0m \u001b[1;34mmetadata.py 605 match_to_science()\u001b[0m - Matching calibrations to frame: J1059+1441\n",
      "\u001b[1;32m[INFO]    ::\u001b[0m \u001b[1;34mmetadata.py 660 match_to_science()\u001b[0m -   Found 3 pixelflat frame for J1059+1441 (3 required)\n",
      "\u001b[1;32m[INFO]    ::\u001b[0m \u001b[1;34mmetadata.py 619 match_to_science()\u001b[0m -   Dark frames not required.  Not matching...\n",
      "\u001b[1;32m[INFO]    ::\u001b[0m \u001b[1;34mmetadata.py 660 match_to_science()\u001b[0m -   Found 0 standard frame for J1059+1441 (1 required)\n",
      "\u001b[1;31m[WARNING] ::\u001b[0m \u001b[1;34mframematch.py 398 match_warnings()\u001b[0m -   Only 0/1 standard frames for J1059+1441\n",
      "\u001b[1;31m[WARNING] ::\u001b[0m \u001b[1;34mframematch.py 438 match_warnings()\u001b[0m - No standard frames for J1059+1441, but user does not want to flux anyways.\n",
      "\u001b[1;32m[INFO]    ::\u001b[0m \u001b[1;34mmetadata.py 660 match_to_science()\u001b[0m -   Found 0 bias frame for J1059+1441 (5 required)\n",
      "\u001b[1;31m[WARNING] ::\u001b[0m \u001b[1;34mframematch.py 398 match_warnings()\u001b[0m -   Only 0/5 bias frames for J1059+1441\n",
      "\u001b[1;32m[INFO]    ::\u001b[0m \u001b[1;34mmetadata.py 637 match_to_science()\u001b[0m -    No pinhole frames are required.  Not matching...\n",
      "\u001b[1;32m[INFO]    ::\u001b[0m \u001b[1;34mmetadata.py 660 match_to_science()\u001b[0m -   Found 3 arc frame for J1059+1441 (1 required)\n",
      "\u001b[1;32m[INFO]    ::\u001b[0m \u001b[1;34mmetadata.py 660 match_to_science()\u001b[0m -   Found 3 trace frame for J1059+1441 (3 required)\n",
      "\u001b[1;32m[INFO]    ::\u001b[0m \u001b[1;34mmetadata.py 604 match_to_science()\u001b[0m - ==================================================\n",
      "\u001b[1;32m[INFO]    ::\u001b[0m \u001b[1;34mmetadata.py 605 match_to_science()\u001b[0m - Matching calibrations to frame: J1059+1441\n",
      "\u001b[1;32m[INFO]    ::\u001b[0m \u001b[1;34mmetadata.py 660 match_to_science()\u001b[0m -   Found 3 pixelflat frame for J1059+1441 (3 required)\n",
      "\u001b[1;32m[INFO]    ::\u001b[0m \u001b[1;34mmetadata.py 619 match_to_science()\u001b[0m -   Dark frames not required.  Not matching...\n",
      "\u001b[1;32m[INFO]    ::\u001b[0m \u001b[1;34mmetadata.py 660 match_to_science()\u001b[0m -   Found 0 standard frame for J1059+1441 (1 required)\n",
      "\u001b[1;31m[WARNING] ::\u001b[0m \u001b[1;34mframematch.py 398 match_warnings()\u001b[0m -   Only 0/1 standard frames for J1059+1441\n",
      "\u001b[1;31m[WARNING] ::\u001b[0m \u001b[1;34mframematch.py 438 match_warnings()\u001b[0m - No standard frames for J1059+1441, but user does not want to flux anyways.\n",
      "\u001b[1;32m[INFO]    ::\u001b[0m \u001b[1;34mmetadata.py 660 match_to_science()\u001b[0m -   Found 0 bias frame for J1059+1441 (5 required)\n",
      "\u001b[1;31m[WARNING] ::\u001b[0m \u001b[1;34mframematch.py 398 match_warnings()\u001b[0m -   Only 0/5 bias frames for J1059+1441\n",
      "\u001b[1;32m[INFO]    ::\u001b[0m \u001b[1;34mmetadata.py 637 match_to_science()\u001b[0m -    No pinhole frames are required.  Not matching...\n",
      "\u001b[1;32m[INFO]    ::\u001b[0m \u001b[1;34mmetadata.py 660 match_to_science()\u001b[0m -   Found 3 arc frame for J1059+1441 (1 required)\n",
      "\u001b[1;32m[INFO]    ::\u001b[0m \u001b[1;34mmetadata.py 660 match_to_science()\u001b[0m -   Found 3 trace frame for J1059+1441 (3 required)\n",
      "\u001b[1;32m[INFO]    ::\u001b[0m \u001b[1;34mmetadata.py 683 match_to_science()\u001b[0m - Science frames successfully matched to calibration frames.\n",
      "\u001b[1;32m[INFO]    ::\u001b[0m \u001b[1;34mmetadata.py 532 write()\u001b[0m - Writing fits file metadata to /scratch/REDUX/Gemini/J1059+1441/gemini_gmos_north_e2v_setup_A/gemini_gmos_north_e2v_setup_A.lst.\n",
      "\u001b[1;32m[INFO]    ::\u001b[0m \u001b[1;34mpypeitsetup.py 483 run()\u001b[0m - Inspect the .calib file: /scratch/REDUX/Gemini/J1059+1441/gemini_gmos_north_e2v_setup_A/gemini_gmos_north_e2v_setup_A.calib\n",
      "\u001b[1;32m[INFO]    ::\u001b[0m \u001b[1;34mpypeitsetup.py 484 run()\u001b[0m - *********************************************************\n",
      "\u001b[1;32m[INFO]    ::\u001b[0m \u001b[1;34mpypeitsetup.py 485 run()\u001b[0m - Calibration check complete and successful!\n",
      "\u001b[1;32m[INFO]    ::\u001b[0m \u001b[1;34mpypeitsetup.py 487 run()\u001b[0m - *********************************************************\n",
      "\u001b[1;32m[INFO]    ::\u001b[0m \u001b[1;34mpypeit.py 520 init_setup()\u001b[0m - Setting reduction path to /scratch/REDUX/Gemini/J1059+1441/gemini_gmos_north_e2v_setup_A/\n",
      "\u001b[1;32m[INFO]    ::\u001b[0m \u001b[1;34mpaths.py 38 make_dirs()\u001b[0m - Creating Science directory\n",
      "\u001b[1;32m[INFO]    ::\u001b[0m \u001b[1;34mpaths.py 41 make_dirs()\u001b[0m - The following directory already exists:\n",
      "             /scratch/REDUX/Gemini/J1059+1441/gemini_gmos_north_e2v_setup_A/Science\n",
      "\u001b[1;32m[INFO]    ::\u001b[0m \u001b[1;34mpaths.py 63 make_dirs()\u001b[0m - Creating Object directories\n",
      "\u001b[1;32m[INFO]    ::\u001b[0m \u001b[1;34mpaths.py 66 make_dirs()\u001b[0m - Creating Master Calibrations directory\n"
     ]
    },
    {
     "name": "stderr",
     "output_type": "stream",
     "text": [
      "\u001b[1;32m[INFO]    ::\u001b[0m \u001b[1;34mpaths.py 86 make_dirs()\u001b[0m - Creating QA directory\n",
      "\u001b[1;31m[WARNING] ::\u001b[0m \u001b[1;34mpaths.py 89 make_dirs()\u001b[0m - Pre-existing QA plots will be overwritten\n"
     ]
    }
   ],
   "source": [
    "pypeIt.init_setup(pypeit_file, redux_dir, calibration_check=True)"
   ]
  },
  {
   "cell_type": "markdown",
   "metadata": {},
   "source": [
    "# Reduce"
   ]
  },
  {
   "cell_type": "code",
   "execution_count": null,
   "metadata": {},
   "outputs": [
    {
     "name": "stderr",
     "output_type": "stream",
     "text": [
      "\u001b[1;32m[INFO]    ::\u001b[0m \u001b[1;34mpypeit.py 325 reduce_exposure()\u001b[0m - Reducing file N20150116S0094.fits, target J1059+1441\n",
      "\u001b[1;32m[INFO]    ::\u001b[0m \u001b[1;34mpypeit.py 339 reduce_exposure()\u001b[0m - Working on detector 1\n",
      "\u001b[1;32m[INFO]    ::\u001b[0m \u001b[1;34mcalibrations.py 194 get_arc()\u001b[0m - Preparing a master arc frame\n",
      "\u001b[1;32m[INFO]    ::\u001b[0m \u001b[1;34mgemini_gmos.py 449 read_gmos()\u001b[0m - Reading GMOS file: /scratch/REDUX/Gemini/J1059+1441/Raw/N20150116S0251.fits\n",
      "\u001b[1;32m[INFO]    ::\u001b[0m \u001b[1;34mgemini_gmos.py 449 read_gmos()\u001b[0m - Reading GMOS file: /scratch/REDUX/Gemini/J1059+1441/Raw/N20150116S0251.fits\n",
      "\u001b[1;32m[INFO]    ::\u001b[0m \u001b[1;34mgemini_gmos.py 449 read_gmos()\u001b[0m - Reading GMOS file: /scratch/REDUX/Gemini/J1059+1441/Raw/N20150116S0251.fits\n",
      "\u001b[1;32m[INFO]    ::\u001b[0m \u001b[1;34mgemini_gmos.py 449 read_gmos()\u001b[0m - Reading GMOS file: /scratch/REDUX/Gemini/J1059+1441/Raw/N20150116S0251.fits\n",
      "\u001b[1;32m[INFO]    ::\u001b[0m \u001b[1;34mgemini_gmos.py 449 read_gmos()\u001b[0m - Reading GMOS file: /scratch/REDUX/Gemini/J1059+1441/Raw/N20150116S0251.fits\n",
      "\u001b[1;32m[INFO]    ::\u001b[0m \u001b[1;34mprocessimages.py 275 bias_subtract()\u001b[0m - Bias subtracting your image(s)\n",
      "\u001b[1;32m[INFO]    ::\u001b[0m \u001b[1;34mprocessimages.py 288 bias_subtract()\u001b[0m - Using overscan to subtact\n",
      "\u001b[1;32m[INFO]    ::\u001b[0m \u001b[1;34mmasters.py 368 save_master()\u001b[0m - Saving master arc frame as:\n",
      "             /scratch/REDUX/Gemini/J1059+1441/gemini_gmos_north_e2v_setup_A/MF_gemini_gmos_north_e2v/MasterArc_A_01_aa.fits\n",
      "\u001b[1;32m[INFO]    ::\u001b[0m \u001b[1;34mmasters.py 386 save_master()\u001b[0m - Writing header information\n",
      "\u001b[1;31m[WARNING] ::\u001b[0m \u001b[1;34mmasters.py 397 save_master()\u001b[0m - Overwriting file:\n",
      "             /scratch/REDUX/Gemini/J1059+1441/gemini_gmos_north_e2v_setup_A/MF_gemini_gmos_north_e2v/MasterArc_A_01_aa.fits\n",
      "\u001b[1;32m[INFO]    ::\u001b[0m \u001b[1;34mmasters.py 401 save_master()\u001b[0m - Master arc frame saved successfully:\n",
      "             /scratch/REDUX/Gemini/J1059+1441/gemini_gmos_north_e2v_setup_A/MF_gemini_gmos_north_e2v/MasterArc_A_01_aa.fits\n",
      "\u001b[1;32m[INFO]    ::\u001b[0m \u001b[1;34mgemini_gmos.py 449 read_gmos()\u001b[0m - Reading GMOS file: /scratch/REDUX/Gemini/J1059+1441/Raw/N20150116S0094.fits\n",
      "\u001b[1;32m[INFO]    ::\u001b[0m \u001b[1;34mgemini_gmos.py 449 read_gmos()\u001b[0m - Reading GMOS file: /scratch/REDUX/Gemini/J1059+1441/Raw/N20150116S0094.fits\n",
      "\u001b[1;32m[INFO]    ::\u001b[0m \u001b[1;34mgemini_gmos.py 449 read_gmos()\u001b[0m - Reading GMOS file: /scratch/REDUX/Gemini/J1059+1441/Raw/N20150116S0094.fits\n",
      "\u001b[1;32m[INFO]    ::\u001b[0m \u001b[1;34mpixels.py 37 gen_pixloc()\u001b[0m - Deriving physical pixel locations on the detector\n",
      "\u001b[1;32m[INFO]    ::\u001b[0m \u001b[1;34mpixels.py 40 gen_pixloc()\u001b[0m - Pixel gap in the dispersion direction = 0.000\n",
      "\u001b[1;32m[INFO]    ::\u001b[0m \u001b[1;34mpixels.py 41 gen_pixloc()\u001b[0m - Pixel size in the dispersion direction = 1.000\n",
      "\u001b[1;32m[INFO]    ::\u001b[0m \u001b[1;34mpixels.py 44 gen_pixloc()\u001b[0m - Pixel gap in the spatial direction = 0.000\n",
      "\u001b[1;32m[INFO]    ::\u001b[0m \u001b[1;34mpixels.py 45 gen_pixloc()\u001b[0m - Pixel size in the spatial direction = 1.000\n",
      "\u001b[1;32m[INFO]    ::\u001b[0m \u001b[1;34mpixels.py 50 gen_pixloc()\u001b[0m - Saving pixel locations\n",
      "\u001b[1;32m[INFO]    ::\u001b[0m \u001b[1;34mgemini_gmos.py 449 read_gmos()\u001b[0m - Reading GMOS file: /scratch/REDUX/Gemini/J1059+1441/Raw/N20150116S0095.fits\n",
      "\u001b[1;32m[INFO]    ::\u001b[0m \u001b[1;34mgemini_gmos.py 449 read_gmos()\u001b[0m - Reading GMOS file: /scratch/REDUX/Gemini/J1059+1441/Raw/N20150116S0096.fits\n",
      "\u001b[1;32m[INFO]    ::\u001b[0m \u001b[1;34mgemini_gmos.py 449 read_gmos()\u001b[0m - Reading GMOS file: /scratch/REDUX/Gemini/J1059+1441/Raw/N20150116S0099.fits\n",
      "\u001b[1;32m[INFO]    ::\u001b[0m \u001b[1;34mgemini_gmos.py 449 read_gmos()\u001b[0m - Reading GMOS file: /scratch/REDUX/Gemini/J1059+1441/Raw/N20150116S0095.fits\n",
      "\u001b[1;32m[INFO]    ::\u001b[0m \u001b[1;34mgemini_gmos.py 449 read_gmos()\u001b[0m - Reading GMOS file: /scratch/REDUX/Gemini/J1059+1441/Raw/N20150116S0095.fits\n",
      "\u001b[1;32m[INFO]    ::\u001b[0m \u001b[1;34mgemini_gmos.py 449 read_gmos()\u001b[0m - Reading GMOS file: /scratch/REDUX/Gemini/J1059+1441/Raw/N20150116S0095.fits\n",
      "\u001b[1;32m[INFO]    ::\u001b[0m \u001b[1;34mgemini_gmos.py 449 read_gmos()\u001b[0m - Reading GMOS file: /scratch/REDUX/Gemini/J1059+1441/Raw/N20150116S0095.fits\n",
      "\u001b[1;32m[INFO]    ::\u001b[0m \u001b[1;34mprocessimages.py 275 bias_subtract()\u001b[0m - Bias subtracting your image(s)\n",
      "\u001b[1;32m[INFO]    ::\u001b[0m \u001b[1;34mprocessimages.py 288 bias_subtract()\u001b[0m - Using overscan to subtact\n",
      "\u001b[1;32m[INFO]    ::\u001b[0m \u001b[1;34mprocessimages.py 288 bias_subtract()\u001b[0m - Using overscan to subtact\n",
      "\u001b[1;32m[INFO]    ::\u001b[0m \u001b[1;34mprocessimages.py 288 bias_subtract()\u001b[0m - Using overscan to subtact\n",
      "\u001b[1;32m[INFO]    ::\u001b[0m \u001b[1;34mcombine.py 62 comb_frames()\u001b[0m - Combining 3 trace_image frames\n",
      "\u001b[1;30m[WORK IN ]::\u001b[0m\n",
      "\u001b[1;33m[PROGRESS]::\u001b[0m \u001b[1;34mcombine.py 66 comb_frames()\u001b[0m - lscomb feature has not been included here yet...\n",
      "\u001b[1;32m[INFO]    ::\u001b[0m \u001b[1;34mcombine.py 95 comb_frames()\u001b[0m - Finding saturated and non-linear pixels\n",
      "\u001b[1;32m[INFO]    ::\u001b[0m \u001b[1;34mcombine.py 119 comb_frames()\u001b[0m - Rejecting cosmic rays\n",
      "\u001b[1;32m[INFO]    ::\u001b[0m \u001b[1;34mcombine.py 163 comb_frames()\u001b[0m - Not rejecting any low/high pixels\n",
      "\u001b[1;32m[INFO]    ::\u001b[0m \u001b[1;34mcombine.py 171 comb_frames()\u001b[0m - Rejecting deviant pixels\n",
      "\u001b[1;32m[INFO]    ::\u001b[0m \u001b[1;34mcombine.py 188 comb_frames()\u001b[0m - Combining frames with a weightmean operation\n",
      "\u001b[1;32m[INFO]    ::\u001b[0m \u001b[1;34mcombine.py 201 comb_frames()\u001b[0m - Replacing completely masked pixels with the maxnonsat value of the input frames\n",
      "\u001b[1;32m[INFO]    ::\u001b[0m \u001b[1;34mcombine.py 215 comb_frames()\u001b[0m - 3 trace_image frames combined successfully!\n",
      "\u001b[1;32m[INFO]    ::\u001b[0m \u001b[1;34mgemini_gmos.py 449 read_gmos()\u001b[0m - Reading GMOS file: /scratch/REDUX/Gemini/J1059+1441/Raw/N20150116S0095.fits\n",
      "\u001b[1;32m[INFO]    ::\u001b[0m \u001b[1;34mgemini_gmos.py 449 read_gmos()\u001b[0m - Reading GMOS file: /scratch/REDUX/Gemini/J1059+1441/Raw/N20150116S0095.fits\n",
      "\u001b[1;31m[WARNING] ::\u001b[0m \u001b[1;34mprocimg.py 456 gain_frame()\u001b[0m - Should probably be measuring the gain across the amplifier boundary\n",
      "\u001b[1;32m[INFO]    ::\u001b[0m \u001b[1;34mtrace_slits.py 813 edgearr_from_binarr()\u001b[0m - Detecting slit edges in the mstrace image\n",
      "\u001b[1;32m[INFO]    ::\u001b[0m \u001b[1;34mtrace_slits.py 874 edgearr_from_binarr()\u001b[0m - Applying bad pixel mask\n",
      "\u001b[1;32m[INFO]    ::\u001b[0m \u001b[1;34mtrace_slits.py 933 edgearr_add_left_right()\u001b[0m - 49 left edges and 48 right edges were found in the trace\n",
      "\u001b[1;32m[INFO]    ::\u001b[0m \u001b[1;34mtrace_slits.py 960 edgearr_add_left_right()\u001b[0m - Assigning slit edge traces\n",
      "\u001b[1;32m[INFO]    ::\u001b[0m \u001b[1;34mtraceslits.py 361 _assign_edges()\u001b[0m - Assigning left slit edges\n",
      "             \u001b[1;34mtrace_slits.py 160 assign_slits()\u001b[0m - Outer left edge loop, Iteration 1\n",
      "             \u001b[1;34mtrace_slits.py 298 assign_slits()\u001b[0m -   Inner loop, Iteration 1, 49 left edges assigned (49 total)\n",
      "             \u001b[1;34mtrace_slits.py 160 assign_slits()\u001b[0m - Outer left edge loop, Iteration 2\n",
      "             \u001b[1;34mtrace_slits.py 298 assign_slits()\u001b[0m -   Inner loop, Iteration 1, 49 left edges assigned (49 total)\n",
      "\u001b[1;32m[INFO]    ::\u001b[0m \u001b[1;34mtraceslits.py 369 _assign_edges()\u001b[0m - Assigning right slit edges\n",
      "             \u001b[1;34mtrace_slits.py 160 assign_slits()\u001b[0m - Outer right edge loop, Iteration 1\n",
      "             \u001b[1;34mtrace_slits.py 298 assign_slits()\u001b[0m -   Inner loop, Iteration 1, 47 right edges assigned (47 total)\n",
      "             \u001b[1;34mtrace_slits.py 298 assign_slits()\u001b[0m -   Inner loop, Iteration 2, 1 right edges assigned (48 total)\n",
      "             \u001b[1;34mtrace_slits.py 160 assign_slits()\u001b[0m - Outer right edge loop, Iteration 2\n",
      "             \u001b[1;34mtrace_slits.py 298 assign_slits()\u001b[0m -   Inner loop, Iteration 1, 47 right edges assigned (47 total)\n",
      "             \u001b[1;34mtrace_slits.py 298 assign_slits()\u001b[0m -   Inner loop, Iteration 2, 1 right edges assigned (48 total)\n",
      "\u001b[1;32m[INFO]    ::\u001b[0m \u001b[1;34mtrace_slits.py 1157 edgearr_final_left_right()\u001b[0m - 49 left edges and 48 right edges were found in the trace\n",
      "\u001b[1;32m[INFO]    ::\u001b[0m \u001b[1;34mtrace_slits.py 560 edgearr_tcrude()\u001b[0m - Crude tracing the edges\n",
      "\u001b[1;31m[WARNING] ::\u001b[0m \u001b[1;34mtrace_slits.py 472 edgearr_mslit_sync()\u001b[0m - Missing a right edge for slit with left edge at 1442\n",
      "\u001b[1;31m[WARNING] ::\u001b[0m \u001b[1;34mtrace_slits.py 473 edgearr_mslit_sync()\u001b[0m - Adding in a corresponding right edge!\n",
      "\u001b[1;32m[INFO]    ::\u001b[0m \u001b[1;34mtrace_slits.py 1309 fit_edges()\u001b[0m - Fitting left slit traces\n"
     ]
    },
    {
     "name": "stderr",
     "output_type": "stream",
     "text": [
      "\u001b[1;32m[INFO]    ::\u001b[0m \u001b[1;34mtrace_slits.py 1311 fit_edges()\u001b[0m - Fitting right slit traces\n",
      "\u001b[1;32m[INFO]    ::\u001b[0m \u001b[1;34mtraceslits.py 799 _synchronize()\u001b[0m - Synchronizing left and right slit traces\n",
      "\u001b[1;32m[INFO]    ::\u001b[0m \u001b[1;34mtrace_slits.py 2440 synchronize_edges()\u001b[0m - Relabelling slit edges\n"
     ]
    },
    {
     "name": "stdout",
     "output_type": "stream",
     "text": [
      "> /data/Projects/Python/PypeIt/pypeit/traceslits.py(713)_pca_pixel_slit_edges()\n",
      "-> = trace_slits.pca_pixel_slit_edges(self.binarr, self.edgearr, self.lcoeff,\n",
      "(Pdb) w\n",
      "  /home/xavier/.pyenv/versions/anaconda3-4.4.0/lib/python3.6/runpy.py(193)_run_module_as_main()\n",
      "-> \"__main__\", mod_spec)\n",
      "  /home/xavier/.pyenv/versions/anaconda3-4.4.0/lib/python3.6/runpy.py(85)_run_code()\n",
      "-> exec(code, run_globals)\n",
      "  /home/xavier/.pyenv/versions/anaconda3-4.4.0/lib/python3.6/site-packages/ipykernel_launcher.py(16)<module>()\n",
      "-> app.launch_new_instance()\n",
      "  /home/xavier/.pyenv/versions/anaconda3-4.4.0/lib/python3.6/site-packages/traitlets/config/application.py(658)launch_instance()\n",
      "-> app.start()\n",
      "  /home/xavier/.pyenv/versions/anaconda3-4.4.0/lib/python3.6/site-packages/ipykernel/kernelapp.py(477)start()\n",
      "-> ioloop.IOLoop.instance().start()\n",
      "  /home/xavier/.pyenv/versions/anaconda3-4.4.0/lib/python3.6/site-packages/zmq/eventloop/ioloop.py(177)start()\n",
      "-> super(ZMQIOLoop, self).start()\n",
      "  /home/xavier/.pyenv/versions/anaconda3-4.4.0/lib/python3.6/site-packages/tornado/ioloop.py(888)start()\n",
      "-> handler_func(fd_obj, events)\n",
      "  /home/xavier/.pyenv/versions/anaconda3-4.4.0/lib/python3.6/site-packages/tornado/stack_context.py(277)null_wrapper()\n",
      "-> return fn(*args, **kwargs)\n",
      "  /home/xavier/.pyenv/versions/anaconda3-4.4.0/lib/python3.6/site-packages/zmq/eventloop/zmqstream.py(440)_handle_events()\n",
      "-> self._handle_recv()\n",
      "  /home/xavier/.pyenv/versions/anaconda3-4.4.0/lib/python3.6/site-packages/zmq/eventloop/zmqstream.py(472)_handle_recv()\n",
      "-> self._run_callback(callback, msg)\n",
      "  /home/xavier/.pyenv/versions/anaconda3-4.4.0/lib/python3.6/site-packages/zmq/eventloop/zmqstream.py(414)_run_callback()\n",
      "-> callback(*args, **kwargs)\n",
      "  /home/xavier/.pyenv/versions/anaconda3-4.4.0/lib/python3.6/site-packages/tornado/stack_context.py(277)null_wrapper()\n",
      "-> return fn(*args, **kwargs)\n",
      "  /home/xavier/.pyenv/versions/anaconda3-4.4.0/lib/python3.6/site-packages/ipykernel/kernelbase.py(283)dispatcher()\n",
      "-> return self.dispatch_shell(stream, msg)\n",
      "  /home/xavier/.pyenv/versions/anaconda3-4.4.0/lib/python3.6/site-packages/ipykernel/kernelbase.py(235)dispatch_shell()\n",
      "-> handler(stream, idents, msg)\n",
      "  /home/xavier/.pyenv/versions/anaconda3-4.4.0/lib/python3.6/site-packages/ipykernel/kernelbase.py(399)execute_request()\n",
      "-> user_expressions, allow_stdin)\n",
      "  /home/xavier/.pyenv/versions/anaconda3-4.4.0/lib/python3.6/site-packages/ipykernel/ipkernel.py(196)do_execute()\n",
      "-> res = shell.run_cell(code, store_history=store_history, silent=silent)\n",
      "  /home/xavier/.pyenv/versions/anaconda3-4.4.0/lib/python3.6/site-packages/ipykernel/zmqshell.py(533)run_cell()\n",
      "-> return super(ZMQInteractiveShell, self).run_cell(*args, **kwargs)\n",
      "  /home/xavier/.pyenv/versions/anaconda3-4.4.0/lib/python3.6/site-packages/IPython/core/interactiveshell.py(2717)run_cell()\n",
      "-> interactivity=interactivity, compiler=compiler, result=result)\n",
      "  /home/xavier/.pyenv/versions/anaconda3-4.4.0/lib/python3.6/site-packages/IPython/core/interactiveshell.py(2827)run_ast_nodes()\n",
      "-> if self.run_code(code, result):\n",
      "  /home/xavier/.pyenv/versions/anaconda3-4.4.0/lib/python3.6/site-packages/IPython/core/interactiveshell.py(2881)run_code()\n",
      "-> exec(code_obj, self.user_global_ns, self.user_ns)\n",
      "  <ipython-input-6-84c6e515cd69>(1)<module>()\n",
      "-> pypeIt.reduce_all()\n",
      "  /data/Projects/Python/PypeIt/pypeit/pypeit.py(229)reduce_all()\n",
      "-> sci_dict = self.reduce_exposure(sci_ID, reuse_masters=reuse_masters)\n",
      "  /data/Projects/Python/PypeIt/pypeit/pypeit.py(343)reduce_exposure()\n",
      "-> self.calibrate_one(sci_ID, det)\n",
      "  /data/Projects/Python/PypeIt/pypeit/pypeit.py(697)calibrate_one()\n",
      "-> self.caliBrate.run_the_steps()\n",
      "  /data/Projects/Python/PypeIt/pypeit/calibrations.py(694)run_the_steps()\n",
      "-> getattr(self, 'get_{:s}'.format(step))()\n",
      "  /data/Projects/Python/PypeIt/pypeit/calibrations.py(466)get_slits()\n",
      "-> self.tslits_dict = self.traceSlits.run(arms=arms, plate_scale = plate_scale)\n",
      "  /data/Projects/Python/PypeIt/pypeit/traceslits.py(1107)run()\n",
      "-> self._pca()\n",
      "  /data/Projects/Python/PypeIt/pypeit/traceslits.py(657)_pca()\n",
      "-> self._pca_pixel_slit_edges()\n",
      "> /data/Projects/Python/PypeIt/pypeit/traceslits.py(713)_pca_pixel_slit_edges()\n",
      "-> = trace_slits.pca_pixel_slit_edges(self.binarr, self.edgearr, self.lcoeff,\n",
      "(Pdb) c\n"
     ]
    },
    {
     "name": "stderr",
     "output_type": "stream",
     "text": [
      "\u001b[1;30m[WORK IN ]::\u001b[0m\n",
      "\u001b[1;33m[PROGRESS]::\u001b[0m \u001b[1;34mtrace_slits.py 2080 pca_pixel_slit_edges()\u001b[0m - May need to do a check here to make sure ofit is reasonable\n",
      "\u001b[1;32m[INFO]    ::\u001b[0m \u001b[1;34mtrace_slits.py 2086 pca_pixel_slit_edges()\u001b[0m - Performing a PCA on the slit traces\n"
     ]
    },
    {
     "name": "stdout",
     "output_type": "stream",
     "text": [
      "> /data/Projects/Python/PypeIt/pypeit/core/trace_slits.py(2092)pca_pixel_slit_edges()\n",
      "-> fitted, outpar = pca.basis(xcen, trcval, tcoeff, lnpc, ofit, weights=pxwght, x0in=ordsnd, mask=maskrw, skipx0=False, function=function)\n",
      "(Pdb)         fitted, outpar = pca.basis(xcen, trcval, tcoeff, lnpc, ofit, weights=pxwght, x0in=ordsnd, mask=maskrw, skipx0=False, function=function)\n"
     ]
    },
    {
     "name": "stderr",
     "output_type": "stream",
     "text": [
      "\n",
      "\u001b[1;37;41m[ERROR]   ::\u001b[0m \u001b[1;34mpca.py 204 get_pc()\u001b[0m - The number of principal components must be less than or equal\n",
      "             to the order of the fitting function\n"
     ]
    },
    {
     "name": "stdout",
     "output_type": "stream",
     "text": [
      "*** pypeit.pypmsgs.PypeItError: PYPIT ENDS\n",
      "(Pdb) ofit\n",
      "[3, 2, 1, 0, 0, 0]\n",
      "(Pdb) ofit[0]\n",
      "3\n",
      "(Pdb) xcen.shape\n",
      "(1024, 2304)\n",
      "(Pdb) trcval\n",
      "array([[-3.91580400e-03, -3.91580400e-03, -3.91580400e-03, ...,\n",
      "        -3.91580400e-03, -3.91580400e-03, -3.91580400e-03],\n",
      "       [ 3.90433752e-03,  3.90433752e-03,  3.90433752e-03, ...,\n",
      "         3.90433752e-03,  3.90433752e-03,  3.90433752e-03],\n",
      "       [ 1.16786692e-02,  1.16786692e-02,  1.16786692e-02, ...,\n",
      "         1.16786692e-02,  1.16786692e-02,  1.16786692e-02],\n",
      "       ...,\n",
      "       [ 3.95133885e+00,  3.95133885e+00,  3.95133885e+00, ...,\n",
      "         3.95133885e+00,  3.95133885e+00,  3.95133885e+00],\n",
      "       [ 3.97075182e+00,  3.97075182e+00,  3.97075182e+00, ...,\n",
      "         3.97075182e+00,  3.97075182e+00,  3.97075182e+00],\n",
      "       [ 3.99023343e+00,  3.99023343e+00,  3.99023343e+00, ...,\n",
      "         3.99023343e+00,  3.99023343e+00,  3.99023343e+00]])\n",
      "(Pdb) trcval.shape\n",
      "(1024, 2304)\n",
      "(Pdb) tcoeff.shape\n",
      "(4, 2304)\n",
      "(Pdb) lnpc.shape\n",
      "*** AttributeError: 'int' object has no attribute 'shape'\n",
      "(Pdb) lnpc\n",
      "5\n",
      "(Pdb) ofit\n",
      "[3, 2, 1, 0, 0, 0]\n",
      "(Pdb) lcoeff.shape\n",
      "(4, 49)\n",
      "(Pdb) ldiffarr\n",
      "array([  56,   99,  158,  196,  237,  276,  313,  381,  422,  462,  503,\n",
      "        551,  589,  620,  678,  716,  768,  807,  866,  904,  941, 1002,\n",
      "       1059, 1099, 1137, 1177, 1218, 1255, 1317, 1357, 1396, 1442, 1477,\n",
      "       1524, 1569, 1638, 1688, 1743, 1804, 1839, 1880, 1922, 1937, 1991,\n",
      "       2037, 2083, 2121, 2159, 2198])\n",
      "(Pdb) maskrw\n",
      "array([   0,    1,    2, ..., 2301, 2302, 2303])\n",
      "(Pdb) ldiffarr\n",
      "array([  56,   99,  158,  196,  237,  276,  313,  381,  422,  462,  503,\n",
      "        551,  589,  620,  678,  716,  768,  807,  866,  904,  941, 1002,\n",
      "       1059, 1099, 1137, 1177, 1218, 1255, 1317, 1357, 1396, 1442, 1477,\n",
      "       1524, 1569, 1638, 1688, 1743, 1804, 1839, 1880, 1922, 1937, 1991,\n",
      "       2037, 2083, 2121, 2159, 2198])\n",
      "(Pdb) lnpc\n",
      "5\n"
     ]
    }
   ],
   "source": [
    "pypeIt.reduce_all()"
   ]
  },
  {
   "cell_type": "markdown",
   "metadata": {},
   "source": [
    "## Slits"
   ]
  },
  {
   "cell_type": "markdown",
   "metadata": {},
   "source": [
    "### Generate trace image"
   ]
  },
  {
   "cell_type": "code",
   "execution_count": null,
   "metadata": {},
   "outputs": [],
   "source": [
    "pypeIt.caliBrate.trace_image_files"
   ]
  },
  {
   "cell_type": "code",
   "execution_count": null,
   "metadata": {
    "collapsed": true
   },
   "outputs": [],
   "source": [
    "# Instantiate\n",
    "traceImage = traceimage.TraceImage(pypeitSetup.spectrograph,\n",
    "                               file_list=pypeIt.caliBrate.trace_image_files, det=1,\n",
    "                               par=pypeIt.caliBrate.par['traceframe'])"
   ]
  },
  {
   "cell_type": "code",
   "execution_count": null,
   "metadata": {},
   "outputs": [],
   "source": [
    "# Process\n",
    "mstrace = traceImage.process(bias_subtract='overscan', trim=pypeIt.caliBrate.par['trim'], apply_gain=True)"
   ]
  },
  {
   "cell_type": "code",
   "execution_count": null,
   "metadata": {
    "collapsed": true
   },
   "outputs": [],
   "source": [
    "traceImage.show()"
   ]
  },
  {
   "cell_type": "markdown",
   "metadata": {},
   "source": [
    "### binarr"
   ]
  },
  {
   "cell_type": "code",
   "execution_count": null,
   "metadata": {},
   "outputs": [],
   "source": [
    "_= pypeIt.caliBrate.traceSlits.make_binarr()"
   ]
  },
  {
   "cell_type": "code",
   "execution_count": null,
   "metadata": {
    "collapsed": true
   },
   "outputs": [],
   "source": []
  },
  {
   "cell_type": "markdown",
   "metadata": {},
   "source": [
    "### Plate scale"
   ]
  },
  {
   "cell_type": "code",
   "execution_count": null,
   "metadata": {},
   "outputs": [],
   "source": [
    "# Compute the plate scale in arcsec which is needed to trim short slits\n",
    "scidx = np.where(pypeIt.caliBrate.fitstbl.find_frames('science', sci_ID=pypeIt.caliBrate.sci_ID))[0][0]\n",
    "binspatial, binspectral = parse.parse_binning(pypeIt.caliBrate.fitstbl['binning'][scidx])\n",
    "## Old code: binspatial, binspectral = parse.parse_binning(self.fitstbl['binning'][scidx])\n",
    "plate_scale = binspatial*pypeitSetup.spectrograph.detector[0]['platescale']\n",
    "plate_scale"
   ]
  },
  {
   "cell_type": "markdown",
   "metadata": {},
   "source": [
    "### Edgearr"
   ]
  },
  {
   "cell_type": "code",
   "execution_count": null,
   "metadata": {},
   "outputs": [],
   "source": [
    "_= pypeIt.caliBrate.traceSlits._edgearr_from_binarr()"
   ]
  },
  {
   "cell_type": "code",
   "execution_count": null,
   "metadata": {
    "collapsed": true
   },
   "outputs": [],
   "source": [
    "pypeIt.caliBrate.traceSlits.show('edgearr')"
   ]
  },
  {
   "cell_type": "markdown",
   "metadata": {},
   "source": [
    "### Match edges"
   ]
  },
  {
   "cell_type": "code",
   "execution_count": null,
   "metadata": {},
   "outputs": [],
   "source": [
    "pypeIt.caliBrate.traceSlits._match_edges()"
   ]
  },
  {
   "cell_type": "markdown",
   "metadata": {},
   "source": [
    "### Assign edges"
   ]
  },
  {
   "cell_type": "code",
   "execution_count": null,
   "metadata": {},
   "outputs": [],
   "source": [
    "pypeIt.caliBrate.traceSlits._assign_edges()"
   ]
  },
  {
   "cell_type": "markdown",
   "metadata": {},
   "source": [
    "### Final left/right"
   ]
  },
  {
   "cell_type": "code",
   "execution_count": null,
   "metadata": {},
   "outputs": [],
   "source": [
    "pypeIt.caliBrate.traceSlits._final_left_right()"
   ]
  },
  {
   "cell_type": "markdown",
   "metadata": {},
   "source": [
    "### Mslit magic"
   ]
  },
  {
   "cell_type": "code",
   "execution_count": null,
   "metadata": {},
   "outputs": [],
   "source": [
    "pypeIt.caliBrate.traceSlits._mslit_tcrude()"
   ]
  },
  {
   "cell_type": "code",
   "execution_count": null,
   "metadata": {},
   "outputs": [],
   "source": [
    "pypeIt.caliBrate.traceSlits._mslit_sync()"
   ]
  },
  {
   "cell_type": "markdown",
   "metadata": {},
   "source": [
    "### Fit Edges"
   ]
  },
  {
   "cell_type": "code",
   "execution_count": null,
   "metadata": {},
   "outputs": [],
   "source": [
    "pypeIt.caliBrate.traceSlits._set_lrminx()\n",
    "pypeIt.caliBrate.traceSlits._fit_edges('left')\n",
    "pypeIt.caliBrate.traceSlits._fit_edges('right')"
   ]
  },
  {
   "cell_type": "markdown",
   "metadata": {},
   "source": [
    "### Synchronize"
   ]
  },
  {
   "cell_type": "code",
   "execution_count": null,
   "metadata": {},
   "outputs": [],
   "source": [
    "pypeIt.caliBrate.traceSlits._synchronize()"
   ]
  },
  {
   "cell_type": "markdown",
   "metadata": {},
   "source": [
    "### PCA"
   ]
  },
  {
   "cell_type": "code",
   "execution_count": null,
   "metadata": {},
   "outputs": [],
   "source": [
    "pypeIt.caliBrate.traceSlits._pca()"
   ]
  },
  {
   "cell_type": "code",
   "execution_count": null,
   "metadata": {},
   "outputs": [],
   "source": [
    "np.max(pypeIt.caliBrate.msbpm)"
   ]
  },
  {
   "cell_type": "code",
   "execution_count": null,
   "metadata": {},
   "outputs": [],
   "source": [
    "pypeIt.caliBrate.traceSlits.show('edges')"
   ]
  },
  {
   "cell_type": "code",
   "execution_count": null,
   "metadata": {},
   "outputs": [],
   "source": [
    "pypeIt.caliBrate.traceImage.show()"
   ]
  },
  {
   "cell_type": "code",
   "execution_count": null,
   "metadata": {
    "collapsed": true
   },
   "outputs": [],
   "source": [
    "pypeIt.caliBrate.traceSlits.show('siglev')"
   ]
  },
  {
   "cell_type": "code",
   "execution_count": null,
   "metadata": {
    "collapsed": true
   },
   "outputs": [],
   "source": [
    "pypeIt.caliBrate.traceSlits.show('edgearr')"
   ]
  },
  {
   "cell_type": "code",
   "execution_count": null,
   "metadata": {},
   "outputs": [],
   "source": [
    "pypeIt.caliBrate.par"
   ]
  },
  {
   "cell_type": "code",
   "execution_count": null,
   "metadata": {
    "collapsed": true
   },
   "outputs": [],
   "source": []
  }
 ],
 "metadata": {
  "kernelspec": {
   "display_name": "Python 3",
   "language": "python",
   "name": "python3"
  },
  "language_info": {
   "codemirror_mode": {
    "name": "ipython",
    "version": 3
   },
   "file_extension": ".py",
   "mimetype": "text/x-python",
   "name": "python",
   "nbconvert_exporter": "python",
   "pygments_lexer": "ipython3",
   "version": "3.6.5"
  }
 },
 "nbformat": 4,
 "nbformat_minor": 2
}
