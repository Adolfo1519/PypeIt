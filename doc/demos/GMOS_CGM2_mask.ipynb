{
 "cells": [
  {
   "cell_type": "markdown",
   "metadata": {},
   "source": [
    "# Fussing with a GMOS CGM^2 Mask"
   ]
  },
  {
   "cell_type": "code",
   "execution_count": 1,
   "metadata": {
    "collapsed": true
   },
   "outputs": [],
   "source": [
    "# imports\n",
    "import numpy as np\n",
    "\n",
    "from pypeit import pypeit\n",
    "from pypeit import pypeitsetup\n",
    "from pypeit import traceimage"
   ]
  },
  {
   "cell_type": "markdown",
   "metadata": {},
   "source": [
    "## Instantiate"
   ]
  },
  {
   "cell_type": "code",
   "execution_count": 2,
   "metadata": {},
   "outputs": [
    {
     "name": "stderr",
     "output_type": "stream",
     "text": [
      "\u001b[1;32m[INFO]    ::\u001b[0m \u001b[1;34mutil.py 431 parse_pypeit_file()\u001b[0m - Loading the reduction file\n",
      "\u001b[1;32m[INFO]    ::\u001b[0m \u001b[1;34mutil.py 456 parse_pypeit_file()\u001b[0m - Found 9 raw data frames\n",
      "\u001b[1;32m[INFO]    ::\u001b[0m \u001b[1;34mutil.py 468 parse_pypeit_file()\u001b[0m - Input file loaded successfully\n"
     ]
    }
   ],
   "source": [
    "pypeit_file = '/scratch/REDUX/Gemini/J1059+1441/gemini_gmos_north_e2v_setup_A/gemini_gmos_north_e2v_setup_A.pypeit'\n",
    "pypeitSetup = pypeitsetup.PypeItSetup.from_pypeit_file(pypeit_file)"
   ]
  },
  {
   "cell_type": "code",
   "execution_count": 3,
   "metadata": {
    "collapsed": true
   },
   "outputs": [],
   "source": [
    "pypeIt = pypeit.instantiate_me(pypeitSetup.spectrograph, verbosity=2, overwrite=True, show=True) #, logname=logname, show=args.show)"
   ]
  },
  {
   "cell_type": "markdown",
   "metadata": {},
   "source": [
    "## Setup "
   ]
  },
  {
   "cell_type": "code",
   "execution_count": 4,
   "metadata": {
    "collapsed": true
   },
   "outputs": [],
   "source": [
    "redux_dir = '/scratch/REDUX/Gemini/J1059+1441/gemini_gmos_north_e2v_setup_A/'"
   ]
  },
  {
   "cell_type": "code",
   "execution_count": 5,
   "metadata": {},
   "outputs": [
    {
     "name": "stderr",
     "output_type": "stream",
     "text": [
      "\u001b[1;32m[INFO]    ::\u001b[0m \u001b[1;34mutil.py 431 parse_pypeit_file()\u001b[0m - Loading the reduction file\n",
      "\u001b[1;32m[INFO]    ::\u001b[0m \u001b[1;34mutil.py 456 parse_pypeit_file()\u001b[0m - Found 9 raw data frames\n",
      "\u001b[1;32m[INFO]    ::\u001b[0m \u001b[1;34mutil.py 468 parse_pypeit_file()\u001b[0m - Input file loaded successfully\n",
      "\u001b[1;31m[WARNING] ::\u001b[0m \u001b[1;34mspectrograph.py 449 check_headers()\u001b[0m - Specific header keyword checks have not been implemented for gemini_gmos_north_e2v.\n",
      "\u001b[1;32m[INFO]    ::\u001b[0m \u001b[1;34mmetadata.py 192 _build()\u001b[0m - Successfully loaded headers for file:\n",
      "             /scratch/REDUX/Gemini/J1059+1441/Raw/N20150116S0251.fits\n",
      "\u001b[1;31m[WARNING] ::\u001b[0m \u001b[1;34mspectrograph.py 449 check_headers()\u001b[0m - Specific header keyword checks have not been implemented for gemini_gmos_north_e2v.\n",
      "\u001b[1;32m[INFO]    ::\u001b[0m \u001b[1;34mmetadata.py 192 _build()\u001b[0m - Successfully loaded headers for file:\n",
      "             /scratch/REDUX/Gemini/J1059+1441/Raw/N20150116S0252.fits\n",
      "\u001b[1;31m[WARNING] ::\u001b[0m \u001b[1;34mspectrograph.py 449 check_headers()\u001b[0m - Specific header keyword checks have not been implemented for gemini_gmos_north_e2v.\n",
      "\u001b[1;32m[INFO]    ::\u001b[0m \u001b[1;34mmetadata.py 192 _build()\u001b[0m - Successfully loaded headers for file:\n",
      "             /scratch/REDUX/Gemini/J1059+1441/Raw/N20150116S0253.fits\n",
      "\u001b[1;31m[WARNING] ::\u001b[0m \u001b[1;34mspectrograph.py 449 check_headers()\u001b[0m - Specific header keyword checks have not been implemented for gemini_gmos_north_e2v.\n",
      "\u001b[1;32m[INFO]    ::\u001b[0m \u001b[1;34mmetadata.py 192 _build()\u001b[0m - Successfully loaded headers for file:\n",
      "             /scratch/REDUX/Gemini/J1059+1441/Raw/N20150116S0095.fits\n",
      "\u001b[1;31m[WARNING] ::\u001b[0m \u001b[1;34mspectrograph.py 449 check_headers()\u001b[0m - Specific header keyword checks have not been implemented for gemini_gmos_north_e2v.\n",
      "\u001b[1;32m[INFO]    ::\u001b[0m \u001b[1;34mmetadata.py 192 _build()\u001b[0m - Successfully loaded headers for file:\n",
      "             /scratch/REDUX/Gemini/J1059+1441/Raw/N20150116S0096.fits\n",
      "\u001b[1;31m[WARNING] ::\u001b[0m \u001b[1;34mspectrograph.py 449 check_headers()\u001b[0m - Specific header keyword checks have not been implemented for gemini_gmos_north_e2v.\n",
      "\u001b[1;32m[INFO]    ::\u001b[0m \u001b[1;34mmetadata.py 192 _build()\u001b[0m - Successfully loaded headers for file:\n",
      "             /scratch/REDUX/Gemini/J1059+1441/Raw/N20150116S0099.fits\n",
      "\u001b[1;31m[WARNING] ::\u001b[0m \u001b[1;34mspectrograph.py 449 check_headers()\u001b[0m - Specific header keyword checks have not been implemented for gemini_gmos_north_e2v.\n",
      "\u001b[1;32m[INFO]    ::\u001b[0m \u001b[1;34mmetadata.py 192 _build()\u001b[0m - Successfully loaded headers for file:\n",
      "             /scratch/REDUX/Gemini/J1059+1441/Raw/N20150116S0094.fits\n",
      "\u001b[1;31m[WARNING] ::\u001b[0m \u001b[1;34mspectrograph.py 449 check_headers()\u001b[0m - Specific header keyword checks have not been implemented for gemini_gmos_north_e2v.\n",
      "\u001b[1;32m[INFO]    ::\u001b[0m \u001b[1;34mmetadata.py 192 _build()\u001b[0m - Successfully loaded headers for file:\n",
      "             /scratch/REDUX/Gemini/J1059+1441/Raw/N20150116S0097.fits\n",
      "\u001b[1;31m[WARNING] ::\u001b[0m \u001b[1;34mspectrograph.py 449 check_headers()\u001b[0m - Specific header keyword checks have not been implemented for gemini_gmos_north_e2v.\n",
      "\u001b[1;32m[INFO]    ::\u001b[0m \u001b[1;34mmetadata.py 192 _build()\u001b[0m - Successfully loaded headers for file:\n",
      "             /scratch/REDUX/Gemini/J1059+1441/Raw/N20150116S0098.fits\n",
      "\u001b[1;32m[INFO]    ::\u001b[0m \u001b[1;34mmetadata.py 195 _build()\u001b[0m - Headers loaded for 9 files successfully\n",
      "\u001b[1;32m[INFO]    ::\u001b[0m \u001b[1;34mmetadata.py 426 get_frame_types()\u001b[0m - Typing files\n",
      "\u001b[1;32m[INFO]    ::\u001b[0m \u001b[1;34mmetadata.py 433 get_frame_types()\u001b[0m - Using user-provided frame types.\n",
      "\u001b[1;32m[INFO]    ::\u001b[0m \u001b[1;34mmetadata.py 583 match_to_science()\u001b[0m - Matching calibrations to Science frames\n",
      "\u001b[1;32m[INFO]    ::\u001b[0m \u001b[1;34mmetadata.py 604 match_to_science()\u001b[0m - ==================================================\n",
      "\u001b[1;32m[INFO]    ::\u001b[0m \u001b[1;34mmetadata.py 605 match_to_science()\u001b[0m - Matching calibrations to frame: J1059+1441\n",
      "\u001b[1;32m[INFO]    ::\u001b[0m \u001b[1;34mmetadata.py 660 match_to_science()\u001b[0m -   Found 0 standard frame for J1059+1441 (1 required)\n",
      "\u001b[1;31m[WARNING] ::\u001b[0m \u001b[1;34mframematch.py 398 match_warnings()\u001b[0m -   Only 0/1 standard frames for J1059+1441\n",
      "\u001b[1;31m[WARNING] ::\u001b[0m \u001b[1;34mframematch.py 438 match_warnings()\u001b[0m - No standard frames for J1059+1441, but user does not want to flux anyways.\n",
      "\u001b[1;32m[INFO]    ::\u001b[0m \u001b[1;34mmetadata.py 660 match_to_science()\u001b[0m -   Found 3 arc frame for J1059+1441 (1 required)\n",
      "\u001b[1;32m[INFO]    ::\u001b[0m \u001b[1;34mmetadata.py 660 match_to_science()\u001b[0m -   Found 3 pixelflat frame for J1059+1441 (3 required)\n",
      "\u001b[1;32m[INFO]    ::\u001b[0m \u001b[1;34mmetadata.py 660 match_to_science()\u001b[0m -   Found 0 bias frame for J1059+1441 (5 required)\n",
      "\u001b[1;31m[WARNING] ::\u001b[0m \u001b[1;34mframematch.py 398 match_warnings()\u001b[0m -   Only 0/5 bias frames for J1059+1441\n",
      "\u001b[1;32m[INFO]    ::\u001b[0m \u001b[1;34mmetadata.py 637 match_to_science()\u001b[0m -    No pinhole frames are required.  Not matching...\n",
      "\u001b[1;32m[INFO]    ::\u001b[0m \u001b[1;34mmetadata.py 619 match_to_science()\u001b[0m -   Dark frames not required.  Not matching...\n",
      "\u001b[1;32m[INFO]    ::\u001b[0m \u001b[1;34mmetadata.py 660 match_to_science()\u001b[0m -   Found 3 trace frame for J1059+1441 (3 required)\n",
      "\u001b[1;32m[INFO]    ::\u001b[0m \u001b[1;34mmetadata.py 604 match_to_science()\u001b[0m - ==================================================\n",
      "\u001b[1;32m[INFO]    ::\u001b[0m \u001b[1;34mmetadata.py 605 match_to_science()\u001b[0m - Matching calibrations to frame: J1059+1441\n",
      "\u001b[1;32m[INFO]    ::\u001b[0m \u001b[1;34mmetadata.py 660 match_to_science()\u001b[0m -   Found 0 standard frame for J1059+1441 (1 required)\n",
      "\u001b[1;31m[WARNING] ::\u001b[0m \u001b[1;34mframematch.py 398 match_warnings()\u001b[0m -   Only 0/1 standard frames for J1059+1441\n",
      "\u001b[1;31m[WARNING] ::\u001b[0m \u001b[1;34mframematch.py 438 match_warnings()\u001b[0m - No standard frames for J1059+1441, but user does not want to flux anyways.\n",
      "\u001b[1;32m[INFO]    ::\u001b[0m \u001b[1;34mmetadata.py 660 match_to_science()\u001b[0m -   Found 3 arc frame for J1059+1441 (1 required)\n",
      "\u001b[1;32m[INFO]    ::\u001b[0m \u001b[1;34mmetadata.py 660 match_to_science()\u001b[0m -   Found 3 pixelflat frame for J1059+1441 (3 required)\n",
      "\u001b[1;32m[INFO]    ::\u001b[0m \u001b[1;34mmetadata.py 660 match_to_science()\u001b[0m -   Found 0 bias frame for J1059+1441 (5 required)\n",
      "\u001b[1;31m[WARNING] ::\u001b[0m \u001b[1;34mframematch.py 398 match_warnings()\u001b[0m -   Only 0/5 bias frames for J1059+1441\n",
      "\u001b[1;32m[INFO]    ::\u001b[0m \u001b[1;34mmetadata.py 637 match_to_science()\u001b[0m -    No pinhole frames are required.  Not matching...\n",
      "\u001b[1;32m[INFO]    ::\u001b[0m \u001b[1;34mmetadata.py 619 match_to_science()\u001b[0m -   Dark frames not required.  Not matching...\n",
      "\u001b[1;32m[INFO]    ::\u001b[0m \u001b[1;34mmetadata.py 660 match_to_science()\u001b[0m -   Found 3 trace frame for J1059+1441 (3 required)\n",
      "\u001b[1;32m[INFO]    ::\u001b[0m \u001b[1;34mmetadata.py 604 match_to_science()\u001b[0m - ==================================================\n",
      "\u001b[1;32m[INFO]    ::\u001b[0m \u001b[1;34mmetadata.py 605 match_to_science()\u001b[0m - Matching calibrations to frame: J1059+1441\n",
      "\u001b[1;32m[INFO]    ::\u001b[0m \u001b[1;34mmetadata.py 660 match_to_science()\u001b[0m -   Found 0 standard frame for J1059+1441 (1 required)\n",
      "\u001b[1;31m[WARNING] ::\u001b[0m \u001b[1;34mframematch.py 398 match_warnings()\u001b[0m -   Only 0/1 standard frames for J1059+1441\n",
      "\u001b[1;31m[WARNING] ::\u001b[0m \u001b[1;34mframematch.py 438 match_warnings()\u001b[0m - No standard frames for J1059+1441, but user does not want to flux anyways.\n",
      "\u001b[1;32m[INFO]    ::\u001b[0m \u001b[1;34mmetadata.py 660 match_to_science()\u001b[0m -   Found 3 arc frame for J1059+1441 (1 required)\n",
      "\u001b[1;32m[INFO]    ::\u001b[0m \u001b[1;34mmetadata.py 660 match_to_science()\u001b[0m -   Found 3 pixelflat frame for J1059+1441 (3 required)\n",
      "\u001b[1;32m[INFO]    ::\u001b[0m \u001b[1;34mmetadata.py 660 match_to_science()\u001b[0m -   Found 0 bias frame for J1059+1441 (5 required)\n",
      "\u001b[1;31m[WARNING] ::\u001b[0m \u001b[1;34mframematch.py 398 match_warnings()\u001b[0m -   Only 0/5 bias frames for J1059+1441\n",
      "\u001b[1;32m[INFO]    ::\u001b[0m \u001b[1;34mmetadata.py 637 match_to_science()\u001b[0m -    No pinhole frames are required.  Not matching...\n",
      "\u001b[1;32m[INFO]    ::\u001b[0m \u001b[1;34mmetadata.py 619 match_to_science()\u001b[0m -   Dark frames not required.  Not matching...\n",
      "\u001b[1;32m[INFO]    ::\u001b[0m \u001b[1;34mmetadata.py 660 match_to_science()\u001b[0m -   Found 3 trace frame for J1059+1441 (3 required)\n",
      "\u001b[1;32m[INFO]    ::\u001b[0m \u001b[1;34mmetadata.py 683 match_to_science()\u001b[0m - Science frames successfully matched to calibration frames.\n",
      "\u001b[1;32m[INFO]    ::\u001b[0m \u001b[1;34mmetadata.py 532 write()\u001b[0m - Writing fits file metadata to /scratch/REDUX/Gemini/J1059+1441/gemini_gmos_north_e2v_setup_A/gemini_gmos_north_e2v_setup_A.lst.\n",
      "\u001b[1;32m[INFO]    ::\u001b[0m \u001b[1;34mpypeitsetup.py 483 run()\u001b[0m - Inspect the .calib file: /scratch/REDUX/Gemini/J1059+1441/gemini_gmos_north_e2v_setup_A/gemini_gmos_north_e2v_setup_A.calib\n",
      "\u001b[1;32m[INFO]    ::\u001b[0m \u001b[1;34mpypeitsetup.py 484 run()\u001b[0m - *********************************************************\n",
      "\u001b[1;32m[INFO]    ::\u001b[0m \u001b[1;34mpypeitsetup.py 485 run()\u001b[0m - Calibration check complete and successful!\n",
      "\u001b[1;32m[INFO]    ::\u001b[0m \u001b[1;34mpypeitsetup.py 487 run()\u001b[0m - *********************************************************\n",
      "\u001b[1;32m[INFO]    ::\u001b[0m \u001b[1;34mpypeit.py 520 init_setup()\u001b[0m - Setting reduction path to /scratch/REDUX/Gemini/J1059+1441/gemini_gmos_north_e2v_setup_A/\n",
      "\u001b[1;32m[INFO]    ::\u001b[0m \u001b[1;34mpaths.py 38 make_dirs()\u001b[0m - Creating Science directory\n",
      "\u001b[1;32m[INFO]    ::\u001b[0m \u001b[1;34mpaths.py 41 make_dirs()\u001b[0m - The following directory already exists:\n",
      "             /scratch/REDUX/Gemini/J1059+1441/gemini_gmos_north_e2v_setup_A/Science\n",
      "\u001b[1;32m[INFO]    ::\u001b[0m \u001b[1;34mpaths.py 63 make_dirs()\u001b[0m - Creating Object directories\n",
      "\u001b[1;32m[INFO]    ::\u001b[0m \u001b[1;34mpaths.py 66 make_dirs()\u001b[0m - Creating Master Calibrations directory\n",
      "\u001b[1;32m[INFO]    ::\u001b[0m \u001b[1;34mpaths.py 86 make_dirs()\u001b[0m - Creating QA directory\n",
      "\u001b[1;31m[WARNING] ::\u001b[0m \u001b[1;34mpaths.py 89 make_dirs()\u001b[0m - Pre-existing QA plots will be overwritten\n"
     ]
    }
   ],
   "source": [
    "pypeIt.init_setup(pypeit_file, redux_dir, calibration_check=True)"
   ]
  },
  {
   "cell_type": "markdown",
   "metadata": {},
   "source": [
    "# Reduce"
   ]
  },
  {
   "cell_type": "code",
   "execution_count": 6,
   "metadata": {},
   "outputs": [
    {
     "name": "stderr",
     "output_type": "stream",
     "text": [
      "\u001b[1;32m[INFO]    ::\u001b[0m \u001b[1;34mpypeit.py 325 reduce_exposure()\u001b[0m - Reducing file N20150116S0094.fits, target J1059+1441\n",
      "\u001b[1;32m[INFO]    ::\u001b[0m \u001b[1;34mpypeit.py 339 reduce_exposure()\u001b[0m - Working on detector 1\n",
      "\u001b[1;32m[INFO]    ::\u001b[0m \u001b[1;34mcalibrations.py 194 get_arc()\u001b[0m - Preparing a master arc frame\n",
      "\u001b[1;32m[INFO]    ::\u001b[0m \u001b[1;34mgemini_gmos.py 449 read_gmos()\u001b[0m - Reading GMOS file: /scratch/REDUX/Gemini/J1059+1441/Raw/N20150116S0251.fits\n",
      "\u001b[1;32m[INFO]    ::\u001b[0m \u001b[1;34mgemini_gmos.py 449 read_gmos()\u001b[0m - Reading GMOS file: /scratch/REDUX/Gemini/J1059+1441/Raw/N20150116S0251.fits\n",
      "\u001b[1;32m[INFO]    ::\u001b[0m \u001b[1;34mgemini_gmos.py 449 read_gmos()\u001b[0m - Reading GMOS file: /scratch/REDUX/Gemini/J1059+1441/Raw/N20150116S0251.fits\n",
      "\u001b[1;32m[INFO]    ::\u001b[0m \u001b[1;34mgemini_gmos.py 449 read_gmos()\u001b[0m - Reading GMOS file: /scratch/REDUX/Gemini/J1059+1441/Raw/N20150116S0251.fits\n",
      "\u001b[1;32m[INFO]    ::\u001b[0m \u001b[1;34mgemini_gmos.py 449 read_gmos()\u001b[0m - Reading GMOS file: /scratch/REDUX/Gemini/J1059+1441/Raw/N20150116S0251.fits\n",
      "\u001b[1;32m[INFO]    ::\u001b[0m \u001b[1;34mprocessimages.py 275 bias_subtract()\u001b[0m - Bias subtracting your image(s)\n",
      "\u001b[1;32m[INFO]    ::\u001b[0m \u001b[1;34mprocessimages.py 288 bias_subtract()\u001b[0m - Using overscan to subtact\n",
      "\u001b[1;32m[INFO]    ::\u001b[0m \u001b[1;34mmasters.py 368 save_master()\u001b[0m - Saving master arc frame as:\n",
      "             /scratch/REDUX/Gemini/J1059+1441/gemini_gmos_north_e2v_setup_A/MF_gemini_gmos_north_e2v/MasterArc_A_01_aa.fits\n",
      "\u001b[1;32m[INFO]    ::\u001b[0m \u001b[1;34mmasters.py 386 save_master()\u001b[0m - Writing header information\n",
      "\u001b[1;31m[WARNING] ::\u001b[0m \u001b[1;34mmasters.py 397 save_master()\u001b[0m - Overwriting file:\n",
      "             /scratch/REDUX/Gemini/J1059+1441/gemini_gmos_north_e2v_setup_A/MF_gemini_gmos_north_e2v/MasterArc_A_01_aa.fits\n",
      "\u001b[1;32m[INFO]    ::\u001b[0m \u001b[1;34mmasters.py 401 save_master()\u001b[0m - Master arc frame saved successfully:\n",
      "             /scratch/REDUX/Gemini/J1059+1441/gemini_gmos_north_e2v_setup_A/MF_gemini_gmos_north_e2v/MasterArc_A_01_aa.fits\n",
      "\u001b[1;32m[INFO]    ::\u001b[0m \u001b[1;34mgemini_gmos.py 449 read_gmos()\u001b[0m - Reading GMOS file: /scratch/REDUX/Gemini/J1059+1441/Raw/N20150116S0094.fits\n",
      "\u001b[1;32m[INFO]    ::\u001b[0m \u001b[1;34mgemini_gmos.py 449 read_gmos()\u001b[0m - Reading GMOS file: /scratch/REDUX/Gemini/J1059+1441/Raw/N20150116S0094.fits\n",
      "\u001b[1;32m[INFO]    ::\u001b[0m \u001b[1;34mgemini_gmos.py 449 read_gmos()\u001b[0m - Reading GMOS file: /scratch/REDUX/Gemini/J1059+1441/Raw/N20150116S0094.fits\n",
      "\u001b[1;32m[INFO]    ::\u001b[0m \u001b[1;34mpixels.py 37 gen_pixloc()\u001b[0m - Deriving physical pixel locations on the detector\n",
      "\u001b[1;32m[INFO]    ::\u001b[0m \u001b[1;34mpixels.py 40 gen_pixloc()\u001b[0m - Pixel gap in the dispersion direction = 0.000\n",
      "\u001b[1;32m[INFO]    ::\u001b[0m \u001b[1;34mpixels.py 41 gen_pixloc()\u001b[0m - Pixel size in the dispersion direction = 1.000\n",
      "\u001b[1;32m[INFO]    ::\u001b[0m \u001b[1;34mpixels.py 44 gen_pixloc()\u001b[0m - Pixel gap in the spatial direction = 0.000\n",
      "\u001b[1;32m[INFO]    ::\u001b[0m \u001b[1;34mpixels.py 45 gen_pixloc()\u001b[0m - Pixel size in the spatial direction = 1.000\n",
      "\u001b[1;32m[INFO]    ::\u001b[0m \u001b[1;34mpixels.py 50 gen_pixloc()\u001b[0m - Saving pixel locations\n",
      "\u001b[1;32m[INFO]    ::\u001b[0m \u001b[1;34mgemini_gmos.py 449 read_gmos()\u001b[0m - Reading GMOS file: /scratch/REDUX/Gemini/J1059+1441/Raw/N20150116S0095.fits\n",
      "\u001b[1;32m[INFO]    ::\u001b[0m \u001b[1;34mgemini_gmos.py 449 read_gmos()\u001b[0m - Reading GMOS file: /scratch/REDUX/Gemini/J1059+1441/Raw/N20150116S0096.fits\n",
      "\u001b[1;32m[INFO]    ::\u001b[0m \u001b[1;34mgemini_gmos.py 449 read_gmos()\u001b[0m - Reading GMOS file: /scratch/REDUX/Gemini/J1059+1441/Raw/N20150116S0099.fits\n",
      "\u001b[1;32m[INFO]    ::\u001b[0m \u001b[1;34mgemini_gmos.py 449 read_gmos()\u001b[0m - Reading GMOS file: /scratch/REDUX/Gemini/J1059+1441/Raw/N20150116S0095.fits\n",
      "\u001b[1;32m[INFO]    ::\u001b[0m \u001b[1;34mgemini_gmos.py 449 read_gmos()\u001b[0m - Reading GMOS file: /scratch/REDUX/Gemini/J1059+1441/Raw/N20150116S0095.fits\n",
      "\u001b[1;32m[INFO]    ::\u001b[0m \u001b[1;34mgemini_gmos.py 449 read_gmos()\u001b[0m - Reading GMOS file: /scratch/REDUX/Gemini/J1059+1441/Raw/N20150116S0095.fits\n",
      "\u001b[1;32m[INFO]    ::\u001b[0m \u001b[1;34mgemini_gmos.py 449 read_gmos()\u001b[0m - Reading GMOS file: /scratch/REDUX/Gemini/J1059+1441/Raw/N20150116S0095.fits\n",
      "\u001b[1;32m[INFO]    ::\u001b[0m \u001b[1;34mprocessimages.py 275 bias_subtract()\u001b[0m - Bias subtracting your image(s)\n",
      "\u001b[1;32m[INFO]    ::\u001b[0m \u001b[1;34mprocessimages.py 288 bias_subtract()\u001b[0m - Using overscan to subtact\n",
      "\u001b[1;32m[INFO]    ::\u001b[0m \u001b[1;34mprocessimages.py 288 bias_subtract()\u001b[0m - Using overscan to subtact\n",
      "\u001b[1;32m[INFO]    ::\u001b[0m \u001b[1;34mprocessimages.py 288 bias_subtract()\u001b[0m - Using overscan to subtact\n",
      "\u001b[1;32m[INFO]    ::\u001b[0m \u001b[1;34mcombine.py 62 comb_frames()\u001b[0m - Combining 3 trace_image frames\n",
      "\u001b[1;30m[WORK IN ]::\u001b[0m\n",
      "\u001b[1;33m[PROGRESS]::\u001b[0m \u001b[1;34mcombine.py 66 comb_frames()\u001b[0m - lscomb feature has not been included here yet...\n",
      "\u001b[1;32m[INFO]    ::\u001b[0m \u001b[1;34mcombine.py 95 comb_frames()\u001b[0m - Finding saturated and non-linear pixels\n",
      "\u001b[1;32m[INFO]    ::\u001b[0m \u001b[1;34mcombine.py 119 comb_frames()\u001b[0m - Rejecting cosmic rays\n",
      "\u001b[1;32m[INFO]    ::\u001b[0m \u001b[1;34mcombine.py 163 comb_frames()\u001b[0m - Not rejecting any low/high pixels\n",
      "\u001b[1;32m[INFO]    ::\u001b[0m \u001b[1;34mcombine.py 171 comb_frames()\u001b[0m - Rejecting deviant pixels\n",
      "\u001b[1;32m[INFO]    ::\u001b[0m \u001b[1;34mcombine.py 188 comb_frames()\u001b[0m - Combining frames with a weightmean operation\n",
      "\u001b[1;32m[INFO]    ::\u001b[0m \u001b[1;34mcombine.py 201 comb_frames()\u001b[0m - Replacing completely masked pixels with the maxnonsat value of the input frames\n",
      "\u001b[1;32m[INFO]    ::\u001b[0m \u001b[1;34mcombine.py 215 comb_frames()\u001b[0m - 3 trace_image frames combined successfully!\n",
      "\u001b[1;32m[INFO]    ::\u001b[0m \u001b[1;34mgemini_gmos.py 449 read_gmos()\u001b[0m - Reading GMOS file: /scratch/REDUX/Gemini/J1059+1441/Raw/N20150116S0095.fits\n",
      "\u001b[1;32m[INFO]    ::\u001b[0m \u001b[1;34mgemini_gmos.py 449 read_gmos()\u001b[0m - Reading GMOS file: /scratch/REDUX/Gemini/J1059+1441/Raw/N20150116S0095.fits\n",
      "\u001b[1;31m[WARNING] ::\u001b[0m \u001b[1;34mprocimg.py 456 gain_frame()\u001b[0m - Should probably be measuring the gain across the amplifier boundary\n",
      "\u001b[1;32m[INFO]    ::\u001b[0m \u001b[1;34mtrace_slits.py 813 edgearr_from_binarr()\u001b[0m - Detecting slit edges in the mstrace image\n",
      "\u001b[1;32m[INFO]    ::\u001b[0m \u001b[1;34mtrace_slits.py 874 edgearr_from_binarr()\u001b[0m - Applying bad pixel mask\n",
      "\u001b[1;32m[INFO]    ::\u001b[0m \u001b[1;34mtrace_slits.py 933 edgearr_add_left_right()\u001b[0m - 49 left edges and 48 right edges were found in the trace\n",
      "\u001b[1;32m[INFO]    ::\u001b[0m \u001b[1;34mtrace_slits.py 960 edgearr_add_left_right()\u001b[0m - Assigning slit edge traces\n",
      "\u001b[1;32m[INFO]    ::\u001b[0m \u001b[1;34mtraceslits.py 361 _assign_edges()\u001b[0m - Assigning left slit edges\n",
      "             \u001b[1;34mtrace_slits.py 160 assign_slits()\u001b[0m - Outer left edge loop, Iteration 1\n",
      "             \u001b[1;34mtrace_slits.py 298 assign_slits()\u001b[0m -   Inner loop, Iteration 1, 49 left edges assigned (49 total)\n",
      "             \u001b[1;34mtrace_slits.py 160 assign_slits()\u001b[0m - Outer left edge loop, Iteration 2\n",
      "             \u001b[1;34mtrace_slits.py 298 assign_slits()\u001b[0m -   Inner loop, Iteration 1, 49 left edges assigned (49 total)\n",
      "\u001b[1;32m[INFO]    ::\u001b[0m \u001b[1;34mtraceslits.py 369 _assign_edges()\u001b[0m - Assigning right slit edges\n",
      "             \u001b[1;34mtrace_slits.py 160 assign_slits()\u001b[0m - Outer right edge loop, Iteration 1\n",
      "             \u001b[1;34mtrace_slits.py 298 assign_slits()\u001b[0m -   Inner loop, Iteration 1, 47 right edges assigned (47 total)\n",
      "             \u001b[1;34mtrace_slits.py 298 assign_slits()\u001b[0m -   Inner loop, Iteration 2, 1 right edges assigned (48 total)\n",
      "             \u001b[1;34mtrace_slits.py 160 assign_slits()\u001b[0m - Outer right edge loop, Iteration 2\n",
      "             \u001b[1;34mtrace_slits.py 298 assign_slits()\u001b[0m -   Inner loop, Iteration 1, 47 right edges assigned (47 total)\n",
      "             \u001b[1;34mtrace_slits.py 298 assign_slits()\u001b[0m -   Inner loop, Iteration 2, 1 right edges assigned (48 total)\n",
      "\u001b[1;32m[INFO]    ::\u001b[0m \u001b[1;34mtrace_slits.py 1157 edgearr_final_left_right()\u001b[0m - 49 left edges and 48 right edges were found in the trace\n",
      "\u001b[1;32m[INFO]    ::\u001b[0m \u001b[1;34mtrace_slits.py 560 edgearr_tcrude()\u001b[0m - Crude tracing the edges\n",
      "\u001b[1;31m[WARNING] ::\u001b[0m \u001b[1;34mtrace_slits.py 472 edgearr_mslit_sync()\u001b[0m - Missing a right edge for slit with left edge at 1442\n",
      "\u001b[1;31m[WARNING] ::\u001b[0m \u001b[1;34mtrace_slits.py 473 edgearr_mslit_sync()\u001b[0m - Adding in a corresponding right edge!\n",
      "\u001b[1;32m[INFO]    ::\u001b[0m \u001b[1;34mtrace_slits.py 1309 fit_edges()\u001b[0m - Fitting left slit traces\n"
     ]
    },
    {
     "name": "stderr",
     "output_type": "stream",
     "text": [
      "\u001b[1;32m[INFO]    ::\u001b[0m \u001b[1;34mtrace_slits.py 1311 fit_edges()\u001b[0m - Fitting right slit traces\n",
      "\u001b[1;32m[INFO]    ::\u001b[0m \u001b[1;34mtraceslits.py 798 _synchronize()\u001b[0m - Synchronizing left and right slit traces\n",
      "\u001b[1;32m[INFO]    ::\u001b[0m \u001b[1;34mtrace_slits.py 2438 synchronize_edges()\u001b[0m - Relabelling slit edges\n",
      "\u001b[1;30m[WORK IN ]::\u001b[0m\n",
      "\u001b[1;33m[PROGRESS]::\u001b[0m \u001b[1;34mtrace_slits.py 2080 pca_pixel_slit_edges()\u001b[0m - May need to do a check here to make sure ofit is reasonable\n",
      "\u001b[1;32m[INFO]    ::\u001b[0m \u001b[1;34mtrace_slits.py 2086 pca_pixel_slit_edges()\u001b[0m - Performing a PCA on the slit traces\n",
      "\n",
      "\u001b[1;37;41m[ERROR]   ::\u001b[0m \u001b[1;34mpca.py 204 get_pc()\u001b[0m - The number of principal components must be less than or equal\n",
      "             to the order of the fitting function\n"
     ]
    },
    {
     "ename": "PypeItError",
     "evalue": "PYPIT ENDS",
     "output_type": "error",
     "traceback": [
      "\u001b[0;31m---------------------------------------------------------------------------\u001b[0m",
      "\u001b[0;31mPypeItError\u001b[0m                               Traceback (most recent call last)",
      "\u001b[0;32m<ipython-input-6-84c6e515cd69>\u001b[0m in \u001b[0;36m<module>\u001b[0;34m()\u001b[0m\n\u001b[0;32m----> 1\u001b[0;31m \u001b[0mpypeIt\u001b[0m\u001b[0;34m.\u001b[0m\u001b[0mreduce_all\u001b[0m\u001b[0;34m(\u001b[0m\u001b[0;34m)\u001b[0m\u001b[0;34m\u001b[0m\u001b[0m\n\u001b[0m",
      "\u001b[0;32m/data/Projects/Python/PypeIt/pypeit/pypeit.py\u001b[0m in \u001b[0;36mreduce_all\u001b[0;34m(self, reuse_masters)\u001b[0m\n\u001b[1;32m    227\u001b[0m \u001b[0;34m\u001b[0m\u001b[0m\n\u001b[1;32m    228\u001b[0m         \u001b[0;32mfor\u001b[0m \u001b[0mkk\u001b[0m\u001b[0;34m,\u001b[0m\u001b[0msci_ID\u001b[0m \u001b[0;32min\u001b[0m \u001b[0menumerate\u001b[0m\u001b[0;34m(\u001b[0m\u001b[0mall_sci_ID\u001b[0m\u001b[0;34m)\u001b[0m\u001b[0;34m:\u001b[0m\u001b[0;34m\u001b[0m\u001b[0m\n\u001b[0;32m--> 229\u001b[0;31m             \u001b[0msci_dict\u001b[0m \u001b[0;34m=\u001b[0m \u001b[0mself\u001b[0m\u001b[0;34m.\u001b[0m\u001b[0mreduce_exposure\u001b[0m\u001b[0;34m(\u001b[0m\u001b[0msci_ID\u001b[0m\u001b[0;34m,\u001b[0m \u001b[0mreuse_masters\u001b[0m\u001b[0;34m=\u001b[0m\u001b[0mreuse_masters\u001b[0m\u001b[0;34m)\u001b[0m\u001b[0;34m\u001b[0m\u001b[0m\n\u001b[0m\u001b[1;32m    230\u001b[0m             \u001b[0;31m# Save\u001b[0m\u001b[0;34m\u001b[0m\u001b[0;34m\u001b[0m\u001b[0m\n\u001b[1;32m    231\u001b[0m             \u001b[0mscidx\u001b[0m \u001b[0;34m=\u001b[0m \u001b[0mself\u001b[0m\u001b[0;34m.\u001b[0m\u001b[0mfitstbl\u001b[0m\u001b[0;34m.\u001b[0m\u001b[0mfind_frames\u001b[0m\u001b[0;34m(\u001b[0m\u001b[0;34m'science'\u001b[0m\u001b[0;34m,\u001b[0m \u001b[0msci_ID\u001b[0m\u001b[0;34m=\u001b[0m\u001b[0msci_ID\u001b[0m\u001b[0;34m,\u001b[0m \u001b[0mindex\u001b[0m\u001b[0;34m=\u001b[0m\u001b[0;32mTrue\u001b[0m\u001b[0;34m)\u001b[0m\u001b[0;34m[\u001b[0m\u001b[0;36m0\u001b[0m\u001b[0;34m]\u001b[0m\u001b[0;34m\u001b[0m\u001b[0m\n",
      "\u001b[0;32m/data/Projects/Python/PypeIt/pypeit/pypeit.py\u001b[0m in \u001b[0;36mreduce_exposure\u001b[0;34m(self, sci_ID, reuse_masters)\u001b[0m\n\u001b[1;32m    341\u001b[0m \u001b[0;34m\u001b[0m\u001b[0m\n\u001b[1;32m    342\u001b[0m             \u001b[0;31m# Calibrate\u001b[0m\u001b[0;34m\u001b[0m\u001b[0;34m\u001b[0m\u001b[0m\n\u001b[0;32m--> 343\u001b[0;31m             \u001b[0mself\u001b[0m\u001b[0;34m.\u001b[0m\u001b[0mcalibrate_one\u001b[0m\u001b[0;34m(\u001b[0m\u001b[0msci_ID\u001b[0m\u001b[0;34m,\u001b[0m \u001b[0mdet\u001b[0m\u001b[0;34m)\u001b[0m\u001b[0;34m\u001b[0m\u001b[0m\n\u001b[0m\u001b[1;32m    344\u001b[0m \u001b[0;34m\u001b[0m\u001b[0m\n\u001b[1;32m    345\u001b[0m             \u001b[0;31m# Init ScienceImage class\u001b[0m\u001b[0;34m\u001b[0m\u001b[0;34m\u001b[0m\u001b[0m\n",
      "\u001b[0;32m/data/Projects/Python/PypeIt/pypeit/pypeit.py\u001b[0m in \u001b[0;36mcalibrate_one\u001b[0;34m(self, sci_ID, det)\u001b[0m\n\u001b[1;32m    695\u001b[0m         \u001b[0mself\u001b[0m\u001b[0;34m.\u001b[0m\u001b[0mcaliBrate\u001b[0m\u001b[0;34m.\u001b[0m\u001b[0mreset\u001b[0m\u001b[0;34m(\u001b[0m\u001b[0mself\u001b[0m\u001b[0;34m.\u001b[0m\u001b[0msetup\u001b[0m\u001b[0;34m,\u001b[0m \u001b[0mdet\u001b[0m\u001b[0;34m,\u001b[0m \u001b[0msci_ID\u001b[0m\u001b[0;34m,\u001b[0m \u001b[0mself\u001b[0m\u001b[0;34m.\u001b[0m\u001b[0mpar\u001b[0m\u001b[0;34m[\u001b[0m\u001b[0;34m'calibrations'\u001b[0m\u001b[0;34m]\u001b[0m\u001b[0;34m)\u001b[0m\u001b[0;34m\u001b[0m\u001b[0m\n\u001b[1;32m    696\u001b[0m         \u001b[0;31m# Run em\u001b[0m\u001b[0;34m\u001b[0m\u001b[0;34m\u001b[0m\u001b[0m\n\u001b[0;32m--> 697\u001b[0;31m         \u001b[0mself\u001b[0m\u001b[0;34m.\u001b[0m\u001b[0mcaliBrate\u001b[0m\u001b[0;34m.\u001b[0m\u001b[0mrun_the_steps\u001b[0m\u001b[0;34m(\u001b[0m\u001b[0;34m)\u001b[0m\u001b[0;34m\u001b[0m\u001b[0m\n\u001b[0m\u001b[1;32m    698\u001b[0m \u001b[0;34m\u001b[0m\u001b[0m\n\u001b[1;32m    699\u001b[0m         \u001b[0mmsgs\u001b[0m\u001b[0;34m.\u001b[0m\u001b[0minfo\u001b[0m\u001b[0;34m(\u001b[0m\u001b[0;34m\"Successful Calibration!\"\u001b[0m\u001b[0;34m)\u001b[0m\u001b[0;34m\u001b[0m\u001b[0m\n",
      "\u001b[0;32m/data/Projects/Python/PypeIt/pypeit/calibrations.py\u001b[0m in \u001b[0;36mrun_the_steps\u001b[0;34m(self)\u001b[0m\n\u001b[1;32m    692\u001b[0m         \"\"\"\n\u001b[1;32m    693\u001b[0m         \u001b[0;32mfor\u001b[0m \u001b[0mstep\u001b[0m \u001b[0;32min\u001b[0m \u001b[0mself\u001b[0m\u001b[0;34m.\u001b[0m\u001b[0msteps\u001b[0m\u001b[0;34m:\u001b[0m\u001b[0;34m\u001b[0m\u001b[0m\n\u001b[0;32m--> 694\u001b[0;31m             \u001b[0mgetattr\u001b[0m\u001b[0;34m(\u001b[0m\u001b[0mself\u001b[0m\u001b[0;34m,\u001b[0m \u001b[0;34m'get_{:s}'\u001b[0m\u001b[0;34m.\u001b[0m\u001b[0mformat\u001b[0m\u001b[0;34m(\u001b[0m\u001b[0mstep\u001b[0m\u001b[0;34m)\u001b[0m\u001b[0;34m)\u001b[0m\u001b[0;34m(\u001b[0m\u001b[0;34m)\u001b[0m\u001b[0;34m\u001b[0m\u001b[0m\n\u001b[0m\u001b[1;32m    695\u001b[0m \u001b[0;34m\u001b[0m\u001b[0m\n\u001b[1;32m    696\u001b[0m     \u001b[0;31m# This is general to any attribute\u001b[0m\u001b[0;34m\u001b[0m\u001b[0;34m\u001b[0m\u001b[0m\n",
      "\u001b[0;32m/data/Projects/Python/PypeIt/pypeit/calibrations.py\u001b[0m in \u001b[0;36mget_slits\u001b[0;34m(self, arms, redo)\u001b[0m\n\u001b[1;32m    464\u001b[0m \u001b[0;34m\u001b[0m\u001b[0m\n\u001b[1;32m    465\u001b[0m             \u001b[0;31m# Now we go forth\u001b[0m\u001b[0;34m\u001b[0m\u001b[0;34m\u001b[0m\u001b[0m\n\u001b[0;32m--> 466\u001b[0;31m             \u001b[0mself\u001b[0m\u001b[0;34m.\u001b[0m\u001b[0mtslits_dict\u001b[0m \u001b[0;34m=\u001b[0m \u001b[0mself\u001b[0m\u001b[0;34m.\u001b[0m\u001b[0mtraceSlits\u001b[0m\u001b[0;34m.\u001b[0m\u001b[0mrun\u001b[0m\u001b[0;34m(\u001b[0m\u001b[0marms\u001b[0m\u001b[0;34m=\u001b[0m\u001b[0marms\u001b[0m\u001b[0;34m,\u001b[0m \u001b[0mplate_scale\u001b[0m \u001b[0;34m=\u001b[0m \u001b[0mplate_scale\u001b[0m\u001b[0;34m)\u001b[0m\u001b[0;34m\u001b[0m\u001b[0m\n\u001b[0m\u001b[1;32m    467\u001b[0m              \u001b[0;31m# No slits?\u001b[0m\u001b[0;34m\u001b[0m\u001b[0;34m\u001b[0m\u001b[0m\n\u001b[1;32m    468\u001b[0m             \u001b[0;32mif\u001b[0m \u001b[0mself\u001b[0m\u001b[0;34m.\u001b[0m\u001b[0mtslits_dict\u001b[0m \u001b[0;32mis\u001b[0m \u001b[0;32mNone\u001b[0m\u001b[0;34m:\u001b[0m\u001b[0;34m\u001b[0m\u001b[0m\n",
      "\u001b[0;32m/data/Projects/Python/PypeIt/pypeit/traceslits.py\u001b[0m in \u001b[0;36mrun\u001b[0;34m(self, arms, ignore_orders, add_user_slits, plate_scale)\u001b[0m\n\u001b[1;32m   1104\u001b[0m             \u001b[0;31m# PCA?\u001b[0m\u001b[0;34m\u001b[0m\u001b[0;34m\u001b[0m\u001b[0m\n\u001b[1;32m   1105\u001b[0m             \u001b[0;31m#  Whether or not a PCA is performed, lcen and rcen are generated for the first time\u001b[0m\u001b[0;34m\u001b[0m\u001b[0;34m\u001b[0m\u001b[0m\n\u001b[0;32m-> 1106\u001b[0;31m             \u001b[0mself\u001b[0m\u001b[0;34m.\u001b[0m\u001b[0m_pca\u001b[0m\u001b[0;34m(\u001b[0m\u001b[0;34m)\u001b[0m\u001b[0;34m\u001b[0m\u001b[0m\n\u001b[0m\u001b[1;32m   1107\u001b[0m \u001b[0;34m\u001b[0m\u001b[0m\n\u001b[1;32m   1108\u001b[0m             \u001b[0;31m# Remove any slits that are completely off the detector\u001b[0m\u001b[0;34m\u001b[0m\u001b[0;34m\u001b[0m\u001b[0m\n",
      "\u001b[0;32m/data/Projects/Python/PypeIt/pypeit/traceslits.py\u001b[0m in \u001b[0;36m_pca\u001b[0;34m(self)\u001b[0m\n\u001b[1;32m    655\u001b[0m             \u001b[0mself\u001b[0m\u001b[0;34m.\u001b[0m\u001b[0m_pca_order_slit_edges\u001b[0m\u001b[0;34m(\u001b[0m\u001b[0;34m)\u001b[0m\u001b[0;34m\u001b[0m\u001b[0m\n\u001b[1;32m    656\u001b[0m         \u001b[0;32melif\u001b[0m \u001b[0mself\u001b[0m\u001b[0;34m.\u001b[0m\u001b[0mpar\u001b[0m\u001b[0;34m[\u001b[0m\u001b[0;34m'pcatype'\u001b[0m\u001b[0;34m]\u001b[0m \u001b[0;34m==\u001b[0m \u001b[0;34m'pixel'\u001b[0m\u001b[0;34m:\u001b[0m\u001b[0;34m\u001b[0m\u001b[0m\n\u001b[0;32m--> 657\u001b[0;31m             \u001b[0mself\u001b[0m\u001b[0;34m.\u001b[0m\u001b[0m_pca_pixel_slit_edges\u001b[0m\u001b[0;34m(\u001b[0m\u001b[0;34m)\u001b[0m\u001b[0;34m\u001b[0m\u001b[0m\n\u001b[0m\u001b[1;32m    658\u001b[0m         \u001b[0;32melse\u001b[0m\u001b[0;34m:\u001b[0m \u001b[0;31m# No PCA\u001b[0m\u001b[0;34m\u001b[0m\u001b[0m\n\u001b[1;32m    659\u001b[0m             \u001b[0mallord\u001b[0m \u001b[0;34m=\u001b[0m \u001b[0mnp\u001b[0m\u001b[0;34m.\u001b[0m\u001b[0marange\u001b[0m\u001b[0;34m(\u001b[0m\u001b[0mself\u001b[0m\u001b[0;34m.\u001b[0m\u001b[0mlcent\u001b[0m\u001b[0;34m.\u001b[0m\u001b[0mshape\u001b[0m\u001b[0;34m[\u001b[0m\u001b[0;36m0\u001b[0m\u001b[0;34m]\u001b[0m\u001b[0;34m)\u001b[0m\u001b[0;34m\u001b[0m\u001b[0m\n",
      "\u001b[0;32m/data/Projects/Python/PypeIt/pypeit/traceslits.py\u001b[0m in \u001b[0;36m_pca_pixel_slit_edges\u001b[0;34m(self)\u001b[0m\n\u001b[1;32m    716\u001b[0m                                                     \u001b[0mfunction\u001b[0m\u001b[0;34m=\u001b[0m\u001b[0mself\u001b[0m\u001b[0;34m.\u001b[0m\u001b[0mpar\u001b[0m\u001b[0;34m[\u001b[0m\u001b[0;34m'function'\u001b[0m\u001b[0;34m]\u001b[0m\u001b[0;34m,\u001b[0m\u001b[0;34m\u001b[0m\u001b[0m\n\u001b[1;32m    717\u001b[0m                                                     \u001b[0mpolyorder\u001b[0m\u001b[0;34m=\u001b[0m\u001b[0mself\u001b[0m\u001b[0;34m.\u001b[0m\u001b[0mpar\u001b[0m\u001b[0;34m[\u001b[0m\u001b[0;34m'polyorder'\u001b[0m\u001b[0;34m]\u001b[0m\u001b[0;34m,\u001b[0m\u001b[0;34m\u001b[0m\u001b[0m\n\u001b[0;32m--> 718\u001b[0;31m                                                     ofit=self.par['pcapar'])\n\u001b[0m\u001b[1;32m    719\u001b[0m         \u001b[0;31m# Step\u001b[0m\u001b[0;34m\u001b[0m\u001b[0;34m\u001b[0m\u001b[0m\n\u001b[1;32m    720\u001b[0m         \u001b[0mself\u001b[0m\u001b[0;34m.\u001b[0m\u001b[0msteps\u001b[0m\u001b[0;34m.\u001b[0m\u001b[0mappend\u001b[0m\u001b[0;34m(\u001b[0m\u001b[0minspect\u001b[0m\u001b[0;34m.\u001b[0m\u001b[0mstack\u001b[0m\u001b[0;34m(\u001b[0m\u001b[0;34m)\u001b[0m\u001b[0;34m[\u001b[0m\u001b[0;36m0\u001b[0m\u001b[0;34m]\u001b[0m\u001b[0;34m[\u001b[0m\u001b[0;36m3\u001b[0m\u001b[0;34m]\u001b[0m\u001b[0;34m)\u001b[0m\u001b[0;34m\u001b[0m\u001b[0m\n",
      "\u001b[0;32m/data/Projects/Python/PypeIt/pypeit/core/trace_slits.py\u001b[0m in \u001b[0;36mpca_pixel_slit_edges\u001b[0;34m(binarr, edgearr, lcoeff, rcoeff, ldiffarr, rdiffarr, lnmbrarr, rnmbrarr, lwghtarr, rwghtarr, lcent, rcent, plxbin, function, polyorder, ofit, doqa)\u001b[0m\n\u001b[1;32m   2088\u001b[0m         \u001b[0mxcen\u001b[0m \u001b[0;34m=\u001b[0m \u001b[0mxv\u001b[0m\u001b[0;34m[\u001b[0m\u001b[0;34m:\u001b[0m\u001b[0;34m,\u001b[0m \u001b[0mnp\u001b[0m\u001b[0;34m.\u001b[0m\u001b[0mnewaxis\u001b[0m\u001b[0;34m]\u001b[0m\u001b[0;34m.\u001b[0m\u001b[0mrepeat\u001b[0m\u001b[0;34m(\u001b[0m\u001b[0mbinarr\u001b[0m\u001b[0;34m.\u001b[0m\u001b[0mshape\u001b[0m\u001b[0;34m[\u001b[0m\u001b[0;36m1\u001b[0m\u001b[0;34m]\u001b[0m\u001b[0;34m,\u001b[0m \u001b[0maxis\u001b[0m\u001b[0;34m=\u001b[0m\u001b[0;36m1\u001b[0m\u001b[0;34m)\u001b[0m\u001b[0;34m\u001b[0m\u001b[0m\n\u001b[1;32m   2089\u001b[0m         fitted, outpar = pca.basis(xcen, trcval, tcoeff, lnpc, ofit, weights=pxwght,\n\u001b[0;32m-> 2090\u001b[0;31m                                      x0in=ordsnd, mask=maskrw, skipx0=False, function=function)\n\u001b[0m\u001b[1;32m   2091\u001b[0m \u001b[0;31m#        if doqa:\u001b[0m\u001b[0;34m\u001b[0m\u001b[0;34m\u001b[0m\u001b[0m\n\u001b[1;32m   2092\u001b[0m \u001b[0;31m#            # JXP -- NEED TO REMOVE SLF FROM THE NEXT BIT\u001b[0m\u001b[0;34m\u001b[0m\u001b[0;34m\u001b[0m\u001b[0m\n",
      "\u001b[0;32m/data/Projects/Python/PypeIt/pypeit/core/pca.py\u001b[0m in \u001b[0;36mbasis\u001b[0;34m(xfit, yfit, coeff, npc, pnpc, weights, skipx0, x0in, mask, function)\u001b[0m\n\u001b[1;32m     29\u001b[0m \u001b[0;34m\u001b[0m\u001b[0m\n\u001b[1;32m     30\u001b[0m     \u001b[0;31m# Do the PCA analysis\u001b[0m\u001b[0;34m\u001b[0m\u001b[0;34m\u001b[0m\u001b[0m\n\u001b[0;32m---> 31\u001b[0;31m     \u001b[0meigc\u001b[0m\u001b[0;34m,\u001b[0m \u001b[0mhidden\u001b[0m \u001b[0;34m=\u001b[0m \u001b[0mget_pc\u001b[0m\u001b[0;34m(\u001b[0m\u001b[0mcoeff\u001b[0m\u001b[0;34m[\u001b[0m\u001b[0;36m1\u001b[0m\u001b[0;34m:\u001b[0m\u001b[0mnpc\u001b[0m\u001b[0;34m+\u001b[0m\u001b[0;36m1\u001b[0m\u001b[0;34m,\u001b[0m \u001b[0musetrace\u001b[0m\u001b[0;34m]\u001b[0m\u001b[0;34m,\u001b[0m \u001b[0mnpc\u001b[0m\u001b[0;34m)\u001b[0m\u001b[0;34m\u001b[0m\u001b[0m\n\u001b[0m\u001b[1;32m     32\u001b[0m \u001b[0;34m\u001b[0m\u001b[0m\n\u001b[1;32m     33\u001b[0m     \u001b[0mmodl\u001b[0m \u001b[0;34m=\u001b[0m \u001b[0mutils\u001b[0m\u001b[0;34m.\u001b[0m\u001b[0mfunc_vander\u001b[0m\u001b[0;34m(\u001b[0m\u001b[0mxfit\u001b[0m\u001b[0;34m[\u001b[0m\u001b[0;34m:\u001b[0m\u001b[0;34m,\u001b[0m\u001b[0;36m0\u001b[0m\u001b[0;34m]\u001b[0m\u001b[0;34m,\u001b[0m \u001b[0mfunction\u001b[0m\u001b[0;34m,\u001b[0m \u001b[0mnpc\u001b[0m\u001b[0;34m)\u001b[0m\u001b[0;34m\u001b[0m\u001b[0m\n",
      "\u001b[0;32m/data/Projects/Python/PypeIt/pypeit/core/pca.py\u001b[0m in \u001b[0;36mget_pc\u001b[0;34m(data, k, tol, maxiter, nofix, noortho)\u001b[0m\n\u001b[1;32m    202\u001b[0m     \u001b[0;32mif\u001b[0m \u001b[0mk\u001b[0m \u001b[0;34m>\u001b[0m \u001b[0mp\u001b[0m\u001b[0;34m:\u001b[0m\u001b[0;34m\u001b[0m\u001b[0m\n\u001b[1;32m    203\u001b[0m         msgs.error(\"The number of principal components must be less than or equal\" + msgs.newline() +\n\u001b[0;32m--> 204\u001b[0;31m                    \"to the order of the fitting function\")\n\u001b[0m\u001b[1;32m    205\u001b[0m \u001b[0;34m\u001b[0m\u001b[0m\n\u001b[1;32m    206\u001b[0m     \u001b[0;31m# Set the initial conditions\u001b[0m\u001b[0;34m\u001b[0m\u001b[0;34m\u001b[0m\u001b[0m\n",
      "\u001b[0;32m/data/Projects/Python/PypeIt/pypeit/pypmsgs.py\u001b[0m in \u001b[0;36merror\u001b[0;34m(self, msg, usage)\u001b[0m\n\u001b[1;32m    267\u001b[0m             \u001b[0mself\u001b[0m\u001b[0;34m.\u001b[0m\u001b[0musage\u001b[0m\u001b[0;34m(\u001b[0m\u001b[0;32mNone\u001b[0m\u001b[0;34m)\u001b[0m\u001b[0;34m\u001b[0m\u001b[0m\n\u001b[1;32m    268\u001b[0m         \u001b[0;31m#\u001b[0m\u001b[0;34m\u001b[0m\u001b[0;34m\u001b[0m\u001b[0m\n\u001b[0;32m--> 269\u001b[0;31m         \u001b[0;32mraise\u001b[0m \u001b[0mPypeItError\u001b[0m\u001b[0;34m(\u001b[0m\u001b[0;34m\"PYPIT ENDS\"\u001b[0m\u001b[0;34m)\u001b[0m\u001b[0;34m\u001b[0m\u001b[0m\n\u001b[0m\u001b[1;32m    270\u001b[0m         \u001b[0msys\u001b[0m\u001b[0;34m.\u001b[0m\u001b[0mexit\u001b[0m\u001b[0;34m(\u001b[0m\u001b[0;36m1\u001b[0m\u001b[0;34m)\u001b[0m\u001b[0;34m\u001b[0m\u001b[0m\n\u001b[1;32m    271\u001b[0m \u001b[0;34m\u001b[0m\u001b[0m\n",
      "\u001b[0;31mPypeItError\u001b[0m: PYPIT ENDS"
     ]
    }
   ],
   "source": [
    "pypeIt.reduce_all()"
   ]
  },
  {
   "cell_type": "markdown",
   "metadata": {},
   "source": [
    "## Slits"
   ]
  },
  {
   "cell_type": "markdown",
   "metadata": {},
   "source": [
    "### Generate trace image"
   ]
  },
  {
   "cell_type": "code",
   "execution_count": null,
   "metadata": {},
   "outputs": [],
   "source": [
    "pypeIt.caliBrate.trace_image_files"
   ]
  },
  {
   "cell_type": "code",
   "execution_count": null,
   "metadata": {
    "collapsed": true
   },
   "outputs": [],
   "source": [
    "# Instantiate\n",
    "traceImage = traceimage.TraceImage(pypeitSetup.spectrograph,\n",
    "                               file_list=pypeIt.caliBrate.trace_image_files, det=1,\n",
    "                               par=pypeIt.caliBrate.par['traceframe'])"
   ]
  },
  {
   "cell_type": "code",
   "execution_count": null,
   "metadata": {},
   "outputs": [],
   "source": [
    "# Process\n",
    "mstrace = traceImage.process(bias_subtract='overscan', trim=pypeIt.caliBrate.par['trim'], apply_gain=True)"
   ]
  },
  {
   "cell_type": "code",
   "execution_count": null,
   "metadata": {
    "collapsed": true
   },
   "outputs": [],
   "source": [
    "traceImage.show()"
   ]
  },
  {
   "cell_type": "code",
   "execution_count": null,
   "metadata": {},
   "outputs": [],
   "source": [
    "np.max(pypeIt.caliBrate.msbpm)"
   ]
  },
  {
   "cell_type": "code",
   "execution_count": 7,
   "metadata": {},
   "outputs": [],
   "source": [
    "pypeIt.caliBrate.traceSlits.show('edges')"
   ]
  },
  {
   "cell_type": "code",
   "execution_count": null,
   "metadata": {},
   "outputs": [],
   "source": [
    "for i in range(6,4,-1):\n",
    "    print(i)"
   ]
  },
  {
   "cell_type": "code",
   "execution_count": null,
   "metadata": {
    "collapsed": true
   },
   "outputs": [],
   "source": []
  }
 ],
 "metadata": {
  "kernelspec": {
   "display_name": "Python 3",
   "language": "python",
   "name": "python3"
  },
  "language_info": {
   "codemirror_mode": {
    "name": "ipython",
    "version": 3
   },
   "file_extension": ".py",
   "mimetype": "text/x-python",
   "name": "python",
   "nbconvert_exporter": "python",
   "pygments_lexer": "ipython3",
   "version": "3.6.5"
  }
 },
 "nbformat": 4,
 "nbformat_minor": 2
}
