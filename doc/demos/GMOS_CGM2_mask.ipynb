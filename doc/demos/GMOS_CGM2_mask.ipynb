{
 "cells": [
  {
   "cell_type": "markdown",
   "metadata": {},
   "source": [
    "# Fussing with a GMOS CGM^2 Mask"
   ]
  },
  {
   "cell_type": "code",
   "execution_count": 1,
   "metadata": {
    "collapsed": true
   },
   "outputs": [],
   "source": [
    "# imports\n",
    "import numpy as np\n",
    "\n",
    "from linetools import utils as ltu\n",
    "\n",
    "from pypeit import pypeit\n",
    "from pypeit import pypeitsetup\n",
    "from pypeit import traceimage\n",
    "from pypeit.core import parse"
   ]
  },
  {
   "cell_type": "markdown",
   "metadata": {},
   "source": [
    "## Instantiate"
   ]
  },
  {
   "cell_type": "code",
   "execution_count": 2,
   "metadata": {},
   "outputs": [
    {
     "name": "stderr",
     "output_type": "stream",
     "text": [
      "\u001b[1;32m[INFO]    ::\u001b[0m \u001b[1;34mutil.py 431 parse_pypeit_file()\u001b[0m - Loading the reduction file\n",
      "\u001b[1;32m[INFO]    ::\u001b[0m \u001b[1;34mutil.py 456 parse_pypeit_file()\u001b[0m - Found 5 raw data frames\n",
      "\u001b[1;32m[INFO]    ::\u001b[0m \u001b[1;34mutil.py 468 parse_pypeit_file()\u001b[0m - Input file loaded successfully\n"
     ]
    }
   ],
   "source": [
    "pypeit_file = '/scratch/REDUX/Gemini/J1059+1441/gemini_gmos_north_e2v_setup_A/gemini_gmos_north_e2v_setup_A.pypeit'\n",
    "pypeitSetup = pypeitsetup.PypeItSetup.from_pypeit_file(pypeit_file)"
   ]
  },
  {
   "cell_type": "code",
   "execution_count": 3,
   "metadata": {
    "collapsed": true
   },
   "outputs": [],
   "source": [
    "pypeIt = pypeit.instantiate_me(pypeitSetup.spectrograph, verbosity=2, overwrite=True, show=True) #, logname=logname, show=args.show)"
   ]
  },
  {
   "cell_type": "markdown",
   "metadata": {},
   "source": [
    "## Setup "
   ]
  },
  {
   "cell_type": "code",
   "execution_count": 4,
   "metadata": {
    "collapsed": true
   },
   "outputs": [],
   "source": [
    "redux_dir = '/scratch/REDUX/Gemini/J1059+1441/gemini_gmos_north_e2v_setup_A/'"
   ]
  },
  {
   "cell_type": "code",
   "execution_count": 5,
   "metadata": {},
   "outputs": [
    {
     "name": "stderr",
     "output_type": "stream",
     "text": [
      "\u001b[1;32m[INFO]    ::\u001b[0m \u001b[1;34mutil.py 431 parse_pypeit_file()\u001b[0m - Loading the reduction file\n",
      "\u001b[1;32m[INFO]    ::\u001b[0m \u001b[1;34mutil.py 456 parse_pypeit_file()\u001b[0m - Found 5 raw data frames\n",
      "\u001b[1;32m[INFO]    ::\u001b[0m \u001b[1;34mutil.py 468 parse_pypeit_file()\u001b[0m - Input file loaded successfully\n",
      "\u001b[1;31m[WARNING] ::\u001b[0m \u001b[1;34mspectrograph.py 449 check_headers()\u001b[0m - Specific header keyword checks have not been implemented for gemini_gmos_north_e2v.\n",
      "\u001b[1;32m[INFO]    ::\u001b[0m \u001b[1;34mmetadata.py 192 _build()\u001b[0m - Successfully loaded headers for file:\n",
      "             /scratch/REDUX/Gemini/J1059+1441/Raw/N20150116S0251.fits\n",
      "\u001b[1;31m[WARNING] ::\u001b[0m \u001b[1;34mspectrograph.py 449 check_headers()\u001b[0m - Specific header keyword checks have not been implemented for gemini_gmos_north_e2v.\n",
      "\u001b[1;32m[INFO]    ::\u001b[0m \u001b[1;34mmetadata.py 192 _build()\u001b[0m - Successfully loaded headers for file:\n",
      "             /scratch/REDUX/Gemini/J1059+1441/Raw/N20150116S0095.fits\n",
      "\u001b[1;31m[WARNING] ::\u001b[0m \u001b[1;34mspectrograph.py 449 check_headers()\u001b[0m - Specific header keyword checks have not been implemented for gemini_gmos_north_e2v.\n",
      "\u001b[1;32m[INFO]    ::\u001b[0m \u001b[1;34mmetadata.py 192 _build()\u001b[0m - Successfully loaded headers for file:\n",
      "             /scratch/REDUX/Gemini/J1059+1441/Raw/N20150116S0096.fits\n",
      "\u001b[1;31m[WARNING] ::\u001b[0m \u001b[1;34mspectrograph.py 449 check_headers()\u001b[0m - Specific header keyword checks have not been implemented for gemini_gmos_north_e2v.\n",
      "\u001b[1;32m[INFO]    ::\u001b[0m \u001b[1;34mmetadata.py 192 _build()\u001b[0m - Successfully loaded headers for file:\n",
      "             /scratch/REDUX/Gemini/J1059+1441/Raw/N20150116S0099.fits\n",
      "\u001b[1;31m[WARNING] ::\u001b[0m \u001b[1;34mspectrograph.py 449 check_headers()\u001b[0m - Specific header keyword checks have not been implemented for gemini_gmos_north_e2v.\n",
      "\u001b[1;32m[INFO]    ::\u001b[0m \u001b[1;34mmetadata.py 192 _build()\u001b[0m - Successfully loaded headers for file:\n",
      "             /scratch/REDUX/Gemini/J1059+1441/Raw/N20150116S0094.fits\n",
      "\u001b[1;32m[INFO]    ::\u001b[0m \u001b[1;34mmetadata.py 195 _build()\u001b[0m - Headers loaded for 5 files successfully\n",
      "\u001b[1;32m[INFO]    ::\u001b[0m \u001b[1;34mmetadata.py 426 get_frame_types()\u001b[0m - Typing files\n",
      "\u001b[1;32m[INFO]    ::\u001b[0m \u001b[1;34mmetadata.py 433 get_frame_types()\u001b[0m - Using user-provided frame types.\n",
      "\u001b[1;32m[INFO]    ::\u001b[0m \u001b[1;34mmetadata.py 583 match_to_science()\u001b[0m - Matching calibrations to Science frames\n",
      "\u001b[1;32m[INFO]    ::\u001b[0m \u001b[1;34mmetadata.py 604 match_to_science()\u001b[0m - ==================================================\n",
      "\u001b[1;32m[INFO]    ::\u001b[0m \u001b[1;34mmetadata.py 605 match_to_science()\u001b[0m - Matching calibrations to frame: J1059+1441\n",
      "\u001b[1;32m[INFO]    ::\u001b[0m \u001b[1;34mmetadata.py 619 match_to_science()\u001b[0m -   Dark frames not required.  Not matching...\n",
      "\u001b[1;32m[INFO]    ::\u001b[0m \u001b[1;34mmetadata.py 660 match_to_science()\u001b[0m -   Found 0 bias frame for J1059+1441 (5 required)\n",
      "\u001b[1;31m[WARNING] ::\u001b[0m \u001b[1;34mframematch.py 398 match_warnings()\u001b[0m -   Only 0/5 bias frames for J1059+1441\n",
      "\u001b[1;32m[INFO]    ::\u001b[0m \u001b[1;34mmetadata.py 637 match_to_science()\u001b[0m -    No pinhole frames are required.  Not matching...\n",
      "\u001b[1;32m[INFO]    ::\u001b[0m \u001b[1;34mmetadata.py 660 match_to_science()\u001b[0m -   Found 3 trace frame for J1059+1441 (3 required)\n",
      "\u001b[1;32m[INFO]    ::\u001b[0m \u001b[1;34mmetadata.py 660 match_to_science()\u001b[0m -   Found 3 pixelflat frame for J1059+1441 (3 required)\n",
      "\u001b[1;32m[INFO]    ::\u001b[0m \u001b[1;34mmetadata.py 660 match_to_science()\u001b[0m -   Found 1 arc frame for J1059+1441 (1 required)\n",
      "\u001b[1;32m[INFO]    ::\u001b[0m \u001b[1;34mmetadata.py 637 match_to_science()\u001b[0m -    No standard frames are required.  Not matching...\n",
      "\u001b[1;32m[INFO]    ::\u001b[0m \u001b[1;34mmetadata.py 683 match_to_science()\u001b[0m - Science frames successfully matched to calibration frames.\n",
      "\u001b[1;32m[INFO]    ::\u001b[0m \u001b[1;34mmetadata.py 532 write()\u001b[0m - Writing fits file metadata to /scratch/REDUX/Gemini/J1059+1441/gemini_gmos_north_e2v_setup_A/gemini_gmos_north_e2v_setup_A.lst.\n",
      "\u001b[1;32m[INFO]    ::\u001b[0m \u001b[1;34mpypeitsetup.py 483 run()\u001b[0m - Inspect the .calib file: /scratch/REDUX/Gemini/J1059+1441/gemini_gmos_north_e2v_setup_A/gemini_gmos_north_e2v_setup_A.calib\n",
      "\u001b[1;32m[INFO]    ::\u001b[0m \u001b[1;34mpypeitsetup.py 484 run()\u001b[0m - *********************************************************\n",
      "\u001b[1;32m[INFO]    ::\u001b[0m \u001b[1;34mpypeitsetup.py 485 run()\u001b[0m - Calibration check complete and successful!\n",
      "\u001b[1;32m[INFO]    ::\u001b[0m \u001b[1;34mpypeitsetup.py 487 run()\u001b[0m - *********************************************************\n",
      "\u001b[1;32m[INFO]    ::\u001b[0m \u001b[1;34mpypeit.py 520 init_setup()\u001b[0m - Setting reduction path to /scratch/REDUX/Gemini/J1059+1441/gemini_gmos_north_e2v_setup_A/\n",
      "\u001b[1;32m[INFO]    ::\u001b[0m \u001b[1;34mpaths.py 38 make_dirs()\u001b[0m - Creating Science directory\n",
      "\u001b[1;32m[INFO]    ::\u001b[0m \u001b[1;34mpaths.py 41 make_dirs()\u001b[0m - The following directory already exists:\n",
      "             /scratch/REDUX/Gemini/J1059+1441/gemini_gmos_north_e2v_setup_A/Science\n",
      "\u001b[1;32m[INFO]    ::\u001b[0m \u001b[1;34mpaths.py 63 make_dirs()\u001b[0m - Creating Object directories\n",
      "\u001b[1;32m[INFO]    ::\u001b[0m \u001b[1;34mpaths.py 66 make_dirs()\u001b[0m - Creating Master Calibrations directory\n",
      "\u001b[1;32m[INFO]    ::\u001b[0m \u001b[1;34mpaths.py 86 make_dirs()\u001b[0m - Creating QA directory\n",
      "\u001b[1;31m[WARNING] ::\u001b[0m \u001b[1;34mpaths.py 89 make_dirs()\u001b[0m - Pre-existing QA plots will be overwritten\n"
     ]
    }
   ],
   "source": [
    "pypeIt.init_setup(pypeit_file, redux_dir, calibration_check=True)"
   ]
  },
  {
   "cell_type": "markdown",
   "metadata": {},
   "source": [
    "# Reduce"
   ]
  },
  {
   "cell_type": "code",
   "execution_count": 6,
   "metadata": {},
   "outputs": [
    {
     "data": {
      "text/plain": [
       "['caldir',\n",
       " 'masters',\n",
       " 'setup',\n",
       " 'trim',\n",
       " 'badpix',\n",
       " 'biasframe',\n",
       " 'darkframe',\n",
       " 'arcframe',\n",
       " 'pixelflatframe',\n",
       " 'pinholeframe',\n",
       " 'traceframe',\n",
       " 'standardframe',\n",
       " 'flatfield',\n",
       " 'wavelengths',\n",
       " 'slits',\n",
       " 'tilts']"
      ]
     },
     "execution_count": 6,
     "metadata": {},
     "output_type": "execute_result"
    }
   ],
   "source": [
    "pypeIt.caliBrate.par.keys()"
   ]
  },
  {
   "cell_type": "code",
   "execution_count": null,
   "metadata": {},
   "outputs": [
    {
     "data": {
      "text/plain": [
       "Parameter       Value       Default     Type        Callable\n",
       "------------------------------------------------------------\n",
       "function        legendre    legendre    str         False   \n",
       "polyorder       3           3           int         False   \n",
       "medrep          0           0           int         False   \n",
       "number          -1          -1          int         False   \n",
       "trim            3, 3        3, 3        tuple       False   \n",
       "maxgap          None        None        int         False   \n",
       "maxshift        0.15        0.15        int, float  False   \n",
       "pad             0           0           int         False   \n",
       "sigdetect       20.0        20.0        int, float  False   \n",
       "fracignore      0.02        0.01        float       False   \n",
       "min_slit_width  4.0         6.0         float       False   \n",
       "diffpolyorder   2           2           int         False   \n",
       "single          []          []          list        False   \n",
       "sobel_mode      nearest     nearest     str         False   \n",
       "pcatype         pixel       pixel       str         False   \n",
       "pcapar          3, 2, 1, 0  3, 2, 1, 0  list        False   \n",
       "pcaextrap       0, 0        0, 0        list        False   "
      ]
     },
     "execution_count": 7,
     "metadata": {},
     "output_type": "execute_result"
    }
   ],
   "source": [
    "pypeIt.caliBrate.par['slits']['min_slit_width'] = 4.0\n",
    "pypeIt.caliBrate.par['slits']"
   ]
  },
  {
   "cell_type": "code",
   "execution_count": null,
   "metadata": {},
   "outputs": [
    {
     "name": "stderr",
     "output_type": "stream",
     "text": [
      "\u001b[1;32m[INFO]    ::\u001b[0m \u001b[1;34mpypeit.py 325 reduce_exposure()\u001b[0m - Reducing file N20150116S0094.fits, target J1059+1441\n",
      "\u001b[1;32m[INFO]    ::\u001b[0m \u001b[1;34mpypeit.py 339 reduce_exposure()\u001b[0m - Working on detector 1\n",
      "\u001b[1;32m[INFO]    ::\u001b[0m \u001b[1;34mcalibrations.py 194 get_arc()\u001b[0m - Preparing a master arc frame\n",
      "\u001b[1;32m[INFO]    ::\u001b[0m \u001b[1;34mgemini_gmos.py 488 read_gmos()\u001b[0m - Reading GMOS file: /scratch/REDUX/Gemini/J1059+1441/Raw/N20150116S0251.fits\n",
      "\u001b[1;32m[INFO]    ::\u001b[0m \u001b[1;34mgemini_gmos.py 488 read_gmos()\u001b[0m - Reading GMOS file: /scratch/REDUX/Gemini/J1059+1441/Raw/N20150116S0251.fits\n",
      "\u001b[1;32m[INFO]    ::\u001b[0m \u001b[1;34mgemini_gmos.py 488 read_gmos()\u001b[0m - Reading GMOS file: /scratch/REDUX/Gemini/J1059+1441/Raw/N20150116S0251.fits\n",
      "\u001b[1;32m[INFO]    ::\u001b[0m \u001b[1;34mgemini_gmos.py 488 read_gmos()\u001b[0m - Reading GMOS file: /scratch/REDUX/Gemini/J1059+1441/Raw/N20150116S0251.fits\n",
      "\u001b[1;32m[INFO]    ::\u001b[0m \u001b[1;34mgemini_gmos.py 488 read_gmos()\u001b[0m - Reading GMOS file: /scratch/REDUX/Gemini/J1059+1441/Raw/N20150116S0251.fits\n",
      "\u001b[1;32m[INFO]    ::\u001b[0m \u001b[1;34mprocessimages.py 275 bias_subtract()\u001b[0m - Bias subtracting your image(s)\n",
      "\u001b[1;32m[INFO]    ::\u001b[0m \u001b[1;34mprocessimages.py 288 bias_subtract()\u001b[0m - Using overscan to subtact\n",
      "\u001b[1;32m[INFO]    ::\u001b[0m \u001b[1;34mmasters.py 368 save_master()\u001b[0m - Saving master arc frame as:\n",
      "             /scratch/REDUX/Gemini/J1059+1441/gemini_gmos_north_e2v_setup_A/MF_gemini_gmos_north_e2v/MasterArc_A_01_aa.fits\n",
      "\u001b[1;32m[INFO]    ::\u001b[0m \u001b[1;34mmasters.py 386 save_master()\u001b[0m - Writing header information\n",
      "\u001b[1;31m[WARNING] ::\u001b[0m \u001b[1;34mmasters.py 397 save_master()\u001b[0m - Overwriting file:\n",
      "             /scratch/REDUX/Gemini/J1059+1441/gemini_gmos_north_e2v_setup_A/MF_gemini_gmos_north_e2v/MasterArc_A_01_aa.fits\n",
      "\u001b[1;32m[INFO]    ::\u001b[0m \u001b[1;34mmasters.py 401 save_master()\u001b[0m - Master arc frame saved successfully:\n",
      "             /scratch/REDUX/Gemini/J1059+1441/gemini_gmos_north_e2v_setup_A/MF_gemini_gmos_north_e2v/MasterArc_A_01_aa.fits\n",
      "\u001b[1;32m[INFO]    ::\u001b[0m \u001b[1;34mgemini_gmos.py 488 read_gmos()\u001b[0m - Reading GMOS file: /scratch/REDUX/Gemini/J1059+1441/Raw/N20150116S0094.fits\n",
      "\u001b[1;32m[INFO]    ::\u001b[0m \u001b[1;34mgemini_gmos.py 488 read_gmos()\u001b[0m - Reading GMOS file: /scratch/REDUX/Gemini/J1059+1441/Raw/N20150116S0094.fits\n",
      "\u001b[1;32m[INFO]    ::\u001b[0m \u001b[1;34mgemini_gmos.py 488 read_gmos()\u001b[0m - Reading GMOS file: /scratch/REDUX/Gemini/J1059+1441/Raw/N20150116S0094.fits\n",
      "\u001b[1;32m[INFO]    ::\u001b[0m \u001b[1;34mpixels.py 37 gen_pixloc()\u001b[0m - Deriving physical pixel locations on the detector\n",
      "\u001b[1;32m[INFO]    ::\u001b[0m \u001b[1;34mpixels.py 40 gen_pixloc()\u001b[0m - Pixel gap in the dispersion direction = 0.000\n",
      "\u001b[1;32m[INFO]    ::\u001b[0m \u001b[1;34mpixels.py 41 gen_pixloc()\u001b[0m - Pixel size in the dispersion direction = 1.000\n",
      "\u001b[1;32m[INFO]    ::\u001b[0m \u001b[1;34mpixels.py 44 gen_pixloc()\u001b[0m - Pixel gap in the spatial direction = 0.000\n",
      "\u001b[1;32m[INFO]    ::\u001b[0m \u001b[1;34mpixels.py 45 gen_pixloc()\u001b[0m - Pixel size in the spatial direction = 1.000\n",
      "\u001b[1;32m[INFO]    ::\u001b[0m \u001b[1;34mpixels.py 50 gen_pixloc()\u001b[0m - Saving pixel locations\n",
      "\u001b[1;32m[INFO]    ::\u001b[0m \u001b[1;34mgemini_gmos.py 488 read_gmos()\u001b[0m - Reading GMOS file: /scratch/REDUX/Gemini/J1059+1441/Raw/N20150116S0095.fits\n",
      "\u001b[1;32m[INFO]    ::\u001b[0m \u001b[1;34mgemini_gmos.py 488 read_gmos()\u001b[0m - Reading GMOS file: /scratch/REDUX/Gemini/J1059+1441/Raw/N20150116S0096.fits\n",
      "\u001b[1;32m[INFO]    ::\u001b[0m \u001b[1;34mgemini_gmos.py 488 read_gmos()\u001b[0m - Reading GMOS file: /scratch/REDUX/Gemini/J1059+1441/Raw/N20150116S0099.fits\n",
      "\u001b[1;32m[INFO]    ::\u001b[0m \u001b[1;34mgemini_gmos.py 488 read_gmos()\u001b[0m - Reading GMOS file: /scratch/REDUX/Gemini/J1059+1441/Raw/N20150116S0095.fits\n",
      "\u001b[1;32m[INFO]    ::\u001b[0m \u001b[1;34mgemini_gmos.py 488 read_gmos()\u001b[0m - Reading GMOS file: /scratch/REDUX/Gemini/J1059+1441/Raw/N20150116S0095.fits\n",
      "\u001b[1;32m[INFO]    ::\u001b[0m \u001b[1;34mgemini_gmos.py 488 read_gmos()\u001b[0m - Reading GMOS file: /scratch/REDUX/Gemini/J1059+1441/Raw/N20150116S0095.fits\n",
      "\u001b[1;32m[INFO]    ::\u001b[0m \u001b[1;34mgemini_gmos.py 488 read_gmos()\u001b[0m - Reading GMOS file: /scratch/REDUX/Gemini/J1059+1441/Raw/N20150116S0095.fits\n",
      "\u001b[1;32m[INFO]    ::\u001b[0m \u001b[1;34mprocessimages.py 275 bias_subtract()\u001b[0m - Bias subtracting your image(s)\n",
      "\u001b[1;32m[INFO]    ::\u001b[0m \u001b[1;34mprocessimages.py 288 bias_subtract()\u001b[0m - Using overscan to subtact\n",
      "\u001b[1;32m[INFO]    ::\u001b[0m \u001b[1;34mprocessimages.py 288 bias_subtract()\u001b[0m - Using overscan to subtact\n",
      "\u001b[1;32m[INFO]    ::\u001b[0m \u001b[1;34mprocessimages.py 288 bias_subtract()\u001b[0m - Using overscan to subtact\n",
      "\u001b[1;32m[INFO]    ::\u001b[0m \u001b[1;34mcombine.py 62 comb_frames()\u001b[0m - Combining 3 trace_image frames\n",
      "\u001b[1;30m[WORK IN ]::\u001b[0m\n",
      "\u001b[1;33m[PROGRESS]::\u001b[0m \u001b[1;34mcombine.py 66 comb_frames()\u001b[0m - lscomb feature has not been included here yet...\n",
      "\u001b[1;32m[INFO]    ::\u001b[0m \u001b[1;34mcombine.py 95 comb_frames()\u001b[0m - Finding saturated and non-linear pixels\n",
      "\u001b[1;32m[INFO]    ::\u001b[0m \u001b[1;34mcombine.py 119 comb_frames()\u001b[0m - Rejecting cosmic rays\n",
      "\u001b[1;32m[INFO]    ::\u001b[0m \u001b[1;34mcombine.py 163 comb_frames()\u001b[0m - Not rejecting any low/high pixels\n",
      "\u001b[1;32m[INFO]    ::\u001b[0m \u001b[1;34mcombine.py 171 comb_frames()\u001b[0m - Rejecting deviant pixels\n",
      "\u001b[1;32m[INFO]    ::\u001b[0m \u001b[1;34mcombine.py 188 comb_frames()\u001b[0m - Combining frames with a weightmean operation\n",
      "\u001b[1;32m[INFO]    ::\u001b[0m \u001b[1;34mcombine.py 201 comb_frames()\u001b[0m - Replacing completely masked pixels with the maxnonsat value of the input frames\n",
      "\u001b[1;32m[INFO]    ::\u001b[0m \u001b[1;34mcombine.py 215 comb_frames()\u001b[0m - 3 trace_image frames combined successfully!\n",
      "\u001b[1;32m[INFO]    ::\u001b[0m \u001b[1;34mgemini_gmos.py 488 read_gmos()\u001b[0m - Reading GMOS file: /scratch/REDUX/Gemini/J1059+1441/Raw/N20150116S0095.fits\n",
      "\u001b[1;32m[INFO]    ::\u001b[0m \u001b[1;34mgemini_gmos.py 488 read_gmos()\u001b[0m - Reading GMOS file: /scratch/REDUX/Gemini/J1059+1441/Raw/N20150116S0095.fits\n",
      "\u001b[1;31m[WARNING] ::\u001b[0m \u001b[1;34mprocimg.py 456 gain_frame()\u001b[0m - Should probably be measuring the gain across the amplifier boundary\n",
      "\u001b[1;32m[INFO]    ::\u001b[0m \u001b[1;34mtrace_slits.py 813 edgearr_from_binarr()\u001b[0m - Detecting slit edges in the mstrace image\n",
      "\u001b[1;32m[INFO]    ::\u001b[0m \u001b[1;34mtrace_slits.py 874 edgearr_from_binarr()\u001b[0m - Applying bad pixel mask\n",
      "\u001b[1;32m[INFO]    ::\u001b[0m \u001b[1;34mtrace_slits.py 933 edgearr_add_left_right()\u001b[0m - 49 left edges and 48 right edges were found in the trace\n",
      "\u001b[1;32m[INFO]    ::\u001b[0m \u001b[1;34mtrace_slits.py 960 edgearr_add_left_right()\u001b[0m - Assigning slit edge traces\n",
      "\u001b[1;32m[INFO]    ::\u001b[0m \u001b[1;34mtraceslits.py 361 _assign_edges()\u001b[0m - Assigning left slit edges\n",
      "             \u001b[1;34mtrace_slits.py 160 assign_slits()\u001b[0m - Outer left edge loop, Iteration 1\n",
      "             \u001b[1;34mtrace_slits.py 298 assign_slits()\u001b[0m -   Inner loop, Iteration 1, 49 left edges assigned (49 total)\n",
      "             \u001b[1;34mtrace_slits.py 160 assign_slits()\u001b[0m - Outer left edge loop, Iteration 2\n",
      "             \u001b[1;34mtrace_slits.py 298 assign_slits()\u001b[0m -   Inner loop, Iteration 1, 49 left edges assigned (49 total)\n",
      "\u001b[1;32m[INFO]    ::\u001b[0m \u001b[1;34mtraceslits.py 369 _assign_edges()\u001b[0m - Assigning right slit edges\n",
      "             \u001b[1;34mtrace_slits.py 160 assign_slits()\u001b[0m - Outer right edge loop, Iteration 1\n",
      "             \u001b[1;34mtrace_slits.py 298 assign_slits()\u001b[0m -   Inner loop, Iteration 1, 47 right edges assigned (47 total)\n",
      "             \u001b[1;34mtrace_slits.py 298 assign_slits()\u001b[0m -   Inner loop, Iteration 2, 1 right edges assigned (48 total)\n",
      "             \u001b[1;34mtrace_slits.py 160 assign_slits()\u001b[0m - Outer right edge loop, Iteration 2\n",
      "             \u001b[1;34mtrace_slits.py 298 assign_slits()\u001b[0m -   Inner loop, Iteration 1, 47 right edges assigned (47 total)\n",
      "             \u001b[1;34mtrace_slits.py 298 assign_slits()\u001b[0m -   Inner loop, Iteration 2, 1 right edges assigned (48 total)\n",
      "\u001b[1;32m[INFO]    ::\u001b[0m \u001b[1;34mtrace_slits.py 1157 edgearr_final_left_right()\u001b[0m - 49 left edges and 48 right edges were found in the trace\n",
      "\u001b[1;32m[INFO]    ::\u001b[0m \u001b[1;34mtrace_slits.py 560 edgearr_tcrude()\u001b[0m - Crude tracing the edges\n",
      "\u001b[1;31m[WARNING] ::\u001b[0m \u001b[1;34mtrace_slits.py 472 edgearr_mslit_sync()\u001b[0m - Missing a right edge for slit with left edge at 1442\n",
      "\u001b[1;31m[WARNING] ::\u001b[0m \u001b[1;34mtrace_slits.py 473 edgearr_mslit_sync()\u001b[0m - Adding in a corresponding right edge!\n",
      "\u001b[1;32m[INFO]    ::\u001b[0m \u001b[1;34mtrace_slits.py 1309 fit_edges()\u001b[0m - Fitting left slit traces\n"
     ]
    },
    {
     "name": "stderr",
     "output_type": "stream",
     "text": [
      "\u001b[1;32m[INFO]    ::\u001b[0m \u001b[1;34mtrace_slits.py 1311 fit_edges()\u001b[0m - Fitting right slit traces\n",
      "\u001b[1;32m[INFO]    ::\u001b[0m \u001b[1;34mtraceslits.py 797 _synchronize()\u001b[0m - Synchronizing left and right slit traces\n",
      "\u001b[1;32m[INFO]    ::\u001b[0m \u001b[1;34mtrace_slits.py 2437 synchronize_edges()\u001b[0m - Relabelling slit edges\n",
      "\u001b[1;30m[WORK IN ]::\u001b[0m\n",
      "\u001b[1;33m[PROGRESS]::\u001b[0m \u001b[1;34mtrace_slits.py 2080 pca_pixel_slit_edges()\u001b[0m - May need to do a check here to make sure ofit is reasonable\n",
      "\u001b[1;32m[INFO]    ::\u001b[0m \u001b[1;34mtrace_slits.py 2086 pca_pixel_slit_edges()\u001b[0m - Performing a PCA on the slit traces\n",
      "             \u001b[1;34mpca.py 98 basis()\u001b[0m -   Reduced chi-squared = 2.109613E-07\n",
      "\u001b[1;32m[INFO]    ::\u001b[0m \u001b[1;34mtraceslits.py 845 _trim_slits()\u001b[0m - Slit 13 has width = 2.1837675380609904 < less than min_slit_width = 4.0 arcseconds - ignoring this slit\n",
      "\u001b[1;32m[INFO]    ::\u001b[0m \u001b[1;34mtraceslits.py 845 _trim_slits()\u001b[0m - Slit 39 has width = 2.1278821357908866 < less than min_slit_width = 4.0 arcseconds - ignoring this slit\n",
      "\u001b[1;32m[INFO]    ::\u001b[0m \u001b[1;34mtraceslits.py 845 _trim_slits()\u001b[0m - Slit 42 has width = 1.871624592335081 < less than min_slit_width = 4.0 arcseconds - ignoring this slit\n",
      "\u001b[1;32m[INFO]    ::\u001b[0m \u001b[1;34mtraceslits.py 845 _trim_slits()\u001b[0m - Slit 49 has width = 2.162858407606137 < less than min_slit_width = 4.0 arcseconds - ignoring this slit\n",
      "\u001b[1;32m[INFO]    ::\u001b[0m \u001b[1;34mtraceslits.py 535 _make_pixel_arrays()\u001b[0m - Converting physical trace locations to nearest pixel\n",
      "\u001b[1;32m[INFO]    ::\u001b[0m \u001b[1;34mtraceslits.py 542 _make_pixel_arrays()\u001b[0m - Identifying the pixels belonging to each slit\n",
      "\u001b[1;32m[INFO]    ::\u001b[0m \u001b[1;34mtraceslits.py 933 save_master()\u001b[0m - Wrote TraceSlit arrays to /scratch/REDUX/Gemini/J1059+1441/gemini_gmos_north_e2v_setup_A/MF_gemini_gmos_north_e2v/MasterTrace_A_01_aa.fits\n",
      "\u001b[1;32m[INFO]    ::\u001b[0m \u001b[1;34mtraceslits.py 935 save_master()\u001b[0m - gzip compressing /scratch/REDUX/Gemini/J1059+1441/gemini_gmos_north_e2v_setup_A/MF_gemini_gmos_north_e2v/MasterTrace_A_01_aa.fits\n",
      "\u001b[1;32m[INFO]    ::\u001b[0m \u001b[1;34mtraceslits.py 949 save_master()\u001b[0m - Writing TraceSlit dict to /scratch/REDUX/Gemini/J1059+1441/gemini_gmos_north_e2v_setup_A/MF_gemini_gmos_north_e2v/MasterTrace_A_01_aa.json\n",
      "\u001b[1;32m[INFO]    ::\u001b[0m \u001b[1;34marc.py 150 get_censpec()\u001b[0m - Extracting an approximate arc spectrum at the centre of slit 1\n",
      "\u001b[1;32m[INFO]    ::\u001b[0m \u001b[1;34marc.py 150 get_censpec()\u001b[0m - Extracting an approximate arc spectrum at the centre of slit 2\n",
      "\u001b[1;32m[INFO]    ::\u001b[0m \u001b[1;34marc.py 150 get_censpec()\u001b[0m - Extracting an approximate arc spectrum at the centre of slit 3\n",
      "\u001b[1;32m[INFO]    ::\u001b[0m \u001b[1;34marc.py 150 get_censpec()\u001b[0m - Extracting an approximate arc spectrum at the centre of slit 4\n",
      "\u001b[1;32m[INFO]    ::\u001b[0m \u001b[1;34marc.py 150 get_censpec()\u001b[0m - Extracting an approximate arc spectrum at the centre of slit 5\n",
      "\u001b[1;32m[INFO]    ::\u001b[0m \u001b[1;34marc.py 150 get_censpec()\u001b[0m - Extracting an approximate arc spectrum at the centre of slit 6\n",
      "\u001b[1;32m[INFO]    ::\u001b[0m \u001b[1;34marc.py 150 get_censpec()\u001b[0m - Extracting an approximate arc spectrum at the centre of slit 7\n",
      "\u001b[1;32m[INFO]    ::\u001b[0m \u001b[1;34marc.py 150 get_censpec()\u001b[0m - Extracting an approximate arc spectrum at the centre of slit 8\n",
      "\u001b[1;32m[INFO]    ::\u001b[0m \u001b[1;34marc.py 150 get_censpec()\u001b[0m - Extracting an approximate arc spectrum at the centre of slit 9\n",
      "\u001b[1;32m[INFO]    ::\u001b[0m \u001b[1;34marc.py 150 get_censpec()\u001b[0m - Extracting an approximate arc spectrum at the centre of slit 10\n",
      "\u001b[1;32m[INFO]    ::\u001b[0m \u001b[1;34marc.py 150 get_censpec()\u001b[0m - Extracting an approximate arc spectrum at the centre of slit 11\n",
      "\u001b[1;32m[INFO]    ::\u001b[0m \u001b[1;34marc.py 150 get_censpec()\u001b[0m - Extracting an approximate arc spectrum at the centre of slit 12\n",
      "\u001b[1;32m[INFO]    ::\u001b[0m \u001b[1;34marc.py 150 get_censpec()\u001b[0m - Extracting an approximate arc spectrum at the centre of slit 13\n",
      "\u001b[1;32m[INFO]    ::\u001b[0m \u001b[1;34marc.py 150 get_censpec()\u001b[0m - Extracting an approximate arc spectrum at the centre of slit 14\n",
      "\u001b[1;32m[INFO]    ::\u001b[0m \u001b[1;34marc.py 150 get_censpec()\u001b[0m - Extracting an approximate arc spectrum at the centre of slit 15\n",
      "\u001b[1;32m[INFO]    ::\u001b[0m \u001b[1;34marc.py 150 get_censpec()\u001b[0m - Extracting an approximate arc spectrum at the centre of slit 16\n",
      "\u001b[1;32m[INFO]    ::\u001b[0m \u001b[1;34marc.py 150 get_censpec()\u001b[0m - Extracting an approximate arc spectrum at the centre of slit 17\n",
      "\u001b[1;32m[INFO]    ::\u001b[0m \u001b[1;34marc.py 150 get_censpec()\u001b[0m - Extracting an approximate arc spectrum at the centre of slit 18\n",
      "\u001b[1;32m[INFO]    ::\u001b[0m \u001b[1;34marc.py 150 get_censpec()\u001b[0m - Extracting an approximate arc spectrum at the centre of slit 19\n",
      "\u001b[1;32m[INFO]    ::\u001b[0m \u001b[1;34marc.py 150 get_censpec()\u001b[0m - Extracting an approximate arc spectrum at the centre of slit 20\n",
      "\u001b[1;32m[INFO]    ::\u001b[0m \u001b[1;34marc.py 150 get_censpec()\u001b[0m - Extracting an approximate arc spectrum at the centre of slit 21\n",
      "\u001b[1;32m[INFO]    ::\u001b[0m \u001b[1;34marc.py 150 get_censpec()\u001b[0m - Extracting an approximate arc spectrum at the centre of slit 22\n",
      "\u001b[1;32m[INFO]    ::\u001b[0m \u001b[1;34marc.py 150 get_censpec()\u001b[0m - Extracting an approximate arc spectrum at the centre of slit 23\n",
      "\u001b[1;32m[INFO]    ::\u001b[0m \u001b[1;34marc.py 150 get_censpec()\u001b[0m - Extracting an approximate arc spectrum at the centre of slit 24\n",
      "\u001b[1;32m[INFO]    ::\u001b[0m \u001b[1;34marc.py 150 get_censpec()\u001b[0m - Extracting an approximate arc spectrum at the centre of slit 25\n",
      "\u001b[1;32m[INFO]    ::\u001b[0m \u001b[1;34marc.py 150 get_censpec()\u001b[0m - Extracting an approximate arc spectrum at the centre of slit 26\n",
      "\u001b[1;32m[INFO]    ::\u001b[0m \u001b[1;34marc.py 150 get_censpec()\u001b[0m - Extracting an approximate arc spectrum at the centre of slit 27\n",
      "\u001b[1;32m[INFO]    ::\u001b[0m \u001b[1;34marc.py 150 get_censpec()\u001b[0m - Extracting an approximate arc spectrum at the centre of slit 28\n",
      "\u001b[1;32m[INFO]    ::\u001b[0m \u001b[1;34marc.py 150 get_censpec()\u001b[0m - Extracting an approximate arc spectrum at the centre of slit 29\n",
      "\u001b[1;32m[INFO]    ::\u001b[0m \u001b[1;34marc.py 150 get_censpec()\u001b[0m - Extracting an approximate arc spectrum at the centre of slit 30\n",
      "\u001b[1;32m[INFO]    ::\u001b[0m \u001b[1;34marc.py 150 get_censpec()\u001b[0m - Extracting an approximate arc spectrum at the centre of slit 31\n",
      "\u001b[1;32m[INFO]    ::\u001b[0m \u001b[1;34marc.py 150 get_censpec()\u001b[0m - Extracting an approximate arc spectrum at the centre of slit 32\n",
      "\u001b[1;32m[INFO]    ::\u001b[0m \u001b[1;34marc.py 150 get_censpec()\u001b[0m - Extracting an approximate arc spectrum at the centre of slit 33\n",
      "\u001b[1;32m[INFO]    ::\u001b[0m \u001b[1;34marc.py 150 get_censpec()\u001b[0m - Extracting an approximate arc spectrum at the centre of slit 34\n",
      "\u001b[1;32m[INFO]    ::\u001b[0m \u001b[1;34marc.py 150 get_censpec()\u001b[0m - Extracting an approximate arc spectrum at the centre of slit 35\n",
      "\u001b[1;32m[INFO]    ::\u001b[0m \u001b[1;34marc.py 150 get_censpec()\u001b[0m - Extracting an approximate arc spectrum at the centre of slit 36\n",
      "\u001b[1;32m[INFO]    ::\u001b[0m \u001b[1;34marc.py 150 get_censpec()\u001b[0m - Extracting an approximate arc spectrum at the centre of slit 37\n",
      "\u001b[1;32m[INFO]    ::\u001b[0m \u001b[1;34marc.py 150 get_censpec()\u001b[0m - Extracting an approximate arc spectrum at the centre of slit 38\n",
      "\u001b[1;32m[INFO]    ::\u001b[0m \u001b[1;34marc.py 150 get_censpec()\u001b[0m - Extracting an approximate arc spectrum at the centre of slit 39\n",
      "\u001b[1;32m[INFO]    ::\u001b[0m \u001b[1;34marc.py 150 get_censpec()\u001b[0m - Extracting an approximate arc spectrum at the centre of slit 40\n",
      "\u001b[1;32m[INFO]    ::\u001b[0m \u001b[1;34marc.py 150 get_censpec()\u001b[0m - Extracting an approximate arc spectrum at the centre of slit 41\n",
      "\u001b[1;32m[INFO]    ::\u001b[0m \u001b[1;34marc.py 150 get_censpec()\u001b[0m - Extracting an approximate arc spectrum at the centre of slit 42\n",
      "\u001b[1;32m[INFO]    ::\u001b[0m \u001b[1;34marc.py 150 get_censpec()\u001b[0m - Extracting an approximate arc spectrum at the centre of slit 43\n",
      "\u001b[1;32m[INFO]    ::\u001b[0m \u001b[1;34marc.py 150 get_censpec()\u001b[0m - Extracting an approximate arc spectrum at the centre of slit 44\n",
      "\u001b[1;32m[INFO]    ::\u001b[0m \u001b[1;34marc.py 150 get_censpec()\u001b[0m - Extracting an approximate arc spectrum at the centre of slit 45\n",
      "\u001b[1;32m[INFO]    ::\u001b[0m \u001b[1;34marc.py 73 setup_param()\u001b[0m - Loading line list using CuI,ArI,ArII lamps\n",
      "\u001b[1;32m[INFO]    ::\u001b[0m \u001b[1;34mautoid.py 408 __init__()\u001b[0m - Using brute force pattern matching algorithm to wavelength calibrate\n",
      "\u001b[1;32m[INFO]    ::\u001b[0m \u001b[1;34marc.py 497 detect_lines()\u001b[0m - Detecting lines...isolating the strongest, nonsaturated lines\n",
      "\u001b[1;32m[INFO]    ::\u001b[0m \u001b[1;34marc.py 497 detect_lines()\u001b[0m - Detecting lines...isolating the strongest, nonsaturated lines\n"
     ]
    },
    {
     "name": "stderr",
     "output_type": "stream",
     "text": [
      "\u001b[1;32m[INFO]    ::\u001b[0m \u001b[1;34mautoid.py 1446 report_prelim()\u001b[0m - ---------------------------------------------------\n",
      "             Preliminary report for slit 1/45:\n",
      "               Pixels correlate with wavelength\n",
      "               Number of lines recovered    = 24\n",
      "               Number of lines analyzed     = 6\n",
      "               Number of pattern matches    = 3\n",
      "               Best central wavelength      = 9715.18A\n",
      "               Best dispersion              = 2.78755A/pix\n",
      "               Best wave/disp               = 3485.2\n",
      "               Final RMS of fit             = 1.26364e-12\n",
      "             ---------------------------------------------------\n",
      "\u001b[1;32m[INFO]    ::\u001b[0m \u001b[1;34marc.py 497 detect_lines()\u001b[0m - Detecting lines...isolating the strongest, nonsaturated lines\n",
      "\u001b[1;32m[INFO]    ::\u001b[0m \u001b[1;34marc.py 497 detect_lines()\u001b[0m - Detecting lines...isolating the strongest, nonsaturated lines\n",
      "\u001b[1;32m[INFO]    ::\u001b[0m \u001b[1;34mautoid.py 1446 report_prelim()\u001b[0m - ---------------------------------------------------\n",
      "             Preliminary report for slit 2/45:\n",
      "               Pixels correlate with wavelength\n",
      "               Number of lines recovered    = 23\n",
      "               Number of lines analyzed     = 17\n",
      "               Number of pattern matches    = 10\n",
      "               Best central wavelength      = 4794.71A\n",
      "               Best dispersion              = 1.34374A/pix\n",
      "               Best wave/disp               = 3568.19\n",
      "               Final RMS of fit             = 0.160548\n",
      "             ---------------------------------------------------\n",
      "\u001b[1;32m[INFO]    ::\u001b[0m \u001b[1;34marc.py 497 detect_lines()\u001b[0m - Detecting lines...isolating the strongest, nonsaturated lines\n",
      "\u001b[1;32m[INFO]    ::\u001b[0m \u001b[1;34marc.py 497 detect_lines()\u001b[0m - Detecting lines...isolating the strongest, nonsaturated lines\n",
      "\u001b[1;32m[INFO]    ::\u001b[0m \u001b[1;34mautoid.py 1446 report_prelim()\u001b[0m - ---------------------------------------------------\n",
      "             Preliminary report for slit 3/45:\n",
      "               Pixels correlate with wavelength\n",
      "               Number of lines recovered    = 24\n",
      "               Number of lines analyzed     = 17\n",
      "               Number of pattern matches    = 13\n",
      "               Best central wavelength      = 4967.35A\n",
      "               Best dispersion              = 1.33833A/pix\n",
      "               Best wave/disp               = 3711.61\n",
      "               Final RMS of fit             = 0.159727\n",
      "             ---------------------------------------------------\n",
      "\u001b[1;32m[INFO]    ::\u001b[0m \u001b[1;34marc.py 497 detect_lines()\u001b[0m - Detecting lines...isolating the strongest, nonsaturated lines\n",
      "\u001b[1;32m[INFO]    ::\u001b[0m \u001b[1;34marc.py 497 detect_lines()\u001b[0m - Detecting lines...isolating the strongest, nonsaturated lines\n",
      "\u001b[1;32m[INFO]    ::\u001b[0m \u001b[1;34mautoid.py 1446 report_prelim()\u001b[0m - ---------------------------------------------------\n",
      "             Preliminary report for slit 4/45:\n",
      "               Pixels correlate with wavelength\n",
      "               Number of lines recovered    = 27\n",
      "               Number of lines analyzed     = 13\n",
      "               Number of pattern matches    = 11\n",
      "               Best central wavelength      = 5197.55A\n",
      "               Best dispersion              = 1.33833A/pix\n",
      "               Best wave/disp               = 3883.61\n",
      "               Final RMS of fit             = 0.165738\n",
      "             ---------------------------------------------------\n",
      "\u001b[1;32m[INFO]    ::\u001b[0m \u001b[1;34marc.py 497 detect_lines()\u001b[0m - Detecting lines...isolating the strongest, nonsaturated lines\n",
      "\u001b[1;32m[INFO]    ::\u001b[0m \u001b[1;34marc.py 497 detect_lines()\u001b[0m - Detecting lines...isolating the strongest, nonsaturated lines\n",
      "\u001b[1;32m[INFO]    ::\u001b[0m \u001b[1;34mautoid.py 1446 report_prelim()\u001b[0m - ---------------------------------------------------\n",
      "             Preliminary report for slit 5/45:\n",
      "               Pixels anitcorrelate with wavelength\n",
      "               Number of lines recovered    = 24\n",
      "               Number of lines analyzed     = 7\n",
      "               Number of pattern matches    = 4\n",
      "               Best central wavelength      = 6952.81A\n",
      "               Best dispersion              = 3.99071A/pix\n",
      "               Best wave/disp               = 1742.25\n",
      "               Final RMS of fit             = 0.00935478\n",
      "             ---------------------------------------------------\n",
      "\u001b[1;32m[INFO]    ::\u001b[0m \u001b[1;34marc.py 497 detect_lines()\u001b[0m - Detecting lines...isolating the strongest, nonsaturated lines\n",
      "\u001b[1;32m[INFO]    ::\u001b[0m \u001b[1;34marc.py 497 detect_lines()\u001b[0m - Detecting lines...isolating the strongest, nonsaturated lines\n",
      "\u001b[1;32m[INFO]    ::\u001b[0m \u001b[1;34mautoid.py 1446 report_prelim()\u001b[0m - ---------------------------------------------------\n",
      "             Preliminary report for slit 6/45:\n",
      "               Pixels correlate with wavelength\n",
      "               Number of lines recovered    = 23\n",
      "               Number of lines analyzed     = 6\n",
      "               Number of pattern matches    = 5\n",
      "               Best central wavelength      = 4190.44A\n",
      "               Best dispersion              = 0.997124A/pix\n",
      "               Best wave/disp               = 4202.52\n",
      "               Final RMS of fit             = 2.89349e-11\n",
      "             ---------------------------------------------------\n",
      "\u001b[1;32m[INFO]    ::\u001b[0m \u001b[1;34marc.py 497 detect_lines()\u001b[0m - Detecting lines...isolating the strongest, nonsaturated lines\n",
      "\u001b[1;32m[INFO]    ::\u001b[0m \u001b[1;34marc.py 497 detect_lines()\u001b[0m - Detecting lines...isolating the strongest, nonsaturated lines\n",
      "\u001b[1;32m[INFO]    ::\u001b[0m \u001b[1;34mautoid.py 1446 report_prelim()\u001b[0m - ---------------------------------------------------\n",
      "             Preliminary report for slit 7/45:\n",
      "               Pixels anitcorrelate with wavelength\n",
      "               Number of lines recovered    = 26\n",
      "               Number of lines analyzed     = 5\n",
      "               Number of pattern matches    = 8\n",
      "               Best central wavelength      = 8333.99A\n",
      "               Best dispersion              = 1.78187A/pix\n",
      "               Best wave/disp               = 4677.11\n",
      "               Final RMS of fit             = 1.01853e-11\n",
      "             ---------------------------------------------------\n",
      "\u001b[1;32m[INFO]    ::\u001b[0m \u001b[1;34marc.py 497 detect_lines()\u001b[0m - Detecting lines...isolating the strongest, nonsaturated lines\n",
      "\u001b[1;32m[INFO]    ::\u001b[0m \u001b[1;34marc.py 497 detect_lines()\u001b[0m - Detecting lines...isolating the strongest, nonsaturated lines\n",
      "\u001b[1;32m[INFO]    ::\u001b[0m \u001b[1;34mautoid.py 1446 report_prelim()\u001b[0m - ---------------------------------------------------\n",
      "             Preliminary report for slit 8/45:\n",
      "               Pixels correlate with wavelength\n",
      "               Number of lines recovered    = 30\n",
      "               Number of lines analyzed     = 29\n",
      "               Number of pattern matches    = 7\n",
      "               Best central wavelength      = 7614.63A\n",
      "               Best dispersion              = 0.993113A/pix\n",
      "               Best wave/disp               = 7667.44\n",
      "               Final RMS of fit             = 0.0590743\n",
      "             ---------------------------------------------------\n",
      "\u001b[1;32m[INFO]    ::\u001b[0m \u001b[1;34marc.py 497 detect_lines()\u001b[0m - Detecting lines...isolating the strongest, nonsaturated lines\n",
      "\u001b[1;32m[INFO]    ::\u001b[0m \u001b[1;34marc.py 497 detect_lines()\u001b[0m - Detecting lines...isolating the strongest, nonsaturated lines\n",
      "\u001b[1;32m[INFO]    ::\u001b[0m \u001b[1;34mautoid.py 1446 report_prelim()\u001b[0m - ---------------------------------------------------\n",
      "             Preliminary report for slit 9/45:\n",
      "               Pixels correlate with wavelength\n",
      "               Number of lines recovered    = 24\n",
      "               Number of lines analyzed     = 17\n",
      "               Number of pattern matches    = 14\n",
      "               Best central wavelength      = 4363.09A\n",
      "               Best dispersion              = 1.34374A/pix\n",
      "               Best wave/disp               = 3246.98\n",
      "               Final RMS of fit             = 0.0984255\n",
      "             ---------------------------------------------------\n",
      "\u001b[1;32m[INFO]    ::\u001b[0m \u001b[1;34marc.py 497 detect_lines()\u001b[0m - Detecting lines...isolating the strongest, nonsaturated lines\n",
      "\u001b[1;32m[INFO]    ::\u001b[0m \u001b[1;34marc.py 497 detect_lines()\u001b[0m - Detecting lines...isolating the strongest, nonsaturated lines\n",
      "\u001b[1;32m[INFO]    ::\u001b[0m \u001b[1;34mautoid.py 1446 report_prelim()\u001b[0m - ---------------------------------------------------\n",
      "             Preliminary report for slit 10/45:\n",
      "               Pixels correlate with wavelength\n",
      "               Number of lines recovered    = 26\n",
      "               Number of lines analyzed     = 8\n",
      "               Number of pattern matches    = 8\n",
      "               Best central wavelength      = 5456.52A\n",
      "               Best dispersion              = 1.32758A/pix\n",
      "               Best wave/disp               = 4110.12\n",
      "               Final RMS of fit             = 0.119268\n",
      "             ---------------------------------------------------\n",
      "\u001b[1;32m[INFO]    ::\u001b[0m \u001b[1;34marc.py 497 detect_lines()\u001b[0m - Detecting lines...isolating the strongest, nonsaturated lines\n",
      "\u001b[1;32m[INFO]    ::\u001b[0m \u001b[1;34marc.py 497 detect_lines()\u001b[0m - Detecting lines...isolating the strongest, nonsaturated lines\n"
     ]
    },
    {
     "name": "stderr",
     "output_type": "stream",
     "text": [
      "\u001b[1;32m[INFO]    ::\u001b[0m \u001b[1;34mautoid.py 1446 report_prelim()\u001b[0m - ---------------------------------------------------\n",
      "             Preliminary report for slit 11/45:\n",
      "               Pixels correlate with wavelength\n",
      "               Number of lines recovered    = 26\n",
      "               Number of lines analyzed     = 18\n",
      "               Number of pattern matches    = 15\n",
      "               Best central wavelength      = 4967.35A\n",
      "               Best dispersion              = 1.33833A/pix\n",
      "               Best wave/disp               = 3711.61\n",
      "               Final RMS of fit             = 0.195103\n",
      "             ---------------------------------------------------\n",
      "\u001b[1;32m[INFO]    ::\u001b[0m \u001b[1;34marc.py 497 detect_lines()\u001b[0m - Detecting lines...isolating the strongest, nonsaturated lines\n",
      "\u001b[1;32m[INFO]    ::\u001b[0m \u001b[1;34marc.py 497 detect_lines()\u001b[0m - Detecting lines...isolating the strongest, nonsaturated lines\n",
      "\u001b[1;32m[INFO]    ::\u001b[0m \u001b[1;34mautoid.py 1446 report_prelim()\u001b[0m - ---------------------------------------------------\n",
      "             Preliminary report for slit 12/45:\n",
      "               Pixels correlate with wavelength\n",
      "               Number of lines recovered    = 27\n",
      "               Number of lines analyzed     = 16\n",
      "               Number of pattern matches    = 11\n",
      "               Best central wavelength      = 5024.9A\n",
      "               Best dispersion              = 1.33295A/pix\n",
      "               Best wave/disp               = 3769.77\n",
      "               Final RMS of fit             = 0.218939\n",
      "             ---------------------------------------------------\n",
      "\u001b[1;32m[INFO]    ::\u001b[0m \u001b[1;34marc.py 497 detect_lines()\u001b[0m - Detecting lines...isolating the strongest, nonsaturated lines\n",
      "\u001b[1;32m[INFO]    ::\u001b[0m \u001b[1;34marc.py 497 detect_lines()\u001b[0m - Detecting lines...isolating the strongest, nonsaturated lines\n",
      "\u001b[1;32m[INFO]    ::\u001b[0m \u001b[1;34mautoid.py 1446 report_prelim()\u001b[0m - ---------------------------------------------------\n",
      "             Preliminary report for slit 13/45:\n",
      "               Pixels anitcorrelate with wavelength\n",
      "               Number of lines recovered    = 24\n",
      "               Number of lines analyzed     = 24\n",
      "               Number of pattern matches    = 4\n",
      "               Best central wavelength      = 9542.53A\n",
      "               Best dispersion              = 3.5361A/pix\n",
      "               Best wave/disp               = 2698.61\n",
      "               Final RMS of fit             = 6.41634e-12\n",
      "             ---------------------------------------------------\n",
      "\u001b[1;32m[INFO]    ::\u001b[0m \u001b[1;34marc.py 497 detect_lines()\u001b[0m - Detecting lines...isolating the strongest, nonsaturated lines\n",
      "\u001b[1;32m[INFO]    ::\u001b[0m \u001b[1;34marc.py 497 detect_lines()\u001b[0m - Detecting lines...isolating the strongest, nonsaturated lines\n",
      "\u001b[1;32m[INFO]    ::\u001b[0m \u001b[1;34mautoid.py 1446 report_prelim()\u001b[0m - ---------------------------------------------------\n",
      "             Preliminary report for slit 14/45:\n",
      "               Pixels correlate with wavelength\n",
      "               Number of lines recovered    = 27\n",
      "               Number of lines analyzed     = 16\n",
      "               Number of pattern matches    = 14\n",
      "               Best central wavelength      = 5140A\n",
      "               Best dispersion              = 1.33295A/pix\n",
      "               Best wave/disp               = 3856.12\n",
      "               Final RMS of fit             = 0.238274\n",
      "             ---------------------------------------------------\n",
      "\u001b[1;32m[INFO]    ::\u001b[0m \u001b[1;34marc.py 497 detect_lines()\u001b[0m - Detecting lines...isolating the strongest, nonsaturated lines\n",
      "\u001b[1;32m[INFO]    ::\u001b[0m \u001b[1;34marc.py 497 detect_lines()\u001b[0m - Detecting lines...isolating the strongest, nonsaturated lines\n",
      "\u001b[1;32m[INFO]    ::\u001b[0m \u001b[1;34mautoid.py 1446 report_prelim()\u001b[0m - ---------------------------------------------------\n",
      "             Preliminary report for slit 15/45:\n",
      "               Pixels correlate with wavelength\n",
      "               Number of lines recovered    = 23\n",
      "               Number of lines analyzed     = 23\n",
      "               Number of pattern matches    = 4\n",
      "               Best central wavelength      = 9456.21A\n",
      "               Best dispersion              = 0.335748A/pix\n",
      "               Best wave/disp               = 28164.6\n",
      "               Final RMS of fit             = 5.29864e-12\n",
      "             ---------------------------------------------------\n",
      "\u001b[1;32m[INFO]    ::\u001b[0m \u001b[1;34marc.py 497 detect_lines()\u001b[0m - Detecting lines...isolating the strongest, nonsaturated lines\n",
      "\u001b[1;32m[INFO]    ::\u001b[0m \u001b[1;34marc.py 497 detect_lines()\u001b[0m - Detecting lines...isolating the strongest, nonsaturated lines\n",
      "\u001b[1;32m[INFO]    ::\u001b[0m \u001b[1;34mautoid.py 1446 report_prelim()\u001b[0m - ---------------------------------------------------\n",
      "             Preliminary report for slit 16/45:\n",
      "               Pixels anitcorrelate with wavelength\n",
      "               Number of lines recovered    = 27\n",
      "               Number of lines analyzed     = 7\n",
      "               Number of pattern matches    = 3\n",
      "               Best central wavelength      = 9600.08A\n",
      "               Best dispersion              = 4.80387A/pix\n",
      "               Best wave/disp               = 1998.41\n",
      "               Final RMS of fit             = 0.104484\n",
      "             ---------------------------------------------------\n",
      "\u001b[1;32m[INFO]    ::\u001b[0m \u001b[1;34marc.py 497 detect_lines()\u001b[0m - Detecting lines...isolating the strongest, nonsaturated lines\n",
      "\u001b[1;32m[INFO]    ::\u001b[0m \u001b[1;34marc.py 497 detect_lines()\u001b[0m - Detecting lines...isolating the strongest, nonsaturated lines\n",
      "\u001b[1;32m[INFO]    ::\u001b[0m \u001b[1;34mautoid.py 1446 report_prelim()\u001b[0m - ---------------------------------------------------\n",
      "             Preliminary report for slit 17/45:\n",
      "               Pixels correlate with wavelength\n",
      "               Number of lines recovered    = 20\n",
      "               Number of lines analyzed     = 17\n",
      "               Number of pattern matches    = 9\n",
      "               Best central wavelength      = 4679.61A\n",
      "               Best dispersion              = 1.34916A/pix\n",
      "               Best wave/disp               = 3468.52\n",
      "               Final RMS of fit             = 0.176724\n",
      "             ---------------------------------------------------\n",
      "\u001b[1;32m[INFO]    ::\u001b[0m \u001b[1;34marc.py 497 detect_lines()\u001b[0m - Detecting lines...isolating the strongest, nonsaturated lines\n",
      "\u001b[1;32m[INFO]    ::\u001b[0m \u001b[1;34marc.py 497 detect_lines()\u001b[0m - Detecting lines...isolating the strongest, nonsaturated lines\n",
      "\u001b[1;32m[INFO]    ::\u001b[0m \u001b[1;34mautoid.py 1446 report_prelim()\u001b[0m - ---------------------------------------------------\n",
      "             Preliminary report for slit 18/45:\n",
      "               Pixels correlate with wavelength\n",
      "               Number of lines recovered    = 24\n",
      "               Number of lines analyzed     = 24\n",
      "               Number of pattern matches    = 6\n",
      "               Best central wavelength      = 9657.63A\n",
      "               Best dispersion              = 0.624666A/pix\n",
      "               Best wave/disp               = 15460.5\n",
      "               Final RMS of fit             = 7.70427e-12\n",
      "             ---------------------------------------------------\n",
      "\u001b[1;32m[INFO]    ::\u001b[0m \u001b[1;34marc.py 497 detect_lines()\u001b[0m - Detecting lines...isolating the strongest, nonsaturated lines\n",
      "\u001b[1;32m[INFO]    ::\u001b[0m \u001b[1;34marc.py 497 detect_lines()\u001b[0m - Detecting lines...isolating the strongest, nonsaturated lines\n",
      "\u001b[1;32m[INFO]    ::\u001b[0m \u001b[1;34mautoid.py 1446 report_prelim()\u001b[0m - ---------------------------------------------------\n",
      "             Preliminary report for slit 19/45:\n",
      "               Pixels anitcorrelate with wavelength\n",
      "               Number of lines recovered    = 23\n",
      "               Number of lines analyzed     = 4\n",
      "               Number of pattern matches    = 6\n",
      "               Best central wavelength      = 9657.63A\n",
      "               Best dispersion              = 0.872912A/pix\n",
      "               Best wave/disp               = 11063.7\n",
      "               Final RMS of fit             = 4.42044e-12\n",
      "             ---------------------------------------------------\n",
      "\u001b[1;32m[INFO]    ::\u001b[0m \u001b[1;34marc.py 497 detect_lines()\u001b[0m - Detecting lines...isolating the strongest, nonsaturated lines\n",
      "\u001b[1;32m[INFO]    ::\u001b[0m \u001b[1;34marc.py 497 detect_lines()\u001b[0m - Detecting lines...isolating the strongest, nonsaturated lines\n",
      "\u001b[1;32m[INFO]    ::\u001b[0m \u001b[1;34mautoid.py 1446 report_prelim()\u001b[0m - ---------------------------------------------------\n",
      "             Preliminary report for slit 20/45:\n",
      "               Pixels correlate with wavelength\n",
      "               Number of lines recovered    = 27\n",
      "               Number of lines analyzed     = 14\n",
      "               Number of pattern matches    = 12\n",
      "               Best central wavelength      = 5197.55A\n",
      "               Best dispersion              = 1.32758A/pix\n",
      "               Best wave/disp               = 3915.05\n",
      "               Final RMS of fit             = 0.263969\n",
      "             ---------------------------------------------------\n",
      "\u001b[1;32m[INFO]    ::\u001b[0m \u001b[1;34marc.py 497 detect_lines()\u001b[0m - Detecting lines...isolating the strongest, nonsaturated lines\n",
      "\u001b[1;32m[INFO]    ::\u001b[0m \u001b[1;34marc.py 497 detect_lines()\u001b[0m - Detecting lines...isolating the strongest, nonsaturated lines\n"
     ]
    },
    {
     "name": "stderr",
     "output_type": "stream",
     "text": [
      "\u001b[1;32m[INFO]    ::\u001b[0m \u001b[1;34mautoid.py 1446 report_prelim()\u001b[0m - ---------------------------------------------------\n",
      "             Preliminary report for slit 21/45:\n",
      "               Pixels correlate with wavelength\n",
      "               Number of lines recovered    = 26\n",
      "               Number of lines analyzed     = 10\n",
      "               Number of pattern matches    = 6\n",
      "               Best central wavelength      = 5283.88A\n",
      "               Best dispersion              = 1.32224A/pix\n",
      "               Best wave/disp               = 3996.15\n",
      "               Final RMS of fit             = 0.165401\n",
      "             ---------------------------------------------------\n",
      "\u001b[1;32m[INFO]    ::\u001b[0m \u001b[1;34marc.py 497 detect_lines()\u001b[0m - Detecting lines...isolating the strongest, nonsaturated lines\n",
      "\u001b[1;32m[INFO]    ::\u001b[0m \u001b[1;34marc.py 497 detect_lines()\u001b[0m - Detecting lines...isolating the strongest, nonsaturated lines\n",
      "\u001b[1;32m[INFO]    ::\u001b[0m \u001b[1;34mautoid.py 1446 report_prelim()\u001b[0m - ---------------------------------------------------\n",
      "             Preliminary report for slit 22/45:\n",
      "               Pixels anitcorrelate with wavelength\n",
      "               Number of lines recovered    = 25\n",
      "               Number of lines analyzed     = 3\n",
      "               Number of pattern matches    = 5\n",
      "               Best central wavelength      = 8420.32A\n",
      "               Best dispersion              = 1.08085A/pix\n",
      "               Best wave/disp               = 7790.43\n",
      "               Final RMS of fit             = 1.81776e-12\n",
      "             ---------------------------------------------------\n",
      "\u001b[1;32m[INFO]    ::\u001b[0m \u001b[1;34marc.py 497 detect_lines()\u001b[0m - Detecting lines...isolating the strongest, nonsaturated lines\n",
      "\u001b[1;32m[INFO]    ::\u001b[0m \u001b[1;34marc.py 497 detect_lines()\u001b[0m - Detecting lines...isolating the strongest, nonsaturated lines\n",
      "\u001b[1;31m[WARNING] ::\u001b[0m \u001b[1;34mautoid.py 1426 report_prelim()\u001b[0m - ---------------------------------------------------\n",
      "             Preliminary report for slit 23/45:\n",
      "               Poor RMS (0.393)! Attempting to cross match.\n",
      "             ---------------------------------------------------\n",
      "\u001b[1;32m[INFO]    ::\u001b[0m \u001b[1;34marc.py 497 detect_lines()\u001b[0m - Detecting lines...isolating the strongest, nonsaturated lines\n",
      "\u001b[1;32m[INFO]    ::\u001b[0m \u001b[1;34marc.py 497 detect_lines()\u001b[0m - Detecting lines...isolating the strongest, nonsaturated lines\n",
      "\u001b[1;32m[INFO]    ::\u001b[0m \u001b[1;34mautoid.py 1446 report_prelim()\u001b[0m - ---------------------------------------------------\n",
      "             Preliminary report for slit 24/45:\n",
      "               Pixels correlate with wavelength\n",
      "               Number of lines recovered    = 23\n",
      "               Number of lines analyzed     = 16\n",
      "               Number of pattern matches    = 13\n",
      "               Best central wavelength      = 4938.58A\n",
      "               Best dispersion              = 1.33295A/pix\n",
      "               Best wave/disp               = 3705.01\n",
      "               Final RMS of fit             = 0.189583\n",
      "             ---------------------------------------------------\n",
      "\u001b[1;32m[INFO]    ::\u001b[0m \u001b[1;34marc.py 497 detect_lines()\u001b[0m - Detecting lines...isolating the strongest, nonsaturated lines\n",
      "\u001b[1;32m[INFO]    ::\u001b[0m \u001b[1;34marc.py 497 detect_lines()\u001b[0m - Detecting lines...isolating the strongest, nonsaturated lines\n",
      "\u001b[1;32m[INFO]    ::\u001b[0m \u001b[1;34mautoid.py 1446 report_prelim()\u001b[0m - ---------------------------------------------------\n",
      "             Preliminary report for slit 25/45:\n",
      "               Pixels correlate with wavelength\n",
      "               Number of lines recovered    = 25\n",
      "               Number of lines analyzed     = 10\n",
      "               Number of pattern matches    = 7\n",
      "               Best central wavelength      = 5312.65A\n",
      "               Best dispersion              = 1.32758A/pix\n",
      "               Best wave/disp               = 4001.75\n",
      "               Final RMS of fit             = 0.13386\n",
      "             ---------------------------------------------------\n",
      "\u001b[1;32m[INFO]    ::\u001b[0m \u001b[1;34marc.py 497 detect_lines()\u001b[0m - Detecting lines...isolating the strongest, nonsaturated lines\n",
      "\u001b[1;32m[INFO]    ::\u001b[0m \u001b[1;34marc.py 497 detect_lines()\u001b[0m - Detecting lines...isolating the strongest, nonsaturated lines\n",
      "\u001b[1;32m[INFO]    ::\u001b[0m \u001b[1;34mautoid.py 1446 report_prelim()\u001b[0m - ---------------------------------------------------\n",
      "             Preliminary report for slit 26/45:\n",
      "               Pixels correlate with wavelength\n",
      "               Number of lines recovered    = 24\n",
      "               Number of lines analyzed     = 16\n",
      "               Number of pattern matches    = 11\n",
      "               Best central wavelength      = 4996.13A\n",
      "               Best dispersion              = 1.33295A/pix\n",
      "               Best wave/disp               = 3748.19\n",
      "               Final RMS of fit             = 0.20851\n",
      "             ---------------------------------------------------\n",
      "\u001b[1;32m[INFO]    ::\u001b[0m \u001b[1;34marc.py 497 detect_lines()\u001b[0m - Detecting lines...isolating the strongest, nonsaturated lines\n",
      "\u001b[1;32m[INFO]    ::\u001b[0m \u001b[1;34marc.py 497 detect_lines()\u001b[0m - Detecting lines...isolating the strongest, nonsaturated lines\n",
      "\u001b[1;32m[INFO]    ::\u001b[0m \u001b[1;34mautoid.py 1446 report_prelim()\u001b[0m - ---------------------------------------------------\n",
      "             Preliminary report for slit 27/45:\n",
      "               Pixels correlate with wavelength\n",
      "               Number of lines recovered    = 23\n",
      "               Number of lines analyzed     = 15\n",
      "               Number of pattern matches    = 10\n",
      "               Best central wavelength      = 4967.35A\n",
      "               Best dispersion              = 1.33833A/pix\n",
      "               Best wave/disp               = 3711.61\n",
      "               Final RMS of fit             = 0.153506\n",
      "             ---------------------------------------------------\n",
      "\u001b[1;32m[INFO]    ::\u001b[0m \u001b[1;34marc.py 497 detect_lines()\u001b[0m - Detecting lines...isolating the strongest, nonsaturated lines\n",
      "\u001b[1;32m[INFO]    ::\u001b[0m \u001b[1;34marc.py 497 detect_lines()\u001b[0m - Detecting lines...isolating the strongest, nonsaturated lines\n",
      "\u001b[1;32m[INFO]    ::\u001b[0m \u001b[1;34mautoid.py 1446 report_prelim()\u001b[0m - ---------------------------------------------------\n",
      "             Preliminary report for slit 28/45:\n",
      "               Pixels correlate with wavelength\n",
      "               Number of lines recovered    = 24\n",
      "               Number of lines analyzed     = 5\n",
      "               Number of pattern matches    = 6\n",
      "               Best central wavelength      = 7816.05A\n",
      "               Best dispersion              = 0.624666A/pix\n",
      "               Best wave/disp               = 12512.4\n",
      "               Final RMS of fit             = 6.60824e-12\n",
      "             ---------------------------------------------------\n",
      "\u001b[1;32m[INFO]    ::\u001b[0m \u001b[1;34marc.py 497 detect_lines()\u001b[0m - Detecting lines...isolating the strongest, nonsaturated lines\n",
      "\u001b[1;32m[INFO]    ::\u001b[0m \u001b[1;34marc.py 497 detect_lines()\u001b[0m - Detecting lines...isolating the strongest, nonsaturated lines\n",
      "\u001b[1;32m[INFO]    ::\u001b[0m \u001b[1;34mautoid.py 1446 report_prelim()\u001b[0m - ---------------------------------------------------\n",
      "             Preliminary report for slit 29/45:\n",
      "               Pixels correlate with wavelength\n",
      "               Number of lines recovered    = 26\n",
      "               Number of lines analyzed     = 8\n",
      "               Number of pattern matches    = 6\n",
      "               Best central wavelength      = 5427.75A\n",
      "               Best dispersion              = 0.997124A/pix\n",
      "               Best wave/disp               = 5443.4\n",
      "               Final RMS of fit             = 0.0815187\n",
      "             ---------------------------------------------------\n",
      "\u001b[1;32m[INFO]    ::\u001b[0m \u001b[1;34marc.py 497 detect_lines()\u001b[0m - Detecting lines...isolating the strongest, nonsaturated lines\n",
      "\u001b[1;32m[INFO]    ::\u001b[0m \u001b[1;34marc.py 497 detect_lines()\u001b[0m - Detecting lines...isolating the strongest, nonsaturated lines\n",
      "\u001b[1;32m[INFO]    ::\u001b[0m \u001b[1;34mautoid.py 1446 report_prelim()\u001b[0m - ---------------------------------------------------\n",
      "             Preliminary report for slit 30/45:\n",
      "               Pixels correlate with wavelength\n",
      "               Number of lines recovered    = 28\n",
      "               Number of lines analyzed     = 16\n",
      "               Number of pattern matches    = 10\n",
      "               Best central wavelength      = 5111.23A\n",
      "               Best dispersion              = 1.32758A/pix\n",
      "               Best wave/disp               = 3850.03\n",
      "               Final RMS of fit             = 0.264249\n",
      "             ---------------------------------------------------\n",
      "\u001b[1;32m[INFO]    ::\u001b[0m \u001b[1;34marc.py 497 detect_lines()\u001b[0m - Detecting lines...isolating the strongest, nonsaturated lines\n",
      "\u001b[1;32m[INFO]    ::\u001b[0m \u001b[1;34marc.py 497 detect_lines()\u001b[0m - Detecting lines...isolating the strongest, nonsaturated lines\n"
     ]
    },
    {
     "name": "stderr",
     "output_type": "stream",
     "text": [
      "\u001b[1;32m[INFO]    ::\u001b[0m \u001b[1;34mautoid.py 1446 report_prelim()\u001b[0m - ---------------------------------------------------\n",
      "             Preliminary report for slit 31/45:\n",
      "               Pixels correlate with wavelength\n",
      "               Number of lines recovered    = 24\n",
      "               Number of lines analyzed     = 19\n",
      "               Number of pattern matches    = 13\n",
      "               Best central wavelength      = 4334.31A\n",
      "               Best dispersion              = 1.34916A/pix\n",
      "               Best wave/disp               = 3212.59\n",
      "               Final RMS of fit             = 0.280185\n",
      "             ---------------------------------------------------\n",
      "\u001b[1;32m[INFO]    ::\u001b[0m \u001b[1;34marc.py 497 detect_lines()\u001b[0m - Detecting lines...isolating the strongest, nonsaturated lines\n",
      "\u001b[1;32m[INFO]    ::\u001b[0m \u001b[1;34marc.py 497 detect_lines()\u001b[0m - Detecting lines...isolating the strongest, nonsaturated lines\n",
      "\u001b[1;32m[INFO]    ::\u001b[0m \u001b[1;34mautoid.py 1446 report_prelim()\u001b[0m - ---------------------------------------------------\n",
      "             Preliminary report for slit 32/45:\n",
      "               Pixels anitcorrelate with wavelength\n",
      "               Number of lines recovered    = 23\n",
      "               Number of lines analyzed     = 4\n",
      "               Number of pattern matches    = 10\n",
      "               Best central wavelength      = 8276.45A\n",
      "               Best dispersion              = 1.08085A/pix\n",
      "               Best wave/disp               = 7657.32\n",
      "               Final RMS of fit             = 9.96517e-12\n",
      "             ---------------------------------------------------\n",
      "\u001b[1;32m[INFO]    ::\u001b[0m \u001b[1;34marc.py 497 detect_lines()\u001b[0m - Detecting lines...isolating the strongest, nonsaturated lines\n",
      "\u001b[1;32m[INFO]    ::\u001b[0m \u001b[1;34marc.py 497 detect_lines()\u001b[0m - Detecting lines...isolating the strongest, nonsaturated lines\n",
      "\u001b[1;32m[INFO]    ::\u001b[0m \u001b[1;34mautoid.py 1446 report_prelim()\u001b[0m - ---------------------------------------------------\n",
      "             Preliminary report for slit 33/45:\n",
      "               Pixels anitcorrelate with wavelength\n",
      "               Number of lines recovered    = 25\n",
      "               Number of lines analyzed     = 9\n",
      "               Number of pattern matches    = 7\n",
      "               Best central wavelength      = 5082.45A\n",
      "               Best dispersion              = 3.83303A/pix\n",
      "               Best wave/disp               = 1325.96\n",
      "               Final RMS of fit             = 0.205488\n",
      "             ---------------------------------------------------\n",
      "\u001b[1;32m[INFO]    ::\u001b[0m \u001b[1;34marc.py 497 detect_lines()\u001b[0m - Detecting lines...isolating the strongest, nonsaturated lines\n",
      "\u001b[1;32m[INFO]    ::\u001b[0m \u001b[1;34marc.py 497 detect_lines()\u001b[0m - Detecting lines...isolating the strongest, nonsaturated lines\n",
      "\u001b[1;32m[INFO]    ::\u001b[0m \u001b[1;34mautoid.py 1446 report_prelim()\u001b[0m - ---------------------------------------------------\n",
      "             Preliminary report for slit 34/45:\n",
      "               Pixels correlate with wavelength\n",
      "               Number of lines recovered    = 18\n",
      "               Number of lines analyzed     = 6\n",
      "               Number of pattern matches    = 4\n",
      "               Best central wavelength      = 9456.21A\n",
      "               Best dispersion              = 2.3157A/pix\n",
      "               Best wave/disp               = 4083.52\n",
      "               Final RMS of fit             = 1.22658e-11\n",
      "             ---------------------------------------------------\n",
      "\u001b[1;32m[INFO]    ::\u001b[0m \u001b[1;34marc.py 497 detect_lines()\u001b[0m - Detecting lines...isolating the strongest, nonsaturated lines\n",
      "\u001b[1;32m[INFO]    ::\u001b[0m \u001b[1;34marc.py 497 detect_lines()\u001b[0m - Detecting lines...isolating the strongest, nonsaturated lines\n",
      "\u001b[1;32m[INFO]    ::\u001b[0m \u001b[1;34mautoid.py 1446 report_prelim()\u001b[0m - ---------------------------------------------------\n",
      "             Preliminary report for slit 35/45:\n",
      "               Pixels correlate with wavelength\n",
      "               Number of lines recovered    = 27\n",
      "               Number of lines analyzed     = 15\n",
      "               Number of pattern matches    = 10\n",
      "               Best central wavelength      = 5111.23A\n",
      "               Best dispersion              = 1.33295A/pix\n",
      "               Best wave/disp               = 3834.54\n",
      "               Final RMS of fit             = 0.151076\n",
      "             ---------------------------------------------------\n",
      "\u001b[1;32m[INFO]    ::\u001b[0m \u001b[1;34marc.py 497 detect_lines()\u001b[0m - Detecting lines...isolating the strongest, nonsaturated lines\n",
      "\u001b[1;32m[INFO]    ::\u001b[0m \u001b[1;34marc.py 497 detect_lines()\u001b[0m - Detecting lines...isolating the strongest, nonsaturated lines\n",
      "\u001b[1;32m[INFO]    ::\u001b[0m \u001b[1;34mautoid.py 1446 report_prelim()\u001b[0m - ---------------------------------------------------\n",
      "             Preliminary report for slit 36/45:\n",
      "               Pixels anitcorrelate with wavelength\n",
      "               Number of lines recovered    = 24\n",
      "               Number of lines analyzed     = 7\n",
      "               Number of pattern matches    = 4\n",
      "               Best central wavelength      = 8909.49A\n",
      "               Best dispersion              = 3.99071A/pix\n",
      "               Best wave/disp               = 2232.56\n",
      "               Final RMS of fit             = 0.05402\n",
      "             ---------------------------------------------------\n",
      "\u001b[1;32m[INFO]    ::\u001b[0m \u001b[1;34marc.py 497 detect_lines()\u001b[0m - Detecting lines...isolating the strongest, nonsaturated lines\n",
      "\u001b[1;32m[INFO]    ::\u001b[0m \u001b[1;34marc.py 497 detect_lines()\u001b[0m - Detecting lines...isolating the strongest, nonsaturated lines\n",
      "\u001b[1;32m[INFO]    ::\u001b[0m \u001b[1;34mautoid.py 1446 report_prelim()\u001b[0m - ---------------------------------------------------\n",
      "             Preliminary report for slit 37/45:\n",
      "               Pixels correlate with wavelength\n",
      "               Number of lines recovered    = 22\n",
      "               Number of lines analyzed     = 4\n",
      "               Number of pattern matches    = 4\n",
      "               Best central wavelength      = 9168.46A\n",
      "               Best dispersion              = 1.9948A/pix\n",
      "               Best wave/disp               = 4596.17\n",
      "               Final RMS of fit             = 1.30957e-12\n",
      "             ---------------------------------------------------\n",
      "\u001b[1;32m[INFO]    ::\u001b[0m \u001b[1;34marc.py 497 detect_lines()\u001b[0m - Detecting lines...isolating the strongest, nonsaturated lines\n",
      "\u001b[1;32m[INFO]    ::\u001b[0m \u001b[1;34marc.py 497 detect_lines()\u001b[0m - Detecting lines...isolating the strongest, nonsaturated lines\n",
      "\u001b[1;32m[INFO]    ::\u001b[0m \u001b[1;34mautoid.py 1446 report_prelim()\u001b[0m - ---------------------------------------------------\n",
      "             Preliminary report for slit 38/45:\n",
      "               Pixels correlate with wavelength\n",
      "               Number of lines recovered    = 24\n",
      "               Number of lines analyzed     = 5\n",
      "               Number of pattern matches    = 12\n",
      "               Best central wavelength      = 9024.59A\n",
      "               Best dispersion              = 0.862418A/pix\n",
      "               Best wave/disp               = 10464.3\n",
      "               Final RMS of fit             = 8.84848e-12\n",
      "             ---------------------------------------------------\n",
      "\u001b[1;32m[INFO]    ::\u001b[0m \u001b[1;34marc.py 497 detect_lines()\u001b[0m - Detecting lines...isolating the strongest, nonsaturated lines\n",
      "\u001b[1;32m[INFO]    ::\u001b[0m \u001b[1;34marc.py 497 detect_lines()\u001b[0m - Detecting lines...isolating the strongest, nonsaturated lines\n",
      "\u001b[1;32m[INFO]    ::\u001b[0m \u001b[1;34mautoid.py 1446 report_prelim()\u001b[0m - ---------------------------------------------------\n",
      "             Preliminary report for slit 39/45:\n",
      "               Pixels correlate with wavelength\n",
      "               Number of lines recovered    = 23\n",
      "               Number of lines analyzed     = 7\n",
      "               Number of pattern matches    = 4\n",
      "               Best central wavelength      = 5024.9A\n",
      "               Best dispersion              = 1.65047A/pix\n",
      "               Best wave/disp               = 3044.52\n",
      "               Final RMS of fit             = 0.0685017\n",
      "             ---------------------------------------------------\n",
      "\u001b[1;32m[INFO]    ::\u001b[0m \u001b[1;34marc.py 497 detect_lines()\u001b[0m - Detecting lines...isolating the strongest, nonsaturated lines\n",
      "\u001b[1;32m[INFO]    ::\u001b[0m \u001b[1;34marc.py 497 detect_lines()\u001b[0m - Detecting lines...isolating the strongest, nonsaturated lines\n",
      "\u001b[1;32m[INFO]    ::\u001b[0m \u001b[1;34mautoid.py 1446 report_prelim()\u001b[0m - ---------------------------------------------------\n",
      "             Preliminary report for slit 40/45:\n",
      "               Pixels correlate with wavelength\n",
      "               Number of lines recovered    = 25\n",
      "               Number of lines analyzed     = 7\n",
      "               Number of pattern matches    = 6\n",
      "               Best central wavelength      = 5456.52A\n",
      "               Best dispersion              = 1.33295A/pix\n",
      "               Best wave/disp               = 4093.58\n",
      "               Final RMS of fit             = 0.0475713\n",
      "             ---------------------------------------------------\n",
      "\u001b[1;32m[INFO]    ::\u001b[0m \u001b[1;34marc.py 497 detect_lines()\u001b[0m - Detecting lines...isolating the strongest, nonsaturated lines\n",
      "\u001b[1;32m[INFO]    ::\u001b[0m \u001b[1;34marc.py 497 detect_lines()\u001b[0m - Detecting lines...isolating the strongest, nonsaturated lines\n"
     ]
    },
    {
     "name": "stderr",
     "output_type": "stream",
     "text": [
      "\u001b[1;32m[INFO]    ::\u001b[0m \u001b[1;34mautoid.py 1446 report_prelim()\u001b[0m - ---------------------------------------------------\n",
      "             Preliminary report for slit 41/45:\n",
      "               Pixels anitcorrelate with wavelength\n",
      "               Number of lines recovered    = 25\n",
      "               Number of lines analyzed     = 25\n",
      "               Number of pattern matches    = 7\n",
      "               Best central wavelength      = 9484.98A\n",
      "               Best dispersion              = 0.666288A/pix\n",
      "               Best wave/disp               = 14235.6\n",
      "               Final RMS of fit             = 1.32625e-11\n",
      "             ---------------------------------------------------\n",
      "\u001b[1;32m[INFO]    ::\u001b[0m \u001b[1;34marc.py 497 detect_lines()\u001b[0m - Detecting lines...isolating the strongest, nonsaturated lines\n",
      "\u001b[1;32m[INFO]    ::\u001b[0m \u001b[1;34marc.py 497 detect_lines()\u001b[0m - Detecting lines...isolating the strongest, nonsaturated lines\n",
      "\u001b[1;32m[INFO]    ::\u001b[0m \u001b[1;34mautoid.py 1446 report_prelim()\u001b[0m - ---------------------------------------------------\n",
      "             Preliminary report for slit 42/45:\n",
      "               Pixels correlate with wavelength\n",
      "               Number of lines recovered    = 24\n",
      "               Number of lines analyzed     = 16\n",
      "               Number of pattern matches    = 15\n",
      "               Best central wavelength      = 5024.9A\n",
      "               Best dispersion              = 1.33295A/pix\n",
      "               Best wave/disp               = 3769.77\n",
      "               Final RMS of fit             = 0.203211\n",
      "             ---------------------------------------------------\n",
      "\u001b[1;32m[INFO]    ::\u001b[0m \u001b[1;34marc.py 497 detect_lines()\u001b[0m - Detecting lines...isolating the strongest, nonsaturated lines\n",
      "\u001b[1;32m[INFO]    ::\u001b[0m \u001b[1;34marc.py 497 detect_lines()\u001b[0m - Detecting lines...isolating the strongest, nonsaturated lines\n",
      "\u001b[1;32m[INFO]    ::\u001b[0m \u001b[1;34mautoid.py 1446 report_prelim()\u001b[0m - ---------------------------------------------------\n",
      "             Preliminary report for slit 43/45:\n",
      "               Pixels anitcorrelate with wavelength\n",
      "               Number of lines recovered    = 22\n",
      "               Number of lines analyzed     = 4\n",
      "               Number of pattern matches    = 4\n",
      "               Best central wavelength      = 9398.66A\n",
      "               Best dispersion              = 2.32505A/pix\n",
      "               Best wave/disp               = 4042.34\n",
      "               Final RMS of fit             = 2.77979e-12\n",
      "             ---------------------------------------------------\n",
      "\u001b[1;32m[INFO]    ::\u001b[0m \u001b[1;34marc.py 497 detect_lines()\u001b[0m - Detecting lines...isolating the strongest, nonsaturated lines\n",
      "\u001b[1;32m[INFO]    ::\u001b[0m \u001b[1;34marc.py 497 detect_lines()\u001b[0m - Detecting lines...isolating the strongest, nonsaturated lines\n",
      "\u001b[1;32m[INFO]    ::\u001b[0m \u001b[1;34mautoid.py 1446 report_prelim()\u001b[0m - ---------------------------------------------------\n",
      "             Preliminary report for slit 44/45:\n",
      "               Pixels correlate with wavelength\n",
      "               Number of lines recovered    = 23\n",
      "               Number of lines analyzed     = 19\n",
      "               Number of pattern matches    = 17\n",
      "               Best central wavelength      = 4247.99A\n",
      "               Best dispersion              = 1.34374A/pix\n",
      "               Best wave/disp               = 3161.32\n",
      "               Final RMS of fit             = 0.202031\n",
      "             ---------------------------------------------------\n",
      "\u001b[1;32m[INFO]    ::\u001b[0m \u001b[1;34marc.py 497 detect_lines()\u001b[0m - Detecting lines...isolating the strongest, nonsaturated lines\n",
      "\u001b[1;32m[INFO]    ::\u001b[0m \u001b[1;34marc.py 497 detect_lines()\u001b[0m - Detecting lines...isolating the strongest, nonsaturated lines\n",
      "\u001b[1;32m[INFO]    ::\u001b[0m \u001b[1;34mautoid.py 1446 report_prelim()\u001b[0m - ---------------------------------------------------\n",
      "             Preliminary report for slit 45/45:\n",
      "               Pixels correlate with wavelength\n",
      "               Number of lines recovered    = 21\n",
      "               Number of lines analyzed     = 5\n",
      "               Number of pattern matches    = 4\n",
      "               Best central wavelength      = 8391.54A\n",
      "               Best dispersion              = 3.04608A/pix\n",
      "               Best wave/disp               = 2754.86\n",
      "               Final RMS of fit             = 2.17778e-12\n",
      "             ---------------------------------------------------\n",
      "\u001b[1;31m[WARNING] ::\u001b[0m \u001b[1;34mautoid.py 811 cross_match()\u001b[0m - ---------------------------------------------------\n",
      "             Cross-match report for slit 1/45:\n",
      "               Poor RMS (33.653)! Will try cross matching iteratively\n",
      "             ---------------------------------------------------\n",
      "\u001b[1;31m[WARNING] ::\u001b[0m \u001b[1;34mautoid.py 811 cross_match()\u001b[0m - ---------------------------------------------------\n",
      "             Cross-match report for slit 7/45:\n",
      "               Poor RMS (359.803)! Will try cross matching iteratively\n",
      "             ---------------------------------------------------\n",
      "\u001b[1;31m[WARNING] ::\u001b[0m \u001b[1;34mautoid.py 811 cross_match()\u001b[0m - ---------------------------------------------------\n",
      "             Cross-match report for slit 8/45:\n",
      "               Poor RMS (11.549)! Will try cross matching iteratively\n",
      "             ---------------------------------------------------\n",
      "\u001b[1;31m[WARNING] ::\u001b[0m \u001b[1;34mautoid.py 811 cross_match()\u001b[0m - ---------------------------------------------------\n",
      "             Cross-match report for slit 16/45:\n",
      "               Poor RMS (103.461)! Will try cross matching iteratively\n",
      "             ---------------------------------------------------\n",
      "\u001b[1;31m[WARNING] ::\u001b[0m \u001b[1;34mautoid.py 811 cross_match()\u001b[0m - ---------------------------------------------------\n",
      "             Cross-match report for slit 19/45:\n",
      "               Poor RMS (15.020)! Will try cross matching iteratively\n",
      "             ---------------------------------------------------\n",
      "\u001b[1;31m[WARNING] ::\u001b[0m \u001b[1;34mautoid.py 811 cross_match()\u001b[0m - ---------------------------------------------------\n",
      "             Cross-match report for slit 23/45:\n",
      "               Poor RMS (344.759)! Will try cross matching iteratively\n",
      "             ---------------------------------------------------\n",
      "\u001b[1;31m[WARNING] ::\u001b[0m \u001b[1;34mautoid.py 811 cross_match()\u001b[0m - ---------------------------------------------------\n",
      "             Cross-match report for slit 28/45:\n",
      "               Poor RMS (185.532)! Will try cross matching iteratively\n",
      "             ---------------------------------------------------\n",
      "\u001b[1;31m[WARNING] ::\u001b[0m \u001b[1;34mautoid.py 811 cross_match()\u001b[0m - ---------------------------------------------------\n",
      "             Cross-match report for slit 32/45:\n",
      "               Poor RMS (200.667)! Will try cross matching iteratively\n",
      "             ---------------------------------------------------\n",
      "\u001b[1;31m[WARNING] ::\u001b[0m \u001b[1;34mautoid.py 811 cross_match()\u001b[0m - ---------------------------------------------------\n",
      "             Cross-match report for slit 33/45:\n",
      "               Poor RMS (386.430)! Will try cross matching iteratively\n",
      "             ---------------------------------------------------\n",
      "\u001b[1;31m[WARNING] ::\u001b[0m \u001b[1;34mautoid.py 811 cross_match()\u001b[0m - ---------------------------------------------------\n",
      "             Cross-match report for slit 41/45:\n",
      "               Poor RMS (83.932)! Will try cross matching iteratively\n",
      "             ---------------------------------------------------\n",
      "\u001b[1;31m[WARNING] ::\u001b[0m \u001b[1;34mautoid.py 811 cross_match()\u001b[0m - ---------------------------------------------------\n",
      "             Cross-match report for slit 1/45:\n",
      "               Poor RMS (200.492)! Will try cross matching iteratively\n",
      "             ---------------------------------------------------\n",
      "\u001b[1;31m[WARNING] ::\u001b[0m \u001b[1;34mautoid.py 811 cross_match()\u001b[0m - ---------------------------------------------------\n",
      "             Cross-match report for slit 7/45:\n",
      "               Poor RMS (359.106)! Will try cross matching iteratively\n",
      "             ---------------------------------------------------\n",
      "\u001b[1;31m[WARNING] ::\u001b[0m \u001b[1;34mautoid.py 811 cross_match()\u001b[0m - ---------------------------------------------------\n",
      "             Cross-match report for slit 8/45:\n",
      "               Poor RMS (11.549)! Will try cross matching iteratively\n",
      "             ---------------------------------------------------\n",
      "\u001b[1;31m[WARNING] ::\u001b[0m \u001b[1;34mautoid.py 811 cross_match()\u001b[0m - ---------------------------------------------------\n",
      "             Cross-match report for slit 16/45:\n",
      "               Poor RMS (103.461)! Will try cross matching iteratively\n",
      "             ---------------------------------------------------\n"
     ]
    },
    {
     "name": "stderr",
     "output_type": "stream",
     "text": [
      "\u001b[1;31m[WARNING] ::\u001b[0m \u001b[1;34mautoid.py 811 cross_match()\u001b[0m - ---------------------------------------------------\n",
      "             Cross-match report for slit 19/45:\n",
      "               Poor RMS (15.020)! Will try cross matching iteratively\n",
      "             ---------------------------------------------------\n",
      "\u001b[1;31m[WARNING] ::\u001b[0m \u001b[1;34mautoid.py 811 cross_match()\u001b[0m - ---------------------------------------------------\n",
      "             Cross-match report for slit 23/45:\n",
      "               Poor RMS (344.759)! Will try cross matching iteratively\n",
      "             ---------------------------------------------------\n",
      "\u001b[1;31m[WARNING] ::\u001b[0m \u001b[1;34mautoid.py 811 cross_match()\u001b[0m - ---------------------------------------------------\n",
      "             Cross-match report for slit 28/45:\n",
      "               Poor RMS (185.532)! Will try cross matching iteratively\n",
      "             ---------------------------------------------------\n",
      "\u001b[1;31m[WARNING] ::\u001b[0m \u001b[1;34mautoid.py 811 cross_match()\u001b[0m - ---------------------------------------------------\n",
      "             Cross-match report for slit 32/45:\n",
      "               Poor RMS (200.667)! Will try cross matching iteratively\n",
      "             ---------------------------------------------------\n",
      "\u001b[1;31m[WARNING] ::\u001b[0m \u001b[1;34mautoid.py 811 cross_match()\u001b[0m - ---------------------------------------------------\n",
      "             Cross-match report for slit 33/45:\n",
      "               Poor RMS (386.430)! Will try cross matching iteratively\n",
      "             ---------------------------------------------------\n",
      "\u001b[1;31m[WARNING] ::\u001b[0m \u001b[1;34mautoid.py 811 cross_match()\u001b[0m - ---------------------------------------------------\n",
      "             Cross-match report for slit 41/45:\n",
      "               Poor RMS (83.932)! Will try cross matching iteratively\n",
      "             ---------------------------------------------------\n"
     ]
    },
    {
     "name": "stdout",
     "output_type": "stream",
     "text": [
      "> /data/Projects/Python/PypeIt/pypeit/core/wavecal/autoid.py(543)run_brute()\n",
      "-> self.finalize_fit()\n"
     ]
    }
   ],
   "source": [
    "pypeIt.reduce_all()"
   ]
  },
  {
   "cell_type": "code",
   "execution_count": null,
   "metadata": {},
   "outputs": [],
   "source": [
    "pypeIt.caliBrate.traceSlits.tslits_dict"
   ]
  },
  {
   "cell_type": "markdown",
   "metadata": {},
   "source": [
    "## Slits"
   ]
  },
  {
   "cell_type": "markdown",
   "metadata": {},
   "source": [
    "### Generate trace image"
   ]
  },
  {
   "cell_type": "code",
   "execution_count": null,
   "metadata": {},
   "outputs": [],
   "source": [
    "pypeIt.caliBrate.trace_image_files"
   ]
  },
  {
   "cell_type": "code",
   "execution_count": null,
   "metadata": {
    "collapsed": true
   },
   "outputs": [],
   "source": [
    "# Instantiate\n",
    "traceImage = traceimage.TraceImage(pypeitSetup.spectrograph,\n",
    "                               file_list=pypeIt.caliBrate.trace_image_files, det=1,\n",
    "                               par=pypeIt.caliBrate.par['traceframe'])"
   ]
  },
  {
   "cell_type": "code",
   "execution_count": null,
   "metadata": {},
   "outputs": [],
   "source": [
    "# Process\n",
    "mstrace = traceImage.process(bias_subtract='overscan', trim=pypeIt.caliBrate.par['trim'], apply_gain=True)"
   ]
  },
  {
   "cell_type": "code",
   "execution_count": null,
   "metadata": {
    "collapsed": true
   },
   "outputs": [],
   "source": [
    "traceImage.show()"
   ]
  },
  {
   "cell_type": "markdown",
   "metadata": {},
   "source": [
    "### binarr"
   ]
  },
  {
   "cell_type": "code",
   "execution_count": null,
   "metadata": {},
   "outputs": [],
   "source": [
    "_= pypeIt.caliBrate.traceSlits.make_binarr()"
   ]
  },
  {
   "cell_type": "code",
   "execution_count": null,
   "metadata": {},
   "outputs": [],
   "source": [
    "32*0.0728*2"
   ]
  },
  {
   "cell_type": "markdown",
   "metadata": {},
   "source": [
    "### Plate scale"
   ]
  },
  {
   "cell_type": "code",
   "execution_count": null,
   "metadata": {},
   "outputs": [],
   "source": [
    "# Compute the plate scale in arcsec which is needed to trim short slits\n",
    "scidx = np.where(pypeIt.caliBrate.fitstbl.find_frames('science', sci_ID=pypeIt.caliBrate.sci_ID))[0][0]\n",
    "binspatial, binspectral = parse.parse_binning(pypeIt.caliBrate.fitstbl['binning'][scidx])\n",
    "## Old code: binspatial, binspectral = parse.parse_binning(self.fitstbl['binning'][scidx])\n",
    "plate_scale = binspatial*pypeitSetup.spectrograph.detector[0]['platescale']\n",
    "plate_scale"
   ]
  },
  {
   "cell_type": "markdown",
   "metadata": {},
   "source": [
    "### Edgearr"
   ]
  },
  {
   "cell_type": "code",
   "execution_count": null,
   "metadata": {},
   "outputs": [],
   "source": [
    "_= pypeIt.caliBrate.traceSlits._edgearr_from_binarr()"
   ]
  },
  {
   "cell_type": "code",
   "execution_count": null,
   "metadata": {
    "collapsed": true
   },
   "outputs": [],
   "source": [
    "pypeIt.caliBrate.traceSlits.show('edgearr')"
   ]
  },
  {
   "cell_type": "markdown",
   "metadata": {},
   "source": [
    "### Match edges"
   ]
  },
  {
   "cell_type": "code",
   "execution_count": null,
   "metadata": {},
   "outputs": [],
   "source": [
    "pypeIt.caliBrate.traceSlits._match_edges()"
   ]
  },
  {
   "cell_type": "markdown",
   "metadata": {},
   "source": [
    "### Assign edges"
   ]
  },
  {
   "cell_type": "code",
   "execution_count": null,
   "metadata": {},
   "outputs": [],
   "source": [
    "pypeIt.caliBrate.traceSlits._assign_edges()"
   ]
  },
  {
   "cell_type": "markdown",
   "metadata": {},
   "source": [
    "### Final left/right"
   ]
  },
  {
   "cell_type": "code",
   "execution_count": null,
   "metadata": {},
   "outputs": [],
   "source": [
    "pypeIt.caliBrate.traceSlits._final_left_right()"
   ]
  },
  {
   "cell_type": "markdown",
   "metadata": {},
   "source": [
    "### Mslit magic"
   ]
  },
  {
   "cell_type": "code",
   "execution_count": null,
   "metadata": {},
   "outputs": [],
   "source": [
    "pypeIt.caliBrate.traceSlits._mslit_tcrude()"
   ]
  },
  {
   "cell_type": "code",
   "execution_count": null,
   "metadata": {},
   "outputs": [],
   "source": [
    "pypeIt.caliBrate.traceSlits._mslit_sync()"
   ]
  },
  {
   "cell_type": "markdown",
   "metadata": {},
   "source": [
    "### Fit Edges"
   ]
  },
  {
   "cell_type": "code",
   "execution_count": null,
   "metadata": {},
   "outputs": [],
   "source": [
    "pypeIt.caliBrate.traceSlits._set_lrminx()\n",
    "pypeIt.caliBrate.traceSlits._fit_edges('left')\n",
    "pypeIt.caliBrate.traceSlits._fit_edges('right')"
   ]
  },
  {
   "cell_type": "markdown",
   "metadata": {},
   "source": [
    "### Synchronize"
   ]
  },
  {
   "cell_type": "code",
   "execution_count": null,
   "metadata": {},
   "outputs": [],
   "source": [
    "pypeIt.caliBrate.traceSlits._synchronize()"
   ]
  },
  {
   "cell_type": "markdown",
   "metadata": {},
   "source": [
    "### PCA"
   ]
  },
  {
   "cell_type": "code",
   "execution_count": null,
   "metadata": {},
   "outputs": [],
   "source": [
    "pypeIt.caliBrate.traceSlits._pca()"
   ]
  },
  {
   "cell_type": "code",
   "execution_count": null,
   "metadata": {},
   "outputs": [],
   "source": [
    "pypeIt.caliBrate.traceSlits.show('edges')"
   ]
  },
  {
   "cell_type": "code",
   "execution_count": null,
   "metadata": {},
   "outputs": [],
   "source": [
    "pypeIt.caliBrate.traceImage.show()"
   ]
  },
  {
   "cell_type": "code",
   "execution_count": null,
   "metadata": {
    "collapsed": true
   },
   "outputs": [],
   "source": [
    "pypeIt.caliBrate.traceSlits.show('siglev')"
   ]
  },
  {
   "cell_type": "code",
   "execution_count": null,
   "metadata": {
    "collapsed": true
   },
   "outputs": [],
   "source": [
    "pypeIt.caliBrate.traceSlits.show('edgearr')"
   ]
  },
  {
   "cell_type": "code",
   "execution_count": null,
   "metadata": {},
   "outputs": [],
   "source": [
    "pypeIt.caliBrate.par"
   ]
  },
  {
   "cell_type": "markdown",
   "metadata": {},
   "source": [
    "----"
   ]
  },
  {
   "cell_type": "markdown",
   "metadata": {},
   "source": [
    "## Wavelengths"
   ]
  },
  {
   "cell_type": "code",
   "execution_count": null,
   "metadata": {},
   "outputs": [],
   "source": [
    "pypeIt.caliBrate.waveCalib.arccen.shape"
   ]
  },
  {
   "cell_type": "code",
   "execution_count": null,
   "metadata": {
    "collapsed": true
   },
   "outputs": [],
   "source": [
    "from pypeit import debugger"
   ]
  },
  {
   "cell_type": "code",
   "execution_count": null,
   "metadata": {},
   "outputs": [],
   "source": [
    "debugger.plot1d(pypeIt.caliBrate.waveCalib.arccen[:,1])"
   ]
  },
  {
   "cell_type": "markdown",
   "metadata": {},
   "source": [
    "### Save to disk"
   ]
  },
  {
   "cell_type": "code",
   "execution_count": null,
   "metadata": {
    "collapsed": true
   },
   "outputs": [],
   "source": [
    "tdict = {}\n",
    "tdict['arccen'] = pypeIt.caliBrate.waveCalib.arccen\n",
    "#\n",
    "jdict = ltu.jsonify(tdict)"
   ]
  },
  {
   "cell_type": "code",
   "execution_count": null,
   "metadata": {},
   "outputs": [],
   "source": [
    "ltu.savejson('GMOS_R400_blue.json', jdict)"
   ]
  },
  {
   "cell_type": "markdown",
   "metadata": {},
   "source": [
    "----"
   ]
  },
  {
   "cell_type": "code",
   "execution_count": null,
   "metadata": {
    "collapsed": true
   },
   "outputs": [],
   "source": [
    "IDpixels = np.array([802.14, 636.01, 487.28, 322.49, 31.8])\n",
    "IDwave =   np.array([5189.191, 4966.465, 4766.197, 4546.3258, 4159.762])"
   ]
  },
  {
   "cell_type": "code",
   "execution_count": null,
   "metadata": {
    "collapsed": true
   },
   "outputs": [],
   "source": [
    "dwv = (IDwave-np.roll(IDwave,1))/(IDpixels-np.roll(IDpixels,1))"
   ]
  },
  {
   "cell_type": "code",
   "execution_count": null,
   "metadata": {},
   "outputs": [],
   "source": [
    "dwv/2"
   ]
  },
  {
   "cell_type": "code",
   "execution_count": null,
   "metadata": {
    "collapsed": true
   },
   "outputs": [],
   "source": []
  }
 ],
 "metadata": {
  "kernelspec": {
   "display_name": "Python 3",
   "language": "python",
   "name": "python3"
  },
  "language_info": {
   "codemirror_mode": {
    "name": "ipython",
    "version": 3
   },
   "file_extension": ".py",
   "mimetype": "text/x-python",
   "name": "python",
   "nbconvert_exporter": "python",
   "pygments_lexer": "ipython3",
   "version": "3.6.5"
  }
 },
 "nbformat": 4,
 "nbformat_minor": 2
}
