{
 "cells": [
  {
   "cell_type": "markdown",
   "metadata": {},
   "source": [
    "# Demo of PYPIT on GMOS Longslit [v1.1]"
   ]
  },
  {
   "cell_type": "code",
   "execution_count": 1,
   "metadata": {
    "collapsed": true
   },
   "outputs": [],
   "source": [
    "# import\n",
    "from importlib import reload\n",
    "import os\n",
    "import glob\n",
    "import numpy as np\n",
    "\n",
    "from astropy.io import fits\n",
    "\n",
    "# A few core routines\n",
    "from pypit.core import arsetup\n",
    "from pypit.core import arsort\n",
    "from pypit import arpixels\n",
    "from pypit.core import arprocimg\n",
    "from pypit.core import arwave\n",
    "from pypit.core import arsave\n",
    "from pypit import arutils\n",
    "from pypit import arload\n",
    "\n",
    "# Classes\n",
    "from pypit import calibrations\n",
    "from pypit import fluxspec\n",
    "from pypit import pypitsetup\n",
    "from pypit import scienceimage\n",
    "\n",
    "# Spectrgraph and Settings\n",
    "from pypit.spectrographs.util import load_spectrograph\n",
    "from pypit.par import pypitpar"
   ]
  },
  {
   "cell_type": "markdown",
   "metadata": {},
   "source": [
    "## To play along, you need the Development suite and the $PYPIT_DEV environmental variable pointed at it"
   ]
  },
  {
   "cell_type": "code",
   "execution_count": 2,
   "metadata": {},
   "outputs": [
    {
     "data": {
      "text/plain": [
       "'/data/Projects/Python/PYPIT-development-suite/'"
      ]
     },
     "execution_count": 2,
     "metadata": {},
     "output_type": "execute_result"
    }
   ],
   "source": [
    "os.getenv('PYPIT_DEV')"
   ]
  },
  {
   "cell_type": "markdown",
   "metadata": {},
   "source": [
    "## Spectrograph + Settings"
   ]
  },
  {
   "cell_type": "code",
   "execution_count": 3,
   "metadata": {
    "collapsed": true
   },
   "outputs": [],
   "source": [
    "spectro_name='gemini_gmos_south'"
   ]
  },
  {
   "cell_type": "code",
   "execution_count": 4,
   "metadata": {
    "collapsed": true
   },
   "outputs": [],
   "source": [
    "spectrograph = load_spectrograph(spectrograph=spectro_name)"
   ]
  },
  {
   "cell_type": "code",
   "execution_count": 5,
   "metadata": {},
   "outputs": [
    {
     "data": {
      "text/plain": [
       "<GeminiGMOSSSpectrograph:  spectrograph=gemini_gmos_south, camera=GMOS-S>"
      ]
     },
     "execution_count": 5,
     "metadata": {},
     "output_type": "execute_result"
    }
   ],
   "source": [
    "spectrograph"
   ]
  },
  {
   "cell_type": "markdown",
   "metadata": {},
   "source": [
    "### Settings"
   ]
  },
  {
   "cell_type": "code",
   "execution_count": 6,
   "metadata": {
    "collapsed": true
   },
   "outputs": [],
   "source": [
    "calib_par = pypitpar.CalibrationsPar(badpix=False,\n",
    "                                     biasframe=pypitpar.FrameGroupPar('bias',\n",
    "                                                                      useframe='overscan'))"
   ]
  },
  {
   "cell_type": "code",
   "execution_count": 7,
   "metadata": {},
   "outputs": [
    {
     "data": {
      "text/plain": [
       "['caldir',\n",
       " 'masters',\n",
       " 'setup',\n",
       " 'trim',\n",
       " 'badpix',\n",
       " 'biasframe',\n",
       " 'arcframe',\n",
       " 'pixelflatframe',\n",
       " 'traceframe',\n",
       " 'flatfield',\n",
       " 'wavelengths',\n",
       " 'slits',\n",
       " 'tilts',\n",
       " 'wavecalib']"
      ]
     },
     "execution_count": 7,
     "metadata": {},
     "output_type": "execute_result"
    }
   ],
   "source": [
    "calib_par.keys()"
   ]
  },
  {
   "cell_type": "markdown",
   "metadata": {},
   "source": [
    "## Build the fitstbl"
   ]
  },
  {
   "cell_type": "markdown",
   "metadata": {},
   "source": [
    "### Files"
   ]
  },
  {
   "cell_type": "code",
   "execution_count": 8,
   "metadata": {},
   "outputs": [
    {
     "data": {
      "text/plain": [
       "19"
      ]
     },
     "execution_count": 8,
     "metadata": {},
     "output_type": "execute_result"
    }
   ],
   "source": [
    "gemini_gmos_files = glob.glob(os.getenv('PYPIT_DEV')+'RAW_DATA/Gemini_GMOS/B600/S2018*')\n",
    "gemini_gmos_files.sort()\n",
    "len(gemini_gmos_files)"
   ]
  },
  {
   "cell_type": "code",
   "execution_count": 9,
   "metadata": {},
   "outputs": [
    {
     "data": {
      "text/plain": [
       "['/data/Projects/Python/PYPIT-development-suite/RAW_DATA/Gemini_GMOS/B600/S20180711S0180.fits',\n",
       " '/data/Projects/Python/PYPIT-development-suite/RAW_DATA/Gemini_GMOS/B600/S20180711S0181.fits',\n",
       " '/data/Projects/Python/PYPIT-development-suite/RAW_DATA/Gemini_GMOS/B600/S20180711S0182.fits',\n",
       " '/data/Projects/Python/PYPIT-development-suite/RAW_DATA/Gemini_GMOS/B600/S20180711S0183.fits',\n",
       " '/data/Projects/Python/PYPIT-development-suite/RAW_DATA/Gemini_GMOS/B600/S20180711S0184.fits',\n",
       " '/data/Projects/Python/PYPIT-development-suite/RAW_DATA/Gemini_GMOS/B600/S20180711S0185.fits',\n",
       " '/data/Projects/Python/PYPIT-development-suite/RAW_DATA/Gemini_GMOS/B600/S20180711S0186.fits',\n",
       " '/data/Projects/Python/PYPIT-development-suite/RAW_DATA/Gemini_GMOS/B600/S20180711S0187.fits',\n",
       " '/data/Projects/Python/PYPIT-development-suite/RAW_DATA/Gemini_GMOS/B600/S20180711S0188.fits',\n",
       " '/data/Projects/Python/PYPIT-development-suite/RAW_DATA/Gemini_GMOS/B600/S20180711S0189.fits',\n",
       " '/data/Projects/Python/PYPIT-development-suite/RAW_DATA/Gemini_GMOS/B600/S20180711S0190.fits',\n",
       " '/data/Projects/Python/PYPIT-development-suite/RAW_DATA/Gemini_GMOS/B600/S20180711S0256.fits',\n",
       " '/data/Projects/Python/PYPIT-development-suite/RAW_DATA/Gemini_GMOS/B600/S20180711S0257.fits',\n",
       " '/data/Projects/Python/PYPIT-development-suite/RAW_DATA/Gemini_GMOS/B600/S20180711S0258.fits',\n",
       " '/data/Projects/Python/PYPIT-development-suite/RAW_DATA/Gemini_GMOS/B600/S20180711S0259.fits',\n",
       " '/data/Projects/Python/PYPIT-development-suite/RAW_DATA/Gemini_GMOS/B600/S20180711S0260.fits',\n",
       " '/data/Projects/Python/PYPIT-development-suite/RAW_DATA/Gemini_GMOS/B600/S20180711S0281.fits',\n",
       " '/data/Projects/Python/PYPIT-development-suite/RAW_DATA/Gemini_GMOS/B600/S20180711S0282.fits',\n",
       " '/data/Projects/Python/PYPIT-development-suite/RAW_DATA/Gemini_GMOS/B600/S20180711S0283.fits']"
      ]
     },
     "execution_count": 9,
     "metadata": {},
     "output_type": "execute_result"
    }
   ],
   "source": [
    "gemini_gmos_files"
   ]
  },
  {
   "cell_type": "code",
   "execution_count": 10,
   "metadata": {},
   "outputs": [
    {
     "data": {
      "text/plain": [
       "['/data/Projects/Python/PYPIT-development-suite/RAW_DATA/Gemini_GMOS/B600/S20180711S0183.fits',\n",
       " '/data/Projects/Python/PYPIT-development-suite/RAW_DATA/Gemini_GMOS/B600/S20180711S0184.fits',\n",
       " '/data/Projects/Python/PYPIT-development-suite/RAW_DATA/Gemini_GMOS/B600/S20180711S0185.fits',\n",
       " '/data/Projects/Python/PYPIT-development-suite/RAW_DATA/Gemini_GMOS/B600/S20180711S0186.fits',\n",
       " '/data/Projects/Python/PYPIT-development-suite/RAW_DATA/Gemini_GMOS/B600/S20180711S0259.fits']"
      ]
     },
     "execution_count": 10,
     "metadata": {},
     "output_type": "execute_result"
    }
   ],
   "source": [
    "# restricting to 530nm\n",
    "gemini_gmos_files_530 = gemini_gmos_files[3:7] + [gemini_gmos_files[-5]]\n",
    "gemini_gmos_files_530"
   ]
  },
  {
   "cell_type": "markdown",
   "metadata": {},
   "source": [
    "### Looking at the Headers"
   ]
  },
  {
   "cell_type": "code",
   "execution_count": 11,
   "metadata": {},
   "outputs": [
    {
     "data": {
      "text/plain": [
       "SIMPLE  =                    T / file does conform to FITS standard             \n",
       "BITPIX  =                   16 / number of bits per data pixel                  \n",
       "NAXIS   =                    0 / number of data axes                            \n",
       "EXTEND  =                    T / FITS dataset may contain extensions            \n",
       "COMMENT   FITS (Flexible Image Transport System) format is defined in 'Astronomy\n",
       "COMMENT   and Astrophysics', volume 376, page 359; bibcode: 2001A&A...376..359H \n",
       "INSTRUME= 'GMOS-S  '           / Instrument used to acquire data                \n",
       "OBJECT  = 'ESO-606-G036'       / Object Name                                    \n",
       "OBSTYPE = 'OBJECT  '           / Observation type                               \n",
       "OBSCLASS= 'acq     '           / Observe class                                  \n",
       "GEMPRGID= 'GS-2018A-Q-205'     / Gemini programme ID                            \n",
       "OBSID   = 'GS-2018A-Q-205-31'  / Observation ID / Data label                    \n",
       "DATALAB = 'GS-2018A-Q-205-31-003' / DHS data label                              \n",
       "OBSERVER= 'D. Sanmartim'       / Observer                                       \n",
       "OBSERVAT= 'Gemini-South'       / Name of telescope (Gemini-North|Gemini-South)  \n",
       "TELESCOP= 'Gemini-South'       / Gemini-North                                   \n",
       "PARALLAX=                   0. / Parallax of Target                             \n",
       "RADVEL  =                   0. / Heliocentric Radial Velocity                   \n",
       "EPOCH   =                2000. / Epoch for Target coordinates                   \n",
       "EQUINOX =                2000. / Equinox of coordinate system                   \n",
       "TRKEQUIN=                2000. / Tracking equinox                               \n",
       "SSA     = 'E. Wenderoth'       / SSA                                            \n",
       "RA      =           333.853125 / Right Ascension                                \n",
       "DEC     =         -19.58527778 / Declination of Target                          \n",
       "ELEVATIO=     71.1827722222222 / Current Elevation                              \n",
       "AZIMUTH =     59.2012541666667 / Current Azimuth                                \n",
       "CRPA    =    -101.902113862246 / Current Cass Rotator Position Angle            \n",
       "HA      = '-01:08:35.71'       / Telescope hour angle                           \n",
       "LT      = '03:34:16.7'         / Local time at start of observation             \n",
       "TRKFRAME= 'FK5     '           / Tracking co-ordinate                           \n",
       "DECTRACK=                   0. / Differential tracking rate Dec                 \n",
       "TRKEPOCH=         58310.268776 / Differential tracking reference epoch          \n",
       "RATRACK =                   0. / Differential tracking rate RA                  \n",
       "FRAME   = 'FK5     '           / Target coordinate system                       \n",
       "PMDEC   =                   0. / Proper Motion in Declination                   \n",
       "PMRA    =                   0. / Proper Motion in RA                            \n",
       "WAVELENG=                6300. / Effective Target Wavelength                    \n",
       "RAWIQ   = '85-percentile'      / Raw Image Quality                              \n",
       "RAWCC   = '70-percentile'      / Raw Cloud Cover                                \n",
       "RAWWV   = 'UNKNOWN '           / Raw Water Vapour/Transparency                  \n",
       "RAWBG   = '80-percentile'      / Raw Background                                 \n",
       "RAWPIREQ= 'YES     '           / PI Requirements Met                            \n",
       "RAWGEMQA= 'USABLE  '           / Gemini Quality Assessment                      \n",
       "CGUIDMOD= 'Basic   '           / Driving mode for carousel                      \n",
       "UT      = '06:34:17.7'         / UT at observation start                        \n",
       "DATE    = '2018-07-11'         / UT Date of observation (YYYY-MM-DD)            \n",
       "M2BAFFLE= 'VISIBLE '           / Position of M2 baffle                          \n",
       "M2CENBAF= 'CLOSED  '           / Position of M2 central hole baffle             \n",
       "ST      = '21:07:50.8'         / Sidereal time at the start of the exposure     \n",
       "XOFFSET =    -1.08139114520958 / Telescope offset in x in arcsec                \n",
       "YOFFSET =    0.910714007132838 / Telescope offset in y in arcsec                \n",
       "POFFSET =     1.07980000316546 / Telescope offset in p in arcsec                \n",
       "QOFFSET =   -0.912600002678895 / Telescope offset in q in arcsec                \n",
       "RAOFFSET=     1.39317422381637 / Telescope offset in RA in arcsec               \n",
       "DECOFFSE=    0.240566817785183 / Telescope offset in DEC in arcsec              \n",
       "RATRGOFF=                   0. / Target offset in RA in arcsec                  \n",
       "DECTRGOF=                   0. / Target offset in DEC in arcsec                 \n",
       "PA      =                 310. / Sky Position Angle at start of exposure        \n",
       "IAA     =                359.9 / Instrument Alignment Angle                     \n",
       "SFRT2   =                -0.41 / Science fold rotation angle (degrees)          \n",
       "SFTILT  =                44.98 / Science fold tilt angle (degrees)              \n",
       "SFLINEAR=                  -3. / Science fold linear position (mm)              \n",
       "AOFOLD  = 'park-pos.'          / AO Pick-Off Mirror Position                    \n",
       "PWFS1_ST= 'parked  '           / PWFS1 probe state (frozen,guiding,parked)      \n",
       "PWFS2_ST= 'parked  '           / PWFS2 probe state (frozen,guiding,parked)      \n",
       "OIWFS_ST= 'guiding '           / OIWFS probe state (frozen,guiding,parked)      \n",
       "AOWFS_ST= 'parked  '           / AOWFS probe state (frozen,guiding,parked)      \n",
       "SCIBAND =                    2 / Science Ranking Band                           \n",
       "REQIQ   = '85-percentile'      / Requested Image Quality                        \n",
       "REQCC   = '80-percentile'      / Requested Cloud Cover                          \n",
       "REQBG   = '80-percentile'      / Requested Background                           \n",
       "REQWV   = 'Any     '           / Requested Water Vapour                         \n",
       "NUMREQTW=                    0 / Number of Requested Timing Window REQTW entries\n",
       "REQMINAM=                   1. / Requested Minimum Airmass                      \n",
       "REQMAXAM=                  1.3 / Requested Maximum Airmass                      \n",
       "OIARA   =          333.8358375 / RA of OIWFS guide star                         \n",
       "OIARV   =                   0. / OIWFS Heliocentric Radial Velocity             \n",
       "OIAWAVEL=                6500. / OIWFS Effective Target Wavelength              \n",
       "OIADEC  =         -19.59176389 / Declination of OIWFS guide star                \n",
       "OIAEPOCH=                2000. / Epoch for OIWFS guide star coordinates         \n",
       "OIAEQUIN=                2000. / Equinox for OIWFS guide star coordinates       \n",
       "OIAFRAME= 'FK5     '           / OIWFS Target co-ordinate system                \n",
       "OIAOBJEC= '353-193502'         / Object Name for OIWFS, Chop A                  \n",
       "OIAPMDEC=               0.0019 / OIWFS Proper Motion in Declination             \n",
       "OIAPMRA =              0.00068 / OIWFS Proper Motion in RA                      \n",
       "OIAPARAL=                   0. / OIWFS Parallax of Target                       \n",
       "OIFREQ  =               -9999. / OIWFS sampling frequency (Hz)                  \n",
       "HUMIDITY=                  16. / The Relative Humidity (fraction, 0..101).      \n",
       "TAMBIENT=                  8.7 / The ambient temp (C).                          \n",
       "TAMBIEN2=                47.66 / The ambient temp (F).                          \n",
       "PRESSURE=            546.20384 / The atmospheric pressure (mm Hg).              \n",
       "PRESSUR2=               72800. / The atmospheric pressure (Pa).                 \n",
       "DEWPOINT=                -16.1 / The dew point (C).                             \n",
       "DEWPOIN2=                 3.02 / The dew point (F).                             \n",
       "WINDSPEE=                  8.5 / The wind speed (m/s).                          \n",
       "WINDSPE2=              19.0145 / The wind speed (mph).                          \n",
       "WINDDIRE=                 313. / The wind direction (degrees).                  \n",
       "INPORT  =                    3 / Number of ISS port where GMOS was located      \n",
       "GMOSCC  = 'GMOS-CP (V6-9)'     / GMOS components controller s/w                 \n",
       "TIME-OBS= '06:34:17.7'         / Time of observation                            \n",
       "PREIMAGE=                    F / MOS pre-imaging                                \n",
       "CONID   = 'ARC-III '           / Detector controller ID                         \n",
       "DETECTOR= 'GMOS + Hamamatsu_new' / Detector name                                \n",
       "DEWAR   = 'Lab Cryostat'       / Dewar name                                     \n",
       "ARRYTMPD=             -100.992 / Array temperature D (Celsius)                  \n",
       "ARRYTMPA=              -94.112 / Array temperature A (Celsius)                  \n",
       "ARRYTMPB=              -94.398 / Array temperature B (Celsius)                  \n",
       "ARRYTMPC=              -94.201 / Array temperature C (Celsius)                  \n",
       "ARRYTSET=                -101. / Array temperature Setpoint (Celsius)           \n",
       "DETSIZE = '[1:6144,1:4224]'    / Detector size                                  \n",
       "NCCDS   =                    1 / Number of CCD chips                            \n",
       "NAMPS   =                    4 / Number of amplifiers                           \n",
       "SHUTTER = 'OPEN    '           / Shutter state during observation               \n",
       "AMPINTEG=                 4000 / Amplifier integration time                     \n",
       "OBSEPOCH=     2018.52367918136 / Epoch at start of exposure                     \n",
       "TIMESYS = 'UTC     '           / Time system used                               \n",
       "DATE-OBS= '2018-07-11'         / UT Date of observation (YYYY-MM-DD)            \n",
       "GMOSTHT = 'WARNING '           / Shutter health                                 \n",
       "NSUBEXP =                    1 / Number of sub exposures                        \n",
       "UTSTART = '06:34:19.6667'      / UT at observation start                        \n",
       "UTEND   = '06:34:49.6667'      / UT at observation end                          \n",
       "EXPTIME =                  30. / Exposure time in seconds                       \n",
       "ELAPSED =                  30. / Elapsed observation time in seconds            \n",
       "DARKTIME=     39.5833511352539 / Dark current integration in seconds            \n",
       "MASKID  =             10005373 / Mask/IFU barcode                               \n",
       "MASKNAME= '0.75arcsec'         / Mask name                                      \n",
       "MASKTYP =                    1 / Mask/IFU type (0=none/-1=IFU/1=mask)           \n",
       "MASKLOC =                    0 / Mask/IFU location (-1=unknown/0=FP/1=cassette) \n",
       "FILTER1 = 'open1-6 '           / Filter 1 name                                  \n",
       "FILTID1 =             20000033 / Filter 1 barcode                               \n",
       "FILTER2 = 'r_G0326 '           / Filter 2 name                                  \n",
       "FILTID2 =             20000027 / Filter 2 barcode                               \n",
       "GRATING = 'MIRROR  '           / Grating name                                   \n",
       "GRATID  =             30000012 / Grating barcode                                \n",
       "GRWLEN  =                   0. / Grating wavelength at slit (nm)                \n",
       "CENTWAVE=                   0. / Central wavelength (nm)                        \n",
       "GRORDER =                    0 / Grating order                                  \n",
       "GRTILT  =                  65. / Grating tilt angle (degrees)                   \n",
       "GRSTEP  =            7000.8038 / Requested grating motor step position          \n",
       "DTAX    =                 55.2 / Detector translation X position (microns)      \n",
       "DTAY    =               144.48 / Detector translation Y position (microns)      \n",
       "DTAZ    =                1264. / Detector translation Z position (microns)      \n",
       "DTAZST  =                1264. / Focus at observation start (microns)           \n",
       "DTAZEN  =                1264. / Focus at observation end (microns)             \n",
       "DTAZME  =                   0. / Mean focus during observation (microns)        \n",
       "DTMODE  = 'FOLLOW  '           / Detector translation stage mode                \n",
       "ADCMODE = '        '           / ADC mode                                       \n",
       "GMOSDC  = 'gmosdc-6.4AT1.6'    / GMOS detector controller s/w                   \n",
       "DETTYPE = 'S10892  '           / Detector array type                            \n",
       "DETID   = 'BI5-36-4k-2,BI11-33-4k-1,BI12-34-4k-1' / Chip IDs                    \n",
       "EXPOSURE=                  30. / Requested exposure time in seconds             \n",
       "ADCUSED =                    1 / ADC used? (0=yes/1=no)                         \n",
       "DETNROI =                    1 / No. regions of interest                        \n",
       "ADCENPST=                   0. / Start entrance prism angle of ADC              \n",
       "ADCENPEN=                   0. / End entrance prism angle of ADC                \n",
       "ADCENPME=                   0. / Mean entrance prism angle of ADC               \n",
       "ADCEXPST=                   0. / Start exit prism angle of ADC                  \n",
       "ADCEXPEN=                   0. / End exit prism angle of ADC                    \n",
       "ADCEXPME=                   0. / Mean exit prism angle of ADC                   \n",
       "ADCWLEN1=                   0. / Lower wavelength for ADC calculation           \n",
       "ADCWLEN2=                   0. / Upper wavelength for ADC calculation           \n",
       "DETRO1X =                 2923 / ROI 1 X start                                  \n",
       "DETRO1XS=                  300 / ROI 1 X size                                   \n",
       "DETRO1Y =                 1987 / ROI 1 Y start                                  \n",
       "DETRO1YS=                  300 / ROI 1 Y size                                   \n",
       "AIRMASS =                1.056 / Mean airmass for the observation               \n",
       "AMSTART =                1.056 / Airmass at start of exposure                   \n",
       "AMEND   =                1.056 / Airmass at end of exposure                     \n",
       "PROP_MD =                    F / Proprietary Metadata                           \n",
       "RELEASE = '2019-07-11'         / End of proprietary period YYY-MM-DD            \n",
       "                                                                                \n",
       "                                                                                \n",
       "                                                                                \n",
       "                                                                                \n",
       "                                                                                \n",
       "                                                                                \n",
       "                                                                                \n",
       "                                                                                \n",
       "                                                                                \n",
       "                                                                                "
      ]
     },
     "execution_count": 11,
     "metadata": {},
     "output_type": "execute_result"
    }
   ],
   "source": [
    "hdul = fits.open(gemini_gmos_files[2])\n",
    "hdul[0].header"
   ]
  },
  {
   "cell_type": "code",
   "execution_count": 12,
   "metadata": {},
   "outputs": [
    {
     "name": "stdout",
     "output_type": "stream",
     "text": [
      "Filename: /data/Projects/Python/PYPIT-development-suite/RAW_DATA/Gemini_GMOS/B600/S20180711S0182.fits\n",
      "No.    Name      Ver    Type      Cards   Dimensions   Format\n",
      "  0  PRIMARY       1 PrimaryHDU     180   ()      \n",
      "  1               -1 ImageHDU        38   (182, 300)   int16 (rescales to uint16)   \n",
      "  2               -1 ImageHDU        38   (182, 300)   int16 (rescales to uint16)   \n"
     ]
    }
   ],
   "source": [
    "hdul.info()"
   ]
  },
  {
   "cell_type": "code",
   "execution_count": 13,
   "metadata": {},
   "outputs": [
    {
     "data": {
      "text/plain": [
       "XTENSION= 'IMAGE   '           / IMAGE extension                                \n",
       "BITPIX  =                   16 / number of bits per data pixel                  \n",
       "NAXIS   =                    2 / number of data axes                            \n",
       "NAXIS1  =                  182 / length of data axis 1                          \n",
       "NAXIS2  =                  300 / length of data axis 2                          \n",
       "PCOUNT  =                    0 / required keyword; must = 0                     \n",
       "GCOUNT  =                    1 / required keyword; must = 1                     \n",
       "BZERO   =                32768 / offset data range to that of unsigned short    \n",
       "BSCALE  =                    1 / default scaling factor                         \n",
       "INHERIT =                    F / inherit the primary header                     \n",
       "DATATYPE= 'Intensity'          / Type of Data                                   \n",
       "CTYPE1  = 'RA---TAN'           / R.A. in tangent plane projection               \n",
       "CRPIX1  =     545.203453228218 / Ref pix of axis 1                              \n",
       "CRVAL1  =     333.853535815286 / RA at Ref pix in decimal degrees               \n",
       "CTYPE2  = 'DEC--TAN'           / DEC. in tangent plane projection               \n",
       "CRPIX2  =     151.657547352253 / Ref pix of axis 2                              \n",
       "CRVAL2  =     -19.585210942454 / DEC at Ref pix in decimal degrees              \n",
       "CD1_1   = -1.43064045947506E-05 / WCS matrix element 1 1                        \n",
       "CD1_2   = 1.70495949167519E-05 / WCS matrix element 1 2                         \n",
       "CD2_1   = -1.70088082760133E-05 / WCS matrix element 2 1                        \n",
       "CD2_2   = -1.43160050104017E-05 / WCS matrix element 2 2                        \n",
       "RADECSYS= 'FK5     '           / R.A./DEC. coordinate system reference          \n",
       "EQUINOX =                2000. / Equinox of coordinate system                   \n",
       "MJD-OBS =     58310.2746183401 / MJD of start of obseration                     \n",
       "CCDNAME = 'BI11-33-4k-1'       / CCD chip name(s)                               \n",
       "AMPNAME = 'BI11-33-4k-1, 3'    / Amplifier name(s)                              \n",
       "GAIN    =     1.12999999523163 / Amplifier gain                                 \n",
       "RDNOISE =     3.90000009536743 / Readout noise                                  \n",
       "CCDSIZE = '[1:2048,1:4224]'    / CCD chip size                                  \n",
       "CCDSUM  = '1 1     '           / CCD sum                                        \n",
       "CCDSEC  = '[875:1024,1987:2286]' / CCD section(s)                               \n",
       "DETSEC  = '[2923:3072,1987:2286]' / Detector section(s)                         \n",
       "DATASEC = '[33:182,1:300]'     / Data section(s)                                \n",
       "BIASSEC = '[1:32,1:300]'       / Bias section(s)                                \n",
       "FRMNAME = 'FRAME-0 ROI-0, CHIP-g<2>, AMP-3<5>' / Frame name                     \n",
       "FRAMEID = '0       '           / Frame Id                                       \n",
       "DATATYP = '        '           / Type of data frame                             \n",
       "EXTVER  =                   -1 / Number assigned to a FITS extension.           "
      ]
     },
     "execution_count": 13,
     "metadata": {},
     "output_type": "execute_result"
    }
   ],
   "source": [
    "hdul[1].header"
   ]
  },
  {
   "cell_type": "markdown",
   "metadata": {},
   "source": [
    "### PypitSetup"
   ]
  },
  {
   "cell_type": "code",
   "execution_count": 14,
   "metadata": {
    "collapsed": true
   },
   "outputs": [],
   "source": [
    "run_par = pypitpar.RunPar()\n",
    "reduce_par = pypitpar.ReducePar()"
   ]
  },
  {
   "cell_type": "code",
   "execution_count": 15,
   "metadata": {
    "collapsed": true
   },
   "outputs": [],
   "source": [
    "# Init\n",
    "reload(pypitsetup)\n",
    "setupc = pypitsetup.PypitSetup(spectrograph, run_par, reduce_par)"
   ]
  },
  {
   "cell_type": "code",
   "execution_count": 16,
   "metadata": {},
   "outputs": [
    {
     "name": "stderr",
     "output_type": "stream",
     "text": [
      "\u001b[1;31m[WARNING] ::\u001b[0m BINNING keyword not in header. Setting to None\n",
      "\u001b[1;31m[WARNING] ::\u001b[0m SLITNAME keyword not in header. Setting to None\n",
      "\u001b[1;31m[WARNING] ::\u001b[0m DICHNAME keyword not in header. Setting to None\n",
      "\u001b[1;31m[WARNING] ::\u001b[0m GRISNAME keyword not in header. Setting to None\n",
      "\u001b[1;32m[INFO]    ::\u001b[0m Successfully loaded headers for file:\n",
      "             /data/Projects/Python/PYPIT-development-suite/RAW_DATA/Gemini_GMOS/B600/S20180711S0183.fits\n",
      "\u001b[1;31m[WARNING] ::\u001b[0m BINNING keyword not in header. Setting to None\n",
      "\u001b[1;31m[WARNING] ::\u001b[0m SLITNAME keyword not in header. Setting to None\n",
      "\u001b[1;31m[WARNING] ::\u001b[0m DICHNAME keyword not in header. Setting to None\n",
      "\u001b[1;31m[WARNING] ::\u001b[0m GRISNAME keyword not in header. Setting to None\n",
      "\u001b[1;32m[INFO]    ::\u001b[0m Successfully loaded headers for file:\n",
      "             /data/Projects/Python/PYPIT-development-suite/RAW_DATA/Gemini_GMOS/B600/S20180711S0184.fits\n",
      "\u001b[1;31m[WARNING] ::\u001b[0m BINNING keyword not in header. Setting to None\n",
      "\u001b[1;31m[WARNING] ::\u001b[0m SLITNAME keyword not in header. Setting to None\n",
      "\u001b[1;31m[WARNING] ::\u001b[0m DICHNAME keyword not in header. Setting to None\n",
      "\u001b[1;31m[WARNING] ::\u001b[0m GRISNAME keyword not in header. Setting to None\n",
      "\u001b[1;32m[INFO]    ::\u001b[0m Successfully loaded headers for file:\n",
      "             /data/Projects/Python/PYPIT-development-suite/RAW_DATA/Gemini_GMOS/B600/S20180711S0185.fits\n",
      "\u001b[1;31m[WARNING] ::\u001b[0m BINNING keyword not in header. Setting to None\n",
      "\u001b[1;31m[WARNING] ::\u001b[0m SLITNAME keyword not in header. Setting to None\n",
      "\u001b[1;31m[WARNING] ::\u001b[0m DICHNAME keyword not in header. Setting to None\n",
      "\u001b[1;31m[WARNING] ::\u001b[0m GRISNAME keyword not in header. Setting to None\n",
      "\u001b[1;32m[INFO]    ::\u001b[0m Successfully loaded headers for file:\n",
      "             /data/Projects/Python/PYPIT-development-suite/RAW_DATA/Gemini_GMOS/B600/S20180711S0186.fits\n",
      "\u001b[1;31m[WARNING] ::\u001b[0m BINNING keyword not in header. Setting to None\n",
      "\u001b[1;31m[WARNING] ::\u001b[0m SLITNAME keyword not in header. Setting to None\n",
      "\u001b[1;31m[WARNING] ::\u001b[0m DICHNAME keyword not in header. Setting to None\n",
      "\u001b[1;31m[WARNING] ::\u001b[0m GRISNAME keyword not in header. Setting to None\n",
      "\u001b[1;32m[INFO]    ::\u001b[0m Successfully loaded headers for file:\n",
      "             /data/Projects/Python/PYPIT-development-suite/RAW_DATA/Gemini_GMOS/B600/S20180711S0259.fits\n",
      "\u001b[1;32m[INFO]    ::\u001b[0m Checking spectrograph settings for required header information\n",
      "\u001b[1;32m[INFO]    ::\u001b[0m Headers loaded for 5 files successfully\n"
     ]
    }
   ],
   "source": [
    "fitstbl = setupc.build_fitstbl(gemini_gmos_files_530)"
   ]
  },
  {
   "cell_type": "code",
   "execution_count": 17,
   "metadata": {},
   "outputs": [
    {
     "data": {
      "text/html": [
       "<i>Table length=5</i>\n",
       "<table id=\"table140606196610328\" class=\"table-striped table-bordered table-condensed\">\n",
       "<thead><tr><th>directory</th><th>filename</th><th>utc</th><th>target</th><th>idname</th><th>time</th><th>date</th><th>ra</th><th>dec</th><th>airmass</th><th>binning</th><th>exptime</th><th>decker</th><th>dichroic</th><th>dispname</th><th>instrume</th></tr></thead>\n",
       "<thead><tr><th>str72</th><th>str19</th><th>str10</th><th>str12</th><th>str6</th><th>float64</th><th>str10</th><th>float64</th><th>float64</th><th>float64</th><th>str4</th><th>float64</th><th>str4</th><th>str4</th><th>str4</th><th>str17</th></tr></thead>\n",
       "<tr><td>/data/Projects/Python/PYPIT-development-suite/RAW_DATA/Gemini_GMOS/B600/</td><td>S20180711S0183.fits</td><td>06:37:17.2</td><td>ESO-606-G036</td><td>OBJECT</td><td>1399443.4794788086</td><td>2018-07-11</td><td>333.853125</td><td>-19.58527778</td><td>1.052</td><td>None</td><td>75.0</td><td>None</td><td>None</td><td>None</td><td>gemini_gmos_south</td></tr>\n",
       "<tr><td>/data/Projects/Python/PYPIT-development-suite/RAW_DATA/Gemini_GMOS/B600/</td><td>S20180711S0184.fits</td><td>06:39:02.2</td><td>ESO-606-G036</td><td>OBJECT</td><td>1399443.508718023</td><td>2018-07-11</td><td>333.853125</td><td>-19.58527778</td><td>1.05</td><td>None</td><td>75.0</td><td>None</td><td>None</td><td>None</td><td>gemini_gmos_south</td></tr>\n",
       "<tr><td>/data/Projects/Python/PYPIT-development-suite/RAW_DATA/Gemini_GMOS/B600/</td><td>S20180711S0185.fits</td><td>06:41:03.2</td><td>GCALflat</td><td>FLAT</td><td>1399443.5423247123</td><td>2018-07-11</td><td>333.853125</td><td>-19.58527778</td><td>1.049</td><td>None</td><td>4.0</td><td>None</td><td>None</td><td>None</td><td>gemini_gmos_south</td></tr>\n",
       "<tr><td>/data/Projects/Python/PYPIT-development-suite/RAW_DATA/Gemini_GMOS/B600/</td><td>S20180711S0186.fits</td><td>06:41:41.2</td><td>CuAr</td><td>ARC</td><td>1399443.552822083</td><td>2018-07-11</td><td>333.853125</td><td>-19.58527778</td><td>1.048</td><td>None</td><td>20.0</td><td>None</td><td>None</td><td>None</td><td>gemini_gmos_south</td></tr>\n",
       "<tr><td>/data/Projects/Python/PYPIT-development-suite/RAW_DATA/Gemini_GMOS/B600/</td><td>S20180711S0259.fits</td><td>10:43:27.7</td><td>LTT1788</td><td>OBJECT</td><td>1399447.5795640445</td><td>2018-07-11</td><td>57.09420833</td><td>-39.14358333</td><td>1.178</td><td>None</td><td>60.0</td><td>None</td><td>None</td><td>None</td><td>gemini_gmos_south</td></tr>\n",
       "</table>"
      ],
      "text/plain": [
       "<Table length=5>\n",
       "                               directory                                 ...\n",
       "                                 str72                                   ...\n",
       "------------------------------------------------------------------------ ...\n",
       "/data/Projects/Python/PYPIT-development-suite/RAW_DATA/Gemini_GMOS/B600/ ...\n",
       "/data/Projects/Python/PYPIT-development-suite/RAW_DATA/Gemini_GMOS/B600/ ...\n",
       "/data/Projects/Python/PYPIT-development-suite/RAW_DATA/Gemini_GMOS/B600/ ...\n",
       "/data/Projects/Python/PYPIT-development-suite/RAW_DATA/Gemini_GMOS/B600/ ...\n",
       "/data/Projects/Python/PYPIT-development-suite/RAW_DATA/Gemini_GMOS/B600/ ..."
      ]
     },
     "execution_count": 17,
     "metadata": {},
     "output_type": "execute_result"
    }
   ],
   "source": [
    "fitstbl"
   ]
  },
  {
   "cell_type": "markdown",
   "metadata": {},
   "source": [
    "## Image type\n",
    "    Classifies the images\n",
    "    Adds image type columns to the fitstbl"
   ]
  },
  {
   "cell_type": "code",
   "execution_count": 18,
   "metadata": {},
   "outputs": [
    {
     "name": "stderr",
     "output_type": "stream",
     "text": [
      "\u001b[1;32m[INFO]    ::\u001b[0m Typing files\n",
      "\u001b[1;32m[INFO]    ::\u001b[0m Couldn't identify the following files:\n",
      "\u001b[1;32m[INFO]    ::\u001b[0m S20180711S0183.fits\n",
      "\u001b[1;32m[INFO]    ::\u001b[0m S20180711S0184.fits\n",
      "\u001b[1;32m[INFO]    ::\u001b[0m S20180711S0185.fits\n",
      "\u001b[1;32m[INFO]    ::\u001b[0m S20180711S0186.fits\n",
      "\u001b[1;32m[INFO]    ::\u001b[0m S20180711S0259.fits\n",
      "\u001b[1;32m[INFO]    ::\u001b[0m Typing completed!\n",
      "\u001b[1;32m[INFO]    ::\u001b[0m Adding file type information to the fitstbl\n"
     ]
    }
   ],
   "source": [
    "filetypes = setupc.type_data(flag_unknown=True)"
   ]
  },
  {
   "cell_type": "markdown",
   "metadata": {},
   "source": [
    "### Show"
   ]
  },
  {
   "cell_type": "code",
   "execution_count": 19,
   "metadata": {},
   "outputs": [
    {
     "data": {
      "text/html": [
       "<i>Table length=5</i>\n",
       "<table id=\"table140606203601528\" class=\"table-striped table-bordered table-condensed\">\n",
       "<thead><tr><th>filename</th><th>arc</th><th>bias</th><th>pixelflat</th><th>science</th><th>standard</th><th>trace</th><th>unknown</th></tr></thead>\n",
       "<thead><tr><th>str19</th><th>bool</th><th>bool</th><th>bool</th><th>bool</th><th>bool</th><th>bool</th><th>bool</th></tr></thead>\n",
       "<tr><td>S20180711S0183.fits</td><td>False</td><td>False</td><td>False</td><td>False</td><td>False</td><td>False</td><td>True</td></tr>\n",
       "<tr><td>S20180711S0184.fits</td><td>False</td><td>False</td><td>False</td><td>False</td><td>False</td><td>False</td><td>True</td></tr>\n",
       "<tr><td>S20180711S0185.fits</td><td>False</td><td>False</td><td>False</td><td>False</td><td>False</td><td>False</td><td>True</td></tr>\n",
       "<tr><td>S20180711S0186.fits</td><td>False</td><td>False</td><td>False</td><td>False</td><td>False</td><td>False</td><td>True</td></tr>\n",
       "<tr><td>S20180711S0259.fits</td><td>False</td><td>False</td><td>False</td><td>False</td><td>False</td><td>False</td><td>True</td></tr>\n",
       "</table>"
      ],
      "text/plain": [
       "<Table length=5>\n",
       "      filename       arc   bias pixelflat science standard trace unknown\n",
       "       str19         bool  bool    bool     bool    bool    bool   bool \n",
       "------------------- ----- ----- --------- ------- -------- ----- -------\n",
       "S20180711S0183.fits False False     False   False    False False    True\n",
       "S20180711S0184.fits False False     False   False    False False    True\n",
       "S20180711S0185.fits False False     False   False    False False    True\n",
       "S20180711S0186.fits False False     False   False    False False    True\n",
       "S20180711S0259.fits False False     False   False    False False    True"
      ]
     },
     "execution_count": 19,
     "metadata": {},
     "output_type": "execute_result"
    }
   ],
   "source": [
    "setupc.fitstbl[['filename','arc','bias','pixelflat','science','standard','trace','unknown' ]]"
   ]
  },
  {
   "cell_type": "markdown",
   "metadata": {},
   "source": [
    "# KLUDGING"
   ]
  },
  {
   "cell_type": "code",
   "execution_count": 20,
   "metadata": {},
   "outputs": [
    {
     "data": {
      "text/plain": [
       "\"\\nsetupc.fitstbl[-3]['standard'] = True\\nsetupc.fitstbl[-3]['science'] = False\\nsetupc.fitstbl[-2]['pixelflat'] = True\\nsetupc.fitstbl[-2]['trace'] = True\\nsetupc.fitstbl[-1]['arc'] = True\\n\""
      ]
     },
     "execution_count": 20,
     "metadata": {},
     "output_type": "execute_result"
    }
   ],
   "source": [
    "setupc.fitstbl['unknown'] = False\n",
    "setupc.fitstbl[0:2]['science'] = True\n",
    "setupc.fitstbl[2]['pixelflat'] = True\n",
    "setupc.fitstbl[2]['trace'] = True\n",
    "setupc.fitstbl[3]['arc'] = True\n",
    "setupc.fitstbl[-1]['standard'] = True\n",
    "#setupc.fitstbl[-1]['science'] = False\n",
    "\n",
    "#setupc.fitstbl[5]['pixelflat'] = True\n",
    "#setupc.fitstbl[5]['trace'] = True\n",
    "#\n",
    "'''\n",
    "setupc.fitstbl[-3]['standard'] = True\n",
    "setupc.fitstbl[-3]['science'] = False\n",
    "setupc.fitstbl[-2]['pixelflat'] = True\n",
    "setupc.fitstbl[-2]['trace'] = True\n",
    "setupc.fitstbl[-1]['arc'] = True\n",
    "'''"
   ]
  },
  {
   "cell_type": "code",
   "execution_count": 21,
   "metadata": {},
   "outputs": [
    {
     "data": {
      "text/html": [
       "<i>Table length=5</i>\n",
       "<table id=\"table140606196610664\" class=\"table-striped table-bordered table-condensed\">\n",
       "<thead><tr><th>filename</th><th>arc</th><th>bias</th><th>pixelflat</th><th>science</th><th>standard</th><th>trace</th><th>unknown</th></tr></thead>\n",
       "<thead><tr><th>str19</th><th>bool</th><th>bool</th><th>bool</th><th>bool</th><th>bool</th><th>bool</th><th>bool</th></tr></thead>\n",
       "<tr><td>S20180711S0183.fits</td><td>False</td><td>False</td><td>False</td><td>True</td><td>False</td><td>False</td><td>False</td></tr>\n",
       "<tr><td>S20180711S0184.fits</td><td>False</td><td>False</td><td>False</td><td>True</td><td>False</td><td>False</td><td>False</td></tr>\n",
       "<tr><td>S20180711S0185.fits</td><td>False</td><td>False</td><td>True</td><td>False</td><td>False</td><td>True</td><td>False</td></tr>\n",
       "<tr><td>S20180711S0186.fits</td><td>True</td><td>False</td><td>False</td><td>False</td><td>False</td><td>False</td><td>False</td></tr>\n",
       "<tr><td>S20180711S0259.fits</td><td>False</td><td>False</td><td>False</td><td>False</td><td>True</td><td>False</td><td>False</td></tr>\n",
       "</table>"
      ],
      "text/plain": [
       "<Table length=5>\n",
       "      filename       arc   bias pixelflat science standard trace unknown\n",
       "       str19         bool  bool    bool     bool    bool    bool   bool \n",
       "------------------- ----- ----- --------- ------- -------- ----- -------\n",
       "S20180711S0183.fits False False     False    True    False False   False\n",
       "S20180711S0184.fits False False     False    True    False False   False\n",
       "S20180711S0185.fits False False      True   False    False  True   False\n",
       "S20180711S0186.fits  True False     False   False    False False   False\n",
       "S20180711S0259.fits False False     False   False     True False   False"
      ]
     },
     "execution_count": 21,
     "metadata": {},
     "output_type": "execute_result"
    }
   ],
   "source": [
    "setupc.fitstbl[['filename','arc','bias','pixelflat','science','standard','trace','unknown' ]]"
   ]
  },
  {
   "cell_type": "markdown",
   "metadata": {},
   "source": [
    "## Match to science"
   ]
  },
  {
   "cell_type": "code",
   "execution_count": 22,
   "metadata": {},
   "outputs": [],
   "source": [
    "spectrograph.calib_par['biasframe']['useframe'] = 'overscan'"
   ]
  },
  {
   "cell_type": "code",
   "execution_count": 23,
   "metadata": {},
   "outputs": [
    {
     "name": "stderr",
     "output_type": "stream",
     "text": [
      "\u001b[1;32m[INFO]    ::\u001b[0m Matching calibrations to Science frames\n",
      "\u001b[1;32m[INFO]    ::\u001b[0m =================================================\n",
      "\u001b[1;32m[INFO]    ::\u001b[0m Matching calibrations to ESO-606-G036: S20180711S0183.fits\n",
      "\u001b[1;32m[INFO]    ::\u001b[0m   Found 1 arc frame for ESO-606-G036 (1 required)\n",
      "\u001b[1;32m[INFO]    ::\u001b[0m   Found 0 bias frame for ESO-606-G036 (5 required)\n",
      "\u001b[1;31m[WARNING] ::\u001b[0m   Only 0/5 bias frames for ESO-606-G036\n",
      "\u001b[1;32m[INFO]    ::\u001b[0m   Dark frames not required.  Not matching..\n",
      "\u001b[1;32m[INFO]    ::\u001b[0m    No pinhole frames are required.  Not matching..\n",
      "\u001b[1;32m[INFO]    ::\u001b[0m   Found 1 pixelflat frame for ESO-606-G036 (1 required)\n",
      "\u001b[1;32m[INFO]    ::\u001b[0m   Found 1 standard frame for ESO-606-G036 (1 required)\n",
      "\u001b[1;32m[INFO]    ::\u001b[0m   Found 1 trace frame for ESO-606-G036 (1 required)\n",
      "\u001b[1;32m[INFO]    ::\u001b[0m =================================================\n",
      "\u001b[1;32m[INFO]    ::\u001b[0m Matching calibrations to ESO-606-G036: S20180711S0184.fits\n",
      "\u001b[1;32m[INFO]    ::\u001b[0m   Found 1 arc frame for ESO-606-G036 (1 required)\n",
      "\u001b[1;32m[INFO]    ::\u001b[0m   Found 0 bias frame for ESO-606-G036 (5 required)\n",
      "\u001b[1;31m[WARNING] ::\u001b[0m   Only 0/5 bias frames for ESO-606-G036\n",
      "\u001b[1;32m[INFO]    ::\u001b[0m   Dark frames not required.  Not matching..\n",
      "\u001b[1;32m[INFO]    ::\u001b[0m    No pinhole frames are required.  Not matching..\n",
      "\u001b[1;32m[INFO]    ::\u001b[0m   Found 1 pixelflat frame for ESO-606-G036 (1 required)\n",
      "\u001b[1;32m[INFO]    ::\u001b[0m   Found 1 standard frame for ESO-606-G036 (1 required)\n",
      "\u001b[1;32m[INFO]    ::\u001b[0m   Found 1 trace frame for ESO-606-G036 (1 required)\n",
      "\u001b[1;32m[INFO]    ::\u001b[0m Science frames successfully matched to calibration frames\n"
     ]
    }
   ],
   "source": [
    "fitstbl = setupc.match_to_science()"
   ]
  },
  {
   "cell_type": "markdown",
   "metadata": {},
   "source": [
    "### Setup dict"
   ]
  },
  {
   "cell_type": "code",
   "execution_count": 24,
   "metadata": {},
   "outputs": [],
   "source": [
    "setup_dict = setupc.build_setup_dict()"
   ]
  },
  {
   "cell_type": "code",
   "execution_count": 25,
   "metadata": {},
   "outputs": [
    {
     "data": {
      "text/plain": [
       "{'A': {'--': {'dichroic': 'None',\n",
       "   'disperser': {'angle': 'none', 'name': 'None'},\n",
       "   'slit': {'decker': 'None', 'slitlen': 'none', 'slitwid': 'none'}},\n",
       "  '01': {'binning': 'None', 'det': 1, 'namp': 4},\n",
       "  '02': {'binning': 'None', 'det': 2, 'namp': 4},\n",
       "  '03': {'binning': 'None', 'det': 3, 'namp': 4},\n",
       "  'aa': {'arc': ['S20180711S0186.fits'],\n",
       "   'bias': [],\n",
       "   'pixelflat': ['S20180711S0185.fits'],\n",
       "   'science': ['S20180711S0183.fits', 'S20180711S0184.fits'],\n",
       "   'trace': ['S20180711S0185.fits']}}}"
      ]
     },
     "execution_count": 25,
     "metadata": {},
     "output_type": "execute_result"
    }
   ],
   "source": [
    "setup_dict"
   ]
  },
  {
   "cell_type": "code",
   "execution_count": 26,
   "metadata": {},
   "outputs": [
    {
     "data": {
      "text/html": [
       "<i>Table length=5</i>\n",
       "<table id=\"table140606198906440\" class=\"table-striped table-bordered table-condensed\">\n",
       "<thead><tr><th>filename</th><th>arc</th><th>bias</th><th>pixelflat</th><th>science</th><th>standard</th><th>sci_ID</th></tr></thead>\n",
       "<thead><tr><th>str19</th><th>bool</th><th>bool</th><th>bool</th><th>bool</th><th>bool</th><th>int64</th></tr></thead>\n",
       "<tr><td>S20180711S0183.fits</td><td>False</td><td>False</td><td>False</td><td>True</td><td>False</td><td>1</td></tr>\n",
       "<tr><td>S20180711S0184.fits</td><td>False</td><td>False</td><td>False</td><td>True</td><td>False</td><td>2</td></tr>\n",
       "<tr><td>S20180711S0185.fits</td><td>False</td><td>False</td><td>True</td><td>False</td><td>False</td><td>3</td></tr>\n",
       "<tr><td>S20180711S0186.fits</td><td>True</td><td>False</td><td>False</td><td>False</td><td>False</td><td>3</td></tr>\n",
       "<tr><td>S20180711S0259.fits</td><td>False</td><td>False</td><td>False</td><td>False</td><td>True</td><td>3</td></tr>\n",
       "</table>"
      ],
      "text/plain": [
       "<Table length=5>\n",
       "      filename       arc   bias pixelflat science standard sci_ID\n",
       "       str19         bool  bool    bool     bool    bool   int64 \n",
       "------------------- ----- ----- --------- ------- -------- ------\n",
       "S20180711S0183.fits False False     False    True    False      1\n",
       "S20180711S0184.fits False False     False    True    False      2\n",
       "S20180711S0185.fits False False      True   False    False      3\n",
       "S20180711S0186.fits  True False     False   False    False      3\n",
       "S20180711S0259.fits False False     False   False     True      3"
      ]
     },
     "execution_count": 26,
     "metadata": {},
     "output_type": "execute_result"
    }
   ],
   "source": [
    "setupc.fitstbl[['filename','arc','bias','pixelflat','science','standard','sci_ID']]"
   ]
  },
  {
   "cell_type": "markdown",
   "metadata": {},
   "source": [
    "----"
   ]
  },
  {
   "cell_type": "markdown",
   "metadata": {
    "collapsed": true
   },
   "source": [
    "## Setup + datasec"
   ]
  },
  {
   "cell_type": "code",
   "execution_count": 27,
   "metadata": {
    "collapsed": true
   },
   "outputs": [],
   "source": [
    "# Image IDs\n",
    "sci_ID = 1  # First exposure ID\n",
    "det = 1     # \n",
    "dnum = 'det01'"
   ]
  },
  {
   "cell_type": "code",
   "execution_count": 28,
   "metadata": {},
   "outputs": [
    {
     "data": {
      "text/plain": [
       "0"
      ]
     },
     "execution_count": 28,
     "metadata": {},
     "output_type": "execute_result"
    }
   ],
   "source": [
    "# Index in fitstbl\n",
    "scidx = np.where((fitstbl['sci_ID'] == sci_ID) & fitstbl['science'])[0][0]\n",
    "scidx"
   ]
  },
  {
   "cell_type": "markdown",
   "metadata": {},
   "source": [
    "### Settings"
   ]
  },
  {
   "cell_type": "code",
   "execution_count": 29,
   "metadata": {},
   "outputs": [
    {
     "ename": "NameError",
     "evalue": "name 'settings' is not defined",
     "output_type": "error",
     "traceback": [
      "\u001b[0;31m---------------------------------------------------------------------------\u001b[0m",
      "\u001b[0;31mNameError\u001b[0m                                 Traceback (most recent call last)",
      "\u001b[0;32m<ipython-input-29-abe98397d420>\u001b[0m in \u001b[0;36m<module>\u001b[0;34m()\u001b[0m\n\u001b[0;32m----> 1\u001b[0;31m \u001b[0msettings_det\u001b[0m \u001b[0;34m=\u001b[0m \u001b[0msettings\u001b[0m\u001b[0;34m.\u001b[0m\u001b[0mspect\u001b[0m\u001b[0;34m[\u001b[0m\u001b[0mdnum\u001b[0m\u001b[0;34m]\u001b[0m\u001b[0;34m.\u001b[0m\u001b[0mcopy\u001b[0m\u001b[0;34m(\u001b[0m\u001b[0;34m)\u001b[0m  \u001b[0;31m# Should include naxis0, naxis1 in this\u001b[0m\u001b[0;34m\u001b[0m\u001b[0m\n\u001b[0m",
      "\u001b[0;31mNameError\u001b[0m: name 'settings' is not defined"
     ]
    }
   ],
   "source": [
    "settings_det = settings.spect[dnum].copy()  # Should include naxis0, naxis1 in this"
   ]
  },
  {
   "cell_type": "code",
   "execution_count": null,
   "metadata": {},
   "outputs": [],
   "source": [
    "settings_det"
   ]
  },
  {
   "cell_type": "code",
   "execution_count": null,
   "metadata": {
    "collapsed": true
   },
   "outputs": [],
   "source": [
    "# Ugliness\n",
    "settings_det['binning'] = fitstbl['binning'][0]\n",
    "#\n",
    "settings.spect[dnum] = settings_det.copy()  # Used internally..\n",
    "#\n",
    "tsettings = settings.argflag.copy()\n",
    "tsettings['detector'] = settings.spect[settings.get_dnum(det)]\n",
    "tsettings['detector']['dataext'] = None\n",
    "tsettings['detector']['dispaxis'] = settings.argflag['trace']['dispersion']['direction']"
   ]
  },
  {
   "cell_type": "markdown",
   "metadata": {},
   "source": [
    "### Setup"
   ]
  },
  {
   "cell_type": "code",
   "execution_count": null,
   "metadata": {},
   "outputs": [],
   "source": [
    "setup = arsetup.instr_setup(sci_ID, det, fitstbl, setup_dict, settings_det['numamplifiers'], must_exist=True)\n",
    "setup"
   ]
  },
  {
   "cell_type": "markdown",
   "metadata": {},
   "source": [
    "## Calibrations"
   ]
  },
  {
   "cell_type": "code",
   "execution_count": null,
   "metadata": {
    "collapsed": true
   },
   "outputs": [],
   "source": [
    "caliBrate = calibrations.MultiSlitCalibrations(fitstbl, save_masters=False, write_qa=False)"
   ]
  },
  {
   "cell_type": "code",
   "execution_count": null,
   "metadata": {
    "collapsed": true
   },
   "outputs": [],
   "source": [
    "caliBrate.reset(setup, 1, sci_ID, tsettings)"
   ]
  },
  {
   "cell_type": "markdown",
   "metadata": {},
   "source": [
    "## datasec_img"
   ]
  },
  {
   "cell_type": "code",
   "execution_count": null,
   "metadata": {},
   "outputs": [],
   "source": [
    "datasec_img, naxis0, naxis1 = caliBrate.get_datasec_img()"
   ]
  },
  {
   "cell_type": "code",
   "execution_count": null,
   "metadata": {},
   "outputs": [],
   "source": [
    "naxis0, naxis1"
   ]
  },
  {
   "cell_type": "markdown",
   "metadata": {},
   "source": [
    "## Bias"
   ]
  },
  {
   "cell_type": "code",
   "execution_count": null,
   "metadata": {
    "collapsed": true
   },
   "outputs": [],
   "source": [
    "tsettings['bias']['combine']['reject']['cosmics'] = 3."
   ]
  },
  {
   "cell_type": "code",
   "execution_count": null,
   "metadata": {},
   "outputs": [],
   "source": [
    "bias = caliBrate.get_bias()\n",
    "bias"
   ]
  },
  {
   "cell_type": "markdown",
   "metadata": {},
   "source": [
    "----"
   ]
  },
  {
   "cell_type": "markdown",
   "metadata": {},
   "source": [
    "## Arc Image frame"
   ]
  },
  {
   "cell_type": "code",
   "execution_count": null,
   "metadata": {},
   "outputs": [],
   "source": [
    "arc = caliBrate.get_arc()"
   ]
  },
  {
   "cell_type": "code",
   "execution_count": null,
   "metadata": {
    "collapsed": true
   },
   "outputs": [],
   "source": [
    "caliBrate.show(arc)"
   ]
  },
  {
   "cell_type": "markdown",
   "metadata": {},
   "source": [
    "----"
   ]
  },
  {
   "cell_type": "markdown",
   "metadata": {},
   "source": [
    "## Bad pixel mask"
   ]
  },
  {
   "cell_type": "code",
   "execution_count": null,
   "metadata": {
    "collapsed": true
   },
   "outputs": [],
   "source": [
    "bpm = caliBrate.get_bpm()"
   ]
  },
  {
   "cell_type": "code",
   "execution_count": null,
   "metadata": {},
   "outputs": [],
   "source": [
    "np.sum(bpm)"
   ]
  },
  {
   "cell_type": "markdown",
   "metadata": {},
   "source": [
    "----"
   ]
  },
  {
   "cell_type": "markdown",
   "metadata": {},
   "source": [
    "## pixlocn"
   ]
  },
  {
   "cell_type": "code",
   "execution_count": null,
   "metadata": {},
   "outputs": [],
   "source": [
    "pixlocn = caliBrate.get_pixlocn()\n",
    "pixlocn.shape"
   ]
  },
  {
   "cell_type": "markdown",
   "metadata": {},
   "source": [
    "----"
   ]
  },
  {
   "cell_type": "markdown",
   "metadata": {},
   "source": [
    "## Trace slit(s)"
   ]
  },
  {
   "cell_type": "code",
   "execution_count": null,
   "metadata": {
    "collapsed": true
   },
   "outputs": [],
   "source": [
    "# Settings\n",
    "ts_settings = dict(trace=settings.argflag['trace'], masters=settings.argflag['reduce']['masters'])"
   ]
  },
  {
   "cell_type": "code",
   "execution_count": null,
   "metadata": {},
   "outputs": [],
   "source": [
    "tslits_dict, maskslits = caliBrate.get_slits()"
   ]
  },
  {
   "cell_type": "markdown",
   "metadata": {},
   "source": [
    "### Build the trace image first"
   ]
  },
  {
   "cell_type": "code",
   "execution_count": null,
   "metadata": {},
   "outputs": [],
   "source": [
    "trace_image_files = arsort.list_of_files(fitstbl, 'trace', sci_ID)\n",
    "Timage = traceimage.TraceImage(trace_image_files,\n",
    "                               spectrograph=spectrograph,\n",
    "                               settings=tsettings, det=det,\n",
    "                               datasec_img=datasec_img)\n",
    "mstrace = Timage.process(bias_subtract=msbias, trim=True, apply_gain=True)"
   ]
  },
  {
   "cell_type": "code",
   "execution_count": null,
   "metadata": {
    "collapsed": true
   },
   "outputs": [],
   "source": [
    "Timage.show()"
   ]
  },
  {
   "cell_type": "markdown",
   "metadata": {},
   "source": [
    "### Now trace"
   ]
  },
  {
   "cell_type": "code",
   "execution_count": null,
   "metadata": {},
   "outputs": [],
   "source": [
    "# Load up and get ready\n",
    "traceSlits.mstrace = mstrace\n",
    "_ = traceSlits.make_binarr()\n",
    "# Now we go forth\n",
    "tslits_dict = traceSlits.run(arms=True)\n",
    "# QA\n",
    "traceSlits._qa()"
   ]
  },
  {
   "cell_type": "code",
   "execution_count": null,
   "metadata": {
    "collapsed": true
   },
   "outputs": [],
   "source": [
    "traceSlits.show('edges')"
   ]
  },
  {
   "cell_type": "code",
   "execution_count": null,
   "metadata": {
    "collapsed": true
   },
   "outputs": [],
   "source": [
    "# Initialize maskslits\n",
    "nslits = tslits_dict['lcen'].shape[1]\n",
    "maskslits = np.zeros(nslits, dtype=bool)"
   ]
  },
  {
   "cell_type": "markdown",
   "metadata": {},
   "source": [
    "----"
   ]
  },
  {
   "cell_type": "markdown",
   "metadata": {},
   "source": [
    "## Wavelength Calibration"
   ]
  },
  {
   "cell_type": "code",
   "execution_count": null,
   "metadata": {
    "collapsed": true
   },
   "outputs": [],
   "source": [
    "# Settings\n",
    "wvc_settings = dict(calibrate=settings.argflag['arc']['calibrate'], masters=settings.argflag['reduce']['masters'])"
   ]
  },
  {
   "cell_type": "code",
   "execution_count": null,
   "metadata": {
    "collapsed": true
   },
   "outputs": [],
   "source": [
    "# Instantiate\n",
    "waveCalib = wavecalib.WaveCalib(msarc, spectrograph=spectrograph,\n",
    "                                settings=wvc_settings, det=det,\n",
    "                                setup=setup, fitstbl=fitstbl, sci_ID=sci_ID)"
   ]
  },
  {
   "cell_type": "code",
   "execution_count": null,
   "metadata": {},
   "outputs": [],
   "source": [
    "# Run\n",
    "wv_calib, _ = waveCalib.run(tslits_dict['lcen'], tslits_dict['rcen'],\n",
    "                                    pixlocn, nonlinear=settings_det['nonlinear'])"
   ]
  },
  {
   "cell_type": "code",
   "execution_count": null,
   "metadata": {},
   "outputs": [],
   "source": [
    "wv_calib['arcparam']"
   ]
  },
  {
   "cell_type": "code",
   "execution_count": null,
   "metadata": {},
   "outputs": [],
   "source": [
    "wv_calib['0'].keys()"
   ]
  },
  {
   "cell_type": "markdown",
   "metadata": {},
   "source": [
    "----"
   ]
  },
  {
   "cell_type": "markdown",
   "metadata": {},
   "source": [
    "## Wave Tilts"
   ]
  },
  {
   "cell_type": "code",
   "execution_count": null,
   "metadata": {
    "collapsed": true
   },
   "outputs": [],
   "source": [
    "# Settings kludges\n",
    "tilt_settings = dict(tilts=settings.argflag['trace']['slits']['tilts'].copy(),\n",
    "                     masters=settings.argflag['reduce']['masters'])\n",
    "tilt_settings['tilts']['function'] = settings.argflag['trace']['slits']['function']"
   ]
  },
  {
   "cell_type": "code",
   "execution_count": null,
   "metadata": {
    "collapsed": true
   },
   "outputs": [],
   "source": [
    "# Instantiate\n",
    "waveTilts = wavetilts.WaveTilts(msarc, settings=tilt_settings,\n",
    "                                    det=det, setup=setup,\n",
    "                                    tslits_dict=tslits_dict, settings_det=settings_det,\n",
    "                                    pixlocn=pixlocn)"
   ]
  },
  {
   "cell_type": "code",
   "execution_count": null,
   "metadata": {},
   "outputs": [],
   "source": [
    "# Run\n",
    "mstilts, wt_maskslits = waveTilts.run(maskslits=maskslits, wv_calib=wv_calib)"
   ]
  },
  {
   "cell_type": "code",
   "execution_count": null,
   "metadata": {},
   "outputs": [],
   "source": [
    "waveTilts.show('fweight', slit=0)"
   ]
  },
  {
   "cell_type": "code",
   "execution_count": null,
   "metadata": {},
   "outputs": [],
   "source": [
    "waveTilts.show('tilts', slit=0)"
   ]
  },
  {
   "cell_type": "markdown",
   "metadata": {},
   "source": [
    "----"
   ]
  },
  {
   "cell_type": "markdown",
   "metadata": {},
   "source": [
    "## Pixel Flat Field"
   ]
  },
  {
   "cell_type": "code",
   "execution_count": null,
   "metadata": {
    "collapsed": true
   },
   "outputs": [],
   "source": [
    "# Settings\n",
    "flat_settings = dict(flatfield=settings.argflag['reduce']['flatfield'].copy(),\n",
    "                     slitprofile=settings.argflag['reduce']['slitprofile'].copy(),\n",
    "                     combine=settings.argflag['pixelflat']['combine'].copy(),\n",
    "                     masters=settings.argflag['reduce']['masters'].copy(),\n",
    "                     detector=settings.spect[dnum])"
   ]
  },
  {
   "cell_type": "code",
   "execution_count": null,
   "metadata": {
    "collapsed": true
   },
   "outputs": [],
   "source": [
    "# Instantiate\n",
    "pixflat_image_files = arsort.list_of_files(fitstbl, 'pixelflat', sci_ID)\n",
    "flatField = flatfield.FlatField(file_list=pixflat_image_files, msbias=msbias,\n",
    "                                spectrograph=spectrograph,\n",
    "                                settings=flat_settings,\n",
    "                                tslits_dict=tslits_dict,\n",
    "                                tilts=mstilts, det=det, setup=setup,\n",
    "                                datasec_img=datasec_img)"
   ]
  },
  {
   "cell_type": "code",
   "execution_count": null,
   "metadata": {},
   "outputs": [],
   "source": [
    "# Run\n",
    "mspixflatnrm, slitprof = flatField.run(armed=False)"
   ]
  },
  {
   "cell_type": "code",
   "execution_count": null,
   "metadata": {
    "collapsed": true
   },
   "outputs": [],
   "source": [
    "flatField.show('norm')"
   ]
  },
  {
   "cell_type": "markdown",
   "metadata": {},
   "source": [
    "----"
   ]
  },
  {
   "cell_type": "markdown",
   "metadata": {},
   "source": [
    "## Wavelength Image"
   ]
  },
  {
   "cell_type": "code",
   "execution_count": null,
   "metadata": {
    "collapsed": true
   },
   "outputs": [],
   "source": [
    "# Settings\n",
    "wvimg_settings = dict(masters=settings.argflag['reduce']['masters'].copy())"
   ]
  },
  {
   "cell_type": "code",
   "execution_count": null,
   "metadata": {
    "collapsed": true
   },
   "outputs": [],
   "source": [
    "# Instantiate\n",
    "waveImage = waveimage.WaveImage(mstilts, wv_calib, settings=wvimg_settings,\n",
    "                                    setup=setup, maskslits=maskslits,\n",
    "                                    slitpix=tslits_dict['slitpix'])"
   ]
  },
  {
   "cell_type": "code",
   "execution_count": null,
   "metadata": {
    "collapsed": true
   },
   "outputs": [],
   "source": [
    "# Build\n",
    "mswave = waveImage._build_wave()"
   ]
  },
  {
   "cell_type": "code",
   "execution_count": null,
   "metadata": {
    "collapsed": true
   },
   "outputs": [],
   "source": [
    "waveImage.show('wave')"
   ]
  },
  {
   "cell_type": "markdown",
   "metadata": {},
   "source": [
    "----"
   ]
  },
  {
   "cell_type": "markdown",
   "metadata": {},
   "source": [
    "## Science Image"
   ]
  },
  {
   "cell_type": "markdown",
   "metadata": {},
   "source": [
    "### File list"
   ]
  },
  {
   "cell_type": "code",
   "execution_count": null,
   "metadata": {
    "collapsed": true
   },
   "outputs": [],
   "source": [
    "sci_image_files = arsort.list_of_files(fitstbl, 'science', sci_ID)"
   ]
  },
  {
   "cell_type": "code",
   "execution_count": null,
   "metadata": {
    "collapsed": true
   },
   "outputs": [],
   "source": [
    "# Settings\n",
    "sci_settings = tsettings.copy()"
   ]
  },
  {
   "cell_type": "markdown",
   "metadata": {},
   "source": [
    "### Instantiate"
   ]
  },
  {
   "cell_type": "code",
   "execution_count": null,
   "metadata": {
    "collapsed": true
   },
   "outputs": [],
   "source": [
    "# Instantiate\n",
    "sciI = scienceimage.ScienceImage(file_list=sci_image_files, datasec_img=datasec_img,\n",
    "                                 bpm=msbpm, det=det, setup=setup, settings=sci_settings,\n",
    "                                 maskslits=maskslits, pixlocn=pixlocn, tslits_dict=tslits_dict,\n",
    "                                 tilts=mstilts, fitstbl=fitstbl, scidx=scidx)"
   ]
  },
  {
   "cell_type": "markdown",
   "metadata": {},
   "source": [
    "### Name, time"
   ]
  },
  {
   "cell_type": "code",
   "execution_count": null,
   "metadata": {},
   "outputs": [],
   "source": [
    "# Names and time\n",
    "obstime, basename = sciI.init_time_names(settings.spect['mosaic']['camera'],\n",
    "                timeunit=settings.spect[\"fits\"][\"timeunit\"])\n",
    "basename"
   ]
  },
  {
   "cell_type": "markdown",
   "metadata": {},
   "source": [
    "### Process"
   ]
  },
  {
   "cell_type": "code",
   "execution_count": null,
   "metadata": {},
   "outputs": [],
   "source": [
    "# Process (includes Variance image and CRs)\n",
    "dnoise = (settings_det['darkcurr'] * float(fitstbl[\"exptime\"][scidx])/3600.0)\n",
    "sciframe, rawvarframe, crmask = sciI._process(\n",
    "    msbias, mspixflatnrm, apply_gain=True, dnoise=dnoise)"
   ]
  },
  {
   "cell_type": "code",
   "execution_count": null,
   "metadata": {
    "collapsed": true
   },
   "outputs": [],
   "source": [
    "sciI.show('sci')"
   ]
  },
  {
   "cell_type": "markdown",
   "metadata": {},
   "source": [
    "### Global sky sub"
   ]
  },
  {
   "cell_type": "code",
   "execution_count": null,
   "metadata": {},
   "outputs": [],
   "source": [
    "# Global skysub\n",
    "settings_skysub = {}\n",
    "settings_skysub['skysub'] = settings.argflag['reduce']['skysub'].copy()\n",
    "global_sky, modelvarframe = sciI.global_skysub(settings_skysub)"
   ]
  },
  {
   "cell_type": "code",
   "execution_count": null,
   "metadata": {
    "collapsed": true
   },
   "outputs": [],
   "source": [
    "sciI.show('skysub')"
   ]
  },
  {
   "cell_type": "markdown",
   "metadata": {},
   "source": [
    "### Find objects"
   ]
  },
  {
   "cell_type": "code",
   "execution_count": null,
   "metadata": {},
   "outputs": [],
   "source": [
    "_, nobj = sciI.find_objects()"
   ]
  },
  {
   "cell_type": "markdown",
   "metadata": {},
   "source": [
    "### Repeat the last 2 steps"
   ]
  },
  {
   "cell_type": "code",
   "execution_count": null,
   "metadata": {},
   "outputs": [],
   "source": [
    "# Mask the objects\n",
    "global_sky, modelvarframe = sciI.global_skysub(settings_skysub, use_tracemask=True)\n",
    "# Another round of finding objects\n",
    "_, nobj = sciI.find_objects()  "
   ]
  },
  {
   "cell_type": "markdown",
   "metadata": {},
   "source": [
    "### Extraction -- New algorithm in development"
   ]
  },
  {
   "cell_type": "code",
   "execution_count": null,
   "metadata": {},
   "outputs": [],
   "source": [
    "specobjs, finalvar, finalsky = sciI.extraction(mswave)"
   ]
  },
  {
   "cell_type": "markdown",
   "metadata": {},
   "source": [
    "### Flexure"
   ]
  },
  {
   "cell_type": "code",
   "execution_count": null,
   "metadata": {},
   "outputs": [],
   "source": [
    "flex_list = arwave.flexure_obj(\n",
    "    specobjs, maskslits, settings.argflag['reduce']['flexure']['method'],\n",
    "    spectrograph,\n",
    "    skyspec_fil = settings.argflag['reduce']['flexure']['spectrum'],\n",
    "    mxshft = settings.argflag['reduce']['flexure']['maxshift'])"
   ]
  },
  {
   "cell_type": "code",
   "execution_count": null,
   "metadata": {
    "collapsed": true
   },
   "outputs": [],
   "source": [
    "# QA \n",
    "arwave.flexure_qa(specobjs, maskslits, basename, det, flex_list)"
   ]
  },
  {
   "cell_type": "markdown",
   "metadata": {},
   "source": [
    "### Heliocentric (optional)"
   ]
  },
  {
   "cell_type": "code",
   "execution_count": null,
   "metadata": {},
   "outputs": [],
   "source": [
    "vel, vel_corr = arwave.geomotion_correct(specobjs, maskslits, fitstbl, scidx,\n",
    "                                         obstime, settings.spect,\n",
    "                                         settings.argflag['reduce']['calibrate']['refframe'])"
   ]
  },
  {
   "cell_type": "code",
   "execution_count": null,
   "metadata": {
    "collapsed": true
   },
   "outputs": [],
   "source": [
    "sci_dict = {}\n",
    "sci_dict['meta'] = {}\n",
    "sci_dict['meta']['vel_corr'] = vel_corr"
   ]
  },
  {
   "cell_type": "markdown",
   "metadata": {},
   "source": [
    "----"
   ]
  },
  {
   "cell_type": "markdown",
   "metadata": {},
   "source": [
    "## Write"
   ]
  },
  {
   "cell_type": "markdown",
   "metadata": {},
   "source": [
    "### 1D spectra"
   ]
  },
  {
   "cell_type": "code",
   "execution_count": null,
   "metadata": {},
   "outputs": [],
   "source": [
    "outfile = 'Science/spec1d_{:s}.fits'.format(basename)\n",
    "helio_dict = dict(refframe=settings.argflag['reduce']['calibrate']['refframe'],\n",
    "                  vel_correction=sci_dict['meta']['vel_corr'])\n",
    "arsave.save_1d_spectra_fits([specobjs], fitstbl[scidx], outfile,\n",
    "                                helio_dict=helio_dict, obs_dict=settings.spect['mosaic'])"
   ]
  },
  {
   "cell_type": "markdown",
   "metadata": {},
   "source": [
    "### 2D images"
   ]
  },
  {
   "cell_type": "code",
   "execution_count": null,
   "metadata": {},
   "outputs": [],
   "source": [
    "# Write 2D images for the Science Frame\n",
    "arsave.save_2d_images(\n",
    "    sci_dict, fitstbl, scidx,\n",
    "    settings.spect['fits']['headext{0:02d}'.format(1)], setup,\n",
    "    settings.argflag['run']['directory']['master']+'_'+spectrograph, # MFDIR\n",
    "    'Science/',  basename)"
   ]
  },
  {
   "cell_type": "markdown",
   "metadata": {},
   "source": [
    "----"
   ]
  },
  {
   "cell_type": "markdown",
   "metadata": {},
   "source": [
    "## Fluxing (optional)"
   ]
  },
  {
   "cell_type": "markdown",
   "metadata": {},
   "source": [
    "### Reduce a standard star"
   ]
  },
  {
   "cell_type": "code",
   "execution_count": null,
   "metadata": {},
   "outputs": [],
   "source": [
    "std_dict = {}\n",
    "# Reduce standard here; only legit if the mask is the same\n",
    "std_idx = arsort.ftype_indices(fitstbl, 'standard', sci_ID)[0]\n",
    "#\n",
    "std_image_files = arsort.list_of_files(fitstbl, 'standard', sci_ID)\n",
    "std_dict[std_idx] = {}\n",
    "\n",
    "# Instantiate for the Standard\n",
    "stdI = scienceimage.ScienceImage(file_list=std_image_files, datasec_img=datasec_img,\n",
    "                                 bpm=msbpm, det=det, setup=setup, settings=sci_settings,\n",
    "                                 maskslits=maskslits, pixlocn=pixlocn, tslits_dict=tslits_dict,\n",
    "                                 tilts=mstilts, fitstbl=fitstbl, scidx=std_idx,\n",
    "                                 objtype='standard')\n",
    "# Names and time\n",
    "_, std_basename = stdI.init_time_names(settings.spect['mosaic']['camera'],\n",
    "                                         timeunit=settings.spect[\"fits\"][\"timeunit\"])\n",
    "# Process (includes Variance image and CRs)\n",
    "stdframe, _, _ = stdI._process(msbias, mspixflatnrm, apply_gain=True, dnoise=dnoise)\n",
    "# Sky\n",
    "_ = stdI.global_skysub(settings_skysub)\n",
    "# Find objects\n",
    "_, nobj = stdI.find_objects()\n",
    "_ = stdI.global_skysub(settings_skysub, use_tracemask=True)\n",
    "# Extract\n",
    "stdobjs, _, _ = stdI.extraction(mswave)\n",
    "# Save for fluxing and output later\n",
    "std_dict[std_idx][det] = {}\n",
    "std_dict[std_idx][det]['basename'] = std_basename\n",
    "std_dict[std_idx][det]['specobjs'] = arutils.unravel_specobjs([stdobjs])\n"
   ]
  },
  {
   "cell_type": "markdown",
   "metadata": {},
   "source": [
    "### Sensitivity function"
   ]
  },
  {
   "cell_type": "code",
   "execution_count": null,
   "metadata": {
    "collapsed": true
   },
   "outputs": [],
   "source": [
    "# Settings\n",
    "fsettings = settings.spect.copy()\n",
    "fsettings['run'] = settings.argflag['run']\n",
    "fsettings['reduce'] = settings.argflag['reduce']"
   ]
  },
  {
   "cell_type": "code",
   "execution_count": null,
   "metadata": {},
   "outputs": [],
   "source": [
    "# Build the list of stdobjs\n",
    "reload(fluxspec)\n",
    "all_std_objs = []\n",
    "for det in std_dict[std_idx].keys():\n",
    "    all_std_objs += std_dict[std_idx][det]['specobjs']\n",
    "FxSpec = fluxspec.FluxSpec(settings=fsettings, std_specobjs=all_std_objs,\n",
    "                           setup=setup)  # This takes the last setup run, which is as sensible as any..\n",
    "sensfunc = FxSpec.master(fitstbl[std_idx], save=False)"
   ]
  },
  {
   "cell_type": "code",
   "execution_count": null,
   "metadata": {},
   "outputs": [],
   "source": [
    "all_std_objs"
   ]
  },
  {
   "cell_type": "code",
   "execution_count": null,
   "metadata": {},
   "outputs": [],
   "source": [
    "# Show\n",
    "FxSpec.show_sensfunc()"
   ]
  },
  {
   "cell_type": "markdown",
   "metadata": {},
   "source": [
    "### Flux"
   ]
  },
  {
   "cell_type": "code",
   "execution_count": null,
   "metadata": {},
   "outputs": [],
   "source": [
    "# Load\n",
    "sci_specobjs, sci_header = arload.load_specobj('Science/spec1d_OFF_J1044p6306_LRISr_2016Feb16T112439.fits')\n",
    "#\n",
    "FxSpec.sci_specobjs = sci_specobjs\n",
    "FxSpec.sci_header = sci_header\n",
    "# Flux\n",
    "FxSpec.flux_science()"
   ]
  },
  {
   "cell_type": "code",
   "execution_count": null,
   "metadata": {},
   "outputs": [],
   "source": [
    "# Write\n",
    "FxSpec.write_science('Science/spec1d_OFF_J1044p6306_LRISr_2016Feb16T112439.fits')"
   ]
  },
  {
   "cell_type": "code",
   "execution_count": null,
   "metadata": {
    "collapsed": true
   },
   "outputs": [],
   "source": []
  }
 ],
 "metadata": {
  "kernelspec": {
   "display_name": "Python 3",
   "language": "python",
   "name": "python3"
  },
  "language_info": {
   "codemirror_mode": {
    "name": "ipython",
    "version": 3
   },
   "file_extension": ".py",
   "mimetype": "text/x-python",
   "name": "python",
   "nbconvert_exporter": "python",
   "pygments_lexer": "ipython3",
   "version": "3.6.5"
  }
 },
 "nbformat": 4,
 "nbformat_minor": 2
}
