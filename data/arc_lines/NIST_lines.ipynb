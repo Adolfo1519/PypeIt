{
 "cells": [
  {
   "cell_type": "markdown",
   "metadata": {},
   "source": [
    "# Trolling NIST"
   ]
  },
  {
   "cell_type": "code",
   "execution_count": 48,
   "metadata": {
    "collapsed": true
   },
   "outputs": [],
   "source": [
    "# import\n",
    "import mechanize\n",
    "import yaml"
   ]
  },
  {
   "cell_type": "markdown",
   "metadata": {},
   "source": [
    "## Testing"
   ]
  },
  {
   "cell_type": "code",
   "execution_count": 4,
   "metadata": {
    "collapsed": true
   },
   "outputs": [],
   "source": [
    "# init\n",
    "browser = mechanize.Browser(factory=mechanize.RobustFactory())\n",
    "browser.set_handle_robots(False)"
   ]
  },
  {
   "cell_type": "code",
   "execution_count": 8,
   "metadata": {
    "collapsed": false
   },
   "outputs": [],
   "source": [
    "page = browser.open(\"http://physics.nist.gov/PhysRefData/ASD/lines_form.html\")"
   ]
  },
  {
   "cell_type": "code",
   "execution_count": 11,
   "metadata": {
    "collapsed": false
   },
   "outputs": [
    {
     "ename": "FormNotFoundError",
     "evalue": "no form matching name 'upp_wn'",
     "output_type": "error",
     "traceback": [
      "\u001b[0;31m---------------------------------------------------------------------------\u001b[0m",
      "\u001b[0;31mFormNotFoundError\u001b[0m                         Traceback (most recent call last)",
      "\u001b[0;32m<ipython-input-11-790d75c77078>\u001b[0m in \u001b[0;36m<module>\u001b[0;34m()\u001b[0m\n\u001b[0;32m----> 1\u001b[0;31m \u001b[0mbrowser\u001b[0m\u001b[0;34m.\u001b[0m\u001b[0mselect_form\u001b[0m\u001b[0;34m(\u001b[0m\u001b[0mname\u001b[0m\u001b[0;34m=\u001b[0m\u001b[0;34m\"upp_wn\"\u001b[0m\u001b[0;34m)\u001b[0m\u001b[0;34m\u001b[0m\u001b[0m\n\u001b[0m",
      "\u001b[0;32m/Users/xavier/anaconda/lib/python2.7/site-packages/mechanize-0.2.6.dev20151024-py2.7.egg/mechanize/_mechanize.pyc\u001b[0m in \u001b[0;36mselect_form\u001b[0;34m(self, name, predicate, nr)\u001b[0m\n\u001b[1;32m    522\u001b[0m             \u001b[0;32mif\u001b[0m \u001b[0morig_nr\u001b[0m \u001b[0;32mis\u001b[0m \u001b[0;32mnot\u001b[0m \u001b[0mNone\u001b[0m\u001b[0;34m:\u001b[0m \u001b[0mdescription\u001b[0m\u001b[0;34m.\u001b[0m\u001b[0mappend\u001b[0m\u001b[0;34m(\u001b[0m\u001b[0;34m\"nr %d\"\u001b[0m \u001b[0;34m%\u001b[0m \u001b[0morig_nr\u001b[0m\u001b[0;34m)\u001b[0m\u001b[0;34m\u001b[0m\u001b[0m\n\u001b[1;32m    523\u001b[0m             \u001b[0mdescription\u001b[0m \u001b[0;34m=\u001b[0m \u001b[0;34m\", \"\u001b[0m\u001b[0;34m.\u001b[0m\u001b[0mjoin\u001b[0m\u001b[0;34m(\u001b[0m\u001b[0mdescription\u001b[0m\u001b[0;34m)\u001b[0m\u001b[0;34m\u001b[0m\u001b[0m\n\u001b[0;32m--> 524\u001b[0;31m             \u001b[0;32mraise\u001b[0m \u001b[0mFormNotFoundError\u001b[0m\u001b[0;34m(\u001b[0m\u001b[0;34m\"no form matching \"\u001b[0m\u001b[0;34m+\u001b[0m\u001b[0mdescription\u001b[0m\u001b[0;34m)\u001b[0m\u001b[0;34m\u001b[0m\u001b[0m\n\u001b[0m\u001b[1;32m    525\u001b[0m \u001b[0;34m\u001b[0m\u001b[0m\n\u001b[1;32m    526\u001b[0m     \u001b[0;32mdef\u001b[0m \u001b[0mclick\u001b[0m\u001b[0;34m(\u001b[0m\u001b[0mself\u001b[0m\u001b[0;34m,\u001b[0m \u001b[0;34m*\u001b[0m\u001b[0margs\u001b[0m\u001b[0;34m,\u001b[0m \u001b[0;34m**\u001b[0m\u001b[0mkwds\u001b[0m\u001b[0;34m)\u001b[0m\u001b[0;34m:\u001b[0m\u001b[0;34m\u001b[0m\u001b[0m\n",
      "\u001b[0;31mFormNotFoundError\u001b[0m: no form matching name 'upp_wn'"
     ]
    }
   ],
   "source": [
    "browser.select_form(name=\"upp_wn\")"
   ]
  },
  {
   "cell_type": "markdown",
   "metadata": {},
   "source": [
    "### Must be using Java Script..."
   ]
  },
  {
   "cell_type": "markdown",
   "metadata": {},
   "source": [
    "## Pulling by hand...\n",
    "\n",
    "    e.g.  Zn I  3000.  10000."
   ]
  },
  {
   "cell_type": "markdown",
   "metadata": {},
   "source": [
    "### Parse"
   ]
  },
  {
   "cell_type": "code",
   "execution_count": 43,
   "metadata": {
    "collapsed": true
   },
   "outputs": [],
   "source": [
    "sys.path.append(os.path.abspath('/Users/xavier/local/Python/PYPIT/src/'))\n",
    "import ararclines as alines"
   ]
  },
  {
   "cell_type": "code",
   "execution_count": 46,
   "metadata": {
    "collapsed": false
   },
   "outputs": [],
   "source": [
    "reload(alines)\n",
    "tbl = ararclines.parse_nist(None,'ZnI')"
   ]
  },
  {
   "cell_type": "code",
   "execution_count": 47,
   "metadata": {
    "collapsed": false
   },
   "outputs": [
    {
     "data": {
      "text/html": [
       "&lt;Table masked=True length=37&gt;\n",
       "<table id=\"table4506940368\">\n",
       "<thead><tr><th>Observed</th><th>Ritz</th><th>Aki</th><th>Acc.</th><th>Ei           Ek</th><th>Lower level</th><th>Upper level</th><th>Type</th><th>TP</th><th>Line</th><th>RelInt</th><th>Ion</th></tr></thead>\n",
       "<thead><tr><th>float64</th><th>int64</th><th>float64</th><th>int64</th><th>int64</th><th>int64</th><th>int64</th><th>int64</th><th>str5</th><th>str5</th><th>int64</th><th>str3</th></tr></thead>\n",
       "<tr><td>3018.36</td><td>--</td><td>--</td><td>--</td><td>--</td><td>--</td><td>--</td><td>--</td><td>--</td><td>L4741</td><td>125</td><td>ZnI</td></tr>\n",
       "<tr><td>3035.78</td><td>--</td><td>--</td><td>--</td><td>--</td><td>--</td><td>--</td><td>--</td><td>--</td><td>L4741</td><td>200</td><td>ZnI</td></tr>\n",
       "<tr><td>3072.06</td><td>--</td><td>--</td><td>--</td><td>--</td><td>--</td><td>--</td><td>--</td><td>--</td><td>L4741</td><td>200</td><td>ZnI</td></tr>\n",
       "<tr><td>3075.9</td><td>--</td><td>32900.0</td><td>--</td><td>--</td><td>0</td><td>1</td><td>--</td><td>T3464</td><td>L4741</td><td>150</td><td>ZnI</td></tr>\n",
       "<tr><td>3282.33</td><td>--</td><td>90000000.0</td><td>--</td><td>--</td><td>0</td><td>1</td><td>--</td><td>T3464</td><td>L4741</td><td>500</td><td>ZnI</td></tr>\n",
       "<tr><td>3302.58</td><td>--</td><td>120000000.0</td><td>--</td><td>--</td><td>1</td><td>2</td><td>--</td><td>T3464</td><td>L4741</td><td>800</td><td>ZnI</td></tr>\n",
       "<tr><td>3302.94</td><td>--</td><td>67000000.0</td><td>--</td><td>--</td><td>1</td><td>1</td><td>--</td><td>T3464</td><td>L4741</td><td>700</td><td>ZnI</td></tr>\n",
       "<tr><td>3345.02</td><td>--</td><td>170000000.0</td><td>--</td><td>--</td><td>2</td><td>3</td><td>--</td><td>T3464</td><td>L4741</td><td>800</td><td>ZnI</td></tr>\n",
       "<tr><td>3345.57</td><td>--</td><td>40000000.0</td><td>--</td><td>--</td><td>2</td><td>2</td><td>--</td><td>T3464</td><td>L4741</td><td>500</td><td>ZnI</td></tr>\n",
       "<tr><td>3345.94</td><td>--</td><td>4500000.0</td><td>--</td><td>--</td><td>2</td><td>1</td><td>--</td><td>T3464</td><td>L4741</td><td>150</td><td>ZnI</td></tr>\n",
       "<tr><td>...</td><td>...</td><td>...</td><td>...</td><td>...</td><td>...</td><td>...</td><td>...</td><td>...</td><td>...</td><td>...</td><td>...</td></tr>\n",
       "<tr><td>5775.5</td><td>--</td><td>--</td><td>--</td><td>--</td><td>--</td><td>--</td><td>--</td><td>--</td><td>L3284</td><td>4</td><td>ZnI</td></tr>\n",
       "<tr><td>5777.11</td><td>--</td><td>--</td><td>--</td><td>--</td><td>--</td><td>--</td><td>--</td><td>--</td><td>L3284</td><td>10</td><td>ZnI</td></tr>\n",
       "<tr><td>6237.9</td><td>--</td><td>--</td><td>--</td><td>--</td><td>--</td><td>--</td><td>--</td><td>--</td><td>L4741</td><td>8</td><td>ZnI</td></tr>\n",
       "<tr><td>6239.17</td><td>--</td><td>--</td><td>--</td><td>--</td><td>--</td><td>--</td><td>--</td><td>--</td><td>L4741</td><td>8</td><td>ZnI</td></tr>\n",
       "<tr><td>6362.34</td><td>--</td><td>47400000.0</td><td>--</td><td>--</td><td>1</td><td>2</td><td>--</td><td>T3464</td><td>L4741</td><td>1000</td><td>ZnI</td></tr>\n",
       "<tr><td>6479.18</td><td>--</td><td>--</td><td>--</td><td>--</td><td>--</td><td>--</td><td>--</td><td>--</td><td>L4741</td><td>10</td><td>ZnI</td></tr>\n",
       "<tr><td>6928.32</td><td>--</td><td>--</td><td>--</td><td>--</td><td>--</td><td>--</td><td>--</td><td>--</td><td>L3284</td><td>15</td><td>ZnI</td></tr>\n",
       "<tr><td>6938.47</td><td>--</td><td>--</td><td>--</td><td>--</td><td>--</td><td>--</td><td>--</td><td>--</td><td>L3284</td><td>8</td><td>ZnI</td></tr>\n",
       "<tr><td>6943.2</td><td>--</td><td>--</td><td>--</td><td>--</td><td>--</td><td>--</td><td>--</td><td>--</td><td>L3284</td><td>3</td><td>ZnI</td></tr>\n",
       "<tr><td>7799.36</td><td>--</td><td>--</td><td>--</td><td>--</td><td>--</td><td>--</td><td>--</td><td>--</td><td>L3284</td><td>10</td><td>ZnI</td></tr>\n",
       "</table>"
      ],
      "text/plain": [
       "<Table masked=True length=37>\n",
       "Observed  Ritz     Aki      Acc. Ei           Ek ...   TP   Line RelInt Ion \n",
       "float64  int64   float64   int64      int64      ...  str5  str5 int64  str3\n",
       "-------- ----- ----------- ----- --------------- ... ----- ----- ------ ----\n",
       " 3018.36    --          --    --              -- ...    -- L4741    125  ZnI\n",
       " 3035.78    --          --    --              -- ...    -- L4741    200  ZnI\n",
       " 3072.06    --          --    --              -- ...    -- L4741    200  ZnI\n",
       "  3075.9    --     32900.0    --              -- ... T3464 L4741    150  ZnI\n",
       " 3282.33    --  90000000.0    --              -- ... T3464 L4741    500  ZnI\n",
       " 3302.58    -- 120000000.0    --              -- ... T3464 L4741    800  ZnI\n",
       " 3302.94    --  67000000.0    --              -- ... T3464 L4741    700  ZnI\n",
       " 3345.02    -- 170000000.0    --              -- ... T3464 L4741    800  ZnI\n",
       " 3345.57    --  40000000.0    --              -- ... T3464 L4741    500  ZnI\n",
       " 3345.94    --   4500000.0    --              -- ... T3464 L4741    150  ZnI\n",
       "     ...   ...         ...   ...             ... ...   ...   ...    ...  ...\n",
       "  5775.5    --          --    --              -- ...    -- L3284      4  ZnI\n",
       " 5777.11    --          --    --              -- ...    -- L3284     10  ZnI\n",
       "  6237.9    --          --    --              -- ...    -- L4741      8  ZnI\n",
       " 6239.17    --          --    --              -- ...    -- L4741      8  ZnI\n",
       " 6362.34    --  47400000.0    --              -- ... T3464 L4741   1000  ZnI\n",
       " 6479.18    --          --    --              -- ...    -- L4741     10  ZnI\n",
       " 6928.32    --          --    --              -- ...    -- L3284     15  ZnI\n",
       " 6938.47    --          --    --              -- ...    -- L3284      8  ZnI\n",
       "  6943.2    --          --    --              -- ...    -- L3284      3  ZnI\n",
       " 7799.36    --          --    --              -- ...    -- L3284     10  ZnI"
      ]
     },
     "execution_count": 47,
     "metadata": {},
     "output_type": "execute_result"
    }
   ],
   "source": [
    "tbl"
   ]
  },
  {
   "cell_type": "markdown",
   "metadata": {},
   "source": [
    "### CdI"
   ]
  },
  {
   "cell_type": "code",
   "execution_count": 73,
   "metadata": {
    "collapsed": true
   },
   "outputs": [],
   "source": [
    "cdI = Table.read('NIST/CdI.ascii',format='ascii.fixed_width')"
   ]
  },
  {
   "cell_type": "code",
   "execution_count": 75,
   "metadata": {
    "collapsed": false
   },
   "outputs": [],
   "source": [
    "reload(alines)\n",
    "cdI = ararclines.parse_nist(None,'CdI')"
   ]
  },
  {
   "cell_type": "code",
   "execution_count": 76,
   "metadata": {
    "collapsed": false
   },
   "outputs": [
    {
     "data": {
      "text/html": [
       "&lt;Table masked=True length=33&gt;\n",
       "<table id=\"table4508511120\">\n",
       "<thead><tr><th>Observed</th><th>Ritz</th><th>Aki</th><th>Acc.</th><th>Ei           Ek</th><th>Lower level</th><th>Upper level</th><th>Type</th><th>TP</th><th>Line</th><th>RelInt</th><th>Ion</th></tr></thead>\n",
       "<thead><tr><th>float64</th><th>str9</th><th>float64</th><th>int64</th><th>str24</th><th>str21</th><th>str21</th><th>int64</th><th>str5</th><th>str8</th><th>int64</th><th>str3</th></tr></thead>\n",
       "<tr><td>3080.8224</td><td>3080.822+</td><td>--</td><td>--</td><td>30113.990   -  62563.435</td><td>4d10.5s.5p | 3P*  | 0</td><td>4d10.5s.7s | 3S   | 1</td><td>--</td><td>--</td><td>L3486</td><td>150</td><td>CdI</td></tr>\n",
       "<tr><td>3082.5934</td><td>3082.592+</td><td>--</td><td>--</td><td>30656.087   -  63086.896</td><td>4d10.5s.5p | 3P*  | 1</td><td>4d10.5s.7s | 1S   | 0</td><td>--</td><td>--</td><td>L3486</td><td>30</td><td>CdI</td></tr>\n",
       "<tr><td>3133.1666</td><td>3133.166+</td><td>--</td><td>--</td><td>30656.087   -  62563.435</td><td>4d10.5s.5p | 3P*  | 1</td><td>4d10.5s.7s | 3S   | 1</td><td>--</td><td>--</td><td>L3486</td><td>200</td><td>CdI</td></tr>\n",
       "<tr><td>3252.524</td><td>3252.525+</td><td>--</td><td>--</td><td>31826.952   -  62563.435</td><td>4d10.5s.5p | 3P*  | 2</td><td>4d10.5s.7s | 3S   | 1</td><td>--</td><td>--</td><td>L3486</td><td>300</td><td>CdI</td></tr>\n",
       "<tr><td>3261.0548</td><td>3261.055+</td><td>406000.0</td><td>--</td><td>0.000   -  30656.087</td><td>4d10.5s2   | 1S   | 0</td><td>4d10.5s.5p | 3P*  | 1</td><td>--</td><td>T3464</td><td>L3486</td><td>300</td><td>CdI</td></tr>\n",
       "<tr><td>3403.6521</td><td>3403.652+</td><td>77000000.0</td><td>--</td><td>30113.990   -  59485.768</td><td>4d10.5s.5p | 3P*  | 0</td><td>4d10.5s.5d | 3D   | 1</td><td>--</td><td>T3464</td><td>L3486</td><td>800</td><td>CdI</td></tr>\n",
       "<tr><td>3466.1996</td><td>3466.200+</td><td>120000000.0</td><td>--</td><td>30656.087   -  59497.868</td><td>4d10.5s.5p | 3P*  | 1</td><td>4d10.5s.5d | 3D   | 2</td><td>--</td><td>T3464</td><td>L3486</td><td>1000</td><td>CdI</td></tr>\n",
       "<tr><td>3467.6547</td><td>3467.654+</td><td>67000000.0</td><td>--</td><td>30656.087   -  59485.768</td><td>4d10.5s.5p | 3P*  | 1</td><td>4d10.5s.5d | 3D   | 1</td><td>--</td><td>T3464</td><td>L3486</td><td>800</td><td>CdI</td></tr>\n",
       "<tr><td>3499.9518</td><td>3499.952+</td><td>--</td><td>--</td><td>30656.087   -  59219.734</td><td>4d10.5s.5p | 3P*  | 1</td><td>4d10.5s.5d | 1D   | 2</td><td>--</td><td>--</td><td>L3486</td><td>25</td><td>CdI</td></tr>\n",
       "<tr><td>3610.5077</td><td>3610.509+</td><td>130000000.0</td><td>--</td><td>31826.952   -  59515.980</td><td>4d10.5s.5p | 3P*  | 2</td><td>4d10.5s.5d | 3D   | 3</td><td>--</td><td>T3464</td><td>L3486</td><td>1000</td><td>CdI</td></tr>\n",
       "<tr><td>...</td><td>...</td><td>...</td><td>...</td><td>...</td><td>...</td><td>...</td><td>...</td><td>...</td><td>...</td><td>...</td><td>...</td></tr>\n",
       "<tr><td>6111.495</td><td>6111.5+</td><td>--</td><td>--</td><td>51483.980   -  67842.06</td><td>4d10.5s.6s | 3S   | 1</td><td>4d10.5s.8p | 3P*  | 1</td><td>--</td><td>--</td><td>L3486</td><td>100</td><td>CdI</td></tr>\n",
       "<tr><td>6325.1661</td><td>6325.17+</td><td>--</td><td>--</td><td>43692.384   -  59497.868</td><td>4d10.5s.5p | 1P*  | 1</td><td>4d10.5s.5d | 3D   | 2</td><td>--</td><td>--</td><td>L3486</td><td>100</td><td>CdI</td></tr>\n",
       "<tr><td>6330.0133</td><td>6330.01+</td><td>--</td><td>--</td><td>43692.384   -  59485.768</td><td>4d10.5s.5p | 1P*  | 1</td><td>4d10.5s.5d | 3D   | 1</td><td>--</td><td>--</td><td>L3486</td><td>30</td><td>CdI</td></tr>\n",
       "<tr><td>6438.4695</td><td>6438.47+</td><td>59000000.0</td><td>--</td><td>43692.384   -  59219.734</td><td>4d10.5s.5p | 1P*  | 1</td><td>4d10.5s.5d | 1D   | 2</td><td>--</td><td>T3464</td><td>L3486</td><td>2000</td><td>CdI</td></tr>\n",
       "<tr><td>6778.1157</td><td>6778.12+</td><td>--</td><td>--</td><td>53310.101   -  68059.393</td><td>4d10.5s.6s | 1S   | 0</td><td>4d10.5s.8p | 1P*  | 1</td><td>--</td><td>--</td><td>L3486</td><td>30</td><td>CdI</td></tr>\n",
       "<tr><td>7345.6704</td><td>7345.66+</td><td>--</td><td>--</td><td>51483.980   -  65093.702</td><td>4d10.5s.6s | 3S   | 1</td><td>4d10.5s.7p | 3P*  | 2</td><td>--</td><td>--</td><td>L3486</td><td>1000</td><td>CdI</td></tr>\n",
       "<tr><td>8200.3089</td><td>8200.31+</td><td>--</td><td>--</td><td>53310.101   -  65501.412</td><td>4d10.5s.6s | 1S   | 0</td><td>4d10.5s.7p | 1P*  | 1</td><td>--</td><td>--</td><td>L3486</td><td>5</td><td>CdI</td></tr>\n",
       "<tr><td>9292.0</td><td>9283+</td><td>--</td><td>--</td><td>58635.7     -  69405.160</td><td>4d10.5s.6p | 3P*  | 2</td><td>4d10.5s.8d | 3D   | 3</td><td>--</td><td>--</td><td>L7381</td><td>20</td><td>CdI</td></tr>\n",
       "<tr><td>9292.0</td><td>9285+</td><td>--</td><td>--</td><td>58635.7     -  69402.583</td><td>4d10.5s.6p | 3P*  | 2</td><td>4d10.5s.8d | 3D   | 2</td><td>--</td><td>--</td><td>L7381</td><td>20</td><td>CdI</td></tr>\n",
       "<tr><td>9292.0</td><td>9287+</td><td>--</td><td>--</td><td>58635.7     -  69400.900</td><td>4d10.5s.6p | 3P*  | 2</td><td>4d10.5s.8d | 3D   | 1</td><td>--</td><td>--</td><td>L7381</td><td>20</td><td>CdI</td></tr>\n",
       "</table>"
      ],
      "text/plain": [
       "<Table masked=True length=33>\n",
       " Observed    Ritz       Aki      Acc. ...   TP   Line RelInt Ion \n",
       " float64     str9     float64   int64 ...  str5  str8 int64  str3\n",
       "--------- --------- ----------- ----- ... ----- ----- ------ ----\n",
       "3080.8224 3080.822+          --    -- ...    -- L3486    150  CdI\n",
       "3082.5934 3082.592+          --    -- ...    -- L3486     30  CdI\n",
       "3133.1666 3133.166+          --    -- ...    -- L3486    200  CdI\n",
       " 3252.524 3252.525+          --    -- ...    -- L3486    300  CdI\n",
       "3261.0548 3261.055+    406000.0    -- ... T3464 L3486    300  CdI\n",
       "3403.6521 3403.652+  77000000.0    -- ... T3464 L3486    800  CdI\n",
       "3466.1996 3466.200+ 120000000.0    -- ... T3464 L3486   1000  CdI\n",
       "3467.6547 3467.654+  67000000.0    -- ... T3464 L3486    800  CdI\n",
       "3499.9518 3499.952+          --    -- ...    -- L3486     25  CdI\n",
       "3610.5077 3610.509+ 130000000.0    -- ... T3464 L3486   1000  CdI\n",
       "      ...       ...         ...   ... ...   ...   ...    ...  ...\n",
       " 6111.495   6111.5+          --    -- ...    -- L3486    100  CdI\n",
       "6325.1661  6325.17+          --    -- ...    -- L3486    100  CdI\n",
       "6330.0133  6330.01+          --    -- ...    -- L3486     30  CdI\n",
       "6438.4695  6438.47+  59000000.0    -- ... T3464 L3486   2000  CdI\n",
       "6778.1157  6778.12+          --    -- ...    -- L3486     30  CdI\n",
       "7345.6704  7345.66+          --    -- ...    -- L3486   1000  CdI\n",
       "8200.3089  8200.31+          --    -- ...    -- L3486      5  CdI\n",
       "   9292.0     9283+          --    -- ...    -- L7381     20  CdI\n",
       "   9292.0     9285+          --    -- ...    -- L7381     20  CdI\n",
       "   9292.0     9287+          --    -- ...    -- L7381     20  CdI"
      ]
     },
     "execution_count": 76,
     "metadata": {},
     "output_type": "execute_result"
    }
   ],
   "source": [
    "cdI"
   ]
  },
  {
   "cell_type": "markdown",
   "metadata": {},
   "source": [
    "### HgI"
   ]
  },
  {
   "cell_type": "code",
   "execution_count": 83,
   "metadata": {
    "collapsed": false
   },
   "outputs": [],
   "source": [
    "reload(alines)\n",
    "HgI = ararclines.parse_nist(None,'HgI')"
   ]
  },
  {
   "cell_type": "code",
   "execution_count": 84,
   "metadata": {
    "collapsed": false
   },
   "outputs": [
    {
     "data": {
      "text/html": [
       "&lt;Table masked=True length=17&gt;\n",
       "<table id=\"table4509081168\">\n",
       "<thead><tr><th>Observed</th><th>Ritz</th><th>Aki</th><th>Acc.</th><th>Ei           Ek</th><th>Lower level</th><th>Upper level</th><th>Type</th><th>TP</th><th>Line</th><th>RelInt</th><th>Ion</th></tr></thead>\n",
       "<thead><tr><th>float64</th><th>float64</th><th>float64</th><th>int64</th><th>str25</th><th>str34</th><th>str34</th><th>str2</th><th>str5</th><th>str16</th><th>int64</th><th>str3</th></tr></thead>\n",
       "<tr><td>3021.504</td><td>3021.5041</td><td>50900000.0</td><td>--</td><td>44042.909    -  77129.372</td><td>5d10.6s.6p           | 3P*     | 2</td><td>5d10.6s.7d           | 3D      | 3</td><td>--</td><td>T3464</td><td>L7247</td><td>1200</td><td>HgI</td></tr>\n",
       "<tr><td>3125.674</td><td>3125.6732</td><td>65600000.0</td><td>--</td><td>39412.237    -  71396.073</td><td>5d10.6s.6p           | 3P*     | 1</td><td>5d10.6s.6d           | 3D      | 2</td><td>--</td><td>T3464</td><td>L7247</td><td>4000</td><td>HgI</td></tr>\n",
       "<tr><td>3131.555</td><td>3131.5547</td><td>--</td><td>--</td><td>39412.237    -  71336.005</td><td>5d10.6s.6p           | 3P*     | 1</td><td>5d10.6s.6d           | 3D      | 1</td><td>--</td><td>--</td><td>L7247</td><td>3000</td><td>HgI</td></tr>\n",
       "<tr><td>3131.844</td><td>3131.8443</td><td>--</td><td>--</td><td>39412.237    -  71333.053</td><td>5d10.6s.6p           | 3P*     | 1</td><td>5d10.6s.6d           | 1D      | 2</td><td>--</td><td>--</td><td>L7247</td><td>4000</td><td>HgI</td></tr>\n",
       "<tr><td>3650.158</td><td>3650.1579</td><td>130000000.0</td><td>--</td><td>44042.909    -  71431.180</td><td>5d10.6s.6p           | 3P*     | 2</td><td>5d10.6s.6d           | 3D      | 3</td><td>--</td><td>T3464</td><td>L7247</td><td>9000</td><td>HgI</td></tr>\n",
       "<tr><td>3654.842</td><td>3654.8429</td><td>18000000.0</td><td>--</td><td>44042.909    -  71396.073</td><td>5d10.6s.6p           | 3P*     | 2</td><td>5d10.6s.6d           | 3D      | 2</td><td>--</td><td>T3464</td><td>L7247</td><td>3000</td><td>HgI</td></tr>\n",
       "<tr><td>3663.284</td><td>3663.2831</td><td>--</td><td>--</td><td>44042.909    -  71333.053</td><td>5d10.6s.6p           | 3P*     | 2</td><td>5d10.6s.6d           | 1D      | 2</td><td>--</td><td>--</td><td>L7247</td><td>2000</td><td>HgI</td></tr>\n",
       "<tr><td>4046.565</td><td>4046.5643</td><td>21000000.0</td><td>--</td><td>37644.982    -  62350.325</td><td>5d10.6s.6p           | 3P*     | 0</td><td>5d10.6s.7s           | 3S      | 1</td><td>--</td><td>T3464</td><td>L7247</td><td>12000</td><td>HgI</td></tr>\n",
       "<tr><td>4077.837</td><td>4077.837</td><td>4000000.0</td><td>--</td><td>39412.237    -  63928.120</td><td>5d10.6s.6p           | 3P*     | 1</td><td>5d10.6s.7s           | 1S      | 0</td><td>--</td><td>T3464</td><td>L7247</td><td>1000</td><td>HgI</td></tr>\n",
       "<tr><td>4358.335</td><td>4358.3363</td><td>55700000.0</td><td>--</td><td>39412.237    -  62350.325</td><td>5d10.6s.6p           | 3P*     | 1</td><td>5d10.6s.7s           | 3S      | 1</td><td>--</td><td>T3464</td><td>L7247</td><td>12000</td><td>HgI</td></tr>\n",
       "<tr><td>5460.75</td><td>5460.7498</td><td>48700000.0</td><td>--</td><td>44042.909    -  62350.325</td><td>5d10.6s.6p           | 3P*     | 2</td><td>5d10.6s.7s           | 3S      | 1</td><td>--</td><td>T3464</td><td>L7247</td><td>6000</td><td>HgI</td></tr>\n",
       "<tr><td>5769.61</td><td>5769.6095</td><td>23600000.0</td><td>--</td><td>54068.6829   -  71396.073</td><td>5d10.6s.6p           | 1P*     | 1</td><td>5d10.6s.6d           | 3D      | 2</td><td>--</td><td>T3464</td><td>L7247</td><td>1000</td><td>HgI</td></tr>\n",
       "<tr><td>5790.67</td><td>5790.6705</td><td>--</td><td>--</td><td>54068.6829   -  71333.053</td><td>5d10.6s.6p           | 1P*     | 1</td><td>5d10.6s.6d           | 1D      | 2</td><td>--</td><td>--</td><td>L7247</td><td>900</td><td>HgI</td></tr>\n",
       "<tr><td>6907.46</td><td>6907.46</td><td>2800000.0</td><td>--</td><td>62350.325    -  76823.43</td><td>5d10.6s.7s           | 3S      | 1</td><td>5d10.6s.8p           | 3P*     | 2</td><td>--</td><td>T3464</td><td>L15184</td><td>1000</td><td>HgI</td></tr>\n",
       "<tr><td>7081.901</td><td>7081.901</td><td>--</td><td>--</td><td>62350.325    -  76466.936</td><td>5d10.6s.7s           | 3S      | 1</td><td>5d10.6s.8p           | 3P*     | 1</td><td>--</td><td>--</td><td>L3499</td><td>1000</td><td>HgI</td></tr>\n",
       "<tr><td>10139.75</td><td>10139.787</td><td>27100000.0</td><td>--</td><td>54068.6829   -  63928.120</td><td>5d10.6s.6p           | 1P*     | 1</td><td>5d10.6s.7s           | 1S      | 0</td><td>--</td><td>T3464</td><td>L7591</td><td>1600</td><td>HgI</td></tr>\n",
       "<tr><td>11287.1</td><td>11287.451</td><td>--</td><td>--</td><td>62350.325    -  71207.296</td><td>5d10.6s.7s           | 3S      | 1</td><td>5d10.6s.7p           | 3P*     | 2</td><td>--</td><td>--</td><td>L7592</td><td>1000</td><td>HgI</td></tr>\n",
       "</table>"
      ],
      "text/plain": [
       "<Table masked=True length=17>\n",
       "Observed    Ritz       Aki      Acc. ...   TP   Line  RelInt Ion \n",
       "float64   float64    float64   int64 ...  str5 str16  int64  str3\n",
       "-------- --------- ----------- ----- ... ----- ------ ------ ----\n",
       "3021.504 3021.5041  50900000.0    -- ... T3464  L7247   1200  HgI\n",
       "3125.674 3125.6732  65600000.0    -- ... T3464  L7247   4000  HgI\n",
       "3131.555 3131.5547          --    -- ...    --  L7247   3000  HgI\n",
       "3131.844 3131.8443          --    -- ...    --  L7247   4000  HgI\n",
       "3650.158 3650.1579 130000000.0    -- ... T3464  L7247   9000  HgI\n",
       "3654.842 3654.8429  18000000.0    -- ... T3464  L7247   3000  HgI\n",
       "3663.284 3663.2831          --    -- ...    --  L7247   2000  HgI\n",
       "4046.565 4046.5643  21000000.0    -- ... T3464  L7247  12000  HgI\n",
       "4077.837  4077.837   4000000.0    -- ... T3464  L7247   1000  HgI\n",
       "4358.335 4358.3363  55700000.0    -- ... T3464  L7247  12000  HgI\n",
       " 5460.75 5460.7498  48700000.0    -- ... T3464  L7247   6000  HgI\n",
       " 5769.61 5769.6095  23600000.0    -- ... T3464  L7247   1000  HgI\n",
       " 5790.67 5790.6705          --    -- ...    --  L7247    900  HgI\n",
       " 6907.46   6907.46   2800000.0    -- ... T3464 L15184   1000  HgI\n",
       "7081.901  7081.901          --    -- ...    --  L3499   1000  HgI\n",
       "10139.75 10139.787  27100000.0    -- ... T3464  L7591   1600  HgI\n",
       " 11287.1 11287.451          --    -- ...    --  L7592   1000  HgI"
      ]
     },
     "execution_count": 84,
     "metadata": {},
     "output_type": "execute_result"
    }
   ],
   "source": [
    "HgI[HgI['RelInt']>800]"
   ]
  },
  {
   "cell_type": "markdown",
   "metadata": {},
   "source": [
    "### HeI"
   ]
  },
  {
   "cell_type": "code",
   "execution_count": 104,
   "metadata": {
    "collapsed": false
   },
   "outputs": [],
   "source": [
    "reload(alines)\n",
    "HeI = ararclines.parse_nist(None,'HeI')"
   ]
  },
  {
   "cell_type": "code",
   "execution_count": 105,
   "metadata": {
    "collapsed": false
   },
   "outputs": [
    {
     "data": {
      "text/html": [
       "&lt;Table masked=True length=42&gt;\n",
       "<table id=\"table4509583184\">\n",
       "<thead><tr><th>Wave</th><th>Aki</th><th>Acc.</th><th>Ei           Ek</th><th>Lower level</th><th>Upper level</th><th>Type</th><th>TP</th><th>Line</th><th>RelInt</th><th>Ion</th></tr></thead>\n",
       "<thead><tr><th>float64</th><th>float64</th><th>str3</th><th>str39</th><th>str21</th><th>str21</th><th>str2</th><th>str8</th><th>str9</th><th>int64</th><th>str5</th></tr></thead>\n",
       "<tr><td>3013.7</td><td>--</td><td>--</td><td>481301.5          -  514473.5</td><td>2p2    | 3P   | 0,1,2</td><td>2p.3d  | 3D*  | 1,2,3</td><td>--</td><td>--</td><td>L1786</td><td>40</td><td>HeI</td></tr>\n",
       "<tr><td>3187.745</td><td>5636100.0</td><td>AAA</td><td>[159855.9743297]   - [191217.049963]</td><td>1s.2s  | 3S   | 1</td><td>1s.4p  | 3P*  | 1</td><td>--</td><td>T8636c73</td><td>L14925c72</td><td>20</td><td>HeI</td></tr>\n",
       "<tr><td>3231.266</td><td>510150.0</td><td>AAA</td><td>[166277.440141]    - [197216.0895622]</td><td>1s.2s  | 1S   | 0</td><td>1s.10p | 1P*  | 1</td><td>--</td><td>T8636c73</td><td>L14924</td><td>0</td><td>HeI</td></tr>\n",
       "<tr><td>3258.275</td><td>696270.0</td><td>AAA</td><td>[166277.440141]    - [196959.6928160]</td><td>1s.2s  | 1S   | 0</td><td>1s.9p  | 1P*  | 1</td><td>--</td><td>T8636c73</td><td>L14924</td><td>1</td><td>HeI</td></tr>\n",
       "<tr><td>3554.415</td><td>36386.0</td><td>AAA</td><td>[169086.7664725]   - [197212.82712336]</td><td>1s.2p  | 3P*  | 2</td><td>1s.10d | 3D   | 1</td><td>--</td><td>T8636c73</td><td>L551</td><td>1</td><td>HeI</td></tr>\n",
       "<tr><td>3562.979</td><td>268680.0</td><td>AAA</td><td>[169086.7664725]   - [197145.2332580]</td><td>1s.2p  | 3P*  | 2</td><td>1s.10s | 3S   | 1</td><td>--</td><td>T8636c73</td><td>L366</td><td>0</td><td>HeI</td></tr>\n",
       "<tr><td>3587.27</td><td>50298.0</td><td>AAA</td><td>[169086.7664725]   - [196955.22825838]</td><td>1s.2p  | 3P*  | 2</td><td>1s.9d  | 3D   | 1</td><td>--</td><td>T8636c73</td><td>L551</td><td>1</td><td>HeI</td></tr>\n",
       "<tr><td>3613.643</td><td>3802200.0</td><td>AAA</td><td>[166277.440141]    - [193942.462294]</td><td>1s.2s  | 1S   | 0</td><td>1s.5p  | 1P*  | 1</td><td>--</td><td>T8636c73</td><td>L14925c72</td><td>3</td><td>HeI</td></tr>\n",
       "<tr><td>3651.99</td><td>541360.0</td><td>AAA</td><td>[169086.7664725]   - [196461.3618105]</td><td>1s.2p  | 3P*  | 2</td><td>1s.8s  | 3S   | 1</td><td>--</td><td>T8636c73</td><td>L366</td><td>1</td><td>HeI</td></tr>\n",
       "<tr><td>3705.005</td><td>109800.0</td><td>AAA</td><td>[169086.7664725]   - [196069.67648966]</td><td>1s.2p  | 3P*  | 2</td><td>1s.7d  | 3D   | 1</td><td>--</td><td>T8636c73</td><td>L14925c72</td><td>3</td><td>HeI</td></tr>\n",
       "<tr><td>...</td><td>...</td><td>...</td><td>...</td><td>...</td><td>...</td><td>...</td><td>...</td><td>...</td><td>...</td><td>...</td></tr>\n",
       "<tr><td>7281.349</td><td>18299000.0</td><td>AAA</td><td>[171134.896946]    - [184864.82932]</td><td>1s.2p  | 1P*  | 1</td><td>1s.3s  | 1S   | 0</td><td>--</td><td>T8636c73</td><td>L366</td><td>50</td><td>HeI</td></tr>\n",
       "<tr><td>9210.337</td><td>2268.5</td><td>AAA</td><td>[186101.5461767]   - [196955.946184774]</td><td>1s.3d  | 3D   | 3</td><td>1s.9f  | 3F*  | 2</td><td>--</td><td>T8636c73</td><td>L551</td><td>2</td><td>HeI</td></tr>\n",
       "<tr><td>9526.17</td><td>3383.4</td><td>AAA</td><td>[186101.5461767]   - [196596.080442094]</td><td>1s.3d  | 3D   | 3</td><td>1s.8f  | 3F*  | 2</td><td>--</td><td>T8636c73</td><td>L8200</td><td>3</td><td>HeI</td></tr>\n",
       "<tr><td>9529.27</td><td>589760.0</td><td>AAA</td><td>[186104.9666893]   - [196596.082092602]</td><td>1s.3d  | 1D   | 2</td><td>1s.8f  | 1F*  | 3</td><td>--</td><td>T8636c73</td><td>L366</td><td>1</td><td>HeI</td></tr>\n",
       "<tr><td>10027.73</td><td>5414.7</td><td>AAA</td><td>[186101.5461767]   - [196071.178729980]</td><td>1s.3d  | 3D   | 3</td><td>1s.7f  | 3F*  | 2</td><td>--</td><td>T8636c73</td><td>L8200</td><td>6</td><td>HeI</td></tr>\n",
       "<tr><td>10031.16</td><td>928920.0</td><td>AAA</td><td>[186104.9666893]   - [196071.181064965]</td><td>1s.3d  | 1D   | 2</td><td>1s.7f  | 1F*  | 3</td><td>--</td><td>T8636c73</td><td>L8200</td><td>2</td><td>HeI</td></tr>\n",
       "<tr><td>10912.92</td><td>9619.7</td><td>AAA</td><td>[186101.5461767]   - [195262.428373005]</td><td>1s.3d  | 3D   | 3</td><td>1s.6f  | 3F*  | 2</td><td>--</td><td>T8636c73</td><td>L7293</td><td>12</td><td>HeI</td></tr>\n",
       "<tr><td>10913.05</td><td>1818100.0</td><td>AAA</td><td>[186101.5928903]   - [195262.428373005]</td><td>1s.3d  | 3D   | 1</td><td>1s.6f  | 3F*  | 2</td><td>--</td><td>T8636c73</td><td>L885</td><td>9</td><td>HeI</td></tr>\n",
       "<tr><td>10917.1</td><td>1608300.0</td><td>AAA</td><td>[186104.9666893]   - [195262.431784358]</td><td>1s.3d  | 1D   | 2</td><td>1s.6f  | 1F*  | 3</td><td>--</td><td>T8636c73</td><td>L885</td><td>3</td><td>HeI</td></tr>\n",
       "<tr><td>11969.12</td><td>2608400.0</td><td>AAA</td><td>[185564.583895]    - [193917.15192855]</td><td>1s.3p  | 3P*  | 1</td><td>1s.5d  | 3D   | 2</td><td>--</td><td>T8636c73</td><td>L885</td><td>30</td><td>HeI</td></tr>\n",
       "</table>"
      ],
      "text/plain": [
       "<Table masked=True length=42>\n",
       "  Wave      Aki     Acc. ...    Line   RelInt Ion \n",
       "float64   float64   str3 ...    str9   int64  str5\n",
       "-------- ---------- ---- ... --------- ------ ----\n",
       "  3013.7         --   -- ...     L1786     40  HeI\n",
       "3187.745  5636100.0  AAA ... L14925c72     20  HeI\n",
       "3231.266   510150.0  AAA ...    L14924      0  HeI\n",
       "3258.275   696270.0  AAA ...    L14924      1  HeI\n",
       "3554.415    36386.0  AAA ...      L551      1  HeI\n",
       "3562.979   268680.0  AAA ...      L366      0  HeI\n",
       " 3587.27    50298.0  AAA ...      L551      1  HeI\n",
       "3613.643  3802200.0  AAA ... L14925c72      3  HeI\n",
       " 3651.99   541360.0  AAA ...      L366      1  HeI\n",
       "3705.005   109800.0  AAA ... L14925c72      3  HeI\n",
       "     ...        ...  ... ...       ...    ...  ...\n",
       "7281.349 18299000.0  AAA ...      L366     50  HeI\n",
       "9210.337     2268.5  AAA ...      L551      2  HeI\n",
       " 9526.17     3383.4  AAA ...     L8200      3  HeI\n",
       " 9529.27   589760.0  AAA ...      L366      1  HeI\n",
       "10027.73     5414.7  AAA ...     L8200      6  HeI\n",
       "10031.16   928920.0  AAA ...     L8200      2  HeI\n",
       "10912.92     9619.7  AAA ...     L7293     12  HeI\n",
       "10913.05  1818100.0  AAA ...      L885      9  HeI\n",
       " 10917.1  1608300.0  AAA ...      L885      3  HeI\n",
       "11969.12  2608400.0  AAA ...      L885     30  HeI"
      ]
     },
     "execution_count": 105,
     "metadata": {},
     "output_type": "execute_result"
    }
   ],
   "source": [
    "HeI"
   ]
  },
  {
   "cell_type": "markdown",
   "metadata": {},
   "source": [
    "## Rejecting lines"
   ]
  },
  {
   "cell_type": "code",
   "execution_count": 121,
   "metadata": {
    "collapsed": true
   },
   "outputs": [],
   "source": [
    "# Read yaml\n",
    "with open('rejected_lines.yaml', 'r') as infile:\n",
    "    rej_lines = yaml.load(infile)"
   ]
  },
  {
   "cell_type": "code",
   "execution_count": 122,
   "metadata": {
    "collapsed": false
   },
   "outputs": [
    {
     "data": {
      "text/plain": [
       "{'CdI': {3252.524: {'lris_blue': 'all'}},\n",
       " 'HgI': {3131.555: 'all', 3131.844: 'all', 3654.842: 'all'}}"
      ]
     },
     "execution_count": 122,
     "metadata": {},
     "output_type": "execute_result"
    }
   ],
   "source": [
    "rej_lines"
   ]
  },
  {
   "cell_type": "code",
   "execution_count": 124,
   "metadata": {
    "collapsed": false
   },
   "outputs": [
    {
     "data": {
      "text/plain": [
       "['lris_blue']"
      ]
     },
     "execution_count": 124,
     "metadata": {},
     "output_type": "execute_result"
    }
   ],
   "source": [
    "rej_lines['CdI'][3252.524].keys()#['lris_blue'])"
   ]
  },
  {
   "cell_type": "markdown",
   "metadata": {},
   "source": [
    "## Load a full line list"
   ]
  },
  {
   "cell_type": "code",
   "execution_count": 118,
   "metadata": {
    "collapsed": false
   },
   "outputs": [
    {
     "name": "stderr",
     "output_type": "stream",
     "text": [
      "\u001b[1;32m[INFO]    ::\u001b[0m Rejecting select HgI lines\n"
     ]
    }
   ],
   "source": [
    "reload(alines)\n",
    "alist = alines.load_arcline_list(None,['ZnI','CdI','HgI'])"
   ]
  },
  {
   "cell_type": "code",
   "execution_count": 129,
   "metadata": {
    "collapsed": false
   },
   "outputs": [
    {
     "data": {
      "text/html": [
       "&lt;Table masked=True length=14&gt;\n",
       "<table id=\"table4508417872\">\n",
       "<thead><tr><th>Ion</th><th>wave</th><th>RelInt</th></tr></thead>\n",
       "<thead><tr><th>str5</th><th>float64</th><th>int64</th></tr></thead>\n",
       "<tr><td>ZnI</td><td>3018.36</td><td>125</td></tr>\n",
       "<tr><td>ZnI</td><td>3035.78</td><td>200</td></tr>\n",
       "<tr><td>ZnI</td><td>3072.06</td><td>200</td></tr>\n",
       "<tr><td>ZnI</td><td>3075.9</td><td>150</td></tr>\n",
       "<tr><td>ZnI</td><td>3282.33</td><td>500</td></tr>\n",
       "<tr><td>ZnI</td><td>3302.58</td><td>800</td></tr>\n",
       "<tr><td>ZnI</td><td>3302.94</td><td>700</td></tr>\n",
       "<tr><td>ZnI</td><td>3345.02</td><td>800</td></tr>\n",
       "<tr><td>ZnI</td><td>3345.57</td><td>500</td></tr>\n",
       "<tr><td>ZnI</td><td>3345.94</td><td>150</td></tr>\n",
       "<tr><td>ZnI</td><td>3883.34</td><td>50</td></tr>\n",
       "<tr><td>ZnI</td><td>4680.14</td><td>300</td></tr>\n",
       "<tr><td>ZnI</td><td>4722.15</td><td>400</td></tr>\n",
       "<tr><td>ZnI</td><td>4810.53</td><td>400</td></tr>\n",
       "</table>"
      ],
      "text/plain": [
       "<Table masked=True length=14>\n",
       "Ion    wave  RelInt\n",
       "str5 float64 int64 \n",
       "---- ------- ------\n",
       " ZnI 3018.36    125\n",
       " ZnI 3035.78    200\n",
       " ZnI 3072.06    200\n",
       " ZnI  3075.9    150\n",
       " ZnI 3282.33    500\n",
       " ZnI 3302.58    800\n",
       " ZnI 3302.94    700\n",
       " ZnI 3345.02    800\n",
       " ZnI 3345.57    500\n",
       " ZnI 3345.94    150\n",
       " ZnI 3883.34     50\n",
       " ZnI 4680.14    300\n",
       " ZnI 4722.15    400\n",
       " ZnI 4810.53    400"
      ]
     },
     "execution_count": 129,
     "metadata": {},
     "output_type": "execute_result"
    }
   ],
   "source": [
    "alist[(alist['Ion']=='ZnI') & (alist['wave']<5100)]"
   ]
  },
  {
   "cell_type": "code",
   "execution_count": 108,
   "metadata": {
    "collapsed": false
   },
   "outputs": [
    {
     "data": {
      "text/html": [
       "&lt;Table masked=True length=15&gt;\n",
       "<table id=\"table4510148176\">\n",
       "<thead><tr><th>Ion</th><th>Wave</th><th>RelInt</th></tr></thead>\n",
       "<thead><tr><th>str5</th><th>float64</th><th>int64</th></tr></thead>\n",
       "<tr><td>HeI</td><td>3013.7</td><td>40</td></tr>\n",
       "<tr><td>HeI</td><td>3187.745</td><td>20</td></tr>\n",
       "<tr><td>HeI</td><td>3888.648</td><td>500</td></tr>\n",
       "<tr><td>HeI</td><td>3964.7291</td><td>20</td></tr>\n",
       "<tr><td>HeI</td><td>4026.1914</td><td>50</td></tr>\n",
       "<tr><td>HeI</td><td>4471.4802</td><td>200</td></tr>\n",
       "<tr><td>HeI</td><td>4713.1457</td><td>30</td></tr>\n",
       "<tr><td>HeI</td><td>4921.9313</td><td>20</td></tr>\n",
       "<tr><td>HeI</td><td>5015.6783</td><td>100</td></tr>\n",
       "<tr><td>HeI</td><td>5875.621</td><td>500</td></tr>\n",
       "<tr><td>HeI</td><td>6678.151</td><td>100</td></tr>\n",
       "<tr><td>HeI</td><td>7065.19</td><td>200</td></tr>\n",
       "<tr><td>HeI</td><td>7065.71</td><td>30</td></tr>\n",
       "<tr><td>HeI</td><td>7281.349</td><td>50</td></tr>\n",
       "<tr><td>HeI</td><td>11969.12</td><td>30</td></tr>\n",
       "</table>"
      ],
      "text/plain": [
       "<Table masked=True length=15>\n",
       "Ion     Wave   RelInt\n",
       "str5  float64  int64 \n",
       "---- --------- ------\n",
       " HeI    3013.7     40\n",
       " HeI  3187.745     20\n",
       " HeI  3888.648    500\n",
       " HeI 3964.7291     20\n",
       " HeI 4026.1914     50\n",
       " HeI 4471.4802    200\n",
       " HeI 4713.1457     30\n",
       " HeI 4921.9313     20\n",
       " HeI 5015.6783    100\n",
       " HeI  5875.621    500\n",
       " HeI  6678.151    100\n",
       " HeI   7065.19    200\n",
       " HeI   7065.71     30\n",
       " HeI  7281.349     50\n",
       " HeI  11969.12     30"
      ]
     },
     "execution_count": 108,
     "metadata": {},
     "output_type": "execute_result"
    }
   ],
   "source": [
    "alist[alist['Ion']=='HeI']"
   ]
  },
  {
   "cell_type": "code",
   "execution_count": 109,
   "metadata": {
    "collapsed": true
   },
   "outputs": [],
   "source": [
    "tmp = ['a','b','c']"
   ]
  },
  {
   "cell_type": "code",
   "execution_count": 110,
   "metadata": {
    "collapsed": false
   },
   "outputs": [
    {
     "data": {
      "text/plain": [
       "'ab'"
      ]
     },
     "execution_count": 110,
     "metadata": {},
     "output_type": "execute_result"
    }
   ],
   "source": [
    "tmp[0]+tmp[1]"
   ]
  },
  {
   "cell_type": "code",
   "execution_count": 111,
   "metadata": {
    "collapsed": false
   },
   "outputs": [
    {
     "data": {
      "text/plain": [
       "['b', 'c']"
      ]
     },
     "execution_count": 111,
     "metadata": {},
     "output_type": "execute_result"
    }
   ],
   "source": [
    "tmp[1:]"
   ]
  },
  {
   "cell_type": "code",
   "execution_count": null,
   "metadata": {
    "collapsed": true
   },
   "outputs": [],
   "source": []
  }
 ],
 "metadata": {
  "kernelspec": {
   "display_name": "Python 2",
   "language": "python",
   "name": "python2"
  },
  "language_info": {
   "codemirror_mode": {
    "name": "ipython",
    "version": 2
   },
   "file_extension": ".py",
   "mimetype": "text/x-python",
   "name": "python",
   "nbconvert_exporter": "python",
   "pygments_lexer": "ipython2",
   "version": "2.7.10"
  }
 },
 "nbformat": 4,
 "nbformat_minor": 0
}
