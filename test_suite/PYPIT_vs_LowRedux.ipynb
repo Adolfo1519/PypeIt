{
 "cells": [
  {
   "cell_type": "markdown",
   "metadata": {},
   "source": [
    "# Routines to compare PYPIT with LowRedux (v0.1)"
   ]
  },
  {
   "cell_type": "code",
   "execution_count": 14,
   "metadata": {
    "collapsed": false
   },
   "outputs": [],
   "source": [
    "%matplotlib inline"
   ]
  },
  {
   "cell_type": "code",
   "execution_count": 1,
   "metadata": {
    "collapsed": true
   },
   "outputs": [],
   "source": [
    "# imports\n",
    "from linetools.spectra import io as lsio\n",
    "from linetools.spectra.xspectrum1d import XSpectrum1D\n",
    "# \n",
    "import matplotlib as mpl\n",
    "mpl.rcParams['font.family'] = 'stixgeneral'\n",
    "mpl.rc('xtick', labelsize=20) \n",
    "mpl.rc('ytick', labelsize=20) \n",
    "from matplotlib.backends.backend_pdf import PdfPages\n",
    "from matplotlib import pyplot as plt\n",
    "import matplotlib.gridspec as gridspec"
   ]
  },
  {
   "cell_type": "markdown",
   "metadata": {},
   "source": [
    "## ToDo:\n",
    "\n",
    "* Deal with air vs. vacuum"
   ]
  },
  {
   "cell_type": "markdown",
   "metadata": {},
   "source": [
    "## Filenames"
   ]
  },
  {
   "cell_type": "markdown",
   "metadata": {},
   "source": [
    "### LowRedux"
   ]
  },
  {
   "cell_type": "code",
   "execution_count": 2,
   "metadata": {
    "collapsed": true
   },
   "outputs": [],
   "source": [
    "scifile = '/Users/xavier/PYPIT/Kast_red/Science/sci-r153.fits.gz'\n",
    "lwrdx_wavefile = '/Users/xavier/PYPIT/Kast_red/wave-r124.fits'"
   ]
  },
  {
   "cell_type": "markdown",
   "metadata": {},
   "source": [
    "### PYPIT"
   ]
  },
  {
   "cell_type": "code",
   "execution_count": 3,
   "metadata": {
    "collapsed": true
   },
   "outputs": [],
   "source": [
    "pypit_boxfile = '/Users/xavier/PYPIT/TEST_SUITES/Kast_red/MasterFrames/J0025-0312_000_boxcar.fits'\n",
    "pypit_skyfile = '/Users/xavier/PYPIT/TEST_SUITES/Kast_red/MasterFrames/J0025-0312_000_sky.fits'\n",
    "pypit_objtrcfile = '/Users/xavier/PYPIT/TEST_SUITES/Kast_red/MasterFrames/J0025-0312_000_objtrc.fits'\n",
    "pypit_wavefile= '/Users/xavier/PYPIT/TEST_SUITES/Kast_red/MasterFrames/mswvimg_red_000.fits'"
   ]
  },
  {
   "cell_type": "markdown",
   "metadata": {},
   "source": [
    "## Init"
   ]
  },
  {
   "cell_type": "code",
   "execution_count": 4,
   "metadata": {
    "collapsed": true
   },
   "outputs": [],
   "source": [
    "lrdx_scihdu = fits.open(scifile)\n",
    "sciobj = Table(lrdx_scihdu[5].data)[0] # Might have to deal with more than one obj"
   ]
  },
  {
   "cell_type": "markdown",
   "metadata": {},
   "source": [
    "---\n",
    "## Traces"
   ]
  },
  {
   "cell_type": "markdown",
   "metadata": {},
   "source": [
    "### Read"
   ]
  },
  {
   "cell_type": "code",
   "execution_count": 5,
   "metadata": {
    "collapsed": false
   },
   "outputs": [],
   "source": [
    "# Read PYPIT\n",
    "pypit_objtrc = fits.open(pypit_objtrcfile)[0].data\n",
    "if pypit_objtrc.shape[1] > 1:\n",
    "    raise ValueError('Not ready for multiple objects')\n",
    "# Read LowRedux\n",
    "lwrdx_objtrc = sciobj['XPOS']"
   ]
  },
  {
   "cell_type": "code",
   "execution_count": 6,
   "metadata": {
    "collapsed": false
   },
   "outputs": [
    {
     "name": "stdout",
     "output_type": "stream",
     "text": [
      "((1199, 1), (1200,))\n"
     ]
    }
   ],
   "source": [
    "print(pypit_objtrc.shape, lwrdx_objtrc.shape)"
   ]
  },
  {
   "cell_type": "markdown",
   "metadata": {},
   "source": [
    "### Plot"
   ]
  },
  {
   "cell_type": "code",
   "execution_count": 9,
   "metadata": {
    "collapsed": false
   },
   "outputs": [],
   "source": [
    "plt.clf()\n",
    "plt.figure(figsize=(12,7))\n",
    "ax = plt.gca()\n",
    "# PYPIT\n",
    "ax.plot(pypit_objtrc[:,0], 'k-', drawstyle='steps', label='PYPIT')\n",
    "# LowRedux\n",
    "ax.plot(lwrdx_objtrc, '-', color='blue', label='LowRedux')\n",
    "# Axes\n",
    "#ax.set_ylim(0.,np.median(pys2n)*2.)\n",
    "ax.set_xlabel('Row',fontsize=17.)\n",
    "ax.set_ylabel('Column',fontsize=17.)\n",
    "# Legend\n",
    "legend = plt.legend(loc='lower right', borderpad=0.3,\n",
    "            handletextpad=0.3, fontsize='x-large')\n",
    "# Finish\n",
    "plt.show()\n",
    "plt.close()\n",
    "#"
   ]
  },
  {
   "cell_type": "markdown",
   "metadata": {},
   "source": [
    "---\n",
    "## Sky Models"
   ]
  },
  {
   "cell_type": "markdown",
   "metadata": {},
   "source": [
    "### Load sky and wavelength images"
   ]
  },
  {
   "cell_type": "code",
   "execution_count": 7,
   "metadata": {
    "collapsed": true
   },
   "outputs": [],
   "source": [
    "# PYPIT\n",
    "pypit_wave = fits.open(pypit_wavefile)[0].data\n",
    "pypit_sky = fits.open(pypit_skyfile)[0].data\n",
    "pypit_objmsk = fits.open(pypit_objtrcfile)[1].data.astype(int)\n",
    "# LowRedux\n",
    "lwrdx_wave = fits.open(lwrdx_wavefile)[0].data\n",
    "lwrdx_sky = lrdx_scihdu[2].data"
   ]
  },
  {
   "cell_type": "markdown",
   "metadata": {},
   "source": [
    "### Sky Spectrum"
   ]
  },
  {
   "cell_type": "markdown",
   "metadata": {},
   "source": [
    "#### PYPIT"
   ]
  },
  {
   "cell_type": "code",
   "execution_count": 15,
   "metadata": {
    "collapsed": false
   },
   "outputs": [],
   "source": [
    "pypit_skyspec = lsio.readspec(pypit_boxfile)"
   ]
  },
  {
   "cell_type": "markdown",
   "metadata": {},
   "source": [
    "#### LowRedux"
   ]
  },
  {
   "cell_type": "code",
   "execution_count": 9,
   "metadata": {
    "collapsed": true
   },
   "outputs": [],
   "source": [
    "lwrdx_skywv = sciobj['WAVE_BOX']\n",
    "lwrdx_skyfx = sciobj['SKY_BOX']"
   ]
  },
  {
   "cell_type": "code",
   "execution_count": null,
   "metadata": {
    "collapsed": true
   },
   "outputs": [],
   "source": []
  },
  {
   "cell_type": "code",
   "execution_count": 13,
   "metadata": {
    "collapsed": false
   },
   "outputs": [],
   "source": [
    "plt.clf()\n",
    "plt.figure(figsize=(16,8))\n",
    "gs = gridspec.GridSpec(2, 1)\n",
    "# Full\n",
    "ax = plt.subplot(gs[0])\n",
    "# PYPIT\n",
    "ax.scatter(pypit_skywv,pypit_skyfx, marker='+', facecolor='black', label='PYPIT', s=3.)\n",
    "# LowRedux\n",
    "ax.plot(lwrdx_skywv, lwrdx_skyfx/(2.*sciobj['BOX_RAD']), '-', color='blue', label='LowRedux')\n",
    "# Axes\n",
    "ax.set_xlim(np.min(pypit_skywv),np.max(pypit_skywv))\n",
    "ax.set_ylim(0.,np.max(pypit_skyfx))\n",
    "ax.set_xlabel('Wavelength',fontsize=17.)\n",
    "ax.set_ylabel('Sky Flux (Counts)',fontsize=17.)\n",
    "# Legend\n",
    "legend = plt.legend(loc='upper left', borderpad=0.3,\n",
    "            handletextpad=0.3, fontsize='x-large')\n",
    "\n",
    "# ZOOM\n",
    "axz = plt.subplot(gs[1])\n",
    "# PYPIT\n",
    "axz.scatter(pypit_skywv,pypit_skyfx, marker='o', facecolor='black', label='PYPIT',s=7.)\n",
    "# LowRedux\n",
    "axz.plot(lwrdx_skywv, lwrdx_skyfx/(2.*sciobj['BOX_RAD']), '-', color='blue', label='LowRedux')\n",
    "# Axes\n",
    "zlim = [7200., 7700.]\n",
    "axz.set_xlim(zlim)\n",
    "ymx = np.max( pypit_skyfx[np.where((pypit_skywv>zlim[0])&(pypit_skywv<zlim[1]))])\n",
    "axz.set_ylim(0.,ymx)\n",
    "axz.set_xlabel('Wavelength',fontsize=17.)\n",
    "axz.set_ylabel('Sky Flux (Counts)',fontsize=17.)\n",
    "# Legend\n",
    "legend = plt.legend(loc='upper left', borderpad=0.3,\n",
    "            handletextpad=0.3, fontsize='x-large')\n",
    "\n",
    "# Finish\n",
    "plt.show()\n",
    "plt.close()\n",
    "#"
   ]
  },
  {
   "cell_type": "markdown",
   "metadata": {},
   "source": [
    "### $\\chi^2$ images"
   ]
  },
  {
   "cell_type": "code",
   "execution_count": 14,
   "metadata": {
    "collapsed": true
   },
   "outputs": [],
   "source": [
    "# Median size of box car\n",
    "dx = np.median(np.sum(pypit_objmsk[:,:,0],axis=1))\n",
    "#\n",
    "pypit_skymask = np.zeros_like(pypit_sky)\n",
    "# Generate sky regions near the object trace\n",
    "for ii in xrange(pypit_sky.shape[0]):\n",
    "    # Left\n",
    "    idx = np.arange(int(pypit_objtrc[ii,0]-dx*2), int(pypit_objtrc[ii,0]-dx))\n",
    "    pypit_skymask[ii,idx] = 1\n",
    "    # Right\n",
    "    idx = np.arange(int(pypit_objtrc[ii,0]+dx), int(pypit_objtrc[ii,0]+dx*2))\n",
    "    pypit_skymask[ii,idx] = 1\n",
    "# \n",
    "skypix = np.where(pypit_skymask==1)\n",
    "# Wave\n",
    "pypit_skywv = pypit_wave[skypix]\n",
    "pypit_skyfx = pypit_sky[skypix]"
   ]
  },
  {
   "cell_type": "markdown",
   "metadata": {},
   "source": [
    "### $\\chi^2$ histogram"
   ]
  },
  {
   "cell_type": "markdown",
   "metadata": {},
   "source": [
    "---\n",
    "## Compare Boxcar Spectra"
   ]
  },
  {
   "cell_type": "code",
   "execution_count": 8,
   "metadata": {
    "collapsed": false
   },
   "outputs": [],
   "source": [
    "# Read/Load\n",
    "pypit_boxspec = lsio.readspec(pypit_boxfile)\n",
    "# Read LowRedux\n",
    "sig = np.sqrt(sciobj['MASK_BOX']/(sciobj['SIVAR_BOX'] + (sciobj['MASK_BOX']==0)))\n",
    "lwrdx_boxspec = XSpectrum1D.from_tuple( (sciobj['WAVE_BOX'], sciobj['FLUX_BOX'], sig) )"
   ]
  },
  {
   "cell_type": "markdown",
   "metadata": {},
   "source": [
    "### Quick plot of the spectra"
   ]
  },
  {
   "cell_type": "code",
   "execution_count": 9,
   "metadata": {
    "collapsed": false
   },
   "outputs": [],
   "source": [
    "plt.clf()\n",
    "plt.figure(figsize=(12,7))\n",
    "ax = plt.gca()\n",
    "ymax = np.median(pypit_boxspec.flux)*2.\n",
    "# PYPIT\n",
    "ax.plot(pypit_boxspec.dispersion, pypit_boxspec.flux, 'k-', drawstyle='steps')\n",
    "ax.plot(pypit_boxspec.dispersion, pypit_boxspec.sig, 'g-', drawstyle='steps')\n",
    "# LowRedux\n",
    "ax.plot(lwrdx_boxspec.dispersion, lwrdx_boxspec.flux, '-', color='blue')\n",
    "ax.plot(lwrdx_boxspec.dispersion, lwrdx_boxspec.sig, '-', color='gray')\n",
    "# Axes\n",
    "ax.set_ylim(0.,ymax)\n",
    "ax.set_xlabel('Wavelength',fontsize=17.)\n",
    "# Finish\n",
    "plt.show()\n",
    "plt.close()\n",
    "#"
   ]
  },
  {
   "cell_type": "markdown",
   "metadata": {},
   "source": [
    "### S/N"
   ]
  },
  {
   "cell_type": "code",
   "execution_count": null,
   "metadata": {
    "collapsed": false
   },
   "outputs": [],
   "source": [
    "plt.clf()\n",
    "plt.figure(figsize=(12,7))\n",
    "ax = plt.gca()\n",
    "ymax = np.median(pypit_boxspec.flux)*2.\n",
    "# PYPIT\n",
    "gdpy = pypit_boxspec.sig > 0.\n",
    "pys2n =  pypit_boxspec.flux[gdpy]/pypit_boxspec.sig[gdpy]\n",
    "ax.plot(pypit_boxspec.dispersion[gdpy],pys2n, 'k-', drawstyle='steps')\n",
    "# LowRedux\n",
    "gdlx = lwrdx_boxspec.sig > 0.\n",
    "ax.plot(lwrdx_boxspec.dispersion[gdlx], lwrdx_boxspec.flux[gdlx]/lwrdx_boxspec.sig[gdlx], '-', color='blue')\n",
    "# Axes\n",
    "ax.set_ylim(0.,np.median(pys2n)*2.)\n",
    "ax.set_xlabel('Wavelength',fontsize=17.)\n",
    "ax.set_ylabel('S/N per pixel',fontsize=17.)\n",
    "# Finish\n",
    "plt.show()\n",
    "plt.close()\n",
    "#"
   ]
  },
  {
   "cell_type": "code",
   "execution_count": 10,
   "metadata": {
    "collapsed": false
   },
   "outputs": [
    {
     "data": {
      "text/html": [
       "&lt;Row index=0&gt;\n",
       "<table id=\"table4494579792\">\n",
       "<thead><tr><th>OBJID</th><th>SLITID</th><th>XFRACPOS</th><th>PEAKFLUX</th><th>MASKWIDTH</th><th>FWHM</th><th>FLX_SHFT_WAV</th><th>FLX_SHFT_SPA</th><th>FWHMFIT [1200]</th><th>XPOS [1200]</th><th>YPOS [1200]</th><th>HAND_AP</th><th>HAND_X</th><th>HAND_Y</th><th>HAND_MINX</th><th>HAND_MAXX</th><th>HAND_FWHM</th><th>HAND_SUB</th><th>WAVE_OPT [1200]</th><th>FLUX_OPT [1200]</th><th>SIVAR_OPT [1200]</th><th>IVAR_OPT [1200]</th><th>SKY_OPT [1200]</th><th>RN_OPT [1200]</th><th>NIVAR_OPT [1200]</th><th>MASK_OPT [1200]</th><th>FRAC_USE [1200]</th><th>CHI2 [1200]</th><th>WAVE_BOX [1200]</th><th>FLUX_BOX [1200]</th><th>SIVAR_BOX [1200]</th><th>IVAR_BOX [1200]</th><th>NIVAR_BOX [1200]</th><th>SKY_BOX [1200]</th><th>RN_BOX [1200]</th><th>MASK_BOX [1200]</th><th>MINCOL</th><th>MAXCOL</th><th>BOX_RAD</th><th>ARC_FWHM_FIT [1200]</th><th>ARC_FWHM_MED</th><th>PIX_RES</th><th>BINNING [2]</th></tr></thead>\n",
       "<thead><tr><th>int32</th><th>int32</th><th>float32</th><th>float32</th><th>float32</th><th>float32</th><th>float32</th><th>float32</th><th>float32</th><th>float32</th><th>float32</th><th>int32</th><th>float32</th><th>float32</th><th>float32</th><th>float32</th><th>float32</th><th>int32</th><th>float64</th><th>float32</th><th>float32</th><th>float32</th><th>float32</th><th>float32</th><th>float32</th><th>uint8</th><th>float32</th><th>float32</th><th>float64</th><th>float32</th><th>float32</th><th>float32</th><th>float32</th><th>float32</th><th>float32</th><th>uint8</th><th>int32</th><th>int32</th><th>int16</th><th>float32</th><th>float64</th><th>float64</th><th>int32</th></tr></thead>\n",
       "<tr><td>1</td><td>1</td><td>0.470201</td><td>112.505</td><td>15.48</td><td>3.48127</td><td>0.12</td><td>0.0</td><td>3.59091 .. 3.65211</td><td>129.38 .. 133.111</td><td>0.0 .. 1199.0</td><td>0</td><td>0.0</td><td>0.0</td><td>0.0</td><td>0.0</td><td>0.0</td><td>0</td><td>5370.24173801 .. 8175.58889084</td><td>0.0 .. 359.202</td><td>0.0 .. 0.000510373</td><td>0.0 .. 0.000510373</td><td>0.0 .. 671.115</td><td>0.0 .. 14.6393</td><td>0.0 .. 0.000508439</td><td>0 .. 1</td><td>0.0 .. 0.999995</td><td>0.0 .. 3.85025</td><td>5370.24145247 .. 8175.58845694</td><td>-0.0 .. 406.755</td><td>0.0 .. 0.000240908</td><td>0.0 .. 0.000240908</td><td>0.0 .. 0.000240908</td><td>2252.3 .. 1577.65</td><td>22.4499 .. 22.4499</td><td>0 .. 1</td><td>103</td><td>159</td><td>7</td><td>1.41926 .. 1.26241</td><td>1.52592325211</td><td>nan</td><td>0 .. 0</td></tr>\n",
       "</table>"
      ],
      "text/plain": [
       "<Row index=0>\n",
       "OBJID SLITID XFRACPOS PEAKFLUX MASKWIDTH   FWHM  FLX_SHFT_WAV FLX_SHFT_SPA   FWHMFIT [1200]      XPOS [1200]     YPOS [1200]  HAND_AP  HAND_X  HAND_Y HAND_MINX HAND_MAXX HAND_FWHM HAND_SUB        WAVE_OPT [1200]         FLUX_OPT [1200]  SIVAR_OPT [1200]   IVAR_OPT [1200]   SKY_OPT [1200] RN_OPT [1200]   NIVAR_OPT [1200]  MASK_OPT [1200] FRAC_USE [1200]  CHI2 [1200]          WAVE_BOX [1200]         FLUX_BOX [1200]  SIVAR_BOX [1200]   IVAR_BOX [1200]    NIVAR_BOX [1200]    SKY_BOX [1200]    RN_BOX [1200]    MASK_BOX [1200] MINCOL MAXCOL BOX_RAD ARC_FWHM_FIT [1200]  ARC_FWHM_MED PIX_RES BINNING [2]\n",
       "int32 int32  float32  float32   float32  float32   float32      float32         float32            float32         float32     int32  float32 float32  float32   float32   float32   int32              float64                 float32          float32            float32          float32        float32          float32            uint8          float32        float32                float64                 float32          float32            float32            float32            float32           float32            uint8      int32  int32   int16        float32          float64    float64    int32   \n",
       "----- ------ -------- -------- --------- ------- ------------ ------------ ------------------ ----------------- ------------- ------- ------- ------- --------- --------- --------- -------- ------------------------------ --------------- ------------------ ------------------ -------------- -------------- ------------------ --------------- --------------- -------------- ------------------------------ --------------- ------------------ ------------------ ------------------ ----------------- ------------------ --------------- ------ ------ ------- ------------------- ------------- ------- -----------\n",
       "    1      1 0.470201  112.505     15.48 3.48127         0.12          0.0 3.59091 .. 3.65211 129.38 .. 133.111 0.0 .. 1199.0       0     0.0     0.0       0.0       0.0       0.0        0 5370.24173801 .. 8175.58889084  0.0 .. 359.202 0.0 .. 0.000510373 0.0 .. 0.000510373 0.0 .. 671.115 0.0 .. 14.6393 0.0 .. 0.000508439          0 .. 1 0.0 .. 0.999995 0.0 .. 3.85025 5370.24145247 .. 8175.58845694 -0.0 .. 406.755 0.0 .. 0.000240908 0.0 .. 0.000240908 0.0 .. 0.000240908 2252.3 .. 1577.65 22.4499 .. 22.4499          0 .. 1    103    159       7  1.41926 .. 1.26241 1.52592325211     nan      0 .. 0"
      ]
     },
     "execution_count": 10,
     "metadata": {},
     "output_type": "execute_result"
    }
   ],
   "source": [
    "sciobj"
   ]
  },
  {
   "cell_type": "code",
   "execution_count": null,
   "metadata": {
    "collapsed": false
   },
   "outputs": [],
   "source": [
    "lwrdx_boxspec.sig"
   ]
  },
  {
   "cell_type": "code",
   "execution_count": null,
   "metadata": {
    "collapsed": false
   },
   "outputs": [],
   "source": [
    "xdb.xpcol(lwrdx_boxspec.sig, pypit_boxspec.sig)"
   ]
  },
  {
   "cell_type": "code",
   "execution_count": null,
   "metadata": {
    "collapsed": true
   },
   "outputs": [],
   "source": []
  }
 ],
 "metadata": {
  "kernelspec": {
   "display_name": "Python 2",
   "language": "python",
   "name": "python2"
  },
  "language_info": {
   "codemirror_mode": {
    "name": "ipython",
    "version": 2
   },
   "file_extension": ".py",
   "mimetype": "text/x-python",
   "name": "python",
   "nbconvert_exporter": "python",
   "pygments_lexer": "ipython2",
   "version": "2.7.10"
  }
 },
 "nbformat": 4,
 "nbformat_minor": 0
}
