{
 "cells": [
  {
   "cell_type": "code",
   "execution_count": 1,
   "metadata": {},
   "outputs": [],
   "source": [
    "# Import the parameter set that defines how pypit should be executed.\n",
    "# This is actually defined in pypit/par/derived.py, but I exposed\n",
    "# RunPar in the pypit/par/__init__.py file.\n",
    "from pypit.par import RunPar"
   ]
  },
  {
   "cell_type": "code",
   "execution_count": 2,
   "metadata": {},
   "outputs": [],
   "source": [
    "# This just sets the default run parameters\n",
    "default_par = RunPar()"
   ]
  },
  {
   "cell_type": "code",
   "execution_count": 3,
   "metadata": {},
   "outputs": [
    {
     "data": {
      "text/plain": [
       "run\n",
       "   Parameter            Value          Default          Type  Callable\n",
       "----------------------------------------------------------------------\n",
       "spectrograph  shane_kast_blue  shane_kast_blue           str     False\n",
       "    pypitdir             None             None           str     False\n",
       "       setup            False            False          bool     False\n",
       "       ncpus                1                1           int     False\n",
       "    calcheck            False            False          bool     False\n",
       "    preponly            False            False          bool     False\n",
       "     redname             None             None           str     False\n",
       "   useIDname            False            False          bool     False\n",
       "        load        see below        see below  ParSet, dict     False\n",
       "   directory        see below        see below  ParSet, dict     False\n",
       "\n",
       "run:load\n",
       "Parameter  Value  Default          Type  Callable\n",
       "-------------------------------------------------\n",
       " settings   None     None  ParSet, dict     False\n",
       "    spect   None     None  ParSet, dict     False\n",
       "\n",
       "run:directory\n",
       "Parameter    Value  Default  Type  Callable\n",
       "-------------------------------------------\n",
       "   master   master   master   str     False\n",
       "  science  science  science   str     False\n",
       "       qa       qa       qa   str     False"
      ]
     },
     "execution_count": 3,
     "metadata": {},
     "output_type": "execute_result"
    }
   ],
   "source": [
    "# I spruced up the printing of the ParSet class so that it provides\n",
    "# a nice table format.  Any elements of the ParSet that are also\n",
    "# ParSets (subsections of the main config section) are recursively\n",
    "# broken out into separate tables\n",
    "default_par"
   ]
  },
  {
   "cell_type": "code",
   "execution_count": 4,
   "metadata": {},
   "outputs": [
    {
     "name": "stdout",
     "output_type": "stream",
     "text": [
      "spectrograph\n",
      "        Value: shane_kast_blue\n",
      "      Default: shane_kast_blue\n",
      "      Options: apf_levy, keck_deimos, keck_hires, keck_lris_blue, keck_lris_red, shane_kast_blue, shane_kast_red, tng_dolores, wht_isis_blue\n",
      "  Valid Types: str\n",
      "     Callable: False\n",
      "  Description: Spectrograph used to obtain the data to be reduced.  Options are: apf_levy, keck_deimos, keck_hires, keck_lris_blue, keck_lris_red, shane_kast_blue, shane_kast_red, tng_dolores, wht_isis_blue\n",
      " \n",
      "pypitdir\n",
      "        Value: None\n",
      "      Default: None\n",
      "      Options: None\n",
      "  Valid Types: str\n",
      "     Callable: False\n",
      "  Description: Directory with pypit python code.  Should not be set by the user.\n",
      " \n",
      "setup\n",
      "        Value: False\n",
      "      Default: False\n",
      "      Options: None\n",
      "  Valid Types: bool\n",
      "     Callable: False\n",
      "  Description: If True, run in setup mode.  Useful to parse files when starting reduction on a large set of data\n",
      " \n",
      "ncpus\n",
      "        Value: 1\n",
      "      Default: 1\n",
      "      Options: None\n",
      "  Valid Types: int\n",
      "     Callable: False\n",
      "  Description: Number of CPUs to use (-1 means all bar one CPU, -2 means all bar two CPUs)\n",
      " \n",
      "calcheck\n",
      "        Value: False\n",
      "      Default: False\n",
      "      Options: None\n",
      "  Valid Types: bool\n",
      "     Callable: False\n",
      "  Description: Flag to skip the data reduction and just checks to make sure all calibration data are present\n",
      " \n",
      "preponly\n",
      "        Value: False\n",
      "      Default: False\n",
      "      Options: None\n",
      "  Valid Types: bool\n",
      "     Callable: False\n",
      "  Description: If True, pypit will prepare the calibration frames; if false, will only reduce the science frames\n",
      " \n",
      "redname\n",
      "        Value: None\n",
      "      Default: None\n",
      "      Options: None\n",
      "  Valid Types: str\n",
      "     Callable: False\n",
      "  Description: Name of the reduction configuration file provided by the user.  Set by the code internally, not by the user.\n",
      " \n",
      "useIDname\n",
      "        Value: False\n",
      "      Default: False\n",
      "      Options: None\n",
      "  Valid Types: bool\n",
      "     Callable: False\n",
      "  Description: If True, file sorting will ensure that the idname is made\n",
      " \n",
      "load:settings\n",
      "        Value: None\n",
      "      Default: None\n",
      "      Options: None\n",
      "  Valid Types: ParSet, dict\n",
      "     Callable: False\n",
      "  Description: Load a reduction settings file (Note: this command overwrites all default settings\n",
      " \n",
      "load:spect\n",
      "        Value: None\n",
      "      Default: None\n",
      "      Options: None\n",
      "  Valid Types: ParSet, dict\n",
      "     Callable: False\n",
      "  Description: Load a spectrograph settings file (Note: this command overwrites all default settings\n",
      " \n",
      "directory:master\n",
      "        Value: master\n",
      "      Default: master\n",
      "      Options: None\n",
      "  Valid Types: str\n",
      "     Callable: False\n",
      "  Description: Directory relative to calling directory to write master files.\n",
      " \n",
      "directory:science\n",
      "        Value: science\n",
      "      Default: science\n",
      "      Options: None\n",
      "  Valid Types: str\n",
      "     Callable: False\n",
      "  Description: Directory relative to calling directory to write science files.\n",
      " \n",
      "directory:qa\n",
      "        Value: qa\n",
      "      Default: qa\n",
      "      Options: None\n",
      "  Valid Types: str\n",
      "     Callable: False\n",
      "  Description: Directory relative to calling directory to write qa files.\n",
      " \n"
     ]
    }
   ],
   "source": [
    "# I also added a info function that has a more exaustive format and\n",
    "# also includes the options and description for each parameter\n",
    "default_par.info()"
   ]
  },
  {
   "cell_type": "code",
   "execution_count": 5,
   "metadata": {},
   "outputs": [],
   "source": [
    "# I also added a to_config function that will write the parameter set\n",
    "# to a file that has the appropriate ConfigObj format.  This means that\n",
    "# that we don't need to distribute default configuration files in the\n",
    "# repo, we can just add code to the setup.py file that constructs them\n",
    "# based on the default of each parameter set\n",
    "default_par.to_config('default.cfg')"
   ]
  },
  {
   "cell_type": "code",
   "execution_count": 6,
   "metadata": {},
   "outputs": [],
   "source": [
    "# You can define the elements of RunPar directly (see its __init__\n",
    "# function) or you can define it using a config file or a dictionary.\n",
    "# This defines the parameters based on the default configuration\n",
    "# that is then merged in sequence with a set of other configuration\n",
    "# files (in this case just the single user-level configuration).\n",
    "user_par = RunPar.from_cfg_file('default.cfg', merge_with='user.cfg')"
   ]
  },
  {
   "cell_type": "code",
   "execution_count": 7,
   "metadata": {},
   "outputs": [],
   "source": [
    "# Then you can write out the merged configuration\n",
    "user_par.to_config('merged.cfg')"
   ]
  },
  {
   "cell_type": "code",
   "execution_count": 8,
   "metadata": {},
   "outputs": [
    {
     "data": {
      "text/plain": [
       "run\n",
       "   Parameter       Value          Default          Type  Callable\n",
       "-----------------------------------------------------------------\n",
       "spectrograph  keck_hires  shane_kast_blue           str     False\n",
       "    pypitdir        None             None           str     False\n",
       "       setup       False            False          bool     False\n",
       "       ncpus           2                1           int     False\n",
       "    calcheck       False            False          bool     False\n",
       "    preponly       False            False          bool     False\n",
       "     redname        None             None           str     False\n",
       "   useIDname       False            False          bool     False\n",
       "        load   see below        see below  ParSet, dict     False\n",
       "   directory   see below        see below  ParSet, dict     False\n",
       "\n",
       "run:load\n",
       "Parameter  Value  Default          Type  Callable\n",
       "-------------------------------------------------\n",
       " settings   None     None  ParSet, dict     False\n",
       "    spect   None     None  ParSet, dict     False\n",
       "\n",
       "run:directory\n",
       "Parameter                  Value  Default  Type  Callable\n",
       "---------------------------------------------------------\n",
       "   master      master_keck_hires   master   str     False\n",
       "  science                science  science   str     False\n",
       "       qa  qa_keck_hires_night_1       qa   str     False"
      ]
     },
     "execution_count": 8,
     "metadata": {},
     "output_type": "execute_result"
    }
   ],
   "source": [
    "# Print it\n",
    "user_par"
   ]
  },
  {
   "cell_type": "code",
   "execution_count": 9,
   "metadata": {},
   "outputs": [
    {
     "name": "stdout",
     "output_type": "stream",
     "text": [
      "Input value for spectrograph invalid: new_spectrograph.\n",
      "Options are: ['apf_levy', 'keck_deimos', 'keck_hires', 'keck_lris_blue', 'keck_lris_red', 'shane_kast_blue', 'shane_kast_red', 'tng_dolores', 'wht_isis_blue']\n"
     ]
    }
   ],
   "source": [
    "# Or change it in the code itself, with checks that you're still adhering\n",
    "# to the allowed options and required data type of each parameter, if they\n",
    "# were specified\n",
    "try:\n",
    "    user_par['spectrograph'] = 'new_spectrograph'\n",
    "except ValueError as e:\n",
    "    print(e)"
   ]
  },
  {
   "cell_type": "code",
   "execution_count": null,
   "metadata": {},
   "outputs": [],
   "source": []
  }
 ],
 "metadata": {
  "kernelspec": {
   "display_name": "Python 3",
   "language": "python",
   "name": "python3"
  },
  "language_info": {
   "codemirror_mode": {
    "name": "ipython",
    "version": 3
   },
   "file_extension": ".py",
   "mimetype": "text/x-python",
   "name": "python",
   "nbconvert_exporter": "python",
   "pygments_lexer": "ipython3",
   "version": "3.6.2"
  }
 },
 "nbformat": 4,
 "nbformat_minor": 2
}
